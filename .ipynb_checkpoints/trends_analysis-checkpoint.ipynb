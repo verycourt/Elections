{
 "cells": [
  {
   "cell_type": "code",
   "execution_count": 1,
   "metadata": {
    "collapsed": false
   },
   "outputs": [],
   "source": [
    "# import requests\n",
    "# import re  # Module Regex\n",
    "# from bs4 import BeautifulSoup\n",
    "# import pandas as pd\n",
    "# import matplotlib.pyplot as plt\n",
    "# import numpy as np\n",
    "# from time import time\n",
    "# import matplotlib\n",
    "# matplotlib.style.use('ggplot')"
   ]
  },
  {
   "cell_type": "markdown",
   "metadata": {},
   "source": [
    "Documentation de l'API :\n",
    "\n",
    "https://github.com/GeneralMills/pytrends"
   ]
  },
  {
   "cell_type": "markdown",
   "metadata": {},
   "source": [
    "## Les tendances sur les recherches"
   ]
  },
  {
   "cell_type": "markdown",
   "metadata": {},
   "source": [
    "#### Codes associés aux termes de recherche :\n",
    "- Manuel Valls : '/m/047drb0' (Ancien Premier ministre français)\n",
    "- François Fillon : '/m/0fqmlm' (Ancien Ministre de l’Écologie, du Développement durable et de l’Énergie)\n",
    "- Vincent Peillon : '/m/0551vp' (Homme politique)\n",
    "- François Bayrou : '/m/02y2cb' (Homme politique)\n",
    "- François Hollande : '/m/02qg4z' (Président de la République française)\n",
    "\n",
    ".... a completer avec tous les candidats, et aussi faire une liste de partis politiques"
   ]
  },
  {
   "cell_type": "code",
   "execution_count": 5,
   "metadata": {
    "collapsed": false
   },
   "outputs": [
    {
     "data": {
      "text/plain": [
       "{'default': {'topics': [{'mid': '/m/02y2cb',\n",
       "    'title': 'François Bayrou',\n",
       "    'type': 'Homme politique'},\n",
       "   {'mid': '/m/02qg4z',\n",
       "    'title': 'François Hollande',\n",
       "    'type': 'Président de la République française'},\n",
       "   {'mid': '/m/0fqmlm',\n",
       "    'title': 'François Fillon',\n",
       "    'type': 'Ancien Ministre de l’Écologie, du Développement durable et de l’Énergie'},\n",
       "   {'mid': '/m/027971v',\n",
       "    'title': 'François Léotard',\n",
       "    'type': 'Homme politique'},\n",
       "   {'mid': '/m/03qlwtl', 'title': 'Bordères', 'type': 'Sujet'}]}}"
      ]
     },
     "execution_count": 5,
     "metadata": {},
     "output_type": "execute_result"
    }
   ],
   "source": [
    "from trendsAPI import TrendReq # API non officielle\n",
    "TrendReq('mdp', 'user', custom_useragent=None).suggestions(\"Francois Bayrou\")"
   ]
  },
  {
   "cell_type": "markdown",
   "metadata": {},
   "source": [
    "#### Fonction qui sauvegarde les requetes via l'API en JSON"
   ]
  },
  {
   "cell_type": "code",
   "execution_count": 23,
   "metadata": {
    "collapsed": false
   },
   "outputs": [],
   "source": [
    "def trends_to_json(query='candidats', periode='7d', geo='FR'):\n",
    "\n",
    "    from trendsAPI import TrendReq # API non officielle\n",
    "    import json\n",
    "    \n",
    "    status = ''\n",
    "    # Formats possibles pour la date : now 1-H, now 4-H, now 1-d, now 7-d, today 1-m, today 3-m, today 12-m, \n",
    "    # all (depuis 2004), {vide} 5 dernieres annees\n",
    "    periodes = {'1h': 'now 1-H', '4h': 'now 4-H', '1d': 'now 1-d', '7d': 'now 7-d',\n",
    "                '1m': 'today 1-m','3m': 'today 3-m', '12m': 'today 12-m', 'all': 'all'}\n",
    "\n",
    "    # Les termes de recherche (5 au maximum separes par des virgules)\n",
    "    # On associe a un type de recherche la liste des parametres correspondants\n",
    "    queries = {'candidats': '/m/047drb0, /m/0fqmlm', 'partis': 'a completer'} \n",
    "    # se referer a la table de correspondance ci-dessus\n",
    "    \n",
    "    if (query not in queries) or (periode not in periodes):\n",
    "        return 'Erreur de parametre'\n",
    "    \n",
    "    try:\n",
    "        # Connection to Google (use a valid Google account name for increased query limits)\n",
    "        pytrend = TrendReq('user', 'mdp', custom_useragent=None)\n",
    "\n",
    "        # Possibilite de periode personnalise : specifier deux dates (ex : 2015-01-01 2015-12-31)\n",
    "\n",
    "        # geographie : FR (toute France), FR-A ou B ou C... (region de France par ordre alphabetique)\n",
    "        # categorie politique : cat = 396\n",
    "\n",
    "\n",
    "        payload = {'q': queries[query], 'geo': geo, 'date': periodes[periode]}\n",
    "\n",
    "        # On fait tourner l'API qui renvoie un dictionnaire format JSON\n",
    "        data = pytrend.trend(payload, return_type='json')\n",
    "        # print(data)\n",
    "        \n",
    "        # Sauvegarde en JSON\n",
    "        out_file = open(query + '_' + periode + '.json', 'w')\n",
    "        json.dump(data, out_file, indent=4)\n",
    "        out_file.close()\n",
    "        \n",
    "        status = 'sauvegarde dans : ' + query + '_' + periode + '.json'\n",
    "    \n",
    "    except:\n",
    "        status = 'Erreur'\n",
    "        \n",
    "    return status"
   ]
  },
  {
   "cell_type": "markdown",
   "metadata": {},
   "source": [
    "#### On lance la fonction"
   ]
  },
  {
   "cell_type": "code",
   "execution_count": 24,
   "metadata": {
    "collapsed": false
   },
   "outputs": [
    {
     "data": {
      "text/plain": [
       "'sauvegarde dans : candidats_1h.json'"
      ]
     },
     "execution_count": 24,
     "metadata": {},
     "output_type": "execute_result"
    }
   ],
   "source": [
    "trends_to_json(query='candidats', periode='1h')"
   ]
  },
  {
   "cell_type": "markdown",
   "metadata": {},
   "source": [
    "## Liste de sujets liés aux élections"
   ]
  },
  {
   "cell_type": "code",
   "execution_count": null,
   "metadata": {
    "collapsed": false
   },
   "outputs": [],
   "source": [
    "# toprelated\n",
    "trend_payload = {'q': 'elections', 'geo': 'FR', 'date': 'now 24-H'}\n",
    "toprelated = pytrend.related(trend_payload, related_type='top')\n",
    "print(toprelated)\n",
    "\n",
    "# comment lire cela? et l'afficher proprement dans une liste?"
   ]
  },
  {
   "cell_type": "markdown",
   "metadata": {},
   "source": [
    "### Autres analyses"
   ]
  },
  {
   "cell_type": "code",
   "execution_count": 5,
   "metadata": {
    "collapsed": true
   },
   "outputs": [],
   "source": [
    "from pytrends.request import TrendReq\n",
    "\n",
    "google_username = \"davy.bensoussan@gmail.com\"\n",
    "google_password = \"manger55\"\n",
    "path = \"\"\n",
    "\n",
    "# connect to Google\n",
    "pytrend = TrendReq(google_username, google_password, custom_useragent='My Pytrends Script')\n",
    "\n",
    "trend_payload = {'q': 'Pizza, Italian, Spaghetti, Breadsticks, Sausage', 'cat': '0-71',\n",
    "                'date': 'today 1-m'}"
   ]
  },
  {
   "cell_type": "code",
   "execution_count": 6,
   "metadata": {
    "collapsed": false
   },
   "outputs": [
    {
     "name": "stdout",
     "output_type": "stream",
     "text": [
      "            breadsticks  italian pizza  sausage  spaghetti\n",
      "Date                                                      \n",
      "2016-11-21          0.0      6.0    50      8.0        5.0\n",
      "2016-11-22          0.0      7.0    50      7.0        5.0\n",
      "2016-11-23          0.0      6.0    58      9.0        5.0\n",
      "2016-11-24          0.0      6.0    51     10.0        5.0\n",
      "2016-11-25          0.0      5.0    65      5.0        4.0\n",
      "2016-11-26          0.0      7.0    87      6.0        5.0\n",
      "2016-11-27          0.0      7.0    84      7.0        6.0\n",
      "2016-11-28          0.0      6.0    48      5.0        5.0\n",
      "2016-11-29          0.0      6.0    48      6.0        5.0\n",
      "2016-11-30          0.0      6.0    52      6.0        5.0\n",
      "2016-12-01          0.0      6.0    57      6.0        5.0\n",
      "2016-12-02          0.0      7.0    75      6.0        4.0\n",
      "2016-12-03          0.0      8.0   100      7.0        5.0\n",
      "2016-12-04          0.0      8.0    89      7.0        6.0\n",
      "2016-12-05          0.0      7.0    53      5.0        5.0\n",
      "2016-12-06          0.0      7.0    52      5.0        5.0\n",
      "2016-12-07          0.0      6.0    54      5.0        5.0\n",
      "2016-12-08          0.0      7.0    56      5.0        5.0\n",
      "2016-12-09          0.0      7.0    70      4.0        4.0\n",
      "2016-12-10          0.0      8.0    91      7.0        5.0\n",
      "2016-12-11          0.0      8.0    87      8.0        6.0\n",
      "2016-12-12          0.0      7.0    52      5.0        5.0\n",
      "2016-12-13          0.0      7.0    51      5.0        5.0\n",
      "2016-12-14          0.0      6.0    52      6.0        5.0\n",
      "2016-12-15          0.0      7.0    57      6.0        5.0\n",
      "2016-12-16          0.0      8.0    74      5.0        5.0\n",
      "2016-12-17          0.0     10.0    97      8.0        5.0\n",
      "2016-12-18          0.0      9.0    87      8.0        5.0\n",
      "2016-12-19          NaN      NaN  None      NaN        NaN\n",
      "2016-12-20          NaN      NaN  None      NaN        NaN\n"
     ]
    }
   ],
   "source": [
    "# trend\n",
    "df = pytrend.trend(trend_payload, return_type='dataframe')\n",
    "print(df)"
   ]
  },
  {
   "cell_type": "code",
   "execution_count": 10,
   "metadata": {
    "collapsed": false
   },
   "outputs": [
    {
     "name": "stdout",
     "output_type": "stream",
     "text": [
      "{'version': '0.6', 'sig': '2117582729', 'status': 'ok', 'table': {'cols': [{'id': 'query', 'label': 'Query', 'pattern': '', 'type': 'string'}, {'id': 'amount', 'label': 'Amount', 'pattern': '', 'type': 'number'}, {'id': 'internalUrl', 'label': 'Product URL', 'pattern': '', 'type': 'string'}, {'id': 'externalUrl', 'label': 'Search URL', 'pattern': '', 'type': 'string'}], 'rows': [{'c': [{'v': 'elections 2016'}, {'v': 100.0, 'f': '100'}, {'v': '#date=today+1-m&q=%22elections+2016%22'}, {'v': 'https://www.google.com/search?q=%22elections+2016%22'}]}, {'c': [{'v': 'ghana'}, {'v': 40.0, 'f': '40'}, {'v': '#date=today+1-m&q=%22ghana%22'}, {'v': 'https://www.google.com/search?q=%22ghana%22'}]}, {'c': [{'v': 'ghana elections'}, {'v': 40.0, 'f': '40'}, {'v': '#date=today+1-m&q=%22ghana+elections%22'}, {'v': 'https://www.google.com/search?q=%22ghana+elections%22'}]}, {'c': [{'v': 'elections results'}, {'v': 35.0, 'f': '35'}, {'v': '#date=today+1-m&q=%22elections+results%22'}, {'v': 'https://www.google.com/search?q=%22elections+results%22'}]}, {'c': [{'v': 'us elections'}, {'v': 30.0, 'f': '30'}, {'v': '#date=today+1-m&q=%22us+elections%22'}, {'v': 'https://www.google.com/search?q=%22us+elections%22'}]}, {'c': [{'v': '2016 ghana elections'}, {'v': 30.0, 'f': '30'}, {'v': '#date=today+1-m&q=%222016+ghana+elections%22'}, {'v': 'https://www.google.com/search?q=%222016+ghana+elections%22'}]}, {'c': [{'v': 'presidential elections'}, {'v': 25.0, 'f': '25'}, {'v': '#date=today+1-m&q=%22presidential+elections%22'}, {'v': 'https://www.google.com/search?q=%22presidential+elections%22'}]}, {'c': [{'v': 'elections 2017'}, {'v': 25.0, 'f': '25'}, {'v': '#date=today+1-m&q=%22elections+2017%22'}, {'v': 'https://www.google.com/search?q=%22elections+2017%22'}]}, {'c': [{'v': 'election 2016'}, {'v': 25.0, 'f': '25'}, {'v': '#date=today+1-m&q=%22election+2016%22'}, {'v': 'https://www.google.com/search?q=%22election+2016%22'}]}, {'c': [{'v': 'elections results 2016'}, {'v': 20.0, 'f': '20'}, {'v': '#date=today+1-m&q=%22elections+results+2016%22'}, {'v': 'https://www.google.com/search?q=%22elections+results+2016%22'}]}]}}\n",
      "{'version': '0.6', 'sig': '401118083', 'status': 'ok', 'table': {'cols': [{'id': 'query', 'label': 'Query', 'pattern': '', 'type': 'string'}, {'id': 'amount', 'label': 'Amount', 'pattern': '', 'type': 'number'}, {'id': 'internalUrl', 'label': 'Product URL', 'pattern': '', 'type': 'string'}, {'id': 'externalUrl', 'label': 'Search URL', 'pattern': '', 'type': 'string'}], 'rows': [{'c': [{'v': '2016 ghana elections'}, {'v': 1.7976931348623157e+308, 'f': 'Breakout'}, {'v': '#date=today+1-m&q=%222016+ghana+elections%22'}, {'v': 'https://www.google.com/search?q=%222016+ghana+elections%22'}]}, {'c': [{'v': 'ghana'}, {'v': 1.7976931348623157e+308, 'f': 'Breakout'}, {'v': '#date=today+1-m&q=%22ghana%22'}, {'v': 'https://www.google.com/search?q=%22ghana%22'}]}, {'c': [{'v': 'ghana election'}, {'v': 1.7976931348623157e+308, 'f': 'Breakout'}, {'v': '#date=today+1-m&q=%22ghana+election%22'}, {'v': 'https://www.google.com/search?q=%22ghana+election%22'}]}, {'c': [{'v': 'ghana elections'}, {'v': 1.7976931348623157e+308, 'f': 'Breakout'}, {'v': '#date=today+1-m&q=%22ghana+elections%22'}, {'v': 'https://www.google.com/search?q=%22ghana+elections%22'}]}, {'c': [{'v': 'ghana elections results'}, {'v': 1.7976931348623157e+308, 'f': 'Breakout'}, {'v': '#date=today+1-m&q=%22ghana+elections+results%22'}, {'v': 'https://www.google.com/search?q=%22ghana+elections+results%22'}]}, {'c': [{'v': 'austrian elections'}, {'v': 34.5, 'f': '+3,450%'}, {'v': '#date=today+1-m&q=%22austrian+elections%22'}, {'v': 'https://www.google.com/search?q=%22austrian+elections%22'}]}, {'c': [{'v': 'france elections'}, {'v': 6.5, 'f': '+650%'}, {'v': '#date=today+1-m&q=%22france+elections%22'}, {'v': 'https://www.google.com/search?q=%22france+elections%22'}]}, {'c': [{'v': 'french elections'}, {'v': 6.5, 'f': '+650%'}, {'v': '#date=today+1-m&q=%22french+elections%22'}, {'v': 'https://www.google.com/search?q=%22french+elections%22'}]}, {'c': [{'v': 'elections 2017'}, {'v': 5.0, 'f': '+500%'}, {'v': '#date=today+1-m&q=%22elections+2017%22'}, {'v': 'https://www.google.com/search?q=%22elections+2017%22'}]}, {'c': [{'v': 'elections in india'}, {'v': 3.5, 'f': '+350%'}, {'v': '#date=today+1-m&q=%22elections+in+india%22'}, {'v': 'https://www.google.com/search?q=%22elections+in+india%22'}]}]}}\n"
     ]
    }
   ],
   "source": [
    "# toprelated\n",
    "trend_payload = {'q': 'elections',\n",
    "                'date': 'today 1-m'}\n",
    "\n",
    "toprelated = pytrend.related(trend_payload, related_type='top')\n",
    "print(toprelated)\n",
    "risingrelated = pytrend.related(trend_payload, related_type='rising')\n",
    "print(risingrelated)"
   ]
  },
  {
   "cell_type": "code",
   "execution_count": null,
   "metadata": {
    "collapsed": true
   },
   "outputs": [],
   "source": [
    "# top30in30\n",
    "top30in30 = pytrend.top30in30()\n",
    "print(top30in30)"
   ]
  },
  {
   "cell_type": "code",
   "execution_count": null,
   "metadata": {
    "collapsed": true
   },
   "outputs": [],
   "source": [
    "country_payload = {'geo': 'US'}\n",
    "# hottrends\n",
    "hottrends = pytrend.hottrends(country_payload)\n",
    "print(hottrends)"
   ]
  },
  {
   "cell_type": "code",
   "execution_count": null,
   "metadata": {
    "collapsed": true
   },
   "outputs": [],
   "source": [
    "# hottrendsdetail\n",
    "# returns XML data\n",
    "hottrendsdetail = pytrend.hottrendsdetail(country_payload)\n",
    "print(hottrendsdetail)"
   ]
  },
  {
   "cell_type": "code",
   "execution_count": null,
   "metadata": {
    "collapsed": true
   },
   "outputs": [],
   "source": [
    "payload = {'date': '201601', 'geo': 'US'}\n",
    "# alltopcharts\n",
    "topcharts = pytrend.topcharts(payload)\n",
    "print(topcharts)"
   ]
  },
  {
   "cell_type": "code",
   "execution_count": null,
   "metadata": {
    "collapsed": true
   },
   "outputs": [],
   "source": [
    "keyword = 'pizza'\n",
    "# suggestions\n",
    "suggestions = pytrend.suggestions(keyword)\n",
    "print(suggestions)"
   ]
  }
 ],
 "metadata": {
  "anaconda-cloud": {},
  "kernelspec": {
   "display_name": "Python [default]",
   "language": "python",
   "name": "python3"
  },
  "language_info": {
   "codemirror_mode": {
    "name": "ipython",
    "version": 3
   },
   "file_extension": ".py",
   "mimetype": "text/x-python",
   "name": "python",
   "nbconvert_exporter": "python",
   "pygments_lexer": "ipython3",
   "version": "3.5.2"
  }
 },
 "nbformat": 4,
 "nbformat_minor": 1
}
