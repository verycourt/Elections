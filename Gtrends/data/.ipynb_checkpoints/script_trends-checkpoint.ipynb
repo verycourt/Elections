{
 "cells": [
  {
   "cell_type": "code",
   "execution_count": 1,
   "metadata": {
    "collapsed": true
   },
   "outputs": [],
   "source": [
    "from trendsAPI import TrendReq # API non officielle\n",
    "import json\n",
    "import pandas as pd\n",
    "from datetime import datetime, timedelta\n",
    "import re\n",
    "import sys"
   ]
  },
  {
   "cell_type": "markdown",
   "metadata": {},
   "source": [
    "import sys\n",
    "\n",
    "sys.argv[0] (nom du fichier)\n",
    "\n",
    "sys.argv[1] (1er paramètre, etc...)"
   ]
  },
  {
   "cell_type": "markdown",
   "metadata": {},
   "source": [
    "Documentation de l'API :\n",
    "\n",
    "https://github.com/GeneralMills/pytrends"
   ]
  },
  {
   "cell_type": "markdown",
   "metadata": {},
   "source": [
    "### open issues"
   ]
  },
  {
   "cell_type": "markdown",
   "metadata": {},
   "source": [
    "Limites de requêtes sur Google :\n",
    "- générer un string aléatoire à passer en paramètre custom_useragent\n",
    "https://github.com/GeneralMills/pytrends/issues/77\n",
    "- si erreur, utiliser un autre compte gmail\n",
    "\n",
    "Format JSON :\n",
    "- quel format lu par chart.js, d3.js ?\n",
    "http://stackoverflow.com/questions/24929931/drawing-line-chart-in-chart-js-with-json-response\n",
    "\n",
    "Plus de 5 recherches à la fois :\n",
    "- cf open issues sur pytrends\n",
    "https://github.com/GeneralMills/pytrends/issues/77\n",
    "\n",
    "[résolu] Gérer les timestamps et timezones :\n",
    "- cf : https://docs.python.org/3/library/datetime.html#datetime.tzinfo"
   ]
  },
  {
   "cell_type": "markdown",
   "metadata": {},
   "source": [
    "## Les tendances sur les recherches"
   ]
  },
  {
   "cell_type": "markdown",
   "metadata": {},
   "source": [
    "- 'Élection présidentielle française de 2017' : '/m/0n49cn3' (Élection)\n",
    "\n",
    "#### Codes associés aux candidats :\n",
    "- Manuel Valls : '/m/047drb0' (Ancien Premier ministre français)\n",
    "- François Fillon : '/m/0fqmlm' (Ancien Ministre de l’Écologie, du Développement durable et de l’Énergie)\n",
    "- Vincent Peillon : '/m/0551vp' (Homme politique)\n",
    "- François Bayrou : '/m/02y2cb' (Homme politique)\n",
    "- François Hollande : '/m/02qg4z' (Président de la République française)\n",
    "- Jean-Luc Mélanchon : '/m/04zzm99' (Homme politique)\n",
    "- Yannick Jadot : '/m/05zztc0' (Ecologiste)\n",
    "- Nicolas Dupont-Aignan (Debout la France) : '/m/0f6b18'\n",
    "- Michèle Alliot-Marie (Indépendante) : '/m/061czc' (Ancienne Ministre de l'Intérieur de France)\n",
    "- Nathalie Artaud (LO) : pas dispo\n",
    "- Philippe Poutou (NPA) : '/m/0gxyxxy'\n",
    "- Emmanuel Macron : '/m/011ncr8c' (Ancien Ministre de l'Économie et des Finances)\n",
    "- Jacques Cheminade : '/m/047fzn'\n",
    "- Marine Le Pen : '/m/02rdgs'\n",
    "\n",
    "#### Codes associés aux partis :\n",
    "- LR : '/g/11b7n_r2jq'\n",
    "- PS : '/m/01qdcv'\n",
    "- FN : '/m/0hp7g'\n",
    "- EELV : '/m/0h7nzzw'\n",
    "- FI (France Insoumise) : pas dispo direttement... utiliser le terme de recherche : \"france insoumise\"\n",
    "- PCF : '/m/01v8x4'\n",
    "- Debout la France : '/m/02rwc3q'\n",
    "- MoDem : '/m/02qt5xp' (Mouvement Démocrate)\n",
    "- Lutte Ouvrière : '/m/01vvcv'\n",
    "- Nouveau Parti Anticapitalise : '/m/04glk_t'\n",
    "- En marche! : pas dispo\n",
    "\n",
    "#### Codes couleurs :\n",
    "\n",
    "- dark blue: #637b85\n",
    "- green: #2c9c69\n",
    "- yellow: #dbba34\n",
    "- red: #c62f29\n"
   ]
  },
  {
   "cell_type": "code",
   "execution_count": 4,
   "metadata": {
    "collapsed": true
   },
   "outputs": [],
   "source": [
    "# Formattage de la date pour gérer le format heure:minute\n",
    "def convert_date_column(dataframe, out='%d/%m %H:%M'):\n",
    "    dates = []\n",
    "    if 'PST' in dataframe['Date'][0]: # format de date anglais\n",
    "        rdict = {',': '', ' PST': ''}\n",
    "        in_format = '%b %d %Y %H:%M' # ex: Jan 18 2017 12:00\n",
    "        out_format = out # ex: 18/01 12:00\n",
    "    elif 'UTC−8' in dataframe['Date'][0]: # format de date français\n",
    "        rdict = {' à': '', ' UTC−8': '', 'janv.': '01', 'févr.': '02', 'mars': '03', 'avr.': '04', \n",
    "                 'mai': '05', 'juin': '06', 'juil.': '07', 'août': '08', 'sept.': '09', 'oct.': '10', \n",
    "                 'nov.': '11', 'déc.': '12'}\n",
    "        in_format = '%d %m %Y %H:%M' # ex: 18 01 2017 12:00\n",
    "        out_format = out # ex: 18/01 12:00\n",
    "    \n",
    "    else: # si les dates ne contiennent pas l'heure, \n",
    "        return\n",
    "        \n",
    "    robj = re.compile('|'.join(rdict.keys()))\n",
    "    for date in dataframe['Date']: # Conversion des dates\n",
    "        t = datetime.strptime(robj.sub(lambda m: rdict[m.group(0)], date), in_format) + timedelta(hours=9) # GMT+1\n",
    "        dates.append(datetime.strftime(t, out_format))\n",
    "        \n",
    "    dataframe['Date'] = dates\n",
    "    return"
   ]
  },
  {
   "cell_type": "markdown",
   "metadata": {},
   "source": [
    "#### Fonction qui sauvegarde les requetes via l'API en JSON"
   ]
  },
  {
   "cell_type": "code",
   "execution_count": 51,
   "metadata": {
    "collapsed": false
   },
   "outputs": [],
   "source": [
    "def trends_to_json(query='candidats_majeurs', periode='3d', geo='FR'):\n",
    "\n",
    "    # Formats possibles pour la date : now 1-H, now 4-H, now 1-d, now 7-d, today 1-m, today 3-m\n",
    "    periodes = {'1h': 'now 1-H', '4h': 'now 4-H', '1d': 'now 1-d', '3d': 'now 3-d',\n",
    "                '7d': 'now 7-d', '1m': 'today 1-m', '3m': 'today 3-m'}\n",
    "\n",
    "    # Les termes de recherche (5 au maximum separes par des virgules)\n",
    "    # On associe a un type de recherche la liste des parametres correspondants\n",
    "    queries = {'candidats_majeurs': '/m/047drb0, /m/05zztc0, /m/02rdgs, /m/011ncr8c, /m/0fqmlm',\n",
    "               'partis_majeurs': '/g/11b7n_r2jq, /m/01qdcv, /m/0hp7g, /m/0h7nzzw',\n",
    "              'divers_gauche': 'france insoumise, /m/01vvcv, /m/04glk_t, /m/01v8x4'} \n",
    "    # se referer a la table de correspondance ci-dessus\n",
    "    \n",
    "    if (query not in queries) or (periode not in periodes):\n",
    "        print('Erreur de parametre')\n",
    "        return\n",
    "    \n",
    "    users = ['pfrlepoint@gmail.com', 'pfrlepoint2@gmail.com']\n",
    "    for user in users:\n",
    "        try:\n",
    "            # Connection to Google (use a valid Google account name for increased query limits)\n",
    "            pytrend = TrendReq(user, 'projet_fil_rouge', custom_useragent='pfr')\n",
    "\n",
    "            # Possibilite de periode personnalise : specifier deux dates (ex : 2015-01-01 2015-12-31)\n",
    "\n",
    "            # geographie : FR (toute France), FR-A ou B ou C... (region de France par ordre alphabetique)\n",
    "            # categorie politique : cat = 396\n",
    "\n",
    "            # On fait la requete sur Google avec les parametres choisis\n",
    "            payload = {'q': queries[query], 'geo': geo, 'date': periodes[periode]}\n",
    "            df = pytrend.trend(payload, return_type='dataframe')\n",
    "\n",
    "            if periode[-1] != 'm':\n",
    "                convert_date_column(df, out='%d/%m %H:%M') # converts into a standard date format like: 18/01 12:00\n",
    "    #         else:\n",
    "    #             df['Date'] = pd.to_datetime(df['Date'], infer_datetime_format=True)\n",
    "    #             dates = []\n",
    "    #             for elem in df['Date']:\n",
    "    #                 dates.append(datetime.strftime(elem, '%d/%m'))\n",
    "    #             df['Date'] = dates\n",
    "\n",
    "            df.set_index('Date', inplace=True)\n",
    "\n",
    "            # reduction du nombre de lignes du dataframe a une trentaine de points\n",
    "            # pour la lisibilité du graph\n",
    "            n = {'1h': 2, '4h': 1, '1d': 3, '3d': 2, '7d': 6, '1m': 1, '3m': 3}\n",
    "\n",
    "            # Sauvegarde en JSON\n",
    "            print((df.shape[0] - 1) % n[periode])\n",
    "            df[(df.shape[0] - 1) % n[periode]::n[periode]].to_json(\n",
    "                query + '_' + periode + '.json', orient='split')\n",
    "            print('sauvegarde dans : ' + query + '_' + periode + '.json')\n",
    "            return\n",
    "            \n",
    "        except:\n",
    "            continue\n",
    "    \n",
    "    print('Erreur lors de la récupération des données.')\n",
    "    return"
   ]
  },
  {
   "cell_type": "markdown",
   "metadata": {},
   "source": [
    "#### On lance la fonction"
   ]
  },
  {
   "cell_type": "code",
   "execution_count": 52,
   "metadata": {
    "collapsed": false
   },
   "outputs": [
    {
     "name": "stdout",
     "output_type": "stream",
     "text": [
      "4\n",
      "sauvegarde dans : candidats_7d.json\n"
     ]
    }
   ],
   "source": [
    "# passage des arguments via sys.argv\n",
    "trends_to_json(query='candidats_majeurs', periode='3d')"
   ]
  },
  {
   "cell_type": "code",
   "execution_count": 53,
   "metadata": {
    "collapsed": false
   },
   "outputs": [
    {
     "name": "stdout",
     "output_type": "stream",
     "text": [
      "             François Fillon  Manuel Valls  Marine Le Pen\n",
      "11/01 21:00                5             2              2\n",
      "12/01 03:00                7             4              3\n",
      "12/01 09:00                7             2              2\n",
      "12/01 15:00                6             2              1\n",
      "12/01 21:00                6            19              5\n",
      "13/01 03:00                4             3             10\n",
      "13/01 09:00                5             4              3\n",
      "13/01 15:00                5             3              2\n",
      "13/01 21:00                4             3              3\n",
      "14/01 03:00                3             2              4\n",
      "14/01 09:00                4             2              2\n",
      "14/01 15:00                5             2              2\n",
      "14/01 21:00                5             3              3\n",
      "15/01 03:00                4             4              3\n",
      "15/01 09:00                5             5              2\n",
      "15/01 15:00                4             3              2\n",
      "15/01 21:00                4             7              2\n",
      "16/01 03:00                4             5              4\n",
      "16/01 09:00                5             3              2\n",
      "16/01 15:00                5             3              2\n",
      "16/01 21:00                4             4             32\n",
      "17/01 03:00                4             5              7\n",
      "17/01 09:00                5             3              3\n",
      "17/01 15:00                5             2              3\n",
      "17/01 21:00                4            67              5\n",
      "18/01 03:00                4            55              4\n",
      "18/01 09:00                4            56              2\n",
      "18/01 15:00                4            34              2\n"
     ]
    }
   ],
   "source": [
    "df_json = pd.read_json('candidats_7d.json', orient='split')\n",
    "# print('PST' in df_json['Date'])\n",
    "print(df_json)"
   ]
  },
  {
   "cell_type": "code",
   "execution_count": 32,
   "metadata": {
    "collapsed": false
   },
   "outputs": [
    {
     "data": {
      "text/html": [
       "<div>\n",
       "<table border=\"1\" class=\"dataframe\">\n",
       "  <thead>\n",
       "    <tr style=\"text-align: right;\">\n",
       "      <th></th>\n",
       "      <th>Date</th>\n",
       "      <th>François Fillon</th>\n",
       "      <th>Manuel Valls</th>\n",
       "    </tr>\n",
       "  </thead>\n",
       "  <tbody>\n",
       "    <tr>\n",
       "      <th>0</th>\n",
       "      <td>dimanche 18 décembre 2016</td>\n",
       "      <td>33</td>\n",
       "      <td>19</td>\n",
       "    </tr>\n",
       "    <tr>\n",
       "      <th>1</th>\n",
       "      <td>lundi 19 décembre 2016</td>\n",
       "      <td>36</td>\n",
       "      <td>17</td>\n",
       "    </tr>\n",
       "    <tr>\n",
       "      <th>2</th>\n",
       "      <td>mardi 20 décembre 2016</td>\n",
       "      <td>35</td>\n",
       "      <td>16</td>\n",
       "    </tr>\n",
       "    <tr>\n",
       "      <th>3</th>\n",
       "      <td>mercredi 21 décembre 2016</td>\n",
       "      <td>33</td>\n",
       "      <td>100</td>\n",
       "    </tr>\n",
       "    <tr>\n",
       "      <th>4</th>\n",
       "      <td>jeudi 22 décembre 2016</td>\n",
       "      <td>29</td>\n",
       "      <td>52</td>\n",
       "    </tr>\n",
       "    <tr>\n",
       "      <th>5</th>\n",
       "      <td>vendredi 23 décembre 2016</td>\n",
       "      <td>32</td>\n",
       "      <td>28</td>\n",
       "    </tr>\n",
       "    <tr>\n",
       "      <th>6</th>\n",
       "      <td>samedi 24 décembre 2016</td>\n",
       "      <td>28</td>\n",
       "      <td>30</td>\n",
       "    </tr>\n",
       "    <tr>\n",
       "      <th>7</th>\n",
       "      <td>dimanche 25 décembre 2016</td>\n",
       "      <td>36</td>\n",
       "      <td>15</td>\n",
       "    </tr>\n",
       "    <tr>\n",
       "      <th>8</th>\n",
       "      <td>lundi 26 décembre 2016</td>\n",
       "      <td>33</td>\n",
       "      <td>19</td>\n",
       "    </tr>\n",
       "    <tr>\n",
       "      <th>9</th>\n",
       "      <td>mardi 27 décembre 2016</td>\n",
       "      <td>37</td>\n",
       "      <td>13</td>\n",
       "    </tr>\n",
       "    <tr>\n",
       "      <th>10</th>\n",
       "      <td>mercredi 28 décembre 2016</td>\n",
       "      <td>38</td>\n",
       "      <td>10</td>\n",
       "    </tr>\n",
       "    <tr>\n",
       "      <th>11</th>\n",
       "      <td>jeudi 29 décembre 2016</td>\n",
       "      <td>32</td>\n",
       "      <td>14</td>\n",
       "    </tr>\n",
       "    <tr>\n",
       "      <th>12</th>\n",
       "      <td>vendredi 30 décembre 2016</td>\n",
       "      <td>30</td>\n",
       "      <td>26</td>\n",
       "    </tr>\n",
       "    <tr>\n",
       "      <th>13</th>\n",
       "      <td>samedi 31 décembre 2016</td>\n",
       "      <td>36</td>\n",
       "      <td>12</td>\n",
       "    </tr>\n",
       "    <tr>\n",
       "      <th>14</th>\n",
       "      <td>dimanche 1 janvier 2017</td>\n",
       "      <td>38</td>\n",
       "      <td>10</td>\n",
       "    </tr>\n",
       "    <tr>\n",
       "      <th>15</th>\n",
       "      <td>lundi 2 janvier 2017</td>\n",
       "      <td>50</td>\n",
       "      <td>71</td>\n",
       "    </tr>\n",
       "    <tr>\n",
       "      <th>16</th>\n",
       "      <td>mardi 3 janvier 2017</td>\n",
       "      <td>56</td>\n",
       "      <td>45</td>\n",
       "    </tr>\n",
       "    <tr>\n",
       "      <th>17</th>\n",
       "      <td>mercredi 4 janvier 2017</td>\n",
       "      <td>51</td>\n",
       "      <td>69</td>\n",
       "    </tr>\n",
       "    <tr>\n",
       "      <th>18</th>\n",
       "      <td>jeudi 5 janvier 2017</td>\n",
       "      <td>43</td>\n",
       "      <td>91</td>\n",
       "    </tr>\n",
       "    <tr>\n",
       "      <th>19</th>\n",
       "      <td>vendredi 6 janvier 2017</td>\n",
       "      <td>41</td>\n",
       "      <td>51</td>\n",
       "    </tr>\n",
       "    <tr>\n",
       "      <th>20</th>\n",
       "      <td>samedi 7 janvier 2017</td>\n",
       "      <td>37</td>\n",
       "      <td>45</td>\n",
       "    </tr>\n",
       "    <tr>\n",
       "      <th>21</th>\n",
       "      <td>dimanche 8 janvier 2017</td>\n",
       "      <td>44</td>\n",
       "      <td>24</td>\n",
       "    </tr>\n",
       "    <tr>\n",
       "      <th>22</th>\n",
       "      <td>lundi 9 janvier 2017</td>\n",
       "      <td>46</td>\n",
       "      <td>26</td>\n",
       "    </tr>\n",
       "    <tr>\n",
       "      <th>23</th>\n",
       "      <td>mardi 10 janvier 2017</td>\n",
       "      <td>49</td>\n",
       "      <td>19</td>\n",
       "    </tr>\n",
       "    <tr>\n",
       "      <th>24</th>\n",
       "      <td>mercredi 11 janvier 2017</td>\n",
       "      <td>48</td>\n",
       "      <td>73</td>\n",
       "    </tr>\n",
       "    <tr>\n",
       "      <th>25</th>\n",
       "      <td>jeudi 12 janvier 2017</td>\n",
       "      <td>43</td>\n",
       "      <td>42</td>\n",
       "    </tr>\n",
       "    <tr>\n",
       "      <th>26</th>\n",
       "      <td>vendredi 13 janvier 2017</td>\n",
       "      <td>45</td>\n",
       "      <td>48</td>\n",
       "    </tr>\n",
       "    <tr>\n",
       "      <th>27</th>\n",
       "      <td>samedi 14 janvier 2017</td>\n",
       "      <td>39</td>\n",
       "      <td>54</td>\n",
       "    </tr>\n",
       "    <tr>\n",
       "      <th>28</th>\n",
       "      <td>dimanche 15 janvier 2017</td>\n",
       "      <td>48</td>\n",
       "      <td>30</td>\n",
       "    </tr>\n",
       "  </tbody>\n",
       "</table>\n",
       "</div>"
      ],
      "text/plain": [
       "                         Date François Fillon Manuel Valls\n",
       "0   dimanche 18 décembre 2016              33           19\n",
       "1      lundi 19 décembre 2016              36           17\n",
       "2      mardi 20 décembre 2016              35           16\n",
       "3   mercredi 21 décembre 2016              33          100\n",
       "4      jeudi 22 décembre 2016              29           52\n",
       "5   vendredi 23 décembre 2016              32           28\n",
       "6     samedi 24 décembre 2016              28           30\n",
       "7   dimanche 25 décembre 2016              36           15\n",
       "8      lundi 26 décembre 2016              33           19\n",
       "9      mardi 27 décembre 2016              37           13\n",
       "10  mercredi 28 décembre 2016              38           10\n",
       "11     jeudi 29 décembre 2016              32           14\n",
       "12  vendredi 30 décembre 2016              30           26\n",
       "13    samedi 31 décembre 2016              36           12\n",
       "14    dimanche 1 janvier 2017              38           10\n",
       "15       lundi 2 janvier 2017              50           71\n",
       "16       mardi 3 janvier 2017              56           45\n",
       "17    mercredi 4 janvier 2017              51           69\n",
       "18       jeudi 5 janvier 2017              43           91\n",
       "19    vendredi 6 janvier 2017              41           51\n",
       "20      samedi 7 janvier 2017              37           45\n",
       "21    dimanche 8 janvier 2017              44           24\n",
       "22       lundi 9 janvier 2017              46           26\n",
       "23      mardi 10 janvier 2017              49           19\n",
       "24   mercredi 11 janvier 2017              48           73\n",
       "25      jeudi 12 janvier 2017              43           42\n",
       "26   vendredi 13 janvier 2017              45           48\n",
       "27     samedi 14 janvier 2017              39           54\n",
       "28   dimanche 15 janvier 2017              48           30"
      ]
     },
     "execution_count": 32,
     "metadata": {},
     "output_type": "execute_result"
    }
   ],
   "source": [
    "payload = {'q': '/m/047drb0, /m/0fqmlm', 'geo': 'FR',\n",
    "           'date': 'today 1-m'}\n",
    "pytrend = TrendReq('pfrlepoint@gmail.com', 'projet_fil_rouge', custom_useragent='pfr')\n",
    "df = pytrend.trend(payload, return_type='dataframe')\n",
    "df"
   ]
  },
  {
   "cell_type": "code",
   "execution_count": 36,
   "metadata": {
    "collapsed": true
   },
   "outputs": [],
   "source": []
  },
  {
   "cell_type": "code",
   "execution_count": 33,
   "metadata": {
    "collapsed": false
   },
   "outputs": [
    {
     "ename": "ValueError",
     "evalue": "Unknown string format",
     "output_type": "error",
     "traceback": [
      "\u001b[0;31m---------------------------------------------------------------------------\u001b[0m",
      "\u001b[0;31mTypeError\u001b[0m                                 Traceback (most recent call last)",
      "\u001b[0;32mC:\\Program Files\\Anaconda3\\lib\\site-packages\\pandas\\tseries\\tools.py\u001b[0m in \u001b[0;36m_convert_listlike\u001b[0;34m(arg, box, format, name)\u001b[0m\n\u001b[1;32m    408\u001b[0m             \u001b[1;32mtry\u001b[0m\u001b[1;33m:\u001b[0m\u001b[1;33m\u001b[0m\u001b[0m\n\u001b[0;32m--> 409\u001b[0;31m                 \u001b[0mvalues\u001b[0m\u001b[1;33m,\u001b[0m \u001b[0mtz\u001b[0m \u001b[1;33m=\u001b[0m \u001b[0mtslib\u001b[0m\u001b[1;33m.\u001b[0m\u001b[0mdatetime_to_datetime64\u001b[0m\u001b[1;33m(\u001b[0m\u001b[0marg\u001b[0m\u001b[1;33m)\u001b[0m\u001b[1;33m\u001b[0m\u001b[0m\n\u001b[0m\u001b[1;32m    410\u001b[0m                 \u001b[1;32mreturn\u001b[0m \u001b[0mDatetimeIndex\u001b[0m\u001b[1;33m.\u001b[0m\u001b[0m_simple_new\u001b[0m\u001b[1;33m(\u001b[0m\u001b[0mvalues\u001b[0m\u001b[1;33m,\u001b[0m \u001b[0mname\u001b[0m\u001b[1;33m=\u001b[0m\u001b[0mname\u001b[0m\u001b[1;33m,\u001b[0m \u001b[0mtz\u001b[0m\u001b[1;33m=\u001b[0m\u001b[0mtz\u001b[0m\u001b[1;33m)\u001b[0m\u001b[1;33m\u001b[0m\u001b[0m\n",
      "\u001b[0;32mpandas\\tslib.pyx\u001b[0m in \u001b[0;36mpandas.tslib.datetime_to_datetime64 (pandas\\tslib.c:29768)\u001b[0;34m()\u001b[0m\n",
      "\u001b[0;31mTypeError\u001b[0m: Unrecognized value type: <class 'str'>",
      "\nDuring handling of the above exception, another exception occurred:\n",
      "\u001b[0;31mValueError\u001b[0m                                Traceback (most recent call last)",
      "\u001b[0;32m<ipython-input-33-1fa585557486>\u001b[0m in \u001b[0;36m<module>\u001b[0;34m()\u001b[0m\n\u001b[0;32m----> 1\u001b[0;31m \u001b[0mdf\u001b[0m\u001b[1;33m[\u001b[0m\u001b[1;34m'Date'\u001b[0m\u001b[1;33m]\u001b[0m \u001b[1;33m=\u001b[0m \u001b[0mpd\u001b[0m\u001b[1;33m.\u001b[0m\u001b[0mto_datetime\u001b[0m\u001b[1;33m(\u001b[0m\u001b[0mdf\u001b[0m\u001b[1;33m[\u001b[0m\u001b[1;34m'Date'\u001b[0m\u001b[1;33m]\u001b[0m\u001b[1;33m,\u001b[0m \u001b[0minfer_datetime_format\u001b[0m\u001b[1;33m=\u001b[0m\u001b[1;32mTrue\u001b[0m\u001b[1;33m)\u001b[0m\u001b[1;33m\u001b[0m\u001b[0m\n\u001b[0m\u001b[1;32m      2\u001b[0m \u001b[0mdates\u001b[0m \u001b[1;33m=\u001b[0m \u001b[1;33m[\u001b[0m\u001b[1;33m]\u001b[0m\u001b[1;33m\u001b[0m\u001b[0m\n\u001b[1;32m      3\u001b[0m \u001b[1;32mfor\u001b[0m \u001b[0melem\u001b[0m \u001b[1;32min\u001b[0m \u001b[0mdf\u001b[0m\u001b[1;33m[\u001b[0m\u001b[1;34m'Date'\u001b[0m\u001b[1;33m]\u001b[0m\u001b[1;33m:\u001b[0m\u001b[1;33m\u001b[0m\u001b[0m\n\u001b[1;32m      4\u001b[0m     \u001b[0mdates\u001b[0m\u001b[1;33m.\u001b[0m\u001b[0mappend\u001b[0m\u001b[1;33m(\u001b[0m\u001b[0mdatetime\u001b[0m\u001b[1;33m.\u001b[0m\u001b[0mstrftime\u001b[0m\u001b[1;33m(\u001b[0m\u001b[0melem\u001b[0m\u001b[1;33m,\u001b[0m \u001b[1;34m'%d/%m'\u001b[0m\u001b[1;33m)\u001b[0m\u001b[1;33m)\u001b[0m\u001b[1;33m\u001b[0m\u001b[0m\n\u001b[1;32m      5\u001b[0m \u001b[0mdf\u001b[0m\u001b[1;33m[\u001b[0m\u001b[1;34m'Date'\u001b[0m\u001b[1;33m]\u001b[0m \u001b[1;33m=\u001b[0m \u001b[0mdates\u001b[0m\u001b[1;33m\u001b[0m\u001b[0m\n",
      "\u001b[0;32mC:\\Program Files\\Anaconda3\\lib\\site-packages\\pandas\\util\\decorators.py\u001b[0m in \u001b[0;36mwrapper\u001b[0;34m(*args, **kwargs)\u001b[0m\n\u001b[1;32m     89\u001b[0m                 \u001b[1;32melse\u001b[0m\u001b[1;33m:\u001b[0m\u001b[1;33m\u001b[0m\u001b[0m\n\u001b[1;32m     90\u001b[0m                     \u001b[0mkwargs\u001b[0m\u001b[1;33m[\u001b[0m\u001b[0mnew_arg_name\u001b[0m\u001b[1;33m]\u001b[0m \u001b[1;33m=\u001b[0m \u001b[0mnew_arg_value\u001b[0m\u001b[1;33m\u001b[0m\u001b[0m\n\u001b[0;32m---> 91\u001b[0;31m             \u001b[1;32mreturn\u001b[0m \u001b[0mfunc\u001b[0m\u001b[1;33m(\u001b[0m\u001b[1;33m*\u001b[0m\u001b[0margs\u001b[0m\u001b[1;33m,\u001b[0m \u001b[1;33m**\u001b[0m\u001b[0mkwargs\u001b[0m\u001b[1;33m)\u001b[0m\u001b[1;33m\u001b[0m\u001b[0m\n\u001b[0m\u001b[1;32m     92\u001b[0m         \u001b[1;32mreturn\u001b[0m \u001b[0mwrapper\u001b[0m\u001b[1;33m\u001b[0m\u001b[0m\n\u001b[1;32m     93\u001b[0m     \u001b[1;32mreturn\u001b[0m \u001b[0m_deprecate_kwarg\u001b[0m\u001b[1;33m\u001b[0m\u001b[0m\n",
      "\u001b[0;32mC:\\Program Files\\Anaconda3\\lib\\site-packages\\pandas\\tseries\\tools.py\u001b[0m in \u001b[0;36mto_datetime\u001b[0;34m(arg, errors, dayfirst, yearfirst, utc, box, format, exact, coerce, unit, infer_datetime_format)\u001b[0m\n\u001b[1;32m    289\u001b[0m                         \u001b[0myearfirst\u001b[0m\u001b[1;33m=\u001b[0m\u001b[0myearfirst\u001b[0m\u001b[1;33m,\u001b[0m\u001b[1;33m\u001b[0m\u001b[0m\n\u001b[1;32m    290\u001b[0m                         \u001b[0mutc\u001b[0m\u001b[1;33m=\u001b[0m\u001b[0mutc\u001b[0m\u001b[1;33m,\u001b[0m \u001b[0mbox\u001b[0m\u001b[1;33m=\u001b[0m\u001b[0mbox\u001b[0m\u001b[1;33m,\u001b[0m \u001b[0mformat\u001b[0m\u001b[1;33m=\u001b[0m\u001b[0mformat\u001b[0m\u001b[1;33m,\u001b[0m \u001b[0mexact\u001b[0m\u001b[1;33m=\u001b[0m\u001b[0mexact\u001b[0m\u001b[1;33m,\u001b[0m\u001b[1;33m\u001b[0m\u001b[0m\n\u001b[0;32m--> 291\u001b[0;31m                         unit=unit, infer_datetime_format=infer_datetime_format)\n\u001b[0m\u001b[1;32m    292\u001b[0m \u001b[1;33m\u001b[0m\u001b[0m\n\u001b[1;32m    293\u001b[0m \u001b[1;33m\u001b[0m\u001b[0m\n",
      "\u001b[0;32mC:\\Program Files\\Anaconda3\\lib\\site-packages\\pandas\\tseries\\tools.py\u001b[0m in \u001b[0;36m_to_datetime\u001b[0;34m(arg, errors, dayfirst, yearfirst, utc, box, format, exact, unit, freq, infer_datetime_format)\u001b[0m\n\u001b[1;32m    418\u001b[0m     \u001b[1;32melif\u001b[0m \u001b[0misinstance\u001b[0m\u001b[1;33m(\u001b[0m\u001b[0marg\u001b[0m\u001b[1;33m,\u001b[0m \u001b[0mABCSeries\u001b[0m\u001b[1;33m)\u001b[0m\u001b[1;33m:\u001b[0m\u001b[1;33m\u001b[0m\u001b[0m\n\u001b[1;32m    419\u001b[0m         \u001b[1;32mfrom\u001b[0m \u001b[0mpandas\u001b[0m \u001b[1;32mimport\u001b[0m \u001b[0mSeries\u001b[0m\u001b[1;33m\u001b[0m\u001b[0m\n\u001b[0;32m--> 420\u001b[0;31m         \u001b[0mvalues\u001b[0m \u001b[1;33m=\u001b[0m \u001b[0m_convert_listlike\u001b[0m\u001b[1;33m(\u001b[0m\u001b[0marg\u001b[0m\u001b[1;33m.\u001b[0m\u001b[0m_values\u001b[0m\u001b[1;33m,\u001b[0m \u001b[1;32mFalse\u001b[0m\u001b[1;33m,\u001b[0m \u001b[0mformat\u001b[0m\u001b[1;33m)\u001b[0m\u001b[1;33m\u001b[0m\u001b[0m\n\u001b[0m\u001b[1;32m    421\u001b[0m         \u001b[1;32mreturn\u001b[0m \u001b[0mSeries\u001b[0m\u001b[1;33m(\u001b[0m\u001b[0mvalues\u001b[0m\u001b[1;33m,\u001b[0m \u001b[0mindex\u001b[0m\u001b[1;33m=\u001b[0m\u001b[0marg\u001b[0m\u001b[1;33m.\u001b[0m\u001b[0mindex\u001b[0m\u001b[1;33m,\u001b[0m \u001b[0mname\u001b[0m\u001b[1;33m=\u001b[0m\u001b[0marg\u001b[0m\u001b[1;33m.\u001b[0m\u001b[0mname\u001b[0m\u001b[1;33m)\u001b[0m\u001b[1;33m\u001b[0m\u001b[0m\n\u001b[1;32m    422\u001b[0m     \u001b[1;32melif\u001b[0m \u001b[0misinstance\u001b[0m\u001b[1;33m(\u001b[0m\u001b[0marg\u001b[0m\u001b[1;33m,\u001b[0m \u001b[1;33m(\u001b[0m\u001b[0mABCDataFrame\u001b[0m\u001b[1;33m,\u001b[0m \u001b[0mMutableMapping\u001b[0m\u001b[1;33m)\u001b[0m\u001b[1;33m)\u001b[0m\u001b[1;33m:\u001b[0m\u001b[1;33m\u001b[0m\u001b[0m\n",
      "\u001b[0;32mC:\\Program Files\\Anaconda3\\lib\\site-packages\\pandas\\tseries\\tools.py\u001b[0m in \u001b[0;36m_convert_listlike\u001b[0;34m(arg, box, format, name)\u001b[0m\n\u001b[1;32m    410\u001b[0m                 \u001b[1;32mreturn\u001b[0m \u001b[0mDatetimeIndex\u001b[0m\u001b[1;33m.\u001b[0m\u001b[0m_simple_new\u001b[0m\u001b[1;33m(\u001b[0m\u001b[0mvalues\u001b[0m\u001b[1;33m,\u001b[0m \u001b[0mname\u001b[0m\u001b[1;33m=\u001b[0m\u001b[0mname\u001b[0m\u001b[1;33m,\u001b[0m \u001b[0mtz\u001b[0m\u001b[1;33m=\u001b[0m\u001b[0mtz\u001b[0m\u001b[1;33m)\u001b[0m\u001b[1;33m\u001b[0m\u001b[0m\n\u001b[1;32m    411\u001b[0m             \u001b[1;32mexcept\u001b[0m \u001b[1;33m(\u001b[0m\u001b[0mValueError\u001b[0m\u001b[1;33m,\u001b[0m \u001b[0mTypeError\u001b[0m\u001b[1;33m)\u001b[0m\u001b[1;33m:\u001b[0m\u001b[1;33m\u001b[0m\u001b[0m\n\u001b[0;32m--> 412\u001b[0;31m                 \u001b[1;32mraise\u001b[0m \u001b[0me\u001b[0m\u001b[1;33m\u001b[0m\u001b[0m\n\u001b[0m\u001b[1;32m    413\u001b[0m \u001b[1;33m\u001b[0m\u001b[0m\n\u001b[1;32m    414\u001b[0m     \u001b[1;32mif\u001b[0m \u001b[0marg\u001b[0m \u001b[1;32mis\u001b[0m \u001b[1;32mNone\u001b[0m\u001b[1;33m:\u001b[0m\u001b[1;33m\u001b[0m\u001b[0m\n",
      "\u001b[0;32mC:\\Program Files\\Anaconda3\\lib\\site-packages\\pandas\\tseries\\tools.py\u001b[0m in \u001b[0;36m_convert_listlike\u001b[0;34m(arg, box, format, name)\u001b[0m\n\u001b[1;32m    396\u001b[0m                     \u001b[0myearfirst\u001b[0m\u001b[1;33m=\u001b[0m\u001b[0myearfirst\u001b[0m\u001b[1;33m,\u001b[0m\u001b[1;33m\u001b[0m\u001b[0m\n\u001b[1;32m    397\u001b[0m                     \u001b[0mfreq\u001b[0m\u001b[1;33m=\u001b[0m\u001b[0mfreq\u001b[0m\u001b[1;33m,\u001b[0m\u001b[1;33m\u001b[0m\u001b[0m\n\u001b[0;32m--> 398\u001b[0;31m                     \u001b[0mrequire_iso8601\u001b[0m\u001b[1;33m=\u001b[0m\u001b[0mrequire_iso8601\u001b[0m\u001b[1;33m\u001b[0m\u001b[0m\n\u001b[0m\u001b[1;32m    399\u001b[0m                 )\n\u001b[1;32m    400\u001b[0m \u001b[1;33m\u001b[0m\u001b[0m\n",
      "\u001b[0;32mpandas\\tslib.pyx\u001b[0m in \u001b[0;36mpandas.tslib.array_to_datetime (pandas\\tslib.c:41972)\u001b[0;34m()\u001b[0m\n",
      "\u001b[0;32mpandas\\tslib.pyx\u001b[0m in \u001b[0;36mpandas.tslib.array_to_datetime (pandas\\tslib.c:41577)\u001b[0;34m()\u001b[0m\n",
      "\u001b[0;32mpandas\\tslib.pyx\u001b[0m in \u001b[0;36mpandas.tslib.array_to_datetime (pandas\\tslib.c:41466)\u001b[0;34m()\u001b[0m\n",
      "\u001b[0;32mpandas\\tslib.pyx\u001b[0m in \u001b[0;36mpandas.tslib.parse_datetime_string (pandas\\tslib.c:31806)\u001b[0;34m()\u001b[0m\n",
      "\u001b[0;32mC:\\Program Files\\Anaconda3\\lib\\site-packages\\dateutil\\parser.py\u001b[0m in \u001b[0;36mparse\u001b[0;34m(timestr, parserinfo, **kwargs)\u001b[0m\n\u001b[1;32m   1162\u001b[0m         \u001b[1;32mreturn\u001b[0m \u001b[0mparser\u001b[0m\u001b[1;33m(\u001b[0m\u001b[0mparserinfo\u001b[0m\u001b[1;33m)\u001b[0m\u001b[1;33m.\u001b[0m\u001b[0mparse\u001b[0m\u001b[1;33m(\u001b[0m\u001b[0mtimestr\u001b[0m\u001b[1;33m,\u001b[0m \u001b[1;33m**\u001b[0m\u001b[0mkwargs\u001b[0m\u001b[1;33m)\u001b[0m\u001b[1;33m\u001b[0m\u001b[0m\n\u001b[1;32m   1163\u001b[0m     \u001b[1;32melse\u001b[0m\u001b[1;33m:\u001b[0m\u001b[1;33m\u001b[0m\u001b[0m\n\u001b[0;32m-> 1164\u001b[0;31m         \u001b[1;32mreturn\u001b[0m \u001b[0mDEFAULTPARSER\u001b[0m\u001b[1;33m.\u001b[0m\u001b[0mparse\u001b[0m\u001b[1;33m(\u001b[0m\u001b[0mtimestr\u001b[0m\u001b[1;33m,\u001b[0m \u001b[1;33m**\u001b[0m\u001b[0mkwargs\u001b[0m\u001b[1;33m)\u001b[0m\u001b[1;33m\u001b[0m\u001b[0m\n\u001b[0m\u001b[1;32m   1165\u001b[0m \u001b[1;33m\u001b[0m\u001b[0m\n\u001b[1;32m   1166\u001b[0m \u001b[1;33m\u001b[0m\u001b[0m\n",
      "\u001b[0;32mC:\\Program Files\\Anaconda3\\lib\\site-packages\\dateutil\\parser.py\u001b[0m in \u001b[0;36mparse\u001b[0;34m(self, timestr, default, ignoretz, tzinfos, **kwargs)\u001b[0m\n\u001b[1;32m    553\u001b[0m \u001b[1;33m\u001b[0m\u001b[0m\n\u001b[1;32m    554\u001b[0m         \u001b[1;32mif\u001b[0m \u001b[0mres\u001b[0m \u001b[1;32mis\u001b[0m \u001b[1;32mNone\u001b[0m\u001b[1;33m:\u001b[0m\u001b[1;33m\u001b[0m\u001b[0m\n\u001b[0;32m--> 555\u001b[0;31m             \u001b[1;32mraise\u001b[0m \u001b[0mValueError\u001b[0m\u001b[1;33m(\u001b[0m\u001b[1;34m\"Unknown string format\"\u001b[0m\u001b[1;33m)\u001b[0m\u001b[1;33m\u001b[0m\u001b[0m\n\u001b[0m\u001b[1;32m    556\u001b[0m \u001b[1;33m\u001b[0m\u001b[0m\n\u001b[1;32m    557\u001b[0m         \u001b[1;32mif\u001b[0m \u001b[0mlen\u001b[0m\u001b[1;33m(\u001b[0m\u001b[0mres\u001b[0m\u001b[1;33m)\u001b[0m \u001b[1;33m==\u001b[0m \u001b[1;36m0\u001b[0m\u001b[1;33m:\u001b[0m\u001b[1;33m\u001b[0m\u001b[0m\n",
      "\u001b[0;31mValueError\u001b[0m: Unknown string format"
     ]
    }
   ],
   "source": [
    "df['Date'] = pd.to_datetime(df['Date'], infer_datetime_format=True)\n",
    "dates = []\n",
    "for elem in df['Date']:\n",
    "    dates.append(datetime.strftime(elem, '%d/%m'))\n",
    "df['Date'] = dates"
   ]
  },
  {
   "cell_type": "code",
   "execution_count": 28,
   "metadata": {
    "collapsed": false
   },
   "outputs": [
    {
     "data": {
      "text/plain": [
       "0    2016-12-18\n",
       "1    2016-12-19\n",
       "2    2016-12-20\n",
       "3    2016-12-21\n",
       "4    2016-12-22\n",
       "5    2016-12-23\n",
       "6    2016-12-24\n",
       "7    2016-12-25\n",
       "8    2016-12-26\n",
       "9    2016-12-27\n",
       "10   2016-12-28\n",
       "11   2016-12-29\n",
       "12   2016-12-30\n",
       "13   2016-12-31\n",
       "14   2017-01-01\n",
       "15   2017-01-02\n",
       "16   2017-01-03\n",
       "17   2017-01-04\n",
       "18   2017-01-05\n",
       "19   2017-01-06\n",
       "20   2017-01-07\n",
       "21   2017-01-08\n",
       "22   2017-01-09\n",
       "23   2017-01-10\n",
       "24   2017-01-11\n",
       "25   2017-01-12\n",
       "26   2017-01-13\n",
       "27   2017-01-14\n",
       "Name: Date, dtype: datetime64[ns]"
      ]
     },
     "execution_count": 28,
     "metadata": {},
     "output_type": "execute_result"
    }
   ],
   "source": [
    "dates"
   ]
  },
  {
   "cell_type": "code",
   "execution_count": null,
   "metadata": {
    "collapsed": true
   },
   "outputs": [],
   "source": []
  }
 ],
 "metadata": {
  "anaconda-cloud": {},
  "kernelspec": {
   "display_name": "Python [default]",
   "language": "python",
   "name": "python3"
  },
  "language_info": {
   "codemirror_mode": {
    "name": "ipython",
    "version": 3
   },
   "file_extension": ".py",
   "mimetype": "text/x-python",
   "name": "python",
   "nbconvert_exporter": "python",
   "pygments_lexer": "ipython3",
   "version": "3.5.2"
  }
 },
 "nbformat": 4,
 "nbformat_minor": 1
}
