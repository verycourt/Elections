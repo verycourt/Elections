{
 "cells": [
  {
   "cell_type": "markdown",
   "metadata": {},
   "source": [
    "### Autres possibilités fournies par l'API"
   ]
  },
  {
   "cell_type": "code",
   "execution_count": null,
   "metadata": {
    "collapsed": true
   },
   "outputs": [],
   "source": [
    "from pytrends.request import TrendReq"
   ]
  },
  {
   "cell_type": "code",
   "execution_count": null,
   "metadata": {
    "collapsed": true
   },
   "outputs": [],
   "source": [
    "TrendReq('mdp', 'user', custom_useragent=None).suggestions(\"debout la france\")"
   ]
  },
  {
   "cell_type": "code",
   "execution_count": null,
   "metadata": {
    "collapsed": true
   },
   "outputs": [],
   "source": [
    "# Sujets liés aux élections\n",
    "# toprelated\n",
    "trend_payload = {'q': 'elections', 'geo': 'FR', 'date': 'now 24-H'}\n",
    "toprelated = pytrend.related(trend_payload, related_type='top')\n",
    "print(toprelated)\n",
    "\n",
    "# comment lire cela? et l'afficher proprement dans une liste?"
   ]
  },
  {
   "cell_type": "code",
   "execution_count": null,
   "metadata": {
    "collapsed": true
   },
   "outputs": [],
   "source": [
    "google_username = \"davy.bensoussan@gmail.com\"\n",
    "google_password = \"xxx\"\n",
    "path = \"\"\n",
    "\n",
    "# connect to Google\n",
    "pytrend = TrendReq(google_username, google_password, custom_useragent='My Pytrends Script')\n",
    "\n",
    "trend_payload = {'q': 'Pizza, Italian, Spaghetti, Breadsticks, Sausage', 'cat': '0-71',\n",
    "                'date': 'today 1-m'}"
   ]
  },
  {
   "cell_type": "code",
   "execution_count": null,
   "metadata": {
    "collapsed": true
   },
   "outputs": [],
   "source": [
    "# trend\n",
    "df = pytrend.trend(trend_payload, return_type='dataframe')\n",
    "print(df)"
   ]
  },
  {
   "cell_type": "code",
   "execution_count": null,
   "metadata": {
    "collapsed": true
   },
   "outputs": [],
   "source": [
    "# toprelated\n",
    "trend_payload = {'q': 'elections',\n",
    "                'date': 'today 1-m'}\n",
    "\n",
    "toprelated = pytrend.related(trend_payload, related_type='top')\n",
    "print(toprelated)\n",
    "risingrelated = pytrend.related(trend_payload, related_type='rising')\n",
    "print(risingrelated)"
   ]
  },
  {
   "cell_type": "code",
   "execution_count": null,
   "metadata": {
    "collapsed": true
   },
   "outputs": [],
   "source": [
    "# top30in30\n",
    "top30in30 = pytrend.top30in30()\n",
    "print(top30in30)"
   ]
  },
  {
   "cell_type": "code",
   "execution_count": null,
   "metadata": {
    "collapsed": true
   },
   "outputs": [],
   "source": [
    "country_payload = {'geo': 'US'}\n",
    "# hottrends\n",
    "hottrends = pytrend.hottrends(country_payload)\n",
    "print(hottrends)"
   ]
  },
  {
   "cell_type": "code",
   "execution_count": null,
   "metadata": {
    "collapsed": true
   },
   "outputs": [],
   "source": [
    "# hottrendsdetail\n",
    "# returns XML data\n",
    "hottrendsdetail = pytrend.hottrendsdetail(country_payload)\n",
    "print(hottrendsdetail)"
   ]
  },
  {
   "cell_type": "code",
   "execution_count": null,
   "metadata": {
    "collapsed": true
   },
   "outputs": [],
   "source": [
    "payload = {'date': '201601', 'geo': 'US'}\n",
    "# alltopcharts\n",
    "topcharts = pytrend.topcharts(payload)\n",
    "print(topcharts)"
   ]
  },
  {
   "cell_type": "code",
   "execution_count": null,
   "metadata": {
    "collapsed": true
   },
   "outputs": [],
   "source": [
    "keyword = 'pizza'\n",
    "# suggestions\n",
    "suggestions = pytrend.suggestions(keyword)\n",
    "print(suggestions)"
   ]
  }
 ],
 "metadata": {
  "anaconda-cloud": {},
  "kernelspec": {
   "display_name": "Python [default]",
   "language": "python",
   "name": "python3"
  },
  "language_info": {
   "codemirror_mode": {
    "name": "ipython",
    "version": 3
   },
   "file_extension": ".py",
   "mimetype": "text/x-python",
   "name": "python",
   "nbconvert_exporter": "python",
   "pygments_lexer": "ipython3",
   "version": "3.5.2"
  }
 },
 "nbformat": 4,
 "nbformat_minor": 1
}
