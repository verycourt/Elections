{
 "cells": [
  {
   "cell_type": "code",
   "execution_count": 1,
   "metadata": {
    "collapsed": false
   },
   "outputs": [],
   "source": [
    "# import requests\n",
    "# import re  # Module Regex\n",
    "# from bs4 import BeautifulSoup\n",
    "# import pandas as pd\n",
    "# import matplotlib.pyplot as plt\n",
    "# import numpy as np\n",
    "# from time import time\n",
    "# import matplotlib\n",
    "# matplotlib.style.use('ggplot')"
   ]
  },
  {
   "cell_type": "markdown",
   "metadata": {},
   "source": [
    "Documentation de l'API :\n",
    "\n",
    "https://github.com/GeneralMills/pytrends"
   ]
  },
  {
   "cell_type": "markdown",
   "metadata": {},
   "source": [
    "## Les tendances sur les recherches"
   ]
  },
  {
   "cell_type": "markdown",
   "metadata": {},
   "source": [
    "#### Codes associés aux termes de recherche :\n",
    "- Manuel Valls : '/m/047drb0' (Ancien Premier ministre français)\n",
    "- François Fillon : '/m/0fqmlm' (Ancien Ministre de l’Écologie, du Développement durable et de l’Énergie)\n",
    "- Vincent Peillon : '/m/0551vp' (Homme politique)\n",
    "- François Bayrou : '/m/02y2cb' (Homme politique)\n",
    "- François Hollande : '/m/02qg4z' (Président de la République française)\n",
    "\n",
    ".... a completer avec tous les candidats, et aussi faire une liste de partis politiques"
   ]
  },
  {
   "cell_type": "code",
   "execution_count": 5,
   "metadata": {
    "collapsed": false
   },
   "outputs": [
    {
     "data": {
      "text/plain": [
       "{'default': {'topics': [{'mid': '/m/02y2cb',\n",
       "    'title': 'François Bayrou',\n",
       "    'type': 'Homme politique'},\n",
       "   {'mid': '/m/02qg4z',\n",
       "    'title': 'François Hollande',\n",
       "    'type': 'Président de la République française'},\n",
       "   {'mid': '/m/0fqmlm',\n",
       "    'title': 'François Fillon',\n",
       "    'type': 'Ancien Ministre de l’Écologie, du Développement durable et de l’Énergie'},\n",
       "   {'mid': '/m/027971v',\n",
       "    'title': 'François Léotard',\n",
       "    'type': 'Homme politique'},\n",
       "   {'mid': '/m/03qlwtl', 'title': 'Bordères', 'type': 'Sujet'}]}}"
      ]
     },
     "execution_count": 5,
     "metadata": {},
     "output_type": "execute_result"
    }
   ],
   "source": [
    "from trendsAPI import TrendReq # API non officielle\n",
    "TrendReq('mdp', 'user', custom_useragent=None).suggestions(\"Francois Bayrou\")"
   ]
  },
  {
   "cell_type": "markdown",
   "metadata": {},
   "source": [
    "#### Fonction qui sauvegarde les requetes via l'API en JSON"
   ]
  },
  {
   "cell_type": "code",
   "execution_count": 23,
   "metadata": {
    "collapsed": false
   },
   "outputs": [],
   "source": [
    "def trends_to_json(query='candidats', periode='7d', geo='FR'):\n",
    "\n",
    "    from trendsAPI import TrendReq # API non officielle\n",
    "    import json\n",
    "    \n",
    "    status = ''\n",
    "    # Formats possibles pour la date : now 1-H, now 4-H, now 1-d, now 7-d, today 1-m, today 3-m, today 12-m, \n",
    "    # all (depuis 2004), {vide} 5 dernieres annees\n",
    "    periodes = {'1h': 'now 1-H', '4h': 'now 4-H', '1d': 'now 1-d', '7d': 'now 7-d', '1m': 'today 1-m',\n",
    "               '3m': 'today 3-m', '12m': 'today 12-m', 'all': 'all'}\n",
    "\n",
    "    # Les termes de recherche (5 au maximum separes par des virgules)\n",
    "    # On associe a un type de recherche la liste des parametres correspondants\n",
    "    queries = {'candidats': '/m/047drb0, /m/0fqmlm', 'partis': 'a completer'} # se referer a la table de correspondance ci-dessus\n",
    "    \n",
    "    if (query not in queries) or (periode not in periodes):\n",
    "        return 'Erreur de parametre'\n",
    "    \n",
    "    try:\n",
    "        # Connection to Google (use a valid Google account name for increased query limits)\n",
    "        pytrend = TrendReq('user', 'mdp', custom_useragent=None)\n",
    "\n",
    "        # Possibilite de periode personnalise : specifier deux dates (ex : 2015-01-01 2015-12-31)\n",
    "\n",
    "        # geographie : FR (toute France), FR-A ou B ou C... (region de France par ordre alphabetique)\n",
    "        # categorie politique : cat = 396\n",
    "\n",
    "\n",
    "        payload = {'q': queries[query], 'geo': geo, 'date': periodes[periode]}\n",
    "\n",
    "        # On fait tourner l'API qui renvoie un dictionnaire format JSON\n",
    "        data = pytrend.trend(payload, return_type='json')\n",
    "        # print(data)\n",
    "        \n",
    "        # Sauvegarde en JSON\n",
    "        out_file = open(query + '_' + periode + '.json', 'w')\n",
    "        json.dump(data, out_file, indent=4)\n",
    "        out_file.close()\n",
    "        \n",
    "        status = 'sauvegarde dans : ' + query + '_' + periode + '.json'\n",
    "    \n",
    "    except:\n",
    "        status = 'Erreur'\n",
    "        \n",
    "    return status"
   ]
  },
  {
   "cell_type": "markdown",
   "metadata": {},
   "source": [
    "#### On lance la fonction"
   ]
  },
  {
   "cell_type": "code",
   "execution_count": 24,
   "metadata": {
    "collapsed": false
   },
   "outputs": [
    {
     "data": {
      "text/plain": [
       "'sauvegarde dans : candidats_1h.json'"
      ]
     },
     "execution_count": 24,
     "metadata": {},
     "output_type": "execute_result"
    }
   ],
   "source": [
    "trends_to_json(query='candidats', periode='1h')"
   ]
  },
  {
   "cell_type": "markdown",
   "metadata": {},
   "source": [
    "## Liste de sujets liés aux élections"
   ]
  },
  {
   "cell_type": "code",
   "execution_count": null,
   "metadata": {
    "collapsed": false
   },
   "outputs": [],
   "source": [
    "# toprelated\n",
    "trend_payload = {'q': 'elections', 'geo': 'FR', 'date': 'now 24-H'}\n",
    "toprelated = pytrend.related(trend_payload, related_type='top')\n",
    "print(toprelated)\n",
    "\n",
    "# comment lire cela? et l'afficher proprement dans une liste?"
   ]
  },
  {
   "cell_type": "code",
   "execution_count": null,
   "metadata": {
    "collapsed": true
   },
   "outputs": [],
   "source": []
  }
 ],
 "metadata": {
  "anaconda-cloud": {},
  "kernelspec": {
   "display_name": "Python [default]",
   "language": "python",
   "name": "python3"
  },
  "language_info": {
   "codemirror_mode": {
    "name": "ipython",
    "version": 3
   },
   "file_extension": ".py",
   "mimetype": "text/x-python",
   "name": "python",
   "nbconvert_exporter": "python",
   "pygments_lexer": "ipython3",
   "version": "3.5.2"
  }
 },
 "nbformat": 4,
 "nbformat_minor": 1
}
