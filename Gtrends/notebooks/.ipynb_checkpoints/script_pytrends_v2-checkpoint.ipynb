{
 "cells": [
  {
   "cell_type": "markdown",
   "metadata": {},
   "source": [
    "Documentation de l'API : https://github.com/GeneralMills/pytrends\n",
    "\n",
    "### open issues\n",
    "[résolu] Limites de requêtes sur Google :\n",
    "- générer un string aléatoire à passer en paramètre custom_useragent\n",
    "https://github.com/GeneralMills/pytrends/issues/77\n",
    "- la nouvelle version permet plus de requêtes\n",
    "\n",
    "[résolu] Format JSON :\n",
    "- quel format lu par chart.js, d3.js ?\n",
    "http://stackoverflow.com/questions/24929931/drawing-line-chart-in-chart-js-with-json-response\n",
    "\n",
    "Plus de 5 recherches à la fois :\n",
    "- cf open issues sur pytrends\n",
    "https://github.com/GeneralMills/pytrends/issues/77\n",
    "\n",
    "Autres problèmes :\n",
    "- Tz ne fonctionne pas\n",
    "- Conversion au bon fuseau horaire\n",
    "- Gérer les timestamps pour les extracts de données sans heure ni minute\n",
    "- Nom des colonnes du dataFrame renvoient le code et pas l'interprétation\n",
    "\n",
    "### Les tendances sur les recherches\n",
    "- 'Élection présidentielle française de 2017' : '/m/0n49cn3' (Élection)\n",
    "\n",
    "#### Codes associés aux candidats :\n",
    "- Manuel Valls : '/m/047drb0' (Ancien Premier ministre français)\n",
    "- François Fillon : '/m/0fqmlm' (Ancien Ministre de l’Écologie, du Développement durable et de l’Énergie)\n",
    "- Benoît Hamon : '/m/0551nw'\n",
    "- Vincent Peillon : '/m/0551vp' (Homme politique)\n",
    "- François Bayrou : '/m/02y2cb' (Homme politique)\n",
    "- François Hollande : '/m/02qg4z' (Président de la République française)\n",
    "- Jean-Luc Mélanchon : '/m/04zzm99' (Homme politique)\n",
    "- Yannick Jadot : '/m/05zztc0' (Ecologiste)\n",
    "- Nicolas Dupont-Aignan : '/m/0f6b18' (Debout la France)\n",
    "- Michèle Alliot-Marie : '/m/061czc' (Ancienne Ministre de l'Intérieur de France)(Indépendante)\n",
    "- Nathalie Artaud : '/m/0h3t838' (Personnalité politique)(Lutte Ouvrière)\n",
    "- Philippe Poutou : '/m/0gxyxxy' (NPA)\n",
    "- Emmanuel Macron : '/m/011ncr8c' (Ancien Ministre de l'Économie et des Finances)\n",
    "- Jacques Cheminade : '/m/047fzn'\n",
    "- Marine Le Pen : '/m/02rdgs'\n",
    "\n",
    "#### Codes associés aux partis :\n",
    "- LR : '/g/11b7n_r2jq'\n",
    "- PS : '/m/01qdcv'\n",
    "- FN : '/m/0hp7g'\n",
    "- EELV : '/m/0h7nzzw'\n",
    "- FI (France Insoumise) : 'France Insoumise' (pas de sujet dédié, renvoie sur le PCF)\n",
    "- PCF : '/m/01v8x4'\n",
    "- Debout la France : '/m/02rwc3q'\n",
    "- MoDem : '/m/02qt5xp' (Mouvement Démocrate)\n",
    "- Lutte Ouvrière : '/m/01vvcv'\n",
    "- Nouveau Parti Anticapitalise : '/m/04glk_t'\n",
    "- En marche : 'En Marche' (pas de sujet dédié)\n",
    "\n",
    "#### Codes sur des thèmes de campagne :\n",
    "- Travail : /g/122h6md7\n",
    "- Education : /m/02jfc\n",
    "- Finance : /m/02_7t\n",
    "- Ecologie : /m/02mgp\n",
    "- Santé : /m/0kt51\n",
    "- Religion : /m/06bvp\n",
    "- Manifestation : /m/0gnwz4\n",
    "- Union Européenne : /m/0_6t_z8\n",
    "\n",
    "### Recherches possibles :\n",
    "- 'candidats_A': '/m/047drb0, /m/04zzm99, /m/02rdgs, /m/011ncr8c, /m/0fqmlm'\n",
    "- 'partis_A': '/g/11b7n_r2jq, /m/01qdcv, /m/0hp7g, /m/0h7nzzw'\n",
    "- 'divers_gauche': 'France Insoumise, /m/01vvcv, /m/04glk_t, /m/01v8x4'\n",
    "\n",
    "### Périodes possibles :\n",
    "- '3d': 'now 3-d' (ne marche plus avec la nouvelle version de pytrends!!)\n",
    "- 'now 1-d' (1 ligne toutes les 8 minutes)\n",
    "- 'now 7-d' (1 ligne toutes les heures)\n",
    "- 'today 1-m' (1 ligne par jour, format sans heure)\n"
   ]
  },
  {
   "cell_type": "code",
   "execution_count": 117,
   "metadata": {
    "collapsed": true
   },
   "outputs": [],
   "source": [
    "#!/usr/bin/python\n",
    "# coding: utf-8\n",
    "\n",
    "from pytrends.request import TrendReq\n",
    "import pandas as pd\n",
    "from datetime import timedelta\n",
    "from numpy.random import rand\n",
    "from numpy import sign\n",
    "\n",
    "def trends_to_json(queries='candidats_A', periodes='7d'):\n",
    "    \"\"\"\n",
    "    Télécharge sous format json les données de Google Trends avec les paramètres indiqués.\n",
    "    Ceux-ci doivent appartenir aux recherches préconfigurées dans les dictionnaires\n",
    "    <all_queries> et <all_periodes>.\n",
    "    \n",
    "    Il est possible d'indiquer plusieurs périodes et requetes en les séparant par des virgules.\n",
    "    \"\"\"\n",
    "\n",
    "    # TODO: compléter les dictionnaires de requetes et périodes possibles\n",
    "    # Les termes de recherche (5 au maximum dans une liste)\n",
    "    all_queries = {'candidats_A': ['/m/0fqmlm', '/m/0551nw', '/m/02rdgs', '/m/011ncr8c', '/m/04zzm99']}\n",
    "    all_periodes = {'1h': 'now 1-H', '4h': 'now 4-H', '1d': 'now 1-d', '7d': 'now 7-d', '1m': 'today 1-m'}\n",
    "    \n",
    "    trad = {'/m/061czc': 'Michèle Alliot-Marie', '/m/0h3t838': 'Nathalie Artaud', '/m/02y2cb': 'François Bayrou',\n",
    "            '/m/047fzn': 'Jacques Cheminade', '/m/0f6b18': 'Nicolas Dupont-Aignan', '/m/0fqmlm': 'François Fillon',\n",
    "            '/m/0551nw': 'Benoît Hamon', '/m/05zztc0': 'Yannick Jadot', '/m/02rdgs': 'Marine Le Pen',\n",
    "            '/m/011ncr8c': 'Emmanuel Macron', '/m/04zzm99': 'Jean-Luc Mélanchon', '/m/0gxyxxy': 'Philippe Poutou',\n",
    "            '/m/047drb0': 'Manuel Valls'}\n",
    "    \n",
    "    queries, periodes = set(queries.replace(', ', ',').split(',')), set(periodes.replace(', ', ',').split(','))\n",
    "    \n",
    "    success = []\n",
    "    # adresse mail et mot de passe associé\n",
    "    users = {'pfrlepoint@gmail.com': 'projet_fil_rouge', 'pfrlepoint2@gmail.com': 'pytrends_2'}\n",
    "    \n",
    "    # une chance sur deux de partir de la fin de la liste des adresses gmail\n",
    "    for user in list(users.keys())[::int(sign(rand(1) * 2 - 1))]:\n",
    "        \n",
    "        try:\n",
    "            # Login to Google. Only need to run this once, the rest of requests will use the same session.\n",
    "            pytrend = TrendReq(user, users[user], custom_useragent='My Pytrends Script')\n",
    "            \n",
    "            for q in queries & set(all_queries): # éléments communs aux deux ensembles\n",
    "                for p in periodes & set(all_periodes): # les requetes et periodes non valides seront ignorées\n",
    "                    \n",
    "                    if (q, p) in success: # si cette requête a déjà été réalisée avec une autre adresse, on itère\n",
    "                        continue\n",
    "                    else:\n",
    "                        # categorie politique : cat = 396\n",
    "                        # Create payload and capture API tokens. Only needed for interest_over_time(), interest_by_region() & related_queries()\n",
    "                        pytrend.build_payload(kw_list=all_queries[q], timeframe=all_periodes[p], cat=0, geo='FR')\n",
    "                        \n",
    "                        df = pytrend.interest_over_time()\n",
    "                        df.rename(columns=trad, inplace=True) # Nom des champs de recherche en colonne\n",
    "                        \n",
    "                        if p in ['1h', '4h', '1d', '7d']: # lorsque la fenetre de temps renvoie un format heure...\n",
    "                            df.index = [date + timedelta(hours=1) for date in df.index] # on convertit les dates en GMT+1\n",
    "\n",
    "                        # reduction du nombre de lignes du dataframe a une trentaine de points\n",
    "                        # pour la lisibilité du graph\n",
    "                        n = {'1h': 2, '4h': 5, '1d': 5, '3d': 1, '7d': 6, '1m': 1, '3m': 2}\n",
    "                        # n = 1 # pour désactiver cette fonction\n",
    "                        \n",
    "                        # TODO: automatiser le n en calculant automatiquement le ratio qui convient\n",
    "                        # pour obtenir une trentaine de points\n",
    "\n",
    "                        # Sauvegarde en JSON\n",
    "                        #server_path = '/var/www/html/gtrends/data/' # path complet AWS\n",
    "                        server_path = ''\n",
    "                        df[(df.shape[0] - 1) % n[p]::n[p]].to_json(\n",
    "                            server_path + q + '_' + p + '.json', orient='split')\n",
    "\n",
    "                        print('Connexion réussie avec l\\'adresse : ' + user)\n",
    "                        print('Enregistrement sous : ' + server_path + q + '_' + p + '.json')\n",
    "                        success.append((q, p)) # on garde en mémoire les couples q, p qui ont fonctionné\n",
    "\n",
    "                        # espacement des requêtes pour ne pas dépasser la limite\n",
    "                        # time.sleep(10)\n",
    "            return\n",
    "\n",
    "        except:\n",
    "            pass\n",
    "\n",
    "    print('Erreur lors de la recuperation des donnees.')\n",
    "    return\n"
   ]
  },
  {
   "cell_type": "code",
   "execution_count": 118,
   "metadata": {
    "collapsed": false
   },
   "outputs": [
    {
     "name": "stdout",
     "output_type": "stream",
     "text": [
      "Connexion réussie avec l'adresse : pfrlepoint2@gmail.com\n",
      "Enregistrement sous : candidats_A_1m.json\n"
     ]
    }
   ],
   "source": [
    "trends_to_json(periodes='1m')"
   ]
  },
  {
   "cell_type": "code",
   "execution_count": 120,
   "metadata": {
    "collapsed": false
   },
   "outputs": [
    {
     "ename": "NameError",
     "evalue": "name 'df' is not defined",
     "output_type": "error",
     "traceback": [
      "\u001b[0;31m---------------------------------------------------------------------------\u001b[0m",
      "\u001b[0;31mNameError\u001b[0m                                 Traceback (most recent call last)",
      "\u001b[0;32m<ipython-input-120-ac5d43c9e3ab>\u001b[0m in \u001b[0;36m<module>\u001b[0;34m()\u001b[0m\n\u001b[1;32m      1\u001b[0m \u001b[0mdf_json\u001b[0m \u001b[1;33m=\u001b[0m \u001b[0mpd\u001b[0m\u001b[1;33m.\u001b[0m\u001b[0mread_json\u001b[0m\u001b[1;33m(\u001b[0m\u001b[1;34m'candidats_A_1m.json'\u001b[0m\u001b[1;33m,\u001b[0m \u001b[0morient\u001b[0m\u001b[1;33m=\u001b[0m\u001b[1;34m'split'\u001b[0m\u001b[1;33m)\u001b[0m\u001b[1;33m\u001b[0m\u001b[0m\n\u001b[0;32m----> 2\u001b[0;31m \u001b[0mdf\u001b[0m\u001b[1;33m\u001b[0m\u001b[0m\n\u001b[0m",
      "\u001b[0;31mNameError\u001b[0m: name 'df' is not defined"
     ]
    }
   ],
   "source": [
    "df_json = pd.read_json('candidats_A_1m.json', orient='split')\n",
    "df"
   ]
  },
  {
   "cell_type": "code",
   "execution_count": 73,
   "metadata": {
    "collapsed": true
   },
   "outputs": [],
   "source": [
    "from pytrends.request import TrendReq\n",
    "\n",
    "google_username = \"pfrlepoint@gmail.com\"\n",
    "google_password = \"projet_fil_rouge\"\n",
    "\n",
    "# Login to Google. Only need to run this once, the rest of requests will use the same session.\n",
    "pytrend = TrendReq(google_username, google_password, custom_useragent='My Pytrends Script', hl='en-US')"
   ]
  },
  {
   "cell_type": "code",
   "execution_count": 82,
   "metadata": {
    "collapsed": false
   },
   "outputs": [],
   "source": [
    "# Create payload and capture API tokens. Only needed for interest_over_time(), interest_by_region() & related_queries()\n",
    "pytrend.build_payload(kw_list=['/m/030q7'], timeframe='now 1-d', cat=0, geo='FR')\n",
    "\n",
    "# Interest Over Time\n",
    "interest_over_time_df = pytrend.interest_over_time()"
   ]
  },
  {
   "cell_type": "markdown",
   "metadata": {},
   "source": [
    "### Autres possibilités fournies par l'API"
   ]
  },
  {
   "cell_type": "code",
   "execution_count": null,
   "metadata": {
    "collapsed": true
   },
   "outputs": [],
   "source": [
    "# Interest by Region\n",
    "interest_by_region_df = pytrend.interest_by_region()\n",
    "\n",
    "# Related Queries, returns a dictionary of dataframes\n",
    "related_queries_dict = pytrend.related_queries()\n",
    "\n",
    "# Get Google Hot Trends data\n",
    "trending_searches_df = pytrend.trending_searches()\n",
    "\n",
    "# Get Google Top Charts\n",
    "top_charts_df = pytrend.top_charts(cid='athletes', date=201611)\n",
    "\n",
    "# Get Google Keyword Suggestions\n",
    "suggestions_dict = pytrend.suggestions(keyword='pizza')"
   ]
  }
 ],
 "metadata": {
  "anaconda-cloud": {},
  "kernelspec": {
   "display_name": "Python [default]",
   "language": "python",
   "name": "python3"
  },
  "language_info": {
   "codemirror_mode": {
    "name": "ipython",
    "version": 3
   },
   "file_extension": ".py",
   "mimetype": "text/x-python",
   "name": "python",
   "nbconvert_exporter": "python",
   "pygments_lexer": "ipython3",
   "version": "3.5.2"
  }
 },
 "nbformat": 4,
 "nbformat_minor": 1
}
