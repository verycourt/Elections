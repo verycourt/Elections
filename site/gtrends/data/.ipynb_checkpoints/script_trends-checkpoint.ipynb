{
 "cells": [
  {
   "cell_type": "code",
   "execution_count": 1,
   "metadata": {
    "collapsed": true
   },
   "outputs": [],
   "source": [
    "from trendsAPI import TrendReq # API non officielle\n",
    "import json\n",
    "import pandas as pd\n",
    "from datetime import datetime, timedelta\n",
    "import re"
   ]
  },
  {
   "cell_type": "markdown",
   "metadata": {},
   "source": [
    "import sys\n",
    "\n",
    "sys.argv[0] (nom du fichier)\n",
    "\n",
    "sys.argv[1] (1er paramètre, etc...)"
   ]
  },
  {
   "cell_type": "markdown",
   "metadata": {},
   "source": [
    "Documentation de l'API :\n",
    "\n",
    "https://github.com/GeneralMills/pytrends"
   ]
  },
  {
   "cell_type": "markdown",
   "metadata": {},
   "source": [
    "### open issues"
   ]
  },
  {
   "cell_type": "markdown",
   "metadata": {},
   "source": [
    "Limites de requêtes sur Google :\n",
    "- générer un string aléatoire à passer en paramètre custom_useragent\n",
    "https://github.com/GeneralMills/pytrends/issues/77\n",
    "\n",
    "Format JSON :\n",
    "- quel format lu par chart.js, d3.js ?\n",
    "http://stackoverflow.com/questions/24929931/drawing-line-chart-in-chart-js-with-json-response\n",
    "\n",
    "Plus de 5 recherches à la fois :\n",
    "- cf open issues sur pytrends\n",
    "https://github.com/GeneralMills/pytrends/issues/77\n",
    "\n",
    "[résolu] Gérer les timestamps et timezones :\n",
    "- cf : https://docs.python.org/3/library/datetime.html#datetime.tzinfo"
   ]
  },
  {
   "cell_type": "markdown",
   "metadata": {},
   "source": [
    "## Les tendances sur les recherches"
   ]
  },
  {
   "cell_type": "markdown",
   "metadata": {},
   "source": [
    "- 'Élection présidentielle française de 2017' : '/m/0n49cn3' (Élection)\n",
    "\n",
    "#### Codes associés aux candidats :\n",
    "- Manuel Valls : '/m/047drb0' (Ancien Premier ministre français)\n",
    "- François Fillon : '/m/0fqmlm' (Ancien Ministre de l’Écologie, du Développement durable et de l’Énergie)\n",
    "- Vincent Peillon : '/m/0551vp' (Homme politique)\n",
    "- François Bayrou : '/m/02y2cb' (Homme politique)\n",
    "- François Hollande : '/m/02qg4z' (Président de la République française)\n",
    "- Jean-Luc Mélanchon : '/m/04zzm99' (Homme politique)\n",
    "- Yannick Jadot : '/m/05zztc0' (Ecologiste)\n",
    "- Nicolas Dupont-Aignan (Debout la France) : '/m/0f6b18'\n",
    "- Michèle Alliot-Marie (Indépendante) : '/m/061czc' (Ancienne Ministre de l'Intérieur de France)\n",
    "- Nathalie Artaud (LO) : pas dispo\n",
    "- Philippe Poutou (NPA) : '/m/0gxyxxy'\n",
    "- Emmanuel Macron : '/m/011ncr8c' (Ancien Ministre de l'Économie et des Finances)\n",
    "- Jacques Cheminade : '/m/047fzn'\n",
    "\n",
    "#### Codes associés aux partis :\n",
    "- LR : '/g/11b7n_r2jq'\n",
    "- PS : '/m/01qdcv'\n",
    "- FN : '/m/0hp7g'\n",
    "- EELV : '/m/0h7nzzw'\n",
    "- FI (France Insoumise) : pas dispo ... renvoie vers le PCF\n",
    "- PCF : '/m/01v8x4'\n",
    "- Debout la France : '/m/02rwc3q'\n",
    "- MoDem : '/m/02qt5xp' (Mouvement Démocrate)\n",
    "- Lutte Ouvrière : '/m/01vvcv'\n",
    "- Nouveau Parti Anticapitalise : '/m/04glk_t'\n",
    "- En marche! : pas dispo"
   ]
  },
  {
   "cell_type": "code",
   "execution_count": 22,
   "metadata": {
    "collapsed": false
   },
   "outputs": [
    {
     "data": {
      "text/plain": [
       "{'default': {'topics': [{'mid': '/m/02rwc3q',\n",
       "    'title': 'Debout la France',\n",
       "    'type': 'Parti politique'},\n",
       "   {'mid': '/m/02qt6y', 'title': 'Sénat', 'type': 'France'},\n",
       "   {'mid': '/m/01qdcv', 'title': 'Parti socialiste', 'type': 'France'},\n",
       "   {'mid': '/m/02qt5xp', 'title': 'Mouvement démocrate', 'type': 'France'},\n",
       "   {'mid': '/m/0hp7g', 'title': 'Front national', 'type': 'Parti français'}]}}"
      ]
     },
     "execution_count": 22,
     "metadata": {},
     "output_type": "execute_result"
    }
   ],
   "source": [
    "TrendReq('mdp', 'user', custom_useragent=None).suggestions(\"debout la france\")"
   ]
  },
  {
   "cell_type": "markdown",
   "metadata": {},
   "source": [
    "#### Fonction qui sauvegarde les requetes via l'API en JSON"
   ]
  },
  {
   "cell_type": "code",
   "execution_count": 2,
   "metadata": {
    "collapsed": false
   },
   "outputs": [],
   "source": [
    "def trends_to_json(query='candidats', periode='7d', geo='FR'):\n",
    "\n",
    "    # Formats possibles pour la date : now 1-H, now 4-H, now 1-d, now 7-d, today 1-m, today 3-m\n",
    "    periodes = {'1h': 'now 1-H', '4h': 'now 4-H', '1d': 'now 1-d', '7d': 'now 7-d',\n",
    "                '1m': 'today 1-m','3m': 'today 3-m'}\n",
    "\n",
    "    # Les termes de recherche (5 au maximum separes par des virgules)\n",
    "    # On associe a un type de recherche la liste des parametres correspondants\n",
    "    queries = {'candidats': '/m/047drb0, /m/0fqmlm', 'partis': 'a completer'} \n",
    "    # se referer a la table de correspondance ci-dessus\n",
    "    \n",
    "    if (query not in queries) or (periode not in periodes):\n",
    "        print('Erreur de parametre')\n",
    "        return\n",
    "    \n",
    "    try:\n",
    "        # Connection to Google (use a valid Google account name for increased query limits)\n",
    "        pytrend = TrendReq('pfrlepoint@gmail.com', 'projet_fil_rouge', custom_useragent=None)\n",
    "\n",
    "        # Possibilite de periode personnalise : specifier deux dates (ex : 2015-01-01 2015-12-31)\n",
    "\n",
    "        # geographie : FR (toute France), FR-A ou B ou C... (region de France par ordre alphabetique)\n",
    "        # categorie politique : cat = 396\n",
    "\n",
    "        # On fait la requete sur Google avec les parametres choisis\n",
    "        payload = {'q': queries[query], 'geo': geo, 'date': periodes[periode]}\n",
    "        df = pytrend.trend(payload, return_type='dataframe')\n",
    "\n",
    "        # Formattage de la date\n",
    "        if periode in ['1h', '4h', '1d', '7d']:\n",
    "            dates = []\n",
    "            rdict = {' à': '', ' UTC−8': '', 'janv.': '01', 'févr.': '02', 'mars': '03', 'avr.': '04', \n",
    "                     'mai': '05', 'juin': '06', 'juil.': '07', 'août': '08', 'sept.': '09', 'oct.': '10', \n",
    "                     'nov.': '11', 'déc.': '12'}\n",
    "            robj = re.compile('|'.join(rdict.keys()))\n",
    "            for date in df['Date']: # converting str to datetime object\n",
    "                t = datetime.strptime(robj.sub(lambda m: rdict[m.group(0)], date),\n",
    "                                      '%d %m %Y %H:%M') + timedelta(hours=9) # GMT+1\n",
    "                dates.append(datetime.strftime(t, '%d-%m %H:%M'))\n",
    "            df['Date'] = dates\n",
    "\n",
    "        df.set_index('Date', inplace=True)\n",
    "        \n",
    "        # Sauvegarde en JSON\n",
    "        df.to_json(query + '_' + periode + '.json', orient='split')\n",
    "        status = 'sauvegarde dans : ' + query + '_' + periode + '.json'\n",
    "    \n",
    "    except:\n",
    "        print('Erreur')\n",
    "    \n",
    "    return"
   ]
  },
  {
   "cell_type": "markdown",
   "metadata": {},
   "source": [
    "#### On lance la fonction"
   ]
  },
  {
   "cell_type": "code",
   "execution_count": 10,
   "metadata": {
    "collapsed": false
   },
   "outputs": [
    {
     "name": "stdout",
     "output_type": "stream",
     "text": [
      "sauvegarde dans : candidats_1h.json\n"
     ]
    }
   ],
   "source": [
    "trends_to_json(query='candidats', periode='1h')"
   ]
  },
  {
   "cell_type": "code",
   "execution_count": 12,
   "metadata": {
    "collapsed": false
   },
   "outputs": [
    {
     "data": {
      "text/html": [
       "<div>\n",
       "<table border=\"1\" class=\"dataframe\">\n",
       "  <thead>\n",
       "    <tr style=\"text-align: right;\">\n",
       "      <th></th>\n",
       "      <th>François Fillon</th>\n",
       "      <th>Manuel Valls</th>\n",
       "    </tr>\n",
       "  </thead>\n",
       "  <tbody>\n",
       "    <tr>\n",
       "      <th>17-01 19:40</th>\n",
       "      <td>2</td>\n",
       "      <td>60</td>\n",
       "    </tr>\n",
       "    <tr>\n",
       "      <th>17-01 19:48</th>\n",
       "      <td>2</td>\n",
       "      <td>62</td>\n",
       "    </tr>\n",
       "    <tr>\n",
       "      <th>17-01 19:56</th>\n",
       "      <td>3</td>\n",
       "      <td>100</td>\n",
       "    </tr>\n",
       "    <tr>\n",
       "      <th>17-01 20:04</th>\n",
       "      <td>3</td>\n",
       "      <td>68</td>\n",
       "    </tr>\n",
       "    <tr>\n",
       "      <th>17-01 20:12</th>\n",
       "      <td>3</td>\n",
       "      <td>70</td>\n",
       "    </tr>\n",
       "    <tr>\n",
       "      <th>17-01 20:20</th>\n",
       "      <td>3</td>\n",
       "      <td>93</td>\n",
       "    </tr>\n",
       "    <tr>\n",
       "      <th>17-01 20:28</th>\n",
       "      <td>3</td>\n",
       "      <td>52</td>\n",
       "    </tr>\n",
       "    <tr>\n",
       "      <th>17-01 20:36</th>\n",
       "      <td>4</td>\n",
       "      <td>48</td>\n",
       "    </tr>\n",
       "    <tr>\n",
       "      <th>17-01 20:44</th>\n",
       "      <td>2</td>\n",
       "      <td>45</td>\n",
       "    </tr>\n",
       "    <tr>\n",
       "      <th>17-01 20:52</th>\n",
       "      <td>2</td>\n",
       "      <td>49</td>\n",
       "    </tr>\n",
       "    <tr>\n",
       "      <th>17-01 21:00</th>\n",
       "      <td>3</td>\n",
       "      <td>46</td>\n",
       "    </tr>\n",
       "    <tr>\n",
       "      <th>17-01 21:08</th>\n",
       "      <td>2</td>\n",
       "      <td>40</td>\n",
       "    </tr>\n",
       "    <tr>\n",
       "      <th>17-01 21:16</th>\n",
       "      <td>3</td>\n",
       "      <td>43</td>\n",
       "    </tr>\n",
       "    <tr>\n",
       "      <th>17-01 21:24</th>\n",
       "      <td>3</td>\n",
       "      <td>39</td>\n",
       "    </tr>\n",
       "    <tr>\n",
       "      <th>17-01 21:32</th>\n",
       "      <td>2</td>\n",
       "      <td>43</td>\n",
       "    </tr>\n",
       "    <tr>\n",
       "      <th>17-01 21:40</th>\n",
       "      <td>4</td>\n",
       "      <td>48</td>\n",
       "    </tr>\n",
       "    <tr>\n",
       "      <th>17-01 21:48</th>\n",
       "      <td>3</td>\n",
       "      <td>42</td>\n",
       "    </tr>\n",
       "    <tr>\n",
       "      <th>17-01 21:56</th>\n",
       "      <td>3</td>\n",
       "      <td>43</td>\n",
       "    </tr>\n",
       "    <tr>\n",
       "      <th>17-01 22:04</th>\n",
       "      <td>3</td>\n",
       "      <td>51</td>\n",
       "    </tr>\n",
       "    <tr>\n",
       "      <th>17-01 22:12</th>\n",
       "      <td>3</td>\n",
       "      <td>44</td>\n",
       "    </tr>\n",
       "    <tr>\n",
       "      <th>17-01 22:20</th>\n",
       "      <td>3</td>\n",
       "      <td>41</td>\n",
       "    </tr>\n",
       "    <tr>\n",
       "      <th>17-01 22:28</th>\n",
       "      <td>3</td>\n",
       "      <td>46</td>\n",
       "    </tr>\n",
       "    <tr>\n",
       "      <th>17-01 22:36</th>\n",
       "      <td>3</td>\n",
       "      <td>47</td>\n",
       "    </tr>\n",
       "    <tr>\n",
       "      <th>17-01 22:44</th>\n",
       "      <td>3</td>\n",
       "      <td>50</td>\n",
       "    </tr>\n",
       "    <tr>\n",
       "      <th>17-01 22:52</th>\n",
       "      <td>3</td>\n",
       "      <td>65</td>\n",
       "    </tr>\n",
       "    <tr>\n",
       "      <th>17-01 23:00</th>\n",
       "      <td>3</td>\n",
       "      <td>62</td>\n",
       "    </tr>\n",
       "    <tr>\n",
       "      <th>17-01 23:08</th>\n",
       "      <td>2</td>\n",
       "      <td>68</td>\n",
       "    </tr>\n",
       "    <tr>\n",
       "      <th>17-01 23:16</th>\n",
       "      <td>2</td>\n",
       "      <td>51</td>\n",
       "    </tr>\n",
       "  </tbody>\n",
       "</table>\n",
       "</div>"
      ],
      "text/plain": [
       "             François Fillon  Manuel Valls\n",
       "17-01 19:40                2            60\n",
       "17-01 19:48                2            62\n",
       "17-01 19:56                3           100\n",
       "17-01 20:04                3            68\n",
       "17-01 20:12                3            70\n",
       "17-01 20:20                3            93\n",
       "17-01 20:28                3            52\n",
       "17-01 20:36                4            48\n",
       "17-01 20:44                2            45\n",
       "17-01 20:52                2            49\n",
       "17-01 21:00                3            46\n",
       "17-01 21:08                2            40\n",
       "17-01 21:16                3            43\n",
       "17-01 21:24                3            39\n",
       "17-01 21:32                2            43\n",
       "17-01 21:40                4            48\n",
       "17-01 21:48                3            42\n",
       "17-01 21:56                3            43\n",
       "17-01 22:04                3            51\n",
       "17-01 22:12                3            44\n",
       "17-01 22:20                3            41\n",
       "17-01 22:28                3            46\n",
       "17-01 22:36                3            47\n",
       "17-01 22:44                3            50\n",
       "17-01 22:52                3            65\n",
       "17-01 23:00                3            62\n",
       "17-01 23:08                2            68\n",
       "17-01 23:16                2            51"
      ]
     },
     "execution_count": 12,
     "metadata": {},
     "output_type": "execute_result"
    }
   ],
   "source": [
    "pd.read_json('candidats_4h.json', orient='split')"
   ]
  },
  {
   "cell_type": "code",
   "execution_count": null,
   "metadata": {
    "collapsed": true
   },
   "outputs": [],
   "source": []
  }
 ],
 "metadata": {
  "anaconda-cloud": {},
  "kernelspec": {
   "display_name": "Python [default]",
   "language": "python",
   "name": "python3"
  },
  "language_info": {
   "codemirror_mode": {
    "name": "ipython",
    "version": 3
   },
   "file_extension": ".py",
   "mimetype": "text/x-python",
   "name": "python",
   "nbconvert_exporter": "python",
   "pygments_lexer": "ipython3",
   "version": "3.5.2"
  }
 },
 "nbformat": 4,
 "nbformat_minor": 1
}
