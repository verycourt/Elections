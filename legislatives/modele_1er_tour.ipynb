{
 "cells": [
  {
   "cell_type": "markdown",
   "metadata": {},
   "source": [
    "### To do\n"
   ]
  },
  {
   "cell_type": "code",
   "execution_count": 11,
   "metadata": {
    "collapsed": true,
    "deletable": true,
    "editable": true
   },
   "outputs": [],
   "source": [
    "import pandas as pd\n",
    "import numpy as np\n",
    "from matplotlib import pyplot as plt\n",
    "from sklearn.preprocessing import Imputer, StandardScaler, MinMaxScaler\n",
    "from sklearn.metrics import mean_absolute_error, mean_squared_error, f1_score, r2_score\n",
    "from sklearn.metrics import auc, confusion_matrix\n",
    "from sklearn.pipeline import make_pipeline"
   ]
  },
  {
   "cell_type": "markdown",
   "metadata": {},
   "source": [
    "### Loading the data"
   ]
  },
  {
   "cell_type": "code",
   "execution_count": 12,
   "metadata": {
    "collapsed": false,
    "deletable": true,
    "editable": true
   },
   "outputs": [
    {
     "name": "stdout",
     "output_type": "stream",
     "text": [
      "Taille initiale du DF : (36919, 83)\n",
      "Taille du DF après retrait des colonnes inutiles : (36919, 73)\n"
     ]
    }
   ],
   "source": [
    "raw = pd.read_excel('data/dataframe_elections.xlsx')\n",
    "print('Taille initiale du DF :', raw.shape)\n",
    "\n",
    "# Données d'identification\n",
    "id_list = ['an', 'dep', 'circo', 'code', 'nom', 'prenom', 'nuance', 'nuance_groupe', 'taux_vote_leg', 'second_tour']\n",
    "df_id = raw[id_list]\n",
    "\n",
    "# drop colonnes\n",
    "drop_list = ['code', 'inscrits', 'circo_parti', 'circo_nuance',\n",
    "             'nom', 'prenom', 'etiquette', 'nuance', 'voix', 'second_tour']\n",
    "raw = raw.drop(drop_list, axis=1)\n",
    "\n",
    "print('Taille du DF après retrait des colonnes inutiles :', raw.shape)"
   ]
  },
  {
   "cell_type": "code",
   "execution_count": 13,
   "metadata": {
    "collapsed": false,
    "slideshow": {
     "slide_type": "-"
    }
   },
   "outputs": [],
   "source": [
    "def generate_df(raw_data, keep_list, penalty=.8):\n",
    "    # à garder obligatoirement pour identifier les lignes et créer les labels\n",
    "    keep_nuance = 'nuance_groupe' in keep_list\n",
    "    keep_list.extend(['an', 'c_dep', 'nuance_groupe', 'p_inscrits', 'p_exprimes'])\n",
    "\n",
    "    df = raw_data.drop([col for col in raw_data.columns if col not in keep_list], axis=1)\n",
    "    #print(df.columns)\n",
    "\n",
    "    # Gestion des NaN au niveau du score du candidat aux législatives précédentes\n",
    "    years = [2002, 2007, 2012, 2017]\n",
    "    partis = ['EXG', 'COM', 'FI', 'DVG', 'ECO', 'SOC', 'RDG', 'MDM',\n",
    "              'UDI', 'DVD', 'LR', 'DLF', 'FN', 'EXD', 'REG', 'DIV']\n",
    "    \n",
    "    # TODO : POUR LES CANDIDATS \"EN MARCHE\", PAR QUOI REMPLIR LE SCORE DES CANDIDATS A LA PREC LEG ?\n",
    "    \n",
    "    if 'score_candidat_prec_leg_ins' in keep_list:\n",
    "        for parti in partis:\n",
    "            #print('\\nRemplissage des valeurs manquantes pour {} :'.format(parti))\n",
    "            for year in years:\n",
    "                mask = (df['an']==year) & (df['nuance_groupe']==parti)\n",
    "                mask_2 = (df['an']==year - 5) & (df['nuance_groupe']==parti)\n",
    "                mean = np.mean(df['p_inscrits'][mask_2]) * penalty # moyenne des voix du parti 5 ans avant (% d'inscrits)\n",
    "                df.loc[mask, 'score_candidat_prec_leg_ins'] = df['score_candidat_prec_leg_ins'][mask].fillna(value=mean)\n",
    "                #print('La moyenne du parti en {} est {:.2f}%'.format(year - 5, mean * 100))\n",
    "\n",
    "        mean = np.mean(df.p_inscrits) * penalty\n",
    "        df.score_candidat_prec_leg_ins = df.score_candidat_prec_leg_ins.fillna(value=mean)\n",
    "        \n",
    "    if 'score_candidat_prec_leg_expr' in keep_list:\n",
    "        for parti in partis:\n",
    "            #print('\\nRemplissage des valeurs manquantes pour {} :'.format(parti))\n",
    "            for year in years:\n",
    "                mask = (df['an']==year) & (df['nuance_groupe']==parti)\n",
    "                mask_2 = (df['an']==year - 5) & (df['nuance_groupe']==parti)\n",
    "                mean = np.mean(df['p_exprimes'][mask_2]) * penalty # moyenne des voix du parti 5 ans avant (% exprimés)\n",
    "                df.loc[mask, 'score_candidat_prec_leg_expr'] = df['score_candidat_prec_leg_expr'][mask].fillna(value=mean)\n",
    "                #print('La moyenne du parti en {} est {:.2f}%'.format(year - 5, mean * 100))\n",
    "\n",
    "        mean = np.mean(df.p_exprimes)\n",
    "        df.score_candidat_prec_leg_expr = df.score_candidat_prec_leg_expr.fillna(value=mean)\n",
    "\n",
    "    # Gestion des NaN : Autres variables. Remplacement des valeurs manquantes par la moyenne nationale\n",
    "    features_a_completer = ['chom_tot', 'chom_jeunes', 'chom_adultes', 'chom_seniors',\n",
    "                           'p_agri', 'p_commercants', 'p_cadres', 'p_intermed', 'p_employes',\n",
    "                           'p_ouvriers', 'd_brevet', 'd_bep', 'd_bac', 'd_sup']\n",
    "    for feature in features_a_completer:\n",
    "        if feature in keep_list:\n",
    "            #print('\\nRemplissage des valeurs manquantes pour {} :'.format(feature))\n",
    "            for year in years:\n",
    "                mask = (df['an']==year)\n",
    "                mean = np.mean(df[feature][mask])\n",
    "                #print('La moyenne de la feature pour {} est {:.2f}%'.format(year, mean * 100))\n",
    "                df.loc[mask, feature] = df[feature][mask].fillna(value=mean)\n",
    "\n",
    "    # Catégorisation\n",
    "    if 'score_candidat_prec_leg_cat' in keep_list:\n",
    "        if 'score_candidat_prec_leg_expr' in keep_list:\n",
    "            df['score_candidat_prec_leg_cat'] = pd.cut(df['score_candidat_prec_leg_expr'],\n",
    "                                                       bins=[-1, -.01, .05, .1, .15, .25, 1],\n",
    "                                                       labels=['N/A', 'A', 'B', 'C', 'D', 'E'])\n",
    "        elif 'score_candidat_prec_leg_ins' in keep_list:\n",
    "            df['score_candidat_prec_leg_cat'] = pd.cut(df['score_candidat_prec_leg_ins'],\n",
    "                                                       bins=[-1, -.01, .05, .1, .15, .25, 1],\n",
    "                                                       labels=['N/A', 'A', 'B', 'C', 'D', 'E'])\n",
    "\n",
    "    df = df[df.an > 1997]\n",
    "    df = df[df.nuance_groupe!='DIV'] # On retire les candidats \"Divers\" (pour l'entraînement ET la prédiction)\n",
    "    df = df[df.c_dep!=99] # Retrait des Français de l'Etranger\n",
    "    \n",
    "    df = df.drop('c_dep', axis=1)\n",
    "    \n",
    "    if not keep_nuance:\n",
    "        df = df.drop('nuance_groupe', axis=1)\n",
    "    \n",
    "    print('Format du dataframe :', df.shape)\n",
    "    print(df.isnull().sum())\n",
    "    \n",
    "    return df"
   ]
  },
  {
   "cell_type": "code",
   "execution_count": 14,
   "metadata": {
    "collapsed": false
   },
   "outputs": [],
   "source": [
    "def train_val_splits(df, year_for_validation, target, scaler=MinMaxScaler()):\n",
    "    # Liste des variables dummies et binaires pour les exclure de la normalisation\n",
    "    dummies_list = ['bloc', 'sexe', 'an', 'p_inscrits', 'p_exprimes', 'dep', 'circo',\n",
    "                    'geo_frontalier', 'geo_dom', 'geo_idf',\n",
    "                    'circo_nuance_groupe', 'circo_bloc', 'nuance_groupe',\n",
    "                    'circo_nuance_groupe_pres', 'circo_pres_meme_nuance', 'circo_meme_nuance_president',\n",
    "                    'circo_leg_meme_nuance',\n",
    "                    'depute_sortant', 'ancien_depute', 'au_gouvernement', 'ancien_ministre', 'membre_majorite',\n",
    "                    #'nb_candidats_meme_bloc', 'nb_candidats_circo',\n",
    "                    'score_candidat_prec_leg_cat',\n",
    "                    'score_candidat_prec_leg_expr', 'score_candidat_prec_leg_ins',\n",
    "                    #'nb_acces_second_tour'\n",
    "                   ]\n",
    "    scale_list = [col for col in df.columns if col not in dummies_list]\n",
    "\n",
    "    df = pd.get_dummies(df, drop_first=True)\n",
    "    \n",
    "    drop_list = ['an', 'p_inscrits', 'p_exprimes']\n",
    "    df_train = df[(df.an != 2017) & (df.an != year_for_validation)].dropna(how='any')\n",
    "    y_train = df_train[target]\n",
    "    X_train = df_train.drop(drop_list, axis=1)\n",
    "    \n",
    "    df_val = df[df.an == year_for_validation].dropna(how='any')\n",
    "    y_val = df_val[target]\n",
    "    X_val = df_val.drop(drop_list, axis=1)\n",
    "    \n",
    "    # Normalisation du dataframe\n",
    "    if scaler:\n",
    "        print('Variables à normaliser', scale_list)\n",
    "        X_train[scale_list] = scaler.fit_transform(X_train[scale_list])\n",
    "        X_val[scale_list] = scaler.transform(X_val[scale_list])\n",
    "\n",
    "    print('Format des ensembles de train et de validation :')\n",
    "    print(X_train.shape, X_val.shape)\n",
    "    \n",
    "    return X_train, X_val, y_train, y_val"
   ]
  },
  {
   "cell_type": "code",
   "execution_count": 15,
   "metadata": {
    "collapsed": false
   },
   "outputs": [],
   "source": [
    "def get_classif(y_pred, y_val, id_val, target, strategy):\n",
    "    from scipy.stats import rankdata\n",
    "    \n",
    "    res = pd.concat([id_val, pd.DataFrame(y_val)], axis=1, join='inner')\n",
    "    res['prediction'] = y_pred\n",
    "    res['classement'] = 0\n",
    "    res['qualif'] = 'N'\n",
    "    \n",
    "    for circo in set(res.code):\n",
    "        # classement des candidats par circonscription\n",
    "        res.loc[res.code==circo, 'classement'] = rankdata(-res.prediction[res.code==circo], method='ordinal')\n",
    "        \n",
    "        # normalisation des votes pour que la somme soit égale à 100%\n",
    "        res.loc[res.code==circo, 'prediction'] /= np.sum(res.loc[res.code==circo, 'prediction'])\n",
    "        \n",
    "        if target=='p_exprimes':\n",
    "            taux_E = 1\n",
    "            taux_O = np.float(res.loc[(res.code==circo) & (res.classement==1), 'taux_vote_leg'])\n",
    "        elif target=='p_inscrits':\n",
    "            taux_E = 1 / np.float(res.loc[(res.code==circo) & (res.classement==1), 'taux_vote_leg'])\n",
    "            taux_O = 1\n",
    "            \n",
    "        # simulation des qualifiés pour le second tour\n",
    "        i = 1\n",
    "        q = 0\n",
    "        while True:\n",
    "            #print(res.loc[(res.code==circo) & (res.classement==i), 'prediction'].values)\n",
    "            if (res.loc[(res.code==circo) & (res.classement==i), 'prediction'].values) * taux_E >= .5:\n",
    "                res.loc[(res.code==circo) & (res.classement==i), 'qualif'] = 'E'\n",
    "                if strategy == 'O':\n",
    "                    q += 1\n",
    "                elif strategy == 'E':\n",
    "                    break\n",
    "            elif (res.loc[(res.code==circo) & (res.classement==i), 'prediction'].values) * taux_O >= .125:\n",
    "                res.loc[(res.code==circo) & (res.classement==i), 'qualif'] = 'O'\n",
    "                q += 1\n",
    "            elif q < 2:\n",
    "                res.loc[(res.code==circo) & (res.classement==i), 'qualif'] = 'O'\n",
    "                q += 1\n",
    "            else:\n",
    "                break\n",
    "\n",
    "            i += 1\n",
    "        \n",
    "    res['ecart'] = res['prediction'] - res[target]\n",
    "    \n",
    "    return res"
   ]
  },
  {
   "cell_type": "code",
   "execution_count": 16,
   "metadata": {
    "collapsed": false
   },
   "outputs": [],
   "source": [
    "def analyze_predictions(df_predictions, target):\n",
    "    n = df_predictions.shape[0]\n",
    "    print('Prédictions pour {} candidats.'.format(n))\n",
    "\n",
    "    ecarts_absolus = abs(df_predictions.ecart)\n",
    "    max_ecart = np.max(ecarts_absolus)\n",
    "    grid = np.arange(max_ecart, step=.01)\n",
    "    ecarts_grid = []\n",
    "\n",
    "    for point in grid:\n",
    "        ecarts_grid.append(np.sum(ecarts_absolus < point))\n",
    "\n",
    "    print('La MAE est : {:.2f}%'.format(\n",
    "            mean_absolute_error(df_predictions[target], df_predictions.prediction) * 100))\n",
    "    print('La plus grosse erreur est : {:.2f}%'.format(max_ecart * 100))\n",
    "    print('Le score r2 est : {:.2f}'.format(r2_score(df_predictions[target], df_predictions.prediction)))\n",
    "\n",
    "    point_list = [.01, .02, .05, .1]\n",
    "    ecart_list = [np.sum(ecarts_absolus < point) for point in point_list]\n",
    "\n",
    "    plt.figure(1, figsize=(13, 3))\n",
    "    plt.subplot(121)\n",
    "    plt.plot(grid, ecarts_grid)\n",
    "    for i in range(len(point_list)):\n",
    "        plt.plot(point_list[i], ecart_list[i], 'ro')\n",
    "        plt.text(point_list[i]+.005, ecart_list[i]-400, '{:.2f}%'.format(ecart_list[i]/n))\n",
    "\n",
    "    plt.title('Nb d\\'obs en dessous d\\'un seuil d\\'erreur')\n",
    "    plt.xlabel('Seuils d\\'erreur')\n",
    "\n",
    "    plt.subplot(122)\n",
    "    plt.hist(df_predictions['ecart'], bins=50)\n",
    "    plt.title('Répartition globale des erreurs')\n",
    "\n",
    "    # comparaison de la distribution des erreurs, parti par parti\n",
    "    from scipy.stats import gaussian_kde\n",
    "    plt.figure(2, figsize=(15,4))\n",
    "    x_grid = np.arange(min(df_predictions['ecart']), max(df_predictions['ecart']), step=.01)\n",
    "    \n",
    "    nuances = {'FI': 'red','ECO': 'green', 'SOC': 'pink', 'RDG': 'grey', 'MDM': 'orange', 'UDI': 'yellow',\n",
    "               'LR': 'blue', 'DLF': 'darkblue', 'FN': 'black', 'REG': 'teal'}\n",
    "    for nuance in nuances:\n",
    "        n_pred = df_predictions[(df_predictions['nuance_groupe']==nuance)\n",
    "                                & ((df_predictions['qualif']=='E')\n",
    "                               | (df_predictions['qualif']=='O'))].shape[0]\n",
    "        n_reel = df_predictions[(df_predictions['nuance_groupe']==nuance)\n",
    "                                & ((df_predictions['second_tour']=='E')\n",
    "                               | (df_predictions['second_tour']=='O'))].shape[0]\n",
    "        print('{}: {} prédits | Réel {}'.format(nuance, n_pred, n_reel))\n",
    "        try: # cas où le parti n'est pas représenté à l'élection prédite\n",
    "            pdf = gaussian_kde(df_predictions['ecart'][df_predictions['nuance_groupe']==nuance],\n",
    "                               bw_method=.9).evaluate(x_grid)\n",
    "            plt.plot(x_grid, pdf, color=nuances[nuance], label=nuance, lw=2)\n",
    "        except:\n",
    "            pass\n",
    "\n",
    "    plt.title('Répartition des erreurs selon le parti')\n",
    "    plt.legend(loc='best')\n",
    "\n",
    "    n_correct = np.sum(df_predictions.second_tour == df_predictions.qualif)\n",
    "    print('\\n{} prédictions correctes sur {} (soit {:.1f}%)'.format(n_correct, n, 100 * n_correct / n))\n",
    "\n",
    "    print('\\nMatrice de confusion. En colonne les classes prédites, en ligne les classes réelles.')\n",
    "    cm = confusion_matrix(df_predictions.second_tour, df_predictions.qualif, labels=['E', 'O', 'N'])\n",
    "    print(cm)\n",
    "\n",
    "    f1_E = f1_score(df_predictions.second_tour, df_predictions.qualif, labels='E', average='micro')\n",
    "    print('Score F1 pour la classe E : {:.1f}%'.format(f1_E * 100))\n",
    "    f1_O = f1_score(df_predictions.second_tour, df_predictions.qualif, labels='O', average='micro')\n",
    "    print('Score F1 pour la classe O : {:.1f}%'.format(f1_O * 100))\n",
    "    f1_N = f1_score(df_predictions.second_tour, df_predictions.qualif, labels='N', average='micro')\n",
    "    print('Score F1 pour la classe N : {:.1f}%'.format(f1_N * 100))\n",
    "    plt.show()\n",
    "    \n",
    "    return"
   ]
  },
  {
   "cell_type": "markdown",
   "metadata": {},
   "source": [
    "### Choix des paramètres"
   ]
  },
  {
   "cell_type": "code",
   "execution_count": 76,
   "metadata": {
    "collapsed": true
   },
   "outputs": [],
   "source": [
    "# Sélection des features\n",
    "keep_list = ['geo_frontalier', 'geo_dom', 'geo_idf',\n",
    "    'part_impose', \n",
    "    'chom_tot',\n",
    "    'revenus_q1', 'revenus_med', 'revenus_q3', 'ecart_revenus',\n",
    "    'chom_jeunes', 'chom_adultes', 'chom_seniors',\n",
    "    'p_agri', 'p_commercants', 'p_cadres', 'p_intermed', 'p_employes',\n",
    "    'p_ouvriers', 'd_brevet', 'd_bep', 'd_bac', 'd_sup'\n",
    "    'circo_leg_meme_nuance', 'circo_pres_meme_nuance', 'circo_meme_nuance_president',\n",
    "    'nb_candidats_meme_bloc',\n",
    "    'nb_candidats_circo',\n",
    "    'score_nuance_groupe_pres', 'score_bloc_pres',\n",
    "    'score_candidat_prec_leg_ins',\n",
    "    'score_candidat_prec_leg_expr',\n",
    "    'score_candidat_prec_leg_cat',\n",
    "    'score_nuance_groupe_prec_leg', #(un peu mauvais)\n",
    "    'score_bloc_prec_leg', #(mauvais pour le score)\n",
    "    #'nuance_groupe',\n",
    "    'taux_vote_pres', 'taux_vote_leg',\n",
    "    'depute_sortant', 'ancien_depute', 'au_gouvernement', 'ancien_ministre', 'membre_majorite',\n",
    "    'nb_acces_second_tour',\n",
    "    'sexe', 'dep', 'circo'\n",
    "]\n",
    "\n",
    "scaler = MinMaxScaler()\n",
    "#scaler = StandardScaler()\n",
    "\n",
    "# Prédire les score en % des voix exprimées ou % des inscrits sur les listes électorales\n",
    "target_values = 'p_exprimes' # 'p_inscrits'\n",
    "target_year = 2012\n",
    "\n",
    "# Taux par lequel on multiplie les score à la législative précédente qui étaient à la base des N/A\n",
    "penalty = .9\n",
    "\n",
    "# si 'O' : on note les potentiels qualifiés dès le 1er tour mais on indique aussi le candidat arrivé 2ème\n",
    "# si 'E' : si un candidat est classé 'E', ses concurrents sont automatiquement tous classés 'N'\n",
    "strategy = 'O' "
   ]
  },
  {
   "cell_type": "code",
   "execution_count": 109,
   "metadata": {
    "collapsed": false
   },
   "outputs": [
    {
     "name": "stdout",
     "output_type": "stream",
     "text": [
      "Format du dataframe : (26150, 47)\n",
      "an                                 0\n",
      "dep                                0\n",
      "circo                              0\n",
      "geo_frontalier                     0\n",
      "geo_dom                            0\n",
      "geo_idf                            0\n",
      "part_impose                        0\n",
      "revenus_q1                         0\n",
      "revenus_med                        0\n",
      "revenus_q3                         0\n",
      "ecart_revenus                      0\n",
      "chom_tot                           0\n",
      "chom_jeunes                        0\n",
      "chom_adultes                       0\n",
      "chom_seniors                       0\n",
      "p_agri                             0\n",
      "p_commercants                      0\n",
      "p_cadres                           0\n",
      "p_intermed                         0\n",
      "p_employes                         0\n",
      "p_ouvriers                         0\n",
      "d_brevet                           0\n",
      "d_bep                              0\n",
      "d_bac                              0\n",
      "score_nuance_groupe_prec_leg       0\n",
      "score_bloc_prec_leg                0\n",
      "taux_vote_leg                      0\n",
      "circo_pres_meme_nuance             0\n",
      "circo_meme_nuance_president        0\n",
      "score_nuance_groupe_pres           0\n",
      "score_bloc_pres                    0\n",
      "taux_vote_pres                     0\n",
      "score_candidat_prec_leg_ins        0\n",
      "score_candidat_prec_leg_expr       0\n",
      "depute_sortant                     0\n",
      "ancien_depute                      0\n",
      "au_gouvernement                    0\n",
      "ancien_ministre                    0\n",
      "membre_majorite                    0\n",
      "nb_acces_second_tour               0\n",
      "nb_candidats_meme_bloc             0\n",
      "nb_candidats_circo                 0\n",
      "sexe                               0\n",
      "nuance_groupe                      0\n",
      "p_inscrits                      6338\n",
      "p_exprimes                      6338\n",
      "score_candidat_prec_leg_cat        0\n",
      "dtype: int64\n",
      "Variables à normaliser ['part_impose', 'revenus_q1', 'revenus_med', 'revenus_q3', 'ecart_revenus', 'chom_tot', 'chom_jeunes', 'chom_adultes', 'chom_seniors', 'p_agri', 'p_commercants', 'p_cadres', 'p_intermed', 'p_employes', 'p_ouvriers', 'd_brevet', 'd_bep', 'd_bac', 'score_nuance_groupe_prec_leg', 'score_bloc_prec_leg', 'taux_vote_leg', 'score_nuance_groupe_pres', 'score_bloc_pres', 'taux_vote_pres', 'nb_acces_second_tour', 'nb_candidats_meme_bloc', 'nb_candidats_circo']\n",
      "Format des ensembles de train et de validation :\n",
      "(13788, 166) (6024, 166)\n"
     ]
    }
   ],
   "source": [
    "df = generate_df(raw, keep_list, penalty=penalty)\n",
    "X_train, X_val, y_train, y_val = train_val_splits(df, target_year, target_values, scaler)"
   ]
  },
  {
   "cell_type": "code",
   "execution_count": 110,
   "metadata": {
    "collapsed": false
   },
   "outputs": [
    {
     "data": {
      "text/html": [
       "<div>\n",
       "<table border=\"1\" class=\"dataframe\">\n",
       "  <thead>\n",
       "    <tr style=\"text-align: right;\">\n",
       "      <th></th>\n",
       "      <th>circo</th>\n",
       "      <th>geo_frontalier</th>\n",
       "      <th>geo_dom</th>\n",
       "      <th>geo_idf</th>\n",
       "      <th>part_impose</th>\n",
       "      <th>revenus_q1</th>\n",
       "      <th>revenus_med</th>\n",
       "      <th>revenus_q3</th>\n",
       "      <th>ecart_revenus</th>\n",
       "      <th>chom_tot</th>\n",
       "      <th>...</th>\n",
       "      <th>nuance_groupe_RDG</th>\n",
       "      <th>nuance_groupe_REG</th>\n",
       "      <th>nuance_groupe_REM</th>\n",
       "      <th>nuance_groupe_SOC</th>\n",
       "      <th>nuance_groupe_UDI</th>\n",
       "      <th>score_candidat_prec_leg_cat_A</th>\n",
       "      <th>score_candidat_prec_leg_cat_B</th>\n",
       "      <th>score_candidat_prec_leg_cat_C</th>\n",
       "      <th>score_candidat_prec_leg_cat_D</th>\n",
       "      <th>score_candidat_prec_leg_cat_E</th>\n",
       "    </tr>\n",
       "  </thead>\n",
       "  <tbody>\n",
       "    <tr>\n",
       "      <th>14488</th>\n",
       "      <td>1</td>\n",
       "      <td>1</td>\n",
       "      <td>0</td>\n",
       "      <td>0</td>\n",
       "      <td>0.546669</td>\n",
       "      <td>0.512791</td>\n",
       "      <td>0.363924</td>\n",
       "      <td>0.236599</td>\n",
       "      <td>0.177559</td>\n",
       "      <td>0.061475</td>\n",
       "      <td>...</td>\n",
       "      <td>0</td>\n",
       "      <td>0</td>\n",
       "      <td>0</td>\n",
       "      <td>0</td>\n",
       "      <td>0</td>\n",
       "      <td>0</td>\n",
       "      <td>1</td>\n",
       "      <td>0</td>\n",
       "      <td>0</td>\n",
       "      <td>0</td>\n",
       "    </tr>\n",
       "    <tr>\n",
       "      <th>14489</th>\n",
       "      <td>1</td>\n",
       "      <td>1</td>\n",
       "      <td>0</td>\n",
       "      <td>0</td>\n",
       "      <td>0.546669</td>\n",
       "      <td>0.512791</td>\n",
       "      <td>0.363924</td>\n",
       "      <td>0.236599</td>\n",
       "      <td>0.177559</td>\n",
       "      <td>0.061475</td>\n",
       "      <td>...</td>\n",
       "      <td>0</td>\n",
       "      <td>0</td>\n",
       "      <td>0</td>\n",
       "      <td>0</td>\n",
       "      <td>0</td>\n",
       "      <td>0</td>\n",
       "      <td>0</td>\n",
       "      <td>0</td>\n",
       "      <td>0</td>\n",
       "      <td>1</td>\n",
       "    </tr>\n",
       "  </tbody>\n",
       "</table>\n",
       "<p>2 rows × 166 columns</p>\n",
       "</div>"
      ],
      "text/plain": [
       "       circo  geo_frontalier  geo_dom  geo_idf  part_impose  revenus_q1  \\\n",
       "14488      1               1        0        0     0.546669    0.512791   \n",
       "14489      1               1        0        0     0.546669    0.512791   \n",
       "\n",
       "       revenus_med  revenus_q3  ecart_revenus  chom_tot  \\\n",
       "14488     0.363924    0.236599       0.177559  0.061475   \n",
       "14489     0.363924    0.236599       0.177559  0.061475   \n",
       "\n",
       "                   ...                nuance_groupe_RDG  nuance_groupe_REG  \\\n",
       "14488              ...                                0                  0   \n",
       "14489              ...                                0                  0   \n",
       "\n",
       "       nuance_groupe_REM  nuance_groupe_SOC  nuance_groupe_UDI  \\\n",
       "14488                  0                  0                  0   \n",
       "14489                  0                  0                  0   \n",
       "\n",
       "       score_candidat_prec_leg_cat_A  score_candidat_prec_leg_cat_B  \\\n",
       "14488                              0                              1   \n",
       "14489                              0                              0   \n",
       "\n",
       "       score_candidat_prec_leg_cat_C  score_candidat_prec_leg_cat_D  \\\n",
       "14488                              0                              0   \n",
       "14489                              0                              0   \n",
       "\n",
       "       score_candidat_prec_leg_cat_E  \n",
       "14488                              0  \n",
       "14489                              1  \n",
       "\n",
       "[2 rows x 166 columns]"
      ]
     },
     "execution_count": 110,
     "metadata": {},
     "output_type": "execute_result"
    }
   ],
   "source": [
    "X_train.head(2)"
   ]
  },
  {
   "cell_type": "code",
   "execution_count": 104,
   "metadata": {
    "collapsed": false
   },
   "outputs": [],
   "source": [
    "departs = pd.DataFrame()\n",
    "for col in X_train:\n",
    "    if \"dep_\" in col:\n",
    "        departs = pd.concat([departs, X_train[col]], axis=1)\n",
    "        X_train.drop(col, axis=1, inplace=True)"
   ]
  },
  {
   "cell_type": "code",
   "execution_count": null,
   "metadata": {
    "collapsed": true
   },
   "outputs": [],
   "source": [
    "for col in X_val:\n",
    "    if \"dep_\" in col:\n",
    "        "
   ]
  },
  {
   "cell_type": "code",
   "execution_count": 108,
   "metadata": {
    "collapsed": false
   },
   "outputs": [],
   "source": [
    "from sklearn.decomposition import NMF, LatentDirichletAllocation, PCA\n",
    "\n",
    "model = NMF(n_components=10, init='random', random_state=0)\n",
    "model = PCA(n_components=10)\n",
    "new_departs = pd.DataFrame(model.fit_transform(departs))"
   ]
  },
  {
   "cell_type": "code",
   "execution_count": null,
   "metadata": {
    "collapsed": true
   },
   "outputs": [],
   "source": [
    "X_train = pd.concat([X_train, new_departs], axis=1)\n",
    "X_val = pd.concat([X_val, new_departs], axis=1)"
   ]
  },
  {
   "cell_type": "markdown",
   "metadata": {},
   "source": [
    "### Choix de modèle"
   ]
  },
  {
   "cell_type": "code",
   "execution_count": 61,
   "metadata": {
    "collapsed": true
   },
   "outputs": [],
   "source": [
    "X_train.drop(\"score_candidat_prec_leg_expr\", axis=1, inplace=True)\n",
    "X_val.drop(\"score_candidat_prec_leg_expr\", axis=1, inplace=True)"
   ]
  },
  {
   "cell_type": "code",
   "execution_count": 62,
   "metadata": {
    "collapsed": false,
    "deletable": true,
    "editable": true,
    "scrolled": true
   },
   "outputs": [
    {
     "data": {
      "text/plain": [
       "[(0.28377290090145213, 'ancien_depute'),\n",
       " (0.20803612378979008, 'nb_acces_second_tour'),\n",
       " (0.1584946441636764, 'score_nuance_groupe_pres'),\n",
       " (0.065200706281503429, 'nuance_groupe_LR'),\n",
       " (0.060375927068339295, 'membre_majorite'),\n",
       " (0.058381444431438528, 'nuance_groupe_SOC'),\n",
       " (0.025212194549641954, 'score_bloc_pres'),\n",
       " (0.019996102882489319, 'depute_sortant'),\n",
       " (0.0081239261750478478, 'nuance_groupe_RDG'),\n",
       " (0.0065703888274715981, 'nb_candidats_circo'),\n",
       " (0.006130056891024918, 'nuance_groupe_MDM'),\n",
       " (0.0058101867951576135, 'nb_candidats_meme_bloc'),\n",
       " (0.0052717965419901754, 'circo_pres_meme_nuance'),\n",
       " (0.0050119750387439812, 'ecart_revenus'),\n",
       " (0.0047547121291279778, 'revenus_q1'),\n",
       " (0.0046704837996070217, 'd_bac'),\n",
       " (0.0044940983790507354, 'd_brevet'),\n",
       " (0.0043420472956503184, 'circo'),\n",
       " (0.0040049899721437852, 'part_impose'),\n",
       " (0.0035570171869628939, 'd_bep'),\n",
       " (0.0035090848476321801, 'p_commercants'),\n",
       " (0.0034979697059075842, 'revenus_q3'),\n",
       " (0.0033898475032903409, 'sexe_M'),\n",
       " (0.0032869242598775605, 'revenus_med'),\n",
       " (0.0031758302931531261, 'chom_jeunes'),\n",
       " (0.0030927519845982713, 'p_employes'),\n",
       " (0.0026735943520780638, 'chom_adultes'),\n",
       " (0.0024993544497912915, 'p_ouvriers'),\n",
       " (0.0024605983475613083, 'p_agri'),\n",
       " (0.0024145220391408092, 'chom_seniors'),\n",
       " (0.0023213185558525096, 'p_intermed'),\n",
       " (0.0021198810989888177, 'p_cadres'),\n",
       " (0.002020054950422187, 'chom_tot'),\n",
       " (0.0018165598271700078, 'nuance_groupe_EXD'),\n",
       " (0.0017757346705888847, 'nuance_groupe_FN'),\n",
       " (0.0013936085501408053, 'nuance_groupe_EXG'),\n",
       " (0.0012404707130267169, 'nuance_groupe_DVD'),\n",
       " (0.00095969496678262355, 'nuance_groupe_DVG'),\n",
       " (0.00091261030174941431, 'nuance_groupe_ECO'),\n",
       " (0.00047768860822070507, 'dep_VENDEE'),\n",
       " (0.00044348179114776716, 'dep_EURE-ET-LOIR'),\n",
       " (0.00040910996325247415, 'dep_HAUTS-DE-SEINE'),\n",
       " (0.00039359209854553741, 'dep_EURE'),\n",
       " (0.000353035333177851, 'dep_GIRONDE'),\n",
       " (0.00032602724643864889, 'dep_BAS-RHIN'),\n",
       " (0.00031749868421929254, 'dep_SOMME'),\n",
       " (0.0003161249784617451, 'dep_CALVADOS'),\n",
       " (0.00029995104700099344, 'dep_HAUT-RHIN'),\n",
       " (0.00029129741645138253, 'dep_ISERE'),\n",
       " (0.00029069046077911058, 'geo_frontalier'),\n",
       " (0.00028474403500215154, 'dep_NORD'),\n",
       " (0.00026001253257646449, 'dep_VAL-DE-MARNE'),\n",
       " (0.00025232537636566804, 'dep_MARNE'),\n",
       " (0.0002425527827644077, 'nuance_groupe_REG'),\n",
       " (0.00024181652104783395, 'dep_ALLIER'),\n",
       " (0.00022796661408582526, 'dep_JURA'),\n",
       " (0.00021997784946467823, 'dep_SEINE-MARITIME'),\n",
       " (0.00021900711533466013, 'dep_MANCHE'),\n",
       " (0.00020773744906027816, 'dep_ALPES-MARITIMES'),\n",
       " (0.00020735787481882979, 'dep_HAUTE-LOIRE'),\n",
       " (0.00019442819751819772, 'ancien_ministre'),\n",
       " (0.00019006480641964023, 'dep_PUY-DE-DOME'),\n",
       " (0.00018672491277135905, 'dep_LOIRE'),\n",
       " (0.00018472706906633523, 'dep_LOIRE-ATLANTIQUE'),\n",
       " (0.00018200335418709675, 'dep_CHARENTE'),\n",
       " (0.0001819752427753403, 'dep_LOIR-ET-CHER'),\n",
       " (0.00018069952007271163, 'dep_SAONE-ET-LOIRE'),\n",
       " (0.00017877370890031862, \"dep_COTE-D'OR\"),\n",
       " (0.00017546520961159, 'dep_TARN'),\n",
       " (0.00016420409746450152, 'au_gouvernement'),\n",
       " (0.00015976503155308938, 'dep_LOIRET'),\n",
       " (0.00015351303378676327, 'dep_POLYNESIE-FRANCAISE'),\n",
       " (0.00015216274817441057, 'dep_MEURTHE-ET-MOSELLE'),\n",
       " (0.0001512443974811485, 'dep_NOUVELLE-CALEDONIE'),\n",
       " (0.00014692303639857261, 'dep_MAYOTTE'),\n",
       " (0.00013995405012922013, 'dep_MARTINIQUE'),\n",
       " (0.00013930323235258516, 'dep_RHONE'),\n",
       " (0.00013586462933476429, 'dep_AUBE'),\n",
       " (0.00013560504776966093, 'dep_MORBIHAN'),\n",
       " (0.00013090026414479955, 'dep_OISE'),\n",
       " (0.0001284431013433999, \"dep_VAL-D'OISE\"),\n",
       " (0.00012806833707333372, 'dep_SEINE-SAINT-DENIS'),\n",
       " (0.00012581561580919819, 'dep_LOT'),\n",
       " (0.00012126849215827533, 'dep_HAUTE-SAVOIE'),\n",
       " (0.00012063040820495748, 'dep_BOUCHES-DU-RHONE'),\n",
       " (0.00011850359112667788, 'dep_MOSELLE'),\n",
       " (0.0001169015137383476, 'dep_ILLE-ET-VILAINE'),\n",
       " (0.00011650625798087951, 'dep_DROME'),\n",
       " (0.00010673020981446356, 'dep_YVELINES'),\n",
       " (0.00010616724515698988, 'dep_PAS-DE-CALAIS'),\n",
       " (0.00010518808905370523, 'dep_FINISTERE'),\n",
       " (0.0001032940417338735, 'dep_CHER'),\n",
       " (0.00010136964211393209, 'dep_SEINE-ET-MARNE'),\n",
       " (9.5096951479552155e-05, 'dep_ARDECHE'),\n",
       " (9.4569940200091049e-05, 'dep_GUADELOUPE'),\n",
       " (9.2309415425482453e-05, 'dep_INDRE'),\n",
       " (8.9550167231560856e-05, 'dep_CORSE-DU-SUD'),\n",
       " (8.2462345375021332e-05, 'dep_DEUX-SEVRES'),\n",
       " (8.0182111441439965e-05, 'dep_SAINT-PIERRE-ET-MIQUELON'),\n",
       " (7.6560179773664432e-05, 'dep_VAUCLUSE'),\n",
       " (7.534855542603276e-05, 'dep_INDRE-ET-LOIRE'),\n",
       " (7.3088400682154626e-05, 'dep_TERRITOIRE-DE-BELFORT'),\n",
       " (6.7719733996728909e-05, 'dep_DORDOGNE'),\n",
       " (6.5416050252149174e-05, 'dep_HAUTE-VIENNE'),\n",
       " (5.6430487084749914e-05, 'geo_idf'),\n",
       " (5.5751928772666213e-05, 'dep_VAR'),\n",
       " (5.4374790292231292e-05, 'dep_PYRENEES-ATLANTIQUES'),\n",
       " (5.3857832020733556e-05, 'geo_dom'),\n",
       " (5.0144122205667142e-05, 'dep_DOUBS'),\n",
       " (4.9728106305679898e-05, 'dep_LOZERE'),\n",
       " (4.9515104299736195e-05, 'dep_HAUTE-MARNE'),\n",
       " (4.9387595311841801e-05, 'dep_YONNE'),\n",
       " (4.8823857744507077e-05, 'dep_AUDE'),\n",
       " (4.7293806882697155e-05, 'dep_AISNE'),\n",
       " (4.2193934442273844e-05, 'dep_AVEYRON'),\n",
       " (3.9547390082527409e-05, 'dep_HAUTE-CORSE'),\n",
       " (3.9302823891166002e-05, 'dep_MEUSE'),\n",
       " (3.6909584783120225e-05, 'dep_VIENNE'),\n",
       " (3.6622521890269305e-05, \"dep_COTES-D'ARMOR\"),\n",
       " (3.5941251931262229e-05, 'dep_MAINE-ET-LOIRE'),\n",
       " (3.4285515256881684e-05, 'dep_MAYENNE'),\n",
       " (3.4004040800406471e-05, 'dep_LA-REUNION'),\n",
       " (3.351481958008337e-05, 'dep_PYRENEES-ORIENTALES'),\n",
       " (3.1414953363716173e-05, 'dep_HAUTE-GARONNE'),\n",
       " (3.0552525625269975e-05, 'dep_WALLIS-ET-FUTUNA'),\n",
       " (3.0205629681244049e-05, 'dep_PARIS'),\n",
       " (2.9084752075293181e-05, 'dep_HERAULT'),\n",
       " (2.4340353212593824e-05, 'dep_HAUTES-ALPES'),\n",
       " (2.2489096710406672e-05, 'dep_ESSONNE'),\n",
       " (2.2430730643725112e-05, 'dep_TARN-ET-GARONNE'),\n",
       " (2.2429053536277057e-05, 'dep_VOSGES'),\n",
       " (2.174958236429938e-05, 'dep_ORNE'),\n",
       " (1.9441072548489743e-05, 'dep_SARTHE'),\n",
       " (1.7475102025754068e-05, 'dep_LOT-ET-GARONNE'),\n",
       " (1.7307537676628605e-05, 'dep_ARDENNES'),\n",
       " (1.6914471453153024e-05, 'nuance_groupe_DLF'),\n",
       " (1.6413734971312008e-05, 'dep_CANTAL'),\n",
       " (1.561949630729897e-05, 'dep_ARIEGE'),\n",
       " (1.3780799459160627e-05, 'dep_CHARENTE-MARITIME'),\n",
       " (1.2685388259431802e-05, 'dep_GARD'),\n",
       " (1.2007799201341274e-05, 'dep_LANDES'),\n",
       " (1.0678191012707511e-05, 'dep_GERS'),\n",
       " (1.0155031866018632e-05, 'dep_HAUTE-SAONE'),\n",
       " (9.8590867884057941e-06, 'dep_ALPES-DE-HAUTE-PROVENCE'),\n",
       " (8.1191319761412121e-06, 'dep_GUYANE'),\n",
       " (7.2785765369555663e-06, 'dep_NIEVRE'),\n",
       " (5.4302213543381155e-06, 'dep_SAVOIE'),\n",
       " (5.1731417515740817e-06, 'dep_CORREZE'),\n",
       " (5.1335896885644536e-06, 'dep_CREUSE'),\n",
       " (4.5791535486122021e-06, 'dep_HAUTES-PYRENEES'),\n",
       " (0.0, 'nuance_groupe_UDI'),\n",
       " (0.0, 'nuance_groupe_REM'),\n",
       " (0.0, 'nuance_groupe_FI'),\n",
       " (0.0, 'dep_SAINT-MARTIN/SAINT-BARTHELEMY'),\n",
       " (0.0, 'circo_meme_nuance_president')]"
      ]
     },
     "execution_count": 62,
     "metadata": {},
     "output_type": "execute_result"
    }
   ],
   "source": [
    "from sklearn.ensemble import RandomForestRegressor\n",
    "#rf = make_pipeline(PCA(), RandomForestRegressor(n_jobs=-1, n_estimators=100))\n",
    "rf = RandomForestRegressor(n_jobs=-1, n_estimators=100)\n",
    "rf.fit(X_train, y_train)\n",
    "y_pred_rf = rf.predict(X_val)\n",
    "sorted(list(zip(rf.feature_importances_, X_train.columns)), reverse=True)"
   ]
  },
  {
   "cell_type": "code",
   "execution_count": 72,
   "metadata": {
    "collapsed": false
   },
   "outputs": [],
   "source": [
    "sfm = SelectFromModel(estimator=rf, prefit=True, threshold=0.001)\n",
    "temp_tr = sfm.transform(X_train)\n",
    "temp_te = sfm.transform(X_val)"
   ]
  },
  {
   "cell_type": "code",
   "execution_count": 73,
   "metadata": {
    "collapsed": false
   },
   "outputs": [
    {
     "data": {
      "text/plain": [
       "(13788, 37)"
      ]
     },
     "execution_count": 73,
     "metadata": {},
     "output_type": "execute_result"
    }
   ],
   "source": [
    "temp_tr.shape"
   ]
  },
  {
   "cell_type": "code",
   "execution_count": 102,
   "metadata": {
    "collapsed": false
   },
   "outputs": [
    {
     "data": {
      "text/plain": [
       "0.04160058649923222"
      ]
     },
     "execution_count": 102,
     "metadata": {},
     "output_type": "execute_result"
    }
   ],
   "source": [
    "from xgboost import XGBRegressor\n",
    "from sklearn.feature_selection import SelectFromModel\n",
    "clf = XGBRegressor()\n",
    "clf.fit(temp_tr, y_train)\n",
    "mean_absolute_error(clf.predict(temp_te), y_val)"
   ]
  },
  {
   "cell_type": "code",
   "execution_count": 75,
   "metadata": {
    "collapsed": false
   },
   "outputs": [
    {
     "name": "stdout",
     "output_type": "stream",
     "text": [
      "Prédictions pour 6024 candidats.\n",
      "La MAE est : 3.82%\n",
      "La plus grosse erreur est : 44.73%\n",
      "Le score r2 est : 0.79\n",
      "UDI: 31 prédits | Réel 45\n",
      "SOC: 460 prédits | Réel 427\n",
      "ECO: 8 prédits | Réel 44\n",
      "RDG: 31 prédits | Réel 28\n",
      "MDM: 19 prédits | Réel 12\n",
      "DLF: 1 prédits | Réel 1\n",
      "FI: 27 prédits | Réel 12\n",
      "FN: 94 prédits | Réel 59\n",
      "REG: 1 prédits | Réel 4\n",
      "LR: 422 prédits | Réel 422\n",
      "\n",
      "5556 prédictions correctes sur 6024 (soit 92.2%)\n",
      "\n",
      "Matrice de confusion. En colonne les classes prédites, en ligne les classes réelles.\n",
      "[[  21   15    0]\n",
      " [  91  816  172]\n",
      " [   0  190 4719]]\n",
      "Score F1 pour la classe E : 28.4%\n",
      "Score F1 pour la classe O : 77.7%\n",
      "Score F1 pour la classe N : 96.3%\n"
     ]
    },
    {
     "data": {
      "image/png": "[encoded data removed]",
      "text/plain": [
       "<matplotlib.figure.Figure at 0x2dc094d5358>"
      ]
     },
     "metadata": {},
     "output_type": "display_data"
    },
    {
     "data": {
      "image/png": "[encoded data removed]",
      "text/plain": [
       "<matplotlib.figure.Figure at 0x2dc0a048908>"
      ]
     },
     "metadata": {},
     "output_type": "display_data"
    }
   ],
   "source": [
    "df_predictions = get_classif(clf.predict(temp_te), y_val, df_id, target_values, strategy)\n",
    "analyze_predictions(df_predictions, target_values)"
   ]
  },
  {
   "cell_type": "code",
   "execution_count": 54,
   "metadata": {
    "collapsed": false
   },
   "outputs": [
    {
     "ename": "NameError",
     "evalue": "name 'RandomizedSearchCV' is not defined",
     "output_type": "error",
     "traceback": [
      "\u001b[0;31m---------------------------------------------------------------------------\u001b[0m",
      "\u001b[0;31mNameError\u001b[0m                                 Traceback (most recent call last)",
      "\u001b[0;32m<ipython-input-54-bc4b0ebd16c5>\u001b[0m in \u001b[0;36m<module>\u001b[0;34m()\u001b[0m\n\u001b[1;32m      9\u001b[0m              }\n\u001b[1;32m     10\u001b[0m \u001b[1;33m\u001b[0m\u001b[0m\n\u001b[0;32m---> 11\u001b[0;31m \u001b[0mrs\u001b[0m \u001b[1;33m=\u001b[0m \u001b[0mRandomizedSearchCV\u001b[0m\u001b[1;33m(\u001b[0m\u001b[0mclf\u001b[0m\u001b[1;33m,\u001b[0m \u001b[0mparam_grid\u001b[0m\u001b[1;33m,\u001b[0m \u001b[0mcv\u001b[0m\u001b[1;33m=\u001b[0m\u001b[1;36m3\u001b[0m\u001b[1;33m,\u001b[0m \u001b[0mn_jobs\u001b[0m\u001b[1;33m=\u001b[0m\u001b[1;33m-\u001b[0m\u001b[1;36m1\u001b[0m\u001b[1;33m)\u001b[0m\u001b[1;33m\u001b[0m\u001b[0m\n\u001b[0m\u001b[1;32m     12\u001b[0m \u001b[0mrs\u001b[0m\u001b[1;33m.\u001b[0m\u001b[0mfit\u001b[0m\u001b[1;33m(\u001b[0m\u001b[0mX_train\u001b[0m\u001b[1;33m,\u001b[0m \u001b[0my_train\u001b[0m\u001b[1;33m)\u001b[0m\u001b[1;33m\u001b[0m\u001b[0m\n\u001b[1;32m     13\u001b[0m \u001b[0mclf\u001b[0m \u001b[1;33m=\u001b[0m \u001b[0mrs\u001b[0m\u001b[1;33m.\u001b[0m\u001b[0mbest_estimator_\u001b[0m\u001b[1;33m\u001b[0m\u001b[0m\n",
      "\u001b[0;31mNameError\u001b[0m: name 'RandomizedSearchCV' is not defined"
     ]
    }
   ],
   "source": [
    "from xgboost import XGBRegressor\n",
    "clf = XGBRegressor()\n",
    "param_grid = {'n_estimators': [75, 100, 125], #140, 150, 160: 160\n",
    "              'max_depth' : [2, 3, 5], #70\n",
    "              \"learning_rate\" : [0.01, 0.1, 0.2], #0.05, 0.1, 0.2 : 0.05\n",
    "              'min_child_weight' : [1], #4,5,6 :4\n",
    "              'reg_alpha' : [0, 1, 2], #8, 10, 12 : 8\n",
    "              'reg_lambda' : [0, 1, 2] #0.7\n",
    "             }\n",
    "\n",
    "rs = RandomizedSearchCV(clf, param_grid, cv=3, n_jobs=-1)\n",
    "rs.fit(X_train, y_train)\n",
    "clf = rs.best_estimator_\n",
    "clf.fit(X_train, y_train)\n",
    "mean_absolute_error(clf.predict(X_val), y_val)"
   ]
  },
  {
   "cell_type": "code",
   "execution_count": 114,
   "metadata": {
    "collapsed": false
   },
   "outputs": [
    {
     "name": "stdout",
     "output_type": "stream",
     "text": [
      "2 voisins : 4.24%\n",
      "3 voisins : 4.15%\n",
      "4 voisins : 4.10%\n",
      "5 voisins : 4.08%\n",
      "6 voisins : 4.07%\n",
      "7 voisins : 4.07%\n",
      "8 voisins : 4.08%\n",
      "9 voisins : 4.07%\n"
     ]
    }
   ],
   "source": [
    "from sklearn.neighbors import KNeighborsRegressor\n",
    "for i in range(2, 10):\n",
    "    reg = KNeighborsRegressor(n_neighbors=i, weights='distance', n_jobs=-1)\n",
    "    reg.fit(X_train, y_train)\n",
    "    y_pred_knn = reg.predict(X_val)\n",
    "    print('{} voisins : {:.2f}%'.format(i, 100 * mean_absolute_error(y_pred_knn, y_val)))"
   ]
  },
  {
   "cell_type": "code",
   "execution_count": 113,
   "metadata": {
    "collapsed": true
   },
   "outputs": [
    {
     "name": "stdout",
     "output_type": "stream",
     "text": [
      "Iteration 1, loss = 0.00457414\n",
      "Iteration 2, loss = 0.00169241\n",
      "Iteration 3, loss = 0.00152204\n",
      "Iteration 4, loss = 0.00141352\n",
      "Iteration 5, loss = 0.00137680\n",
      "Iteration 6, loss = 0.00135020\n",
      "Iteration 7, loss = 0.00131340\n",
      "Iteration 8, loss = 0.00130961\n",
      "Iteration 9, loss = 0.00126736\n",
      "Iteration 10, loss = 0.00124564\n",
      "Iteration 11, loss = 0.00122990\n",
      "Iteration 12, loss = 0.00121588\n",
      "Iteration 13, loss = 0.00120728\n",
      "Iteration 14, loss = 0.00118153\n",
      "Iteration 15, loss = 0.00116624\n",
      "Iteration 16, loss = 0.00118420\n",
      "Iteration 17, loss = 0.00114190\n",
      "Iteration 18, loss = 0.00113332\n",
      "Iteration 19, loss = 0.00112285\n",
      "Iteration 20, loss = 0.00113220\n",
      "Iteration 21, loss = 0.00112210\n",
      "Iteration 22, loss = 0.00111203\n",
      "Iteration 23, loss = 0.00111572\n",
      "Iteration 24, loss = 0.00110977\n",
      "Iteration 25, loss = 0.00109530\n",
      "Iteration 26, loss = 0.00107218\n",
      "Iteration 27, loss = 0.00106464\n",
      "Iteration 28, loss = 0.00106463\n",
      "Iteration 29, loss = 0.00104396\n",
      "Iteration 30, loss = 0.00104777\n",
      "Iteration 31, loss = 0.00103171\n",
      "Iteration 32, loss = 0.00102574\n",
      "Iteration 33, loss = 0.00103361\n",
      "Iteration 34, loss = 0.00103042\n",
      "Iteration 35, loss = 0.00102732\n",
      "Training loss did not improve more than tol=0.000000 for two consecutive epochs. Stopping.\n"
     ]
    }
   ],
   "source": [
    "from sklearn.neural_network import MLPRegressor\n",
    "reg = MLPRegressor((80, 80, 80), activation='relu', solver='adam', alpha=1e-4, batch_size=200,\n",
    "                   learning_rate='constant', learning_rate_init=1e-3, max_iter=500, tol=1e-7, verbose=True,\n",
    "                  power_t=.5, early_stopping=False)\n",
    "reg.fit(X_train, y_train)\n",
    "y_pred_mlp = reg.predict(X_val)"
   ]
  },
  {
   "cell_type": "code",
   "execution_count": 115,
   "metadata": {
    "collapsed": false
   },
   "outputs": [],
   "source": [
    "# Mix des prédictions des modèles\n",
    "y_pred = np.mean(np.array([y_pred_rf,\n",
    "                           y_pred_knn,\n",
    "                          y_pred_mlp\n",
    "                          ]), axis=0)"
   ]
  },
  {
   "cell_type": "code",
   "execution_count": 116,
   "metadata": {
    "collapsed": false
   },
   "outputs": [
    {
     "name": "stdout",
     "output_type": "stream",
     "text": [
      "Prédictions pour 6024 candidats.\n",
      "La MAE est : 3.76%\n",
      "La plus grosse erreur est : 40.33%\n",
      "Le score r2 est : 0.77\n",
      "FN: 80 prédits | Réel 59\n",
      "RDG: 17 prédits | Réel 28\n",
      "FI: 24 prédits | Réel 12\n",
      "LR: 464 prédits | Réel 422\n",
      "MDM: 13 prédits | Réel 12\n",
      "UDI: 31 prédits | Réel 45\n",
      "SOC: 457 prédits | Réel 427\n",
      "REG: 1 prédits | Réel 4\n",
      "ECO: 13 prédits | Réel 44\n",
      "DLF: 1 prédits | Réel 1\n",
      "\n",
      "5545 prédictions correctes sur 6024 (soit 92.0%)\n",
      "\n",
      "Matrice de confusion. En colonne les classes prédites, en ligne les classes réelles.\n",
      "[[  22   14    0]\n",
      " [ 116  801  162]\n",
      " [   0  187 4722]]\n",
      "Score F1 pour la classe E : 25.3%\n",
      "Score F1 pour la classe O : 77.0%\n",
      "Score F1 pour la classe N : 96.4%\n"
     ]
    },
    {
     "data": {
      "image/png": "[encoded data removed]",
      "text/plain": [
       "<matplotlib.figure.Figure at 0x1e523f597b8>"
      ]
     },
     "metadata": {},
     "output_type": "display_data"
    },
    {
     "data": {
      "image/png": "[encoded data removed]",
      "text/plain": [
       "<matplotlib.figure.Figure at 0x1e51f1b1b00>"
      ]
     },
     "metadata": {},
     "output_type": "display_data"
    }
   ],
   "source": [
    "df_predictions = get_classif(y_pred_rf, y_val, df_id, target_values, strategy)\n",
    "analyze_predictions(df_predictions, target_values)"
   ]
  },
  {
   "cell_type": "code",
   "execution_count": 591,
   "metadata": {
    "collapsed": false
   },
   "outputs": [
    {
     "data": {
      "text/html": [
       "<div>\n",
       "<table border=\"1\" class=\"dataframe\">\n",
       "  <thead>\n",
       "    <tr style=\"text-align: right;\">\n",
       "      <th></th>\n",
       "      <th>an</th>\n",
       "      <th>dep</th>\n",
       "      <th>circo</th>\n",
       "      <th>code</th>\n",
       "      <th>nom</th>\n",
       "      <th>prenom</th>\n",
       "      <th>nuance_groupe</th>\n",
       "      <th>taux_vote_leg</th>\n",
       "      <th>second_tour</th>\n",
       "      <th>p_exprimes</th>\n",
       "      <th>prediction</th>\n",
       "      <th>classement</th>\n",
       "      <th>qualif</th>\n",
       "      <th>ecart</th>\n",
       "    </tr>\n",
       "  </thead>\n",
       "  <tbody>\n",
       "    <tr>\n",
       "      <th>13113</th>\n",
       "      <td>2012</td>\n",
       "      <td>SAINT-PIERRE-ET-MIQUELON</td>\n",
       "      <td>1</td>\n",
       "      <td>975|1</td>\n",
       "      <td>GIRARDIN</td>\n",
       "      <td>ANNICK</td>\n",
       "      <td>RDG</td>\n",
       "      <td>0.5186</td>\n",
       "      <td>E</td>\n",
       "      <td>0.6552</td>\n",
       "      <td>0.096528</td>\n",
       "      <td>4</td>\n",
       "      <td>N</td>\n",
       "      <td>-0.558672</td>\n",
       "    </tr>\n",
       "    <tr>\n",
       "      <th>10982</th>\n",
       "      <td>2012</td>\n",
       "      <td>LA-REUNION</td>\n",
       "      <td>2</td>\n",
       "      <td>974|2</td>\n",
       "      <td>BELLO</td>\n",
       "      <td>HUGUETTE</td>\n",
       "      <td>DVG</td>\n",
       "      <td>0.4562</td>\n",
       "      <td>E</td>\n",
       "      <td>0.6712</td>\n",
       "      <td>0.221551</td>\n",
       "      <td>2</td>\n",
       "      <td>O</td>\n",
       "      <td>-0.449649</td>\n",
       "    </tr>\n",
       "    <tr>\n",
       "      <th>12340</th>\n",
       "      <td>2012</td>\n",
       "      <td>PARIS</td>\n",
       "      <td>6</td>\n",
       "      <td>75|6</td>\n",
       "      <td>DUFLOT</td>\n",
       "      <td>CECILE</td>\n",
       "      <td>ECO</td>\n",
       "      <td>0.5929</td>\n",
       "      <td>O</td>\n",
       "      <td>0.4874</td>\n",
       "      <td>0.064594</td>\n",
       "      <td>4</td>\n",
       "      <td>N</td>\n",
       "      <td>-0.422806</td>\n",
       "    </tr>\n",
       "  </tbody>\n",
       "</table>\n",
       "</div>"
      ],
      "text/plain": [
       "         an                       dep  circo   code       nom    prenom  \\\n",
       "13113  2012  SAINT-PIERRE-ET-MIQUELON      1  975|1  GIRARDIN    ANNICK   \n",
       "10982  2012                LA-REUNION      2  974|2     BELLO  HUGUETTE   \n",
       "12340  2012                     PARIS      6   75|6    DUFLOT    CECILE   \n",
       "\n",
       "      nuance_groupe  taux_vote_leg second_tour  p_exprimes  prediction  \\\n",
       "13113           RDG         0.5186           E      0.6552    0.096528   \n",
       "10982           DVG         0.4562           E      0.6712    0.221551   \n",
       "12340           ECO         0.5929           O      0.4874    0.064594   \n",
       "\n",
       "       classement qualif     ecart  \n",
       "13113           4      N -0.558672  \n",
       "10982           2      O -0.449649  \n",
       "12340           4      N -0.422806  "
      ]
     },
     "execution_count": 591,
     "metadata": {},
     "output_type": "execute_result"
    }
   ],
   "source": [
    "df_predictions.sort_values(by='ecart').head(3)"
   ]
  },
  {
   "cell_type": "code",
   "execution_count": 592,
   "metadata": {
    "collapsed": false
   },
   "outputs": [
    {
     "data": {
      "text/html": [
       "<div>\n",
       "<table border=\"1\" class=\"dataframe\">\n",
       "  <thead>\n",
       "    <tr style=\"text-align: right;\">\n",
       "      <th></th>\n",
       "      <th>an</th>\n",
       "      <th>dep</th>\n",
       "      <th>circo</th>\n",
       "      <th>code</th>\n",
       "      <th>nom</th>\n",
       "      <th>prenom</th>\n",
       "      <th>nuance_groupe</th>\n",
       "      <th>taux_vote_leg</th>\n",
       "      <th>second_tour</th>\n",
       "      <th>p_exprimes</th>\n",
       "      <th>prediction</th>\n",
       "      <th>classement</th>\n",
       "      <th>qualif</th>\n",
       "      <th>ecart</th>\n",
       "    </tr>\n",
       "  </thead>\n",
       "  <tbody>\n",
       "    <tr>\n",
       "      <th>8653</th>\n",
       "      <td>2012</td>\n",
       "      <td>CALVADOS</td>\n",
       "      <td>5</td>\n",
       "      <td>14|5</td>\n",
       "      <td>NOUVELOT</td>\n",
       "      <td>CEDRIC</td>\n",
       "      <td>LR</td>\n",
       "      <td>0.5970</td>\n",
       "      <td>O</td>\n",
       "      <td>0.2402</td>\n",
       "      <td>0.555583</td>\n",
       "      <td>1</td>\n",
       "      <td>E</td>\n",
       "      <td>0.315383</td>\n",
       "    </tr>\n",
       "    <tr>\n",
       "      <th>9452</th>\n",
       "      <td>2012</td>\n",
       "      <td>FRANCAIS-DE-L'ETRANGER</td>\n",
       "      <td>2</td>\n",
       "      <td>99|2</td>\n",
       "      <td>DROUHAUD</td>\n",
       "      <td>PASCAL</td>\n",
       "      <td>LR</td>\n",
       "      <td>0.1573</td>\n",
       "      <td>O</td>\n",
       "      <td>0.2276</td>\n",
       "      <td>0.548723</td>\n",
       "      <td>1</td>\n",
       "      <td>E</td>\n",
       "      <td>0.321123</td>\n",
       "    </tr>\n",
       "    <tr>\n",
       "      <th>13116</th>\n",
       "      <td>2012</td>\n",
       "      <td>SAINT-PIERRE-ET-MIQUELON</td>\n",
       "      <td>1</td>\n",
       "      <td>975|1</td>\n",
       "      <td>ZIMMERMANN</td>\n",
       "      <td>FRANCOIS</td>\n",
       "      <td>LR</td>\n",
       "      <td>0.5186</td>\n",
       "      <td>N</td>\n",
       "      <td>0.1132</td>\n",
       "      <td>0.442358</td>\n",
       "      <td>1</td>\n",
       "      <td>O</td>\n",
       "      <td>0.329158</td>\n",
       "    </tr>\n",
       "  </tbody>\n",
       "</table>\n",
       "</div>"
      ],
      "text/plain": [
       "         an                       dep  circo   code         nom    prenom  \\\n",
       "8653   2012                  CALVADOS      5   14|5    NOUVELOT    CEDRIC   \n",
       "9452   2012    FRANCAIS-DE-L'ETRANGER      2   99|2    DROUHAUD    PASCAL   \n",
       "13116  2012  SAINT-PIERRE-ET-MIQUELON      1  975|1  ZIMMERMANN  FRANCOIS   \n",
       "\n",
       "      nuance_groupe  taux_vote_leg second_tour  p_exprimes  prediction  \\\n",
       "8653             LR         0.5970           O      0.2402    0.555583   \n",
       "9452             LR         0.1573           O      0.2276    0.548723   \n",
       "13116            LR         0.5186           N      0.1132    0.442358   \n",
       "\n",
       "       classement qualif     ecart  \n",
       "8653            1      E  0.315383  \n",
       "9452            1      E  0.321123  \n",
       "13116           1      O  0.329158  "
      ]
     },
     "execution_count": 592,
     "metadata": {},
     "output_type": "execute_result"
    }
   ],
   "source": [
    "df_predictions.sort_values(by='ecart').tail(3)"
   ]
  },
  {
   "cell_type": "markdown",
   "metadata": {},
   "source": [
    "#### Save predictions"
   ]
  },
  {
   "cell_type": "code",
   "execution_count": 318,
   "metadata": {
    "collapsed": false
   },
   "outputs": [],
   "source": [
    "from datetime import datetime\n",
    "now = datetime.now()\n",
    "stamp = '{}_{}_{}h{}'.format(now.day, now.month, now.hour, now.minute)\n",
    "df_predictions.to_excel('predictions_du_{}.xlsx'.format(stamp))"
   ]
  },
  {
   "cell_type": "code",
   "execution_count": null,
   "metadata": {
    "collapsed": true
   },
   "outputs": [],
   "source": [
    "#todo : utiliser nuance et pas nuance groupe\n",
    "exportCsv = df_predictions[['code','prenom','nom','nuance_groupe','prediction','qualif']]\n",
    "exportCsv['code'] = exportCsv['code'].apply(str.lower)\n",
    "exportCsv['code'] = exportCsv['code'].apply(lambda x : x.replace('|', '-'))\n",
    "exportCsv['candidat'] = exportCsv['prenom'] + ' ' + exportCsv['nom']\n",
    "\n",
    "\n",
    "exportCsv1 = exportCsv[exportCsv['qualif'] == 'O']\n",
    "vainqueurs1er = exportCsv[exportCsv['qualif'] == 'E']\n",
    "\n",
    "exportCsv1 = exportCsv1.drop(['prenom','nom','qualif'], axis=1)\n",
    "exportCsv1 = exportCsv1.sort_values(['code', 'prediction'], ascending=[True, False])\n",
    "\n",
    "circos = exportCsv1['code'].unique()\n",
    "temp = pd.DataFrame()\n",
    "d = {}\n",
    "for c in circos:\n",
    "    temp = exportCsv1[exportCsv1['code'] == c]\n",
    "    l = []\n",
    "    for index, rows in temp.iterrows():\n",
    "        l.extend(rows[1:].values)\n",
    "    d[c] = l\n",
    "\n",
    "duels = {k: v for k, v in d.items() if len(v) < 7}\n",
    "triangulaires = {k: v for k, v in d.items() if len(v) > 6 and len(v) < 10}\n",
    "quadrangulaires = {k: v for k, v in d.items() if len(v) > 10}\n",
    "\n",
    "duels = pd.DataFrame(duels)\n",
    "duels.index = ['color1','score1','candidat1','color2','score2','candidat2']\n",
    "duels = duels.T\n",
    "#duels['color3'],duels['score3'],duels['candidat3'],duels['color4'],duels['score4'],duels['candidat4'] = '','','','','',''\n",
    "print(duels.head())\n",
    "\n",
    "triangulaires = pd.DataFrame(triangulaires)\n",
    "triangulaires.index = ['color1','score1','candidat1','color2','score2','candidat2','color3','score3','candidat3']\n",
    "triangulaires = triangulaires.T\n",
    "#triangulaires['color4'], triangulaires['score4'], triangulaires['candidat4'] = '','',''\n",
    "\n",
    "print(triangulaires.head())\n",
    "\n",
    "quadrangulaires = pd.DataFrame(quadrangulaires)\n",
    "quadrangulaires.index = ['color1','score1','candidat1','color2','score2','candidat2','color3',\n",
    "                         'score3','candidat3','color4','score4','candidat4']\n",
    "quadrangulaires = quadrangulaires.T\n",
    "print(quadrangulaires.head())\n",
    "\n",
    "vainqueurs1er.index = vainqueurs1er.code\n",
    "vainqueurs1er = vainqueurs1er.drop(['code','prenom','nom','qualif'], axis=1)\n",
    "vainqueurs1er['color1'], vainqueurs1er['score1'], vainqueurs1er['candidat1'] = vainqueurs1er.nuance_groupe,\\\n",
    "vainqueurs1er.prediction, vainqueurs1er.candidat\n",
    "vainqueurs1er = vainqueurs1er.drop(['nuance_groupe', 'prediction', 'candidat'], axis=1)\n",
    "print(vainqueurs1er.head())\n",
    "\n",
    "\n",
    "final = pd.concat([vainqueurs1er, duels, triangulaires, quadrangulaires])\n",
    "final = final.fillna(value='')\n",
    "final.index.name = 'circo'\n",
    "final['nom circo'] = 'Davy Champion'\n",
    "print(final.head())\n",
    "final.to_csv('dataviz/data/resultats1.csv', index=True)"
   ]
  }
 ],
 "metadata": {
  "anaconda-cloud": {},
  "kernelspec": {
   "display_name": "Python [default]",
   "language": "python",
   "name": "python3"
  },
  "language_info": {
   "codemirror_mode": {
    "name": "ipython",
    "version": 3
   },
   "file_extension": ".py",
   "mimetype": "text/x-python",
   "name": "python",
   "nbconvert_exporter": "python",
   "pygments_lexer": "ipython3",
   "version": "3.5.2"
  }
 },
 "nbformat": 4,
 "nbformat_minor": 1
}
