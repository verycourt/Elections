{
 "cells": [
  {
   "cell_type": "markdown",
   "metadata": {},
   "source": [
    "### To do\n",
    "- faire une PCA"
   ]
  },
  {
   "cell_type": "code",
   "execution_count": 1,
   "metadata": {
    "collapsed": true,
    "deletable": true,
    "editable": true
   },
   "outputs": [],
   "source": [
    "import pandas as pd\n",
    "import numpy as np\n",
    "from matplotlib import pyplot as plt\n",
    "from sklearn.preprocessing import Imputer, StandardScaler, MinMaxScaler\n",
    "from sklearn.metrics import mean_absolute_error, mean_squared_error, auc, confusion_matrix"
   ]
  },
  {
   "cell_type": "markdown",
   "metadata": {
    "deletable": true,
    "editable": true
   },
   "source": [
    "#### Retrait des colonnes et lignes inutiles / sélection de features"
   ]
  },
  {
   "cell_type": "code",
   "execution_count": 2,
   "metadata": {
    "collapsed": false,
    "deletable": true,
    "editable": true
   },
   "outputs": [
    {
     "name": "stdout",
     "output_type": "stream",
     "text": [
      "Taille initiale du DF : (36919, 79)\n",
      "Taille du DF après retrait des colonnes inutiles : (36919, 67)\n"
     ]
    }
   ],
   "source": [
    "# load data\n",
    "raw = pd.read_excel('data/dataframe_elections.xlsx')\n",
    "print('Taille initiale du DF :', raw.shape)\n",
    "\n",
    "# Données d'identification\n",
    "id_list = ['an', 'code', 'nom', 'prenom', 'nuance_groupe', 'taux_vote_leg', 'second_tour']\n",
    "df_id = raw[id_list]\n",
    "\n",
    "# drop colonnes\n",
    "drop_list = ['dep', 'circo', 'code', 'inscrits', 'circo_parti', 'circo_nuance',\n",
    "             'nom', 'prenom', 'etiquette', 'nuance', 'voix', 'second_tour']\n",
    "raw = raw.drop(drop_list, axis=1)\n",
    "\n",
    "print('Taille du DF après retrait des colonnes inutiles :', raw.shape)"
   ]
  },
  {
   "cell_type": "markdown",
   "metadata": {
    "deletable": true,
    "editable": true
   },
   "source": [
    "### Feature engineering"
   ]
  },
  {
   "cell_type": "code",
   "execution_count": 3,
   "metadata": {
    "collapsed": false,
    "slideshow": {
     "slide_type": "-"
    }
   },
   "outputs": [
    {
     "name": "stdout",
     "output_type": "stream",
     "text": [
      "Index(['an', 'c_dep', 'part_impose', 'chom_tot', 'circo_leg_meme_nuance',\n",
      "       'nb_candidats_meme_bloc', 'taux_vote_leg', 'circo_pres_meme_nuance',\n",
      "       'circo_meme_nuance_president', 'score_nuance_groupe_pres',\n",
      "       'taux_vote_pres', 'score_candidat_prec_leg', 'depute_sortant',\n",
      "       'ancien_depute', 'au_gouvernement', 'ancien_ministre',\n",
      "       'membre_majorite', 'sexe', 'nuance_groupe', 'p_inscrits', 'p_exprimes'],\n",
      "      dtype='object')\n",
      "\n",
      "Remplissage des dernières valeurs manquantes pour la législative précédente avec 4.82%\n",
      "\n",
      "Remplissage des valeurs manquantes pour chom_tot :\n",
      "La moyenne de la feature pour 2002 est 8.05%\n",
      "La moyenne de la feature pour 2007 est 8.97%\n",
      "La moyenne de la feature pour 2012 est 9.54%\n",
      "La moyenne de la feature pour 2017 est 9.43%\n"
     ]
    }
   ],
   "source": [
    "# à garder obligatoirement pour identifier les lignes et créer les labels\n",
    "keep_list = ['an', 'c_dep', 'nuance_groupe', 'p_inscrits', 'p_exprimes']\n",
    "\n",
    "# Sélection des features\n",
    "keep_list.extend([#'geo_frontalier', 'geo_dom', 'geo_idf',\n",
    "                  'part_impose', 'chom_tot',\n",
    "                  #'p_agri', 'p_ouvriers', 'd_brevet','d_sup',\n",
    "                  'circo_leg_meme_nuance', 'circo_meme_nuance_president', 'circo_pres_meme_nuance',\n",
    "                  'nb_candidats_meme_bloc', 'score_nuance_groupe_pres', 'score_candidat_prec_leg',\n",
    "                  #'score_nuance_groupe_prec_leg', #(un peu mauvais)\n",
    "                  #'score_bloc_pres', 'score_bloc_prec_leg', #(mauvais pour le score)\n",
    "                  #'nuance_groupe',\n",
    "                  'taux_vote_pres', 'taux_vote_leg',\n",
    "                  'depute_sortant', 'ancien_depute', 'au_gouvernement', 'ancien_ministre',\n",
    "                  'membre_majorite', 'sexe'\n",
    "    ])\n",
    "\n",
    "df = raw.drop([col for col in raw.columns if col not in keep_list], axis=1)\n",
    "print(df.columns)\n",
    "\n",
    "# Gestion des NaN au niveau du score du candidat aux législatives précédentes\n",
    "years = [2002, 2007, 2012, 2017]\n",
    "\n",
    "# TODO : POUR LES CANDIDATS \"EN MARCHE\", PAR QUOI REMPLIR LE SCORE DES CANDIDATS A LA PREC LEG ?\n",
    "\n",
    "partis = ['EXG', 'COM', 'FI', 'DVG', 'ECO', 'SOC', 'RDG', 'MDM',\n",
    "          'UDI', 'DVD', 'LR', 'DLF', 'FN', 'EXD', 'REG', 'DIV']\n",
    "for parti in partis:\n",
    "    #print('\\nRemplissage des valeurs manquantes pour {} :'.format(parti))\n",
    "    for year in years:\n",
    "        mask = (df['an']==year) & (df['nuance_groupe']==parti)\n",
    "        mask_2 = (df['an']==year - 5) & (df['nuance_groupe']==parti)\n",
    "        mean = np.mean(df['p_inscrits'][mask_2]) # moyenne des voix du parti 5 ans avant\n",
    "        df.loc[mask, 'score_candidat_prec_leg'] = df['score_candidat_prec_leg'][mask].fillna(value=mean)\n",
    "        #print('La moyenne du parti en {} est {:.2f}%'.format(year - 5, mean * 100))\n",
    "\n",
    "mean = np.mean(df.p_inscrits)\n",
    "print('\\nRemplissage des dernières valeurs manquantes pour la législative précédente avec {:.2f}%'.format(mean * 100))\n",
    "df.score_candidat_prec_leg = df.score_candidat_prec_leg.fillna(value=mean)\n",
    "\n",
    "# Gestion des NaN : Autres variables. Remplacement des valeurs manquantes par la moyenne nationale\n",
    "features_a_completer = ['chom_tot']\n",
    "for feature in features_a_completer:\n",
    "    print('\\nRemplissage des valeurs manquantes pour {} :'.format(feature))\n",
    "    for year in years:\n",
    "        mask = (df['an']==year)\n",
    "        mean = np.mean(df[feature][mask])\n",
    "        print('La moyenne de la feature pour {} est {:.2f}%'.format(year, mean * 100))\n",
    "        df.loc[mask, feature] = df[feature][mask].fillna(value=mean)\n",
    "        \n",
    "# Normaliser les votes\n",
    "\n",
    "\n",
    "# Catégorisation\n",
    "# df['score_candidat_prec_leg'] = pd.cut(df['score_candidat_prec_leg'], bins=[-1, -.01, .05, .1, .15, .2, 1],\n",
    "#                                       labels=['N/A', 'A', 'B', 'C', 'D', 'E'])\n",
    "\n",
    "# On retire les lignes de 1997\n",
    "df = df[df.an > 1997]\n",
    "df = df[df.nuance_groupe!='DIV']\n",
    "df = df.drop(['c_dep', 'nuance_groupe'], axis=1)"
   ]
  },
  {
   "cell_type": "code",
   "execution_count": 4,
   "metadata": {
    "collapsed": false,
    "deletable": true,
    "editable": true
   },
   "outputs": [
    {
     "name": "stdout",
     "output_type": "stream",
     "text": [
      "(26396, 19)\n",
      "an                                0\n",
      "part_impose                       0\n",
      "chom_tot                          0\n",
      "circo_leg_meme_nuance             0\n",
      "nb_candidats_meme_bloc            0\n",
      "taux_vote_leg                     0\n",
      "circo_pres_meme_nuance            0\n",
      "circo_meme_nuance_president       0\n",
      "score_nuance_groupe_pres          0\n",
      "taux_vote_pres                    0\n",
      "score_candidat_prec_leg           0\n",
      "depute_sortant                    0\n",
      "ancien_depute                     0\n",
      "au_gouvernement                   0\n",
      "ancien_ministre                   0\n",
      "membre_majorite                   0\n",
      "sexe                              0\n",
      "p_inscrits                     6463\n",
      "p_exprimes                     6463\n",
      "dtype: int64\n"
     ]
    }
   ],
   "source": [
    "print(df.shape)\n",
    "print(df.isnull().sum())"
   ]
  },
  {
   "cell_type": "markdown",
   "metadata": {
    "deletable": true,
    "editable": true
   },
   "source": [
    "#### Création des ensembles de train/validation/test"
   ]
  },
  {
   "cell_type": "code",
   "execution_count": 5,
   "metadata": {
    "collapsed": false
   },
   "outputs": [],
   "source": [
    "def train_val_splits(df, year_for_validation, target='p_exprimes'):\n",
    "    drop_list = ['an', 'p_inscrits', 'p_exprimes']\n",
    "    df_train = df[(df.an != 2017) & (df.an != year_for_validation)].dropna(how='any')\n",
    "    y_train = df_train[target]\n",
    "    X_train = df_train.drop(drop_list, axis=1)\n",
    "    \n",
    "    df_val = df[df.an == year_for_validation].dropna(how='any')\n",
    "    y_val = df_val[target]\n",
    "    X_val = df_val.drop(drop_list, axis=1)\n",
    "    \n",
    "    return X_train, X_val, y_train, y_val"
   ]
  },
  {
   "cell_type": "code",
   "execution_count": 6,
   "metadata": {
    "collapsed": false
   },
   "outputs": [
    {
     "name": "stdout",
     "output_type": "stream",
     "text": [
      "Variables à normaliser ['part_impose', 'chom_tot', 'taux_vote_leg', 'score_nuance_groupe_pres', 'taux_vote_pres']\n",
      "(13788, 16) (6145, 16)\n",
      "(13788,) (6145,)\n"
     ]
    }
   ],
   "source": [
    "# Liste des variables dummies et binaires pour les exclure de la normalisation\n",
    "dummies_list = ['bloc', 'sexe', 'an', 'p_inscrits', 'p_exprimes',\n",
    "                #'geo_frontalier', 'geo_dom', 'geo_idf',\n",
    "                'circo_nuance_groupe', 'circo_bloc', 'nuance_groupe',\n",
    "                'circo_nuance_groupe_pres', 'circo_pres_meme_nuance', 'circo_meme_nuance_president',\n",
    "                'circo_leg_meme_nuance',\n",
    "                'depute_sortant', 'ancien_depute', 'au_gouvernement', 'ancien_ministre', 'membre_majorite',\n",
    "                'nb_candidats_meme_bloc', 'score_candidat_prec_leg']\n",
    "scale_list = [col for col in df.columns if col not in dummies_list]\n",
    "\n",
    "# Choix de la cible (prédire en % des voix exprimées ou en % des inscrits)\n",
    "target = 'p_exprimes'\n",
    "# target = 'p_inscrits'\n",
    "\n",
    "print('Variables à normaliser', scale_list)\n",
    "df_dummified = pd.get_dummies(df, drop_first=True)\n",
    "X_train, X_val, y_train, y_val = train_val_splits(df_dummified, 2012, target=target)\n",
    "\n",
    "# Normalisation du dataframe\n",
    "#scaler = StandardScaler()\n",
    "scaler = MinMaxScaler()\n",
    "X_train[scale_list] = scaler.fit_transform(X_train[scale_list])\n",
    "X_val[scale_list] = scaler.transform(X_val[scale_list])\n",
    "\n",
    "print(X_train.shape, X_val.shape)\n",
    "print(y_train.shape, y_val.shape)"
   ]
  },
  {
   "cell_type": "markdown",
   "metadata": {},
   "source": [
    "#### Exploration"
   ]
  },
  {
   "cell_type": "code",
   "execution_count": 7,
   "metadata": {
    "collapsed": false
   },
   "outputs": [
    {
     "data": {
      "text/html": [
       "<div>\n",
       "<table border=\"1\" class=\"dataframe\">\n",
       "  <thead>\n",
       "    <tr style=\"text-align: right;\">\n",
       "      <th></th>\n",
       "      <th>part_impose</th>\n",
       "      <th>chom_tot</th>\n",
       "      <th>circo_leg_meme_nuance</th>\n",
       "      <th>nb_candidats_meme_bloc</th>\n",
       "      <th>taux_vote_leg</th>\n",
       "      <th>circo_pres_meme_nuance</th>\n",
       "      <th>circo_meme_nuance_president</th>\n",
       "      <th>score_nuance_groupe_pres</th>\n",
       "      <th>taux_vote_pres</th>\n",
       "      <th>score_candidat_prec_leg</th>\n",
       "      <th>depute_sortant</th>\n",
       "      <th>ancien_depute</th>\n",
       "      <th>au_gouvernement</th>\n",
       "      <th>ancien_ministre</th>\n",
       "      <th>membre_majorite</th>\n",
       "      <th>sexe_M</th>\n",
       "    </tr>\n",
       "  </thead>\n",
       "  <tbody>\n",
       "    <tr>\n",
       "      <th>14488</th>\n",
       "      <td>0.546669</td>\n",
       "      <td>0.061475</td>\n",
       "      <td>0.0</td>\n",
       "      <td>3.0</td>\n",
       "      <td>0.651274</td>\n",
       "      <td>0.0</td>\n",
       "      <td>0.0</td>\n",
       "      <td>0.018692</td>\n",
       "      <td>0.940721</td>\n",
       "      <td>0.036679</td>\n",
       "      <td>0.0</td>\n",
       "      <td>0.0</td>\n",
       "      <td>0.0</td>\n",
       "      <td>0.0</td>\n",
       "      <td>0.0</td>\n",
       "      <td>1</td>\n",
       "    </tr>\n",
       "    <tr>\n",
       "      <th>14489</th>\n",
       "      <td>0.546669</td>\n",
       "      <td>0.061475</td>\n",
       "      <td>1.0</td>\n",
       "      <td>2.0</td>\n",
       "      <td>0.651274</td>\n",
       "      <td>1.0</td>\n",
       "      <td>0.0</td>\n",
       "      <td>0.481142</td>\n",
       "      <td>0.940721</td>\n",
       "      <td>0.223836</td>\n",
       "      <td>0.0</td>\n",
       "      <td>0.0</td>\n",
       "      <td>0.0</td>\n",
       "      <td>0.0</td>\n",
       "      <td>1.0</td>\n",
       "      <td>1</td>\n",
       "    </tr>\n",
       "    <tr>\n",
       "      <th>14490</th>\n",
       "      <td>0.546669</td>\n",
       "      <td>0.061475</td>\n",
       "      <td>0.0</td>\n",
       "      <td>1.0</td>\n",
       "      <td>0.651274</td>\n",
       "      <td>0.0</td>\n",
       "      <td>0.0</td>\n",
       "      <td>0.157710</td>\n",
       "      <td>0.940721</td>\n",
       "      <td>0.070266</td>\n",
       "      <td>0.0</td>\n",
       "      <td>0.0</td>\n",
       "      <td>0.0</td>\n",
       "      <td>0.0</td>\n",
       "      <td>0.0</td>\n",
       "      <td>0</td>\n",
       "    </tr>\n",
       "    <tr>\n",
       "      <th>14491</th>\n",
       "      <td>0.546669</td>\n",
       "      <td>0.061475</td>\n",
       "      <td>0.0</td>\n",
       "      <td>3.0</td>\n",
       "      <td>0.651274</td>\n",
       "      <td>0.0</td>\n",
       "      <td>0.0</td>\n",
       "      <td>0.326268</td>\n",
       "      <td>0.940721</td>\n",
       "      <td>0.184033</td>\n",
       "      <td>0.0</td>\n",
       "      <td>0.0</td>\n",
       "      <td>0.0</td>\n",
       "      <td>0.0</td>\n",
       "      <td>0.0</td>\n",
       "      <td>1</td>\n",
       "    </tr>\n",
       "    <tr>\n",
       "      <th>14492</th>\n",
       "      <td>0.546669</td>\n",
       "      <td>0.061475</td>\n",
       "      <td>0.0</td>\n",
       "      <td>3.0</td>\n",
       "      <td>0.651274</td>\n",
       "      <td>0.0</td>\n",
       "      <td>0.0</td>\n",
       "      <td>0.043224</td>\n",
       "      <td>0.940721</td>\n",
       "      <td>0.014068</td>\n",
       "      <td>0.0</td>\n",
       "      <td>0.0</td>\n",
       "      <td>0.0</td>\n",
       "      <td>0.0</td>\n",
       "      <td>0.0</td>\n",
       "      <td>0</td>\n",
       "    </tr>\n",
       "  </tbody>\n",
       "</table>\n",
       "</div>"
      ],
      "text/plain": [
       "       part_impose  chom_tot  circo_leg_meme_nuance  nb_candidats_meme_bloc  \\\n",
       "14488     0.546669  0.061475                    0.0                     3.0   \n",
       "14489     0.546669  0.061475                    1.0                     2.0   \n",
       "14490     0.546669  0.061475                    0.0                     1.0   \n",
       "14491     0.546669  0.061475                    0.0                     3.0   \n",
       "14492     0.546669  0.061475                    0.0                     3.0   \n",
       "\n",
       "       taux_vote_leg  circo_pres_meme_nuance  circo_meme_nuance_president  \\\n",
       "14488       0.651274                     0.0                          0.0   \n",
       "14489       0.651274                     1.0                          0.0   \n",
       "14490       0.651274                     0.0                          0.0   \n",
       "14491       0.651274                     0.0                          0.0   \n",
       "14492       0.651274                     0.0                          0.0   \n",
       "\n",
       "       score_nuance_groupe_pres  taux_vote_pres  score_candidat_prec_leg  \\\n",
       "14488                  0.018692        0.940721                 0.036679   \n",
       "14489                  0.481142        0.940721                 0.223836   \n",
       "14490                  0.157710        0.940721                 0.070266   \n",
       "14491                  0.326268        0.940721                 0.184033   \n",
       "14492                  0.043224        0.940721                 0.014068   \n",
       "\n",
       "       depute_sortant  ancien_depute  au_gouvernement  ancien_ministre  \\\n",
       "14488             0.0            0.0              0.0              0.0   \n",
       "14489             0.0            0.0              0.0              0.0   \n",
       "14490             0.0            0.0              0.0              0.0   \n",
       "14491             0.0            0.0              0.0              0.0   \n",
       "14492             0.0            0.0              0.0              0.0   \n",
       "\n",
       "       membre_majorite  sexe_M  \n",
       "14488              0.0       1  \n",
       "14489              1.0       1  \n",
       "14490              0.0       0  \n",
       "14491              0.0       1  \n",
       "14492              0.0       0  "
      ]
     },
     "execution_count": 7,
     "metadata": {},
     "output_type": "execute_result"
    }
   ],
   "source": [
    "X_train.head(5)"
   ]
  },
  {
   "cell_type": "markdown",
   "metadata": {},
   "source": [
    "#### Choix de modèle"
   ]
  },
  {
   "cell_type": "code",
   "execution_count": 19,
   "metadata": {
    "collapsed": false,
    "deletable": true,
    "editable": true
   },
   "outputs": [],
   "source": [
    "from sklearn.ensemble import RandomForestRegressor\n",
    "rf = RandomForestRegressor(n_jobs=-1, n_estimators=500)\n",
    "rf.fit(X_train, y_train)\n",
    "y_pred = rf.predict(X_val)"
   ]
  },
  {
   "cell_type": "code",
   "execution_count": 9,
   "metadata": {
    "collapsed": true
   },
   "outputs": [],
   "source": [
    "# from sklearn.svm import SVR\n",
    "# reg = SVR()\n",
    "# reg.fit(X_train, y_train)\n",
    "# y_pred = reg.predict(X_val)"
   ]
  },
  {
   "cell_type": "markdown",
   "metadata": {},
   "source": [
    "### Analyser les prédictions"
   ]
  },
  {
   "cell_type": "code",
   "execution_count": 20,
   "metadata": {
    "collapsed": false
   },
   "outputs": [],
   "source": [
    "def get_predictions(y_pred, y_val, id_val, target='p_exprimes'):\n",
    "    from scipy.stats import rankdata\n",
    "    res = pd.concat([id_val, pd.DataFrame(y_val)], axis=1, join='inner')\n",
    "    res['prediction'] = y_pred\n",
    "    res['ecart'] = y_pred - res[target]\n",
    "    res['classement'] = 0\n",
    "    res['qualif'] = 'N'\n",
    "    \n",
    "    for circo in set(res.code):\n",
    "        # classement des candidats par circonscription\n",
    "        res.loc[res.code==circo, 'classement'] = rankdata(-res.prediction[res.code==circo], method='ordinal')\n",
    "        if target=='p_exprimes':\n",
    "            taux_E = 1\n",
    "            taux_O = np.float(res.loc[(res.code==circo) & (res.classement==1), 'taux_vote_leg'])\n",
    "        elif target=='p_inscrits':\n",
    "            taux_E = 1 / np.float(res.loc[(res.code==circo) & (res.classement==1), 'taux_vote_leg'])\n",
    "            taux_O = 1\n",
    "            \n",
    "        # simulation des qualifiés pour le second tour\n",
    "        i = 1\n",
    "        q = 0\n",
    "        while True:\n",
    "            #print(res.loc[(res.code==circo) & (res.classement==i), 'prediction'].values)\n",
    "            if (res.loc[(res.code==circo) & (res.classement==i), 'prediction'].values) * taux_E >= .5:\n",
    "                res.loc[(res.code==circo) & (res.classement==i), 'qualif'] = 'E'\n",
    "                break\n",
    "            elif (res.loc[(res.code==circo) & (res.classement==i), 'prediction'].values) * taux_O >= .125:\n",
    "                res.loc[(res.code==circo) & (res.classement==i), 'qualif'] = 'O'\n",
    "                q += 1\n",
    "            elif q < 2:\n",
    "                res.loc[(res.code==circo) & (res.classement==i), 'qualif'] = 'O'\n",
    "                q += 1\n",
    "            else:\n",
    "                break\n",
    "\n",
    "            i += 1\n",
    "    return res"
   ]
  },
  {
   "cell_type": "code",
   "execution_count": 21,
   "metadata": {
    "collapsed": false
   },
   "outputs": [
    {
     "data": {
      "text/plain": [
       "[(74.438124306263845, 'score_candidat_prec_leg'),\n",
       " (7.413861235652262, 'score_nuance_groupe_pres'),\n",
       " (5.0046441642294814, 'depute_sortant'),\n",
       " (2.627721854404653, 'membre_majorite'),\n",
       " (1.9885190696463537, 'taux_vote_pres'),\n",
       " (1.8234585344204075, 'taux_vote_leg'),\n",
       " (1.5461488967638874, 'part_impose'),\n",
       " (1.4201298925018375, 'chom_tot'),\n",
       " (1.2111954166288161, 'nb_candidats_meme_bloc'),\n",
       " (1.0270732515639787, 'circo_leg_meme_nuance'),\n",
       " (0.62404665793452574, 'circo_pres_meme_nuance'),\n",
       " (0.4290872826257866, 'ancien_depute'),\n",
       " (0.42593463162914069, 'sexe_M'),\n",
       " (0.013834720567089672, 'ancien_ministre'),\n",
       " (0.0062200851679746769, 'au_gouvernement'),\n",
       " (0.0, 'circo_meme_nuance_president')]"
      ]
     },
     "execution_count": 21,
     "metadata": {},
     "output_type": "execute_result"
    }
   ],
   "source": [
    "sorted(list(zip(rf.feature_importances_*100, X_train.columns)), reverse=True)"
   ]
  },
  {
   "cell_type": "code",
   "execution_count": 22,
   "metadata": {
    "collapsed": false
   },
   "outputs": [
    {
     "name": "stdout",
     "output_type": "stream",
     "text": [
      "Prédictions pour 6145 candidats.\n",
      "La MAE est : 3.64%\n",
      "La plus grosse erreur est : 53.04%\n",
      "Le score AUC est : 49.35%\n"
     ]
    },
    {
     "data": {
      "image/png": "[encoded data removed]",
      "text/plain": [
       "<matplotlib.figure.Figure at 0x16d075810b8>"
      ]
     },
     "metadata": {},
     "output_type": "display_data"
    },
    {
     "data": {
      "image/png": "[encoded data removed]",
      "text/plain": [
       "<matplotlib.figure.Figure at 0x16d0b871da0>"
      ]
     },
     "metadata": {},
     "output_type": "display_data"
    }
   ],
   "source": [
    "df_predictions = get_predictions(y_pred, y_val, df_id, target=target)\n",
    "n = df_predictions.shape[0]\n",
    "print('Prédictions pour {} candidats.'.format(n))\n",
    "\n",
    "ecarts_absolus = abs(df_predictions['ecart'])\n",
    "max_ecart = np.max(ecarts_absolus)\n",
    "grid = np.arange(max_ecart, step=.01)\n",
    "ecarts_grid = []\n",
    "\n",
    "for point in grid:\n",
    "    ecarts_grid.append(np.sum(ecarts_absolus < point))\n",
    "\n",
    "print('La MAE est : {:.2f}%'.format(mean_absolute_error(y_val, y_pred) * 100))\n",
    "print('La plus grosse erreur est : {:.2f}%'.format(max_ecart * 100))\n",
    "print('Le score AUC est : {:.2f}%'.format(auc(grid, ecarts_grid) * 100 / n))\n",
    "\n",
    "point_list = [.01, .02, .05, .1]\n",
    "ecart_list = [np.sum(ecarts_absolus < point) for point in point_list]\n",
    "\n",
    "plt.figure(1, figsize=(14, 3))\n",
    "plt.subplot(121)\n",
    "plt.plot(grid, ecarts_grid)\n",
    "for i in range(len(point_list)):\n",
    "    plt.plot(point_list[i], ecart_list[i], 'ro')\n",
    "    plt.text(point_list[i]+.005, ecart_list[i]-400, '{:.2f}%'.format(ecart_list[i]/n))\n",
    "\n",
    "plt.title('Nb d\\'obs en dessous d\\'un seuil d\\'erreur')\n",
    "plt.xlabel('Seuils d\\'erreur')\n",
    "    \n",
    "plt.subplot(122)\n",
    "plt.hist(df_predictions['ecart'], bins=50)\n",
    "plt.title('Répartition globale des erreurs')\n",
    "\n",
    "# comparaison de la distribution des erreurs, parti par parti\n",
    "from scipy.stats import gaussian_kde\n",
    "plt.figure(2, figsize=(15,6))\n",
    "x_grid = np.arange(min(df_predictions['ecart']), max(df_predictions['ecart']), step=.01)\n",
    "\n",
    "nuances = {'FI': 'red','ECO': 'green', 'SOC': 'pink', 'MDM': 'orange', 'UDI': 'yellow',\n",
    "           'LR': 'blue', 'DLF': 'darkblue', 'FN': 'black', 'REG': 'teal'}\n",
    "for nuance in nuances:\n",
    "    n_nuance = np.sum(df_predictions['nuance_groupe']==nuance)\n",
    "    pdf = gaussian_kde(df_predictions['ecart'][df_predictions['nuance_groupe']==nuance],\n",
    "                       bw_method=.9).evaluate(x_grid)\n",
    "    plt.plot(x_grid, pdf, color=nuances[nuance], label=nuance, lw=2)\n",
    "\n",
    "plt.title('Répartition des erreurs selon le parti')\n",
    "plt.legend(loc='best')\n",
    "\n",
    "plt.show()"
   ]
  },
  {
   "cell_type": "code",
   "execution_count": 24,
   "metadata": {
    "collapsed": false
   },
   "outputs": [
    {
     "name": "stdout",
     "output_type": "stream",
     "text": [
      "5721 prédictions correctes sur 6145\n",
      "Matrice de confusion. En colonne les classes prédites, en ligne les classes réelles.\n"
     ]
    },
    {
     "data": {
      "text/plain": [
       "array([[   3,   33,    0],\n",
       "       [   9,  916,  176],\n",
       "       [   0,  206, 4802]])"
      ]
     },
     "execution_count": 24,
     "metadata": {},
     "output_type": "execute_result"
    }
   ],
   "source": [
    "print('{} prédictions correctes sur {}'.format(np.sum(df_predictions.second_tour == df_predictions.qualif), n))\n",
    "print('Matrice de confusion. En colonne les classes prédites, en ligne les classes réelles.')\n",
    "confusion_matrix(df_predictions.second_tour, df_predictions.qualif, labels=['E', 'O', 'N'])"
   ]
  },
  {
   "cell_type": "code",
   "execution_count": 25,
   "metadata": {
    "collapsed": false,
    "scrolled": true
   },
   "outputs": [
    {
     "data": {
      "text/html": [
       "<div>\n",
       "<table border=\"1\" class=\"dataframe\">\n",
       "  <thead>\n",
       "    <tr style=\"text-align: right;\">\n",
       "      <th></th>\n",
       "      <th>an</th>\n",
       "      <th>code</th>\n",
       "      <th>nom</th>\n",
       "      <th>prenom</th>\n",
       "      <th>nuance_groupe</th>\n",
       "      <th>taux_vote_leg</th>\n",
       "      <th>second_tour</th>\n",
       "      <th>p_exprimes</th>\n",
       "      <th>prediction</th>\n",
       "      <th>ecart</th>\n",
       "      <th>classement</th>\n",
       "      <th>qualif</th>\n",
       "    </tr>\n",
       "  </thead>\n",
       "  <tbody>\n",
       "    <tr>\n",
       "      <th>14299</th>\n",
       "      <td>2012</td>\n",
       "      <td>986|1</td>\n",
       "      <td>VANAI</td>\n",
       "      <td>SIMIONE</td>\n",
       "      <td>SOC</td>\n",
       "      <td>0.7722</td>\n",
       "      <td>N</td>\n",
       "      <td>0.0926</td>\n",
       "      <td>0.374664</td>\n",
       "      <td>0.282064</td>\n",
       "      <td>2</td>\n",
       "      <td>O</td>\n",
       "    </tr>\n",
       "    <tr>\n",
       "      <th>11034</th>\n",
       "      <td>2012</td>\n",
       "      <td>974|7</td>\n",
       "      <td>LASSON</td>\n",
       "      <td>JEAN-MARIE</td>\n",
       "      <td>SOC</td>\n",
       "      <td>0.4331</td>\n",
       "      <td>N</td>\n",
       "      <td>0.1124</td>\n",
       "      <td>0.399753</td>\n",
       "      <td>0.287353</td>\n",
       "      <td>1</td>\n",
       "      <td>O</td>\n",
       "    </tr>\n",
       "    <tr>\n",
       "      <th>10672</th>\n",
       "      <td>2012</td>\n",
       "      <td>35|7</td>\n",
       "      <td>CLEMENT</td>\n",
       "      <td>PASCAL</td>\n",
       "      <td>FN</td>\n",
       "      <td>0.5933</td>\n",
       "      <td>N</td>\n",
       "      <td>0.0753</td>\n",
       "      <td>0.382607</td>\n",
       "      <td>0.307307</td>\n",
       "      <td>2</td>\n",
       "      <td>O</td>\n",
       "    </tr>\n",
       "    <tr>\n",
       "      <th>10518</th>\n",
       "      <td>2012</td>\n",
       "      <td>34|3</td>\n",
       "      <td>GRAND</td>\n",
       "      <td>JEAN-PIERRE</td>\n",
       "      <td>LR</td>\n",
       "      <td>0.6206</td>\n",
       "      <td>O</td>\n",
       "      <td>0.1734</td>\n",
       "      <td>0.488716</td>\n",
       "      <td>0.315316</td>\n",
       "      <td>1</td>\n",
       "      <td>O</td>\n",
       "    </tr>\n",
       "    <tr>\n",
       "      <th>10990</th>\n",
       "      <td>2012</td>\n",
       "      <td>974|2</td>\n",
       "      <td>LOUGNON</td>\n",
       "      <td>LAURENCE</td>\n",
       "      <td>SOC</td>\n",
       "      <td>0.4562</td>\n",
       "      <td>N</td>\n",
       "      <td>0.0305</td>\n",
       "      <td>0.405398</td>\n",
       "      <td>0.374898</td>\n",
       "      <td>1</td>\n",
       "      <td>O</td>\n",
       "    </tr>\n",
       "  </tbody>\n",
       "</table>\n",
       "</div>"
      ],
      "text/plain": [
       "         an   code      nom       prenom nuance_groupe  taux_vote_leg  \\\n",
       "14299  2012  986|1    VANAI      SIMIONE           SOC         0.7722   \n",
       "11034  2012  974|7   LASSON   JEAN-MARIE           SOC         0.4331   \n",
       "10672  2012   35|7  CLEMENT       PASCAL            FN         0.5933   \n",
       "10518  2012   34|3    GRAND  JEAN-PIERRE            LR         0.6206   \n",
       "10990  2012  974|2  LOUGNON     LAURENCE           SOC         0.4562   \n",
       "\n",
       "      second_tour  p_exprimes  prediction     ecart  classement qualif  \n",
       "14299           N      0.0926    0.374664  0.282064           2      O  \n",
       "11034           N      0.1124    0.399753  0.287353           1      O  \n",
       "10672           N      0.0753    0.382607  0.307307           2      O  \n",
       "10518           O      0.1734    0.488716  0.315316           1      O  \n",
       "10990           N      0.0305    0.405398  0.374898           1      O  "
      ]
     },
     "execution_count": 25,
     "metadata": {},
     "output_type": "execute_result"
    }
   ],
   "source": [
    "df_predictions.sort_values(by='ecart').tail(5)"
   ]
  },
  {
   "cell_type": "code",
   "execution_count": 26,
   "metadata": {
    "collapsed": false,
    "scrolled": true
   },
   "outputs": [
    {
     "data": {
      "text/html": [
       "<div>\n",
       "<table border=\"1\" class=\"dataframe\">\n",
       "  <thead>\n",
       "    <tr style=\"text-align: right;\">\n",
       "      <th></th>\n",
       "      <th>an</th>\n",
       "      <th>code</th>\n",
       "      <th>nom</th>\n",
       "      <th>prenom</th>\n",
       "      <th>nuance_groupe</th>\n",
       "      <th>taux_vote_leg</th>\n",
       "      <th>second_tour</th>\n",
       "      <th>p_exprimes</th>\n",
       "      <th>prediction</th>\n",
       "      <th>ecart</th>\n",
       "      <th>classement</th>\n",
       "      <th>qualif</th>\n",
       "    </tr>\n",
       "  </thead>\n",
       "  <tbody>\n",
       "    <tr>\n",
       "      <th>13113</th>\n",
       "      <td>2012</td>\n",
       "      <td>975|1</td>\n",
       "      <td>GIRARDIN</td>\n",
       "      <td>ANNICK</td>\n",
       "      <td>RDG</td>\n",
       "      <td>0.5186</td>\n",
       "      <td>E</td>\n",
       "      <td>0.6552</td>\n",
       "      <td>0.124758</td>\n",
       "      <td>-0.530442</td>\n",
       "      <td>2</td>\n",
       "      <td>O</td>\n",
       "    </tr>\n",
       "    <tr>\n",
       "      <th>12340</th>\n",
       "      <td>2012</td>\n",
       "      <td>75|6</td>\n",
       "      <td>DUFLOT</td>\n",
       "      <td>CECILE</td>\n",
       "      <td>ECO</td>\n",
       "      <td>0.5929</td>\n",
       "      <td>O</td>\n",
       "      <td>0.4874</td>\n",
       "      <td>0.029145</td>\n",
       "      <td>-0.458255</td>\n",
       "      <td>9</td>\n",
       "      <td>N</td>\n",
       "    </tr>\n",
       "    <tr>\n",
       "      <th>12414</th>\n",
       "      <td>2012</td>\n",
       "      <td>75|10</td>\n",
       "      <td>BAUPIN</td>\n",
       "      <td>DENIS</td>\n",
       "      <td>ECO</td>\n",
       "      <td>0.5834</td>\n",
       "      <td>O</td>\n",
       "      <td>0.4289</td>\n",
       "      <td>0.029754</td>\n",
       "      <td>-0.399146</td>\n",
       "      <td>9</td>\n",
       "      <td>N</td>\n",
       "    </tr>\n",
       "    <tr>\n",
       "      <th>10982</th>\n",
       "      <td>2012</td>\n",
       "      <td>974|2</td>\n",
       "      <td>BELLO</td>\n",
       "      <td>HUGUETTE</td>\n",
       "      <td>DVG</td>\n",
       "      <td>0.4562</td>\n",
       "      <td>E</td>\n",
       "      <td>0.6712</td>\n",
       "      <td>0.284889</td>\n",
       "      <td>-0.386311</td>\n",
       "      <td>2</td>\n",
       "      <td>O</td>\n",
       "    </tr>\n",
       "    <tr>\n",
       "      <th>10882</th>\n",
       "      <td>2012</td>\n",
       "      <td>38|9</td>\n",
       "      <td>BONNETON</td>\n",
       "      <td>MICHELE</td>\n",
       "      <td>ECO</td>\n",
       "      <td>0.5691</td>\n",
       "      <td>O</td>\n",
       "      <td>0.3718</td>\n",
       "      <td>0.024825</td>\n",
       "      <td>-0.346975</td>\n",
       "      <td>7</td>\n",
       "      <td>N</td>\n",
       "    </tr>\n",
       "  </tbody>\n",
       "</table>\n",
       "</div>"
      ],
      "text/plain": [
       "         an   code       nom    prenom nuance_groupe  taux_vote_leg  \\\n",
       "13113  2012  975|1  GIRARDIN    ANNICK           RDG         0.5186   \n",
       "12340  2012   75|6    DUFLOT    CECILE           ECO         0.5929   \n",
       "12414  2012  75|10    BAUPIN     DENIS           ECO         0.5834   \n",
       "10982  2012  974|2     BELLO  HUGUETTE           DVG         0.4562   \n",
       "10882  2012   38|9  BONNETON   MICHELE           ECO         0.5691   \n",
       "\n",
       "      second_tour  p_exprimes  prediction     ecart  classement qualif  \n",
       "13113           E      0.6552    0.124758 -0.530442           2      O  \n",
       "12340           O      0.4874    0.029145 -0.458255           9      N  \n",
       "12414           O      0.4289    0.029754 -0.399146           9      N  \n",
       "10982           E      0.6712    0.284889 -0.386311           2      O  \n",
       "10882           O      0.3718    0.024825 -0.346975           7      N  "
      ]
     },
     "execution_count": 26,
     "metadata": {},
     "output_type": "execute_result"
    }
   ],
   "source": [
    "df_predictions.sort_values(by='ecart').head(5)"
   ]
  },
  {
   "cell_type": "code",
   "execution_count": 33,
   "metadata": {
    "collapsed": false
   },
   "outputs": [],
   "source": [
    "from datetime import datetime\n",
    "now = datetime.now()\n",
    "stamp = '{}_{}_{}h{}'.format(now.day, now.month, now.hour, now.minute)\n",
    "df_predictions.to_excel('predictions_du_{}.xlsx'.format(stamp))"
   ]
  },
  {
   "cell_type": "code",
   "execution_count": null,
   "metadata": {
    "collapsed": true
   },
   "outputs": [],
   "source": []
  }
 ],
 "metadata": {
  "anaconda-cloud": {},
  "kernelspec": {
   "display_name": "Python [default]",
   "language": "python",
   "name": "python3"
  },
  "language_info": {
   "codemirror_mode": {
    "name": "ipython",
    "version": 3
   },
   "file_extension": ".py",
   "mimetype": "text/x-python",
   "name": "python",
   "nbconvert_exporter": "python",
   "pygments_lexer": "ipython3",
   "version": "3.5.2"
  }
 },
 "nbformat": 4,
 "nbformat_minor": 1
}
