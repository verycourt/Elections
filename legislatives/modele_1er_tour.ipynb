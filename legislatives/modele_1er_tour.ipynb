{
 "cells": [
  {
   "cell_type": "markdown",
   "metadata": {},
   "source": [
    "### To do\n",
    "- faire une PCA"
   ]
  },
  {
   "cell_type": "code",
   "execution_count": 70,
   "metadata": {
    "collapsed": true,
    "deletable": true,
    "editable": true
   },
   "outputs": [],
   "source": [
    "import pandas as pd\n",
    "import numpy as np\n",
    "from matplotlib import pyplot as plt\n",
    "from sklearn.preprocessing import Imputer, StandardScaler, MinMaxScaler\n",
    "from sklearn.metrics import mean_absolute_error, mean_squared_error, f1_score, r2_score\n",
    "from sklearn.metrics import auc, confusion_matrix"
   ]
  },
  {
   "cell_type": "markdown",
   "metadata": {},
   "source": [
    "### Loading the data"
   ]
  },
  {
   "cell_type": "code",
   "execution_count": 2,
   "metadata": {
    "collapsed": false,
    "deletable": true,
    "editable": true
   },
   "outputs": [
    {
     "name": "stdout",
     "output_type": "stream",
     "text": [
      "Taille initiale du DF : (36919, 79)\n",
      "Taille du DF après retrait des colonnes inutiles : (36919, 66)\n"
     ]
    }
   ],
   "source": [
    "raw = pd.read_excel('data/dataframe_elections.xlsx')\n",
    "print('Taille initiale du DF :', raw.shape)\n",
    "\n",
    "# Données d'identification\n",
    "id_list = ['an', 'dep', 'circo', 'code', 'nom', 'prenom', 'nuance_groupe', 'taux_vote_leg', 'second_tour']\n",
    "df_id = raw[id_list]\n",
    "\n",
    "# drop colonnes\n",
    "drop_list = ['dep', 'circo', 'c_dep', 'code', 'inscrits', 'circo_parti', 'circo_nuance',\n",
    "             'nom', 'prenom', 'etiquette', 'nuance', 'voix', 'second_tour']\n",
    "raw = raw.drop(drop_list, axis=1)\n",
    "\n",
    "print('Taille du DF après retrait des colonnes inutiles :', raw.shape)"
   ]
  },
  {
   "cell_type": "code",
   "execution_count": 3,
   "metadata": {
    "collapsed": false,
    "slideshow": {
     "slide_type": "-"
    }
   },
   "outputs": [],
   "source": [
    "def generate_df(raw_data, keep_list):\n",
    "    # à garder obligatoirement pour identifier les lignes et créer les labels\n",
    "    keep_list.extend(['an', 'nuance_groupe', 'p_inscrits', 'p_exprimes'])\n",
    "\n",
    "    df = raw_data.drop([col for col in raw_data.columns if col not in keep_list], axis=1)\n",
    "    #print(df.columns)\n",
    "\n",
    "    # Gestion des NaN au niveau du score du candidat aux législatives précédentes\n",
    "    years = [2002, 2007, 2012, 2017]\n",
    "\n",
    "    # TODO : POUR LES CANDIDATS \"EN MARCHE\", PAR QUOI REMPLIR LE SCORE DES CANDIDATS A LA PREC LEG ?\n",
    "    if 'score_candidat_prec_leg' in keep_list:\n",
    "        partis = ['EXG', 'COM', 'FI', 'DVG', 'ECO', 'SOC', 'RDG', 'MDM',\n",
    "                  'UDI', 'DVD', 'LR', 'DLF', 'FN', 'EXD', 'REG', 'DIV']\n",
    "        for parti in partis:\n",
    "            #print('\\nRemplissage des valeurs manquantes pour {} :'.format(parti))\n",
    "            for year in years:\n",
    "                mask = (df['an']==year) & (df['nuance_groupe']==parti)\n",
    "                mask_2 = (df['an']==year - 5) & (df['nuance_groupe']==parti)\n",
    "                mean = np.mean(df['p_inscrits'][mask_2]) # moyenne des voix du parti 5 ans avant\n",
    "                df.loc[mask, 'score_candidat_prec_leg'] = df['score_candidat_prec_leg'][mask].fillna(value=mean)\n",
    "                #print('La moyenne du parti en {} est {:.2f}%'.format(year - 5, mean * 100))\n",
    "\n",
    "        mean = np.mean(df.p_inscrits)\n",
    "        #print('\\nRemplissage des dernières valeurs manquantes pour la législative précédente avec {:.2f}%'.format(mean * 100))\n",
    "        df.score_candidat_prec_leg = df.score_candidat_prec_leg.fillna(value=mean)\n",
    "\n",
    "    # Gestion des NaN : Autres variables. Remplacement des valeurs manquantes par la moyenne nationale\n",
    "    features_a_completer = ['chom_tot']\n",
    "    for feature in features_a_completer:\n",
    "        if feature in keep_list:\n",
    "            #print('\\nRemplissage des valeurs manquantes pour {} :'.format(feature))\n",
    "            for year in years:\n",
    "                mask = (df['an']==year)\n",
    "                mean = np.mean(df[feature][mask])\n",
    "                #print('La moyenne de la feature pour {} est {:.2f}%'.format(year, mean * 100))\n",
    "                df.loc[mask, feature] = df[feature][mask].fillna(value=mean)\n",
    "\n",
    "    # Normaliser les votes\n",
    "\n",
    "\n",
    "    # Catégorisation\n",
    "    # df['score_candidat_prec_leg'] = pd.cut(df['score_candidat_prec_leg'], bins=[-1, -.01, .05, .1, .15, .2, 1],\n",
    "    #                                       labels=['N/A', 'A', 'B', 'C', 'D', 'E'])\n",
    "\n",
    "    df = df[df.an > 1997]\n",
    "    df = df[df.nuance_groupe!='DIV'] # On retire les candidats \"Divers\" (pour l'entraînement ET la prédiction)\n",
    "    \n",
    "    print('Format du dataframe :', df.shape)\n",
    "    #print(df.isnull().sum())\n",
    "    \n",
    "    return df"
   ]
  },
  {
   "cell_type": "code",
   "execution_count": 4,
   "metadata": {
    "collapsed": false
   },
   "outputs": [],
   "source": [
    "def train_val_splits(df, year_for_validation, target, scaler=MinMaxScaler()):\n",
    "    # Liste des variables dummies et binaires pour les exclure de la normalisation\n",
    "    dummies_list = ['bloc', 'sexe', 'an', 'p_inscrits', 'p_exprimes', 'dep', 'circo',\n",
    "                    'geo_frontalier', 'geo_dom', 'geo_idf',\n",
    "                    'circo_nuance_groupe', 'circo_bloc', 'nuance_groupe',\n",
    "                    'circo_nuance_groupe_pres', 'circo_pres_meme_nuance', 'circo_meme_nuance_president',\n",
    "                    'circo_leg_meme_nuance',\n",
    "                    'depute_sortant', 'ancien_depute', 'au_gouvernement', 'ancien_ministre', 'membre_majorite',\n",
    "                    'nb_candidats_meme_bloc', 'score_candidat_prec_leg']\n",
    "    scale_list = [col for col in df.columns if col not in dummies_list]\n",
    "\n",
    "    print('Variables à normaliser', scale_list)\n",
    "    df = pd.get_dummies(df, drop_first=True)\n",
    "    \n",
    "    drop_list = ['an', 'p_inscrits', 'p_exprimes']\n",
    "    df_train = df[(df.an != 2017) & (df.an != year_for_validation)].dropna(how='any')\n",
    "    y_train = df_train[target]\n",
    "    X_train = df_train.drop(drop_list, axis=1)\n",
    "    \n",
    "    df_val = df[df.an == year_for_validation].dropna(how='any')\n",
    "    y_val = df_val[target]\n",
    "    X_val = df_val.drop(drop_list, axis=1)\n",
    "    \n",
    "    # Normalisation du dataframe\n",
    "    X_train[scale_list] = scaler.fit_transform(X_train[scale_list])\n",
    "    X_val[scale_list] = scaler.transform(X_val[scale_list])\n",
    "\n",
    "    print(X_train.shape, X_val.shape)\n",
    "    print(y_train.shape, y_val.shape)\n",
    "    \n",
    "    return X_train, X_val, y_train, y_val"
   ]
  },
  {
   "cell_type": "code",
   "execution_count": 60,
   "metadata": {
    "collapsed": false
   },
   "outputs": [],
   "source": [
    "def get_classif(y_pred, y_val, id_val, target):\n",
    "    from scipy.stats import rankdata\n",
    "    \n",
    "    res = pd.concat([id_val, pd.DataFrame(y_val)], axis=1, join='inner')\n",
    "    res['prediction'] = y_pred\n",
    "    res['ecart'] = y_pred - res[target]\n",
    "    res['classement'] = 0\n",
    "    res['qualif'] = 'N'\n",
    "    \n",
    "    for circo in set(res.code):\n",
    "        # classement des candidats par circonscription\n",
    "        res.loc[res.code==circo, 'classement'] = rankdata(-res.prediction[res.code==circo], method='ordinal')\n",
    "        \n",
    "        # normalisation des votes pour que la somme soit égale à 100%\n",
    "        res.loc[res.code==circo, 'prediction'] /= np.sum(res.loc[res.code==circo, 'prediction'])\n",
    "        \n",
    "        if target=='p_exprimes':\n",
    "            taux_E = 1\n",
    "            taux_O = np.float(res.loc[(res.code==circo) & (res.classement==1), 'taux_vote_leg'])\n",
    "        elif target=='p_inscrits':\n",
    "            taux_E = 1 / np.float(res.loc[(res.code==circo) & (res.classement==1), 'taux_vote_leg'])\n",
    "            taux_O = 1\n",
    "            \n",
    "        # simulation des qualifiés pour le second tour\n",
    "        i = 1\n",
    "        q = 0\n",
    "        while True:\n",
    "            #print(res.loc[(res.code==circo) & (res.classement==i), 'prediction'].values)\n",
    "            if (res.loc[(res.code==circo) & (res.classement==i), 'prediction'].values) * taux_E >= .5:\n",
    "                res.loc[(res.code==circo) & (res.classement==i), 'qualif'] = 'E'\n",
    "                break\n",
    "            elif (res.loc[(res.code==circo) & (res.classement==i), 'prediction'].values) * taux_O >= .125:\n",
    "                res.loc[(res.code==circo) & (res.classement==i), 'qualif'] = 'O'\n",
    "                q += 1\n",
    "            elif q < 2:\n",
    "                res.loc[(res.code==circo) & (res.classement==i), 'qualif'] = 'O'\n",
    "                q += 1\n",
    "            else:\n",
    "                break\n",
    "\n",
    "            i += 1\n",
    "    return res"
   ]
  },
  {
   "cell_type": "code",
   "execution_count": 71,
   "metadata": {
    "collapsed": false
   },
   "outputs": [],
   "source": [
    "def analyze_predictions(df_predictions, target):\n",
    "    n = df_predictions.shape[0]\n",
    "    print('Prédictions pour {} candidats.'.format(n))\n",
    "\n",
    "    ecarts_absolus = abs(df_predictions.ecart)\n",
    "    max_ecart = np.max(ecarts_absolus)\n",
    "    grid = np.arange(max_ecart, step=.01)\n",
    "    ecarts_grid = []\n",
    "\n",
    "    for point in grid:\n",
    "        ecarts_grid.append(np.sum(ecarts_absolus < point))\n",
    "\n",
    "    print('La MAE est : {:.2f}%'.format(\n",
    "            mean_absolute_error(df_predictions[target], df_predictions.prediction) * 100))\n",
    "    print('La plus grosse erreur est : {:.2f}%'.format(max_ecart * 100))\n",
    "    print('Le score AUC est : {:.2f}%'.format(auc(grid, ecarts_grid) * 100 / n))\n",
    "    print('Le score r2 est : {:.2f}'.format(r2_score(df_predictions[target], df_predictions.prediction)))\n",
    "\n",
    "    point_list = [.01, .02, .05, .1]\n",
    "    ecart_list = [np.sum(ecarts_absolus < point) for point in point_list]\n",
    "\n",
    "    plt.figure(1, figsize=(17, 3))\n",
    "    plt.subplot(131)\n",
    "    plt.plot(grid, ecarts_grid)\n",
    "    for i in range(len(point_list)):\n",
    "        plt.plot(point_list[i], ecart_list[i], 'ro')\n",
    "        plt.text(point_list[i]+.005, ecart_list[i]-400, '{:.2f}%'.format(ecart_list[i]/n))\n",
    "\n",
    "    plt.title('Nb d\\'obs en dessous d\\'un seuil d\\'erreur')\n",
    "    plt.xlabel('Seuils d\\'erreur')\n",
    "\n",
    "    plt.subplot(132)\n",
    "    plt.hist(df_predictions['ecart'], bins=50)\n",
    "    plt.title('Répartition globale des erreurs')\n",
    "\n",
    "    # comparaison de la distribution des erreurs, parti par parti\n",
    "    from scipy.stats import gaussian_kde\n",
    "    plt.subplot(133)\n",
    "    x_grid = np.arange(min(df_predictions['ecart']), max(df_predictions['ecart']), step=.01)\n",
    "\n",
    "    nuances = {'FI': 'red','ECO': 'green', 'SOC': 'pink', 'MDM': 'orange', 'UDI': 'yellow',\n",
    "               'LR': 'blue', 'DLF': 'darkblue', 'FN': 'black', 'REG': 'teal'}\n",
    "    for nuance in nuances:\n",
    "        n_pred = df_predictions[(df_predictions['nuance_groupe']==nuance)\n",
    "                                & ((df_predictions['qualif']=='E')\n",
    "                               | (df_predictions['qualif']=='O'))].shape[0]\n",
    "        n_reel = df_predictions[(df_predictions['nuance_groupe']==nuance)\n",
    "                                & ((df_predictions['second_tour']=='E')\n",
    "                               | (df_predictions['second_tour']=='O'))].shape[0]\n",
    "        print('{}: {} prédits | Réel {}'.format(nuance, n_pred, n_reel))\n",
    "        try: # cas où le parti n'est pas représenté à l'élection prédite\n",
    "            pdf = gaussian_kde(df_predictions['ecart'][df_predictions['nuance_groupe']==nuance],\n",
    "                               bw_method=.9).evaluate(x_grid)\n",
    "            plt.plot(x_grid, pdf, color=nuances[nuance], label=nuance, lw=2)\n",
    "        except:\n",
    "            pass\n",
    "\n",
    "    plt.title('Répartition des erreurs selon le parti')\n",
    "    plt.legend(loc='best')\n",
    "\n",
    "    n_correct = np.sum(df_predictions.second_tour == df_predictions.qualif)\n",
    "    print('\\n{} prédictions correctes sur {} (soit {:.1f}%)'.format(n_correct, n, 100 * n_correct / n))\n",
    "\n",
    "    print('\\nMatrice de confusion. En colonne les classes prédites, en ligne les classes réelles.')\n",
    "    cm = confusion_matrix(df_predictions.second_tour, df_predictions.qualif, labels=['E', 'O', 'N'])\n",
    "    print(cm)\n",
    "\n",
    "    f1_E = f1_score(df_predictions.second_tour, df_predictions.qualif, labels='E', average='micro')\n",
    "    print('Score F1 pour la classe E : {:.1f}%'.format(f1_E * 100))\n",
    "    f1_O = f1_score(df_predictions.second_tour, df_predictions.qualif, labels='O', average='micro')\n",
    "    print('Score F1 pour la classe O : {:.1f}%'.format(f1_O * 100))\n",
    "    f1_N = f1_score(df_predictions.second_tour, df_predictions.qualif, labels='N', average='micro')\n",
    "    print('Score F1 pour la classe N : {:.1f}%'.format(f1_N * 100))\n",
    "    plt.show()\n",
    "    \n",
    "    return"
   ]
  },
  {
   "cell_type": "markdown",
   "metadata": {},
   "source": [
    "### Choix des paramètres"
   ]
  },
  {
   "cell_type": "code",
   "execution_count": 62,
   "metadata": {
    "collapsed": true
   },
   "outputs": [],
   "source": [
    "# Sélection des features\n",
    "keep_list = [#'geo_frontalier', 'geo_dom', 'geo_idf',\n",
    "    'part_impose', 'chom_tot',\n",
    "    #'p_agri',\n",
    "    'p_ouvriers',\n",
    "    #'d_brevet',\n",
    "    'd_sup',\n",
    "    'circo_leg_meme_nuance', 'circo_meme_nuance_president', 'circo_pres_meme_nuance',\n",
    "    'nb_candidats_meme_bloc',\n",
    "    'score_nuance_groupe_pres',\n",
    "    'score_candidat_prec_leg',\n",
    "    #'score_nuance_groupe_prec_leg', #(un peu mauvais)\n",
    "    #'score_bloc_pres', 'score_bloc_prec_leg', #(mauvais pour le score)\n",
    "    'nuance_groupe',\n",
    "    #'taux_vote_pres', 'taux_vote_leg',\n",
    "    'depute_sortant', 'ancien_depute', 'au_gouvernement', 'ancien_ministre',\n",
    "    'membre_majorite',\n",
    "    'sexe'\n",
    "]\n",
    "\n",
    "scaler = MinMaxScaler()\n",
    "#scaler = StandardScaler()\n",
    "target_values = 'p_exprimes' # 'p_inscrits'\n",
    "target_year = 2012"
   ]
  },
  {
   "cell_type": "code",
   "execution_count": 63,
   "metadata": {
    "collapsed": false
   },
   "outputs": [
    {
     "name": "stdout",
     "output_type": "stream",
     "text": [
      "Format du dataframe : (26396, 20)\n",
      "Variables à normaliser ['part_impose', 'chom_tot', 'p_ouvriers', 'd_sup', 'score_nuance_groupe_pres']\n",
      "(13689, 31) (6024, 31)\n",
      "(13689,) (6024,)\n"
     ]
    }
   ],
   "source": [
    "df = generate_df(raw, keep_list)\n",
    "X_train, X_val, y_train, y_val = train_val_splits(df, target_year, target_values, scaler)"
   ]
  },
  {
   "cell_type": "code",
   "execution_count": 64,
   "metadata": {
    "collapsed": false
   },
   "outputs": [
    {
     "data": {
      "text/html": [
       "<div>\n",
       "<table border=\"1\" class=\"dataframe\">\n",
       "  <thead>\n",
       "    <tr style=\"text-align: right;\">\n",
       "      <th></th>\n",
       "      <th>part_impose</th>\n",
       "      <th>chom_tot</th>\n",
       "      <th>p_ouvriers</th>\n",
       "      <th>d_sup</th>\n",
       "      <th>circo_leg_meme_nuance</th>\n",
       "      <th>nb_candidats_meme_bloc</th>\n",
       "      <th>circo_pres_meme_nuance</th>\n",
       "      <th>circo_meme_nuance_president</th>\n",
       "      <th>score_nuance_groupe_pres</th>\n",
       "      <th>score_candidat_prec_leg</th>\n",
       "      <th>...</th>\n",
       "      <th>nuance_groupe_EXG</th>\n",
       "      <th>nuance_groupe_FI</th>\n",
       "      <th>nuance_groupe_FN</th>\n",
       "      <th>nuance_groupe_LR</th>\n",
       "      <th>nuance_groupe_MDM</th>\n",
       "      <th>nuance_groupe_RDG</th>\n",
       "      <th>nuance_groupe_REG</th>\n",
       "      <th>nuance_groupe_REM</th>\n",
       "      <th>nuance_groupe_SOC</th>\n",
       "      <th>nuance_groupe_UDI</th>\n",
       "    </tr>\n",
       "  </thead>\n",
       "  <tbody>\n",
       "    <tr>\n",
       "      <th>14488</th>\n",
       "      <td>0.546669</td>\n",
       "      <td>0.061475</td>\n",
       "      <td>0.598684</td>\n",
       "      <td>0.331373</td>\n",
       "      <td>0.0</td>\n",
       "      <td>3.0</td>\n",
       "      <td>0.0</td>\n",
       "      <td>0.0</td>\n",
       "      <td>0.018692</td>\n",
       "      <td>0.036679</td>\n",
       "      <td>...</td>\n",
       "      <td>0</td>\n",
       "      <td>0</td>\n",
       "      <td>0</td>\n",
       "      <td>0</td>\n",
       "      <td>0</td>\n",
       "      <td>0</td>\n",
       "      <td>0</td>\n",
       "      <td>0</td>\n",
       "      <td>0</td>\n",
       "      <td>0</td>\n",
       "    </tr>\n",
       "    <tr>\n",
       "      <th>14489</th>\n",
       "      <td>0.546669</td>\n",
       "      <td>0.061475</td>\n",
       "      <td>0.598684</td>\n",
       "      <td>0.331373</td>\n",
       "      <td>1.0</td>\n",
       "      <td>2.0</td>\n",
       "      <td>1.0</td>\n",
       "      <td>0.0</td>\n",
       "      <td>0.481142</td>\n",
       "      <td>0.223836</td>\n",
       "      <td>...</td>\n",
       "      <td>0</td>\n",
       "      <td>0</td>\n",
       "      <td>0</td>\n",
       "      <td>1</td>\n",
       "      <td>0</td>\n",
       "      <td>0</td>\n",
       "      <td>0</td>\n",
       "      <td>0</td>\n",
       "      <td>0</td>\n",
       "      <td>0</td>\n",
       "    </tr>\n",
       "  </tbody>\n",
       "</table>\n",
       "<p>2 rows × 31 columns</p>\n",
       "</div>"
      ],
      "text/plain": [
       "       part_impose  chom_tot  p_ouvriers     d_sup  circo_leg_meme_nuance  \\\n",
       "14488     0.546669  0.061475    0.598684  0.331373                    0.0   \n",
       "14489     0.546669  0.061475    0.598684  0.331373                    1.0   \n",
       "\n",
       "       nb_candidats_meme_bloc  circo_pres_meme_nuance  \\\n",
       "14488                     3.0                     0.0   \n",
       "14489                     2.0                     1.0   \n",
       "\n",
       "       circo_meme_nuance_president  score_nuance_groupe_pres  \\\n",
       "14488                          0.0                  0.018692   \n",
       "14489                          0.0                  0.481142   \n",
       "\n",
       "       score_candidat_prec_leg        ...          nuance_groupe_EXG  \\\n",
       "14488                 0.036679        ...                          0   \n",
       "14489                 0.223836        ...                          0   \n",
       "\n",
       "       nuance_groupe_FI  nuance_groupe_FN  nuance_groupe_LR  \\\n",
       "14488                 0                 0                 0   \n",
       "14489                 0                 0                 1   \n",
       "\n",
       "       nuance_groupe_MDM  nuance_groupe_RDG  nuance_groupe_REG  \\\n",
       "14488                  0                  0                  0   \n",
       "14489                  0                  0                  0   \n",
       "\n",
       "       nuance_groupe_REM  nuance_groupe_SOC  nuance_groupe_UDI  \n",
       "14488                  0                  0                  0  \n",
       "14489                  0                  0                  0  \n",
       "\n",
       "[2 rows x 31 columns]"
      ]
     },
     "execution_count": 64,
     "metadata": {},
     "output_type": "execute_result"
    }
   ],
   "source": [
    "X_train.head(2)"
   ]
  },
  {
   "cell_type": "markdown",
   "metadata": {},
   "source": [
    "### Choix de modèle"
   ]
  },
  {
   "cell_type": "code",
   "execution_count": 14,
   "metadata": {
    "collapsed": false,
    "deletable": true,
    "editable": true,
    "scrolled": true
   },
   "outputs": [],
   "source": [
    "from sklearn.ensemble import RandomForestRegressor\n",
    "rf = RandomForestRegressor(n_jobs=-1, n_estimators=100)\n",
    "rf.fit(X_train, y_train)\n",
    "y_pred = rf.predict(X_val)\n",
    "#sorted(list(zip(rf.feature_importances_*100, X_train.columns)), reverse=True)"
   ]
  },
  {
   "cell_type": "code",
   "execution_count": 195,
   "metadata": {
    "collapsed": true
   },
   "outputs": [],
   "source": [
    "# from sklearn.svm import SVR\n",
    "# reg = SVR()\n",
    "# reg.fit(X_train, y_train)\n",
    "# y_pred = reg.predict(X_val)"
   ]
  },
  {
   "cell_type": "code",
   "execution_count": 65,
   "metadata": {
    "collapsed": false
   },
   "outputs": [
    {
     "name": "stdout",
     "output_type": "stream",
     "text": [
      "Iteration 1, loss = 0.06204321\n",
      "Iteration 2, loss = 0.00176426\n",
      "Iteration 3, loss = 0.00126751\n",
      "Iteration 4, loss = 0.00120668\n",
      "Iteration 5, loss = 0.00117290\n",
      "Iteration 6, loss = 0.00114170\n",
      "Iteration 7, loss = 0.00111831\n",
      "Iteration 8, loss = 0.00110552\n",
      "Iteration 9, loss = 0.00109948\n",
      "Iteration 10, loss = 0.00108282\n",
      "Iteration 11, loss = 0.00106120\n",
      "Iteration 12, loss = 0.00105092\n",
      "Iteration 13, loss = 0.00105358\n",
      "Iteration 14, loss = 0.00103284\n",
      "Iteration 15, loss = 0.00103548\n",
      "Iteration 16, loss = 0.00101684\n",
      "Iteration 17, loss = 0.00101697\n",
      "Iteration 18, loss = 0.00101424\n",
      "Iteration 19, loss = 0.00102988\n",
      "Iteration 20, loss = 0.00099753\n",
      "Iteration 21, loss = 0.00099272\n",
      "Iteration 22, loss = 0.00100561\n",
      "Iteration 23, loss = 0.00101973\n",
      "Iteration 24, loss = 0.00098865\n",
      "Iteration 25, loss = 0.00098365\n",
      "Iteration 26, loss = 0.00098966\n",
      "Iteration 27, loss = 0.00098799\n",
      "Iteration 28, loss = 0.00096881\n",
      "Iteration 29, loss = 0.00097050\n",
      "Iteration 30, loss = 0.00096816\n",
      "Iteration 31, loss = 0.00096617\n",
      "Iteration 32, loss = 0.00096319\n",
      "Iteration 33, loss = 0.00095122\n",
      "Iteration 34, loss = 0.00095355\n",
      "Iteration 35, loss = 0.00098383\n",
      "Iteration 36, loss = 0.00095548\n",
      "Training loss did not improve more than tol=0.000000 for two consecutive epochs. Stopping.\n"
     ]
    }
   ],
   "source": [
    "from sklearn.neural_network import MLPRegressor\n",
    "reg = MLPRegressor((100, 100), activation='relu', solver='adam', alpha=0.001, batch_size=500,\n",
    "                   learning_rate='adaptive', learning_rate_init=0.01, max_iter=1000, tol=1e-7, verbose=True,\n",
    "                  power_t=.5, early_stopping=False)\n",
    "reg.fit(X_train, y_train)\n",
    "y_pred = reg.predict(X_val)"
   ]
  },
  {
   "cell_type": "code",
   "execution_count": 72,
   "metadata": {
    "collapsed": false
   },
   "outputs": [
    {
     "name": "stdout",
     "output_type": "stream",
     "text": [
      "Prédictions pour 6024 candidats.\n",
      "La MAE est : 3.66%\n",
      "La plus grosse erreur est : 44.61%\n",
      "Le score AUC est : 40.60%\n",
      "Le score r2 est : 0.77\n",
      "ECO: 5 prédits | Réel 44\n",
      "MDM: 6 prédits | Réel 12\n",
      "FI: 25 prédits | Réel 12\n",
      "SOC: 457 prédits | Réel 427\n",
      "LR: 435 prédits | Réel 422\n",
      "FN: 8 prédits | Réel 59\n",
      "DLF: 1 prédits | Réel 1\n",
      "REG: 1 prédits | Réel 4\n",
      "UDI: 29 prédits | Réel 45\n",
      "\n",
      "5564 prédictions correctes sur 6024 (soit 92.4%)\n",
      "\n",
      "Matrice de confusion. En colonne les classes prédites, en ligne les classes réelles.\n",
      "[[  19   17    0]\n",
      " [ 116  744  219]\n",
      " [   1  107 4801]]\n",
      "Score F1 pour la classe E : 22.1%\n",
      "Score F1 pour la classe O : 76.4%\n",
      "Score F1 pour la classe N : 96.7%\n"
     ]
    },
    {
     "data": {
      "image/png": "[encoded data removed]",
      "text/plain": [
       "<matplotlib.figure.Figure at 0x21486284080>"
      ]
     },
     "metadata": {},
     "output_type": "display_data"
    }
   ],
   "source": [
    "df_predictions = get_classif(y_pred, y_val, df_id, target_values)\n",
    "analyze_predictions(df_predictions, target_values)"
   ]
  },
  {
   "cell_type": "code",
   "execution_count": 67,
   "metadata": {
    "collapsed": false
   },
   "outputs": [
    {
     "data": {
      "text/html": [
       "<div>\n",
       "<table border=\"1\" class=\"dataframe\">\n",
       "  <thead>\n",
       "    <tr style=\"text-align: right;\">\n",
       "      <th></th>\n",
       "      <th>an</th>\n",
       "      <th>dep</th>\n",
       "      <th>circo</th>\n",
       "      <th>code</th>\n",
       "      <th>nom</th>\n",
       "      <th>prenom</th>\n",
       "      <th>nuance_groupe</th>\n",
       "      <th>taux_vote_leg</th>\n",
       "      <th>second_tour</th>\n",
       "      <th>p_exprimes</th>\n",
       "      <th>prediction</th>\n",
       "      <th>ecart</th>\n",
       "      <th>classement</th>\n",
       "      <th>qualif</th>\n",
       "    </tr>\n",
       "  </thead>\n",
       "  <tbody>\n",
       "    <tr>\n",
       "      <th>13113</th>\n",
       "      <td>2012</td>\n",
       "      <td>SAINT-PIERRE-ET-MIQUELON</td>\n",
       "      <td>1</td>\n",
       "      <td>975|1</td>\n",
       "      <td>GIRARDIN</td>\n",
       "      <td>ANNICK</td>\n",
       "      <td>RDG</td>\n",
       "      <td>0.5186</td>\n",
       "      <td>E</td>\n",
       "      <td>0.6552</td>\n",
       "      <td>0.399334</td>\n",
       "      <td>-0.446149</td>\n",
       "      <td>1</td>\n",
       "      <td>O</td>\n",
       "    </tr>\n",
       "    <tr>\n",
       "      <th>12340</th>\n",
       "      <td>2012</td>\n",
       "      <td>PARIS</td>\n",
       "      <td>6</td>\n",
       "      <td>75|6</td>\n",
       "      <td>DUFLOT</td>\n",
       "      <td>CECILE</td>\n",
       "      <td>ECO</td>\n",
       "      <td>0.5929</td>\n",
       "      <td>O</td>\n",
       "      <td>0.4874</td>\n",
       "      <td>0.093496</td>\n",
       "      <td>-0.437746</td>\n",
       "      <td>3</td>\n",
       "      <td>N</td>\n",
       "    </tr>\n",
       "    <tr>\n",
       "      <th>10982</th>\n",
       "      <td>2012</td>\n",
       "      <td>LA-REUNION</td>\n",
       "      <td>2</td>\n",
       "      <td>974|2</td>\n",
       "      <td>BELLO</td>\n",
       "      <td>HUGUETTE</td>\n",
       "      <td>DVG</td>\n",
       "      <td>0.4562</td>\n",
       "      <td>E</td>\n",
       "      <td>0.6712</td>\n",
       "      <td>0.239174</td>\n",
       "      <td>-0.425749</td>\n",
       "      <td>2</td>\n",
       "      <td>O</td>\n",
       "    </tr>\n",
       "  </tbody>\n",
       "</table>\n",
       "</div>"
      ],
      "text/plain": [
       "         an                       dep  circo   code       nom    prenom  \\\n",
       "13113  2012  SAINT-PIERRE-ET-MIQUELON      1  975|1  GIRARDIN    ANNICK   \n",
       "12340  2012                     PARIS      6   75|6    DUFLOT    CECILE   \n",
       "10982  2012                LA-REUNION      2  974|2     BELLO  HUGUETTE   \n",
       "\n",
       "      nuance_groupe  taux_vote_leg second_tour  p_exprimes  prediction  \\\n",
       "13113           RDG         0.5186           E      0.6552    0.399334   \n",
       "12340           ECO         0.5929           O      0.4874    0.093496   \n",
       "10982           DVG         0.4562           E      0.6712    0.239174   \n",
       "\n",
       "          ecart  classement qualif  \n",
       "13113 -0.446149           1      O  \n",
       "12340 -0.437746           3      N  \n",
       "10982 -0.425749           2      O  "
      ]
     },
     "execution_count": 67,
     "metadata": {},
     "output_type": "execute_result"
    }
   ],
   "source": [
    "df_predictions.sort_values(by='ecart').head(3)"
   ]
  },
  {
   "cell_type": "code",
   "execution_count": 184,
   "metadata": {
    "collapsed": false
   },
   "outputs": [
    {
     "data": {
      "text/html": [
       "<div>\n",
       "<table border=\"1\" class=\"dataframe\">\n",
       "  <thead>\n",
       "    <tr style=\"text-align: right;\">\n",
       "      <th></th>\n",
       "      <th>an</th>\n",
       "      <th>dep</th>\n",
       "      <th>circo</th>\n",
       "      <th>code</th>\n",
       "      <th>nom</th>\n",
       "      <th>prenom</th>\n",
       "      <th>nuance_groupe</th>\n",
       "      <th>taux_vote_leg</th>\n",
       "      <th>second_tour</th>\n",
       "      <th>p_exprimes</th>\n",
       "      <th>prediction</th>\n",
       "      <th>ecart</th>\n",
       "      <th>classement</th>\n",
       "      <th>qualif</th>\n",
       "    </tr>\n",
       "  </thead>\n",
       "  <tbody>\n",
       "    <tr>\n",
       "      <th>11564</th>\n",
       "      <td>2012</td>\n",
       "      <td>MARTINIQUE</td>\n",
       "      <td>2</td>\n",
       "      <td>972|2</td>\n",
       "      <td>LEBON</td>\n",
       "      <td>FRANTZ</td>\n",
       "      <td>SOC</td>\n",
       "      <td>0.3253</td>\n",
       "      <td>N</td>\n",
       "      <td>0.0218</td>\n",
       "      <td>0.29476</td>\n",
       "      <td>0.27296</td>\n",
       "      <td>1</td>\n",
       "      <td>O</td>\n",
       "    </tr>\n",
       "    <tr>\n",
       "      <th>9853</th>\n",
       "      <td>2012</td>\n",
       "      <td>GUADELOUPE</td>\n",
       "      <td>2</td>\n",
       "      <td>971|2</td>\n",
       "      <td>COUCHY</td>\n",
       "      <td>CHRISTIAN</td>\n",
       "      <td>SOC</td>\n",
       "      <td>0.2982</td>\n",
       "      <td>N</td>\n",
       "      <td>0.0362</td>\n",
       "      <td>0.30947</td>\n",
       "      <td>0.27327</td>\n",
       "      <td>1</td>\n",
       "      <td>O</td>\n",
       "    </tr>\n",
       "    <tr>\n",
       "      <th>12030</th>\n",
       "      <td>2012</td>\n",
       "      <td>NORD</td>\n",
       "      <td>10</td>\n",
       "      <td>59|10</td>\n",
       "      <td>VANNESTE</td>\n",
       "      <td>CHRISTIAN</td>\n",
       "      <td>DVD</td>\n",
       "      <td>0.4669</td>\n",
       "      <td>N</td>\n",
       "      <td>0.1311</td>\n",
       "      <td>0.41084</td>\n",
       "      <td>0.27974</td>\n",
       "      <td>1</td>\n",
       "      <td>O</td>\n",
       "    </tr>\n",
       "  </tbody>\n",
       "</table>\n",
       "</div>"
      ],
      "text/plain": [
       "         an         dep  circo   code       nom     prenom nuance_groupe  \\\n",
       "11564  2012  MARTINIQUE      2  972|2     LEBON     FRANTZ           SOC   \n",
       "9853   2012  GUADELOUPE      2  971|2    COUCHY  CHRISTIAN           SOC   \n",
       "12030  2012        NORD     10  59|10  VANNESTE  CHRISTIAN           DVD   \n",
       "\n",
       "       taux_vote_leg second_tour  p_exprimes  prediction    ecart  classement  \\\n",
       "11564         0.3253           N      0.0218     0.29476  0.27296           1   \n",
       "9853          0.2982           N      0.0362     0.30947  0.27327           1   \n",
       "12030         0.4669           N      0.1311     0.41084  0.27974           1   \n",
       "\n",
       "      qualif  \n",
       "11564      O  \n",
       "9853       O  \n",
       "12030      O  "
      ]
     },
     "execution_count": 184,
     "metadata": {},
     "output_type": "execute_result"
    }
   ],
   "source": [
    "df_predictions.sort_values(by='ecart').tail(3)"
   ]
  },
  {
   "cell_type": "markdown",
   "metadata": {},
   "source": [
    "#### Save predictions"
   ]
  },
  {
   "cell_type": "code",
   "execution_count": 69,
   "metadata": {
    "collapsed": false
   },
   "outputs": [],
   "source": [
    "from datetime import datetime\n",
    "now = datetime.now()\n",
    "stamp = '{}_{}_{}h{}'.format(now.day, now.month, now.hour, now.minute)\n",
    "df_predictions.to_excel('predictions_du_{}.xlsx'.format(stamp))"
   ]
  },
  {
   "cell_type": "code",
   "execution_count": null,
   "metadata": {
    "collapsed": true
   },
   "outputs": [],
   "source": []
  }
 ],
 "metadata": {
  "anaconda-cloud": {},
  "kernelspec": {
   "display_name": "Python [default]",
   "language": "python",
   "name": "python3"
  },
  "language_info": {
   "codemirror_mode": {
    "name": "ipython",
    "version": 3
   },
   "file_extension": ".py",
   "mimetype": "text/x-python",
   "name": "python",
   "nbconvert_exporter": "python",
   "pygments_lexer": "ipython3",
   "version": "3.5.2"
  }
 },
 "nbformat": 4,
 "nbformat_minor": 1
}
