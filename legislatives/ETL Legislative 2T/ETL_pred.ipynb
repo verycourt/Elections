{
 "cells": [
  {
   "cell_type": "code",
   "execution_count": 1,
   "metadata": {
    "collapsed": true
   },
   "outputs": [],
   "source": [
    "import pandas as pd\n",
    "import numpy as np\n",
    "import os"
   ]
  },
  {
   "cell_type": "code",
   "execution_count": 2,
   "metadata": {
    "collapsed": true
   },
   "outputs": [],
   "source": [
    "os.chdir(\"./data\")"
   ]
  },
  {
   "cell_type": "code",
   "execution_count": 3,
   "metadata": {
    "collapsed": false
   },
   "outputs": [
    {
     "name": "stdout",
     "output_type": "stream",
     "text": [
      "\u001b[0m\u001b[01;32mcdsp_legi1997t2_circ.xlsx\u001b[0m*  \u001b[01;32mdataframe_elections.xlsx\u001b[0m*\r\n",
      "\u001b[01;32mcdsp_legi2002t2_circ.xls\u001b[0m*   \u001b[01;32mdataset_legislative_2nd.csv\u001b[0m*\r\n",
      "\u001b[01;32mcdsp_legi2007t2_circ.xls\u001b[0m*   \u001b[01;32mdico_variables.csv\u001b[0m*\r\n",
      "\u001b[01;32mcdsp_legi2012t2_circ.xlsx\u001b[0m*  pred_format_second_tour_du_6_6_20h55.xlsx\r\n"
     ]
    }
   ],
   "source": [
    "ls"
   ]
  },
  {
   "cell_type": "code",
   "execution_count": 4,
   "metadata": {
    "collapsed": true
   },
   "outputs": [],
   "source": [
    "data_validation = pd.read_excel(\"pred_format_second_tour_du_6_6_20h55.xlsx\")"
   ]
  },
  {
   "cell_type": "code",
   "execution_count": 5,
   "metadata": {
    "collapsed": false
   },
   "outputs": [
    {
     "data": {
      "text/html": [
       "<div>\n",
       "<table border=\"1\" class=\"dataframe\">\n",
       "  <thead>\n",
       "    <tr style=\"text-align: right;\">\n",
       "      <th></th>\n",
       "      <th>an</th>\n",
       "      <th>dep</th>\n",
       "      <th>circo</th>\n",
       "      <th>code</th>\n",
       "      <th>nom</th>\n",
       "      <th>prenom</th>\n",
       "      <th>nuance</th>\n",
       "      <th>bloc</th>\n",
       "      <th>circo_leg_meme_nuance</th>\n",
       "      <th>circo_pres_meme_nuance</th>\n",
       "      <th>score_bloc_pres</th>\n",
       "      <th>depute_sortant</th>\n",
       "      <th>ancien_depute</th>\n",
       "      <th>au_gouvernement</th>\n",
       "      <th>ancien_ministre</th>\n",
       "      <th>prediction</th>\n",
       "    </tr>\n",
       "  </thead>\n",
       "  <tbody>\n",
       "    <tr>\n",
       "      <th>0</th>\n",
       "      <td>2017</td>\n",
       "      <td>AIN</td>\n",
       "      <td>1</td>\n",
       "      <td>1|1</td>\n",
       "      <td>BLATRIX-CONTAT</td>\n",
       "      <td>FLORENCE</td>\n",
       "      <td>SOC</td>\n",
       "      <td>Gauche</td>\n",
       "      <td>0</td>\n",
       "      <td>0</td>\n",
       "      <td>0.072449</td>\n",
       "      <td>0</td>\n",
       "      <td>0</td>\n",
       "      <td>0</td>\n",
       "      <td>0</td>\n",
       "      <td>0.018104</td>\n",
       "    </tr>\n",
       "    <tr>\n",
       "      <th>2</th>\n",
       "      <td>2017</td>\n",
       "      <td>AIN</td>\n",
       "      <td>1</td>\n",
       "      <td>1|1</td>\n",
       "      <td>BRETON</td>\n",
       "      <td>XAVIER</td>\n",
       "      <td>LR</td>\n",
       "      <td>Droite</td>\n",
       "      <td>1</td>\n",
       "      <td>0</td>\n",
       "      <td>0.347790</td>\n",
       "      <td>1</td>\n",
       "      <td>1</td>\n",
       "      <td>0</td>\n",
       "      <td>0</td>\n",
       "      <td>0.330423</td>\n",
       "    </tr>\n",
       "    <tr>\n",
       "      <th>3</th>\n",
       "      <td>2017</td>\n",
       "      <td>AIN</td>\n",
       "      <td>1</td>\n",
       "      <td>1|1</td>\n",
       "      <td>BUISSON</td>\n",
       "      <td>JEROME</td>\n",
       "      <td>FN</td>\n",
       "      <td>Exdroite</td>\n",
       "      <td>0</td>\n",
       "      <td>1</td>\n",
       "      <td>0.326598</td>\n",
       "      <td>0</td>\n",
       "      <td>0</td>\n",
       "      <td>0</td>\n",
       "      <td>0</td>\n",
       "      <td>0.185577</td>\n",
       "    </tr>\n",
       "    <tr>\n",
       "      <th>5</th>\n",
       "      <td>2017</td>\n",
       "      <td>AIN</td>\n",
       "      <td>1</td>\n",
       "      <td>1|1</td>\n",
       "      <td>FONTAINE</td>\n",
       "      <td>JACQUES</td>\n",
       "      <td>COM</td>\n",
       "      <td>Exgauche</td>\n",
       "      <td>0</td>\n",
       "      <td>0</td>\n",
       "      <td>0.221948</td>\n",
       "      <td>0</td>\n",
       "      <td>0</td>\n",
       "      <td>0</td>\n",
       "      <td>0</td>\n",
       "      <td>0.026731</td>\n",
       "    </tr>\n",
       "    <tr>\n",
       "      <th>6</th>\n",
       "      <td>2017</td>\n",
       "      <td>AIN</td>\n",
       "      <td>1</td>\n",
       "      <td>1|1</td>\n",
       "      <td>LEPAGNOT</td>\n",
       "      <td>MAUDE</td>\n",
       "      <td>EXG</td>\n",
       "      <td>Exgauche</td>\n",
       "      <td>0</td>\n",
       "      <td>0</td>\n",
       "      <td>0.221948</td>\n",
       "      <td>0</td>\n",
       "      <td>0</td>\n",
       "      <td>0</td>\n",
       "      <td>0</td>\n",
       "      <td>0.014229</td>\n",
       "    </tr>\n",
       "  </tbody>\n",
       "</table>\n",
       "</div>"
      ],
      "text/plain": [
       "     an  dep  circo code             nom    prenom nuance      bloc  \\\n",
       "0  2017  AIN      1  1|1  BLATRIX-CONTAT  FLORENCE    SOC    Gauche   \n",
       "2  2017  AIN      1  1|1          BRETON    XAVIER     LR    Droite   \n",
       "3  2017  AIN      1  1|1         BUISSON    JEROME     FN  Exdroite   \n",
       "5  2017  AIN      1  1|1        FONTAINE   JACQUES    COM  Exgauche   \n",
       "6  2017  AIN      1  1|1        LEPAGNOT     MAUDE    EXG  Exgauche   \n",
       "\n",
       "   circo_leg_meme_nuance  circo_pres_meme_nuance  score_bloc_pres  \\\n",
       "0                      0                       0         0.072449   \n",
       "2                      1                       0         0.347790   \n",
       "3                      0                       1         0.326598   \n",
       "5                      0                       0         0.221948   \n",
       "6                      0                       0         0.221948   \n",
       "\n",
       "   depute_sortant  ancien_depute  au_gouvernement  ancien_ministre  prediction  \n",
       "0               0              0                0                0    0.018104  \n",
       "2               1              1                0                0    0.330423  \n",
       "3               0              0                0                0    0.185577  \n",
       "5               0              0                0                0    0.026731  \n",
       "6               0              0                0                0    0.014229  "
      ]
     },
     "execution_count": 5,
     "metadata": {},
     "output_type": "execute_result"
    }
   ],
   "source": [
    "data_validation.head()"
   ]
  },
  {
   "cell_type": "code",
   "execution_count": 6,
   "metadata": {
    "collapsed": false
   },
   "outputs": [
    {
     "data": {
      "text/plain": [
       "(6338, 16)"
      ]
     },
     "execution_count": 6,
     "metadata": {},
     "output_type": "execute_result"
    }
   ],
   "source": [
    "data_validation.shape"
   ]
  },
  {
   "cell_type": "code",
   "execution_count": 8,
   "metadata": {
    "collapsed": false
   },
   "outputs": [
    {
     "data": {
      "text/html": [
       "<div>\n",
       "<table border=\"1\" class=\"dataframe\">\n",
       "  <thead>\n",
       "    <tr style=\"text-align: right;\">\n",
       "      <th></th>\n",
       "      <th>an</th>\n",
       "      <th>dep</th>\n",
       "      <th>circo</th>\n",
       "      <th>code</th>\n",
       "      <th>nom</th>\n",
       "      <th>prenom</th>\n",
       "      <th>nuance</th>\n",
       "      <th>bloc</th>\n",
       "      <th>circo_leg_meme_nuance</th>\n",
       "      <th>circo_pres_meme_nuance</th>\n",
       "      <th>score_bloc_pres</th>\n",
       "      <th>depute_sortant</th>\n",
       "      <th>ancien_depute</th>\n",
       "      <th>au_gouvernement</th>\n",
       "      <th>ancien_ministre</th>\n",
       "      <th>prediction</th>\n",
       "    </tr>\n",
       "  </thead>\n",
       "  <tbody>\n",
       "    <tr>\n",
       "      <th>0</th>\n",
       "      <td>2017</td>\n",
       "      <td>AIN</td>\n",
       "      <td>1</td>\n",
       "      <td>1|1</td>\n",
       "      <td>BLATRIX-CONTAT</td>\n",
       "      <td>FLORENCE</td>\n",
       "      <td>SOC</td>\n",
       "      <td>Gauche</td>\n",
       "      <td>0</td>\n",
       "      <td>0</td>\n",
       "      <td>0.072449</td>\n",
       "      <td>0</td>\n",
       "      <td>0</td>\n",
       "      <td>0</td>\n",
       "      <td>0</td>\n",
       "      <td>0.018104</td>\n",
       "    </tr>\n",
       "    <tr>\n",
       "      <th>2</th>\n",
       "      <td>2017</td>\n",
       "      <td>AIN</td>\n",
       "      <td>1</td>\n",
       "      <td>1|1</td>\n",
       "      <td>BRETON</td>\n",
       "      <td>XAVIER</td>\n",
       "      <td>LR</td>\n",
       "      <td>Droite</td>\n",
       "      <td>1</td>\n",
       "      <td>0</td>\n",
       "      <td>0.347790</td>\n",
       "      <td>1</td>\n",
       "      <td>1</td>\n",
       "      <td>0</td>\n",
       "      <td>0</td>\n",
       "      <td>0.330423</td>\n",
       "    </tr>\n",
       "    <tr>\n",
       "      <th>3</th>\n",
       "      <td>2017</td>\n",
       "      <td>AIN</td>\n",
       "      <td>1</td>\n",
       "      <td>1|1</td>\n",
       "      <td>BUISSON</td>\n",
       "      <td>JEROME</td>\n",
       "      <td>FN</td>\n",
       "      <td>Exdroite</td>\n",
       "      <td>0</td>\n",
       "      <td>1</td>\n",
       "      <td>0.326598</td>\n",
       "      <td>0</td>\n",
       "      <td>0</td>\n",
       "      <td>0</td>\n",
       "      <td>0</td>\n",
       "      <td>0.185577</td>\n",
       "    </tr>\n",
       "    <tr>\n",
       "      <th>5</th>\n",
       "      <td>2017</td>\n",
       "      <td>AIN</td>\n",
       "      <td>1</td>\n",
       "      <td>1|1</td>\n",
       "      <td>FONTAINE</td>\n",
       "      <td>JACQUES</td>\n",
       "      <td>COM</td>\n",
       "      <td>Exgauche</td>\n",
       "      <td>0</td>\n",
       "      <td>0</td>\n",
       "      <td>0.221948</td>\n",
       "      <td>0</td>\n",
       "      <td>0</td>\n",
       "      <td>0</td>\n",
       "      <td>0</td>\n",
       "      <td>0.026731</td>\n",
       "    </tr>\n",
       "    <tr>\n",
       "      <th>6</th>\n",
       "      <td>2017</td>\n",
       "      <td>AIN</td>\n",
       "      <td>1</td>\n",
       "      <td>1|1</td>\n",
       "      <td>LEPAGNOT</td>\n",
       "      <td>MAUDE</td>\n",
       "      <td>EXG</td>\n",
       "      <td>Exgauche</td>\n",
       "      <td>0</td>\n",
       "      <td>0</td>\n",
       "      <td>0.221948</td>\n",
       "      <td>0</td>\n",
       "      <td>0</td>\n",
       "      <td>0</td>\n",
       "      <td>0</td>\n",
       "      <td>0.014229</td>\n",
       "    </tr>\n",
       "  </tbody>\n",
       "</table>\n",
       "</div>"
      ],
      "text/plain": [
       "     an  dep  circo code             nom    prenom nuance      bloc  \\\n",
       "0  2017  AIN      1  1|1  BLATRIX-CONTAT  FLORENCE    SOC    Gauche   \n",
       "2  2017  AIN      1  1|1          BRETON    XAVIER     LR    Droite   \n",
       "3  2017  AIN      1  1|1         BUISSON    JEROME     FN  Exdroite   \n",
       "5  2017  AIN      1  1|1        FONTAINE   JACQUES    COM  Exgauche   \n",
       "6  2017  AIN      1  1|1        LEPAGNOT     MAUDE    EXG  Exgauche   \n",
       "\n",
       "   circo_leg_meme_nuance  circo_pres_meme_nuance  score_bloc_pres  \\\n",
       "0                      0                       0         0.072449   \n",
       "2                      1                       0         0.347790   \n",
       "3                      0                       1         0.326598   \n",
       "5                      0                       0         0.221948   \n",
       "6                      0                       0         0.221948   \n",
       "\n",
       "   depute_sortant  ancien_depute  au_gouvernement  ancien_ministre  prediction  \n",
       "0               0              0                0                0    0.018104  \n",
       "2               1              1                0                0    0.330423  \n",
       "3               0              0                0                0    0.185577  \n",
       "5               0              0                0                0    0.026731  \n",
       "6               0              0                0                0    0.014229  "
      ]
     },
     "execution_count": 8,
     "metadata": {},
     "output_type": "execute_result"
    }
   ],
   "source": [
    "data_validation.head()"
   ]
  },
  {
   "cell_type": "code",
   "execution_count": null,
   "metadata": {
    "collapsed": true
   },
   "outputs": [],
   "source": []
  }
 ],
 "metadata": {
  "kernelspec": {
   "display_name": "Python [conda root]",
   "language": "python",
   "name": "conda-root-py"
  },
  "language_info": {
   "codemirror_mode": {
    "name": "ipython",
    "version": 3
   },
   "file_extension": ".py",
   "mimetype": "text/x-python",
   "name": "python",
   "nbconvert_exporter": "python",
   "pygments_lexer": "ipython3",
   "version": "3.5.2"
  }
 },
 "nbformat": 4,
 "nbformat_minor": 2
}
