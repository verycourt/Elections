{
 "cells": [
  {
   "cell_type": "code",
   "execution_count": 1,
   "metadata": {
    "collapsed": true
   },
   "outputs": [],
   "source": [
    "import pandas as pd \n",
    "import numpy as np\n",
    "from collections import Counter\n",
    "import os\n",
    "import unidecode"
   ]
  },
  {
   "cell_type": "code",
   "execution_count": 2,
   "metadata": {
    "collapsed": false
   },
   "outputs": [],
   "source": [
    "os.chdir('./data')"
   ]
  },
  {
   "cell_type": "code",
   "execution_count": 3,
   "metadata": {
    "collapsed": false
   },
   "outputs": [
    {
     "name": "stdout",
     "output_type": "stream",
     "text": [
      "\u001b[0m\u001b[01;32mcdsp_legi1997t2_circ.xlsx\u001b[0m*    dataset_legislative_2nd_prediction_16_03.csv\r\n",
      "\u001b[01;32mcdsp_legi2002t2_circ.xls\u001b[0m*     dataset_legislative_2nd_prediction.csv\r\n",
      "\u001b[01;32mcdsp_legi2007t2_circ.xls\u001b[0m*     \u001b[01;32mdico_variables.csv\u001b[0m*\r\n",
      "\u001b[01;32mcdsp_legi2012t2_circ.xlsx\u001b[0m*    pred_format_second_tour_du_6_6_21h46.xlsx\r\n",
      "\u001b[01;32mdataframe_elections.xlsx\u001b[0m*     pred_format_second_tour_du_7_6_14h36.xlsx\r\n",
      "\u001b[01;32mdataset_legislative_2nd.csv\u001b[0m*  pred_format_second_tour_du_7_6_15h35.xlsx\r\n"
     ]
    }
   ],
   "source": [
    "ls"
   ]
  },
  {
   "cell_type": "code",
   "execution_count": 4,
   "metadata": {
    "collapsed": false
   },
   "outputs": [],
   "source": [
    "legi_1997 = pd.read_excel(\"cdsp_legi1997t2_circ.xlsx\")\n",
    "legi_2002 = pd.read_excel(\"cdsp_legi2002t2_circ.xls\")\n",
    "legi_2007 = pd.read_excel(\"cdsp_legi2007t2_circ.xls\")\n",
    "legi_2012 = pd.read_excel(\"cdsp_legi2012t2_circ.xlsx\")"
   ]
  },
  {
   "cell_type": "code",
   "execution_count": 5,
   "metadata": {
    "collapsed": true
   },
   "outputs": [],
   "source": [
    "legi_tab = pd.read_excel(\"dataframe_elections.xlsx\")\n",
    "legi_tab.ix[(legi_tab[\"code\"]==\"79|1\")&(legi_tab[\"an\"]==1997)&(legi_tab[\"nom\"]==\"PERRIN GAILLARD\"), \"nom\"] = \"GAILLARD\"\n",
    "legi_tab.ix[(legi_tab[\"code\"]==\"6|2\")&(legi_tab[\"an\"]==2002)&(legi_tab[\"nom\"]==\"MARLAND-MILITELLO\"), \"nom\"] = \"DE MARLAND\"\n",
    "legi_tab.ix[(legi_tab[\"code\"]==\"6|2\")&(legi_tab[\"an\"]==2007)&(legi_tab[\"nom\"]==\"MARLAND-MILITELLO\"), \"nom\"] = \"DE MARLAND\""
   ]
  },
  {
   "cell_type": "code",
   "execution_count": 6,
   "metadata": {
    "collapsed": true
   },
   "outputs": [],
   "source": [
    "def func_elu(a, b, c):\n",
    "    if np.isnan(a) == True:\n",
    "        return 'N'\n",
    "    voix = a\n",
    "    voix_max = max([a,b,c])\n",
    "    if a < voix_max :\n",
    "        return 'N'\n",
    "    else :\n",
    "        return 'O'"
   ]
  },
  {
   "cell_type": "code",
   "execution_count": 7,
   "metadata": {
    "collapsed": false
   },
   "outputs": [],
   "source": [
    "# on adapte les columns sur legi_2012 pour qu'elle supporte notre fonction\n",
    "legi_2012[\"1 Elu\"] = legi_2012.apply(lambda x : func_elu(x['1 voix'], x['2 voix'], x['3 voix']), axis=1)\n",
    "legi_2012[\"2 Elu\"] = legi_2012.apply(lambda x : func_elu(x['2 voix'], x['1 voix'], x['3 voix']), axis=1)\n",
    "legi_2012[\"3 Elu\"] = legi_2012.apply(lambda x : func_elu(x['3 voix'], x['2 voix'], x['1 voix']), axis=1)"
   ]
  },
  {
   "cell_type": "code",
   "execution_count": 8,
   "metadata": {
    "collapsed": false
   },
   "outputs": [],
   "source": [
    "# exemple sur 97\n",
    "# get name\n",
    "def in_format(data, annee):\n",
    "    name = pd.melt(data, id_vars=[\"Code département\", \"département\",'circonscription','Exprimés', \"Inscrits\"], \n",
    "            value_vars=[\"1 Nom candidat\",\"2 Nom candidat\",\"3 Nom candidat\"], value_name=\"name\")\n",
    "    prenom = pd.melt(data,\n",
    "            value_vars=[\"1 Prénom candidat\",\"2 Prénom candidat\",\"3 Prénom candidat\"], value_name=\"first_name\")\n",
    "    value = pd.melt(data,\n",
    "            value_vars=[\"1 voix\",\"2 voix\",\"3 voix\"], value_name=\"voix\")\n",
    "    elu = pd.melt(data, \n",
    "            value_vars=[\"1 Elu\",\"2 Elu\",\"3 Elu\"], value_name=\"elu\")\n",
    "    df = pd.concat([name, prenom, value, elu], axis=1)\n",
    "\n",
    "    del df[\"variable\"]\n",
    "    df[\"score\"] = df.apply(lambda x : x['voix']/ x['Exprimés'], axis=1)\n",
    "    df[\"an\"] = annee\n",
    "\n",
    "    df.dropna(inplace=True) \n",
    "    print(df.shape)\n",
    "    return df"
   ]
  },
  {
   "cell_type": "code",
   "execution_count": 9,
   "metadata": {
    "collapsed": false
   },
   "outputs": [
    {
     "name": "stdout",
     "output_type": "stream",
     "text": [
      "(1197, 11)\n",
      "(1045, 11)\n",
      "(933, 11)\n",
      "(1101, 11)\n"
     ]
    }
   ],
   "source": [
    "legi_1997 = in_format(legi_1997, 1997)\n",
    "legi_2002 = in_format(legi_2002, 2002)\n",
    "legi_2007 = in_format(legi_2007, 2007)\n",
    "legi_2012 = in_format(legi_2012, 2012)"
   ]
  },
  {
   "cell_type": "code",
   "execution_count": 10,
   "metadata": {
    "collapsed": false
   },
   "outputs": [],
   "source": [
    "legi_2t = pd.concat([legi_1997, legi_2002, legi_2007, legi_2012], axis=0)\n",
    "legi_2t[\"code\"] = legi_2t.apply(lambda x: str(x[\"Code département\"])+'|'+str(int(x[\"circonscription\"])), axis=1)"
   ]
  },
  {
   "cell_type": "code",
   "execution_count": 11,
   "metadata": {
    "collapsed": false
   },
   "outputs": [
    {
     "data": {
      "text/plain": [
       "(4276, 12)"
      ]
     },
     "execution_count": 11,
     "metadata": {},
     "output_type": "execute_result"
    }
   ],
   "source": [
    "legi_2t.shape"
   ]
  },
  {
   "cell_type": "code",
   "execution_count": 12,
   "metadata": {
    "collapsed": false
   },
   "outputs": [
    {
     "data": {
      "text/html": [
       "<div>\n",
       "<table border=\"1\" class=\"dataframe\">\n",
       "  <thead>\n",
       "    <tr style=\"text-align: right;\">\n",
       "      <th></th>\n",
       "      <th>Code département</th>\n",
       "      <th>département</th>\n",
       "      <th>circonscription</th>\n",
       "      <th>Exprimés</th>\n",
       "      <th>Inscrits</th>\n",
       "      <th>name</th>\n",
       "      <th>first_name</th>\n",
       "      <th>voix</th>\n",
       "      <th>elu</th>\n",
       "      <th>score</th>\n",
       "      <th>an</th>\n",
       "      <th>code</th>\n",
       "    </tr>\n",
       "  </thead>\n",
       "  <tbody>\n",
       "    <tr>\n",
       "      <th>32</th>\n",
       "      <td>10</td>\n",
       "      <td>AUBE</td>\n",
       "      <td>1.0</td>\n",
       "      <td>30564.0</td>\n",
       "      <td>55574.0</td>\n",
       "      <td>BRET</td>\n",
       "      <td>LINE</td>\n",
       "      <td>13252.0</td>\n",
       "      <td>N</td>\n",
       "      <td>0.433582</td>\n",
       "      <td>2002</td>\n",
       "      <td>10|1</td>\n",
       "    </tr>\n",
       "    <tr>\n",
       "      <th>23</th>\n",
       "      <td>10</td>\n",
       "      <td>AUBE</td>\n",
       "      <td>1.0</td>\n",
       "      <td>32500.0</td>\n",
       "      <td>58061.0</td>\n",
       "      <td>BRET</td>\n",
       "      <td>Line</td>\n",
       "      <td>12793.0</td>\n",
       "      <td>N</td>\n",
       "      <td>0.393631</td>\n",
       "      <td>2007</td>\n",
       "      <td>10|1</td>\n",
       "    </tr>\n",
       "  </tbody>\n",
       "</table>\n",
       "</div>"
      ],
      "text/plain": [
       "   Code département département  circonscription  Exprimés  Inscrits  name  \\\n",
       "32               10        AUBE              1.0   30564.0   55574.0  BRET   \n",
       "23               10        AUBE              1.0   32500.0   58061.0  BRET   \n",
       "\n",
       "   first_name     voix elu     score    an  code  \n",
       "32       LINE  13252.0   N  0.433582  2002  10|1  \n",
       "23       Line  12793.0   N  0.393631  2007  10|1  "
      ]
     },
     "execution_count": 12,
     "metadata": {},
     "output_type": "execute_result"
    }
   ],
   "source": [
    "legi_2t.sort_values([\"code\",\"name\",\"first_name\"]).head(2)"
   ]
  },
  {
   "cell_type": "code",
   "execution_count": 13,
   "metadata": {
    "collapsed": true
   },
   "outputs": [],
   "source": [
    "legi_2t[\"name\"] =  legi_2t[\"name\"].map(lambda x: unidecode.unidecode(x.strip()))\n",
    "legi_2t[\"first_name\"] =  legi_2t[\"first_name\"].map(lambda x: unidecode.unidecode(x.strip()).upper())\n",
    "legi_tab[\"prenom\"] =  legi_tab[\"prenom\"] .map(lambda x: unidecode.unidecode(x.strip()).upper())\n",
    "legi_tab[\"nom\"] =  legi_tab[\"nom\"].map(lambda x: unidecode.unidecode(x.strip()))"
   ]
  },
  {
   "cell_type": "code",
   "execution_count": 14,
   "metadata": {
    "collapsed": false
   },
   "outputs": [
    {
     "data": {
      "text/plain": [
       "(4237, 85)"
      ]
     },
     "execution_count": 14,
     "metadata": {},
     "output_type": "execute_result"
    }
   ],
   "source": [
    "df_legi = pd.merge(legi_tab, legi_2t,left_on=[\"nom\", \"code\", \"an\"], \n",
    "                   right_on=[\"name\", \"code\", \"an\"])\n",
    "df_legi.shape"
   ]
  },
  {
   "cell_type": "markdown",
   "metadata": {},
   "source": [
    "*On merge sur le code plutot que nom prénom car trop de différence entre les deux tables\n",
    "en esperant qu'il n'y ait qu'un candidat avec le même nom par code en une date donée*"
   ]
  },
  {
   "cell_type": "code",
   "execution_count": 15,
   "metadata": {
    "collapsed": false
   },
   "outputs": [],
   "source": [
    "#legi_2t[legi_2t[\"name\"]==\"PEROL DUMONT\"]"
   ]
  },
  {
   "cell_type": "code",
   "execution_count": 16,
   "metadata": {
    "collapsed": false
   },
   "outputs": [],
   "source": [
    "df_legi = pd.merge(legi_tab, legi_2t,how=\"right\" ,left_on=[\"nom\", \"code\", \"an\"],\n",
    "                   right_on=[\"name\", \"code\", \"an\"])\n",
    "\n",
    "pb_name = df_legi.ix[~df_legi.nom.notnull(), \"name\"].unique().tolist()"
   ]
  },
  {
   "cell_type": "code",
   "execution_count": 17,
   "metadata": {
    "collapsed": false
   },
   "outputs": [],
   "source": [
    "legi_2t[\"name\"] = legi_2t[\"name\"].map(lambda x : x.replace(\" \",\"-\") if x in pb_name else x)"
   ]
  },
  {
   "cell_type": "code",
   "execution_count": 18,
   "metadata": {
    "collapsed": true
   },
   "outputs": [],
   "source": [
    "# On personalise sur les quelques cas \n",
    "legi_2t.ix[(legi_2t[\"name\"]==\"PERRIN-GAILLARD\") & (legi_2t[\"an\"]==1997), \"name\"] = \"GAILLARD\"\n",
    "legi_2t.ix[(legi_2t[\"name\"]==\"PERRIN-GAILLARD\") & (legi_2t[\"an\"]==2002), \"name\"] = \"GAILLARD\"\n",
    "legi_2t.ix[(legi_2t[\"name\"]==\"GAAA\") & (legi_2t[\"an\"]==2002), \"name\"] = \"GAIA\"\n",
    "legi_2t.ix[(legi_2t[\"name\"]==\"BACHELOT--NARQUIN\") & (legi_2t[\"an\"]==2002), \"name\"] = \"BACHELOT-NARQUIN\"\n",
    "legi_2t.ix[(legi_2t[\"name\"]==\"VILLAUMe\") & (legi_2t[\"an\"]==2007), \"name\"] = \"VILLAUME\"\n",
    "legi_2t.ix[(legi_2t[\"name\"]==\"CHEVeNEMENT\") & (legi_2t[\"an\"]==2007), \"name\"] = \"CHEVENEMENT\"\n",
    "legi_2t.ix[(legi_2t[\"name\"]==\"GUeGOT\") & (legi_2t[\"an\"]==2007), \"name\"] = \"GUEGOT\"\n",
    "legi_2t.ix[(legi_2t[\"name\"]==\"DE-SAINT-SERNIN\") & (legi_2t[\"an\"]==1997), \"name\"] = \"DE SAINT-SERNIN\"\n",
    "legi_2t.ix[(legi_2t[\"name\"]==\"SAINT-SERNIN-DE\") & (legi_2t[\"an\"]==2002), \"name\"] = \"DE SAINT-SERNIN\"\n",
    "legi_2t.ix[(legi_2t[\"name\"]==\"de-LA-RAUDIERE\") & (legi_2t[\"an\"]==2007), \"name\"] = \"DE LA RAUDIERE\"   \n",
    "legi_2t.ix[(legi_2t[\"name\"]==\"ROCCA-SERRA-DE\"), \"name\"] = \"DE ROCCA SERRA\"\n",
    "legi_2t.ix[(legi_2t[\"name\"]==\"DE-DAVID-BEAUREGARD\") & (legi_2t[\"an\"]==1997), \"name\"] = \"DE DAVID BEAUREGARD\"\n",
    "legi_2t.ix[(legi_2t[\"name\"]==\"DAVID-BEAUREGARD-DE\") & (legi_2t[\"an\"]==2002), \"name\"] = \"DE DAVID BEAUREGARD\""
   ]
  },
  {
   "cell_type": "code",
   "execution_count": 19,
   "metadata": {
    "collapsed": false
   },
   "outputs": [],
   "source": [
    "# liste des nom et first name qui merge mal sur le inner\n",
    "df_legi = pd.merge(legi_tab, legi_2t,how=\"right\" ,left_on=[\"nom\", \"code\", \"an\"],\n",
    "                   right_on=[\"name\", \"code\", \"an\"])\n",
    "pb_name_2 = df_legi.ix[~df_legi.nom.notnull(), \"name\"].unique().tolist()"
   ]
  },
  {
   "cell_type": "code",
   "execution_count": 20,
   "metadata": {
    "collapsed": true
   },
   "outputs": [],
   "source": [
    "# clean des DE\n",
    "legi_2t[\"name\"] = legi_2t[\"name\"].map(lambda x : \"DE \"+x.split(\"-\")[0] if x in pb_name_2 else x)"
   ]
  },
  {
   "cell_type": "code",
   "execution_count": 21,
   "metadata": {
    "collapsed": false
   },
   "outputs": [],
   "source": [
    "df_legi = pd.merge(legi_tab, legi_2t,how=\"right\" ,left_on=[\"nom\", \"code\", \"an\"],\n",
    "                   right_on=[\"name\", \"code\", \"an\"])\n",
    "pb_name_3 = df_legi[~df_legi.nom.notnull()][[\"name\",\"first_name\",\"an\", \"code\",\"circonscription\",\"Code département\"]]"
   ]
  },
  {
   "cell_type": "code",
   "execution_count": 22,
   "metadata": {
    "collapsed": false
   },
   "outputs": [
    {
     "data": {
      "text/html": [
       "<div>\n",
       "<table border=\"1\" class=\"dataframe\">\n",
       "  <thead>\n",
       "    <tr style=\"text-align: right;\">\n",
       "      <th></th>\n",
       "      <th>index</th>\n",
       "      <th>name</th>\n",
       "      <th>first_name</th>\n",
       "      <th>an</th>\n",
       "      <th>code</th>\n",
       "      <th>circonscription</th>\n",
       "      <th>Code département</th>\n",
       "    </tr>\n",
       "  </thead>\n",
       "  <tbody>\n",
       "    <tr>\n",
       "      <th>0</th>\n",
       "      <td>4293</td>\n",
       "      <td>DE BOURDOULEIX</td>\n",
       "      <td>GILLES</td>\n",
       "      <td>2002</td>\n",
       "      <td>49|5</td>\n",
       "      <td>5.0</td>\n",
       "      <td>49</td>\n",
       "    </tr>\n",
       "    <tr>\n",
       "      <th>1</th>\n",
       "      <td>4294</td>\n",
       "      <td>DE VAUTRIN</td>\n",
       "      <td>CATHERINE</td>\n",
       "      <td>2002</td>\n",
       "      <td>51|2</td>\n",
       "      <td>2.0</td>\n",
       "      <td>51</td>\n",
       "    </tr>\n",
       "    <tr>\n",
       "      <th>2</th>\n",
       "      <td>4295</td>\n",
       "      <td>DE GANSOINAT</td>\n",
       "      <td>MARIE-THERESE</td>\n",
       "      <td>2007</td>\n",
       "      <td>57|2</td>\n",
       "      <td>2.0</td>\n",
       "      <td>57</td>\n",
       "    </tr>\n",
       "    <tr>\n",
       "      <th>3</th>\n",
       "      <td>4296</td>\n",
       "      <td>DE VAUTRIN</td>\n",
       "      <td>CATHERINE</td>\n",
       "      <td>2007</td>\n",
       "      <td>51|2</td>\n",
       "      <td>2.0</td>\n",
       "      <td>51</td>\n",
       "    </tr>\n",
       "    <tr>\n",
       "      <th>4</th>\n",
       "      <td>4297</td>\n",
       "      <td>DE BOUZIANE</td>\n",
       "      <td>KHEIRA</td>\n",
       "      <td>2012</td>\n",
       "      <td>21|3</td>\n",
       "      <td>3.0</td>\n",
       "      <td>21</td>\n",
       "    </tr>\n",
       "    <tr>\n",
       "      <th>5</th>\n",
       "      <td>4298</td>\n",
       "      <td>DE MOREL</td>\n",
       "      <td>PIERRE</td>\n",
       "      <td>2012</td>\n",
       "      <td>48|1</td>\n",
       "      <td>1.0</td>\n",
       "      <td>48</td>\n",
       "    </tr>\n",
       "  </tbody>\n",
       "</table>\n",
       "</div>"
      ],
      "text/plain": [
       "   index            name     first_name    an  code  circonscription  \\\n",
       "0   4293  DE BOURDOULEIX         GILLES  2002  49|5              5.0   \n",
       "1   4294      DE VAUTRIN      CATHERINE  2002  51|2              2.0   \n",
       "2   4295    DE GANSOINAT  MARIE-THERESE  2007  57|2              2.0   \n",
       "3   4296      DE VAUTRIN      CATHERINE  2007  51|2              2.0   \n",
       "4   4297     DE BOUZIANE         KHEIRA  2012  21|3              3.0   \n",
       "5   4298        DE MOREL         PIERRE  2012  48|1              1.0   \n",
       "\n",
       "  Code département  \n",
       "0               49  \n",
       "1               51  \n",
       "2               57  \n",
       "3               51  \n",
       "4               21  \n",
       "5               48  "
      ]
     },
     "execution_count": 22,
     "metadata": {},
     "output_type": "execute_result"
    }
   ],
   "source": [
    "pb_name_3 = pb_name_3.reset_index()\n",
    "pb_name_3"
   ]
  },
  {
   "cell_type": "code",
   "execution_count": 23,
   "metadata": {
    "collapsed": false
   },
   "outputs": [],
   "source": [
    "legi_2t.ix[(legi_2t[\"name\"]==\"DE MOREL\") & (legi_2t[\"an\"]==2012), \"name\"] = \"MOREL A L'HUISSIER\"\n",
    "legi_2t.ix[(legi_2t[\"name\"]==\"DE BOUZIANE\") & (legi_2t[\"an\"]==2012), \"name\"] = \"BOUZIANE-LAROUSSI\"\n",
    "legi_2t.ix[(legi_2t[\"name\"]==\"DE VAUTRIN\") & (legi_2t[\"an\"]==2007), \"name\"] = \"VAUTRIN-PENNAFORTE\"\n",
    "legi_2t.ix[(legi_2t[\"name\"]==\"DE VAUTRIN\") & (legi_2t[\"an\"]==2002), \"name\"] = \"VAUTRIN-PENNAFORTE\"\n",
    "legi_2t.ix[(legi_2t[\"name\"]==\"DE GANSOINAT\") & (legi_2t[\"an\"]==2007), \"name\"] = \"GANSOINAT\"\n",
    "legi_2t.ix[(legi_2t[\"name\"]==\"DE BOURDOULEIX\") & (legi_2t[\"an\"]==2002), \"name\"] = \"BOURDOULEIX\""
   ]
  },
  {
   "cell_type": "markdown",
   "metadata": {},
   "source": [
    "=> tout les noms doivent merger maintenant y'a t'il des doublons"
   ]
  },
  {
   "cell_type": "code",
   "execution_count": 24,
   "metadata": {
    "collapsed": false
   },
   "outputs": [
    {
     "data": {
      "text/plain": [
       "(4299, 85)"
      ]
     },
     "execution_count": 24,
     "metadata": {},
     "output_type": "execute_result"
    }
   ],
   "source": [
    "df_legi = pd.merge(legi_tab, legi_2t,left_on=[\"nom\", \"code\", \"an\"], \n",
    "                   right_on=[\"name\", \"code\", \"an\"])\n",
    "df_legi.shape\n",
    "# On ne doit avoit que 4276 lignes"
   ]
  },
  {
   "cell_type": "markdown",
   "metadata": {},
   "source": [
    "*Il nous manque personne mais on a des doublons vu la dim*  \n",
    "regarder doublon même année, meme code, et meme nom"
   ]
  },
  {
   "cell_type": "code",
   "execution_count": 25,
   "metadata": {
    "collapsed": false
   },
   "outputs": [],
   "source": [
    "test = df_legi.sort_values([\"name\", \"code\", \"an\"])\n",
    "test[\"name_lag\"] = test[\"name\"].shift(1)\n",
    "test[\"first_lag\"] = test[\"first_name\"].shift(1)\n",
    "test[\"code_lag\"] = test[\"code\"].shift(1)\n",
    "test[\"an_lag\"] = test[\"an\"].shift(1)"
   ]
  },
  {
   "cell_type": "code",
   "execution_count": 26,
   "metadata": {
    "collapsed": false
   },
   "outputs": [],
   "source": [
    "test = test[(test['name']==test[\"name_lag\"])&(test['code']==test[\"code_lag\"])&(test['an']==test[\"an_lag\"])]\n",
    "pb_name = test[\"name\"].unique()"
   ]
  },
  {
   "cell_type": "code",
   "execution_count": 27,
   "metadata": {
    "collapsed": false
   },
   "outputs": [],
   "source": [
    "#On fait un merge classique sur une table qui ne continet pas pb_name\n",
    "df_legi_1 = pd.merge(legi_tab[~legi_tab[\"nom\"].isin(pb_name)],\n",
    "                     legi_2t[~legi_2t[\"name\"].isin(pb_name)],\n",
    "                     left_on=[\"nom\", \"code\", \"an\"], \n",
    "                     right_on=[\"name\", \"code\", \"an\"])\n",
    "\n",
    "#puis merge avec prenom sur pb_name\n",
    "df_legi_2 = pd.merge(legi_tab[legi_tab[\"nom\"].isin(pb_name)],\n",
    "                     legi_2t[legi_2t[\"name\"].isin(pb_name)],\n",
    "                     left_on=[\"nom\",\"prenom\", \"code\", \"an\"], \n",
    "                     right_on=[\"name\",\"first_name\", \"code\", \"an\"])"
   ]
  },
  {
   "cell_type": "code",
   "execution_count": 28,
   "metadata": {
    "collapsed": false
   },
   "outputs": [
    {
     "name": "stdout",
     "output_type": "stream",
     "text": [
      "(4221, 85)\n",
      "(51, 85)\n"
     ]
    }
   ],
   "source": [
    "print(df_legi_1.shape)\n",
    "print(df_legi_2.shape)"
   ]
  },
  {
   "cell_type": "markdown",
   "metadata": {},
   "source": [
    "*Il manque 3 candidats*"
   ]
  },
  {
   "cell_type": "code",
   "execution_count": 29,
   "metadata": {
    "collapsed": false
   },
   "outputs": [
    {
     "data": {
      "text/html": [
       "<div>\n",
       "<table border=\"1\" class=\"dataframe\">\n",
       "  <thead>\n",
       "    <tr style=\"text-align: right;\">\n",
       "      <th></th>\n",
       "      <th>name</th>\n",
       "      <th>first_name</th>\n",
       "      <th>an</th>\n",
       "      <th>circonscription</th>\n",
       "      <th>Code département</th>\n",
       "    </tr>\n",
       "  </thead>\n",
       "  <tbody>\n",
       "    <tr>\n",
       "      <th>51</th>\n",
       "      <td>DE ROCCA SERRA</td>\n",
       "      <td>JEAN PAUL</td>\n",
       "      <td>1997</td>\n",
       "      <td>2.0</td>\n",
       "      <td>2A</td>\n",
       "    </tr>\n",
       "    <tr>\n",
       "      <th>52</th>\n",
       "      <td>BERNARD</td>\n",
       "      <td>JEAN LOUIS</td>\n",
       "      <td>1997</td>\n",
       "      <td>3.0</td>\n",
       "      <td>45</td>\n",
       "    </tr>\n",
       "    <tr>\n",
       "      <th>53</th>\n",
       "      <td>BERNARD</td>\n",
       "      <td>J. LOUIS</td>\n",
       "      <td>2002</td>\n",
       "      <td>3.0</td>\n",
       "      <td>45</td>\n",
       "    </tr>\n",
       "    <tr>\n",
       "      <th>54</th>\n",
       "      <td>BENARD</td>\n",
       "      <td>ALAIN, ROBERT</td>\n",
       "      <td>2002</td>\n",
       "      <td>2.0</td>\n",
       "      <td>974</td>\n",
       "    </tr>\n",
       "  </tbody>\n",
       "</table>\n",
       "</div>"
      ],
      "text/plain": [
       "              name     first_name    an  circonscription Code département\n",
       "51  DE ROCCA SERRA      JEAN PAUL  1997              2.0               2A\n",
       "52         BERNARD     JEAN LOUIS  1997              3.0               45\n",
       "53         BERNARD       J. LOUIS  2002              3.0               45\n",
       "54          BENARD  ALAIN, ROBERT  2002              2.0              974"
      ]
     },
     "execution_count": 29,
     "metadata": {},
     "output_type": "execute_result"
    }
   ],
   "source": [
    "df_legi_2 = pd.merge(legi_tab[legi_tab[\"nom\"].isin(pb_name)],\n",
    "                     legi_2t[legi_2t[\"name\"].isin(pb_name)],\n",
    "                     how=\"right\",\n",
    "                     left_on=[\"nom\",\"prenom\", \"code\", \"an\"], \n",
    "                     right_on=[\"name\",\"first_name\", \"code\", \"an\"])\n",
    "\n",
    "df_legi_2[~df_legi_2.nom.notnull()][[\"name\",\"first_name\",\"an\", \"circonscription\",\"Code département\"]]"
   ]
  },
  {
   "cell_type": "code",
   "execution_count": 30,
   "metadata": {
    "collapsed": false
   },
   "outputs": [],
   "source": [
    "# On modifie manuellement\n",
    "legi_2t.ix[(legi_2t[\"name\"]==\"DE ROCCA SERRA\")&(legi_2t[\"first_name\"]==\"JEAN PAUL\"), \"first_name\"] = \"JEAN-PAUL\"\n",
    "legi_2t.ix[(legi_2t[\"name\"]==\"BERNARD\")&(legi_2t[\"Code département\"]==45),\"first_name\"] = \"JEAN-LOUIS\"\n",
    "legi_2t.ix[(legi_2t[\"name\"]==\"BENARD\")&(legi_2t[\"code\"]==\"974|2\"),\"first_name\"] = \"ALAIN\""
   ]
  },
  {
   "cell_type": "code",
   "execution_count": 31,
   "metadata": {
    "collapsed": false
   },
   "outputs": [
    {
     "name": "stdout",
     "output_type": "stream",
     "text": [
      "(4221, 85)\n",
      "(55, 85)\n",
      "4276\n"
     ]
    }
   ],
   "source": [
    "#On fait un merge classique sur une table qui ne continet pas pb_name\n",
    "df_legi_1 = pd.merge(legi_tab[~legi_tab[\"nom\"].isin(pb_name)],\n",
    "                     legi_2t[~legi_2t[\"name\"].isin(pb_name)],\n",
    "                     left_on=[\"nom\", \"code\", \"an\"], \n",
    "                     right_on=[\"name\", \"code\", \"an\"])\n",
    "\n",
    "#puis merge avec prenom sur pb_name\n",
    "df_legi_2 = pd.merge(legi_tab[legi_tab[\"nom\"].isin(pb_name)],\n",
    "                     legi_2t[legi_2t[\"name\"].isin(pb_name)],\n",
    "                     left_on=[\"nom\",\"prenom\", \"code\", \"an\"], \n",
    "                     right_on=[\"name\",\"first_name\", \"code\", \"an\"])\n",
    "\n",
    "print(df_legi_1.shape)\n",
    "print(df_legi_2.shape)\n",
    "print(df_legi_1.shape[0]+df_legi_2.shape[0])"
   ]
  },
  {
   "cell_type": "code",
   "execution_count": 32,
   "metadata": {
    "collapsed": true
   },
   "outputs": [],
   "source": [
    "df_legi = pd.concat([df_legi_1, df_legi_2], axis=0)"
   ]
  },
  {
   "cell_type": "code",
   "execution_count": 33,
   "metadata": {
    "collapsed": false
   },
   "outputs": [
    {
     "data": {
      "text/plain": [
       "Index(['an', 'c_dep', 'dep', 'circo', 'code', 'inscrits', 'geo_frontalier',\n",
       "       'geo_dom', 'geo_idf', 'etrangers', 'part_impose', 'revenus_q1',\n",
       "       'revenus_med', 'revenus_q3', 'ecart_revenus', 'chom_tot',\n",
       "       'chom_tot_evol_5', 'chom_jeunes', 'chom_jeunes_evol_5', 'chom_adultes',\n",
       "       'chom_adultes_evol_5', 'chom_seniors', 'chom_seniors_evol_5', 'p_agri',\n",
       "       'p_commercants', 'p_cadres', 'p_intermed', 'p_employes', 'p_ouvriers',\n",
       "       'd_brevet', 'd_bep', 'd_bac', 'd_sup', 'circo_parti', 'circo_nuance',\n",
       "       'circo_nuance_groupe', 'circo_bloc', 'circo_leg_meme_nuance',\n",
       "       'nb_candidats_meme_bloc', 'score_nuance_groupe_prec_leg',\n",
       "       'score_bloc_prec_leg', 'taux_vote_leg', 'score_leg_exg', 'score_leg_g',\n",
       "       'score_leg_c', 'score_leg_d', 'score_leg_exd', 'score_leg_div',\n",
       "       'circo_nuance_groupe_pres', 'circo_pres_meme_nuance',\n",
       "       'circo_meme_nuance_president', 'score_nuance_groupe_pres',\n",
       "       'score_bloc_pres', 'taux_vote_pres', 'score_pres_exg', 'score_pres_g',\n",
       "       'score_pres_c', 'score_pres_d', 'score_pres_exd', 'score_pres_div',\n",
       "       'score_candidat_prec_leg', 'depute_sortant', 'ancien_depute',\n",
       "       'au_gouvernement', 'ancien_ministre', 'sexe', 'nom', 'prenom',\n",
       "       'etiquette', 'nuance', 'nuance_groupe', 'bloc', 'voix_x', 'p_voix',\n",
       "       'second_tour', 'Code département', 'département', 'circonscription',\n",
       "       'Exprimés', 'Inscrits', 'name', 'first_name', 'voix_y', 'elu', 'score'],\n",
       "      dtype='object')"
      ]
     },
     "execution_count": 33,
     "metadata": {},
     "output_type": "execute_result"
    }
   ],
   "source": [
    "df_legi.columns"
   ]
  },
  {
   "cell_type": "markdown",
   "metadata": {},
   "source": [
    "# Tout lancer jusqu'ici puis choisir les colones ci-dessous"
   ]
  },
  {
   "cell_type": "code",
   "execution_count": 34,
   "metadata": {
    "collapsed": false
   },
   "outputs": [],
   "source": [
    "columns_to_keep =['an', 'département',\n",
    "       'circonscription', 'code','name', 'first_name',\"bloc\",\"circo_leg_meme_nuance\",\n",
    "        \"circo_pres_meme_nuance\",\n",
    "        \"score_bloc_pres\", 'depute_sortant', 'ancien_depute',\n",
    "       'au_gouvernement', 'ancien_ministre' , \"p_voix\",'score','elu'\n",
    "]"
   ]
  },
  {
   "cell_type": "markdown",
   "metadata": {},
   "source": [
    "**creer:**  \n",
    "* une variable d'oppostion selon nuance un peu commme la variable candidat du même bloc  \n",
    "* ~~score du groupe politque au second tour dernière legislative~~\n",
    "* ~~score du bloc politique au premier tour~~\n",
    "* ~~score candidat au second tour de la précédente législative~~ \n",
    "* score candidat au second tour d'une précédente législative \n",
    "* ~~indicatrice pour le nombre d'adversaire politique par bloc~~ \n",
    "* ~~triangulaire~~ "
   ]
  },
  {
   "cell_type": "code",
   "execution_count": 35,
   "metadata": {
    "collapsed": false
   },
   "outputs": [],
   "source": [
    "df_legi_f = df_legi[columns_to_keep]"
   ]
  },
  {
   "cell_type": "code",
   "execution_count": 36,
   "metadata": {
    "collapsed": false
   },
   "outputs": [
    {
     "data": {
      "text/html": [
       "<div>\n",
       "<table border=\"1\" class=\"dataframe\">\n",
       "  <thead>\n",
       "    <tr style=\"text-align: right;\">\n",
       "      <th></th>\n",
       "      <th>an</th>\n",
       "      <th>département</th>\n",
       "      <th>circonscription</th>\n",
       "      <th>code</th>\n",
       "      <th>name</th>\n",
       "      <th>first_name</th>\n",
       "      <th>bloc</th>\n",
       "      <th>circo_leg_meme_nuance</th>\n",
       "      <th>circo_pres_meme_nuance</th>\n",
       "      <th>score_bloc_pres</th>\n",
       "      <th>depute_sortant</th>\n",
       "      <th>ancien_depute</th>\n",
       "      <th>au_gouvernement</th>\n",
       "      <th>ancien_ministre</th>\n",
       "      <th>p_voix</th>\n",
       "      <th>score</th>\n",
       "      <th>elu</th>\n",
       "    </tr>\n",
       "  </thead>\n",
       "  <tbody>\n",
       "    <tr>\n",
       "      <th>0</th>\n",
       "      <td>2012</td>\n",
       "      <td>AIN</td>\n",
       "      <td>1.0</td>\n",
       "      <td>1|1</td>\n",
       "      <td>BRETON</td>\n",
       "      <td>XAVIER</td>\n",
       "      <td>Droite</td>\n",
       "      <td>1.0</td>\n",
       "      <td>1.0</td>\n",
       "      <td>0.2570</td>\n",
       "      <td>1.0</td>\n",
       "      <td>1.0</td>\n",
       "      <td>0.0</td>\n",
       "      <td>0.0</td>\n",
       "      <td>0.2241</td>\n",
       "      <td>0.515715</td>\n",
       "      <td>O</td>\n",
       "    </tr>\n",
       "    <tr>\n",
       "      <th>1</th>\n",
       "      <td>2012</td>\n",
       "      <td>AIN</td>\n",
       "      <td>1.0</td>\n",
       "      <td>1|1</td>\n",
       "      <td>DEBAT</td>\n",
       "      <td>JEAN-FRANCOIS</td>\n",
       "      <td>Gauche</td>\n",
       "      <td>0.0</td>\n",
       "      <td>0.0</td>\n",
       "      <td>0.2147</td>\n",
       "      <td>0.0</td>\n",
       "      <td>0.0</td>\n",
       "      <td>0.0</td>\n",
       "      <td>0.0</td>\n",
       "      <td>0.2316</td>\n",
       "      <td>0.484285</td>\n",
       "      <td>N</td>\n",
       "    </tr>\n",
       "    <tr>\n",
       "      <th>2</th>\n",
       "      <td>2012</td>\n",
       "      <td>AIN</td>\n",
       "      <td>2.0</td>\n",
       "      <td>1|2</td>\n",
       "      <td>DE LA VERPILLIERE</td>\n",
       "      <td>CHARLES</td>\n",
       "      <td>Droite</td>\n",
       "      <td>1.0</td>\n",
       "      <td>1.0</td>\n",
       "      <td>0.2753</td>\n",
       "      <td>1.0</td>\n",
       "      <td>1.0</td>\n",
       "      <td>0.0</td>\n",
       "      <td>0.0</td>\n",
       "      <td>0.2209</td>\n",
       "      <td>0.443146</td>\n",
       "      <td>O</td>\n",
       "    </tr>\n",
       "    <tr>\n",
       "      <th>3</th>\n",
       "      <td>2012</td>\n",
       "      <td>AIN</td>\n",
       "      <td>2.0</td>\n",
       "      <td>1|2</td>\n",
       "      <td>EYRAUD</td>\n",
       "      <td>OLIVIER</td>\n",
       "      <td>Exdroite</td>\n",
       "      <td>0.0</td>\n",
       "      <td>0.0</td>\n",
       "      <td>0.1798</td>\n",
       "      <td>0.0</td>\n",
       "      <td>0.0</td>\n",
       "      <td>0.0</td>\n",
       "      <td>0.0</td>\n",
       "      <td>0.1252</td>\n",
       "      <td>0.169303</td>\n",
       "      <td>N</td>\n",
       "    </tr>\n",
       "    <tr>\n",
       "      <th>4</th>\n",
       "      <td>2012</td>\n",
       "      <td>AIN</td>\n",
       "      <td>2.0</td>\n",
       "      <td>1|2</td>\n",
       "      <td>RAYMOND</td>\n",
       "      <td>MICHEL</td>\n",
       "      <td>Gauche</td>\n",
       "      <td>0.0</td>\n",
       "      <td>0.0</td>\n",
       "      <td>0.2027</td>\n",
       "      <td>0.0</td>\n",
       "      <td>0.0</td>\n",
       "      <td>0.0</td>\n",
       "      <td>0.0</td>\n",
       "      <td>0.1368</td>\n",
       "      <td>0.387551</td>\n",
       "      <td>N</td>\n",
       "    </tr>\n",
       "  </tbody>\n",
       "</table>\n",
       "</div>"
      ],
      "text/plain": [
       "     an département  circonscription code               name     first_name  \\\n",
       "0  2012         AIN              1.0  1|1             BRETON         XAVIER   \n",
       "1  2012         AIN              1.0  1|1              DEBAT  JEAN-FRANCOIS   \n",
       "2  2012         AIN              2.0  1|2  DE LA VERPILLIERE        CHARLES   \n",
       "3  2012         AIN              2.0  1|2             EYRAUD        OLIVIER   \n",
       "4  2012         AIN              2.0  1|2            RAYMOND         MICHEL   \n",
       "\n",
       "       bloc  circo_leg_meme_nuance  circo_pres_meme_nuance  score_bloc_pres  \\\n",
       "0    Droite                    1.0                     1.0           0.2570   \n",
       "1    Gauche                    0.0                     0.0           0.2147   \n",
       "2    Droite                    1.0                     1.0           0.2753   \n",
       "3  Exdroite                    0.0                     0.0           0.1798   \n",
       "4    Gauche                    0.0                     0.0           0.2027   \n",
       "\n",
       "   depute_sortant  ancien_depute  au_gouvernement  ancien_ministre  p_voix  \\\n",
       "0             1.0            1.0              0.0              0.0  0.2241   \n",
       "1             0.0            0.0              0.0              0.0  0.2316   \n",
       "2             1.0            1.0              0.0              0.0  0.2209   \n",
       "3             0.0            0.0              0.0              0.0  0.1252   \n",
       "4             0.0            0.0              0.0              0.0  0.1368   \n",
       "\n",
       "      score elu  \n",
       "0  0.515715   O  \n",
       "1  0.484285   N  \n",
       "2  0.443146   O  \n",
       "3  0.169303   N  \n",
       "4  0.387551   N  "
      ]
     },
     "execution_count": 36,
     "metadata": {},
     "output_type": "execute_result"
    }
   ],
   "source": [
    "df_legi_f.head()"
   ]
  },
  {
   "cell_type": "code",
   "execution_count": 37,
   "metadata": {
    "collapsed": false
   },
   "outputs": [
    {
     "data": {
      "text/plain": [
       "Index(['an', 'département', 'circonscription', 'code', 'name', 'first_name',\n",
       "       'bloc', 'circo_leg_meme_nuance', 'circo_pres_meme_nuance',\n",
       "       'score_bloc_pres', 'depute_sortant', 'ancien_depute', 'au_gouvernement',\n",
       "       'ancien_ministre', 'p_voix', 'score', 'elu'],\n",
       "      dtype='object')"
      ]
     },
     "execution_count": 37,
     "metadata": {},
     "output_type": "execute_result"
    }
   ],
   "source": [
    "df_legi_f.columns"
   ]
  },
  {
   "cell_type": "code",
   "execution_count": 38,
   "metadata": {
    "collapsed": false
   },
   "outputs": [
    {
     "name": "stdout",
     "output_type": "stream",
     "text": [
      "\u001b[0m\u001b[01;32mcdsp_legi1997t2_circ.xlsx\u001b[0m*    dataset_legislative_2nd_prediction_16_03.csv\r\n",
      "\u001b[01;32mcdsp_legi2002t2_circ.xls\u001b[0m*     dataset_legislative_2nd_prediction.csv\r\n",
      "\u001b[01;32mcdsp_legi2007t2_circ.xls\u001b[0m*     \u001b[01;32mdico_variables.csv\u001b[0m*\r\n",
      "\u001b[01;32mcdsp_legi2012t2_circ.xlsx\u001b[0m*    pred_format_second_tour_du_6_6_21h46.xlsx\r\n",
      "\u001b[01;32mdataframe_elections.xlsx\u001b[0m*     pred_format_second_tour_du_7_6_14h36.xlsx\r\n",
      "\u001b[01;32mdataset_legislative_2nd.csv\u001b[0m*  pred_format_second_tour_du_7_6_15h35.xlsx\r\n"
     ]
    }
   ],
   "source": [
    "ls"
   ]
  },
  {
   "cell_type": "code",
   "execution_count": 39,
   "metadata": {
    "collapsed": false
   },
   "outputs": [],
   "source": [
    "data_test = pd.read_excel(\"pred_format_second_tour_du_7_6_15h35.xlsx\")"
   ]
  },
  {
   "cell_type": "code",
   "execution_count": 40,
   "metadata": {
    "collapsed": false
   },
   "outputs": [
    {
     "data": {
      "text/plain": [
       "Index(['an', 'dep', 'circo', 'code', 'nom', 'prenom', 'nuance', 'bloc',\n",
       "       'circo_leg_meme_nuance', 'circo_pres_meme_nuance', 'score_bloc_pres',\n",
       "       'depute_sortant', 'ancien_depute', 'au_gouvernement', 'ancien_ministre',\n",
       "       'membre_majorite', 'prediction', 'qualif'],\n",
       "      dtype='object')"
      ]
     },
     "execution_count": 40,
     "metadata": {},
     "output_type": "execute_result"
    }
   ],
   "source": [
    "data_test.columns"
   ]
  },
  {
   "cell_type": "code",
   "execution_count": 41,
   "metadata": {
    "collapsed": true
   },
   "outputs": [],
   "source": [
    "data_test = data_test.rename(columns={\"dep\":\"département\",'circo':'circonscription',\n",
    "                         \"nom\":\"name\",\"prenom\":'first_name', \"prediction\": \"p_voix\"})\n",
    "del data_test[\"nuance\"]"
   ]
  },
  {
   "cell_type": "code",
   "execution_count": 42,
   "metadata": {
    "collapsed": false
   },
   "outputs": [],
   "source": [
    "data_test = data_test[data_test[\"qualif\"]==\"O\"]"
   ]
  },
  {
   "cell_type": "code",
   "execution_count": 43,
   "metadata": {
    "collapsed": true
   },
   "outputs": [],
   "source": [
    "del data_test[\"qualif\"]"
   ]
  },
  {
   "cell_type": "code",
   "execution_count": 44,
   "metadata": {
    "collapsed": false
   },
   "outputs": [
    {
     "name": "stdout",
     "output_type": "stream",
     "text": [
      "Index(['an', 'département', 'circonscription', 'code', 'name', 'first_name',\n",
      "       'bloc', 'circo_leg_meme_nuance', 'circo_pres_meme_nuance',\n",
      "       'score_bloc_pres', 'depute_sortant', 'ancien_depute', 'au_gouvernement',\n",
      "       'ancien_ministre', 'p_voix', 'score', 'elu'],\n",
      "      dtype='object')\n",
      "Index(['an', 'département', 'circonscription', 'code', 'name', 'first_name',\n",
      "       'bloc', 'circo_leg_meme_nuance', 'circo_pres_meme_nuance',\n",
      "       'score_bloc_pres', 'depute_sortant', 'ancien_depute', 'au_gouvernement',\n",
      "       'ancien_ministre', 'membre_majorite', 'p_voix'],\n",
      "      dtype='object')\n"
     ]
    }
   ],
   "source": [
    "print(df_legi_f.columns)\n",
    "print(data_test.columns)"
   ]
  },
  {
   "cell_type": "code",
   "execution_count": 45,
   "metadata": {
    "collapsed": true
   },
   "outputs": [],
   "source": [
    "data_test[\"score\"] = np.nan\n",
    "data_test[\"elu\"] = np.nan\n",
    "membre_maj = data_test[\"membre_majorite\"]\n",
    "del data_test[\"membre_majorite\"]"
   ]
  },
  {
   "cell_type": "code",
   "execution_count": 48,
   "metadata": {
    "collapsed": false
   },
   "outputs": [],
   "source": [
    "data_test = pd.concat([data_test,membre_maj],axis=1)"
   ]
  },
  {
   "cell_type": "code",
   "execution_count": 52,
   "metadata": {
    "collapsed": false
   },
   "outputs": [
    {
     "name": "stderr",
     "output_type": "stream",
     "text": [
      "/home/brehelin/anaconda3/lib/python3.5/site-packages/ipykernel/__main__.py:1: SettingWithCopyWarning: \n",
      "A value is trying to be set on a copy of a slice from a DataFrame.\n",
      "Try using .loc[row_indexer,col_indexer] = value instead\n",
      "\n",
      "See the caveats in the documentation: http://pandas.pydata.org/pandas-docs/stable/indexing.html#indexing-view-versus-copy\n",
      "  if __name__ == '__main__':\n",
      "/home/brehelin/anaconda3/lib/python3.5/site-packages/pandas/core/indexing.py:477: SettingWithCopyWarning: \n",
      "A value is trying to be set on a copy of a slice from a DataFrame.\n",
      "Try using .loc[row_indexer,col_indexer] = value instead\n",
      "\n",
      "See the caveats in the documentation: http://pandas.pydata.org/pandas-docs/stable/indexing.html#indexing-view-versus-copy\n",
      "  self.obj[item] = s\n"
     ]
    }
   ],
   "source": [
    "df_legi_f[\"membre_majorite\"] = 0\n",
    "df_legi_f.ix[(df_legi_f[\"bloc\"]==\"Droite\")&(df_legi_f[\"an\"]==1997) , \"membre_majorite\"] = 1\n",
    "df_legi_f.ix[(df_legi_f[\"bloc\"]==\"Droite\")&(df_legi_f[\"an\"]==2002) , \"membre_majorite\"] = 1\n",
    "df_legi_f.ix[(df_legi_f[\"bloc\"]==\"Droite\")&(df_legi_f[\"an\"]==2007) , \"membre_majorite\"] = 1\n",
    "df_legi_f.ix[(df_legi_f[\"bloc\"]==\"Gauche\")&(df_legi_f[\"an\"]==2012) , \"membre_majorite\"] = 1"
   ]
  },
  {
   "cell_type": "code",
   "execution_count": 54,
   "metadata": {
    "collapsed": true
   },
   "outputs": [],
   "source": [
    "df_finale = pd.concat([df_legi_f,data_test], axis=0)"
   ]
  },
  {
   "cell_type": "markdown",
   "metadata": {},
   "source": [
    "* triangulaire"
   ]
  },
  {
   "cell_type": "code",
   "execution_count": 55,
   "metadata": {
    "collapsed": false
   },
   "outputs": [],
   "source": [
    "triangulaire = df_finale.groupby([\"an\",\"code\"])[\"name\"].count().reset_index()\n",
    "triangulaire[\"top_triangulaire\"] = triangulaire[\"name\"].map(lambda x: 1 if x>2 else 0)\n",
    "del triangulaire[\"name\"]\n",
    "df_finale = pd.merge(df_finale, triangulaire, how=\"left\", on=[\"an\",\"code\"])"
   ]
  },
  {
   "cell_type": "markdown",
   "metadata": {},
   "source": [
    "* lag second tour legislative"
   ]
  },
  {
   "cell_type": "markdown",
   "metadata": {},
   "source": [
    "=> on réalise ça lors de la création de la table de score de second tour\n",
    "comme cela on peut utiliser les prénoms normalisés"
   ]
  },
  {
   "cell_type": "markdown",
   "metadata": {
    "collapsed": true
   },
   "source": [
    "* indicatrice adversaire politique"
   ]
  },
  {
   "cell_type": "code",
   "execution_count": 56,
   "metadata": {
    "collapsed": false
   },
   "outputs": [],
   "source": [
    "test = pd.get_dummies(df_finale, columns=[\"bloc\"], prefix=\"bloc_opposant\")"
   ]
  },
  {
   "cell_type": "code",
   "execution_count": 57,
   "metadata": {
    "collapsed": false
   },
   "outputs": [
    {
     "data": {
      "text/plain": [
       "Index(['an', 'département', 'circonscription', 'code', 'name', 'first_name',\n",
       "       'circo_leg_meme_nuance', 'circo_pres_meme_nuance', 'score_bloc_pres',\n",
       "       'depute_sortant', 'ancien_depute', 'au_gouvernement', 'ancien_ministre',\n",
       "       'p_voix', 'score', 'elu', 'membre_majorite', 'top_triangulaire',\n",
       "       'bloc_opposant_Centre', 'bloc_opposant_Divers', 'bloc_opposant_Droite',\n",
       "       'bloc_opposant_Exdroite', 'bloc_opposant_Exgauche',\n",
       "       'bloc_opposant_Gauche'],\n",
       "      dtype='object')"
      ]
     },
     "execution_count": 57,
     "metadata": {},
     "output_type": "execute_result"
    }
   ],
   "source": [
    "test.columns"
   ]
  },
  {
   "cell_type": "code",
   "execution_count": 58,
   "metadata": {
    "collapsed": false
   },
   "outputs": [],
   "source": [
    "test = test.groupby([\"code\",\"an\"])['bloc_opposant_Centre', 'bloc_opposant_Divers', 'bloc_opposant_Droite',\n",
    "       'bloc_opposant_Exdroite', 'bloc_opposant_Exgauche',\n",
    "       'bloc_opposant_Gauche'].sum().reset_index()"
   ]
  },
  {
   "cell_type": "code",
   "execution_count": 59,
   "metadata": {
    "collapsed": true
   },
   "outputs": [],
   "source": [
    "df_finale = pd.merge(df_finale, test, on=[\"code\",\"an\"])"
   ]
  },
  {
   "cell_type": "code",
   "execution_count": 60,
   "metadata": {
    "collapsed": false
   },
   "outputs": [
    {
     "data": {
      "text/plain": [
       "array(['Droite', 'Gauche', 'Exdroite', 'Centre', 'Exgauche', 'Divers'], dtype=object)"
      ]
     },
     "execution_count": 60,
     "metadata": {},
     "output_type": "execute_result"
    }
   ],
   "source": [
    "df_finale[\"bloc\"].unique()"
   ]
  },
  {
   "cell_type": "code",
   "execution_count": 61,
   "metadata": {
    "collapsed": false
   },
   "outputs": [
    {
     "data": {
      "text/html": [
       "<div>\n",
       "<table border=\"1\" class=\"dataframe\">\n",
       "  <thead>\n",
       "    <tr style=\"text-align: right;\">\n",
       "      <th></th>\n",
       "      <th>an</th>\n",
       "      <th>département</th>\n",
       "      <th>circonscription</th>\n",
       "      <th>code</th>\n",
       "      <th>name</th>\n",
       "      <th>first_name</th>\n",
       "      <th>bloc</th>\n",
       "      <th>circo_leg_meme_nuance</th>\n",
       "      <th>circo_pres_meme_nuance</th>\n",
       "      <th>score_bloc_pres</th>\n",
       "      <th>...</th>\n",
       "      <th>score</th>\n",
       "      <th>elu</th>\n",
       "      <th>membre_majorite</th>\n",
       "      <th>top_triangulaire</th>\n",
       "      <th>bloc_opposant_Centre</th>\n",
       "      <th>bloc_opposant_Divers</th>\n",
       "      <th>bloc_opposant_Droite</th>\n",
       "      <th>bloc_opposant_Exdroite</th>\n",
       "      <th>bloc_opposant_Exgauche</th>\n",
       "      <th>bloc_opposant_Gauche</th>\n",
       "    </tr>\n",
       "  </thead>\n",
       "  <tbody>\n",
       "    <tr>\n",
       "      <th>0</th>\n",
       "      <td>2012</td>\n",
       "      <td>AIN</td>\n",
       "      <td>1.0</td>\n",
       "      <td>1|1</td>\n",
       "      <td>BRETON</td>\n",
       "      <td>XAVIER</td>\n",
       "      <td>Droite</td>\n",
       "      <td>1.0</td>\n",
       "      <td>1.0</td>\n",
       "      <td>0.2570</td>\n",
       "      <td>...</td>\n",
       "      <td>0.515715</td>\n",
       "      <td>O</td>\n",
       "      <td>0</td>\n",
       "      <td>0</td>\n",
       "      <td>0</td>\n",
       "      <td>0</td>\n",
       "      <td>1</td>\n",
       "      <td>0</td>\n",
       "      <td>0</td>\n",
       "      <td>1</td>\n",
       "    </tr>\n",
       "    <tr>\n",
       "      <th>1</th>\n",
       "      <td>2012</td>\n",
       "      <td>AIN</td>\n",
       "      <td>1.0</td>\n",
       "      <td>1|1</td>\n",
       "      <td>DEBAT</td>\n",
       "      <td>JEAN-FRANCOIS</td>\n",
       "      <td>Gauche</td>\n",
       "      <td>0.0</td>\n",
       "      <td>0.0</td>\n",
       "      <td>0.2147</td>\n",
       "      <td>...</td>\n",
       "      <td>0.484285</td>\n",
       "      <td>N</td>\n",
       "      <td>1</td>\n",
       "      <td>0</td>\n",
       "      <td>0</td>\n",
       "      <td>0</td>\n",
       "      <td>1</td>\n",
       "      <td>0</td>\n",
       "      <td>0</td>\n",
       "      <td>1</td>\n",
       "    </tr>\n",
       "    <tr>\n",
       "      <th>2</th>\n",
       "      <td>2012</td>\n",
       "      <td>AIN</td>\n",
       "      <td>2.0</td>\n",
       "      <td>1|2</td>\n",
       "      <td>DE LA VERPILLIERE</td>\n",
       "      <td>CHARLES</td>\n",
       "      <td>Droite</td>\n",
       "      <td>1.0</td>\n",
       "      <td>1.0</td>\n",
       "      <td>0.2753</td>\n",
       "      <td>...</td>\n",
       "      <td>0.443146</td>\n",
       "      <td>O</td>\n",
       "      <td>0</td>\n",
       "      <td>1</td>\n",
       "      <td>0</td>\n",
       "      <td>0</td>\n",
       "      <td>1</td>\n",
       "      <td>1</td>\n",
       "      <td>0</td>\n",
       "      <td>1</td>\n",
       "    </tr>\n",
       "    <tr>\n",
       "      <th>3</th>\n",
       "      <td>2012</td>\n",
       "      <td>AIN</td>\n",
       "      <td>2.0</td>\n",
       "      <td>1|2</td>\n",
       "      <td>EYRAUD</td>\n",
       "      <td>OLIVIER</td>\n",
       "      <td>Exdroite</td>\n",
       "      <td>0.0</td>\n",
       "      <td>0.0</td>\n",
       "      <td>0.1798</td>\n",
       "      <td>...</td>\n",
       "      <td>0.169303</td>\n",
       "      <td>N</td>\n",
       "      <td>0</td>\n",
       "      <td>1</td>\n",
       "      <td>0</td>\n",
       "      <td>0</td>\n",
       "      <td>1</td>\n",
       "      <td>1</td>\n",
       "      <td>0</td>\n",
       "      <td>1</td>\n",
       "    </tr>\n",
       "    <tr>\n",
       "      <th>4</th>\n",
       "      <td>2012</td>\n",
       "      <td>AIN</td>\n",
       "      <td>2.0</td>\n",
       "      <td>1|2</td>\n",
       "      <td>RAYMOND</td>\n",
       "      <td>MICHEL</td>\n",
       "      <td>Gauche</td>\n",
       "      <td>0.0</td>\n",
       "      <td>0.0</td>\n",
       "      <td>0.2027</td>\n",
       "      <td>...</td>\n",
       "      <td>0.387551</td>\n",
       "      <td>N</td>\n",
       "      <td>1</td>\n",
       "      <td>1</td>\n",
       "      <td>0</td>\n",
       "      <td>0</td>\n",
       "      <td>1</td>\n",
       "      <td>1</td>\n",
       "      <td>0</td>\n",
       "      <td>1</td>\n",
       "    </tr>\n",
       "  </tbody>\n",
       "</table>\n",
       "<p>5 rows × 25 columns</p>\n",
       "</div>"
      ],
      "text/plain": [
       "     an département  circonscription code               name     first_name  \\\n",
       "0  2012         AIN              1.0  1|1             BRETON         XAVIER   \n",
       "1  2012         AIN              1.0  1|1              DEBAT  JEAN-FRANCOIS   \n",
       "2  2012         AIN              2.0  1|2  DE LA VERPILLIERE        CHARLES   \n",
       "3  2012         AIN              2.0  1|2             EYRAUD        OLIVIER   \n",
       "4  2012         AIN              2.0  1|2            RAYMOND         MICHEL   \n",
       "\n",
       "       bloc  circo_leg_meme_nuance  circo_pres_meme_nuance  score_bloc_pres  \\\n",
       "0    Droite                    1.0                     1.0           0.2570   \n",
       "1    Gauche                    0.0                     0.0           0.2147   \n",
       "2    Droite                    1.0                     1.0           0.2753   \n",
       "3  Exdroite                    0.0                     0.0           0.1798   \n",
       "4    Gauche                    0.0                     0.0           0.2027   \n",
       "\n",
       "           ...              score  elu  membre_majorite  top_triangulaire  \\\n",
       "0          ...           0.515715    O                0                 0   \n",
       "1          ...           0.484285    N                1                 0   \n",
       "2          ...           0.443146    O                0                 1   \n",
       "3          ...           0.169303    N                0                 1   \n",
       "4          ...           0.387551    N                1                 1   \n",
       "\n",
       "   bloc_opposant_Centre  bloc_opposant_Divers bloc_opposant_Droite  \\\n",
       "0                     0                     0                    1   \n",
       "1                     0                     0                    1   \n",
       "2                     0                     0                    1   \n",
       "3                     0                     0                    1   \n",
       "4                     0                     0                    1   \n",
       "\n",
       "   bloc_opposant_Exdroite  bloc_opposant_Exgauche  bloc_opposant_Gauche  \n",
       "0                       0                       0                     1  \n",
       "1                       0                       0                     1  \n",
       "2                       1                       0                     1  \n",
       "3                       1                       0                     1  \n",
       "4                       1                       0                     1  \n",
       "\n",
       "[5 rows x 25 columns]"
      ]
     },
     "execution_count": 61,
     "metadata": {},
     "output_type": "execute_result"
    }
   ],
   "source": [
    "df_finale.head()"
   ]
  },
  {
   "cell_type": "code",
   "execution_count": 62,
   "metadata": {
    "collapsed": false
   },
   "outputs": [],
   "source": [
    "df_finale.ix[df_finale[\"bloc\"]=='Droite', 'bloc_opposant_Droite'] = df_finale.ix[df_finale[\"bloc\"]=='Droite', \n",
    "                                    'bloc_opposant_Droite'].map(lambda x: x-1 if x>1 else 0)\n",
    "\n",
    "df_finale.ix[df_finale[\"bloc\"]=='Gauche', 'bloc_opposant_Gauche'] = df_finale.ix[df_finale[\"bloc\"]=='Gauche', \n",
    "                                    'bloc_opposant_Gauche'].map(lambda x: x-1 if x>1 else 0)\n",
    "\n",
    "df_finale.ix[df_finale[\"bloc\"]=='Exdroite', 'bloc_opposant_Exdroite'] = df_finale.ix[df_finale[\"bloc\"]=='Exdroite', \n",
    "                                    'bloc_opposant_Exdroite'].map(lambda x: x-1 if x>1 else 0)\n",
    "\n",
    "df_finale.ix[df_finale[\"bloc\"]=='Centre', 'bloc_opposant_Centre'] = df_finale.ix[df_finale[\"bloc\"]=='Centre', \n",
    "                                    'bloc_opposant_Centre'].map(lambda x: x-1 if x>1 else 0)\n",
    "\n",
    "df_finale.ix[df_finale[\"bloc\"]=='Exgauche', 'bloc_opposant_Exgauche'] = df_finale.ix[df_finale[\"bloc\"]=='Exgauche', \n",
    "                                    'bloc_opposant_Exgauche'].map(lambda x: x-1 if x>1 else 0)\n",
    "\n",
    "df_finale.ix[df_finale[\"bloc\"]=='Divers', 'bloc_opposant_Divers'] = df_finale.ix[df_finale[\"bloc\"]=='Divers', \n",
    "                                    'bloc_opposant_Divers'].map(lambda x: x-1 if x>1 else 0)"
   ]
  },
  {
   "cell_type": "code",
   "execution_count": 63,
   "metadata": {
    "collapsed": false
   },
   "outputs": [
    {
     "data": {
      "text/html": [
       "<div>\n",
       "<table border=\"1\" class=\"dataframe\">\n",
       "  <thead>\n",
       "    <tr style=\"text-align: right;\">\n",
       "      <th></th>\n",
       "      <th>an</th>\n",
       "      <th>département</th>\n",
       "      <th>circonscription</th>\n",
       "      <th>code</th>\n",
       "      <th>name</th>\n",
       "      <th>first_name</th>\n",
       "      <th>bloc</th>\n",
       "      <th>circo_leg_meme_nuance</th>\n",
       "      <th>circo_pres_meme_nuance</th>\n",
       "      <th>score_bloc_pres</th>\n",
       "      <th>...</th>\n",
       "      <th>score</th>\n",
       "      <th>elu</th>\n",
       "      <th>membre_majorite</th>\n",
       "      <th>top_triangulaire</th>\n",
       "      <th>bloc_opposant_Centre</th>\n",
       "      <th>bloc_opposant_Divers</th>\n",
       "      <th>bloc_opposant_Droite</th>\n",
       "      <th>bloc_opposant_Exdroite</th>\n",
       "      <th>bloc_opposant_Exgauche</th>\n",
       "      <th>bloc_opposant_Gauche</th>\n",
       "    </tr>\n",
       "  </thead>\n",
       "  <tbody>\n",
       "    <tr>\n",
       "      <th>0</th>\n",
       "      <td>2012</td>\n",
       "      <td>AIN</td>\n",
       "      <td>1.0</td>\n",
       "      <td>1|1</td>\n",
       "      <td>BRETON</td>\n",
       "      <td>XAVIER</td>\n",
       "      <td>Droite</td>\n",
       "      <td>1.0</td>\n",
       "      <td>1.0</td>\n",
       "      <td>0.2570</td>\n",
       "      <td>...</td>\n",
       "      <td>0.515715</td>\n",
       "      <td>O</td>\n",
       "      <td>0</td>\n",
       "      <td>0</td>\n",
       "      <td>0</td>\n",
       "      <td>0</td>\n",
       "      <td>0</td>\n",
       "      <td>0</td>\n",
       "      <td>0</td>\n",
       "      <td>1</td>\n",
       "    </tr>\n",
       "    <tr>\n",
       "      <th>1</th>\n",
       "      <td>2012</td>\n",
       "      <td>AIN</td>\n",
       "      <td>1.0</td>\n",
       "      <td>1|1</td>\n",
       "      <td>DEBAT</td>\n",
       "      <td>JEAN-FRANCOIS</td>\n",
       "      <td>Gauche</td>\n",
       "      <td>0.0</td>\n",
       "      <td>0.0</td>\n",
       "      <td>0.2147</td>\n",
       "      <td>...</td>\n",
       "      <td>0.484285</td>\n",
       "      <td>N</td>\n",
       "      <td>1</td>\n",
       "      <td>0</td>\n",
       "      <td>0</td>\n",
       "      <td>0</td>\n",
       "      <td>1</td>\n",
       "      <td>0</td>\n",
       "      <td>0</td>\n",
       "      <td>0</td>\n",
       "    </tr>\n",
       "    <tr>\n",
       "      <th>2</th>\n",
       "      <td>2012</td>\n",
       "      <td>AIN</td>\n",
       "      <td>2.0</td>\n",
       "      <td>1|2</td>\n",
       "      <td>DE LA VERPILLIERE</td>\n",
       "      <td>CHARLES</td>\n",
       "      <td>Droite</td>\n",
       "      <td>1.0</td>\n",
       "      <td>1.0</td>\n",
       "      <td>0.2753</td>\n",
       "      <td>...</td>\n",
       "      <td>0.443146</td>\n",
       "      <td>O</td>\n",
       "      <td>0</td>\n",
       "      <td>1</td>\n",
       "      <td>0</td>\n",
       "      <td>0</td>\n",
       "      <td>0</td>\n",
       "      <td>1</td>\n",
       "      <td>0</td>\n",
       "      <td>1</td>\n",
       "    </tr>\n",
       "    <tr>\n",
       "      <th>3</th>\n",
       "      <td>2012</td>\n",
       "      <td>AIN</td>\n",
       "      <td>2.0</td>\n",
       "      <td>1|2</td>\n",
       "      <td>EYRAUD</td>\n",
       "      <td>OLIVIER</td>\n",
       "      <td>Exdroite</td>\n",
       "      <td>0.0</td>\n",
       "      <td>0.0</td>\n",
       "      <td>0.1798</td>\n",
       "      <td>...</td>\n",
       "      <td>0.169303</td>\n",
       "      <td>N</td>\n",
       "      <td>0</td>\n",
       "      <td>1</td>\n",
       "      <td>0</td>\n",
       "      <td>0</td>\n",
       "      <td>1</td>\n",
       "      <td>0</td>\n",
       "      <td>0</td>\n",
       "      <td>1</td>\n",
       "    </tr>\n",
       "    <tr>\n",
       "      <th>4</th>\n",
       "      <td>2012</td>\n",
       "      <td>AIN</td>\n",
       "      <td>2.0</td>\n",
       "      <td>1|2</td>\n",
       "      <td>RAYMOND</td>\n",
       "      <td>MICHEL</td>\n",
       "      <td>Gauche</td>\n",
       "      <td>0.0</td>\n",
       "      <td>0.0</td>\n",
       "      <td>0.2027</td>\n",
       "      <td>...</td>\n",
       "      <td>0.387551</td>\n",
       "      <td>N</td>\n",
       "      <td>1</td>\n",
       "      <td>1</td>\n",
       "      <td>0</td>\n",
       "      <td>0</td>\n",
       "      <td>1</td>\n",
       "      <td>1</td>\n",
       "      <td>0</td>\n",
       "      <td>0</td>\n",
       "    </tr>\n",
       "  </tbody>\n",
       "</table>\n",
       "<p>5 rows × 25 columns</p>\n",
       "</div>"
      ],
      "text/plain": [
       "     an département  circonscription code               name     first_name  \\\n",
       "0  2012         AIN              1.0  1|1             BRETON         XAVIER   \n",
       "1  2012         AIN              1.0  1|1              DEBAT  JEAN-FRANCOIS   \n",
       "2  2012         AIN              2.0  1|2  DE LA VERPILLIERE        CHARLES   \n",
       "3  2012         AIN              2.0  1|2             EYRAUD        OLIVIER   \n",
       "4  2012         AIN              2.0  1|2            RAYMOND         MICHEL   \n",
       "\n",
       "       bloc  circo_leg_meme_nuance  circo_pres_meme_nuance  score_bloc_pres  \\\n",
       "0    Droite                    1.0                     1.0           0.2570   \n",
       "1    Gauche                    0.0                     0.0           0.2147   \n",
       "2    Droite                    1.0                     1.0           0.2753   \n",
       "3  Exdroite                    0.0                     0.0           0.1798   \n",
       "4    Gauche                    0.0                     0.0           0.2027   \n",
       "\n",
       "           ...              score  elu  membre_majorite  top_triangulaire  \\\n",
       "0          ...           0.515715    O                0                 0   \n",
       "1          ...           0.484285    N                1                 0   \n",
       "2          ...           0.443146    O                0                 1   \n",
       "3          ...           0.169303    N                0                 1   \n",
       "4          ...           0.387551    N                1                 1   \n",
       "\n",
       "   bloc_opposant_Centre  bloc_opposant_Divers bloc_opposant_Droite  \\\n",
       "0                     0                     0                    0   \n",
       "1                     0                     0                    1   \n",
       "2                     0                     0                    0   \n",
       "3                     0                     0                    1   \n",
       "4                     0                     0                    1   \n",
       "\n",
       "   bloc_opposant_Exdroite  bloc_opposant_Exgauche  bloc_opposant_Gauche  \n",
       "0                       0                       0                     1  \n",
       "1                       0                       0                     0  \n",
       "2                       1                       0                     1  \n",
       "3                       0                       0                     1  \n",
       "4                       1                       0                     0  \n",
       "\n",
       "[5 rows x 25 columns]"
      ]
     },
     "execution_count": 63,
     "metadata": {},
     "output_type": "execute_result"
    }
   ],
   "source": [
    "df_finale.head()"
   ]
  },
  {
   "cell_type": "markdown",
   "metadata": {},
   "source": [
    "* score du bloc au premier tour"
   ]
  },
  {
   "cell_type": "code",
   "execution_count": 64,
   "metadata": {
    "collapsed": false
   },
   "outputs": [],
   "source": [
    "test = df_finale.groupby([\"code\",\"an\",\"bloc\"])[\"p_voix\"].sum().reset_index()\n",
    "test = test.rename(columns={\"p_voix\":\"voix_bloc_1nd\"})"
   ]
  },
  {
   "cell_type": "code",
   "execution_count": 65,
   "metadata": {
    "collapsed": false
   },
   "outputs": [],
   "source": [
    "df_finale = pd.merge(df_finale, test, on=[\"code\",\"an\",\"bloc\"])"
   ]
  },
  {
   "cell_type": "code",
   "execution_count": 66,
   "metadata": {
    "collapsed": false
   },
   "outputs": [
    {
     "data": {
      "text/html": [
       "<div>\n",
       "<table border=\"1\" class=\"dataframe\">\n",
       "  <thead>\n",
       "    <tr style=\"text-align: right;\">\n",
       "      <th></th>\n",
       "      <th>an</th>\n",
       "      <th>département</th>\n",
       "      <th>circonscription</th>\n",
       "      <th>code</th>\n",
       "      <th>name</th>\n",
       "      <th>first_name</th>\n",
       "      <th>bloc</th>\n",
       "      <th>circo_leg_meme_nuance</th>\n",
       "      <th>circo_pres_meme_nuance</th>\n",
       "      <th>score_bloc_pres</th>\n",
       "      <th>...</th>\n",
       "      <th>elu</th>\n",
       "      <th>membre_majorite</th>\n",
       "      <th>top_triangulaire</th>\n",
       "      <th>bloc_opposant_Centre</th>\n",
       "      <th>bloc_opposant_Divers</th>\n",
       "      <th>bloc_opposant_Droite</th>\n",
       "      <th>bloc_opposant_Exdroite</th>\n",
       "      <th>bloc_opposant_Exgauche</th>\n",
       "      <th>bloc_opposant_Gauche</th>\n",
       "      <th>voix_bloc_1nd</th>\n",
       "    </tr>\n",
       "  </thead>\n",
       "  <tbody>\n",
       "    <tr>\n",
       "      <th>0</th>\n",
       "      <td>2012</td>\n",
       "      <td>AIN</td>\n",
       "      <td>1.0</td>\n",
       "      <td>1|1</td>\n",
       "      <td>BRETON</td>\n",
       "      <td>XAVIER</td>\n",
       "      <td>Droite</td>\n",
       "      <td>1.0</td>\n",
       "      <td>1.0</td>\n",
       "      <td>0.2570</td>\n",
       "      <td>...</td>\n",
       "      <td>O</td>\n",
       "      <td>0</td>\n",
       "      <td>0</td>\n",
       "      <td>0</td>\n",
       "      <td>0</td>\n",
       "      <td>0</td>\n",
       "      <td>0</td>\n",
       "      <td>0</td>\n",
       "      <td>1</td>\n",
       "      <td>0.2241</td>\n",
       "    </tr>\n",
       "    <tr>\n",
       "      <th>1</th>\n",
       "      <td>2012</td>\n",
       "      <td>AIN</td>\n",
       "      <td>1.0</td>\n",
       "      <td>1|1</td>\n",
       "      <td>DEBAT</td>\n",
       "      <td>JEAN-FRANCOIS</td>\n",
       "      <td>Gauche</td>\n",
       "      <td>0.0</td>\n",
       "      <td>0.0</td>\n",
       "      <td>0.2147</td>\n",
       "      <td>...</td>\n",
       "      <td>N</td>\n",
       "      <td>1</td>\n",
       "      <td>0</td>\n",
       "      <td>0</td>\n",
       "      <td>0</td>\n",
       "      <td>1</td>\n",
       "      <td>0</td>\n",
       "      <td>0</td>\n",
       "      <td>0</td>\n",
       "      <td>0.2316</td>\n",
       "    </tr>\n",
       "    <tr>\n",
       "      <th>2</th>\n",
       "      <td>2012</td>\n",
       "      <td>AIN</td>\n",
       "      <td>2.0</td>\n",
       "      <td>1|2</td>\n",
       "      <td>DE LA VERPILLIERE</td>\n",
       "      <td>CHARLES</td>\n",
       "      <td>Droite</td>\n",
       "      <td>1.0</td>\n",
       "      <td>1.0</td>\n",
       "      <td>0.2753</td>\n",
       "      <td>...</td>\n",
       "      <td>O</td>\n",
       "      <td>0</td>\n",
       "      <td>1</td>\n",
       "      <td>0</td>\n",
       "      <td>0</td>\n",
       "      <td>0</td>\n",
       "      <td>1</td>\n",
       "      <td>0</td>\n",
       "      <td>1</td>\n",
       "      <td>0.2209</td>\n",
       "    </tr>\n",
       "    <tr>\n",
       "      <th>3</th>\n",
       "      <td>2012</td>\n",
       "      <td>AIN</td>\n",
       "      <td>2.0</td>\n",
       "      <td>1|2</td>\n",
       "      <td>EYRAUD</td>\n",
       "      <td>OLIVIER</td>\n",
       "      <td>Exdroite</td>\n",
       "      <td>0.0</td>\n",
       "      <td>0.0</td>\n",
       "      <td>0.1798</td>\n",
       "      <td>...</td>\n",
       "      <td>N</td>\n",
       "      <td>0</td>\n",
       "      <td>1</td>\n",
       "      <td>0</td>\n",
       "      <td>0</td>\n",
       "      <td>1</td>\n",
       "      <td>0</td>\n",
       "      <td>0</td>\n",
       "      <td>1</td>\n",
       "      <td>0.1252</td>\n",
       "    </tr>\n",
       "    <tr>\n",
       "      <th>4</th>\n",
       "      <td>2012</td>\n",
       "      <td>AIN</td>\n",
       "      <td>2.0</td>\n",
       "      <td>1|2</td>\n",
       "      <td>RAYMOND</td>\n",
       "      <td>MICHEL</td>\n",
       "      <td>Gauche</td>\n",
       "      <td>0.0</td>\n",
       "      <td>0.0</td>\n",
       "      <td>0.2027</td>\n",
       "      <td>...</td>\n",
       "      <td>N</td>\n",
       "      <td>1</td>\n",
       "      <td>1</td>\n",
       "      <td>0</td>\n",
       "      <td>0</td>\n",
       "      <td>1</td>\n",
       "      <td>1</td>\n",
       "      <td>0</td>\n",
       "      <td>0</td>\n",
       "      <td>0.1368</td>\n",
       "    </tr>\n",
       "  </tbody>\n",
       "</table>\n",
       "<p>5 rows × 26 columns</p>\n",
       "</div>"
      ],
      "text/plain": [
       "     an département  circonscription code               name     first_name  \\\n",
       "0  2012         AIN              1.0  1|1             BRETON         XAVIER   \n",
       "1  2012         AIN              1.0  1|1              DEBAT  JEAN-FRANCOIS   \n",
       "2  2012         AIN              2.0  1|2  DE LA VERPILLIERE        CHARLES   \n",
       "3  2012         AIN              2.0  1|2             EYRAUD        OLIVIER   \n",
       "4  2012         AIN              2.0  1|2            RAYMOND         MICHEL   \n",
       "\n",
       "       bloc  circo_leg_meme_nuance  circo_pres_meme_nuance  score_bloc_pres  \\\n",
       "0    Droite                    1.0                     1.0           0.2570   \n",
       "1    Gauche                    0.0                     0.0           0.2147   \n",
       "2    Droite                    1.0                     1.0           0.2753   \n",
       "3  Exdroite                    0.0                     0.0           0.1798   \n",
       "4    Gauche                    0.0                     0.0           0.2027   \n",
       "\n",
       "       ...        elu  membre_majorite  top_triangulaire  \\\n",
       "0      ...          O                0                 0   \n",
       "1      ...          N                1                 0   \n",
       "2      ...          O                0                 1   \n",
       "3      ...          N                0                 1   \n",
       "4      ...          N                1                 1   \n",
       "\n",
       "   bloc_opposant_Centre  bloc_opposant_Divers  bloc_opposant_Droite  \\\n",
       "0                     0                     0                     0   \n",
       "1                     0                     0                     1   \n",
       "2                     0                     0                     0   \n",
       "3                     0                     0                     1   \n",
       "4                     0                     0                     1   \n",
       "\n",
       "  bloc_opposant_Exdroite  bloc_opposant_Exgauche  bloc_opposant_Gauche  \\\n",
       "0                      0                       0                     1   \n",
       "1                      0                       0                     0   \n",
       "2                      1                       0                     1   \n",
       "3                      0                       0                     1   \n",
       "4                      1                       0                     0   \n",
       "\n",
       "   voix_bloc_1nd  \n",
       "0         0.2241  \n",
       "1         0.2316  \n",
       "2         0.2209  \n",
       "3         0.1252  \n",
       "4         0.1368  \n",
       "\n",
       "[5 rows x 26 columns]"
      ]
     },
     "execution_count": 66,
     "metadata": {},
     "output_type": "execute_result"
    }
   ],
   "source": [
    "df_finale.head()"
   ]
  },
  {
   "cell_type": "code",
   "execution_count": 67,
   "metadata": {
    "collapsed": false
   },
   "outputs": [],
   "source": [
    "df_finale = df_finale.rename(columns={\"score\":\"p_voix_candidat_2nd\",\n",
    "                                     \"'p_voix\": \"p_voix_candidat_1nd\"})"
   ]
  },
  {
   "cell_type": "code",
   "execution_count": 68,
   "metadata": {
    "collapsed": false
   },
   "outputs": [
    {
     "data": {
      "text/html": [
       "<div>\n",
       "<table border=\"1\" class=\"dataframe\">\n",
       "  <thead>\n",
       "    <tr style=\"text-align: right;\">\n",
       "      <th></th>\n",
       "      <th>an</th>\n",
       "      <th>département</th>\n",
       "      <th>circonscription</th>\n",
       "      <th>code</th>\n",
       "      <th>name</th>\n",
       "      <th>first_name</th>\n",
       "      <th>bloc</th>\n",
       "      <th>circo_leg_meme_nuance</th>\n",
       "      <th>circo_pres_meme_nuance</th>\n",
       "      <th>score_bloc_pres</th>\n",
       "      <th>...</th>\n",
       "      <th>elu</th>\n",
       "      <th>membre_majorite</th>\n",
       "      <th>top_triangulaire</th>\n",
       "      <th>bloc_opposant_Centre</th>\n",
       "      <th>bloc_opposant_Divers</th>\n",
       "      <th>bloc_opposant_Droite</th>\n",
       "      <th>bloc_opposant_Exdroite</th>\n",
       "      <th>bloc_opposant_Exgauche</th>\n",
       "      <th>bloc_opposant_Gauche</th>\n",
       "      <th>voix_bloc_1nd</th>\n",
       "    </tr>\n",
       "  </thead>\n",
       "  <tbody>\n",
       "    <tr>\n",
       "      <th>0</th>\n",
       "      <td>2012</td>\n",
       "      <td>AIN</td>\n",
       "      <td>1.0</td>\n",
       "      <td>1|1</td>\n",
       "      <td>BRETON</td>\n",
       "      <td>XAVIER</td>\n",
       "      <td>Droite</td>\n",
       "      <td>1.0</td>\n",
       "      <td>1.0</td>\n",
       "      <td>0.2570</td>\n",
       "      <td>...</td>\n",
       "      <td>O</td>\n",
       "      <td>0</td>\n",
       "      <td>0</td>\n",
       "      <td>0</td>\n",
       "      <td>0</td>\n",
       "      <td>0</td>\n",
       "      <td>0</td>\n",
       "      <td>0</td>\n",
       "      <td>1</td>\n",
       "      <td>0.2241</td>\n",
       "    </tr>\n",
       "    <tr>\n",
       "      <th>1</th>\n",
       "      <td>2012</td>\n",
       "      <td>AIN</td>\n",
       "      <td>1.0</td>\n",
       "      <td>1|1</td>\n",
       "      <td>DEBAT</td>\n",
       "      <td>JEAN-FRANCOIS</td>\n",
       "      <td>Gauche</td>\n",
       "      <td>0.0</td>\n",
       "      <td>0.0</td>\n",
       "      <td>0.2147</td>\n",
       "      <td>...</td>\n",
       "      <td>N</td>\n",
       "      <td>1</td>\n",
       "      <td>0</td>\n",
       "      <td>0</td>\n",
       "      <td>0</td>\n",
       "      <td>1</td>\n",
       "      <td>0</td>\n",
       "      <td>0</td>\n",
       "      <td>0</td>\n",
       "      <td>0.2316</td>\n",
       "    </tr>\n",
       "    <tr>\n",
       "      <th>2</th>\n",
       "      <td>2012</td>\n",
       "      <td>AIN</td>\n",
       "      <td>2.0</td>\n",
       "      <td>1|2</td>\n",
       "      <td>DE LA VERPILLIERE</td>\n",
       "      <td>CHARLES</td>\n",
       "      <td>Droite</td>\n",
       "      <td>1.0</td>\n",
       "      <td>1.0</td>\n",
       "      <td>0.2753</td>\n",
       "      <td>...</td>\n",
       "      <td>O</td>\n",
       "      <td>0</td>\n",
       "      <td>1</td>\n",
       "      <td>0</td>\n",
       "      <td>0</td>\n",
       "      <td>0</td>\n",
       "      <td>1</td>\n",
       "      <td>0</td>\n",
       "      <td>1</td>\n",
       "      <td>0.2209</td>\n",
       "    </tr>\n",
       "    <tr>\n",
       "      <th>3</th>\n",
       "      <td>2012</td>\n",
       "      <td>AIN</td>\n",
       "      <td>2.0</td>\n",
       "      <td>1|2</td>\n",
       "      <td>EYRAUD</td>\n",
       "      <td>OLIVIER</td>\n",
       "      <td>Exdroite</td>\n",
       "      <td>0.0</td>\n",
       "      <td>0.0</td>\n",
       "      <td>0.1798</td>\n",
       "      <td>...</td>\n",
       "      <td>N</td>\n",
       "      <td>0</td>\n",
       "      <td>1</td>\n",
       "      <td>0</td>\n",
       "      <td>0</td>\n",
       "      <td>1</td>\n",
       "      <td>0</td>\n",
       "      <td>0</td>\n",
       "      <td>1</td>\n",
       "      <td>0.1252</td>\n",
       "    </tr>\n",
       "    <tr>\n",
       "      <th>4</th>\n",
       "      <td>2012</td>\n",
       "      <td>AIN</td>\n",
       "      <td>2.0</td>\n",
       "      <td>1|2</td>\n",
       "      <td>RAYMOND</td>\n",
       "      <td>MICHEL</td>\n",
       "      <td>Gauche</td>\n",
       "      <td>0.0</td>\n",
       "      <td>0.0</td>\n",
       "      <td>0.2027</td>\n",
       "      <td>...</td>\n",
       "      <td>N</td>\n",
       "      <td>1</td>\n",
       "      <td>1</td>\n",
       "      <td>0</td>\n",
       "      <td>0</td>\n",
       "      <td>1</td>\n",
       "      <td>1</td>\n",
       "      <td>0</td>\n",
       "      <td>0</td>\n",
       "      <td>0.1368</td>\n",
       "    </tr>\n",
       "  </tbody>\n",
       "</table>\n",
       "<p>5 rows × 26 columns</p>\n",
       "</div>"
      ],
      "text/plain": [
       "     an département  circonscription code               name     first_name  \\\n",
       "0  2012         AIN              1.0  1|1             BRETON         XAVIER   \n",
       "1  2012         AIN              1.0  1|1              DEBAT  JEAN-FRANCOIS   \n",
       "2  2012         AIN              2.0  1|2  DE LA VERPILLIERE        CHARLES   \n",
       "3  2012         AIN              2.0  1|2             EYRAUD        OLIVIER   \n",
       "4  2012         AIN              2.0  1|2            RAYMOND         MICHEL   \n",
       "\n",
       "       bloc  circo_leg_meme_nuance  circo_pres_meme_nuance  score_bloc_pres  \\\n",
       "0    Droite                    1.0                     1.0           0.2570   \n",
       "1    Gauche                    0.0                     0.0           0.2147   \n",
       "2    Droite                    1.0                     1.0           0.2753   \n",
       "3  Exdroite                    0.0                     0.0           0.1798   \n",
       "4    Gauche                    0.0                     0.0           0.2027   \n",
       "\n",
       "       ...        elu  membre_majorite  top_triangulaire  \\\n",
       "0      ...          O                0                 0   \n",
       "1      ...          N                1                 0   \n",
       "2      ...          O                0                 1   \n",
       "3      ...          N                0                 1   \n",
       "4      ...          N                1                 1   \n",
       "\n",
       "   bloc_opposant_Centre  bloc_opposant_Divers  bloc_opposant_Droite  \\\n",
       "0                     0                     0                     0   \n",
       "1                     0                     0                     1   \n",
       "2                     0                     0                     0   \n",
       "3                     0                     0                     1   \n",
       "4                     0                     0                     1   \n",
       "\n",
       "  bloc_opposant_Exdroite  bloc_opposant_Exgauche  bloc_opposant_Gauche  \\\n",
       "0                      0                       0                     1   \n",
       "1                      0                       0                     0   \n",
       "2                      1                       0                     1   \n",
       "3                      0                       0                     1   \n",
       "4                      1                       0                     0   \n",
       "\n",
       "   voix_bloc_1nd  \n",
       "0         0.2241  \n",
       "1         0.2316  \n",
       "2         0.2209  \n",
       "3         0.1252  \n",
       "4         0.1368  \n",
       "\n",
       "[5 rows x 26 columns]"
      ]
     },
     "execution_count": 68,
     "metadata": {},
     "output_type": "execute_result"
    }
   ],
   "source": [
    "df_finale.head()"
   ]
  },
  {
   "cell_type": "markdown",
   "metadata": {},
   "source": [
    "* score bloc précédente législative "
   ]
  },
  {
   "cell_type": "code",
   "execution_count": 69,
   "metadata": {
    "collapsed": false
   },
   "outputs": [
    {
     "data": {
      "text/html": [
       "<div>\n",
       "<table border=\"1\" class=\"dataframe\">\n",
       "  <thead>\n",
       "    <tr style=\"text-align: right;\">\n",
       "      <th></th>\n",
       "      <th>département</th>\n",
       "      <th>an</th>\n",
       "      <th>bloc</th>\n",
       "      <th>voix_bloc_2nd_lag</th>\n",
       "    </tr>\n",
       "  </thead>\n",
       "  <tbody>\n",
       "    <tr>\n",
       "      <th>0</th>\n",
       "      <td>AIN</td>\n",
       "      <td>2002</td>\n",
       "      <td>Centre</td>\n",
       "      <td>0.556672</td>\n",
       "    </tr>\n",
       "    <tr>\n",
       "      <th>1</th>\n",
       "      <td>AIN</td>\n",
       "      <td>2002</td>\n",
       "      <td>Droite</td>\n",
       "      <td>0.468161</td>\n",
       "    </tr>\n",
       "    <tr>\n",
       "      <th>2</th>\n",
       "      <td>AIN</td>\n",
       "      <td>2002</td>\n",
       "      <td>Exdroite</td>\n",
       "      <td>0.182576</td>\n",
       "    </tr>\n",
       "    <tr>\n",
       "      <th>3</th>\n",
       "      <td>AIN</td>\n",
       "      <td>2002</td>\n",
       "      <td>Gauche</td>\n",
       "      <td>0.441940</td>\n",
       "    </tr>\n",
       "    <tr>\n",
       "      <th>4</th>\n",
       "      <td>AIN</td>\n",
       "      <td>2007</td>\n",
       "      <td>Droite</td>\n",
       "      <td>0.606761</td>\n",
       "    </tr>\n",
       "  </tbody>\n",
       "</table>\n",
       "</div>"
      ],
      "text/plain": [
       "  département    an      bloc  voix_bloc_2nd_lag\n",
       "0         AIN  2002    Centre           0.556672\n",
       "1         AIN  2002    Droite           0.468161\n",
       "2         AIN  2002  Exdroite           0.182576\n",
       "3         AIN  2002    Gauche           0.441940\n",
       "4         AIN  2007    Droite           0.606761"
      ]
     },
     "execution_count": 69,
     "metadata": {},
     "output_type": "execute_result"
    }
   ],
   "source": [
    "last_lest = df_finale.groupby([\"département\",\"an\",\"bloc\"])[\"p_voix_candidat_2nd\"].mean().reset_index()\n",
    "last_lest[\"an\"] = last_lest[\"an\"].map(lambda x: x+5)\n",
    "last_lest= last_lest.rename(columns={\"p_voix_candidat_2nd\":\"voix_bloc_2nd_lag\"})\n",
    "last_lest.head()"
   ]
  },
  {
   "cell_type": "code",
   "execution_count": 70,
   "metadata": {
    "collapsed": false
   },
   "outputs": [
    {
     "data": {
      "text/html": [
       "<div>\n",
       "<table border=\"1\" class=\"dataframe\">\n",
       "  <thead>\n",
       "    <tr style=\"text-align: right;\">\n",
       "      <th></th>\n",
       "      <th>an</th>\n",
       "      <th>département</th>\n",
       "      <th>circonscription</th>\n",
       "      <th>code</th>\n",
       "      <th>name</th>\n",
       "      <th>first_name</th>\n",
       "      <th>bloc</th>\n",
       "      <th>circo_leg_meme_nuance</th>\n",
       "      <th>circo_pres_meme_nuance</th>\n",
       "      <th>score_bloc_pres</th>\n",
       "      <th>...</th>\n",
       "      <th>membre_majorite</th>\n",
       "      <th>top_triangulaire</th>\n",
       "      <th>bloc_opposant_Centre</th>\n",
       "      <th>bloc_opposant_Divers</th>\n",
       "      <th>bloc_opposant_Droite</th>\n",
       "      <th>bloc_opposant_Exdroite</th>\n",
       "      <th>bloc_opposant_Exgauche</th>\n",
       "      <th>bloc_opposant_Gauche</th>\n",
       "      <th>voix_bloc_1nd</th>\n",
       "      <th>voix_bloc_2nd_lag</th>\n",
       "    </tr>\n",
       "  </thead>\n",
       "  <tbody>\n",
       "    <tr>\n",
       "      <th>0</th>\n",
       "      <td>2012</td>\n",
       "      <td>AIN</td>\n",
       "      <td>1.0</td>\n",
       "      <td>1|1</td>\n",
       "      <td>BRETON</td>\n",
       "      <td>XAVIER</td>\n",
       "      <td>Droite</td>\n",
       "      <td>1.0</td>\n",
       "      <td>1.0</td>\n",
       "      <td>0.2570</td>\n",
       "      <td>...</td>\n",
       "      <td>0</td>\n",
       "      <td>0</td>\n",
       "      <td>0</td>\n",
       "      <td>0</td>\n",
       "      <td>0</td>\n",
       "      <td>0</td>\n",
       "      <td>0</td>\n",
       "      <td>1</td>\n",
       "      <td>0.2241</td>\n",
       "      <td>0.567573</td>\n",
       "    </tr>\n",
       "    <tr>\n",
       "      <th>1</th>\n",
       "      <td>2012</td>\n",
       "      <td>AIN</td>\n",
       "      <td>1.0</td>\n",
       "      <td>1|1</td>\n",
       "      <td>DEBAT</td>\n",
       "      <td>JEAN-FRANCOIS</td>\n",
       "      <td>Gauche</td>\n",
       "      <td>0.0</td>\n",
       "      <td>0.0</td>\n",
       "      <td>0.2147</td>\n",
       "      <td>...</td>\n",
       "      <td>1</td>\n",
       "      <td>0</td>\n",
       "      <td>0</td>\n",
       "      <td>0</td>\n",
       "      <td>1</td>\n",
       "      <td>0</td>\n",
       "      <td>0</td>\n",
       "      <td>0</td>\n",
       "      <td>0.2316</td>\n",
       "      <td>0.432427</td>\n",
       "    </tr>\n",
       "    <tr>\n",
       "      <th>2</th>\n",
       "      <td>2012</td>\n",
       "      <td>AIN</td>\n",
       "      <td>2.0</td>\n",
       "      <td>1|2</td>\n",
       "      <td>DE LA VERPILLIERE</td>\n",
       "      <td>CHARLES</td>\n",
       "      <td>Droite</td>\n",
       "      <td>1.0</td>\n",
       "      <td>1.0</td>\n",
       "      <td>0.2753</td>\n",
       "      <td>...</td>\n",
       "      <td>0</td>\n",
       "      <td>1</td>\n",
       "      <td>0</td>\n",
       "      <td>0</td>\n",
       "      <td>0</td>\n",
       "      <td>1</td>\n",
       "      <td>0</td>\n",
       "      <td>1</td>\n",
       "      <td>0.2209</td>\n",
       "      <td>0.567573</td>\n",
       "    </tr>\n",
       "    <tr>\n",
       "      <th>3</th>\n",
       "      <td>2012</td>\n",
       "      <td>AIN</td>\n",
       "      <td>2.0</td>\n",
       "      <td>1|2</td>\n",
       "      <td>EYRAUD</td>\n",
       "      <td>OLIVIER</td>\n",
       "      <td>Exdroite</td>\n",
       "      <td>0.0</td>\n",
       "      <td>0.0</td>\n",
       "      <td>0.1798</td>\n",
       "      <td>...</td>\n",
       "      <td>0</td>\n",
       "      <td>1</td>\n",
       "      <td>0</td>\n",
       "      <td>0</td>\n",
       "      <td>1</td>\n",
       "      <td>0</td>\n",
       "      <td>0</td>\n",
       "      <td>1</td>\n",
       "      <td>0.1252</td>\n",
       "      <td>NaN</td>\n",
       "    </tr>\n",
       "    <tr>\n",
       "      <th>4</th>\n",
       "      <td>2012</td>\n",
       "      <td>AIN</td>\n",
       "      <td>2.0</td>\n",
       "      <td>1|2</td>\n",
       "      <td>RAYMOND</td>\n",
       "      <td>MICHEL</td>\n",
       "      <td>Gauche</td>\n",
       "      <td>0.0</td>\n",
       "      <td>0.0</td>\n",
       "      <td>0.2027</td>\n",
       "      <td>...</td>\n",
       "      <td>1</td>\n",
       "      <td>1</td>\n",
       "      <td>0</td>\n",
       "      <td>0</td>\n",
       "      <td>1</td>\n",
       "      <td>1</td>\n",
       "      <td>0</td>\n",
       "      <td>0</td>\n",
       "      <td>0.1368</td>\n",
       "      <td>0.432427</td>\n",
       "    </tr>\n",
       "  </tbody>\n",
       "</table>\n",
       "<p>5 rows × 27 columns</p>\n",
       "</div>"
      ],
      "text/plain": [
       "     an département  circonscription code               name     first_name  \\\n",
       "0  2012         AIN              1.0  1|1             BRETON         XAVIER   \n",
       "1  2012         AIN              1.0  1|1              DEBAT  JEAN-FRANCOIS   \n",
       "2  2012         AIN              2.0  1|2  DE LA VERPILLIERE        CHARLES   \n",
       "3  2012         AIN              2.0  1|2             EYRAUD        OLIVIER   \n",
       "4  2012         AIN              2.0  1|2            RAYMOND         MICHEL   \n",
       "\n",
       "       bloc  circo_leg_meme_nuance  circo_pres_meme_nuance  score_bloc_pres  \\\n",
       "0    Droite                    1.0                     1.0           0.2570   \n",
       "1    Gauche                    0.0                     0.0           0.2147   \n",
       "2    Droite                    1.0                     1.0           0.2753   \n",
       "3  Exdroite                    0.0                     0.0           0.1798   \n",
       "4    Gauche                    0.0                     0.0           0.2027   \n",
       "\n",
       "         ...          membre_majorite  top_triangulaire  bloc_opposant_Centre  \\\n",
       "0        ...                        0                 0                     0   \n",
       "1        ...                        1                 0                     0   \n",
       "2        ...                        0                 1                     0   \n",
       "3        ...                        0                 1                     0   \n",
       "4        ...                        1                 1                     0   \n",
       "\n",
       "   bloc_opposant_Divers  bloc_opposant_Droite  bloc_opposant_Exdroite  \\\n",
       "0                     0                     0                       0   \n",
       "1                     0                     1                       0   \n",
       "2                     0                     0                       1   \n",
       "3                     0                     1                       0   \n",
       "4                     0                     1                       1   \n",
       "\n",
       "  bloc_opposant_Exgauche  bloc_opposant_Gauche  voix_bloc_1nd  \\\n",
       "0                      0                     1         0.2241   \n",
       "1                      0                     0         0.2316   \n",
       "2                      0                     1         0.2209   \n",
       "3                      0                     1         0.1252   \n",
       "4                      0                     0         0.1368   \n",
       "\n",
       "   voix_bloc_2nd_lag  \n",
       "0           0.567573  \n",
       "1           0.432427  \n",
       "2           0.567573  \n",
       "3                NaN  \n",
       "4           0.432427  \n",
       "\n",
       "[5 rows x 27 columns]"
      ]
     },
     "execution_count": 70,
     "metadata": {},
     "output_type": "execute_result"
    }
   ],
   "source": [
    "df_finale = pd.merge(df_finale, last_lest, on=[\"département\",\"an\",\"bloc\"], how=\"left\")\n",
    "df_finale.head()"
   ]
  },
  {
   "cell_type": "markdown",
   "metadata": {},
   "source": [
    "Certaine circonscription comme l'ain n'ont pas eu d'election en 2007...bizare  \n",
    "last_lest[last_lest[\"code\"]==\"1|2\"] "
   ]
  },
  {
   "cell_type": "markdown",
   "metadata": {},
   "source": [
    "* score candidat au second tour d'une précédente législative "
   ]
  },
  {
   "cell_type": "code",
   "execution_count": 71,
   "metadata": {
    "collapsed": false,
    "scrolled": false
   },
   "outputs": [],
   "source": [
    "#test = df_legi_f.groupby([\"an\",\"name\"])[\"first_name\"].apply(list).reset_index()\n",
    "#test[\"len\"]= test[\"first_name\"].map(lambda x: len(x))\n",
    "#test = test[test['len']>1]\n",
    "#test = test.reset_index(drop=True)"
   ]
  },
  {
   "cell_type": "code",
   "execution_count": 72,
   "metadata": {
    "collapsed": false
   },
   "outputs": [],
   "source": [
    "test = df_finale[[\"an\",\"name\",\"first_name\",\"p_voix_candidat_2nd\"]]\n",
    "test = test.sort_values([\"name\",\"first_name\",\"an\"]).reset_index(drop=True)"
   ]
  },
  {
   "cell_type": "code",
   "execution_count": 73,
   "metadata": {
    "collapsed": false
   },
   "outputs": [],
   "source": [
    "test = test.rename(columns={\"p_voix_candidat_2nd\":\"voix_candidat_2nd_lag\"})"
   ]
  },
  {
   "cell_type": "code",
   "execution_count": 74,
   "metadata": {
    "collapsed": false
   },
   "outputs": [],
   "source": [
    "test[\"an\"] = test[\"an\"].map(lambda x: x+5)"
   ]
  },
  {
   "cell_type": "code",
   "execution_count": 75,
   "metadata": {
    "collapsed": false
   },
   "outputs": [],
   "source": [
    "test\n",
    "name = test.ix[0, \"name\"]\n",
    "first_name = test.ix[0, \"first_name\"]\n",
    "for i in range(test.shape[0]):\n",
    "    if (test.ix[i, \"first_name\"]==first_name) & (test.ix[i, \"name\"]==name):\n",
    "        if np.isnan(test.ix[i, \"voix_candidat_2nd_lag\"]):\n",
    "            test.ix[i, \"voix_candidat_2nd_lag\"] = test.ix[i-1, \"voix_candidat_2nd_lag\"]\n",
    "    else :\n",
    "        name = test.ix[i, \"name\"]\n",
    "        first_name =  test.ix[i, \"first_name\"]\n"
   ]
  },
  {
   "cell_type": "code",
   "execution_count": 76,
   "metadata": {
    "collapsed": true
   },
   "outputs": [],
   "source": [
    "df_finale = pd.merge(df_finale, test, on=[\"an\",\"name\",\"first_name\"], how='left')"
   ]
  },
  {
   "cell_type": "code",
   "execution_count": 77,
   "metadata": {
    "collapsed": true
   },
   "outputs": [],
   "source": [
    "# export\n",
    "df_finale.to_csv(\"dataset_legislative_2nd_prediction_16_03.csv\", index=False)"
   ]
  },
  {
   "cell_type": "code",
   "execution_count": null,
   "metadata": {
    "collapsed": true
   },
   "outputs": [],
   "source": []
  }
 ],
 "metadata": {
  "kernelspec": {
   "display_name": "Python [Root]",
   "language": "python",
   "name": "Python [Root]"
  },
  "language_info": {
   "codemirror_mode": {
    "name": "ipython",
    "version": 3
   },
   "file_extension": ".py",
   "mimetype": "text/x-python",
   "name": "python",
   "nbconvert_exporter": "python",
   "pygments_lexer": "ipython3",
   "version": "3.5.2"
  }
 },
 "nbformat": 4,
 "nbformat_minor": 2
}
