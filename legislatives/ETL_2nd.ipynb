{
 "cells": [
  {
   "cell_type": "code",
   "execution_count": 2,
   "metadata": {
    "collapsed": true
   },
   "outputs": [],
   "source": [
    "import pandas as pd \n",
    "import numpy as np\n",
    "from collections import Counter\n",
    "import os\n",
    "import unidecode"
   ]
  },
  {
   "cell_type": "code",
   "execution_count": 3,
   "metadata": {
    "collapsed": false
   },
   "outputs": [],
   "source": [
    "os.chdir('./data')"
   ]
  },
  {
   "cell_type": "code",
   "execution_count": 4,
   "metadata": {
    "collapsed": false
   },
   "outputs": [
    {
     "name": "stdout",
     "output_type": "stream",
     "text": [
      "\u001b[0m\u001b[01;32mcdsp_legi1997t2_circ.xlsx\u001b[0m*  \u001b[01;32mcdsp_legi2012t2_circ.xlsx\u001b[0m*\r\n",
      "\u001b[01;32mcdsp_legi2002t2_circ.xls\u001b[0m*   \u001b[01;32mdataframe_elections.xlsx\u001b[0m*\r\n",
      "\u001b[01;32mcdsp_legi2007t2_circ.xls\u001b[0m*\r\n"
     ]
    }
   ],
   "source": [
    "ls"
   ]
  },
  {
   "cell_type": "code",
   "execution_count": 83,
   "metadata": {
    "collapsed": false
   },
   "outputs": [],
   "source": [
    "legi_1997 = pd.read_excel(\"cdsp_legi1997t2_circ.xlsx\")\n",
    "legi_2002 = pd.read_excel(\"cdsp_legi2002t2_circ.xls\")\n",
    "legi_2007 = pd.read_excel(\"cdsp_legi2007t2_circ.xls\")\n",
    "legi_2012 = pd.read_excel(\"cdsp_legi2012t2_circ.xlsx\")"
   ]
  },
  {
   "cell_type": "code",
   "execution_count": 84,
   "metadata": {
    "collapsed": true
   },
   "outputs": [],
   "source": [
    "legi_tab = pd.read_excel(\"dataframe_elections.xlsx\")"
   ]
  },
  {
   "cell_type": "code",
   "execution_count": 85,
   "metadata": {
    "collapsed": true
   },
   "outputs": [],
   "source": [
    "def func_elu(a, b, c):\n",
    "    if np.isnan(a) == True:\n",
    "        return 'N'\n",
    "    voix = a\n",
    "    voix_max = max([a,b,c])\n",
    "    if a < voix_max :\n",
    "        return 'N'\n",
    "    else :\n",
    "        return 'O'"
   ]
  },
  {
   "cell_type": "code",
   "execution_count": 86,
   "metadata": {
    "collapsed": false
   },
   "outputs": [],
   "source": [
    "# on adapte les columns sur legi_2012 pour qu'elle supporte notre fonction\n",
    "legi_2012[\"1 Elu\"] = legi_2012.apply(lambda x : func_elu(x['1 voix'], x['2 voix'], x['3 voix']), axis=1)\n",
    "legi_2012[\"2 Elu\"] = legi_2012.apply(lambda x : func_elu(x['2 voix'], x['1 voix'], x['3 voix']), axis=1)\n",
    "legi_2012[\"3 Elu\"] = legi_2012.apply(lambda x : func_elu(x['3 voix'], x['2 voix'], x['1 voix']), axis=1)"
   ]
  },
  {
   "cell_type": "code",
   "execution_count": 87,
   "metadata": {
    "collapsed": false
   },
   "outputs": [],
   "source": [
    "# exemple sur 97\n",
    "# get name\n",
    "def in_format(data, annee):\n",
    "    name = pd.melt(data, id_vars=[\"Code département\", \"département\",'circonscription', \"Exprimés\"], \n",
    "            value_vars=[\"1 Nom candidat\",\"2 Nom candidat\",\"3 Nom candidat\"], value_name=\"name\")\n",
    "    prenom = pd.melt(data,\n",
    "            value_vars=[\"1 Prénom candidat\",\"2 Prénom candidat\",\"3 Prénom candidat\"], value_name=\"first_name\")\n",
    "    value = pd.melt(data,\n",
    "            value_vars=[\"1 voix\",\"2 voix\",\"3 voix\"], value_name=\"voix\")\n",
    "    elu = pd.melt(data, \n",
    "            value_vars=[\"1 Elu\",\"2 Elu\",\"3 Elu\"], value_name=\"elu\")\n",
    "    df = pd.concat([name, prenom, value, elu], axis=1)\n",
    "\n",
    "    del df[\"variable\"]\n",
    "    df[\"score\"] = df.apply(lambda x : x['voix']/ x['Exprimés'], axis=1)\n",
    "    df[\"an\"] = annee\n",
    "\n",
    "    df.dropna(inplace=True) \n",
    "    print(df.shape)\n",
    "    return df"
   ]
  },
  {
   "cell_type": "code",
   "execution_count": 88,
   "metadata": {
    "collapsed": false
   },
   "outputs": [
    {
     "name": "stdout",
     "output_type": "stream",
     "text": [
      "(1197, 10)\n",
      "(1045, 10)\n",
      "(933, 10)\n",
      "(1101, 10)\n"
     ]
    }
   ],
   "source": [
    "legi_1997 = in_format(legi_1997, 1997)\n",
    "legi_2002 = in_format(legi_2002, 2002)\n",
    "legi_2007 = in_format(legi_2007, 2007)\n",
    "legi_2012 = in_format(legi_2012, 2012)"
   ]
  },
  {
   "cell_type": "code",
   "execution_count": 89,
   "metadata": {
    "collapsed": false
   },
   "outputs": [],
   "source": [
    "legi_2t = pd.concat([legi_1997, legi_2002, legi_2007, legi_2012], axis=0)\n",
    "legi_2t[\"code\"] = legi_2t.apply(lambda x: str(x[\"Code département\"])+'|'+str(int(x[\"circonscription\"])), axis=1)"
   ]
  },
  {
   "cell_type": "code",
   "execution_count": 90,
   "metadata": {
    "collapsed": false
   },
   "outputs": [
    {
     "data": {
      "text/plain": [
       "(4276, 11)"
      ]
     },
     "execution_count": 90,
     "metadata": {},
     "output_type": "execute_result"
    }
   ],
   "source": [
    "legi_2t.shape"
   ]
  },
  {
   "cell_type": "code",
   "execution_count": 94,
   "metadata": {
    "collapsed": false
   },
   "outputs": [
    {
     "data": {
      "text/html": [
       "<div>\n",
       "<table border=\"1\" class=\"dataframe\">\n",
       "  <thead>\n",
       "    <tr style=\"text-align: right;\">\n",
       "      <th></th>\n",
       "      <th>Code département</th>\n",
       "      <th>département</th>\n",
       "      <th>circonscription</th>\n",
       "      <th>Exprimés</th>\n",
       "      <th>name</th>\n",
       "      <th>first_name</th>\n",
       "      <th>voix</th>\n",
       "      <th>elu</th>\n",
       "      <th>score</th>\n",
       "      <th>an</th>\n",
       "      <th>code</th>\n",
       "    </tr>\n",
       "  </thead>\n",
       "  <tbody>\n",
       "    <tr>\n",
       "      <th>32</th>\n",
       "      <td>10</td>\n",
       "      <td>AUBE</td>\n",
       "      <td>1.0</td>\n",
       "      <td>30564.0</td>\n",
       "      <td>BRET</td>\n",
       "      <td>LINE</td>\n",
       "      <td>13252.0</td>\n",
       "      <td>N</td>\n",
       "      <td>0.433582</td>\n",
       "      <td>2002</td>\n",
       "      <td>10|1</td>\n",
       "    </tr>\n",
       "    <tr>\n",
       "      <th>23</th>\n",
       "      <td>10</td>\n",
       "      <td>AUBE</td>\n",
       "      <td>1.0</td>\n",
       "      <td>32500.0</td>\n",
       "      <td>BRET</td>\n",
       "      <td>Line</td>\n",
       "      <td>12793.0</td>\n",
       "      <td>N</td>\n",
       "      <td>0.393631</td>\n",
       "      <td>2007</td>\n",
       "      <td>10|1</td>\n",
       "    </tr>\n",
       "  </tbody>\n",
       "</table>\n",
       "</div>"
      ],
      "text/plain": [
       "   Code département département  circonscription  Exprimés  name first_name  \\\n",
       "32               10        AUBE              1.0   30564.0  BRET       LINE   \n",
       "23               10        AUBE              1.0   32500.0  BRET       Line   \n",
       "\n",
       "       voix elu     score    an  code  \n",
       "32  13252.0   N  0.433582  2002  10|1  \n",
       "23  12793.0   N  0.393631  2007  10|1  "
      ]
     },
     "execution_count": 94,
     "metadata": {},
     "output_type": "execute_result"
    }
   ],
   "source": [
    "legi_2t.sort_values([\"code\",\"name\",\"first_name\"]).head(2)"
   ]
  },
  {
   "cell_type": "code",
   "execution_count": 95,
   "metadata": {
    "collapsed": true
   },
   "outputs": [],
   "source": [
    "legi_2t[\"name\"] =  legi_2t[\"name\"].map(lambda x: unidecode.unidecode(x))\n",
    "legi_2t[\"first_name\"] =  legi_2t[\"first_name\"].map(lambda x: unidecode.unidecode(x).upper())\n",
    "legi_tab[\"prenom\"] =  legi_tab[\"prenom\"] .map(lambda x: unidecode.unidecode(x).upper())\n",
    "legi_tab[\"nom\"] =  legi_tab[\"nom\"].map(lambda x: unidecode.unidecode(x))"
   ]
  },
  {
   "cell_type": "code",
   "execution_count": 105,
   "metadata": {
    "collapsed": false
   },
   "outputs": [],
   "source": [
    "# création du lag second tour legislative\n",
    "test = pd.merge(legi_2t, legi_2t[[\"code\",\"name\",\"first_name\",\"score\",\"an\"]]\n",
    "                ,how=\"left\", on=[\"code\",\"name\",\"first_name\"])\n",
    "\n",
    "test[\"lag_2nd_tour\"] = test.apply(lambda x: x[\"score_y\"] if x[\"an_x\"]==(x[\"an_y\"]+5) else np.nan, axis=1)\n",
    "test = test[[\"code\",\"name\",\"first_name\",\"an_x\",\"lag_2nd_tour\"]].dropna()\n",
    "legi_2t = pd.merge(legi_2t, test, how=\"left\", \n",
    "                    left_on=[\"code\",\"name\",\"first_name\",\"an\"], right_on=[\"code\",\"name\",\"first_name\",\"an_x\"])\n",
    "del legi_2t[\"an_x\"]"
   ]
  },
  {
   "cell_type": "code",
   "execution_count": 108,
   "metadata": {
    "collapsed": false
   },
   "outputs": [
    {
     "data": {
      "text/html": [
       "<div>\n",
       "<table border=\"1\" class=\"dataframe\">\n",
       "  <thead>\n",
       "    <tr style=\"text-align: right;\">\n",
       "      <th></th>\n",
       "      <th>Code département</th>\n",
       "      <th>département</th>\n",
       "      <th>circonscription</th>\n",
       "      <th>Exprimés</th>\n",
       "      <th>name</th>\n",
       "      <th>first_name</th>\n",
       "      <th>voix</th>\n",
       "      <th>elu</th>\n",
       "      <th>score</th>\n",
       "      <th>an</th>\n",
       "      <th>code</th>\n",
       "      <th>lag_2nd_tour</th>\n",
       "    </tr>\n",
       "  </thead>\n",
       "  <tbody>\n",
       "    <tr>\n",
       "      <th>1229</th>\n",
       "      <td>10</td>\n",
       "      <td>AUBE</td>\n",
       "      <td>1.0</td>\n",
       "      <td>30564.0</td>\n",
       "      <td>BRET</td>\n",
       "      <td>LINE</td>\n",
       "      <td>13252.0</td>\n",
       "      <td>N</td>\n",
       "      <td>0.433582</td>\n",
       "      <td>2002</td>\n",
       "      <td>10|1</td>\n",
       "      <td>NaN</td>\n",
       "    </tr>\n",
       "    <tr>\n",
       "      <th>2265</th>\n",
       "      <td>10</td>\n",
       "      <td>AUBE</td>\n",
       "      <td>1.0</td>\n",
       "      <td>32500.0</td>\n",
       "      <td>BRET</td>\n",
       "      <td>LINE</td>\n",
       "      <td>12793.0</td>\n",
       "      <td>N</td>\n",
       "      <td>0.393631</td>\n",
       "      <td>2007</td>\n",
       "      <td>10|1</td>\n",
       "      <td>0.433582</td>\n",
       "    </tr>\n",
       "    <tr>\n",
       "      <th>34</th>\n",
       "      <td>10</td>\n",
       "      <td>AUBE</td>\n",
       "      <td>1.0</td>\n",
       "      <td>38770.0</td>\n",
       "      <td>BRET</td>\n",
       "      <td>MARC</td>\n",
       "      <td>15112.0</td>\n",
       "      <td>N</td>\n",
       "      <td>0.389786</td>\n",
       "      <td>1997</td>\n",
       "      <td>10|1</td>\n",
       "      <td>NaN</td>\n",
       "    </tr>\n",
       "    <tr>\n",
       "      <th>2732</th>\n",
       "      <td>10</td>\n",
       "      <td>AUBE</td>\n",
       "      <td>1.0</td>\n",
       "      <td>32500.0</td>\n",
       "      <td>DHUICQ</td>\n",
       "      <td>NICOLAS</td>\n",
       "      <td>19707.0</td>\n",
       "      <td>O</td>\n",
       "      <td>0.606369</td>\n",
       "      <td>2007</td>\n",
       "      <td>10|1</td>\n",
       "      <td>NaN</td>\n",
       "    </tr>\n",
       "    <tr>\n",
       "      <th>3746</th>\n",
       "      <td>10</td>\n",
       "      <td>AUBE</td>\n",
       "      <td>1.0</td>\n",
       "      <td>38753.0</td>\n",
       "      <td>DHUICQ</td>\n",
       "      <td>NICOLAS</td>\n",
       "      <td>17122.0</td>\n",
       "      <td>O</td>\n",
       "      <td>0.441824</td>\n",
       "      <td>2012</td>\n",
       "      <td>10|1</td>\n",
       "      <td>0.606369</td>\n",
       "    </tr>\n",
       "    <tr>\n",
       "      <th>3205</th>\n",
       "      <td>10</td>\n",
       "      <td>AUBE</td>\n",
       "      <td>1.0</td>\n",
       "      <td>38753.0</td>\n",
       "      <td>GAUDOT</td>\n",
       "      <td>RENE</td>\n",
       "      <td>12406.0</td>\n",
       "      <td>N</td>\n",
       "      <td>0.320130</td>\n",
       "      <td>2012</td>\n",
       "      <td>10|1</td>\n",
       "      <td>NaN</td>\n",
       "    </tr>\n",
       "    <tr>\n",
       "      <th>599</th>\n",
       "      <td>10</td>\n",
       "      <td>AUBE</td>\n",
       "      <td>1.0</td>\n",
       "      <td>38770.0</td>\n",
       "      <td>MICAUX</td>\n",
       "      <td>PIERRE</td>\n",
       "      <td>17003.0</td>\n",
       "      <td>O</td>\n",
       "      <td>0.438561</td>\n",
       "      <td>1997</td>\n",
       "      <td>10|1</td>\n",
       "      <td>NaN</td>\n",
       "    </tr>\n",
       "    <tr>\n",
       "      <th>1748</th>\n",
       "      <td>10</td>\n",
       "      <td>AUBE</td>\n",
       "      <td>1.0</td>\n",
       "      <td>30564.0</td>\n",
       "      <td>MICAUX</td>\n",
       "      <td>PIERRE</td>\n",
       "      <td>17312.0</td>\n",
       "      <td>O</td>\n",
       "      <td>0.566418</td>\n",
       "      <td>2002</td>\n",
       "      <td>10|1</td>\n",
       "      <td>0.438561</td>\n",
       "    </tr>\n",
       "    <tr>\n",
       "      <th>1122</th>\n",
       "      <td>10</td>\n",
       "      <td>AUBE</td>\n",
       "      <td>1.0</td>\n",
       "      <td>38770.0</td>\n",
       "      <td>SUBTIL</td>\n",
       "      <td>BRUNO</td>\n",
       "      <td>6655.0</td>\n",
       "      <td>N</td>\n",
       "      <td>0.171653</td>\n",
       "      <td>1997</td>\n",
       "      <td>10|1</td>\n",
       "      <td>NaN</td>\n",
       "    </tr>\n",
       "    <tr>\n",
       "      <th>4245</th>\n",
       "      <td>10</td>\n",
       "      <td>AUBE</td>\n",
       "      <td>1.0</td>\n",
       "      <td>38753.0</td>\n",
       "      <td>SUBTIL</td>\n",
       "      <td>BRUNO</td>\n",
       "      <td>9225.0</td>\n",
       "      <td>N</td>\n",
       "      <td>0.238046</td>\n",
       "      <td>2012</td>\n",
       "      <td>10|1</td>\n",
       "      <td>NaN</td>\n",
       "    </tr>\n",
       "    <tr>\n",
       "      <th>2266</th>\n",
       "      <td>10</td>\n",
       "      <td>AUBE</td>\n",
       "      <td>2.0</td>\n",
       "      <td>38356.0</td>\n",
       "      <td>AYADI</td>\n",
       "      <td>SALIHA</td>\n",
       "      <td>13324.0</td>\n",
       "      <td>N</td>\n",
       "      <td>0.347377</td>\n",
       "      <td>2007</td>\n",
       "      <td>10|2</td>\n",
       "      <td>NaN</td>\n",
       "    </tr>\n",
       "    <tr>\n",
       "      <th>35</th>\n",
       "      <td>10</td>\n",
       "      <td>AUBE</td>\n",
       "      <td>2.0</td>\n",
       "      <td>47620.0</td>\n",
       "      <td>FOURNIER</td>\n",
       "      <td>YVES</td>\n",
       "      <td>19929.0</td>\n",
       "      <td>N</td>\n",
       "      <td>0.418501</td>\n",
       "      <td>1997</td>\n",
       "      <td>10|2</td>\n",
       "      <td>NaN</td>\n",
       "    </tr>\n",
       "    <tr>\n",
       "      <th>1230</th>\n",
       "      <td>10</td>\n",
       "      <td>AUBE</td>\n",
       "      <td>2.0</td>\n",
       "      <td>38937.0</td>\n",
       "      <td>FOURNIER</td>\n",
       "      <td>YVES</td>\n",
       "      <td>16179.0</td>\n",
       "      <td>N</td>\n",
       "      <td>0.415517</td>\n",
       "      <td>2002</td>\n",
       "      <td>10|2</td>\n",
       "      <td>0.418501</td>\n",
       "    </tr>\n",
       "    <tr>\n",
       "      <th>3206</th>\n",
       "      <td>10</td>\n",
       "      <td>AUBE</td>\n",
       "      <td>2.0</td>\n",
       "      <td>40814.0</td>\n",
       "      <td>FOURNIER</td>\n",
       "      <td>YVES</td>\n",
       "      <td>17453.0</td>\n",
       "      <td>N</td>\n",
       "      <td>0.427623</td>\n",
       "      <td>2012</td>\n",
       "      <td>10|2</td>\n",
       "      <td>NaN</td>\n",
       "    </tr>\n",
       "    <tr>\n",
       "      <th>600</th>\n",
       "      <td>10</td>\n",
       "      <td>AUBE</td>\n",
       "      <td>2.0</td>\n",
       "      <td>47620.0</td>\n",
       "      <td>GALLEY</td>\n",
       "      <td>ROBERT</td>\n",
       "      <td>20110.0</td>\n",
       "      <td>O</td>\n",
       "      <td>0.422302</td>\n",
       "      <td>1997</td>\n",
       "      <td>10|2</td>\n",
       "      <td>NaN</td>\n",
       "    </tr>\n",
       "    <tr>\n",
       "      <th>1123</th>\n",
       "      <td>10</td>\n",
       "      <td>AUBE</td>\n",
       "      <td>2.0</td>\n",
       "      <td>47620.0</td>\n",
       "      <td>MALARMEY</td>\n",
       "      <td>MARC</td>\n",
       "      <td>7581.0</td>\n",
       "      <td>N</td>\n",
       "      <td>0.159198</td>\n",
       "      <td>1997</td>\n",
       "      <td>10|2</td>\n",
       "      <td>NaN</td>\n",
       "    </tr>\n",
       "    <tr>\n",
       "      <th>1749</th>\n",
       "      <td>10</td>\n",
       "      <td>AUBE</td>\n",
       "      <td>2.0</td>\n",
       "      <td>38937.0</td>\n",
       "      <td>MATHIS</td>\n",
       "      <td>J.CLAUDE</td>\n",
       "      <td>22758.0</td>\n",
       "      <td>O</td>\n",
       "      <td>0.584483</td>\n",
       "      <td>2002</td>\n",
       "      <td>10|2</td>\n",
       "      <td>NaN</td>\n",
       "    </tr>\n",
       "    <tr>\n",
       "      <th>2733</th>\n",
       "      <td>10</td>\n",
       "      <td>AUBE</td>\n",
       "      <td>2.0</td>\n",
       "      <td>38356.0</td>\n",
       "      <td>MATHIS</td>\n",
       "      <td>JEAN-CLAUDE</td>\n",
       "      <td>25032.0</td>\n",
       "      <td>O</td>\n",
       "      <td>0.652623</td>\n",
       "      <td>2007</td>\n",
       "      <td>10|2</td>\n",
       "      <td>NaN</td>\n",
       "    </tr>\n",
       "    <tr>\n",
       "      <th>3747</th>\n",
       "      <td>10</td>\n",
       "      <td>AUBE</td>\n",
       "      <td>2.0</td>\n",
       "      <td>40814.0</td>\n",
       "      <td>MATHIS</td>\n",
       "      <td>JEAN-CLAUDE</td>\n",
       "      <td>23361.0</td>\n",
       "      <td>O</td>\n",
       "      <td>0.572377</td>\n",
       "      <td>2012</td>\n",
       "      <td>10|2</td>\n",
       "      <td>0.652623</td>\n",
       "    </tr>\n",
       "    <tr>\n",
       "      <th>36</th>\n",
       "      <td>10</td>\n",
       "      <td>AUBE</td>\n",
       "      <td>3.0</td>\n",
       "      <td>37536.0</td>\n",
       "      <td>BAROIN</td>\n",
       "      <td>FRANCOIS</td>\n",
       "      <td>25133.0</td>\n",
       "      <td>O</td>\n",
       "      <td>0.669571</td>\n",
       "      <td>1997</td>\n",
       "      <td>10|3</td>\n",
       "      <td>NaN</td>\n",
       "    </tr>\n",
       "    <tr>\n",
       "      <th>1750</th>\n",
       "      <td>10</td>\n",
       "      <td>AUBE</td>\n",
       "      <td>3.0</td>\n",
       "      <td>37262.0</td>\n",
       "      <td>BAROIN</td>\n",
       "      <td>FRANCOIS</td>\n",
       "      <td>23467.0</td>\n",
       "      <td>O</td>\n",
       "      <td>0.629784</td>\n",
       "      <td>2002</td>\n",
       "      <td>10|3</td>\n",
       "      <td>0.669571</td>\n",
       "    </tr>\n",
       "    <tr>\n",
       "      <th>3748</th>\n",
       "      <td>10</td>\n",
       "      <td>AUBE</td>\n",
       "      <td>3.0</td>\n",
       "      <td>35517.0</td>\n",
       "      <td>BAROIN</td>\n",
       "      <td>FRANCOIS</td>\n",
       "      <td>20051.0</td>\n",
       "      <td>O</td>\n",
       "      <td>0.564547</td>\n",
       "      <td>2012</td>\n",
       "      <td>10|3</td>\n",
       "      <td>NaN</td>\n",
       "    </tr>\n",
       "    <tr>\n",
       "      <th>601</th>\n",
       "      <td>10</td>\n",
       "      <td>AUBE</td>\n",
       "      <td>3.0</td>\n",
       "      <td>37536.0</td>\n",
       "      <td>CONSTANT</td>\n",
       "      <td>JEAN PIERRE</td>\n",
       "      <td>12403.0</td>\n",
       "      <td>N</td>\n",
       "      <td>0.330429</td>\n",
       "      <td>1997</td>\n",
       "      <td>10|3</td>\n",
       "      <td>NaN</td>\n",
       "    </tr>\n",
       "    <tr>\n",
       "      <th>1231</th>\n",
       "      <td>10</td>\n",
       "      <td>AUBE</td>\n",
       "      <td>3.0</td>\n",
       "      <td>37262.0</td>\n",
       "      <td>DELPLANQUE</td>\n",
       "      <td>FRANCOISE</td>\n",
       "      <td>13795.0</td>\n",
       "      <td>N</td>\n",
       "      <td>0.370216</td>\n",
       "      <td>2002</td>\n",
       "      <td>10|3</td>\n",
       "      <td>NaN</td>\n",
       "    </tr>\n",
       "    <tr>\n",
       "      <th>3207</th>\n",
       "      <td>10</td>\n",
       "      <td>AUBE</td>\n",
       "      <td>3.0</td>\n",
       "      <td>35517.0</td>\n",
       "      <td>JOLY</td>\n",
       "      <td>LORETTE</td>\n",
       "      <td>15466.0</td>\n",
       "      <td>N</td>\n",
       "      <td>0.435453</td>\n",
       "      <td>2012</td>\n",
       "      <td>10|3</td>\n",
       "      <td>NaN</td>\n",
       "    </tr>\n",
       "    <tr>\n",
       "      <th>2734</th>\n",
       "      <td>11</td>\n",
       "      <td>AUDE</td>\n",
       "      <td>1.0</td>\n",
       "      <td>46426.0</td>\n",
       "      <td>CHESA</td>\n",
       "      <td>ISABELLE</td>\n",
       "      <td>21135.0</td>\n",
       "      <td>N</td>\n",
       "      <td>0.455241</td>\n",
       "      <td>2007</td>\n",
       "      <td>11|1</td>\n",
       "      <td>NaN</td>\n",
       "    </tr>\n",
       "    <tr>\n",
       "      <th>602</th>\n",
       "      <td>11</td>\n",
       "      <td>AUDE</td>\n",
       "      <td>1.0</td>\n",
       "      <td>46080.0</td>\n",
       "      <td>LARRAT</td>\n",
       "      <td>GERARD</td>\n",
       "      <td>18105.0</td>\n",
       "      <td>N</td>\n",
       "      <td>0.392904</td>\n",
       "      <td>1997</td>\n",
       "      <td>11|1</td>\n",
       "      <td>NaN</td>\n",
       "    </tr>\n",
       "    <tr>\n",
       "      <th>1751</th>\n",
       "      <td>11</td>\n",
       "      <td>AUDE</td>\n",
       "      <td>1.0</td>\n",
       "      <td>41338.0</td>\n",
       "      <td>LARRAT</td>\n",
       "      <td>GERARD</td>\n",
       "      <td>18414.0</td>\n",
       "      <td>N</td>\n",
       "      <td>0.445450</td>\n",
       "      <td>2002</td>\n",
       "      <td>11|1</td>\n",
       "      <td>0.392904</td>\n",
       "    </tr>\n",
       "    <tr>\n",
       "      <th>3749</th>\n",
       "      <td>11</td>\n",
       "      <td>AUDE</td>\n",
       "      <td>1.0</td>\n",
       "      <td>53319.0</td>\n",
       "      <td>MORIO</td>\n",
       "      <td>ROBERT</td>\n",
       "      <td>20809.0</td>\n",
       "      <td>N</td>\n",
       "      <td>0.390274</td>\n",
       "      <td>2012</td>\n",
       "      <td>11|1</td>\n",
       "      <td>NaN</td>\n",
       "    </tr>\n",
       "    <tr>\n",
       "      <th>1232</th>\n",
       "      <td>11</td>\n",
       "      <td>AUDE</td>\n",
       "      <td>1.0</td>\n",
       "      <td>41338.0</td>\n",
       "      <td>PEREZ</td>\n",
       "      <td>J.CLAUDE</td>\n",
       "      <td>22924.0</td>\n",
       "      <td>O</td>\n",
       "      <td>0.554550</td>\n",
       "      <td>2002</td>\n",
       "      <td>11|1</td>\n",
       "      <td>NaN</td>\n",
       "    </tr>\n",
       "  </tbody>\n",
       "</table>\n",
       "</div>"
      ],
      "text/plain": [
       "     Code département département  circonscription  Exprimés        name  \\\n",
       "1229               10        AUBE              1.0   30564.0        BRET   \n",
       "2265               10        AUBE              1.0   32500.0        BRET   \n",
       "34                 10        AUBE              1.0   38770.0        BRET   \n",
       "2732               10        AUBE              1.0   32500.0      DHUICQ   \n",
       "3746               10        AUBE              1.0   38753.0      DHUICQ   \n",
       "3205               10        AUBE              1.0   38753.0      GAUDOT   \n",
       "599                10        AUBE              1.0   38770.0      MICAUX   \n",
       "1748               10        AUBE              1.0   30564.0      MICAUX   \n",
       "1122               10        AUBE              1.0   38770.0      SUBTIL   \n",
       "4245               10        AUBE              1.0   38753.0      SUBTIL   \n",
       "2266               10        AUBE              2.0   38356.0       AYADI   \n",
       "35                 10        AUBE              2.0   47620.0    FOURNIER   \n",
       "1230               10        AUBE              2.0   38937.0    FOURNIER   \n",
       "3206               10        AUBE              2.0   40814.0    FOURNIER   \n",
       "600                10        AUBE              2.0   47620.0      GALLEY   \n",
       "1123               10        AUBE              2.0   47620.0    MALARMEY   \n",
       "1749               10        AUBE              2.0   38937.0      MATHIS   \n",
       "2733               10        AUBE              2.0   38356.0      MATHIS   \n",
       "3747               10        AUBE              2.0   40814.0      MATHIS   \n",
       "36                 10        AUBE              3.0   37536.0      BAROIN   \n",
       "1750               10        AUBE              3.0   37262.0      BAROIN   \n",
       "3748               10        AUBE              3.0   35517.0      BAROIN   \n",
       "601                10        AUBE              3.0   37536.0    CONSTANT   \n",
       "1231               10        AUBE              3.0   37262.0  DELPLANQUE   \n",
       "3207               10        AUBE              3.0   35517.0        JOLY   \n",
       "2734               11        AUDE              1.0   46426.0       CHESA   \n",
       "602                11        AUDE              1.0   46080.0      LARRAT   \n",
       "1751               11        AUDE              1.0   41338.0      LARRAT   \n",
       "3749               11        AUDE              1.0   53319.0       MORIO   \n",
       "1232               11        AUDE              1.0   41338.0       PEREZ   \n",
       "\n",
       "       first_name     voix elu     score    an  code  lag_2nd_tour  \n",
       "1229         LINE  13252.0   N  0.433582  2002  10|1           NaN  \n",
       "2265         LINE  12793.0   N  0.393631  2007  10|1      0.433582  \n",
       "34           MARC  15112.0   N  0.389786  1997  10|1           NaN  \n",
       "2732      NICOLAS  19707.0   O  0.606369  2007  10|1           NaN  \n",
       "3746      NICOLAS  17122.0   O  0.441824  2012  10|1      0.606369  \n",
       "3205         RENE  12406.0   N  0.320130  2012  10|1           NaN  \n",
       "599        PIERRE  17003.0   O  0.438561  1997  10|1           NaN  \n",
       "1748       PIERRE  17312.0   O  0.566418  2002  10|1      0.438561  \n",
       "1122        BRUNO   6655.0   N  0.171653  1997  10|1           NaN  \n",
       "4245        BRUNO   9225.0   N  0.238046  2012  10|1           NaN  \n",
       "2266       SALIHA  13324.0   N  0.347377  2007  10|2           NaN  \n",
       "35           YVES  19929.0   N  0.418501  1997  10|2           NaN  \n",
       "1230         YVES  16179.0   N  0.415517  2002  10|2      0.418501  \n",
       "3206         YVES  17453.0   N  0.427623  2012  10|2           NaN  \n",
       "600        ROBERT  20110.0   O  0.422302  1997  10|2           NaN  \n",
       "1123         MARC   7581.0   N  0.159198  1997  10|2           NaN  \n",
       "1749     J.CLAUDE  22758.0   O  0.584483  2002  10|2           NaN  \n",
       "2733  JEAN-CLAUDE  25032.0   O  0.652623  2007  10|2           NaN  \n",
       "3747  JEAN-CLAUDE  23361.0   O  0.572377  2012  10|2      0.652623  \n",
       "36       FRANCOIS  25133.0   O  0.669571  1997  10|3           NaN  \n",
       "1750     FRANCOIS  23467.0   O  0.629784  2002  10|3      0.669571  \n",
       "3748     FRANCOIS  20051.0   O  0.564547  2012  10|3           NaN  \n",
       "601   JEAN PIERRE  12403.0   N  0.330429  1997  10|3           NaN  \n",
       "1231    FRANCOISE  13795.0   N  0.370216  2002  10|3           NaN  \n",
       "3207      LORETTE  15466.0   N  0.435453  2012  10|3           NaN  \n",
       "2734     ISABELLE  21135.0   N  0.455241  2007  11|1           NaN  \n",
       "602        GERARD  18105.0   N  0.392904  1997  11|1           NaN  \n",
       "1751       GERARD  18414.0   N  0.445450  2002  11|1      0.392904  \n",
       "3749       ROBERT  20809.0   N  0.390274  2012  11|1           NaN  \n",
       "1232     J.CLAUDE  22924.0   O  0.554550  2002  11|1           NaN  "
      ]
     },
     "execution_count": 108,
     "metadata": {},
     "output_type": "execute_result"
    }
   ],
   "source": [
    "legi_2t.sort_values([\"code\",\"name\",\"first_name\",\"an\"]).head(30)"
   ]
  },
  {
   "cell_type": "code",
   "execution_count": 14,
   "metadata": {
    "collapsed": true
   },
   "outputs": [],
   "source": [
    "df_legi = pd.merge(legi_tab, legi_2t,left_on=[\"nom\", \"code\", \"an\"], \n",
    "                   right_on=[\"name\", \"code\", \"an\"])"
   ]
  },
  {
   "cell_type": "markdown",
   "metadata": {},
   "source": [
    "*On merge sur le code plutot que nom prénom car trop de différence entre les deux tables\n",
    "en esperant qu'il n'y ait qu'un candidat avec le même nom par code en une date donée*"
   ]
  },
  {
   "cell_type": "code",
   "execution_count": 15,
   "metadata": {
    "collapsed": false
   },
   "outputs": [
    {
     "data": {
      "text/plain": [
       "(4293, 73)"
      ]
     },
     "execution_count": 15,
     "metadata": {},
     "output_type": "execute_result"
    }
   ],
   "source": [
    "df_legi.shape"
   ]
  },
  {
   "cell_type": "code",
   "execution_count": 16,
   "metadata": {
    "collapsed": true
   },
   "outputs": [],
   "source": [
    "# On personalise sur les quelques cas \n",
    "legi_2t.ix[(legi_2t[\"name\"]==\"PERRIN GAILLARD\") & (legi_2t[\"an\"]==2002), \"name\"] = \"GAILLARD\"\n",
    "legi_2t.ix[(legi_2t[\"name\"]==\"GAAA\") & (legi_2t[\"an\"]==2002), \"name\"] = \"GAIA\"\n",
    "legi_2t.ix[(legi_2t[\"name\"]==\"BACHELOT- NARQUIN\") & (legi_2t[\"an\"]==2002), \"name\"] = \"BACHELOT-NARQUIN\"\n",
    "legi_2t.ix[(legi_2t[\"name\"]==\"VILLAUMe\") & (legi_2t[\"an\"]==2007), \"name\"] = \"VILLAUME\"\n",
    "legi_2t.ix[(legi_2t[\"name\"]==\"CHEVeNEMENT\") & (legi_2t[\"an\"]==2007), \"name\"] = \"CHEVENEMENT\"\n",
    "legi_2t.ix[(legi_2t[\"name\"]==\"GUeGOT\") & (legi_2t[\"an\"]==2007), \"name\"] = \"GUEGOT\""
   ]
  },
  {
   "cell_type": "code",
   "execution_count": 17,
   "metadata": {
    "collapsed": false
   },
   "outputs": [
    {
     "data": {
      "text/html": [
       "<div>\n",
       "<table border=\"1\" class=\"dataframe\">\n",
       "  <thead>\n",
       "    <tr style=\"text-align: right;\">\n",
       "      <th></th>\n",
       "      <th>name</th>\n",
       "      <th>first_name</th>\n",
       "      <th>an</th>\n",
       "      <th>circonscription</th>\n",
       "      <th>Code département</th>\n",
       "    </tr>\n",
       "  </thead>\n",
       "  <tbody>\n",
       "  </tbody>\n",
       "</table>\n",
       "</div>"
      ],
      "text/plain": [
       "Empty DataFrame\n",
       "Columns: [name, first_name, an, circonscription, Code département]\n",
       "Index: []"
      ]
     },
     "execution_count": 17,
     "metadata": {},
     "output_type": "execute_result"
    }
   ],
   "source": [
    "# liste des nom et first name qui merge mal sur le inner\n",
    "df_legi = pd.merge(legi_tab, legi_2t,how=\"right\" ,left_on=[\"nom\", \"code\", \"an\"],\n",
    "                   right_on=[\"name\", \"code\", \"an\"])\n",
    "df_legi[~df_legi.nom.notnull()][[\"name\",\"first_name\",\"an\", \"circonscription\",\"Code département\"]]"
   ]
  },
  {
   "cell_type": "code",
   "execution_count": 18,
   "metadata": {
    "collapsed": false
   },
   "outputs": [
    {
     "data": {
      "text/plain": [
       "(4299, 73)"
      ]
     },
     "execution_count": 18,
     "metadata": {},
     "output_type": "execute_result"
    }
   ],
   "source": [
    "df_legi.shape"
   ]
  },
  {
   "cell_type": "markdown",
   "metadata": {},
   "source": [
    "*Il nous manque personne mais on a des doublons vu la dim*  \n",
    "regarder doublon même année, meme code, et meme nom"
   ]
  },
  {
   "cell_type": "code",
   "execution_count": 19,
   "metadata": {
    "collapsed": false
   },
   "outputs": [],
   "source": [
    "test = df_legi.sort_values([\"name\", \"code\", \"an\"])\n",
    "test[\"name_lag\"] = test[\"name\"].shift(1)\n",
    "test[\"code_lag\"] = test[\"code\"].shift(1)\n",
    "test[\"an_lag\"] = test[\"an\"].shift(1)"
   ]
  },
  {
   "cell_type": "code",
   "execution_count": 20,
   "metadata": {
    "collapsed": false
   },
   "outputs": [],
   "source": [
    "test = test[(test['name']==test[\"name_lag\"])&(test['code']==test[\"code_lag\"])&(test['an']==test[\"an_lag\"])]\n",
    "pb_name = test[\"name\"].unique()"
   ]
  },
  {
   "cell_type": "code",
   "execution_count": 21,
   "metadata": {
    "collapsed": false
   },
   "outputs": [],
   "source": [
    "#On fait un merge classique sur une table qui ne continet pas pb_name\n",
    "df_legi_1 = pd.merge(legi_tab[~legi_tab[\"nom\"].isin(pb_name)],\n",
    "                     legi_2t[~legi_2t[\"name\"].isin(pb_name)],\n",
    "                     left_on=[\"nom\", \"code\", \"an\"], \n",
    "                     right_on=[\"name\", \"code\", \"an\"])\n",
    "\n",
    "#puis merge avec prenom sur pb_name\n",
    "df_legi_2 = pd.merge(legi_tab[legi_tab[\"nom\"].isin(pb_name)],\n",
    "                     legi_2t[legi_2t[\"name\"].isin(pb_name)],\n",
    "                     left_on=[\"nom\",\"prenom\", \"code\", \"an\"], \n",
    "                     right_on=[\"name\",\"first_name\", \"code\", \"an\"])"
   ]
  },
  {
   "cell_type": "code",
   "execution_count": 22,
   "metadata": {
    "collapsed": false
   },
   "outputs": [
    {
     "name": "stdout",
     "output_type": "stream",
     "text": [
      "(4222, 73)\n",
      "(51, 73)\n"
     ]
    }
   ],
   "source": [
    "print(df_legi_1.shape)\n",
    "print(df_legi_2.shape)"
   ]
  },
  {
   "cell_type": "markdown",
   "metadata": {},
   "source": [
    "*Il manque 3 candidats*"
   ]
  },
  {
   "cell_type": "code",
   "execution_count": 24,
   "metadata": {
    "collapsed": false
   },
   "outputs": [
    {
     "data": {
      "text/html": [
       "<div>\n",
       "<table border=\"1\" class=\"dataframe\">\n",
       "  <thead>\n",
       "    <tr style=\"text-align: right;\">\n",
       "      <th></th>\n",
       "      <th>name</th>\n",
       "      <th>first_name</th>\n",
       "      <th>an</th>\n",
       "      <th>circonscription</th>\n",
       "      <th>Code département</th>\n",
       "    </tr>\n",
       "  </thead>\n",
       "  <tbody>\n",
       "    <tr>\n",
       "      <th>51</th>\n",
       "      <td>ROCCA SERRA DE</td>\n",
       "      <td>JEAN PAUL</td>\n",
       "      <td>1997</td>\n",
       "      <td>2.0</td>\n",
       "      <td>2A</td>\n",
       "    </tr>\n",
       "    <tr>\n",
       "      <th>52</th>\n",
       "      <td>BERNARD</td>\n",
       "      <td>JEAN LOUIS</td>\n",
       "      <td>1997</td>\n",
       "      <td>3.0</td>\n",
       "      <td>45</td>\n",
       "    </tr>\n",
       "    <tr>\n",
       "      <th>53</th>\n",
       "      <td>BERNARD</td>\n",
       "      <td>J. LOUIS</td>\n",
       "      <td>2002</td>\n",
       "      <td>3.0</td>\n",
       "      <td>45</td>\n",
       "    </tr>\n",
       "  </tbody>\n",
       "</table>\n",
       "</div>"
      ],
      "text/plain": [
       "              name  first_name    an  circonscription Code département\n",
       "51  ROCCA SERRA DE   JEAN PAUL  1997              2.0               2A\n",
       "52         BERNARD  JEAN LOUIS  1997              3.0               45\n",
       "53         BERNARD    J. LOUIS  2002              3.0               45"
      ]
     },
     "execution_count": 24,
     "metadata": {},
     "output_type": "execute_result"
    }
   ],
   "source": [
    "df_legi_2 = pd.merge(legi_tab[legi_tab[\"nom\"].isin(pb_name)],\n",
    "                     legi_2t[legi_2t[\"name\"].isin(pb_name)],\n",
    "                     how=\"right\",\n",
    "                     left_on=[\"nom\",\"prenom\", \"code\", \"an\"], \n",
    "                     right_on=[\"name\",\"first_name\", \"code\", \"an\"])\n",
    "\n",
    "df_legi_2[~df_legi_2.nom.notnull()][[\"name\",\"first_name\",\"an\", \"circonscription\",\"Code département\"]]"
   ]
  },
  {
   "cell_type": "code",
   "execution_count": 33,
   "metadata": {
    "collapsed": false
   },
   "outputs": [
    {
     "data": {
      "text/html": [
       "<div>\n",
       "<table border=\"1\" class=\"dataframe\">\n",
       "  <thead>\n",
       "    <tr style=\"text-align: right;\">\n",
       "      <th></th>\n",
       "      <th>an</th>\n",
       "      <th>c_dep</th>\n",
       "      <th>dep</th>\n",
       "      <th>circo</th>\n",
       "      <th>code</th>\n",
       "      <th>inscrits</th>\n",
       "      <th>etrangers</th>\n",
       "      <th>part_impose</th>\n",
       "      <th>revenus_q1</th>\n",
       "      <th>revenus_med</th>\n",
       "      <th>...</th>\n",
       "      <th>sexe</th>\n",
       "      <th>nom</th>\n",
       "      <th>prenom</th>\n",
       "      <th>etiquette</th>\n",
       "      <th>nuance</th>\n",
       "      <th>nuance_groupe</th>\n",
       "      <th>bloc</th>\n",
       "      <th>voix</th>\n",
       "      <th>p_voix</th>\n",
       "      <th>second_tour</th>\n",
       "    </tr>\n",
       "  </thead>\n",
       "  <tbody>\n",
       "    <tr>\n",
       "      <th>18260</th>\n",
       "      <td>2007</td>\n",
       "      <td>45</td>\n",
       "      <td>LOIRET</td>\n",
       "      <td>3</td>\n",
       "      <td>45|3</td>\n",
       "      <td>89957.0</td>\n",
       "      <td>0.059232</td>\n",
       "      <td>0.700041</td>\n",
       "      <td>13464.446268</td>\n",
       "      <td>18679.983327</td>\n",
       "      <td>...</td>\n",
       "      <td>M</td>\n",
       "      <td>BERNARD</td>\n",
       "      <td>JEAN-LOUIS</td>\n",
       "      <td>UNION POUR UN MOUVEMENT POPULAIRE</td>\n",
       "      <td>UMP</td>\n",
       "      <td>LR</td>\n",
       "      <td>Droite</td>\n",
       "      <td>16453.0</td>\n",
       "      <td>0.182898</td>\n",
       "      <td>O</td>\n",
       "    </tr>\n",
       "    <tr>\n",
       "      <th>26283</th>\n",
       "      <td>2002</td>\n",
       "      <td>45</td>\n",
       "      <td>LOIRET</td>\n",
       "      <td>3</td>\n",
       "      <td>45|3</td>\n",
       "      <td>83338.0</td>\n",
       "      <td>0.059232</td>\n",
       "      <td>0.696305</td>\n",
       "      <td>12027.746713</td>\n",
       "      <td>16849.008653</td>\n",
       "      <td>...</td>\n",
       "      <td>M</td>\n",
       "      <td>BERNARD</td>\n",
       "      <td>JEAN-LOUIS</td>\n",
       "      <td>SANS ETIQUETTE</td>\n",
       "      <td>UMP</td>\n",
       "      <td>LR</td>\n",
       "      <td>Droite</td>\n",
       "      <td>23229.0</td>\n",
       "      <td>0.278732</td>\n",
       "      <td>O</td>\n",
       "    </tr>\n",
       "    <tr>\n",
       "      <th>33601</th>\n",
       "      <td>1997</td>\n",
       "      <td>45</td>\n",
       "      <td>LOIRET</td>\n",
       "      <td>3</td>\n",
       "      <td>45|3</td>\n",
       "      <td>NaN</td>\n",
       "      <td>NaN</td>\n",
       "      <td>NaN</td>\n",
       "      <td>NaN</td>\n",
       "      <td>NaN</td>\n",
       "      <td>...</td>\n",
       "      <td>NaN</td>\n",
       "      <td>BERNARD</td>\n",
       "      <td>JEAN-LOUIS</td>\n",
       "      <td>UDF-RADICAL</td>\n",
       "      <td>UDF</td>\n",
       "      <td>MDM</td>\n",
       "      <td>Centre</td>\n",
       "      <td>16437.0</td>\n",
       "      <td>0.210305</td>\n",
       "      <td>O</td>\n",
       "    </tr>\n",
       "  </tbody>\n",
       "</table>\n",
       "<p>3 rows × 64 columns</p>\n",
       "</div>"
      ],
      "text/plain": [
       "         an c_dep     dep  circo  code  inscrits  etrangers  part_impose  \\\n",
       "18260  2007    45  LOIRET      3  45|3   89957.0   0.059232     0.700041   \n",
       "26283  2002    45  LOIRET      3  45|3   83338.0   0.059232     0.696305   \n",
       "33601  1997    45  LOIRET      3  45|3       NaN        NaN          NaN   \n",
       "\n",
       "         revenus_q1   revenus_med     ...       sexe      nom      prenom  \\\n",
       "18260  13464.446268  18679.983327     ...          M  BERNARD  JEAN-LOUIS   \n",
       "26283  12027.746713  16849.008653     ...          M  BERNARD  JEAN-LOUIS   \n",
       "33601           NaN           NaN     ...        NaN  BERNARD  JEAN-LOUIS   \n",
       "\n",
       "                               etiquette  nuance  nuance_groupe    bloc  \\\n",
       "18260  UNION POUR UN MOUVEMENT POPULAIRE     UMP             LR  Droite   \n",
       "26283                     SANS ETIQUETTE     UMP             LR  Droite   \n",
       "33601                        UDF-RADICAL     UDF            MDM  Centre   \n",
       "\n",
       "          voix    p_voix  second_tour  \n",
       "18260  16453.0  0.182898            O  \n",
       "26283  23229.0  0.278732            O  \n",
       "33601  16437.0  0.210305            O  \n",
       "\n",
       "[3 rows x 64 columns]"
      ]
     },
     "execution_count": 33,
     "metadata": {},
     "output_type": "execute_result"
    }
   ],
   "source": [
    "legi_tab[(legi_tab[\"nom\"]==\"BERNARD\")&(legi_tab[\"c_dep\"]==45)]"
   ]
  },
  {
   "cell_type": "code",
   "execution_count": 34,
   "metadata": {
    "collapsed": false
   },
   "outputs": [
    {
     "data": {
      "text/html": [
       "<div>\n",
       "<table border=\"1\" class=\"dataframe\">\n",
       "  <thead>\n",
       "    <tr style=\"text-align: right;\">\n",
       "      <th></th>\n",
       "      <th>Code département</th>\n",
       "      <th>département</th>\n",
       "      <th>circonscription</th>\n",
       "      <th>Exprimés</th>\n",
       "      <th>name</th>\n",
       "      <th>first_name</th>\n",
       "      <th>voix</th>\n",
       "      <th>elu</th>\n",
       "      <th>score</th>\n",
       "      <th>an</th>\n",
       "      <th>code</th>\n",
       "    </tr>\n",
       "  </thead>\n",
       "  <tbody>\n",
       "    <tr>\n",
       "      <th>0</th>\n",
       "      <td>1</td>\n",
       "      <td>AIN</td>\n",
       "      <td>1.0</td>\n",
       "      <td>51081.0</td>\n",
       "      <td>GODIN</td>\n",
       "      <td>ANDRE</td>\n",
       "      <td>25685.0</td>\n",
       "      <td>O</td>\n",
       "      <td>0.502829</td>\n",
       "      <td>1997</td>\n",
       "      <td>1|1</td>\n",
       "    </tr>\n",
       "    <tr>\n",
       "      <th>1</th>\n",
       "      <td>1</td>\n",
       "      <td>AIN</td>\n",
       "      <td>2.0</td>\n",
       "      <td>52285.0</td>\n",
       "      <td>BOLLINI</td>\n",
       "      <td>JOCELYNE</td>\n",
       "      <td>19778.0</td>\n",
       "      <td>N</td>\n",
       "      <td>0.378273</td>\n",
       "      <td>1997</td>\n",
       "      <td>1|2</td>\n",
       "    </tr>\n",
       "    <tr>\n",
       "      <th>2</th>\n",
       "      <td>1</td>\n",
       "      <td>AIN</td>\n",
       "      <td>3.0</td>\n",
       "      <td>45603.0</td>\n",
       "      <td>GILBERT</td>\n",
       "      <td>ERIC</td>\n",
       "      <td>20333.0</td>\n",
       "      <td>N</td>\n",
       "      <td>0.445870</td>\n",
       "      <td>1997</td>\n",
       "      <td>1|3</td>\n",
       "    </tr>\n",
       "    <tr>\n",
       "      <th>3</th>\n",
       "      <td>1</td>\n",
       "      <td>AIN</td>\n",
       "      <td>4.0</td>\n",
       "      <td>57749.0</td>\n",
       "      <td>RAYMOND</td>\n",
       "      <td>MICHEL</td>\n",
       "      <td>25455.0</td>\n",
       "      <td>N</td>\n",
       "      <td>0.440787</td>\n",
       "      <td>1997</td>\n",
       "      <td>1|4</td>\n",
       "    </tr>\n",
       "    <tr>\n",
       "      <th>4</th>\n",
       "      <td>2</td>\n",
       "      <td>AISNE</td>\n",
       "      <td>1.0</td>\n",
       "      <td>49404.0</td>\n",
       "      <td>DOSIERE</td>\n",
       "      <td>RENE</td>\n",
       "      <td>29331.0</td>\n",
       "      <td>O</td>\n",
       "      <td>0.593697</td>\n",
       "      <td>1997</td>\n",
       "      <td>2|1</td>\n",
       "    </tr>\n",
       "  </tbody>\n",
       "</table>\n",
       "</div>"
      ],
      "text/plain": [
       "  Code département département  circonscription  Exprimés     name first_name  \\\n",
       "0                1         AIN              1.0   51081.0    GODIN      ANDRE   \n",
       "1                1         AIN              2.0   52285.0  BOLLINI   JOCELYNE   \n",
       "2                1         AIN              3.0   45603.0  GILBERT       ERIC   \n",
       "3                1         AIN              4.0   57749.0  RAYMOND     MICHEL   \n",
       "4                2       AISNE              1.0   49404.0  DOSIERE       RENE   \n",
       "\n",
       "      voix elu     score    an code  \n",
       "0  25685.0   O  0.502829  1997  1|1  \n",
       "1  19778.0   N  0.378273  1997  1|2  \n",
       "2  20333.0   N  0.445870  1997  1|3  \n",
       "3  25455.0   N  0.440787  1997  1|4  \n",
       "4  29331.0   O  0.593697  1997  2|1  "
      ]
     },
     "execution_count": 34,
     "metadata": {},
     "output_type": "execute_result"
    }
   ],
   "source": [
    "legi_2t.head()"
   ]
  },
  {
   "cell_type": "code",
   "execution_count": 40,
   "metadata": {
    "collapsed": false
   },
   "outputs": [],
   "source": [
    "# On modifie manuellement\n",
    "legi_2t.ix[(legi_2t[\"name\"]==\"ROCCA SERRA DE\")&(legi_2t[\"first_name\"]==\"JEAN PAUL\"), \"first_name\"] = \"JEAN-PAUL\"\n",
    "legi_2t.ix[(legi_2t[\"name\"]==\"BERNARD\")&(legi_2t[\"Code département\"]==45),\"first_name\"] = \"JEAN-LOUIS\""
   ]
  },
  {
   "cell_type": "code",
   "execution_count": 41,
   "metadata": {
    "collapsed": false
   },
   "outputs": [
    {
     "name": "stdout",
     "output_type": "stream",
     "text": [
      "(4222, 73)\n",
      "(54, 73)\n",
      "4276\n"
     ]
    }
   ],
   "source": [
    "#On fait un merge classique sur une table qui ne continet pas pb_name\n",
    "df_legi_1 = pd.merge(legi_tab[~legi_tab[\"nom\"].isin(pb_name)],\n",
    "                     legi_2t[~legi_2t[\"name\"].isin(pb_name)],\n",
    "                     left_on=[\"nom\", \"code\", \"an\"], \n",
    "                     right_on=[\"name\", \"code\", \"an\"])\n",
    "\n",
    "#puis merge avec prenom sur pb_name\n",
    "df_legi_2 = pd.merge(legi_tab[legi_tab[\"nom\"].isin(pb_name)],\n",
    "                     legi_2t[legi_2t[\"name\"].isin(pb_name)],\n",
    "                     left_on=[\"nom\",\"prenom\", \"code\", \"an\"], \n",
    "                     right_on=[\"name\",\"first_name\", \"code\", \"an\"])\n",
    "\n",
    "print(df_legi_1.shape)\n",
    "print(df_legi_2.shape)\n",
    "print(df_legi_1.shape[0]+df_legi_2.shape[0])"
   ]
  },
  {
   "cell_type": "code",
   "execution_count": 65,
   "metadata": {
    "collapsed": true
   },
   "outputs": [],
   "source": [
    "df_legi = pd.concat([df_legi_1, df_legi_2], axis=0)"
   ]
  },
  {
   "cell_type": "code",
   "execution_count": 45,
   "metadata": {
    "collapsed": false
   },
   "outputs": [
    {
     "data": {
      "text/plain": [
       "Index(['an', 'c_dep', 'dep', 'circo', 'code', 'inscrits', 'etrangers',\n",
       "       'part_impose', 'revenus_q1', 'revenus_med', 'revenus_q3',\n",
       "       'ecart_revenus', 'chom_tot', 'chom_tot_evol_5', 'chom_jeunes',\n",
       "       'chom_jeunes_evol_5', 'chom_adultes', 'chom_adultes_evol_5',\n",
       "       'chom_seniors', 'chom_seniors_evol_5', 'p_agri', 'p_commercants',\n",
       "       'p_cadres', 'p_intermed', 'p_employes', 'p_ouvriers', 'd_brevet',\n",
       "       'd_bep', 'd_bac', 'd_sup', 'circo_parti', 'circo_nuance',\n",
       "       'circo_nuance_groupe', 'circo_bloc', 'circo_leg_meme_nuance',\n",
       "       'nb_candidats_meme_bloc', 'score_nuance_groupe_prec_leg',\n",
       "       'score_bloc_prec_leg', 'score_leg_exg', 'score_leg_g', 'score_leg_c',\n",
       "       'score_leg_d', 'score_leg_exd', 'circo_nuance_groupe_pres',\n",
       "       'circo_pres_meme_nuance', 'score_nuance_groupe_pres', 'score_bloc_pres',\n",
       "       'score_pres_exg', 'score_pres_g', 'score_pres_c', 'score_pres_d',\n",
       "       'score_pres_exd', 'score_candidat_prec_leg', 'depute_sortant', 'sexe',\n",
       "       'nom', 'prenom', 'etiquette', 'nuance', 'nuance_groupe', 'bloc',\n",
       "       'voix_x', 'p_voix', 'second_tour', 'Code département', 'département',\n",
       "       'circonscription', 'Exprimés', 'name', 'first_name', 'voix_y', 'elu',\n",
       "       'score'],\n",
       "      dtype='object')"
      ]
     },
     "execution_count": 45,
     "metadata": {},
     "output_type": "execute_result"
    }
   ],
   "source": [
    "df_legi.columns"
   ]
  },
  {
   "cell_type": "code",
   "execution_count": 76,
   "metadata": {
    "collapsed": false
   },
   "outputs": [],
   "source": [
    "columns_to_keep =['an','Code département', 'département',\n",
    "       'circonscription', 'code','name', 'first_name',\"sexe\",\n",
    "        \"circo_bloc\",\"circo_leg_meme_nuance\",\"circo_pres_meme_nuance\",\n",
    "        \"score_bloc_pres\",\"depute_sortant\", \"bloc\", \"p_voix\",\n",
    "         'voix_y','Exprimés', 'score','elu',\n",
    "]"
   ]
  },
  {
   "cell_type": "markdown",
   "metadata": {},
   "source": [
    "**creer:**  \n",
    "* une variable d'oppostion selon nuance un peu commme la variable candidat du même bloc  \n",
    "* score_nuance_groupe_prec_leg tour   \n",
    "* score_bloc_prec_leg  tour\n",
    "* score leg de l'adversaire au second tour\n",
    "* score au 1er tour du groupe et du candidat \n",
    "* eventuellement score du groupe pres au second tour des présidentielles\n",
    "* score du groupe du candidat dans la circo \n",
    "* score candidat au second tour d'une précédente législative \n",
    "* ~~triangulaire~~ "
   ]
  },
  {
   "cell_type": "code",
   "execution_count": 77,
   "metadata": {
    "collapsed": false
   },
   "outputs": [],
   "source": [
    "df_legi_f = df_legi[columns_to_keep]"
   ]
  },
  {
   "cell_type": "code",
   "execution_count": 78,
   "metadata": {
    "collapsed": false
   },
   "outputs": [
    {
     "data": {
      "text/html": [
       "<div>\n",
       "<table border=\"1\" class=\"dataframe\">\n",
       "  <thead>\n",
       "    <tr style=\"text-align: right;\">\n",
       "      <th></th>\n",
       "      <th>an</th>\n",
       "      <th>Code département</th>\n",
       "      <th>département</th>\n",
       "      <th>circonscription</th>\n",
       "      <th>code</th>\n",
       "      <th>name</th>\n",
       "      <th>first_name</th>\n",
       "      <th>sexe</th>\n",
       "      <th>circo_bloc</th>\n",
       "      <th>circo_leg_meme_nuance</th>\n",
       "      <th>circo_pres_meme_nuance</th>\n",
       "      <th>score_bloc_pres</th>\n",
       "      <th>depute_sortant</th>\n",
       "      <th>bloc</th>\n",
       "      <th>p_voix</th>\n",
       "      <th>voix_y</th>\n",
       "      <th>Exprimés</th>\n",
       "      <th>score</th>\n",
       "      <th>elu</th>\n",
       "    </tr>\n",
       "  </thead>\n",
       "  <tbody>\n",
       "    <tr>\n",
       "      <th>0</th>\n",
       "      <td>2012</td>\n",
       "      <td>1</td>\n",
       "      <td>AIN</td>\n",
       "      <td>1.0</td>\n",
       "      <td>1|1</td>\n",
       "      <td>BRETON</td>\n",
       "      <td>XAVIER</td>\n",
       "      <td>M</td>\n",
       "      <td>Droite</td>\n",
       "      <td>1</td>\n",
       "      <td>1.0</td>\n",
       "      <td>0.257037</td>\n",
       "      <td>1.0</td>\n",
       "      <td>Droite</td>\n",
       "      <td>0.224066</td>\n",
       "      <td>24219.0</td>\n",
       "      <td>46962.0</td>\n",
       "      <td>0.515715</td>\n",
       "      <td>O</td>\n",
       "    </tr>\n",
       "    <tr>\n",
       "      <th>1</th>\n",
       "      <td>2012</td>\n",
       "      <td>1</td>\n",
       "      <td>AIN</td>\n",
       "      <td>1.0</td>\n",
       "      <td>1|1</td>\n",
       "      <td>DEBAT</td>\n",
       "      <td>JEAN-FRANCOIS</td>\n",
       "      <td>M</td>\n",
       "      <td>Droite</td>\n",
       "      <td>0</td>\n",
       "      <td>0.0</td>\n",
       "      <td>0.291068</td>\n",
       "      <td>0.0</td>\n",
       "      <td>Gauche</td>\n",
       "      <td>0.231604</td>\n",
       "      <td>22743.0</td>\n",
       "      <td>46962.0</td>\n",
       "      <td>0.484285</td>\n",
       "      <td>N</td>\n",
       "    </tr>\n",
       "    <tr>\n",
       "      <th>2</th>\n",
       "      <td>2012</td>\n",
       "      <td>1</td>\n",
       "      <td>AIN</td>\n",
       "      <td>2.0</td>\n",
       "      <td>1|2</td>\n",
       "      <td>DE LA VERPILLIERE</td>\n",
       "      <td>CHARLES</td>\n",
       "      <td>M</td>\n",
       "      <td>Droite</td>\n",
       "      <td>1</td>\n",
       "      <td>1.0</td>\n",
       "      <td>0.275342</td>\n",
       "      <td>1.0</td>\n",
       "      <td>Droite</td>\n",
       "      <td>0.220931</td>\n",
       "      <td>22327.0</td>\n",
       "      <td>50383.0</td>\n",
       "      <td>0.443146</td>\n",
       "      <td>O</td>\n",
       "    </tr>\n",
       "    <tr>\n",
       "      <th>3</th>\n",
       "      <td>2012</td>\n",
       "      <td>1</td>\n",
       "      <td>AIN</td>\n",
       "      <td>2.0</td>\n",
       "      <td>1|2</td>\n",
       "      <td>EYRAUD</td>\n",
       "      <td>OLIVIER</td>\n",
       "      <td>M</td>\n",
       "      <td>Droite</td>\n",
       "      <td>0</td>\n",
       "      <td>0.0</td>\n",
       "      <td>0.179791</td>\n",
       "      <td>0.0</td>\n",
       "      <td>Exdroite</td>\n",
       "      <td>0.125244</td>\n",
       "      <td>8530.0</td>\n",
       "      <td>50383.0</td>\n",
       "      <td>0.169303</td>\n",
       "      <td>N</td>\n",
       "    </tr>\n",
       "    <tr>\n",
       "      <th>4</th>\n",
       "      <td>2012</td>\n",
       "      <td>1</td>\n",
       "      <td>AIN</td>\n",
       "      <td>2.0</td>\n",
       "      <td>1|2</td>\n",
       "      <td>RAYMOND</td>\n",
       "      <td>MICHEL</td>\n",
       "      <td>M</td>\n",
       "      <td>Droite</td>\n",
       "      <td>0</td>\n",
       "      <td>0.0</td>\n",
       "      <td>0.280721</td>\n",
       "      <td>0.0</td>\n",
       "      <td>Gauche</td>\n",
       "      <td>0.136810</td>\n",
       "      <td>19526.0</td>\n",
       "      <td>50383.0</td>\n",
       "      <td>0.387551</td>\n",
       "      <td>N</td>\n",
       "    </tr>\n",
       "  </tbody>\n",
       "</table>\n",
       "</div>"
      ],
      "text/plain": [
       "     an Code département département  circonscription code               name  \\\n",
       "0  2012                1         AIN              1.0  1|1             BRETON   \n",
       "1  2012                1         AIN              1.0  1|1              DEBAT   \n",
       "2  2012                1         AIN              2.0  1|2  DE LA VERPILLIERE   \n",
       "3  2012                1         AIN              2.0  1|2             EYRAUD   \n",
       "4  2012                1         AIN              2.0  1|2            RAYMOND   \n",
       "\n",
       "      first_name sexe circo_bloc  circo_leg_meme_nuance  \\\n",
       "0         XAVIER    M     Droite                      1   \n",
       "1  JEAN-FRANCOIS    M     Droite                      0   \n",
       "2        CHARLES    M     Droite                      1   \n",
       "3        OLIVIER    M     Droite                      0   \n",
       "4         MICHEL    M     Droite                      0   \n",
       "\n",
       "   circo_pres_meme_nuance  score_bloc_pres  depute_sortant      bloc  \\\n",
       "0                     1.0         0.257037             1.0    Droite   \n",
       "1                     0.0         0.291068             0.0    Gauche   \n",
       "2                     1.0         0.275342             1.0    Droite   \n",
       "3                     0.0         0.179791             0.0  Exdroite   \n",
       "4                     0.0         0.280721             0.0    Gauche   \n",
       "\n",
       "     p_voix   voix_y  Exprimés     score elu  \n",
       "0  0.224066  24219.0   46962.0  0.515715   O  \n",
       "1  0.231604  22743.0   46962.0  0.484285   N  \n",
       "2  0.220931  22327.0   50383.0  0.443146   O  \n",
       "3  0.125244   8530.0   50383.0  0.169303   N  \n",
       "4  0.136810  19526.0   50383.0  0.387551   N  "
      ]
     },
     "execution_count": 78,
     "metadata": {},
     "output_type": "execute_result"
    }
   ],
   "source": [
    "df_legi_f.head()"
   ]
  },
  {
   "cell_type": "markdown",
   "metadata": {},
   "source": [
    "* triangulaire"
   ]
  },
  {
   "cell_type": "code",
   "execution_count": 87,
   "metadata": {
    "collapsed": false
   },
   "outputs": [],
   "source": [
    "triangulaire = df_legi.groupby([\"an\",\"code\"])[\"name\"].count().reset_index()\n",
    "triangulaire[\"top_triangulaire\"] = triangulaire[\"name\"].map(lambda x: 1 if x>2 else 0)\n",
    "del triangulaire[\"name\"]\n",
    "df_legi_f = pd.merge(df_legi_f, triangulaire, how=\"left\", on=[\"an\",\"code\"])"
   ]
  },
  {
   "cell_type": "markdown",
   "metadata": {},
   "source": [
    "* lag second tour legislative"
   ]
  },
  {
   "cell_type": "code",
   "execution_count": 99,
   "metadata": {
    "collapsed": false
   },
   "outputs": [
    {
     "data": {
      "text/html": [
       "<div>\n",
       "<table border=\"1\" class=\"dataframe\">\n",
       "  <thead>\n",
       "    <tr style=\"text-align: right;\">\n",
       "      <th></th>\n",
       "      <th>an</th>\n",
       "      <th>name</th>\n",
       "      <th>code</th>\n",
       "      <th>bloc</th>\n",
       "    </tr>\n",
       "  </thead>\n",
       "  <tbody>\n",
       "    <tr>\n",
       "      <th>1019</th>\n",
       "      <td>1997</td>\n",
       "      <td>ROCCA SERRA DE</td>\n",
       "      <td>2A|2</td>\n",
       "      <td>2</td>\n",
       "    </tr>\n",
       "  </tbody>\n",
       "</table>\n",
       "</div>"
      ],
      "text/plain": [
       "        an            name  code  bloc\n",
       "1019  1997  ROCCA SERRA DE  2A|2     2"
      ]
     },
     "execution_count": 99,
     "metadata": {},
     "output_type": "execute_result"
    }
   ],
   "source": [
    "lag2t = df_legi_f.groupby([\"an\",\"name\", \"code\"])[\"bloc\"].count().reset_index()\n",
    "lag2t[lag2t[\"bloc\"]>1]"
   ]
  },
  {
   "cell_type": "markdown",
   "metadata": {},
   "source": [
    "=> on réalise ça lors de la création de la table de score de second tour\n",
    "comme cela on peut utiliser les prénoms normalisés"
   ]
  },
  {
   "cell_type": "code",
   "execution_count": null,
   "metadata": {
    "collapsed": true
   },
   "outputs": [],
   "source": []
  }
 ],
 "metadata": {
  "kernelspec": {
   "display_name": "Python [Root]",
   "language": "python",
   "name": "Python [Root]"
  },
  "language_info": {
   "codemirror_mode": {
    "name": "ipython",
    "version": 3
   },
   "file_extension": ".py",
   "mimetype": "text/x-python",
   "name": "python",
   "nbconvert_exporter": "python",
   "pygments_lexer": "ipython3",
   "version": "3.5.2"
  }
 },
 "nbformat": 4,
 "nbformat_minor": 2
}
