{
 "cells": [
  {
   "cell_type": "markdown",
   "metadata": {},
   "source": [
    "### To do\n",
    "- faire une PCA\n",
    "- retirer les Français de l'étranger (train et test)"
   ]
  },
  {
   "cell_type": "code",
   "execution_count": 291,
   "metadata": {
    "collapsed": true,
    "deletable": true,
    "editable": true
   },
   "outputs": [],
   "source": [
    "import pandas as pd\n",
    "import numpy as np\n",
    "from matplotlib import pyplot as plt\n",
    "from sklearn.preprocessing import Imputer, StandardScaler, MinMaxScaler\n",
    "from sklearn.metrics import mean_absolute_error, mean_squared_error, f1_score, r2_score\n",
    "from sklearn.metrics import auc, confusion_matrix"
   ]
  },
  {
   "cell_type": "markdown",
   "metadata": {},
   "source": [
    "### Loading the data"
   ]
  },
  {
   "cell_type": "code",
   "execution_count": 369,
   "metadata": {
    "collapsed": false,
    "deletable": true,
    "editable": true
   },
   "outputs": [
    {
     "name": "stdout",
     "output_type": "stream",
     "text": [
      "Taille initiale du DF : (36919, 81)\n",
      "Taille du DF après retrait des colonnes inutiles : (36919, 68)\n"
     ]
    }
   ],
   "source": [
    "raw = pd.read_excel('data/dataframe_elections.xlsx')\n",
    "print('Taille initiale du DF :', raw.shape)\n",
    "\n",
    "# Données d'identification\n",
    "id_list = ['an', 'dep', 'circo', 'code', 'nom', 'prenom', 'nuance_groupe', 'taux_vote_leg', 'second_tour']\n",
    "df_id = raw[id_list]\n",
    "\n",
    "# drop colonnes\n",
    "drop_list = ['dep', 'circo', 'c_dep', 'code', 'inscrits', 'circo_parti', 'circo_nuance',\n",
    "             'nom', 'prenom', 'etiquette', 'nuance', 'voix', 'second_tour']\n",
    "raw = raw.drop(drop_list, axis=1)\n",
    "\n",
    "print('Taille du DF après retrait des colonnes inutiles :', raw.shape)"
   ]
  },
  {
   "cell_type": "code",
   "execution_count": 381,
   "metadata": {
    "collapsed": false,
    "slideshow": {
     "slide_type": "-"
    }
   },
   "outputs": [],
   "source": [
    "def generate_df(raw_data, keep_list, penalty=.8):\n",
    "    # à garder obligatoirement pour identifier les lignes et créer les labels\n",
    "    keep_nuance = 'nuance_groupe' in keep_list\n",
    "    keep_list.extend(['an', 'nuance_groupe', 'p_inscrits', 'p_exprimes'])\n",
    "\n",
    "    df = raw_data.drop([col for col in raw_data.columns if col not in keep_list], axis=1)\n",
    "    #print(df.columns)\n",
    "\n",
    "    # Gestion des NaN au niveau du score du candidat aux législatives précédentes\n",
    "    years = [2002, 2007, 2012, 2017]\n",
    "    partis = ['EXG', 'COM', 'FI', 'DVG', 'ECO', 'SOC', 'RDG', 'MDM',\n",
    "              'UDI', 'DVD', 'LR', 'DLF', 'FN', 'EXD', 'REG', 'DIV']\n",
    "    \n",
    "    # TODO : POUR LES CANDIDATS \"EN MARCHE\", PAR QUOI REMPLIR LE SCORE DES CANDIDATS A LA PREC LEG ?\n",
    "    \n",
    "    if 'score_candidat_prec_leg_ins' in keep_list:\n",
    "        for parti in partis:\n",
    "            #print('\\nRemplissage des valeurs manquantes pour {} :'.format(parti))\n",
    "            for year in years:\n",
    "                mask = (df['an']==year) & (df['nuance_groupe']==parti)\n",
    "                mask_2 = (df['an']==year - 5) & (df['nuance_groupe']==parti)\n",
    "                mean = np.mean(df['p_inscrits'][mask_2]) * penalty # moyenne des voix du parti 5 ans avant (% d'inscrits)\n",
    "                df.loc[mask, 'score_candidat_prec_leg_ins'] = df['score_candidat_prec_leg_ins'][mask].fillna(value=mean)\n",
    "                #print('La moyenne du parti en {} est {:.2f}%'.format(year - 5, mean * 100))\n",
    "\n",
    "        mean = np.mean(df.p_inscrits) * penalty\n",
    "        df.score_candidat_prec_leg_ins = df.score_candidat_prec_leg_ins.fillna(value=mean)\n",
    "        \n",
    "    if 'score_candidat_prec_leg_expr' in keep_list:\n",
    "        for parti in partis:\n",
    "            #print('\\nRemplissage des valeurs manquantes pour {} :'.format(parti))\n",
    "            for year in years:\n",
    "                mask = (df['an']==year) & (df['nuance_groupe']==parti)\n",
    "                mask_2 = (df['an']==year - 5) & (df['nuance_groupe']==parti)\n",
    "                mean = np.mean(df['p_exprimes'][mask_2]) * penalty # moyenne des voix du parti 5 ans avant (% exprimés)\n",
    "                df.loc[mask, 'score_candidat_prec_leg_expr'] = df['score_candidat_prec_leg_expr'][mask].fillna(value=mean)\n",
    "                #print('La moyenne du parti en {} est {:.2f}%'.format(year - 5, mean * 100))\n",
    "\n",
    "        mean = np.mean(df.p_exprimes)\n",
    "        df.score_candidat_prec_leg_expr = df.score_candidat_prec_leg_expr.fillna(value=mean)\n",
    "\n",
    "    # Gestion des NaN : Autres variables. Remplacement des valeurs manquantes par la moyenne nationale\n",
    "    features_a_completer = ['chom_tot', 'chom_jeunes', 'chom_adultes', 'chom_seniors',\n",
    "                           'p_agri', 'p_commercants', 'p_cadres', 'p_intermed', 'p_employes',\n",
    "                           'p_ouvriers', 'd_brevet', 'd_bep', 'd_bac', 'd_sup']\n",
    "    for feature in features_a_completer:\n",
    "        if feature in keep_list:\n",
    "            #print('\\nRemplissage des valeurs manquantes pour {} :'.format(feature))\n",
    "            for year in years:\n",
    "                mask = (df['an']==year)\n",
    "                mean = np.mean(df[feature][mask])\n",
    "                #print('La moyenne de la feature pour {} est {:.2f}%'.format(year, mean * 100))\n",
    "                df.loc[mask, feature] = df[feature][mask].fillna(value=mean)\n",
    "\n",
    "    # Catégorisation\n",
    "    if 'score_candidat_prec_leg_cat' in keep_list:\n",
    "        if 'score_candidat_prec_leg_expr' in keep_list:\n",
    "            df['score_candidat_prec_leg_cat'] = pd.cut(df['score_candidat_prec_leg_expr'],\n",
    "                                                       bins=[-1, -.01, .05, .1, .15, .25, 1],\n",
    "                                                       labels=['N/A', 'A', 'B', 'C', 'D', 'E'])\n",
    "        elif 'score_candidat_prec_leg_ins' in keep_list:\n",
    "            df['score_candidat_prec_leg_cat'] = pd.cut(df['score_candidat_prec_leg_ins'],\n",
    "                                                       bins=[-1, -.01, .05, .1, .15, .25, 1],\n",
    "                                                       labels=['N/A', 'A', 'B', 'C', 'D', 'E'])\n",
    "\n",
    "    df = df[df.an > 1997]\n",
    "    df = df[df.nuance_groupe!='DIV'] # On retire les candidats \"Divers\" (pour l'entraînement ET la prédiction)\n",
    "    if not keep_nuance:\n",
    "        df = df.drop('nuance_groupe', axis=1)\n",
    "    \n",
    "    print('Format du dataframe :', df.shape)\n",
    "    print(df.isnull().sum())\n",
    "    \n",
    "    return df"
   ]
  },
  {
   "cell_type": "code",
   "execution_count": 453,
   "metadata": {
    "collapsed": false
   },
   "outputs": [],
   "source": [
    "def train_val_splits(df, year_for_validation, target, scaler=MinMaxScaler()):\n",
    "    # Liste des variables dummies et binaires pour les exclure de la normalisation\n",
    "    dummies_list = ['bloc', 'sexe', 'an', 'p_inscrits', 'p_exprimes', 'dep', 'circo',\n",
    "                    'geo_frontalier', 'geo_dom', 'geo_idf',\n",
    "                    'circo_nuance_groupe', 'circo_bloc', 'nuance_groupe',\n",
    "                    'circo_nuance_groupe_pres', 'circo_pres_meme_nuance', 'circo_meme_nuance_president',\n",
    "                    'circo_leg_meme_nuance',\n",
    "                    'depute_sortant', 'ancien_depute', 'au_gouvernement', 'ancien_ministre', 'membre_majorite',\n",
    "                    #'nb_candidats_meme_bloc', 'nb_candidats_circo',\n",
    "                    'score_candidat_prec_leg_cat'\n",
    "                   ]\n",
    "    scale_list = [col for col in df.columns if col not in dummies_list]\n",
    "\n",
    "    print('Variables à normaliser', scale_list)\n",
    "    df = pd.get_dummies(df, drop_first=True)\n",
    "    \n",
    "    drop_list = ['an', 'p_inscrits', 'p_exprimes']\n",
    "    df_train = df[(df.an != 2017) & (df.an != year_for_validation)].dropna(how='any')\n",
    "    y_train = df_train[target]\n",
    "    X_train = df_train.drop(drop_list, axis=1)\n",
    "    \n",
    "    df_val = df[df.an == year_for_validation].dropna(how='any')\n",
    "    y_val = df_val[target]\n",
    "    X_val = df_val.drop(drop_list, axis=1)\n",
    "    \n",
    "    # Normalisation du dataframe\n",
    "    X_train[scale_list] = scaler.fit_transform(X_train[scale_list])\n",
    "    X_val[scale_list] = scaler.transform(X_val[scale_list])\n",
    "\n",
    "    print('Format des ensembles de train et de validation :')\n",
    "    print(X_train.shape, X_val.shape)\n",
    "    \n",
    "    return X_train, X_val, y_train, y_val"
   ]
  },
  {
   "cell_type": "code",
   "execution_count": 589,
   "metadata": {
    "collapsed": false
   },
   "outputs": [],
   "source": [
    "def get_classif(y_pred, y_val, id_val, target, strategy):\n",
    "    from scipy.stats import rankdata\n",
    "    \n",
    "    res = pd.concat([id_val, pd.DataFrame(y_val)], axis=1, join='inner')\n",
    "    res['prediction'] = y_pred\n",
    "    res['classement'] = 0\n",
    "    res['qualif'] = 'N'\n",
    "    \n",
    "    for circo in set(res.code):\n",
    "        # classement des candidats par circonscription\n",
    "        res.loc[res.code==circo, 'classement'] = rankdata(-res.prediction[res.code==circo], method='ordinal')\n",
    "        \n",
    "        # normalisation des votes pour que la somme soit égale à 100%\n",
    "        res.loc[res.code==circo, 'prediction'] /= np.sum(res.loc[res.code==circo, 'prediction'])\n",
    "        \n",
    "        if target=='p_exprimes':\n",
    "            taux_E = 1\n",
    "            taux_O = np.float(res.loc[(res.code==circo) & (res.classement==1), 'taux_vote_leg'])\n",
    "        elif target=='p_inscrits':\n",
    "            taux_E = 1 / np.float(res.loc[(res.code==circo) & (res.classement==1), 'taux_vote_leg'])\n",
    "            taux_O = 1\n",
    "            \n",
    "        # simulation des qualifiés pour le second tour\n",
    "        i = 1\n",
    "        q = 0\n",
    "        while True:\n",
    "            #print(res.loc[(res.code==circo) & (res.classement==i), 'prediction'].values)\n",
    "            if (res.loc[(res.code==circo) & (res.classement==i), 'prediction'].values) * taux_E >= .5:\n",
    "                res.loc[(res.code==circo) & (res.classement==i), 'qualif'] = 'E'\n",
    "                if strategy == 'O':\n",
    "                    q += 1\n",
    "                elif strategy == 'E':\n",
    "                    break\n",
    "            elif (res.loc[(res.code==circo) & (res.classement==i), 'prediction'].values) * taux_O >= .125:\n",
    "                res.loc[(res.code==circo) & (res.classement==i), 'qualif'] = 'O'\n",
    "                q += 1\n",
    "            elif q < 2:\n",
    "                res.loc[(res.code==circo) & (res.classement==i), 'qualif'] = 'O'\n",
    "                q += 1\n",
    "            else:\n",
    "                break\n",
    "\n",
    "            i += 1\n",
    "        \n",
    "    res['ecart'] = res['prediction'] - res[target]\n",
    "    \n",
    "    return res"
   ]
  },
  {
   "cell_type": "code",
   "execution_count": 581,
   "metadata": {
    "collapsed": false
   },
   "outputs": [],
   "source": [
    "def analyze_predictions(df_predictions, target):\n",
    "    n = df_predictions.shape[0]\n",
    "    print('Prédictions pour {} candidats.'.format(n))\n",
    "\n",
    "    ecarts_absolus = abs(df_predictions.ecart)\n",
    "    max_ecart = np.max(ecarts_absolus)\n",
    "    grid = np.arange(max_ecart, step=.01)\n",
    "    ecarts_grid = []\n",
    "\n",
    "    for point in grid:\n",
    "        ecarts_grid.append(np.sum(ecarts_absolus < point))\n",
    "\n",
    "    print('La MAE est : {:.2f}%'.format(\n",
    "            mean_absolute_error(df_predictions[target], df_predictions.prediction) * 100))\n",
    "    print('La plus grosse erreur est : {:.2f}%'.format(max_ecart * 100))\n",
    "    print('Le score r2 est : {:.2f}'.format(r2_score(df_predictions[target], df_predictions.prediction)))\n",
    "\n",
    "    point_list = [.01, .02, .05, .1]\n",
    "    ecart_list = [np.sum(ecarts_absolus < point) for point in point_list]\n",
    "\n",
    "    plt.figure(1, figsize=(13, 3))\n",
    "    plt.subplot(121)\n",
    "    plt.plot(grid, ecarts_grid)\n",
    "    for i in range(len(point_list)):\n",
    "        plt.plot(point_list[i], ecart_list[i], 'ro')\n",
    "        plt.text(point_list[i]+.005, ecart_list[i]-400, '{:.2f}%'.format(ecart_list[i]/n))\n",
    "\n",
    "    plt.title('Nb d\\'obs en dessous d\\'un seuil d\\'erreur')\n",
    "    plt.xlabel('Seuils d\\'erreur')\n",
    "\n",
    "    plt.subplot(122)\n",
    "    plt.hist(df_predictions['ecart'], bins=50)\n",
    "    plt.title('Répartition globale des erreurs')\n",
    "\n",
    "    # comparaison de la distribution des erreurs, parti par parti\n",
    "    from scipy.stats import gaussian_kde\n",
    "    plt.figure(2, figsize=(13,3))\n",
    "    x_grid = np.arange(min(df_predictions['ecart']), max(df_predictions['ecart']), step=.01)\n",
    "    \n",
    "    nuances = {'FI': 'red','ECO': 'green', 'SOC': 'pink', 'RDG': 'grey', 'MDM': 'orange', 'UDI': 'yellow',\n",
    "               'LR': 'blue', 'DLF': 'darkblue', 'FN': 'black', 'REG': 'teal'}\n",
    "    for nuance in nuances:\n",
    "        n_pred = df_predictions[(df_predictions['nuance_groupe']==nuance)\n",
    "                                & ((df_predictions['qualif']=='E')\n",
    "                               | (df_predictions['qualif']=='O'))].shape[0]\n",
    "        n_reel = df_predictions[(df_predictions['nuance_groupe']==nuance)\n",
    "                                & ((df_predictions['second_tour']=='E')\n",
    "                               | (df_predictions['second_tour']=='O'))].shape[0]\n",
    "        print('{}: {} prédits | Réel {}'.format(nuance, n_pred, n_reel))\n",
    "        try: # cas où le parti n'est pas représenté à l'élection prédite\n",
    "            pdf = gaussian_kde(df_predictions['ecart'][df_predictions['nuance_groupe']==nuance],\n",
    "                               bw_method=.9).evaluate(x_grid)\n",
    "            plt.plot(x_grid, pdf, color=nuances[nuance], label=nuance, lw=2)\n",
    "        except:\n",
    "            pass\n",
    "\n",
    "    plt.title('Répartition des erreurs selon le parti')\n",
    "    plt.legend(loc='best')\n",
    "\n",
    "    n_correct = np.sum(df_predictions.second_tour == df_predictions.qualif)\n",
    "    print('\\n{} prédictions correctes sur {} (soit {:.1f}%)'.format(n_correct, n, 100 * n_correct / n))\n",
    "\n",
    "    print('\\nMatrice de confusion. En colonne les classes prédites, en ligne les classes réelles.')\n",
    "    cm = confusion_matrix(df_predictions.second_tour, df_predictions.qualif, labels=['E', 'O', 'N'])\n",
    "    print(cm)\n",
    "\n",
    "    f1_E = f1_score(df_predictions.second_tour, df_predictions.qualif, labels='E', average='micro')\n",
    "    print('Score F1 pour la classe E : {:.1f}%'.format(f1_E * 100))\n",
    "    f1_O = f1_score(df_predictions.second_tour, df_predictions.qualif, labels='O', average='micro')\n",
    "    print('Score F1 pour la classe O : {:.1f}%'.format(f1_O * 100))\n",
    "    f1_N = f1_score(df_predictions.second_tour, df_predictions.qualif, labels='N', average='micro')\n",
    "    print('Score F1 pour la classe N : {:.1f}%'.format(f1_N * 100))\n",
    "    plt.show()\n",
    "    \n",
    "    return"
   ]
  },
  {
   "cell_type": "markdown",
   "metadata": {},
   "source": [
    "### Choix des paramètres"
   ]
  },
  {
   "cell_type": "code",
   "execution_count": 582,
   "metadata": {
    "collapsed": true
   },
   "outputs": [],
   "source": [
    "# Sélection des features\n",
    "keep_list = [#'geo_frontalier', 'geo_dom', 'geo_idf',\n",
    "    'part_impose',\n",
    "    'chom_tot',\n",
    "    #'chom_jeunes', 'chom_adultes', 'chom_seniors',\n",
    "    'p_agri', 'p_commercants', 'p_cadres', 'p_intermed', 'p_employes',\n",
    "    'p_ouvriers', 'd_brevet', 'd_bep', 'd_bac', 'd_sup'\n",
    "    'circo_leg_meme_nuance', 'circo_pres_meme_nuance', #'circo_meme_nuance_president',\n",
    "    'nb_candidats_meme_bloc',\n",
    "    'nb_candidats_circo',\n",
    "    'score_nuance_groupe_pres', 'score_bloc_pres',\n",
    "    #'score_candidat_prec_leg_ins',\n",
    "    'score_candidat_prec_leg_expr',\n",
    "    #'score_candidat_prec_leg_cat',\n",
    "    #'score_nuance_groupe_prec_leg', #(un peu mauvais)\n",
    "    #'score_bloc_prec_leg', #(mauvais pour le score)\n",
    "    #'nuance_groupe',\n",
    "    #'taux_vote_pres', 'taux_vote_leg',\n",
    "    'depute_sortant', 'ancien_depute', 'au_gouvernement', 'ancien_ministre',\n",
    "    'membre_majorite',\n",
    "    'sexe'\n",
    "]\n",
    "\n",
    "scaler = MinMaxScaler()\n",
    "#scaler = StandardScaler()\n",
    "\n",
    "# Prédire les score en % des voix exprimées ou % des inscrits sur les listes électorales\n",
    "target_values = 'p_exprimes' # 'p_inscrits'\n",
    "target_year = 2012\n",
    "\n",
    "# Taux par lequel on multiplie les score à la législative précédente qui étaient à la base des N/A\n",
    "penalty = .9\n",
    "\n",
    "# si 'O' : on note les potentiels qualifiés dès le 1er tour mais on indique aussi le candidat arrivé 2ème\n",
    "# si 'E' : si un candidat est classé 'E', ses concurrents sont automatiquement tous classés 'N'\n",
    "strategy = 'O' "
   ]
  },
  {
   "cell_type": "code",
   "execution_count": 583,
   "metadata": {
    "collapsed": false
   },
   "outputs": [
    {
     "name": "stdout",
     "output_type": "stream",
     "text": [
      "Format du dataframe : (26396, 26)\n",
      "an                                 0\n",
      "part_impose                        0\n",
      "chom_tot                           0\n",
      "p_agri                             0\n",
      "p_commercants                      0\n",
      "p_cadres                           0\n",
      "p_intermed                         0\n",
      "p_employes                         0\n",
      "p_ouvriers                         0\n",
      "d_brevet                           0\n",
      "d_bep                              0\n",
      "d_bac                              0\n",
      "circo_pres_meme_nuance             0\n",
      "score_nuance_groupe_pres           0\n",
      "score_bloc_pres                    0\n",
      "score_candidat_prec_leg_expr       0\n",
      "depute_sortant                     0\n",
      "ancien_depute                      0\n",
      "au_gouvernement                    0\n",
      "ancien_ministre                    0\n",
      "membre_majorite                    0\n",
      "nb_candidats_meme_bloc             0\n",
      "nb_candidats_circo                 0\n",
      "sexe                               0\n",
      "p_inscrits                      6463\n",
      "p_exprimes                      6463\n",
      "dtype: int64\n",
      "Variables à normaliser ['part_impose', 'chom_tot', 'p_agri', 'p_commercants', 'p_cadres', 'p_intermed', 'p_employes', 'p_ouvriers', 'd_brevet', 'd_bep', 'd_bac', 'score_nuance_groupe_pres', 'score_bloc_pres', 'score_candidat_prec_leg_expr', 'nb_candidats_meme_bloc', 'nb_candidats_circo']\n",
      "Format des ensembles de train et de validation :\n",
      "(13788, 23) (6145, 23)\n"
     ]
    }
   ],
   "source": [
    "df = generate_df(raw, keep_list, penalty=penalty)\n",
    "X_train, X_val, y_train, y_val = train_val_splits(df, target_year, target_values, scaler)"
   ]
  },
  {
   "cell_type": "code",
   "execution_count": 584,
   "metadata": {
    "collapsed": false
   },
   "outputs": [
    {
     "data": {
      "text/html": [
       "<div>\n",
       "<table border=\"1\" class=\"dataframe\">\n",
       "  <thead>\n",
       "    <tr style=\"text-align: right;\">\n",
       "      <th></th>\n",
       "      <th>part_impose</th>\n",
       "      <th>chom_tot</th>\n",
       "      <th>p_agri</th>\n",
       "      <th>p_commercants</th>\n",
       "      <th>p_cadres</th>\n",
       "      <th>p_intermed</th>\n",
       "      <th>p_employes</th>\n",
       "      <th>p_ouvriers</th>\n",
       "      <th>d_brevet</th>\n",
       "      <th>d_bep</th>\n",
       "      <th>...</th>\n",
       "      <th>score_bloc_pres</th>\n",
       "      <th>score_candidat_prec_leg_expr</th>\n",
       "      <th>depute_sortant</th>\n",
       "      <th>ancien_depute</th>\n",
       "      <th>au_gouvernement</th>\n",
       "      <th>ancien_ministre</th>\n",
       "      <th>membre_majorite</th>\n",
       "      <th>nb_candidats_meme_bloc</th>\n",
       "      <th>nb_candidats_circo</th>\n",
       "      <th>sexe_M</th>\n",
       "    </tr>\n",
       "  </thead>\n",
       "  <tbody>\n",
       "    <tr>\n",
       "      <th>14488</th>\n",
       "      <td>0.546669</td>\n",
       "      <td>0.061475</td>\n",
       "      <td>0.097015</td>\n",
       "      <td>0.308824</td>\n",
       "      <td>0.201044</td>\n",
       "      <td>0.732283</td>\n",
       "      <td>0.336585</td>\n",
       "      <td>0.598684</td>\n",
       "      <td>0.157044</td>\n",
       "      <td>0.684049</td>\n",
       "      <td>...</td>\n",
       "      <td>0.087235</td>\n",
       "      <td>0.084493</td>\n",
       "      <td>0.0</td>\n",
       "      <td>0.0</td>\n",
       "      <td>0.0</td>\n",
       "      <td>0.0</td>\n",
       "      <td>0.0</td>\n",
       "      <td>0.222222</td>\n",
       "      <td>0.347826</td>\n",
       "      <td>1</td>\n",
       "    </tr>\n",
       "    <tr>\n",
       "      <th>14489</th>\n",
       "      <td>0.546669</td>\n",
       "      <td>0.061475</td>\n",
       "      <td>0.097015</td>\n",
       "      <td>0.308824</td>\n",
       "      <td>0.201044</td>\n",
       "      <td>0.732283</td>\n",
       "      <td>0.336585</td>\n",
       "      <td>0.598684</td>\n",
       "      <td>0.157044</td>\n",
       "      <td>0.684049</td>\n",
       "      <td>...</td>\n",
       "      <td>0.509611</td>\n",
       "      <td>0.504781</td>\n",
       "      <td>0.0</td>\n",
       "      <td>0.0</td>\n",
       "      <td>0.0</td>\n",
       "      <td>0.0</td>\n",
       "      <td>1.0</td>\n",
       "      <td>0.111111</td>\n",
       "      <td>0.347826</td>\n",
       "      <td>1</td>\n",
       "    </tr>\n",
       "  </tbody>\n",
       "</table>\n",
       "<p>2 rows × 23 columns</p>\n",
       "</div>"
      ],
      "text/plain": [
       "       part_impose  chom_tot    p_agri  p_commercants  p_cadres  p_intermed  \\\n",
       "14488     0.546669  0.061475  0.097015       0.308824  0.201044    0.732283   \n",
       "14489     0.546669  0.061475  0.097015       0.308824  0.201044    0.732283   \n",
       "\n",
       "       p_employes  p_ouvriers  d_brevet     d_bep   ...    score_bloc_pres  \\\n",
       "14488    0.336585    0.598684  0.157044  0.684049   ...           0.087235   \n",
       "14489    0.336585    0.598684  0.157044  0.684049   ...           0.509611   \n",
       "\n",
       "       score_candidat_prec_leg_expr  depute_sortant  ancien_depute  \\\n",
       "14488                      0.084493             0.0            0.0   \n",
       "14489                      0.504781             0.0            0.0   \n",
       "\n",
       "       au_gouvernement  ancien_ministre  membre_majorite  \\\n",
       "14488              0.0              0.0              0.0   \n",
       "14489              0.0              0.0              1.0   \n",
       "\n",
       "       nb_candidats_meme_bloc  nb_candidats_circo  sexe_M  \n",
       "14488                0.222222            0.347826       1  \n",
       "14489                0.111111            0.347826       1  \n",
       "\n",
       "[2 rows x 23 columns]"
      ]
     },
     "execution_count": 584,
     "metadata": {},
     "output_type": "execute_result"
    }
   ],
   "source": [
    "X_train.head(2)"
   ]
  },
  {
   "cell_type": "markdown",
   "metadata": {},
   "source": [
    "### Choix de modèle"
   ]
  },
  {
   "cell_type": "code",
   "execution_count": 585,
   "metadata": {
    "collapsed": false,
    "deletable": true,
    "editable": true,
    "scrolled": true
   },
   "outputs": [
    {
     "data": {
      "text/plain": [
       "[(64.95105406246708, 'score_candidat_prec_leg_expr'),\n",
       " (12.145662474445698, 'membre_majorite'),\n",
       " (6.5468184287535074, 'score_nuance_groupe_pres'),\n",
       " (4.444853825482773, 'score_bloc_pres'),\n",
       " (2.1528857532891146, 'depute_sortant'),\n",
       " (1.2665151861086694, 'nb_candidats_meme_bloc'),\n",
       " (1.1008993514651519, 'part_impose'),\n",
       " (0.88920614672064446, 'nb_candidats_circo'),\n",
       " (0.75653568659109627, 'd_bac'),\n",
       " (0.67693345319891018, 'chom_tot'),\n",
       " (0.62140700387183079, 'd_brevet'),\n",
       " (0.58145658837986192, 'p_employes'),\n",
       " (0.56302223747409708, 'p_commercants'),\n",
       " (0.562995227152294, 'circo_pres_meme_nuance'),\n",
       " (0.50219655377129313, 'p_agri'),\n",
       " (0.47655150951773317, 'd_bep'),\n",
       " (0.45787900466199605, 'p_ouvriers'),\n",
       " (0.38170521936394086, 'p_intermed'),\n",
       " (0.37161971220226359, 'p_cadres'),\n",
       " (0.28893804659024308, 'sexe_M'),\n",
       " (0.24461863482463717, 'ancien_depute'),\n",
       " (0.011303015544327277, 'ancien_ministre'),\n",
       " (0.0049428781228537293, 'au_gouvernement')]"
      ]
     },
     "execution_count": 585,
     "metadata": {},
     "output_type": "execute_result"
    }
   ],
   "source": [
    "from sklearn.ensemble import RandomForestRegressor\n",
    "rf = RandomForestRegressor(n_jobs=-1, n_estimators=100)\n",
    "rf.fit(X_train, y_train)\n",
    "y_pred_rf = rf.predict(X_val)\n",
    "sorted(list(zip(rf.feature_importances_*100, X_train.columns)), reverse=True)"
   ]
  },
  {
   "cell_type": "code",
   "execution_count": 511,
   "metadata": {
    "collapsed": true
   },
   "outputs": [],
   "source": [
    "# from sklearn.svm import SVR\n",
    "# reg = SVR()\n",
    "# reg.fit(X_train, y_train)\n",
    "# y_pred = reg.predict(X_val)"
   ]
  },
  {
   "cell_type": "code",
   "execution_count": 535,
   "metadata": {
    "collapsed": false
   },
   "outputs": [
    {
     "name": "stdout",
     "output_type": "stream",
     "text": [
      "9 voisins : 3.86%\n"
     ]
    }
   ],
   "source": [
    "from sklearn.neighbors import KNeighborsRegressor\n",
    "for i in range(9, 10):\n",
    "    reg = KNeighborsRegressor(n_neighbors=i, weights='distance', n_jobs=-1)\n",
    "    reg.fit(X_train, y_train)\n",
    "    y_pred_knn = reg.predict(X_val)\n",
    "    print('{} voisins : {:.2f}%'.format(i, 100 * mean_absolute_error(y_pred_knn, y_val)))"
   ]
  },
  {
   "cell_type": "code",
   "execution_count": 567,
   "metadata": {
    "collapsed": false
   },
   "outputs": [
    {
     "name": "stdout",
     "output_type": "stream",
     "text": [
      "Iteration 1, loss = 0.00279741\n",
      "Iteration 2, loss = 0.00157123\n",
      "Iteration 3, loss = 0.00151742\n",
      "Iteration 4, loss = 0.00140171\n",
      "Iteration 5, loss = 0.00134847\n",
      "Iteration 6, loss = 0.00131054\n",
      "Iteration 7, loss = 0.00130400\n",
      "Iteration 8, loss = 0.00129187\n",
      "Iteration 9, loss = 0.00127861\n",
      "Iteration 10, loss = 0.00124704\n",
      "Iteration 11, loss = 0.00122863\n",
      "Iteration 12, loss = 0.00121310\n",
      "Iteration 13, loss = 0.00120803\n",
      "Iteration 14, loss = 0.00121023\n",
      "Iteration 15, loss = 0.00118797\n",
      "Iteration 16, loss = 0.00118092\n",
      "Iteration 17, loss = 0.00116524\n",
      "Iteration 18, loss = 0.00116247\n",
      "Iteration 19, loss = 0.00114204\n",
      "Iteration 20, loss = 0.00114502\n",
      "Iteration 21, loss = 0.00113460\n",
      "Iteration 22, loss = 0.00113032\n",
      "Iteration 23, loss = 0.00111172\n",
      "Iteration 24, loss = 0.00109474\n",
      "Iteration 25, loss = 0.00109340\n",
      "Iteration 26, loss = 0.00107227\n",
      "Iteration 27, loss = 0.00107937\n",
      "Iteration 28, loss = 0.00105944\n",
      "Iteration 29, loss = 0.00107132\n",
      "Iteration 30, loss = 0.00104674\n",
      "Iteration 31, loss = 0.00102829\n",
      "Iteration 32, loss = 0.00102390\n",
      "Iteration 33, loss = 0.00101621\n",
      "Iteration 34, loss = 0.00101133\n",
      "Iteration 35, loss = 0.00099504\n",
      "Iteration 36, loss = 0.00099088\n",
      "Iteration 37, loss = 0.00096849\n",
      "Iteration 38, loss = 0.00098923\n",
      "Iteration 39, loss = 0.00097841\n",
      "Iteration 40, loss = 0.00099816\n",
      "Training loss did not improve more than tol=0.000000 for two consecutive epochs. Stopping.\n"
     ]
    }
   ],
   "source": [
    "from sklearn.neural_network import MLPRegressor\n",
    "reg = MLPRegressor((80, 80, 80), activation='relu', solver='adam', alpha=1e-4, batch_size=200,\n",
    "                   learning_rate='constant', learning_rate_init=1e-3, max_iter=500, tol=1e-7, verbose=True,\n",
    "                  power_t=.5, early_stopping=False)\n",
    "reg.fit(X_train, y_train)\n",
    "y_pred_mlp = reg.predict(X_val)"
   ]
  },
  {
   "cell_type": "code",
   "execution_count": 568,
   "metadata": {
    "collapsed": false
   },
   "outputs": [],
   "source": [
    "# Mix des prédictions des modèles\n",
    "y_pred = np.mean(np.array([y_pred_rf,\n",
    "                           y_pred_knn,\n",
    "                          y_pred_mlp\n",
    "                          ]), axis=0)"
   ]
  },
  {
   "cell_type": "code",
   "execution_count": 590,
   "metadata": {
    "collapsed": false
   },
   "outputs": [
    {
     "name": "stdout",
     "output_type": "stream",
     "text": [
      "Prédictions pour 6145 candidats.\n",
      "La MAE est : 3.68%\n",
      "La plus grosse erreur est : 55.87%\n",
      "Le score r2 est : 0.79\n",
      "ECO: 12 prédits | Réel 44\n",
      "MDM: 8 prédits | Réel 12\n",
      "FI: 26 prédits | Réel 12\n",
      "SOC: 467 prédits | Réel 437\n",
      "LR: 487 prédits | Réel 433\n",
      "RDG: 20 prédits | Réel 28\n",
      "FN: 69 prédits | Réel 59\n",
      "DLF: 1 prédits | Réel 1\n",
      "REG: 1 prédits | Réel 4\n",
      "UDI: 31 prédits | Réel 45\n",
      "\n",
      "5706 prédictions correctes sur 6145 (soit 92.9%)\n",
      "\n",
      "Matrice de confusion. En colonne les classes prédites, en ligne les classes réelles.\n",
      "[[  10   25    1]\n",
      " [  60  880  161]\n",
      " [   0  192 4816]]\n",
      "Score F1 pour la classe E : 18.9%\n",
      "Score F1 pour la classe O : 80.1%\n",
      "Score F1 pour la classe N : 96.5%\n"
     ]
    },
    {
     "data": {
      "image/png": "[encoded data removed]",
      "text/plain": [
       "<matplotlib.figure.Figure at 0x21483cd00b8>"
      ]
     },
     "metadata": {},
     "output_type": "display_data"
    },
    {
     "data": {
      "image/png": "[encoded data removed]",
      "text/plain": [
       "<matplotlib.figure.Figure at 0x214868580b8>"
      ]
     },
     "metadata": {},
     "output_type": "display_data"
    }
   ],
   "source": [
    "df_predictions = get_classif(y_pred_rf, y_val, df_id, target_values, strategy)\n",
    "analyze_predictions(df_predictions, target_values)"
   ]
  },
  {
   "cell_type": "code",
   "execution_count": 591,
   "metadata": {
    "collapsed": false
   },
   "outputs": [
    {
     "data": {
      "text/html": [
       "<div>\n",
       "<table border=\"1\" class=\"dataframe\">\n",
       "  <thead>\n",
       "    <tr style=\"text-align: right;\">\n",
       "      <th></th>\n",
       "      <th>an</th>\n",
       "      <th>dep</th>\n",
       "      <th>circo</th>\n",
       "      <th>code</th>\n",
       "      <th>nom</th>\n",
       "      <th>prenom</th>\n",
       "      <th>nuance_groupe</th>\n",
       "      <th>taux_vote_leg</th>\n",
       "      <th>second_tour</th>\n",
       "      <th>p_exprimes</th>\n",
       "      <th>prediction</th>\n",
       "      <th>classement</th>\n",
       "      <th>qualif</th>\n",
       "      <th>ecart</th>\n",
       "    </tr>\n",
       "  </thead>\n",
       "  <tbody>\n",
       "    <tr>\n",
       "      <th>13113</th>\n",
       "      <td>2012</td>\n",
       "      <td>SAINT-PIERRE-ET-MIQUELON</td>\n",
       "      <td>1</td>\n",
       "      <td>975|1</td>\n",
       "      <td>GIRARDIN</td>\n",
       "      <td>ANNICK</td>\n",
       "      <td>RDG</td>\n",
       "      <td>0.5186</td>\n",
       "      <td>E</td>\n",
       "      <td>0.6552</td>\n",
       "      <td>0.096528</td>\n",
       "      <td>4</td>\n",
       "      <td>N</td>\n",
       "      <td>-0.558672</td>\n",
       "    </tr>\n",
       "    <tr>\n",
       "      <th>10982</th>\n",
       "      <td>2012</td>\n",
       "      <td>LA-REUNION</td>\n",
       "      <td>2</td>\n",
       "      <td>974|2</td>\n",
       "      <td>BELLO</td>\n",
       "      <td>HUGUETTE</td>\n",
       "      <td>DVG</td>\n",
       "      <td>0.4562</td>\n",
       "      <td>E</td>\n",
       "      <td>0.6712</td>\n",
       "      <td>0.221551</td>\n",
       "      <td>2</td>\n",
       "      <td>O</td>\n",
       "      <td>-0.449649</td>\n",
       "    </tr>\n",
       "    <tr>\n",
       "      <th>12340</th>\n",
       "      <td>2012</td>\n",
       "      <td>PARIS</td>\n",
       "      <td>6</td>\n",
       "      <td>75|6</td>\n",
       "      <td>DUFLOT</td>\n",
       "      <td>CECILE</td>\n",
       "      <td>ECO</td>\n",
       "      <td>0.5929</td>\n",
       "      <td>O</td>\n",
       "      <td>0.4874</td>\n",
       "      <td>0.064594</td>\n",
       "      <td>4</td>\n",
       "      <td>N</td>\n",
       "      <td>-0.422806</td>\n",
       "    </tr>\n",
       "  </tbody>\n",
       "</table>\n",
       "</div>"
      ],
      "text/plain": [
       "         an                       dep  circo   code       nom    prenom  \\\n",
       "13113  2012  SAINT-PIERRE-ET-MIQUELON      1  975|1  GIRARDIN    ANNICK   \n",
       "10982  2012                LA-REUNION      2  974|2     BELLO  HUGUETTE   \n",
       "12340  2012                     PARIS      6   75|6    DUFLOT    CECILE   \n",
       "\n",
       "      nuance_groupe  taux_vote_leg second_tour  p_exprimes  prediction  \\\n",
       "13113           RDG         0.5186           E      0.6552    0.096528   \n",
       "10982           DVG         0.4562           E      0.6712    0.221551   \n",
       "12340           ECO         0.5929           O      0.4874    0.064594   \n",
       "\n",
       "       classement qualif     ecart  \n",
       "13113           4      N -0.558672  \n",
       "10982           2      O -0.449649  \n",
       "12340           4      N -0.422806  "
      ]
     },
     "execution_count": 591,
     "metadata": {},
     "output_type": "execute_result"
    }
   ],
   "source": [
    "df_predictions.sort_values(by='ecart').head(3)"
   ]
  },
  {
   "cell_type": "code",
   "execution_count": 592,
   "metadata": {
    "collapsed": false
   },
   "outputs": [
    {
     "data": {
      "text/html": [
       "<div>\n",
       "<table border=\"1\" class=\"dataframe\">\n",
       "  <thead>\n",
       "    <tr style=\"text-align: right;\">\n",
       "      <th></th>\n",
       "      <th>an</th>\n",
       "      <th>dep</th>\n",
       "      <th>circo</th>\n",
       "      <th>code</th>\n",
       "      <th>nom</th>\n",
       "      <th>prenom</th>\n",
       "      <th>nuance_groupe</th>\n",
       "      <th>taux_vote_leg</th>\n",
       "      <th>second_tour</th>\n",
       "      <th>p_exprimes</th>\n",
       "      <th>prediction</th>\n",
       "      <th>classement</th>\n",
       "      <th>qualif</th>\n",
       "      <th>ecart</th>\n",
       "    </tr>\n",
       "  </thead>\n",
       "  <tbody>\n",
       "    <tr>\n",
       "      <th>8653</th>\n",
       "      <td>2012</td>\n",
       "      <td>CALVADOS</td>\n",
       "      <td>5</td>\n",
       "      <td>14|5</td>\n",
       "      <td>NOUVELOT</td>\n",
       "      <td>CEDRIC</td>\n",
       "      <td>LR</td>\n",
       "      <td>0.5970</td>\n",
       "      <td>O</td>\n",
       "      <td>0.2402</td>\n",
       "      <td>0.555583</td>\n",
       "      <td>1</td>\n",
       "      <td>E</td>\n",
       "      <td>0.315383</td>\n",
       "    </tr>\n",
       "    <tr>\n",
       "      <th>9452</th>\n",
       "      <td>2012</td>\n",
       "      <td>FRANCAIS-DE-L'ETRANGER</td>\n",
       "      <td>2</td>\n",
       "      <td>99|2</td>\n",
       "      <td>DROUHAUD</td>\n",
       "      <td>PASCAL</td>\n",
       "      <td>LR</td>\n",
       "      <td>0.1573</td>\n",
       "      <td>O</td>\n",
       "      <td>0.2276</td>\n",
       "      <td>0.548723</td>\n",
       "      <td>1</td>\n",
       "      <td>E</td>\n",
       "      <td>0.321123</td>\n",
       "    </tr>\n",
       "    <tr>\n",
       "      <th>13116</th>\n",
       "      <td>2012</td>\n",
       "      <td>SAINT-PIERRE-ET-MIQUELON</td>\n",
       "      <td>1</td>\n",
       "      <td>975|1</td>\n",
       "      <td>ZIMMERMANN</td>\n",
       "      <td>FRANCOIS</td>\n",
       "      <td>LR</td>\n",
       "      <td>0.5186</td>\n",
       "      <td>N</td>\n",
       "      <td>0.1132</td>\n",
       "      <td>0.442358</td>\n",
       "      <td>1</td>\n",
       "      <td>O</td>\n",
       "      <td>0.329158</td>\n",
       "    </tr>\n",
       "  </tbody>\n",
       "</table>\n",
       "</div>"
      ],
      "text/plain": [
       "         an                       dep  circo   code         nom    prenom  \\\n",
       "8653   2012                  CALVADOS      5   14|5    NOUVELOT    CEDRIC   \n",
       "9452   2012    FRANCAIS-DE-L'ETRANGER      2   99|2    DROUHAUD    PASCAL   \n",
       "13116  2012  SAINT-PIERRE-ET-MIQUELON      1  975|1  ZIMMERMANN  FRANCOIS   \n",
       "\n",
       "      nuance_groupe  taux_vote_leg second_tour  p_exprimes  prediction  \\\n",
       "8653             LR         0.5970           O      0.2402    0.555583   \n",
       "9452             LR         0.1573           O      0.2276    0.548723   \n",
       "13116            LR         0.5186           N      0.1132    0.442358   \n",
       "\n",
       "       classement qualif     ecart  \n",
       "8653            1      E  0.315383  \n",
       "9452            1      E  0.321123  \n",
       "13116           1      O  0.329158  "
      ]
     },
     "execution_count": 592,
     "metadata": {},
     "output_type": "execute_result"
    }
   ],
   "source": [
    "df_predictions.sort_values(by='ecart').tail(3)"
   ]
  },
  {
   "cell_type": "markdown",
   "metadata": {},
   "source": [
    "#### Save predictions"
   ]
  },
  {
   "cell_type": "code",
   "execution_count": 318,
   "metadata": {
    "collapsed": false
   },
   "outputs": [],
   "source": [
    "from datetime import datetime\n",
    "now = datetime.now()\n",
    "stamp = '{}_{}_{}h{}'.format(now.day, now.month, now.hour, now.minute)\n",
    "df_predictions.to_excel('predictions_du_{}.xlsx'.format(stamp))"
   ]
  },
  {
   "cell_type": "code",
   "execution_count": null,
   "metadata": {
    "collapsed": true
   },
   "outputs": [],
   "source": []
  }
 ],
 "metadata": {
  "anaconda-cloud": {},
  "kernelspec": {
   "display_name": "Python [default]",
   "language": "python",
   "name": "python3"
  },
  "language_info": {
   "codemirror_mode": {
    "name": "ipython",
    "version": 3
   },
   "file_extension": ".py",
   "mimetype": "text/x-python",
   "name": "python",
   "nbconvert_exporter": "python",
   "pygments_lexer": "ipython3",
   "version": "3.5.2"
  }
 },
 "nbformat": 4,
 "nbformat_minor": 1
}
