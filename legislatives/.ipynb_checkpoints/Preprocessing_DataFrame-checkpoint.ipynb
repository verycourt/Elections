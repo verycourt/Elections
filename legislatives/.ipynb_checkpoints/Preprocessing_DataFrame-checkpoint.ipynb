{
 "cells": [
  {
   "cell_type": "markdown",
   "metadata": {},
   "source": [
    "#### To do\n",
    "Analyse des données manquantes :\n",
    "- etrangers : Français de l'étranger => moyenne des étrangers ailleurs ?\n",
    "- part des ménages imposés et quartiles de revenu : Français de l'étranger et DOM (à part Réunion et Martinique) => utiliser les données de la Réunion et de la Martinique pour les autres DOM ? et moyenne nationale pour les français de l'étranger ?\n",
    "- chômage : Français de l'étranger => utiliser moyenne nationale ?\n",
    "- diplômes et CSP : Français de l'étranger, petits DOM (Wallis et Futuna, Nouvelle Calédonie, etc...) => utiliser moyenne des autres DOM ? et moyenne nationale pour les français de l'étranger ?\n",
    "\n",
    "Nouvelles features :\n",
    "- Données géo par Dept (dummy sur position Littoral, métropole, péri-urbain à établir par la densité de pop, est-ouest, Nord-Sud)"
   ]
  },
  {
   "cell_type": "code",
   "execution_count": 39,
   "metadata": {
    "collapsed": true,
    "deletable": true,
    "editable": true
   },
   "outputs": [],
   "source": [
    "import pandas as pd\n",
    "import numpy as np\n",
    "from matplotlib import pyplot as plt\n",
    "from sklearn.ensemble import RandomForestRegressor\n",
    "from sklearn.preprocessing import Imputer\n",
    "from sklearn.metrics import mean_absolute_error"
   ]
  },
  {
   "cell_type": "code",
   "execution_count": 40,
   "metadata": {
    "collapsed": false,
    "deletable": true,
    "editable": true
   },
   "outputs": [
    {
     "name": "stdout",
     "output_type": "stream",
     "text": [
      "(36919, 64)\n"
     ]
    }
   ],
   "source": [
    "raw = pd.read_excel('data/dataframe_elections.xlsx')\n",
    "print(raw.shape)"
   ]
  },
  {
   "cell_type": "markdown",
   "metadata": {
    "deletable": true,
    "editable": true
   },
   "source": [
    "#### Retrait des colonnes et lignes inutiles"
   ]
  },
  {
   "cell_type": "code",
   "execution_count": 41,
   "metadata": {
    "collapsed": false,
    "deletable": true,
    "editable": true
   },
   "outputs": [
    {
     "name": "stdout",
     "output_type": "stream",
     "text": [
      "Index(['an', 'etrangers', 'part_impose', 'revenus_q1', 'revenus_med',\n",
      "       'revenus_q3', 'ecart_revenus', 'chom_tot', 'chom_tot_evol_5',\n",
      "       'chom_jeunes', 'chom_jeunes_evol_5', 'chom_adultes',\n",
      "       'chom_adultes_evol_5', 'chom_seniors', 'chom_seniors_evol_5', 'p_agri',\n",
      "       'p_commercants', 'p_cadres', 'p_intermed', 'p_employes', 'p_ouvriers',\n",
      "       'd_brevet', 'd_bep', 'd_bac', 'd_sup', 'circo_nuance_groupe',\n",
      "       'circo_bloc', 'circo_leg_meme_nuance', 'nb_candidats_meme_bloc',\n",
      "       'score_nuance_groupe_prec_leg', 'score_bloc_prec_leg', 'score_leg_exg',\n",
      "       'score_leg_g', 'score_leg_c', 'score_leg_d', 'score_leg_exd',\n",
      "       'circo_nuance_groupe_pres', 'circo_pres_meme_nuance',\n",
      "       'score_nuance_groupe_pres', 'score_bloc_pres', 'score_pres_exg',\n",
      "       'score_pres_g', 'score_pres_c', 'score_pres_d', 'score_pres_exd',\n",
      "       'score_candidat_prec_leg', 'depute_sortant', 'sexe', 'nuance_groupe',\n",
      "       'bloc', 'p_voix'],\n",
      "      dtype='object')\n",
      "(30565, 51)\n"
     ]
    }
   ],
   "source": [
    "# drop colonnes\n",
    "drop_list = ['c_dep', 'dep', 'circo', 'code', 'inscrits'] # données d'identification\n",
    "drop_list.extend(['circo_parti', 'circo_nuance', 'nom',\n",
    "                  'prenom', 'etiquette', 'nuance', 'voix', 'second_tour'])\n",
    "raw.drop(drop_list, axis=1, inplace=True)\n",
    "\n",
    "# drop lignes\n",
    "raw = raw[raw['an'] > 1997]\n",
    "\n",
    "print(raw.columns)\n",
    "print(raw.shape)"
   ]
  },
  {
   "cell_type": "code",
   "execution_count": 42,
   "metadata": {
    "collapsed": false,
    "deletable": true,
    "editable": true
   },
   "outputs": [
    {
     "data": {
      "text/html": [
       "<div>\n",
       "<table border=\"1\" class=\"dataframe\">\n",
       "  <thead>\n",
       "    <tr style=\"text-align: right;\">\n",
       "      <th></th>\n",
       "      <th>an</th>\n",
       "      <th>etrangers</th>\n",
       "      <th>part_impose</th>\n",
       "      <th>revenus_q1</th>\n",
       "      <th>revenus_med</th>\n",
       "      <th>revenus_q3</th>\n",
       "      <th>ecart_revenus</th>\n",
       "      <th>chom_tot</th>\n",
       "      <th>chom_tot_evol_5</th>\n",
       "      <th>chom_jeunes</th>\n",
       "      <th>...</th>\n",
       "      <th>score_pres_g</th>\n",
       "      <th>score_pres_c</th>\n",
       "      <th>score_pres_d</th>\n",
       "      <th>score_pres_exd</th>\n",
       "      <th>score_candidat_prec_leg</th>\n",
       "      <th>depute_sortant</th>\n",
       "      <th>sexe</th>\n",
       "      <th>nuance_groupe</th>\n",
       "      <th>bloc</th>\n",
       "      <th>p_voix</th>\n",
       "    </tr>\n",
       "  </thead>\n",
       "  <tbody>\n",
       "    <tr>\n",
       "      <th>0</th>\n",
       "      <td>2017</td>\n",
       "      <td>0.079252</td>\n",
       "      <td>0.622351</td>\n",
       "      <td>13515.653227</td>\n",
       "      <td>19274.362957</td>\n",
       "      <td>26052.233039</td>\n",
       "      <td>12536.579812</td>\n",
       "      <td>0.063</td>\n",
       "      <td>0.009</td>\n",
       "      <td>0.159</td>\n",
       "      <td>...</td>\n",
       "      <td>0.168572</td>\n",
       "      <td>0.174259</td>\n",
       "      <td>0.212527</td>\n",
       "      <td>0.19963</td>\n",
       "      <td>NaN</td>\n",
       "      <td>0.0</td>\n",
       "      <td>F</td>\n",
       "      <td>SOC</td>\n",
       "      <td>Gauche</td>\n",
       "      <td>NaN</td>\n",
       "    </tr>\n",
       "    <tr>\n",
       "      <th>1</th>\n",
       "      <td>2017</td>\n",
       "      <td>0.079252</td>\n",
       "      <td>0.622351</td>\n",
       "      <td>13515.653227</td>\n",
       "      <td>19274.362957</td>\n",
       "      <td>26052.233039</td>\n",
       "      <td>12536.579812</td>\n",
       "      <td>0.063</td>\n",
       "      <td>0.009</td>\n",
       "      <td>0.159</td>\n",
       "      <td>...</td>\n",
       "      <td>0.168572</td>\n",
       "      <td>0.174259</td>\n",
       "      <td>0.212527</td>\n",
       "      <td>0.19963</td>\n",
       "      <td>NaN</td>\n",
       "      <td>0.0</td>\n",
       "      <td>M</td>\n",
       "      <td>DIV</td>\n",
       "      <td>Divers</td>\n",
       "      <td>NaN</td>\n",
       "    </tr>\n",
       "    <tr>\n",
       "      <th>2</th>\n",
       "      <td>2017</td>\n",
       "      <td>0.079252</td>\n",
       "      <td>0.622351</td>\n",
       "      <td>13515.653227</td>\n",
       "      <td>19274.362957</td>\n",
       "      <td>26052.233039</td>\n",
       "      <td>12536.579812</td>\n",
       "      <td>0.063</td>\n",
       "      <td>0.009</td>\n",
       "      <td>0.159</td>\n",
       "      <td>...</td>\n",
       "      <td>0.168572</td>\n",
       "      <td>0.174259</td>\n",
       "      <td>0.212527</td>\n",
       "      <td>0.19963</td>\n",
       "      <td>0.224066</td>\n",
       "      <td>1.0</td>\n",
       "      <td>M</td>\n",
       "      <td>LR</td>\n",
       "      <td>Droite</td>\n",
       "      <td>NaN</td>\n",
       "    </tr>\n",
       "    <tr>\n",
       "      <th>3</th>\n",
       "      <td>2017</td>\n",
       "      <td>0.079252</td>\n",
       "      <td>0.622351</td>\n",
       "      <td>13515.653227</td>\n",
       "      <td>19274.362957</td>\n",
       "      <td>26052.233039</td>\n",
       "      <td>12536.579812</td>\n",
       "      <td>0.063</td>\n",
       "      <td>0.009</td>\n",
       "      <td>0.159</td>\n",
       "      <td>...</td>\n",
       "      <td>0.168572</td>\n",
       "      <td>0.174259</td>\n",
       "      <td>0.212527</td>\n",
       "      <td>0.19963</td>\n",
       "      <td>NaN</td>\n",
       "      <td>0.0</td>\n",
       "      <td>M</td>\n",
       "      <td>FN</td>\n",
       "      <td>Exdroite</td>\n",
       "      <td>NaN</td>\n",
       "    </tr>\n",
       "    <tr>\n",
       "      <th>4</th>\n",
       "      <td>2017</td>\n",
       "      <td>0.079252</td>\n",
       "      <td>0.622351</td>\n",
       "      <td>13515.653227</td>\n",
       "      <td>19274.362957</td>\n",
       "      <td>26052.233039</td>\n",
       "      <td>12536.579812</td>\n",
       "      <td>0.063</td>\n",
       "      <td>0.009</td>\n",
       "      <td>0.159</td>\n",
       "      <td>...</td>\n",
       "      <td>0.168572</td>\n",
       "      <td>0.174259</td>\n",
       "      <td>0.212527</td>\n",
       "      <td>0.19963</td>\n",
       "      <td>NaN</td>\n",
       "      <td>0.0</td>\n",
       "      <td>F</td>\n",
       "      <td>DIV</td>\n",
       "      <td>Divers</td>\n",
       "      <td>NaN</td>\n",
       "    </tr>\n",
       "  </tbody>\n",
       "</table>\n",
       "<p>5 rows × 51 columns</p>\n",
       "</div>"
      ],
      "text/plain": [
       "     an  etrangers  part_impose    revenus_q1   revenus_med    revenus_q3  \\\n",
       "0  2017   0.079252     0.622351  13515.653227  19274.362957  26052.233039   \n",
       "1  2017   0.079252     0.622351  13515.653227  19274.362957  26052.233039   \n",
       "2  2017   0.079252     0.622351  13515.653227  19274.362957  26052.233039   \n",
       "3  2017   0.079252     0.622351  13515.653227  19274.362957  26052.233039   \n",
       "4  2017   0.079252     0.622351  13515.653227  19274.362957  26052.233039   \n",
       "\n",
       "   ecart_revenus  chom_tot  chom_tot_evol_5  chom_jeunes   ...    \\\n",
       "0   12536.579812     0.063            0.009        0.159   ...     \n",
       "1   12536.579812     0.063            0.009        0.159   ...     \n",
       "2   12536.579812     0.063            0.009        0.159   ...     \n",
       "3   12536.579812     0.063            0.009        0.159   ...     \n",
       "4   12536.579812     0.063            0.009        0.159   ...     \n",
       "\n",
       "   score_pres_g  score_pres_c  score_pres_d  score_pres_exd  \\\n",
       "0      0.168572      0.174259      0.212527         0.19963   \n",
       "1      0.168572      0.174259      0.212527         0.19963   \n",
       "2      0.168572      0.174259      0.212527         0.19963   \n",
       "3      0.168572      0.174259      0.212527         0.19963   \n",
       "4      0.168572      0.174259      0.212527         0.19963   \n",
       "\n",
       "   score_candidat_prec_leg  depute_sortant  sexe  nuance_groupe      bloc  \\\n",
       "0                      NaN             0.0     F            SOC    Gauche   \n",
       "1                      NaN             0.0     M            DIV    Divers   \n",
       "2                 0.224066             1.0     M             LR    Droite   \n",
       "3                      NaN             0.0     M             FN  Exdroite   \n",
       "4                      NaN             0.0     F            DIV    Divers   \n",
       "\n",
       "   p_voix  \n",
       "0     NaN  \n",
       "1     NaN  \n",
       "2     NaN  \n",
       "3     NaN  \n",
       "4     NaN  \n",
       "\n",
       "[5 rows x 51 columns]"
      ]
     },
     "execution_count": 42,
     "metadata": {},
     "output_type": "execute_result"
    }
   ],
   "source": [
    "raw.head(5)"
   ]
  },
  {
   "cell_type": "markdown",
   "metadata": {
    "deletable": true,
    "editable": true
   },
   "source": [
    "#### Feature engineering"
   ]
  },
  {
   "cell_type": "markdown",
   "metadata": {},
   "source": [
    "#### Gestion des NaN"
   ]
  },
  {
   "cell_type": "code",
   "execution_count": 43,
   "metadata": {
    "collapsed": true
   },
   "outputs": [],
   "source": [
    "# Score du candidat aux législatives précédentes\n",
    "raw['score_candidat_prec_leg'] = raw['score_candidat_prec_leg'].fillna(0)"
   ]
  },
  {
   "cell_type": "code",
   "execution_count": 44,
   "metadata": {
    "collapsed": false,
    "deletable": true,
    "editable": true
   },
   "outputs": [
    {
     "name": "stdout",
     "output_type": "stream",
     "text": [
      "(30565, 51)\n",
      "an                                 0\n",
      "etrangers                        360\n",
      "part_impose                     1089\n",
      "revenus_q1                      1089\n",
      "revenus_med                     1089\n",
      "revenus_q3                      1089\n",
      "ecart_revenus                   1089\n",
      "chom_tot                         360\n",
      "chom_tot_evol_5                  360\n",
      "chom_jeunes                      360\n",
      "chom_jeunes_evol_5               360\n",
      "chom_adultes                     360\n",
      "chom_adultes_evol_5              360\n",
      "chom_seniors                     360\n",
      "chom_seniors_evol_5              360\n",
      "p_agri                           680\n",
      "p_commercants                    680\n",
      "p_cadres                         680\n",
      "p_intermed                       680\n",
      "p_employes                       680\n",
      "p_ouvriers                       680\n",
      "d_brevet                         680\n",
      "d_bep                            680\n",
      "d_bac                            680\n",
      "d_sup                            680\n",
      "circo_nuance_groupe                0\n",
      "circo_bloc                         0\n",
      "circo_leg_meme_nuance              0\n",
      "nb_candidats_meme_bloc             0\n",
      "score_nuance_groupe_prec_leg     185\n",
      "score_bloc_prec_leg              185\n",
      "score_leg_exg                    185\n",
      "score_leg_g                      185\n",
      "score_leg_c                      185\n",
      "score_leg_d                      185\n",
      "score_leg_exd                    185\n",
      "circo_nuance_groupe_pres           0\n",
      "circo_pres_meme_nuance             0\n",
      "score_nuance_groupe_pres           0\n",
      "score_bloc_pres                    0\n",
      "score_pres_exg                     0\n",
      "score_pres_g                       0\n",
      "score_pres_c                       0\n",
      "score_pres_d                       0\n",
      "score_pres_exd                     0\n",
      "score_candidat_prec_leg            0\n",
      "depute_sortant                     0\n",
      "sexe                               0\n",
      "nuance_groupe                      0\n",
      "bloc                               0\n",
      "p_voix                          7881\n",
      "dtype: int64\n"
     ]
    }
   ],
   "source": [
    "print(raw.shape)\n",
    "print(raw.isnull().sum())"
   ]
  },
  {
   "cell_type": "markdown",
   "metadata": {},
   "source": [
    "#### Dummies"
   ]
  },
  {
   "cell_type": "code",
   "execution_count": 45,
   "metadata": {
    "collapsed": false
   },
   "outputs": [],
   "source": [
    "raw_dummified = pd.get_dummies(\n",
    "    raw, columns=['circo_nuance_groupe','circo_bloc', 'sexe','nuance_groupe',\n",
    "                  'circo_nuance_groupe_pres', 'bloc'])"
   ]
  },
  {
   "cell_type": "markdown",
   "metadata": {
    "deletable": true,
    "editable": true
   },
   "source": [
    "#### Création des ensembles de train/validation/test"
   ]
  },
  {
   "cell_type": "code",
   "execution_count": 46,
   "metadata": {
    "collapsed": false
   },
   "outputs": [],
   "source": [
    "def train_val_test(df, year_for_validation):\n",
    "    return (df[(df.an != 2017) & (df.an != year_for_validation)].drop('an', axis=1),\n",
    "            df[df.an == year_for_validation].drop('an', axis=1),\n",
    "            df[df.an == 2017].drop('an', axis=1))"
   ]
  },
  {
   "cell_type": "code",
   "execution_count": 53,
   "metadata": {
    "collapsed": false
   },
   "outputs": [
    {
     "name": "stdout",
     "output_type": "stream",
     "text": [
      "(15704, 95) (6276, 95) (7881, 95)\n",
      "(15704,) (6276,) (7881,)\n"
     ]
    }
   ],
   "source": [
    "X_train, X_val, X_test = train_val_test(raw_dummified, 2012)\n",
    "\n",
    "# retrait des lignes contenant les N/A\n",
    "X_train = X_train.dropna(how='any')\n",
    "X_val = X_val.dropna(how='any')\n",
    "\n",
    "# Séparation labels et features\n",
    "y_train, y_val, y_test = X_train.p_voix, X_val.p_voix, X_test.p_voix\n",
    "X_train = X_train.drop('p_voix', axis=1)\n",
    "X_val = X_val.drop('p_voix', axis=1)\n",
    "X_test = X_test.drop('p_voix', axis=1)\n",
    "\n",
    "print(X_train.shape, X_val.shape, X_test.shape)\n",
    "print(y_train.shape, y_val.shape, y_test.shape)"
   ]
  },
  {
   "cell_type": "code",
   "execution_count": 54,
   "metadata": {
    "collapsed": false
   },
   "outputs": [
    {
     "data": {
      "text/plain": [
       "Index(['etrangers', 'part_impose', 'revenus_q1', 'revenus_med', 'revenus_q3',\n",
       "       'ecart_revenus', 'chom_tot', 'chom_tot_evol_5', 'chom_jeunes',\n",
       "       'chom_jeunes_evol_5', 'chom_adultes', 'chom_adultes_evol_5',\n",
       "       'chom_seniors', 'chom_seniors_evol_5', 'p_agri', 'p_commercants',\n",
       "       'p_cadres', 'p_intermed', 'p_employes', 'p_ouvriers', 'd_brevet',\n",
       "       'd_bep', 'd_bac', 'd_sup', 'circo_leg_meme_nuance',\n",
       "       'nb_candidats_meme_bloc', 'score_nuance_groupe_prec_leg',\n",
       "       'score_bloc_prec_leg', 'score_leg_exg', 'score_leg_g', 'score_leg_c',\n",
       "       'score_leg_d', 'score_leg_exd', 'circo_pres_meme_nuance',\n",
       "       'score_nuance_groupe_pres', 'score_bloc_pres', 'score_pres_exg',\n",
       "       'score_pres_g', 'score_pres_c', 'score_pres_d', 'score_pres_exd',\n",
       "       'score_candidat_prec_leg', 'depute_sortant', 'circo_nuance_groupe_COM',\n",
       "       'circo_nuance_groupe_DIV', 'circo_nuance_groupe_DLF',\n",
       "       'circo_nuance_groupe_DVD', 'circo_nuance_groupe_DVG',\n",
       "       'circo_nuance_groupe_ECO', 'circo_nuance_groupe_EXD',\n",
       "       'circo_nuance_groupe_FI', 'circo_nuance_groupe_FN',\n",
       "       'circo_nuance_groupe_LR', 'circo_nuance_groupe_MDM',\n",
       "       'circo_nuance_groupe_RDG', 'circo_nuance_groupe_SOC',\n",
       "       'circo_nuance_groupe_UDI', 'circo_bloc_Centre', 'circo_bloc_Divers',\n",
       "       'circo_bloc_Droite', 'circo_bloc_Exdroite', 'circo_bloc_Exgauche',\n",
       "       'circo_bloc_Gauche', 'sexe_F', 'sexe_M', 'nuance_groupe_COM',\n",
       "       'nuance_groupe_DIV', 'nuance_groupe_DLF', 'nuance_groupe_DVD',\n",
       "       'nuance_groupe_DVG', 'nuance_groupe_ECO', 'nuance_groupe_EXD',\n",
       "       'nuance_groupe_EXG', 'nuance_groupe_FI', 'nuance_groupe_FN',\n",
       "       'nuance_groupe_LR', 'nuance_groupe_MDM', 'nuance_groupe_RDG',\n",
       "       'nuance_groupe_REM', 'nuance_groupe_SOC', 'nuance_groupe_UDI',\n",
       "       'circo_nuance_groupe_pres_DIV', 'circo_nuance_groupe_pres_FI',\n",
       "       'circo_nuance_groupe_pres_FN', 'circo_nuance_groupe_pres_LR',\n",
       "       'circo_nuance_groupe_pres_MDM', 'circo_nuance_groupe_pres_RDG',\n",
       "       'circo_nuance_groupe_pres_REM', 'circo_nuance_groupe_pres_SOC',\n",
       "       'bloc_Centre', 'bloc_Divers', 'bloc_Droite', 'bloc_Exdroite',\n",
       "       'bloc_Exgauche', 'bloc_Gauche'],\n",
       "      dtype='object')"
      ]
     },
     "execution_count": 54,
     "metadata": {},
     "output_type": "execute_result"
    }
   ],
   "source": [
    "X_train.columns"
   ]
  },
  {
   "cell_type": "code",
   "execution_count": 55,
   "metadata": {
    "collapsed": false
   },
   "outputs": [],
   "source": [
    "# imp = Imputer(missing_values='NaN', strategy='mean', axis=0)\n",
    "# imp = imp.fit(X_train)# Impute our data, then train\n",
    "# X_train_imp = imp.transform(X_train)"
   ]
  },
  {
   "cell_type": "code",
   "execution_count": 56,
   "metadata": {
    "collapsed": true
   },
   "outputs": [],
   "source": [
    "# imp = Imputer(missing_values='NaN', strategy='mean', axis=0)\n",
    "# imp = imp.fit(X_test)# Impute our data, then train\n",
    "# X_test_imp = imp.transform(X_test)"
   ]
  },
  {
   "cell_type": "code",
   "execution_count": 60,
   "metadata": {
    "collapsed": false,
    "deletable": true,
    "editable": true
   },
   "outputs": [
    {
     "data": {
      "text/plain": [
       "RandomForestRegressor(bootstrap=True, criterion='mse', max_depth=None,\n",
       "           max_features='auto', max_leaf_nodes=None,\n",
       "           min_impurity_split=1e-07, min_samples_leaf=1,\n",
       "           min_samples_split=2, min_weight_fraction_leaf=0.0,\n",
       "           n_estimators=500, n_jobs=-1, oob_score=False, random_state=None,\n",
       "           verbose=0, warm_start=False)"
      ]
     },
     "execution_count": 60,
     "metadata": {},
     "output_type": "execute_result"
    }
   ],
   "source": [
    "rf = RandomForestRegressor(n_jobs=-1, n_estimators=500)\n",
    "rf.fit(X_train, y_train)"
   ]
  },
  {
   "cell_type": "code",
   "execution_count": 61,
   "metadata": {
    "collapsed": false
   },
   "outputs": [
    {
     "data": {
      "text/plain": [
       "0.028195012336291729"
      ]
     },
     "execution_count": 61,
     "metadata": {},
     "output_type": "execute_result"
    }
   ],
   "source": [
    "y_pred = rf.predict(X_val)\n",
    "mean_absolute_error(y_val, y_pred)"
   ]
  },
  {
   "cell_type": "code",
   "execution_count": 62,
   "metadata": {
    "collapsed": false
   },
   "outputs": [
    {
     "data": {
      "text/plain": [
       "[(33.627537032907611, 'score_candidat_prec_leg'),\n",
       " (21.700574523561329, 'score_nuance_groupe_pres'),\n",
       " (13.352540611560363, 'nuance_groupe_LR'),\n",
       " (5.2977284001199223, 'nuance_groupe_SOC'),\n",
       " (5.0304768354251364, 'score_bloc_prec_leg'),\n",
       " (3.6623374238290007, 'bloc_Droite'),\n",
       " (2.8866840571659438, 'score_nuance_groupe_prec_leg'),\n",
       " (1.7488126274541993, 'depute_sortant'),\n",
       " (0.85765676093044996, 'score_bloc_pres'),\n",
       " (0.57623091847726959, 'nuance_groupe_RDG'),\n",
       " (0.52030246425326676, 'score_leg_g'),\n",
       " (0.50223459789529468, 'score_pres_d'),\n",
       " (0.49617750343659328, 'score_pres_exg'),\n",
       " (0.39548873413124896, 'nb_candidats_meme_bloc'),\n",
       " (0.38449399545601037, 'score_pres_g'),\n",
       " (0.34596282768875003, 'bloc_Centre'),\n",
       " (0.34364983113172837, 'score_leg_d'),\n",
       " (0.34274968522555105, 'score_leg_exg'),\n",
       " (0.34248801934126055, 'score_pres_exd'),\n",
       " (0.31663691233924601, 'circo_pres_meme_nuance'),\n",
       " (0.31566561510993796, 'nuance_groupe_MDM'),\n",
       " (0.29979285481756585, 'score_pres_c'),\n",
       " (0.29772732204164021, 'score_leg_exd'),\n",
       " (0.28814997665900888, 'score_leg_c'),\n",
       " (0.28286029025565035, 'p_commercants'),\n",
       " (0.27889540591887707, 'revenus_q1'),\n",
       " (0.27009050509984722, 'ecart_revenus'),\n",
       " (0.26545336541157039, 'chom_jeunes'),\n",
       " (0.25641804019527564, 'd_bac'),\n",
       " (0.23413298372153371, 'chom_jeunes_evol_5'),\n",
       " (0.21347040657341737, 'revenus_q3'),\n",
       " (0.21306136196184289, 'part_impose'),\n",
       " (0.198030402133268, 'sexe_F'),\n",
       " (0.19118669514209616, 'p_employes'),\n",
       " (0.18766562892879932, 'p_agri'),\n",
       " (0.18358330381850835, 'sexe_M'),\n",
       " (0.18098922758064392, 'd_brevet'),\n",
       " (0.17997606061163027, 'revenus_med'),\n",
       " (0.17069385264639764, 'etrangers'),\n",
       " (0.16717492030379388, 'circo_bloc_Droite'),\n",
       " (0.16251150344314066, 'p_ouvriers'),\n",
       " (0.15570567623061543, 'chom_seniors_evol_5'),\n",
       " (0.15477389017565107, 'circo_bloc_Gauche'),\n",
       " (0.14687879736424767, 'chom_seniors'),\n",
       " (0.1431042221373256, 'circo_nuance_groupe_pres_LR'),\n",
       " (0.13520781446813243, 'd_bep'),\n",
       " (0.13481884513234688, 'chom_adultes_evol_5'),\n",
       " (0.13364258977208188, 'chom_tot_evol_5'),\n",
       " (0.13067520797760337, 'p_intermed'),\n",
       " (0.12360477390129143, 'chom_adultes'),\n",
       " (0.11861023210842081, 'chom_tot'),\n",
       " (0.11509462035871934, 'p_cadres'),\n",
       " (0.10521498334790523, 'nuance_groupe_COM'),\n",
       " (0.097488127565523483, 'd_sup'),\n",
       " (0.084792475603599773, 'circo_leg_meme_nuance'),\n",
       " (0.082184121535470792, 'bloc_Gauche'),\n",
       " (0.075984658806168101, 'nuance_groupe_DVD'),\n",
       " (0.064093419992125089, 'circo_nuance_groupe_pres_SOC'),\n",
       " (0.061439796891992048, 'nuance_groupe_DVG'),\n",
       " (0.057352939339214148, 'nuance_groupe_ECO'),\n",
       " (0.042568044339415717, 'circo_nuance_groupe_LR'),\n",
       " (0.029866641882790975, 'circo_nuance_groupe_MDM'),\n",
       " (0.026822648899663258, 'nuance_groupe_FN'),\n",
       " (0.023889533835129054, 'circo_bloc_Centre'),\n",
       " (0.022190360582493997, 'bloc_Exdroite'),\n",
       " (0.021505276748484951, 'circo_nuance_groupe_RDG'),\n",
       " (0.020381568118366281, 'circo_nuance_groupe_SOC'),\n",
       " (0.019246737708457619, 'bloc_Exgauche'),\n",
       " (0.015825520942593086, 'circo_bloc_Divers'),\n",
       " (0.014928466336270221, 'circo_nuance_groupe_DIV'),\n",
       " (0.013669213216571803, 'nuance_groupe_EXG'),\n",
       " (0.012869496044879978, 'circo_nuance_groupe_pres_FN'),\n",
       " (0.0097603777787325166, 'circo_nuance_groupe_DVG'),\n",
       " (0.0080778941349854711, 'nuance_groupe_EXD'),\n",
       " (0.0073249279149260162, 'circo_nuance_groupe_COM'),\n",
       " (0.0066689467418423898, 'circo_bloc_Exgauche'),\n",
       " (0.0064945024885860068, 'circo_nuance_groupe_ECO'),\n",
       " (0.0049583554501455643, 'circo_nuance_groupe_DVD'),\n",
       " (0.001158559049431048, 'circo_nuance_groupe_pres_MDM'),\n",
       " (0.00090831505464360543, 'bloc_Divers'),\n",
       " (0.00085536022513098937, 'nuance_groupe_DIV'),\n",
       " (0.00064165144084626913, 'nuance_groupe_DLF'),\n",
       " (0.00035714482762922421, 'circo_nuance_groupe_pres_DIV'),\n",
       " (4.1878299649257638e-05, 'circo_nuance_groupe_FN'),\n",
       " (2.7900525293587972e-05, 'circo_bloc_Exdroite'),\n",
       " (0.0, 'nuance_groupe_UDI'),\n",
       " (0.0, 'nuance_groupe_REM'),\n",
       " (0.0, 'nuance_groupe_FI'),\n",
       " (0.0, 'circo_nuance_groupe_pres_REM'),\n",
       " (0.0, 'circo_nuance_groupe_pres_RDG'),\n",
       " (0.0, 'circo_nuance_groupe_pres_FI'),\n",
       " (0.0, 'circo_nuance_groupe_UDI'),\n",
       " (0.0, 'circo_nuance_groupe_FI'),\n",
       " (0.0, 'circo_nuance_groupe_EXD'),\n",
       " (0.0, 'circo_nuance_groupe_DLF')]"
      ]
     },
     "execution_count": 62,
     "metadata": {},
     "output_type": "execute_result"
    }
   ],
   "source": [
    "sorted(list(zip(rf.feature_importances_*100, X_train.columns)),reverse=True)"
   ]
  },
  {
   "cell_type": "code",
   "execution_count": 63,
   "metadata": {
    "collapsed": false
   },
   "outputs": [
    {
     "name": "stdout",
     "output_type": "stream",
     "text": [
      "[ 0.02331032  0.02787863  0.01341656  0.27024979  0.17158898  0.04539962\n",
      "  0.00770905  0.00770905  0.04311651  0.02331032] 7881    0.014684\n",
      "7882    0.003744\n",
      "7883    0.019224\n",
      "7884    0.224066\n",
      "7885    0.231604\n",
      "7886    0.002782\n",
      "7887    0.002163\n",
      "7888    0.001783\n",
      "7889    0.092201\n",
      "7890    0.002858\n",
      "Name: p_voix, dtype: float64\n"
     ]
    }
   ],
   "source": [
    "print(y_pred[:10], y_val[:10])"
   ]
  },
  {
   "cell_type": "code",
   "execution_count": null,
   "metadata": {
    "collapsed": true
   },
   "outputs": [],
   "source": []
  }
 ],
 "metadata": {
  "anaconda-cloud": {},
  "kernelspec": {
   "display_name": "Python [default]",
   "language": "python",
   "name": "python3"
  },
  "language_info": {
   "codemirror_mode": {
    "name": "ipython",
    "version": 3
   },
   "file_extension": ".py",
   "mimetype": "text/x-python",
   "name": "python",
   "nbconvert_exporter": "python",
   "pygments_lexer": "ipython3",
   "version": "3.5.2"
  }
 },
 "nbformat": 4,
 "nbformat_minor": 1
}
