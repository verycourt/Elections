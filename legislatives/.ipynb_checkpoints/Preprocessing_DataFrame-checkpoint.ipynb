{
 "cells": [
  {
   "cell_type": "markdown",
   "metadata": {},
   "source": [
    "#### To do\n",
    "Analyse des données manquantes :\n",
    "- etrangers : Français de l'étranger => moyenne des étrangers ailleurs ?\n",
    "- part des ménages imposés et quartiles de revenu : Français de l'étranger et DOM (à part Réunion et Martinique) => utiliser les données de la Réunion et de la Martinique pour les autres DOM ? et moyenne nationale pour les français de l'étranger ?\n",
    "- chômage : Français de l'étranger => utiliser moyenne nationale ?\n",
    "- diplômes et CSP : Français de l'étranger, petits DOM (Wallis et Futuna, Nouvelle Calédonie, etc...) => utiliser moyenne des autres DOM ? et moyenne nationale pour les français de l'étranger ?\n",
    "\n",
    "Nouvelles features :\n",
    "- Données géo par Dept (dummy sur position Littoral, métropole, péri-urbain à établir par la densité de pop, est-ouest, Nord-Sud)"
   ]
  },
  {
   "cell_type": "code",
   "execution_count": 112,
   "metadata": {
    "collapsed": true,
    "deletable": true,
    "editable": true
   },
   "outputs": [],
   "source": [
    "import pandas as pd\n",
    "import numpy as np\n",
    "from matplotlib import pyplot as plt\n",
    "from sklearn.ensemble import RandomForestRegressor\n",
    "from sklearn.preprocessing import Imputer, StandardScaler\n",
    "from sklearn.metrics import mean_absolute_error, mean_squared_error"
   ]
  },
  {
   "cell_type": "markdown",
   "metadata": {
    "deletable": true,
    "editable": true
   },
   "source": [
    "#### Retrait des colonnes et lignes inutiles / sélection de features"
   ]
  },
  {
   "cell_type": "code",
   "execution_count": 113,
   "metadata": {
    "collapsed": false,
    "deletable": true,
    "editable": true
   },
   "outputs": [
    {
     "name": "stdout",
     "output_type": "stream",
     "text": [
      "Taille initiale du DF : (36919, 69)\n",
      "Index(['an', 'etrangers', 'part_impose', 'revenus_q1', 'revenus_med',\n",
      "       'revenus_q3', 'ecart_revenus', 'chom_tot', 'chom_tot_evol_5',\n",
      "       'chom_jeunes', 'chom_jeunes_evol_5', 'chom_adultes',\n",
      "       'chom_adultes_evol_5', 'chom_seniors', 'chom_seniors_evol_5', 'p_agri',\n",
      "       'p_commercants', 'p_cadres', 'p_intermed', 'p_employes', 'p_ouvriers',\n",
      "       'd_brevet', 'd_bep', 'd_bac', 'd_sup', 'circo_nuance_groupe',\n",
      "       'circo_bloc', 'circo_leg_meme_nuance', 'nb_candidats_meme_bloc',\n",
      "       'score_nuance_groupe_prec_leg', 'score_bloc_prec_leg', 'taux_vote_leg',\n",
      "       'score_leg_exg', 'score_leg_g', 'score_leg_c', 'score_leg_d',\n",
      "       'score_leg_exd', 'score_leg_div', 'circo_nuance_groupe_pres',\n",
      "       'circo_pres_meme_nuance', 'circo_meme_nuance_president',\n",
      "       'score_nuance_groupe_pres', 'score_bloc_pres', 'taux_vote_pres',\n",
      "       'score_pres_exg', 'score_pres_g', 'score_pres_c', 'score_pres_d',\n",
      "       'score_pres_exd', 'score_pres_div', 'score_candidat_prec_leg',\n",
      "       'depute_sortant', 'sexe', 'nuance_groupe', 'bloc', 'p_voix'],\n",
      "      dtype='object')\n",
      "Taille du DF après retrait de 1997 et des colonnes inutiles : (30565, 56)\n"
     ]
    }
   ],
   "source": [
    "# load data\n",
    "raw = pd.read_excel('data/dataframe_elections.xlsx')\n",
    "print('Taille initiale du DF :', raw.shape)\n",
    "\n",
    "# drop lignes\n",
    "raw = raw[raw['an'] > 1997]\n",
    "\n",
    "# Données d'identification\n",
    "id_list = ['an', 'code', 'nom', 'prenom', 'nuance_groupe', 'second_tour']\n",
    "df_id = raw[id_list]\n",
    "\n",
    "# drop colonnes\n",
    "drop_list = ['c_dep', 'dep', 'circo', 'code', 'inscrits', 'circo_parti', 'circo_nuance',\n",
    "             'nom', 'prenom', 'etiquette', 'nuance', 'voix', 'second_tour']\n",
    "raw = raw.drop(drop_list, axis=1)\n",
    "\n",
    "print(raw.columns)\n",
    "print('Taille du DF après retrait de 1997 et des colonnes inutiles :', raw.shape)"
   ]
  },
  {
   "cell_type": "markdown",
   "metadata": {
    "deletable": true,
    "editable": true
   },
   "source": [
    "### Feature engineering"
   ]
  },
  {
   "cell_type": "markdown",
   "metadata": {},
   "source": [
    "#### Retrait des features qui dégradent le modèle"
   ]
  },
  {
   "cell_type": "code",
   "execution_count": 174,
   "metadata": {
    "collapsed": true
   },
   "outputs": [],
   "source": [
    "keep_list = ['an', 'p_voix'] # à garder obligatoirement pour identifier les lignes et créer les labels\n",
    "keep_list.extend(['part_impose', 'chom_tot',\n",
    "                  'p_agri', 'p_ouvriers', 'd_brevet','d_sup',\n",
    "                  'circo_leg_meme_nuance', 'circo_meme_nuance_president', 'circo_pres_meme_nuance',\n",
    "                  'nb_candidats_meme_bloc',\n",
    "                  #'score_nuance_groupe_prec_leg', 'score_bloc_prec_leg',\n",
    "                  'score_nuance_groupe_pres',\n",
    "                  #'score_bloc_pres',\n",
    "                  'score_candidat_prec_leg',\n",
    "                  'taux_vote_pres', 'taux_vote_leg',\n",
    "                  'depute_sortant', 'sexe'])\n",
    "\n",
    "df = raw.drop([col for col in raw.columns if col not in keep_list], axis=1)"
   ]
  },
  {
   "cell_type": "code",
   "execution_count": 175,
   "metadata": {
    "collapsed": false
   },
   "outputs": [
    {
     "name": "stdout",
     "output_type": "stream",
     "text": [
      "Index(['an', 'part_impose', 'chom_tot', 'p_agri', 'p_ouvriers', 'd_brevet',\n",
      "       'd_sup', 'circo_leg_meme_nuance', 'nb_candidats_meme_bloc',\n",
      "       'taux_vote_leg', 'circo_pres_meme_nuance',\n",
      "       'circo_meme_nuance_president', 'score_nuance_groupe_pres',\n",
      "       'taux_vote_pres', 'score_candidat_prec_leg', 'depute_sortant', 'sexe',\n",
      "       'p_voix'],\n",
      "      dtype='object')\n"
     ]
    }
   ],
   "source": [
    "print(df.columns)"
   ]
  },
  {
   "cell_type": "markdown",
   "metadata": {},
   "source": [
    "#### Gestion des NaN"
   ]
  },
  {
   "cell_type": "code",
   "execution_count": 176,
   "metadata": {
    "collapsed": false
   },
   "outputs": [],
   "source": [
    "# Score du candidat aux législatives précédentes\n",
    "df['score_candidat_prec_leg'] = df['score_candidat_prec_leg'].fillna(0.05)\n",
    "#raw['score_candidat_prec_leg'] = raw['score_candidat_prec_leg'].fillna(value=raw['score_candidat_prec_leg'].mean())"
   ]
  },
  {
   "cell_type": "code",
   "execution_count": 177,
   "metadata": {
    "collapsed": false,
    "deletable": true,
    "editable": true
   },
   "outputs": [
    {
     "name": "stdout",
     "output_type": "stream",
     "text": [
      "(30565, 18)\n",
      "an                                0\n",
      "part_impose                    1089\n",
      "chom_tot                        360\n",
      "p_agri                          680\n",
      "p_ouvriers                      680\n",
      "d_brevet                        680\n",
      "d_sup                           680\n",
      "circo_leg_meme_nuance             0\n",
      "nb_candidats_meme_bloc            0\n",
      "taux_vote_leg                   185\n",
      "circo_pres_meme_nuance            0\n",
      "circo_meme_nuance_president       0\n",
      "score_nuance_groupe_pres          0\n",
      "taux_vote_pres                    0\n",
      "score_candidat_prec_leg           0\n",
      "depute_sortant                    0\n",
      "sexe                              0\n",
      "p_voix                         7881\n",
      "dtype: int64\n"
     ]
    }
   ],
   "source": [
    "print(df.shape)\n",
    "print(df.isnull().sum())"
   ]
  },
  {
   "cell_type": "markdown",
   "metadata": {
    "deletable": true,
    "editable": true
   },
   "source": [
    "#### Création des ensembles de train/validation/test"
   ]
  },
  {
   "cell_type": "code",
   "execution_count": 178,
   "metadata": {
    "collapsed": false
   },
   "outputs": [],
   "source": [
    "def train_val_splits(df, year_for_validation):\n",
    "    df_train = df[(df.an != 2017) & (df.an != year_for_validation)].dropna(how='any')\n",
    "    y_train = df_train.p_voix\n",
    "    X_train = df_train.drop(['an', 'p_voix'], axis=1)\n",
    "    \n",
    "    df_val = df[df.an == year_for_validation].dropna(how='any')\n",
    "    y_val = df_val.p_voix\n",
    "    X_val = df_val.drop(['an', 'p_voix'], axis=1)\n",
    "    \n",
    "    return X_train, X_val, y_train, y_val"
   ]
  },
  {
   "cell_type": "code",
   "execution_count": 179,
   "metadata": {
    "collapsed": false
   },
   "outputs": [
    {
     "name": "stdout",
     "output_type": "stream",
     "text": [
      "['part_impose', 'chom_tot', 'p_agri', 'p_ouvriers', 'd_brevet', 'd_sup', 'taux_vote_leg', 'score_nuance_groupe_pres', 'taux_vote_pres', 'score_candidat_prec_leg']\n",
      "(15704, 16) (6276, 16)\n",
      "(15704,) (6276,)\n"
     ]
    }
   ],
   "source": [
    "# Transformation des variables dummies\n",
    "dummies_list = ['circo_nuance_groupe','circo_bloc', 'sexe','nuance_groupe',\n",
    "                'circo_nuance_groupe_pres', 'circo_pres_meme_nuance',\n",
    "                'circo_meme_nuance_president','bloc', 'an', 'p_voix',\n",
    "                'circo_leg_meme_nuance', 'depute_sortant', 'nb_candidats_meme_bloc']\n",
    "scale_list = [col for col in df.columns if col not in dummies_list]\n",
    "print(scale_list)\n",
    "\n",
    "df_dummified = pd.get_dummies(df, drop_first=True)\n",
    "X_train, X_val, y_train, y_val = train_val_splits(df_dummified, 2012)\n",
    "\n",
    "# Normalisation du dataframe\n",
    "scaler = StandardScaler()\n",
    "X_train[scale_list] = scaler.fit_transform(X_train[scale_list])\n",
    "X_val[scale_list] = scaler.transform(X_val[scale_list])\n",
    "\n",
    "print(X_train.shape, X_val.shape)\n",
    "print(y_train.shape, y_val.shape)"
   ]
  },
  {
   "cell_type": "markdown",
   "metadata": {},
   "source": [
    "#### Exploration"
   ]
  },
  {
   "cell_type": "code",
   "execution_count": 180,
   "metadata": {
    "collapsed": false
   },
   "outputs": [
    {
     "data": {
      "text/html": [
       "<div>\n",
       "<table border=\"1\" class=\"dataframe\">\n",
       "  <thead>\n",
       "    <tr style=\"text-align: right;\">\n",
       "      <th></th>\n",
       "      <th>part_impose</th>\n",
       "      <th>chom_tot</th>\n",
       "      <th>p_agri</th>\n",
       "      <th>p_ouvriers</th>\n",
       "      <th>d_brevet</th>\n",
       "      <th>d_sup</th>\n",
       "      <th>circo_leg_meme_nuance</th>\n",
       "      <th>nb_candidats_meme_bloc</th>\n",
       "      <th>taux_vote_leg</th>\n",
       "      <th>circo_pres_meme_nuance</th>\n",
       "      <th>circo_meme_nuance_president</th>\n",
       "      <th>score_nuance_groupe_pres</th>\n",
       "      <th>taux_vote_pres</th>\n",
       "      <th>score_candidat_prec_leg</th>\n",
       "      <th>depute_sortant</th>\n",
       "      <th>sexe_M</th>\n",
       "    </tr>\n",
       "  </thead>\n",
       "  <tbody>\n",
       "    <tr>\n",
       "      <th>14488</th>\n",
       "      <td>0.135974</td>\n",
       "      <td>-1.195229</td>\n",
       "      <td>-0.396878</td>\n",
       "      <td>0.202611</td>\n",
       "      <td>-0.775392</td>\n",
       "      <td>0.188107</td>\n",
       "      <td>0.0</td>\n",
       "      <td>3.0</td>\n",
       "      <td>-0.428999</td>\n",
       "      <td>0.0</td>\n",
       "      <td>0.0</td>\n",
       "      <td>-0.714429</td>\n",
       "      <td>1.205046</td>\n",
       "      <td>-0.188453</td>\n",
       "      <td>0.0</td>\n",
       "      <td>1</td>\n",
       "    </tr>\n",
       "    <tr>\n",
       "      <th>14489</th>\n",
       "      <td>0.135974</td>\n",
       "      <td>-1.195229</td>\n",
       "      <td>-0.396878</td>\n",
       "      <td>0.202611</td>\n",
       "      <td>-0.775392</td>\n",
       "      <td>0.188107</td>\n",
       "      <td>1.0</td>\n",
       "      <td>2.0</td>\n",
       "      <td>-0.428999</td>\n",
       "      <td>1.0</td>\n",
       "      <td>1.0</td>\n",
       "      <td>3.426466</td>\n",
       "      <td>1.205046</td>\n",
       "      <td>-0.188453</td>\n",
       "      <td>0.0</td>\n",
       "      <td>1</td>\n",
       "    </tr>\n",
       "    <tr>\n",
       "      <th>14490</th>\n",
       "      <td>0.135974</td>\n",
       "      <td>-1.195229</td>\n",
       "      <td>-0.396878</td>\n",
       "      <td>0.202611</td>\n",
       "      <td>-0.775392</td>\n",
       "      <td>0.188107</td>\n",
       "      <td>0.0</td>\n",
       "      <td>1.0</td>\n",
       "      <td>-0.428999</td>\n",
       "      <td>0.0</td>\n",
       "      <td>0.0</td>\n",
       "      <td>0.530380</td>\n",
       "      <td>1.205046</td>\n",
       "      <td>-0.188453</td>\n",
       "      <td>0.0</td>\n",
       "      <td>0</td>\n",
       "    </tr>\n",
       "    <tr>\n",
       "      <th>14491</th>\n",
       "      <td>0.135974</td>\n",
       "      <td>-1.195229</td>\n",
       "      <td>-0.396878</td>\n",
       "      <td>0.202611</td>\n",
       "      <td>-0.775392</td>\n",
       "      <td>0.188107</td>\n",
       "      <td>0.0</td>\n",
       "      <td>3.0</td>\n",
       "      <td>-0.428999</td>\n",
       "      <td>0.0</td>\n",
       "      <td>0.0</td>\n",
       "      <td>2.039692</td>\n",
       "      <td>1.205046</td>\n",
       "      <td>-0.188453</td>\n",
       "      <td>0.0</td>\n",
       "      <td>1</td>\n",
       "    </tr>\n",
       "    <tr>\n",
       "      <th>14492</th>\n",
       "      <td>0.135974</td>\n",
       "      <td>-1.195229</td>\n",
       "      <td>-0.396878</td>\n",
       "      <td>0.202611</td>\n",
       "      <td>-0.775392</td>\n",
       "      <td>0.188107</td>\n",
       "      <td>0.0</td>\n",
       "      <td>3.0</td>\n",
       "      <td>-0.428999</td>\n",
       "      <td>0.0</td>\n",
       "      <td>0.0</td>\n",
       "      <td>-0.494757</td>\n",
       "      <td>1.205046</td>\n",
       "      <td>-0.188453</td>\n",
       "      <td>0.0</td>\n",
       "      <td>0</td>\n",
       "    </tr>\n",
       "  </tbody>\n",
       "</table>\n",
       "</div>"
      ],
      "text/plain": [
       "       part_impose  chom_tot    p_agri  p_ouvriers  d_brevet     d_sup  \\\n",
       "14488     0.135974 -1.195229 -0.396878    0.202611 -0.775392  0.188107   \n",
       "14489     0.135974 -1.195229 -0.396878    0.202611 -0.775392  0.188107   \n",
       "14490     0.135974 -1.195229 -0.396878    0.202611 -0.775392  0.188107   \n",
       "14491     0.135974 -1.195229 -0.396878    0.202611 -0.775392  0.188107   \n",
       "14492     0.135974 -1.195229 -0.396878    0.202611 -0.775392  0.188107   \n",
       "\n",
       "       circo_leg_meme_nuance  nb_candidats_meme_bloc  taux_vote_leg  \\\n",
       "14488                    0.0                     3.0      -0.428999   \n",
       "14489                    1.0                     2.0      -0.428999   \n",
       "14490                    0.0                     1.0      -0.428999   \n",
       "14491                    0.0                     3.0      -0.428999   \n",
       "14492                    0.0                     3.0      -0.428999   \n",
       "\n",
       "       circo_pres_meme_nuance  circo_meme_nuance_president  \\\n",
       "14488                     0.0                          0.0   \n",
       "14489                     1.0                          1.0   \n",
       "14490                     0.0                          0.0   \n",
       "14491                     0.0                          0.0   \n",
       "14492                     0.0                          0.0   \n",
       "\n",
       "       score_nuance_groupe_pres  taux_vote_pres  score_candidat_prec_leg  \\\n",
       "14488                 -0.714429        1.205046                -0.188453   \n",
       "14489                  3.426466        1.205046                -0.188453   \n",
       "14490                  0.530380        1.205046                -0.188453   \n",
       "14491                  2.039692        1.205046                -0.188453   \n",
       "14492                 -0.494757        1.205046                -0.188453   \n",
       "\n",
       "       depute_sortant  sexe_M  \n",
       "14488             0.0       1  \n",
       "14489             0.0       1  \n",
       "14490             0.0       0  \n",
       "14491             0.0       1  \n",
       "14492             0.0       0  "
      ]
     },
     "execution_count": 180,
     "metadata": {},
     "output_type": "execute_result"
    }
   ],
   "source": [
    "X_train.head(5)"
   ]
  },
  {
   "cell_type": "code",
   "execution_count": 181,
   "metadata": {
    "collapsed": false
   },
   "outputs": [
    {
     "data": {
      "text/html": [
       "<div>\n",
       "<table border=\"1\" class=\"dataframe\">\n",
       "  <thead>\n",
       "    <tr style=\"text-align: right;\">\n",
       "      <th></th>\n",
       "      <th>part_impose</th>\n",
       "      <th>chom_tot</th>\n",
       "      <th>p_agri</th>\n",
       "      <th>p_ouvriers</th>\n",
       "      <th>d_brevet</th>\n",
       "      <th>d_sup</th>\n",
       "      <th>circo_leg_meme_nuance</th>\n",
       "      <th>nb_candidats_meme_bloc</th>\n",
       "      <th>taux_vote_leg</th>\n",
       "      <th>circo_pres_meme_nuance</th>\n",
       "      <th>circo_meme_nuance_president</th>\n",
       "      <th>score_nuance_groupe_pres</th>\n",
       "      <th>taux_vote_pres</th>\n",
       "      <th>score_candidat_prec_leg</th>\n",
       "      <th>depute_sortant</th>\n",
       "      <th>sexe_M</th>\n",
       "    </tr>\n",
       "  </thead>\n",
       "  <tbody>\n",
       "    <tr>\n",
       "      <th>7881</th>\n",
       "      <td>0.121356</td>\n",
       "      <td>-0.797027</td>\n",
       "      <td>-0.489147</td>\n",
       "      <td>0.010294</td>\n",
       "      <td>-1.424594</td>\n",
       "      <td>0.671551</td>\n",
       "      <td>0.0</td>\n",
       "      <td>3.0</td>\n",
       "      <td>-1.263185</td>\n",
       "      <td>0.0</td>\n",
       "      <td>0.0</td>\n",
       "      <td>-0.638216</td>\n",
       "      <td>0.692942</td>\n",
       "      <td>-0.188453</td>\n",
       "      <td>0.0</td>\n",
       "      <td>0</td>\n",
       "    </tr>\n",
       "    <tr>\n",
       "      <th>7882</th>\n",
       "      <td>0.121356</td>\n",
       "      <td>-0.797027</td>\n",
       "      <td>-0.489147</td>\n",
       "      <td>0.010294</td>\n",
       "      <td>-1.424594</td>\n",
       "      <td>0.671551</td>\n",
       "      <td>0.0</td>\n",
       "      <td>3.0</td>\n",
       "      <td>-1.263185</td>\n",
       "      <td>0.0</td>\n",
       "      <td>0.0</td>\n",
       "      <td>-0.881798</td>\n",
       "      <td>0.692942</td>\n",
       "      <td>-1.122242</td>\n",
       "      <td>0.0</td>\n",
       "      <td>1</td>\n",
       "    </tr>\n",
       "    <tr>\n",
       "      <th>7883</th>\n",
       "      <td>0.121356</td>\n",
       "      <td>-0.797027</td>\n",
       "      <td>-0.489147</td>\n",
       "      <td>0.010294</td>\n",
       "      <td>-1.424594</td>\n",
       "      <td>0.671551</td>\n",
       "      <td>0.0</td>\n",
       "      <td>3.0</td>\n",
       "      <td>-1.263185</td>\n",
       "      <td>0.0</td>\n",
       "      <td>0.0</td>\n",
       "      <td>0.259899</td>\n",
       "      <td>0.692942</td>\n",
       "      <td>-0.188453</td>\n",
       "      <td>0.0</td>\n",
       "      <td>1</td>\n",
       "    </tr>\n",
       "    <tr>\n",
       "      <th>7884</th>\n",
       "      <td>0.121356</td>\n",
       "      <td>-0.797027</td>\n",
       "      <td>-0.489147</td>\n",
       "      <td>0.010294</td>\n",
       "      <td>-1.424594</td>\n",
       "      <td>0.671551</td>\n",
       "      <td>1.0</td>\n",
       "      <td>3.0</td>\n",
       "      <td>-1.263185</td>\n",
       "      <td>1.0</td>\n",
       "      <td>0.0</td>\n",
       "      <td>2.682271</td>\n",
       "      <td>0.692942</td>\n",
       "      <td>4.274708</td>\n",
       "      <td>1.0</td>\n",
       "      <td>1</td>\n",
       "    </tr>\n",
       "    <tr>\n",
       "      <th>7885</th>\n",
       "      <td>0.121356</td>\n",
       "      <td>-0.797027</td>\n",
       "      <td>-0.489147</td>\n",
       "      <td>0.010294</td>\n",
       "      <td>-1.424594</td>\n",
       "      <td>0.671551</td>\n",
       "      <td>0.0</td>\n",
       "      <td>3.0</td>\n",
       "      <td>-1.263185</td>\n",
       "      <td>0.0</td>\n",
       "      <td>0.0</td>\n",
       "      <td>2.083029</td>\n",
       "      <td>0.692942</td>\n",
       "      <td>2.519729</td>\n",
       "      <td>0.0</td>\n",
       "      <td>1</td>\n",
       "    </tr>\n",
       "  </tbody>\n",
       "</table>\n",
       "</div>"
      ],
      "text/plain": [
       "      part_impose  chom_tot    p_agri  p_ouvriers  d_brevet     d_sup  \\\n",
       "7881     0.121356 -0.797027 -0.489147    0.010294 -1.424594  0.671551   \n",
       "7882     0.121356 -0.797027 -0.489147    0.010294 -1.424594  0.671551   \n",
       "7883     0.121356 -0.797027 -0.489147    0.010294 -1.424594  0.671551   \n",
       "7884     0.121356 -0.797027 -0.489147    0.010294 -1.424594  0.671551   \n",
       "7885     0.121356 -0.797027 -0.489147    0.010294 -1.424594  0.671551   \n",
       "\n",
       "      circo_leg_meme_nuance  nb_candidats_meme_bloc  taux_vote_leg  \\\n",
       "7881                    0.0                     3.0      -1.263185   \n",
       "7882                    0.0                     3.0      -1.263185   \n",
       "7883                    0.0                     3.0      -1.263185   \n",
       "7884                    1.0                     3.0      -1.263185   \n",
       "7885                    0.0                     3.0      -1.263185   \n",
       "\n",
       "      circo_pres_meme_nuance  circo_meme_nuance_president  \\\n",
       "7881                     0.0                          0.0   \n",
       "7882                     0.0                          0.0   \n",
       "7883                     0.0                          0.0   \n",
       "7884                     1.0                          0.0   \n",
       "7885                     0.0                          0.0   \n",
       "\n",
       "      score_nuance_groupe_pres  taux_vote_pres  score_candidat_prec_leg  \\\n",
       "7881                 -0.638216        0.692942                -0.188453   \n",
       "7882                 -0.881798        0.692942                -1.122242   \n",
       "7883                  0.259899        0.692942                -0.188453   \n",
       "7884                  2.682271        0.692942                 4.274708   \n",
       "7885                  2.083029        0.692942                 2.519729   \n",
       "\n",
       "      depute_sortant  sexe_M  \n",
       "7881             0.0       0  \n",
       "7882             0.0       1  \n",
       "7883             0.0       1  \n",
       "7884             1.0       1  \n",
       "7885             0.0       1  "
      ]
     },
     "execution_count": 181,
     "metadata": {},
     "output_type": "execute_result"
    }
   ],
   "source": [
    "X_val.head(5)"
   ]
  },
  {
   "cell_type": "code",
   "execution_count": 182,
   "metadata": {
    "collapsed": false
   },
   "outputs": [],
   "source": [
    "# imp = Imputer(missing_values='NaN', strategy='mean', axis=0)\n",
    "# imp = imp.fit(X_train)# Impute our data, then train\n",
    "# X_train_imp = imp.transform(X_train)"
   ]
  },
  {
   "cell_type": "code",
   "execution_count": 183,
   "metadata": {
    "collapsed": true
   },
   "outputs": [],
   "source": [
    "# imp = Imputer(missing_values='NaN', strategy='mean', axis=0)\n",
    "# imp = imp.fit(X_test)# Impute our data, then train\n",
    "# X_test_imp = imp.transform(X_test)"
   ]
  },
  {
   "cell_type": "code",
   "execution_count": 187,
   "metadata": {
    "collapsed": false,
    "deletable": true,
    "editable": true
   },
   "outputs": [
    {
     "data": {
      "text/plain": [
       "RandomForestRegressor(bootstrap=True, criterion='mse', max_depth=None,\n",
       "           max_features='auto', max_leaf_nodes=None,\n",
       "           min_impurity_split=1e-07, min_samples_leaf=1,\n",
       "           min_samples_split=2, min_weight_fraction_leaf=0.0,\n",
       "           n_estimators=150, n_jobs=-1, oob_score=False, random_state=None,\n",
       "           verbose=0, warm_start=False)"
      ]
     },
     "execution_count": 187,
     "metadata": {},
     "output_type": "execute_result"
    }
   ],
   "source": [
    "rf = RandomForestRegressor(n_jobs=-1, n_estimators=150)\n",
    "rf.fit(X_train, y_train)"
   ]
  },
  {
   "cell_type": "code",
   "execution_count": 188,
   "metadata": {
    "collapsed": false
   },
   "outputs": [
    {
     "data": {
      "text/plain": [
       "0.02125158385071511"
      ]
     },
     "execution_count": 188,
     "metadata": {},
     "output_type": "execute_result"
    }
   ],
   "source": [
    "y_pred = rf.predict(X_val)\n",
    "mean_absolute_error(y_val, y_pred)"
   ]
  },
  {
   "cell_type": "code",
   "execution_count": 186,
   "metadata": {
    "collapsed": false
   },
   "outputs": [
    {
     "data": {
      "text/plain": [
       "[(37.185266458668799, 'score_candidat_prec_leg'),\n",
       " (29.612313210878018, 'score_nuance_groupe_pres'),\n",
       " (17.204714014344997, 'circo_meme_nuance_president'),\n",
       " (2.7726484888809542, 'nb_candidats_meme_bloc'),\n",
       " (1.8382992996927825, 'taux_vote_pres'),\n",
       " (1.820405367741633, 'depute_sortant'),\n",
       " (1.6668351302273343, 'taux_vote_leg'),\n",
       " (1.4474239186556574, 'part_impose'),\n",
       " (1.0758911612870388, 'circo_leg_meme_nuance'),\n",
       " (1.040603284534269, 'chom_tot'),\n",
       " (1.0260635425874691, 'd_brevet'),\n",
       " (0.9184922985789693, 'p_agri'),\n",
       " (0.76826185307411399, 'p_ouvriers'),\n",
       " (0.73836165955070221, 'd_sup'),\n",
       " (0.49341640771263273, 'circo_pres_meme_nuance'),\n",
       " (0.39100390358461978, 'sexe_M')]"
      ]
     },
     "execution_count": 186,
     "metadata": {},
     "output_type": "execute_result"
    }
   ],
   "source": [
    "sorted(list(zip(rf.feature_importances_*100, X_train.columns)), reverse=True)"
   ]
  },
  {
   "cell_type": "markdown",
   "metadata": {},
   "source": [
    "### Analyser les prédictions"
   ]
  },
  {
   "cell_type": "code",
   "execution_count": 189,
   "metadata": {
    "collapsed": true
   },
   "outputs": [],
   "source": [
    "def get_predictions(y_pred, y_val, id_val):\n",
    "    res = pd.concat([id_val, pd.DataFrame(y_val)], axis=1, join='inner')\n",
    "    res['prediction'] = y_pred\n",
    "    res['ecart'] = y_pred - res['p_voix']\n",
    "    return res"
   ]
  },
  {
   "cell_type": "code",
   "execution_count": 190,
   "metadata": {
    "collapsed": false
   },
   "outputs": [],
   "source": [
    "df_predictions = get_predictions(y_pred, y_val, df_id)"
   ]
  },
  {
   "cell_type": "code",
   "execution_count": 191,
   "metadata": {
    "collapsed": false
   },
   "outputs": [
    {
     "name": "stderr",
     "output_type": "stream",
     "text": [
      "C:\\Program Files\\Anaconda3\\lib\\site-packages\\ipykernel\\__main__.py:1: FutureWarning: sort(columns=....) is deprecated, use sort_values(by=.....)\n",
      "  if __name__ == '__main__':\n"
     ]
    },
    {
     "data": {
      "text/html": [
       "<div>\n",
       "<table border=\"1\" class=\"dataframe\">\n",
       "  <thead>\n",
       "    <tr style=\"text-align: right;\">\n",
       "      <th></th>\n",
       "      <th>an</th>\n",
       "      <th>code</th>\n",
       "      <th>nom</th>\n",
       "      <th>prenom</th>\n",
       "      <th>nuance_groupe</th>\n",
       "      <th>second_tour</th>\n",
       "      <th>p_voix</th>\n",
       "      <th>prediction</th>\n",
       "      <th>ecart</th>\n",
       "    </tr>\n",
       "  </thead>\n",
       "  <tbody>\n",
       "    <tr>\n",
       "      <th>10283</th>\n",
       "      <td>2012</td>\n",
       "      <td>68|6</td>\n",
       "      <td>BASCHUNG</td>\n",
       "      <td>REGIS</td>\n",
       "      <td>MDM</td>\n",
       "      <td>N</td>\n",
       "      <td>0.0090</td>\n",
       "      <td>0.129421</td>\n",
       "      <td>0.120421</td>\n",
       "    </tr>\n",
       "    <tr>\n",
       "      <th>11564</th>\n",
       "      <td>2012</td>\n",
       "      <td>972|2</td>\n",
       "      <td>LEBON</td>\n",
       "      <td>FRANTZ</td>\n",
       "      <td>SOC</td>\n",
       "      <td>N</td>\n",
       "      <td>0.0071</td>\n",
       "      <td>0.127940</td>\n",
       "      <td>0.120840</td>\n",
       "    </tr>\n",
       "    <tr>\n",
       "      <th>8999</th>\n",
       "      <td>2012</td>\n",
       "      <td>24|2</td>\n",
       "      <td>GARRIGUE</td>\n",
       "      <td>DANIEL</td>\n",
       "      <td>DVD</td>\n",
       "      <td>N</td>\n",
       "      <td>0.0863</td>\n",
       "      <td>0.209542</td>\n",
       "      <td>0.123242</td>\n",
       "    </tr>\n",
       "    <tr>\n",
       "      <th>13126</th>\n",
       "      <td>2012</td>\n",
       "      <td>71|1</td>\n",
       "      <td>VOISIN</td>\n",
       "      <td>GERARD</td>\n",
       "      <td>LR</td>\n",
       "      <td>O</td>\n",
       "      <td>0.1291</td>\n",
       "      <td>0.254357</td>\n",
       "      <td>0.125257</td>\n",
       "    </tr>\n",
       "    <tr>\n",
       "      <th>11167</th>\n",
       "      <td>2012</td>\n",
       "      <td>44|6</td>\n",
       "      <td>MADOUAS</td>\n",
       "      <td>HERVE</td>\n",
       "      <td>MDM</td>\n",
       "      <td>N</td>\n",
       "      <td>0.0092</td>\n",
       "      <td>0.136117</td>\n",
       "      <td>0.126917</td>\n",
       "    </tr>\n",
       "    <tr>\n",
       "      <th>12256</th>\n",
       "      <td>2012</td>\n",
       "      <td>75|1</td>\n",
       "      <td>ASMANI</td>\n",
       "      <td>LYNDA</td>\n",
       "      <td>MDM</td>\n",
       "      <td>N</td>\n",
       "      <td>0.0131</td>\n",
       "      <td>0.144638</td>\n",
       "      <td>0.131538</td>\n",
       "    </tr>\n",
       "    <tr>\n",
       "      <th>12030</th>\n",
       "      <td>2012</td>\n",
       "      <td>59|10</td>\n",
       "      <td>VANNESTE</td>\n",
       "      <td>CHRISTIAN</td>\n",
       "      <td>DVD</td>\n",
       "      <td>N</td>\n",
       "      <td>0.0612</td>\n",
       "      <td>0.206805</td>\n",
       "      <td>0.145605</td>\n",
       "    </tr>\n",
       "    <tr>\n",
       "      <th>14160</th>\n",
       "      <td>2012</td>\n",
       "      <td>85|1</td>\n",
       "      <td>NICOLEAU</td>\n",
       "      <td>JOSEPH</td>\n",
       "      <td>MDM</td>\n",
       "      <td>N</td>\n",
       "      <td>0.0170</td>\n",
       "      <td>0.164349</td>\n",
       "      <td>0.147349</td>\n",
       "    </tr>\n",
       "    <tr>\n",
       "      <th>10518</th>\n",
       "      <td>2012</td>\n",
       "      <td>34|3</td>\n",
       "      <td>GRAND</td>\n",
       "      <td>JEAN-PIERRE</td>\n",
       "      <td>LR</td>\n",
       "      <td>O</td>\n",
       "      <td>0.1076</td>\n",
       "      <td>0.273115</td>\n",
       "      <td>0.165515</td>\n",
       "    </tr>\n",
       "    <tr>\n",
       "      <th>10672</th>\n",
       "      <td>2012</td>\n",
       "      <td>35|7</td>\n",
       "      <td>CLEMENT</td>\n",
       "      <td>PASCAL</td>\n",
       "      <td>FN</td>\n",
       "      <td>N</td>\n",
       "      <td>0.0447</td>\n",
       "      <td>0.210525</td>\n",
       "      <td>0.165825</td>\n",
       "    </tr>\n",
       "  </tbody>\n",
       "</table>\n",
       "</div>"
      ],
      "text/plain": [
       "         an   code       nom       prenom nuance_groupe second_tour  p_voix  \\\n",
       "10283  2012   68|6  BASCHUNG        REGIS           MDM           N  0.0090   \n",
       "11564  2012  972|2     LEBON       FRANTZ           SOC           N  0.0071   \n",
       "8999   2012   24|2  GARRIGUE       DANIEL           DVD           N  0.0863   \n",
       "13126  2012   71|1    VOISIN       GERARD            LR           O  0.1291   \n",
       "11167  2012   44|6   MADOUAS        HERVE           MDM           N  0.0092   \n",
       "12256  2012   75|1    ASMANI        LYNDA           MDM           N  0.0131   \n",
       "12030  2012  59|10  VANNESTE    CHRISTIAN           DVD           N  0.0612   \n",
       "14160  2012   85|1  NICOLEAU       JOSEPH           MDM           N  0.0170   \n",
       "10518  2012   34|3     GRAND  JEAN-PIERRE            LR           O  0.1076   \n",
       "10672  2012   35|7   CLEMENT       PASCAL            FN           N  0.0447   \n",
       "\n",
       "       prediction     ecart  \n",
       "10283    0.129421  0.120421  \n",
       "11564    0.127940  0.120840  \n",
       "8999     0.209542  0.123242  \n",
       "13126    0.254357  0.125257  \n",
       "11167    0.136117  0.126917  \n",
       "12256    0.144638  0.131538  \n",
       "12030    0.206805  0.145605  \n",
       "14160    0.164349  0.147349  \n",
       "10518    0.273115  0.165515  \n",
       "10672    0.210525  0.165825  "
      ]
     },
     "execution_count": 191,
     "metadata": {},
     "output_type": "execute_result"
    }
   ],
   "source": [
    "df_predictions.sort('ecart').tail(10)"
   ]
  },
  {
   "cell_type": "code",
   "execution_count": 192,
   "metadata": {
    "collapsed": false,
    "scrolled": true
   },
   "outputs": [
    {
     "name": "stderr",
     "output_type": "stream",
     "text": [
      "C:\\Program Files\\Anaconda3\\lib\\site-packages\\ipykernel\\__main__.py:1: FutureWarning: sort(columns=....) is deprecated, use sort_values(by=.....)\n",
      "  if __name__ == '__main__':\n"
     ]
    },
    {
     "data": {
      "text/html": [
       "<div>\n",
       "<table border=\"1\" class=\"dataframe\">\n",
       "  <thead>\n",
       "    <tr style=\"text-align: right;\">\n",
       "      <th></th>\n",
       "      <th>an</th>\n",
       "      <th>code</th>\n",
       "      <th>nom</th>\n",
       "      <th>prenom</th>\n",
       "      <th>nuance_groupe</th>\n",
       "      <th>second_tour</th>\n",
       "      <th>p_voix</th>\n",
       "      <th>prediction</th>\n",
       "      <th>ecart</th>\n",
       "    </tr>\n",
       "  </thead>\n",
       "  <tbody>\n",
       "    <tr>\n",
       "      <th>12340</th>\n",
       "      <td>2012</td>\n",
       "      <td>75|6</td>\n",
       "      <td>DUFLOT</td>\n",
       "      <td>CECILE</td>\n",
       "      <td>ECO</td>\n",
       "      <td>O</td>\n",
       "      <td>0.2890</td>\n",
       "      <td>0.015575</td>\n",
       "      <td>-0.273425</td>\n",
       "    </tr>\n",
       "    <tr>\n",
       "      <th>12414</th>\n",
       "      <td>2012</td>\n",
       "      <td>75|10</td>\n",
       "      <td>BAUPIN</td>\n",
       "      <td>DENIS</td>\n",
       "      <td>ECO</td>\n",
       "      <td>O</td>\n",
       "      <td>0.2502</td>\n",
       "      <td>0.021544</td>\n",
       "      <td>-0.228656</td>\n",
       "    </tr>\n",
       "    <tr>\n",
       "      <th>12250</th>\n",
       "      <td>2012</td>\n",
       "      <td>61|3</td>\n",
       "      <td>GOASDOUE</td>\n",
       "      <td>YVES</td>\n",
       "      <td>DVG</td>\n",
       "      <td>O</td>\n",
       "      <td>0.2368</td>\n",
       "      <td>0.026346</td>\n",
       "      <td>-0.210454</td>\n",
       "    </tr>\n",
       "    <tr>\n",
       "      <th>12462</th>\n",
       "      <td>2012</td>\n",
       "      <td>75|13</td>\n",
       "      <td>ALAYRAC</td>\n",
       "      <td>GILLES</td>\n",
       "      <td>RDG</td>\n",
       "      <td>O</td>\n",
       "      <td>0.2149</td>\n",
       "      <td>0.006992</td>\n",
       "      <td>-0.207908</td>\n",
       "    </tr>\n",
       "    <tr>\n",
       "      <th>13389</th>\n",
       "      <td>2012</td>\n",
       "      <td>76|2</td>\n",
       "      <td>MOINET</td>\n",
       "      <td>VERONIQUE</td>\n",
       "      <td>ECO</td>\n",
       "      <td>O</td>\n",
       "      <td>0.2138</td>\n",
       "      <td>0.009199</td>\n",
       "      <td>-0.204601</td>\n",
       "    </tr>\n",
       "    <tr>\n",
       "      <th>9036</th>\n",
       "      <td>2012</td>\n",
       "      <td>25|2</td>\n",
       "      <td>ALAUZET</td>\n",
       "      <td>ERIC</td>\n",
       "      <td>ECO</td>\n",
       "      <td>O</td>\n",
       "      <td>0.2248</td>\n",
       "      <td>0.024080</td>\n",
       "      <td>-0.200720</td>\n",
       "    </tr>\n",
       "    <tr>\n",
       "      <th>10377</th>\n",
       "      <td>2012</td>\n",
       "      <td>92|6</td>\n",
       "      <td>FROMANTIN</td>\n",
       "      <td>JEAN-CHRISTOPHE</td>\n",
       "      <td>DVD</td>\n",
       "      <td>O</td>\n",
       "      <td>0.2310</td>\n",
       "      <td>0.031102</td>\n",
       "      <td>-0.199898</td>\n",
       "    </tr>\n",
       "    <tr>\n",
       "      <th>12759</th>\n",
       "      <td>2012</td>\n",
       "      <td>63|3</td>\n",
       "      <td>AUROI</td>\n",
       "      <td>DANIELLE</td>\n",
       "      <td>ECO</td>\n",
       "      <td>O</td>\n",
       "      <td>0.2183</td>\n",
       "      <td>0.020566</td>\n",
       "      <td>-0.197734</td>\n",
       "    </tr>\n",
       "    <tr>\n",
       "      <th>9335</th>\n",
       "      <td>2012</td>\n",
       "      <td>28|3</td>\n",
       "      <td>HUWART</td>\n",
       "      <td>HAROLD</td>\n",
       "      <td>RDG</td>\n",
       "      <td>O</td>\n",
       "      <td>0.2082</td>\n",
       "      <td>0.011758</td>\n",
       "      <td>-0.196442</td>\n",
       "    </tr>\n",
       "    <tr>\n",
       "      <th>10882</th>\n",
       "      <td>2012</td>\n",
       "      <td>38|9</td>\n",
       "      <td>BONNETON</td>\n",
       "      <td>MICHELE</td>\n",
       "      <td>ECO</td>\n",
       "      <td>O</td>\n",
       "      <td>0.2116</td>\n",
       "      <td>0.016989</td>\n",
       "      <td>-0.194611</td>\n",
       "    </tr>\n",
       "  </tbody>\n",
       "</table>\n",
       "</div>"
      ],
      "text/plain": [
       "         an   code        nom           prenom nuance_groupe second_tour  \\\n",
       "12340  2012   75|6     DUFLOT           CECILE           ECO           O   \n",
       "12414  2012  75|10     BAUPIN            DENIS           ECO           O   \n",
       "12250  2012   61|3   GOASDOUE             YVES           DVG           O   \n",
       "12462  2012  75|13    ALAYRAC           GILLES           RDG           O   \n",
       "13389  2012   76|2     MOINET        VERONIQUE           ECO           O   \n",
       "9036   2012   25|2    ALAUZET             ERIC           ECO           O   \n",
       "10377  2012   92|6  FROMANTIN  JEAN-CHRISTOPHE           DVD           O   \n",
       "12759  2012   63|3      AUROI         DANIELLE           ECO           O   \n",
       "9335   2012   28|3     HUWART           HAROLD           RDG           O   \n",
       "10882  2012   38|9   BONNETON          MICHELE           ECO           O   \n",
       "\n",
       "       p_voix  prediction     ecart  \n",
       "12340  0.2890    0.015575 -0.273425  \n",
       "12414  0.2502    0.021544 -0.228656  \n",
       "12250  0.2368    0.026346 -0.210454  \n",
       "12462  0.2149    0.006992 -0.207908  \n",
       "13389  0.2138    0.009199 -0.204601  \n",
       "9036   0.2248    0.024080 -0.200720  \n",
       "10377  0.2310    0.031102 -0.199898  \n",
       "12759  0.2183    0.020566 -0.197734  \n",
       "9335   0.2082    0.011758 -0.196442  \n",
       "10882  0.2116    0.016989 -0.194611  "
      ]
     },
     "execution_count": 192,
     "metadata": {},
     "output_type": "execute_result"
    }
   ],
   "source": [
    "df_predictions.sort('ecart').head(10)"
   ]
  },
  {
   "cell_type": "code",
   "execution_count": null,
   "metadata": {
    "collapsed": true
   },
   "outputs": [],
   "source": []
  },
  {
   "cell_type": "code",
   "execution_count": null,
   "metadata": {
    "collapsed": true
   },
   "outputs": [],
   "source": []
  }
 ],
 "metadata": {
  "anaconda-cloud": {},
  "kernelspec": {
   "display_name": "Python [default]",
   "language": "python",
   "name": "python3"
  },
  "language_info": {
   "codemirror_mode": {
    "name": "ipython",
    "version": 3
   },
   "file_extension": ".py",
   "mimetype": "text/x-python",
   "name": "python",
   "nbconvert_exporter": "python",
   "pygments_lexer": "ipython3",
   "version": "3.5.2"
  }
 },
 "nbformat": 4,
 "nbformat_minor": 1
}
