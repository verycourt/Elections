{
 "cells": [
  {
   "cell_type": "markdown",
   "metadata": {},
   "source": [
    "#### To do\n",
    "Analyse des données manquantes :\n",
    "- etrangers : Français de l'étranger => moyenne des étrangers ailleurs ?\n",
    "- part des ménages imposés et quartiles de revenu : Français de l'étranger et DOM (à part Réunion et Martinique) => utiliser les données de la Réunion et de la Martinique pour les autres DOM ? et moyenne nationale pour les français de l'étranger ?\n",
    "- chômage : Français de l'étranger => utiliser moyenne nationale ?\n",
    "- diplômes et CSP : Français de l'étranger, petits DOM (Wallis et Futuna, Nouvelle Calédonie, etc...) => utiliser moyenne des autres DOM ? et moyenne nationale pour les français de l'étranger ?\n",
    "\n",
    "Nouvelles features :\n",
    "- Données géo par Dept (dummy sur position Littoral, métropole, péri-urbain à établir par la densité de pop, est-ouest, Nord-Sud)"
   ]
  },
  {
   "cell_type": "code",
   "execution_count": 70,
   "metadata": {
    "collapsed": true,
    "deletable": true,
    "editable": true
   },
   "outputs": [],
   "source": [
    "import pandas as pd\n",
    "import numpy as np\n",
    "from matplotlib import pyplot as plt\n",
    "from sklearn.ensemble import RandomForestRegressor\n",
    "from sklearn.preprocessing import Imputer, StandardScaler\n",
    "from sklearn.metrics import mean_absolute_error, mean_squared_error"
   ]
  },
  {
   "cell_type": "markdown",
   "metadata": {
    "deletable": true,
    "editable": true
   },
   "source": [
    "#### Retrait des colonnes et lignes inutiles / sélection de features"
   ]
  },
  {
   "cell_type": "code",
   "execution_count": 71,
   "metadata": {
    "collapsed": false,
    "deletable": true,
    "editable": true
   },
   "outputs": [
    {
     "name": "stdout",
     "output_type": "stream",
     "text": [
      "Taille initiale du DF : (36919, 68)\n",
      "Index(['an', 'etrangers', 'part_impose', 'revenus_q1', 'revenus_med',\n",
      "       'revenus_q3', 'ecart_revenus', 'chom_tot', 'chom_tot_evol_5',\n",
      "       'chom_jeunes', 'chom_jeunes_evol_5', 'chom_adultes',\n",
      "       'chom_adultes_evol_5', 'chom_seniors', 'chom_seniors_evol_5', 'p_agri',\n",
      "       'p_commercants', 'p_cadres', 'p_intermed', 'p_employes', 'p_ouvriers',\n",
      "       'd_brevet', 'd_bep', 'd_bac', 'd_sup', 'circo_nuance_groupe',\n",
      "       'circo_bloc', 'circo_leg_meme_nuance', 'nb_candidats_meme_bloc',\n",
      "       'score_nuance_groupe_prec_leg', 'score_bloc_prec_leg', 'taux_vote_leg',\n",
      "       'score_leg_exg', 'score_leg_g', 'score_leg_c', 'score_leg_d',\n",
      "       'score_leg_exd', 'score_leg_div', 'circo_nuance_groupe_pres',\n",
      "       'circo_pres_meme_nuance', 'score_nuance_groupe_pres', 'score_bloc_pres',\n",
      "       'taux_vote_pres', 'score_pres_exg', 'score_pres_g', 'score_pres_c',\n",
      "       'score_pres_d', 'score_pres_exd', 'score_pres_div',\n",
      "       'score_candidat_prec_leg', 'depute_sortant', 'sexe', 'nuance_groupe',\n",
      "       'bloc', 'p_voix'],\n",
      "      dtype='object')\n",
      "Taille du DF après retrait de 1997 et des colonnes inutiles : (30565, 55)\n"
     ]
    }
   ],
   "source": [
    "# load data\n",
    "raw = pd.read_excel('data/dataframe_elections.xlsx')\n",
    "print('Taille initiale du DF :', raw.shape)\n",
    "\n",
    "# drop lignes\n",
    "raw = raw[raw['an'] > 1997]\n",
    "\n",
    "# Données d'identification\n",
    "id_list = ['an', 'code', 'nom', 'prenom', 'nuance_groupe']\n",
    "df_id = raw[id_list]\n",
    "\n",
    "# drop colonnes\n",
    "drop_list = ['c_dep', 'dep', 'circo', 'code', 'inscrits', 'circo_parti', 'circo_nuance',\n",
    "             'nom', 'prenom', 'etiquette', 'nuance', 'voix', 'second_tour']\n",
    "raw = raw.drop(drop_list, axis=1)\n",
    "\n",
    "print(raw.columns)\n",
    "print('Taille du DF après retrait de 1997 et des colonnes inutiles :', raw.shape)"
   ]
  },
  {
   "cell_type": "markdown",
   "metadata": {
    "deletable": true,
    "editable": true
   },
   "source": [
    "### Feature engineering"
   ]
  },
  {
   "cell_type": "markdown",
   "metadata": {},
   "source": [
    "#### Retrait des features qui dégradent le modèle"
   ]
  },
  {
   "cell_type": "code",
   "execution_count": 72,
   "metadata": {
    "collapsed": true
   },
   "outputs": [],
   "source": [
    "keep_list = ['an', 'p_voix'] # à garder obligatoirement pour identifier les lignes et créer les labels\n",
    "keep_list.extend(['part_impose', 'chom_tot', 'p_agri', 'p_ouvriers', 'd_brevet','d_sup',\n",
    "            'circo_leg_meme_nuance', 'nb_candidats_meme_bloc', 'score_nuance_groupe_prec_leg',\n",
    "             'score_bloc_prec_leg', 'taux_vote_leg', 'score_nuance_groupe_pres', 'score_bloc_pres',\n",
    "            'taux_vote_pres', 'score_candidat_prec_leg', 'depute_sortant'])\n",
    "\n",
    "df = raw.drop([col for col in raw.columns if col not in keep_list], axis=1)"
   ]
  },
  {
   "cell_type": "code",
   "execution_count": 73,
   "metadata": {
    "collapsed": false
   },
   "outputs": [
    {
     "name": "stdout",
     "output_type": "stream",
     "text": [
      "Index(['an', 'part_impose', 'chom_tot', 'p_agri', 'p_ouvriers', 'd_brevet',\n",
      "       'd_sup', 'circo_leg_meme_nuance', 'nb_candidats_meme_bloc',\n",
      "       'score_nuance_groupe_prec_leg', 'score_bloc_prec_leg', 'taux_vote_leg',\n",
      "       'score_nuance_groupe_pres', 'score_bloc_pres', 'taux_vote_pres',\n",
      "       'score_candidat_prec_leg', 'depute_sortant', 'p_voix'],\n",
      "      dtype='object')\n"
     ]
    }
   ],
   "source": [
    "print(df.columns)"
   ]
  },
  {
   "cell_type": "markdown",
   "metadata": {},
   "source": [
    "#### Gestion des NaN"
   ]
  },
  {
   "cell_type": "code",
   "execution_count": 74,
   "metadata": {
    "collapsed": false
   },
   "outputs": [],
   "source": [
    "# Score du candidat aux législatives précédentes\n",
    "df['score_candidat_prec_leg'] = df['score_candidat_prec_leg'].fillna(0.05)\n",
    "#raw['score_candidat_prec_leg'] = raw['score_candidat_prec_leg'].fillna(value=raw['score_candidat_prec_leg'].mean())"
   ]
  },
  {
   "cell_type": "code",
   "execution_count": 75,
   "metadata": {
    "collapsed": false,
    "deletable": true,
    "editable": true
   },
   "outputs": [
    {
     "name": "stdout",
     "output_type": "stream",
     "text": [
      "(30565, 18)\n",
      "an                                 0\n",
      "part_impose                     1089\n",
      "chom_tot                         360\n",
      "p_agri                           680\n",
      "p_ouvriers                       680\n",
      "d_brevet                         680\n",
      "d_sup                            680\n",
      "circo_leg_meme_nuance              0\n",
      "nb_candidats_meme_bloc             0\n",
      "score_nuance_groupe_prec_leg     185\n",
      "score_bloc_prec_leg              185\n",
      "taux_vote_leg                    185\n",
      "score_nuance_groupe_pres           0\n",
      "score_bloc_pres                    0\n",
      "taux_vote_pres                     0\n",
      "score_candidat_prec_leg            0\n",
      "depute_sortant                     0\n",
      "p_voix                          7881\n",
      "dtype: int64\n"
     ]
    }
   ],
   "source": [
    "print(df.shape)\n",
    "print(df.isnull().sum())"
   ]
  },
  {
   "cell_type": "markdown",
   "metadata": {
    "deletable": true,
    "editable": true
   },
   "source": [
    "#### Création des ensembles de train/validation/test"
   ]
  },
  {
   "cell_type": "code",
   "execution_count": 76,
   "metadata": {
    "collapsed": false
   },
   "outputs": [],
   "source": [
    "def train_val_splits(df, year_for_validation):\n",
    "    df_train = df[(df.an != 2017) & (df.an != year_for_validation)].dropna(how='any')\n",
    "    y_train = df_train.p_voix\n",
    "    X_train = df_train.drop(['an', 'p_voix'], axis=1)\n",
    "    \n",
    "    df_val = df[df.an == year_for_validation].dropna(how='any')\n",
    "    y_val = df_val.p_voix\n",
    "    X_val = df_val.drop(['an', 'p_voix'], axis=1)\n",
    "    \n",
    "    return X_train, X_val, y_train, y_val"
   ]
  },
  {
   "cell_type": "code",
   "execution_count": 82,
   "metadata": {
    "collapsed": false
   },
   "outputs": [
    {
     "name": "stdout",
     "output_type": "stream",
     "text": [
      "['part_impose', 'chom_tot', 'p_agri', 'p_ouvriers', 'd_brevet', 'd_sup', 'circo_leg_meme_nuance', 'score_nuance_groupe_prec_leg', 'score_bloc_prec_leg', 'taux_vote_leg', 'score_nuance_groupe_pres', 'score_bloc_pres', 'taux_vote_pres', 'score_candidat_prec_leg']\n",
      "(15704, 16) (6276, 16)\n",
      "(15704,) (6276,)\n"
     ]
    }
   ],
   "source": [
    "# Transformation des variables dummies\n",
    "dummies_list = ['circo_nuance_groupe','circo_bloc', 'sexe','nuance_groupe',\n",
    "                'circo_nuance_groupe_pres', 'bloc', 'an', 'p_voix', 'depute_sortant',\n",
    "               'nb_candidats_meme_bloc']\n",
    "scale_list = [col for col in df.columns if col not in dummies_list]\n",
    "print(scale_list)\n",
    "\n",
    "df_dummified = pd.get_dummies(df, drop_first=True)\n",
    "X_train, X_val, y_train, y_val = train_val_splits(df_dummified, 2012)\n",
    "\n",
    "# Normalisation du dataframe\n",
    "scaler = StandardScaler()\n",
    "X_train[scale_list] = scaler.fit_transform(X_train[scale_list])\n",
    "X_val[scale_list] = scaler.transform(X_val[scale_list])\n",
    "\n",
    "print(X_train.shape, X_val.shape)\n",
    "print(y_train.shape, y_val.shape)"
   ]
  },
  {
   "cell_type": "markdown",
   "metadata": {},
   "source": [
    "#### Exploration"
   ]
  },
  {
   "cell_type": "code",
   "execution_count": 83,
   "metadata": {
    "collapsed": false
   },
   "outputs": [
    {
     "data": {
      "text/html": [
       "<div>\n",
       "<table border=\"1\" class=\"dataframe\">\n",
       "  <thead>\n",
       "    <tr style=\"text-align: right;\">\n",
       "      <th></th>\n",
       "      <th>part_impose</th>\n",
       "      <th>chom_tot</th>\n",
       "      <th>p_agri</th>\n",
       "      <th>p_ouvriers</th>\n",
       "      <th>d_brevet</th>\n",
       "      <th>d_sup</th>\n",
       "      <th>circo_leg_meme_nuance</th>\n",
       "      <th>nb_candidats_meme_bloc</th>\n",
       "      <th>score_nuance_groupe_prec_leg</th>\n",
       "      <th>score_bloc_prec_leg</th>\n",
       "      <th>taux_vote_leg</th>\n",
       "      <th>score_nuance_groupe_pres</th>\n",
       "      <th>score_bloc_pres</th>\n",
       "      <th>taux_vote_pres</th>\n",
       "      <th>score_candidat_prec_leg</th>\n",
       "      <th>depute_sortant</th>\n",
       "    </tr>\n",
       "  </thead>\n",
       "  <tbody>\n",
       "    <tr>\n",
       "      <th>14488</th>\n",
       "      <td>0.135974</td>\n",
       "      <td>-1.195229</td>\n",
       "      <td>-0.396878</td>\n",
       "      <td>0.202611</td>\n",
       "      <td>-0.775392</td>\n",
       "      <td>0.188107</td>\n",
       "      <td>-0.251611</td>\n",
       "      <td>3.0</td>\n",
       "      <td>-0.556800</td>\n",
       "      <td>-0.877061</td>\n",
       "      <td>-0.428999</td>\n",
       "      <td>-0.714429</td>\n",
       "      <td>-0.952695</td>\n",
       "      <td>1.205046</td>\n",
       "      <td>-0.188453</td>\n",
       "      <td>0.0</td>\n",
       "    </tr>\n",
       "    <tr>\n",
       "      <th>14489</th>\n",
       "      <td>0.135974</td>\n",
       "      <td>-1.195229</td>\n",
       "      <td>-0.396878</td>\n",
       "      <td>0.202611</td>\n",
       "      <td>-0.775392</td>\n",
       "      <td>0.188107</td>\n",
       "      <td>3.974383</td>\n",
       "      <td>2.0</td>\n",
       "      <td>3.281535</td>\n",
       "      <td>1.492936</td>\n",
       "      <td>-0.428999</td>\n",
       "      <td>3.426466</td>\n",
       "      <td>1.897607</td>\n",
       "      <td>1.205046</td>\n",
       "      <td>-0.188453</td>\n",
       "      <td>0.0</td>\n",
       "    </tr>\n",
       "    <tr>\n",
       "      <th>14490</th>\n",
       "      <td>0.135974</td>\n",
       "      <td>-1.195229</td>\n",
       "      <td>-0.396878</td>\n",
       "      <td>0.202611</td>\n",
       "      <td>-0.775392</td>\n",
       "      <td>0.188107</td>\n",
       "      <td>-0.251611</td>\n",
       "      <td>1.0</td>\n",
       "      <td>0.351531</td>\n",
       "      <td>-0.421217</td>\n",
       "      <td>-0.428999</td>\n",
       "      <td>0.530380</td>\n",
       "      <td>-0.502589</td>\n",
       "      <td>1.205046</td>\n",
       "      <td>-0.188453</td>\n",
       "      <td>0.0</td>\n",
       "    </tr>\n",
       "    <tr>\n",
       "      <th>14491</th>\n",
       "      <td>0.135974</td>\n",
       "      <td>-1.195229</td>\n",
       "      <td>-0.396878</td>\n",
       "      <td>0.202611</td>\n",
       "      <td>-0.775392</td>\n",
       "      <td>0.188107</td>\n",
       "      <td>-0.251611</td>\n",
       "      <td>3.0</td>\n",
       "      <td>2.415104</td>\n",
       "      <td>0.999024</td>\n",
       "      <td>-0.428999</td>\n",
       "      <td>2.039692</td>\n",
       "      <td>0.904270</td>\n",
       "      <td>1.205046</td>\n",
       "      <td>-0.188453</td>\n",
       "      <td>0.0</td>\n",
       "    </tr>\n",
       "    <tr>\n",
       "      <th>14492</th>\n",
       "      <td>0.135974</td>\n",
       "      <td>-1.195229</td>\n",
       "      <td>-0.396878</td>\n",
       "      <td>0.202611</td>\n",
       "      <td>-0.775392</td>\n",
       "      <td>0.188107</td>\n",
       "      <td>-0.251611</td>\n",
       "      <td>3.0</td>\n",
       "      <td>-0.537346</td>\n",
       "      <td>0.999024</td>\n",
       "      <td>-0.428999</td>\n",
       "      <td>-0.494757</td>\n",
       "      <td>0.904270</td>\n",
       "      <td>1.205046</td>\n",
       "      <td>-0.188453</td>\n",
       "      <td>0.0</td>\n",
       "    </tr>\n",
       "  </tbody>\n",
       "</table>\n",
       "</div>"
      ],
      "text/plain": [
       "       part_impose  chom_tot    p_agri  p_ouvriers  d_brevet     d_sup  \\\n",
       "14488     0.135974 -1.195229 -0.396878    0.202611 -0.775392  0.188107   \n",
       "14489     0.135974 -1.195229 -0.396878    0.202611 -0.775392  0.188107   \n",
       "14490     0.135974 -1.195229 -0.396878    0.202611 -0.775392  0.188107   \n",
       "14491     0.135974 -1.195229 -0.396878    0.202611 -0.775392  0.188107   \n",
       "14492     0.135974 -1.195229 -0.396878    0.202611 -0.775392  0.188107   \n",
       "\n",
       "       circo_leg_meme_nuance  nb_candidats_meme_bloc  \\\n",
       "14488              -0.251611                     3.0   \n",
       "14489               3.974383                     2.0   \n",
       "14490              -0.251611                     1.0   \n",
       "14491              -0.251611                     3.0   \n",
       "14492              -0.251611                     3.0   \n",
       "\n",
       "       score_nuance_groupe_prec_leg  score_bloc_prec_leg  taux_vote_leg  \\\n",
       "14488                     -0.556800            -0.877061      -0.428999   \n",
       "14489                      3.281535             1.492936      -0.428999   \n",
       "14490                      0.351531            -0.421217      -0.428999   \n",
       "14491                      2.415104             0.999024      -0.428999   \n",
       "14492                     -0.537346             0.999024      -0.428999   \n",
       "\n",
       "       score_nuance_groupe_pres  score_bloc_pres  taux_vote_pres  \\\n",
       "14488                 -0.714429        -0.952695        1.205046   \n",
       "14489                  3.426466         1.897607        1.205046   \n",
       "14490                  0.530380        -0.502589        1.205046   \n",
       "14491                  2.039692         0.904270        1.205046   \n",
       "14492                 -0.494757         0.904270        1.205046   \n",
       "\n",
       "       score_candidat_prec_leg  depute_sortant  \n",
       "14488                -0.188453             0.0  \n",
       "14489                -0.188453             0.0  \n",
       "14490                -0.188453             0.0  \n",
       "14491                -0.188453             0.0  \n",
       "14492                -0.188453             0.0  "
      ]
     },
     "execution_count": 83,
     "metadata": {},
     "output_type": "execute_result"
    }
   ],
   "source": [
    "X_train.head(5)"
   ]
  },
  {
   "cell_type": "code",
   "execution_count": 84,
   "metadata": {
    "collapsed": false
   },
   "outputs": [
    {
     "data": {
      "text/html": [
       "<div>\n",
       "<table border=\"1\" class=\"dataframe\">\n",
       "  <thead>\n",
       "    <tr style=\"text-align: right;\">\n",
       "      <th></th>\n",
       "      <th>part_impose</th>\n",
       "      <th>chom_tot</th>\n",
       "      <th>p_agri</th>\n",
       "      <th>p_ouvriers</th>\n",
       "      <th>d_brevet</th>\n",
       "      <th>d_sup</th>\n",
       "      <th>circo_leg_meme_nuance</th>\n",
       "      <th>nb_candidats_meme_bloc</th>\n",
       "      <th>score_nuance_groupe_prec_leg</th>\n",
       "      <th>score_bloc_prec_leg</th>\n",
       "      <th>taux_vote_leg</th>\n",
       "      <th>score_nuance_groupe_pres</th>\n",
       "      <th>score_bloc_pres</th>\n",
       "      <th>taux_vote_pres</th>\n",
       "      <th>score_candidat_prec_leg</th>\n",
       "      <th>depute_sortant</th>\n",
       "    </tr>\n",
       "  </thead>\n",
       "  <tbody>\n",
       "    <tr>\n",
       "      <th>7881</th>\n",
       "      <td>0.121356</td>\n",
       "      <td>-0.797027</td>\n",
       "      <td>-0.489147</td>\n",
       "      <td>0.010294</td>\n",
       "      <td>-1.424594</td>\n",
       "      <td>0.671551</td>\n",
       "      <td>-0.251611</td>\n",
       "      <td>3.0</td>\n",
       "      <td>-0.359271</td>\n",
       "      <td>0.870177</td>\n",
       "      <td>-1.263185</td>\n",
       "      <td>-0.638216</td>\n",
       "      <td>0.829991</td>\n",
       "      <td>0.692942</td>\n",
       "      <td>-0.188453</td>\n",
       "      <td>0.0</td>\n",
       "    </tr>\n",
       "    <tr>\n",
       "      <th>7882</th>\n",
       "      <td>0.121356</td>\n",
       "      <td>-0.797027</td>\n",
       "      <td>-0.489147</td>\n",
       "      <td>0.010294</td>\n",
       "      <td>-1.424594</td>\n",
       "      <td>0.671551</td>\n",
       "      <td>-0.251611</td>\n",
       "      <td>3.0</td>\n",
       "      <td>-0.508914</td>\n",
       "      <td>1.655946</td>\n",
       "      <td>-1.263185</td>\n",
       "      <td>-0.881798</td>\n",
       "      <td>1.298944</td>\n",
       "      <td>0.692942</td>\n",
       "      <td>-1.122242</td>\n",
       "      <td>0.0</td>\n",
       "    </tr>\n",
       "    <tr>\n",
       "      <th>7883</th>\n",
       "      <td>0.121356</td>\n",
       "      <td>-0.797027</td>\n",
       "      <td>-0.489147</td>\n",
       "      <td>0.010294</td>\n",
       "      <td>-1.424594</td>\n",
       "      <td>0.671551</td>\n",
       "      <td>-0.251611</td>\n",
       "      <td>3.0</td>\n",
       "      <td>-0.694471</td>\n",
       "      <td>-0.944412</td>\n",
       "      <td>-1.263185</td>\n",
       "      <td>0.259899</td>\n",
       "      <td>-0.549151</td>\n",
       "      <td>0.692942</td>\n",
       "      <td>-0.188453</td>\n",
       "      <td>0.0</td>\n",
       "    </tr>\n",
       "    <tr>\n",
       "      <th>7884</th>\n",
       "      <td>0.121356</td>\n",
       "      <td>-0.797027</td>\n",
       "      <td>-0.489147</td>\n",
       "      <td>0.010294</td>\n",
       "      <td>-1.424594</td>\n",
       "      <td>0.671551</td>\n",
       "      <td>3.974383</td>\n",
       "      <td>3.0</td>\n",
       "      <td>3.494028</td>\n",
       "      <td>1.655946</td>\n",
       "      <td>-1.263185</td>\n",
       "      <td>2.682271</td>\n",
       "      <td>1.298944</td>\n",
       "      <td>0.692942</td>\n",
       "      <td>4.274708</td>\n",
       "      <td>1.0</td>\n",
       "    </tr>\n",
       "    <tr>\n",
       "      <th>7885</th>\n",
       "      <td>0.121356</td>\n",
       "      <td>-0.797027</td>\n",
       "      <td>-0.489147</td>\n",
       "      <td>0.010294</td>\n",
       "      <td>-1.424594</td>\n",
       "      <td>0.671551</td>\n",
       "      <td>-0.251611</td>\n",
       "      <td>3.0</td>\n",
       "      <td>2.141258</td>\n",
       "      <td>0.870177</td>\n",
       "      <td>-1.263185</td>\n",
       "      <td>2.083029</td>\n",
       "      <td>0.829991</td>\n",
       "      <td>0.692942</td>\n",
       "      <td>2.519729</td>\n",
       "      <td>0.0</td>\n",
       "    </tr>\n",
       "  </tbody>\n",
       "</table>\n",
       "</div>"
      ],
      "text/plain": [
       "      part_impose  chom_tot    p_agri  p_ouvriers  d_brevet     d_sup  \\\n",
       "7881     0.121356 -0.797027 -0.489147    0.010294 -1.424594  0.671551   \n",
       "7882     0.121356 -0.797027 -0.489147    0.010294 -1.424594  0.671551   \n",
       "7883     0.121356 -0.797027 -0.489147    0.010294 -1.424594  0.671551   \n",
       "7884     0.121356 -0.797027 -0.489147    0.010294 -1.424594  0.671551   \n",
       "7885     0.121356 -0.797027 -0.489147    0.010294 -1.424594  0.671551   \n",
       "\n",
       "      circo_leg_meme_nuance  nb_candidats_meme_bloc  \\\n",
       "7881              -0.251611                     3.0   \n",
       "7882              -0.251611                     3.0   \n",
       "7883              -0.251611                     3.0   \n",
       "7884               3.974383                     3.0   \n",
       "7885              -0.251611                     3.0   \n",
       "\n",
       "      score_nuance_groupe_prec_leg  score_bloc_prec_leg  taux_vote_leg  \\\n",
       "7881                     -0.359271             0.870177      -1.263185   \n",
       "7882                     -0.508914             1.655946      -1.263185   \n",
       "7883                     -0.694471            -0.944412      -1.263185   \n",
       "7884                      3.494028             1.655946      -1.263185   \n",
       "7885                      2.141258             0.870177      -1.263185   \n",
       "\n",
       "      score_nuance_groupe_pres  score_bloc_pres  taux_vote_pres  \\\n",
       "7881                 -0.638216         0.829991        0.692942   \n",
       "7882                 -0.881798         1.298944        0.692942   \n",
       "7883                  0.259899        -0.549151        0.692942   \n",
       "7884                  2.682271         1.298944        0.692942   \n",
       "7885                  2.083029         0.829991        0.692942   \n",
       "\n",
       "      score_candidat_prec_leg  depute_sortant  \n",
       "7881                -0.188453             0.0  \n",
       "7882                -1.122242             0.0  \n",
       "7883                -0.188453             0.0  \n",
       "7884                 4.274708             1.0  \n",
       "7885                 2.519729             0.0  "
      ]
     },
     "execution_count": 84,
     "metadata": {},
     "output_type": "execute_result"
    }
   ],
   "source": [
    "X_val.head(5)"
   ]
  },
  {
   "cell_type": "code",
   "execution_count": 85,
   "metadata": {
    "collapsed": false
   },
   "outputs": [],
   "source": [
    "# imp = Imputer(missing_values='NaN', strategy='mean', axis=0)\n",
    "# imp = imp.fit(X_train)# Impute our data, then train\n",
    "# X_train_imp = imp.transform(X_train)"
   ]
  },
  {
   "cell_type": "code",
   "execution_count": 86,
   "metadata": {
    "collapsed": true
   },
   "outputs": [],
   "source": [
    "# imp = Imputer(missing_values='NaN', strategy='mean', axis=0)\n",
    "# imp = imp.fit(X_test)# Impute our data, then train\n",
    "# X_test_imp = imp.transform(X_test)"
   ]
  },
  {
   "cell_type": "code",
   "execution_count": 87,
   "metadata": {
    "collapsed": false,
    "deletable": true,
    "editable": true
   },
   "outputs": [
    {
     "data": {
      "text/plain": [
       "RandomForestRegressor(bootstrap=True, criterion='mse', max_depth=None,\n",
       "           max_features='auto', max_leaf_nodes=None,\n",
       "           min_impurity_split=1e-07, min_samples_leaf=1,\n",
       "           min_samples_split=2, min_weight_fraction_leaf=0.0,\n",
       "           n_estimators=100, n_jobs=-1, oob_score=False, random_state=None,\n",
       "           verbose=0, warm_start=False)"
      ]
     },
     "execution_count": 87,
     "metadata": {},
     "output_type": "execute_result"
    }
   ],
   "source": [
    "rf = RandomForestRegressor(n_jobs=-1, n_estimators=100)\n",
    "rf.fit(X_train, y_train)"
   ]
  },
  {
   "cell_type": "code",
   "execution_count": 88,
   "metadata": {
    "collapsed": false
   },
   "outputs": [
    {
     "data": {
      "text/plain": [
       "0.022536973165918569"
      ]
     },
     "execution_count": 88,
     "metadata": {},
     "output_type": "execute_result"
    }
   ],
   "source": [
    "y_pred = rf.predict(X_val)\n",
    "mean_absolute_error(y_val, y_pred)"
   ]
  },
  {
   "cell_type": "code",
   "execution_count": 89,
   "metadata": {
    "collapsed": false
   },
   "outputs": [
    {
     "data": {
      "text/plain": [
       "[(36.411889220887673, 'score_candidat_prec_leg'),\n",
       " (33.904121825040541, 'score_nuance_groupe_pres'),\n",
       " (10.625607974050181, 'score_bloc_prec_leg'),\n",
       " (4.4244812362123147, 'score_nuance_groupe_prec_leg'),\n",
       " (3.3992258703429883, 'score_bloc_pres'),\n",
       " (2.5238841669830103, 'depute_sortant'),\n",
       " (2.3502503264256922, 'taux_vote_pres'),\n",
       " (1.132272173517751, 'nb_candidats_meme_bloc'),\n",
       " (0.98832075629450011, 'taux_vote_leg'),\n",
       " (0.89350564182843639, 'part_impose'),\n",
       " (0.85734088095231498, 'chom_tot'),\n",
       " (0.65992373179455055, 'd_brevet'),\n",
       " (0.61619161598902472, 'p_agri'),\n",
       " (0.53315226564223417, 'p_ouvriers'),\n",
       " (0.50923430238429823, 'd_sup'),\n",
       " (0.17059801165448155, 'circo_leg_meme_nuance')]"
      ]
     },
     "execution_count": 89,
     "metadata": {},
     "output_type": "execute_result"
    }
   ],
   "source": [
    "sorted(list(zip(rf.feature_importances_*100, X_train.columns)), reverse=True)"
   ]
  },
  {
   "cell_type": "markdown",
   "metadata": {},
   "source": [
    "### Analyser les prédictions"
   ]
  },
  {
   "cell_type": "code",
   "execution_count": 90,
   "metadata": {
    "collapsed": true
   },
   "outputs": [],
   "source": [
    "def get_predictions(y_pred, y_val, id_val):\n",
    "    res = pd.concat([id_val, pd.DataFrame(y_val)], axis=1, join='inner')\n",
    "    res['prediction'] = y_pred\n",
    "    res['ecart'] = y_pred - res['p_voix']\n",
    "    return res"
   ]
  },
  {
   "cell_type": "code",
   "execution_count": 91,
   "metadata": {
    "collapsed": false
   },
   "outputs": [],
   "source": [
    "df_predictions = get_predictions(y_pred, y_val, df_id)"
   ]
  },
  {
   "cell_type": "code",
   "execution_count": 92,
   "metadata": {
    "collapsed": false
   },
   "outputs": [
    {
     "name": "stderr",
     "output_type": "stream",
     "text": [
      "C:\\Program Files\\Anaconda3\\lib\\site-packages\\ipykernel\\__main__.py:1: FutureWarning: sort(columns=....) is deprecated, use sort_values(by=.....)\n",
      "  if __name__ == '__main__':\n"
     ]
    },
    {
     "data": {
      "text/html": [
       "<div>\n",
       "<table border=\"1\" class=\"dataframe\">\n",
       "  <thead>\n",
       "    <tr style=\"text-align: right;\">\n",
       "      <th></th>\n",
       "      <th>an</th>\n",
       "      <th>code</th>\n",
       "      <th>nom</th>\n",
       "      <th>prenom</th>\n",
       "      <th>nuance_groupe</th>\n",
       "      <th>p_voix</th>\n",
       "      <th>prediction</th>\n",
       "      <th>ecart</th>\n",
       "    </tr>\n",
       "  </thead>\n",
       "  <tbody>\n",
       "    <tr>\n",
       "      <th>8096</th>\n",
       "      <td>2012</td>\n",
       "      <td>6|4</td>\n",
       "      <td>GUIBAL</td>\n",
       "      <td>JEAN-CLAUDE</td>\n",
       "      <td>LR</td>\n",
       "      <td>0.1857</td>\n",
       "      <td>0.313985</td>\n",
       "      <td>0.128285</td>\n",
       "    </tr>\n",
       "    <tr>\n",
       "      <th>12601</th>\n",
       "      <td>2012</td>\n",
       "      <td>77|10</td>\n",
       "      <td>THOMAS</td>\n",
       "      <td>CLAUDINE</td>\n",
       "      <td>LR</td>\n",
       "      <td>0.1294</td>\n",
       "      <td>0.261521</td>\n",
       "      <td>0.132121</td>\n",
       "    </tr>\n",
       "    <tr>\n",
       "      <th>12602</th>\n",
       "      <td>2012</td>\n",
       "      <td>77|11</td>\n",
       "      <td>BISSONNIER</td>\n",
       "      <td>CATHY</td>\n",
       "      <td>LR</td>\n",
       "      <td>0.1067</td>\n",
       "      <td>0.248204</td>\n",
       "      <td>0.141504</td>\n",
       "    </tr>\n",
       "    <tr>\n",
       "      <th>11680</th>\n",
       "      <td>2012</td>\n",
       "      <td>68|6</td>\n",
       "      <td>BASCHUNG</td>\n",
       "      <td>REGIS</td>\n",
       "      <td>MDM</td>\n",
       "      <td>0.0090</td>\n",
       "      <td>0.167192</td>\n",
       "      <td>0.158192</td>\n",
       "    </tr>\n",
       "    <tr>\n",
       "      <th>9729</th>\n",
       "      <td>2012</td>\n",
       "      <td>35|7</td>\n",
       "      <td>BELLOIR</td>\n",
       "      <td>NICOLAS</td>\n",
       "      <td>LR</td>\n",
       "      <td>0.1065</td>\n",
       "      <td>0.267695</td>\n",
       "      <td>0.161195</td>\n",
       "    </tr>\n",
       "    <tr>\n",
       "      <th>10986</th>\n",
       "      <td>2012</td>\n",
       "      <td>59|10</td>\n",
       "      <td>VANNESTE</td>\n",
       "      <td>CHRISTIAN</td>\n",
       "      <td>DVD</td>\n",
       "      <td>0.0612</td>\n",
       "      <td>0.224025</td>\n",
       "      <td>0.162825</td>\n",
       "    </tr>\n",
       "    <tr>\n",
       "      <th>13369</th>\n",
       "      <td>2012</td>\n",
       "      <td>91|8</td>\n",
       "      <td>BETEILLE</td>\n",
       "      <td>LAURENT</td>\n",
       "      <td>LR</td>\n",
       "      <td>0.0558</td>\n",
       "      <td>0.220422</td>\n",
       "      <td>0.164622</td>\n",
       "    </tr>\n",
       "    <tr>\n",
       "      <th>12815</th>\n",
       "      <td>2012</td>\n",
       "      <td>80|2</td>\n",
       "      <td>BOUZY</td>\n",
       "      <td>OLIVIER</td>\n",
       "      <td>MDM</td>\n",
       "      <td>0.0161</td>\n",
       "      <td>0.181649</td>\n",
       "      <td>0.165549</td>\n",
       "    </tr>\n",
       "    <tr>\n",
       "      <th>13536</th>\n",
       "      <td>2012</td>\n",
       "      <td>92|9</td>\n",
       "      <td>GUEANT</td>\n",
       "      <td>CLAUDE</td>\n",
       "      <td>LR</td>\n",
       "      <td>0.1799</td>\n",
       "      <td>0.346808</td>\n",
       "      <td>0.166908</td>\n",
       "    </tr>\n",
       "    <tr>\n",
       "      <th>9578</th>\n",
       "      <td>2012</td>\n",
       "      <td>34|3</td>\n",
       "      <td>GRAND</td>\n",
       "      <td>JEAN-PIERRE</td>\n",
       "      <td>LR</td>\n",
       "      <td>0.1076</td>\n",
       "      <td>0.278589</td>\n",
       "      <td>0.170989</td>\n",
       "    </tr>\n",
       "  </tbody>\n",
       "</table>\n",
       "</div>"
      ],
      "text/plain": [
       "         an   code         nom       prenom nuance_groupe  p_voix  prediction  \\\n",
       "8096   2012    6|4      GUIBAL  JEAN-CLAUDE            LR  0.1857    0.313985   \n",
       "12601  2012  77|10      THOMAS     CLAUDINE            LR  0.1294    0.261521   \n",
       "12602  2012  77|11  BISSONNIER        CATHY            LR  0.1067    0.248204   \n",
       "11680  2012   68|6    BASCHUNG        REGIS           MDM  0.0090    0.167192   \n",
       "9729   2012   35|7     BELLOIR      NICOLAS            LR  0.1065    0.267695   \n",
       "10986  2012  59|10    VANNESTE    CHRISTIAN           DVD  0.0612    0.224025   \n",
       "13369  2012   91|8    BETEILLE      LAURENT            LR  0.0558    0.220422   \n",
       "12815  2012   80|2       BOUZY      OLIVIER           MDM  0.0161    0.181649   \n",
       "13536  2012   92|9      GUEANT       CLAUDE            LR  0.1799    0.346808   \n",
       "9578   2012   34|3       GRAND  JEAN-PIERRE            LR  0.1076    0.278589   \n",
       "\n",
       "          ecart  \n",
       "8096   0.128285  \n",
       "12601  0.132121  \n",
       "12602  0.141504  \n",
       "11680  0.158192  \n",
       "9729   0.161195  \n",
       "10986  0.162825  \n",
       "13369  0.164622  \n",
       "12815  0.165549  \n",
       "13536  0.166908  \n",
       "9578   0.170989  "
      ]
     },
     "execution_count": 92,
     "metadata": {},
     "output_type": "execute_result"
    }
   ],
   "source": [
    "df_predictions.sort('ecart').tail(10)"
   ]
  },
  {
   "cell_type": "code",
   "execution_count": 93,
   "metadata": {
    "collapsed": false,
    "scrolled": true
   },
   "outputs": [
    {
     "name": "stderr",
     "output_type": "stream",
     "text": [
      "C:\\Program Files\\Anaconda3\\lib\\site-packages\\ipykernel\\__main__.py:1: FutureWarning: sort(columns=....) is deprecated, use sort_values(by=.....)\n",
      "  if __name__ == '__main__':\n"
     ]
    },
    {
     "data": {
      "text/html": [
       "<div>\n",
       "<table border=\"1\" class=\"dataframe\">\n",
       "  <thead>\n",
       "    <tr style=\"text-align: right;\">\n",
       "      <th></th>\n",
       "      <th>an</th>\n",
       "      <th>code</th>\n",
       "      <th>nom</th>\n",
       "      <th>prenom</th>\n",
       "      <th>nuance_groupe</th>\n",
       "      <th>p_voix</th>\n",
       "      <th>prediction</th>\n",
       "      <th>ecart</th>\n",
       "    </tr>\n",
       "  </thead>\n",
       "  <tbody>\n",
       "    <tr>\n",
       "      <th>12187</th>\n",
       "      <td>2012</td>\n",
       "      <td>75|6</td>\n",
       "      <td>DUFLOT</td>\n",
       "      <td>CECILE</td>\n",
       "      <td>ECO</td>\n",
       "      <td>0.2890</td>\n",
       "      <td>0.026579</td>\n",
       "      <td>-0.262421</td>\n",
       "    </tr>\n",
       "    <tr>\n",
       "      <th>12261</th>\n",
       "      <td>2012</td>\n",
       "      <td>75|10</td>\n",
       "      <td>BAUPIN</td>\n",
       "      <td>DENIS</td>\n",
       "      <td>ECO</td>\n",
       "      <td>0.2502</td>\n",
       "      <td>0.016652</td>\n",
       "      <td>-0.233548</td>\n",
       "    </tr>\n",
       "    <tr>\n",
       "      <th>8912</th>\n",
       "      <td>2012</td>\n",
       "      <td>25|2</td>\n",
       "      <td>ALAUZET</td>\n",
       "      <td>ERIC</td>\n",
       "      <td>ECO</td>\n",
       "      <td>0.2248</td>\n",
       "      <td>0.021052</td>\n",
       "      <td>-0.203748</td>\n",
       "    </tr>\n",
       "    <tr>\n",
       "      <th>12421</th>\n",
       "      <td>2012</td>\n",
       "      <td>76|2</td>\n",
       "      <td>MOINET</td>\n",
       "      <td>VERONIQUE</td>\n",
       "      <td>ECO</td>\n",
       "      <td>0.2138</td>\n",
       "      <td>0.010260</td>\n",
       "      <td>-0.203540</td>\n",
       "    </tr>\n",
       "    <tr>\n",
       "      <th>11357</th>\n",
       "      <td>2012</td>\n",
       "      <td>63|3</td>\n",
       "      <td>AUROI</td>\n",
       "      <td>DANIELLE</td>\n",
       "      <td>ECO</td>\n",
       "      <td>0.2183</td>\n",
       "      <td>0.018889</td>\n",
       "      <td>-0.199411</td>\n",
       "    </tr>\n",
       "    <tr>\n",
       "      <th>9942</th>\n",
       "      <td>2012</td>\n",
       "      <td>38|9</td>\n",
       "      <td>BONNETON</td>\n",
       "      <td>MICHELE</td>\n",
       "      <td>ECO</td>\n",
       "      <td>0.2116</td>\n",
       "      <td>0.015160</td>\n",
       "      <td>-0.196441</td>\n",
       "    </tr>\n",
       "    <tr>\n",
       "      <th>13917</th>\n",
       "      <td>2012</td>\n",
       "      <td>95|2</td>\n",
       "      <td>VUILLETET</td>\n",
       "      <td>GUILLAUME</td>\n",
       "      <td>ECO</td>\n",
       "      <td>0.2070</td>\n",
       "      <td>0.011891</td>\n",
       "      <td>-0.195109</td>\n",
       "    </tr>\n",
       "    <tr>\n",
       "      <th>11193</th>\n",
       "      <td>2012</td>\n",
       "      <td>61|3</td>\n",
       "      <td>GOASDOUE</td>\n",
       "      <td>YVES</td>\n",
       "      <td>DVG</td>\n",
       "      <td>0.2368</td>\n",
       "      <td>0.051549</td>\n",
       "      <td>-0.185251</td>\n",
       "    </tr>\n",
       "    <tr>\n",
       "      <th>10559</th>\n",
       "      <td>2012</td>\n",
       "      <td>52|1</td>\n",
       "      <td>ANDRIOT</td>\n",
       "      <td>PATRICIA</td>\n",
       "      <td>ECO</td>\n",
       "      <td>0.1935</td>\n",
       "      <td>0.011213</td>\n",
       "      <td>-0.182287</td>\n",
       "    </tr>\n",
       "    <tr>\n",
       "      <th>12709</th>\n",
       "      <td>2012</td>\n",
       "      <td>78|7</td>\n",
       "      <td>RICHARD</td>\n",
       "      <td>ARNAUD</td>\n",
       "      <td>UDI</td>\n",
       "      <td>0.1834</td>\n",
       "      <td>0.003661</td>\n",
       "      <td>-0.179739</td>\n",
       "    </tr>\n",
       "  </tbody>\n",
       "</table>\n",
       "</div>"
      ],
      "text/plain": [
       "         an   code        nom     prenom nuance_groupe  p_voix  prediction  \\\n",
       "12187  2012   75|6     DUFLOT     CECILE           ECO  0.2890    0.026579   \n",
       "12261  2012  75|10     BAUPIN      DENIS           ECO  0.2502    0.016652   \n",
       "8912   2012   25|2    ALAUZET       ERIC           ECO  0.2248    0.021052   \n",
       "12421  2012   76|2     MOINET  VERONIQUE           ECO  0.2138    0.010260   \n",
       "11357  2012   63|3      AUROI   DANIELLE           ECO  0.2183    0.018889   \n",
       "9942   2012   38|9   BONNETON    MICHELE           ECO  0.2116    0.015160   \n",
       "13917  2012   95|2  VUILLETET  GUILLAUME           ECO  0.2070    0.011891   \n",
       "11193  2012   61|3   GOASDOUE       YVES           DVG  0.2368    0.051549   \n",
       "10559  2012   52|1    ANDRIOT   PATRICIA           ECO  0.1935    0.011213   \n",
       "12709  2012   78|7    RICHARD     ARNAUD           UDI  0.1834    0.003661   \n",
       "\n",
       "          ecart  \n",
       "12187 -0.262421  \n",
       "12261 -0.233548  \n",
       "8912  -0.203748  \n",
       "12421 -0.203540  \n",
       "11357 -0.199411  \n",
       "9942  -0.196441  \n",
       "13917 -0.195109  \n",
       "11193 -0.185251  \n",
       "10559 -0.182287  \n",
       "12709 -0.179739  "
      ]
     },
     "execution_count": 93,
     "metadata": {},
     "output_type": "execute_result"
    }
   ],
   "source": [
    "df_predictions.sort('ecart').head(10)"
   ]
  },
  {
   "cell_type": "code",
   "execution_count": null,
   "metadata": {
    "collapsed": true
   },
   "outputs": [],
   "source": []
  }
 ],
 "metadata": {
  "anaconda-cloud": {},
  "kernelspec": {
   "display_name": "Python [default]",
   "language": "python",
   "name": "python3"
  },
  "language_info": {
   "codemirror_mode": {
    "name": "ipython",
    "version": 3
   },
   "file_extension": ".py",
   "mimetype": "text/x-python",
   "name": "python",
   "nbconvert_exporter": "python",
   "pygments_lexer": "ipython3",
   "version": "3.5.2"
  }
 },
 "nbformat": 4,
 "nbformat_minor": 1
}
