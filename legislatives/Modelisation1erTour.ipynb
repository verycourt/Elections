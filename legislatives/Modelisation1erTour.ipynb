{
 "cells": [
  {
   "cell_type": "code",
   "execution_count": 1,
   "metadata": {
    "collapsed": true
   },
   "outputs": [],
   "source": [
    "import pandas as pd\n",
    "import numpy as np\n",
    "from matplotlib import pyplot as plt\n",
    "from sklearn.preprocessing import StandardScaler\n",
    "from sklearn.ensemble import RandomForestClassifier\n",
    "from sklearn.model_selection import train_test_split\n",
    "from sklearn.metrics import classification_report\n",
    "from collections import Counter"
   ]
  },
  {
   "cell_type": "code",
   "execution_count": 51,
   "metadata": {
    "collapsed": false,
    "scrolled": true
   },
   "outputs": [],
   "source": [
    "df = pd.read_excel(io='data/dataframe_elections.xlsx')\n",
    "df_gagnant = pd.read_excel(io='data/histo_elus.xlsx')"
   ]
  },
  {
   "cell_type": "code",
   "execution_count": 88,
   "metadata": {
    "collapsed": true
   },
   "outputs": [],
   "source": [
    "depart_frontaliers = [\"PAS-DE-CALAIS\",\"NORD\", \"AISNE\", \"ARDENNES\", \"MEUSE\",\n",
    "                      \"MEURTHE-ET-MOSELLE\", \"MOSELLE\", \"BAS-RHIN\", \"HAUT-RHIN\",\"TERRITOIRE DE BELFORT\", \"DOUBS\", \"JURA\", \"AIN\", \"HAUTE-SAVOIE\", \\\n",
    "                      \"SAVOIE\", \"HAUTES-ALPES\", \"ALPES-DE-HAUTE-PROVENCE\", \"ALPES-MARITIMES\", \\\n",
    "                      \"PYRENEES-ATLANTIQUES\", \"HAUTES-PYRENEES\", \"HAUTE-GARONNE\",\\\n",
    "                      \"ARIEGE\", \"PYRENEES-ORIENTALES\", \"AUDE\", \"HERAULT\", \"GARD\",\\\n",
    "                     \"BOUCHES-DU-RHONE\", \"VAR\"]\n",
    "depart_OM = [\"GUADELOUPE\", \"GUYANE\", \"MARTINIQUE\", \"LA REUNION\", \"MAYOTTE\"]\n",
    "depart_corse = [\"CORSE\", \"HAUTE-CORSE\", \"CORSE-DU-SUD\"]\n",
    "region_parisienne = [\"PARIS\",\"SEINE-ET-MARNE\", \"YVELINES\", \"ESSONNE\", \"HAUTS-DE-SEINE\", \"SEINE-SAINT-DENIS\",\\\n",
    "                    \"VAL-DE-MARNE\", \"VAL-D'OISE\"]\n",
    "\n"
   ]
  },
  {
   "cell_type": "code",
   "execution_count": 89,
   "metadata": {
    "collapsed": false
   },
   "outputs": [],
   "source": [
    "df[\"dep\"] = df[\"dep\"].map(lambda x : x.upper())"
   ]
  },
  {
   "cell_type": "code",
   "execution_count": 90,
   "metadata": {
    "collapsed": true
   },
   "outputs": [],
   "source": [
    "df[\"depart_frontalier\"] = [1 if dep in depart_frontaliers else 0 for dep in df[\"dep\"]]\n",
    "df[\"depart_OM\"] = [1 if dep in depart_OM else 0 for dep in df[\"dep\"]]\n",
    "df[\"depart_CORSE\"] = [1 if dep in depart_corse else 0 for dep in df[\"dep\"]]\n",
    "df[\"region_parisienne\"] = [1 if dep in region_parisienne else 0 for dep in df[\"dep\"]]"
   ]
  },
  {
   "cell_type": "code",
   "execution_count": 96,
   "metadata": {
    "collapsed": false
   },
   "outputs": [],
   "source": [
    "df[[\"dep\", \"depart_frontalier\", \"depart_OM\", \"depart_CORSE\", \"region_parisienne\"]].drop_duplicates().to_excel(\"data/geographie_depart.xlsx\")"
   ]
  },
  {
   "cell_type": "code",
   "execution_count": 64,
   "metadata": {
    "collapsed": false
   },
   "outputs": [],
   "source": [
    "df_gagnant[\"gagnant\"] = 1\n",
    "df = df.merge(df_gagnant[[\"Nom\", \"Prénom\", \"gagnant\", \"Année\", \"Circo\"]], left_on=[\"nom\", \"prenom\", \"an\", \"circo\"], \\\n",
    "         right_on=[\"Nom\", \"Prénom\", \"Année\", \"Circo\"], how=\"left\").drop([\"Nom\", \"Prénom\", \"Année\", \"Circo\"], axis=1)\\\n",
    "         "
   ]
  },
  {
   "cell_type": "code",
   "execution_count": 65,
   "metadata": {
    "collapsed": false
   },
   "outputs": [
    {
     "data": {
      "text/plain": [
       "(36919, 69)"
      ]
     },
     "execution_count": 65,
     "metadata": {},
     "output_type": "execute_result"
    }
   ],
   "source": [
    "df.shape"
   ]
  },
  {
   "cell_type": "code",
   "execution_count": null,
   "metadata": {
    "collapsed": true
   },
   "outputs": [],
   "source": [
    "to_dummifiy = [\"c_dep\", \"circo\"]\n",
    "to_drop = [\"dep\", \"code\", \"circo_parti\"]\n",
    "to_standardize = [\"inscrits\", \"revenus_q1\", \"revenus_med\", \"revenus_q3\", \\\n",
    "               \"ecart_revenus\"]\n",
    "proba_var = [\"etrangers\", \"part_impose\", \"chom_tot\", \"chom_tot_evol_5\", \\\n",
    "             \"chom_jeunes\", \"chom_jeunes_evol_5\", \"chom_adultes\", \"chom_adultes_evol_5\",\\\n",
    "             \"chom_seniors\", \"chom_seniors_evol_5\", \"p_agri\", \"p_commercants\", \"p_cadres\",\\\n",
    "             \"p_intermed\", \"p_employes\", \"p_ouvriers\", \"d_brevet\", \"d_bep\", \"d_bac\", \"d_sup\"]"
   ]
  },
  {
   "cell_type": "code",
   "execution_count": 66,
   "metadata": {
    "collapsed": true
   },
   "outputs": [],
   "source": [
    "a = [5,2,63,5]"
   ]
  },
  {
   "cell_type": "code",
   "execution_count": 67,
   "metadata": {
    "collapsed": true
   },
   "outputs": [],
   "source": [
    "a.remove(63)"
   ]
  },
  {
   "cell_type": "code",
   "execution_count": 71,
   "metadata": {
    "collapsed": false
   },
   "outputs": [
    {
     "name": "stdout",
     "output_type": "stream",
     "text": [
      "2\n"
     ]
    }
   ],
   "source": [
    "print(12%5)"
   ]
  },
  {
   "cell_type": "code",
   "execution_count": 75,
   "metadata": {
    "collapsed": false
   },
   "outputs": [
    {
     "name": "stdout",
     "output_type": "stream",
     "text": [
      "2.4\n"
     ]
    }
   ],
   "source": [
    "print(12/5)"
   ]
  },
  {
   "cell_type": "code",
   "execution_count": 47,
   "metadata": {
    "collapsed": false
   },
   "outputs": [
    {
     "data": {
      "text/plain": [
       "Index(['an', 'c_dep', 'dep', 'circo', 'code', 'inscrits', 'etrangers',\n",
       "       'part_impose', 'revenus_q1', 'revenus_med', 'revenus_q3',\n",
       "       'ecart_revenus', 'chom_tot', 'chom_tot_evol_5', 'chom_jeunes',\n",
       "       'chom_jeunes_evol_5', 'chom_adultes', 'chom_adultes_evol_5',\n",
       "       'chom_seniors', 'chom_seniors_evol_5', 'p_agri', 'p_commercants',\n",
       "       'p_cadres', 'p_intermed', 'p_employes', 'p_ouvriers', 'd_brevet',\n",
       "       'd_bep', 'd_bac', 'd_sup', 'circo_parti', 'circo_nuance',\n",
       "       'circo_nuance_groupe', 'circo_bloc', 'circo_leg_meme_nuance',\n",
       "       'nb_candidats_meme_bloc', 'score_nuance_groupe_prec_leg',\n",
       "       'score_bloc_prec_leg', 'taux_vote_leg', 'score_leg_exg', 'score_leg_g',\n",
       "       'score_leg_c', 'score_leg_d', 'score_leg_exd', 'score_leg_div',\n",
       "       'circo_nuance_groupe_pres', 'circo_pres_meme_nuance',\n",
       "       'score_nuance_groupe_pres', 'score_bloc_pres', 'taux_vote_pres',\n",
       "       'score_pres_exg', 'score_pres_g', 'score_pres_c', 'score_pres_d',\n",
       "       'score_pres_exd', 'score_pres_div', 'score_candidat_prec_leg',\n",
       "       'depute_sortant', 'sexe', 'nom', 'prenom', 'etiquette', 'nuance',\n",
       "       'nuance_groupe', 'bloc', 'voix', 'p_voix', 'second_tour'],\n",
       "      dtype='object')"
      ]
     },
     "execution_count": 47,
     "metadata": {},
     "output_type": "execute_result"
    }
   ],
   "source": [
    "df.columns"
   ]
  },
  {
   "cell_type": "code",
   "execution_count": null,
   "metadata": {
    "collapsed": true
   },
   "outputs": [],
   "source": []
  },
  {
   "cell_type": "code",
   "execution_count": 48,
   "metadata": {
    "collapsed": false
   },
   "outputs": [
    {
     "data": {
      "text/plain": [
       "an                              0\n",
       "c_dep                           0\n",
       "dep                             0\n",
       "circo                           0\n",
       "code                            0\n",
       "inscrits                     6536\n",
       "etrangers                    6714\n",
       "part_impose                  7443\n",
       "revenus_q1                   7443\n",
       "revenus_med                  7443\n",
       "revenus_q3                   7443\n",
       "ecart_revenus                7443\n",
       "chom_tot                     6714\n",
       "chom_tot_evol_5              6714\n",
       "chom_jeunes                  6714\n",
       "chom_jeunes_evol_5           6714\n",
       "chom_adultes                 6714\n",
       "chom_adultes_evol_5          6714\n",
       "chom_seniors                 6714\n",
       "chom_seniors_evol_5          6714\n",
       "p_agri                       7034\n",
       "p_commercants                7034\n",
       "p_cadres                     7034\n",
       "p_intermed                   7034\n",
       "p_employes                   7034\n",
       "p_ouvriers                   7034\n",
       "d_brevet                     7034\n",
       "d_bep                        7034\n",
       "d_bac                        7034\n",
       "d_sup                        7034\n",
       "                            ...  \n",
       "taux_vote_leg                6539\n",
       "score_leg_exg                6539\n",
       "score_leg_g                  6539\n",
       "score_leg_c                  6539\n",
       "score_leg_d                  6539\n",
       "score_leg_exd                6539\n",
       "score_leg_div                6354\n",
       "circo_nuance_groupe_pres     6354\n",
       "circo_pres_meme_nuance       6354\n",
       "score_nuance_groupe_pres     6354\n",
       "score_bloc_pres              6354\n",
       "taux_vote_pres               6354\n",
       "score_pres_exg               6354\n",
       "score_pres_g                 6354\n",
       "score_pres_c                 6354\n",
       "score_pres_d                 6354\n",
       "score_pres_exd               6354\n",
       "score_pres_div               6354\n",
       "score_candidat_prec_leg     29220\n",
       "depute_sortant               6354\n",
       "sexe                         6354\n",
       "nom                             0\n",
       "prenom                          0\n",
       "etiquette                    7884\n",
       "nuance                          0\n",
       "nuance_groupe                   0\n",
       "bloc                            0\n",
       "voix                         7881\n",
       "p_voix                       7881\n",
       "second_tour                  7881\n",
       "dtype: int64"
      ]
     },
     "execution_count": 48,
     "metadata": {},
     "output_type": "execute_result"
    }
   ],
   "source": [
    "df.isnull().sum()"
   ]
  },
  {
   "cell_type": "code",
   "execution_count": 6,
   "metadata": {
    "collapsed": true
   },
   "outputs": [],
   "source": [
    "df.drop([\"Code\", \"département\", 'Score du candidat aux législatives précédentes (si applicable)',\n",
    "       'Le candidat est-il le député sortant ? 0 ou 1',\n",
    "       'Parti du député sortant de la circonscription',\n",
    "       'Score du parti aux présidentielles dans la circonscription',\n",
    "       'Score du parti aux législatives précédentes (cumul si alliances)',\n",
    "       'Nombres de candidats en lice (ou leur score de parti cumulé)',\n",
    "       'Nombre de candidats de la même nuance en lice', 'Député sortant ?', \n",
    "       \"Nom candidat\", \"Prénom candidat\", \"Etiquette liste\", 'voix', '% voix'], axis=1, inplace=True)"
   ]
  },
  {
   "cell_type": "code",
   "execution_count": 7,
   "metadata": {
    "collapsed": false
   },
   "outputs": [],
   "source": [
    "df[['Part Agriculteurs',\n",
    "       \"Part Artisans, Commerçants, Chefs d'Entreprise\",\n",
    "       'Part Cadres et Professions intellectuelles sup',\n",
    "       'Part Professions intermédiaires', 'Part Employés', 'Part Ouvriers',\n",
    "       'Part de diplômés A (Brevet)', 'Part de diplômés B (CAP, BEP)',\n",
    "       'Part de diplômés C (Bac)', 'Part de diplômés D (Etudes Sup)']] = df[['Part Agriculteurs',\n",
    "       \"Part Artisans, Commerçants, Chefs d'Entreprise\",\n",
    "       'Part Cadres et Professions intellectuelles sup',\n",
    "       'Part Professions intermédiaires', 'Part Employés', 'Part Ouvriers',\n",
    "       'Part de diplômés A (Brevet)', 'Part de diplômés B (CAP, BEP)',\n",
    "       'Part de diplômés C (Bac)', 'Part de diplômés D (Etudes Sup)']].apply(lambda x : x.fillna(x.mean()))"
   ]
  },
  {
   "cell_type": "markdown",
   "metadata": {},
   "source": [
    "### On vire les lignes qui restent nan :"
   ]
  },
  {
   "cell_type": "code",
   "execution_count": 8,
   "metadata": {
    "collapsed": false
   },
   "outputs": [],
   "source": [
    "df.dropna(axis=1, inplace=True)"
   ]
  },
  {
   "cell_type": "markdown",
   "metadata": {},
   "source": [
    "### Dummies"
   ]
  },
  {
   "cell_type": "code",
   "execution_count": 9,
   "metadata": {
    "collapsed": false
   },
   "outputs": [],
   "source": [
    "df = pd.get_dummies(df, columns=[\"Année\", \"Code département\", \"Sexe candidat\"])"
   ]
  },
  {
   "cell_type": "code",
   "execution_count": 10,
   "metadata": {
    "collapsed": true
   },
   "outputs": [],
   "source": [
    "df = pd.get_dummies(df, columns=[\"nuance\"])"
   ]
  },
  {
   "cell_type": "code",
   "execution_count": 11,
   "metadata": {
    "collapsed": false
   },
   "outputs": [
    {
     "data": {
      "text/plain": [
       "array(['N', 'O'], dtype=object)"
      ]
     },
     "execution_count": 11,
     "metadata": {},
     "output_type": "execute_result"
    }
   ],
   "source": [
    "df[\"Accès second tour\"].unique()"
   ]
  },
  {
   "cell_type": "code",
   "execution_count": 12,
   "metadata": {
    "collapsed": false
   },
   "outputs": [],
   "source": [
    "df[\"Accès second tour\"] = df[\"Accès second tour\"].map(lambda x : 0 if x==\"N\" else 1)"
   ]
  },
  {
   "cell_type": "markdown",
   "metadata": {},
   "source": [
    "### Standardisation  "
   ]
  },
  {
   "cell_type": "markdown",
   "metadata": {},
   "source": [
    "Flemme :)"
   ]
  },
  {
   "cell_type": "markdown",
   "metadata": {},
   "source": [
    "### Modélisation"
   ]
  },
  {
   "cell_type": "code",
   "execution_count": 13,
   "metadata": {
    "collapsed": false
   },
   "outputs": [
    {
     "data": {
      "text/plain": [
       "(22687, 144)"
      ]
     },
     "execution_count": 13,
     "metadata": {},
     "output_type": "execute_result"
    }
   ],
   "source": [
    "df.shape"
   ]
  },
  {
   "cell_type": "code",
   "execution_count": 14,
   "metadata": {
    "collapsed": false
   },
   "outputs": [],
   "source": [
    "X_train, X_test, y_train, y_test = train_test_split(df.drop(\"Accès second tour\", axis=1), df[\"Accès second tour\"], test_size=0.33, random_state=42)"
   ]
  },
  {
   "cell_type": "markdown",
   "metadata": {},
   "source": [
    "#### Dealing with the imbalanced dataset"
   ]
  },
  {
   "cell_type": "markdown",
   "metadata": {},
   "source": [
    "Taux de 1 dans le dataset : "
   ]
  },
  {
   "cell_type": "code",
   "execution_count": 15,
   "metadata": {
    "collapsed": false
   },
   "outputs": [
    {
     "data": {
      "text/plain": [
       "13.853748842949708"
      ]
     },
     "execution_count": 15,
     "metadata": {},
     "output_type": "execute_result"
    }
   ],
   "source": [
    "np.sum(df[\"Accès second tour\"]==1)*100/(np.sum(df[\"Accès second tour\"]==1)+np.sum(df[\"Accès second tour\"]==0))"
   ]
  },
  {
   "cell_type": "markdown",
   "metadata": {},
   "source": [
    "Poids à donner aux 1 :"
   ]
  },
  {
   "cell_type": "code",
   "execution_count": 16,
   "metadata": {
    "collapsed": false
   },
   "outputs": [
    {
     "data": {
      "text/plain": [
       "7.6923076923076925"
      ]
     },
     "execution_count": 16,
     "metadata": {},
     "output_type": "execute_result"
    }
   ],
   "source": [
    "100/13"
   ]
  },
  {
   "cell_type": "code",
   "execution_count": 17,
   "metadata": {
    "collapsed": true
   },
   "outputs": [],
   "source": [
    "sample_weight = np.array([8 if i == 1 else 1 for i in y_train])"
   ]
  },
  {
   "cell_type": "code",
   "execution_count": 37,
   "metadata": {
    "collapsed": false
   },
   "outputs": [
    {
     "data": {
      "text/plain": [
       "RandomForestClassifier(bootstrap=True, class_weight=None, criterion='gini',\n",
       "            max_depth=80, max_features='auto', max_leaf_nodes=None,\n",
       "            min_impurity_split=1e-07, min_samples_leaf=1,\n",
       "            min_samples_split=2, min_weight_fraction_leaf=0.0,\n",
       "            n_estimators=20, n_jobs=1, oob_score=False, random_state=None,\n",
       "            verbose=0, warm_start=False)"
      ]
     },
     "execution_count": 37,
     "metadata": {},
     "output_type": "execute_result"
    }
   ],
   "source": [
    "clf = RandomForestClassifier(n_estimators=20, max_depth=80)\n",
    "clf.fit(X_train, y_train, sample_weight=sample_weight)"
   ]
  },
  {
   "cell_type": "code",
   "execution_count": 38,
   "metadata": {
    "collapsed": false
   },
   "outputs": [
    {
     "name": "stdout",
     "output_type": "stream",
     "text": [
      "             precision    recall  f1-score   support\n",
      "\n",
      "          0       0.97      0.96      0.96      6537\n",
      "          1       0.74      0.80      0.77       950\n",
      "\n",
      "avg / total       0.94      0.94      0.94      7487\n",
      "\n"
     ]
    }
   ],
   "source": [
    "print(classification_report(clf.predict(X_test), y_test))"
   ]
  },
  {
   "cell_type": "markdown",
   "metadata": {},
   "source": [
    "** Feat importance **"
   ]
  },
  {
   "cell_type": "code",
   "execution_count": 39,
   "metadata": {
    "collapsed": false
   },
   "outputs": [
    {
     "data": {
      "text/html": [
       "<div>\n",
       "<table border=\"1\" class=\"dataframe\">\n",
       "  <thead>\n",
       "    <tr style=\"text-align: right;\">\n",
       "      <th></th>\n",
       "      <th>col</th>\n",
       "    </tr>\n",
       "  </thead>\n",
       "  <tbody>\n",
       "    <tr>\n",
       "      <th>nuance_UMP</th>\n",
       "      <td>0.159962</td>\n",
       "    </tr>\n",
       "    <tr>\n",
       "      <th>nuance_SOC</th>\n",
       "      <td>0.132782</td>\n",
       "    </tr>\n",
       "    <tr>\n",
       "      <th>nuance_EXG</th>\n",
       "      <td>0.094744</td>\n",
       "    </tr>\n",
       "    <tr>\n",
       "      <th>nuance_DIV</th>\n",
       "      <td>0.068790</td>\n",
       "    </tr>\n",
       "    <tr>\n",
       "      <th>Inscrits</th>\n",
       "      <td>0.065299</td>\n",
       "    </tr>\n",
       "    <tr>\n",
       "      <th>circonscription</th>\n",
       "      <td>0.054475</td>\n",
       "    </tr>\n",
       "    <tr>\n",
       "      <th>nuance_ECO</th>\n",
       "      <td>0.045317</td>\n",
       "    </tr>\n",
       "    <tr>\n",
       "      <th>nuance_DVD</th>\n",
       "      <td>0.030101</td>\n",
       "    </tr>\n",
       "    <tr>\n",
       "      <th>nuance_EXD</th>\n",
       "      <td>0.028476</td>\n",
       "    </tr>\n",
       "    <tr>\n",
       "      <th>nuance_FRN</th>\n",
       "      <td>0.020169</td>\n",
       "    </tr>\n",
       "    <tr>\n",
       "      <th>nuance_MODEM</th>\n",
       "      <td>0.018205</td>\n",
       "    </tr>\n",
       "    <tr>\n",
       "      <th>nuance_PRG</th>\n",
       "      <td>0.015783</td>\n",
       "    </tr>\n",
       "    <tr>\n",
       "      <th>Part Employés</th>\n",
       "      <td>0.013592</td>\n",
       "    </tr>\n",
       "    <tr>\n",
       "      <th>nuance_COM</th>\n",
       "      <td>0.013422</td>\n",
       "    </tr>\n",
       "    <tr>\n",
       "      <th>Part Agriculteurs</th>\n",
       "      <td>0.012918</td>\n",
       "    </tr>\n",
       "    <tr>\n",
       "      <th>nuance_DVG</th>\n",
       "      <td>0.012583</td>\n",
       "    </tr>\n",
       "    <tr>\n",
       "      <th>Part Cadres et Professions intellectuelles sup</th>\n",
       "      <td>0.012524</td>\n",
       "    </tr>\n",
       "    <tr>\n",
       "      <th>Part de diplômés C (Bac)</th>\n",
       "      <td>0.012424</td>\n",
       "    </tr>\n",
       "    <tr>\n",
       "      <th>Sexe candidat_F</th>\n",
       "      <td>0.011989</td>\n",
       "    </tr>\n",
       "    <tr>\n",
       "      <th>Part Ouvriers</th>\n",
       "      <td>0.011711</td>\n",
       "    </tr>\n",
       "  </tbody>\n",
       "</table>\n",
       "</div>"
      ],
      "text/plain": [
       "                                                     col\n",
       "nuance_UMP                                      0.159962\n",
       "nuance_SOC                                      0.132782\n",
       "nuance_EXG                                      0.094744\n",
       "nuance_DIV                                      0.068790\n",
       "Inscrits                                        0.065299\n",
       "circonscription                                 0.054475\n",
       "nuance_ECO                                      0.045317\n",
       "nuance_DVD                                      0.030101\n",
       "nuance_EXD                                      0.028476\n",
       "nuance_FRN                                      0.020169\n",
       "nuance_MODEM                                    0.018205\n",
       "nuance_PRG                                      0.015783\n",
       "Part Employés                                   0.013592\n",
       "nuance_COM                                      0.013422\n",
       "Part Agriculteurs                               0.012918\n",
       "nuance_DVG                                      0.012583\n",
       "Part Cadres et Professions intellectuelles sup  0.012524\n",
       "Part de diplômés C (Bac)                        0.012424\n",
       "Sexe candidat_F                                 0.011989\n",
       "Part Ouvriers                                   0.011711"
      ]
     },
     "execution_count": 39,
     "metadata": {},
     "output_type": "execute_result"
    }
   ],
   "source": [
    "pd.DataFrame(clf.feature_importances_, list(df.drop(\"Accès second tour\", axis=1).columns), columns=[\"col\"]).sort_values(\"col\", ascending=False).head(20)"
   ]
  },
  {
   "cell_type": "code",
   "execution_count": 40,
   "metadata": {
    "collapsed": false
   },
   "outputs": [],
   "source": [
    "X_test[\"pred\"] = clf.predict(X_test)"
   ]
  },
  {
   "cell_type": "code",
   "execution_count": 45,
   "metadata": {
    "collapsed": false
   },
   "outputs": [
    {
     "data": {
      "text/plain": [
       "nuance_COM         4\n",
       "nuance_DIV         3\n",
       "nuance_DVD        17\n",
       "nuance_DVG        16\n",
       "nuance_ECO        11\n",
       "nuance_EXD         0\n",
       "nuance_EXG         0\n",
       "nuance_FDG         0\n",
       "nuance_FRN         9\n",
       "nuance_MODEM       0\n",
       "nuance_MODEM-      0\n",
       "nuance_MPF         0\n",
       "nuance_NouvC       1\n",
       "nuance_PRG        35\n",
       "nuance_PRV         0\n",
       "nuance_PSLE        1\n",
       "nuance_SOC       392\n",
       "nuance_UDF         7\n",
       "nuance_UMP       454\n",
       "dtype: int64"
      ]
     },
     "execution_count": 45,
     "metadata": {},
     "output_type": "execute_result"
    }
   ],
   "source": [
    "X_test[X_test[\"pred\"]==1][['nuance_COM',\n",
    "'nuance_DIV',\n",
    "'nuance_DVD',\n",
    "'nuance_DVG',\n",
    "'nuance_ECO',\n",
    "'nuance_EXD',\n",
    "'nuance_EXG',\n",
    "'nuance_FDG',\n",
    "'nuance_FRN',\n",
    "'nuance_MODEM',\n",
    "'nuance_MODEM-',\n",
    "'nuance_MPF',\n",
    "'nuance_NouvC',\n",
    "'nuance_PRG',\n",
    "'nuance_PRV',\n",
    "'nuance_PSLE',\n",
    "'nuance_SOC',\n",
    "'nuance_UDF',\n",
    "'nuance_UMP']].sum()"
   ]
  }
 ],
 "metadata": {
  "anaconda-cloud": {},
  "kernelspec": {
   "display_name": "Python [default]",
   "language": "python",
   "name": "python3"
  },
  "language_info": {
   "codemirror_mode": {
    "name": "ipython",
    "version": 3
   },
   "file_extension": ".py",
   "mimetype": "text/x-python",
   "name": "python",
   "nbconvert_exporter": "python",
   "pygments_lexer": "ipython3",
   "version": "3.5.2"
  }
 },
 "nbformat": 4,
 "nbformat_minor": 2
}
