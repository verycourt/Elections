{
 "cells": [
  {
   "cell_type": "code",
   "execution_count": 144,
   "metadata": {
    "collapsed": true
   },
   "outputs": [],
   "source": [
    "import pandas as pd\n",
    "import numpy as np\n",
    "from matplotlib import pyplot as plt\n",
    "from sklearn.preprocessing import StandardScaler\n",
    "from sklearn.ensemble import RandomForestClassifier\n",
    "from sklearn.model_selection import train_test_split\n",
    "from sklearn.metrics import classification_report\n",
    "from collections import Counter"
   ]
  },
  {
   "cell_type": "code",
   "execution_count": 101,
   "metadata": {
    "collapsed": false
   },
   "outputs": [],
   "source": [
    "df = pd.read_excel(io='data/dataframe_elections.xlsx', names=['Année','Code département','département','circonscription','Code','Inscrits',\n",
    "                          'Taux d\\'étrangers (département et arrondissement)',\n",
    "                          'Part des ménages imposés (communes pondérées par nombre de ménages)',\n",
    "                          'Moyenne des 1er quartiles communales des revenus déclarés',\n",
    "                          'Moyenne des médianes communales des revenus déclarés',\n",
    "                          'Moyenne des 3eme quartiles communales des revenus déclarés',\n",
    "                          'Taux de chômage départemental','Evolution sur 5 ans',\n",
    "                          'Taux de chômage départemental - 15 24 ans','Evolution sur 5 ans - 15-24 ans',\n",
    "                          'Taux de chômage départemental - 25 49 ans','Evolution sur 5 ans - 25-49 ans',\n",
    "                          'Taux de chômage départemental - 50 ans et +','Evolution sur 5 ans - 50 ans et +',\n",
    "                          'Part Agriculteurs','Part Artisans, Commerçants, Chefs d\\'Entreprise',\n",
    "                          'Part Cadres et Professions intellectuelles sup','Part Professions intermédiaires',\n",
    "                          'Part Employés','Part Ouvriers','Part de diplômés A (Brevet)','Part de diplômés B (CAP, BEP)',\n",
    "                          'Part de diplômés C (Bac)','Part de diplômés D (Etudes Sup)',\n",
    "                          'Score du candidat aux législatives précédentes (si applicable)',\n",
    "                          'Le candidat est-il le député sortant ? 0 ou 1',\n",
    "                          'Parti du député sortant de la circonscription',\n",
    "                          'Score du parti aux présidentielles dans la circonscription',\n",
    "                          'Score du parti aux législatives précédentes (cumul si alliances)',\n",
    "                          'Nombres de candidats en lice (ou leur score de parti cumulé)',\n",
    "                          'Nombre de candidats de la même nuance en lice','Sexe candidat','Nom candidat',\n",
    "                          'Prénom candidat','Etiquette liste','nuance','Député sortant ?','voix','% voix',\n",
    "                          'Accès second tour'])"
   ]
  },
  {
   "cell_type": "code",
   "execution_count": 102,
   "metadata": {
    "collapsed": false
   },
   "outputs": [
    {
     "data": {
      "text/plain": [
       "Index(['Année', 'Code département', 'département', 'circonscription', 'Code',\n",
       "       'Inscrits', 'Taux d'étrangers (département et arrondissement)',\n",
       "       'Part des ménages imposés (communes pondérées par nombre de ménages)',\n",
       "       'Moyenne des 1er quartiles communales des revenus déclarés',\n",
       "       'Moyenne des médianes communales des revenus déclarés',\n",
       "       'Moyenne des 3eme quartiles communales des revenus déclarés',\n",
       "       'Taux de chômage départemental', 'Evolution sur 5 ans',\n",
       "       'Taux de chômage départemental - 15 24 ans',\n",
       "       'Evolution sur 5 ans - 15-24 ans',\n",
       "       'Taux de chômage départemental - 25 49 ans',\n",
       "       'Evolution sur 5 ans - 25-49 ans',\n",
       "       'Taux de chômage départemental - 50 ans et +',\n",
       "       'Evolution sur 5 ans - 50 ans et +', 'Part Agriculteurs',\n",
       "       'Part Artisans, Commerçants, Chefs d'Entreprise',\n",
       "       'Part Cadres et Professions intellectuelles sup',\n",
       "       'Part Professions intermédiaires', 'Part Employés', 'Part Ouvriers',\n",
       "       'Part de diplômés A (Brevet)', 'Part de diplômés B (CAP, BEP)',\n",
       "       'Part de diplômés C (Bac)', 'Part de diplômés D (Etudes Sup)',\n",
       "       'Score du candidat aux législatives précédentes (si applicable)',\n",
       "       'Le candidat est-il le député sortant ? 0 ou 1',\n",
       "       'Parti du député sortant de la circonscription',\n",
       "       'Score du parti aux présidentielles dans la circonscription',\n",
       "       'Score du parti aux législatives précédentes (cumul si alliances)',\n",
       "       'Nombres de candidats en lice (ou leur score de parti cumulé)',\n",
       "       'Nombre de candidats de la même nuance en lice', 'Sexe candidat',\n",
       "       'Nom candidat', 'Prénom candidat', 'Etiquette liste', 'nuance',\n",
       "       'Député sortant ?', 'voix', '% voix', 'Accès second tour'],\n",
       "      dtype='object')"
      ]
     },
     "execution_count": 102,
     "metadata": {},
     "output_type": "execute_result"
    }
   ],
   "source": [
    "df.columns"
   ]
  },
  {
   "cell_type": "code",
   "execution_count": 103,
   "metadata": {
    "collapsed": false
   },
   "outputs": [
    {
     "data": {
      "text/plain": [
       "Année                                                                      0\n",
       "Code département                                                           0\n",
       "département                                                                0\n",
       "circonscription                                                            0\n",
       "Code                                                                       0\n",
       "Inscrits                                                                   0\n",
       "Taux d'étrangers (département et arrondissement)                         178\n",
       "Part des ménages imposés (communes pondérées par nombre de ménages)      704\n",
       "Moyenne des 1er quartiles communales des revenus déclarés                704\n",
       "Moyenne des médianes communales des revenus déclarés                     704\n",
       "Moyenne des 3eme quartiles communales des revenus déclarés               704\n",
       "Taux de chômage départemental                                            887\n",
       "Evolution sur 5 ans                                                      887\n",
       "Taux de chômage départemental - 15 24 ans                                887\n",
       "Evolution sur 5 ans - 15-24 ans                                          887\n",
       "Taux de chômage départemental - 25 49 ans                                887\n",
       "Evolution sur 5 ans - 25-49 ans                                          887\n",
       "Taux de chômage départemental - 50 ans et +                              887\n",
       "Evolution sur 5 ans - 50 ans et +                                        887\n",
       "Part Agriculteurs                                                       5295\n",
       "Part Artisans, Commerçants, Chefs d'Entreprise                          5295\n",
       "Part Cadres et Professions intellectuelles sup                          5295\n",
       "Part Professions intermédiaires                                         5295\n",
       "Part Employés                                                           5295\n",
       "Part Ouvriers                                                           5295\n",
       "Part de diplômés A (Brevet)                                             5295\n",
       "Part de diplômés B (CAP, BEP)                                           5295\n",
       "Part de diplômés C (Bac)                                                5295\n",
       "Part de diplômés D (Etudes Sup)                                         5295\n",
       "Score du candidat aux législatives précédentes (si applicable)         22687\n",
       "Le candidat est-il le député sortant ? 0 ou 1                          22687\n",
       "Parti du député sortant de la circonscription                          22687\n",
       "Score du parti aux présidentielles dans la circonscription             22687\n",
       "Score du parti aux législatives précédentes (cumul si alliances)       22687\n",
       "Nombres de candidats en lice (ou leur score de parti cumulé)           22687\n",
       "Nombre de candidats de la même nuance en lice                          22687\n",
       "Sexe candidat                                                              0\n",
       "Nom candidat                                                               0\n",
       "Prénom candidat                                                            0\n",
       "Etiquette liste                                                            0\n",
       "nuance                                                                     0\n",
       "Député sortant ?                                                       22687\n",
       "voix                                                                       0\n",
       "% voix                                                                     0\n",
       "Accès second tour                                                          0\n",
       "dtype: int64"
      ]
     },
     "execution_count": 103,
     "metadata": {},
     "output_type": "execute_result"
    }
   ],
   "source": [
    "df.isnull().sum()"
   ]
  },
  {
   "cell_type": "code",
   "execution_count": 104,
   "metadata": {
    "collapsed": true
   },
   "outputs": [],
   "source": [
    "df.drop([\"Code\", \"département\", 'Score du candidat aux législatives précédentes (si applicable)',\n",
    "       'Le candidat est-il le député sortant ? 0 ou 1',\n",
    "       'Parti du député sortant de la circonscription',\n",
    "       'Score du parti aux présidentielles dans la circonscription',\n",
    "       'Score du parti aux législatives précédentes (cumul si alliances)',\n",
    "       'Nombres de candidats en lice (ou leur score de parti cumulé)',\n",
    "       'Nombre de candidats de la même nuance en lice', 'Député sortant ?', \n",
    "       \"Nom candidat\", \"Prénom candidat\", \"Etiquette liste\", 'voix', '% voix'], axis=1, inplace=True)"
   ]
  },
  {
   "cell_type": "code",
   "execution_count": 105,
   "metadata": {
    "collapsed": false
   },
   "outputs": [],
   "source": [
    "df[['Part Agriculteurs',\n",
    "       \"Part Artisans, Commerçants, Chefs d'Entreprise\",\n",
    "       'Part Cadres et Professions intellectuelles sup',\n",
    "       'Part Professions intermédiaires', 'Part Employés', 'Part Ouvriers',\n",
    "       'Part de diplômés A (Brevet)', 'Part de diplômés B (CAP, BEP)',\n",
    "       'Part de diplômés C (Bac)', 'Part de diplômés D (Etudes Sup)']] = df[['Part Agriculteurs',\n",
    "       \"Part Artisans, Commerçants, Chefs d'Entreprise\",\n",
    "       'Part Cadres et Professions intellectuelles sup',\n",
    "       'Part Professions intermédiaires', 'Part Employés', 'Part Ouvriers',\n",
    "       'Part de diplômés A (Brevet)', 'Part de diplômés B (CAP, BEP)',\n",
    "       'Part de diplômés C (Bac)', 'Part de diplômés D (Etudes Sup)']].apply(lambda x : x.fillna(x.mean()))"
   ]
  },
  {
   "cell_type": "markdown",
   "metadata": {},
   "source": [
    "### On vire les lignes qui restent nan :"
   ]
  },
  {
   "cell_type": "code",
   "execution_count": 106,
   "metadata": {
    "collapsed": false
   },
   "outputs": [],
   "source": [
    "df.dropna(axis=1, inplace=True)"
   ]
  },
  {
   "cell_type": "markdown",
   "metadata": {},
   "source": [
    "### Dummies"
   ]
  },
  {
   "cell_type": "code",
   "execution_count": 107,
   "metadata": {
    "collapsed": false
   },
   "outputs": [],
   "source": [
    "df = pd.get_dummies(df, columns=[\"Année\", \"Code département\", \"Sexe candidat\"])"
   ]
  },
  {
   "cell_type": "code",
   "execution_count": 108,
   "metadata": {
    "collapsed": true
   },
   "outputs": [],
   "source": [
    "df = pd.get_dummies(df, columns=[\"nuance\"])"
   ]
  },
  {
   "cell_type": "code",
   "execution_count": 109,
   "metadata": {
    "collapsed": false
   },
   "outputs": [
    {
     "data": {
      "text/plain": [
       "array(['N', 'O'], dtype=object)"
      ]
     },
     "execution_count": 109,
     "metadata": {},
     "output_type": "execute_result"
    }
   ],
   "source": [
    "df[\"Accès second tour\"].unique()"
   ]
  },
  {
   "cell_type": "code",
   "execution_count": 110,
   "metadata": {
    "collapsed": false
   },
   "outputs": [],
   "source": [
    "df[\"Accès second tour\"] = df[\"Accès second tour\"].map(lambda x : 0 if x==\"N\" else 1)"
   ]
  },
  {
   "cell_type": "markdown",
   "metadata": {},
   "source": [
    "### Standardisation  "
   ]
  },
  {
   "cell_type": "markdown",
   "metadata": {},
   "source": [
    "Flemme :)"
   ]
  },
  {
   "cell_type": "markdown",
   "metadata": {},
   "source": [
    "### Modélisation"
   ]
  },
  {
   "cell_type": "code",
   "execution_count": 111,
   "metadata": {
    "collapsed": false
   },
   "outputs": [
    {
     "data": {
      "text/plain": [
       "(22687, 144)"
      ]
     },
     "execution_count": 111,
     "metadata": {},
     "output_type": "execute_result"
    }
   ],
   "source": [
    "df.shape"
   ]
  },
  {
   "cell_type": "code",
   "execution_count": 112,
   "metadata": {
    "collapsed": false
   },
   "outputs": [],
   "source": [
    "X_train, X_test, y_train, y_test = train_test_split(df.drop(\"Accès second tour\", axis=1), df[\"Accès second tour\"], test_size=0.33, random_state=42)"
   ]
  },
  {
   "cell_type": "markdown",
   "metadata": {},
   "source": [
    "#### Dealing with the imbalanced dataset"
   ]
  },
  {
   "cell_type": "markdown",
   "metadata": {},
   "source": [
    "Taux de 1 dans le dataset : "
   ]
  },
  {
   "cell_type": "code",
   "execution_count": 137,
   "metadata": {
    "collapsed": false
   },
   "outputs": [
    {
     "data": {
      "text/plain": [
       "13.853748842949708"
      ]
     },
     "execution_count": 137,
     "metadata": {},
     "output_type": "execute_result"
    }
   ],
   "source": [
    "np.sum(df[\"Accès second tour\"]==1)*100/(np.sum(df[\"Accès second tour\"]==1)+np.sum(df[\"Accès second tour\"]==0))"
   ]
  },
  {
   "cell_type": "markdown",
   "metadata": {},
   "source": [
    "Poids à donner aux 1 :"
   ]
  },
  {
   "cell_type": "code",
   "execution_count": 139,
   "metadata": {
    "collapsed": false
   },
   "outputs": [
    {
     "data": {
      "text/plain": [
       "7.6923076923076925"
      ]
     },
     "execution_count": 139,
     "metadata": {},
     "output_type": "execute_result"
    }
   ],
   "source": [
    "100/13"
   ]
  },
  {
   "cell_type": "code",
   "execution_count": 190,
   "metadata": {
    "collapsed": true
   },
   "outputs": [],
   "source": [
    "sample_weight = np.array([8 if i == 1 else 1 for i in y_train])"
   ]
  },
  {
   "cell_type": "code",
   "execution_count": 191,
   "metadata": {
    "collapsed": false
   },
   "outputs": [
    {
     "data": {
      "text/plain": [
       "RandomForestClassifier(bootstrap=True, class_weight=None, criterion='gini',\n",
       "            max_depth=20, max_features='auto', max_leaf_nodes=None,\n",
       "            min_impurity_split=1e-07, min_samples_leaf=1,\n",
       "            min_samples_split=2, min_weight_fraction_leaf=0.0,\n",
       "            n_estimators=20, n_jobs=1, oob_score=False, random_state=None,\n",
       "            verbose=0, warm_start=False)"
      ]
     },
     "execution_count": 191,
     "metadata": {},
     "output_type": "execute_result"
    }
   ],
   "source": [
    "clf = RandomForestClassifier(n_estimators=20, max_depth=20)\n",
    "clf.fit(X_train, y_train, sample_weight=sample_weight)"
   ]
  },
  {
   "cell_type": "code",
   "execution_count": 192,
   "metadata": {
    "collapsed": false
   },
   "outputs": [
    {
     "name": "stdout",
     "output_type": "stream",
     "text": [
      "             precision    recall  f1-score   support\n",
      "\n",
      "          0       0.96      0.97      0.97      6384\n",
      "          1       0.83      0.77      0.80      1103\n",
      "\n",
      "avg / total       0.94      0.94      0.94      7487\n",
      "\n"
     ]
    }
   ],
   "source": [
    "print(classification_report(clf.predict(X_test), y_test))"
   ]
  },
  {
   "cell_type": "markdown",
   "metadata": {},
   "source": [
    "** Feat importance **"
   ]
  },
  {
   "cell_type": "code",
   "execution_count": 193,
   "metadata": {
    "collapsed": false
   },
   "outputs": [
    {
     "data": {
      "text/html": [
       "<div>\n",
       "<table border=\"1\" class=\"dataframe\">\n",
       "  <thead>\n",
       "    <tr style=\"text-align: right;\">\n",
       "      <th></th>\n",
       "      <th>col</th>\n",
       "    </tr>\n",
       "  </thead>\n",
       "  <tbody>\n",
       "    <tr>\n",
       "      <th>nuance_UMP</th>\n",
       "      <td>0.188573</td>\n",
       "    </tr>\n",
       "    <tr>\n",
       "      <th>nuance_SOC</th>\n",
       "      <td>0.160724</td>\n",
       "    </tr>\n",
       "    <tr>\n",
       "      <th>nuance_EXG</th>\n",
       "      <td>0.105832</td>\n",
       "    </tr>\n",
       "    <tr>\n",
       "      <th>nuance_DIV</th>\n",
       "      <td>0.077705</td>\n",
       "    </tr>\n",
       "    <tr>\n",
       "      <th>nuance_ECO</th>\n",
       "      <td>0.052700</td>\n",
       "    </tr>\n",
       "    <tr>\n",
       "      <th>Inscrits</th>\n",
       "      <td>0.041332</td>\n",
       "    </tr>\n",
       "    <tr>\n",
       "      <th>nuance_DVD</th>\n",
       "      <td>0.038358</td>\n",
       "    </tr>\n",
       "    <tr>\n",
       "      <th>circonscription</th>\n",
       "      <td>0.035563</td>\n",
       "    </tr>\n",
       "    <tr>\n",
       "      <th>nuance_EXD</th>\n",
       "      <td>0.022932</td>\n",
       "    </tr>\n",
       "    <tr>\n",
       "      <th>nuance_MODEM</th>\n",
       "      <td>0.016997</td>\n",
       "    </tr>\n",
       "    <tr>\n",
       "      <th>nuance_FRN</th>\n",
       "      <td>0.016199</td>\n",
       "    </tr>\n",
       "    <tr>\n",
       "      <th>Part de diplômés B (CAP, BEP)</th>\n",
       "      <td>0.012694</td>\n",
       "    </tr>\n",
       "    <tr>\n",
       "      <th>nuance_PRG</th>\n",
       "      <td>0.012663</td>\n",
       "    </tr>\n",
       "    <tr>\n",
       "      <th>Part de diplômés A (Brevet)</th>\n",
       "      <td>0.011627</td>\n",
       "    </tr>\n",
       "    <tr>\n",
       "      <th>Sexe candidat_F</th>\n",
       "      <td>0.011481</td>\n",
       "    </tr>\n",
       "    <tr>\n",
       "      <th>Part Employés</th>\n",
       "      <td>0.011413</td>\n",
       "    </tr>\n",
       "    <tr>\n",
       "      <th>nuance_DVG</th>\n",
       "      <td>0.011188</td>\n",
       "    </tr>\n",
       "    <tr>\n",
       "      <th>Part Agriculteurs</th>\n",
       "      <td>0.010853</td>\n",
       "    </tr>\n",
       "    <tr>\n",
       "      <th>Part Professions intermédiaires</th>\n",
       "      <td>0.010702</td>\n",
       "    </tr>\n",
       "    <tr>\n",
       "      <th>Part de diplômés D (Etudes Sup)</th>\n",
       "      <td>0.010583</td>\n",
       "    </tr>\n",
       "  </tbody>\n",
       "</table>\n",
       "</div>"
      ],
      "text/plain": [
       "                                      col\n",
       "nuance_UMP                       0.188573\n",
       "nuance_SOC                       0.160724\n",
       "nuance_EXG                       0.105832\n",
       "nuance_DIV                       0.077705\n",
       "nuance_ECO                       0.052700\n",
       "Inscrits                         0.041332\n",
       "nuance_DVD                       0.038358\n",
       "circonscription                  0.035563\n",
       "nuance_EXD                       0.022932\n",
       "nuance_MODEM                     0.016997\n",
       "nuance_FRN                       0.016199\n",
       "Part de diplômés B (CAP, BEP)    0.012694\n",
       "nuance_PRG                       0.012663\n",
       "Part de diplômés A (Brevet)      0.011627\n",
       "Sexe candidat_F                  0.011481\n",
       "Part Employés                    0.011413\n",
       "nuance_DVG                       0.011188\n",
       "Part Agriculteurs                0.010853\n",
       "Part Professions intermédiaires  0.010702\n",
       "Part de diplômés D (Etudes Sup)  0.010583"
      ]
     },
     "execution_count": 193,
     "metadata": {},
     "output_type": "execute_result"
    }
   ],
   "source": [
    "pd.DataFrame(clf.feature_importances_, list(df.drop(\"Accès second tour\", axis=1).columns), columns=[\"col\"]).sort_values(\"col\", ascending=False).head(20)"
   ]
  },
  {
   "cell_type": "code",
   "execution_count": null,
   "metadata": {
    "collapsed": true
   },
   "outputs": [],
   "source": []
  }
 ],
 "metadata": {
  "anaconda-cloud": {},
  "kernelspec": {
   "display_name": "Python [default]",
   "language": "python",
   "name": "python3"
  },
  "language_info": {
   "codemirror_mode": {
    "name": "ipython",
    "version": 3
   },
   "file_extension": ".py",
   "mimetype": "text/x-python",
   "name": "python",
   "nbconvert_exporter": "python",
   "pygments_lexer": "ipython3",
   "version": "3.5.2"
  }
 },
 "nbformat": 4,
 "nbformat_minor": 2
}
