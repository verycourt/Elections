{
 "cells": [
  {
   "cell_type": "code",
   "execution_count": 5,
   "metadata": {
    "collapsed": true
   },
   "outputs": [],
   "source": [
    "import pandas as pd\n",
    "from matplotlib import pyplot as plt"
   ]
  },
  {
   "cell_type": "code",
   "execution_count": 9,
   "metadata": {
    "collapsed": false
   },
   "outputs": [
    {
     "data": {
      "text/html": [
       "<div>\n",
       "<table border=\"1\" class=\"dataframe\">\n",
       "  <thead>\n",
       "    <tr style=\"text-align: right;\">\n",
       "      <th></th>\n",
       "      <th>Année</th>\n",
       "      <th>Code département</th>\n",
       "      <th>département</th>\n",
       "      <th>circonscription</th>\n",
       "      <th>Code</th>\n",
       "      <th>Inscrits</th>\n",
       "      <th>Taux d'étrangers (département et arrondissement)</th>\n",
       "      <th>Part des ménages imposés (communes pondérées par nombre de ménages)</th>\n",
       "      <th>Moyenne des 1er quartiles communales des revenus déclarés</th>\n",
       "      <th>Moyenne des médianes communales des revenus déclarés</th>\n",
       "      <th>...</th>\n",
       "      <th>Nombre de candidats de la même nuance en lice</th>\n",
       "      <th>Sexe candidat</th>\n",
       "      <th>Nom candidat</th>\n",
       "      <th>Prénom candidat</th>\n",
       "      <th>Etiquette liste</th>\n",
       "      <th>nuance</th>\n",
       "      <th>Député sortant ?</th>\n",
       "      <th>voix</th>\n",
       "      <th>% voix</th>\n",
       "      <th>Accès second tour</th>\n",
       "    </tr>\n",
       "  </thead>\n",
       "  <tbody>\n",
       "  </tbody>\n",
       "</table>\n",
       "<p>0 rows × 45 columns</p>\n",
       "</div>"
      ],
      "text/plain": [
       "Empty DataFrame\n",
       "Columns: [Année, Code département, département, circonscription, Code, Inscrits, Taux d'étrangers (département et arrondissement), Part des ménages imposés (communes pondérées par nombre de ménages), Moyenne des 1er quartiles communales des revenus déclarés, Moyenne des médianes communales des revenus déclarés, Moyenne des 3eme quartiles communales des revenus déclarés, Taux de chômage départemental, Evolution sur 5 ans, Taux de chômage départemental - 15 24 ans, Evolution sur 5 ans - 15-24 ans, Taux de chômage départemental - 25 49 ans, Evolution sur 5 ans - 25-49 ans, Taux de chômage départemental - 50 ans et +, Evolution sur 5 ans - 50 ans et +, Part Agriculteurs, Part Artisans, Commerçants, Chefs d'Entreprise, Part Cadres et Professions intellectuelles sup, Part Professions intermédiaires, Part Employés, Part Ouvriers, Part de diplômés A (Brevet), Part de diplômés B (CAP, BEP), Part de diplômés C (Bac), Part de diplômés D (Etudes Sup), Score du candidat aux législatives précédentes (si applicable), Le candidat est-il le député sortant ? 0 ou 1, Parti du député sortant de la circonscription, Score du parti aux présidentielles dans la circonscription, Score du parti aux législatives précédentes (cumul si alliances), Nombres de candidats en lice (ou leur score de parti cumulé), Nombre de candidats de la même nuance en lice, Sexe candidat, Nom candidat, Prénom candidat, Etiquette liste, nuance, Député sortant ?, voix, % voix, Accès second tour]\n",
       "Index: []\n",
       "\n",
       "[0 rows x 45 columns]"
      ]
     },
     "execution_count": 9,
     "metadata": {},
     "output_type": "execute_result"
    }
   ],
   "source": [
    "df = pd.read_excel(io='dataframe_elections.xlsx', names=['Année','Code département','département','circonscription','Code','Inscrits',\n",
    "                          'Taux d\\'étrangers (département et arrondissement)',\n",
    "                          'Part des ménages imposés (communes pondérées par nombre de ménages)',\n",
    "                          'Moyenne des 1er quartiles communales des revenus déclarés',\n",
    "                          'Moyenne des médianes communales des revenus déclarés',\n",
    "                          'Moyenne des 3eme quartiles communales des revenus déclarés',\n",
    "                          'Taux de chômage départemental','Evolution sur 5 ans',\n",
    "                          'Taux de chômage départemental - 15 24 ans','Evolution sur 5 ans - 15-24 ans',\n",
    "                          'Taux de chômage départemental - 25 49 ans','Evolution sur 5 ans - 25-49 ans',\n",
    "                          'Taux de chômage départemental - 50 ans et +','Evolution sur 5 ans - 50 ans et +',\n",
    "                          'Part Agriculteurs','Part Artisans, Commerçants, Chefs d\\'Entreprise',\n",
    "                          'Part Cadres et Professions intellectuelles sup','Part Professions intermédiaires',\n",
    "                          'Part Employés','Part Ouvriers','Part de diplômés A (Brevet)','Part de diplômés B (CAP, BEP)',\n",
    "                          'Part de diplômés C (Bac)','Part de diplômés D (Etudes Sup)',\n",
    "                          'Score du candidat aux législatives précédentes (si applicable)',\n",
    "                          'Le candidat est-il le député sortant ? 0 ou 1',\n",
    "                          'Parti du député sortant de la circonscription',\n",
    "                          'Score du parti aux présidentielles dans la circonscription',\n",
    "                          'Score du parti aux législatives précédentes (cumul si alliances)',\n",
    "                          'Nombres de candidats en lice (ou leur score de parti cumulé)',\n",
    "                          'Nombre de candidats de la même nuance en lice','Sexe candidat','Nom candidat',\n",
    "                          'Prénom candidat','Etiquette liste','nuance','Député sortant ?','voix','% voix',\n",
    "                          'Accès second tour'])\n",
    "df.dropna()"
   ]
  },
  {
   "cell_type": "code",
   "execution_count": 10,
   "metadata": {
    "collapsed": false
   },
   "outputs": [
    {
     "data": {
      "image/png": "[encoded data removed]",
      "text/plain": [
       "<matplotlib.figure.Figure at 0x7f1b83578978>"
      ]
     },
     "metadata": {},
     "output_type": "display_data"
    }
   ],
   "source": [
    "plt.matshow(df.corr())\n",
    "plt.show()"
   ]
  },
  {
   "cell_type": "code",
   "execution_count": null,
   "metadata": {
    "collapsed": true
   },
   "outputs": [],
   "source": []
  }
 ],
 "metadata": {
  "anaconda-cloud": {},
  "kernelspec": {
   "display_name": "Python 3",
   "language": "python",
   "name": "python3"
  },
  "language_info": {
   "codemirror_mode": {
    "name": "ipython",
    "version": 3
   },
   "file_extension": ".py",
   "mimetype": "text/x-python",
   "name": "python",
   "nbconvert_exporter": "python",
   "pygments_lexer": "ipython3",
   "version": "3.5.2"
  }
 },
 "nbformat": 4,
 "nbformat_minor": 2
}
