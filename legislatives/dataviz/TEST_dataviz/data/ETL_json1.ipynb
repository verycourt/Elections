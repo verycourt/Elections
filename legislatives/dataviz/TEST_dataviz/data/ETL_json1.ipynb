{
 "cells": [
  {
   "cell_type": "code",
   "execution_count": 1,
   "metadata": {
    "collapsed": true
   },
   "outputs": [],
   "source": [
    "import pandas as pd\n",
    "import numpy as np\n",
    "from datetime import date\n",
    "import unidecode"
   ]
  },
  {
   "cell_type": "code",
   "execution_count": 2,
   "metadata": {
    "collapsed": false
   },
   "outputs": [
    {
     "name": "stdout",
     "output_type": "stream",
     "text": [
      "deputies.json                Leg_2017_Resultats_T2_c.numbers  Untitled.ipynb\r\n",
      "\u001b[0m\u001b[01;32mfrench.json\u001b[0m*                 Leg_2017_Resultats_T2_c.xlsx\r\n",
      "Leg_2017_Resultats_T2_c.csv  \u001b[01;32mliste.csv\u001b[0m*\r\n"
     ]
    }
   ],
   "source": [
    "ls"
   ]
  },
  {
   "cell_type": "code",
   "execution_count": 3,
   "metadata": {
    "collapsed": false,
    "scrolled": true
   },
   "outputs": [],
   "source": [
    "res = pd.read_csv(\"Leg_2017_Resultats_T2_c.csv\", sep=\";\")\n",
    "htpr = pd.read_csv(\"liste.csv\")"
   ]
  },
  {
   "cell_type": "markdown",
   "metadata": {},
   "source": [
    "## Préparation de la table de résultat"
   ]
  },
  {
   "cell_type": "code",
   "execution_count": 4,
   "metadata": {
    "collapsed": false
   },
   "outputs": [],
   "source": [
    "res = res.rename(columns={\"Né(e)_le\":\"date\"})"
   ]
  },
  {
   "cell_type": "code",
   "execution_count": 5,
   "metadata": {
    "collapsed": true
   },
   "outputs": [],
   "source": [
    "def calculate_age(born):\n",
    "    today = date.today()\n",
    "    born = born.split(\"/\")\n",
    "    born_dict = {\"year\": int(\"19\"+born[2]) ,\"day\":int(born[1]),\"month\":int(born[0]) }\n",
    "    return today.year - born_dict[\"year\"] - ((today.month, today.day) < (born_dict[\"month\"], born_dict[\"day\"]))"
   ]
  },
  {
   "cell_type": "code",
   "execution_count": 6,
   "metadata": {
    "collapsed": false
   },
   "outputs": [
    {
     "data": {
      "text/plain": [
       "43"
      ]
     },
     "execution_count": 6,
     "metadata": {},
     "output_type": "execute_result"
    }
   ],
   "source": [
    "calculate_age(res[\"date\"][0])"
   ]
  },
  {
   "cell_type": "code",
   "execution_count": 7,
   "metadata": {
    "collapsed": true
   },
   "outputs": [],
   "source": [
    "res[\"age\"] = res[\"date\"].map(lambda x : calculate_age(x))"
   ]
  },
  {
   "cell_type": "code",
   "execution_count": 8,
   "metadata": {
    "collapsed": false
   },
   "outputs": [],
   "source": [
    "res[\"nom\"] = res[\"Désignation\"].map(lambda x: unidecode.unidecode(x.split(\" \")[1].strip()).upper())\n",
    "res[\"prenom\"] = res[\"Désignation\"].map(lambda x:unidecode.unidecode(x.split(\" \")[2].strip()).upper())"
   ]
  },
  {
   "cell_type": "code",
   "execution_count": 9,
   "metadata": {
    "collapsed": false
   },
   "outputs": [],
   "source": [
    "res[\"sexe\"] = res[\"Désignation\"].map(lambda x : \"M\" if x.split(\" \")[0]==\"M.\" else \"F\")"
   ]
  },
  {
   "cell_type": "code",
   "execution_count": 10,
   "metadata": {
    "collapsed": false
   },
   "outputs": [
    {
     "data": {
      "text/html": [
       "<div>\n",
       "<table border=\"1\" class=\"dataframe\">\n",
       "  <thead>\n",
       "    <tr style=\"text-align: right;\">\n",
       "      <th></th>\n",
       "      <th>Dpt</th>\n",
       "      <th>Nom_de_la_Circonscription</th>\n",
       "      <th>Désignation</th>\n",
       "      <th>Nuance</th>\n",
       "      <th>Score</th>\n",
       "      <th>Sortant</th>\n",
       "      <th>Perso.</th>\n",
       "      <th>date</th>\n",
       "      <th>Profession</th>\n",
       "      <th>Tour</th>\n",
       "      <th>age</th>\n",
       "      <th>nom</th>\n",
       "      <th>prenom</th>\n",
       "      <th>sexe</th>\n",
       "    </tr>\n",
       "  </thead>\n",
       "  <tbody>\n",
       "    <tr>\n",
       "      <th>0</th>\n",
       "      <td>ZA</td>\n",
       "      <td>1ère circonscription</td>\n",
       "      <td>M. SERVA Olivier</td>\n",
       "      <td>REM</td>\n",
       "      <td>61,74 %</td>\n",
       "      <td>NaN</td>\n",
       "      <td>NaN</td>\n",
       "      <td>6/21/74</td>\n",
       "      <td>34 - Expert comptable</td>\n",
       "      <td>2</td>\n",
       "      <td>43</td>\n",
       "      <td>SERVA</td>\n",
       "      <td>OLIVIER</td>\n",
       "      <td>M</td>\n",
       "    </tr>\n",
       "    <tr>\n",
       "      <th>1</th>\n",
       "      <td>ZA</td>\n",
       "      <td>2ème circonscription</td>\n",
       "      <td>Mme BENIN Justine</td>\n",
       "      <td>DVG</td>\n",
       "      <td>64,26 %</td>\n",
       "      <td>NaN</td>\n",
       "      <td>NaN</td>\n",
       "      <td>3/12/75</td>\n",
       "      <td>48 - Fonctionnaire de catégorie B</td>\n",
       "      <td>2</td>\n",
       "      <td>42</td>\n",
       "      <td>BENIN</td>\n",
       "      <td>JUSTINE</td>\n",
       "      <td>F</td>\n",
       "    </tr>\n",
       "    <tr>\n",
       "      <th>2</th>\n",
       "      <td>ZA</td>\n",
       "      <td>3ème circonscription</td>\n",
       "      <td>M. MATHIASIN Max</td>\n",
       "      <td>DVG</td>\n",
       "      <td>65,15 %</td>\n",
       "      <td>NaN</td>\n",
       "      <td>NaN</td>\n",
       "      <td>2/24/56</td>\n",
       "      <td>52 - Employé (autres entrep. publiques)</td>\n",
       "      <td>2</td>\n",
       "      <td>61</td>\n",
       "      <td>MATHIASIN</td>\n",
       "      <td>MAX</td>\n",
       "      <td>M</td>\n",
       "    </tr>\n",
       "    <tr>\n",
       "      <th>3</th>\n",
       "      <td>ZA</td>\n",
       "      <td>4ème circonscription</td>\n",
       "      <td>Mme VAINQUEUR-CHRISTOPHE Hélène</td>\n",
       "      <td>SOC</td>\n",
       "      <td>61,61 %</td>\n",
       "      <td>NaN</td>\n",
       "      <td>NaN</td>\n",
       "      <td>5/6/56</td>\n",
       "      <td>28 - Pharmacien</td>\n",
       "      <td>2</td>\n",
       "      <td>61</td>\n",
       "      <td>VAINQUEUR-CHRISTOPHE</td>\n",
       "      <td>HELENE</td>\n",
       "      <td>F</td>\n",
       "    </tr>\n",
       "    <tr>\n",
       "      <th>4</th>\n",
       "      <td>ZB</td>\n",
       "      <td>1ère circonscription</td>\n",
       "      <td>Mme MANIN Josette</td>\n",
       "      <td>DVG</td>\n",
       "      <td>54,89 %</td>\n",
       "      <td>NaN</td>\n",
       "      <td>NaN</td>\n",
       "      <td>3/16/50</td>\n",
       "      <td>61 - Retraité salarié privé</td>\n",
       "      <td>2</td>\n",
       "      <td>67</td>\n",
       "      <td>MANIN</td>\n",
       "      <td>JOSETTE</td>\n",
       "      <td>F</td>\n",
       "    </tr>\n",
       "  </tbody>\n",
       "</table>\n",
       "</div>"
      ],
      "text/plain": [
       "  Dpt Nom_de_la_Circonscription                      Désignation Nuance  \\\n",
       "0  ZA      1ère circonscription                 M. SERVA Olivier    REM   \n",
       "1  ZA      2ème circonscription                Mme BENIN Justine    DVG   \n",
       "2  ZA      3ème circonscription                 M. MATHIASIN Max    DVG   \n",
       "3  ZA      4ème circonscription  Mme VAINQUEUR-CHRISTOPHE Hélène    SOC   \n",
       "4  ZB      1ère circonscription                Mme MANIN Josette    DVG   \n",
       "\n",
       "     Score Sortant Perso.     date                               Profession  \\\n",
       "0  61,74 %     NaN    NaN  6/21/74                    34 - Expert comptable   \n",
       "1  64,26 %     NaN    NaN  3/12/75        48 - Fonctionnaire de catégorie B   \n",
       "2  65,15 %     NaN    NaN  2/24/56  52 - Employé (autres entrep. publiques)   \n",
       "3  61,61 %     NaN    NaN   5/6/56                          28 - Pharmacien   \n",
       "4  54,89 %     NaN    NaN  3/16/50              61 - Retraité salarié privé   \n",
       "\n",
       "   Tour  age                   nom   prenom sexe  \n",
       "0     2   43                 SERVA  OLIVIER    M  \n",
       "1     2   42                 BENIN  JUSTINE    F  \n",
       "2     2   61             MATHIASIN      MAX    M  \n",
       "3     2   61  VAINQUEUR-CHRISTOPHE   HELENE    F  \n",
       "4     2   67                 MANIN  JOSETTE    F  "
      ]
     },
     "execution_count": 10,
     "metadata": {},
     "output_type": "execute_result"
    }
   ],
   "source": [
    "res.head()"
   ]
  },
  {
   "cell_type": "markdown",
   "metadata": {},
   "source": [
    "## Préparation de la table de la haute autorité"
   ]
  },
  {
   "cell_type": "code",
   "execution_count": 11,
   "metadata": {
    "collapsed": false
   },
   "outputs": [],
   "source": [
    "htpr[\"nom\"] = htpr[\"nom\"].map(lambda x:unidecode.unidecode(x.strip()).upper())\n",
    "htpr[\"prenom\"] = htpr[\"prenom\"].map(lambda x:unidecode.unidecode(x.strip()).upper())"
   ]
  },
  {
   "cell_type": "code",
   "execution_count": 12,
   "metadata": {
    "collapsed": false
   },
   "outputs": [
    {
     "data": {
      "text/html": [
       "<div>\n",
       "<table border=\"1\" class=\"dataframe\">\n",
       "  <thead>\n",
       "    <tr style=\"text-align: right;\">\n",
       "      <th></th>\n",
       "      <th>civilite</th>\n",
       "      <th>prenom</th>\n",
       "      <th>nom</th>\n",
       "      <th>classement</th>\n",
       "      <th>type_mandat</th>\n",
       "      <th>qualite</th>\n",
       "      <th>type_document</th>\n",
       "      <th>departement</th>\n",
       "      <th>date_publication</th>\n",
       "      <th>nom_fichier</th>\n",
       "      <th>url_dossier</th>\n",
       "      <th>id_origine</th>\n",
       "      <th>url_photo</th>\n",
       "    </tr>\n",
       "  </thead>\n",
       "  <tbody>\n",
       "    <tr>\n",
       "      <th>0</th>\n",
       "      <td>Mme</td>\n",
       "      <td>ABBASSIA</td>\n",
       "      <td>HAKEM</td>\n",
       "      <td>hakemaaaabbassia4615</td>\n",
       "      <td>commune</td>\n",
       "      <td>Adjointe au maire de Nantes</td>\n",
       "      <td>di</td>\n",
       "      <td>44</td>\n",
       "      <td>2016-07-07</td>\n",
       "      <td>hakem-abbassia-di-commune-nantes.pdf</td>\n",
       "      <td>/pages_nominatives/hakem-abbassia</td>\n",
       "      <td>NaN</td>\n",
       "      <td>NaN</td>\n",
       "    </tr>\n",
       "    <tr>\n",
       "      <th>1</th>\n",
       "      <td>M.</td>\n",
       "      <td>ABDEL</td>\n",
       "      <td>GHEZALI</td>\n",
       "      <td>ghezaliaaaabdel3656</td>\n",
       "      <td>commune</td>\n",
       "      <td>Adjoint au maire de Besançon</td>\n",
       "      <td>di</td>\n",
       "      <td>25</td>\n",
       "      <td>2016-07-07</td>\n",
       "      <td>ghezali-abdel-di-commune-besancon.pdf</td>\n",
       "      <td>/pages_nominatives/ghezali-abdel</td>\n",
       "      <td>NaN</td>\n",
       "      <td>NaN</td>\n",
       "    </tr>\n",
       "    <tr>\n",
       "      <th>2</th>\n",
       "      <td>M.</td>\n",
       "      <td>ABDEL-MADJID</td>\n",
       "      <td>SADI</td>\n",
       "      <td>sadiaaaabdelmadjid8238</td>\n",
       "      <td>departement</td>\n",
       "      <td>Vice-Président du conseil départemental de la ...</td>\n",
       "      <td>di</td>\n",
       "      <td>93</td>\n",
       "      <td>2016-10-28</td>\n",
       "      <td>sadi-abdel-madjid-di-departement-93.pdf</td>\n",
       "      <td>/pages_nominatives/sadi-abdel-madjid-8238</td>\n",
       "      <td>NaN</td>\n",
       "      <td>NaN</td>\n",
       "    </tr>\n",
       "    <tr>\n",
       "      <th>3</th>\n",
       "      <td>M.</td>\n",
       "      <td>ABDOURAHAMANE</td>\n",
       "      <td>SOILIHI</td>\n",
       "      <td>soilihiaaaabdourahamane8213</td>\n",
       "      <td>senateur</td>\n",
       "      <td>Sénateur de Mayotte</td>\n",
       "      <td>dia</td>\n",
       "      <td>976</td>\n",
       "      <td>2014-07-23</td>\n",
       "      <td>soilihi-abdourahamane-dia-senateur-976.pdf</td>\n",
       "      <td>/pages_nominatives/soilihi-abdourahamane</td>\n",
       "      <td>11071M</td>\n",
       "      <td>http://www.senat.fr/senimg/soilihi_abdourahama...</td>\n",
       "    </tr>\n",
       "    <tr>\n",
       "      <th>4</th>\n",
       "      <td>M.</td>\n",
       "      <td>ABDOURAHAMANE</td>\n",
       "      <td>SOILIHI</td>\n",
       "      <td>soilihiaaaabdourahamane8213</td>\n",
       "      <td>senateur</td>\n",
       "      <td>Sénateur de Mayotte</td>\n",
       "      <td>dsp</td>\n",
       "      <td>976</td>\n",
       "      <td>2015-07-10</td>\n",
       "      <td>soilihi-abdourahamane-dsp-senateur-976.pdf</td>\n",
       "      <td>/pages_nominatives/soilihi-abdourahamane</td>\n",
       "      <td>11071M</td>\n",
       "      <td>http://www.senat.fr/senimg/soilihi_abdourahama...</td>\n",
       "    </tr>\n",
       "  </tbody>\n",
       "</table>\n",
       "</div>"
      ],
      "text/plain": [
       "  civilite         prenom      nom                   classement  type_mandat  \\\n",
       "0      Mme       ABBASSIA    HAKEM         hakemaaaabbassia4615      commune   \n",
       "1       M.          ABDEL  GHEZALI          ghezaliaaaabdel3656      commune   \n",
       "2       M.   ABDEL-MADJID     SADI       sadiaaaabdelmadjid8238  departement   \n",
       "3       M.  ABDOURAHAMANE  SOILIHI  soilihiaaaabdourahamane8213     senateur   \n",
       "4       M.  ABDOURAHAMANE  SOILIHI  soilihiaaaabdourahamane8213     senateur   \n",
       "\n",
       "                                             qualite type_document  \\\n",
       "0                        Adjointe au maire de Nantes            di   \n",
       "1                       Adjoint au maire de Besançon            di   \n",
       "2  Vice-Président du conseil départemental de la ...            di   \n",
       "3                                Sénateur de Mayotte           dia   \n",
       "4                                Sénateur de Mayotte           dsp   \n",
       "\n",
       "  departement date_publication                                 nom_fichier  \\\n",
       "0          44       2016-07-07        hakem-abbassia-di-commune-nantes.pdf   \n",
       "1          25       2016-07-07       ghezali-abdel-di-commune-besancon.pdf   \n",
       "2          93       2016-10-28     sadi-abdel-madjid-di-departement-93.pdf   \n",
       "3         976       2014-07-23  soilihi-abdourahamane-dia-senateur-976.pdf   \n",
       "4         976       2015-07-10  soilihi-abdourahamane-dsp-senateur-976.pdf   \n",
       "\n",
       "                                 url_dossier id_origine  \\\n",
       "0          /pages_nominatives/hakem-abbassia        NaN   \n",
       "1           /pages_nominatives/ghezali-abdel        NaN   \n",
       "2  /pages_nominatives/sadi-abdel-madjid-8238        NaN   \n",
       "3   /pages_nominatives/soilihi-abdourahamane     11071M   \n",
       "4   /pages_nominatives/soilihi-abdourahamane     11071M   \n",
       "\n",
       "                                           url_photo  \n",
       "0                                                NaN  \n",
       "1                                                NaN  \n",
       "2                                                NaN  \n",
       "3  http://www.senat.fr/senimg/soilihi_abdourahama...  \n",
       "4  http://www.senat.fr/senimg/soilihi_abdourahama...  "
      ]
     },
     "execution_count": 12,
     "metadata": {},
     "output_type": "execute_result"
    }
   ],
   "source": [
    "htpr.head()"
   ]
  },
  {
   "cell_type": "code",
   "execution_count": 13,
   "metadata": {
    "collapsed": false
   },
   "outputs": [
    {
     "data": {
      "text/html": [
       "<div>\n",
       "<table border=\"1\" class=\"dataframe\">\n",
       "  <thead>\n",
       "    <tr style=\"text-align: right;\">\n",
       "      <th></th>\n",
       "      <th>civilite</th>\n",
       "      <th>prenom</th>\n",
       "      <th>nom</th>\n",
       "      <th>classement</th>\n",
       "      <th>type_mandat</th>\n",
       "      <th>qualite</th>\n",
       "      <th>type_document</th>\n",
       "      <th>departement</th>\n",
       "      <th>date_publication</th>\n",
       "      <th>nom_fichier</th>\n",
       "      <th>url_dossier</th>\n",
       "      <th>id_origine</th>\n",
       "      <th>url_photo</th>\n",
       "    </tr>\n",
       "  </thead>\n",
       "  <tbody>\n",
       "    <tr>\n",
       "      <th>1770</th>\n",
       "      <td>M.</td>\n",
       "      <td>FRANCOIS</td>\n",
       "      <td>BAYROU</td>\n",
       "      <td>bayrouaaafrancois58</td>\n",
       "      <td>commune</td>\n",
       "      <td>Maire de Pau</td>\n",
       "      <td>di</td>\n",
       "      <td>64</td>\n",
       "      <td>2015-12-17</td>\n",
       "      <td>bayrou-francois-di-commune-pau.pdf</td>\n",
       "      <td>/pages_nominatives/bayrou-francois</td>\n",
       "      <td>NaN</td>\n",
       "      <td>NaN</td>\n",
       "    </tr>\n",
       "  </tbody>\n",
       "</table>\n",
       "</div>"
      ],
      "text/plain": [
       "     civilite    prenom     nom           classement type_mandat  \\\n",
       "1770       M.  FRANCOIS  BAYROU  bayrouaaafrancois58     commune   \n",
       "\n",
       "           qualite type_document departement date_publication  \\\n",
       "1770  Maire de Pau            di          64       2015-12-17   \n",
       "\n",
       "                             nom_fichier                         url_dossier  \\\n",
       "1770  bayrou-francois-di-commune-pau.pdf  /pages_nominatives/bayrou-francois   \n",
       "\n",
       "     id_origine url_photo  \n",
       "1770        NaN       NaN  "
      ]
     },
     "execution_count": 13,
     "metadata": {},
     "output_type": "execute_result"
    }
   ],
   "source": [
    "htpr[htpr[\"nom\"]==\"BAYROU\"]"
   ]
  },
  {
   "cell_type": "code",
   "execution_count": 14,
   "metadata": {
    "collapsed": false
   },
   "outputs": [],
   "source": [
    "# Garde que les personnes qui ont un dossier renseignée \n",
    "htpr = htpr[~htpr[\"url_dossier\"].isnull()]\n",
    "htpr[\"link\"] = htpr[\"nom_fichier\"].map(lambda x : \"http://www.hatvp.fr/livraison/dossiers/\"+str(x))"
   ]
  },
  {
   "cell_type": "code",
   "execution_count": 15,
   "metadata": {
    "collapsed": false
   },
   "outputs": [
    {
     "name": "stdout",
     "output_type": "stream",
     "text": [
      "(5563, 14)\n"
     ]
    }
   ],
   "source": [
    "print(htpr.shape)"
   ]
  },
  {
   "cell_type": "code",
   "execution_count": 17,
   "metadata": {
    "collapsed": false
   },
   "outputs": [],
   "source": [
    "# Prendre la photo la plus récente \n",
    "sub_htrp = htpr.dropna()\n",
    "sub_htrp = sub_htrp.sort_values([\"nom\",\"prenom\",\"date_publication\"], ascending=False)\n",
    "sub_htrp = sub_htrp.drop_duplicates([\"nom\",\"prenom\"])\n",
    "sub_htrp = sub_htrp.rename(columns={\"url_photo\": \"link_pict\"})"
   ]
  },
  {
   "cell_type": "code",
   "execution_count": 18,
   "metadata": {
    "collapsed": false
   },
   "outputs": [],
   "source": [
    "htpr = pd.merge(htpr, sub_htrp[[\"nom\",\"prenom\",\"link_pict\"]],how=\"left\", on=[\"nom\",\"prenom\"])"
   ]
  },
  {
   "cell_type": "code",
   "execution_count": 19,
   "metadata": {
    "collapsed": false
   },
   "outputs": [
    {
     "data": {
      "text/html": [
       "<div>\n",
       "<table border=\"1\" class=\"dataframe\">\n",
       "  <thead>\n",
       "    <tr style=\"text-align: right;\">\n",
       "      <th></th>\n",
       "      <th>civilite</th>\n",
       "      <th>prenom</th>\n",
       "      <th>nom</th>\n",
       "      <th>classement</th>\n",
       "      <th>type_mandat</th>\n",
       "      <th>qualite</th>\n",
       "      <th>type_document</th>\n",
       "      <th>departement</th>\n",
       "      <th>date_publication</th>\n",
       "      <th>nom_fichier</th>\n",
       "      <th>url_dossier</th>\n",
       "      <th>id_origine</th>\n",
       "      <th>url_photo</th>\n",
       "      <th>link</th>\n",
       "      <th>link_pict</th>\n",
       "    </tr>\n",
       "  </thead>\n",
       "  <tbody>\n",
       "    <tr>\n",
       "      <th>0</th>\n",
       "      <td>Mme</td>\n",
       "      <td>ABBASSIA</td>\n",
       "      <td>HAKEM</td>\n",
       "      <td>hakemaaaabbassia4615</td>\n",
       "      <td>commune</td>\n",
       "      <td>Adjointe au maire de Nantes</td>\n",
       "      <td>di</td>\n",
       "      <td>44</td>\n",
       "      <td>2016-07-07</td>\n",
       "      <td>hakem-abbassia-di-commune-nantes.pdf</td>\n",
       "      <td>/pages_nominatives/hakem-abbassia</td>\n",
       "      <td>NaN</td>\n",
       "      <td>NaN</td>\n",
       "      <td>http://www.hatvp.fr/livraison/dossiers/hakem-a...</td>\n",
       "      <td>NaN</td>\n",
       "    </tr>\n",
       "    <tr>\n",
       "      <th>1</th>\n",
       "      <td>M.</td>\n",
       "      <td>ABDEL</td>\n",
       "      <td>GHEZALI</td>\n",
       "      <td>ghezaliaaaabdel3656</td>\n",
       "      <td>commune</td>\n",
       "      <td>Adjoint au maire de Besançon</td>\n",
       "      <td>di</td>\n",
       "      <td>25</td>\n",
       "      <td>2016-07-07</td>\n",
       "      <td>ghezali-abdel-di-commune-besancon.pdf</td>\n",
       "      <td>/pages_nominatives/ghezali-abdel</td>\n",
       "      <td>NaN</td>\n",
       "      <td>NaN</td>\n",
       "      <td>http://www.hatvp.fr/livraison/dossiers/ghezali...</td>\n",
       "      <td>NaN</td>\n",
       "    </tr>\n",
       "    <tr>\n",
       "      <th>2</th>\n",
       "      <td>M.</td>\n",
       "      <td>ABDEL-MADJID</td>\n",
       "      <td>SADI</td>\n",
       "      <td>sadiaaaabdelmadjid8238</td>\n",
       "      <td>departement</td>\n",
       "      <td>Vice-Président du conseil départemental de la ...</td>\n",
       "      <td>di</td>\n",
       "      <td>93</td>\n",
       "      <td>2016-10-28</td>\n",
       "      <td>sadi-abdel-madjid-di-departement-93.pdf</td>\n",
       "      <td>/pages_nominatives/sadi-abdel-madjid-8238</td>\n",
       "      <td>NaN</td>\n",
       "      <td>NaN</td>\n",
       "      <td>http://www.hatvp.fr/livraison/dossiers/sadi-ab...</td>\n",
       "      <td>NaN</td>\n",
       "    </tr>\n",
       "    <tr>\n",
       "      <th>3</th>\n",
       "      <td>M.</td>\n",
       "      <td>ABDOURAHAMANE</td>\n",
       "      <td>SOILIHI</td>\n",
       "      <td>soilihiaaaabdourahamane8213</td>\n",
       "      <td>senateur</td>\n",
       "      <td>Sénateur de Mayotte</td>\n",
       "      <td>dia</td>\n",
       "      <td>976</td>\n",
       "      <td>2014-07-23</td>\n",
       "      <td>soilihi-abdourahamane-dia-senateur-976.pdf</td>\n",
       "      <td>/pages_nominatives/soilihi-abdourahamane</td>\n",
       "      <td>11071M</td>\n",
       "      <td>http://www.senat.fr/senimg/soilihi_abdourahama...</td>\n",
       "      <td>http://www.hatvp.fr/livraison/dossiers/soilihi...</td>\n",
       "      <td>http://www.senat.fr/senimg/soilihi_abdourahama...</td>\n",
       "    </tr>\n",
       "    <tr>\n",
       "      <th>4</th>\n",
       "      <td>M.</td>\n",
       "      <td>ABDOURAHAMANE</td>\n",
       "      <td>SOILIHI</td>\n",
       "      <td>soilihiaaaabdourahamane8213</td>\n",
       "      <td>senateur</td>\n",
       "      <td>Sénateur de Mayotte</td>\n",
       "      <td>dsp</td>\n",
       "      <td>976</td>\n",
       "      <td>2015-07-10</td>\n",
       "      <td>soilihi-abdourahamane-dsp-senateur-976.pdf</td>\n",
       "      <td>/pages_nominatives/soilihi-abdourahamane</td>\n",
       "      <td>11071M</td>\n",
       "      <td>http://www.senat.fr/senimg/soilihi_abdourahama...</td>\n",
       "      <td>http://www.hatvp.fr/livraison/dossiers/soilihi...</td>\n",
       "      <td>http://www.senat.fr/senimg/soilihi_abdourahama...</td>\n",
       "    </tr>\n",
       "  </tbody>\n",
       "</table>\n",
       "</div>"
      ],
      "text/plain": [
       "  civilite         prenom      nom                   classement  type_mandat  \\\n",
       "0      Mme       ABBASSIA    HAKEM         hakemaaaabbassia4615      commune   \n",
       "1       M.          ABDEL  GHEZALI          ghezaliaaaabdel3656      commune   \n",
       "2       M.   ABDEL-MADJID     SADI       sadiaaaabdelmadjid8238  departement   \n",
       "3       M.  ABDOURAHAMANE  SOILIHI  soilihiaaaabdourahamane8213     senateur   \n",
       "4       M.  ABDOURAHAMANE  SOILIHI  soilihiaaaabdourahamane8213     senateur   \n",
       "\n",
       "                                             qualite type_document  \\\n",
       "0                        Adjointe au maire de Nantes            di   \n",
       "1                       Adjoint au maire de Besançon            di   \n",
       "2  Vice-Président du conseil départemental de la ...            di   \n",
       "3                                Sénateur de Mayotte           dia   \n",
       "4                                Sénateur de Mayotte           dsp   \n",
       "\n",
       "  departement date_publication                                 nom_fichier  \\\n",
       "0          44       2016-07-07        hakem-abbassia-di-commune-nantes.pdf   \n",
       "1          25       2016-07-07       ghezali-abdel-di-commune-besancon.pdf   \n",
       "2          93       2016-10-28     sadi-abdel-madjid-di-departement-93.pdf   \n",
       "3         976       2014-07-23  soilihi-abdourahamane-dia-senateur-976.pdf   \n",
       "4         976       2015-07-10  soilihi-abdourahamane-dsp-senateur-976.pdf   \n",
       "\n",
       "                                 url_dossier id_origine  \\\n",
       "0          /pages_nominatives/hakem-abbassia        NaN   \n",
       "1           /pages_nominatives/ghezali-abdel        NaN   \n",
       "2  /pages_nominatives/sadi-abdel-madjid-8238        NaN   \n",
       "3   /pages_nominatives/soilihi-abdourahamane     11071M   \n",
       "4   /pages_nominatives/soilihi-abdourahamane     11071M   \n",
       "\n",
       "                                           url_photo  \\\n",
       "0                                                NaN   \n",
       "1                                                NaN   \n",
       "2                                                NaN   \n",
       "3  http://www.senat.fr/senimg/soilihi_abdourahama...   \n",
       "4  http://www.senat.fr/senimg/soilihi_abdourahama...   \n",
       "\n",
       "                                                link  \\\n",
       "0  http://www.hatvp.fr/livraison/dossiers/hakem-a...   \n",
       "1  http://www.hatvp.fr/livraison/dossiers/ghezali...   \n",
       "2  http://www.hatvp.fr/livraison/dossiers/sadi-ab...   \n",
       "3  http://www.hatvp.fr/livraison/dossiers/soilihi...   \n",
       "4  http://www.hatvp.fr/livraison/dossiers/soilihi...   \n",
       "\n",
       "                                           link_pict  \n",
       "0                                                NaN  \n",
       "1                                                NaN  \n",
       "2                                                NaN  \n",
       "3  http://www.senat.fr/senimg/soilihi_abdourahama...  \n",
       "4  http://www.senat.fr/senimg/soilihi_abdourahama...  "
      ]
     },
     "execution_count": 19,
     "metadata": {},
     "output_type": "execute_result"
    }
   ],
   "source": [
    "htpr.head()"
   ]
  },
  {
   "cell_type": "code",
   "execution_count": 20,
   "metadata": {
    "collapsed": false
   },
   "outputs": [
    {
     "name": "stdout",
     "output_type": "stream",
     "text": [
      "(5563, 15)\n"
     ]
    }
   ],
   "source": [
    "print(htpr.shape)"
   ]
  },
  {
   "cell_type": "code",
   "execution_count": 21,
   "metadata": {
    "collapsed": true
   },
   "outputs": [],
   "source": [
    "# garder la déclaration la plus récente \n",
    "htpr = htpr.sort_values([\"nom\",\"prenom\",\"date_publication\"], ascending=False)"
   ]
  },
  {
   "cell_type": "code",
   "execution_count": 23,
   "metadata": {
    "collapsed": false
   },
   "outputs": [
    {
     "data": {
      "text/html": [
       "<div>\n",
       "<table border=\"1\" class=\"dataframe\">\n",
       "  <thead>\n",
       "    <tr style=\"text-align: right;\">\n",
       "      <th></th>\n",
       "      <th>civilite</th>\n",
       "      <th>prenom</th>\n",
       "      <th>nom</th>\n",
       "      <th>classement</th>\n",
       "      <th>type_mandat</th>\n",
       "      <th>qualite</th>\n",
       "      <th>type_document</th>\n",
       "      <th>departement</th>\n",
       "      <th>date_publication</th>\n",
       "      <th>nom_fichier</th>\n",
       "      <th>url_dossier</th>\n",
       "      <th>id_origine</th>\n",
       "      <th>url_photo</th>\n",
       "      <th>link</th>\n",
       "      <th>link_pict</th>\n",
       "    </tr>\n",
       "  </thead>\n",
       "  <tbody>\n",
       "    <tr>\n",
       "      <th>589</th>\n",
       "      <td>M.</td>\n",
       "      <td>BERNARD</td>\n",
       "      <td>ZUNINO</td>\n",
       "      <td>zuninoaaabernard9220</td>\n",
       "      <td>commune</td>\n",
       "      <td>Maire de Saint-Michel-sur-Orge</td>\n",
       "      <td>di</td>\n",
       "      <td>91</td>\n",
       "      <td>2015-12-17</td>\n",
       "      <td>zunino-bernard-di-commune-saint-michel-sur-org...</td>\n",
       "      <td>/pages_nominatives/zunino-bernard</td>\n",
       "      <td>NaN</td>\n",
       "      <td>NaN</td>\n",
       "      <td>http://www.hatvp.fr/livraison/dossiers/zunino-...</td>\n",
       "      <td>NaN</td>\n",
       "    </tr>\n",
       "    <tr>\n",
       "      <th>4090</th>\n",
       "      <td>M.</td>\n",
       "      <td>MICHEL</td>\n",
       "      <td>ZUMKELLER</td>\n",
       "      <td>zumkelleraaamichel9238</td>\n",
       "      <td>depute</td>\n",
       "      <td>Député du Territoire de Belfort</td>\n",
       "      <td>dsp</td>\n",
       "      <td>90</td>\n",
       "      <td>2015-07-10</td>\n",
       "      <td>zumkeller-michel-dsp-depute-90.pdf</td>\n",
       "      <td>/pages_nominatives/zumkeller-michel</td>\n",
       "      <td>267330</td>\n",
       "      <td>http://www2.assemblee-nationale.fr/static/trib...</td>\n",
       "      <td>http://www.hatvp.fr/livraison/dossiers/zumkell...</td>\n",
       "      <td>http://www2.assemblee-nationale.fr/static/trib...</td>\n",
       "    </tr>\n",
       "    <tr>\n",
       "      <th>4089</th>\n",
       "      <td>M.</td>\n",
       "      <td>MICHEL</td>\n",
       "      <td>ZUMKELLER</td>\n",
       "      <td>zumkelleraaamichel9238</td>\n",
       "      <td>depute</td>\n",
       "      <td>Député du Territoire de Belfort</td>\n",
       "      <td>dia</td>\n",
       "      <td>90</td>\n",
       "      <td>2014-07-23</td>\n",
       "      <td>zumkeller-michel-dia-depute-90.pdf</td>\n",
       "      <td>/pages_nominatives/zumkeller-michel</td>\n",
       "      <td>267330</td>\n",
       "      <td>http://www2.assemblee-nationale.fr/static/trib...</td>\n",
       "      <td>http://www.hatvp.fr/livraison/dossiers/zumkell...</td>\n",
       "      <td>http://www2.assemblee-nationale.fr/static/trib...</td>\n",
       "    </tr>\n",
       "    <tr>\n",
       "      <th>3764</th>\n",
       "      <td>Mme</td>\n",
       "      <td>MARIE</td>\n",
       "      <td>ZUCCARELLI</td>\n",
       "      <td>ZUCCARELLI Marie10371</td>\n",
       "      <td>departement</td>\n",
       "      <td>Conseillère départementale de la Corse-du-Sud</td>\n",
       "      <td>di</td>\n",
       "      <td>2A</td>\n",
       "      <td>NaN</td>\n",
       "      <td>NaN</td>\n",
       "      <td>/pages_nominatives/zuccarelli-marie</td>\n",
       "      <td>NaN</td>\n",
       "      <td>NaN</td>\n",
       "      <td>http://www.hatvp.fr/livraison/dossiers/nan</td>\n",
       "      <td>NaN</td>\n",
       "    </tr>\n",
       "    <tr>\n",
       "      <th>2933</th>\n",
       "      <td>M.</td>\n",
       "      <td>JEAN-MARIE</td>\n",
       "      <td>ZOELLE</td>\n",
       "      <td>zoelleaaajeanmarie9213</td>\n",
       "      <td>commune</td>\n",
       "      <td>Maire de Saint-Louis</td>\n",
       "      <td>di</td>\n",
       "      <td>57</td>\n",
       "      <td>2015-12-17</td>\n",
       "      <td>zoelle-jean-marie-di-commune-saint-louis.pdf</td>\n",
       "      <td>/pages_nominatives/zoelle-jean-marie</td>\n",
       "      <td>NaN</td>\n",
       "      <td>NaN</td>\n",
       "      <td>http://www.hatvp.fr/livraison/dossiers/zoelle-...</td>\n",
       "      <td>NaN</td>\n",
       "    </tr>\n",
       "  </tbody>\n",
       "</table>\n",
       "</div>"
      ],
      "text/plain": [
       "     civilite      prenom         nom              classement  type_mandat  \\\n",
       "589        M.     BERNARD      ZUNINO    zuninoaaabernard9220      commune   \n",
       "4090       M.      MICHEL   ZUMKELLER  zumkelleraaamichel9238       depute   \n",
       "4089       M.      MICHEL   ZUMKELLER  zumkelleraaamichel9238       depute   \n",
       "3764      Mme       MARIE  ZUCCARELLI   ZUCCARELLI Marie10371  departement   \n",
       "2933       M.  JEAN-MARIE      ZOELLE  zoelleaaajeanmarie9213      commune   \n",
       "\n",
       "                                            qualite type_document departement  \\\n",
       "589                  Maire de Saint-Michel-sur-Orge            di          91   \n",
       "4090                Député du Territoire de Belfort           dsp          90   \n",
       "4089                Député du Territoire de Belfort           dia          90   \n",
       "3764  Conseillère départementale de la Corse-du-Sud            di          2A   \n",
       "2933                           Maire de Saint-Louis            di          57   \n",
       "\n",
       "     date_publication                                        nom_fichier  \\\n",
       "589        2015-12-17  zunino-bernard-di-commune-saint-michel-sur-org...   \n",
       "4090       2015-07-10                 zumkeller-michel-dsp-depute-90.pdf   \n",
       "4089       2014-07-23                 zumkeller-michel-dia-depute-90.pdf   \n",
       "3764              NaN                                                NaN   \n",
       "2933       2015-12-17       zoelle-jean-marie-di-commune-saint-louis.pdf   \n",
       "\n",
       "                               url_dossier id_origine  \\\n",
       "589      /pages_nominatives/zunino-bernard        NaN   \n",
       "4090   /pages_nominatives/zumkeller-michel     267330   \n",
       "4089   /pages_nominatives/zumkeller-michel     267330   \n",
       "3764   /pages_nominatives/zuccarelli-marie        NaN   \n",
       "2933  /pages_nominatives/zoelle-jean-marie        NaN   \n",
       "\n",
       "                                              url_photo  \\\n",
       "589                                                 NaN   \n",
       "4090  http://www2.assemblee-nationale.fr/static/trib...   \n",
       "4089  http://www2.assemblee-nationale.fr/static/trib...   \n",
       "3764                                                NaN   \n",
       "2933                                                NaN   \n",
       "\n",
       "                                                   link  \\\n",
       "589   http://www.hatvp.fr/livraison/dossiers/zunino-...   \n",
       "4090  http://www.hatvp.fr/livraison/dossiers/zumkell...   \n",
       "4089  http://www.hatvp.fr/livraison/dossiers/zumkell...   \n",
       "3764         http://www.hatvp.fr/livraison/dossiers/nan   \n",
       "2933  http://www.hatvp.fr/livraison/dossiers/zoelle-...   \n",
       "\n",
       "                                              link_pict  \n",
       "589                                                 NaN  \n",
       "4090  http://www2.assemblee-nationale.fr/static/trib...  \n",
       "4089  http://www2.assemblee-nationale.fr/static/trib...  \n",
       "3764                                                NaN  \n",
       "2933                                                NaN  "
      ]
     },
     "execution_count": 23,
     "metadata": {},
     "output_type": "execute_result"
    }
   ],
   "source": [
    "htpr.head()"
   ]
  },
  {
   "cell_type": "code",
   "execution_count": 24,
   "metadata": {
    "collapsed": true
   },
   "outputs": [],
   "source": [
    "htpr = htpr.drop_duplicates([\"nom\",\"prenom\"], keep='first')"
   ]
  },
  {
   "cell_type": "code",
   "execution_count": 26,
   "metadata": {
    "collapsed": false
   },
   "outputs": [
    {
     "data": {
      "text/plain": [
       "(3417, 15)"
      ]
     },
     "execution_count": 26,
     "metadata": {},
     "output_type": "execute_result"
    }
   ],
   "source": [
    "htpr.shape"
   ]
  },
  {
   "cell_type": "markdown",
   "metadata": {},
   "source": [
    "## Préparation table résultat premier tour "
   ]
  },
  {
   "cell_type": "code",
   "execution_count": 51,
   "metadata": {
    "collapsed": true
   },
   "outputs": [],
   "source": [
    "vrai_res = pd.read_excel(\"Leg_2017_Resultats_T1_c.xlsx\", sheetname=\"Circo. leg. T1\", skiprows=2)"
   ]
  },
  {
   "cell_type": "code",
   "execution_count": 52,
   "metadata": {
    "collapsed": true
   },
   "outputs": [],
   "source": [
    "vrai_res[\"code\"] = vrai_res.apply(lambda row : str(row[\"Code du département\"])+'|'\n",
    "                                  +str(row[\"Code de la circonscription\"]), axis=1)\n",
    "\n",
    "vrai_res = vrai_res.set_index(\"code\")\n",
    "\n",
    "one_df = vrai_res[[\"Nom\",\"Nom.1\",\"Nom.2\",\"Nom.3\",\"Nom.4\",\"Nom.5\",\"Nom.6\",\n",
    "         \"Nom.7\",\"Nom.8\",\"Nom.9\",\"Nom.10\",\"Nom.11\",\"Nom.12\",\"Nom.13\",\"Nom.14\",\"Nom.15\",\"Nom.16\",\"Nom.17\",\"Nom.18\",\n",
    "         \"Nom.19\",\"Nom.20\",\"Nom.21\",\"Nom.22\",\"Nom.23\",\"Nom.24\",\n",
    "         \"Nom.25\",\"Nom.26\"]].stack()\n",
    "one_df = one_df.rename(\"nom\")\n",
    "one_df = one_df.reset_index()\n",
    "del one_df[\"level_1\"]\n",
    "\n",
    "two_df = vrai_res[[\"Prénom\",\"Prénom.1\",\"Prénom.2\",\"Prénom.3\",\"Prénom.4\",\"Prénom.5\",\"Prénom.6\",\n",
    "         \"Prénom.7\",\"Prénom.8\",\"Prénom.9\",\"Prénom.10\",\"Prénom.11\",\"Prénom.12\",\"Prénom.13\",\"Prénom.14\",\n",
    "        \"Prénom.15\",\"Prénom.16\",\"Prénom.17\",\"Prénom.18\",\n",
    "         \"Prénom.19\",\"Prénom.20\",\"Prénom.21\",\"Prénom.22\",\"Prénom.23\",\"Prénom.24\",\n",
    "         \"Prénom.25\",\"Prénom.26\"]].stack()\n",
    "two_df = two_df.rename(\"prenom\")\n",
    "two_df = two_df.reset_index()\n",
    "del two_df[\"code\"]\n",
    "del two_df[\"level_1\"]\n",
    "\n",
    "tree_df = vrai_res[[\"% Voix/Exp\",\"% Voix/Exp.1\",\"% Voix/Exp.2\",\"% Voix/Exp.3\",\"% Voix/Exp.4\",\"% Voix/Exp.5\",\n",
    "                    \"% Voix/Exp.6\",\n",
    "         \"% Voix/Exp.7\",\"% Voix/Exp.8\",\"% Voix/Exp.9\",\"% Voix/Exp.10\",\"% Voix/Exp.11\",\"% Voix/Exp.12\",\n",
    "                    \"% Voix/Exp.13\",\"% Voix/Exp.14\",\n",
    "        \"% Voix/Exp.15\",\"% Voix/Exp.16\",\"% Voix/Exp.17\",\"% Voix/Exp.18\",\n",
    "         \"% Voix/Exp.19\",\"% Voix/Exp.20\",\"% Voix/Exp.21\",\"% Voix/Exp.22\",\"% Voix/Exp.23\",\"% Voix/Exp.24\",\n",
    "         \"% Voix/Exp.25\",\"% Voix/Exp.26\"]].stack()\n",
    "tree_df = tree_df.rename(\"score_exp\")\n",
    "tree_df = tree_df.reset_index()\n",
    "del tree_df[\"code\"]\n",
    "del tree_df[\"level_1\"]\n",
    "\n",
    "\n",
    "quar_df = vrai_res[[\"% Voix/Ins\",\"% Voix/Ins.1\",\"% Voix/Ins.2\",\"% Voix/Ins.3\",\"% Voix/Ins.4\",\"% Voix/Ins.5\",\n",
    "                    \"% Voix/Ins.6\",\n",
    "         \"% Voix/Ins.7\",\"% Voix/Ins.8\",\"% Voix/Ins.9\",\"% Voix/Ins.10\",\"% Voix/Ins.11\",\"% Voix/Ins.12\",\n",
    "                    \"% Voix/Ins.13\",\"% Voix/Ins.14\",\n",
    "        \"% Voix/Ins.15\",\"% Voix/Ins.16\",\"% Voix/Ins.17\",\"% Voix/Ins.18\",\n",
    "         \"% Voix/Ins.19\",\"% Voix/Ins.20\",\"% Voix/Ins.21\",\"% Voix/Ins.22\",\"% Voix/Ins.23\",\"% Voix/Ins.24\",\n",
    "         \"% Voix/Ins.25\",\"% Voix/Ins.26\"]].stack()\n",
    "quar_df = quar_df.rename(\"score_ins\")\n",
    "quar_df = quar_df.reset_index()\n",
    "del quar_df[\"code\"]\n",
    "del quar_df[\"level_1\"]\n",
    "\n",
    "df_resultat = pd.concat([one_df, two_df, tree_df, quar_df], axis=1)"
   ]
  },
  {
   "cell_type": "code",
   "execution_count": 53,
   "metadata": {
    "collapsed": true
   },
   "outputs": [],
   "source": [
    "df_resultat[\"nom\"] = df_resultat[\"nom\"].map(lambda x: unidecode.unidecode(x.strip()).upper())\n",
    "df_resultat[\"prenom\"] = df_resultat[\"prenom\"].map(lambda x: unidecode.unidecode(x.strip()).upper())"
   ]
  },
  {
   "cell_type": "code",
   "execution_count": 54,
   "metadata": {
    "collapsed": false
   },
   "outputs": [
    {
     "data": {
      "text/html": [
       "<div>\n",
       "<table border=\"1\" class=\"dataframe\">\n",
       "  <thead>\n",
       "    <tr style=\"text-align: right;\">\n",
       "      <th></th>\n",
       "      <th>code</th>\n",
       "      <th>nom</th>\n",
       "      <th>prenom</th>\n",
       "      <th>score_exp</th>\n",
       "      <th>score_ins</th>\n",
       "    </tr>\n",
       "  </thead>\n",
       "  <tbody>\n",
       "    <tr>\n",
       "      <th>0</th>\n",
       "      <td>1|1</td>\n",
       "      <td>LEPAGNOT</td>\n",
       "      <td>MAUDE</td>\n",
       "      <td>0.73</td>\n",
       "      <td>0.35</td>\n",
       "    </tr>\n",
       "    <tr>\n",
       "      <th>1</th>\n",
       "      <td>1|1</td>\n",
       "      <td>FONTAINE</td>\n",
       "      <td>JACQUES</td>\n",
       "      <td>1.64</td>\n",
       "      <td>0.79</td>\n",
       "    </tr>\n",
       "    <tr>\n",
       "      <th>2</th>\n",
       "      <td>1|1</td>\n",
       "      <td>MARTIN ZEMLIK</td>\n",
       "      <td>FABRINE</td>\n",
       "      <td>9.70</td>\n",
       "      <td>4.68</td>\n",
       "    </tr>\n",
       "    <tr>\n",
       "      <th>3</th>\n",
       "      <td>1|1</td>\n",
       "      <td>BLATRIX-CONTAT</td>\n",
       "      <td>FLORENCE</td>\n",
       "      <td>9.23</td>\n",
       "      <td>4.46</td>\n",
       "    </tr>\n",
       "    <tr>\n",
       "      <th>4</th>\n",
       "      <td>1|1</td>\n",
       "      <td>RAIMONDO</td>\n",
       "      <td>LAURANE</td>\n",
       "      <td>1.41</td>\n",
       "      <td>0.68</td>\n",
       "    </tr>\n",
       "  </tbody>\n",
       "</table>\n",
       "</div>"
      ],
      "text/plain": [
       "  code             nom    prenom  score_exp  score_ins\n",
       "0  1|1        LEPAGNOT     MAUDE       0.73       0.35\n",
       "1  1|1        FONTAINE   JACQUES       1.64       0.79\n",
       "2  1|1   MARTIN ZEMLIK   FABRINE       9.70       4.68\n",
       "3  1|1  BLATRIX-CONTAT  FLORENCE       9.23       4.46\n",
       "4  1|1        RAIMONDO   LAURANE       1.41       0.68"
      ]
     },
     "execution_count": 54,
     "metadata": {},
     "output_type": "execute_result"
    }
   ],
   "source": [
    "df_resultat.head()"
   ]
  },
  {
   "cell_type": "markdown",
   "metadata": {},
   "source": [
    "## Merge table "
   ]
  },
  {
   "cell_type": "code",
   "execution_count": 27,
   "metadata": {
    "collapsed": false
   },
   "outputs": [
    {
     "name": "stdout",
     "output_type": "stream",
     "text": [
      "(577, 14)\n"
     ]
    }
   ],
   "source": [
    "print(res.shape)"
   ]
  },
  {
   "cell_type": "code",
   "execution_count": 42,
   "metadata": {
    "collapsed": true
   },
   "outputs": [],
   "source": [
    "json = pd.merge(res, htpr[[\"nom\",\"prenom\",\"link\",\"link_pict\"]], how=\"left\", on=[\"nom\",\"prenom\"])"
   ]
  },
  {
   "cell_type": "code",
   "execution_count": 55,
   "metadata": {
    "collapsed": true
   },
   "outputs": [],
   "source": [
    "# 40 NOMS qui déconne à régler\n",
    "json = pd.merge(json, df_resultat, on=[\"nom\",\"prenom\"])"
   ]
  },
  {
   "cell_type": "code",
   "execution_count": 56,
   "metadata": {
    "collapsed": false
   },
   "outputs": [
    {
     "data": {
      "text/plain": [
       "(536, 19)"
      ]
     },
     "execution_count": 56,
     "metadata": {},
     "output_type": "execute_result"
    }
   ],
   "source": [
    "json.shape"
   ]
  },
  {
   "cell_type": "code",
   "execution_count": null,
   "metadata": {
    "collapsed": true
   },
   "outputs": [],
   "source": []
  }
 ],
 "metadata": {
  "kernelspec": {
   "display_name": "Python [Root]",
   "language": "python",
   "name": "Python [Root]"
  },
  "language_info": {
   "codemirror_mode": {
    "name": "ipython",
    "version": 3
   },
   "file_extension": ".py",
   "mimetype": "text/x-python",
   "name": "python",
   "nbconvert_exporter": "python",
   "pygments_lexer": "ipython3",
   "version": "3.5.2"
  }
 },
 "nbformat": 4,
 "nbformat_minor": 2
}
