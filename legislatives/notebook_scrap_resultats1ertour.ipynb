{
 "cells": [
  {
   "cell_type": "code",
   "execution_count": 145,
   "metadata": {
    "collapsed": false
   },
   "outputs": [],
   "source": [
    "import requests\n",
    "from bs4 import BeautifulSoup\n",
    "import pandas as pd\n",
    "import re\n",
    "import unicodedata"
   ]
  },
  {
   "cell_type": "code",
   "execution_count": 110,
   "metadata": {
    "collapsed": false,
    "scrolled": true
   },
   "outputs": [
    {
     "name": "stdout",
     "output_type": "stream",
     "text": [
      "http://www.francetvinfo.fr/elections/resultats/ain_01/\n",
      "http://www.francetvinfo.fr/elections/resultats/aisne_02/\n",
      "http://www.francetvinfo.fr/elections/resultats/allier_03/\n",
      "http://www.francetvinfo.fr/elections/resultats/alpes-de-haute-provence_04/\n",
      "http://www.francetvinfo.fr/elections/resultats/hautes-alpes_05/\n",
      "http://www.francetvinfo.fr/elections/resultats/alpes-maritimes_06/\n",
      "http://www.francetvinfo.fr/elections/resultats/ardeche_07/\n",
      "http://www.francetvinfo.fr/elections/resultats/ardennes_08/\n",
      "http://www.francetvinfo.fr/elections/resultats/ariege_09/\n",
      "http://www.francetvinfo.fr/elections/resultats/aube_10/\n",
      "http://www.francetvinfo.fr/elections/resultats/aude_11/\n",
      "http://www.francetvinfo.fr/elections/resultats/aveyron_12/\n",
      "http://www.francetvinfo.fr/elections/resultats/bouches-du-rhone_13/\n",
      "http://www.francetvinfo.fr/elections/resultats/calvados_14/\n",
      "http://www.francetvinfo.fr/elections/resultats/cantal_15/\n",
      "http://www.francetvinfo.fr/elections/resultats/charente_16/\n",
      "http://www.francetvinfo.fr/elections/resultats/charente-maritime_17/\n",
      "http://www.francetvinfo.fr/elections/resultats/cher_18/\n",
      "http://www.francetvinfo.fr/elections/resultats/correze_19/\n",
      "http://www.francetvinfo.fr/elections/resultats/cote-d-or_21/\n",
      "http://www.francetvinfo.fr/elections/resultats/cotes-d-armor_22/\n",
      "http://www.francetvinfo.fr/elections/resultats/creuse_23/\n",
      "http://www.francetvinfo.fr/elections/resultats/dordogne_24/\n",
      "http://www.francetvinfo.fr/elections/resultats/doubs_25/\n",
      "http://www.francetvinfo.fr/elections/resultats/drome_26/\n",
      "http://www.francetvinfo.fr/elections/resultats/eure_27/\n",
      "http://www.francetvinfo.fr/elections/resultats/eure-et-loir_28/\n",
      "http://www.francetvinfo.fr/elections/resultats/finistere_29/\n",
      "http://www.francetvinfo.fr/elections/resultats/corse-sud_2A/\n",
      "http://www.francetvinfo.fr/elections/resultats/haute-corse_2B/\n",
      "http://www.francetvinfo.fr/elections/resultats/gard_30/\n",
      "http://www.francetvinfo.fr/elections/resultats/haute-garonne_31/\n",
      "http://www.francetvinfo.fr/elections/resultats/gers_32/\n",
      "http://www.francetvinfo.fr/elections/resultats/gironde_33/\n",
      "http://www.francetvinfo.fr/elections/resultats/herault_34/\n",
      "http://www.francetvinfo.fr/elections/resultats/ille-et-vilaine_35/\n",
      "http://www.francetvinfo.fr/elections/resultats/indre_36/\n",
      "http://www.francetvinfo.fr/elections/resultats/indre-et-loire_37/\n",
      "http://www.francetvinfo.fr/elections/resultats/isere_38/\n",
      "http://www.francetvinfo.fr/elections/resultats/jura_39/\n",
      "http://www.francetvinfo.fr/elections/resultats/landes_40/\n",
      "http://www.francetvinfo.fr/elections/resultats/loir-et-cher_41/\n",
      "http://www.francetvinfo.fr/elections/resultats/loire_42/\n",
      "http://www.francetvinfo.fr/elections/resultats/haute-loire_43/\n",
      "http://www.francetvinfo.fr/elections/resultats/loire-atlantique_44/\n",
      "http://www.francetvinfo.fr/elections/resultats/loiret_45/\n",
      "http://www.francetvinfo.fr/elections/resultats/lot_46/\n",
      "http://www.francetvinfo.fr/elections/resultats/lot-et-garonne_47/\n",
      "http://www.francetvinfo.fr/elections/resultats/lozere_48/\n",
      "http://www.francetvinfo.fr/elections/resultats/maine-et-loire_49/\n",
      "http://www.francetvinfo.fr/elections/resultats/manche_50/\n",
      "http://www.francetvinfo.fr/elections/resultats/marne_51/\n",
      "http://www.francetvinfo.fr/elections/resultats/haute-marne_52/\n",
      "http://www.francetvinfo.fr/elections/resultats/mayenne_53/\n",
      "http://www.francetvinfo.fr/elections/resultats/meurthe-et-moselle_54/\n",
      "http://www.francetvinfo.fr/elections/resultats/meuse_55/\n",
      "http://www.francetvinfo.fr/elections/resultats/morbihan_56/\n",
      "http://www.francetvinfo.fr/elections/resultats/moselle_57/\n",
      "http://www.francetvinfo.fr/elections/resultats/nievre_58/\n",
      "http://www.francetvinfo.fr/elections/resultats/nord_59/\n",
      "http://www.francetvinfo.fr/elections/resultats/oise_60/\n",
      "http://www.francetvinfo.fr/elections/resultats/orne_61/\n",
      "http://www.francetvinfo.fr/elections/resultats/pas-de-calais_62/\n",
      "http://www.francetvinfo.fr/elections/resultats/puy-de-dome_63/\n",
      "http://www.francetvinfo.fr/elections/resultats/pyrenees-atlantiques_64/\n",
      "http://www.francetvinfo.fr/elections/resultats/hautes-pyrenees_65/\n",
      "http://www.francetvinfo.fr/elections/resultats/pyrenees-orientales_66/\n",
      "http://www.francetvinfo.fr/elections/resultats/bas-rhin_67/\n",
      "http://www.francetvinfo.fr/elections/resultats/haut-rhin_68/\n",
      "http://www.francetvinfo.fr/elections/resultats/rhone_69/\n",
      "http://www.francetvinfo.fr/elections/resultats/haute-saone_70/\n",
      "http://www.francetvinfo.fr/elections/resultats/saone-et-loire_71/\n",
      "http://www.francetvinfo.fr/elections/resultats/sarthe_72/\n",
      "http://www.francetvinfo.fr/elections/resultats/savoie_73/\n",
      "http://www.francetvinfo.fr/elections/resultats/haute-savoie_74/\n",
      "http://www.francetvinfo.fr/elections/resultats/paris_75/\n",
      "http://www.francetvinfo.fr/elections/resultats/seine-maritime_76/\n",
      "http://www.francetvinfo.fr/elections/resultats/seine-et-marne_77/\n",
      "http://www.francetvinfo.fr/elections/resultats/yvelines_78/\n",
      "http://www.francetvinfo.fr/elections/resultats/deux-sevres_79/\n",
      "http://www.francetvinfo.fr/elections/resultats/somme_80/\n",
      "http://www.francetvinfo.fr/elections/resultats/tarn_81/\n",
      "http://www.francetvinfo.fr/elections/resultats/tarn-et-garonne_82/\n",
      "http://www.francetvinfo.fr/elections/resultats/var_83/\n",
      "http://www.francetvinfo.fr/elections/resultats/vaucluse_84/\n",
      "http://www.francetvinfo.fr/elections/resultats/vendee_85/\n",
      "http://www.francetvinfo.fr/elections/resultats/vienne_86/\n",
      "http://www.francetvinfo.fr/elections/resultats/haute-vienne_87/\n",
      "http://www.francetvinfo.fr/elections/resultats/vosges_88/\n",
      "http://www.francetvinfo.fr/elections/resultats/yonne_89/\n",
      "http://www.francetvinfo.fr/elections/resultats/territoire-de-belfort_90/\n",
      "http://www.francetvinfo.fr/elections/resultats/essonne_91/\n",
      "http://www.francetvinfo.fr/elections/resultats/hauts-de-seine_92/\n",
      "http://www.francetvinfo.fr/elections/resultats/seine-saint-denis_93/\n",
      "http://www.francetvinfo.fr/elections/resultats/val-de-marne_94/\n",
      "http://www.francetvinfo.fr/elections/resultats/val-d-oise_95/\n",
      "http://www.francetvinfo.fr/elections/resultats/metropole-de-lyon_69M/\n",
      "error at :  /elections/resultats/auvergne-rhone-alpes/\n",
      "http://www.francetvinfo.fr/elections/resultats/guadeloupe_971/\n",
      "http://www.francetvinfo.fr/elections/resultats/martinique_972/\n",
      "http://www.francetvinfo.fr/elections/resultats/guyane_973/\n",
      "http://www.francetvinfo.fr/elections/resultats/la-reunion_974/\n",
      "error at :  \n",
      "http://www.francetvinfo.fr/elections/resultats/saint-pierre-et-miquelon_975/\n",
      "http://www.francetvinfo.fr/elections/resultats/mayotte_976/\n",
      "http://www.francetvinfo.fr/elections/resultats/saint-martin-saint-barthelemy_977/\n",
      "http://www.francetvinfo.fr/elections/resultats/wallis-et-futuna_986/\n",
      "http://www.francetvinfo.fr/elections/resultats/polynesie-francaise_987/\n",
      "http://www.francetvinfo.fr/elections/resultats/nouvelle-caledonie_988/\n"
     ]
    }
   ],
   "source": [
    "url = \"http://www.francetvinfo.fr/elections/resultats/\"\n",
    "resultats = requests.get(url)\n",
    "soup = BeautifulSoup(resultats.text, 'html.parser')\n",
    "df = pd.DataFrame(columns=[\"depart\", \"code\", \"circo\", \"nom\", \"parti\", \"score\"])\n",
    "circos_url = []\n",
    "\n",
    "index=0\n",
    "\n",
    "\n",
    "for depart in soup.find(\"section\", {\"id\": \"departmentResults\"}).findAll(\"a\", href=True):\n",
    "    url_depart = depart[\"href\"]\n",
    "    print(url_depart)\n",
    "    \n",
    "    soup_depart = BeautifulSoup(requests.get(url_depart).text, 'html.parser')\n",
    "    depart_name = url_depart.split(\"/\")[-2][:-3]\n",
    "    depart_number = url_depart.split(\"_\")[-1][:-1]\n",
    "    i=0\n",
    "    for circo in (soup_depart.findAll(\"section\")[3].findAll(\"a\", href=True)):\n",
    "        circo_number = i\n",
    "        url_circo = circo[\"href\"]\n",
    "        \n",
    "        if url_circo in circos_url:\n",
    "            continue\n",
    "        else : \n",
    "            circos_url.append(url_circo)\n",
    "            i+=1\n",
    "        \n",
    "        try:\n",
    "            soup_circo = BeautifulSoup(requests.get(url_circo).text, 'html.parser')\n",
    "        except:\n",
    "            print(\"error at : \", url_circo)\n",
    "            continue\n",
    "            \n",
    "        candidats = soup_circo.findAll(\"section\")[3].findAll(\"div\", {\"class\" : re.compile(\"^candidate\")})[:-2]\n",
    "        \n",
    "        for candidat in candidats: \n",
    "            try:\n",
    "                name = candidat.find(\"span\", {\"class\": \"name\"}).text\n",
    "                parti = candidat.find(\"span\", {\"class\": \"party\"}).text\n",
    "                score = candidat.find(\"span\", {\"class\": \"percent\"}).text\n",
    "                df.loc[index] = [depart_name, depart_number, circo_number, name, parti, score]\n",
    "                index+=1\n",
    "            except :\n",
    "                print(\"error at \", depart_name, circo_number)\n",
    "                continue\n",
    "\n"
   ]
  },
  {
   "cell_type": "code",
   "execution_count": 111,
   "metadata": {
    "collapsed": false
   },
   "outputs": [
    {
     "data": {
      "text/plain": [
       "array(['01', '02', '03', '04', '05', '06', '07', '08', '09', '10', '11',\n",
       "       '12', '13', '14', '15', '16', '17', '18', '19', '21', '22', '23',\n",
       "       '24', '25', '26', '27', '28', '29', '2A', '2B', '30', '31', '32',\n",
       "       '33', '34', '35', '36', '37', '38', '39', '40', '41', '42', '43',\n",
       "       '44', '45', '46', '47', '48', '49', '50', '51', '52', '53', '54',\n",
       "       '55', '56', '57', '58', '59', '60', '61', '62', '63', '64', '65',\n",
       "       '66', '67', '68', '69', '70', '71', '72', '73', '74', '75', '76',\n",
       "       '77', '78', '79', '80', '81', '82', '83', '84', '85', '86', '87',\n",
       "       '88', '89', '90', '91', '92', '93', '94', '95', '971', '972', '975',\n",
       "       '976', '977', '986', '987', '988'], dtype=object)"
      ]
     },
     "execution_count": 111,
     "metadata": {},
     "output_type": "execute_result"
    }
   ],
   "source": [
    "df.code.unique()"
   ]
  },
  {
   "cell_type": "code",
   "execution_count": 112,
   "metadata": {
    "collapsed": false
   },
   "outputs": [
    {
     "data": {
      "text/plain": [
       "(7560, 6)"
      ]
     },
     "execution_count": 112,
     "metadata": {},
     "output_type": "execute_result"
    }
   ],
   "source": [
    "df.shape"
   ]
  },
  {
   "cell_type": "code",
   "execution_count": 181,
   "metadata": {
    "collapsed": true
   },
   "outputs": [],
   "source": [
    "df2 = df.copy()"
   ]
  },
  {
   "cell_type": "code",
   "execution_count": 182,
   "metadata": {
    "collapsed": false
   },
   "outputs": [],
   "source": [
    "url_alamano = [\"http://www.francetvinfo.fr/elections/resultats/la-reunion_974/la-reunion_1ere-circonscription\",\n",
    "              \"http://www.francetvinfo.fr/elections/resultats/la-reunion_974/la-reunion_2eme-circonscription\", \n",
    "              \"http://www.francetvinfo.fr/elections/resultats/la-reunion_974/la-reunion_3eme-circonscription\",\n",
    "              \"http://www.francetvinfo.fr/elections/resultats/la-reunion_974/la-reunion_4eme-circonscription\",\n",
    "              \"http://www.francetvinfo.fr/elections/resultats/la-reunion_974/la-reunion_5eme-circonscription\",\n",
    "              \"http://www.francetvinfo.fr/elections/resultats/la-reunion_974/la-reunion_6eme-circonscription\",\n",
    "              \"http://www.francetvinfo.fr/elections/resultats/la-reunion_974/la-reunion_7eme-circonscription\",\n",
    "              \"http://www.francetvinfo.fr/elections/resultats/guyane_973/guyane_1ere-circonscription\",\n",
    "              \"http://www.francetvinfo.fr/elections/resultats/guyane_973/guyane_2eme-circonscription\"]\n",
    "for i, url in enumerate(url_alamano[-2:]):\n",
    "    soup_circo = BeautifulSoup(requests.get(url).text, 'html.parser')\n",
    "    for item in soup_circo.findAll(\"section\")[3].findAll(\"div\", {\"class\" : re.compile(\"^candidate\")})[:-2]:\n",
    "        name = item.find(\"span\", {\"class\": \"name\"}).text\n",
    "        parti = item.find(\"span\", {\"class\": \"party\"}).text\n",
    "        score = item.find(\"span\", {\"class\": \"percent\"}).text\n",
    "        df2.loc[df2.shape[0]+1] = [\"guyane\", 973, i, name, parti, score]\n"
   ]
  },
  {
   "cell_type": "code",
   "execution_count": 183,
   "metadata": {
    "collapsed": false
   },
   "outputs": [
    {
     "data": {
      "text/plain": [
       "(7579, 6)"
      ]
     },
     "execution_count": 183,
     "metadata": {},
     "output_type": "execute_result"
    }
   ],
   "source": [
    "df2.shape"
   ]
  },
  {
   "cell_type": "code",
   "execution_count": 184,
   "metadata": {
    "collapsed": false,
    "scrolled": true
   },
   "outputs": [
    {
     "data": {
      "text/html": [
       "<div>\n",
       "<table border=\"1\" class=\"dataframe\">\n",
       "  <thead>\n",
       "    <tr style=\"text-align: right;\">\n",
       "      <th></th>\n",
       "      <th>depart</th>\n",
       "      <th>code</th>\n",
       "      <th>circo</th>\n",
       "      <th>nom</th>\n",
       "      <th>parti</th>\n",
       "      <th>score</th>\n",
       "    </tr>\n",
       "  </thead>\n",
       "  <tbody>\n",
       "    <tr>\n",
       "      <th>0</th>\n",
       "      <td>ain</td>\n",
       "      <td>01</td>\n",
       "      <td>0.0</td>\n",
       "      <td>Laurent Mallet</td>\n",
       "      <td>Modem</td>\n",
       "      <td>33,89 %</td>\n",
       "    </tr>\n",
       "    <tr>\n",
       "      <th>1</th>\n",
       "      <td>ain</td>\n",
       "      <td>01</td>\n",
       "      <td>0.0</td>\n",
       "      <td>Xavier Breton</td>\n",
       "      <td>Les Républicains</td>\n",
       "      <td>26,78 %</td>\n",
       "    </tr>\n",
       "    <tr>\n",
       "      <th>2</th>\n",
       "      <td>ain</td>\n",
       "      <td>01</td>\n",
       "      <td>0.0</td>\n",
       "      <td>Jérôme Buisson</td>\n",
       "      <td>Front National</td>\n",
       "      <td>15,46 %</td>\n",
       "    </tr>\n",
       "    <tr>\n",
       "      <th>3</th>\n",
       "      <td>ain</td>\n",
       "      <td>01</td>\n",
       "      <td>0.0</td>\n",
       "      <td>Fabrine Martin Zemlik</td>\n",
       "      <td>La France insoumise</td>\n",
       "      <td>9,70 %</td>\n",
       "    </tr>\n",
       "    <tr>\n",
       "      <th>4</th>\n",
       "      <td>ain</td>\n",
       "      <td>01</td>\n",
       "      <td>0.0</td>\n",
       "      <td>Florence Blatrix-Contat</td>\n",
       "      <td>Parti socialiste</td>\n",
       "      <td>9,23 %</td>\n",
       "    </tr>\n",
       "  </tbody>\n",
       "</table>\n",
       "</div>"
      ],
      "text/plain": [
       "  depart code  circo                      nom                parti    score\n",
       "0    ain   01    0.0           Laurent Mallet                Modem  33,89 %\n",
       "1    ain   01    0.0            Xavier Breton     Les Républicains  26,78 %\n",
       "2    ain   01    0.0           Jérôme Buisson       Front National  15,46 %\n",
       "3    ain   01    0.0    Fabrine Martin Zemlik  La France insoumise   9,70 %\n",
       "4    ain   01    0.0  Florence Blatrix-Contat     Parti socialiste   9,23 %"
      ]
     },
     "execution_count": 184,
     "metadata": {},
     "output_type": "execute_result"
    }
   ],
   "source": [
    "df2.head()"
   ]
  },
  {
   "cell_type": "code",
   "execution_count": 185,
   "metadata": {
    "collapsed": false
   },
   "outputs": [],
   "source": [
    "df2.score = df2.score.map(lambda x : float(x.replace(\",\", \".\").replace(\"%\", \"\").strip()))"
   ]
  },
  {
   "cell_type": "code",
   "execution_count": 186,
   "metadata": {
    "collapsed": false
   },
   "outputs": [],
   "source": [
    "df2.nom = df2.nom.map(lambda s : unicodedata.normalize('NFD', s).encode('ascii', 'ignore').decode(\"utf-8\") )"
   ]
  },
  {
   "cell_type": "code",
   "execution_count": 187,
   "metadata": {
    "collapsed": false
   },
   "outputs": [],
   "source": [
    "df2[\"prenom\"] = df2.nom.map(lambda x : x.split(\" \")[0])\n",
    "df2.nom = df2.nom.map(lambda x : x.split(\" \")[1])"
   ]
  },
  {
   "cell_type": "code",
   "execution_count": 189,
   "metadata": {
    "collapsed": false
   },
   "outputs": [],
   "source": [
    "df2.circo +=1"
   ]
  },
  {
   "cell_type": "code",
   "execution_count": 190,
   "metadata": {
    "collapsed": false
   },
   "outputs": [
    {
     "data": {
      "text/html": [
       "<div>\n",
       "<table border=\"1\" class=\"dataframe\">\n",
       "  <thead>\n",
       "    <tr style=\"text-align: right;\">\n",
       "      <th></th>\n",
       "      <th>depart</th>\n",
       "      <th>code</th>\n",
       "      <th>circo</th>\n",
       "      <th>nom</th>\n",
       "      <th>parti</th>\n",
       "      <th>score</th>\n",
       "      <th>prenom</th>\n",
       "    </tr>\n",
       "  </thead>\n",
       "  <tbody>\n",
       "    <tr>\n",
       "      <th>0</th>\n",
       "      <td>ain</td>\n",
       "      <td>01</td>\n",
       "      <td>1.0</td>\n",
       "      <td>Mallet</td>\n",
       "      <td>Modem</td>\n",
       "      <td>33.89</td>\n",
       "      <td>Laurent</td>\n",
       "    </tr>\n",
       "    <tr>\n",
       "      <th>1</th>\n",
       "      <td>ain</td>\n",
       "      <td>01</td>\n",
       "      <td>1.0</td>\n",
       "      <td>Breton</td>\n",
       "      <td>Les Républicains</td>\n",
       "      <td>26.78</td>\n",
       "      <td>Xavier</td>\n",
       "    </tr>\n",
       "    <tr>\n",
       "      <th>2</th>\n",
       "      <td>ain</td>\n",
       "      <td>01</td>\n",
       "      <td>1.0</td>\n",
       "      <td>Buisson</td>\n",
       "      <td>Front National</td>\n",
       "      <td>15.46</td>\n",
       "      <td>Jerome</td>\n",
       "    </tr>\n",
       "    <tr>\n",
       "      <th>3</th>\n",
       "      <td>ain</td>\n",
       "      <td>01</td>\n",
       "      <td>1.0</td>\n",
       "      <td>Martin</td>\n",
       "      <td>La France insoumise</td>\n",
       "      <td>9.70</td>\n",
       "      <td>Fabrine</td>\n",
       "    </tr>\n",
       "    <tr>\n",
       "      <th>4</th>\n",
       "      <td>ain</td>\n",
       "      <td>01</td>\n",
       "      <td>1.0</td>\n",
       "      <td>Blatrix-Contat</td>\n",
       "      <td>Parti socialiste</td>\n",
       "      <td>9.23</td>\n",
       "      <td>Florence</td>\n",
       "    </tr>\n",
       "  </tbody>\n",
       "</table>\n",
       "</div>"
      ],
      "text/plain": [
       "  depart code  circo             nom                parti  score    prenom\n",
       "0    ain   01    1.0          Mallet                Modem  33.89   Laurent\n",
       "1    ain   01    1.0          Breton     Les Républicains  26.78    Xavier\n",
       "2    ain   01    1.0         Buisson       Front National  15.46    Jerome\n",
       "3    ain   01    1.0          Martin  La France insoumise   9.70   Fabrine\n",
       "4    ain   01    1.0  Blatrix-Contat     Parti socialiste   9.23  Florence"
      ]
     },
     "execution_count": 190,
     "metadata": {},
     "output_type": "execute_result"
    }
   ],
   "source": [
    "df2.head()"
   ]
  },
  {
   "cell_type": "code",
   "execution_count": 192,
   "metadata": {
    "collapsed": true
   },
   "outputs": [],
   "source": [
    "df2.to_csv(\"data/resultats_1ertour.csv\", index=False)"
   ]
  },
  {
   "cell_type": "code",
   "execution_count": null,
   "metadata": {
    "collapsed": true
   },
   "outputs": [],
   "source": []
  }
 ],
 "metadata": {
  "kernelspec": {
   "display_name": "Python [conda root]",
   "language": "python",
   "name": "conda-root-py"
  }
 },
 "nbformat": 4,
 "nbformat_minor": 2
}
