{
 "cells": [
  {
   "cell_type": "markdown",
   "metadata": {},
   "source": [
    "#### To do\n",
    "Analyse des données manquantes :\n",
    "- etrangers : Français de l'étranger => moyenne des étrangers ailleurs ?\n",
    "- part des ménages imposés et quartiles de revenu : Français de l'étranger et DOM (à part Réunion et Martinique) => utiliser les données de la Réunion et de la Martinique pour les autres DOM ? et moyenne nationale pour les français de l'étranger ?\n",
    "- chômage : Français de l'étranger => utiliser moyenne nationale ?\n",
    "- diplômes et CSP : Français de l'étranger, petits DOM (Wallis et Futuna, Nouvelle Calédonie, etc...) => utiliser moyenne des autres DOM ? et moyenne nationale pour les français de l'étranger ?\n",
    "\n",
    "Nouvelles features :\n",
    "- Données géo par Dept (dummy sur position Littoral, métropole, péri-urbain à établir par la densité de pop, est-ouest, Nord-Sud)"
   ]
  },
  {
   "cell_type": "code",
   "execution_count": 193,
   "metadata": {
    "collapsed": true,
    "deletable": true,
    "editable": true
   },
   "outputs": [],
   "source": [
    "import pandas as pd\n",
    "import numpy as np\n",
    "from matplotlib import pyplot as plt\n",
    "from sklearn.ensemble import RandomForestRegressor\n",
    "from sklearn.preprocessing import Imputer, StandardScaler\n",
    "from sklearn.metrics import mean_absolute_error, mean_squared_error"
   ]
  },
  {
   "cell_type": "markdown",
   "metadata": {
    "deletable": true,
    "editable": true
   },
   "source": [
    "#### Retrait des colonnes et lignes inutiles / sélection de features"
   ]
  },
  {
   "cell_type": "code",
   "execution_count": 194,
   "metadata": {
    "collapsed": false,
    "deletable": true,
    "editable": true
   },
   "outputs": [
    {
     "name": "stdout",
     "output_type": "stream",
     "text": [
      "Taille initiale du DF : (36919, 75)\n",
      "Index(['an', 'geo_frontalier', 'geo_dom', 'geo_idf', 'etrangers',\n",
      "       'part_impose', 'revenus_q1', 'revenus_med', 'revenus_q3',\n",
      "       'ecart_revenus', 'chom_tot', 'chom_tot_evol_5', 'chom_jeunes',\n",
      "       'chom_jeunes_evol_5', 'chom_adultes', 'chom_adultes_evol_5',\n",
      "       'chom_seniors', 'chom_seniors_evol_5', 'p_agri', 'p_commercants',\n",
      "       'p_cadres', 'p_intermed', 'p_employes', 'p_ouvriers', 'd_brevet',\n",
      "       'd_bep', 'd_bac', 'd_sup', 'circo_nuance_groupe', 'circo_bloc',\n",
      "       'circo_leg_meme_nuance', 'nb_candidats_meme_bloc',\n",
      "       'score_nuance_groupe_prec_leg', 'score_bloc_prec_leg', 'taux_vote_leg',\n",
      "       'score_leg_exg', 'score_leg_g', 'score_leg_c', 'score_leg_d',\n",
      "       'score_leg_exd', 'score_leg_div', 'circo_nuance_groupe_pres',\n",
      "       'circo_pres_meme_nuance', 'circo_meme_nuance_president',\n",
      "       'score_nuance_groupe_pres', 'score_bloc_pres', 'taux_vote_pres',\n",
      "       'score_pres_exg', 'score_pres_g', 'score_pres_c', 'score_pres_d',\n",
      "       'score_pres_exd', 'score_pres_div', 'score_candidat_prec_leg',\n",
      "       'depute_sortant', 'ancien_depute', 'au_gouvernement', 'ancien_ministre',\n",
      "       'sexe', 'nuance_groupe', 'bloc', 'p_voix'],\n",
      "      dtype='object')\n",
      "Taille du DF après retrait de 1997 et des colonnes inutiles : (30565, 62)\n"
     ]
    }
   ],
   "source": [
    "# load data\n",
    "raw = pd.read_excel('data/dataframe_elections.xlsx')\n",
    "print('Taille initiale du DF :', raw.shape)\n",
    "\n",
    "# drop lignes\n",
    "raw = raw[raw['an'] > 1997]\n",
    "\n",
    "# Données d'identification\n",
    "id_list = ['an', 'code', 'nom', 'prenom', 'nuance_groupe', 'second_tour']\n",
    "df_id = raw[id_list]\n",
    "\n",
    "# drop colonnes\n",
    "drop_list = ['c_dep', 'dep', 'circo', 'code', 'inscrits', 'circo_parti', 'circo_nuance',\n",
    "             'nom', 'prenom', 'etiquette', 'nuance', 'voix', 'second_tour']\n",
    "raw = raw.drop(drop_list, axis=1)\n",
    "\n",
    "print(raw.columns)\n",
    "print('Taille du DF après retrait de 1997 et des colonnes inutiles :', raw.shape)"
   ]
  },
  {
   "cell_type": "markdown",
   "metadata": {
    "deletable": true,
    "editable": true
   },
   "source": [
    "### Feature engineering"
   ]
  },
  {
   "cell_type": "markdown",
   "metadata": {},
   "source": [
    "#### Retrait des features qui dégradent le modèle"
   ]
  },
  {
   "cell_type": "code",
   "execution_count": 338,
   "metadata": {
    "collapsed": true
   },
   "outputs": [],
   "source": [
    "keep_list = ['an', 'p_voix'] # à garder obligatoirement pour identifier les lignes et créer les labels\n",
    "keep_list.extend([#'geo_frontalier', 'geo_dom', 'geo_idf',\n",
    "                  'part_impose', 'chom_tot',\n",
    "                  #'p_agri', 'p_ouvriers', 'd_brevet','d_sup',\n",
    "                  'circo_leg_meme_nuance', 'circo_meme_nuance_president', 'circo_pres_meme_nuance',\n",
    "                  'nb_candidats_meme_bloc',\n",
    "                  #'score_nuance_groupe_prec_leg', 'score_bloc_prec_leg',\n",
    "                  'score_nuance_groupe_pres',\n",
    "                  #'score_bloc_pres',\n",
    "                  'score_candidat_prec_leg',\n",
    "                  'taux_vote_pres', 'taux_vote_leg',\n",
    "                  'depute_sortant', 'ancien_depute', 'au_gouvernement', 'ancien_ministre',\n",
    "                  #'sexe'\n",
    "    ])\n",
    "\n",
    "df = raw.drop([col for col in raw.columns if col not in keep_list], axis=1)"
   ]
  },
  {
   "cell_type": "code",
   "execution_count": 339,
   "metadata": {
    "collapsed": false
   },
   "outputs": [
    {
     "name": "stdout",
     "output_type": "stream",
     "text": [
      "Index(['an', 'part_impose', 'chom_tot', 'circo_leg_meme_nuance',\n",
      "       'nb_candidats_meme_bloc', 'taux_vote_leg', 'circo_pres_meme_nuance',\n",
      "       'circo_meme_nuance_president', 'score_nuance_groupe_pres',\n",
      "       'taux_vote_pres', 'score_candidat_prec_leg', 'depute_sortant',\n",
      "       'ancien_depute', 'au_gouvernement', 'ancien_ministre', 'p_voix'],\n",
      "      dtype='object')\n"
     ]
    }
   ],
   "source": [
    "print(df.columns)"
   ]
  },
  {
   "cell_type": "markdown",
   "metadata": {},
   "source": [
    "#### Gestion des NaN"
   ]
  },
  {
   "cell_type": "code",
   "execution_count": 340,
   "metadata": {
    "collapsed": false
   },
   "outputs": [],
   "source": [
    "# Score du candidat aux législatives précédentes\n",
    "df['score_candidat_prec_leg'] = df['score_candidat_prec_leg'].fillna(0.05)\n",
    "\n",
    "# Catégorisation\n",
    "df[\"score_candidat_prec_leg_<5\"] = df[\"score_candidat_prec_leg\"].map(lambda x : 1 if x<0.05 else 0)\n",
    "df[\"score_candidat_prec_leg_>5<15\"] = df[\"score_candidat_prec_leg\"].map(lambda x : 1 if (x>=0.05) & (x<0.15) else 0)\n",
    "df[\"score_candidat_prec_leg_>15\"] = df[\"score_candidat_prec_leg\"].map(lambda x : 1 if x>=0.15 else 0)\n",
    "\n",
    "df = df.drop('score_candidat_prec_leg', axis=1)\n",
    "#raw['score_candidat_prec_leg'] = raw['score_candidat_prec_leg'].fillna(value=raw['score_candidat_prec_leg'].mean())"
   ]
  },
  {
   "cell_type": "code",
   "execution_count": 341,
   "metadata": {
    "collapsed": false,
    "deletable": true,
    "editable": true
   },
   "outputs": [
    {
     "name": "stdout",
     "output_type": "stream",
     "text": [
      "(30565, 18)\n",
      "an                                  0\n",
      "part_impose                      1089\n",
      "chom_tot                          360\n",
      "circo_leg_meme_nuance               0\n",
      "nb_candidats_meme_bloc              0\n",
      "taux_vote_leg                     185\n",
      "circo_pres_meme_nuance              0\n",
      "circo_meme_nuance_president         0\n",
      "score_nuance_groupe_pres            0\n",
      "taux_vote_pres                      0\n",
      "depute_sortant                      0\n",
      "ancien_depute                       0\n",
      "au_gouvernement                     0\n",
      "ancien_ministre                     0\n",
      "p_voix                           7881\n",
      "score_candidat_prec_leg_<5          0\n",
      "score_candidat_prec_leg_>5<15       0\n",
      "score_candidat_prec_leg_>15         0\n",
      "dtype: int64\n"
     ]
    }
   ],
   "source": [
    "print(df.shape)\n",
    "print(df.isnull().sum())"
   ]
  },
  {
   "cell_type": "markdown",
   "metadata": {
    "deletable": true,
    "editable": true
   },
   "source": [
    "#### Création des ensembles de train/validation/test"
   ]
  },
  {
   "cell_type": "code",
   "execution_count": 342,
   "metadata": {
    "collapsed": false
   },
   "outputs": [],
   "source": [
    "def train_val_splits(df, year_for_validation):\n",
    "    df_train = df[(df.an != 2017) & (df.an != year_for_validation)].dropna(how='any')\n",
    "    y_train = df_train.p_voix\n",
    "    X_train = df_train.drop(['an', 'p_voix'], axis=1)\n",
    "    \n",
    "    df_val = df[df.an == year_for_validation].dropna(how='any')\n",
    "    y_val = df_val.p_voix\n",
    "    X_val = df_val.drop(['an', 'p_voix'], axis=1)\n",
    "    \n",
    "    return X_train, X_val, y_train, y_val"
   ]
  },
  {
   "cell_type": "code",
   "execution_count": 343,
   "metadata": {
    "collapsed": false
   },
   "outputs": [],
   "source": [
    "# Catégorisation\n",
    "# df['score_candidat_prec_leg'] = pd.cut(df['score_candidat_prec_leg'], 3)\n",
    "# df['score_candidat_prec_leg']"
   ]
  },
  {
   "cell_type": "code",
   "execution_count": 344,
   "metadata": {
    "collapsed": false
   },
   "outputs": [
    {
     "name": "stdout",
     "output_type": "stream",
     "text": [
      "['part_impose', 'chom_tot', 'taux_vote_leg', 'score_nuance_groupe_pres', 'taux_vote_pres']\n",
      "(15704, 16) (6276, 16)\n",
      "(15704,) (6276,)\n"
     ]
    }
   ],
   "source": [
    "# Liste des variables dummies et binaires pour les exclure de la normalisation\n",
    "dummies_list = ['geo_frontalier', 'geo_dom', 'geo_idf',\n",
    "                'circo_nuance_groupe', 'circo_bloc', 'nuance_groupe',\n",
    "                'circo_nuance_groupe_pres', 'circo_pres_meme_nuance', 'circo_meme_nuance_president',\n",
    "                'bloc', 'an', 'p_voix', 'sexe',\n",
    "                'circo_leg_meme_nuance',\n",
    "                'depute_sortant', 'ancien_depute', 'au_gouvernement', 'ancien_ministre',\n",
    "                'nb_candidats_meme_bloc',\n",
    "                'score_candidat_prec_leg_<5', 'score_candidat_prec_leg_>5<15', 'score_candidat_prec_leg_>15'\n",
    "               ]\n",
    "scale_list = [col for col in df.columns if col not in dummies_list]\n",
    "print(scale_list)\n",
    "\n",
    "df_dummified = pd.get_dummies(df, drop_first=True)\n",
    "X_train, X_val, y_train, y_val = train_val_splits(df_dummified, 2012)\n",
    "\n",
    "# Normalisation du dataframe\n",
    "scaler = StandardScaler()\n",
    "X_train[scale_list] = scaler.fit_transform(X_train[scale_list])\n",
    "X_val[scale_list] = scaler.transform(X_val[scale_list])\n",
    "\n",
    "print(X_train.shape, X_val.shape)\n",
    "print(y_train.shape, y_val.shape)"
   ]
  },
  {
   "cell_type": "markdown",
   "metadata": {},
   "source": [
    "#### Exploration"
   ]
  },
  {
   "cell_type": "code",
   "execution_count": 345,
   "metadata": {
    "collapsed": false
   },
   "outputs": [
    {
     "data": {
      "text/html": [
       "<div>\n",
       "<table border=\"1\" class=\"dataframe\">\n",
       "  <thead>\n",
       "    <tr style=\"text-align: right;\">\n",
       "      <th></th>\n",
       "      <th>part_impose</th>\n",
       "      <th>chom_tot</th>\n",
       "      <th>circo_leg_meme_nuance</th>\n",
       "      <th>nb_candidats_meme_bloc</th>\n",
       "      <th>taux_vote_leg</th>\n",
       "      <th>circo_pres_meme_nuance</th>\n",
       "      <th>circo_meme_nuance_president</th>\n",
       "      <th>score_nuance_groupe_pres</th>\n",
       "      <th>taux_vote_pres</th>\n",
       "      <th>depute_sortant</th>\n",
       "      <th>ancien_depute</th>\n",
       "      <th>au_gouvernement</th>\n",
       "      <th>ancien_ministre</th>\n",
       "      <th>score_candidat_prec_leg_&lt;5</th>\n",
       "      <th>score_candidat_prec_leg_&gt;5&lt;15</th>\n",
       "      <th>score_candidat_prec_leg_&gt;15</th>\n",
       "    </tr>\n",
       "  </thead>\n",
       "  <tbody>\n",
       "    <tr>\n",
       "      <th>14488</th>\n",
       "      <td>0.135974</td>\n",
       "      <td>-1.195229</td>\n",
       "      <td>0.0</td>\n",
       "      <td>3.0</td>\n",
       "      <td>-0.428999</td>\n",
       "      <td>0.0</td>\n",
       "      <td>0.0</td>\n",
       "      <td>-0.714429</td>\n",
       "      <td>1.205046</td>\n",
       "      <td>0.0</td>\n",
       "      <td>0.0</td>\n",
       "      <td>0.0</td>\n",
       "      <td>0.0</td>\n",
       "      <td>0</td>\n",
       "      <td>1</td>\n",
       "      <td>0</td>\n",
       "    </tr>\n",
       "    <tr>\n",
       "      <th>14489</th>\n",
       "      <td>0.135974</td>\n",
       "      <td>-1.195229</td>\n",
       "      <td>1.0</td>\n",
       "      <td>2.0</td>\n",
       "      <td>-0.428999</td>\n",
       "      <td>1.0</td>\n",
       "      <td>1.0</td>\n",
       "      <td>3.426466</td>\n",
       "      <td>1.205046</td>\n",
       "      <td>0.0</td>\n",
       "      <td>0.0</td>\n",
       "      <td>0.0</td>\n",
       "      <td>0.0</td>\n",
       "      <td>0</td>\n",
       "      <td>1</td>\n",
       "      <td>0</td>\n",
       "    </tr>\n",
       "    <tr>\n",
       "      <th>14490</th>\n",
       "      <td>0.135974</td>\n",
       "      <td>-1.195229</td>\n",
       "      <td>0.0</td>\n",
       "      <td>1.0</td>\n",
       "      <td>-0.428999</td>\n",
       "      <td>0.0</td>\n",
       "      <td>0.0</td>\n",
       "      <td>0.530380</td>\n",
       "      <td>1.205046</td>\n",
       "      <td>0.0</td>\n",
       "      <td>0.0</td>\n",
       "      <td>0.0</td>\n",
       "      <td>0.0</td>\n",
       "      <td>0</td>\n",
       "      <td>1</td>\n",
       "      <td>0</td>\n",
       "    </tr>\n",
       "    <tr>\n",
       "      <th>14491</th>\n",
       "      <td>0.135974</td>\n",
       "      <td>-1.195229</td>\n",
       "      <td>0.0</td>\n",
       "      <td>3.0</td>\n",
       "      <td>-0.428999</td>\n",
       "      <td>0.0</td>\n",
       "      <td>0.0</td>\n",
       "      <td>2.039692</td>\n",
       "      <td>1.205046</td>\n",
       "      <td>0.0</td>\n",
       "      <td>0.0</td>\n",
       "      <td>0.0</td>\n",
       "      <td>0.0</td>\n",
       "      <td>0</td>\n",
       "      <td>1</td>\n",
       "      <td>0</td>\n",
       "    </tr>\n",
       "    <tr>\n",
       "      <th>14492</th>\n",
       "      <td>0.135974</td>\n",
       "      <td>-1.195229</td>\n",
       "      <td>0.0</td>\n",
       "      <td>3.0</td>\n",
       "      <td>-0.428999</td>\n",
       "      <td>0.0</td>\n",
       "      <td>0.0</td>\n",
       "      <td>-0.494757</td>\n",
       "      <td>1.205046</td>\n",
       "      <td>0.0</td>\n",
       "      <td>0.0</td>\n",
       "      <td>0.0</td>\n",
       "      <td>0.0</td>\n",
       "      <td>0</td>\n",
       "      <td>1</td>\n",
       "      <td>0</td>\n",
       "    </tr>\n",
       "  </tbody>\n",
       "</table>\n",
       "</div>"
      ],
      "text/plain": [
       "       part_impose  chom_tot  circo_leg_meme_nuance  nb_candidats_meme_bloc  \\\n",
       "14488     0.135974 -1.195229                    0.0                     3.0   \n",
       "14489     0.135974 -1.195229                    1.0                     2.0   \n",
       "14490     0.135974 -1.195229                    0.0                     1.0   \n",
       "14491     0.135974 -1.195229                    0.0                     3.0   \n",
       "14492     0.135974 -1.195229                    0.0                     3.0   \n",
       "\n",
       "       taux_vote_leg  circo_pres_meme_nuance  circo_meme_nuance_president  \\\n",
       "14488      -0.428999                     0.0                          0.0   \n",
       "14489      -0.428999                     1.0                          1.0   \n",
       "14490      -0.428999                     0.0                          0.0   \n",
       "14491      -0.428999                     0.0                          0.0   \n",
       "14492      -0.428999                     0.0                          0.0   \n",
       "\n",
       "       score_nuance_groupe_pres  taux_vote_pres  depute_sortant  \\\n",
       "14488                 -0.714429        1.205046             0.0   \n",
       "14489                  3.426466        1.205046             0.0   \n",
       "14490                  0.530380        1.205046             0.0   \n",
       "14491                  2.039692        1.205046             0.0   \n",
       "14492                 -0.494757        1.205046             0.0   \n",
       "\n",
       "       ancien_depute  au_gouvernement  ancien_ministre  \\\n",
       "14488            0.0              0.0              0.0   \n",
       "14489            0.0              0.0              0.0   \n",
       "14490            0.0              0.0              0.0   \n",
       "14491            0.0              0.0              0.0   \n",
       "14492            0.0              0.0              0.0   \n",
       "\n",
       "       score_candidat_prec_leg_<5  score_candidat_prec_leg_>5<15  \\\n",
       "14488                           0                              1   \n",
       "14489                           0                              1   \n",
       "14490                           0                              1   \n",
       "14491                           0                              1   \n",
       "14492                           0                              1   \n",
       "\n",
       "       score_candidat_prec_leg_>15  \n",
       "14488                            0  \n",
       "14489                            0  \n",
       "14490                            0  \n",
       "14491                            0  \n",
       "14492                            0  "
      ]
     },
     "execution_count": 345,
     "metadata": {},
     "output_type": "execute_result"
    }
   ],
   "source": [
    "X_train.head(5)"
   ]
  },
  {
   "cell_type": "code",
   "execution_count": 346,
   "metadata": {
    "collapsed": false
   },
   "outputs": [
    {
     "data": {
      "text/html": [
       "<div>\n",
       "<table border=\"1\" class=\"dataframe\">\n",
       "  <thead>\n",
       "    <tr style=\"text-align: right;\">\n",
       "      <th></th>\n",
       "      <th>part_impose</th>\n",
       "      <th>chom_tot</th>\n",
       "      <th>circo_leg_meme_nuance</th>\n",
       "      <th>nb_candidats_meme_bloc</th>\n",
       "      <th>taux_vote_leg</th>\n",
       "      <th>circo_pres_meme_nuance</th>\n",
       "      <th>circo_meme_nuance_president</th>\n",
       "      <th>score_nuance_groupe_pres</th>\n",
       "      <th>taux_vote_pres</th>\n",
       "      <th>depute_sortant</th>\n",
       "      <th>ancien_depute</th>\n",
       "      <th>au_gouvernement</th>\n",
       "      <th>ancien_ministre</th>\n",
       "      <th>score_candidat_prec_leg_&lt;5</th>\n",
       "      <th>score_candidat_prec_leg_&gt;5&lt;15</th>\n",
       "      <th>score_candidat_prec_leg_&gt;15</th>\n",
       "    </tr>\n",
       "  </thead>\n",
       "  <tbody>\n",
       "    <tr>\n",
       "      <th>7881</th>\n",
       "      <td>0.121356</td>\n",
       "      <td>-0.797027</td>\n",
       "      <td>0.0</td>\n",
       "      <td>3.0</td>\n",
       "      <td>-1.263185</td>\n",
       "      <td>0.0</td>\n",
       "      <td>0.0</td>\n",
       "      <td>-0.638216</td>\n",
       "      <td>0.692942</td>\n",
       "      <td>0.0</td>\n",
       "      <td>0.0</td>\n",
       "      <td>0.0</td>\n",
       "      <td>0.0</td>\n",
       "      <td>0</td>\n",
       "      <td>1</td>\n",
       "      <td>0</td>\n",
       "    </tr>\n",
       "    <tr>\n",
       "      <th>7882</th>\n",
       "      <td>0.121356</td>\n",
       "      <td>-0.797027</td>\n",
       "      <td>0.0</td>\n",
       "      <td>3.0</td>\n",
       "      <td>-1.263185</td>\n",
       "      <td>0.0</td>\n",
       "      <td>0.0</td>\n",
       "      <td>-0.881798</td>\n",
       "      <td>0.692942</td>\n",
       "      <td>0.0</td>\n",
       "      <td>0.0</td>\n",
       "      <td>0.0</td>\n",
       "      <td>0.0</td>\n",
       "      <td>1</td>\n",
       "      <td>0</td>\n",
       "      <td>0</td>\n",
       "    </tr>\n",
       "    <tr>\n",
       "      <th>7883</th>\n",
       "      <td>0.121356</td>\n",
       "      <td>-0.797027</td>\n",
       "      <td>0.0</td>\n",
       "      <td>3.0</td>\n",
       "      <td>-1.263185</td>\n",
       "      <td>0.0</td>\n",
       "      <td>0.0</td>\n",
       "      <td>0.259899</td>\n",
       "      <td>0.692942</td>\n",
       "      <td>0.0</td>\n",
       "      <td>0.0</td>\n",
       "      <td>0.0</td>\n",
       "      <td>0.0</td>\n",
       "      <td>0</td>\n",
       "      <td>1</td>\n",
       "      <td>0</td>\n",
       "    </tr>\n",
       "    <tr>\n",
       "      <th>7884</th>\n",
       "      <td>0.121356</td>\n",
       "      <td>-0.797027</td>\n",
       "      <td>1.0</td>\n",
       "      <td>3.0</td>\n",
       "      <td>-1.263185</td>\n",
       "      <td>1.0</td>\n",
       "      <td>0.0</td>\n",
       "      <td>2.682271</td>\n",
       "      <td>0.692942</td>\n",
       "      <td>1.0</td>\n",
       "      <td>1.0</td>\n",
       "      <td>0.0</td>\n",
       "      <td>0.0</td>\n",
       "      <td>0</td>\n",
       "      <td>0</td>\n",
       "      <td>1</td>\n",
       "    </tr>\n",
       "    <tr>\n",
       "      <th>7885</th>\n",
       "      <td>0.121356</td>\n",
       "      <td>-0.797027</td>\n",
       "      <td>0.0</td>\n",
       "      <td>3.0</td>\n",
       "      <td>-1.263185</td>\n",
       "      <td>0.0</td>\n",
       "      <td>0.0</td>\n",
       "      <td>2.083029</td>\n",
       "      <td>0.692942</td>\n",
       "      <td>0.0</td>\n",
       "      <td>0.0</td>\n",
       "      <td>0.0</td>\n",
       "      <td>0.0</td>\n",
       "      <td>0</td>\n",
       "      <td>0</td>\n",
       "      <td>1</td>\n",
       "    </tr>\n",
       "  </tbody>\n",
       "</table>\n",
       "</div>"
      ],
      "text/plain": [
       "      part_impose  chom_tot  circo_leg_meme_nuance  nb_candidats_meme_bloc  \\\n",
       "7881     0.121356 -0.797027                    0.0                     3.0   \n",
       "7882     0.121356 -0.797027                    0.0                     3.0   \n",
       "7883     0.121356 -0.797027                    0.0                     3.0   \n",
       "7884     0.121356 -0.797027                    1.0                     3.0   \n",
       "7885     0.121356 -0.797027                    0.0                     3.0   \n",
       "\n",
       "      taux_vote_leg  circo_pres_meme_nuance  circo_meme_nuance_president  \\\n",
       "7881      -1.263185                     0.0                          0.0   \n",
       "7882      -1.263185                     0.0                          0.0   \n",
       "7883      -1.263185                     0.0                          0.0   \n",
       "7884      -1.263185                     1.0                          0.0   \n",
       "7885      -1.263185                     0.0                          0.0   \n",
       "\n",
       "      score_nuance_groupe_pres  taux_vote_pres  depute_sortant  ancien_depute  \\\n",
       "7881                 -0.638216        0.692942             0.0            0.0   \n",
       "7882                 -0.881798        0.692942             0.0            0.0   \n",
       "7883                  0.259899        0.692942             0.0            0.0   \n",
       "7884                  2.682271        0.692942             1.0            1.0   \n",
       "7885                  2.083029        0.692942             0.0            0.0   \n",
       "\n",
       "      au_gouvernement  ancien_ministre  score_candidat_prec_leg_<5  \\\n",
       "7881              0.0              0.0                           0   \n",
       "7882              0.0              0.0                           1   \n",
       "7883              0.0              0.0                           0   \n",
       "7884              0.0              0.0                           0   \n",
       "7885              0.0              0.0                           0   \n",
       "\n",
       "      score_candidat_prec_leg_>5<15  score_candidat_prec_leg_>15  \n",
       "7881                              1                            0  \n",
       "7882                              0                            0  \n",
       "7883                              1                            0  \n",
       "7884                              0                            1  \n",
       "7885                              0                            1  "
      ]
     },
     "execution_count": 346,
     "metadata": {},
     "output_type": "execute_result"
    }
   ],
   "source": [
    "X_val.head(5)"
   ]
  },
  {
   "cell_type": "code",
   "execution_count": 347,
   "metadata": {
    "collapsed": false
   },
   "outputs": [],
   "source": [
    "# imp = Imputer(missing_values='NaN', strategy='mean', axis=0)\n",
    "# imp = imp.fit(X_train)# Impute our data, then train\n",
    "# X_train_imp = imp.transform(X_train)"
   ]
  },
  {
   "cell_type": "code",
   "execution_count": 348,
   "metadata": {
    "collapsed": true
   },
   "outputs": [],
   "source": [
    "# imp = Imputer(missing_values='NaN', strategy='mean', axis=0)\n",
    "# imp = imp.fit(X_test)# Impute our data, then train\n",
    "# X_test_imp = imp.transform(X_test)"
   ]
  },
  {
   "cell_type": "code",
   "execution_count": 349,
   "metadata": {
    "collapsed": false,
    "deletable": true,
    "editable": true
   },
   "outputs": [
    {
     "data": {
      "text/plain": [
       "RandomForestRegressor(bootstrap=True, criterion='mse', max_depth=None,\n",
       "           max_features='auto', max_leaf_nodes=None,\n",
       "           min_impurity_split=1e-07, min_samples_leaf=1,\n",
       "           min_samples_split=2, min_weight_fraction_leaf=0.0,\n",
       "           n_estimators=250, n_jobs=-1, oob_score=False, random_state=None,\n",
       "           verbose=0, warm_start=False)"
      ]
     },
     "execution_count": 349,
     "metadata": {},
     "output_type": "execute_result"
    }
   ],
   "source": [
    "rf = RandomForestRegressor(n_jobs=-1, n_estimators=250)\n",
    "rf.fit(X_train, y_train)"
   ]
  },
  {
   "cell_type": "code",
   "execution_count": 350,
   "metadata": {
    "collapsed": false
   },
   "outputs": [
    {
     "data": {
      "text/plain": [
       "0.022135116917396544"
      ]
     },
     "execution_count": 350,
     "metadata": {},
     "output_type": "execute_result"
    }
   ],
   "source": [
    "y_pred = rf.predict(X_val)\n",
    "mean_absolute_error(y_val, y_pred)"
   ]
  },
  {
   "cell_type": "code",
   "execution_count": 351,
   "metadata": {
    "collapsed": false
   },
   "outputs": [
    {
     "data": {
      "text/plain": [
       "[(36.491872640578457, 'score_nuance_groupe_pres'),\n",
       " (24.8526201273467, 'score_candidat_prec_leg_>15'),\n",
       " (15.250136509452735, 'circo_meme_nuance_president'),\n",
       " (7.170962953062249, 'ancien_depute'),\n",
       " (3.0910142252565738, 'nb_candidats_meme_bloc'),\n",
       " (2.8556698349257315, 'taux_vote_pres'),\n",
       " (2.5002831498507949, 'taux_vote_leg'),\n",
       " (2.3991141243542349, 'part_impose'),\n",
       " (1.91103364434227, 'chom_tot'),\n",
       " (1.6052731415645209, 'depute_sortant'),\n",
       " (0.97758439451415979, 'circo_leg_meme_nuance'),\n",
       " (0.44462649257953929, 'circo_pres_meme_nuance'),\n",
       " (0.18273669595128286, 'score_candidat_prec_leg_>5<15'),\n",
       " (0.16282217104225333, 'score_candidat_prec_leg_<5'),\n",
       " (0.076504608888199488, 'ancien_ministre'),\n",
       " (0.027745286290282983, 'au_gouvernement')]"
      ]
     },
     "execution_count": 351,
     "metadata": {},
     "output_type": "execute_result"
    }
   ],
   "source": [
    "sorted(list(zip(rf.feature_importances_*100, X_train.columns)), reverse=True)"
   ]
  },
  {
   "cell_type": "markdown",
   "metadata": {},
   "source": [
    "### Analyser les prédictions"
   ]
  },
  {
   "cell_type": "code",
   "execution_count": 352,
   "metadata": {
    "collapsed": true
   },
   "outputs": [],
   "source": [
    "def get_predictions(y_pred, y_val, id_val):\n",
    "    res = pd.concat([id_val, pd.DataFrame(y_val)], axis=1, join='inner')\n",
    "    res['prediction'] = y_pred\n",
    "    res['ecart'] = y_pred - res['p_voix']\n",
    "    return res"
   ]
  },
  {
   "cell_type": "code",
   "execution_count": 353,
   "metadata": {
    "collapsed": false
   },
   "outputs": [
    {
     "name": "stdout",
     "output_type": "stream",
     "text": [
      "Prédictions pour 6276 candidats.\n"
     ]
    }
   ],
   "source": [
    "df_predictions = get_predictions(y_pred, y_val, df_id)\n",
    "print('Prédictions pour {} candidats.'.format(df_predictions.shape[0]))"
   ]
  },
  {
   "cell_type": "code",
   "execution_count": 354,
   "metadata": {
    "collapsed": false
   },
   "outputs": [
    {
     "data": {
      "text/html": [
       "<div>\n",
       "<table border=\"1\" class=\"dataframe\">\n",
       "  <thead>\n",
       "    <tr style=\"text-align: right;\">\n",
       "      <th></th>\n",
       "      <th>an</th>\n",
       "      <th>code</th>\n",
       "      <th>nom</th>\n",
       "      <th>prenom</th>\n",
       "      <th>nuance_groupe</th>\n",
       "      <th>second_tour</th>\n",
       "      <th>p_voix</th>\n",
       "      <th>prediction</th>\n",
       "      <th>ecart</th>\n",
       "    </tr>\n",
       "  </thead>\n",
       "  <tbody>\n",
       "    <tr>\n",
       "      <th>8999</th>\n",
       "      <td>2012</td>\n",
       "      <td>24|2</td>\n",
       "      <td>GARRIGUE</td>\n",
       "      <td>DANIEL</td>\n",
       "      <td>DVD</td>\n",
       "      <td>N</td>\n",
       "      <td>0.0863</td>\n",
       "      <td>0.208217</td>\n",
       "      <td>0.121917</td>\n",
       "    </tr>\n",
       "    <tr>\n",
       "      <th>11754</th>\n",
       "      <td>2012</td>\n",
       "      <td>56|2</td>\n",
       "      <td>GRALL</td>\n",
       "      <td>MICHEL</td>\n",
       "      <td>LR</td>\n",
       "      <td>N</td>\n",
       "      <td>0.1264</td>\n",
       "      <td>0.249139</td>\n",
       "      <td>0.122739</td>\n",
       "    </tr>\n",
       "    <tr>\n",
       "      <th>11564</th>\n",
       "      <td>2012</td>\n",
       "      <td>972|2</td>\n",
       "      <td>LEBON</td>\n",
       "      <td>FRANTZ</td>\n",
       "      <td>SOC</td>\n",
       "      <td>N</td>\n",
       "      <td>0.0071</td>\n",
       "      <td>0.129890</td>\n",
       "      <td>0.122790</td>\n",
       "    </tr>\n",
       "    <tr>\n",
       "      <th>13015</th>\n",
       "      <td>2012</td>\n",
       "      <td>69|7</td>\n",
       "      <td>DEBIOL</td>\n",
       "      <td>JEAN-FRANCOIS</td>\n",
       "      <td>DVD</td>\n",
       "      <td>N</td>\n",
       "      <td>0.0290</td>\n",
       "      <td>0.156350</td>\n",
       "      <td>0.127350</td>\n",
       "    </tr>\n",
       "    <tr>\n",
       "      <th>12030</th>\n",
       "      <td>2012</td>\n",
       "      <td>59|10</td>\n",
       "      <td>VANNESTE</td>\n",
       "      <td>CHRISTIAN</td>\n",
       "      <td>DVD</td>\n",
       "      <td>N</td>\n",
       "      <td>0.0612</td>\n",
       "      <td>0.205991</td>\n",
       "      <td>0.144791</td>\n",
       "    </tr>\n",
       "  </tbody>\n",
       "</table>\n",
       "</div>"
      ],
      "text/plain": [
       "         an   code       nom         prenom nuance_groupe second_tour  p_voix  \\\n",
       "8999   2012   24|2  GARRIGUE         DANIEL           DVD           N  0.0863   \n",
       "11754  2012   56|2     GRALL         MICHEL            LR           N  0.1264   \n",
       "11564  2012  972|2     LEBON         FRANTZ           SOC           N  0.0071   \n",
       "13015  2012   69|7    DEBIOL  JEAN-FRANCOIS           DVD           N  0.0290   \n",
       "12030  2012  59|10  VANNESTE      CHRISTIAN           DVD           N  0.0612   \n",
       "\n",
       "       prediction     ecart  \n",
       "8999     0.208217  0.121917  \n",
       "11754    0.249139  0.122739  \n",
       "11564    0.129890  0.122790  \n",
       "13015    0.156350  0.127350  \n",
       "12030    0.205991  0.144791  "
      ]
     },
     "execution_count": 354,
     "metadata": {},
     "output_type": "execute_result"
    }
   ],
   "source": [
    "df_predictions.sort_values(by='ecart').tail(5)"
   ]
  },
  {
   "cell_type": "code",
   "execution_count": 355,
   "metadata": {
    "collapsed": false,
    "scrolled": true
   },
   "outputs": [
    {
     "data": {
      "text/html": [
       "<div>\n",
       "<table border=\"1\" class=\"dataframe\">\n",
       "  <thead>\n",
       "    <tr style=\"text-align: right;\">\n",
       "      <th></th>\n",
       "      <th>an</th>\n",
       "      <th>code</th>\n",
       "      <th>nom</th>\n",
       "      <th>prenom</th>\n",
       "      <th>nuance_groupe</th>\n",
       "      <th>second_tour</th>\n",
       "      <th>p_voix</th>\n",
       "      <th>prediction</th>\n",
       "      <th>ecart</th>\n",
       "    </tr>\n",
       "  </thead>\n",
       "  <tbody>\n",
       "    <tr>\n",
       "      <th>12340</th>\n",
       "      <td>2012</td>\n",
       "      <td>75|6</td>\n",
       "      <td>DUFLOT</td>\n",
       "      <td>CECILE</td>\n",
       "      <td>ECO</td>\n",
       "      <td>O</td>\n",
       "      <td>0.2890</td>\n",
       "      <td>0.007269</td>\n",
       "      <td>-0.281731</td>\n",
       "    </tr>\n",
       "    <tr>\n",
       "      <th>12414</th>\n",
       "      <td>2012</td>\n",
       "      <td>75|10</td>\n",
       "      <td>BAUPIN</td>\n",
       "      <td>DENIS</td>\n",
       "      <td>ECO</td>\n",
       "      <td>O</td>\n",
       "      <td>0.2502</td>\n",
       "      <td>0.014773</td>\n",
       "      <td>-0.235427</td>\n",
       "    </tr>\n",
       "    <tr>\n",
       "      <th>12250</th>\n",
       "      <td>2012</td>\n",
       "      <td>61|3</td>\n",
       "      <td>GOASDOUE</td>\n",
       "      <td>YVES</td>\n",
       "      <td>DVG</td>\n",
       "      <td>O</td>\n",
       "      <td>0.2368</td>\n",
       "      <td>0.020032</td>\n",
       "      <td>-0.216768</td>\n",
       "    </tr>\n",
       "    <tr>\n",
       "      <th>12759</th>\n",
       "      <td>2012</td>\n",
       "      <td>63|3</td>\n",
       "      <td>AUROI</td>\n",
       "      <td>DANIELLE</td>\n",
       "      <td>ECO</td>\n",
       "      <td>O</td>\n",
       "      <td>0.2183</td>\n",
       "      <td>0.011614</td>\n",
       "      <td>-0.206686</td>\n",
       "    </tr>\n",
       "    <tr>\n",
       "      <th>12462</th>\n",
       "      <td>2012</td>\n",
       "      <td>75|13</td>\n",
       "      <td>ALAYRAC</td>\n",
       "      <td>GILLES</td>\n",
       "      <td>RDG</td>\n",
       "      <td>O</td>\n",
       "      <td>0.2149</td>\n",
       "      <td>0.011053</td>\n",
       "      <td>-0.203847</td>\n",
       "    </tr>\n",
       "  </tbody>\n",
       "</table>\n",
       "</div>"
      ],
      "text/plain": [
       "         an   code       nom    prenom nuance_groupe second_tour  p_voix  \\\n",
       "12340  2012   75|6    DUFLOT    CECILE           ECO           O  0.2890   \n",
       "12414  2012  75|10    BAUPIN     DENIS           ECO           O  0.2502   \n",
       "12250  2012   61|3  GOASDOUE      YVES           DVG           O  0.2368   \n",
       "12759  2012   63|3     AUROI  DANIELLE           ECO           O  0.2183   \n",
       "12462  2012  75|13   ALAYRAC    GILLES           RDG           O  0.2149   \n",
       "\n",
       "       prediction     ecart  \n",
       "12340    0.007269 -0.281731  \n",
       "12414    0.014773 -0.235427  \n",
       "12250    0.020032 -0.216768  \n",
       "12759    0.011614 -0.206686  \n",
       "12462    0.011053 -0.203847  "
      ]
     },
     "execution_count": 355,
     "metadata": {},
     "output_type": "execute_result"
    }
   ],
   "source": [
    "df_predictions.sort_values(by='ecart').head(5)"
   ]
  },
  {
   "cell_type": "code",
   "execution_count": 356,
   "metadata": {
    "collapsed": false
   },
   "outputs": [
    {
     "name": "stdout",
     "output_type": "stream",
     "text": [
      "La plus grosse erreur est de 28.173128082251083%.\n",
      "Le score AUC est : 91.41%\n"
     ]
    },
    {
     "data": {
      "image/png": "[encoded data removed]",
      "text/plain": [
       "<matplotlib.figure.Figure at 0x2c2800899b0>"
      ]
     },
     "metadata": {},
     "output_type": "display_data"
    }
   ],
   "source": [
    "from sklearn.metrics import auc\n",
    "\n",
    "ecarts_absolus = abs(df_predictions['ecart'])\n",
    "max_ecart = np.max(ecarts_absolus)\n",
    "grid = np.arange(max_ecart, step=.01)\n",
    "ecarts_grid = []\n",
    "for point in grid:\n",
    "    ecarts_grid.append(np.sum(ecarts_absolus < point))\n",
    "\n",
    "print('La plus grosse erreur est de {}%.'.format(max_ecart * 100))\n",
    "print('Le score AUC est : {:.2f}%'.format(auc(grid, ecarts_grid) * 100 / max_ecart / df_predictions.shape[0]))\n",
    "plt.figure(1, figsize=(13, 3))\n",
    "plt.subplot(121)\n",
    "plt.plot(grid, ecarts_grid)\n",
    "\n",
    "plt.subplot(122)\n",
    "plt.hist(df_predictions['ecart']*100, bins=50)\n",
    "plt.show()"
   ]
  },
  {
   "cell_type": "code",
   "execution_count": null,
   "metadata": {
    "collapsed": true
   },
   "outputs": [],
   "source": []
  },
  {
   "cell_type": "code",
   "execution_count": null,
   "metadata": {
    "collapsed": true
   },
   "outputs": [],
   "source": []
  }
 ],
 "metadata": {
  "anaconda-cloud": {},
  "kernelspec": {
   "display_name": "Python [default]",
   "language": "python",
   "name": "python3"
  },
  "language_info": {
   "codemirror_mode": {
    "name": "ipython",
    "version": 3
   },
   "file_extension": ".py",
   "mimetype": "text/x-python",
   "name": "python",
   "nbconvert_exporter": "python",
   "pygments_lexer": "ipython3",
   "version": "3.5.2"
  }
 },
 "nbformat": 4,
 "nbformat_minor": 1
}
