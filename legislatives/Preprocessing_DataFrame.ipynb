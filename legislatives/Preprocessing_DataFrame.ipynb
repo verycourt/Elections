{
 "cells": [
  {
   "cell_type": "code",
   "execution_count": 66,
   "metadata": {
    "collapsed": true,
    "deletable": true,
    "editable": true
   },
   "outputs": [],
   "source": [
    "import pandas as pd\n",
    "import numpy as np\n",
    "from matplotlib import pyplot as plt\n",
    "from sklearn.ensemble import RandomForestRegressor\n",
    "from sklearn.preprocessing import Imputer\n",
    "from sklearn.metrics import mean_absolute_error"
   ]
  },
  {
   "cell_type": "code",
   "execution_count": 50,
   "metadata": {
    "collapsed": false,
    "deletable": true,
    "editable": true
   },
   "outputs": [
    {
     "name": "stdout",
     "output_type": "stream",
     "text": [
      "(36919, 60)\n"
     ]
    }
   ],
   "source": [
    "raw = pd.read_excel('data/dataframe_elections.xlsx')\n",
    "print(raw.shape)"
   ]
  },
  {
   "cell_type": "markdown",
   "metadata": {
    "deletable": true,
    "editable": true
   },
   "source": [
    "#### Retrait des colonnes et lignes inutiles"
   ]
  },
  {
   "cell_type": "code",
   "execution_count": 51,
   "metadata": {
    "collapsed": false,
    "deletable": true,
    "editable": true
   },
   "outputs": [
    {
     "name": "stdout",
     "output_type": "stream",
     "text": [
      "(36919, 47)\n"
     ]
    }
   ],
   "source": [
    "drop_list = ['c_dep', 'dep', 'circo', 'code', 'inscrits'] # données d'identification\n",
    "drop_list.extend(['circo_parti', 'circo_nuance', 'nom',\n",
    "                  'prenom', 'etiquette', 'nuance', 'voix', 'second_tour'])\n",
    "raw.drop(drop_list, axis=1, inplace=True)\n",
    "print(raw.shape)"
   ]
  },
  {
   "cell_type": "code",
   "execution_count": 52,
   "metadata": {
    "collapsed": false,
    "deletable": true,
    "editable": true
   },
   "outputs": [
    {
     "data": {
      "text/html": [
       "<div>\n",
       "<table border=\"1\" class=\"dataframe\">\n",
       "  <thead>\n",
       "    <tr style=\"text-align: right;\">\n",
       "      <th></th>\n",
       "      <th>an</th>\n",
       "      <th>etrangers</th>\n",
       "      <th>part_impose</th>\n",
       "      <th>revenus_q1</th>\n",
       "      <th>revenus_med</th>\n",
       "      <th>revenus_q3</th>\n",
       "      <th>chom_tot</th>\n",
       "      <th>chom_tot_evol_5</th>\n",
       "      <th>chom_jeunes</th>\n",
       "      <th>chom_jeunes_evol_5</th>\n",
       "      <th>...</th>\n",
       "      <th>score_leg_exg</th>\n",
       "      <th>score_leg_g</th>\n",
       "      <th>score_leg_c</th>\n",
       "      <th>score_leg_d</th>\n",
       "      <th>score_leg_exd</th>\n",
       "      <th>nb_candidats_bloc</th>\n",
       "      <th>sexe</th>\n",
       "      <th>nuance_groupe</th>\n",
       "      <th>bloc</th>\n",
       "      <th>p_voix</th>\n",
       "    </tr>\n",
       "  </thead>\n",
       "  <tbody>\n",
       "    <tr>\n",
       "      <th>0</th>\n",
       "      <td>2017</td>\n",
       "      <td>0.079252</td>\n",
       "      <td>0.622351</td>\n",
       "      <td>13515.653227</td>\n",
       "      <td>19274.362957</td>\n",
       "      <td>26052.233039</td>\n",
       "      <td>0.063</td>\n",
       "      <td>0.009</td>\n",
       "      <td>0.159</td>\n",
       "      <td>0.02</td>\n",
       "      <td>...</td>\n",
       "      <td>0.023171</td>\n",
       "      <td>0.249146</td>\n",
       "      <td>0.0</td>\n",
       "      <td>0.230592</td>\n",
       "      <td>0.092201</td>\n",
       "      <td>2</td>\n",
       "      <td>F</td>\n",
       "      <td>SOC</td>\n",
       "      <td>Gauche</td>\n",
       "      <td>NaN</td>\n",
       "    </tr>\n",
       "    <tr>\n",
       "      <th>1</th>\n",
       "      <td>2017</td>\n",
       "      <td>0.079252</td>\n",
       "      <td>0.622351</td>\n",
       "      <td>13515.653227</td>\n",
       "      <td>19274.362957</td>\n",
       "      <td>26052.233039</td>\n",
       "      <td>0.063</td>\n",
       "      <td>0.009</td>\n",
       "      <td>0.159</td>\n",
       "      <td>0.02</td>\n",
       "      <td>...</td>\n",
       "      <td>0.023171</td>\n",
       "      <td>0.249146</td>\n",
       "      <td>0.0</td>\n",
       "      <td>0.230592</td>\n",
       "      <td>0.092201</td>\n",
       "      <td>2</td>\n",
       "      <td>M</td>\n",
       "      <td>DIV</td>\n",
       "      <td>-</td>\n",
       "      <td>NaN</td>\n",
       "    </tr>\n",
       "    <tr>\n",
       "      <th>2</th>\n",
       "      <td>2017</td>\n",
       "      <td>0.079252</td>\n",
       "      <td>0.622351</td>\n",
       "      <td>13515.653227</td>\n",
       "      <td>19274.362957</td>\n",
       "      <td>26052.233039</td>\n",
       "      <td>0.063</td>\n",
       "      <td>0.009</td>\n",
       "      <td>0.159</td>\n",
       "      <td>0.02</td>\n",
       "      <td>...</td>\n",
       "      <td>0.023171</td>\n",
       "      <td>0.249146</td>\n",
       "      <td>0.0</td>\n",
       "      <td>0.230592</td>\n",
       "      <td>0.092201</td>\n",
       "      <td>1</td>\n",
       "      <td>M</td>\n",
       "      <td>LR</td>\n",
       "      <td>Droite</td>\n",
       "      <td>NaN</td>\n",
       "    </tr>\n",
       "    <tr>\n",
       "      <th>3</th>\n",
       "      <td>2017</td>\n",
       "      <td>0.079252</td>\n",
       "      <td>0.622351</td>\n",
       "      <td>13515.653227</td>\n",
       "      <td>19274.362957</td>\n",
       "      <td>26052.233039</td>\n",
       "      <td>0.063</td>\n",
       "      <td>0.009</td>\n",
       "      <td>0.159</td>\n",
       "      <td>0.02</td>\n",
       "      <td>...</td>\n",
       "      <td>0.023171</td>\n",
       "      <td>0.249146</td>\n",
       "      <td>0.0</td>\n",
       "      <td>0.230592</td>\n",
       "      <td>0.092201</td>\n",
       "      <td>1</td>\n",
       "      <td>M</td>\n",
       "      <td>FN</td>\n",
       "      <td>Exdroite</td>\n",
       "      <td>NaN</td>\n",
       "    </tr>\n",
       "    <tr>\n",
       "      <th>4</th>\n",
       "      <td>2017</td>\n",
       "      <td>0.079252</td>\n",
       "      <td>0.622351</td>\n",
       "      <td>13515.653227</td>\n",
       "      <td>19274.362957</td>\n",
       "      <td>26052.233039</td>\n",
       "      <td>0.063</td>\n",
       "      <td>0.009</td>\n",
       "      <td>0.159</td>\n",
       "      <td>0.02</td>\n",
       "      <td>...</td>\n",
       "      <td>0.023171</td>\n",
       "      <td>0.249146</td>\n",
       "      <td>0.0</td>\n",
       "      <td>0.230592</td>\n",
       "      <td>0.092201</td>\n",
       "      <td>2</td>\n",
       "      <td>F</td>\n",
       "      <td>DIV</td>\n",
       "      <td>-</td>\n",
       "      <td>NaN</td>\n",
       "    </tr>\n",
       "  </tbody>\n",
       "</table>\n",
       "<p>5 rows × 47 columns</p>\n",
       "</div>"
      ],
      "text/plain": [
       "     an  etrangers  part_impose    revenus_q1   revenus_med    revenus_q3  \\\n",
       "0  2017   0.079252     0.622351  13515.653227  19274.362957  26052.233039   \n",
       "1  2017   0.079252     0.622351  13515.653227  19274.362957  26052.233039   \n",
       "2  2017   0.079252     0.622351  13515.653227  19274.362957  26052.233039   \n",
       "3  2017   0.079252     0.622351  13515.653227  19274.362957  26052.233039   \n",
       "4  2017   0.079252     0.622351  13515.653227  19274.362957  26052.233039   \n",
       "\n",
       "   chom_tot  chom_tot_evol_5  chom_jeunes  chom_jeunes_evol_5   ...    \\\n",
       "0     0.063            0.009        0.159                0.02   ...     \n",
       "1     0.063            0.009        0.159                0.02   ...     \n",
       "2     0.063            0.009        0.159                0.02   ...     \n",
       "3     0.063            0.009        0.159                0.02   ...     \n",
       "4     0.063            0.009        0.159                0.02   ...     \n",
       "\n",
       "   score_leg_exg  score_leg_g  score_leg_c  score_leg_d  score_leg_exd  \\\n",
       "0       0.023171     0.249146          0.0     0.230592       0.092201   \n",
       "1       0.023171     0.249146          0.0     0.230592       0.092201   \n",
       "2       0.023171     0.249146          0.0     0.230592       0.092201   \n",
       "3       0.023171     0.249146          0.0     0.230592       0.092201   \n",
       "4       0.023171     0.249146          0.0     0.230592       0.092201   \n",
       "\n",
       "   nb_candidats_bloc  sexe  nuance_groupe      bloc  p_voix  \n",
       "0                  2     F            SOC    Gauche     NaN  \n",
       "1                  2     M            DIV         -     NaN  \n",
       "2                  1     M             LR    Droite     NaN  \n",
       "3                  1     M             FN  Exdroite     NaN  \n",
       "4                  2     F            DIV         -     NaN  \n",
       "\n",
       "[5 rows x 47 columns]"
      ]
     },
     "execution_count": 52,
     "metadata": {},
     "output_type": "execute_result"
    }
   ],
   "source": [
    "raw.head(5)"
   ]
  },
  {
   "cell_type": "markdown",
   "metadata": {
    "deletable": true,
    "editable": true
   },
   "source": [
    "#### Feature engineering"
   ]
  },
  {
   "cell_type": "markdown",
   "metadata": {
    "deletable": true,
    "editable": true
   },
   "source": [
    "Analyse des données manquantes :\n",
    "- etrangers : Français de l'étranger => moyenne des étrangers ailleurs ?\n",
    "- part des ménages imposés et quartiles de revenu : Français de l'étranger et DOM (à part Réunion et Martinique) => utiliser les données de la Réunion et de la Martinique pour les autres DOM ?\n",
    "- chômage : Français de l'étranger => utiliser moyenne nationale ?\n",
    "- diplômes et CSP : Français de l'étranger, petits DOM (Wallis et Futuna, Nouvelle Calédonie, etc...) => utiliser moyenne des autres DOM ?\n",
    "- score du candidat aux législatives précédentes => remplacer les NA par un 0\n",
    "- couleur de la circonscription avant les élections : manque les données pour les circonscriptions nouvellement créées et utilisées pour la 1ère fois en 2012 => pour la métropole, appliquer la couleur dominante du département. Pour les français de l'étranger, ??? (à faire directement sur le fichier excel)\n",
    "- résultats présidentielles par bloc : nouvelle Calédonie et Polynésie Française => trouver sur internet des résultats au niveau du DOM en question.\n"
   ]
  },
  {
   "cell_type": "code",
   "execution_count": 53,
   "metadata": {
    "collapsed": false,
    "deletable": true,
    "editable": true
   },
   "outputs": [
    {
     "name": "stdout",
     "output_type": "stream",
     "text": [
      "an                             0\n",
      "etrangers                   6714\n",
      "part_impose                 7443\n",
      "revenus_q1                  7443\n",
      "revenus_med                 7443\n",
      "revenus_q3                  7443\n",
      "chom_tot                    7768\n",
      "chom_tot_evol_5             7768\n",
      "chom_jeunes                 7768\n",
      "chom_jeunes_evol_5          7768\n",
      "chom_adultes                7768\n",
      "chom_adultes_evol_5         7768\n",
      "chom_seniors                7768\n",
      "chom_seniors_evol_5         7768\n",
      "p_agri                      7034\n",
      "p_commercants               7034\n",
      "p_cadres                    7034\n",
      "p_intermed                  7034\n",
      "p_employes                  7034\n",
      "p_ouvriers                  7034\n",
      "d_brevet                    7034\n",
      "d_bep                       7034\n",
      "d_bac                       7034\n",
      "d_sup                       7034\n",
      "score_candidat_prec_leg        0\n",
      "depute_sortant              6354\n",
      "circo_nuance_groupe         6813\n",
      "circo_bloc                  6813\n",
      "circo_meme_nuance            459\n",
      "score_nuance_pres            192\n",
      "score_pres_exg               192\n",
      "score_pres_g                 192\n",
      "score_pres_c                 192\n",
      "score_pres_d                 192\n",
      "score_pres_exd               192\n",
      "score_nuance_prec_leg      15243\n",
      "score_bloc_prec_leg        15243\n",
      "score_leg_exg              15243\n",
      "score_leg_g                15243\n",
      "score_leg_c                15243\n",
      "score_leg_d                15243\n",
      "score_leg_exd              15243\n",
      "nb_candidats_bloc              0\n",
      "sexe                        6354\n",
      "nuance_groupe                  0\n",
      "bloc                           0\n",
      "p_voix                      7881\n",
      "dtype: int64\n"
     ]
    }
   ],
   "source": [
    "# Gestion des N/A \n",
    "raw['score_candidat_prec_leg'] = raw['score_candidat_prec_leg'].fillna(0)\n",
    "print(raw.isnull().sum())"
   ]
  },
  {
   "cell_type": "code",
   "execution_count": 54,
   "metadata": {
    "collapsed": true
   },
   "outputs": [],
   "source": [
    "raw_dummised = pd.get_dummies(raw, columns=['circo_nuance_groupe','circo_bloc','sexe','nuance_groupe','bloc'],\n",
    "prefix=['circo_nuance_groupe','circo_bloc','sexe','nuance_groupe','bloc'])"
   ]
  },
  {
   "cell_type": "markdown",
   "metadata": {
    "deletable": true,
    "editable": true
   },
   "source": [
    "#### Création des ensembles de train/validation/test"
   ]
  },
  {
   "cell_type": "code",
   "execution_count": 60,
   "metadata": {
    "collapsed": false,
    "deletable": true,
    "editable": true
   },
   "outputs": [],
   "source": [
    "X_test = raw_dummised[raw_dummised.an == 2012].drop('p_voix', axis=1)\n",
    "X_train = raw_dummised[(raw_dummised.an==2002) | (raw_dummised.an==2007)].drop('p_voix', axis=1)\n",
    "\n",
    "y_test = raw_dummised[raw_dummised.an == 2012]['p_voix']\n",
    "y_train = raw_dummised[(raw_dummised.an==2002) | (raw_dummised.an==2007)]['p_voix']"
   ]
  },
  {
   "cell_type": "code",
   "execution_count": 62,
   "metadata": {
    "collapsed": false
   },
   "outputs": [],
   "source": [
    "imp = Imputer(missing_values='NaN', strategy='mean', axis=0)\n",
    "imp = imp.fit(X_train)# Impute our data, then train\n",
    "X_train_imp = imp.transform(X_train)"
   ]
  },
  {
   "cell_type": "code",
   "execution_count": 63,
   "metadata": {
    "collapsed": true
   },
   "outputs": [],
   "source": [
    "imp = Imputer(missing_values='NaN', strategy='mean', axis=0)\n",
    "imp = imp.fit(X_test)# Impute our data, then train\n",
    "X_test_imp = imp.transform(X_test)"
   ]
  },
  {
   "cell_type": "code",
   "execution_count": null,
   "metadata": {
    "collapsed": false,
    "deletable": true,
    "editable": true
   },
   "outputs": [],
   "source": [
    "# rf = RandomForestRegressor(n_jobs=-1, n_estimators=100)\n",
    "# rf.fit(X_train_imp, y_train)"
   ]
  },
  {
   "cell_type": "code",
   "execution_count": null,
   "metadata": {
    "collapsed": false
   },
   "outputs": [],
   "source": [
    "# y_pred = rf.predict(X_test_imp)\n",
    "# mean_absolute_error(y_test, y_pred)"
   ]
  },
  {
   "cell_type": "code",
   "execution_count": null,
   "metadata": {
    "collapsed": false
   },
   "outputs": [],
   "source": [
    "# sorted(list(zip(rf.feature_importances_*100, X_train.columns)),reverse=True)"
   ]
  },
  {
   "cell_type": "code",
   "execution_count": null,
   "metadata": {
    "collapsed": true
   },
   "outputs": [],
   "source": []
  }
 ],
 "metadata": {
  "anaconda-cloud": {},
  "kernelspec": {
   "display_name": "Python 3",
   "language": "python",
   "name": "python3"
  },
  "language_info": {
   "codemirror_mode": {
    "name": "ipython",
    "version": 3
   },
   "file_extension": ".py",
   "mimetype": "text/x-python",
   "name": "python",
   "nbconvert_exporter": "python",
   "pygments_lexer": "ipython3",
   "version": "3.5.2"
  }
 },
 "nbformat": 4,
 "nbformat_minor": 1
}
