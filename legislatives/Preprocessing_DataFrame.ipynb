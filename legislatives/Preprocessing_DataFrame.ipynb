{
 "cells": [
  {
   "cell_type": "markdown",
   "metadata": {},
   "source": [
    "#### To do\n",
    "Analyse des données manquantes :\n",
    "- etrangers : Français de l'étranger => moyenne des étrangers ailleurs ?\n",
    "- part des ménages imposés et quartiles de revenu : Français de l'étranger et DOM (à part Réunion et Martinique) => utiliser les données de la Réunion et de la Martinique pour les autres DOM ? et moyenne nationale pour les français de l'étranger ?\n",
    "- chômage : Français de l'étranger => utiliser moyenne nationale ?\n",
    "- diplômes et CSP : Français de l'étranger, petits DOM (Wallis et Futuna, Nouvelle Calédonie, etc...) => utiliser moyenne des autres DOM ? et moyenne nationale pour les français de l'étranger ?\n",
    "\n",
    "Nouvelles features :\n",
    "- Données géo par Dept (dummy sur position Littoral, métropole, péri-urbain à établir par la densité de pop, est-ouest, Nord-Sud)"
   ]
  },
  {
   "cell_type": "code",
   "execution_count": 1,
   "metadata": {
    "collapsed": true,
    "deletable": true,
    "editable": true
   },
   "outputs": [],
   "source": [
    "import pandas as pd\n",
    "import numpy as np\n",
    "from matplotlib import pyplot as plt\n",
    "from sklearn.ensemble import RandomForestRegressor\n",
    "from sklearn.preprocessing import Imputer, StandardScaler\n",
    "from sklearn.metrics import mean_absolute_error, mean_squared_error"
   ]
  },
  {
   "cell_type": "code",
   "execution_count": 2,
   "metadata": {
    "collapsed": false,
    "deletable": true,
    "editable": true
   },
   "outputs": [
    {
     "name": "stdout",
     "output_type": "stream",
     "text": [
      "(36919, 68)\n"
     ]
    }
   ],
   "source": [
    "raw = pd.read_excel('data/dataframe_elections.xlsx')\n",
    "print(raw.shape)"
   ]
  },
  {
   "cell_type": "markdown",
   "metadata": {
    "deletable": true,
    "editable": true
   },
   "source": [
    "#### Retrait des colonnes et lignes inutiles / sélection de features"
   ]
  },
  {
   "cell_type": "code",
   "execution_count": 3,
   "metadata": {
    "collapsed": false,
    "deletable": true,
    "editable": true
   },
   "outputs": [
    {
     "name": "stdout",
     "output_type": "stream",
     "text": [
      "Index(['an', 'etrangers', 'part_impose', 'revenus_q1', 'revenus_med',\n",
      "       'revenus_q3', 'ecart_revenus', 'chom_tot', 'chom_tot_evol_5',\n",
      "       'chom_jeunes', 'chom_jeunes_evol_5', 'chom_adultes',\n",
      "       'chom_adultes_evol_5', 'chom_seniors', 'chom_seniors_evol_5', 'p_agri',\n",
      "       'p_commercants', 'p_cadres', 'p_intermed', 'p_employes', 'p_ouvriers',\n",
      "       'd_brevet', 'd_bep', 'd_bac', 'd_sup', 'circo_nuance_groupe',\n",
      "       'circo_bloc', 'circo_leg_meme_nuance', 'nb_candidats_meme_bloc',\n",
      "       'score_nuance_groupe_prec_leg', 'score_bloc_prec_leg', 'taux_vote_leg',\n",
      "       'score_leg_exg', 'score_leg_g', 'score_leg_c', 'score_leg_d',\n",
      "       'score_leg_exd', 'score_leg_div', 'circo_nuance_groupe_pres',\n",
      "       'circo_pres_meme_nuance', 'score_nuance_groupe_pres', 'score_bloc_pres',\n",
      "       'taux_vote_pres', 'score_pres_exg', 'score_pres_g', 'score_pres_c',\n",
      "       'score_pres_d', 'score_pres_exd', 'score_pres_div',\n",
      "       'score_candidat_prec_leg', 'depute_sortant', 'sexe', 'nuance_groupe',\n",
      "       'bloc', 'p_voix'],\n",
      "      dtype='object')\n",
      "(30565, 55)\n"
     ]
    }
   ],
   "source": [
    "# drop colonnes\n",
    "drop_list = ['c_dep', 'dep', 'circo', 'code', 'inscrits'] # données d'identification\n",
    "drop_list.extend(['circo_parti', 'circo_nuance', 'nom',\n",
    "                  'prenom', 'etiquette', 'nuance', 'voix', 'second_tour'])\n",
    "raw.drop(drop_list, axis=1, inplace=True)\n",
    "\n",
    "# drop lignes\n",
    "raw = raw[raw['an'] > 1997]\n",
    "\n",
    "print(raw.columns)\n",
    "print(raw.shape)"
   ]
  },
  {
   "cell_type": "markdown",
   "metadata": {
    "deletable": true,
    "editable": true
   },
   "source": [
    "### Feature engineering"
   ]
  },
  {
   "cell_type": "markdown",
   "metadata": {},
   "source": [
    "#### Gestion des NaN"
   ]
  },
  {
   "cell_type": "code",
   "execution_count": 4,
   "metadata": {
    "collapsed": false
   },
   "outputs": [],
   "source": [
    "# Score du candidat aux législatives précédentes\n",
    "raw['score_candidat_prec_leg'] = raw['score_candidat_prec_leg'].fillna(0.05)\n",
    "#raw['score_candidat_prec_leg'] = raw['score_candidat_prec_leg'].fillna(value=raw['score_candidat_prec_leg'].mean())"
   ]
  },
  {
   "cell_type": "code",
   "execution_count": 5,
   "metadata": {
    "collapsed": false,
    "deletable": true,
    "editable": true
   },
   "outputs": [
    {
     "name": "stdout",
     "output_type": "stream",
     "text": [
      "(30565, 55)\n",
      "an                                 0\n",
      "etrangers                        360\n",
      "part_impose                     1089\n",
      "revenus_q1                      1089\n",
      "revenus_med                     1089\n",
      "revenus_q3                      1089\n",
      "ecart_revenus                   1089\n",
      "chom_tot                         360\n",
      "chom_tot_evol_5                  360\n",
      "chom_jeunes                      360\n",
      "chom_jeunes_evol_5               360\n",
      "chom_adultes                     360\n",
      "chom_adultes_evol_5              360\n",
      "chom_seniors                     360\n",
      "chom_seniors_evol_5              360\n",
      "p_agri                           680\n",
      "p_commercants                    680\n",
      "p_cadres                         680\n",
      "p_intermed                       680\n",
      "p_employes                       680\n",
      "p_ouvriers                       680\n",
      "d_brevet                         680\n",
      "d_bep                            680\n",
      "d_bac                            680\n",
      "d_sup                            680\n",
      "circo_nuance_groupe                0\n",
      "circo_bloc                         0\n",
      "circo_leg_meme_nuance              0\n",
      "nb_candidats_meme_bloc             0\n",
      "score_nuance_groupe_prec_leg     185\n",
      "score_bloc_prec_leg              185\n",
      "taux_vote_leg                    185\n",
      "score_leg_exg                    185\n",
      "score_leg_g                      185\n",
      "score_leg_c                      185\n",
      "score_leg_d                      185\n",
      "score_leg_exd                    185\n",
      "score_leg_div                      0\n",
      "circo_nuance_groupe_pres           0\n",
      "circo_pres_meme_nuance             0\n",
      "score_nuance_groupe_pres           0\n",
      "score_bloc_pres                    0\n",
      "taux_vote_pres                     0\n",
      "score_pres_exg                     0\n",
      "score_pres_g                       0\n",
      "score_pres_c                       0\n",
      "score_pres_d                       0\n",
      "score_pres_exd                     0\n",
      "score_pres_div                     0\n",
      "score_candidat_prec_leg            0\n",
      "depute_sortant                     0\n",
      "sexe                               0\n",
      "nuance_groupe                      0\n",
      "bloc                               0\n",
      "p_voix                          7881\n",
      "dtype: int64\n"
     ]
    }
   ],
   "source": [
    "print(raw.shape)\n",
    "print(raw.isnull().sum())"
   ]
  },
  {
   "cell_type": "markdown",
   "metadata": {
    "deletable": true,
    "editable": true
   },
   "source": [
    "#### Création des ensembles de train/validation/test"
   ]
  },
  {
   "cell_type": "code",
   "execution_count": 6,
   "metadata": {
    "collapsed": false
   },
   "outputs": [],
   "source": [
    "def train_val_splits(df, year_for_validation):\n",
    "    df_train = df[(df.an != 2017) & (df.an != year_for_validation)].dropna(how='any')\n",
    "    y_train = df_train.p_voix\n",
    "    X_train = df_train.drop(['an', 'p_voix'], axis=1)\n",
    "    \n",
    "    df_val = df[df.an == year_for_validation].dropna(how='any')\n",
    "    y_val = df_val.p_voix\n",
    "    X_val = df_val.drop(['an', 'p_voix'], axis=1)\n",
    "    \n",
    "    return X_train, X_val, y_train, y_val"
   ]
  },
  {
   "cell_type": "code",
   "execution_count": 7,
   "metadata": {
    "collapsed": false
   },
   "outputs": [
    {
     "name": "stdout",
     "output_type": "stream",
     "text": [
      "['etrangers', 'part_impose', 'revenus_q1', 'revenus_med', 'revenus_q3', 'ecart_revenus', 'chom_tot', 'chom_tot_evol_5', 'chom_jeunes', 'chom_jeunes_evol_5', 'chom_adultes', 'chom_adultes_evol_5', 'chom_seniors', 'chom_seniors_evol_5', 'p_agri', 'p_commercants', 'p_cadres', 'p_intermed', 'p_employes', 'p_ouvriers', 'd_brevet', 'd_bep', 'd_bac', 'd_sup', 'circo_leg_meme_nuance', 'nb_candidats_meme_bloc', 'score_nuance_groupe_prec_leg', 'score_bloc_prec_leg', 'taux_vote_leg', 'score_leg_exg', 'score_leg_g', 'score_leg_c', 'score_leg_d', 'score_leg_exd', 'score_leg_div', 'circo_pres_meme_nuance', 'score_nuance_groupe_pres', 'score_bloc_pres', 'taux_vote_pres', 'score_pres_exg', 'score_pres_g', 'score_pres_c', 'score_pres_d', 'score_pres_exd', 'score_pres_div', 'score_candidat_prec_leg', 'depute_sortant']\n",
      "(15704, 93) (6276, 93)\n",
      "(15704,) (6276,)\n"
     ]
    }
   ],
   "source": [
    "# Transformation des variables dummies\n",
    "dummies_list = ['circo_nuance_groupe','circo_bloc', 'sexe','nuance_groupe',\n",
    "                'circo_nuance_groupe_pres', 'bloc', 'an', 'p_voix']\n",
    "scale_list = [col for col in raw.columns if col not in dummies_list]\n",
    "print(scale_list)\n",
    "\n",
    "raw_dummified = pd.get_dummies(raw, drop_first=True)\n",
    "X_train, X_val, y_train, y_val = train_val_splits(raw_dummified, 2012)\n",
    "\n",
    "# Normalisation du dataframe\n",
    "scaler = StandardScaler()\n",
    "X_train[scale_list] = scaler.fit_transform(X_train[scale_list])\n",
    "X_val[scale_list] = scaler.transform(X_val[scale_list])\n",
    "\n",
    "print(X_train.shape, X_val.shape)\n",
    "print(y_train.shape, y_val.shape)"
   ]
  },
  {
   "cell_type": "markdown",
   "metadata": {},
   "source": [
    "#### Exploration"
   ]
  },
  {
   "cell_type": "code",
   "execution_count": 8,
   "metadata": {
    "collapsed": false
   },
   "outputs": [
    {
     "data": {
      "text/html": [
       "<div>\n",
       "<table border=\"1\" class=\"dataframe\">\n",
       "  <thead>\n",
       "    <tr style=\"text-align: right;\">\n",
       "      <th></th>\n",
       "      <th>etrangers</th>\n",
       "      <th>part_impose</th>\n",
       "      <th>revenus_q1</th>\n",
       "      <th>revenus_med</th>\n",
       "      <th>revenus_q3</th>\n",
       "      <th>ecart_revenus</th>\n",
       "      <th>chom_tot</th>\n",
       "      <th>chom_tot_evol_5</th>\n",
       "      <th>chom_jeunes</th>\n",
       "      <th>chom_jeunes_evol_5</th>\n",
       "      <th>...</th>\n",
       "      <th>nuance_groupe_MDM</th>\n",
       "      <th>nuance_groupe_RDG</th>\n",
       "      <th>nuance_groupe_REM</th>\n",
       "      <th>nuance_groupe_SOC</th>\n",
       "      <th>nuance_groupe_UDI</th>\n",
       "      <th>bloc_Divers</th>\n",
       "      <th>bloc_Droite</th>\n",
       "      <th>bloc_Exdroite</th>\n",
       "      <th>bloc_Exgauche</th>\n",
       "      <th>bloc_Gauche</th>\n",
       "    </tr>\n",
       "  </thead>\n",
       "  <tbody>\n",
       "    <tr>\n",
       "      <th>14488</th>\n",
       "      <td>0.410384</td>\n",
       "      <td>0.135974</td>\n",
       "      <td>0.423524</td>\n",
       "      <td>0.55709</td>\n",
       "      <td>0.535236</td>\n",
       "      <td>0.494874</td>\n",
       "      <td>-1.195229</td>\n",
       "      <td>1.22362</td>\n",
       "      <td>-0.716497</td>\n",
       "      <td>0.926675</td>\n",
       "      <td>...</td>\n",
       "      <td>0</td>\n",
       "      <td>0</td>\n",
       "      <td>0</td>\n",
       "      <td>0</td>\n",
       "      <td>0</td>\n",
       "      <td>0</td>\n",
       "      <td>0</td>\n",
       "      <td>0</td>\n",
       "      <td>1</td>\n",
       "      <td>0</td>\n",
       "    </tr>\n",
       "    <tr>\n",
       "      <th>14489</th>\n",
       "      <td>0.410384</td>\n",
       "      <td>0.135974</td>\n",
       "      <td>0.423524</td>\n",
       "      <td>0.55709</td>\n",
       "      <td>0.535236</td>\n",
       "      <td>0.494874</td>\n",
       "      <td>-1.195229</td>\n",
       "      <td>1.22362</td>\n",
       "      <td>-0.716497</td>\n",
       "      <td>0.926675</td>\n",
       "      <td>...</td>\n",
       "      <td>0</td>\n",
       "      <td>0</td>\n",
       "      <td>0</td>\n",
       "      <td>0</td>\n",
       "      <td>0</td>\n",
       "      <td>0</td>\n",
       "      <td>1</td>\n",
       "      <td>0</td>\n",
       "      <td>0</td>\n",
       "      <td>0</td>\n",
       "    </tr>\n",
       "    <tr>\n",
       "      <th>14490</th>\n",
       "      <td>0.410384</td>\n",
       "      <td>0.135974</td>\n",
       "      <td>0.423524</td>\n",
       "      <td>0.55709</td>\n",
       "      <td>0.535236</td>\n",
       "      <td>0.494874</td>\n",
       "      <td>-1.195229</td>\n",
       "      <td>1.22362</td>\n",
       "      <td>-0.716497</td>\n",
       "      <td>0.926675</td>\n",
       "      <td>...</td>\n",
       "      <td>0</td>\n",
       "      <td>0</td>\n",
       "      <td>0</td>\n",
       "      <td>0</td>\n",
       "      <td>0</td>\n",
       "      <td>0</td>\n",
       "      <td>0</td>\n",
       "      <td>1</td>\n",
       "      <td>0</td>\n",
       "      <td>0</td>\n",
       "    </tr>\n",
       "    <tr>\n",
       "      <th>14491</th>\n",
       "      <td>0.410384</td>\n",
       "      <td>0.135974</td>\n",
       "      <td>0.423524</td>\n",
       "      <td>0.55709</td>\n",
       "      <td>0.535236</td>\n",
       "      <td>0.494874</td>\n",
       "      <td>-1.195229</td>\n",
       "      <td>1.22362</td>\n",
       "      <td>-0.716497</td>\n",
       "      <td>0.926675</td>\n",
       "      <td>...</td>\n",
       "      <td>0</td>\n",
       "      <td>0</td>\n",
       "      <td>0</td>\n",
       "      <td>1</td>\n",
       "      <td>0</td>\n",
       "      <td>0</td>\n",
       "      <td>0</td>\n",
       "      <td>0</td>\n",
       "      <td>0</td>\n",
       "      <td>1</td>\n",
       "    </tr>\n",
       "    <tr>\n",
       "      <th>14492</th>\n",
       "      <td>0.410384</td>\n",
       "      <td>0.135974</td>\n",
       "      <td>0.423524</td>\n",
       "      <td>0.55709</td>\n",
       "      <td>0.535236</td>\n",
       "      <td>0.494874</td>\n",
       "      <td>-1.195229</td>\n",
       "      <td>1.22362</td>\n",
       "      <td>-0.716497</td>\n",
       "      <td>0.926675</td>\n",
       "      <td>...</td>\n",
       "      <td>0</td>\n",
       "      <td>0</td>\n",
       "      <td>0</td>\n",
       "      <td>0</td>\n",
       "      <td>0</td>\n",
       "      <td>0</td>\n",
       "      <td>0</td>\n",
       "      <td>0</td>\n",
       "      <td>0</td>\n",
       "      <td>1</td>\n",
       "    </tr>\n",
       "  </tbody>\n",
       "</table>\n",
       "<p>5 rows × 93 columns</p>\n",
       "</div>"
      ],
      "text/plain": [
       "       etrangers  part_impose  revenus_q1  revenus_med  revenus_q3  \\\n",
       "14488   0.410384     0.135974    0.423524      0.55709    0.535236   \n",
       "14489   0.410384     0.135974    0.423524      0.55709    0.535236   \n",
       "14490   0.410384     0.135974    0.423524      0.55709    0.535236   \n",
       "14491   0.410384     0.135974    0.423524      0.55709    0.535236   \n",
       "14492   0.410384     0.135974    0.423524      0.55709    0.535236   \n",
       "\n",
       "       ecart_revenus  chom_tot  chom_tot_evol_5  chom_jeunes  \\\n",
       "14488       0.494874 -1.195229          1.22362    -0.716497   \n",
       "14489       0.494874 -1.195229          1.22362    -0.716497   \n",
       "14490       0.494874 -1.195229          1.22362    -0.716497   \n",
       "14491       0.494874 -1.195229          1.22362    -0.716497   \n",
       "14492       0.494874 -1.195229          1.22362    -0.716497   \n",
       "\n",
       "       chom_jeunes_evol_5     ...       nuance_groupe_MDM  nuance_groupe_RDG  \\\n",
       "14488            0.926675     ...                       0                  0   \n",
       "14489            0.926675     ...                       0                  0   \n",
       "14490            0.926675     ...                       0                  0   \n",
       "14491            0.926675     ...                       0                  0   \n",
       "14492            0.926675     ...                       0                  0   \n",
       "\n",
       "       nuance_groupe_REM  nuance_groupe_SOC  nuance_groupe_UDI  bloc_Divers  \\\n",
       "14488                  0                  0                  0            0   \n",
       "14489                  0                  0                  0            0   \n",
       "14490                  0                  0                  0            0   \n",
       "14491                  0                  1                  0            0   \n",
       "14492                  0                  0                  0            0   \n",
       "\n",
       "       bloc_Droite  bloc_Exdroite  bloc_Exgauche  bloc_Gauche  \n",
       "14488            0              0              1            0  \n",
       "14489            1              0              0            0  \n",
       "14490            0              1              0            0  \n",
       "14491            0              0              0            1  \n",
       "14492            0              0              0            1  \n",
       "\n",
       "[5 rows x 93 columns]"
      ]
     },
     "execution_count": 8,
     "metadata": {},
     "output_type": "execute_result"
    }
   ],
   "source": [
    "X_train.head(5)"
   ]
  },
  {
   "cell_type": "code",
   "execution_count": 9,
   "metadata": {
    "collapsed": false
   },
   "outputs": [
    {
     "data": {
      "text/html": [
       "<div>\n",
       "<table border=\"1\" class=\"dataframe\">\n",
       "  <thead>\n",
       "    <tr style=\"text-align: right;\">\n",
       "      <th></th>\n",
       "      <th>etrangers</th>\n",
       "      <th>part_impose</th>\n",
       "      <th>revenus_q1</th>\n",
       "      <th>revenus_med</th>\n",
       "      <th>revenus_q3</th>\n",
       "      <th>ecart_revenus</th>\n",
       "      <th>chom_tot</th>\n",
       "      <th>chom_tot_evol_5</th>\n",
       "      <th>chom_jeunes</th>\n",
       "      <th>chom_jeunes_evol_5</th>\n",
       "      <th>...</th>\n",
       "      <th>nuance_groupe_MDM</th>\n",
       "      <th>nuance_groupe_RDG</th>\n",
       "      <th>nuance_groupe_REM</th>\n",
       "      <th>nuance_groupe_SOC</th>\n",
       "      <th>nuance_groupe_UDI</th>\n",
       "      <th>bloc_Divers</th>\n",
       "      <th>bloc_Droite</th>\n",
       "      <th>bloc_Exdroite</th>\n",
       "      <th>bloc_Exgauche</th>\n",
       "      <th>bloc_Gauche</th>\n",
       "    </tr>\n",
       "  </thead>\n",
       "  <tbody>\n",
       "    <tr>\n",
       "      <th>7881</th>\n",
       "      <td>0.453903</td>\n",
       "      <td>0.121356</td>\n",
       "      <td>1.204968</td>\n",
       "      <td>0.849285</td>\n",
       "      <td>0.475729</td>\n",
       "      <td>-0.021573</td>\n",
       "      <td>-0.797027</td>\n",
       "      <td>0.925056</td>\n",
       "      <td>-0.394528</td>\n",
       "      <td>0.371543</td>\n",
       "      <td>...</td>\n",
       "      <td>0</td>\n",
       "      <td>0</td>\n",
       "      <td>0</td>\n",
       "      <td>0</td>\n",
       "      <td>0</td>\n",
       "      <td>0</td>\n",
       "      <td>0</td>\n",
       "      <td>0</td>\n",
       "      <td>0</td>\n",
       "      <td>1</td>\n",
       "    </tr>\n",
       "    <tr>\n",
       "      <th>7882</th>\n",
       "      <td>0.453903</td>\n",
       "      <td>0.121356</td>\n",
       "      <td>1.204968</td>\n",
       "      <td>0.849285</td>\n",
       "      <td>0.475729</td>\n",
       "      <td>-0.021573</td>\n",
       "      <td>-0.797027</td>\n",
       "      <td>0.925056</td>\n",
       "      <td>-0.394528</td>\n",
       "      <td>0.371543</td>\n",
       "      <td>...</td>\n",
       "      <td>0</td>\n",
       "      <td>0</td>\n",
       "      <td>0</td>\n",
       "      <td>0</td>\n",
       "      <td>0</td>\n",
       "      <td>0</td>\n",
       "      <td>1</td>\n",
       "      <td>0</td>\n",
       "      <td>0</td>\n",
       "      <td>0</td>\n",
       "    </tr>\n",
       "    <tr>\n",
       "      <th>7883</th>\n",
       "      <td>0.453903</td>\n",
       "      <td>0.121356</td>\n",
       "      <td>1.204968</td>\n",
       "      <td>0.849285</td>\n",
       "      <td>0.475729</td>\n",
       "      <td>-0.021573</td>\n",
       "      <td>-0.797027</td>\n",
       "      <td>0.925056</td>\n",
       "      <td>-0.394528</td>\n",
       "      <td>0.371543</td>\n",
       "      <td>...</td>\n",
       "      <td>0</td>\n",
       "      <td>0</td>\n",
       "      <td>0</td>\n",
       "      <td>0</td>\n",
       "      <td>0</td>\n",
       "      <td>0</td>\n",
       "      <td>0</td>\n",
       "      <td>0</td>\n",
       "      <td>1</td>\n",
       "      <td>0</td>\n",
       "    </tr>\n",
       "    <tr>\n",
       "      <th>7884</th>\n",
       "      <td>0.453903</td>\n",
       "      <td>0.121356</td>\n",
       "      <td>1.204968</td>\n",
       "      <td>0.849285</td>\n",
       "      <td>0.475729</td>\n",
       "      <td>-0.021573</td>\n",
       "      <td>-0.797027</td>\n",
       "      <td>0.925056</td>\n",
       "      <td>-0.394528</td>\n",
       "      <td>0.371543</td>\n",
       "      <td>...</td>\n",
       "      <td>0</td>\n",
       "      <td>0</td>\n",
       "      <td>0</td>\n",
       "      <td>0</td>\n",
       "      <td>0</td>\n",
       "      <td>0</td>\n",
       "      <td>1</td>\n",
       "      <td>0</td>\n",
       "      <td>0</td>\n",
       "      <td>0</td>\n",
       "    </tr>\n",
       "    <tr>\n",
       "      <th>7885</th>\n",
       "      <td>0.453903</td>\n",
       "      <td>0.121356</td>\n",
       "      <td>1.204968</td>\n",
       "      <td>0.849285</td>\n",
       "      <td>0.475729</td>\n",
       "      <td>-0.021573</td>\n",
       "      <td>-0.797027</td>\n",
       "      <td>0.925056</td>\n",
       "      <td>-0.394528</td>\n",
       "      <td>0.371543</td>\n",
       "      <td>...</td>\n",
       "      <td>0</td>\n",
       "      <td>0</td>\n",
       "      <td>0</td>\n",
       "      <td>1</td>\n",
       "      <td>0</td>\n",
       "      <td>0</td>\n",
       "      <td>0</td>\n",
       "      <td>0</td>\n",
       "      <td>0</td>\n",
       "      <td>1</td>\n",
       "    </tr>\n",
       "  </tbody>\n",
       "</table>\n",
       "<p>5 rows × 93 columns</p>\n",
       "</div>"
      ],
      "text/plain": [
       "      etrangers  part_impose  revenus_q1  revenus_med  revenus_q3  \\\n",
       "7881   0.453903     0.121356    1.204968     0.849285    0.475729   \n",
       "7882   0.453903     0.121356    1.204968     0.849285    0.475729   \n",
       "7883   0.453903     0.121356    1.204968     0.849285    0.475729   \n",
       "7884   0.453903     0.121356    1.204968     0.849285    0.475729   \n",
       "7885   0.453903     0.121356    1.204968     0.849285    0.475729   \n",
       "\n",
       "      ecart_revenus  chom_tot  chom_tot_evol_5  chom_jeunes  \\\n",
       "7881      -0.021573 -0.797027         0.925056    -0.394528   \n",
       "7882      -0.021573 -0.797027         0.925056    -0.394528   \n",
       "7883      -0.021573 -0.797027         0.925056    -0.394528   \n",
       "7884      -0.021573 -0.797027         0.925056    -0.394528   \n",
       "7885      -0.021573 -0.797027         0.925056    -0.394528   \n",
       "\n",
       "      chom_jeunes_evol_5     ...       nuance_groupe_MDM  nuance_groupe_RDG  \\\n",
       "7881            0.371543     ...                       0                  0   \n",
       "7882            0.371543     ...                       0                  0   \n",
       "7883            0.371543     ...                       0                  0   \n",
       "7884            0.371543     ...                       0                  0   \n",
       "7885            0.371543     ...                       0                  0   \n",
       "\n",
       "      nuance_groupe_REM  nuance_groupe_SOC  nuance_groupe_UDI  bloc_Divers  \\\n",
       "7881                  0                  0                  0            0   \n",
       "7882                  0                  0                  0            0   \n",
       "7883                  0                  0                  0            0   \n",
       "7884                  0                  0                  0            0   \n",
       "7885                  0                  1                  0            0   \n",
       "\n",
       "      bloc_Droite  bloc_Exdroite  bloc_Exgauche  bloc_Gauche  \n",
       "7881            0              0              0            1  \n",
       "7882            1              0              0            0  \n",
       "7883            0              0              1            0  \n",
       "7884            1              0              0            0  \n",
       "7885            0              0              0            1  \n",
       "\n",
       "[5 rows x 93 columns]"
      ]
     },
     "execution_count": 9,
     "metadata": {},
     "output_type": "execute_result"
    }
   ],
   "source": [
    "X_val.head(5)"
   ]
  },
  {
   "cell_type": "code",
   "execution_count": 55,
   "metadata": {
    "collapsed": false
   },
   "outputs": [],
   "source": [
    "# imp = Imputer(missing_values='NaN', strategy='mean', axis=0)\n",
    "# imp = imp.fit(X_train)# Impute our data, then train\n",
    "# X_train_imp = imp.transform(X_train)"
   ]
  },
  {
   "cell_type": "code",
   "execution_count": 56,
   "metadata": {
    "collapsed": true
   },
   "outputs": [],
   "source": [
    "# imp = Imputer(missing_values='NaN', strategy='mean', axis=0)\n",
    "# imp = imp.fit(X_test)# Impute our data, then train\n",
    "# X_test_imp = imp.transform(X_test)"
   ]
  },
  {
   "cell_type": "code",
   "execution_count": 10,
   "metadata": {
    "collapsed": false,
    "deletable": true,
    "editable": true
   },
   "outputs": [
    {
     "data": {
      "text/plain": [
       "RandomForestRegressor(bootstrap=True, criterion='mse', max_depth=None,\n",
       "           max_features='auto', max_leaf_nodes=None,\n",
       "           min_impurity_split=1e-07, min_samples_leaf=1,\n",
       "           min_samples_split=2, min_weight_fraction_leaf=0.0,\n",
       "           n_estimators=100, n_jobs=-1, oob_score=False, random_state=None,\n",
       "           verbose=0, warm_start=False)"
      ]
     },
     "execution_count": 10,
     "metadata": {},
     "output_type": "execute_result"
    }
   ],
   "source": [
    "rf = RandomForestRegressor(n_jobs=-1, n_estimators=100)\n",
    "rf.fit(X_train, y_train)"
   ]
  },
  {
   "cell_type": "code",
   "execution_count": 11,
   "metadata": {
    "collapsed": false
   },
   "outputs": [
    {
     "data": {
      "text/plain": [
       "0.026114582104281959"
      ]
     },
     "execution_count": 11,
     "metadata": {},
     "output_type": "execute_result"
    }
   ],
   "source": [
    "y_pred = rf.predict(X_val)\n",
    "mean_absolute_error(y_val, y_pred)"
   ]
  },
  {
   "cell_type": "code",
   "execution_count": 12,
   "metadata": {
    "collapsed": false
   },
   "outputs": [
    {
     "data": {
      "text/plain": [
       "[(34.859212944767947, 'score_candidat_prec_leg'),\n",
       " (19.225046332362393, 'score_nuance_groupe_pres'),\n",
       " (14.630188900097851, 'nuance_groupe_LR'),\n",
       " (6.0371014973552368, 'nuance_groupe_SOC'),\n",
       " (4.4285044866398957, 'score_bloc_prec_leg'),\n",
       " (3.3508303747520984, 'bloc_Droite'),\n",
       " (2.9412161677119517, 'score_nuance_groupe_prec_leg'),\n",
       " (1.7281204167575128, 'depute_sortant'),\n",
       " (0.84657157730254917, 'score_bloc_pres'),\n",
       " (0.6561059990428596, 'nuance_groupe_MDM'),\n",
       " (0.59195080841233072, 'nuance_groupe_RDG'),\n",
       " (0.5199726562636432, 'score_leg_g'),\n",
       " (0.45396257228714731, 'score_pres_d'),\n",
       " (0.44786126551191713, 'score_pres_exg'),\n",
       " (0.37783043843723441, 'nb_candidats_meme_bloc'),\n",
       " (0.35920271619358718, 'taux_vote_leg'),\n",
       " (0.35491779334346479, 'circo_pres_meme_nuance'),\n",
       " (0.35144581467039793, 'score_leg_exg'),\n",
       " (0.34578809942037486, 'score_pres_g'),\n",
       " (0.33322387493955258, 'sexe_M'),\n",
       " (0.32409648159744503, 'score_leg_d'),\n",
       " (0.31156971048235627, 'score_pres_exd'),\n",
       " (0.29641720997673821, 'score_leg_exd'),\n",
       " (0.26465955747037812, 'score_pres_div'),\n",
       " (0.26324959013524396, 'score_leg_c'),\n",
       " (0.25170832320461306, 'chom_jeunes'),\n",
       " (0.24962354799938019, 'score_pres_c'),\n",
       " (0.2483352267358106, 'taux_vote_pres'),\n",
       " (0.23634924078901501, 'circo_bloc_Droite'),\n",
       " (0.22454487731655728, 'ecart_revenus'),\n",
       " (0.21383893719444882, 'revenus_q1'),\n",
       " (0.20842803226205422, 'part_impose'),\n",
       " (0.2066292882703, 'd_bac'),\n",
       " (0.20382351755322661, 'p_commercants'),\n",
       " (0.20141383831742171, 'revenus_q3'),\n",
       " (0.19985136709965637, 'chom_jeunes_evol_5'),\n",
       " (0.18161631288364619, 'score_leg_div'),\n",
       " (0.17118505479877658, 'revenus_med'),\n",
       " (0.16828546842289285, 'etrangers'),\n",
       " (0.16348192892629559, 'p_ouvriers'),\n",
       " (0.162564040964958, 'd_brevet'),\n",
       " (0.15394256925730923, 'circo_nuance_groupe_pres_LR'),\n",
       " (0.14616372025959534, 'chom_seniors_evol_5'),\n",
       " (0.13874892446678472, 'chom_seniors'),\n",
       " (0.13811883313386392, 'p_employes'),\n",
       " (0.12404831651879986, 'p_agri'),\n",
       " (0.12105226465179153, 'chom_tot_evol_5'),\n",
       " (0.12069102582787287, 'circo_bloc_Gauche'),\n",
       " (0.12054851369224209, 'd_bep'),\n",
       " (0.11634345181437533, 'chom_adultes'),\n",
       " (0.11513559540969279, 'chom_tot'),\n",
       " (0.10899253688445024, 'chom_adultes_evol_5'),\n",
       " (0.10080973431493283, 'p_intermed'),\n",
       " (0.094765518584778274, 'p_cadres'),\n",
       " (0.083118088722277564, 'nuance_groupe_DVG'),\n",
       " (0.081693210119012608, 'd_sup'),\n",
       " (0.065773142914881511, 'circo_leg_meme_nuance'),\n",
       " (0.059100861878759667, 'nuance_groupe_ECO'),\n",
       " (0.059085890634733851, 'nuance_groupe_DVD'),\n",
       " (0.058913593756478186, 'circo_nuance_groupe_pres_SOC'),\n",
       " (0.05669279541409316, 'bloc_Gauche'),\n",
       " (0.05492536984541932, 'bloc_Exgauche'),\n",
       " (0.041307420253502834, 'circo_nuance_groupe_LR'),\n",
       " (0.040381864213635162, 'nuance_groupe_EXG'),\n",
       " (0.034260117647520551, 'circo_nuance_groupe_MDM'),\n",
       " (0.033282851520010967, 'nuance_groupe_EXD'),\n",
       " (0.020261507649486084, 'circo_nuance_groupe_RDG'),\n",
       " (0.018811766794414191, 'nuance_groupe_FN'),\n",
       " (0.018659998333342111, 'bloc_Exdroite'),\n",
       " (0.015398819178246814, 'circo_nuance_groupe_DIV'),\n",
       " (0.013964843266981117, 'circo_nuance_groupe_SOC'),\n",
       " (0.013703492403509579, 'circo_nuance_groupe_pres_FN'),\n",
       " (0.010841366103780569, 'circo_nuance_groupe_DVG'),\n",
       " (0.0090985377235259252, 'circo_bloc_Divers'),\n",
       " (0.0057673910159219723, 'circo_nuance_groupe_ECO'),\n",
       " (0.0054914991313791449, 'circo_nuance_groupe_DVD'),\n",
       " (0.0052249836040059675, 'circo_bloc_Exgauche'),\n",
       " (0.0014877459140658202, 'bloc_Divers'),\n",
       " (0.0011977671107199525, 'nuance_groupe_DLF'),\n",
       " (0.0009137525472244553, 'nuance_groupe_DIV'),\n",
       " (0.00049959791286784518, 'circo_nuance_groupe_pres_MDM'),\n",
       " (3.5555584698591126e-05, 'circo_nuance_groupe_FN'),\n",
       " (1.8875317850461776e-05, 'circo_bloc_Exdroite'),\n",
       " (0.0, 'nuance_groupe_UDI'),\n",
       " (0.0, 'nuance_groupe_REM'),\n",
       " (0.0, 'nuance_groupe_FI'),\n",
       " (0.0, 'circo_nuance_groupe_pres_REM'),\n",
       " (0.0, 'circo_nuance_groupe_pres_RDG'),\n",
       " (0.0, 'circo_nuance_groupe_pres_FI'),\n",
       " (0.0, 'circo_nuance_groupe_UDI'),\n",
       " (0.0, 'circo_nuance_groupe_FI'),\n",
       " (0.0, 'circo_nuance_groupe_EXD'),\n",
       " (0.0, 'circo_nuance_groupe_DLF')]"
      ]
     },
     "execution_count": 12,
     "metadata": {},
     "output_type": "execute_result"
    }
   ],
   "source": [
    "sorted(list(zip(rf.feature_importances_*100, X_train.columns)), reverse=True)"
   ]
  },
  {
   "cell_type": "code",
   "execution_count": 70,
   "metadata": {
    "collapsed": false
   },
   "outputs": [
    {
     "name": "stdout",
     "output_type": "stream",
     "text": [
      "[ 0.01335725  0.01090169  0.025709    0.29174825  0.16173332  0.0219576\n",
      "  0.01080922  0.01080922  0.04448367  0.01335725] 7881    0.0147\n",
      "7882    0.0037\n",
      "7883    0.0192\n",
      "7884    0.2241\n",
      "7885    0.2316\n",
      "7886    0.0028\n",
      "7887    0.0022\n",
      "7888    0.0018\n",
      "7889    0.0922\n",
      "7890    0.0029\n",
      "Name: p_voix, dtype: float64\n"
     ]
    }
   ],
   "source": [
    "print(y_pred[:10], y_val[:10])"
   ]
  },
  {
   "cell_type": "code",
   "execution_count": null,
   "metadata": {
    "collapsed": true
   },
   "outputs": [],
   "source": [
    "#TODO : concatener l'identifiant de la ligne (année, circo, nom), la vraie valeur et la prédiction\n",
    "# repérer les grands écarts\n",
    "def print_prediction(y_pred, y_true):\n",
    "    return "
   ]
  }
 ],
 "metadata": {
  "anaconda-cloud": {},
  "kernelspec": {
   "display_name": "Python [default]",
   "language": "python",
   "name": "python3"
  },
  "language_info": {
   "codemirror_mode": {
    "name": "ipython",
    "version": 3
   },
   "file_extension": ".py",
   "mimetype": "text/x-python",
   "name": "python",
   "nbconvert_exporter": "python",
   "pygments_lexer": "ipython3",
   "version": "3.5.2"
  }
 },
 "nbformat": 4,
 "nbformat_minor": 1
}
