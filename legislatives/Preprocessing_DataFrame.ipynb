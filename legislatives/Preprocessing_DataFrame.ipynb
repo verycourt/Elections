{
 "cells": [
  {
   "cell_type": "markdown",
   "metadata": {},
   "source": [
    "#### To do\n",
    "Analyse des données manquantes :\n",
    "- etrangers : Français de l'étranger => moyenne des étrangers ailleurs ?\n",
    "- part des ménages imposés et quartiles de revenu : Français de l'étranger et DOM (à part Réunion et Martinique) => utiliser les données de la Réunion et de la Martinique pour les autres DOM ? et moyenne nationale pour les français de l'étranger ?\n",
    "- chômage : Français de l'étranger => utiliser moyenne nationale ?\n",
    "- diplômes et CSP : Français de l'étranger, petits DOM (Wallis et Futuna, Nouvelle Calédonie, etc...) => utiliser moyenne des autres DOM ? et moyenne nationale pour les français de l'étranger ?\n",
    "\n",
    "Nouvelles features :\n",
    "- Données géo par Dept (dummy sur position Littoral, métropole, péri-urbain à établir par la densité de pop, est-ouest, Nord-Sud)"
   ]
  },
  {
   "cell_type": "code",
   "execution_count": 70,
   "metadata": {
    "collapsed": true,
    "deletable": true,
    "editable": true
   },
   "outputs": [],
   "source": [
    "import pandas as pd\n",
    "import numpy as np\n",
    "from matplotlib import pyplot as plt\n",
    "from sklearn.ensemble import RandomForestRegressor\n",
    "from sklearn.preprocessing import Imputer, StandardScaler\n",
    "from sklearn.metrics import mean_absolute_error, mean_squared_error"
   ]
  },
  {
   "cell_type": "markdown",
   "metadata": {
    "deletable": true,
    "editable": true
   },
   "source": [
    "#### Retrait des colonnes et lignes inutiles / sélection de features"
   ]
  },
  {
   "cell_type": "code",
   "execution_count": 94,
   "metadata": {
    "collapsed": false,
    "deletable": true,
    "editable": true
   },
   "outputs": [
    {
     "name": "stdout",
     "output_type": "stream",
     "text": [
      "Taille initiale du DF : (36919, 68)\n",
      "Index(['an', 'etrangers', 'part_impose', 'revenus_q1', 'revenus_med',\n",
      "       'revenus_q3', 'ecart_revenus', 'chom_tot', 'chom_tot_evol_5',\n",
      "       'chom_jeunes', 'chom_jeunes_evol_5', 'chom_adultes',\n",
      "       'chom_adultes_evol_5', 'chom_seniors', 'chom_seniors_evol_5', 'p_agri',\n",
      "       'p_commercants', 'p_cadres', 'p_intermed', 'p_employes', 'p_ouvriers',\n",
      "       'd_brevet', 'd_bep', 'd_bac', 'd_sup', 'circo_nuance_groupe',\n",
      "       'circo_bloc', 'circo_leg_meme_nuance', 'nb_candidats_meme_bloc',\n",
      "       'score_nuance_groupe_prec_leg', 'score_bloc_prec_leg', 'taux_vote_leg',\n",
      "       'score_leg_exg', 'score_leg_g', 'score_leg_c', 'score_leg_d',\n",
      "       'score_leg_exd', 'score_leg_div', 'circo_nuance_groupe_pres',\n",
      "       'circo_pres_meme_nuance', 'score_nuance_groupe_pres', 'score_bloc_pres',\n",
      "       'taux_vote_pres', 'score_pres_exg', 'score_pres_g', 'score_pres_c',\n",
      "       'score_pres_d', 'score_pres_exd', 'score_pres_div',\n",
      "       'score_candidat_prec_leg', 'depute_sortant', 'sexe', 'nuance_groupe',\n",
      "       'bloc', 'p_voix'],\n",
      "      dtype='object')\n",
      "Taille du DF après retrait de 1997 et des colonnes inutiles : (30565, 55)\n"
     ]
    }
   ],
   "source": [
    "# load data\n",
    "raw = pd.read_excel('data/dataframe_elections.xlsx')\n",
    "print('Taille initiale du DF :', raw.shape)\n",
    "\n",
    "# drop lignes\n",
    "raw = raw[raw['an'] > 1997]\n",
    "\n",
    "# Données d'identification\n",
    "id_list = ['an', 'code', 'nom', 'prenom', 'nuance_groupe', 'second_tour']\n",
    "df_id = raw[id_list]\n",
    "\n",
    "# drop colonnes\n",
    "drop_list = ['c_dep', 'dep', 'circo', 'code', 'inscrits', 'circo_parti', 'circo_nuance',\n",
    "             'nom', 'prenom', 'etiquette', 'nuance', 'voix', 'second_tour']\n",
    "raw = raw.drop(drop_list, axis=1)\n",
    "\n",
    "print(raw.columns)\n",
    "print('Taille du DF après retrait de 1997 et des colonnes inutiles :', raw.shape)"
   ]
  },
  {
   "cell_type": "markdown",
   "metadata": {
    "deletable": true,
    "editable": true
   },
   "source": [
    "### Feature engineering"
   ]
  },
  {
   "cell_type": "markdown",
   "metadata": {},
   "source": [
    "#### Retrait des features qui dégradent le modèle"
   ]
  },
  {
   "cell_type": "code",
   "execution_count": 95,
   "metadata": {
    "collapsed": true
   },
   "outputs": [],
   "source": [
    "keep_list = ['an', 'p_voix'] # à garder obligatoirement pour identifier les lignes et créer les labels\n",
    "keep_list.extend(['part_impose', 'chom_tot', 'p_agri', 'p_ouvriers', 'd_brevet','d_sup',\n",
    "            'circo_leg_meme_nuance', 'nb_candidats_meme_bloc', 'score_nuance_groupe_prec_leg',\n",
    "             'score_bloc_prec_leg', 'taux_vote_leg', 'score_nuance_groupe_pres', 'score_bloc_pres',\n",
    "            'taux_vote_pres', 'score_candidat_prec_leg', 'depute_sortant'])\n",
    "\n",
    "df = raw.drop([col for col in raw.columns if col not in keep_list], axis=1)"
   ]
  },
  {
   "cell_type": "code",
   "execution_count": 96,
   "metadata": {
    "collapsed": false
   },
   "outputs": [
    {
     "name": "stdout",
     "output_type": "stream",
     "text": [
      "Index(['an', 'part_impose', 'chom_tot', 'p_agri', 'p_ouvriers', 'd_brevet',\n",
      "       'd_sup', 'circo_leg_meme_nuance', 'nb_candidats_meme_bloc',\n",
      "       'score_nuance_groupe_prec_leg', 'score_bloc_prec_leg', 'taux_vote_leg',\n",
      "       'score_nuance_groupe_pres', 'score_bloc_pres', 'taux_vote_pres',\n",
      "       'score_candidat_prec_leg', 'depute_sortant', 'p_voix'],\n",
      "      dtype='object')\n"
     ]
    }
   ],
   "source": [
    "print(df.columns)"
   ]
  },
  {
   "cell_type": "markdown",
   "metadata": {},
   "source": [
    "#### Gestion des NaN"
   ]
  },
  {
   "cell_type": "code",
   "execution_count": 97,
   "metadata": {
    "collapsed": false
   },
   "outputs": [],
   "source": [
    "# Score du candidat aux législatives précédentes\n",
    "df['score_candidat_prec_leg'] = df['score_candidat_prec_leg'].fillna(0.05)\n",
    "#raw['score_candidat_prec_leg'] = raw['score_candidat_prec_leg'].fillna(value=raw['score_candidat_prec_leg'].mean())"
   ]
  },
  {
   "cell_type": "code",
   "execution_count": 98,
   "metadata": {
    "collapsed": false,
    "deletable": true,
    "editable": true
   },
   "outputs": [
    {
     "name": "stdout",
     "output_type": "stream",
     "text": [
      "(30565, 18)\n",
      "an                                 0\n",
      "part_impose                     1089\n",
      "chom_tot                         360\n",
      "p_agri                           680\n",
      "p_ouvriers                       680\n",
      "d_brevet                         680\n",
      "d_sup                            680\n",
      "circo_leg_meme_nuance              0\n",
      "nb_candidats_meme_bloc             0\n",
      "score_nuance_groupe_prec_leg     185\n",
      "score_bloc_prec_leg              185\n",
      "taux_vote_leg                    185\n",
      "score_nuance_groupe_pres           0\n",
      "score_bloc_pres                    0\n",
      "taux_vote_pres                     0\n",
      "score_candidat_prec_leg            0\n",
      "depute_sortant                     0\n",
      "p_voix                          7881\n",
      "dtype: int64\n"
     ]
    }
   ],
   "source": [
    "print(df.shape)\n",
    "print(df.isnull().sum())"
   ]
  },
  {
   "cell_type": "markdown",
   "metadata": {
    "deletable": true,
    "editable": true
   },
   "source": [
    "#### Création des ensembles de train/validation/test"
   ]
  },
  {
   "cell_type": "code",
   "execution_count": 99,
   "metadata": {
    "collapsed": false
   },
   "outputs": [],
   "source": [
    "def train_val_splits(df, year_for_validation):\n",
    "    df_train = df[(df.an != 2017) & (df.an != year_for_validation)].dropna(how='any')\n",
    "    y_train = df_train.p_voix\n",
    "    X_train = df_train.drop(['an', 'p_voix'], axis=1)\n",
    "    \n",
    "    df_val = df[df.an == year_for_validation].dropna(how='any')\n",
    "    y_val = df_val.p_voix\n",
    "    X_val = df_val.drop(['an', 'p_voix'], axis=1)\n",
    "    \n",
    "    return X_train, X_val, y_train, y_val"
   ]
  },
  {
   "cell_type": "code",
   "execution_count": 100,
   "metadata": {
    "collapsed": false
   },
   "outputs": [
    {
     "name": "stdout",
     "output_type": "stream",
     "text": [
      "['part_impose', 'chom_tot', 'p_agri', 'p_ouvriers', 'd_brevet', 'd_sup', 'circo_leg_meme_nuance', 'score_nuance_groupe_prec_leg', 'score_bloc_prec_leg', 'taux_vote_leg', 'score_nuance_groupe_pres', 'score_bloc_pres', 'taux_vote_pres', 'score_candidat_prec_leg']\n",
      "(15704, 16) (6276, 16)\n",
      "(15704,) (6276,)\n"
     ]
    }
   ],
   "source": [
    "# Transformation des variables dummies\n",
    "dummies_list = ['circo_nuance_groupe','circo_bloc', 'sexe','nuance_groupe',\n",
    "                'circo_nuance_groupe_pres', 'bloc', 'an', 'p_voix', 'depute_sortant',\n",
    "               'nb_candidats_meme_bloc']\n",
    "scale_list = [col for col in df.columns if col not in dummies_list]\n",
    "print(scale_list)\n",
    "\n",
    "df_dummified = pd.get_dummies(df, drop_first=True)\n",
    "X_train, X_val, y_train, y_val = train_val_splits(df_dummified, 2012)\n",
    "\n",
    "# Normalisation du dataframe\n",
    "scaler = StandardScaler()\n",
    "X_train[scale_list] = scaler.fit_transform(X_train[scale_list])\n",
    "X_val[scale_list] = scaler.transform(X_val[scale_list])\n",
    "\n",
    "print(X_train.shape, X_val.shape)\n",
    "print(y_train.shape, y_val.shape)"
   ]
  },
  {
   "cell_type": "markdown",
   "metadata": {},
   "source": [
    "#### Exploration"
   ]
  },
  {
   "cell_type": "code",
   "execution_count": 101,
   "metadata": {
    "collapsed": false
   },
   "outputs": [
    {
     "data": {
      "text/html": [
       "<div>\n",
       "<table border=\"1\" class=\"dataframe\">\n",
       "  <thead>\n",
       "    <tr style=\"text-align: right;\">\n",
       "      <th></th>\n",
       "      <th>part_impose</th>\n",
       "      <th>chom_tot</th>\n",
       "      <th>p_agri</th>\n",
       "      <th>p_ouvriers</th>\n",
       "      <th>d_brevet</th>\n",
       "      <th>d_sup</th>\n",
       "      <th>circo_leg_meme_nuance</th>\n",
       "      <th>nb_candidats_meme_bloc</th>\n",
       "      <th>score_nuance_groupe_prec_leg</th>\n",
       "      <th>score_bloc_prec_leg</th>\n",
       "      <th>taux_vote_leg</th>\n",
       "      <th>score_nuance_groupe_pres</th>\n",
       "      <th>score_bloc_pres</th>\n",
       "      <th>taux_vote_pres</th>\n",
       "      <th>score_candidat_prec_leg</th>\n",
       "      <th>depute_sortant</th>\n",
       "    </tr>\n",
       "  </thead>\n",
       "  <tbody>\n",
       "    <tr>\n",
       "      <th>14488</th>\n",
       "      <td>0.135974</td>\n",
       "      <td>-1.195229</td>\n",
       "      <td>-0.396878</td>\n",
       "      <td>0.202611</td>\n",
       "      <td>-0.775392</td>\n",
       "      <td>0.188107</td>\n",
       "      <td>-0.251611</td>\n",
       "      <td>3.0</td>\n",
       "      <td>-0.556800</td>\n",
       "      <td>-0.877061</td>\n",
       "      <td>-0.428999</td>\n",
       "      <td>-0.714429</td>\n",
       "      <td>-0.952695</td>\n",
       "      <td>1.205046</td>\n",
       "      <td>-0.188453</td>\n",
       "      <td>0.0</td>\n",
       "    </tr>\n",
       "    <tr>\n",
       "      <th>14489</th>\n",
       "      <td>0.135974</td>\n",
       "      <td>-1.195229</td>\n",
       "      <td>-0.396878</td>\n",
       "      <td>0.202611</td>\n",
       "      <td>-0.775392</td>\n",
       "      <td>0.188107</td>\n",
       "      <td>3.974383</td>\n",
       "      <td>2.0</td>\n",
       "      <td>3.281535</td>\n",
       "      <td>1.492936</td>\n",
       "      <td>-0.428999</td>\n",
       "      <td>3.426466</td>\n",
       "      <td>1.897607</td>\n",
       "      <td>1.205046</td>\n",
       "      <td>-0.188453</td>\n",
       "      <td>0.0</td>\n",
       "    </tr>\n",
       "    <tr>\n",
       "      <th>14490</th>\n",
       "      <td>0.135974</td>\n",
       "      <td>-1.195229</td>\n",
       "      <td>-0.396878</td>\n",
       "      <td>0.202611</td>\n",
       "      <td>-0.775392</td>\n",
       "      <td>0.188107</td>\n",
       "      <td>-0.251611</td>\n",
       "      <td>1.0</td>\n",
       "      <td>0.351531</td>\n",
       "      <td>-0.421217</td>\n",
       "      <td>-0.428999</td>\n",
       "      <td>0.530380</td>\n",
       "      <td>-0.502589</td>\n",
       "      <td>1.205046</td>\n",
       "      <td>-0.188453</td>\n",
       "      <td>0.0</td>\n",
       "    </tr>\n",
       "    <tr>\n",
       "      <th>14491</th>\n",
       "      <td>0.135974</td>\n",
       "      <td>-1.195229</td>\n",
       "      <td>-0.396878</td>\n",
       "      <td>0.202611</td>\n",
       "      <td>-0.775392</td>\n",
       "      <td>0.188107</td>\n",
       "      <td>-0.251611</td>\n",
       "      <td>3.0</td>\n",
       "      <td>2.415104</td>\n",
       "      <td>0.999024</td>\n",
       "      <td>-0.428999</td>\n",
       "      <td>2.039692</td>\n",
       "      <td>0.904270</td>\n",
       "      <td>1.205046</td>\n",
       "      <td>-0.188453</td>\n",
       "      <td>0.0</td>\n",
       "    </tr>\n",
       "    <tr>\n",
       "      <th>14492</th>\n",
       "      <td>0.135974</td>\n",
       "      <td>-1.195229</td>\n",
       "      <td>-0.396878</td>\n",
       "      <td>0.202611</td>\n",
       "      <td>-0.775392</td>\n",
       "      <td>0.188107</td>\n",
       "      <td>-0.251611</td>\n",
       "      <td>3.0</td>\n",
       "      <td>-0.537346</td>\n",
       "      <td>0.999024</td>\n",
       "      <td>-0.428999</td>\n",
       "      <td>-0.494757</td>\n",
       "      <td>0.904270</td>\n",
       "      <td>1.205046</td>\n",
       "      <td>-0.188453</td>\n",
       "      <td>0.0</td>\n",
       "    </tr>\n",
       "  </tbody>\n",
       "</table>\n",
       "</div>"
      ],
      "text/plain": [
       "       part_impose  chom_tot    p_agri  p_ouvriers  d_brevet     d_sup  \\\n",
       "14488     0.135974 -1.195229 -0.396878    0.202611 -0.775392  0.188107   \n",
       "14489     0.135974 -1.195229 -0.396878    0.202611 -0.775392  0.188107   \n",
       "14490     0.135974 -1.195229 -0.396878    0.202611 -0.775392  0.188107   \n",
       "14491     0.135974 -1.195229 -0.396878    0.202611 -0.775392  0.188107   \n",
       "14492     0.135974 -1.195229 -0.396878    0.202611 -0.775392  0.188107   \n",
       "\n",
       "       circo_leg_meme_nuance  nb_candidats_meme_bloc  \\\n",
       "14488              -0.251611                     3.0   \n",
       "14489               3.974383                     2.0   \n",
       "14490              -0.251611                     1.0   \n",
       "14491              -0.251611                     3.0   \n",
       "14492              -0.251611                     3.0   \n",
       "\n",
       "       score_nuance_groupe_prec_leg  score_bloc_prec_leg  taux_vote_leg  \\\n",
       "14488                     -0.556800            -0.877061      -0.428999   \n",
       "14489                      3.281535             1.492936      -0.428999   \n",
       "14490                      0.351531            -0.421217      -0.428999   \n",
       "14491                      2.415104             0.999024      -0.428999   \n",
       "14492                     -0.537346             0.999024      -0.428999   \n",
       "\n",
       "       score_nuance_groupe_pres  score_bloc_pres  taux_vote_pres  \\\n",
       "14488                 -0.714429        -0.952695        1.205046   \n",
       "14489                  3.426466         1.897607        1.205046   \n",
       "14490                  0.530380        -0.502589        1.205046   \n",
       "14491                  2.039692         0.904270        1.205046   \n",
       "14492                 -0.494757         0.904270        1.205046   \n",
       "\n",
       "       score_candidat_prec_leg  depute_sortant  \n",
       "14488                -0.188453             0.0  \n",
       "14489                -0.188453             0.0  \n",
       "14490                -0.188453             0.0  \n",
       "14491                -0.188453             0.0  \n",
       "14492                -0.188453             0.0  "
      ]
     },
     "execution_count": 101,
     "metadata": {},
     "output_type": "execute_result"
    }
   ],
   "source": [
    "X_train.head(5)"
   ]
  },
  {
   "cell_type": "code",
   "execution_count": 102,
   "metadata": {
    "collapsed": false
   },
   "outputs": [
    {
     "data": {
      "text/html": [
       "<div>\n",
       "<table border=\"1\" class=\"dataframe\">\n",
       "  <thead>\n",
       "    <tr style=\"text-align: right;\">\n",
       "      <th></th>\n",
       "      <th>part_impose</th>\n",
       "      <th>chom_tot</th>\n",
       "      <th>p_agri</th>\n",
       "      <th>p_ouvriers</th>\n",
       "      <th>d_brevet</th>\n",
       "      <th>d_sup</th>\n",
       "      <th>circo_leg_meme_nuance</th>\n",
       "      <th>nb_candidats_meme_bloc</th>\n",
       "      <th>score_nuance_groupe_prec_leg</th>\n",
       "      <th>score_bloc_prec_leg</th>\n",
       "      <th>taux_vote_leg</th>\n",
       "      <th>score_nuance_groupe_pres</th>\n",
       "      <th>score_bloc_pres</th>\n",
       "      <th>taux_vote_pres</th>\n",
       "      <th>score_candidat_prec_leg</th>\n",
       "      <th>depute_sortant</th>\n",
       "    </tr>\n",
       "  </thead>\n",
       "  <tbody>\n",
       "    <tr>\n",
       "      <th>7881</th>\n",
       "      <td>0.121356</td>\n",
       "      <td>-0.797027</td>\n",
       "      <td>-0.489147</td>\n",
       "      <td>0.010294</td>\n",
       "      <td>-1.424594</td>\n",
       "      <td>0.671551</td>\n",
       "      <td>-0.251611</td>\n",
       "      <td>3.0</td>\n",
       "      <td>-0.359271</td>\n",
       "      <td>0.870177</td>\n",
       "      <td>-1.263185</td>\n",
       "      <td>-0.638216</td>\n",
       "      <td>0.829991</td>\n",
       "      <td>0.692942</td>\n",
       "      <td>-0.188453</td>\n",
       "      <td>0.0</td>\n",
       "    </tr>\n",
       "    <tr>\n",
       "      <th>7882</th>\n",
       "      <td>0.121356</td>\n",
       "      <td>-0.797027</td>\n",
       "      <td>-0.489147</td>\n",
       "      <td>0.010294</td>\n",
       "      <td>-1.424594</td>\n",
       "      <td>0.671551</td>\n",
       "      <td>-0.251611</td>\n",
       "      <td>3.0</td>\n",
       "      <td>-0.508914</td>\n",
       "      <td>1.655946</td>\n",
       "      <td>-1.263185</td>\n",
       "      <td>-0.881798</td>\n",
       "      <td>1.298944</td>\n",
       "      <td>0.692942</td>\n",
       "      <td>-1.122242</td>\n",
       "      <td>0.0</td>\n",
       "    </tr>\n",
       "    <tr>\n",
       "      <th>7883</th>\n",
       "      <td>0.121356</td>\n",
       "      <td>-0.797027</td>\n",
       "      <td>-0.489147</td>\n",
       "      <td>0.010294</td>\n",
       "      <td>-1.424594</td>\n",
       "      <td>0.671551</td>\n",
       "      <td>-0.251611</td>\n",
       "      <td>3.0</td>\n",
       "      <td>-0.694471</td>\n",
       "      <td>-0.944412</td>\n",
       "      <td>-1.263185</td>\n",
       "      <td>0.259899</td>\n",
       "      <td>-0.549151</td>\n",
       "      <td>0.692942</td>\n",
       "      <td>-0.188453</td>\n",
       "      <td>0.0</td>\n",
       "    </tr>\n",
       "    <tr>\n",
       "      <th>7884</th>\n",
       "      <td>0.121356</td>\n",
       "      <td>-0.797027</td>\n",
       "      <td>-0.489147</td>\n",
       "      <td>0.010294</td>\n",
       "      <td>-1.424594</td>\n",
       "      <td>0.671551</td>\n",
       "      <td>3.974383</td>\n",
       "      <td>3.0</td>\n",
       "      <td>3.494028</td>\n",
       "      <td>1.655946</td>\n",
       "      <td>-1.263185</td>\n",
       "      <td>2.682271</td>\n",
       "      <td>1.298944</td>\n",
       "      <td>0.692942</td>\n",
       "      <td>4.274708</td>\n",
       "      <td>1.0</td>\n",
       "    </tr>\n",
       "    <tr>\n",
       "      <th>7885</th>\n",
       "      <td>0.121356</td>\n",
       "      <td>-0.797027</td>\n",
       "      <td>-0.489147</td>\n",
       "      <td>0.010294</td>\n",
       "      <td>-1.424594</td>\n",
       "      <td>0.671551</td>\n",
       "      <td>-0.251611</td>\n",
       "      <td>3.0</td>\n",
       "      <td>2.141258</td>\n",
       "      <td>0.870177</td>\n",
       "      <td>-1.263185</td>\n",
       "      <td>2.083029</td>\n",
       "      <td>0.829991</td>\n",
       "      <td>0.692942</td>\n",
       "      <td>2.519729</td>\n",
       "      <td>0.0</td>\n",
       "    </tr>\n",
       "  </tbody>\n",
       "</table>\n",
       "</div>"
      ],
      "text/plain": [
       "      part_impose  chom_tot    p_agri  p_ouvriers  d_brevet     d_sup  \\\n",
       "7881     0.121356 -0.797027 -0.489147    0.010294 -1.424594  0.671551   \n",
       "7882     0.121356 -0.797027 -0.489147    0.010294 -1.424594  0.671551   \n",
       "7883     0.121356 -0.797027 -0.489147    0.010294 -1.424594  0.671551   \n",
       "7884     0.121356 -0.797027 -0.489147    0.010294 -1.424594  0.671551   \n",
       "7885     0.121356 -0.797027 -0.489147    0.010294 -1.424594  0.671551   \n",
       "\n",
       "      circo_leg_meme_nuance  nb_candidats_meme_bloc  \\\n",
       "7881              -0.251611                     3.0   \n",
       "7882              -0.251611                     3.0   \n",
       "7883              -0.251611                     3.0   \n",
       "7884               3.974383                     3.0   \n",
       "7885              -0.251611                     3.0   \n",
       "\n",
       "      score_nuance_groupe_prec_leg  score_bloc_prec_leg  taux_vote_leg  \\\n",
       "7881                     -0.359271             0.870177      -1.263185   \n",
       "7882                     -0.508914             1.655946      -1.263185   \n",
       "7883                     -0.694471            -0.944412      -1.263185   \n",
       "7884                      3.494028             1.655946      -1.263185   \n",
       "7885                      2.141258             0.870177      -1.263185   \n",
       "\n",
       "      score_nuance_groupe_pres  score_bloc_pres  taux_vote_pres  \\\n",
       "7881                 -0.638216         0.829991        0.692942   \n",
       "7882                 -0.881798         1.298944        0.692942   \n",
       "7883                  0.259899        -0.549151        0.692942   \n",
       "7884                  2.682271         1.298944        0.692942   \n",
       "7885                  2.083029         0.829991        0.692942   \n",
       "\n",
       "      score_candidat_prec_leg  depute_sortant  \n",
       "7881                -0.188453             0.0  \n",
       "7882                -1.122242             0.0  \n",
       "7883                -0.188453             0.0  \n",
       "7884                 4.274708             1.0  \n",
       "7885                 2.519729             0.0  "
      ]
     },
     "execution_count": 102,
     "metadata": {},
     "output_type": "execute_result"
    }
   ],
   "source": [
    "X_val.head(5)"
   ]
  },
  {
   "cell_type": "code",
   "execution_count": 103,
   "metadata": {
    "collapsed": false
   },
   "outputs": [],
   "source": [
    "# imp = Imputer(missing_values='NaN', strategy='mean', axis=0)\n",
    "# imp = imp.fit(X_train)# Impute our data, then train\n",
    "# X_train_imp = imp.transform(X_train)"
   ]
  },
  {
   "cell_type": "code",
   "execution_count": 104,
   "metadata": {
    "collapsed": true
   },
   "outputs": [],
   "source": [
    "# imp = Imputer(missing_values='NaN', strategy='mean', axis=0)\n",
    "# imp = imp.fit(X_test)# Impute our data, then train\n",
    "# X_test_imp = imp.transform(X_test)"
   ]
  },
  {
   "cell_type": "code",
   "execution_count": 105,
   "metadata": {
    "collapsed": false,
    "deletable": true,
    "editable": true
   },
   "outputs": [
    {
     "data": {
      "text/plain": [
       "RandomForestRegressor(bootstrap=True, criterion='mse', max_depth=None,\n",
       "           max_features='auto', max_leaf_nodes=None,\n",
       "           min_impurity_split=1e-07, min_samples_leaf=1,\n",
       "           min_samples_split=2, min_weight_fraction_leaf=0.0,\n",
       "           n_estimators=100, n_jobs=-1, oob_score=False, random_state=None,\n",
       "           verbose=0, warm_start=False)"
      ]
     },
     "execution_count": 105,
     "metadata": {},
     "output_type": "execute_result"
    }
   ],
   "source": [
    "rf = RandomForestRegressor(n_jobs=-1, n_estimators=100)\n",
    "rf.fit(X_train, y_train)"
   ]
  },
  {
   "cell_type": "code",
   "execution_count": 106,
   "metadata": {
    "collapsed": false
   },
   "outputs": [
    {
     "data": {
      "text/plain": [
       "0.02267941285992315"
      ]
     },
     "execution_count": 106,
     "metadata": {},
     "output_type": "execute_result"
    }
   ],
   "source": [
    "y_pred = rf.predict(X_val)\n",
    "mean_absolute_error(y_val, y_pred)"
   ]
  },
  {
   "cell_type": "code",
   "execution_count": 107,
   "metadata": {
    "collapsed": false
   },
   "outputs": [
    {
     "data": {
      "text/plain": [
       "[(36.642684789778684, 'score_candidat_prec_leg'),\n",
       " (34.168038094960977, 'score_nuance_groupe_pres'),\n",
       " (10.484556928638465, 'score_bloc_prec_leg'),\n",
       " (4.4072714951170822, 'score_nuance_groupe_prec_leg'),\n",
       " (3.3688967966145449, 'score_bloc_pres'),\n",
       " (2.3455852242476403, 'taux_vote_pres'),\n",
       " (2.1970749166121966, 'depute_sortant'),\n",
       " (1.1560311882009366, 'nb_candidats_meme_bloc'),\n",
       " (1.0169174518508997, 'taux_vote_leg'),\n",
       " (0.89866096833246278, 'part_impose'),\n",
       " (0.82332377721972916, 'chom_tot'),\n",
       " (0.6303756377067028, 'd_brevet'),\n",
       " (0.59723231342542293, 'p_agri'),\n",
       " (0.57372265293731406, 'p_ouvriers'),\n",
       " (0.4984009543970363, 'd_sup'),\n",
       " (0.19122680995990179, 'circo_leg_meme_nuance')]"
      ]
     },
     "execution_count": 107,
     "metadata": {},
     "output_type": "execute_result"
    }
   ],
   "source": [
    "sorted(list(zip(rf.feature_importances_*100, X_train.columns)), reverse=True)"
   ]
  },
  {
   "cell_type": "markdown",
   "metadata": {},
   "source": [
    "### Analyser les prédictions"
   ]
  },
  {
   "cell_type": "code",
   "execution_count": 108,
   "metadata": {
    "collapsed": true
   },
   "outputs": [],
   "source": [
    "def get_predictions(y_pred, y_val, id_val):\n",
    "    res = pd.concat([id_val, pd.DataFrame(y_val)], axis=1, join='inner')\n",
    "    res['prediction'] = y_pred\n",
    "    res['ecart'] = y_pred - res['p_voix']\n",
    "    return res"
   ]
  },
  {
   "cell_type": "code",
   "execution_count": 109,
   "metadata": {
    "collapsed": false
   },
   "outputs": [],
   "source": [
    "df_predictions = get_predictions(y_pred, y_val, df_id)"
   ]
  },
  {
   "cell_type": "code",
   "execution_count": 110,
   "metadata": {
    "collapsed": false
   },
   "outputs": [
    {
     "name": "stderr",
     "output_type": "stream",
     "text": [
      "C:\\Program Files\\Anaconda3\\lib\\site-packages\\ipykernel\\__main__.py:1: FutureWarning: sort(columns=....) is deprecated, use sort_values(by=.....)\n",
      "  if __name__ == '__main__':\n"
     ]
    },
    {
     "data": {
      "text/html": [
       "<div>\n",
       "<table border=\"1\" class=\"dataframe\">\n",
       "  <thead>\n",
       "    <tr style=\"text-align: right;\">\n",
       "      <th></th>\n",
       "      <th>an</th>\n",
       "      <th>code</th>\n",
       "      <th>nom</th>\n",
       "      <th>prenom</th>\n",
       "      <th>nuance_groupe</th>\n",
       "      <th>second_tour</th>\n",
       "      <th>p_voix</th>\n",
       "      <th>prediction</th>\n",
       "      <th>ecart</th>\n",
       "    </tr>\n",
       "  </thead>\n",
       "  <tbody>\n",
       "    <tr>\n",
       "      <th>11680</th>\n",
       "      <td>2012</td>\n",
       "      <td>68|6</td>\n",
       "      <td>BASCHUNG</td>\n",
       "      <td>REGIS</td>\n",
       "      <td>MDM</td>\n",
       "      <td>N</td>\n",
       "      <td>0.0090</td>\n",
       "      <td>0.139737</td>\n",
       "      <td>0.130737</td>\n",
       "    </tr>\n",
       "    <tr>\n",
       "      <th>8096</th>\n",
       "      <td>2012</td>\n",
       "      <td>6|4</td>\n",
       "      <td>GUIBAL</td>\n",
       "      <td>JEAN-CLAUDE</td>\n",
       "      <td>LR</td>\n",
       "      <td>O</td>\n",
       "      <td>0.1857</td>\n",
       "      <td>0.318824</td>\n",
       "      <td>0.133124</td>\n",
       "    </tr>\n",
       "    <tr>\n",
       "      <th>12601</th>\n",
       "      <td>2012</td>\n",
       "      <td>77|10</td>\n",
       "      <td>THOMAS</td>\n",
       "      <td>CLAUDINE</td>\n",
       "      <td>LR</td>\n",
       "      <td>O</td>\n",
       "      <td>0.1294</td>\n",
       "      <td>0.273665</td>\n",
       "      <td>0.144265</td>\n",
       "    </tr>\n",
       "    <tr>\n",
       "      <th>12815</th>\n",
       "      <td>2012</td>\n",
       "      <td>80|2</td>\n",
       "      <td>BOUZY</td>\n",
       "      <td>OLIVIER</td>\n",
       "      <td>MDM</td>\n",
       "      <td>N</td>\n",
       "      <td>0.0161</td>\n",
       "      <td>0.165137</td>\n",
       "      <td>0.149037</td>\n",
       "    </tr>\n",
       "    <tr>\n",
       "      <th>9732</th>\n",
       "      <td>2012</td>\n",
       "      <td>35|7</td>\n",
       "      <td>CLEMENT</td>\n",
       "      <td>PASCAL</td>\n",
       "      <td>FN</td>\n",
       "      <td>N</td>\n",
       "      <td>0.0447</td>\n",
       "      <td>0.194634</td>\n",
       "      <td>0.149934</td>\n",
       "    </tr>\n",
       "    <tr>\n",
       "      <th>13536</th>\n",
       "      <td>2012</td>\n",
       "      <td>92|9</td>\n",
       "      <td>GUEANT</td>\n",
       "      <td>CLAUDE</td>\n",
       "      <td>LR</td>\n",
       "      <td>O</td>\n",
       "      <td>0.1799</td>\n",
       "      <td>0.336332</td>\n",
       "      <td>0.156432</td>\n",
       "    </tr>\n",
       "    <tr>\n",
       "      <th>10986</th>\n",
       "      <td>2012</td>\n",
       "      <td>59|10</td>\n",
       "      <td>VANNESTE</td>\n",
       "      <td>CHRISTIAN</td>\n",
       "      <td>DVD</td>\n",
       "      <td>N</td>\n",
       "      <td>0.0612</td>\n",
       "      <td>0.221716</td>\n",
       "      <td>0.160516</td>\n",
       "    </tr>\n",
       "    <tr>\n",
       "      <th>9729</th>\n",
       "      <td>2012</td>\n",
       "      <td>35|7</td>\n",
       "      <td>BELLOIR</td>\n",
       "      <td>NICOLAS</td>\n",
       "      <td>LR</td>\n",
       "      <td>N</td>\n",
       "      <td>0.1065</td>\n",
       "      <td>0.273915</td>\n",
       "      <td>0.167415</td>\n",
       "    </tr>\n",
       "    <tr>\n",
       "      <th>13369</th>\n",
       "      <td>2012</td>\n",
       "      <td>91|8</td>\n",
       "      <td>BETEILLE</td>\n",
       "      <td>LAURENT</td>\n",
       "      <td>LR</td>\n",
       "      <td>N</td>\n",
       "      <td>0.0558</td>\n",
       "      <td>0.228246</td>\n",
       "      <td>0.172446</td>\n",
       "    </tr>\n",
       "    <tr>\n",
       "      <th>9578</th>\n",
       "      <td>2012</td>\n",
       "      <td>34|3</td>\n",
       "      <td>GRAND</td>\n",
       "      <td>JEAN-PIERRE</td>\n",
       "      <td>LR</td>\n",
       "      <td>O</td>\n",
       "      <td>0.1076</td>\n",
       "      <td>0.282324</td>\n",
       "      <td>0.174724</td>\n",
       "    </tr>\n",
       "  </tbody>\n",
       "</table>\n",
       "</div>"
      ],
      "text/plain": [
       "         an   code       nom       prenom nuance_groupe second_tour  p_voix  \\\n",
       "11680  2012   68|6  BASCHUNG        REGIS           MDM           N  0.0090   \n",
       "8096   2012    6|4    GUIBAL  JEAN-CLAUDE            LR           O  0.1857   \n",
       "12601  2012  77|10    THOMAS     CLAUDINE            LR           O  0.1294   \n",
       "12815  2012   80|2     BOUZY      OLIVIER           MDM           N  0.0161   \n",
       "9732   2012   35|7   CLEMENT       PASCAL            FN           N  0.0447   \n",
       "13536  2012   92|9    GUEANT       CLAUDE            LR           O  0.1799   \n",
       "10986  2012  59|10  VANNESTE    CHRISTIAN           DVD           N  0.0612   \n",
       "9729   2012   35|7   BELLOIR      NICOLAS            LR           N  0.1065   \n",
       "13369  2012   91|8  BETEILLE      LAURENT            LR           N  0.0558   \n",
       "9578   2012   34|3     GRAND  JEAN-PIERRE            LR           O  0.1076   \n",
       "\n",
       "       prediction     ecart  \n",
       "11680    0.139737  0.130737  \n",
       "8096     0.318824  0.133124  \n",
       "12601    0.273665  0.144265  \n",
       "12815    0.165137  0.149037  \n",
       "9732     0.194634  0.149934  \n",
       "13536    0.336332  0.156432  \n",
       "10986    0.221716  0.160516  \n",
       "9729     0.273915  0.167415  \n",
       "13369    0.228246  0.172446  \n",
       "9578     0.282324  0.174724  "
      ]
     },
     "execution_count": 110,
     "metadata": {},
     "output_type": "execute_result"
    }
   ],
   "source": [
    "df_predictions.sort('ecart').tail(10)"
   ]
  },
  {
   "cell_type": "code",
   "execution_count": 111,
   "metadata": {
    "collapsed": false,
    "scrolled": true
   },
   "outputs": [
    {
     "name": "stderr",
     "output_type": "stream",
     "text": [
      "C:\\Program Files\\Anaconda3\\lib\\site-packages\\ipykernel\\__main__.py:1: FutureWarning: sort(columns=....) is deprecated, use sort_values(by=.....)\n",
      "  if __name__ == '__main__':\n"
     ]
    },
    {
     "data": {
      "text/html": [
       "<div>\n",
       "<table border=\"1\" class=\"dataframe\">\n",
       "  <thead>\n",
       "    <tr style=\"text-align: right;\">\n",
       "      <th></th>\n",
       "      <th>an</th>\n",
       "      <th>code</th>\n",
       "      <th>nom</th>\n",
       "      <th>prenom</th>\n",
       "      <th>nuance_groupe</th>\n",
       "      <th>second_tour</th>\n",
       "      <th>p_voix</th>\n",
       "      <th>prediction</th>\n",
       "      <th>ecart</th>\n",
       "    </tr>\n",
       "  </thead>\n",
       "  <tbody>\n",
       "    <tr>\n",
       "      <th>12187</th>\n",
       "      <td>2012</td>\n",
       "      <td>75|6</td>\n",
       "      <td>DUFLOT</td>\n",
       "      <td>CECILE</td>\n",
       "      <td>ECO</td>\n",
       "      <td>O</td>\n",
       "      <td>0.2890</td>\n",
       "      <td>0.021455</td>\n",
       "      <td>-0.267545</td>\n",
       "    </tr>\n",
       "    <tr>\n",
       "      <th>12261</th>\n",
       "      <td>2012</td>\n",
       "      <td>75|10</td>\n",
       "      <td>BAUPIN</td>\n",
       "      <td>DENIS</td>\n",
       "      <td>ECO</td>\n",
       "      <td>O</td>\n",
       "      <td>0.2502</td>\n",
       "      <td>0.020818</td>\n",
       "      <td>-0.229382</td>\n",
       "    </tr>\n",
       "    <tr>\n",
       "      <th>8912</th>\n",
       "      <td>2012</td>\n",
       "      <td>25|2</td>\n",
       "      <td>ALAUZET</td>\n",
       "      <td>ERIC</td>\n",
       "      <td>ECO</td>\n",
       "      <td>O</td>\n",
       "      <td>0.2248</td>\n",
       "      <td>0.016326</td>\n",
       "      <td>-0.208474</td>\n",
       "    </tr>\n",
       "    <tr>\n",
       "      <th>12421</th>\n",
       "      <td>2012</td>\n",
       "      <td>76|2</td>\n",
       "      <td>MOINET</td>\n",
       "      <td>VERONIQUE</td>\n",
       "      <td>ECO</td>\n",
       "      <td>O</td>\n",
       "      <td>0.2138</td>\n",
       "      <td>0.012161</td>\n",
       "      <td>-0.201639</td>\n",
       "    </tr>\n",
       "    <tr>\n",
       "      <th>11357</th>\n",
       "      <td>2012</td>\n",
       "      <td>63|3</td>\n",
       "      <td>AUROI</td>\n",
       "      <td>DANIELLE</td>\n",
       "      <td>ECO</td>\n",
       "      <td>O</td>\n",
       "      <td>0.2183</td>\n",
       "      <td>0.019190</td>\n",
       "      <td>-0.199110</td>\n",
       "    </tr>\n",
       "    <tr>\n",
       "      <th>9942</th>\n",
       "      <td>2012</td>\n",
       "      <td>38|9</td>\n",
       "      <td>BONNETON</td>\n",
       "      <td>MICHELE</td>\n",
       "      <td>ECO</td>\n",
       "      <td>O</td>\n",
       "      <td>0.2116</td>\n",
       "      <td>0.013644</td>\n",
       "      <td>-0.197956</td>\n",
       "    </tr>\n",
       "    <tr>\n",
       "      <th>13917</th>\n",
       "      <td>2012</td>\n",
       "      <td>95|2</td>\n",
       "      <td>VUILLETET</td>\n",
       "      <td>GUILLAUME</td>\n",
       "      <td>ECO</td>\n",
       "      <td>O</td>\n",
       "      <td>0.2070</td>\n",
       "      <td>0.014185</td>\n",
       "      <td>-0.192815</td>\n",
       "    </tr>\n",
       "    <tr>\n",
       "      <th>12709</th>\n",
       "      <td>2012</td>\n",
       "      <td>78|7</td>\n",
       "      <td>RICHARD</td>\n",
       "      <td>ARNAUD</td>\n",
       "      <td>UDI</td>\n",
       "      <td>O</td>\n",
       "      <td>0.1834</td>\n",
       "      <td>0.003854</td>\n",
       "      <td>-0.179546</td>\n",
       "    </tr>\n",
       "    <tr>\n",
       "      <th>10559</th>\n",
       "      <td>2012</td>\n",
       "      <td>52|1</td>\n",
       "      <td>ANDRIOT</td>\n",
       "      <td>PATRICIA</td>\n",
       "      <td>ECO</td>\n",
       "      <td>O</td>\n",
       "      <td>0.1935</td>\n",
       "      <td>0.014084</td>\n",
       "      <td>-0.179416</td>\n",
       "    </tr>\n",
       "    <tr>\n",
       "      <th>10652</th>\n",
       "      <td>2012</td>\n",
       "      <td>54|4</td>\n",
       "      <td>HOUCHARD</td>\n",
       "      <td>MARIE-NEIGE</td>\n",
       "      <td>ECO</td>\n",
       "      <td>O</td>\n",
       "      <td>0.1888</td>\n",
       "      <td>0.010930</td>\n",
       "      <td>-0.177870</td>\n",
       "    </tr>\n",
       "  </tbody>\n",
       "</table>\n",
       "</div>"
      ],
      "text/plain": [
       "         an   code        nom       prenom nuance_groupe second_tour  p_voix  \\\n",
       "12187  2012   75|6     DUFLOT       CECILE           ECO           O  0.2890   \n",
       "12261  2012  75|10     BAUPIN        DENIS           ECO           O  0.2502   \n",
       "8912   2012   25|2    ALAUZET         ERIC           ECO           O  0.2248   \n",
       "12421  2012   76|2     MOINET    VERONIQUE           ECO           O  0.2138   \n",
       "11357  2012   63|3      AUROI     DANIELLE           ECO           O  0.2183   \n",
       "9942   2012   38|9   BONNETON      MICHELE           ECO           O  0.2116   \n",
       "13917  2012   95|2  VUILLETET    GUILLAUME           ECO           O  0.2070   \n",
       "12709  2012   78|7    RICHARD       ARNAUD           UDI           O  0.1834   \n",
       "10559  2012   52|1    ANDRIOT     PATRICIA           ECO           O  0.1935   \n",
       "10652  2012   54|4   HOUCHARD  MARIE-NEIGE           ECO           O  0.1888   \n",
       "\n",
       "       prediction     ecart  \n",
       "12187    0.021455 -0.267545  \n",
       "12261    0.020818 -0.229382  \n",
       "8912     0.016326 -0.208474  \n",
       "12421    0.012161 -0.201639  \n",
       "11357    0.019190 -0.199110  \n",
       "9942     0.013644 -0.197956  \n",
       "13917    0.014185 -0.192815  \n",
       "12709    0.003854 -0.179546  \n",
       "10559    0.014084 -0.179416  \n",
       "10652    0.010930 -0.177870  "
      ]
     },
     "execution_count": 111,
     "metadata": {},
     "output_type": "execute_result"
    }
   ],
   "source": [
    "df_predictions.sort('ecart').head(10)"
   ]
  },
  {
   "cell_type": "code",
   "execution_count": null,
   "metadata": {
    "collapsed": true
   },
   "outputs": [],
   "source": []
  }
 ],
 "metadata": {
  "anaconda-cloud": {},
  "kernelspec": {
   "display_name": "Python [default]",
   "language": "python",
   "name": "python3"
  },
  "language_info": {
   "codemirror_mode": {
    "name": "ipython",
    "version": 3
   },
   "file_extension": ".py",
   "mimetype": "text/x-python",
   "name": "python",
   "nbconvert_exporter": "python",
   "pygments_lexer": "ipython3",
   "version": "3.5.2"
  }
 },
 "nbformat": 4,
 "nbformat_minor": 1
}
