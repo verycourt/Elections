{
 "cells": [
  {
   "cell_type": "code",
   "execution_count": 136,
   "metadata": {
    "collapsed": true
   },
   "outputs": [],
   "source": [
    "import pandas as pd\n",
    "import numpy as np"
   ]
  },
  {
   "cell_type": "code",
   "execution_count": 137,
   "metadata": {
    "collapsed": true
   },
   "outputs": [],
   "source": [
    "tweets = pd.read_csv(\"twitter_sentiments_10_au_15_.csv\")"
   ]
  },
  {
   "cell_type": "code",
   "execution_count": 138,
   "metadata": {
    "collapsed": false
   },
   "outputs": [],
   "source": [
    "tweets[\"count_pos\"] = tweets[\"count\"]*tweets[\"pos\"]"
   ]
  },
  {
   "cell_type": "code",
   "execution_count": 139,
   "metadata": {
    "collapsed": false
   },
   "outputs": [],
   "source": [
    "tweets = tweets.groupby(\"candidat\").sum()[\"count_pos\"].reset_index()"
   ]
  },
  {
   "cell_type": "code",
   "execution_count": 140,
   "metadata": {
    "collapsed": false
   },
   "outputs": [],
   "source": [
    "tweets[\"bloc\"] = tweets[\"candidat\"].map(lambda x : \"gauche\" if x in [\"arthaud\", \"poutou\", \"macron\", \"hamon\", \"melenchon\"] else x)"
   ]
  },
  {
   "cell_type": "code",
   "execution_count": 141,
   "metadata": {
    "collapsed": false
   },
   "outputs": [],
   "source": [
    "tweets[\"bloc\"] = tweets[\"bloc\"].map(lambda x : \"droite\" if x in [\"cheminade\", \"fillon\", \"nda\", \"lassalle\", \"asselineau\"] else x)"
   ]
  },
  {
   "cell_type": "code",
   "execution_count": 142,
   "metadata": {
    "collapsed": false
   },
   "outputs": [
    {
     "name": "stdout",
     "output_type": "stream",
     "text": [
      "      candidat  count_pos    bloc\n",
      "0      arthaud        1.0  gauche\n",
      "1   asselineau       73.0  droite\n",
      "2    cheminade        5.0  droite\n",
      "3       fillon     7714.0  droite\n",
      "4        hamon     2487.0  gauche\n",
      "5     lassalle       27.0  droite\n",
      "6       le pen     2192.0  le pen\n",
      "7       macron     5832.0  gauche\n",
      "8    melenchon     5780.0  gauche\n",
      "9          nda     1287.0  droite\n",
      "10      poutou      597.0  gauche\n"
     ]
    }
   ],
   "source": [
    "print(tweets)"
   ]
  },
  {
   "cell_type": "code",
   "execution_count": 143,
   "metadata": {
    "collapsed": false
   },
   "outputs": [],
   "source": [
    "sum_blocs = tweets.groupby(\"bloc\").sum().reset_index()\n",
    "tweets = tweets.merge(sum_blocs, how=\"left\", on=\"bloc\")"
   ]
  },
  {
   "cell_type": "code",
   "execution_count": 144,
   "metadata": {
    "collapsed": false
   },
   "outputs": [
    {
     "data": {
      "text/html": [
       "<div>\n",
       "<table border=\"1\" class=\"dataframe\">\n",
       "  <thead>\n",
       "    <tr style=\"text-align: right;\">\n",
       "      <th></th>\n",
       "      <th>candidat</th>\n",
       "      <th>count_pos_x</th>\n",
       "      <th>bloc</th>\n",
       "      <th>count_pos_y</th>\n",
       "    </tr>\n",
       "  </thead>\n",
       "  <tbody>\n",
       "    <tr>\n",
       "      <th>0</th>\n",
       "      <td>arthaud</td>\n",
       "      <td>1.0</td>\n",
       "      <td>gauche</td>\n",
       "      <td>14697.0</td>\n",
       "    </tr>\n",
       "    <tr>\n",
       "      <th>1</th>\n",
       "      <td>asselineau</td>\n",
       "      <td>73.0</td>\n",
       "      <td>droite</td>\n",
       "      <td>9106.0</td>\n",
       "    </tr>\n",
       "    <tr>\n",
       "      <th>2</th>\n",
       "      <td>cheminade</td>\n",
       "      <td>5.0</td>\n",
       "      <td>droite</td>\n",
       "      <td>9106.0</td>\n",
       "    </tr>\n",
       "    <tr>\n",
       "      <th>3</th>\n",
       "      <td>fillon</td>\n",
       "      <td>7714.0</td>\n",
       "      <td>droite</td>\n",
       "      <td>9106.0</td>\n",
       "    </tr>\n",
       "    <tr>\n",
       "      <th>4</th>\n",
       "      <td>hamon</td>\n",
       "      <td>2487.0</td>\n",
       "      <td>gauche</td>\n",
       "      <td>14697.0</td>\n",
       "    </tr>\n",
       "    <tr>\n",
       "      <th>5</th>\n",
       "      <td>lassalle</td>\n",
       "      <td>27.0</td>\n",
       "      <td>droite</td>\n",
       "      <td>9106.0</td>\n",
       "    </tr>\n",
       "    <tr>\n",
       "      <th>6</th>\n",
       "      <td>le pen</td>\n",
       "      <td>2192.0</td>\n",
       "      <td>le pen</td>\n",
       "      <td>2192.0</td>\n",
       "    </tr>\n",
       "    <tr>\n",
       "      <th>7</th>\n",
       "      <td>macron</td>\n",
       "      <td>5832.0</td>\n",
       "      <td>gauche</td>\n",
       "      <td>14697.0</td>\n",
       "    </tr>\n",
       "    <tr>\n",
       "      <th>8</th>\n",
       "      <td>melenchon</td>\n",
       "      <td>5780.0</td>\n",
       "      <td>gauche</td>\n",
       "      <td>14697.0</td>\n",
       "    </tr>\n",
       "    <tr>\n",
       "      <th>9</th>\n",
       "      <td>nda</td>\n",
       "      <td>1287.0</td>\n",
       "      <td>droite</td>\n",
       "      <td>9106.0</td>\n",
       "    </tr>\n",
       "    <tr>\n",
       "      <th>10</th>\n",
       "      <td>poutou</td>\n",
       "      <td>597.0</td>\n",
       "      <td>gauche</td>\n",
       "      <td>14697.0</td>\n",
       "    </tr>\n",
       "  </tbody>\n",
       "</table>\n",
       "</div>"
      ],
      "text/plain": [
       "      candidat  count_pos_x    bloc  count_pos_y\n",
       "0      arthaud          1.0  gauche      14697.0\n",
       "1   asselineau         73.0  droite       9106.0\n",
       "2    cheminade          5.0  droite       9106.0\n",
       "3       fillon       7714.0  droite       9106.0\n",
       "4        hamon       2487.0  gauche      14697.0\n",
       "5     lassalle         27.0  droite       9106.0\n",
       "6       le pen       2192.0  le pen       2192.0\n",
       "7       macron       5832.0  gauche      14697.0\n",
       "8    melenchon       5780.0  gauche      14697.0\n",
       "9          nda       1287.0  droite       9106.0\n",
       "10      poutou        597.0  gauche      14697.0"
      ]
     },
     "execution_count": 144,
     "metadata": {},
     "output_type": "execute_result"
    }
   ],
   "source": [
    "tweets"
   ]
  },
  {
   "cell_type": "code",
   "execution_count": null,
   "metadata": {
    "collapsed": false
   },
   "outputs": [],
   "source": []
  },
  {
   "cell_type": "code",
   "execution_count": 145,
   "metadata": {
    "collapsed": false
   },
   "outputs": [],
   "source": [
    "tweets[\"%pos\"] = tweets[\"count_pos_x\"]*100/tweets[\"count_pos_y\"]"
   ]
  },
  {
   "cell_type": "code",
   "execution_count": 146,
   "metadata": {
    "collapsed": false
   },
   "outputs": [
    {
     "name": "stdout",
     "output_type": "stream",
     "text": [
      "      candidat  count_pos_x    bloc  count_pos_y        %pos\n",
      "0      arthaud          1.0  gauche      14697.0    0.006804\n",
      "1   asselineau         73.0  droite       9106.0    0.801669\n",
      "2    cheminade          5.0  droite       9106.0    0.054909\n",
      "3       fillon       7714.0  droite       9106.0   84.713376\n",
      "4        hamon       2487.0  gauche      14697.0   16.921821\n",
      "5     lassalle         27.0  droite       9106.0    0.296508\n",
      "6       le pen       2192.0  le pen       2192.0  100.000000\n",
      "7       macron       5832.0  gauche      14697.0   39.681568\n",
      "8    melenchon       5780.0  gauche      14697.0   39.327754\n",
      "9          nda       1287.0  droite       9106.0   14.133538\n",
      "10      poutou        597.0  gauche      14697.0    4.062053\n"
     ]
    }
   ],
   "source": [
    "print(tweets)"
   ]
  },
  {
   "cell_type": "code",
   "execution_count": 147,
   "metadata": {
    "collapsed": false
   },
   "outputs": [],
   "source": [
    "tweets[\"pred_blocs\"] = [40.25, 25.96, 25.96, 25.96, 40.25, 25.96, 23.46, 40.25, 40.25, 25.96, 40.25]\n",
    "tweets[\"pred_pond_twitter\"] = tweets[\"%pos\"]*tweets[\"pred_blocs\"]/100\n",
    "tweets[\"transferts_bayrou_%\"] = [0, 0, 0, 20, 7, 2, 4, 50, 12, 4, 1]\n",
    "tweets[\"pred_pond_twitter\"] = tweets[\"pred_pond_twitter\"]+10.31*tweets[\"transferts_bayrou_%\"]/100"
   ]
  },
  {
   "cell_type": "code",
   "execution_count": 148,
   "metadata": {
    "collapsed": false
   },
   "outputs": [
    {
     "data": {
      "text/html": [
       "<div>\n",
       "<table border=\"1\" class=\"dataframe\">\n",
       "  <thead>\n",
       "    <tr style=\"text-align: right;\">\n",
       "      <th></th>\n",
       "      <th>candidat</th>\n",
       "      <th>pred_pond_twitter</th>\n",
       "    </tr>\n",
       "  </thead>\n",
       "  <tbody>\n",
       "    <tr>\n",
       "      <th>0</th>\n",
       "      <td>arthaud</td>\n",
       "      <td>0.002739</td>\n",
       "    </tr>\n",
       "    <tr>\n",
       "      <th>1</th>\n",
       "      <td>asselineau</td>\n",
       "      <td>0.208113</td>\n",
       "    </tr>\n",
       "    <tr>\n",
       "      <th>2</th>\n",
       "      <td>cheminade</td>\n",
       "      <td>0.014254</td>\n",
       "    </tr>\n",
       "    <tr>\n",
       "      <th>3</th>\n",
       "      <td>fillon</td>\n",
       "      <td>24.053592</td>\n",
       "    </tr>\n",
       "    <tr>\n",
       "      <th>4</th>\n",
       "      <td>hamon</td>\n",
       "      <td>7.532733</td>\n",
       "    </tr>\n",
       "    <tr>\n",
       "      <th>5</th>\n",
       "      <td>lassalle</td>\n",
       "      <td>0.283173</td>\n",
       "    </tr>\n",
       "    <tr>\n",
       "      <th>6</th>\n",
       "      <td>le pen</td>\n",
       "      <td>23.872400</td>\n",
       "    </tr>\n",
       "    <tr>\n",
       "      <th>7</th>\n",
       "      <td>macron</td>\n",
       "      <td>21.126831</td>\n",
       "    </tr>\n",
       "    <tr>\n",
       "      <th>8</th>\n",
       "      <td>melenchon</td>\n",
       "      <td>17.066621</td>\n",
       "    </tr>\n",
       "    <tr>\n",
       "      <th>9</th>\n",
       "      <td>nda</td>\n",
       "      <td>4.081467</td>\n",
       "    </tr>\n",
       "    <tr>\n",
       "      <th>10</th>\n",
       "      <td>poutou</td>\n",
       "      <td>1.738077</td>\n",
       "    </tr>\n",
       "  </tbody>\n",
       "</table>\n",
       "</div>"
      ],
      "text/plain": [
       "      candidat  pred_pond_twitter\n",
       "0      arthaud           0.002739\n",
       "1   asselineau           0.208113\n",
       "2    cheminade           0.014254\n",
       "3       fillon          24.053592\n",
       "4        hamon           7.532733\n",
       "5     lassalle           0.283173\n",
       "6       le pen          23.872400\n",
       "7       macron          21.126831\n",
       "8    melenchon          17.066621\n",
       "9          nda           4.081467\n",
       "10      poutou           1.738077"
      ]
     },
     "execution_count": 148,
     "metadata": {},
     "output_type": "execute_result"
    }
   ],
   "source": [
    "tweets[[\"candidat\", \"pred_pond_twitter\"]]"
   ]
  },
  {
   "cell_type": "code",
   "execution_count": 149,
   "metadata": {
    "collapsed": false
   },
   "outputs": [],
   "source": [
    "google = pd.read_excel(\"google_trends_10_au_15_avril.xlsx\")"
   ]
  },
  {
   "cell_type": "code",
   "execution_count": 150,
   "metadata": {
    "collapsed": false
   },
   "outputs": [],
   "source": [
    "google = google.mean().reset_index()"
   ]
  },
  {
   "cell_type": "code",
   "execution_count": 151,
   "metadata": {
    "collapsed": false
   },
   "outputs": [],
   "source": [
    "google[\"index\"] = google[\"index\"].map(lambda x : \" \".join(x.split()[1:]).lower().replace(\"dupont-aignan\", \"nda\").replace(\"é\", \"e\"))"
   ]
  },
  {
   "cell_type": "code",
   "execution_count": 152,
   "metadata": {
    "collapsed": false
   },
   "outputs": [],
   "source": [
    "tweets = tweets.merge(google, how=\"left\", left_on=\"candidat\", right_on=\"index\")\n",
    "tweets.drop(\"index\", axis=1, inplace=True)"
   ]
  },
  {
   "cell_type": "code",
   "execution_count": 153,
   "metadata": {
    "collapsed": false
   },
   "outputs": [],
   "source": [
    "tweets.rename(columns={0:\"recherches_google\"}, inplace=True)"
   ]
  },
  {
   "cell_type": "code",
   "execution_count": 154,
   "metadata": {
    "collapsed": false
   },
   "outputs": [],
   "source": [
    "google_bloc = tweets.groupby(\"bloc\").sum()[\"recherches_google\"].reset_index()\n",
    "tweets = tweets.merge(google_bloc, how=\"left\", on=\"bloc\")"
   ]
  },
  {
   "cell_type": "code",
   "execution_count": 155,
   "metadata": {
    "collapsed": false
   },
   "outputs": [],
   "source": [
    "tweets[\"pred_pond_google\"] = tweets[\"pred_blocs\"]*tweets[\"recherches_google_x\"]*100/tweets[\"recherches_google_y\"]/100"
   ]
  },
  {
   "cell_type": "code",
   "execution_count": 156,
   "metadata": {
    "collapsed": false
   },
   "outputs": [],
   "source": [
    "tweets[\"pred_pond_google\"] = tweets[\"pred_pond_google\"]+10.31*tweets[\"transferts_bayrou_%\"]/100\n"
   ]
  },
  {
   "cell_type": "code",
   "execution_count": 158,
   "metadata": {
    "collapsed": false
   },
   "outputs": [
    {
     "data": {
      "text/html": [
       "<div>\n",
       "<table border=\"1\" class=\"dataframe\">\n",
       "  <thead>\n",
       "    <tr style=\"text-align: right;\">\n",
       "      <th></th>\n",
       "      <th>candidat</th>\n",
       "      <th>pred_pond_google</th>\n",
       "      <th>pred_pond_twitter</th>\n",
       "    </tr>\n",
       "  </thead>\n",
       "  <tbody>\n",
       "    <tr>\n",
       "      <th>0</th>\n",
       "      <td>arthaud</td>\n",
       "      <td>0.871428</td>\n",
       "      <td>0.002739</td>\n",
       "    </tr>\n",
       "    <tr>\n",
       "      <th>1</th>\n",
       "      <td>asselineau</td>\n",
       "      <td>3.343785</td>\n",
       "      <td>0.208113</td>\n",
       "    </tr>\n",
       "    <tr>\n",
       "      <th>2</th>\n",
       "      <td>cheminade</td>\n",
       "      <td>1.118323</td>\n",
       "      <td>0.014254</td>\n",
       "    </tr>\n",
       "    <tr>\n",
       "      <th>3</th>\n",
       "      <td>fillon</td>\n",
       "      <td>18.956130</td>\n",
       "      <td>24.053592</td>\n",
       "    </tr>\n",
       "    <tr>\n",
       "      <th>4</th>\n",
       "      <td>hamon</td>\n",
       "      <td>1.901209</td>\n",
       "      <td>7.532733</td>\n",
       "    </tr>\n",
       "    <tr>\n",
       "      <th>5</th>\n",
       "      <td>lassalle</td>\n",
       "      <td>3.098928</td>\n",
       "      <td>0.283173</td>\n",
       "    </tr>\n",
       "    <tr>\n",
       "      <th>6</th>\n",
       "      <td>le pen</td>\n",
       "      <td>23.872400</td>\n",
       "      <td>23.872400</td>\n",
       "    </tr>\n",
       "    <tr>\n",
       "      <th>7</th>\n",
       "      <td>macron</td>\n",
       "      <td>18.258696</td>\n",
       "      <td>21.126831</td>\n",
       "    </tr>\n",
       "    <tr>\n",
       "      <th>8</th>\n",
       "      <td>melenchon</td>\n",
       "      <td>23.066913</td>\n",
       "      <td>17.066621</td>\n",
       "    </tr>\n",
       "    <tr>\n",
       "      <th>9</th>\n",
       "      <td>nda</td>\n",
       "      <td>2.123434</td>\n",
       "      <td>4.081467</td>\n",
       "    </tr>\n",
       "    <tr>\n",
       "      <th>10</th>\n",
       "      <td>poutou</td>\n",
       "      <td>3.368755</td>\n",
       "      <td>1.738077</td>\n",
       "    </tr>\n",
       "  </tbody>\n",
       "</table>\n",
       "</div>"
      ],
      "text/plain": [
       "      candidat  pred_pond_google  pred_pond_twitter\n",
       "0      arthaud          0.871428           0.002739\n",
       "1   asselineau          3.343785           0.208113\n",
       "2    cheminade          1.118323           0.014254\n",
       "3       fillon         18.956130          24.053592\n",
       "4        hamon          1.901209           7.532733\n",
       "5     lassalle          3.098928           0.283173\n",
       "6       le pen         23.872400          23.872400\n",
       "7       macron         18.258696          21.126831\n",
       "8    melenchon         23.066913          17.066621\n",
       "9          nda          2.123434           4.081467\n",
       "10      poutou          3.368755           1.738077"
      ]
     },
     "execution_count": 158,
     "metadata": {},
     "output_type": "execute_result"
    }
   ],
   "source": [
    "\n",
    "tweets[[\"candidat\", \"pred_pond_google\", \"pred_pond_twitter\"]]\n"
   ]
  },
  {
   "cell_type": "code",
   "execution_count": null,
   "metadata": {
    "collapsed": true
   },
   "outputs": [],
   "source": [
    "0.5, 1, 0.33, 19.41, 8, 1.08, 22.42, 23.25, 19.25, 3.5, 1.66"
   ]
  }
 ],
 "metadata": {
  "kernelspec": {
   "display_name": "Python [conda root]",
   "language": "python",
   "name": "conda-root-py"
  },
  "language_info": {
   "codemirror_mode": {
    "name": "ipython",
    "version": 3
   },
   "file_extension": ".py",
   "mimetype": "text/x-python",
   "name": "python",
   "nbconvert_exporter": "python",
   "pygments_lexer": "ipython3",
   "version": "3.5.2"
  }
 },
 "nbformat": 4,
 "nbformat_minor": 2
}
