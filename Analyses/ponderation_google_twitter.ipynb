{
 "cells": [
  {
   "cell_type": "code",
   "execution_count": 1,
   "metadata": {
    "collapsed": true
   },
   "outputs": [],
   "source": [
    "import pandas as pd\n",
    "import numpy as np\n",
    "import seaborn as sns\n",
    "import matplotlib.pyplot as plt"
   ]
  },
  {
   "cell_type": "code",
   "execution_count": 2,
   "metadata": {
    "collapsed": true
   },
   "outputs": [],
   "source": [
    "tweets = pd.read_csv(\"twitter_sentiments_10_au_15_.csv\")"
   ]
  },
  {
   "cell_type": "code",
   "execution_count": 3,
   "metadata": {
    "collapsed": false
   },
   "outputs": [],
   "source": [
    "tweets[\"count_pos\"] = tweets[\"count\"]*tweets[\"pos\"]"
   ]
  },
  {
   "cell_type": "code",
   "execution_count": 4,
   "metadata": {
    "collapsed": false
   },
   "outputs": [],
   "source": [
    "tweets = tweets.groupby(\"candidat\").sum()[\"count_pos\"].reset_index()"
   ]
  },
  {
   "cell_type": "code",
   "execution_count": 5,
   "metadata": {
    "collapsed": false
   },
   "outputs": [],
   "source": [
    "tweets[\"bloc\"] = tweets[\"candidat\"].map(lambda x : \"gauche\" if x in [\"arthaud\", \"poutou\", \"macron\", \"hamon\", \"melenchon\"] else x)"
   ]
  },
  {
   "cell_type": "code",
   "execution_count": 6,
   "metadata": {
    "collapsed": false
   },
   "outputs": [],
   "source": [
    "tweets[\"bloc\"] = tweets[\"bloc\"].map(lambda x : \"droite\" if x in [\"cheminade\", \"fillon\", \"nda\", \"lassalle\", \"asselineau\"] else x)"
   ]
  },
  {
   "cell_type": "code",
   "execution_count": 7,
   "metadata": {
    "collapsed": false
   },
   "outputs": [
    {
     "name": "stdout",
     "output_type": "stream",
     "text": [
      "      candidat  count_pos    bloc\n",
      "0      arthaud        1.0  gauche\n",
      "1   asselineau       73.0  droite\n",
      "2    cheminade        5.0  droite\n",
      "3       fillon     7714.0  droite\n",
      "4        hamon     2487.0  gauche\n",
      "5     lassalle       27.0  droite\n",
      "6       le pen     2192.0  le pen\n",
      "7       macron     5832.0  gauche\n",
      "8    melenchon     5780.0  gauche\n",
      "9          nda     1287.0  droite\n",
      "10      poutou      597.0  gauche\n"
     ]
    }
   ],
   "source": [
    "print(tweets)"
   ]
  },
  {
   "cell_type": "code",
   "execution_count": 8,
   "metadata": {
    "collapsed": false
   },
   "outputs": [],
   "source": [
    "sum_blocs = tweets.groupby(\"bloc\").sum().reset_index()\n",
    "tweets = tweets.merge(sum_blocs, how=\"left\", on=\"bloc\")"
   ]
  },
  {
   "cell_type": "code",
   "execution_count": 9,
   "metadata": {
    "collapsed": false
   },
   "outputs": [
    {
     "data": {
      "text/html": [
       "<div>\n",
       "<table border=\"1\" class=\"dataframe\">\n",
       "  <thead>\n",
       "    <tr style=\"text-align: right;\">\n",
       "      <th></th>\n",
       "      <th>candidat</th>\n",
       "      <th>count_pos_x</th>\n",
       "      <th>bloc</th>\n",
       "      <th>count_pos_y</th>\n",
       "    </tr>\n",
       "  </thead>\n",
       "  <tbody>\n",
       "    <tr>\n",
       "      <th>0</th>\n",
       "      <td>arthaud</td>\n",
       "      <td>1.0</td>\n",
       "      <td>gauche</td>\n",
       "      <td>14697.0</td>\n",
       "    </tr>\n",
       "    <tr>\n",
       "      <th>1</th>\n",
       "      <td>asselineau</td>\n",
       "      <td>73.0</td>\n",
       "      <td>droite</td>\n",
       "      <td>9106.0</td>\n",
       "    </tr>\n",
       "    <tr>\n",
       "      <th>2</th>\n",
       "      <td>cheminade</td>\n",
       "      <td>5.0</td>\n",
       "      <td>droite</td>\n",
       "      <td>9106.0</td>\n",
       "    </tr>\n",
       "    <tr>\n",
       "      <th>3</th>\n",
       "      <td>fillon</td>\n",
       "      <td>7714.0</td>\n",
       "      <td>droite</td>\n",
       "      <td>9106.0</td>\n",
       "    </tr>\n",
       "    <tr>\n",
       "      <th>4</th>\n",
       "      <td>hamon</td>\n",
       "      <td>2487.0</td>\n",
       "      <td>gauche</td>\n",
       "      <td>14697.0</td>\n",
       "    </tr>\n",
       "    <tr>\n",
       "      <th>5</th>\n",
       "      <td>lassalle</td>\n",
       "      <td>27.0</td>\n",
       "      <td>droite</td>\n",
       "      <td>9106.0</td>\n",
       "    </tr>\n",
       "    <tr>\n",
       "      <th>6</th>\n",
       "      <td>le pen</td>\n",
       "      <td>2192.0</td>\n",
       "      <td>le pen</td>\n",
       "      <td>2192.0</td>\n",
       "    </tr>\n",
       "    <tr>\n",
       "      <th>7</th>\n",
       "      <td>macron</td>\n",
       "      <td>5832.0</td>\n",
       "      <td>gauche</td>\n",
       "      <td>14697.0</td>\n",
       "    </tr>\n",
       "    <tr>\n",
       "      <th>8</th>\n",
       "      <td>melenchon</td>\n",
       "      <td>5780.0</td>\n",
       "      <td>gauche</td>\n",
       "      <td>14697.0</td>\n",
       "    </tr>\n",
       "    <tr>\n",
       "      <th>9</th>\n",
       "      <td>nda</td>\n",
       "      <td>1287.0</td>\n",
       "      <td>droite</td>\n",
       "      <td>9106.0</td>\n",
       "    </tr>\n",
       "    <tr>\n",
       "      <th>10</th>\n",
       "      <td>poutou</td>\n",
       "      <td>597.0</td>\n",
       "      <td>gauche</td>\n",
       "      <td>14697.0</td>\n",
       "    </tr>\n",
       "  </tbody>\n",
       "</table>\n",
       "</div>"
      ],
      "text/plain": [
       "      candidat  count_pos_x    bloc  count_pos_y\n",
       "0      arthaud          1.0  gauche      14697.0\n",
       "1   asselineau         73.0  droite       9106.0\n",
       "2    cheminade          5.0  droite       9106.0\n",
       "3       fillon       7714.0  droite       9106.0\n",
       "4        hamon       2487.0  gauche      14697.0\n",
       "5     lassalle         27.0  droite       9106.0\n",
       "6       le pen       2192.0  le pen       2192.0\n",
       "7       macron       5832.0  gauche      14697.0\n",
       "8    melenchon       5780.0  gauche      14697.0\n",
       "9          nda       1287.0  droite       9106.0\n",
       "10      poutou        597.0  gauche      14697.0"
      ]
     },
     "execution_count": 9,
     "metadata": {},
     "output_type": "execute_result"
    }
   ],
   "source": [
    "tweets"
   ]
  },
  {
   "cell_type": "code",
   "execution_count": null,
   "metadata": {
    "collapsed": false
   },
   "outputs": [],
   "source": []
  },
  {
   "cell_type": "code",
   "execution_count": 10,
   "metadata": {
    "collapsed": false
   },
   "outputs": [],
   "source": [
    "tweets[\"%pos\"] = tweets[\"count_pos_x\"]*100/tweets[\"count_pos_y\"]"
   ]
  },
  {
   "cell_type": "code",
   "execution_count": 11,
   "metadata": {
    "collapsed": false
   },
   "outputs": [
    {
     "name": "stdout",
     "output_type": "stream",
     "text": [
      "      candidat  count_pos_x    bloc  count_pos_y        %pos\n",
      "0      arthaud          1.0  gauche      14697.0    0.006804\n",
      "1   asselineau         73.0  droite       9106.0    0.801669\n",
      "2    cheminade          5.0  droite       9106.0    0.054909\n",
      "3       fillon       7714.0  droite       9106.0   84.713376\n",
      "4        hamon       2487.0  gauche      14697.0   16.921821\n",
      "5     lassalle         27.0  droite       9106.0    0.296508\n",
      "6       le pen       2192.0  le pen       2192.0  100.000000\n",
      "7       macron       5832.0  gauche      14697.0   39.681568\n",
      "8    melenchon       5780.0  gauche      14697.0   39.327754\n",
      "9          nda       1287.0  droite       9106.0   14.133538\n",
      "10      poutou        597.0  gauche      14697.0    4.062053\n"
     ]
    }
   ],
   "source": [
    "print(tweets)"
   ]
  },
  {
   "cell_type": "code",
   "execution_count": 12,
   "metadata": {
    "collapsed": false
   },
   "outputs": [],
   "source": [
    "tweets[\"pred_blocs\"] = [40.25, 25.96, 25.96, 25.96, 40.25, 25.96, 23.46, 40.25, 40.25, 25.96, 40.25]\n",
    "tweets[\"pred_pond_twitter\"] = tweets[\"%pos\"]*tweets[\"pred_blocs\"]/100\n",
    "tweets[\"transferts_bayrou_%\"] = [0, 0, 0, 20, 7, 2, 4, 50, 12, 4, 1]\n",
    "tweets[\"pred_pond_twitter\"] = tweets[\"pred_pond_twitter\"]+10.31*tweets[\"transferts_bayrou_%\"]/100"
   ]
  },
  {
   "cell_type": "code",
   "execution_count": 13,
   "metadata": {
    "collapsed": false
   },
   "outputs": [
    {
     "data": {
      "text/html": [
       "<div>\n",
       "<table border=\"1\" class=\"dataframe\">\n",
       "  <thead>\n",
       "    <tr style=\"text-align: right;\">\n",
       "      <th></th>\n",
       "      <th>candidat</th>\n",
       "      <th>pred_pond_twitter</th>\n",
       "    </tr>\n",
       "  </thead>\n",
       "  <tbody>\n",
       "    <tr>\n",
       "      <th>0</th>\n",
       "      <td>arthaud</td>\n",
       "      <td>0.002739</td>\n",
       "    </tr>\n",
       "    <tr>\n",
       "      <th>1</th>\n",
       "      <td>asselineau</td>\n",
       "      <td>0.208113</td>\n",
       "    </tr>\n",
       "    <tr>\n",
       "      <th>2</th>\n",
       "      <td>cheminade</td>\n",
       "      <td>0.014254</td>\n",
       "    </tr>\n",
       "    <tr>\n",
       "      <th>3</th>\n",
       "      <td>fillon</td>\n",
       "      <td>24.053592</td>\n",
       "    </tr>\n",
       "    <tr>\n",
       "      <th>4</th>\n",
       "      <td>hamon</td>\n",
       "      <td>7.532733</td>\n",
       "    </tr>\n",
       "    <tr>\n",
       "      <th>5</th>\n",
       "      <td>lassalle</td>\n",
       "      <td>0.283173</td>\n",
       "    </tr>\n",
       "    <tr>\n",
       "      <th>6</th>\n",
       "      <td>le pen</td>\n",
       "      <td>23.872400</td>\n",
       "    </tr>\n",
       "    <tr>\n",
       "      <th>7</th>\n",
       "      <td>macron</td>\n",
       "      <td>21.126831</td>\n",
       "    </tr>\n",
       "    <tr>\n",
       "      <th>8</th>\n",
       "      <td>melenchon</td>\n",
       "      <td>17.066621</td>\n",
       "    </tr>\n",
       "    <tr>\n",
       "      <th>9</th>\n",
       "      <td>nda</td>\n",
       "      <td>4.081467</td>\n",
       "    </tr>\n",
       "    <tr>\n",
       "      <th>10</th>\n",
       "      <td>poutou</td>\n",
       "      <td>1.738077</td>\n",
       "    </tr>\n",
       "  </tbody>\n",
       "</table>\n",
       "</div>"
      ],
      "text/plain": [
       "      candidat  pred_pond_twitter\n",
       "0      arthaud           0.002739\n",
       "1   asselineau           0.208113\n",
       "2    cheminade           0.014254\n",
       "3       fillon          24.053592\n",
       "4        hamon           7.532733\n",
       "5     lassalle           0.283173\n",
       "6       le pen          23.872400\n",
       "7       macron          21.126831\n",
       "8    melenchon          17.066621\n",
       "9          nda           4.081467\n",
       "10      poutou           1.738077"
      ]
     },
     "execution_count": 13,
     "metadata": {},
     "output_type": "execute_result"
    }
   ],
   "source": [
    "tweets[[\"candidat\", \"pred_pond_twitter\"]]"
   ]
  },
  {
   "cell_type": "code",
   "execution_count": 14,
   "metadata": {
    "collapsed": false
   },
   "outputs": [],
   "source": [
    "google = pd.read_excel(\"google_trends_10_au_15_avril.xlsx\")"
   ]
  },
  {
   "cell_type": "code",
   "execution_count": 15,
   "metadata": {
    "collapsed": false
   },
   "outputs": [],
   "source": [
    "google = google.mean().reset_index()"
   ]
  },
  {
   "cell_type": "code",
   "execution_count": 16,
   "metadata": {
    "collapsed": false
   },
   "outputs": [],
   "source": [
    "google[\"index\"] = google[\"index\"].map(lambda x : \" \".join(x.split()[1:]).lower().replace(\"dupont-aignan\", \"nda\").replace(\"é\", \"e\"))"
   ]
  },
  {
   "cell_type": "code",
   "execution_count": 17,
   "metadata": {
    "collapsed": false
   },
   "outputs": [],
   "source": [
    "tweets = tweets.merge(google, how=\"left\", left_on=\"candidat\", right_on=\"index\")\n",
    "tweets.drop(\"index\", axis=1, inplace=True)"
   ]
  },
  {
   "cell_type": "code",
   "execution_count": 18,
   "metadata": {
    "collapsed": false
   },
   "outputs": [],
   "source": [
    "tweets.rename(columns={0:\"recherches_google\"}, inplace=True)"
   ]
  },
  {
   "cell_type": "code",
   "execution_count": 19,
   "metadata": {
    "collapsed": false
   },
   "outputs": [],
   "source": [
    "google_bloc = tweets.groupby(\"bloc\").sum()[\"recherches_google\"].reset_index()\n",
    "tweets = tweets.merge(google_bloc, how=\"left\", on=\"bloc\")"
   ]
  },
  {
   "cell_type": "code",
   "execution_count": 20,
   "metadata": {
    "collapsed": false
   },
   "outputs": [],
   "source": [
    "tweets[\"pred_pond_google\"] = tweets[\"pred_blocs\"]*tweets[\"recherches_google_x\"]*100/tweets[\"recherches_google_y\"]/100"
   ]
  },
  {
   "cell_type": "code",
   "execution_count": 21,
   "metadata": {
    "collapsed": false
   },
   "outputs": [],
   "source": [
    "tweets[\"pred_pond_google\"] = tweets[\"pred_pond_google\"]+10.31*tweets[\"transferts_bayrou_%\"]/100\n"
   ]
  },
  {
   "cell_type": "code",
   "execution_count": 22,
   "metadata": {
    "collapsed": false
   },
   "outputs": [],
   "source": [
    "tweets[\"pred_pond_sondages\"] = [0.38, 1.04, 0.25, 22.23, 6.80, 1.33, 23.87, 22.82, 15.86, 4.05, 1.36]"
   ]
  },
  {
   "cell_type": "code",
   "execution_count": 23,
   "metadata": {
    "collapsed": false
   },
   "outputs": [],
   "source": [
    "final_pred = tweets[[\"candidat\", \"pred_pond_google\", \"pred_pond_twitter\", \"pred_pond_sondages\"]]\n"
   ]
  },
  {
   "cell_type": "code",
   "execution_count": 24,
   "metadata": {
    "collapsed": false
   },
   "outputs": [
    {
     "name": "stderr",
     "output_type": "stream",
     "text": [
      "C:\\Users\\Mohamed\\Anaconda3\\lib\\site-packages\\ipykernel\\__main__.py:1: SettingWithCopyWarning: \n",
      "A value is trying to be set on a copy of a slice from a DataFrame.\n",
      "Try using .loc[row_indexer,col_indexer] = value instead\n",
      "\n",
      "See the caveats in the documentation: http://pandas.pydata.org/pandas-docs/stable/indexing.html#indexing-view-versus-copy\n",
      "  if __name__ == '__main__':\n"
     ]
    }
   ],
   "source": [
    "final_pred[\"mean_pred\"] = final_pred.mean(axis=1)"
   ]
  },
  {
   "cell_type": "code",
   "execution_count": 25,
   "metadata": {
    "collapsed": false
   },
   "outputs": [
    {
     "name": "stderr",
     "output_type": "stream",
     "text": [
      "C:\\Users\\Mohamed\\Anaconda3\\lib\\site-packages\\pandas\\core\\frame.py:2834: SettingWithCopyWarning: \n",
      "A value is trying to be set on a copy of a slice from a DataFrame\n",
      "\n",
      "See the caveats in the documentation: http://pandas.pydata.org/pandas-docs/stable/indexing.html#indexing-view-versus-copy\n",
      "  **kwargs)\n"
     ]
    }
   ],
   "source": [
    "final_pred.rename(columns={\"pred_pond_google\":\"prédiction Google\", \\\n",
    "                           \"pred_pond_twitter\":\"prédiction Twitter\", \\\n",
    "                          \"pred_pond_sondages\":\"prédiction sondages\",\\\n",
    "                          \"mean_pred\": \"moyenne des trois\"}, inplace=True)\n",
    "final_pred = final_pred.set_index(\"candidat\")\n"
   ]
  },
  {
   "cell_type": "code",
   "execution_count": 44,
   "metadata": {
    "collapsed": false
   },
   "outputs": [
    {
     "data": {
      "image/png": "[encoded data removed]",
      "text/plain": [
       "<matplotlib.figure.Figure at 0x2c8197b57f0>"
      ]
     },
     "metadata": {},
     "output_type": "display_data"
    }
   ],
   "source": [
    "ax = final_pred.plot.bar(figsize=[10,7], position=0.2)\n",
    "ax.set_xticklabels(final_pred.index, rotation=50)\n",
    "plt.show()"
   ]
  },
  {
   "cell_type": "code",
   "execution_count": 69,
   "metadata": {
    "collapsed": false
   },
   "outputs": [
    {
     "data": {
      "image/png": "[encoded data removed]",
      "text/plain": [
       "<matplotlib.figure.Figure at 0x2c8198029b0>"
      ]
     },
     "metadata": {},
     "output_type": "display_data"
    }
   ],
   "source": [
    "pos_tweets = tweets[[\"candidat\", \"count_pos_x\"]].set_index(\"candidat\").rename(columns={\"count_pos_x\":\"Nombre de tweets positifs\"})\n",
    "ax = pos_tweets.plot.bar()\n",
    "ax.set_title(\"Nombre de tweets positifs par candidat \\n sur la période du 10 au 15 avril\")\n",
    "ax.set_xticklabels(pos_tweets.index, rotation=50)\n",
    "plt.show()"
   ]
  },
  {
   "cell_type": "code",
   "execution_count": 68,
   "metadata": {
    "collapsed": false
   },
   "outputs": [
    {
     "data": {
      "image/png": "[encoded data removed]",
      "text/plain": [
       "<matplotlib.figure.Figure at 0x2c819c440f0>"
      ]
     },
     "metadata": {},
     "output_type": "display_data"
    }
   ],
   "source": [
    "recherches_google = tweets[[\"candidat\", \"recherches_google_x\"]].set_index(\"candidat\").rename(columns={\"recherches_google_x\":\"indice nombre de recherches Google\"})\n",
    "ax = recherches_google.plot.bar(color=\"red\")\n",
    "ax.set_xticklabels(recherches_google.index, rotation=50)\n",
    "ax.set_title(\"Indice du nombre de recherches Google par candidat \\n sur la période du 10 au 15 avril\")\n",
    "plt.show()"
   ]
  },
  {
   "cell_type": "code",
   "execution_count": 33,
   "metadata": {
    "collapsed": false
   },
   "outputs": [],
   "source": [
    "ponderations_twitter = tweets[\"%pos\"]\n",
    "tweets[\"%google\"] = tweets[\"recherches_google_x\"]*100/tweets[\"recherches_google_y\"]"
   ]
  },
  {
   "cell_type": "code",
   "execution_count": 70,
   "metadata": {
    "collapsed": false
   },
   "outputs": [
    {
     "data": {
      "text/html": [
       "<div>\n",
       "<table border=\"1\" class=\"dataframe\">\n",
       "  <thead>\n",
       "    <tr style=\"text-align: right;\">\n",
       "      <th></th>\n",
       "      <th>candidat</th>\n",
       "      <th>count_pos_x</th>\n",
       "      <th>bloc</th>\n",
       "      <th>count_pos_y</th>\n",
       "      <th>%pos</th>\n",
       "      <th>pred_blocs</th>\n",
       "      <th>pred_pond_twitter</th>\n",
       "      <th>transferts_bayrou_%</th>\n",
       "      <th>recherches_google_x</th>\n",
       "      <th>recherches_google_y</th>\n",
       "      <th>pred_pond_google</th>\n",
       "      <th>pred_pond_sondages</th>\n",
       "      <th>%google</th>\n",
       "    </tr>\n",
       "  </thead>\n",
       "  <tbody>\n",
       "    <tr>\n",
       "      <th>0</th>\n",
       "      <td>arthaud</td>\n",
       "      <td>1.0</td>\n",
       "      <td>gauche</td>\n",
       "      <td>14697.0</td>\n",
       "      <td>0.006804</td>\n",
       "      <td>40.25</td>\n",
       "      <td>0.002739</td>\n",
       "      <td>0</td>\n",
       "      <td>2.034247</td>\n",
       "      <td>93.958904</td>\n",
       "      <td>0.871428</td>\n",
       "      <td>0.38</td>\n",
       "      <td>2.165039</td>\n",
       "    </tr>\n",
       "    <tr>\n",
       "      <th>1</th>\n",
       "      <td>asselineau</td>\n",
       "      <td>73.0</td>\n",
       "      <td>droite</td>\n",
       "      <td>9106.0</td>\n",
       "      <td>0.801669</td>\n",
       "      <td>25.96</td>\n",
       "      <td>0.208113</td>\n",
       "      <td>0</td>\n",
       "      <td>6.143836</td>\n",
       "      <td>47.698630</td>\n",
       "      <td>3.343785</td>\n",
       "      <td>1.04</td>\n",
       "      <td>12.880528</td>\n",
       "    </tr>\n",
       "    <tr>\n",
       "      <th>2</th>\n",
       "      <td>cheminade</td>\n",
       "      <td>5.0</td>\n",
       "      <td>droite</td>\n",
       "      <td>9106.0</td>\n",
       "      <td>0.054909</td>\n",
       "      <td>25.96</td>\n",
       "      <td>0.014254</td>\n",
       "      <td>0</td>\n",
       "      <td>2.054795</td>\n",
       "      <td>47.698630</td>\n",
       "      <td>1.118323</td>\n",
       "      <td>0.25</td>\n",
       "      <td>4.307869</td>\n",
       "    </tr>\n",
       "    <tr>\n",
       "      <th>3</th>\n",
       "      <td>fillon</td>\n",
       "      <td>7714.0</td>\n",
       "      <td>droite</td>\n",
       "      <td>9106.0</td>\n",
       "      <td>84.713376</td>\n",
       "      <td>25.96</td>\n",
       "      <td>24.053592</td>\n",
       "      <td>20</td>\n",
       "      <td>31.041096</td>\n",
       "      <td>47.698630</td>\n",
       "      <td>18.956130</td>\n",
       "      <td>22.23</td>\n",
       "      <td>65.077542</td>\n",
       "    </tr>\n",
       "    <tr>\n",
       "      <th>4</th>\n",
       "      <td>hamon</td>\n",
       "      <td>2487.0</td>\n",
       "      <td>gauche</td>\n",
       "      <td>14697.0</td>\n",
       "      <td>16.921821</td>\n",
       "      <td>40.25</td>\n",
       "      <td>7.532733</td>\n",
       "      <td>7</td>\n",
       "      <td>2.753425</td>\n",
       "      <td>93.958904</td>\n",
       "      <td>1.901209</td>\n",
       "      <td>6.80</td>\n",
       "      <td>2.930456</td>\n",
       "    </tr>\n",
       "    <tr>\n",
       "      <th>5</th>\n",
       "      <td>lassalle</td>\n",
       "      <td>27.0</td>\n",
       "      <td>droite</td>\n",
       "      <td>9106.0</td>\n",
       "      <td>0.296508</td>\n",
       "      <td>25.96</td>\n",
       "      <td>0.283173</td>\n",
       "      <td>2</td>\n",
       "      <td>5.315068</td>\n",
       "      <td>47.698630</td>\n",
       "      <td>3.098928</td>\n",
       "      <td>1.33</td>\n",
       "      <td>11.143021</td>\n",
       "    </tr>\n",
       "    <tr>\n",
       "      <th>6</th>\n",
       "      <td>le pen</td>\n",
       "      <td>2192.0</td>\n",
       "      <td>le pen</td>\n",
       "      <td>2192.0</td>\n",
       "      <td>100.000000</td>\n",
       "      <td>23.46</td>\n",
       "      <td>23.872400</td>\n",
       "      <td>4</td>\n",
       "      <td>10.041096</td>\n",
       "      <td>10.041096</td>\n",
       "      <td>23.872400</td>\n",
       "      <td>23.87</td>\n",
       "      <td>100.000000</td>\n",
       "    </tr>\n",
       "    <tr>\n",
       "      <th>7</th>\n",
       "      <td>macron</td>\n",
       "      <td>5832.0</td>\n",
       "      <td>gauche</td>\n",
       "      <td>14697.0</td>\n",
       "      <td>39.681568</td>\n",
       "      <td>40.25</td>\n",
       "      <td>21.126831</td>\n",
       "      <td>50</td>\n",
       "      <td>30.589041</td>\n",
       "      <td>93.958904</td>\n",
       "      <td>18.258696</td>\n",
       "      <td>22.82</td>\n",
       "      <td>32.555766</td>\n",
       "    </tr>\n",
       "    <tr>\n",
       "      <th>8</th>\n",
       "      <td>melenchon</td>\n",
       "      <td>5780.0</td>\n",
       "      <td>gauche</td>\n",
       "      <td>14697.0</td>\n",
       "      <td>39.327754</td>\n",
       "      <td>40.25</td>\n",
       "      <td>17.066621</td>\n",
       "      <td>12</td>\n",
       "      <td>50.958904</td>\n",
       "      <td>93.958904</td>\n",
       "      <td>23.066913</td>\n",
       "      <td>15.86</td>\n",
       "      <td>54.235311</td>\n",
       "    </tr>\n",
       "    <tr>\n",
       "      <th>9</th>\n",
       "      <td>nda</td>\n",
       "      <td>1287.0</td>\n",
       "      <td>droite</td>\n",
       "      <td>9106.0</td>\n",
       "      <td>14.133538</td>\n",
       "      <td>25.96</td>\n",
       "      <td>4.081467</td>\n",
       "      <td>4</td>\n",
       "      <td>3.143836</td>\n",
       "      <td>47.698630</td>\n",
       "      <td>2.123434</td>\n",
       "      <td>4.05</td>\n",
       "      <td>6.591040</td>\n",
       "    </tr>\n",
       "    <tr>\n",
       "      <th>10</th>\n",
       "      <td>poutou</td>\n",
       "      <td>597.0</td>\n",
       "      <td>gauche</td>\n",
       "      <td>14697.0</td>\n",
       "      <td>4.062053</td>\n",
       "      <td>40.25</td>\n",
       "      <td>1.738077</td>\n",
       "      <td>1</td>\n",
       "      <td>7.623288</td>\n",
       "      <td>93.958904</td>\n",
       "      <td>3.368755</td>\n",
       "      <td>1.36</td>\n",
       "      <td>8.113428</td>\n",
       "    </tr>\n",
       "  </tbody>\n",
       "</table>\n",
       "</div>"
      ],
      "text/plain": [
       "      candidat  count_pos_x    bloc  count_pos_y        %pos  pred_blocs  \\\n",
       "0      arthaud          1.0  gauche      14697.0    0.006804       40.25   \n",
       "1   asselineau         73.0  droite       9106.0    0.801669       25.96   \n",
       "2    cheminade          5.0  droite       9106.0    0.054909       25.96   \n",
       "3       fillon       7714.0  droite       9106.0   84.713376       25.96   \n",
       "4        hamon       2487.0  gauche      14697.0   16.921821       40.25   \n",
       "5     lassalle         27.0  droite       9106.0    0.296508       25.96   \n",
       "6       le pen       2192.0  le pen       2192.0  100.000000       23.46   \n",
       "7       macron       5832.0  gauche      14697.0   39.681568       40.25   \n",
       "8    melenchon       5780.0  gauche      14697.0   39.327754       40.25   \n",
       "9          nda       1287.0  droite       9106.0   14.133538       25.96   \n",
       "10      poutou        597.0  gauche      14697.0    4.062053       40.25   \n",
       "\n",
       "    pred_pond_twitter  transferts_bayrou_%  recherches_google_x  \\\n",
       "0            0.002739                    0             2.034247   \n",
       "1            0.208113                    0             6.143836   \n",
       "2            0.014254                    0             2.054795   \n",
       "3           24.053592                   20            31.041096   \n",
       "4            7.532733                    7             2.753425   \n",
       "5            0.283173                    2             5.315068   \n",
       "6           23.872400                    4            10.041096   \n",
       "7           21.126831                   50            30.589041   \n",
       "8           17.066621                   12            50.958904   \n",
       "9            4.081467                    4             3.143836   \n",
       "10           1.738077                    1             7.623288   \n",
       "\n",
       "    recherches_google_y  pred_pond_google  pred_pond_sondages     %google  \n",
       "0             93.958904          0.871428                0.38    2.165039  \n",
       "1             47.698630          3.343785                1.04   12.880528  \n",
       "2             47.698630          1.118323                0.25    4.307869  \n",
       "3             47.698630         18.956130               22.23   65.077542  \n",
       "4             93.958904          1.901209                6.80    2.930456  \n",
       "5             47.698630          3.098928                1.33   11.143021  \n",
       "6             10.041096         23.872400               23.87  100.000000  \n",
       "7             93.958904         18.258696               22.82   32.555766  \n",
       "8             93.958904         23.066913               15.86   54.235311  \n",
       "9             47.698630          2.123434                4.05    6.591040  \n",
       "10            93.958904          3.368755                1.36    8.113428  "
      ]
     },
     "execution_count": 70,
     "metadata": {},
     "output_type": "execute_result"
    }
   ],
   "source": [
    "tweets"
   ]
  },
  {
   "cell_type": "code",
   "execution_count": null,
   "metadata": {
    "collapsed": false
   },
   "outputs": [],
   "source": []
  }
 ],
 "metadata": {
  "kernelspec": {
   "display_name": "Python [conda root]",
   "language": "python",
   "name": "conda-root-py"
  },
  "language_info": {
   "codemirror_mode": {
    "name": "ipython",
    "version": 3
   },
   "file_extension": ".py",
   "mimetype": "text/x-python",
   "name": "python",
   "nbconvert_exporter": "python",
   "pygments_lexer": "ipython3",
   "version": "3.5.2"
  }
 },
 "nbformat": 4,
 "nbformat_minor": 2
}
