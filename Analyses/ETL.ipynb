{
 "cells": [
  {
   "cell_type": "code",
   "execution_count": 2,
   "metadata": {
    "collapsed": true
   },
   "outputs": [],
   "source": [
    "import pandas  as pd\n",
    "import numpy as np\n",
    "import os"
   ]
  },
  {
   "cell_type": "code",
   "execution_count": 3,
   "metadata": {
    "collapsed": false
   },
   "outputs": [
    {
     "name": "stdout",
     "output_type": "stream",
     "text": [
      "conjoncture_travaux.csv   import_pib.csv  menage_1.csv\r\n",
      "depense_conso_menage.csv  \u001b[0m\u001b[01;34mle rendu\u001b[0m/       pib.csv\r\n",
      "emploi_par_secteur.csv    menage_0.csv    Untitled.ipynb\r\n"
     ]
    }
   ],
   "source": [
    "ls"
   ]
  },
  {
   "cell_type": "markdown",
   "metadata": {},
   "source": [
    "## table par année & mois"
   ]
  },
  {
   "cell_type": "code",
   "execution_count": 7,
   "metadata": {
    "collapsed": true
   },
   "outputs": [],
   "source": [
    "menage_0 = pd.read_csv(\"menage_0.csv\",sep=\";\")\n",
    "menage_1 = pd.read_csv(\"menage_1.csv\",sep=\";\")"
   ]
  },
  {
   "cell_type": "code",
   "execution_count": 8,
   "metadata": {
    "collapsed": false
   },
   "outputs": [
    {
     "data": {
      "text/html": [
       "<div>\n",
       "<table border=\"1\" class=\"dataframe\">\n",
       "  <thead>\n",
       "    <tr style=\"text-align: right;\">\n",
       "      <th></th>\n",
       "      <th>Ann?e</th>\n",
       "      <th>Mois</th>\n",
       "      <th>Enqu?te mensuelle de conjoncture aupr?s des m?nages - Opinion sur le niveau de vie pass? en France : Solde des r?ponses (am?lioration moins d?t?rioration) - Donn?es CVS</th>\n",
       "      <th>Enqu?te mensuelle de conjoncture aupr?s des m?nages - Opinion sur le niveau de vie futur en France : Solde des r?ponses (am?lioration moins d?t?rioration) - Donn?es CVS</th>\n",
       "      <th>Enqu?te mensuelle de conjoncture aupr?s des m?nages - Opinion sur l'?volution future du ch?mage : Solde des r?ponses (augmentation moins diminution) - Donn?es CVS</th>\n",
       "      <th>Enqu?te mensuelle de conjoncture aupr?s des m?nages - Opinion sur l'?volution pass?e des prix : Solde des r?ponses (augmentation moins diminution) - Donn?es CVS</th>\n",
       "      <th>Enqu?te mensuelle de conjoncture aupr?s des m?nages - Opinion sur leur capacit? d'?pargne actuelle : Solde des r?ponses (favorable moins d?favorable) - Donn?es CVS</th>\n",
       "      <th>Enqu?te mensuelle de conjoncture aupr?s des m?nages - Opinion sur leur situation financi?re pass?e : Solde des r?ponses (am?lioration moins d?t?rioration) - Donn?es CVS</th>\n",
       "      <th>Enqu?te mensuelle de conjoncture aupr?s des m?nages - Opinion sur leur situation financi?re future : Solde des r?ponses (am?lioration moins d?t?rioration) - Donn?es CVS</th>\n",
       "    </tr>\n",
       "  </thead>\n",
       "  <tbody>\n",
       "    <tr>\n",
       "      <th>0</th>\n",
       "      <td>2017</td>\n",
       "      <td>2</td>\n",
       "      <td>-49</td>\n",
       "      <td>-24</td>\n",
       "      <td>20</td>\n",
       "      <td>-46</td>\n",
       "      <td>11</td>\n",
       "      <td>-22</td>\n",
       "      <td>-6</td>\n",
       "    </tr>\n",
       "    <tr>\n",
       "      <th>1</th>\n",
       "      <td>2017</td>\n",
       "      <td>1</td>\n",
       "      <td>-48</td>\n",
       "      <td>-25</td>\n",
       "      <td>19</td>\n",
       "      <td>-44</td>\n",
       "      <td>8</td>\n",
       "      <td>-22</td>\n",
       "      <td>-5</td>\n",
       "    </tr>\n",
       "    <tr>\n",
       "      <th>2</th>\n",
       "      <td>2016</td>\n",
       "      <td>12</td>\n",
       "      <td>-52</td>\n",
       "      <td>-24</td>\n",
       "      <td>21</td>\n",
       "      <td>-49</td>\n",
       "      <td>8</td>\n",
       "      <td>-22</td>\n",
       "      <td>-8</td>\n",
       "    </tr>\n",
       "    <tr>\n",
       "      <th>3</th>\n",
       "      <td>2016</td>\n",
       "      <td>11</td>\n",
       "      <td>-49</td>\n",
       "      <td>-25</td>\n",
       "      <td>26</td>\n",
       "      <td>-51</td>\n",
       "      <td>7</td>\n",
       "      <td>-24</td>\n",
       "      <td>-8</td>\n",
       "    </tr>\n",
       "    <tr>\n",
       "      <th>4</th>\n",
       "      <td>2016</td>\n",
       "      <td>10</td>\n",
       "      <td>-53</td>\n",
       "      <td>-28</td>\n",
       "      <td>38</td>\n",
       "      <td>-52</td>\n",
       "      <td>6</td>\n",
       "      <td>-23</td>\n",
       "      <td>-7</td>\n",
       "    </tr>\n",
       "  </tbody>\n",
       "</table>\n",
       "</div>"
      ],
      "text/plain": [
       "   Ann?e  Mois  \\\n",
       "0   2017     2   \n",
       "1   2017     1   \n",
       "2   2016    12   \n",
       "3   2016    11   \n",
       "4   2016    10   \n",
       "\n",
       "   Enqu?te mensuelle de conjoncture aupr?s des m?nages - Opinion sur le niveau de vie pass? en France : Solde des r?ponses (am?lioration moins d?t?rioration) - Donn?es CVS  \\\n",
       "0                                                -49                                                                                                                          \n",
       "1                                                -48                                                                                                                          \n",
       "2                                                -52                                                                                                                          \n",
       "3                                                -49                                                                                                                          \n",
       "4                                                -53                                                                                                                          \n",
       "\n",
       "   Enqu?te mensuelle de conjoncture aupr?s des m?nages - Opinion sur le niveau de vie futur en France : Solde des r?ponses (am?lioration moins d?t?rioration) - Donn?es CVS  \\\n",
       "0                                                -24                                                                                                                          \n",
       "1                                                -25                                                                                                                          \n",
       "2                                                -24                                                                                                                          \n",
       "3                                                -25                                                                                                                          \n",
       "4                                                -28                                                                                                                          \n",
       "\n",
       "   Enqu?te mensuelle de conjoncture aupr?s des m?nages - Opinion sur l'?volution future du ch?mage : Solde des r?ponses (augmentation moins diminution) - Donn?es CVS  \\\n",
       "0                                                 20                                                                                                                    \n",
       "1                                                 19                                                                                                                    \n",
       "2                                                 21                                                                                                                    \n",
       "3                                                 26                                                                                                                    \n",
       "4                                                 38                                                                                                                    \n",
       "\n",
       "   Enqu?te mensuelle de conjoncture aupr?s des m?nages - Opinion sur l'?volution pass?e des prix : Solde des r?ponses (augmentation moins diminution) - Donn?es CVS  \\\n",
       "0                                                -46                                                                                                                  \n",
       "1                                                -44                                                                                                                  \n",
       "2                                                -49                                                                                                                  \n",
       "3                                                -51                                                                                                                  \n",
       "4                                                -52                                                                                                                  \n",
       "\n",
       "   Enqu?te mensuelle de conjoncture aupr?s des m?nages - Opinion sur leur capacit? d'?pargne actuelle : Solde des r?ponses (favorable moins d?favorable) - Donn?es CVS  \\\n",
       "0                                                 11                                                                                                                     \n",
       "1                                                  8                                                                                                                     \n",
       "2                                                  8                                                                                                                     \n",
       "3                                                  7                                                                                                                     \n",
       "4                                                  6                                                                                                                     \n",
       "\n",
       "   Enqu?te mensuelle de conjoncture aupr?s des m?nages - Opinion sur leur situation financi?re pass?e : Solde des r?ponses (am?lioration moins d?t?rioration) - Donn?es CVS  \\\n",
       "0                                                -22                                                                                                                          \n",
       "1                                                -22                                                                                                                          \n",
       "2                                                -22                                                                                                                          \n",
       "3                                                -24                                                                                                                          \n",
       "4                                                -23                                                                                                                          \n",
       "\n",
       "   Enqu?te mensuelle de conjoncture aupr?s des m?nages - Opinion sur leur situation financi?re future : Solde des r?ponses (am?lioration moins d?t?rioration) - Donn?es CVS  \n",
       "0                                                 -6                                                                                                                         \n",
       "1                                                 -5                                                                                                                         \n",
       "2                                                 -8                                                                                                                         \n",
       "3                                                 -8                                                                                                                         \n",
       "4                                                 -7                                                                                                                         "
      ]
     },
     "execution_count": 8,
     "metadata": {},
     "output_type": "execute_result"
    }
   ],
   "source": [
    "menage_0.head()"
   ]
  },
  {
   "cell_type": "code",
   "execution_count": 10,
   "metadata": {
    "collapsed": false
   },
   "outputs": [],
   "source": [
    "menage_0.columns=[\"année\",\"mois\",\n",
    "                  \"niveau de vie passe(amelioration moins deterioration)\",\n",
    "                 \"niveau de vie futur(amélioration moins deterioration)\",\n",
    "                 \"evolution future du chomage (augmentation moins diminution)\",\n",
    "                 \"evolution des prix (augmentation moins diminution)\",\n",
    "                 \"capacité epargne actuelle (augmentation moins diminution)\",\n",
    "                 \"situation financiere passe (augmentation moins diminution)\",\n",
    "                 \"situation financiere future (augmentation moins diminution)\"]"
   ]
  },
  {
   "cell_type": "code",
   "execution_count": 14,
   "metadata": {
    "collapsed": false
   },
   "outputs": [
    {
     "name": "stdout",
     "output_type": "stream",
     "text": [
      "(566, 9)\n"
     ]
    }
   ],
   "source": [
    "print(menage_0.shape)"
   ]
  },
  {
   "cell_type": "code",
   "execution_count": 15,
   "metadata": {
    "collapsed": false
   },
   "outputs": [
    {
     "data": {
      "text/html": [
       "<div>\n",
       "<table border=\"1\" class=\"dataframe\">\n",
       "  <thead>\n",
       "    <tr style=\"text-align: right;\">\n",
       "      <th></th>\n",
       "      <th>Ann?e</th>\n",
       "      <th>Mois</th>\n",
       "      <th>Enqu?te mensuelle de conjoncture aupr?s des m?nages - Opinion sur l'opportunit? de faire des achats importants : Solde des r?ponses (favorable moins d?favorable) - Donn?es CVS</th>\n",
       "      <th>Enqu?te mensuelle de conjoncture aupr?s des m?nages - Opinion sur l'opportunit? d'?pargner : Solde des r?ponses (favorable moins d?favorable) - Donn?es CVS</th>\n",
       "      <th>Enqu?te mensuelle de conjoncture aupr?s des m?nages - Opinion sur leur capacit? d'?pargne future : Solde des r?ponses (am?lioration moins d?t?rioration) - Donn?es CVS</th>\n",
       "      <th>Enqu?te mensuelle de conjoncture aupr?s des m?nages - Indicateur r?sum? de confiance des m?nages (moyenne arithm?tique d'indicateurs) - Donn?es CVS - S?rie arr?t?e</th>\n",
       "      <th>Enqu?te mensuelle de conjoncture aupr?s des m?nages - Indicateur synth?tique de confiance des m?nages (premier facteur des soldes d'opinion de l'enqu?te) - Donn?es CVS</th>\n",
       "    </tr>\n",
       "  </thead>\n",
       "  <tbody>\n",
       "    <tr>\n",
       "      <th>0</th>\n",
       "      <td>2017</td>\n",
       "      <td>2</td>\n",
       "      <td>-1</td>\n",
       "      <td>2</td>\n",
       "      <td>-2</td>\n",
       "      <td>NaN</td>\n",
       "      <td>100</td>\n",
       "    </tr>\n",
       "    <tr>\n",
       "      <th>1</th>\n",
       "      <td>2017</td>\n",
       "      <td>1</td>\n",
       "      <td>-4</td>\n",
       "      <td>-1</td>\n",
       "      <td>-6</td>\n",
       "      <td>NaN</td>\n",
       "      <td>100</td>\n",
       "    </tr>\n",
       "    <tr>\n",
       "      <th>2</th>\n",
       "      <td>2016</td>\n",
       "      <td>12</td>\n",
       "      <td>-3</td>\n",
       "      <td>-7</td>\n",
       "      <td>-6</td>\n",
       "      <td>NaN</td>\n",
       "      <td>99</td>\n",
       "    </tr>\n",
       "    <tr>\n",
       "      <th>3</th>\n",
       "      <td>2016</td>\n",
       "      <td>11</td>\n",
       "      <td>-5</td>\n",
       "      <td>-2</td>\n",
       "      <td>-5</td>\n",
       "      <td>NaN</td>\n",
       "      <td>99</td>\n",
       "    </tr>\n",
       "    <tr>\n",
       "      <th>4</th>\n",
       "      <td>2016</td>\n",
       "      <td>10</td>\n",
       "      <td>-5</td>\n",
       "      <td>-2</td>\n",
       "      <td>-7</td>\n",
       "      <td>NaN</td>\n",
       "      <td>98</td>\n",
       "    </tr>\n",
       "  </tbody>\n",
       "</table>\n",
       "</div>"
      ],
      "text/plain": [
       "   Ann?e  Mois  \\\n",
       "0   2017     2   \n",
       "1   2017     1   \n",
       "2   2016    12   \n",
       "3   2016    11   \n",
       "4   2016    10   \n",
       "\n",
       "   Enqu?te mensuelle de conjoncture aupr?s des m?nages - Opinion sur l'opportunit? de faire des achats importants : Solde des r?ponses (favorable moins d?favorable) - Donn?es CVS  \\\n",
       "0                                                 -1                                                                                                                                 \n",
       "1                                                 -4                                                                                                                                 \n",
       "2                                                 -3                                                                                                                                 \n",
       "3                                                 -5                                                                                                                                 \n",
       "4                                                 -5                                                                                                                                 \n",
       "\n",
       "   Enqu?te mensuelle de conjoncture aupr?s des m?nages - Opinion sur l'opportunit? d'?pargner : Solde des r?ponses (favorable moins d?favorable) - Donn?es CVS  \\\n",
       "0                                                  2                                                                                                             \n",
       "1                                                 -1                                                                                                             \n",
       "2                                                 -7                                                                                                             \n",
       "3                                                 -2                                                                                                             \n",
       "4                                                 -2                                                                                                             \n",
       "\n",
       "   Enqu?te mensuelle de conjoncture aupr?s des m?nages - Opinion sur leur capacit? d'?pargne future : Solde des r?ponses (am?lioration moins d?t?rioration) - Donn?es CVS  \\\n",
       "0                                                 -2                                                                                                                        \n",
       "1                                                 -6                                                                                                                        \n",
       "2                                                 -6                                                                                                                        \n",
       "3                                                 -5                                                                                                                        \n",
       "4                                                 -7                                                                                                                        \n",
       "\n",
       "   Enqu?te mensuelle de conjoncture aupr?s des m?nages - Indicateur r?sum? de confiance des m?nages (moyenne arithm?tique d'indicateurs) - Donn?es CVS - S?rie arr?t?e  \\\n",
       "0                                                NaN                                                                                                                     \n",
       "1                                                NaN                                                                                                                     \n",
       "2                                                NaN                                                                                                                     \n",
       "3                                                NaN                                                                                                                     \n",
       "4                                                NaN                                                                                                                     \n",
       "\n",
       "   Enqu?te mensuelle de conjoncture aupr?s des m?nages - Indicateur synth?tique de confiance des m?nages (premier facteur des soldes d'opinion de l'enqu?te) - Donn?es CVS  \n",
       "0                                                100                                                                                                                        \n",
       "1                                                100                                                                                                                        \n",
       "2                                                 99                                                                                                                        \n",
       "3                                                 99                                                                                                                        \n",
       "4                                                 98                                                                                                                        "
      ]
     },
     "execution_count": 15,
     "metadata": {},
     "output_type": "execute_result"
    }
   ],
   "source": [
    "menage_1.head()"
   ]
  },
  {
   "cell_type": "code",
   "execution_count": 20,
   "metadata": {
    "collapsed": false
   },
   "outputs": [],
   "source": [
    "menage_1.columns=[\"année\",\"mois\",\n",
    "                  \"opportunite de faire des achats importants(favorable moins favorable)\",\n",
    "                  \"opportunite epargner(favorable moins favorable)\",\n",
    "                  \"capacite epargne future(amélioration moins deterioration)\",\n",
    "                  \"indicateur de confiance des menages 1\",\n",
    "                  \"indicateur de confiance des menages\"\n",
    "                 ]"
   ]
  },
  {
   "cell_type": "code",
   "execution_count": 21,
   "metadata": {
    "collapsed": false
   },
   "outputs": [],
   "source": [
    "del menage_1[\"indicateur de confiance des menages 1\"]"
   ]
  },
  {
   "cell_type": "code",
   "execution_count": 22,
   "metadata": {
    "collapsed": false
   },
   "outputs": [
    {
     "data": {
      "text/plain": [
       "(533, 6)"
      ]
     },
     "execution_count": 22,
     "metadata": {},
     "output_type": "execute_result"
    }
   ],
   "source": [
    "menage_1.shape"
   ]
  },
  {
   "cell_type": "code",
   "execution_count": 24,
   "metadata": {
    "collapsed": false
   },
   "outputs": [
    {
     "name": "stdout",
     "output_type": "stream",
     "text": [
      "1972\n",
      "1970\n"
     ]
    }
   ],
   "source": [
    "print(min(menage_1[\"année\"]))\n",
    "print(min(menage_0[\"année\"]))"
   ]
  },
  {
   "cell_type": "code",
   "execution_count": 28,
   "metadata": {
    "collapsed": false
   },
   "outputs": [
    {
     "data": {
      "text/plain": [
       "année                                                                    int64\n",
       "mois                                                                     int64\n",
       "opportunite de faire des achats importants(favorable moins favorable)    int64\n",
       "opportunite epargner(favorable moins favorable)                          int64\n",
       "capacite epargne future(amélioration moins deterioration)                int64\n",
       "indicateur de confiance des menages                                      int64\n",
       "dtype: object"
      ]
     },
     "execution_count": 28,
     "metadata": {},
     "output_type": "execute_result"
    }
   ],
   "source": [
    "menage_1.dtypes"
   ]
  },
  {
   "cell_type": "code",
   "execution_count": 29,
   "metadata": {
    "collapsed": true
   },
   "outputs": [],
   "source": [
    "# On garde que à partir 1974 précèdente elections si on souhaite faire des variations\n",
    "menage_1 = menage_1[menage_1[\"année\"]>1973]\n",
    "menage_0 = menage_0[menage_0[\"année\"]>1973]"
   ]
  },
  {
   "cell_type": "code",
   "execution_count": 30,
   "metadata": {
    "collapsed": false
   },
   "outputs": [
    {
     "name": "stdout",
     "output_type": "stream",
     "text": [
      "(518, 6)\n",
      "(518, 9)\n"
     ]
    }
   ],
   "source": [
    "print(menage_1.shape)\n",
    "print(menage_0.shape)"
   ]
  },
  {
   "cell_type": "code",
   "execution_count": 31,
   "metadata": {
    "collapsed": true
   },
   "outputs": [],
   "source": [
    "opinion_menage = pd.merge(menage_0, menage_1, on = [\"année\",\"mois\"])"
   ]
  },
  {
   "cell_type": "code",
   "execution_count": 32,
   "metadata": {
    "collapsed": false
   },
   "outputs": [
    {
     "data": {
      "text/plain": [
       "(518, 13)"
      ]
     },
     "execution_count": 32,
     "metadata": {},
     "output_type": "execute_result"
    }
   ],
   "source": [
    "opinion_menage.shape"
   ]
  },
  {
   "cell_type": "code",
   "execution_count": 33,
   "metadata": {
    "collapsed": false
   },
   "outputs": [
    {
     "data": {
      "text/html": [
       "<div>\n",
       "<table border=\"1\" class=\"dataframe\">\n",
       "  <thead>\n",
       "    <tr style=\"text-align: right;\">\n",
       "      <th></th>\n",
       "      <th>année</th>\n",
       "      <th>mois</th>\n",
       "      <th>niveau de vie passe(amelioration moins deterioration)</th>\n",
       "      <th>niveau de vie futur(amélioration moins deterioration)</th>\n",
       "      <th>evolution future du chomage (augmentation moins diminution)</th>\n",
       "      <th>evolution des prix (augmentation moins diminution)</th>\n",
       "      <th>capacité epargne actuelle (augmentation moins diminution)</th>\n",
       "      <th>situation financiere passe (augmentation moins diminution)</th>\n",
       "      <th>situation financiere future (augmentation moins diminution)</th>\n",
       "      <th>opportunite de faire des achats importants(favorable moins favorable)</th>\n",
       "      <th>opportunite epargner(favorable moins favorable)</th>\n",
       "      <th>capacite epargne future(amélioration moins deterioration)</th>\n",
       "      <th>indicateur de confiance des menages</th>\n",
       "    </tr>\n",
       "  </thead>\n",
       "  <tbody>\n",
       "    <tr>\n",
       "      <th>0</th>\n",
       "      <td>2017</td>\n",
       "      <td>2</td>\n",
       "      <td>-49</td>\n",
       "      <td>-24</td>\n",
       "      <td>20</td>\n",
       "      <td>-46</td>\n",
       "      <td>11</td>\n",
       "      <td>-22</td>\n",
       "      <td>-6</td>\n",
       "      <td>-1</td>\n",
       "      <td>2</td>\n",
       "      <td>-2</td>\n",
       "      <td>100</td>\n",
       "    </tr>\n",
       "    <tr>\n",
       "      <th>1</th>\n",
       "      <td>2017</td>\n",
       "      <td>1</td>\n",
       "      <td>-48</td>\n",
       "      <td>-25</td>\n",
       "      <td>19</td>\n",
       "      <td>-44</td>\n",
       "      <td>8</td>\n",
       "      <td>-22</td>\n",
       "      <td>-5</td>\n",
       "      <td>-4</td>\n",
       "      <td>-1</td>\n",
       "      <td>-6</td>\n",
       "      <td>100</td>\n",
       "    </tr>\n",
       "    <tr>\n",
       "      <th>2</th>\n",
       "      <td>2016</td>\n",
       "      <td>12</td>\n",
       "      <td>-52</td>\n",
       "      <td>-24</td>\n",
       "      <td>21</td>\n",
       "      <td>-49</td>\n",
       "      <td>8</td>\n",
       "      <td>-22</td>\n",
       "      <td>-8</td>\n",
       "      <td>-3</td>\n",
       "      <td>-7</td>\n",
       "      <td>-6</td>\n",
       "      <td>99</td>\n",
       "    </tr>\n",
       "    <tr>\n",
       "      <th>3</th>\n",
       "      <td>2016</td>\n",
       "      <td>11</td>\n",
       "      <td>-49</td>\n",
       "      <td>-25</td>\n",
       "      <td>26</td>\n",
       "      <td>-51</td>\n",
       "      <td>7</td>\n",
       "      <td>-24</td>\n",
       "      <td>-8</td>\n",
       "      <td>-5</td>\n",
       "      <td>-2</td>\n",
       "      <td>-5</td>\n",
       "      <td>99</td>\n",
       "    </tr>\n",
       "    <tr>\n",
       "      <th>4</th>\n",
       "      <td>2016</td>\n",
       "      <td>10</td>\n",
       "      <td>-53</td>\n",
       "      <td>-28</td>\n",
       "      <td>38</td>\n",
       "      <td>-52</td>\n",
       "      <td>6</td>\n",
       "      <td>-23</td>\n",
       "      <td>-7</td>\n",
       "      <td>-5</td>\n",
       "      <td>-2</td>\n",
       "      <td>-7</td>\n",
       "      <td>98</td>\n",
       "    </tr>\n",
       "  </tbody>\n",
       "</table>\n",
       "</div>"
      ],
      "text/plain": [
       "   année  mois  niveau de vie passe(amelioration moins deterioration)  \\\n",
       "0   2017     2                                                -49       \n",
       "1   2017     1                                                -48       \n",
       "2   2016    12                                                -52       \n",
       "3   2016    11                                                -49       \n",
       "4   2016    10                                                -53       \n",
       "\n",
       "   niveau de vie futur(amélioration moins deterioration)  \\\n",
       "0                                                -24       \n",
       "1                                                -25       \n",
       "2                                                -24       \n",
       "3                                                -25       \n",
       "4                                                -28       \n",
       "\n",
       "   evolution future du chomage (augmentation moins diminution)  \\\n",
       "0                                                 20             \n",
       "1                                                 19             \n",
       "2                                                 21             \n",
       "3                                                 26             \n",
       "4                                                 38             \n",
       "\n",
       "   evolution des prix (augmentation moins diminution)  \\\n",
       "0                                                -46    \n",
       "1                                                -44    \n",
       "2                                                -49    \n",
       "3                                                -51    \n",
       "4                                                -52    \n",
       "\n",
       "   capacité epargne actuelle (augmentation moins diminution)  \\\n",
       "0                                                 11           \n",
       "1                                                  8           \n",
       "2                                                  8           \n",
       "3                                                  7           \n",
       "4                                                  6           \n",
       "\n",
       "   situation financiere passe (augmentation moins diminution)  \\\n",
       "0                                                -22            \n",
       "1                                                -22            \n",
       "2                                                -22            \n",
       "3                                                -24            \n",
       "4                                                -23            \n",
       "\n",
       "   situation financiere future (augmentation moins diminution)  \\\n",
       "0                                                 -6             \n",
       "1                                                 -5             \n",
       "2                                                 -8             \n",
       "3                                                 -8             \n",
       "4                                                 -7             \n",
       "\n",
       "   opportunite de faire des achats importants(favorable moins favorable)  \\\n",
       "0                                                 -1                       \n",
       "1                                                 -4                       \n",
       "2                                                 -3                       \n",
       "3                                                 -5                       \n",
       "4                                                 -5                       \n",
       "\n",
       "   opportunite epargner(favorable moins favorable)  \\\n",
       "0                                                2   \n",
       "1                                               -1   \n",
       "2                                               -7   \n",
       "3                                               -2   \n",
       "4                                               -2   \n",
       "\n",
       "   capacite epargne future(amélioration moins deterioration)  \\\n",
       "0                                                 -2           \n",
       "1                                                 -6           \n",
       "2                                                 -6           \n",
       "3                                                 -5           \n",
       "4                                                 -7           \n",
       "\n",
       "   indicateur de confiance des menages  \n",
       "0                                  100  \n",
       "1                                  100  \n",
       "2                                   99  \n",
       "3                                   99  \n",
       "4                                   98  "
      ]
     },
     "execution_count": 33,
     "metadata": {},
     "output_type": "execute_result"
    }
   ],
   "source": [
    "opinion_menage.head()"
   ]
  },
  {
   "cell_type": "code",
   "execution_count": 59,
   "metadata": {
    "collapsed": false
   },
   "outputs": [
    {
     "data": {
      "text/plain": [
       "Index(['année', 'mois',\n",
       "       'niveau de vie passe(amelioration moins deterioration)',\n",
       "       'niveau de vie futur(amélioration moins deterioration)',\n",
       "       'evolution future du chomage (augmentation moins diminution)',\n",
       "       'evolution des prix (augmentation moins diminution)',\n",
       "       'capacité epargne actuelle (augmentation moins diminution)',\n",
       "       'situation financiere passe (augmentation moins diminution)',\n",
       "       'situation financiere future (augmentation moins diminution)',\n",
       "       'opportunite de faire des achats importants(favorable moins favorable)',\n",
       "       'opportunite epargner(favorable moins favorable)',\n",
       "       'capacite epargne future(amélioration moins deterioration)',\n",
       "       'indicateur de confiance des menages'],\n",
       "      dtype='object')"
      ]
     },
     "execution_count": 59,
     "metadata": {},
     "output_type": "execute_result"
    }
   ],
   "source": [
    "opinion_menage.columns"
   ]
  },
  {
   "cell_type": "markdown",
   "metadata": {},
   "source": [
    "## Table par trimestre "
   ]
  },
  {
   "cell_type": "code",
   "execution_count": 40,
   "metadata": {
    "collapsed": false
   },
   "outputs": [],
   "source": [
    "pib = pd.read_csv(\"pib.csv\",sep=\";\")\n",
    "import_pib = pd.read_csv(\"import_pib.csv\",sep=\",\")\n",
    "emploi = pd.read_csv(\"emploi_par_secteur.csv\",sep=\";\")"
   ]
  },
  {
   "cell_type": "code",
   "execution_count": 41,
   "metadata": {
    "collapsed": false
   },
   "outputs": [
    {
     "data": {
      "text/html": [
       "<div>\n",
       "<table border=\"1\" class=\"dataframe\">\n",
       "  <thead>\n",
       "    <tr style=\"text-align: right;\">\n",
       "      <th></th>\n",
       "      <th>Ann?e</th>\n",
       "      <th>Trimestre</th>\n",
       "      <th>D?penses de consommation Total - Contribution ? l'?volution du PIB - Volume aux prix de l'ann?e pr?c?dente cha?n?s - S?rie CVS-CJO</th>\n",
       "      <th>Exportations - Contribution ? l'?volution du PIB - Volume aux prix de l'ann?e pr?c?dente cha?n?s - S?rie CVS-CJO</th>\n",
       "      <th>Importations - Contribution ? l'?volution du PIB - Volume aux prix de l'ann?e pr?c?dente cha?n?s - S?rie CVS-CJO</th>\n",
       "      <th>Solde ext?rieur - Contribution ? l'?volution du PIB - Volume aux prix de l'ann?e pr?c?dente cha?n?s - S?rie CVS-CJO</th>\n",
       "      <th>Comptes trimestriels (base 2010) - ?volution du Produit int?rieur brut total - Volume aux prix de l'ann?e pr?c?dente cha?n?s - S?rie CVS-CJO</th>\n",
       "      <th>Demande int?rieure totale finale - Volume aux prix de l'ann?e pr?c?dente cha?n?s - S?rie CVS-CJO</th>\n",
       "      <th>Exportations - Total - Volume aux prix de l'ann?e pr?c?dente cha?n?s - S?rie CVS-CJO</th>\n",
       "      <th>Importations - Total - Volume aux prix de l'ann?e pr?c?dente cha?n?s - S?rie CVS-CJO</th>\n",
       "      <th>Produit int?rieur brut total - Volume aux prix de l'ann?e pr?c?dente cha?n?s - S?rie CVS-CJO</th>\n",
       "      <th>D?penses de consommation des APU - Total - Volume aux prix de l'ann?e pr?c?dente cha?n?s - S?rie CVS-CJO</th>\n",
       "    </tr>\n",
       "  </thead>\n",
       "  <tbody>\n",
       "    <tr>\n",
       "      <th>0</th>\n",
       "      <td>2016</td>\n",
       "      <td>4</td>\n",
       "      <td>0,41</td>\n",
       "      <td>0,4</td>\n",
       "      <td>0,34</td>\n",
       "      <td>0,06</td>\n",
       "      <td>0,4</td>\n",
       "      <td>548041</td>\n",
       "      <td>163435</td>\n",
       "      <td>179778</td>\n",
       "      <td>531659</td>\n",
       "      <td>129824.0</td>\n",
       "    </tr>\n",
       "    <tr>\n",
       "      <th>1</th>\n",
       "      <td>2016</td>\n",
       "      <td>3</td>\n",
       "      <td>0,13</td>\n",
       "      <td>0,23</td>\n",
       "      <td>0,86</td>\n",
       "      <td>-0,63</td>\n",
       "      <td>0,2</td>\n",
       "      <td>546078</td>\n",
       "      <td>161306</td>\n",
       "      <td>177911</td>\n",
       "      <td>529412</td>\n",
       "      <td>129349.0</td>\n",
       "    </tr>\n",
       "    <tr>\n",
       "      <th>2</th>\n",
       "      <td>2016</td>\n",
       "      <td>2</td>\n",
       "      <td>0,14</td>\n",
       "      <td>0,01</td>\n",
       "      <td>-0,47</td>\n",
       "      <td>0,47</td>\n",
       "      <td>-0,1</td>\n",
       "      <td>541596</td>\n",
       "      <td>160059</td>\n",
       "      <td>173183</td>\n",
       "      <td>528300</td>\n",
       "      <td>128926.0</td>\n",
       "    </tr>\n",
       "    <tr>\n",
       "      <th>3</th>\n",
       "      <td>2016</td>\n",
       "      <td>1</td>\n",
       "      <td>0,8</td>\n",
       "      <td>-0,06</td>\n",
       "      <td>0,16</td>\n",
       "      <td>-0,22</td>\n",
       "      <td>0,7</td>\n",
       "      <td>544828</td>\n",
       "      <td>160027</td>\n",
       "      <td>175740</td>\n",
       "      <td>529006</td>\n",
       "      <td>128414.0</td>\n",
       "    </tr>\n",
       "    <tr>\n",
       "      <th>4</th>\n",
       "      <td>2015</td>\n",
       "      <td>4</td>\n",
       "      <td>0,06</td>\n",
       "      <td>0,15</td>\n",
       "      <td>0,76</td>\n",
       "      <td>-0,61</td>\n",
       "      <td>0,2</td>\n",
       "      <td>540196</td>\n",
       "      <td>160338</td>\n",
       "      <td>174731</td>\n",
       "      <td>525584</td>\n",
       "      <td>127913.0</td>\n",
       "    </tr>\n",
       "  </tbody>\n",
       "</table>\n",
       "</div>"
      ],
      "text/plain": [
       "   Ann?e  Trimestre  \\\n",
       "0   2016          4   \n",
       "1   2016          3   \n",
       "2   2016          2   \n",
       "3   2016          1   \n",
       "4   2015          4   \n",
       "\n",
       "  D?penses de consommation Total - Contribution ? l'?volution du PIB - Volume aux prix de l'ann?e pr?c?dente cha?n?s - S?rie CVS-CJO  \\\n",
       "0                                               0,41                                                                                   \n",
       "1                                               0,13                                                                                   \n",
       "2                                               0,14                                                                                   \n",
       "3                                                0,8                                                                                   \n",
       "4                                               0,06                                                                                   \n",
       "\n",
       "  Exportations - Contribution ? l'?volution du PIB - Volume aux prix de l'ann?e pr?c?dente cha?n?s - S?rie CVS-CJO  \\\n",
       "0                                                0,4                                                                 \n",
       "1                                               0,23                                                                 \n",
       "2                                               0,01                                                                 \n",
       "3                                              -0,06                                                                 \n",
       "4                                               0,15                                                                 \n",
       "\n",
       "  Importations - Contribution ? l'?volution du PIB - Volume aux prix de l'ann?e pr?c?dente cha?n?s - S?rie CVS-CJO  \\\n",
       "0                                               0,34                                                                 \n",
       "1                                               0,86                                                                 \n",
       "2                                              -0,47                                                                 \n",
       "3                                               0,16                                                                 \n",
       "4                                               0,76                                                                 \n",
       "\n",
       "  Solde ext?rieur - Contribution ? l'?volution du PIB - Volume aux prix de l'ann?e pr?c?dente cha?n?s - S?rie CVS-CJO  \\\n",
       "0                                               0,06                                                                    \n",
       "1                                              -0,63                                                                    \n",
       "2                                               0,47                                                                    \n",
       "3                                              -0,22                                                                    \n",
       "4                                              -0,61                                                                    \n",
       "\n",
       "  Comptes trimestriels (base 2010) - ?volution du Produit int?rieur brut total - Volume aux prix de l'ann?e pr?c?dente cha?n?s - S?rie CVS-CJO  \\\n",
       "0                                                0,4                                                                                             \n",
       "1                                                0,2                                                                                             \n",
       "2                                               -0,1                                                                                             \n",
       "3                                                0,7                                                                                             \n",
       "4                                                0,2                                                                                             \n",
       "\n",
       "   Demande int?rieure totale finale - Volume aux prix de l'ann?e pr?c?dente cha?n?s - S?rie CVS-CJO  \\\n",
       "0                                             548041                                                  \n",
       "1                                             546078                                                  \n",
       "2                                             541596                                                  \n",
       "3                                             544828                                                  \n",
       "4                                             540196                                                  \n",
       "\n",
       "   Exportations - Total - Volume aux prix de l'ann?e pr?c?dente cha?n?s - S?rie CVS-CJO  \\\n",
       "0                                             163435                                      \n",
       "1                                             161306                                      \n",
       "2                                             160059                                      \n",
       "3                                             160027                                      \n",
       "4                                             160338                                      \n",
       "\n",
       "   Importations - Total - Volume aux prix de l'ann?e pr?c?dente cha?n?s - S?rie CVS-CJO  \\\n",
       "0                                             179778                                      \n",
       "1                                             177911                                      \n",
       "2                                             173183                                      \n",
       "3                                             175740                                      \n",
       "4                                             174731                                      \n",
       "\n",
       "   Produit int?rieur brut total - Volume aux prix de l'ann?e pr?c?dente cha?n?s - S?rie CVS-CJO  \\\n",
       "0                                             531659                                              \n",
       "1                                             529412                                              \n",
       "2                                             528300                                              \n",
       "3                                             529006                                              \n",
       "4                                             525584                                              \n",
       "\n",
       "   D?penses de consommation des APU - Total - Volume aux prix de l'ann?e pr?c?dente cha?n?s - S?rie CVS-CJO  \n",
       "0                                           129824.0                                                         \n",
       "1                                           129349.0                                                         \n",
       "2                                           128926.0                                                         \n",
       "3                                           128414.0                                                         \n",
       "4                                           127913.0                                                         "
      ]
     },
     "execution_count": 41,
     "metadata": {},
     "output_type": "execute_result"
    }
   ],
   "source": [
    "pib.head()"
   ]
  },
  {
   "cell_type": "code",
   "execution_count": 42,
   "metadata": {
    "collapsed": true
   },
   "outputs": [],
   "source": [
    "pib.columns=[\"année\",\"trimestre\",\n",
    "                  \"contribution pib-depense consommation\",\n",
    "                 \"contribution pib-exportation\",\n",
    "                  \"contribution pib-importation\",\n",
    "                 \"contribution pib-solde exterieur\",\n",
    "                 \"evolution PIB\",\n",
    "                 \"demande interieur\",\n",
    "                 \"exportations\",\n",
    "                 \"importations\",\n",
    "                  \"PIB\",\n",
    "                 \"depense consommation administration public\"\n",
    "                 ]"
   ]
  },
  {
   "cell_type": "code",
   "execution_count": 43,
   "metadata": {
    "collapsed": false
   },
   "outputs": [
    {
     "name": "stdout",
     "output_type": "stream",
     "text": [
      "1949\n"
     ]
    }
   ],
   "source": [
    "print(min(pib[\"année\"]))"
   ]
  },
  {
   "cell_type": "code",
   "execution_count": 44,
   "metadata": {
    "collapsed": false
   },
   "outputs": [
    {
     "data": {
      "text/html": [
       "<div>\n",
       "<table border=\"1\" class=\"dataframe\">\n",
       "  <thead>\n",
       "    <tr style=\"text-align: right;\">\n",
       "      <th></th>\n",
       "      <th>Année</th>\n",
       "      <th>Trimestre</th>\n",
       "      <th>Impôts sur importations - Total - Valeur aux prix courants - Série CVS-CJO</th>\n",
       "      <th>Autres impôts sur les produits - Total - Valeur aux prix courants - Série CVS-CJO</th>\n",
       "      <th>Subventions - Total - Valeur aux prix courants - Série CVS-CJO</th>\n",
       "      <th>Masse salariale versée - Total branches - Valeur aux prix courants - Série CVS</th>\n",
       "      <th>Cotisations sociales employeurs versées - Total branches - Valeur aux prix courants - Série CVS</th>\n",
       "      <th>Cotisations sociales imputées - Total branches - Valeur aux prix courants - Série CVS</th>\n",
       "      <th>Impôts sur la main d'oeuvre versés - Total branches - Valeur aux prix courants - Série CVS</th>\n",
       "      <th>Autres impôts divers sur la production versés - Total branches - Valeur aux prix courants - Série CVS</th>\n",
       "      <th>Subventions d'exploitation - Total branches - Valeur aux prix courants - Série CVS</th>\n",
       "      <th>Produit intérieur brut total - Valeur aux prix courants - Série CVS-CJO</th>\n",
       "      <th>TVA - Total - Valeur aux prix courants - Série CVS-CJO</th>\n",
       "    </tr>\n",
       "  </thead>\n",
       "  <tbody>\n",
       "    <tr>\n",
       "      <th>0</th>\n",
       "      <td>2016</td>\n",
       "      <td>4</td>\n",
       "      <td>655</td>\n",
       "      <td>25329</td>\n",
       "      <td>-4903</td>\n",
       "      <td>213246</td>\n",
       "      <td>64916</td>\n",
       "      <td>14279</td>\n",
       "      <td>NaN</td>\n",
       "      <td>NaN</td>\n",
       "      <td>-11878</td>\n",
       "      <td>559532</td>\n",
       "      <td>38737</td>\n",
       "    </tr>\n",
       "    <tr>\n",
       "      <th>1</th>\n",
       "      <td>2016</td>\n",
       "      <td>3</td>\n",
       "      <td>650</td>\n",
       "      <td>25275</td>\n",
       "      <td>-4900</td>\n",
       "      <td>211979</td>\n",
       "      <td>64492</td>\n",
       "      <td>14199</td>\n",
       "      <td>8768.0</td>\n",
       "      <td>16446.0</td>\n",
       "      <td>-11776</td>\n",
       "      <td>555782</td>\n",
       "      <td>38281</td>\n",
       "    </tr>\n",
       "    <tr>\n",
       "      <th>2</th>\n",
       "      <td>2016</td>\n",
       "      <td>2</td>\n",
       "      <td>650</td>\n",
       "      <td>25108</td>\n",
       "      <td>-4880</td>\n",
       "      <td>210838</td>\n",
       "      <td>64159</td>\n",
       "      <td>14126</td>\n",
       "      <td>8758.0</td>\n",
       "      <td>16367.0</td>\n",
       "      <td>-11628</td>\n",
       "      <td>553573</td>\n",
       "      <td>38318</td>\n",
       "    </tr>\n",
       "    <tr>\n",
       "      <th>3</th>\n",
       "      <td>2016</td>\n",
       "      <td>1</td>\n",
       "      <td>654</td>\n",
       "      <td>24953</td>\n",
       "      <td>-4842</td>\n",
       "      <td>210053</td>\n",
       "      <td>64422</td>\n",
       "      <td>14063</td>\n",
       "      <td>8700.0</td>\n",
       "      <td>16470.0</td>\n",
       "      <td>-11432</td>\n",
       "      <td>554860</td>\n",
       "      <td>38284</td>\n",
       "    </tr>\n",
       "    <tr>\n",
       "      <th>4</th>\n",
       "      <td>2015</td>\n",
       "      <td>4</td>\n",
       "      <td>667</td>\n",
       "      <td>24508</td>\n",
       "      <td>-4790</td>\n",
       "      <td>208564</td>\n",
       "      <td>63760</td>\n",
       "      <td>14049</td>\n",
       "      <td>8819.0</td>\n",
       "      <td>16215.0</td>\n",
       "      <td>-11198</td>\n",
       "      <td>549298</td>\n",
       "      <td>37960</td>\n",
       "    </tr>\n",
       "  </tbody>\n",
       "</table>\n",
       "</div>"
      ],
      "text/plain": [
       "   Année  Trimestre  \\\n",
       "0   2016          4   \n",
       "1   2016          3   \n",
       "2   2016          2   \n",
       "3   2016          1   \n",
       "4   2015          4   \n",
       "\n",
       "   Impôts sur importations - Total - Valeur aux prix courants - Série CVS-CJO  \\\n",
       "0                                                655                            \n",
       "1                                                650                            \n",
       "2                                                650                            \n",
       "3                                                654                            \n",
       "4                                                667                            \n",
       "\n",
       "   Autres impôts sur les produits - Total - Valeur aux prix courants - Série CVS-CJO  \\\n",
       "0                                              25329                                   \n",
       "1                                              25275                                   \n",
       "2                                              25108                                   \n",
       "3                                              24953                                   \n",
       "4                                              24508                                   \n",
       "\n",
       "   Subventions - Total - Valeur aux prix courants - Série CVS-CJO  \\\n",
       "0                                              -4903                \n",
       "1                                              -4900                \n",
       "2                                              -4880                \n",
       "3                                              -4842                \n",
       "4                                              -4790                \n",
       "\n",
       "   Masse salariale versée - Total branches - Valeur aux prix courants - Série CVS  \\\n",
       "0                                             213246                                \n",
       "1                                             211979                                \n",
       "2                                             210838                                \n",
       "3                                             210053                                \n",
       "4                                             208564                                \n",
       "\n",
       "   Cotisations sociales employeurs versées - Total branches - Valeur aux prix courants - Série CVS  \\\n",
       "0                                              64916                                                 \n",
       "1                                              64492                                                 \n",
       "2                                              64159                                                 \n",
       "3                                              64422                                                 \n",
       "4                                              63760                                                 \n",
       "\n",
       "   Cotisations sociales imputées - Total branches - Valeur aux prix courants - Série CVS  \\\n",
       "0                                              14279                                       \n",
       "1                                              14199                                       \n",
       "2                                              14126                                       \n",
       "3                                              14063                                       \n",
       "4                                              14049                                       \n",
       "\n",
       "   Impôts sur la main d'oeuvre versés - Total branches - Valeur aux prix courants - Série CVS  \\\n",
       "0                                                NaN                                            \n",
       "1                                             8768.0                                            \n",
       "2                                             8758.0                                            \n",
       "3                                             8700.0                                            \n",
       "4                                             8819.0                                            \n",
       "\n",
       "   Autres impôts divers sur la production versés - Total branches - Valeur aux prix courants - Série CVS  \\\n",
       "0                                                NaN                                                       \n",
       "1                                            16446.0                                                       \n",
       "2                                            16367.0                                                       \n",
       "3                                            16470.0                                                       \n",
       "4                                            16215.0                                                       \n",
       "\n",
       "   Subventions d'exploitation - Total branches - Valeur aux prix courants - Série CVS  \\\n",
       "0                                             -11878                                    \n",
       "1                                             -11776                                    \n",
       "2                                             -11628                                    \n",
       "3                                             -11432                                    \n",
       "4                                             -11198                                    \n",
       "\n",
       "   Produit intérieur brut total - Valeur aux prix courants - Série CVS-CJO  \\\n",
       "0                                             559532                         \n",
       "1                                             555782                         \n",
       "2                                             553573                         \n",
       "3                                             554860                         \n",
       "4                                             549298                         \n",
       "\n",
       "   TVA - Total - Valeur aux prix courants - Série CVS-CJO  \n",
       "0                                              38737       \n",
       "1                                              38281       \n",
       "2                                              38318       \n",
       "3                                              38284       \n",
       "4                                              37960       "
      ]
     },
     "execution_count": 44,
     "metadata": {},
     "output_type": "execute_result"
    }
   ],
   "source": [
    "import_pib.head()"
   ]
  },
  {
   "cell_type": "code",
   "execution_count": 47,
   "metadata": {
    "collapsed": true
   },
   "outputs": [],
   "source": [
    "import_pib.columns=[\"année\",\"trimestre\",\n",
    "                  \"impots sur importations \",\n",
    "                 \"autres impots sur les produits \",\n",
    "                  \"subventions\",\n",
    "                 \"masse salariale versee\",\n",
    "                 \"cotisations sociales employeurs versees\",\n",
    "                \"cotisations sociales imputees\",\n",
    "                 \"impots sur la main d'oeuvre verses\",\n",
    "                \"autres impots divers sur la production verses\",\n",
    "                 \"Subventions d'exploitation\",\n",
    "                \"PIB\",\n",
    "                \"TVA\"\n",
    "                 ]"
   ]
  },
  {
   "cell_type": "code",
   "execution_count": 48,
   "metadata": {
    "collapsed": true
   },
   "outputs": [],
   "source": [
    "del import_pib[\"PIB\"]"
   ]
  },
  {
   "cell_type": "code",
   "execution_count": 49,
   "metadata": {
    "collapsed": false
   },
   "outputs": [
    {
     "name": "stdout",
     "output_type": "stream",
     "text": [
      "(172, 12)\n",
      "(172, 12)\n"
     ]
    }
   ],
   "source": [
    "import_pib = import_pib[import_pib[\"année\"]>1973]\n",
    "pib = pib[pib[\"année\"]>1973]\n",
    "print(import_pib.shape)\n",
    "print(pib.shape)"
   ]
  },
  {
   "cell_type": "code",
   "execution_count": 50,
   "metadata": {
    "collapsed": false
   },
   "outputs": [
    {
     "data": {
      "text/html": [
       "<div>\n",
       "<table border=\"1\" class=\"dataframe\">\n",
       "  <thead>\n",
       "    <tr style=\"text-align: right;\">\n",
       "      <th></th>\n",
       "      <th>Ann?e</th>\n",
       "      <th>Trimestre</th>\n",
       "      <th>Emplois salari?s Industrie</th>\n",
       "      <th>Emplois salari?s Construction</th>\n",
       "      <th>Emplois salari?s tertiaire marchand</th>\n",
       "      <th>Emplois salari?s - Secteurs principalement marchands</th>\n",
       "    </tr>\n",
       "  </thead>\n",
       "  <tbody>\n",
       "    <tr>\n",
       "      <th>0</th>\n",
       "      <td>2016</td>\n",
       "      <td>4</td>\n",
       "      <td>3103,9</td>\n",
       "      <td>1305,9</td>\n",
       "      <td>11765,2</td>\n",
       "      <td>16174,9</td>\n",
       "    </tr>\n",
       "    <tr>\n",
       "      <th>1</th>\n",
       "      <td>2016</td>\n",
       "      <td>3</td>\n",
       "      <td>3109,4</td>\n",
       "      <td>1308</td>\n",
       "      <td>11693,1</td>\n",
       "      <td>16110,5</td>\n",
       "    </tr>\n",
       "    <tr>\n",
       "      <th>2</th>\n",
       "      <td>2016</td>\n",
       "      <td>2</td>\n",
       "      <td>3114,6</td>\n",
       "      <td>1310,7</td>\n",
       "      <td>11634,8</td>\n",
       "      <td>16060,1</td>\n",
       "    </tr>\n",
       "    <tr>\n",
       "      <th>3</th>\n",
       "      <td>2016</td>\n",
       "      <td>1</td>\n",
       "      <td>3122,4</td>\n",
       "      <td>1313</td>\n",
       "      <td>11594,5</td>\n",
       "      <td>16029,9</td>\n",
       "    </tr>\n",
       "    <tr>\n",
       "      <th>4</th>\n",
       "      <td>2015</td>\n",
       "      <td>4</td>\n",
       "      <td>3128,8</td>\n",
       "      <td>1316,7</td>\n",
       "      <td>11542,2</td>\n",
       "      <td>15987,7</td>\n",
       "    </tr>\n",
       "  </tbody>\n",
       "</table>\n",
       "</div>"
      ],
      "text/plain": [
       "   Ann?e  Trimestre Emplois salari?s Industrie Emplois salari?s Construction   \\\n",
       "0   2016          4                     3103,9                         1305,9   \n",
       "1   2016          3                     3109,4                           1308   \n",
       "2   2016          2                     3114,6                         1310,7   \n",
       "3   2016          1                     3122,4                           1313   \n",
       "4   2015          4                     3128,8                         1316,7   \n",
       "\n",
       "  Emplois salari?s tertiaire marchand   \\\n",
       "0                              11765,2   \n",
       "1                              11693,1   \n",
       "2                              11634,8   \n",
       "3                              11594,5   \n",
       "4                              11542,2   \n",
       "\n",
       "  Emplois salari?s - Secteurs principalement marchands   \n",
       "0                                            16174,9     \n",
       "1                                            16110,5     \n",
       "2                                            16060,1     \n",
       "3                                            16029,9     \n",
       "4                                            15987,7     "
      ]
     },
     "execution_count": 50,
     "metadata": {},
     "output_type": "execute_result"
    }
   ],
   "source": [
    "emploi.head()"
   ]
  },
  {
   "cell_type": "code",
   "execution_count": 51,
   "metadata": {
    "collapsed": true
   },
   "outputs": [],
   "source": [
    "emploi.columns=[\"année\",\"trimestre\",\n",
    "                 \"emplois dans industrie\",\n",
    "                 \"emplois dans construction\",\n",
    "              \"emplois dans tertiaire marchand\",\n",
    "              \"emplois dans principalement marchands\"\n",
    "                 ]"
   ]
  },
  {
   "cell_type": "code",
   "execution_count": 52,
   "metadata": {
    "collapsed": false
   },
   "outputs": [
    {
     "name": "stdout",
     "output_type": "stream",
     "text": [
      "1970\n"
     ]
    }
   ],
   "source": [
    "print(min(emploi[\"année\"]))"
   ]
  },
  {
   "cell_type": "code",
   "execution_count": 53,
   "metadata": {
    "collapsed": true
   },
   "outputs": [],
   "source": [
    "emploi = emploi[emploi[\"année\"]>1973]"
   ]
  },
  {
   "cell_type": "code",
   "execution_count": 54,
   "metadata": {
    "collapsed": false
   },
   "outputs": [
    {
     "data": {
      "text/plain": [
       "(172, 6)"
      ]
     },
     "execution_count": 54,
     "metadata": {},
     "output_type": "execute_result"
    }
   ],
   "source": [
    "emploi.shape"
   ]
  },
  {
   "cell_type": "code",
   "execution_count": 55,
   "metadata": {
    "collapsed": true
   },
   "outputs": [],
   "source": [
    "pib_impot_emploi = pd.merge(pib, import_pib, on = [\"année\",\"trimestre\"])\n",
    "pib_impot_emploi = pd.merge(pib_impot_emploi, emploi, on = [\"année\",\"trimestre\"])"
   ]
  },
  {
   "cell_type": "code",
   "execution_count": 56,
   "metadata": {
    "collapsed": false
   },
   "outputs": [
    {
     "data": {
      "text/plain": [
       "(172, 26)"
      ]
     },
     "execution_count": 56,
     "metadata": {},
     "output_type": "execute_result"
    }
   ],
   "source": [
    "pib_impot_emploi.shape"
   ]
  },
  {
   "cell_type": "code",
   "execution_count": 58,
   "metadata": {
    "collapsed": false
   },
   "outputs": [
    {
     "data": {
      "text/plain": [
       "Index(['année', 'trimestre', 'contribution pib-depense consommation',\n",
       "       'contribution pib-exportation', 'contribution pib-importation',\n",
       "       'contribution pib-solde exterieur', 'evolution PIB',\n",
       "       'demande interieur', 'exportations', 'importations', 'PIB',\n",
       "       'depense consommation administration public',\n",
       "       'impots sur importations ', 'autres impots sur les produits ',\n",
       "       'subventions', 'masse salariale versee',\n",
       "       'cotisations sociales employeurs versees',\n",
       "       'cotisations sociales imputees', 'impots sur la main d'oeuvre verses',\n",
       "       'autres impots divers sur la production verses',\n",
       "       'Subventions d'exploitation', 'TVA', 'emplois dans industrie',\n",
       "       'emplois dans construction', 'emplois dans tertiaire marchand',\n",
       "       'emplois dans principalement marchands'],\n",
       "      dtype='object')"
      ]
     },
     "execution_count": 58,
     "metadata": {},
     "output_type": "execute_result"
    }
   ],
   "source": [
    "pib_impot_emploi.columns"
   ]
  },
  {
   "cell_type": "code",
   "execution_count": 71,
   "metadata": {
    "collapsed": true
   },
   "outputs": [],
   "source": [
    "travaux = pd.read_csv(\"conjoncture_travaux.csv\",sep=\",\")"
   ]
  },
  {
   "cell_type": "code",
   "execution_count": 72,
   "metadata": {
    "collapsed": false
   },
   "outputs": [
    {
     "data": {
      "text/html": [
       "<div>\n",
       "<table border=\"1\" class=\"dataframe\">\n",
       "  <thead>\n",
       "    <tr style=\"text-align: right;\">\n",
       "      <th></th>\n",
       "      <th>Ann?e</th>\n",
       "      <th>Trimestre</th>\n",
       "      <th>Enqu?te de conjoncture dans les travaux publics - Opinions sur le carnet de commandes - S?rie CVS</th>\n",
       "      <th>Enqu?te de conjoncture dans les travaux publics - Opinions sur le carnet de commandes</th>\n",
       "      <th>client?le priv?e - S?rie CVS</th>\n",
       "      <th>Enqu?te de conjoncture dans les travaux publics - Opinions sur le carnet de commandes.1</th>\n",
       "      <th>client?le publique - S?rie CVS</th>\n",
       "    </tr>\n",
       "  </thead>\n",
       "  <tbody>\n",
       "    <tr>\n",
       "      <th>0</th>\n",
       "      <td>2017</td>\n",
       "      <td>1</td>\n",
       "      <td>-25</td>\n",
       "      <td>-20</td>\n",
       "      <td>-32</td>\n",
       "      <td>NaN</td>\n",
       "      <td>NaN</td>\n",
       "    </tr>\n",
       "    <tr>\n",
       "      <th>1</th>\n",
       "      <td>2016</td>\n",
       "      <td>4</td>\n",
       "      <td>-32</td>\n",
       "      <td>-17</td>\n",
       "      <td>-40</td>\n",
       "      <td>NaN</td>\n",
       "      <td>NaN</td>\n",
       "    </tr>\n",
       "    <tr>\n",
       "      <th>2</th>\n",
       "      <td>2016</td>\n",
       "      <td>3</td>\n",
       "      <td>-41</td>\n",
       "      <td>-27</td>\n",
       "      <td>-51</td>\n",
       "      <td>NaN</td>\n",
       "      <td>NaN</td>\n",
       "    </tr>\n",
       "    <tr>\n",
       "      <th>3</th>\n",
       "      <td>2016</td>\n",
       "      <td>2</td>\n",
       "      <td>-57</td>\n",
       "      <td>-47</td>\n",
       "      <td>-65</td>\n",
       "      <td>NaN</td>\n",
       "      <td>NaN</td>\n",
       "    </tr>\n",
       "    <tr>\n",
       "      <th>4</th>\n",
       "      <td>2016</td>\n",
       "      <td>1</td>\n",
       "      <td>-57</td>\n",
       "      <td>-38</td>\n",
       "      <td>-65</td>\n",
       "      <td>NaN</td>\n",
       "      <td>NaN</td>\n",
       "    </tr>\n",
       "  </tbody>\n",
       "</table>\n",
       "</div>"
      ],
      "text/plain": [
       "   Ann?e  Trimestre  \\\n",
       "0   2017          1   \n",
       "1   2016          4   \n",
       "2   2016          3   \n",
       "3   2016          2   \n",
       "4   2016          1   \n",
       "\n",
       "   Enqu?te de conjoncture dans les travaux publics - Opinions sur le carnet de commandes - S?rie CVS  \\\n",
       "0                                                -25                                                   \n",
       "1                                                -32                                                   \n",
       "2                                                -41                                                   \n",
       "3                                                -57                                                   \n",
       "4                                                -57                                                   \n",
       "\n",
       "   Enqu?te de conjoncture dans les travaux publics - Opinions sur le carnet de commandes  \\\n",
       "0                                                -20                                       \n",
       "1                                                -17                                       \n",
       "2                                                -27                                       \n",
       "3                                                -47                                       \n",
       "4                                                -38                                       \n",
       "\n",
       "    client?le priv?e - S?rie CVS  \\\n",
       "0                            -32   \n",
       "1                            -40   \n",
       "2                            -51   \n",
       "3                            -65   \n",
       "4                            -65   \n",
       "\n",
       "   Enqu?te de conjoncture dans les travaux publics - Opinions sur le carnet de commandes.1  \\\n",
       "0                                                NaN                                         \n",
       "1                                                NaN                                         \n",
       "2                                                NaN                                         \n",
       "3                                                NaN                                         \n",
       "4                                                NaN                                         \n",
       "\n",
       "    client?le publique - S?rie CVS  \n",
       "0                              NaN  \n",
       "1                              NaN  \n",
       "2                              NaN  \n",
       "3                              NaN  \n",
       "4                              NaN  "
      ]
     },
     "execution_count": 72,
     "metadata": {},
     "output_type": "execute_result"
    }
   ],
   "source": [
    "travaux.head()"
   ]
  },
  {
   "cell_type": "code",
   "execution_count": 73,
   "metadata": {
    "collapsed": false
   },
   "outputs": [
    {
     "name": "stdout",
     "output_type": "stream",
     "text": [
      "1974\n"
     ]
    }
   ],
   "source": [
    "print(min(travaux[\"Ann?e\"]))"
   ]
  },
  {
   "cell_type": "code",
   "execution_count": 74,
   "metadata": {
    "collapsed": false
   },
   "outputs": [
    {
     "data": {
      "text/plain": [
       "(173, 7)"
      ]
     },
     "execution_count": 74,
     "metadata": {},
     "output_type": "execute_result"
    }
   ],
   "source": [
    "travaux.shape"
   ]
  },
  {
   "cell_type": "code",
   "execution_count": 75,
   "metadata": {
    "collapsed": false
   },
   "outputs": [
    {
     "data": {
      "text/plain": [
       "Index(['Ann?e', 'Trimestre',\n",
       "       'Enqu?te de conjoncture dans les travaux publics - Opinions sur le carnet de commandes - S?rie CVS',\n",
       "       'Enqu?te de conjoncture dans les travaux publics - Opinions sur le carnet de commandes',\n",
       "       ' client?le priv?e - S?rie CVS',\n",
       "       'Enqu?te de conjoncture dans les travaux publics - Opinions sur le carnet de commandes.1',\n",
       "       ' client?le publique - S?rie CVS'],\n",
       "      dtype='object')"
      ]
     },
     "execution_count": 75,
     "metadata": {},
     "output_type": "execute_result"
    }
   ],
   "source": [
    "travaux.columns"
   ]
  },
  {
   "cell_type": "code",
   "execution_count": 76,
   "metadata": {
    "collapsed": false
   },
   "outputs": [],
   "source": [
    "del travaux[\"Enqu?te de conjoncture dans les travaux publics - Opinions sur le carnet de commandes.1\"]\n",
    "del travaux[\" client?le publique - S?rie CVS\"]"
   ]
  },
  {
   "cell_type": "code",
   "execution_count": 77,
   "metadata": {
    "collapsed": false
   },
   "outputs": [
    {
     "data": {
      "text/html": [
       "<div>\n",
       "<table border=\"1\" class=\"dataframe\">\n",
       "  <thead>\n",
       "    <tr style=\"text-align: right;\">\n",
       "      <th></th>\n",
       "      <th>Ann?e</th>\n",
       "      <th>Trimestre</th>\n",
       "      <th>Enqu?te de conjoncture dans les travaux publics - Opinions sur le carnet de commandes - S?rie CVS</th>\n",
       "      <th>Enqu?te de conjoncture dans les travaux publics - Opinions sur le carnet de commandes</th>\n",
       "      <th>client?le priv?e - S?rie CVS</th>\n",
       "    </tr>\n",
       "  </thead>\n",
       "  <tbody>\n",
       "    <tr>\n",
       "      <th>0</th>\n",
       "      <td>2017</td>\n",
       "      <td>1</td>\n",
       "      <td>-25</td>\n",
       "      <td>-20</td>\n",
       "      <td>-32</td>\n",
       "    </tr>\n",
       "    <tr>\n",
       "      <th>1</th>\n",
       "      <td>2016</td>\n",
       "      <td>4</td>\n",
       "      <td>-32</td>\n",
       "      <td>-17</td>\n",
       "      <td>-40</td>\n",
       "    </tr>\n",
       "    <tr>\n",
       "      <th>2</th>\n",
       "      <td>2016</td>\n",
       "      <td>3</td>\n",
       "      <td>-41</td>\n",
       "      <td>-27</td>\n",
       "      <td>-51</td>\n",
       "    </tr>\n",
       "    <tr>\n",
       "      <th>3</th>\n",
       "      <td>2016</td>\n",
       "      <td>2</td>\n",
       "      <td>-57</td>\n",
       "      <td>-47</td>\n",
       "      <td>-65</td>\n",
       "    </tr>\n",
       "    <tr>\n",
       "      <th>4</th>\n",
       "      <td>2016</td>\n",
       "      <td>1</td>\n",
       "      <td>-57</td>\n",
       "      <td>-38</td>\n",
       "      <td>-65</td>\n",
       "    </tr>\n",
       "  </tbody>\n",
       "</table>\n",
       "</div>"
      ],
      "text/plain": [
       "   Ann?e  Trimestre  \\\n",
       "0   2017          1   \n",
       "1   2016          4   \n",
       "2   2016          3   \n",
       "3   2016          2   \n",
       "4   2016          1   \n",
       "\n",
       "   Enqu?te de conjoncture dans les travaux publics - Opinions sur le carnet de commandes - S?rie CVS  \\\n",
       "0                                                -25                                                   \n",
       "1                                                -32                                                   \n",
       "2                                                -41                                                   \n",
       "3                                                -57                                                   \n",
       "4                                                -57                                                   \n",
       "\n",
       "   Enqu?te de conjoncture dans les travaux publics - Opinions sur le carnet de commandes  \\\n",
       "0                                                -20                                       \n",
       "1                                                -17                                       \n",
       "2                                                -27                                       \n",
       "3                                                -47                                       \n",
       "4                                                -38                                       \n",
       "\n",
       "    client?le priv?e - S?rie CVS  \n",
       "0                            -32  \n",
       "1                            -40  \n",
       "2                            -51  \n",
       "3                            -65  \n",
       "4                            -65  "
      ]
     },
     "execution_count": 77,
     "metadata": {},
     "output_type": "execute_result"
    }
   ],
   "source": [
    "travaux.head()"
   ]
  },
  {
   "cell_type": "code",
   "execution_count": 78,
   "metadata": {
    "collapsed": true
   },
   "outputs": [],
   "source": [
    "travaux.columns=[\"année\",\"trimestre\",\n",
    "                 \"conjoncture travaux publics-opinions sur le carnet de commandes\",\n",
    "                 \"del\",\n",
    "                 \"conjoncture travaux publics-opinions sur client prive\"\n",
    "                 ]"
   ]
  },
  {
   "cell_type": "code",
   "execution_count": 79,
   "metadata": {
    "collapsed": true
   },
   "outputs": [],
   "source": [
    "del travaux[\"del\"]"
   ]
  },
  {
   "cell_type": "code",
   "execution_count": 80,
   "metadata": {
    "collapsed": true
   },
   "outputs": [],
   "source": [
    "pib_impot_emploi_travaux = pd.merge(pib_impot_emploi, travaux, on = [\"année\",\"trimestre\"])"
   ]
  },
  {
   "cell_type": "code",
   "execution_count": 81,
   "metadata": {
    "collapsed": false
   },
   "outputs": [
    {
     "data": {
      "text/plain": [
       "(172, 28)"
      ]
     },
     "execution_count": 81,
     "metadata": {},
     "output_type": "execute_result"
    }
   ],
   "source": [
    "pib_impot_emploi_travaux.shape"
   ]
  },
  {
   "cell_type": "markdown",
   "metadata": {},
   "source": [
    "## Table par année"
   ]
  },
  {
   "cell_type": "code",
   "execution_count": 83,
   "metadata": {
    "collapsed": true
   },
   "outputs": [],
   "source": [
    "depense_conso_menage = pd.read_csv(\"depense_conso_menage.csv\",sep=\",\")"
   ]
  },
  {
   "cell_type": "code",
   "execution_count": 84,
   "metadata": {
    "collapsed": false
   },
   "outputs": [
    {
     "data": {
      "text/html": [
       "<div>\n",
       "<table border=\"1\" class=\"dataframe\">\n",
       "  <thead>\n",
       "    <tr style=\"text-align: right;\">\n",
       "      <th></th>\n",
       "      <th>Ann?e</th>\n",
       "      <th>Comptes nationaux annuels base 2010 - D?pense de consommation finale - M?nages hors entrepreneurs individuels - Total des produits - Prix courant</th>\n",
       "    </tr>\n",
       "  </thead>\n",
       "  <tbody>\n",
       "    <tr>\n",
       "      <th>0</th>\n",
       "      <td>2015</td>\n",
       "      <td>1155987</td>\n",
       "    </tr>\n",
       "    <tr>\n",
       "      <th>1</th>\n",
       "      <td>2014</td>\n",
       "      <td>1140872</td>\n",
       "    </tr>\n",
       "    <tr>\n",
       "      <th>2</th>\n",
       "      <td>2013</td>\n",
       "      <td>1132231</td>\n",
       "    </tr>\n",
       "    <tr>\n",
       "      <th>3</th>\n",
       "      <td>2012</td>\n",
       "      <td>1119646</td>\n",
       "    </tr>\n",
       "    <tr>\n",
       "      <th>4</th>\n",
       "      <td>2011</td>\n",
       "      <td>1106881</td>\n",
       "    </tr>\n",
       "  </tbody>\n",
       "</table>\n",
       "</div>"
      ],
      "text/plain": [
       "   Ann?e  \\\n",
       "0   2015   \n",
       "1   2014   \n",
       "2   2013   \n",
       "3   2012   \n",
       "4   2011   \n",
       "\n",
       "   Comptes nationaux annuels base 2010 - D?pense de consommation finale - M?nages hors entrepreneurs individuels - Total des produits - Prix courant  \n",
       "0                                            1155987                                                                                                  \n",
       "1                                            1140872                                                                                                  \n",
       "2                                            1132231                                                                                                  \n",
       "3                                            1119646                                                                                                  \n",
       "4                                            1106881                                                                                                  "
      ]
     },
     "execution_count": 84,
     "metadata": {},
     "output_type": "execute_result"
    }
   ],
   "source": [
    "depense_conso_menage.head()"
   ]
  },
  {
   "cell_type": "code",
   "execution_count": 85,
   "metadata": {
    "collapsed": true
   },
   "outputs": [],
   "source": [
    "depense_conso_menage.columns=[\"année\",\"depense national des menages\"]"
   ]
  },
  {
   "cell_type": "code",
   "execution_count": 86,
   "metadata": {
    "collapsed": false
   },
   "outputs": [
    {
     "data": {
      "text/html": [
       "<div>\n",
       "<table border=\"1\" class=\"dataframe\">\n",
       "  <thead>\n",
       "    <tr style=\"text-align: right;\">\n",
       "      <th></th>\n",
       "      <th>année</th>\n",
       "      <th>depense national des menages</th>\n",
       "    </tr>\n",
       "  </thead>\n",
       "  <tbody>\n",
       "    <tr>\n",
       "      <th>0</th>\n",
       "      <td>2015</td>\n",
       "      <td>1155987</td>\n",
       "    </tr>\n",
       "    <tr>\n",
       "      <th>1</th>\n",
       "      <td>2014</td>\n",
       "      <td>1140872</td>\n",
       "    </tr>\n",
       "    <tr>\n",
       "      <th>2</th>\n",
       "      <td>2013</td>\n",
       "      <td>1132231</td>\n",
       "    </tr>\n",
       "    <tr>\n",
       "      <th>3</th>\n",
       "      <td>2012</td>\n",
       "      <td>1119646</td>\n",
       "    </tr>\n",
       "    <tr>\n",
       "      <th>4</th>\n",
       "      <td>2011</td>\n",
       "      <td>1106881</td>\n",
       "    </tr>\n",
       "  </tbody>\n",
       "</table>\n",
       "</div>"
      ],
      "text/plain": [
       "   année  depense national des menages\n",
       "0   2015                       1155987\n",
       "1   2014                       1140872\n",
       "2   2013                       1132231\n",
       "3   2012                       1119646\n",
       "4   2011                       1106881"
      ]
     },
     "execution_count": 86,
     "metadata": {},
     "output_type": "execute_result"
    }
   ],
   "source": [
    "depense_conso_menage.head()"
   ]
  },
  {
   "cell_type": "code",
   "execution_count": 87,
   "metadata": {
    "collapsed": true
   },
   "outputs": [],
   "source": [
    "depense_conso_menage.to_csv(\"le rendu/depense_conso_menage.csv\")"
   ]
  },
  {
   "cell_type": "code",
   "execution_count": 88,
   "metadata": {
    "collapsed": false
   },
   "outputs": [
    {
     "name": "stdout",
     "output_type": "stream",
     "text": [
      "1949\n"
     ]
    }
   ],
   "source": [
    "print(min(depense_conso_menage[\"année\"]))"
   ]
  },
  {
   "cell_type": "code",
   "execution_count": 91,
   "metadata": {
    "collapsed": false
   },
   "outputs": [
    {
     "data": {
      "text/plain": [
       "(42, 2)"
      ]
     },
     "execution_count": 91,
     "metadata": {},
     "output_type": "execute_result"
    }
   ],
   "source": [
    "depense_conso_menage.shape"
   ]
  },
  {
   "cell_type": "code",
   "execution_count": 90,
   "metadata": {
    "collapsed": true
   },
   "outputs": [],
   "source": [
    "depense_conso_menage= depense_conso_menage[depense_conso_menage[\"année\"]>1973]\n",
    "depense_conso_menage.to_csv(\"le rendu/depense_conso_menage.csv\",index=False)"
   ]
  },
  {
   "cell_type": "code",
   "execution_count": 92,
   "metadata": {
    "collapsed": true
   },
   "outputs": [],
   "source": [
    "opinion_menage.to_csv(\"le rendu/opinion_menage.csv\",index=False)\n",
    "pib_impot_emploi_travaux.to_csv(\"le rendu/pib_impot_emploi_travaux.csv\",index=False)"
   ]
  },
  {
   "cell_type": "code",
   "execution_count": null,
   "metadata": {
    "collapsed": true
   },
   "outputs": [],
   "source": []
  }
 ],
 "metadata": {
  "anaconda-cloud": {},
  "kernelspec": {
   "display_name": "Python [Root]",
   "language": "python",
   "name": "Python [Root]"
  },
  "language_info": {
   "codemirror_mode": {
    "name": "ipython",
    "version": 3
   },
   "file_extension": ".py",
   "mimetype": "text/x-python",
   "name": "python",
   "nbconvert_exporter": "python",
   "pygments_lexer": "ipython3",
   "version": "3.5.2"
  }
 },
 "nbformat": 4,
 "nbformat_minor": 0
}
