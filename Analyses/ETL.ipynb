{
 "cells": [
  {
   "cell_type": "code",
   "execution_count": 1,
   "metadata": {
    "collapsed": true
   },
   "outputs": [],
   "source": [
    "import pandas  as pd\n",
    "import numpy as np\n",
    "import os"
   ]
  },
  {
   "cell_type": "code",
   "execution_count": 2,
   "metadata": {
    "collapsed": false
   },
   "outputs": [
    {
     "name": "stdout",
     "output_type": "stream",
     "text": [
      "Analyse corrélation et decision tree sur La Base.ipynb\r\n",
      "Analyse participation.ipynb\r\n",
      "base_test_xdroite.csv\r\n",
      "base_train_xdroite.csv\r\n",
      "\u001b[0m\u001b[01;34mcarte_export\u001b[0m/\r\n",
      "\u001b[01;34mcarte_file\u001b[0m/\r\n",
      "\u001b[01;34mChomage\u001b[0m/\r\n",
      "corr_sperman.csv\r\n",
      "decision_tree_print_2.pdf\r\n",
      "decision_tree_print.pdf\r\n",
      "decision_tree_split5.pdf\r\n",
      "ETL.ipynb\r\n",
      "features_corr_features.csv\r\n",
      "\u001b[01;34mfile_corr\u001b[0m/\r\n",
      "forward_selection.py\r\n",
      "google_trends_10_au_15_avril.xlsx\r\n",
      "google_trends_15_au_20.xlsx\r\n",
      "google_trends_16_au_21.xlsx\r\n",
      "\u001b[01;34mJointure des tables\u001b[0m/\r\n",
      "la_base_2017.csv\r\n",
      "la_base.csv\r\n",
      "la_base_notebook.ipynb\r\n",
      "\u001b[01;35mpie.png\u001b[0m\r\n",
      "ponderation_google_twitter.ipynb\r\n",
      "~$ponderation_sondage.xlsx\r\n",
      "ponderation_sondage.xlsx\r\n",
      "prediction_2017.csv\r\n",
      "prediction_2017_v2.csv\r\n",
      "prediction_2017_xdroite.csv\r\n",
      "prediction bloc.ipynb\r\n",
      "prediction.ipynb\r\n",
      "prediction xdroite.ipynb\r\n",
      "prune_tree.R\r\n",
      "\u001b[01;34m__pycache__\u001b[0m/\r\n",
      "\u001b[01;35mr_tee_prune.jpeg\u001b[0m\r\n",
      "test_classif.ipynb\r\n",
      "test_donnee_panel.R\r\n",
      "test_panel_train_test.R\r\n",
      "Untitled.ipynb\r\n"
     ]
    }
   ],
   "source": [
    "ls"
   ]
  },
  {
   "cell_type": "markdown",
   "metadata": {},
   "source": [
    "## table par année & mois"
   ]
  },
  {
   "cell_type": "code",
   "execution_count": 7,
   "metadata": {
    "collapsed": true
   },
   "outputs": [],
   "source": [
    "menage_0 = pd.read_csv(\"menage_0.csv\",sep=\";\")\n",
    "menage_1 = pd.read_csv(\"menage_1.csv\",sep=\";\")"
   ]
  },
  {
   "cell_type": "code",
   "execution_count": 8,
   "metadata": {
    "collapsed": false
   },
   "outputs": [
    {
     "data": {
      "text/html": [
       "<div>\n",
       "<table border=\"1\" class=\"dataframe\">\n",
       "  <thead>\n",
       "    <tr style=\"text-align: right;\">\n",
       "      <th></th>\n",
       "      <th>Ann?e</th>\n",
       "      <th>Mois</th>\n",
       "      <th>Enqu?te mensuelle de conjoncture aupr?s des m?nages - Opinion sur le niveau de vie pass? en France : Solde des r?ponses (am?lioration moins d?t?rioration) - Donn?es CVS</th>\n",
       "      <th>Enqu?te mensuelle de conjoncture aupr?s des m?nages - Opinion sur le niveau de vie futur en France : Solde des r?ponses (am?lioration moins d?t?rioration) - Donn?es CVS</th>\n",
       "      <th>Enqu?te mensuelle de conjoncture aupr?s des m?nages - Opinion sur l'?volution future du ch?mage : Solde des r?ponses (augmentation moins diminution) - Donn?es CVS</th>\n",
       "      <th>Enqu?te mensuelle de conjoncture aupr?s des m?nages - Opinion sur l'?volution pass?e des prix : Solde des r?ponses (augmentation moins diminution) - Donn?es CVS</th>\n",
       "      <th>Enqu?te mensuelle de conjoncture aupr?s des m?nages - Opinion sur leur capacit? d'?pargne actuelle : Solde des r?ponses (favorable moins d?favorable) - Donn?es CVS</th>\n",
       "      <th>Enqu?te mensuelle de conjoncture aupr?s des m?nages - Opinion sur leur situation financi?re pass?e : Solde des r?ponses (am?lioration moins d?t?rioration) - Donn?es CVS</th>\n",
       "      <th>Enqu?te mensuelle de conjoncture aupr?s des m?nages - Opinion sur leur situation financi?re future : Solde des r?ponses (am?lioration moins d?t?rioration) - Donn?es CVS</th>\n",
       "    </tr>\n",
       "  </thead>\n",
       "  <tbody>\n",
       "    <tr>\n",
       "      <th>0</th>\n",
       "      <td>2017</td>\n",
       "      <td>2</td>\n",
       "      <td>-49</td>\n",
       "      <td>-24</td>\n",
       "      <td>20</td>\n",
       "      <td>-46</td>\n",
       "      <td>11</td>\n",
       "      <td>-22</td>\n",
       "      <td>-6</td>\n",
       "    </tr>\n",
       "    <tr>\n",
       "      <th>1</th>\n",
       "      <td>2017</td>\n",
       "      <td>1</td>\n",
       "      <td>-48</td>\n",
       "      <td>-25</td>\n",
       "      <td>19</td>\n",
       "      <td>-44</td>\n",
       "      <td>8</td>\n",
       "      <td>-22</td>\n",
       "      <td>-5</td>\n",
       "    </tr>\n",
       "    <tr>\n",
       "      <th>2</th>\n",
       "      <td>2016</td>\n",
       "      <td>12</td>\n",
       "      <td>-52</td>\n",
       "      <td>-24</td>\n",
       "      <td>21</td>\n",
       "      <td>-49</td>\n",
       "      <td>8</td>\n",
       "      <td>-22</td>\n",
       "      <td>-8</td>\n",
       "    </tr>\n",
       "    <tr>\n",
       "      <th>3</th>\n",
       "      <td>2016</td>\n",
       "      <td>11</td>\n",
       "      <td>-49</td>\n",
       "      <td>-25</td>\n",
       "      <td>26</td>\n",
       "      <td>-51</td>\n",
       "      <td>7</td>\n",
       "      <td>-24</td>\n",
       "      <td>-8</td>\n",
       "    </tr>\n",
       "    <tr>\n",
       "      <th>4</th>\n",
       "      <td>2016</td>\n",
       "      <td>10</td>\n",
       "      <td>-53</td>\n",
       "      <td>-28</td>\n",
       "      <td>38</td>\n",
       "      <td>-52</td>\n",
       "      <td>6</td>\n",
       "      <td>-23</td>\n",
       "      <td>-7</td>\n",
       "    </tr>\n",
       "  </tbody>\n",
       "</table>\n",
       "</div>"
      ],
      "text/plain": [
       "   Ann?e  Mois  \\\n",
       "0   2017     2   \n",
       "1   2017     1   \n",
       "2   2016    12   \n",
       "3   2016    11   \n",
       "4   2016    10   \n",
       "\n",
       "   Enqu?te mensuelle de conjoncture aupr?s des m?nages - Opinion sur le niveau de vie pass? en France : Solde des r?ponses (am?lioration moins d?t?rioration) - Donn?es CVS  \\\n",
       "0                                                -49                                                                                                                          \n",
       "1                                                -48                                                                                                                          \n",
       "2                                                -52                                                                                                                          \n",
       "3                                                -49                                                                                                                          \n",
       "4                                                -53                                                                                                                          \n",
       "\n",
       "   Enqu?te mensuelle de conjoncture aupr?s des m?nages - Opinion sur le niveau de vie futur en France : Solde des r?ponses (am?lioration moins d?t?rioration) - Donn?es CVS  \\\n",
       "0                                                -24                                                                                                                          \n",
       "1                                                -25                                                                                                                          \n",
       "2                                                -24                                                                                                                          \n",
       "3                                                -25                                                                                                                          \n",
       "4                                                -28                                                                                                                          \n",
       "\n",
       "   Enqu?te mensuelle de conjoncture aupr?s des m?nages - Opinion sur l'?volution future du ch?mage : Solde des r?ponses (augmentation moins diminution) - Donn?es CVS  \\\n",
       "0                                                 20                                                                                                                    \n",
       "1                                                 19                                                                                                                    \n",
       "2                                                 21                                                                                                                    \n",
       "3                                                 26                                                                                                                    \n",
       "4                                                 38                                                                                                                    \n",
       "\n",
       "   Enqu?te mensuelle de conjoncture aupr?s des m?nages - Opinion sur l'?volution pass?e des prix : Solde des r?ponses (augmentation moins diminution) - Donn?es CVS  \\\n",
       "0                                                -46                                                                                                                  \n",
       "1                                                -44                                                                                                                  \n",
       "2                                                -49                                                                                                                  \n",
       "3                                                -51                                                                                                                  \n",
       "4                                                -52                                                                                                                  \n",
       "\n",
       "   Enqu?te mensuelle de conjoncture aupr?s des m?nages - Opinion sur leur capacit? d'?pargne actuelle : Solde des r?ponses (favorable moins d?favorable) - Donn?es CVS  \\\n",
       "0                                                 11                                                                                                                     \n",
       "1                                                  8                                                                                                                     \n",
       "2                                                  8                                                                                                                     \n",
       "3                                                  7                                                                                                                     \n",
       "4                                                  6                                                                                                                     \n",
       "\n",
       "   Enqu?te mensuelle de conjoncture aupr?s des m?nages - Opinion sur leur situation financi?re pass?e : Solde des r?ponses (am?lioration moins d?t?rioration) - Donn?es CVS  \\\n",
       "0                                                -22                                                                                                                          \n",
       "1                                                -22                                                                                                                          \n",
       "2                                                -22                                                                                                                          \n",
       "3                                                -24                                                                                                                          \n",
       "4                                                -23                                                                                                                          \n",
       "\n",
       "   Enqu?te mensuelle de conjoncture aupr?s des m?nages - Opinion sur leur situation financi?re future : Solde des r?ponses (am?lioration moins d?t?rioration) - Donn?es CVS  \n",
       "0                                                 -6                                                                                                                         \n",
       "1                                                 -5                                                                                                                         \n",
       "2                                                 -8                                                                                                                         \n",
       "3                                                 -8                                                                                                                         \n",
       "4                                                 -7                                                                                                                         "
      ]
     },
     "execution_count": 8,
     "metadata": {},
     "output_type": "execute_result"
    }
   ],
   "source": [
    "menage_0.head()"
   ]
  },
  {
   "cell_type": "code",
   "execution_count": 10,
   "metadata": {
    "collapsed": false
   },
   "outputs": [],
   "source": [
    "menage_0.columns=[\"année\",\"mois\",\n",
    "                  \"niveau de vie passe(amelioration moins deterioration)\",\n",
    "                 \"niveau de vie futur(amélioration moins deterioration)\",\n",
    "                 \"evolution future du chomage (augmentation moins diminution)\",\n",
    "                 \"evolution des prix (augmentation moins diminution)\",\n",
    "                 \"capacité epargne actuelle (augmentation moins diminution)\",\n",
    "                 \"situation financiere passe (augmentation moins diminution)\",\n",
    "                 \"situation financiere future (augmentation moins diminution)\"]"
   ]
  },
  {
   "cell_type": "code",
   "execution_count": 14,
   "metadata": {
    "collapsed": false
   },
   "outputs": [
    {
     "name": "stdout",
     "output_type": "stream",
     "text": [
      "(566, 9)\n"
     ]
    }
   ],
   "source": [
    "print(menage_0.shape)"
   ]
  },
  {
   "cell_type": "code",
   "execution_count": 15,
   "metadata": {
    "collapsed": false
   },
   "outputs": [
    {
     "data": {
      "text/html": [
       "<div>\n",
       "<table border=\"1\" class=\"dataframe\">\n",
       "  <thead>\n",
       "    <tr style=\"text-align: right;\">\n",
       "      <th></th>\n",
       "      <th>Ann?e</th>\n",
       "      <th>Mois</th>\n",
       "      <th>Enqu?te mensuelle de conjoncture aupr?s des m?nages - Opinion sur l'opportunit? de faire des achats importants : Solde des r?ponses (favorable moins d?favorable) - Donn?es CVS</th>\n",
       "      <th>Enqu?te mensuelle de conjoncture aupr?s des m?nages - Opinion sur l'opportunit? d'?pargner : Solde des r?ponses (favorable moins d?favorable) - Donn?es CVS</th>\n",
       "      <th>Enqu?te mensuelle de conjoncture aupr?s des m?nages - Opinion sur leur capacit? d'?pargne future : Solde des r?ponses (am?lioration moins d?t?rioration) - Donn?es CVS</th>\n",
       "      <th>Enqu?te mensuelle de conjoncture aupr?s des m?nages - Indicateur r?sum? de confiance des m?nages (moyenne arithm?tique d'indicateurs) - Donn?es CVS - S?rie arr?t?e</th>\n",
       "      <th>Enqu?te mensuelle de conjoncture aupr?s des m?nages - Indicateur synth?tique de confiance des m?nages (premier facteur des soldes d'opinion de l'enqu?te) - Donn?es CVS</th>\n",
       "    </tr>\n",
       "  </thead>\n",
       "  <tbody>\n",
       "    <tr>\n",
       "      <th>0</th>\n",
       "      <td>2017</td>\n",
       "      <td>2</td>\n",
       "      <td>-1</td>\n",
       "      <td>2</td>\n",
       "      <td>-2</td>\n",
       "      <td>NaN</td>\n",
       "      <td>100</td>\n",
       "    </tr>\n",
       "    <tr>\n",
       "      <th>1</th>\n",
       "      <td>2017</td>\n",
       "      <td>1</td>\n",
       "      <td>-4</td>\n",
       "      <td>-1</td>\n",
       "      <td>-6</td>\n",
       "      <td>NaN</td>\n",
       "      <td>100</td>\n",
       "    </tr>\n",
       "    <tr>\n",
       "      <th>2</th>\n",
       "      <td>2016</td>\n",
       "      <td>12</td>\n",
       "      <td>-3</td>\n",
       "      <td>-7</td>\n",
       "      <td>-6</td>\n",
       "      <td>NaN</td>\n",
       "      <td>99</td>\n",
       "    </tr>\n",
       "    <tr>\n",
       "      <th>3</th>\n",
       "      <td>2016</td>\n",
       "      <td>11</td>\n",
       "      <td>-5</td>\n",
       "      <td>-2</td>\n",
       "      <td>-5</td>\n",
       "      <td>NaN</td>\n",
       "      <td>99</td>\n",
       "    </tr>\n",
       "    <tr>\n",
       "      <th>4</th>\n",
       "      <td>2016</td>\n",
       "      <td>10</td>\n",
       "      <td>-5</td>\n",
       "      <td>-2</td>\n",
       "      <td>-7</td>\n",
       "      <td>NaN</td>\n",
       "      <td>98</td>\n",
       "    </tr>\n",
       "  </tbody>\n",
       "</table>\n",
       "</div>"
      ],
      "text/plain": [
       "   Ann?e  Mois  \\\n",
       "0   2017     2   \n",
       "1   2017     1   \n",
       "2   2016    12   \n",
       "3   2016    11   \n",
       "4   2016    10   \n",
       "\n",
       "   Enqu?te mensuelle de conjoncture aupr?s des m?nages - Opinion sur l'opportunit? de faire des achats importants : Solde des r?ponses (favorable moins d?favorable) - Donn?es CVS  \\\n",
       "0                                                 -1                                                                                                                                 \n",
       "1                                                 -4                                                                                                                                 \n",
       "2                                                 -3                                                                                                                                 \n",
       "3                                                 -5                                                                                                                                 \n",
       "4                                                 -5                                                                                                                                 \n",
       "\n",
       "   Enqu?te mensuelle de conjoncture aupr?s des m?nages - Opinion sur l'opportunit? d'?pargner : Solde des r?ponses (favorable moins d?favorable) - Donn?es CVS  \\\n",
       "0                                                  2                                                                                                             \n",
       "1                                                 -1                                                                                                             \n",
       "2                                                 -7                                                                                                             \n",
       "3                                                 -2                                                                                                             \n",
       "4                                                 -2                                                                                                             \n",
       "\n",
       "   Enqu?te mensuelle de conjoncture aupr?s des m?nages - Opinion sur leur capacit? d'?pargne future : Solde des r?ponses (am?lioration moins d?t?rioration) - Donn?es CVS  \\\n",
       "0                                                 -2                                                                                                                        \n",
       "1                                                 -6                                                                                                                        \n",
       "2                                                 -6                                                                                                                        \n",
       "3                                                 -5                                                                                                                        \n",
       "4                                                 -7                                                                                                                        \n",
       "\n",
       "   Enqu?te mensuelle de conjoncture aupr?s des m?nages - Indicateur r?sum? de confiance des m?nages (moyenne arithm?tique d'indicateurs) - Donn?es CVS - S?rie arr?t?e  \\\n",
       "0                                                NaN                                                                                                                     \n",
       "1                                                NaN                                                                                                                     \n",
       "2                                                NaN                                                                                                                     \n",
       "3                                                NaN                                                                                                                     \n",
       "4                                                NaN                                                                                                                     \n",
       "\n",
       "   Enqu?te mensuelle de conjoncture aupr?s des m?nages - Indicateur synth?tique de confiance des m?nages (premier facteur des soldes d'opinion de l'enqu?te) - Donn?es CVS  \n",
       "0                                                100                                                                                                                        \n",
       "1                                                100                                                                                                                        \n",
       "2                                                 99                                                                                                                        \n",
       "3                                                 99                                                                                                                        \n",
       "4                                                 98                                                                                                                        "
      ]
     },
     "execution_count": 15,
     "metadata": {},
     "output_type": "execute_result"
    }
   ],
   "source": [
    "menage_1.head()"
   ]
  },
  {
   "cell_type": "code",
   "execution_count": 20,
   "metadata": {
    "collapsed": false
   },
   "outputs": [],
   "source": [
    "menage_1.columns=[\"année\",\"mois\",\n",
    "                  \"opportunite de faire des achats importants(favorable moins favorable)\",\n",
    "                  \"opportunite epargner(favorable moins favorable)\",\n",
    "                  \"capacite epargne future(amélioration moins deterioration)\",\n",
    "                  \"indicateur de confiance des menages 1\",\n",
    "                  \"indicateur de confiance des menages\"\n",
    "                 ]"
   ]
  },
  {
   "cell_type": "code",
   "execution_count": 21,
   "metadata": {
    "collapsed": false
   },
   "outputs": [],
   "source": [
    "del menage_1[\"indicateur de confiance des menages 1\"]"
   ]
  },
  {
   "cell_type": "code",
   "execution_count": 22,
   "metadata": {
    "collapsed": false
   },
   "outputs": [
    {
     "data": {
      "text/plain": [
       "(533, 6)"
      ]
     },
     "execution_count": 22,
     "metadata": {},
     "output_type": "execute_result"
    }
   ],
   "source": [
    "menage_1.shape"
   ]
  },
  {
   "cell_type": "code",
   "execution_count": 24,
   "metadata": {
    "collapsed": false
   },
   "outputs": [
    {
     "name": "stdout",
     "output_type": "stream",
     "text": [
      "1972\n",
      "1970\n"
     ]
    }
   ],
   "source": [
    "print(min(menage_1[\"année\"]))\n",
    "print(min(menage_0[\"année\"]))"
   ]
  },
  {
   "cell_type": "code",
   "execution_count": 28,
   "metadata": {
    "collapsed": false
   },
   "outputs": [
    {
     "data": {
      "text/plain": [
       "année                                                                    int64\n",
       "mois                                                                     int64\n",
       "opportunite de faire des achats importants(favorable moins favorable)    int64\n",
       "opportunite epargner(favorable moins favorable)                          int64\n",
       "capacite epargne future(amélioration moins deterioration)                int64\n",
       "indicateur de confiance des menages                                      int64\n",
       "dtype: object"
      ]
     },
     "execution_count": 28,
     "metadata": {},
     "output_type": "execute_result"
    }
   ],
   "source": [
    "menage_1.dtypes"
   ]
  },
  {
   "cell_type": "code",
   "execution_count": 29,
   "metadata": {
    "collapsed": true
   },
   "outputs": [],
   "source": [
    "# On garde que à partir 1974 précèdente elections si on souhaite faire des variations\n",
    "menage_1 = menage_1[menage_1[\"année\"]>1973]\n",
    "menage_0 = menage_0[menage_0[\"année\"]>1973]"
   ]
  },
  {
   "cell_type": "code",
   "execution_count": 30,
   "metadata": {
    "collapsed": false
   },
   "outputs": [
    {
     "name": "stdout",
     "output_type": "stream",
     "text": [
      "(518, 6)\n",
      "(518, 9)\n"
     ]
    }
   ],
   "source": [
    "print(menage_1.shape)\n",
    "print(menage_0.shape)"
   ]
  },
  {
   "cell_type": "code",
   "execution_count": 31,
   "metadata": {
    "collapsed": true
   },
   "outputs": [],
   "source": [
    "opinion_menage = pd.merge(menage_0, menage_1, on = [\"année\",\"mois\"])"
   ]
  },
  {
   "cell_type": "code",
   "execution_count": 32,
   "metadata": {
    "collapsed": false
   },
   "outputs": [
    {
     "data": {
      "text/plain": [
       "(518, 13)"
      ]
     },
     "execution_count": 32,
     "metadata": {},
     "output_type": "execute_result"
    }
   ],
   "source": [
    "opinion_menage.shape"
   ]
  },
  {
   "cell_type": "code",
   "execution_count": 33,
   "metadata": {
    "collapsed": false
   },
   "outputs": [
    {
     "data": {
      "text/html": [
       "<div>\n",
       "<table border=\"1\" class=\"dataframe\">\n",
       "  <thead>\n",
       "    <tr style=\"text-align: right;\">\n",
       "      <th></th>\n",
       "      <th>année</th>\n",
       "      <th>mois</th>\n",
       "      <th>niveau de vie passe(amelioration moins deterioration)</th>\n",
       "      <th>niveau de vie futur(amélioration moins deterioration)</th>\n",
       "      <th>evolution future du chomage (augmentation moins diminution)</th>\n",
       "      <th>evolution des prix (augmentation moins diminution)</th>\n",
       "      <th>capacité epargne actuelle (augmentation moins diminution)</th>\n",
       "      <th>situation financiere passe (augmentation moins diminution)</th>\n",
       "      <th>situation financiere future (augmentation moins diminution)</th>\n",
       "      <th>opportunite de faire des achats importants(favorable moins favorable)</th>\n",
       "      <th>opportunite epargner(favorable moins favorable)</th>\n",
       "      <th>capacite epargne future(amélioration moins deterioration)</th>\n",
       "      <th>indicateur de confiance des menages</th>\n",
       "    </tr>\n",
       "  </thead>\n",
       "  <tbody>\n",
       "    <tr>\n",
       "      <th>0</th>\n",
       "      <td>2017</td>\n",
       "      <td>2</td>\n",
       "      <td>-49</td>\n",
       "      <td>-24</td>\n",
       "      <td>20</td>\n",
       "      <td>-46</td>\n",
       "      <td>11</td>\n",
       "      <td>-22</td>\n",
       "      <td>-6</td>\n",
       "      <td>-1</td>\n",
       "      <td>2</td>\n",
       "      <td>-2</td>\n",
       "      <td>100</td>\n",
       "    </tr>\n",
       "    <tr>\n",
       "      <th>1</th>\n",
       "      <td>2017</td>\n",
       "      <td>1</td>\n",
       "      <td>-48</td>\n",
       "      <td>-25</td>\n",
       "      <td>19</td>\n",
       "      <td>-44</td>\n",
       "      <td>8</td>\n",
       "      <td>-22</td>\n",
       "      <td>-5</td>\n",
       "      <td>-4</td>\n",
       "      <td>-1</td>\n",
       "      <td>-6</td>\n",
       "      <td>100</td>\n",
       "    </tr>\n",
       "    <tr>\n",
       "      <th>2</th>\n",
       "      <td>2016</td>\n",
       "      <td>12</td>\n",
       "      <td>-52</td>\n",
       "      <td>-24</td>\n",
       "      <td>21</td>\n",
       "      <td>-49</td>\n",
       "      <td>8</td>\n",
       "      <td>-22</td>\n",
       "      <td>-8</td>\n",
       "      <td>-3</td>\n",
       "      <td>-7</td>\n",
       "      <td>-6</td>\n",
       "      <td>99</td>\n",
       "    </tr>\n",
       "    <tr>\n",
       "      <th>3</th>\n",
       "      <td>2016</td>\n",
       "      <td>11</td>\n",
       "      <td>-49</td>\n",
       "      <td>-25</td>\n",
       "      <td>26</td>\n",
       "      <td>-51</td>\n",
       "      <td>7</td>\n",
       "      <td>-24</td>\n",
       "      <td>-8</td>\n",
       "      <td>-5</td>\n",
       "      <td>-2</td>\n",
       "      <td>-5</td>\n",
       "      <td>99</td>\n",
       "    </tr>\n",
       "    <tr>\n",
       "      <th>4</th>\n",
       "      <td>2016</td>\n",
       "      <td>10</td>\n",
       "      <td>-53</td>\n",
       "      <td>-28</td>\n",
       "      <td>38</td>\n",
       "      <td>-52</td>\n",
       "      <td>6</td>\n",
       "      <td>-23</td>\n",
       "      <td>-7</td>\n",
       "      <td>-5</td>\n",
       "      <td>-2</td>\n",
       "      <td>-7</td>\n",
       "      <td>98</td>\n",
       "    </tr>\n",
       "  </tbody>\n",
       "</table>\n",
       "</div>"
      ],
      "text/plain": [
       "   année  mois  niveau de vie passe(amelioration moins deterioration)  \\\n",
       "0   2017     2                                                -49       \n",
       "1   2017     1                                                -48       \n",
       "2   2016    12                                                -52       \n",
       "3   2016    11                                                -49       \n",
       "4   2016    10                                                -53       \n",
       "\n",
       "   niveau de vie futur(amélioration moins deterioration)  \\\n",
       "0                                                -24       \n",
       "1                                                -25       \n",
       "2                                                -24       \n",
       "3                                                -25       \n",
       "4                                                -28       \n",
       "\n",
       "   evolution future du chomage (augmentation moins diminution)  \\\n",
       "0                                                 20             \n",
       "1                                                 19             \n",
       "2                                                 21             \n",
       "3                                                 26             \n",
       "4                                                 38             \n",
       "\n",
       "   evolution des prix (augmentation moins diminution)  \\\n",
       "0                                                -46    \n",
       "1                                                -44    \n",
       "2                                                -49    \n",
       "3                                                -51    \n",
       "4                                                -52    \n",
       "\n",
       "   capacité epargne actuelle (augmentation moins diminution)  \\\n",
       "0                                                 11           \n",
       "1                                                  8           \n",
       "2                                                  8           \n",
       "3                                                  7           \n",
       "4                                                  6           \n",
       "\n",
       "   situation financiere passe (augmentation moins diminution)  \\\n",
       "0                                                -22            \n",
       "1                                                -22            \n",
       "2                                                -22            \n",
       "3                                                -24            \n",
       "4                                                -23            \n",
       "\n",
       "   situation financiere future (augmentation moins diminution)  \\\n",
       "0                                                 -6             \n",
       "1                                                 -5             \n",
       "2                                                 -8             \n",
       "3                                                 -8             \n",
       "4                                                 -7             \n",
       "\n",
       "   opportunite de faire des achats importants(favorable moins favorable)  \\\n",
       "0                                                 -1                       \n",
       "1                                                 -4                       \n",
       "2                                                 -3                       \n",
       "3                                                 -5                       \n",
       "4                                                 -5                       \n",
       "\n",
       "   opportunite epargner(favorable moins favorable)  \\\n",
       "0                                                2   \n",
       "1                                               -1   \n",
       "2                                               -7   \n",
       "3                                               -2   \n",
       "4                                               -2   \n",
       "\n",
       "   capacite epargne future(amélioration moins deterioration)  \\\n",
       "0                                                 -2           \n",
       "1                                                 -6           \n",
       "2                                                 -6           \n",
       "3                                                 -5           \n",
       "4                                                 -7           \n",
       "\n",
       "   indicateur de confiance des menages  \n",
       "0                                  100  \n",
       "1                                  100  \n",
       "2                                   99  \n",
       "3                                   99  \n",
       "4                                   98  "
      ]
     },
     "execution_count": 33,
     "metadata": {},
     "output_type": "execute_result"
    }
   ],
   "source": [
    "opinion_menage.head()"
   ]
  },
  {
   "cell_type": "code",
   "execution_count": 59,
   "metadata": {
    "collapsed": false
   },
   "outputs": [
    {
     "data": {
      "text/plain": [
       "Index(['année', 'mois',\n",
       "       'niveau de vie passe(amelioration moins deterioration)',\n",
       "       'niveau de vie futur(amélioration moins deterioration)',\n",
       "       'evolution future du chomage (augmentation moins diminution)',\n",
       "       'evolution des prix (augmentation moins diminution)',\n",
       "       'capacité epargne actuelle (augmentation moins diminution)',\n",
       "       'situation financiere passe (augmentation moins diminution)',\n",
       "       'situation financiere future (augmentation moins diminution)',\n",
       "       'opportunite de faire des achats importants(favorable moins favorable)',\n",
       "       'opportunite epargner(favorable moins favorable)',\n",
       "       'capacite epargne future(amélioration moins deterioration)',\n",
       "       'indicateur de confiance des menages'],\n",
       "      dtype='object')"
      ]
     },
     "execution_count": 59,
     "metadata": {},
     "output_type": "execute_result"
    }
   ],
   "source": [
    "opinion_menage.columns"
   ]
  },
  {
   "cell_type": "markdown",
   "metadata": {},
   "source": [
    "## Table par trimestre "
   ]
  },
  {
   "cell_type": "code",
   "execution_count": 40,
   "metadata": {
    "collapsed": false
   },
   "outputs": [],
   "source": [
    "pib = pd.read_csv(\"pib.csv\",sep=\";\")\n",
    "import_pib = pd.read_csv(\"import_pib.csv\",sep=\",\")\n",
    "emploi = pd.read_csv(\"emploi_par_secteur.csv\",sep=\";\")"
   ]
  },
  {
   "cell_type": "code",
   "execution_count": 41,
   "metadata": {
    "collapsed": false
   },
   "outputs": [
    {
     "data": {
      "text/html": [
       "<div>\n",
       "<table border=\"1\" class=\"dataframe\">\n",
       "  <thead>\n",
       "    <tr style=\"text-align: right;\">\n",
       "      <th></th>\n",
       "      <th>Ann?e</th>\n",
       "      <th>Trimestre</th>\n",
       "      <th>D?penses de consommation Total - Contribution ? l'?volution du PIB - Volume aux prix de l'ann?e pr?c?dente cha?n?s - S?rie CVS-CJO</th>\n",
       "      <th>Exportations - Contribution ? l'?volution du PIB - Volume aux prix de l'ann?e pr?c?dente cha?n?s - S?rie CVS-CJO</th>\n",
       "      <th>Importations - Contribution ? l'?volution du PIB - Volume aux prix de l'ann?e pr?c?dente cha?n?s - S?rie CVS-CJO</th>\n",
       "      <th>Solde ext?rieur - Contribution ? l'?volution du PIB - Volume aux prix de l'ann?e pr?c?dente cha?n?s - S?rie CVS-CJO</th>\n",
       "      <th>Comptes trimestriels (base 2010) - ?volution du Produit int?rieur brut total - Volume aux prix de l'ann?e pr?c?dente cha?n?s - S?rie CVS-CJO</th>\n",
       "      <th>Demande int?rieure totale finale - Volume aux prix de l'ann?e pr?c?dente cha?n?s - S?rie CVS-CJO</th>\n",
       "      <th>Exportations - Total - Volume aux prix de l'ann?e pr?c?dente cha?n?s - S?rie CVS-CJO</th>\n",
       "      <th>Importations - Total - Volume aux prix de l'ann?e pr?c?dente cha?n?s - S?rie CVS-CJO</th>\n",
       "      <th>Produit int?rieur brut total - Volume aux prix de l'ann?e pr?c?dente cha?n?s - S?rie CVS-CJO</th>\n",
       "      <th>D?penses de consommation des APU - Total - Volume aux prix de l'ann?e pr?c?dente cha?n?s - S?rie CVS-CJO</th>\n",
       "    </tr>\n",
       "  </thead>\n",
       "  <tbody>\n",
       "    <tr>\n",
       "      <th>0</th>\n",
       "      <td>2016</td>\n",
       "      <td>4</td>\n",
       "      <td>0,41</td>\n",
       "      <td>0,4</td>\n",
       "      <td>0,34</td>\n",
       "      <td>0,06</td>\n",
       "      <td>0,4</td>\n",
       "      <td>548041</td>\n",
       "      <td>163435</td>\n",
       "      <td>179778</td>\n",
       "      <td>531659</td>\n",
       "      <td>129824.0</td>\n",
       "    </tr>\n",
       "    <tr>\n",
       "      <th>1</th>\n",
       "      <td>2016</td>\n",
       "      <td>3</td>\n",
       "      <td>0,13</td>\n",
       "      <td>0,23</td>\n",
       "      <td>0,86</td>\n",
       "      <td>-0,63</td>\n",
       "      <td>0,2</td>\n",
       "      <td>546078</td>\n",
       "      <td>161306</td>\n",
       "      <td>177911</td>\n",
       "      <td>529412</td>\n",
       "      <td>129349.0</td>\n",
       "    </tr>\n",
       "    <tr>\n",
       "      <th>2</th>\n",
       "      <td>2016</td>\n",
       "      <td>2</td>\n",
       "      <td>0,14</td>\n",
       "      <td>0,01</td>\n",
       "      <td>-0,47</td>\n",
       "      <td>0,47</td>\n",
       "      <td>-0,1</td>\n",
       "      <td>541596</td>\n",
       "      <td>160059</td>\n",
       "      <td>173183</td>\n",
       "      <td>528300</td>\n",
       "      <td>128926.0</td>\n",
       "    </tr>\n",
       "    <tr>\n",
       "      <th>3</th>\n",
       "      <td>2016</td>\n",
       "      <td>1</td>\n",
       "      <td>0,8</td>\n",
       "      <td>-0,06</td>\n",
       "      <td>0,16</td>\n",
       "      <td>-0,22</td>\n",
       "      <td>0,7</td>\n",
       "      <td>544828</td>\n",
       "      <td>160027</td>\n",
       "      <td>175740</td>\n",
       "      <td>529006</td>\n",
       "      <td>128414.0</td>\n",
       "    </tr>\n",
       "    <tr>\n",
       "      <th>4</th>\n",
       "      <td>2015</td>\n",
       "      <td>4</td>\n",
       "      <td>0,06</td>\n",
       "      <td>0,15</td>\n",
       "      <td>0,76</td>\n",
       "      <td>-0,61</td>\n",
       "      <td>0,2</td>\n",
       "      <td>540196</td>\n",
       "      <td>160338</td>\n",
       "      <td>174731</td>\n",
       "      <td>525584</td>\n",
       "      <td>127913.0</td>\n",
       "    </tr>\n",
       "  </tbody>\n",
       "</table>\n",
       "</div>"
      ],
      "text/plain": [
       "   Ann?e  Trimestre  \\\n",
       "0   2016          4   \n",
       "1   2016          3   \n",
       "2   2016          2   \n",
       "3   2016          1   \n",
       "4   2015          4   \n",
       "\n",
       "  D?penses de consommation Total - Contribution ? l'?volution du PIB - Volume aux prix de l'ann?e pr?c?dente cha?n?s - S?rie CVS-CJO  \\\n",
       "0                                               0,41                                                                                   \n",
       "1                                               0,13                                                                                   \n",
       "2                                               0,14                                                                                   \n",
       "3                                                0,8                                                                                   \n",
       "4                                               0,06                                                                                   \n",
       "\n",
       "  Exportations - Contribution ? l'?volution du PIB - Volume aux prix de l'ann?e pr?c?dente cha?n?s - S?rie CVS-CJO  \\\n",
       "0                                                0,4                                                                 \n",
       "1                                               0,23                                                                 \n",
       "2                                               0,01                                                                 \n",
       "3                                              -0,06                                                                 \n",
       "4                                               0,15                                                                 \n",
       "\n",
       "  Importations - Contribution ? l'?volution du PIB - Volume aux prix de l'ann?e pr?c?dente cha?n?s - S?rie CVS-CJO  \\\n",
       "0                                               0,34                                                                 \n",
       "1                                               0,86                                                                 \n",
       "2                                              -0,47                                                                 \n",
       "3                                               0,16                                                                 \n",
       "4                                               0,76                                                                 \n",
       "\n",
       "  Solde ext?rieur - Contribution ? l'?volution du PIB - Volume aux prix de l'ann?e pr?c?dente cha?n?s - S?rie CVS-CJO  \\\n",
       "0                                               0,06                                                                    \n",
       "1                                              -0,63                                                                    \n",
       "2                                               0,47                                                                    \n",
       "3                                              -0,22                                                                    \n",
       "4                                              -0,61                                                                    \n",
       "\n",
       "  Comptes trimestriels (base 2010) - ?volution du Produit int?rieur brut total - Volume aux prix de l'ann?e pr?c?dente cha?n?s - S?rie CVS-CJO  \\\n",
       "0                                                0,4                                                                                             \n",
       "1                                                0,2                                                                                             \n",
       "2                                               -0,1                                                                                             \n",
       "3                                                0,7                                                                                             \n",
       "4                                                0,2                                                                                             \n",
       "\n",
       "   Demande int?rieure totale finale - Volume aux prix de l'ann?e pr?c?dente cha?n?s - S?rie CVS-CJO  \\\n",
       "0                                             548041                                                  \n",
       "1                                             546078                                                  \n",
       "2                                             541596                                                  \n",
       "3                                             544828                                                  \n",
       "4                                             540196                                                  \n",
       "\n",
       "   Exportations - Total - Volume aux prix de l'ann?e pr?c?dente cha?n?s - S?rie CVS-CJO  \\\n",
       "0                                             163435                                      \n",
       "1                                             161306                                      \n",
       "2                                             160059                                      \n",
       "3                                             160027                                      \n",
       "4                                             160338                                      \n",
       "\n",
       "   Importations - Total - Volume aux prix de l'ann?e pr?c?dente cha?n?s - S?rie CVS-CJO  \\\n",
       "0                                             179778                                      \n",
       "1                                             177911                                      \n",
       "2                                             173183                                      \n",
       "3                                             175740                                      \n",
       "4                                             174731                                      \n",
       "\n",
       "   Produit int?rieur brut total - Volume aux prix de l'ann?e pr?c?dente cha?n?s - S?rie CVS-CJO  \\\n",
       "0                                             531659                                              \n",
       "1                                             529412                                              \n",
       "2                                             528300                                              \n",
       "3                                             529006                                              \n",
       "4                                             525584                                              \n",
       "\n",
       "   D?penses de consommation des APU - Total - Volume aux prix de l'ann?e pr?c?dente cha?n?s - S?rie CVS-CJO  \n",
       "0                                           129824.0                                                         \n",
       "1                                           129349.0                                                         \n",
       "2                                           128926.0                                                         \n",
       "3                                           128414.0                                                         \n",
       "4                                           127913.0                                                         "
      ]
     },
     "execution_count": 41,
     "metadata": {},
     "output_type": "execute_result"
    }
   ],
   "source": [
    "pib.head()"
   ]
  },
  {
   "cell_type": "code",
   "execution_count": 42,
   "metadata": {
    "collapsed": true
   },
   "outputs": [],
   "source": [
    "pib.columns=[\"année\",\"trimestre\",\n",
    "                  \"contribution pib-depense consommation\",\n",
    "                 \"contribution pib-exportation\",\n",
    "                  \"contribution pib-importation\",\n",
    "                 \"contribution pib-solde exterieur\",\n",
    "                 \"evolution PIB\",\n",
    "                 \"demande interieur\",\n",
    "                 \"exportations\",\n",
    "                 \"importations\",\n",
    "                  \"PIB\",\n",
    "                 \"depense consommation administration public\"\n",
    "                 ]"
   ]
  },
  {
   "cell_type": "code",
   "execution_count": 43,
   "metadata": {
    "collapsed": false
   },
   "outputs": [
    {
     "name": "stdout",
     "output_type": "stream",
     "text": [
      "1949\n"
     ]
    }
   ],
   "source": [
    "print(min(pib[\"année\"]))"
   ]
  },
  {
   "cell_type": "code",
   "execution_count": 44,
   "metadata": {
    "collapsed": false
   },
   "outputs": [
    {
     "data": {
      "text/html": [
       "<div>\n",
       "<table border=\"1\" class=\"dataframe\">\n",
       "  <thead>\n",
       "    <tr style=\"text-align: right;\">\n",
       "      <th></th>\n",
       "      <th>Année</th>\n",
       "      <th>Trimestre</th>\n",
       "      <th>Impôts sur importations - Total - Valeur aux prix courants - Série CVS-CJO</th>\n",
       "      <th>Autres impôts sur les produits - Total - Valeur aux prix courants - Série CVS-CJO</th>\n",
       "      <th>Subventions - Total - Valeur aux prix courants - Série CVS-CJO</th>\n",
       "      <th>Masse salariale versée - Total branches - Valeur aux prix courants - Série CVS</th>\n",
       "      <th>Cotisations sociales employeurs versées - Total branches - Valeur aux prix courants - Série CVS</th>\n",
       "      <th>Cotisations sociales imputées - Total branches - Valeur aux prix courants - Série CVS</th>\n",
       "      <th>Impôts sur la main d'oeuvre versés - Total branches - Valeur aux prix courants - Série CVS</th>\n",
       "      <th>Autres impôts divers sur la production versés - Total branches - Valeur aux prix courants - Série CVS</th>\n",
       "      <th>Subventions d'exploitation - Total branches - Valeur aux prix courants - Série CVS</th>\n",
       "      <th>Produit intérieur brut total - Valeur aux prix courants - Série CVS-CJO</th>\n",
       "      <th>TVA - Total - Valeur aux prix courants - Série CVS-CJO</th>\n",
       "    </tr>\n",
       "  </thead>\n",
       "  <tbody>\n",
       "    <tr>\n",
       "      <th>0</th>\n",
       "      <td>2016</td>\n",
       "      <td>4</td>\n",
       "      <td>655</td>\n",
       "      <td>25329</td>\n",
       "      <td>-4903</td>\n",
       "      <td>213246</td>\n",
       "      <td>64916</td>\n",
       "      <td>14279</td>\n",
       "      <td>NaN</td>\n",
       "      <td>NaN</td>\n",
       "      <td>-11878</td>\n",
       "      <td>559532</td>\n",
       "      <td>38737</td>\n",
       "    </tr>\n",
       "    <tr>\n",
       "      <th>1</th>\n",
       "      <td>2016</td>\n",
       "      <td>3</td>\n",
       "      <td>650</td>\n",
       "      <td>25275</td>\n",
       "      <td>-4900</td>\n",
       "      <td>211979</td>\n",
       "      <td>64492</td>\n",
       "      <td>14199</td>\n",
       "      <td>8768.0</td>\n",
       "      <td>16446.0</td>\n",
       "      <td>-11776</td>\n",
       "      <td>555782</td>\n",
       "      <td>38281</td>\n",
       "    </tr>\n",
       "    <tr>\n",
       "      <th>2</th>\n",
       "      <td>2016</td>\n",
       "      <td>2</td>\n",
       "      <td>650</td>\n",
       "      <td>25108</td>\n",
       "      <td>-4880</td>\n",
       "      <td>210838</td>\n",
       "      <td>64159</td>\n",
       "      <td>14126</td>\n",
       "      <td>8758.0</td>\n",
       "      <td>16367.0</td>\n",
       "      <td>-11628</td>\n",
       "      <td>553573</td>\n",
       "      <td>38318</td>\n",
       "    </tr>\n",
       "    <tr>\n",
       "      <th>3</th>\n",
       "      <td>2016</td>\n",
       "      <td>1</td>\n",
       "      <td>654</td>\n",
       "      <td>24953</td>\n",
       "      <td>-4842</td>\n",
       "      <td>210053</td>\n",
       "      <td>64422</td>\n",
       "      <td>14063</td>\n",
       "      <td>8700.0</td>\n",
       "      <td>16470.0</td>\n",
       "      <td>-11432</td>\n",
       "      <td>554860</td>\n",
       "      <td>38284</td>\n",
       "    </tr>\n",
       "    <tr>\n",
       "      <th>4</th>\n",
       "      <td>2015</td>\n",
       "      <td>4</td>\n",
       "      <td>667</td>\n",
       "      <td>24508</td>\n",
       "      <td>-4790</td>\n",
       "      <td>208564</td>\n",
       "      <td>63760</td>\n",
       "      <td>14049</td>\n",
       "      <td>8819.0</td>\n",
       "      <td>16215.0</td>\n",
       "      <td>-11198</td>\n",
       "      <td>549298</td>\n",
       "      <td>37960</td>\n",
       "    </tr>\n",
       "  </tbody>\n",
       "</table>\n",
       "</div>"
      ],
      "text/plain": [
       "   Année  Trimestre  \\\n",
       "0   2016          4   \n",
       "1   2016          3   \n",
       "2   2016          2   \n",
       "3   2016          1   \n",
       "4   2015          4   \n",
       "\n",
       "   Impôts sur importations - Total - Valeur aux prix courants - Série CVS-CJO  \\\n",
       "0                                                655                            \n",
       "1                                                650                            \n",
       "2                                                650                            \n",
       "3                                                654                            \n",
       "4                                                667                            \n",
       "\n",
       "   Autres impôts sur les produits - Total - Valeur aux prix courants - Série CVS-CJO  \\\n",
       "0                                              25329                                   \n",
       "1                                              25275                                   \n",
       "2                                              25108                                   \n",
       "3                                              24953                                   \n",
       "4                                              24508                                   \n",
       "\n",
       "   Subventions - Total - Valeur aux prix courants - Série CVS-CJO  \\\n",
       "0                                              -4903                \n",
       "1                                              -4900                \n",
       "2                                              -4880                \n",
       "3                                              -4842                \n",
       "4                                              -4790                \n",
       "\n",
       "   Masse salariale versée - Total branches - Valeur aux prix courants - Série CVS  \\\n",
       "0                                             213246                                \n",
       "1                                             211979                                \n",
       "2                                             210838                                \n",
       "3                                             210053                                \n",
       "4                                             208564                                \n",
       "\n",
       "   Cotisations sociales employeurs versées - Total branches - Valeur aux prix courants - Série CVS  \\\n",
       "0                                              64916                                                 \n",
       "1                                              64492                                                 \n",
       "2                                              64159                                                 \n",
       "3                                              64422                                                 \n",
       "4                                              63760                                                 \n",
       "\n",
       "   Cotisations sociales imputées - Total branches - Valeur aux prix courants - Série CVS  \\\n",
       "0                                              14279                                       \n",
       "1                                              14199                                       \n",
       "2                                              14126                                       \n",
       "3                                              14063                                       \n",
       "4                                              14049                                       \n",
       "\n",
       "   Impôts sur la main d'oeuvre versés - Total branches - Valeur aux prix courants - Série CVS  \\\n",
       "0                                                NaN                                            \n",
       "1                                             8768.0                                            \n",
       "2                                             8758.0                                            \n",
       "3                                             8700.0                                            \n",
       "4                                             8819.0                                            \n",
       "\n",
       "   Autres impôts divers sur la production versés - Total branches - Valeur aux prix courants - Série CVS  \\\n",
       "0                                                NaN                                                       \n",
       "1                                            16446.0                                                       \n",
       "2                                            16367.0                                                       \n",
       "3                                            16470.0                                                       \n",
       "4                                            16215.0                                                       \n",
       "\n",
       "   Subventions d'exploitation - Total branches - Valeur aux prix courants - Série CVS  \\\n",
       "0                                             -11878                                    \n",
       "1                                             -11776                                    \n",
       "2                                             -11628                                    \n",
       "3                                             -11432                                    \n",
       "4                                             -11198                                    \n",
       "\n",
       "   Produit intérieur brut total - Valeur aux prix courants - Série CVS-CJO  \\\n",
       "0                                             559532                         \n",
       "1                                             555782                         \n",
       "2                                             553573                         \n",
       "3                                             554860                         \n",
       "4                                             549298                         \n",
       "\n",
       "   TVA - Total - Valeur aux prix courants - Série CVS-CJO  \n",
       "0                                              38737       \n",
       "1                                              38281       \n",
       "2                                              38318       \n",
       "3                                              38284       \n",
       "4                                              37960       "
      ]
     },
     "execution_count": 44,
     "metadata": {},
     "output_type": "execute_result"
    }
   ],
   "source": [
    "import_pib.head()"
   ]
  },
  {
   "cell_type": "code",
   "execution_count": 47,
   "metadata": {
    "collapsed": true
   },
   "outputs": [],
   "source": [
    "import_pib.columns=[\"année\",\"trimestre\",\n",
    "                  \"impots sur importations \",\n",
    "                 \"autres impots sur les produits \",\n",
    "                  \"subventions\",\n",
    "                 \"masse salariale versee\",\n",
    "                 \"cotisations sociales employeurs versees\",\n",
    "                \"cotisations sociales imputees\",\n",
    "                 \"impots sur la main d'oeuvre verses\",\n",
    "                \"autres impots divers sur la production verses\",\n",
    "                 \"Subventions d'exploitation\",\n",
    "                \"PIB\",\n",
    "                \"TVA\"\n",
    "                 ]"
   ]
  },
  {
   "cell_type": "code",
   "execution_count": 48,
   "metadata": {
    "collapsed": true
   },
   "outputs": [],
   "source": [
    "del import_pib[\"PIB\"]"
   ]
  },
  {
   "cell_type": "code",
   "execution_count": 49,
   "metadata": {
    "collapsed": false
   },
   "outputs": [
    {
     "name": "stdout",
     "output_type": "stream",
     "text": [
      "(172, 12)\n",
      "(172, 12)\n"
     ]
    }
   ],
   "source": [
    "import_pib = import_pib[import_pib[\"année\"]>1973]\n",
    "pib = pib[pib[\"année\"]>1973]\n",
    "print(import_pib.shape)\n",
    "print(pib.shape)"
   ]
  },
  {
   "cell_type": "code",
   "execution_count": 50,
   "metadata": {
    "collapsed": false
   },
   "outputs": [
    {
     "data": {
      "text/html": [
       "<div>\n",
       "<table border=\"1\" class=\"dataframe\">\n",
       "  <thead>\n",
       "    <tr style=\"text-align: right;\">\n",
       "      <th></th>\n",
       "      <th>Ann?e</th>\n",
       "      <th>Trimestre</th>\n",
       "      <th>Emplois salari?s Industrie</th>\n",
       "      <th>Emplois salari?s Construction</th>\n",
       "      <th>Emplois salari?s tertiaire marchand</th>\n",
       "      <th>Emplois salari?s - Secteurs principalement marchands</th>\n",
       "    </tr>\n",
       "  </thead>\n",
       "  <tbody>\n",
       "    <tr>\n",
       "      <th>0</th>\n",
       "      <td>2016</td>\n",
       "      <td>4</td>\n",
       "      <td>3103,9</td>\n",
       "      <td>1305,9</td>\n",
       "      <td>11765,2</td>\n",
       "      <td>16174,9</td>\n",
       "    </tr>\n",
       "    <tr>\n",
       "      <th>1</th>\n",
       "      <td>2016</td>\n",
       "      <td>3</td>\n",
       "      <td>3109,4</td>\n",
       "      <td>1308</td>\n",
       "      <td>11693,1</td>\n",
       "      <td>16110,5</td>\n",
       "    </tr>\n",
       "    <tr>\n",
       "      <th>2</th>\n",
       "      <td>2016</td>\n",
       "      <td>2</td>\n",
       "      <td>3114,6</td>\n",
       "      <td>1310,7</td>\n",
       "      <td>11634,8</td>\n",
       "      <td>16060,1</td>\n",
       "    </tr>\n",
       "    <tr>\n",
       "      <th>3</th>\n",
       "      <td>2016</td>\n",
       "      <td>1</td>\n",
       "      <td>3122,4</td>\n",
       "      <td>1313</td>\n",
       "      <td>11594,5</td>\n",
       "      <td>16029,9</td>\n",
       "    </tr>\n",
       "    <tr>\n",
       "      <th>4</th>\n",
       "      <td>2015</td>\n",
       "      <td>4</td>\n",
       "      <td>3128,8</td>\n",
       "      <td>1316,7</td>\n",
       "      <td>11542,2</td>\n",
       "      <td>15987,7</td>\n",
       "    </tr>\n",
       "  </tbody>\n",
       "</table>\n",
       "</div>"
      ],
      "text/plain": [
       "   Ann?e  Trimestre Emplois salari?s Industrie Emplois salari?s Construction   \\\n",
       "0   2016          4                     3103,9                         1305,9   \n",
       "1   2016          3                     3109,4                           1308   \n",
       "2   2016          2                     3114,6                         1310,7   \n",
       "3   2016          1                     3122,4                           1313   \n",
       "4   2015          4                     3128,8                         1316,7   \n",
       "\n",
       "  Emplois salari?s tertiaire marchand   \\\n",
       "0                              11765,2   \n",
       "1                              11693,1   \n",
       "2                              11634,8   \n",
       "3                              11594,5   \n",
       "4                              11542,2   \n",
       "\n",
       "  Emplois salari?s - Secteurs principalement marchands   \n",
       "0                                            16174,9     \n",
       "1                                            16110,5     \n",
       "2                                            16060,1     \n",
       "3                                            16029,9     \n",
       "4                                            15987,7     "
      ]
     },
     "execution_count": 50,
     "metadata": {},
     "output_type": "execute_result"
    }
   ],
   "source": [
    "emploi.head()"
   ]
  },
  {
   "cell_type": "code",
   "execution_count": 51,
   "metadata": {
    "collapsed": true
   },
   "outputs": [],
   "source": [
    "emploi.columns=[\"année\",\"trimestre\",\n",
    "                 \"emplois dans industrie\",\n",
    "                 \"emplois dans construction\",\n",
    "              \"emplois dans tertiaire marchand\",\n",
    "              \"emplois dans principalement marchands\"\n",
    "                 ]"
   ]
  },
  {
   "cell_type": "code",
   "execution_count": 52,
   "metadata": {
    "collapsed": false
   },
   "outputs": [
    {
     "name": "stdout",
     "output_type": "stream",
     "text": [
      "1970\n"
     ]
    }
   ],
   "source": [
    "print(min(emploi[\"année\"]))"
   ]
  },
  {
   "cell_type": "code",
   "execution_count": 53,
   "metadata": {
    "collapsed": true
   },
   "outputs": [],
   "source": [
    "emploi = emploi[emploi[\"année\"]>1973]"
   ]
  },
  {
   "cell_type": "code",
   "execution_count": 54,
   "metadata": {
    "collapsed": false
   },
   "outputs": [
    {
     "data": {
      "text/plain": [
       "(172, 6)"
      ]
     },
     "execution_count": 54,
     "metadata": {},
     "output_type": "execute_result"
    }
   ],
   "source": [
    "emploi.shape"
   ]
  },
  {
   "cell_type": "code",
   "execution_count": 55,
   "metadata": {
    "collapsed": true
   },
   "outputs": [],
   "source": [
    "pib_impot_emploi = pd.merge(pib, import_pib, on = [\"année\",\"trimestre\"])\n",
    "pib_impot_emploi = pd.merge(pib_impot_emploi, emploi, on = [\"année\",\"trimestre\"])"
   ]
  },
  {
   "cell_type": "code",
   "execution_count": 56,
   "metadata": {
    "collapsed": false
   },
   "outputs": [
    {
     "data": {
      "text/plain": [
       "(172, 26)"
      ]
     },
     "execution_count": 56,
     "metadata": {},
     "output_type": "execute_result"
    }
   ],
   "source": [
    "pib_impot_emploi.shape"
   ]
  },
  {
   "cell_type": "code",
   "execution_count": 58,
   "metadata": {
    "collapsed": false
   },
   "outputs": [
    {
     "data": {
      "text/plain": [
       "Index(['année', 'trimestre', 'contribution pib-depense consommation',\n",
       "       'contribution pib-exportation', 'contribution pib-importation',\n",
       "       'contribution pib-solde exterieur', 'evolution PIB',\n",
       "       'demande interieur', 'exportations', 'importations', 'PIB',\n",
       "       'depense consommation administration public',\n",
       "       'impots sur importations ', 'autres impots sur les produits ',\n",
       "       'subventions', 'masse salariale versee',\n",
       "       'cotisations sociales employeurs versees',\n",
       "       'cotisations sociales imputees', 'impots sur la main d'oeuvre verses',\n",
       "       'autres impots divers sur la production verses',\n",
       "       'Subventions d'exploitation', 'TVA', 'emplois dans industrie',\n",
       "       'emplois dans construction', 'emplois dans tertiaire marchand',\n",
       "       'emplois dans principalement marchands'],\n",
       "      dtype='object')"
      ]
     },
     "execution_count": 58,
     "metadata": {},
     "output_type": "execute_result"
    }
   ],
   "source": [
    "pib_impot_emploi.columns"
   ]
  },
  {
   "cell_type": "code",
   "execution_count": 71,
   "metadata": {
    "collapsed": true
   },
   "outputs": [],
   "source": [
    "travaux = pd.read_csv(\"conjoncture_travaux.csv\",sep=\",\")"
   ]
  },
  {
   "cell_type": "code",
   "execution_count": 72,
   "metadata": {
    "collapsed": false
   },
   "outputs": [
    {
     "data": {
      "text/html": [
       "<div>\n",
       "<table border=\"1\" class=\"dataframe\">\n",
       "  <thead>\n",
       "    <tr style=\"text-align: right;\">\n",
       "      <th></th>\n",
       "      <th>Ann?e</th>\n",
       "      <th>Trimestre</th>\n",
       "      <th>Enqu?te de conjoncture dans les travaux publics - Opinions sur le carnet de commandes - S?rie CVS</th>\n",
       "      <th>Enqu?te de conjoncture dans les travaux publics - Opinions sur le carnet de commandes</th>\n",
       "      <th>client?le priv?e - S?rie CVS</th>\n",
       "      <th>Enqu?te de conjoncture dans les travaux publics - Opinions sur le carnet de commandes.1</th>\n",
       "      <th>client?le publique - S?rie CVS</th>\n",
       "    </tr>\n",
       "  </thead>\n",
       "  <tbody>\n",
       "    <tr>\n",
       "      <th>0</th>\n",
       "      <td>2017</td>\n",
       "      <td>1</td>\n",
       "      <td>-25</td>\n",
       "      <td>-20</td>\n",
       "      <td>-32</td>\n",
       "      <td>NaN</td>\n",
       "      <td>NaN</td>\n",
       "    </tr>\n",
       "    <tr>\n",
       "      <th>1</th>\n",
       "      <td>2016</td>\n",
       "      <td>4</td>\n",
       "      <td>-32</td>\n",
       "      <td>-17</td>\n",
       "      <td>-40</td>\n",
       "      <td>NaN</td>\n",
       "      <td>NaN</td>\n",
       "    </tr>\n",
       "    <tr>\n",
       "      <th>2</th>\n",
       "      <td>2016</td>\n",
       "      <td>3</td>\n",
       "      <td>-41</td>\n",
       "      <td>-27</td>\n",
       "      <td>-51</td>\n",
       "      <td>NaN</td>\n",
       "      <td>NaN</td>\n",
       "    </tr>\n",
       "    <tr>\n",
       "      <th>3</th>\n",
       "      <td>2016</td>\n",
       "      <td>2</td>\n",
       "      <td>-57</td>\n",
       "      <td>-47</td>\n",
       "      <td>-65</td>\n",
       "      <td>NaN</td>\n",
       "      <td>NaN</td>\n",
       "    </tr>\n",
       "    <tr>\n",
       "      <th>4</th>\n",
       "      <td>2016</td>\n",
       "      <td>1</td>\n",
       "      <td>-57</td>\n",
       "      <td>-38</td>\n",
       "      <td>-65</td>\n",
       "      <td>NaN</td>\n",
       "      <td>NaN</td>\n",
       "    </tr>\n",
       "  </tbody>\n",
       "</table>\n",
       "</div>"
      ],
      "text/plain": [
       "   Ann?e  Trimestre  \\\n",
       "0   2017          1   \n",
       "1   2016          4   \n",
       "2   2016          3   \n",
       "3   2016          2   \n",
       "4   2016          1   \n",
       "\n",
       "   Enqu?te de conjoncture dans les travaux publics - Opinions sur le carnet de commandes - S?rie CVS  \\\n",
       "0                                                -25                                                   \n",
       "1                                                -32                                                   \n",
       "2                                                -41                                                   \n",
       "3                                                -57                                                   \n",
       "4                                                -57                                                   \n",
       "\n",
       "   Enqu?te de conjoncture dans les travaux publics - Opinions sur le carnet de commandes  \\\n",
       "0                                                -20                                       \n",
       "1                                                -17                                       \n",
       "2                                                -27                                       \n",
       "3                                                -47                                       \n",
       "4                                                -38                                       \n",
       "\n",
       "    client?le priv?e - S?rie CVS  \\\n",
       "0                            -32   \n",
       "1                            -40   \n",
       "2                            -51   \n",
       "3                            -65   \n",
       "4                            -65   \n",
       "\n",
       "   Enqu?te de conjoncture dans les travaux publics - Opinions sur le carnet de commandes.1  \\\n",
       "0                                                NaN                                         \n",
       "1                                                NaN                                         \n",
       "2                                                NaN                                         \n",
       "3                                                NaN                                         \n",
       "4                                                NaN                                         \n",
       "\n",
       "    client?le publique - S?rie CVS  \n",
       "0                              NaN  \n",
       "1                              NaN  \n",
       "2                              NaN  \n",
       "3                              NaN  \n",
       "4                              NaN  "
      ]
     },
     "execution_count": 72,
     "metadata": {},
     "output_type": "execute_result"
    }
   ],
   "source": [
    "travaux.head()"
   ]
  },
  {
   "cell_type": "code",
   "execution_count": 73,
   "metadata": {
    "collapsed": false
   },
   "outputs": [
    {
     "name": "stdout",
     "output_type": "stream",
     "text": [
      "1974\n"
     ]
    }
   ],
   "source": [
    "print(min(travaux[\"Ann?e\"]))"
   ]
  },
  {
   "cell_type": "code",
   "execution_count": 74,
   "metadata": {
    "collapsed": false
   },
   "outputs": [
    {
     "data": {
      "text/plain": [
       "(173, 7)"
      ]
     },
     "execution_count": 74,
     "metadata": {},
     "output_type": "execute_result"
    }
   ],
   "source": [
    "travaux.shape"
   ]
  },
  {
   "cell_type": "code",
   "execution_count": 75,
   "metadata": {
    "collapsed": false
   },
   "outputs": [
    {
     "data": {
      "text/plain": [
       "Index(['Ann?e', 'Trimestre',\n",
       "       'Enqu?te de conjoncture dans les travaux publics - Opinions sur le carnet de commandes - S?rie CVS',\n",
       "       'Enqu?te de conjoncture dans les travaux publics - Opinions sur le carnet de commandes',\n",
       "       ' client?le priv?e - S?rie CVS',\n",
       "       'Enqu?te de conjoncture dans les travaux publics - Opinions sur le carnet de commandes.1',\n",
       "       ' client?le publique - S?rie CVS'],\n",
       "      dtype='object')"
      ]
     },
     "execution_count": 75,
     "metadata": {},
     "output_type": "execute_result"
    }
   ],
   "source": [
    "travaux.columns"
   ]
  },
  {
   "cell_type": "code",
   "execution_count": 76,
   "metadata": {
    "collapsed": false
   },
   "outputs": [],
   "source": [
    "del travaux[\"Enqu?te de conjoncture dans les travaux publics - Opinions sur le carnet de commandes.1\"]\n",
    "del travaux[\" client?le publique - S?rie CVS\"]"
   ]
  },
  {
   "cell_type": "code",
   "execution_count": 77,
   "metadata": {
    "collapsed": false
   },
   "outputs": [
    {
     "data": {
      "text/html": [
       "<div>\n",
       "<table border=\"1\" class=\"dataframe\">\n",
       "  <thead>\n",
       "    <tr style=\"text-align: right;\">\n",
       "      <th></th>\n",
       "      <th>Ann?e</th>\n",
       "      <th>Trimestre</th>\n",
       "      <th>Enqu?te de conjoncture dans les travaux publics - Opinions sur le carnet de commandes - S?rie CVS</th>\n",
       "      <th>Enqu?te de conjoncture dans les travaux publics - Opinions sur le carnet de commandes</th>\n",
       "      <th>client?le priv?e - S?rie CVS</th>\n",
       "    </tr>\n",
       "  </thead>\n",
       "  <tbody>\n",
       "    <tr>\n",
       "      <th>0</th>\n",
       "      <td>2017</td>\n",
       "      <td>1</td>\n",
       "      <td>-25</td>\n",
       "      <td>-20</td>\n",
       "      <td>-32</td>\n",
       "    </tr>\n",
       "    <tr>\n",
       "      <th>1</th>\n",
       "      <td>2016</td>\n",
       "      <td>4</td>\n",
       "      <td>-32</td>\n",
       "      <td>-17</td>\n",
       "      <td>-40</td>\n",
       "    </tr>\n",
       "    <tr>\n",
       "      <th>2</th>\n",
       "      <td>2016</td>\n",
       "      <td>3</td>\n",
       "      <td>-41</td>\n",
       "      <td>-27</td>\n",
       "      <td>-51</td>\n",
       "    </tr>\n",
       "    <tr>\n",
       "      <th>3</th>\n",
       "      <td>2016</td>\n",
       "      <td>2</td>\n",
       "      <td>-57</td>\n",
       "      <td>-47</td>\n",
       "      <td>-65</td>\n",
       "    </tr>\n",
       "    <tr>\n",
       "      <th>4</th>\n",
       "      <td>2016</td>\n",
       "      <td>1</td>\n",
       "      <td>-57</td>\n",
       "      <td>-38</td>\n",
       "      <td>-65</td>\n",
       "    </tr>\n",
       "  </tbody>\n",
       "</table>\n",
       "</div>"
      ],
      "text/plain": [
       "   Ann?e  Trimestre  \\\n",
       "0   2017          1   \n",
       "1   2016          4   \n",
       "2   2016          3   \n",
       "3   2016          2   \n",
       "4   2016          1   \n",
       "\n",
       "   Enqu?te de conjoncture dans les travaux publics - Opinions sur le carnet de commandes - S?rie CVS  \\\n",
       "0                                                -25                                                   \n",
       "1                                                -32                                                   \n",
       "2                                                -41                                                   \n",
       "3                                                -57                                                   \n",
       "4                                                -57                                                   \n",
       "\n",
       "   Enqu?te de conjoncture dans les travaux publics - Opinions sur le carnet de commandes  \\\n",
       "0                                                -20                                       \n",
       "1                                                -17                                       \n",
       "2                                                -27                                       \n",
       "3                                                -47                                       \n",
       "4                                                -38                                       \n",
       "\n",
       "    client?le priv?e - S?rie CVS  \n",
       "0                            -32  \n",
       "1                            -40  \n",
       "2                            -51  \n",
       "3                            -65  \n",
       "4                            -65  "
      ]
     },
     "execution_count": 77,
     "metadata": {},
     "output_type": "execute_result"
    }
   ],
   "source": [
    "travaux.head()"
   ]
  },
  {
   "cell_type": "code",
   "execution_count": 78,
   "metadata": {
    "collapsed": true
   },
   "outputs": [],
   "source": [
    "travaux.columns=[\"année\",\"trimestre\",\n",
    "                 \"conjoncture travaux publics-opinions sur le carnet de commandes\",\n",
    "                 \"del\",\n",
    "                 \"conjoncture travaux publics-opinions sur client prive\"\n",
    "                 ]"
   ]
  },
  {
   "cell_type": "code",
   "execution_count": 79,
   "metadata": {
    "collapsed": true
   },
   "outputs": [],
   "source": [
    "del travaux[\"del\"]"
   ]
  },
  {
   "cell_type": "code",
   "execution_count": 80,
   "metadata": {
    "collapsed": true
   },
   "outputs": [],
   "source": [
    "pib_impot_emploi_travaux = pd.merge(pib_impot_emploi, travaux, on = [\"année\",\"trimestre\"])"
   ]
  },
  {
   "cell_type": "code",
   "execution_count": 81,
   "metadata": {
    "collapsed": false
   },
   "outputs": [
    {
     "data": {
      "text/plain": [
       "(172, 28)"
      ]
     },
     "execution_count": 81,
     "metadata": {},
     "output_type": "execute_result"
    }
   ],
   "source": [
    "pib_impot_emploi_travaux.shape"
   ]
  },
  {
   "cell_type": "markdown",
   "metadata": {},
   "source": [
    "## Table par année"
   ]
  },
  {
   "cell_type": "code",
   "execution_count": 83,
   "metadata": {
    "collapsed": true
   },
   "outputs": [],
   "source": [
    "depense_conso_menage = pd.read_csv(\"depense_conso_menage.csv\",sep=\",\")"
   ]
  },
  {
   "cell_type": "code",
   "execution_count": 84,
   "metadata": {
    "collapsed": false
   },
   "outputs": [
    {
     "data": {
      "text/html": [
       "<div>\n",
       "<table border=\"1\" class=\"dataframe\">\n",
       "  <thead>\n",
       "    <tr style=\"text-align: right;\">\n",
       "      <th></th>\n",
       "      <th>Ann?e</th>\n",
       "      <th>Comptes nationaux annuels base 2010 - D?pense de consommation finale - M?nages hors entrepreneurs individuels - Total des produits - Prix courant</th>\n",
       "    </tr>\n",
       "  </thead>\n",
       "  <tbody>\n",
       "    <tr>\n",
       "      <th>0</th>\n",
       "      <td>2015</td>\n",
       "      <td>1155987</td>\n",
       "    </tr>\n",
       "    <tr>\n",
       "      <th>1</th>\n",
       "      <td>2014</td>\n",
       "      <td>1140872</td>\n",
       "    </tr>\n",
       "    <tr>\n",
       "      <th>2</th>\n",
       "      <td>2013</td>\n",
       "      <td>1132231</td>\n",
       "    </tr>\n",
       "    <tr>\n",
       "      <th>3</th>\n",
       "      <td>2012</td>\n",
       "      <td>1119646</td>\n",
       "    </tr>\n",
       "    <tr>\n",
       "      <th>4</th>\n",
       "      <td>2011</td>\n",
       "      <td>1106881</td>\n",
       "    </tr>\n",
       "  </tbody>\n",
       "</table>\n",
       "</div>"
      ],
      "text/plain": [
       "   Ann?e  \\\n",
       "0   2015   \n",
       "1   2014   \n",
       "2   2013   \n",
       "3   2012   \n",
       "4   2011   \n",
       "\n",
       "   Comptes nationaux annuels base 2010 - D?pense de consommation finale - M?nages hors entrepreneurs individuels - Total des produits - Prix courant  \n",
       "0                                            1155987                                                                                                  \n",
       "1                                            1140872                                                                                                  \n",
       "2                                            1132231                                                                                                  \n",
       "3                                            1119646                                                                                                  \n",
       "4                                            1106881                                                                                                  "
      ]
     },
     "execution_count": 84,
     "metadata": {},
     "output_type": "execute_result"
    }
   ],
   "source": [
    "depense_conso_menage.head()"
   ]
  },
  {
   "cell_type": "code",
   "execution_count": 85,
   "metadata": {
    "collapsed": true
   },
   "outputs": [],
   "source": [
    "depense_conso_menage.columns=[\"année\",\"depense national des menages\"]"
   ]
  },
  {
   "cell_type": "code",
   "execution_count": 86,
   "metadata": {
    "collapsed": false
   },
   "outputs": [
    {
     "data": {
      "text/html": [
       "<div>\n",
       "<table border=\"1\" class=\"dataframe\">\n",
       "  <thead>\n",
       "    <tr style=\"text-align: right;\">\n",
       "      <th></th>\n",
       "      <th>année</th>\n",
       "      <th>depense national des menages</th>\n",
       "    </tr>\n",
       "  </thead>\n",
       "  <tbody>\n",
       "    <tr>\n",
       "      <th>0</th>\n",
       "      <td>2015</td>\n",
       "      <td>1155987</td>\n",
       "    </tr>\n",
       "    <tr>\n",
       "      <th>1</th>\n",
       "      <td>2014</td>\n",
       "      <td>1140872</td>\n",
       "    </tr>\n",
       "    <tr>\n",
       "      <th>2</th>\n",
       "      <td>2013</td>\n",
       "      <td>1132231</td>\n",
       "    </tr>\n",
       "    <tr>\n",
       "      <th>3</th>\n",
       "      <td>2012</td>\n",
       "      <td>1119646</td>\n",
       "    </tr>\n",
       "    <tr>\n",
       "      <th>4</th>\n",
       "      <td>2011</td>\n",
       "      <td>1106881</td>\n",
       "    </tr>\n",
       "  </tbody>\n",
       "</table>\n",
       "</div>"
      ],
      "text/plain": [
       "   année  depense national des menages\n",
       "0   2015                       1155987\n",
       "1   2014                       1140872\n",
       "2   2013                       1132231\n",
       "3   2012                       1119646\n",
       "4   2011                       1106881"
      ]
     },
     "execution_count": 86,
     "metadata": {},
     "output_type": "execute_result"
    }
   ],
   "source": [
    "depense_conso_menage.head()"
   ]
  },
  {
   "cell_type": "code",
   "execution_count": 87,
   "metadata": {
    "collapsed": true
   },
   "outputs": [],
   "source": [
    "depense_conso_menage.to_csv(\"le rendu/depense_conso_menage.csv\")"
   ]
  },
  {
   "cell_type": "code",
   "execution_count": 88,
   "metadata": {
    "collapsed": false
   },
   "outputs": [
    {
     "name": "stdout",
     "output_type": "stream",
     "text": [
      "1949\n"
     ]
    }
   ],
   "source": [
    "print(min(depense_conso_menage[\"année\"]))"
   ]
  },
  {
   "cell_type": "code",
   "execution_count": 91,
   "metadata": {
    "collapsed": false
   },
   "outputs": [
    {
     "data": {
      "text/plain": [
       "(42, 2)"
      ]
     },
     "execution_count": 91,
     "metadata": {},
     "output_type": "execute_result"
    }
   ],
   "source": [
    "depense_conso_menage.shape"
   ]
  },
  {
   "cell_type": "code",
   "execution_count": 90,
   "metadata": {
    "collapsed": true
   },
   "outputs": [],
   "source": [
    "depense_conso_menage= depense_conso_menage[depense_conso_menage[\"année\"]>1973]\n",
    "depense_conso_menage.to_csv(\"le rendu/depense_conso_menage.csv\",index=False)"
   ]
  },
  {
   "cell_type": "code",
   "execution_count": 92,
   "metadata": {
    "collapsed": true
   },
   "outputs": [],
   "source": [
    "opinion_menage.to_csv(\"le rendu/opinion_menage.csv\",index=False)\n",
    "pib_impot_emploi_travaux.to_csv(\"le rendu/pib_impot_emploi_travaux.csv\",index=False)"
   ]
  },
  {
   "cell_type": "markdown",
   "metadata": {
    "collapsed": true
   },
   "source": [
    "## Nouvelle tables année"
   ]
  },
  {
   "cell_type": "code",
   "execution_count": 40,
   "metadata": {
    "collapsed": false
   },
   "outputs": [],
   "source": [
    "conso_menage = pd.read_csv(\"conso_menage.csv\",sep=\",\")\n",
    "defail_entreprise = pd.read_csv(\"defaillance_entreprise.csv\",sep=\";\")\n",
    "logement = pd.read_csv(\"parc_logement.csv\",sep=\",\")"
   ]
  },
  {
   "cell_type": "code",
   "execution_count": 41,
   "metadata": {
    "collapsed": false
   },
   "outputs": [
    {
     "data": {
      "text/html": [
       "<div>\n",
       "<table border=\"1\" class=\"dataframe\">\n",
       "  <thead>\n",
       "    <tr style=\"text-align: right;\">\n",
       "      <th></th>\n",
       "      <th>Ann?e</th>\n",
       "      <th>Comptes nationaux annuels base 2010 - Consommation finale effective - M?nages hors entrepreneurs individuels - Logement</th>\n",
       "      <th>eau</th>\n",
       "      <th>gaz</th>\n",
       "      <th>?lectricit? et autres combustibles - Prix courant</th>\n",
       "      <th>Comptes nationaux annuels base 2010 - Consommation finale effective - M?nages hors entrepreneurs individuels - Sant? - Prix courant</th>\n",
       "      <th>Comptes nationaux annuels base 2010 - Consommation finale effective - M?nages hors entrepreneurs individuels - Transports - Prix courant</th>\n",
       "      <th>Comptes nationaux annuels base 2010 - Consommation finale effective - M?nages hors entrepreneurs individuels - Loisirs et culture - Prix courant</th>\n",
       "      <th>Comptes nationaux annuels base 2010 - Consommation finale effective - M?nages hors entrepreneurs individuels - ?ducation - Prix courant</th>\n",
       "    </tr>\n",
       "  </thead>\n",
       "  <tbody>\n",
       "    <tr>\n",
       "      <th>0</th>\n",
       "      <td>2015</td>\n",
       "      <td>306894</td>\n",
       "      <td>49011</td>\n",
       "      <td>152109</td>\n",
       "      <td>97125</td>\n",
       "      <td>10793</td>\n",
       "      <td>NaN</td>\n",
       "      <td>NaN</td>\n",
       "      <td>NaN</td>\n",
       "    </tr>\n",
       "    <tr>\n",
       "      <th>1</th>\n",
       "      <td>2014</td>\n",
       "      <td>301374</td>\n",
       "      <td>48301</td>\n",
       "      <td>150854</td>\n",
       "      <td>95994</td>\n",
       "      <td>10526</td>\n",
       "      <td>NaN</td>\n",
       "      <td>NaN</td>\n",
       "      <td>NaN</td>\n",
       "    </tr>\n",
       "    <tr>\n",
       "      <th>2</th>\n",
       "      <td>2013</td>\n",
       "      <td>301697</td>\n",
       "      <td>47838</td>\n",
       "      <td>149893</td>\n",
       "      <td>95278</td>\n",
       "      <td>10417</td>\n",
       "      <td>NaN</td>\n",
       "      <td>NaN</td>\n",
       "      <td>NaN</td>\n",
       "    </tr>\n",
       "    <tr>\n",
       "      <th>3</th>\n",
       "      <td>2012</td>\n",
       "      <td>293625</td>\n",
       "      <td>47339</td>\n",
       "      <td>152352</td>\n",
       "      <td>97042</td>\n",
       "      <td>9911</td>\n",
       "      <td>NaN</td>\n",
       "      <td>NaN</td>\n",
       "      <td>NaN</td>\n",
       "    </tr>\n",
       "    <tr>\n",
       "      <th>4</th>\n",
       "      <td>2011</td>\n",
       "      <td>281230</td>\n",
       "      <td>46396</td>\n",
       "      <td>154090</td>\n",
       "      <td>98002</td>\n",
       "      <td>9535</td>\n",
       "      <td>NaN</td>\n",
       "      <td>NaN</td>\n",
       "      <td>NaN</td>\n",
       "    </tr>\n",
       "  </tbody>\n",
       "</table>\n",
       "</div>"
      ],
      "text/plain": [
       "   Ann?e  \\\n",
       "0   2015   \n",
       "1   2014   \n",
       "2   2013   \n",
       "3   2012   \n",
       "4   2011   \n",
       "\n",
       "   Comptes nationaux annuels base 2010 - Consommation finale effective - M?nages hors entrepreneurs individuels - Logement  \\\n",
       "0                                             306894                                                                         \n",
       "1                                             301374                                                                         \n",
       "2                                             301697                                                                         \n",
       "3                                             293625                                                                         \n",
       "4                                             281230                                                                         \n",
       "\n",
       "     eau     gaz   ?lectricit? et autres combustibles - Prix courant  \\\n",
       "0  49011  152109                                              97125    \n",
       "1  48301  150854                                              95994    \n",
       "2  47838  149893                                              95278    \n",
       "3  47339  152352                                              97042    \n",
       "4  46396  154090                                              98002    \n",
       "\n",
       "   Comptes nationaux annuels base 2010 - Consommation finale effective - M?nages hors entrepreneurs individuels - Sant? - Prix courant  \\\n",
       "0                                              10793                                                                                     \n",
       "1                                              10526                                                                                     \n",
       "2                                              10417                                                                                     \n",
       "3                                               9911                                                                                     \n",
       "4                                               9535                                                                                     \n",
       "\n",
       "   Comptes nationaux annuels base 2010 - Consommation finale effective - M?nages hors entrepreneurs individuels - Transports - Prix courant  \\\n",
       "0                                                NaN                                                                                          \n",
       "1                                                NaN                                                                                          \n",
       "2                                                NaN                                                                                          \n",
       "3                                                NaN                                                                                          \n",
       "4                                                NaN                                                                                          \n",
       "\n",
       "   Comptes nationaux annuels base 2010 - Consommation finale effective - M?nages hors entrepreneurs individuels - Loisirs et culture - Prix courant  \\\n",
       "0                                                NaN                                                                                                  \n",
       "1                                                NaN                                                                                                  \n",
       "2                                                NaN                                                                                                  \n",
       "3                                                NaN                                                                                                  \n",
       "4                                                NaN                                                                                                  \n",
       "\n",
       "   Comptes nationaux annuels base 2010 - Consommation finale effective - M?nages hors entrepreneurs individuels - ?ducation - Prix courant  \n",
       "0                                                NaN                                                                                        \n",
       "1                                                NaN                                                                                        \n",
       "2                                                NaN                                                                                        \n",
       "3                                                NaN                                                                                        \n",
       "4                                                NaN                                                                                        "
      ]
     },
     "execution_count": 41,
     "metadata": {},
     "output_type": "execute_result"
    }
   ],
   "source": [
    "conso_menage.head()"
   ]
  },
  {
   "cell_type": "code",
   "execution_count": 42,
   "metadata": {
    "collapsed": true
   },
   "outputs": [],
   "source": [
    "del conso_menage[\"Comptes nationaux annuels base 2010 - Consommation finale effective - M?nages hors entrepreneurs individuels - Transports - Prix courant\"]\n",
    "del conso_menage[\"Comptes nationaux annuels base 2010 - Consommation finale effective - M?nages hors entrepreneurs individuels - Loisirs et culture - Prix courant\"]\n",
    "del conso_menage[\"Comptes nationaux annuels base 2010 - Consommation finale effective - M?nages hors entrepreneurs individuels - ?ducation - Prix courant\"]\n"
   ]
  },
  {
   "cell_type": "code",
   "execution_count": 43,
   "metadata": {
    "collapsed": false
   },
   "outputs": [],
   "source": [
    "conso_menage.columns=[\"année\",\n",
    "                 \"consommation menages - logement\",\n",
    "                 \"consommation menages - eau\",\n",
    "                 \"consommation menages - gaz\",\n",
    "                \"consommation menages - electricite\",\n",
    "                \"consommation menages - sante\"   \n",
    "                 ]"
   ]
  },
  {
   "cell_type": "code",
   "execution_count": 44,
   "metadata": {
    "collapsed": true
   },
   "outputs": [],
   "source": [
    "conso_menage[\"année\"] = conso_menage[\"année\"].apply(lambda x : x+1)\n",
    "conso_menage = conso_menage[conso_menage[\"année\"]>1973]"
   ]
  },
  {
   "cell_type": "code",
   "execution_count": 45,
   "metadata": {
    "collapsed": false
   },
   "outputs": [
    {
     "data": {
      "text/html": [
       "<div>\n",
       "<table border=\"1\" class=\"dataframe\">\n",
       "  <thead>\n",
       "    <tr style=\"text-align: right;\">\n",
       "      <th></th>\n",
       "      <th>année</th>\n",
       "      <th>consommation menages - logement</th>\n",
       "      <th>consommation menages - eau</th>\n",
       "      <th>consommation menages - gaz</th>\n",
       "      <th>consommation menages - electricite</th>\n",
       "      <th>consommation menages - sante</th>\n",
       "    </tr>\n",
       "  </thead>\n",
       "  <tbody>\n",
       "    <tr>\n",
       "      <th>0</th>\n",
       "      <td>2016</td>\n",
       "      <td>306894</td>\n",
       "      <td>49011</td>\n",
       "      <td>152109</td>\n",
       "      <td>97125</td>\n",
       "      <td>10793</td>\n",
       "    </tr>\n",
       "    <tr>\n",
       "      <th>1</th>\n",
       "      <td>2015</td>\n",
       "      <td>301374</td>\n",
       "      <td>48301</td>\n",
       "      <td>150854</td>\n",
       "      <td>95994</td>\n",
       "      <td>10526</td>\n",
       "    </tr>\n",
       "    <tr>\n",
       "      <th>2</th>\n",
       "      <td>2014</td>\n",
       "      <td>301697</td>\n",
       "      <td>47838</td>\n",
       "      <td>149893</td>\n",
       "      <td>95278</td>\n",
       "      <td>10417</td>\n",
       "    </tr>\n",
       "    <tr>\n",
       "      <th>3</th>\n",
       "      <td>2013</td>\n",
       "      <td>293625</td>\n",
       "      <td>47339</td>\n",
       "      <td>152352</td>\n",
       "      <td>97042</td>\n",
       "      <td>9911</td>\n",
       "    </tr>\n",
       "    <tr>\n",
       "      <th>4</th>\n",
       "      <td>2012</td>\n",
       "      <td>281230</td>\n",
       "      <td>46396</td>\n",
       "      <td>154090</td>\n",
       "      <td>98002</td>\n",
       "      <td>9535</td>\n",
       "    </tr>\n",
       "  </tbody>\n",
       "</table>\n",
       "</div>"
      ],
      "text/plain": [
       "   année  consommation menages - logement  consommation menages - eau  \\\n",
       "0   2016                           306894                       49011   \n",
       "1   2015                           301374                       48301   \n",
       "2   2014                           301697                       47838   \n",
       "3   2013                           293625                       47339   \n",
       "4   2012                           281230                       46396   \n",
       "\n",
       "   consommation menages - gaz  consommation menages - electricite  \\\n",
       "0                      152109                               97125   \n",
       "1                      150854                               95994   \n",
       "2                      149893                               95278   \n",
       "3                      152352                               97042   \n",
       "4                      154090                               98002   \n",
       "\n",
       "   consommation menages - sante  \n",
       "0                         10793  \n",
       "1                         10526  \n",
       "2                         10417  \n",
       "3                          9911  \n",
       "4                          9535  "
      ]
     },
     "execution_count": 45,
     "metadata": {},
     "output_type": "execute_result"
    }
   ],
   "source": [
    "conso_menage.head()"
   ]
  },
  {
   "cell_type": "code",
   "execution_count": 46,
   "metadata": {
    "collapsed": false
   },
   "outputs": [
    {
     "data": {
      "text/html": [
       "<div>\n",
       "<table border=\"1\" class=\"dataframe\">\n",
       "  <thead>\n",
       "    <tr style=\"text-align: right;\">\n",
       "      <th></th>\n",
       "      <th>Ann?e</th>\n",
       "      <th>Annual number of business failures - France</th>\n",
       "    </tr>\n",
       "  </thead>\n",
       "  <tbody>\n",
       "    <tr>\n",
       "      <th>0</th>\n",
       "      <td>2016</td>\n",
       "      <td>58,057</td>\n",
       "    </tr>\n",
       "    <tr>\n",
       "      <th>1</th>\n",
       "      <td>2015</td>\n",
       "      <td>63,159</td>\n",
       "    </tr>\n",
       "    <tr>\n",
       "      <th>2</th>\n",
       "      <td>2014</td>\n",
       "      <td>62,43</td>\n",
       "    </tr>\n",
       "    <tr>\n",
       "      <th>3</th>\n",
       "      <td>2013</td>\n",
       "      <td>62,532</td>\n",
       "    </tr>\n",
       "    <tr>\n",
       "      <th>4</th>\n",
       "      <td>2012</td>\n",
       "      <td>61,095</td>\n",
       "    </tr>\n",
       "  </tbody>\n",
       "</table>\n",
       "</div>"
      ],
      "text/plain": [
       "   Ann?e Annual number of business failures - France\n",
       "0   2016                                      58,057\n",
       "1   2015                                      63,159\n",
       "2   2014                                       62,43\n",
       "3   2013                                      62,532\n",
       "4   2012                                      61,095"
      ]
     },
     "execution_count": 46,
     "metadata": {},
     "output_type": "execute_result"
    }
   ],
   "source": [
    "defail_entreprise.head()"
   ]
  },
  {
   "cell_type": "code",
   "execution_count": 47,
   "metadata": {
    "collapsed": true
   },
   "outputs": [],
   "source": [
    "defail_entreprise.columns=[\"année\",\n",
    "                \"nb defaillance entreprises\"  \n",
    "                 ]"
   ]
  },
  {
   "cell_type": "code",
   "execution_count": 48,
   "metadata": {
    "collapsed": false
   },
   "outputs": [
    {
     "data": {
      "text/html": [
       "<div>\n",
       "<table border=\"1\" class=\"dataframe\">\n",
       "  <thead>\n",
       "    <tr style=\"text-align: right;\">\n",
       "      <th></th>\n",
       "      <th>Ann?e</th>\n",
       "      <th>Estimation annuelle du parc de logements - Nombre total de logements - France m?tropolitaine</th>\n",
       "      <th>Estimation annuelle du parc de logements - Nombre de r?sidences principales - Ensemble - France m?tropolitaine</th>\n",
       "      <th>Estimation annuelle du parc de logements - Nombre de r?sidences secondaires et logements occasionnels - France m?tropolitaine</th>\n",
       "      <th>Estimation annuelle du parc de logements - Nombre de logements vacants - France m?tropolitaine</th>\n",
       "    </tr>\n",
       "  </thead>\n",
       "  <tbody>\n",
       "    <tr>\n",
       "      <th>0</th>\n",
       "      <td>2016</td>\n",
       "      <td>34537</td>\n",
       "      <td>28430</td>\n",
       "      <td>3281</td>\n",
       "      <td>2825</td>\n",
       "    </tr>\n",
       "    <tr>\n",
       "      <th>1</th>\n",
       "      <td>2015</td>\n",
       "      <td>34225</td>\n",
       "      <td>28231</td>\n",
       "      <td>3255</td>\n",
       "      <td>2740</td>\n",
       "    </tr>\n",
       "    <tr>\n",
       "      <th>2</th>\n",
       "      <td>2014</td>\n",
       "      <td>33917</td>\n",
       "      <td>28032</td>\n",
       "      <td>3228</td>\n",
       "      <td>2656</td>\n",
       "    </tr>\n",
       "    <tr>\n",
       "      <th>3</th>\n",
       "      <td>2013</td>\n",
       "      <td>33575</td>\n",
       "      <td>27805</td>\n",
       "      <td>3199</td>\n",
       "      <td>2570</td>\n",
       "    </tr>\n",
       "    <tr>\n",
       "      <th>4</th>\n",
       "      <td>2012</td>\n",
       "      <td>33212</td>\n",
       "      <td>27567</td>\n",
       "      <td>3163</td>\n",
       "      <td>2482</td>\n",
       "    </tr>\n",
       "  </tbody>\n",
       "</table>\n",
       "</div>"
      ],
      "text/plain": [
       "   Ann?e  \\\n",
       "0   2016   \n",
       "1   2015   \n",
       "2   2014   \n",
       "3   2013   \n",
       "4   2012   \n",
       "\n",
       "   Estimation annuelle du parc de logements - Nombre total de logements - France m?tropolitaine  \\\n",
       "0                                              34537                                              \n",
       "1                                              34225                                              \n",
       "2                                              33917                                              \n",
       "3                                              33575                                              \n",
       "4                                              33212                                              \n",
       "\n",
       "   Estimation annuelle du parc de logements - Nombre de r?sidences principales - Ensemble - France m?tropolitaine  \\\n",
       "0                                              28430                                                                \n",
       "1                                              28231                                                                \n",
       "2                                              28032                                                                \n",
       "3                                              27805                                                                \n",
       "4                                              27567                                                                \n",
       "\n",
       "   Estimation annuelle du parc de logements - Nombre de r?sidences secondaires et logements occasionnels - France m?tropolitaine  \\\n",
       "0                                               3281                                                                               \n",
       "1                                               3255                                                                               \n",
       "2                                               3228                                                                               \n",
       "3                                               3199                                                                               \n",
       "4                                               3163                                                                               \n",
       "\n",
       "   Estimation annuelle du parc de logements - Nombre de logements vacants - France m?tropolitaine  \n",
       "0                                               2825                                               \n",
       "1                                               2740                                               \n",
       "2                                               2656                                               \n",
       "3                                               2570                                               \n",
       "4                                               2482                                               "
      ]
     },
     "execution_count": 48,
     "metadata": {},
     "output_type": "execute_result"
    }
   ],
   "source": [
    "logement.head()"
   ]
  },
  {
   "cell_type": "code",
   "execution_count": 49,
   "metadata": {
    "collapsed": true
   },
   "outputs": [],
   "source": [
    "logement.columns=[\"année\",\n",
    "                \"nombre total de logement\",\n",
    "                \"nombre de residence principale\",\n",
    "                \"nombre residence secondaire\",\n",
    "                \"nombre de logement vacant\"\n",
    "                 ]"
   ]
  },
  {
   "cell_type": "code",
   "execution_count": 50,
   "metadata": {
    "collapsed": false
   },
   "outputs": [
    {
     "name": "stdout",
     "output_type": "stream",
     "text": [
      "1982\n",
      "1974\n",
      "1974\n"
     ]
    }
   ],
   "source": [
    "print(min(logement[\"année\"]))\n",
    "print(min(defail_entreprise[\"année\"]))\n",
    "print(min(conso_menage[\"année\"]))"
   ]
  },
  {
   "cell_type": "code",
   "execution_count": 52,
   "metadata": {
    "collapsed": false
   },
   "outputs": [
    {
     "name": "stdout",
     "output_type": "stream",
     "text": [
      "(35,)\n",
      "(43, 2)\n",
      "(43, 6)\n"
     ]
    }
   ],
   "source": [
    "print(logement[\"année\"].shape)\n",
    "print(defail_entreprise.shape)\n",
    "print(conso_menage.shape)"
   ]
  },
  {
   "cell_type": "code",
   "execution_count": 53,
   "metadata": {
    "collapsed": true
   },
   "outputs": [],
   "source": [
    "entreprise_menage = pd.merge(defail_entreprise, conso_menage, on =[\"année\"])"
   ]
  },
  {
   "cell_type": "code",
   "execution_count": 54,
   "metadata": {
    "collapsed": false
   },
   "outputs": [
    {
     "data": {
      "text/plain": [
       "(43, 7)"
      ]
     },
     "execution_count": 54,
     "metadata": {},
     "output_type": "execute_result"
    }
   ],
   "source": [
    "entreprise_menage.shape"
   ]
  },
  {
   "cell_type": "code",
   "execution_count": 55,
   "metadata": {
    "collapsed": true
   },
   "outputs": [],
   "source": [
    "entreprise_menage_logement = pd.merge(entreprise_menage, logement, how=\"left\", on=\"année\")"
   ]
  },
  {
   "cell_type": "code",
   "execution_count": 57,
   "metadata": {
    "collapsed": false
   },
   "outputs": [
    {
     "data": {
      "text/plain": [
       "(43, 11)"
      ]
     },
     "execution_count": 57,
     "metadata": {},
     "output_type": "execute_result"
    }
   ],
   "source": [
    "entreprise_menage_logement.shape"
   ]
  },
  {
   "cell_type": "code",
   "execution_count": 59,
   "metadata": {
    "collapsed": false
   },
   "outputs": [],
   "source": [
    "entreprise_menage_logement.to_csv(\"le rendu/entrerise_menage_logement.csv\",index=False)"
   ]
  },
  {
   "cell_type": "markdown",
   "metadata": {
    "collapsed": true
   },
   "source": [
    "## Last legislative\n",
    "86 -> 88\n"
   ]
  },
  {
   "cell_type": "code",
   "execution_count": null,
   "metadata": {
    "collapsed": true
   },
   "outputs": [],
   "source": []
  }
 ],
 "metadata": {
  "anaconda-cloud": {},
  "kernelspec": {
   "display_name": "Python [Root]",
   "language": "python",
   "name": "Python [Root]"
  },
  "language_info": {
   "codemirror_mode": {
    "name": "ipython",
    "version": 3
   },
   "file_extension": ".py",
   "mimetype": "text/x-python",
   "name": "python",
   "nbconvert_exporter": "python",
   "pygments_lexer": "ipython3",
   "version": "3.5.2"
  }
 },
 "nbformat": 4,
 "nbformat_minor": 0
}
