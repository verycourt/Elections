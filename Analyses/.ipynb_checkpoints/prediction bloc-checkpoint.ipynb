{
 "cells": [
  {
   "cell_type": "code",
   "execution_count": 1,
   "metadata": {
    "collapsed": false
   },
   "outputs": [],
   "source": [
    "import pandas as pd\n",
    "import numpy as np \n",
    "import seaborn as sns\n",
    "import glob, os\n",
    "from IPython.display import Image\n",
    "from sklearn.preprocessing import StandardScaler\n",
    "from sklearn.svm import LinearSVR, SVR\n",
    "from sklearn import metrics\n",
    "from sklearn.linear_model import LinearRegression,Ridge\n",
    "import statsmodels.api as sm\n",
    "from sklearn import linear_model\n",
    "from sklearn.tree import DecisionTreeRegressor\n",
    "from sklearn.decomposition import PCA\n",
    "from sklearn.feature_selection import SelectFromModel\n",
    "from sklearn.feature_selection import RFE\n",
    "from sklearn import tree\n",
    "import pydotplus\n",
    "from sklearn.externals.six import StringIO\n",
    "import matplotlib.pyplot as plt\n",
    "%matplotlib inline\n",
    "from collections import Counter\n",
    "from sklearn.feature_selection import SelectKBest\n",
    "from sklearn.feature_selection import chi2, f_regression\n",
    "from sklearn.feature_selection import f_regression\n",
    "from sklearn.linear_model import ElasticNet\n",
    "import forward_selection as fs\n",
    "from scipy.stats import chi2_contingency, pearsonr, spearmanr"
   ]
  },
  {
   "cell_type": "markdown",
   "metadata": {},
   "source": [
    "## Préparation de la base"
   ]
  },
  {
   "cell_type": "code",
   "execution_count": 2,
   "metadata": {
    "collapsed": false
   },
   "outputs": [],
   "source": [
    "dft11 = pd.read_csv(\"la_base.csv\", encoding=\"latin1\")"
   ]
  },
  {
   "cell_type": "code",
   "execution_count": 3,
   "metadata": {
    "collapsed": false,
    "scrolled": true
   },
   "outputs": [
    {
     "data": {
      "text/plain": [
       "Index(['d?partement', 'code', 'Ann?e', 'taux_Blancs et nuls', 'taux_xdroite',\n",
       "       'taux_gauche', 'taux_Abstention', 'taux_xgauche', 'taux_centre',\n",
       "       'taux_vert', 'taux_droite', 'depart_frontalier', 'depart_OM',\n",
       "       'depart_CORSE', '0-19ans', '20-39ans', '40-59ans', '60-74ans', '75+ans',\n",
       "       'Total', 'Naissances domicili?es par d?partement',\n",
       "       'Nombre total de mariages domicili?s',\n",
       "       'D?c?s domicili?s par d?partement', 'Q1_rate', 'Q2_rate', 'Q3_rate',\n",
       "       'Q4_rate', 'var_chomage_annee', 'taux_chomage',\n",
       "       'taux_centre_sup_moyenne', 'taux_droite_sup_moyenne',\n",
       "       'taux_gauche_sup_moyenne', 'taux_vert_sup_moyenne',\n",
       "       'taux_xdroite_sup_moyenne', 'taux_xgauche_sup_moyenne',\n",
       "       'taux_Abstention_sup_moyenne', 'taux_Blancs et nuls_sup_moyenne',\n",
       "       'Date', 'pop_verts', 'pop_centre', 'pop_droite', 'pop_gauche',\n",
       "       'pop_xdroite', 'pop_xgauche', 'pop_premier_ministre', 'cohabitation',\n",
       "       'pop_president', 'droite_au_pouvoir', 'Dissident', 'Superficie ',\n",
       "       'Densit?', 'persistance_gauche', 'persistance_droite',\n",
       "       'persistance centre', 'persistance_centre_droite', 'pres_centre',\n",
       "       'pres_droite', 'pres_gauche', 'pres_xgauche', 'importations',\n",
       "       'subventions',\n",
       "       'conjoncture travaux publics-opinions sur le carnet de commandes',\n",
       "       'capacit? epargne actuelle (augmentation moins diminution)',\n",
       "       'opportunite epargner(favorable moins favorable)',\n",
       "       'capacite epargne future(am?lioration moins deterioration)',\n",
       "       'densit?_m?decins', 'consommation menages - electricite',\n",
       "       'nombre de logement vacant'],\n",
       "      dtype='object')"
      ]
     },
     "execution_count": 3,
     "metadata": {},
     "output_type": "execute_result"
    }
   ],
   "source": [
    "dft11.columns"
   ]
  },
  {
   "cell_type": "code",
   "execution_count": 4,
   "metadata": {
    "collapsed": false
   },
   "outputs": [
    {
     "data": {
      "text/plain": [
       "Index(['d?partement', 'code', 'Ann?e', 'taux_Blancs et nuls', 'taux_xdroite',\n",
       "       'taux_gauche', 'taux_Abstention', 'taux_xgauche', 'taux_centre',\n",
       "       'taux_vert', 'taux_droite', 'depart_frontalier', 'depart_OM',\n",
       "       'depart_CORSE', '0-19ans', '20-39ans', '40-59ans', '60-74ans', '75+ans',\n",
       "       'Total', 'Naissances domicili?es par d?partement',\n",
       "       'Nombre total de mariages domicili?s',\n",
       "       'D?c?s domicili?s par d?partement', 'Q1_rate', 'Q2_rate', 'Q3_rate',\n",
       "       'Q4_rate', 'var_chomage_annee', 'taux_chomage',\n",
       "       'taux_centre_sup_moyenne', 'taux_droite_sup_moyenne',\n",
       "       'taux_gauche_sup_moyenne', 'taux_vert_sup_moyenne',\n",
       "       'taux_xdroite_sup_moyenne', 'taux_xgauche_sup_moyenne',\n",
       "       'taux_Abstention_sup_moyenne', 'taux_Blancs et nuls_sup_moyenne',\n",
       "       'Date', 'pop_verts', 'pop_centre', 'pop_droite', 'pop_gauche',\n",
       "       'pop_xdroite', 'pop_xgauche', 'pop_premier_ministre', 'cohabitation',\n",
       "       'pop_president', 'droite_au_pouvoir', 'Dissident', 'Superficie ',\n",
       "       'Densit?', 'persistance_gauche', 'persistance_droite',\n",
       "       'persistance centre', 'persistance_centre_droite', 'pres_centre',\n",
       "       'pres_droite', 'pres_gauche', 'pres_xgauche', 'importations',\n",
       "       'subventions',\n",
       "       'conjoncture travaux publics-opinions sur le carnet de commandes',\n",
       "       'capacit? epargne actuelle (augmentation moins diminution)',\n",
       "       'opportunite epargner(favorable moins favorable)',\n",
       "       'capacite epargne future(am?lioration moins deterioration)',\n",
       "       'densit?_m?decins', 'consommation menages - electricite',\n",
       "       'nombre de logement vacant'],\n",
       "      dtype='object')"
      ]
     },
     "execution_count": 4,
     "metadata": {},
     "output_type": "execute_result"
    }
   ],
   "source": [
    "dft11.columns"
   ]
  },
  {
   "cell_type": "code",
   "execution_count": 5,
   "metadata": {
    "collapsed": false
   },
   "outputs": [],
   "source": [
    "dft11[\"taux_bgauche\"] = dft11['taux_xgauche']+ dft11['taux_gauche'] + dft11['taux_vert']\n",
    "dft11[\"taux_bdroite\"] = dft11['taux_droite']+ dft11['taux_centre']"
   ]
  },
  {
   "cell_type": "code",
   "execution_count": 6,
   "metadata": {
    "collapsed": false
   },
   "outputs": [
    {
     "data": {
      "text/html": [
       "<div>\n",
       "<table border=\"1\" class=\"dataframe\">\n",
       "  <thead>\n",
       "    <tr style=\"text-align: right;\">\n",
       "      <th></th>\n",
       "      <th>d?partement</th>\n",
       "      <th>code</th>\n",
       "      <th>Ann?e</th>\n",
       "      <th>taux_Blancs et nuls</th>\n",
       "      <th>taux_xdroite</th>\n",
       "      <th>taux_gauche</th>\n",
       "      <th>taux_Abstention</th>\n",
       "      <th>taux_xgauche</th>\n",
       "      <th>taux_centre</th>\n",
       "      <th>taux_vert</th>\n",
       "      <th>...</th>\n",
       "      <th>subventions</th>\n",
       "      <th>conjoncture travaux publics-opinions sur le carnet de commandes</th>\n",
       "      <th>capacit? epargne actuelle (augmentation moins diminution)</th>\n",
       "      <th>opportunite epargner(favorable moins favorable)</th>\n",
       "      <th>capacite epargne future(am?lioration moins deterioration)</th>\n",
       "      <th>densit?_m?decins</th>\n",
       "      <th>consommation menages - electricite</th>\n",
       "      <th>nombre de logement vacant</th>\n",
       "      <th>taux_bgauche</th>\n",
       "      <th>taux_bdroite</th>\n",
       "    </tr>\n",
       "  </thead>\n",
       "  <tbody>\n",
       "    <tr>\n",
       "      <th>0</th>\n",
       "      <td>AIN</td>\n",
       "      <td>1</td>\n",
       "      <td>1981.0</td>\n",
       "      <td>1.604750</td>\n",
       "      <td>0.000000</td>\n",
       "      <td>27.982284</td>\n",
       "      <td>27.940015</td>\n",
       "      <td>14.888346</td>\n",
       "      <td>31.660729</td>\n",
       "      <td>4.226724</td>\n",
       "      <td>...</td>\n",
       "      <td>-1797.75</td>\n",
       "      <td>-48.00</td>\n",
       "      <td>8.333333</td>\n",
       "      <td>-31.916667</td>\n",
       "      <td>-18.666667</td>\n",
       "      <td>84.34</td>\n",
       "      <td>21650</td>\n",
       "      <td>NaN</td>\n",
       "      <td>47.097355</td>\n",
       "      <td>52.902645</td>\n",
       "    </tr>\n",
       "    <tr>\n",
       "      <th>1</th>\n",
       "      <td>AIN</td>\n",
       "      <td>1</td>\n",
       "      <td>1988.0</td>\n",
       "      <td>1.879541</td>\n",
       "      <td>16.041776</td>\n",
       "      <td>31.377812</td>\n",
       "      <td>23.877703</td>\n",
       "      <td>8.171024</td>\n",
       "      <td>21.290640</td>\n",
       "      <td>4.065072</td>\n",
       "      <td>...</td>\n",
       "      <td>-3613.50</td>\n",
       "      <td>1.00</td>\n",
       "      <td>4.666667</td>\n",
       "      <td>6.333333</td>\n",
       "      <td>-9.833333</td>\n",
       "      <td>108.59</td>\n",
       "      <td>41112</td>\n",
       "      <td>1891.0</td>\n",
       "      <td>43.613907</td>\n",
       "      <td>40.344317</td>\n",
       "    </tr>\n",
       "    <tr>\n",
       "      <th>2</th>\n",
       "      <td>AIN</td>\n",
       "      <td>1</td>\n",
       "      <td>1995.0</td>\n",
       "      <td>3.155125</td>\n",
       "      <td>19.751523</td>\n",
       "      <td>20.553725</td>\n",
       "      <td>25.807688</td>\n",
       "      <td>11.073277</td>\n",
       "      <td>19.814177</td>\n",
       "      <td>3.932995</td>\n",
       "      <td>...</td>\n",
       "      <td>-3850.00</td>\n",
       "      <td>-47.25</td>\n",
       "      <td>9.166667</td>\n",
       "      <td>28.500000</td>\n",
       "      <td>-10.166667</td>\n",
       "      <td>127.35</td>\n",
       "      <td>56611</td>\n",
       "      <td>1949.0</td>\n",
       "      <td>35.559996</td>\n",
       "      <td>44.688481</td>\n",
       "    </tr>\n",
       "    <tr>\n",
       "      <th>3</th>\n",
       "      <td>AIN</td>\n",
       "      <td>1</td>\n",
       "      <td>2002.0</td>\n",
       "      <td>3.540833</td>\n",
       "      <td>25.246258</td>\n",
       "      <td>20.716478</td>\n",
       "      <td>37.217333</td>\n",
       "      <td>11.320086</td>\n",
       "      <td>8.927322</td>\n",
       "      <td>7.374661</td>\n",
       "      <td>...</td>\n",
       "      <td>-4745.00</td>\n",
       "      <td>-28.00</td>\n",
       "      <td>11.833333</td>\n",
       "      <td>24.750000</td>\n",
       "      <td>-3.250000</td>\n",
       "      <td>127.56</td>\n",
       "      <td>77698</td>\n",
       "      <td>1954.0</td>\n",
       "      <td>39.411224</td>\n",
       "      <td>35.342518</td>\n",
       "    </tr>\n",
       "    <tr>\n",
       "      <th>4</th>\n",
       "      <td>AIN</td>\n",
       "      <td>1</td>\n",
       "      <td>2007.0</td>\n",
       "      <td>1.344946</td>\n",
       "      <td>12.233715</td>\n",
       "      <td>20.826783</td>\n",
       "      <td>16.571575</td>\n",
       "      <td>6.279643</td>\n",
       "      <td>19.637678</td>\n",
       "      <td>3.020936</td>\n",
       "      <td>...</td>\n",
       "      <td>-3140.75</td>\n",
       "      <td>27.75</td>\n",
       "      <td>5.250000</td>\n",
       "      <td>25.583333</td>\n",
       "      <td>-8.083333</td>\n",
       "      <td>123.76</td>\n",
       "      <td>95093</td>\n",
       "      <td>2014.0</td>\n",
       "      <td>30.127362</td>\n",
       "      <td>57.638923</td>\n",
       "    </tr>\n",
       "  </tbody>\n",
       "</table>\n",
       "<p>5 rows × 70 columns</p>\n",
       "</div>"
      ],
      "text/plain": [
       "  d?partement code   Ann?e  taux_Blancs et nuls  taux_xdroite  taux_gauche  \\\n",
       "0         AIN    1  1981.0             1.604750      0.000000    27.982284   \n",
       "1         AIN    1  1988.0             1.879541     16.041776    31.377812   \n",
       "2         AIN    1  1995.0             3.155125     19.751523    20.553725   \n",
       "3         AIN    1  2002.0             3.540833     25.246258    20.716478   \n",
       "4         AIN    1  2007.0             1.344946     12.233715    20.826783   \n",
       "\n",
       "   taux_Abstention  taux_xgauche  taux_centre  taux_vert      ...       \\\n",
       "0        27.940015     14.888346    31.660729   4.226724      ...        \n",
       "1        23.877703      8.171024    21.290640   4.065072      ...        \n",
       "2        25.807688     11.073277    19.814177   3.932995      ...        \n",
       "3        37.217333     11.320086     8.927322   7.374661      ...        \n",
       "4        16.571575      6.279643    19.637678   3.020936      ...        \n",
       "\n",
       "   subventions  \\\n",
       "0     -1797.75   \n",
       "1     -3613.50   \n",
       "2     -3850.00   \n",
       "3     -4745.00   \n",
       "4     -3140.75   \n",
       "\n",
       "   conjoncture travaux publics-opinions sur le carnet de commandes  \\\n",
       "0                                             -48.00                 \n",
       "1                                               1.00                 \n",
       "2                                             -47.25                 \n",
       "3                                             -28.00                 \n",
       "4                                              27.75                 \n",
       "\n",
       "   capacit? epargne actuelle (augmentation moins diminution)  \\\n",
       "0                                           8.333333           \n",
       "1                                           4.666667           \n",
       "2                                           9.166667           \n",
       "3                                          11.833333           \n",
       "4                                           5.250000           \n",
       "\n",
       "   opportunite epargner(favorable moins favorable)  \\\n",
       "0                                       -31.916667   \n",
       "1                                         6.333333   \n",
       "2                                        28.500000   \n",
       "3                                        24.750000   \n",
       "4                                        25.583333   \n",
       "\n",
       "   capacite epargne future(am?lioration moins deterioration)  \\\n",
       "0                                         -18.666667           \n",
       "1                                          -9.833333           \n",
       "2                                         -10.166667           \n",
       "3                                          -3.250000           \n",
       "4                                          -8.083333           \n",
       "\n",
       "   densit?_m?decins  consommation menages - electricite  \\\n",
       "0             84.34                               21650   \n",
       "1            108.59                               41112   \n",
       "2            127.35                               56611   \n",
       "3            127.56                               77698   \n",
       "4            123.76                               95093   \n",
       "\n",
       "   nombre de logement vacant  taux_bgauche  taux_bdroite  \n",
       "0                        NaN     47.097355     52.902645  \n",
       "1                     1891.0     43.613907     40.344317  \n",
       "2                     1949.0     35.559996     44.688481  \n",
       "3                     1954.0     39.411224     35.342518  \n",
       "4                     2014.0     30.127362     57.638923  \n",
       "\n",
       "[5 rows x 70 columns]"
      ]
     },
     "execution_count": 6,
     "metadata": {},
     "output_type": "execute_result"
    }
   ],
   "source": [
    "dft11.head()"
   ]
  },
  {
   "cell_type": "code",
   "execution_count": 7,
   "metadata": {
    "collapsed": false
   },
   "outputs": [],
   "source": [
    "dft11[\"taux_sortie_sans_bloc\"] = np.nan \n",
    "dft11.ix[dft11[\"Ann?e\"]==1981,\"taux_sortie_sans_bloc\"] = dft11.ix[dft11[\"Ann?e\"]==1981,\"taux_centre\"]\n",
    "dft11.ix[dft11[\"Ann?e\"]==1988,\"taux_sortie_sans_bloc\"] = dft11.ix[dft11[\"Ann?e\"]==1988,\"taux_gauche\"]\n",
    "dft11.ix[dft11[\"Ann?e\"]==1995,\"taux_sortie_sans_bloc\"] = dft11.ix[dft11[\"Ann?e\"]==1995,\"taux_gauche\"]\n",
    "dft11.ix[dft11[\"Ann?e\"]==2002,\"taux_sortie_sans_bloc\"] = dft11.ix[dft11[\"Ann?e\"]==2002,\"taux_droite\"]\n",
    "dft11.ix[dft11[\"Ann?e\"]==2007,\"taux_sortie_sans_bloc\"] = dft11.ix[dft11[\"Ann?e\"]==2007,\"taux_droite\"]\n",
    "dft11.ix[dft11[\"Ann?e\"]==2012,\"taux_sortie_sans_bloc\"] = dft11.ix[dft11[\"Ann?e\"]==2012,\"taux_droite\"]"
   ]
  },
  {
   "cell_type": "code",
   "execution_count": 8,
   "metadata": {
    "collapsed": false
   },
   "outputs": [],
   "source": [
    "dft11[\"taux_sortie_avec_bloc\"] = np.nan \n",
    "dft11.ix[dft11[\"Ann?e\"]==1981,\"taux_sortie_avec_bloc\"] = dft11.ix[dft11[\"Ann?e\"]==1981,\"taux_centre\"] +\\\n",
    "dft11.ix[dft11[\"Ann?e\"]==1981,\"taux_droite\"]\n",
    "dft11.ix[dft11[\"Ann?e\"]==1988,\"taux_sortie_avec_bloc\"] = dft11.ix[dft11[\"Ann?e\"]==1988,\"taux_gauche\"]+\\\n",
    "dft11.ix[dft11[\"Ann?e\"]==1988,\"taux_xgauche\"] + dft11.ix[dft11[\"Ann?e\"]==1988,\"taux_vert\"]\n",
    "        \n",
    "dft11.ix[dft11[\"Ann?e\"]==1995,\"taux_sortie_avec_bloc\"] = dft11.ix[dft11[\"Ann?e\"]==1995,\"taux_gauche\"]+\\\n",
    "dft11.ix[dft11[\"Ann?e\"]==1995,\"taux_xgauche\"] + dft11.ix[dft11[\"Ann?e\"]==1995,\"taux_vert\"]\n",
    "\n",
    "dft11.ix[dft11[\"Ann?e\"]==2002,\"taux_sortie_avec_bloc\"] = dft11.ix[dft11[\"Ann?e\"]==2002,\"taux_droite\"]+\\\n",
    "dft11.ix[dft11[\"Ann?e\"]==2002,\"taux_centre\"]\n",
    "dft11.ix[dft11[\"Ann?e\"]==2007,\"taux_sortie_avec_bloc\"] = dft11.ix[dft11[\"Ann?e\"]==2007,\"taux_droite\"]+\\\n",
    "dft11.ix[dft11[\"Ann?e\"]==2007,\"taux_centre\"]\n",
    "dft11.ix[dft11[\"Ann?e\"]==2012,\"taux_sortie_avec_bloc\"] = dft11.ix[dft11[\"Ann?e\"]==2012,\"taux_droite\"]+\\\n",
    "dft11.ix[dft11[\"Ann?e\"]==2012,\"taux_centre\"]"
   ]
  },
  {
   "cell_type": "code",
   "execution_count": 9,
   "metadata": {
    "collapsed": false
   },
   "outputs": [],
   "source": [
    "#Taux_supp_moyenne sortant\n",
    "#Popularité sortant \n",
    "\n",
    "dft11[\"ecart_pop\"] = dft11[\"pop_president\"] - dft11[\"pop_premier_ministre\"] \n",
    "dft11[\"pop_exec\"] = np.nan \n",
    "dft11.ix[dft11[\"Ann?e\"]==1981,\"pop_exec\"] = dft11.ix[dft11[\"Ann?e\"]==1981,\"pop_president\"].iloc[0]\n",
    "dft11.ix[dft11[\"Ann?e\"]==1988,\"pop_exec\"] = dft11.ix[dft11[\"Ann?e\"]==1988,\"pop_president\"].iloc[0]\n",
    "dft11.ix[dft11[\"Ann?e\"]==2012,\"pop_exec\"] = dft11.ix[dft11[\"Ann?e\"]==2012,\"pop_president\"].iloc[0]\n",
    "dft11.ix[dft11[\"Ann?e\"]==1995,\"pop_exec\"] = dft11.ix[dft11[\"Ann?e\"]==1995,\"pop_premier_ministre\"].iloc[0]\n",
    "dft11.ix[dft11[\"Ann?e\"]==2002,\"pop_exec\"] = dft11.ix[dft11[\"Ann?e\"]==2002,\"pop_premier_ministre\"].iloc[0]\n",
    "dft11.ix[dft11[\"Ann?e\"]==2007,\"pop_exec\"] = dft11.ix[dft11[\"Ann?e\"]==2007,\"pop_premier_ministre\"].iloc[0]\n",
    "\n",
    "dft11.ix[dft11[\"Ann?e\"]==1981,\"pop_xdroite\"] = dft11.ix[dft11[\"Ann?e\"]==1988,\"pop_xdroite\"].iloc[0]\n",
    "dft11.ix[dft11[\"Ann?e\"]==1981,\"pop_verts\"] = dft11.ix[dft11[\"Ann?e\"]==1995,\"pop_verts\"].iloc[0]\n",
    "dft11.ix[dft11[\"Ann?e\"]==1988,\"pop_verts\"] = dft11.ix[dft11[\"Ann?e\"]==1995,\"pop_verts\"].iloc[0]\n",
    "\n",
    "dft11.ix[dft11[\"Ann?e\"]==1981,\"nombre de logement vacant\"] = 1891."
   ]
  },
  {
   "cell_type": "code",
   "execution_count": 10,
   "metadata": {
    "collapsed": true
   },
   "outputs": [],
   "source": [
    "# On rajoute après coup l'option fn qui permet de supprimer l'année 1981"
   ]
  },
  {
   "cell_type": "code",
   "execution_count": 11,
   "metadata": {
    "collapsed": false
   },
   "outputs": [],
   "source": [
    "def create_train(target, dft11, option_fn=False):\n",
    "    dft11[\"CORS88\"] = dft11.apply(lambda row : 1 if row[\"Ann?e\"]==1988 and \n",
    "                              row[\"code\"] in [\"2A\",\"2B\"] else 0, axis=1)\n",
    "\n",
    "    dft11[\"CORS02\"] = dft11.apply(lambda row : 1 if row[\"Ann?e\"]==2002 and \n",
    "                              row[\"code\"] in [\"2A\",\"2B\"] else 0, axis=1)\n",
    "    \n",
    "    dft12 = dft11.drop([\"code\", 'taux_Blancs et nuls', 'taux_droite', 'taux_xgauche',\\\n",
    "                    'taux_vert','taux_centre', 'Q1_rate', 'Q2_rate', 'Q3_rate', 'Q4_rate', \"Total\", \\\n",
    "                   'depart_OM', \"Date\",\"taux_Abstention_sup_moyenne\",'taux_Blancs et nuls_sup_moyenne',\n",
    "                        'depart_CORSE'], axis=1)\n",
    "    \n",
    "    dft12[\"Date\"] = dft12[\"Ann?e\"] - 1981\n",
    "    \n",
    "\n",
    "\n",
    "    \n",
    "    list_dell = [\"Ann?e\",\"d?partement\",\"taux_bgauche\",'taux_Abstention',\"taux_sortie_sans_bloc\",\n",
    "                \"taux_sortie_avec_bloc\",\"taux_gauche\", 'taux_xdroite',\"taux_bdroite\"]\n",
    "\n",
    "    \n",
    "    \n",
    "    \n",
    "    if option_fn==True:\n",
    "        dft12 = dft12[dft12[\"Ann?e\"]!=1981]\n",
    "        \n",
    "\n",
    "    \n",
    "    df_train_x = dft12.drop(list_dell, axis=1)\n",
    "    df_train_y = dft12[target]\n",
    "    \n",
    "    return df_train_x, df_train_y"
   ]
  },
  {
   "cell_type": "code",
   "execution_count": 12,
   "metadata": {
    "collapsed": true
   },
   "outputs": [],
   "source": [
    "def create_train_and_test(target, dft11, option_fn=False):\n",
    "\n",
    "    dft11[\"CORS88\"] = dft11.apply(lambda row : 1 if row[\"Ann?e\"]==1988 and \n",
    "                              row[\"code\"] in [\"2A\",\"2B\"] else 0, axis=1)\n",
    "\n",
    "    dft11[\"CORS02\"] = dft11.apply(lambda row : 1 if row[\"Ann?e\"]==2002 and \n",
    "                              row[\"code\"] in [\"2A\",\"2B\"] else 0, axis=1)\n",
    "    \n",
    "    dft12 = dft11.drop([\"code\", 'taux_Blancs et nuls', 'taux_droite', 'taux_xgauche',\\\n",
    "                    'taux_vert','taux_centre', 'Q1_rate', 'Q2_rate', 'Q3_rate', 'Q4_rate', \"Total\", \\\n",
    "                   'depart_OM', \"Date\",\"taux_Abstention_sup_moyenne\",'taux_Blancs et nuls_sup_moyenne',\n",
    "                        'depart_CORSE'], axis=1)\n",
    "    \n",
    "    dft12[\"Date\"] = dft12[\"Ann?e\"] - 1981\n",
    "    \n",
    "\n",
    "\n",
    "    \n",
    "    list_dell = [\"Ann?e\",\"d?partement\",\"taux_bgauche\",'taux_Abstention',\"taux_sortie_sans_bloc\",\n",
    "                \"taux_sortie_avec_bloc\",\"taux_gauche\", 'taux_xdroite',\"taux_bdroite\"]\n",
    "\n",
    "    \n",
    "    df_train = dft12[dft12[\"Ann?e\"]!=2012]\n",
    "    \n",
    "    if option_fn==True:\n",
    "        df_train = df_train[df_train[\"Ann?e\"]!=1981]\n",
    "        \n",
    "    df_test = dft12[dft12[\"Ann?e\"]==2012]\n",
    "    \n",
    "    df_train_x = df_train.drop(list_dell, axis=1)\n",
    "    df_train_y = df_train[target]\n",
    "    df_test_x = df_test.drop(list_dell, axis=1)\n",
    "    df_test_y = df_test[target]\n",
    "    \n",
    "    return df_train_x, df_train_y, df_test_x, df_test_y"
   ]
  },
  {
   "cell_type": "code",
   "execution_count": 13,
   "metadata": {
    "collapsed": false
   },
   "outputs": [],
   "source": [
    "def target_and_predict(target, dft11, estimator, importance_features=False,  option_fn=False):\n",
    "\n",
    "    df_train_x, df_train_y, df_test_x, df_test_y = create_train_and_test(target, dft11,  option_fn=option_fn)\n",
    "   \n",
    "    svr.fit(df_train_x, df_train_y)\n",
    "    print(\"Avec l'estimateur %s\" % str(estimator))\n",
    "    print(\"Approche %s\" % target)\n",
    "    print(\"Nb itération : %s\" % svr.n_iter_)\n",
    "    print(\"MSE test : %s\" % metrics.mean_squared_error(df_test_y, svr.predict(df_test_x)))\n",
    "    print(\"MAE test : %s\" % metrics.mean_absolute_error(df_test_y, svr.predict(df_test_x)))\n",
    "    print(\"R2 test : %s \" % svr.score(df_test_x, df_test_y))\n",
    "\n",
    "    if importance_features==True :\n",
    "        print(\"\\n\")\n",
    "        print(\"Features à garder\")\n",
    "        vec_features = zip(svr.coef_, df_train_x.columns)\n",
    "        vec_features = sorted(vec_features)\n",
    "\n",
    "        for i in range(len(vec_features)):\n",
    "            if vec_features[i][0]!=0:\n",
    "                print( vec_features[i][0],  vec_features[i][1])\n",
    "\n",
    "    print(\"\\n\")\n",
    "    "
   ]
  },
  {
   "cell_type": "code",
   "execution_count": 14,
   "metadata": {
    "collapsed": true
   },
   "outputs": [],
   "source": [
    "def my_Lslasso(data, target, alpha_value,  option_fn=False, normalize=True, max_iter=5000):\n",
    "    \n",
    "    print(alpha_value)\n",
    "    df_train_x, df_train_y, df_test_x, df_test_y = create_train_and_test(target, data, option_fn=option_fn)\n",
    "    svr = linear_model.Lasso(alpha=alpha_value, normalize=normalize, max_iter=max_iter, random_state=42)\n",
    "    svr.fit(df_train_x, df_train_y)\n",
    "    \n",
    "    if svr.n_iter_ == max_iter :\n",
    "        print(\"L'itération n'a pas convergé\")\n",
    "        \n",
    "    try :\n",
    "        df_train_x_select_features = df_train_x.ix[:,svr.coef_!=0]\n",
    "        df_test_x_select_features = df_test_x.ix[:,svr.coef_!=0]\n",
    "\n",
    "        print(df_train_x.columns[svr.coef_!=0])\n",
    "        \n",
    "        lr = LinearRegression(fit_intercept=True, normalize=True)\n",
    "        lr.fit(df_train_x_select_features, df_train_y)\n",
    "        print(\"R2 train %s\" % lr.score(df_train_x_select_features, df_train_y))\n",
    "        print(\"MAE test %s\" % metrics.mean_absolute_error(df_test_y, lr.predict(df_test_x_select_features)))\n",
    "        \n",
    "    except ValueError :\n",
    "            print(\"Tout les coéfficients sont nuls\")"
   ]
  },
  {
   "cell_type": "code",
   "execution_count": 15,
   "metadata": {
    "collapsed": true
   },
   "outputs": [],
   "source": [
    "def my_LsElasticNet(data, target, alpha_value, ratio, option_fn=False):\n",
    "    \n",
    "    print(\"Alpha value %s\" % alpha_value)\n",
    "    print(\"Ratio %s\" % ratio)\n",
    "    df_train_x, df_train_y, df_test_x, df_test_y = create_train_and_test(target, data,  option_fn=option_fn)\n",
    "    en = ElasticNet(alpha=alpha_value, l1_ratio=ratio, fit_intercept=True, normalize=True, \n",
    "               max_iter=5000 ,random_state=42)\n",
    "    \n",
    "    en.fit(df_train_x, df_train_y)\n",
    "    \n",
    "    if en.n_iter_ == 5000 :\n",
    "        print(\"L'itération n'a pas convergé\")\n",
    "        \n",
    "    try :\n",
    "        df_train_x_select_features = df_train_x.ix[:,en.coef_!=0]\n",
    "        df_test_x_select_features = df_test_x.ix[:,en.coef_!=0]\n",
    "\n",
    "        #print(df_train_x.columns[en.coef_!=0])\n",
    "        \n",
    "        lr = LinearRegression(fit_intercept=True, normalize=True)\n",
    "        lr.fit(df_train_x_select_features, df_train_y)\n",
    "\n",
    "        print(metrics.mean_absolute_error(df_test_y, lr.predict(df_test_x_select_features)))\n",
    "        \n",
    "    except ValueError :\n",
    "            print(\"Tout les coéfficients sont nuls\")"
   ]
  },
  {
   "cell_type": "code",
   "execution_count": 17,
   "metadata": {
    "collapsed": true
   },
   "outputs": [],
   "source": [
    "# on supprime les variables qui sont trop corrélée avec d'autres\n",
    "def list_prediction(features_keep, target):\n",
    "\n",
    "    df_train_x, df_train_y, df_test_x, df_test_y = create_train_and_test(target, dft11, True)\n",
    "    df_train_x_select_features = df_train_x.ix[:, features_keep]\n",
    "    df_test_x_select_features = df_test_x.ix[:, features_keep]\n",
    "\n",
    "    lr = LinearRegression(fit_intercept=True, normalize=True)\n",
    "    lr.fit(df_train_x_select_features, df_train_y)\n",
    "    print(df_test_x_select_features.columns)\n",
    "    print(\"R2 train %s\" % lr.score(df_train_x_select_features, df_train_y))\n",
    "    print(\"MAE train %s\" % metrics.mean_absolute_error(df_train_y, lr.predict(df_train_x_select_features)))\n",
    "    print(\"MAE test %s\" % metrics.mean_absolute_error(df_test_y, lr.predict(df_test_x_select_features)))\n",
    "    print(\"\\n\")\n",
    "    print(\"Résultat avec fit entire data\")\n",
    "    df_train_x, df_train_y = create_train(target, dft11, True)\n",
    "    df_train_x_select_features = df_train_x.ix[:, features_keep]\n",
    "    lr = LinearRegression(fit_intercept=True, normalize=True)\n",
    "    lr.fit(df_train_x_select_features, df_train_y)\n",
    "    print(\"R2 train %s\" % lr.score(df_train_x_select_features, df_train_y))\n",
    "    print(\"MAE train %s\" % metrics.mean_absolute_error(df_train_y, lr.predict(df_train_x_select_features)))"
   ]
  },
  {
   "cell_type": "code",
   "execution_count": null,
   "metadata": {
    "collapsed": true
   },
   "outputs": [],
   "source": [
    "def generate_corr_features(target):\n",
    "    \n",
    "    df_train_x, df_train_y = create_train(target, dft11, True)\n",
    "\n",
    "    mat_cor = pd.concat([df_train_x, df_train_y], axis=1)\n",
    "\n",
    "\n",
    "\n",
    "    xdroite_corr = pd.DataFrame(columns=[\"name\",\"corr_pearson\",\n",
    "                                        \"corr_pearson_pvalue\",\"corr_spearman\",\n",
    "                                        \"corr_sperman_pvalue\"])\n",
    "    for i in range(1, mat_cor.shape[1]):\n",
    "        features_corr = features_corr.append(\n",
    "            {\"name\" : mat_cor.columns[i],\n",
    "            \"corr_pearson\": pearsonr(mat_cor.ix[:, i], mat_cor.ix[:, target])[0],\n",
    "            \"corr_pearson_pvalue\": round(pearsonr(mat_cor.ix[:, i], mat_cor.ix[:, target])[1], 5),\n",
    "            \"corr_spearman\": spearmanr(mat_cor.ix[:, i], mat_cor.ix[:, target])[0],\n",
    "            \"corr_sperman_pvalue\": round(spearmanr(mat_cor.ix[:, i], mat_cor.ix[:, target])[1], 5),\n",
    "           },\n",
    "            ignore_index=True\n",
    "            )\n",
    "    features_corr2 = features_corr[(features_corr[\"corr_sperman_pvalue\"]<=0.05) ]\n",
    "\n",
    "    # plus besoin des pvalues puisque l'on à vérifié la condition de rejet sur h0\n",
    "    del features_corr2[\"corr_sperman_pvalue\"]\n",
    "    del features_corr2[\"corr_pearson_pvalue\"]\n",
    "\n",
    "    features_var_select = features_corr2[(features_corr2[\"corr_spearman\"]>=0.2)|\n",
    "                                         (features_corr2[\"corr_spearman\"]<=-0.2)]\n",
    "    \n",
    "    features_var_select.to_csv(\"file_corr/\"+target +\"_corr_sperman.csv\", sep=\";\")\n",
    "\n",
    "    features_select_corr = mat_cor.ix[:, features_var_select[\"name\"]].corr()\n",
    "\n",
    "    features_select_corr[abs(features_select_corr.ix[:,:])>=0.5].to_csv(\n",
    "        \"file_corr/\"+target+\"_features_corr_features.csv\",sep=\",\")"
   ]
  },
  {
   "cell_type": "markdown",
   "metadata": {},
   "source": [
    "## Prédiction Sortant/ ou gauche"
   ]
  },
  {
   "cell_type": "code",
   "execution_count": 37,
   "metadata": {
    "collapsed": false,
    "scrolled": true
   },
   "outputs": [
    {
     "name": "stdout",
     "output_type": "stream",
     "text": [
      "Avec l'estimateur Lasso(alpha=0.1, copy_X=True, fit_intercept=True, max_iter=5000,\n",
      "   normalize=True, positive=False, precompute=False, random_state=42,\n",
      "   selection='cyclic', tol=0.0001, warm_start=False)\n",
      "Approche taux_gauche\n",
      "Nb itération : 20\n",
      "MSE test : 18.6143848196\n",
      "MAE test : 3.37192264221\n",
      "R2 test : -0.0150222115684 \n",
      "\n",
      "\n",
      "Avec l'estimateur Lasso(alpha=0.1, copy_X=True, fit_intercept=True, max_iter=5000,\n",
      "   normalize=True, positive=False, precompute=False, random_state=42,\n",
      "   selection='cyclic', tol=0.0001, warm_start=False)\n",
      "Approche taux_bgauche\n",
      "Nb itération : 28\n",
      "MSE test : 37.0697634355\n",
      "MAE test : 4.90479702662\n",
      "R2 test : -0.14169904631 \n",
      "\n",
      "\n",
      "Avec l'estimateur Lasso(alpha=0.1, copy_X=True, fit_intercept=True, max_iter=5000,\n",
      "   normalize=True, positive=False, precompute=False, random_state=42,\n",
      "   selection='cyclic', tol=0.0001, warm_start=False)\n",
      "Approche taux_sortie_sans_bloc\n",
      "Nb itération : 11\n",
      "MSE test : 15.1239430387\n",
      "MAE test : 3.22516695987\n",
      "R2 test : -0.148447605949 \n",
      "\n",
      "\n",
      "Avec l'estimateur Lasso(alpha=0.1, copy_X=True, fit_intercept=True, max_iter=5000,\n",
      "   normalize=True, positive=False, precompute=False, random_state=42,\n",
      "   selection='cyclic', tol=0.0001, warm_start=False)\n",
      "Approche taux_sortie_avec_bloc\n",
      "Nb itération : 18\n",
      "MSE test : 30.7139767263\n",
      "MAE test : 4.60664119788\n",
      "R2 test : -0.530296681192 \n",
      "\n",
      "\n"
     ]
    }
   ],
   "source": [
    "svr = linear_model.Lasso(alpha=0.1, normalize=True, max_iter=5000, random_state=42)\n",
    "target_and_predict(\"taux_gauche\",dft11, svr)\n",
    "target_and_predict(\"taux_bgauche\",dft11, svr)\n",
    "target_and_predict(\"taux_sortie_sans_bloc\",dft11, svr)\n",
    "target_and_predict(\"taux_sortie_avec_bloc\",dft11, svr)"
   ]
  },
  {
   "cell_type": "code",
   "execution_count": 140,
   "metadata": {
    "collapsed": false,
    "scrolled": true
   },
   "outputs": [
    {
     "name": "stdout",
     "output_type": "stream",
     "text": [
      "Avec l'estimateur Lasso(alpha=0.1, copy_X=True, fit_intercept=True, max_iter=5000,\n",
      "   normalize=True, positive=False, precompute=False, random_state=42,\n",
      "   selection='cyclic', tol=0.0001, warm_start=False)\n",
      "Approche taux_gauche\n",
      "Nb itération : 53\n",
      "MSE test : 22.8028640741\n",
      "MAE test : 3.91995593266\n",
      "R2 test : -0.243415441706 \n",
      "\n",
      "\n",
      "Avec l'estimateur Lasso(alpha=0.1, copy_X=True, fit_intercept=True, max_iter=5000,\n",
      "   normalize=True, positive=False, precompute=False, random_state=42,\n",
      "   selection='cyclic', tol=0.0001, warm_start=False)\n",
      "Approche taux_bgauche\n",
      "Nb itération : 45\n",
      "MSE test : 40.6878156628\n",
      "MAE test : 5.17159539319\n",
      "R2 test : -0.253130207306 \n",
      "\n",
      "\n",
      "Avec l'estimateur Lasso(alpha=0.1, copy_X=True, fit_intercept=True, max_iter=5000,\n",
      "   normalize=True, positive=False, precompute=False, random_state=42,\n",
      "   selection='cyclic', tol=0.0001, warm_start=False)\n",
      "Approche taux_sortie_sans_bloc\n",
      "Nb itération : 16\n",
      "MSE test : 15.813498178\n",
      "MAE test : 3.30514436709\n",
      "R2 test : -0.200809476587 \n",
      "\n",
      "\n",
      "Avec l'estimateur Lasso(alpha=0.1, copy_X=True, fit_intercept=True, max_iter=5000,\n",
      "   normalize=True, positive=False, precompute=False, random_state=42,\n",
      "   selection='cyclic', tol=0.0001, warm_start=False)\n",
      "Approche taux_sortie_avec_bloc\n",
      "Nb itération : 43\n",
      "MSE test : 23.3977358019\n",
      "MAE test : 3.95554730616\n",
      "R2 test : -0.165771458515 \n",
      "\n",
      "\n"
     ]
    }
   ],
   "source": [
    "svr = linear_model.Lasso(alpha=0.1, normalize=True, max_iter=5000, random_state=42)\n",
    "target_and_predict(\"taux_gauche\",dft11, svr, option_fn=True)\n",
    "target_and_predict(\"taux_bgauche\",dft11, svr, option_fn=True)\n",
    "target_and_predict(\"taux_sortie_sans_bloc\",dft11, svr, option_fn=True)\n",
    "target_and_predict(\"taux_sortie_avec_bloc\",dft11, svr, option_fn=True)"
   ]
  },
  {
   "cell_type": "code",
   "execution_count": 25,
   "metadata": {
    "collapsed": false
   },
   "outputs": [
    {
     "name": "stdout",
     "output_type": "stream",
     "text": [
      "0.0005\n",
      "Index(['depart_frontalier', '0-19ans', '20-39ans', '40-59ans', '60-74ans',\n",
      "       '75+ans', 'Naissances domicili?es par d?partement',\n",
      "       'Nombre total de mariages domicili?s',\n",
      "       'D?c?s domicili?s par d?partement', 'var_chomage_annee',\n",
      "       'taux_centre_sup_moyenne', 'taux_droite_sup_moyenne',\n",
      "       'taux_gauche_sup_moyenne', 'taux_vert_sup_moyenne',\n",
      "       'taux_xdroite_sup_moyenne', 'taux_xgauche_sup_moyenne',\n",
      "       'taux_Blancs et nuls_sup_moyenne', 'pop_verts', 'Dissident',\n",
      "       'Superficie ', 'Densit?', 'persistance_gauche', 'persistance_droite',\n",
      "       'persistance centre', 'persistance_centre_droite', 'pres_centre',\n",
      "       'pres_droite', 'pres_xgauche', 'importations',\n",
      "       'conjoncture travaux publics-opinions sur le carnet de commandes',\n",
      "       'densit?_m?decins', 'CORS88', 'CORS02'],\n",
      "      dtype='object')\n",
      "R2 train 0.661655079917\n",
      "MAE test 2.80859311841\n"
     ]
    }
   ],
   "source": [
    "my_Lslasso(dft11,\"taux_sortie_sans_bloc\", 0.0005)"
   ]
  },
  {
   "cell_type": "code",
   "execution_count": 60,
   "metadata": {
    "collapsed": false
   },
   "outputs": [
    {
     "name": "stdout",
     "output_type": "stream",
     "text": [
      "0.1\n",
      "Index(['0-19ans', '40-59ans', '60-74ans', 'taux_chomage',\n",
      "       'taux_centre_sup_moyenne', 'taux_gauche_sup_moyenne',\n",
      "       'taux_vert_sup_moyenne', 'taux_xdroite_sup_moyenne',\n",
      "       'taux_xgauche_sup_moyenne', 'taux_Blancs et nuls_sup_moyenne',\n",
      "       'Dissident', 'Superficie ', 'Densit?', 'importations', 'subventions',\n",
      "       'conjoncture travaux publics-opinions sur le carnet de commandes',\n",
      "       'densit?_m?decins', 'consommation menages - electricite'],\n",
      "      dtype='object')\n",
      "R2 train 0.636522094138\n",
      "MAE test 2.57487312691\n"
     ]
    }
   ],
   "source": [
    "my_Lslasso(dft11,\"taux_sortie_sans_bloc\", 0.1, normalize=False, max_iter=30000)"
   ]
  },
  {
   "cell_type": "code",
   "execution_count": 33,
   "metadata": {
    "collapsed": false
   },
   "outputs": [
    {
     "name": "stdout",
     "output_type": "stream",
     "text": [
      "0.0175\n",
      "Index(['0-19ans', 'var_chomage_annee', 'taux_centre_sup_moyenne',\n",
      "       'taux_droite_sup_moyenne', 'taux_gauche_sup_moyenne',\n",
      "       'taux_xdroite_sup_moyenne', 'taux_xgauche_sup_moyenne', 'pop_droite',\n",
      "       'pop_president', 'Dissident', 'persistance_gauche',\n",
      "       'persistance_centre_droite', 'pres_gauche', 'pres_xgauche',\n",
      "       'ecart_pop'],\n",
      "      dtype='object')\n",
      "R2 train 0.839217163519\n",
      "MAE test 2.96474877595\n"
     ]
    }
   ],
   "source": [
    "my_Lslasso(dft11,\"taux_bgauche\", 0.0175)"
   ]
  },
  {
   "cell_type": "code",
   "execution_count": 52,
   "metadata": {
    "collapsed": false
   },
   "outputs": [
    {
     "name": "stdout",
     "output_type": "stream",
     "text": [
      "0.01\n",
      "Index(['taux_centre_sup_moyenne', 'taux_droite_sup_moyenne',\n",
      "       'taux_gauche_sup_moyenne', 'taux_xdroite_sup_moyenne', 'pop_xgauche',\n",
      "       'droite_au_pouvoir', 'Dissident', 'Superficie ', 'pres_gauche',\n",
      "       'pres_xgauche',\n",
      "       'capacit? epargne actuelle (augmentation moins diminution)',\n",
      "       'densit?_m?decins', 'CORS88'],\n",
      "      dtype='object')\n",
      "R2 train 0.653635294031\n",
      "MAE test 2.64805270111\n"
     ]
    }
   ],
   "source": [
    "my_Lslasso(dft11,\"taux_sortie_avec_bloc\", 0.01)"
   ]
  },
  {
   "cell_type": "code",
   "execution_count": 177,
   "metadata": {
    "collapsed": false
   },
   "outputs": [
    {
     "name": "stdout",
     "output_type": "stream",
     "text": [
      "0.007\n",
      "Index(['depart_frontalier', '0-19ans', '20-39ans', '40-59ans',\n",
      "       'var_chomage_annee', 'taux_centre_sup_moyenne',\n",
      "       'taux_droite_sup_moyenne', 'taux_gauche_sup_moyenne',\n",
      "       'taux_vert_sup_moyenne', 'taux_xdroite_sup_moyenne',\n",
      "       'taux_xgauche_sup_moyenne', 'pop_droite', 'pop_president', 'Dissident',\n",
      "       'Densit?', 'persistance_gauche', 'persistance_droite',\n",
      "       'persistance_centre_droite', 'pres_xgauche', 'densit?_m?decins',\n",
      "       'CORS88'],\n",
      "      dtype='object')\n",
      "R2 train 0.883534433257\n",
      "MAE test 2.33648800165\n"
     ]
    }
   ],
   "source": [
    "my_Lslasso(dft11,\"taux_bgauche\", 0.007,normalize=True, option_fn=True, max_iter=2000)"
   ]
  },
  {
   "cell_type": "code",
   "execution_count": 36,
   "metadata": {
    "collapsed": false,
    "scrolled": true
   },
   "outputs": [
    {
     "name": "stdout",
     "output_type": "stream",
     "text": [
      "0.03\n",
      "Index(['Nombre total de mariages domicili?s', 'taux_droite_sup_moyenne',\n",
      "       'taux_xdroite_sup_moyenne', 'Dissident', 'subventions',\n",
      "       'conjoncture travaux publics-opinions sur le carnet de commandes',\n",
      "       'capacit? epargne actuelle (augmentation moins diminution)'],\n",
      "      dtype='object')\n",
      "R2 train 0.708507651062\n",
      "MAE test 3.71396308927\n"
     ]
    }
   ],
   "source": [
    "# Si on veut avoir une meilleur perf sur le taux de sortie_avec_bloc sans 1981, il faut creer cette variable\n",
    "# sans l'ajout du centre\n",
    "my_Lslasso(dft11,\"taux_sortie_avec_bloc\", 0.03,normalize=True, option_fn=True, max_iter=2000)"
   ]
  },
  {
   "cell_type": "code",
   "execution_count": 138,
   "metadata": {
    "collapsed": true
   },
   "outputs": [],
   "source": [
    "# Selection variable avec RFE pas très satisfaisant"
   ]
  },
  {
   "cell_type": "code",
   "execution_count": 139,
   "metadata": {
    "collapsed": false
   },
   "outputs": [],
   "source": [
    "#df_train_x, df_train_y, df_test_x, df_test_y = create_train_and_test(\"taux_bgauche\", dft11)\n",
    "#ss = StandardScaler()\n",
    "#df_train_x = ss.fit_transform(df_train_x)\n",
    "#df_test_x = ss.transform(df_test_x)\n",
    "\n",
    "#svc = LinearRegression()\n",
    "#rfe = RFE(estimator=svc, n_features_to_select=8, step=3)\n",
    "#rfe.fit(df_train_x, df_train_y)\n",
    "\n",
    "#df_train_x_select_features\n",
    "#df_train_x_select_features = df_train_x[:,rfe.get_support(True)]\n",
    "#df_test_x_select_features = df_test_x[:,rfe.get_support(True)]\n",
    "\n",
    "#lr = LinearRegression()\n",
    "#lr.fit(df_train_x_select_features, df_train_y)\n",
    "\n",
    "#print(\"R2 train %s\" % lr.score(df_train_x_select_features, df_train_y))\n",
    "#print(\"MAE test %s\" % metrics.mean_absolute_error(df_test_y, lr.predict(df_test_x_select_features)))\n",
    "        "
   ]
  },
  {
   "cell_type": "code",
   "execution_count": 82,
   "metadata": {
    "collapsed": false
   },
   "outputs": [
    {
     "name": "stdout",
     "output_type": "stream",
     "text": [
      "Nb features 10\n",
      "R2 train 0.78055818605\n",
      "MAE test 2.76294294982\n"
     ]
    }
   ],
   "source": [
    "df_train_x, df_train_y, df_test_x, df_test_y = create_train_and_test(\"taux_bgauche\", dft11)\n",
    "dtr = DecisionTreeRegressor()\n",
    "sfm = SelectFromModel(dtr, threshold=0.017)\n",
    "sfm.fit(df_train_x, df_train_y)\n",
    "\n",
    "print(\"Nb features %s\" % sfm.get_support(True).shape)\n",
    "\n",
    "df_train_x_select_features = df_train_x[sfm.get_support(True)]\n",
    "df_test_x_select_features = df_test_x[sfm.get_support(True)]\n",
    "\n",
    "lr = LinearRegression()\n",
    "lr.fit(df_train_x_select_features, df_train_y)\n",
    "\n",
    "print(\"R2 train %s\" % lr.score(df_train_x_select_features, df_train_y))\n",
    "print(\"MAE test %s\" % metrics.mean_absolute_error(df_test_y, lr.predict(df_test_x_select_features)))"
   ]
  },
  {
   "cell_type": "code",
   "execution_count": 260,
   "metadata": {
    "collapsed": false
   },
   "outputs": [
    {
     "data": {
      "image/png": "[encoded data removed]",
      "text/plain": [
       "<matplotlib.figure.Figure at 0x7fa97d1bc4e0>"
      ]
     },
     "metadata": {},
     "output_type": "display_data"
    },
    {
     "name": "stdout",
     "output_type": "stream",
     "text": [
      "Min MAE 2.48096418849\n",
      "Min MAE 2.46988698395\n",
      "Min MAE 2.48428287966\n"
     ]
    }
   ],
   "source": [
    "# ACP ne fonctionne bien qu'avec taux de sortie sans bloc\n",
    "df_train_x, df_train_y, df_test_x, df_test_y = create_train_and_test(\"taux_sortie_sans_bloc\", dft11)\n",
    "# ACP \n",
    "ss = StandardScaler()\n",
    "df_train_x = ss.fit_transform(df_train_x)\n",
    "df_test_x = ss.transform(df_test_x)\n",
    "\n",
    "score = []\n",
    "score2 = []\n",
    "score3 = []\n",
    "for i in range(1, 20):\n",
    "    pca = PCA(n_components=i)\n",
    "    pca.fit(df_train_x)\n",
    "    pca.transform(df_test_x)\n",
    "    df_train_x_select_features = pca.transform(df_train_x)\n",
    "    df_test_x_select_features = pca.transform(df_test_x)\n",
    "\n",
    "    lr = LinearRegression()\n",
    "    rd = Ridge(100)\n",
    "    ls = linear_model.Lasso(0.001, normalize=True,random_state=42)\n",
    "    lr.fit(df_train_x_select_features, df_train_y)\n",
    "    rd.fit(df_train_x_select_features, df_train_y)\n",
    "    ls.fit(df_train_x_select_features, df_train_y)\n",
    "    score.append(metrics.mean_absolute_error(df_test_y, lr.predict(df_test_x_select_features)))\n",
    "    score2.append(metrics.mean_absolute_error(df_test_y, rd.predict(df_test_x_select_features)))\n",
    "    score3.append(metrics.mean_absolute_error(df_test_y, ls.predict(df_test_x_select_features)))\n",
    "    plt.scatter(i, metrics.mean_absolute_error(df_test_y, lr.predict(df_test_x_select_features)))\n",
    "    plt.scatter(i, metrics.mean_absolute_error(df_test_y, rd.predict(df_test_x_select_features)),color=\"r\")\n",
    "    plt.scatter(i, metrics.mean_absolute_error(df_test_y, ls.predict(df_test_x_select_features)),color=\"g\")\n",
    "    \n",
    "plt.xlabel(\"N components\")\n",
    "plt.ylabel(\"MAE test\")\n",
    "plt.show()\n",
    "print(\"Min MAE %s\" % min(score))\n",
    "print(\"Min MAE %s\" % min(score2))\n",
    "print(\"Min MAE %s\" % min(score3))"
   ]
  },
  {
   "cell_type": "code",
   "execution_count": 261,
   "metadata": {
    "collapsed": false
   },
   "outputs": [
    {
     "name": "stdout",
     "output_type": "stream",
     "text": [
      "2.06852944016\n"
     ]
    }
   ],
   "source": [
    "# 2.06 sans bloc avec un decision tree\n",
    "df_train_x, df_train_y, df_test_x, df_test_y = create_train_and_test(\"taux_sortie_sans_bloc\", dft11)\n",
    "\n",
    "list_keep = ['D?c?s domicili?s par d?partement', 'taux_centre_sup_moyenne',\n",
    "'taux_droite_sup_moyenne', 'taux_gauche_sup_moyenne',\n",
    "'taux_xdroite_sup_moyenne', 'pop_centre', 'Dissident',\n",
    "'conjoncture travaux publics-opinions sur le carnet de commandes',\n",
    "'densit?_m?decins']\n",
    "lr = LinearRegression()\n",
    "\n",
    "df_train_x_select_features = df_train_x.ix[:, list_keep]\n",
    "df_test_x_select_features = df_test_x.ix[:, list_keep]\n",
    "\n",
    "lr.fit(df_train_x_select_features, df_train_y)\n",
    "print(metrics.mean_absolute_error(df_test_y, lr.predict(df_test_x_select_features)))"
   ]
  },
  {
   "cell_type": "code",
   "execution_count": 16,
   "metadata": {
    "collapsed": true
   },
   "outputs": [],
   "source": [
    "generate_corr_features(\"taux_bgauche\")\n",
    "generate_corr_features(\"taux_sortie_sans_bloc\")\n",
    "generate_corr_features(\"taux_sortie_avec_bloc\")"
   ]
  },
  {
   "cell_type": "markdown",
   "metadata": {},
   "source": [
    "Sur les 3 approches c'est taux_bgauche qui a le plus de variables discriminante"
   ]
  },
  {
   "cell_type": "code",
   "execution_count": 23,
   "metadata": {
    "collapsed": false
   },
   "outputs": [
    {
     "name": "stdout",
     "output_type": "stream",
     "text": [
      "Index(['var_chomage_annee', 'taux_xdroite_sup_moyenne', 'pop_xdroite',\n",
      "       'conjoncture travaux publics-opinions sur le carnet de commandes',\n",
      "       'pop_exec'],\n",
      "      dtype='object')\n",
      "R2 train 0.677960145024\n",
      "MAE train 3.58993232717\n",
      "MAE test 13.5439469474\n",
      "\n",
      "\n",
      "Résultat avec fit entire data\n",
      "R2 train 0.649682115022\n",
      "MAE train 3.67880891145\n"
     ]
    }
   ],
   "source": [
    "# En gardant pop_exec\n",
    "list_prediction(\n",
    "[\"var_chomage_annee\",\"taux_xdroite_sup_moyenne\",\n",
    "\"pop_xdroite\",\"conjoncture travaux publics-opinions sur le carnet de commandes\",\n",
    " \"pop_exec\"],\"taux_sortie_avec_bloc\")"
   ]
  },
  {
   "cell_type": "code",
   "execution_count": 24,
   "metadata": {
    "collapsed": false
   },
   "outputs": [
    {
     "name": "stdout",
     "output_type": "stream",
     "text": [
      "Index(['pop_xgauche',\n",
      "       'capacit? epargne actuelle (augmentation moins diminution)',\n",
      "       'taux_droite_sup_moyenne', 'droite_au_pouvoir'],\n",
      "      dtype='object')\n",
      "R2 train 0.614162542253\n",
      "MAE train 2.800499207\n",
      "MAE test 5.10689930648\n",
      "\n",
      "\n",
      "Résultat avec fit entire data\n",
      "R2 train 0.569221384765\n",
      "MAE train 2.76921981297\n"
     ]
    }
   ],
   "source": [
    "list_prediction(\n",
    "[\"pop_xgauche\",\"capacit? epargne actuelle (augmentation moins diminution)\",\n",
    "\"taux_droite_sup_moyenne\",\"droite_au_pouvoir\"],\"taux_sortie_sans_bloc\")"
   ]
  },
  {
   "cell_type": "code",
   "execution_count": null,
   "metadata": {
    "collapsed": true
   },
   "outputs": [],
   "source": []
  }
 ],
 "metadata": {
  "anaconda-cloud": {},
  "kernelspec": {
   "display_name": "Python [Root]",
   "language": "python",
   "name": "Python [Root]"
  },
  "language_info": {
   "codemirror_mode": {
    "name": "ipython",
    "version": 3
   },
   "file_extension": ".py",
   "mimetype": "text/x-python",
   "name": "python",
   "nbconvert_exporter": "python",
   "pygments_lexer": "ipython3",
   "version": "3.5.2"
  }
 },
 "nbformat": 4,
 "nbformat_minor": 1
}
