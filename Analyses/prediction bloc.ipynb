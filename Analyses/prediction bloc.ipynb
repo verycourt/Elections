{
 "cells": [
  {
   "cell_type": "code",
   "execution_count": 36,
   "metadata": {
    "collapsed": false
   },
   "outputs": [],
   "source": [
    "import pandas as pd\n",
    "import numpy as np \n",
    "import seaborn as sns\n",
    "import glob, os\n",
    "from IPython.display import Image\n",
    "from sklearn.preprocessing import StandardScaler\n",
    "from sklearn.svm import LinearSVR, SVR\n",
    "from sklearn import metrics\n",
    "from sklearn.linear_model import LinearRegression,Ridge\n",
    "import statsmodels.api as sm\n",
    "from sklearn import linear_model\n",
    "from matplotlib.collections import LineCollection\n",
    "from matplotlib import cm\n",
    "import shapefile\n",
    "from sklearn.tree import DecisionTreeRegressor\n",
    "from sklearn.decomposition import PCA\n",
    "from sklearn.feature_selection import SelectFromModel\n",
    "from sklearn.feature_selection import RFE\n",
    "from sklearn import tree\n",
    "import pydotplus\n",
    "from sklearn.externals.six import StringIO\n",
    "import matplotlib.pyplot as plt\n",
    "%matplotlib inline\n",
    "from collections import Counter\n",
    "from sklearn.feature_selection import SelectKBest\n",
    "from sklearn.feature_selection import chi2, f_regression\n",
    "from sklearn.feature_selection import f_regression\n",
    "from sklearn.linear_model import ElasticNet\n",
    "import forward_selection as fs\n",
    "import math\n",
    "from scipy.stats import chi2_contingency, pearsonr, spearmanr\n",
    "from mpl_toolkits.basemap import Basemap"
   ]
  },
  {
   "cell_type": "markdown",
   "metadata": {},
   "source": [
    "## Préparation de la base"
   ]
  },
  {
   "cell_type": "code",
   "execution_count": 37,
   "metadata": {
    "collapsed": false
   },
   "outputs": [],
   "source": [
    "dft11 = pd.read_csv(\"la_base.csv\", encoding=\"latin1\")"
   ]
  },
  {
   "cell_type": "code",
   "execution_count": 38,
   "metadata": {
    "collapsed": false,
    "scrolled": true
   },
   "outputs": [
    {
     "data": {
      "text/plain": [
       "Index(['d?partement', 'code', 'Ann?e', 'taux_Blancs et nuls', 'taux_xdroite',\n",
       "       'taux_gauche', 'taux_Abstention', 'taux_xgauche', 'taux_centre',\n",
       "       'taux_vert', 'taux_droite', 'depart_frontalier', 'depart_OM',\n",
       "       'depart_CORSE', '0-19ans', '20-39ans', '40-59ans', '60-74ans', '75+ans',\n",
       "       'Total', 'Naissances domicili?es par d?partement',\n",
       "       'Nombre total de mariages domicili?s',\n",
       "       'D?c?s domicili?s par d?partement', 'Q1_rate', 'Q2_rate', 'Q3_rate',\n",
       "       'Q4_rate', 'var_chomage_annee', 'taux_chomage',\n",
       "       'taux_centre_sup_moyenne', 'taux_droite_sup_moyenne',\n",
       "       'taux_gauche_sup_moyenne', 'taux_vert_sup_moyenne',\n",
       "       'taux_xdroite_sup_moyenne', 'taux_xgauche_sup_moyenne',\n",
       "       'taux_Abstention_sup_moyenne', 'taux_Blancs et nuls_sup_moyenne',\n",
       "       'Date', 'pop_verts', 'pop_centre', 'pop_droite', 'pop_gauche',\n",
       "       'pop_xdroite', 'pop_xgauche', 'pop_premier_ministre', 'cohabitation',\n",
       "       'pop_president', 'droite_au_pouvoir', 'Dissident', 'Superficie ',\n",
       "       'Densit?', 'persistance_gauche', 'persistance_droite',\n",
       "       'persistance centre', 'persistance_centre_droite', 'pres_centre',\n",
       "       'pres_droite', 'pres_gauche', 'pres_xgauche', 'importations',\n",
       "       'subventions',\n",
       "       'conjoncture travaux publics-opinions sur le carnet de commandes',\n",
       "       'capacit? epargne actuelle (augmentation moins diminution)',\n",
       "       'opportunite epargner(favorable moins favorable)',\n",
       "       'capacite epargne future(am?lioration moins deterioration)',\n",
       "       'densit?_m?decins', 'consommation menages - electricite',\n",
       "       'nombre de logement vacant'],\n",
       "      dtype='object')"
      ]
     },
     "execution_count": 38,
     "metadata": {},
     "output_type": "execute_result"
    }
   ],
   "source": [
    "dft11.columns"
   ]
  },
  {
   "cell_type": "code",
   "execution_count": 39,
   "metadata": {
    "collapsed": false
   },
   "outputs": [
    {
     "data": {
      "text/plain": [
       "Index(['d?partement', 'code', 'Ann?e', 'taux_Blancs et nuls', 'taux_xdroite',\n",
       "       'taux_gauche', 'taux_Abstention', 'taux_xgauche', 'taux_centre',\n",
       "       'taux_vert', 'taux_droite', 'depart_frontalier', 'depart_OM',\n",
       "       'depart_CORSE', '0-19ans', '20-39ans', '40-59ans', '60-74ans', '75+ans',\n",
       "       'Total', 'Naissances domicili?es par d?partement',\n",
       "       'Nombre total de mariages domicili?s',\n",
       "       'D?c?s domicili?s par d?partement', 'Q1_rate', 'Q2_rate', 'Q3_rate',\n",
       "       'Q4_rate', 'var_chomage_annee', 'taux_chomage',\n",
       "       'taux_centre_sup_moyenne', 'taux_droite_sup_moyenne',\n",
       "       'taux_gauche_sup_moyenne', 'taux_vert_sup_moyenne',\n",
       "       'taux_xdroite_sup_moyenne', 'taux_xgauche_sup_moyenne',\n",
       "       'taux_Abstention_sup_moyenne', 'taux_Blancs et nuls_sup_moyenne',\n",
       "       'Date', 'pop_verts', 'pop_centre', 'pop_droite', 'pop_gauche',\n",
       "       'pop_xdroite', 'pop_xgauche', 'pop_premier_ministre', 'cohabitation',\n",
       "       'pop_president', 'droite_au_pouvoir', 'Dissident', 'Superficie ',\n",
       "       'Densit?', 'persistance_gauche', 'persistance_droite',\n",
       "       'persistance centre', 'persistance_centre_droite', 'pres_centre',\n",
       "       'pres_droite', 'pres_gauche', 'pres_xgauche', 'importations',\n",
       "       'subventions',\n",
       "       'conjoncture travaux publics-opinions sur le carnet de commandes',\n",
       "       'capacit? epargne actuelle (augmentation moins diminution)',\n",
       "       'opportunite epargner(favorable moins favorable)',\n",
       "       'capacite epargne future(am?lioration moins deterioration)',\n",
       "       'densit?_m?decins', 'consommation menages - electricite',\n",
       "       'nombre de logement vacant'],\n",
       "      dtype='object')"
      ]
     },
     "execution_count": 39,
     "metadata": {},
     "output_type": "execute_result"
    }
   ],
   "source": [
    "dft11.columns"
   ]
  },
  {
   "cell_type": "code",
   "execution_count": 40,
   "metadata": {
    "collapsed": false
   },
   "outputs": [],
   "source": [
    "dft11[\"taux_bgauche\"] = dft11['taux_xgauche']+ dft11['taux_gauche'] + dft11['taux_vert']\n",
    "dft11[\"taux_bdroite\"] = dft11['taux_droite']+ dft11['taux_centre']"
   ]
  },
  {
   "cell_type": "code",
   "execution_count": 41,
   "metadata": {
    "collapsed": false
   },
   "outputs": [
    {
     "data": {
      "text/plain": [
       "42.96519437000924"
      ]
     },
     "execution_count": 41,
     "metadata": {},
     "output_type": "execute_result"
    }
   ],
   "source": [
    "np.mean(dft11[\"taux_bdroite\"])"
   ]
  },
  {
   "cell_type": "code",
   "execution_count": 42,
   "metadata": {
    "collapsed": false
   },
   "outputs": [
    {
     "data": {
      "text/html": [
       "<div>\n",
       "<table border=\"1\" class=\"dataframe\">\n",
       "  <thead>\n",
       "    <tr style=\"text-align: right;\">\n",
       "      <th></th>\n",
       "      <th>d?partement</th>\n",
       "      <th>code</th>\n",
       "      <th>Ann?e</th>\n",
       "      <th>taux_Blancs et nuls</th>\n",
       "      <th>taux_xdroite</th>\n",
       "      <th>taux_gauche</th>\n",
       "      <th>taux_Abstention</th>\n",
       "      <th>taux_xgauche</th>\n",
       "      <th>taux_centre</th>\n",
       "      <th>taux_vert</th>\n",
       "      <th>...</th>\n",
       "      <th>subventions</th>\n",
       "      <th>conjoncture travaux publics-opinions sur le carnet de commandes</th>\n",
       "      <th>capacit? epargne actuelle (augmentation moins diminution)</th>\n",
       "      <th>opportunite epargner(favorable moins favorable)</th>\n",
       "      <th>capacite epargne future(am?lioration moins deterioration)</th>\n",
       "      <th>densit?_m?decins</th>\n",
       "      <th>consommation menages - electricite</th>\n",
       "      <th>nombre de logement vacant</th>\n",
       "      <th>taux_bgauche</th>\n",
       "      <th>taux_bdroite</th>\n",
       "    </tr>\n",
       "  </thead>\n",
       "  <tbody>\n",
       "    <tr>\n",
       "      <th>0</th>\n",
       "      <td>AIN</td>\n",
       "      <td>1</td>\n",
       "      <td>1981.0</td>\n",
       "      <td>1.604750</td>\n",
       "      <td>0.000000</td>\n",
       "      <td>27.982284</td>\n",
       "      <td>27.940015</td>\n",
       "      <td>14.888346</td>\n",
       "      <td>31.660729</td>\n",
       "      <td>4.226724</td>\n",
       "      <td>...</td>\n",
       "      <td>-1797.75</td>\n",
       "      <td>-48.00</td>\n",
       "      <td>8.333333</td>\n",
       "      <td>-31.916667</td>\n",
       "      <td>-18.666667</td>\n",
       "      <td>84.34</td>\n",
       "      <td>21650</td>\n",
       "      <td>NaN</td>\n",
       "      <td>47.097355</td>\n",
       "      <td>52.902645</td>\n",
       "    </tr>\n",
       "    <tr>\n",
       "      <th>1</th>\n",
       "      <td>AIN</td>\n",
       "      <td>1</td>\n",
       "      <td>1988.0</td>\n",
       "      <td>1.879541</td>\n",
       "      <td>16.041776</td>\n",
       "      <td>31.377812</td>\n",
       "      <td>23.877703</td>\n",
       "      <td>8.171024</td>\n",
       "      <td>21.290640</td>\n",
       "      <td>4.065072</td>\n",
       "      <td>...</td>\n",
       "      <td>-3613.50</td>\n",
       "      <td>1.00</td>\n",
       "      <td>4.666667</td>\n",
       "      <td>6.333333</td>\n",
       "      <td>-9.833333</td>\n",
       "      <td>108.59</td>\n",
       "      <td>41112</td>\n",
       "      <td>1891.0</td>\n",
       "      <td>43.613907</td>\n",
       "      <td>40.344317</td>\n",
       "    </tr>\n",
       "    <tr>\n",
       "      <th>2</th>\n",
       "      <td>AIN</td>\n",
       "      <td>1</td>\n",
       "      <td>1995.0</td>\n",
       "      <td>3.155125</td>\n",
       "      <td>19.751523</td>\n",
       "      <td>20.553725</td>\n",
       "      <td>25.807688</td>\n",
       "      <td>11.073277</td>\n",
       "      <td>19.814177</td>\n",
       "      <td>3.932995</td>\n",
       "      <td>...</td>\n",
       "      <td>-3850.00</td>\n",
       "      <td>-47.25</td>\n",
       "      <td>9.166667</td>\n",
       "      <td>28.500000</td>\n",
       "      <td>-10.166667</td>\n",
       "      <td>127.35</td>\n",
       "      <td>56611</td>\n",
       "      <td>1949.0</td>\n",
       "      <td>35.559996</td>\n",
       "      <td>44.688481</td>\n",
       "    </tr>\n",
       "    <tr>\n",
       "      <th>3</th>\n",
       "      <td>AIN</td>\n",
       "      <td>1</td>\n",
       "      <td>2002.0</td>\n",
       "      <td>3.540833</td>\n",
       "      <td>25.246258</td>\n",
       "      <td>20.716478</td>\n",
       "      <td>37.217333</td>\n",
       "      <td>11.320086</td>\n",
       "      <td>8.927322</td>\n",
       "      <td>7.374661</td>\n",
       "      <td>...</td>\n",
       "      <td>-4745.00</td>\n",
       "      <td>-28.00</td>\n",
       "      <td>11.833333</td>\n",
       "      <td>24.750000</td>\n",
       "      <td>-3.250000</td>\n",
       "      <td>127.56</td>\n",
       "      <td>77698</td>\n",
       "      <td>1954.0</td>\n",
       "      <td>39.411224</td>\n",
       "      <td>35.342518</td>\n",
       "    </tr>\n",
       "    <tr>\n",
       "      <th>4</th>\n",
       "      <td>AIN</td>\n",
       "      <td>1</td>\n",
       "      <td>2007.0</td>\n",
       "      <td>1.344946</td>\n",
       "      <td>12.233715</td>\n",
       "      <td>20.826783</td>\n",
       "      <td>16.571575</td>\n",
       "      <td>6.279643</td>\n",
       "      <td>19.637678</td>\n",
       "      <td>3.020936</td>\n",
       "      <td>...</td>\n",
       "      <td>-3140.75</td>\n",
       "      <td>27.75</td>\n",
       "      <td>5.250000</td>\n",
       "      <td>25.583333</td>\n",
       "      <td>-8.083333</td>\n",
       "      <td>123.76</td>\n",
       "      <td>95093</td>\n",
       "      <td>2014.0</td>\n",
       "      <td>30.127362</td>\n",
       "      <td>57.638923</td>\n",
       "    </tr>\n",
       "  </tbody>\n",
       "</table>\n",
       "<p>5 rows × 70 columns</p>\n",
       "</div>"
      ],
      "text/plain": [
       "  d?partement code   Ann?e  taux_Blancs et nuls  taux_xdroite  taux_gauche  \\\n",
       "0         AIN    1  1981.0             1.604750      0.000000    27.982284   \n",
       "1         AIN    1  1988.0             1.879541     16.041776    31.377812   \n",
       "2         AIN    1  1995.0             3.155125     19.751523    20.553725   \n",
       "3         AIN    1  2002.0             3.540833     25.246258    20.716478   \n",
       "4         AIN    1  2007.0             1.344946     12.233715    20.826783   \n",
       "\n",
       "   taux_Abstention  taux_xgauche  taux_centre  taux_vert      ...       \\\n",
       "0        27.940015     14.888346    31.660729   4.226724      ...        \n",
       "1        23.877703      8.171024    21.290640   4.065072      ...        \n",
       "2        25.807688     11.073277    19.814177   3.932995      ...        \n",
       "3        37.217333     11.320086     8.927322   7.374661      ...        \n",
       "4        16.571575      6.279643    19.637678   3.020936      ...        \n",
       "\n",
       "   subventions  \\\n",
       "0     -1797.75   \n",
       "1     -3613.50   \n",
       "2     -3850.00   \n",
       "3     -4745.00   \n",
       "4     -3140.75   \n",
       "\n",
       "   conjoncture travaux publics-opinions sur le carnet de commandes  \\\n",
       "0                                             -48.00                 \n",
       "1                                               1.00                 \n",
       "2                                             -47.25                 \n",
       "3                                             -28.00                 \n",
       "4                                              27.75                 \n",
       "\n",
       "   capacit? epargne actuelle (augmentation moins diminution)  \\\n",
       "0                                           8.333333           \n",
       "1                                           4.666667           \n",
       "2                                           9.166667           \n",
       "3                                          11.833333           \n",
       "4                                           5.250000           \n",
       "\n",
       "   opportunite epargner(favorable moins favorable)  \\\n",
       "0                                       -31.916667   \n",
       "1                                         6.333333   \n",
       "2                                        28.500000   \n",
       "3                                        24.750000   \n",
       "4                                        25.583333   \n",
       "\n",
       "   capacite epargne future(am?lioration moins deterioration)  \\\n",
       "0                                         -18.666667           \n",
       "1                                          -9.833333           \n",
       "2                                         -10.166667           \n",
       "3                                          -3.250000           \n",
       "4                                          -8.083333           \n",
       "\n",
       "   densit?_m?decins  consommation menages - electricite  \\\n",
       "0             84.34                               21650   \n",
       "1            108.59                               41112   \n",
       "2            127.35                               56611   \n",
       "3            127.56                               77698   \n",
       "4            123.76                               95093   \n",
       "\n",
       "   nombre de logement vacant  taux_bgauche  taux_bdroite  \n",
       "0                        NaN     47.097355     52.902645  \n",
       "1                     1891.0     43.613907     40.344317  \n",
       "2                     1949.0     35.559996     44.688481  \n",
       "3                     1954.0     39.411224     35.342518  \n",
       "4                     2014.0     30.127362     57.638923  \n",
       "\n",
       "[5 rows x 70 columns]"
      ]
     },
     "execution_count": 42,
     "metadata": {},
     "output_type": "execute_result"
    }
   ],
   "source": [
    "dft11.head()"
   ]
  },
  {
   "cell_type": "code",
   "execution_count": 43,
   "metadata": {
    "collapsed": false
   },
   "outputs": [],
   "source": [
    "dft11[\"taux_sortie_sans_bloc\"] = np.nan \n",
    "dft11.ix[dft11[\"Ann?e\"]==1981,\"taux_sortie_sans_bloc\"] = dft11.ix[dft11[\"Ann?e\"]==1981,\"taux_centre\"]\n",
    "dft11.ix[dft11[\"Ann?e\"]==1988,\"taux_sortie_sans_bloc\"] = dft11.ix[dft11[\"Ann?e\"]==1988,\"taux_gauche\"]\n",
    "dft11.ix[dft11[\"Ann?e\"]==1995,\"taux_sortie_sans_bloc\"] = dft11.ix[dft11[\"Ann?e\"]==1995,\"taux_gauche\"]\n",
    "dft11.ix[dft11[\"Ann?e\"]==2002,\"taux_sortie_sans_bloc\"] = dft11.ix[dft11[\"Ann?e\"]==2002,\"taux_droite\"]\n",
    "dft11.ix[dft11[\"Ann?e\"]==2007,\"taux_sortie_sans_bloc\"] = dft11.ix[dft11[\"Ann?e\"]==2007,\"taux_droite\"]\n",
    "dft11.ix[dft11[\"Ann?e\"]==2012,\"taux_sortie_sans_bloc\"] = dft11.ix[dft11[\"Ann?e\"]==2012,\"taux_droite\"]"
   ]
  },
  {
   "cell_type": "code",
   "execution_count": 44,
   "metadata": {
    "collapsed": false
   },
   "outputs": [],
   "source": [
    "dft11[\"taux_sortie_avec_bloc\"] = np.nan \n",
    "dft11.ix[dft11[\"Ann?e\"]==1981,\"taux_sortie_avec_bloc\"] = dft11.ix[dft11[\"Ann?e\"]==1981,\"taux_centre\"] +\\\n",
    "dft11.ix[dft11[\"Ann?e\"]==1981,\"taux_droite\"]\n",
    "dft11.ix[dft11[\"Ann?e\"]==1988,\"taux_sortie_avec_bloc\"] = dft11.ix[dft11[\"Ann?e\"]==1988,\"taux_gauche\"]+\\\n",
    "dft11.ix[dft11[\"Ann?e\"]==1988,\"taux_xgauche\"] + dft11.ix[dft11[\"Ann?e\"]==1988,\"taux_vert\"]\n",
    "        \n",
    "dft11.ix[dft11[\"Ann?e\"]==1995,\"taux_sortie_avec_bloc\"] = dft11.ix[dft11[\"Ann?e\"]==1995,\"taux_gauche\"]+\\\n",
    "dft11.ix[dft11[\"Ann?e\"]==1995,\"taux_xgauche\"] + dft11.ix[dft11[\"Ann?e\"]==1995,\"taux_vert\"]\n",
    "\n",
    "dft11.ix[dft11[\"Ann?e\"]==2002,\"taux_sortie_avec_bloc\"] = dft11.ix[dft11[\"Ann?e\"]==2002,\"taux_droite\"]+\\\n",
    "dft11.ix[dft11[\"Ann?e\"]==2002,\"taux_centre\"]\n",
    "dft11.ix[dft11[\"Ann?e\"]==2007,\"taux_sortie_avec_bloc\"] = dft11.ix[dft11[\"Ann?e\"]==2007,\"taux_droite\"]+\\\n",
    "dft11.ix[dft11[\"Ann?e\"]==2007,\"taux_centre\"]\n",
    "dft11.ix[dft11[\"Ann?e\"]==2012,\"taux_sortie_avec_bloc\"] = dft11.ix[dft11[\"Ann?e\"]==2012,\"taux_droite\"]+\\\n",
    "dft11.ix[dft11[\"Ann?e\"]==2012,\"taux_centre\"]\n",
    "\n",
    "dft11[\"exec_sortant_gauche\"] = np.nan \n",
    "dft11.ix[dft11[\"Ann?e\"]==1981,\"exec_sortant_gauche\"] = 0\n",
    "dft11.ix[dft11[\"Ann?e\"]==1988,\"exec_sortant_gauche\"] = 1\n",
    "dft11.ix[dft11[\"Ann?e\"]==1995,\"exec_sortant_gauche\"] = 1\n",
    "dft11.ix[dft11[\"Ann?e\"]==2002,\"exec_sortant_gauche\"] = 0\n",
    "dft11.ix[dft11[\"Ann?e\"]==2007,\"exec_sortant_gauche\"] = 0\n",
    "dft11.ix[dft11[\"Ann?e\"]==2012,\"exec_sortant_gauche\"] = 0"
   ]
  },
  {
   "cell_type": "code",
   "execution_count": 45,
   "metadata": {
    "collapsed": false
   },
   "outputs": [],
   "source": [
    "#Taux_supp_moyenne sortant\n",
    "#Popularité sortant \n",
    "\n",
    "dft11[\"ecart_pop\"] = dft11[\"pop_president\"] - dft11[\"pop_premier_ministre\"] \n",
    "dft11[\"pop_exec\"] = np.nan \n",
    "dft11.ix[dft11[\"Ann?e\"]==1981,\"pop_exec\"] = dft11.ix[dft11[\"Ann?e\"]==1981,\"pop_president\"].iloc[0]\n",
    "dft11.ix[dft11[\"Ann?e\"]==1988,\"pop_exec\"] = dft11.ix[dft11[\"Ann?e\"]==1988,\"pop_president\"].iloc[0]\n",
    "dft11.ix[dft11[\"Ann?e\"]==2012,\"pop_exec\"] = dft11.ix[dft11[\"Ann?e\"]==2012,\"pop_president\"].iloc[0]\n",
    "dft11.ix[dft11[\"Ann?e\"]==1995,\"pop_exec\"] = dft11.ix[dft11[\"Ann?e\"]==1995,\"pop_premier_ministre\"].iloc[0]\n",
    "dft11.ix[dft11[\"Ann?e\"]==2002,\"pop_exec\"] = dft11.ix[dft11[\"Ann?e\"]==2002,\"pop_premier_ministre\"].iloc[0]\n",
    "dft11.ix[dft11[\"Ann?e\"]==2007,\"pop_exec\"] = dft11.ix[dft11[\"Ann?e\"]==2007,\"pop_premier_ministre\"].iloc[0]\n",
    "\n",
    "dft11.ix[dft11[\"Ann?e\"]==1981,\"pop_xdroite\"] = dft11.ix[dft11[\"Ann?e\"]==1988,\"pop_xdroite\"].iloc[0]\n",
    "dft11.ix[dft11[\"Ann?e\"]==1981,\"pop_verts\"] = dft11.ix[dft11[\"Ann?e\"]==1995,\"pop_verts\"].iloc[0]\n",
    "dft11.ix[dft11[\"Ann?e\"]==1988,\"pop_verts\"] = dft11.ix[dft11[\"Ann?e\"]==1995,\"pop_verts\"].iloc[0]\n",
    "\n",
    "dft11.ix[dft11[\"Ann?e\"]==1981,\"nombre de logement vacant\"] = 1891."
   ]
  },
  {
   "cell_type": "code",
   "execution_count": 46,
   "metadata": {
    "collapsed": true
   },
   "outputs": [],
   "source": [
    "# On rajoute après coup l'option fn qui permet de supprimer l'année 1981"
   ]
  },
  {
   "cell_type": "code",
   "execution_count": 68,
   "metadata": {
    "collapsed": false
   },
   "outputs": [],
   "source": [
    "def create_train(target, dft11, option_fn=False):\n",
    "    dft11[\"CORS88\"] = dft11.apply(lambda row : 1 if row[\"Ann?e\"]==1988 and \n",
    "                              row[\"code\"] in [\"2A\",\"2B\"] else 0, axis=1)\n",
    "\n",
    "    dft11[\"CORS02\"] = dft11.apply(lambda row : 1 if row[\"Ann?e\"]==2002 and \n",
    "                              row[\"code\"] in [\"2A\",\"2B\"] else 0, axis=1)\n",
    "    \n",
    "    dft12 = dft11.drop([\"code\", 'taux_Blancs et nuls', 'taux_xgauche',\\\n",
    "                    'taux_vert', 'Q1_rate', 'Q2_rate', 'Q3_rate', 'Q4_rate', \"Total\", \\\n",
    "                   'depart_OM', \"Date\",\"taux_Abstention_sup_moyenne\",'taux_Blancs et nuls_sup_moyenne',\n",
    "                        'depart_CORSE'], axis=1)\n",
    "    \n",
    "    dft12[\"Date\"] = dft12[\"Ann?e\"] - 1981\n",
    "    \n",
    "\n",
    "\n",
    "    \n",
    "    list_dell = [\"Ann?e\",\"d?partement\",'taux_centre',\"taux_bgauche\",'taux_Abstention',\"taux_sortie_sans_bloc\",\n",
    "                \"taux_sortie_avec_bloc\",\"taux_gauche\", 'taux_xdroite',\"taux_bdroite\",'taux_droite']\n",
    "\n",
    "    \n",
    "    \n",
    "    \n",
    "    if option_fn==True:\n",
    "        dft12 = dft12[dft12[\"Ann?e\"]!=1981]\n",
    "        \n",
    "\n",
    "    \n",
    "    df_train_x = dft12.drop(list_dell, axis=1)\n",
    "    df_train_y = dft12[target]\n",
    "    \n",
    "    return df_train_x, df_train_y"
   ]
  },
  {
   "cell_type": "code",
   "execution_count": 71,
   "metadata": {
    "collapsed": true
   },
   "outputs": [],
   "source": [
    "def create_train_and_test(target, dft11, option_fn=False):\n",
    "\n",
    "    dft11[\"CORS88\"] = dft11.apply(lambda row : 1 if row[\"Ann?e\"]==1988 and \n",
    "                              row[\"code\"] in [\"2A\",\"2B\"] else 0, axis=1)\n",
    "\n",
    "    dft11[\"CORS02\"] = dft11.apply(lambda row : 1 if row[\"Ann?e\"]==2002 and \n",
    "                              row[\"code\"] in [\"2A\",\"2B\"] else 0, axis=1)\n",
    "    \n",
    "    dft12 = dft11.drop([\"code\", 'taux_Blancs et nuls', 'taux_xgauche',\\\n",
    "                    'taux_vert', 'Q1_rate', 'Q2_rate', 'Q3_rate', 'Q4_rate', \"Total\", \\\n",
    "                   'depart_OM', \"Date\",\"taux_Abstention_sup_moyenne\",'taux_Blancs et nuls_sup_moyenne',\n",
    "                        'depart_CORSE'], axis=1)\n",
    "    \n",
    "    dft12[\"Date\"] = dft12[\"Ann?e\"] - 1981\n",
    "    \n",
    "\n",
    "\n",
    "    \n",
    "    list_dell = [\"Ann?e\",\"d?partement\", \"taux_centre\",\"taux_bgauche\",'taux_Abstention',\"taux_sortie_sans_bloc\",\n",
    "                \"taux_sortie_avec_bloc\",\"taux_gauche\", 'taux_xdroite',\"taux_bdroite\", 'taux_droite']\n",
    "\n",
    "    \n",
    "    df_train = dft12[dft12[\"Ann?e\"]!=2012]\n",
    "    \n",
    "    if option_fn==True:\n",
    "        df_train = df_train[df_train[\"Ann?e\"]!=1981]\n",
    "        \n",
    "    df_test = dft12[dft12[\"Ann?e\"]==2012]\n",
    "    \n",
    "    df_train_x = df_train.drop(list_dell, axis=1)\n",
    "    df_train_y = df_train[target]\n",
    "    df_test_x = df_test.drop(list_dell, axis=1)\n",
    "    df_test_y = df_test[target]\n",
    "    \n",
    "    return df_train_x, df_train_y, df_test_x, df_test_y"
   ]
  },
  {
   "cell_type": "code",
   "execution_count": 49,
   "metadata": {
    "collapsed": false
   },
   "outputs": [],
   "source": [
    "def target_and_predict(target, dft11, estimator, importance_features=False,  option_fn=False):\n",
    "\n",
    "    df_train_x, df_train_y, df_test_x, df_test_y = create_train_and_test(target, dft11,  option_fn=option_fn)\n",
    "   \n",
    "    svr.fit(df_train_x, df_train_y)\n",
    "    print(\"Avec l'estimateur %s\" % str(estimator))\n",
    "    print(\"Approche %s\" % target)\n",
    "    print(\"Nb itération : %s\" % svr.n_iter_)\n",
    "    print(\"MSE test : %s\" % metrics.mean_squared_error(df_test_y, svr.predict(df_test_x)))\n",
    "    print(\"MAE test : %s\" % metrics.mean_absolute_error(df_test_y, svr.predict(df_test_x)))\n",
    "    print(\"R2 test : %s \" % svr.score(df_test_x, df_test_y))\n",
    "\n",
    "    if importance_features==True :\n",
    "        print(\"\\n\")\n",
    "        print(\"Features à garder\")\n",
    "        vec_features = zip(svr.coef_, df_train_x.columns)\n",
    "        vec_features = sorted(vec_features)\n",
    "\n",
    "        for i in range(len(vec_features)):\n",
    "            if vec_features[i][0]!=0:\n",
    "                print( vec_features[i][0],  vec_features[i][1])\n",
    "\n",
    "    print(\"\\n\")\n",
    "    "
   ]
  },
  {
   "cell_type": "code",
   "execution_count": 50,
   "metadata": {
    "collapsed": true
   },
   "outputs": [],
   "source": [
    "def my_Lslasso(data, target, alpha_value,  option_fn=False, normalize=True, max_iter=5000):\n",
    "    \n",
    "    print(alpha_value)\n",
    "    df_train_x, df_train_y, df_test_x, df_test_y = create_train_and_test(target, data, option_fn=option_fn)\n",
    "    svr = linear_model.Lasso(alpha=alpha_value, normalize=normalize, max_iter=max_iter, random_state=42)\n",
    "    svr.fit(df_train_x, df_train_y)\n",
    "    \n",
    "    if svr.n_iter_ == max_iter :\n",
    "        print(\"L'itération n'a pas convergé\")\n",
    "        \n",
    "    try :\n",
    "        df_train_x_select_features = df_train_x.ix[:,svr.coef_!=0]\n",
    "        df_test_x_select_features = df_test_x.ix[:,svr.coef_!=0]\n",
    "\n",
    "        print(df_train_x.columns[svr.coef_!=0])\n",
    "        \n",
    "        lr = LinearRegression(fit_intercept=True, normalize=True)\n",
    "        lr.fit(df_train_x_select_features, df_train_y)\n",
    "        print(\"R2 train %s\" % lr.score(df_train_x_select_features, df_train_y))\n",
    "        print(\"MAE test %s\" % metrics.mean_absolute_error(df_test_y, lr.predict(df_test_x_select_features)))\n",
    "        \n",
    "    except ValueError :\n",
    "            print(\"Tout les coéfficients sont nuls\")"
   ]
  },
  {
   "cell_type": "code",
   "execution_count": 51,
   "metadata": {
    "collapsed": true
   },
   "outputs": [],
   "source": [
    "def my_LsElasticNet(data, target, alpha_value, ratio, option_fn=False):\n",
    "    \n",
    "    print(\"Alpha value %s\" % alpha_value)\n",
    "    print(\"Ratio %s\" % ratio)\n",
    "    df_train_x, df_train_y, df_test_x, df_test_y = create_train_and_test(target, data,  option_fn=option_fn)\n",
    "    en = ElasticNet(alpha=alpha_value, l1_ratio=ratio, fit_intercept=True, normalize=True, \n",
    "               max_iter=5000 ,random_state=42)\n",
    "    \n",
    "    en.fit(df_train_x, df_train_y)\n",
    "    \n",
    "    if en.n_iter_ == 5000 :\n",
    "        print(\"L'itération n'a pas convergé\")\n",
    "        \n",
    "    try :\n",
    "        df_train_x_select_features = df_train_x.ix[:,en.coef_!=0]\n",
    "        df_test_x_select_features = df_test_x.ix[:,en.coef_!=0]\n",
    "\n",
    "        #print(df_train_x.columns[en.coef_!=0])\n",
    "        \n",
    "        lr = LinearRegression(fit_intercept=True, normalize=True)\n",
    "        lr.fit(df_train_x_select_features, df_train_y)\n",
    "\n",
    "        print(metrics.mean_absolute_error(df_test_y, lr.predict(df_test_x_select_features)))\n",
    "        \n",
    "    except ValueError :\n",
    "            print(\"Tout les coéfficients sont nuls\")"
   ]
  },
  {
   "cell_type": "code",
   "execution_count": 52,
   "metadata": {
    "collapsed": false
   },
   "outputs": [],
   "source": [
    "# on supprime les variables qui sont trop corrélée avec d'autres\n",
    "def list_prediction(features_keep, target):\n",
    "\n",
    "    df_train_x, df_train_y, df_test_x, df_test_y = create_train_and_test(target, dft11, True)\n",
    "    df_train_x_select_features = df_train_x.ix[:, features_keep]\n",
    "    df_test_x_select_features = df_test_x.ix[:, features_keep]\n",
    "\n",
    "    p = len(features_keep)\n",
    "    lr = LinearRegression(fit_intercept=True, normalize=True)\n",
    "    lr.fit(df_train_x_select_features, df_train_y)\n",
    "    print(df_test_x_select_features.columns)\n",
    "    print(\"R2 train %s\" % lr.score(df_train_x_select_features, df_train_y))\n",
    "    print(\"R2 adjust train %s\" % r2_adjusted(df_train_x_select_features, df_train_y, p,lr))\n",
    "    print(\"MAE train %s\" % metrics.mean_absolute_error(df_train_y, lr.predict(df_train_x_select_features)))\n",
    "    print(\"MAE test %s\" % metrics.mean_absolute_error(df_test_y, lr.predict(df_test_x_select_features)))\n",
    "    print(\"\\n\")\n",
    "    print(\"Résultat avec fit entire data\")\n",
    "    df_train_x, df_train_y = create_train(target, dft11, True)\n",
    "    df_train_x_select_features = df_train_x.ix[:, features_keep]\n",
    "    lr = LinearRegression(fit_intercept=True, normalize=True)\n",
    "    lr.fit(df_train_x_select_features, df_train_y)\n",
    "    print(\"R2 train %s\" % lr.score(df_train_x_select_features, df_train_y))\n",
    "    print(\"R2 adjust train %s\" % r2_adjusted(df_train_x_select_features, df_train_y, p,lr))\n",
    "    print(\"MAE train %s\" % metrics.mean_absolute_error(df_train_y, lr.predict(df_train_x_select_features)))"
   ]
  },
  {
   "cell_type": "code",
   "execution_count": 53,
   "metadata": {
    "collapsed": true
   },
   "outputs": [],
   "source": [
    "def list_prediction_SM(features_keep, target):\n",
    "    print(\"Résultat avec fit entire data\")\n",
    "    df_train_x, df_train_y = create_train(target, dft11, False)\n",
    "    df_train_x_select_features = df_train_x.ix[:, features_keep]\n",
    "    df_train_x_select_features = sm.add_constant(df_train_x_select_features)\n",
    "    model = sm.OLS(df_train_y , df_train_x_select_features)\n",
    "    results = model.fit()\n",
    "    print(results.summary())"
   ]
  },
  {
   "cell_type": "code",
   "execution_count": 54,
   "metadata": {
    "collapsed": true
   },
   "outputs": [],
   "source": [
    "def generate_corr_features(target):\n",
    "    \n",
    "    df_train_x, df_train_y = create_train(target, dft11, True)\n",
    "\n",
    "    mat_cor = pd.concat([df_train_x, df_train_y], axis=1)\n",
    "\n",
    "\n",
    "\n",
    "    features_corr = pd.DataFrame(columns=[\"name\",\"corr_pearson\",\n",
    "                                        \"corr_pearson_pvalue\",\"corr_spearman\",\n",
    "                                        \"corr_sperman_pvalue\"])\n",
    "    for i in range(1, mat_cor.shape[1]):\n",
    "        features_corr = features_corr.append(\n",
    "            {\"name\" : mat_cor.columns[i],\n",
    "            \"corr_pearson\": pearsonr(mat_cor.ix[:, i], mat_cor.ix[:, target])[0],\n",
    "            \"corr_pearson_pvalue\": round(pearsonr(mat_cor.ix[:, i], mat_cor.ix[:, target])[1], 5),\n",
    "            \"corr_spearman\": spearmanr(mat_cor.ix[:, i], mat_cor.ix[:, target])[0],\n",
    "            \"corr_sperman_pvalue\": round(spearmanr(mat_cor.ix[:, i], mat_cor.ix[:, target])[1], 5),\n",
    "           },\n",
    "            ignore_index=True\n",
    "            )\n",
    "    features_corr2 = features_corr[(features_corr[\"corr_sperman_pvalue\"]<=0.05) ]\n",
    "\n",
    "    # plus besoin des pvalues puisque l'on à vérifié la condition de rejet sur h0\n",
    "    del features_corr2[\"corr_sperman_pvalue\"]\n",
    "    del features_corr2[\"corr_pearson_pvalue\"]\n",
    "\n",
    "    features_var_select = features_corr2[(features_corr2[\"corr_spearman\"]>=0.2)|\n",
    "                                         (features_corr2[\"corr_spearman\"]<=-0.2)]\n",
    "    \n",
    "    features_var_select.to_csv(\"file_corr/\"+target +\"_corr_sperman.csv\", sep=\";\")\n",
    "\n",
    "    features_select_corr = mat_cor.ix[:, features_var_select[\"name\"]].corr()\n",
    "\n",
    "    features_select_corr[abs(features_select_corr.ix[:,:])>=0.5].to_csv(\n",
    "        \"file_corr/\"+target+\"_features_corr_features.csv\",sep=\",\")"
   ]
  },
  {
   "cell_type": "code",
   "execution_count": 55,
   "metadata": {
    "collapsed": true
   },
   "outputs": [],
   "source": [
    "def r2_adjusted(df_x, df_y, p, estimator):\n",
    "    r2 = estimator.score(df_x, df_y)\n",
    "    n = df_x.shape[0]\n",
    "    return 1 - (((1- r2)*(n-1))/ (n-p-1))"
   ]
  },
  {
   "cell_type": "code",
   "execution_count": 63,
   "metadata": {
    "collapsed": false
   },
   "outputs": [],
   "source": [
    "features_keep_centre = [\"capacite epargne future(am?lioration moins deterioration)\",\n",
    "\"pres_centre\",\n",
    "\"taux_centre_sup_moyenne\",\n",
    "\"conjoncture travaux publics-opinions sur le carnet de commandes\",\n",
    "\"var_chomage_annee\",\n",
    "\"ecart_pop\",\n",
    "\"taux_xgauche_sup_moyenne\",\n",
    "\"75+ans\",\n",
    "\"taux_xdroite_sup_moyenne\"\n",
    "]\n",
    "# Modèle centre\n",
    "df_train_x, df_train_y, df_test_x, df_test_y = create_train_and_test(\"taux_centre\", dft11, False)\n",
    "df_train_x_select_features = df_train_x.ix[:, features_keep_centre]\n",
    "df_test_x_select_features = df_test_x.ix[:, features_keep_centre]\n",
    "model_centre_final = LinearRegression(fit_intercept=True, normalize=True)\n",
    "model_centre_final.fit(df_train_x_select_features, df_train_y)\n",
    "y_centre = model_centre_final.predict(df_test_x_select_features )"
   ]
  },
  {
   "cell_type": "code",
   "execution_count": 64,
   "metadata": {
    "collapsed": false
   },
   "outputs": [],
   "source": [
    "features_keep_bgauche_2 = [\"pop_president\",\n",
    "\"cohabitation\",\n",
    "\"D?c?s domicili?s par d?partement\",\n",
    "\"taux_gauche_sup_moyenne\",\n",
    "\"taux_xdroite_sup_moyenne\",\n",
    "\"taux_xgauche_sup_moyenne\",\n",
    "\"persistance_gauche\",\n",
    "\"persistance_centre_droite\",\n",
    "\"var_chomage_annee\"\n",
    "]\n",
    "# Modèle gauche v2\n",
    "df_train_x, df_train_y, df_test_x, df_test_y = create_train_and_test(\"taux_bgauche\", dft11, False)\n",
    "df_train_x_select_features = df_train_x.ix[:, features_keep_bgauche_2]\n",
    "df_test_x_select_features = df_test_x.ix[:, features_keep_bgauche_2]\n",
    "model_gauche= LinearRegression(fit_intercept=True, normalize=True)\n",
    "model_gauche.fit(df_train_x_select_features, df_train_y)\n",
    "y_gauche = model_gauche.predict(df_test_x_select_features)"
   ]
  },
  {
   "cell_type": "code",
   "execution_count": 65,
   "metadata": {
    "collapsed": false
   },
   "outputs": [],
   "source": [
    "features_keep = [\"Nombre total de mariages domicili?s\",\n",
    "\"taux_droite_sup_moyenne\",\n",
    "\"taux_gauche_sup_moyenne\",\n",
    "\"taux_xdroite_sup_moyenne\",\n",
    "\"pop_xdroite\",\n",
    "\"Densit?\",\n",
    "\"subventions\",\n",
    "\"pop_exec\"\n",
    "]\n",
    "\n",
    "df_train_x, df_train_y, df_test_x, df_test_y = create_train_and_test(\"taux_xdroite\", dft11, False)\n",
    "df_train_x_select_features = df_train_x.ix[:, features_keep ]\n",
    "df_test_x_select_features = df_test_x.ix[:, features_keep]\n",
    "model_xdroite= LinearRegression(fit_intercept=True, normalize=True)\n",
    "model_xdroite.fit(df_train_x_select_features, df_train_y)\n",
    "\n",
    "y_xdroite = model_xdroite.predict(df_test_x_select_features )"
   ]
  },
  {
   "cell_type": "code",
   "execution_count": 72,
   "metadata": {
    "collapsed": false
   },
   "outputs": [
    {
     "name": "stdout",
     "output_type": "stream",
     "text": [
      "3.75684851337\n"
     ]
    }
   ],
   "source": [
    "y_droite = 100 - y_xdroite - y_centre - y_gauche\n",
    "df_train_x, df_train_y, df_test_x, df_test_y = create_train_and_test(\"taux_droite\", dft11, False)\n",
    "\n",
    "print(metrics.mean_absolute_error(df_test_y,y_droite ))"
   ]
  },
  {
   "cell_type": "code",
   "execution_count": 73,
   "metadata": {
    "collapsed": false
   },
   "outputs": [
    {
     "data": {
      "text/plain": [
       "array([ 25.44352282,  25.43357304,  28.05829135,  25.48951721,\n",
       "        32.56063684,  20.58113942,  23.79413286,  20.09753802,\n",
       "        29.34726646,  19.09629635,  29.88633552,  27.64090206,\n",
       "        28.03255812,  25.05073498,  37.898748  ,  29.21739259,\n",
       "        32.38198097,  27.50143718,  33.00584926,  35.4413121 ,\n",
       "        27.54140202,  20.01409233,  32.24645634,  26.19882158,\n",
       "        25.83146871,  29.92279455,  21.03522104,  22.71139801,\n",
       "        24.74001775,  25.25243678,  22.58758016,  21.83597999,\n",
       "        25.07424695,  23.42516172,  25.45980531,  35.81899128,\n",
       "        20.76613665,  23.83633883,  30.85872194,  26.97612792,\n",
       "        28.10422756,  24.50515653,  26.75495609,  19.1227194 ,\n",
       "        31.33517304,  21.72574312,  23.98757303,  27.27176199,\n",
       "        25.82932102,  19.38726968,  22.298723  ,  22.07028349,\n",
       "        22.60117153,  20.59409909,  22.10895028,  29.27131053,\n",
       "        22.54708565,  24.83303087,  35.11752026,  33.82485174,\n",
       "        34.0696633 ,  22.99770845,  31.70090172,  18.20731079,\n",
       "        23.40300325,  31.65128805,  23.015625  ,  21.541342  ,\n",
       "        24.14336205,  26.44407029,  31.38563976,  34.32633903,\n",
       "        18.78900957,  20.62674648,  26.55647495,  22.53812185,\n",
       "        27.09555972,  23.33354549,  21.06599717,  27.96383683,\n",
       "        31.45139058,  22.69358486,  18.92979955,  25.24614719,\n",
       "        20.16446013,  24.4459789 ,  26.39711978,  26.60684613,\n",
       "        19.30808303,  31.61435976,  30.06016593,  34.39316524,\n",
       "        29.97490324,  23.35325695,  29.43847961,  33.62512815])"
      ]
     },
     "execution_count": 73,
     "metadata": {},
     "output_type": "execute_result"
    }
   ],
   "source": [
    "y_droite"
   ]
  },
  {
   "cell_type": "markdown",
   "metadata": {},
   "source": [
    "## Prédiction Sortant/ ou gauche"
   ]
  },
  {
   "cell_type": "code",
   "execution_count": 37,
   "metadata": {
    "collapsed": false,
    "scrolled": true
   },
   "outputs": [
    {
     "name": "stdout",
     "output_type": "stream",
     "text": [
      "Avec l'estimateur Lasso(alpha=0.1, copy_X=True, fit_intercept=True, max_iter=5000,\n",
      "   normalize=True, positive=False, precompute=False, random_state=42,\n",
      "   selection='cyclic', tol=0.0001, warm_start=False)\n",
      "Approche taux_gauche\n",
      "Nb itération : 20\n",
      "MSE test : 18.6143848196\n",
      "MAE test : 3.37192264221\n",
      "R2 test : -0.0150222115684 \n",
      "\n",
      "\n",
      "Avec l'estimateur Lasso(alpha=0.1, copy_X=True, fit_intercept=True, max_iter=5000,\n",
      "   normalize=True, positive=False, precompute=False, random_state=42,\n",
      "   selection='cyclic', tol=0.0001, warm_start=False)\n",
      "Approche taux_bgauche\n",
      "Nb itération : 28\n",
      "MSE test : 37.0697634355\n",
      "MAE test : 4.90479702662\n",
      "R2 test : -0.14169904631 \n",
      "\n",
      "\n",
      "Avec l'estimateur Lasso(alpha=0.1, copy_X=True, fit_intercept=True, max_iter=5000,\n",
      "   normalize=True, positive=False, precompute=False, random_state=42,\n",
      "   selection='cyclic', tol=0.0001, warm_start=False)\n",
      "Approche taux_sortie_sans_bloc\n",
      "Nb itération : 11\n",
      "MSE test : 15.1239430387\n",
      "MAE test : 3.22516695987\n",
      "R2 test : -0.148447605949 \n",
      "\n",
      "\n",
      "Avec l'estimateur Lasso(alpha=0.1, copy_X=True, fit_intercept=True, max_iter=5000,\n",
      "   normalize=True, positive=False, precompute=False, random_state=42,\n",
      "   selection='cyclic', tol=0.0001, warm_start=False)\n",
      "Approche taux_sortie_avec_bloc\n",
      "Nb itération : 18\n",
      "MSE test : 30.7139767263\n",
      "MAE test : 4.60664119788\n",
      "R2 test : -0.530296681192 \n",
      "\n",
      "\n"
     ]
    }
   ],
   "source": [
    "svr = linear_model.Lasso(alpha=0.1, normalize=True, max_iter=5000, random_state=42)\n",
    "target_and_predict(\"taux_gauche\",dft11, svr)\n",
    "target_and_predict(\"taux_bgauche\",dft11, svr)\n",
    "target_and_predict(\"taux_sortie_sans_bloc\",dft11, svr)\n",
    "target_and_predict(\"taux_sortie_avec_bloc\",dft11, svr)"
   ]
  },
  {
   "cell_type": "code",
   "execution_count": 140,
   "metadata": {
    "collapsed": false,
    "scrolled": true
   },
   "outputs": [
    {
     "name": "stdout",
     "output_type": "stream",
     "text": [
      "Avec l'estimateur Lasso(alpha=0.1, copy_X=True, fit_intercept=True, max_iter=5000,\n",
      "   normalize=True, positive=False, precompute=False, random_state=42,\n",
      "   selection='cyclic', tol=0.0001, warm_start=False)\n",
      "Approche taux_gauche\n",
      "Nb itération : 53\n",
      "MSE test : 22.8028640741\n",
      "MAE test : 3.91995593266\n",
      "R2 test : -0.243415441706 \n",
      "\n",
      "\n",
      "Avec l'estimateur Lasso(alpha=0.1, copy_X=True, fit_intercept=True, max_iter=5000,\n",
      "   normalize=True, positive=False, precompute=False, random_state=42,\n",
      "   selection='cyclic', tol=0.0001, warm_start=False)\n",
      "Approche taux_bgauche\n",
      "Nb itération : 45\n",
      "MSE test : 40.6878156628\n",
      "MAE test : 5.17159539319\n",
      "R2 test : -0.253130207306 \n",
      "\n",
      "\n",
      "Avec l'estimateur Lasso(alpha=0.1, copy_X=True, fit_intercept=True, max_iter=5000,\n",
      "   normalize=True, positive=False, precompute=False, random_state=42,\n",
      "   selection='cyclic', tol=0.0001, warm_start=False)\n",
      "Approche taux_sortie_sans_bloc\n",
      "Nb itération : 16\n",
      "MSE test : 15.813498178\n",
      "MAE test : 3.30514436709\n",
      "R2 test : -0.200809476587 \n",
      "\n",
      "\n",
      "Avec l'estimateur Lasso(alpha=0.1, copy_X=True, fit_intercept=True, max_iter=5000,\n",
      "   normalize=True, positive=False, precompute=False, random_state=42,\n",
      "   selection='cyclic', tol=0.0001, warm_start=False)\n",
      "Approche taux_sortie_avec_bloc\n",
      "Nb itération : 43\n",
      "MSE test : 23.3977358019\n",
      "MAE test : 3.95554730616\n",
      "R2 test : -0.165771458515 \n",
      "\n",
      "\n"
     ]
    }
   ],
   "source": [
    "svr = linear_model.Lasso(alpha=0.1, normalize=True, max_iter=5000, random_state=42)\n",
    "target_and_predict(\"taux_gauche\",dft11, svr, option_fn=True)\n",
    "target_and_predict(\"taux_bgauche\",dft11, svr, option_fn=True)\n",
    "target_and_predict(\"taux_sortie_sans_bloc\",dft11, svr, option_fn=True)\n",
    "target_and_predict(\"taux_sortie_avec_bloc\",dft11, svr, option_fn=True)"
   ]
  },
  {
   "cell_type": "code",
   "execution_count": 25,
   "metadata": {
    "collapsed": false
   },
   "outputs": [
    {
     "name": "stdout",
     "output_type": "stream",
     "text": [
      "0.0005\n",
      "Index(['depart_frontalier', '0-19ans', '20-39ans', '40-59ans', '60-74ans',\n",
      "       '75+ans', 'Naissances domicili?es par d?partement',\n",
      "       'Nombre total de mariages domicili?s',\n",
      "       'D?c?s domicili?s par d?partement', 'var_chomage_annee',\n",
      "       'taux_centre_sup_moyenne', 'taux_droite_sup_moyenne',\n",
      "       'taux_gauche_sup_moyenne', 'taux_vert_sup_moyenne',\n",
      "       'taux_xdroite_sup_moyenne', 'taux_xgauche_sup_moyenne',\n",
      "       'taux_Blancs et nuls_sup_moyenne', 'pop_verts', 'Dissident',\n",
      "       'Superficie ', 'Densit?', 'persistance_gauche', 'persistance_droite',\n",
      "       'persistance centre', 'persistance_centre_droite', 'pres_centre',\n",
      "       'pres_droite', 'pres_xgauche', 'importations',\n",
      "       'conjoncture travaux publics-opinions sur le carnet de commandes',\n",
      "       'densit?_m?decins', 'CORS88', 'CORS02'],\n",
      "      dtype='object')\n",
      "R2 train 0.661655079917\n",
      "MAE test 2.80859311841\n"
     ]
    }
   ],
   "source": [
    "my_Lslasso(dft11,\"taux_sortie_sans_bloc\", 0.0005)"
   ]
  },
  {
   "cell_type": "code",
   "execution_count": 60,
   "metadata": {
    "collapsed": false
   },
   "outputs": [
    {
     "name": "stdout",
     "output_type": "stream",
     "text": [
      "0.1\n",
      "Index(['0-19ans', '40-59ans', '60-74ans', 'taux_chomage',\n",
      "       'taux_centre_sup_moyenne', 'taux_gauche_sup_moyenne',\n",
      "       'taux_vert_sup_moyenne', 'taux_xdroite_sup_moyenne',\n",
      "       'taux_xgauche_sup_moyenne', 'taux_Blancs et nuls_sup_moyenne',\n",
      "       'Dissident', 'Superficie ', 'Densit?', 'importations', 'subventions',\n",
      "       'conjoncture travaux publics-opinions sur le carnet de commandes',\n",
      "       'densit?_m?decins', 'consommation menages - electricite'],\n",
      "      dtype='object')\n",
      "R2 train 0.636522094138\n",
      "MAE test 2.57487312691\n"
     ]
    }
   ],
   "source": [
    "my_Lslasso(dft11,\"taux_sortie_sans_bloc\", 0.1, normalize=False, max_iter=30000)"
   ]
  },
  {
   "cell_type": "code",
   "execution_count": 33,
   "metadata": {
    "collapsed": false
   },
   "outputs": [
    {
     "name": "stdout",
     "output_type": "stream",
     "text": [
      "0.0175\n",
      "Index(['0-19ans', 'var_chomage_annee', 'taux_centre_sup_moyenne',\n",
      "       'taux_droite_sup_moyenne', 'taux_gauche_sup_moyenne',\n",
      "       'taux_xdroite_sup_moyenne', 'taux_xgauche_sup_moyenne', 'pop_droite',\n",
      "       'pop_president', 'Dissident', 'persistance_gauche',\n",
      "       'persistance_centre_droite', 'pres_gauche', 'pres_xgauche',\n",
      "       'ecart_pop'],\n",
      "      dtype='object')\n",
      "R2 train 0.839217163519\n",
      "MAE test 2.96474877595\n"
     ]
    }
   ],
   "source": [
    "my_Lslasso(dft11,\"taux_bgauche\", 0.0175)"
   ]
  },
  {
   "cell_type": "code",
   "execution_count": 52,
   "metadata": {
    "collapsed": false
   },
   "outputs": [
    {
     "name": "stdout",
     "output_type": "stream",
     "text": [
      "0.01\n",
      "Index(['taux_centre_sup_moyenne', 'taux_droite_sup_moyenne',\n",
      "       'taux_gauche_sup_moyenne', 'taux_xdroite_sup_moyenne', 'pop_xgauche',\n",
      "       'droite_au_pouvoir', 'Dissident', 'Superficie ', 'pres_gauche',\n",
      "       'pres_xgauche',\n",
      "       'capacit? epargne actuelle (augmentation moins diminution)',\n",
      "       'densit?_m?decins', 'CORS88'],\n",
      "      dtype='object')\n",
      "R2 train 0.653635294031\n",
      "MAE test 2.64805270111\n"
     ]
    }
   ],
   "source": [
    "my_Lslasso(dft11,\"taux_sortie_avec_bloc\", 0.01)"
   ]
  },
  {
   "cell_type": "code",
   "execution_count": 177,
   "metadata": {
    "collapsed": false
   },
   "outputs": [
    {
     "name": "stdout",
     "output_type": "stream",
     "text": [
      "0.007\n",
      "Index(['depart_frontalier', '0-19ans', '20-39ans', '40-59ans',\n",
      "       'var_chomage_annee', 'taux_centre_sup_moyenne',\n",
      "       'taux_droite_sup_moyenne', 'taux_gauche_sup_moyenne',\n",
      "       'taux_vert_sup_moyenne', 'taux_xdroite_sup_moyenne',\n",
      "       'taux_xgauche_sup_moyenne', 'pop_droite', 'pop_president', 'Dissident',\n",
      "       'Densit?', 'persistance_gauche', 'persistance_droite',\n",
      "       'persistance_centre_droite', 'pres_xgauche', 'densit?_m?decins',\n",
      "       'CORS88'],\n",
      "      dtype='object')\n",
      "R2 train 0.883534433257\n",
      "MAE test 2.33648800165\n"
     ]
    }
   ],
   "source": [
    "my_Lslasso(dft11,\"taux_bgauche\", 0.007,normalize=True, option_fn=True, max_iter=2000)"
   ]
  },
  {
   "cell_type": "code",
   "execution_count": 36,
   "metadata": {
    "collapsed": false,
    "scrolled": true
   },
   "outputs": [
    {
     "name": "stdout",
     "output_type": "stream",
     "text": [
      "0.03\n",
      "Index(['Nombre total de mariages domicili?s', 'taux_droite_sup_moyenne',\n",
      "       'taux_xdroite_sup_moyenne', 'Dissident', 'subventions',\n",
      "       'conjoncture travaux publics-opinions sur le carnet de commandes',\n",
      "       'capacit? epargne actuelle (augmentation moins diminution)'],\n",
      "      dtype='object')\n",
      "R2 train 0.708507651062\n",
      "MAE test 3.71396308927\n"
     ]
    }
   ],
   "source": [
    "# Si on veut avoir une meilleur perf sur le taux de sortie_avec_bloc sans 1981, il faut creer cette variable\n",
    "# sans l'ajout du centre\n",
    "my_Lslasso(dft11,\"taux_sortie_avec_bloc\", 0.03,normalize=True, option_fn=True, max_iter=2000)"
   ]
  },
  {
   "cell_type": "code",
   "execution_count": 138,
   "metadata": {
    "collapsed": true
   },
   "outputs": [],
   "source": [
    "# Selection variable avec RFE pas très satisfaisant"
   ]
  },
  {
   "cell_type": "code",
   "execution_count": 139,
   "metadata": {
    "collapsed": false
   },
   "outputs": [],
   "source": [
    "#df_train_x, df_train_y, df_test_x, df_test_y = create_train_and_test(\"taux_bgauche\", dft11)\n",
    "#ss = StandardScaler()\n",
    "#df_train_x = ss.fit_transform(df_train_x)\n",
    "#df_test_x = ss.transform(df_test_x)\n",
    "\n",
    "#svc = LinearRegression()\n",
    "#rfe = RFE(estimator=svc, n_features_to_select=8, step=3)\n",
    "#rfe.fit(df_train_x, df_train_y)\n",
    "\n",
    "#df_train_x_select_features\n",
    "#df_train_x_select_features = df_train_x[:,rfe.get_support(True)]\n",
    "#df_test_x_select_features = df_test_x[:,rfe.get_support(True)]\n",
    "\n",
    "#lr = LinearRegression()\n",
    "#lr.fit(df_train_x_select_features, df_train_y)\n",
    "\n",
    "#print(\"R2 train %s\" % lr.score(df_train_x_select_features, df_train_y))\n",
    "#print(\"MAE test %s\" % metrics.mean_absolute_error(df_test_y, lr.predict(df_test_x_select_features)))\n",
    "        "
   ]
  },
  {
   "cell_type": "code",
   "execution_count": 82,
   "metadata": {
    "collapsed": false
   },
   "outputs": [
    {
     "name": "stdout",
     "output_type": "stream",
     "text": [
      "Nb features 10\n",
      "R2 train 0.78055818605\n",
      "MAE test 2.76294294982\n"
     ]
    }
   ],
   "source": [
    "df_train_x, df_train_y, df_test_x, df_test_y = create_train_and_test(\"taux_bgauche\", dft11)\n",
    "dtr = DecisionTreeRegressor()\n",
    "sfm = SelectFromModel(dtr, threshold=0.017)\n",
    "sfm.fit(df_train_x, df_train_y)\n",
    "\n",
    "print(\"Nb features %s\" % sfm.get_support(True).shape)\n",
    "\n",
    "df_train_x_select_features = df_train_x[sfm.get_support(True)]\n",
    "df_test_x_select_features = df_test_x[sfm.get_support(True)]\n",
    "\n",
    "lr = LinearRegression()\n",
    "lr.fit(df_train_x_select_features, df_train_y)\n",
    "\n",
    "print(\"R2 train %s\" % lr.score(df_train_x_select_features, df_train_y))\n",
    "print(\"MAE test %s\" % metrics.mean_absolute_error(df_test_y, lr.predict(df_test_x_select_features)))"
   ]
  },
  {
   "cell_type": "code",
   "execution_count": 260,
   "metadata": {
    "collapsed": false
   },
   "outputs": [
    {
     "data": {
      "image/png": "[encoded data removed]",
      "text/plain": [
       "<matplotlib.figure.Figure at 0x7fa97d1bc4e0>"
      ]
     },
     "metadata": {},
     "output_type": "display_data"
    },
    {
     "name": "stdout",
     "output_type": "stream",
     "text": [
      "Min MAE 2.48096418849\n",
      "Min MAE 2.46988698395\n",
      "Min MAE 2.48428287966\n"
     ]
    }
   ],
   "source": [
    "# ACP ne fonctionne bien qu'avec taux de sortie sans bloc\n",
    "df_train_x, df_train_y, df_test_x, df_test_y = create_train_and_test(\"taux_sortie_sans_bloc\", dft11)\n",
    "# ACP \n",
    "ss = StandardScaler()\n",
    "df_train_x = ss.fit_transform(df_train_x)\n",
    "df_test_x = ss.transform(df_test_x)\n",
    "\n",
    "score = []\n",
    "score2 = []\n",
    "score3 = []\n",
    "for i in range(1, 20):\n",
    "    pca = PCA(n_components=i)\n",
    "    pca.fit(df_train_x)\n",
    "    pca.transform(df_test_x)\n",
    "    df_train_x_select_features = pca.transform(df_train_x)\n",
    "    df_test_x_select_features = pca.transform(df_test_x)\n",
    "\n",
    "    lr = LinearRegression()\n",
    "    rd = Ridge(100)\n",
    "    ls = linear_model.Lasso(0.001, normalize=True,random_state=42)\n",
    "    lr.fit(df_train_x_select_features, df_train_y)\n",
    "    rd.fit(df_train_x_select_features, df_train_y)\n",
    "    ls.fit(df_train_x_select_features, df_train_y)\n",
    "    score.append(metrics.mean_absolute_error(df_test_y, lr.predict(df_test_x_select_features)))\n",
    "    score2.append(metrics.mean_absolute_error(df_test_y, rd.predict(df_test_x_select_features)))\n",
    "    score3.append(metrics.mean_absolute_error(df_test_y, ls.predict(df_test_x_select_features)))\n",
    "    plt.scatter(i, metrics.mean_absolute_error(df_test_y, lr.predict(df_test_x_select_features)))\n",
    "    plt.scatter(i, metrics.mean_absolute_error(df_test_y, rd.predict(df_test_x_select_features)),color=\"r\")\n",
    "    plt.scatter(i, metrics.mean_absolute_error(df_test_y, ls.predict(df_test_x_select_features)),color=\"g\")\n",
    "    \n",
    "plt.xlabel(\"N components\")\n",
    "plt.ylabel(\"MAE test\")\n",
    "plt.show()\n",
    "print(\"Min MAE %s\" % min(score))\n",
    "print(\"Min MAE %s\" % min(score2))\n",
    "print(\"Min MAE %s\" % min(score3))"
   ]
  },
  {
   "cell_type": "code",
   "execution_count": 261,
   "metadata": {
    "collapsed": false
   },
   "outputs": [
    {
     "name": "stdout",
     "output_type": "stream",
     "text": [
      "2.06852944016\n"
     ]
    }
   ],
   "source": [
    "# 2.06 sans bloc avec un decision tree\n",
    "df_train_x, df_train_y, df_test_x, df_test_y = create_train_and_test(\"taux_sortie_sans_bloc\", dft11)\n",
    "\n",
    "list_keep = ['D?c?s domicili?s par d?partement', 'taux_centre_sup_moyenne',\n",
    "'taux_droite_sup_moyenne', 'taux_gauche_sup_moyenne',\n",
    "'taux_xdroite_sup_moyenne', 'pop_centre', 'Dissident',\n",
    "'conjoncture travaux publics-opinions sur le carnet de commandes',\n",
    "'densit?_m?decins']\n",
    "lr = LinearRegression()\n",
    "\n",
    "df_train_x_select_features = df_train_x.ix[:, list_keep]\n",
    "df_test_x_select_features = df_test_x.ix[:, list_keep]\n",
    "\n",
    "lr.fit(df_train_x_select_features, df_train_y)\n",
    "print(metrics.mean_absolute_error(df_test_y, lr.predict(df_test_x_select_features)))"
   ]
  },
  {
   "cell_type": "code",
   "execution_count": 21,
   "metadata": {
    "collapsed": false
   },
   "outputs": [],
   "source": [
    "generate_corr_features(\"taux_bgauche\")\n",
    "generate_corr_features(\"taux_bdroite\")\n",
    "generate_corr_features(\"taux_sortie_sans_bloc\")\n",
    "generate_corr_features(\"taux_sortie_avec_bloc\")"
   ]
  },
  {
   "cell_type": "code",
   "execution_count": 21,
   "metadata": {
    "collapsed": true
   },
   "outputs": [],
   "source": [
    "generate_corr_features(\"taux_bgauche\")"
   ]
  },
  {
   "cell_type": "code",
   "execution_count": 22,
   "metadata": {
    "collapsed": true
   },
   "outputs": [],
   "source": [
    "generate_corr_features(\"taux_centre\")"
   ]
  },
  {
   "cell_type": "markdown",
   "metadata": {},
   "source": [
    "Sur les 3 approches c'est taux_bgauche qui a le plus de variables discriminante"
   ]
  },
  {
   "cell_type": "code",
   "execution_count": 27,
   "metadata": {
    "collapsed": false
   },
   "outputs": [
    {
     "name": "stdout",
     "output_type": "stream",
     "text": [
      "Index(['var_chomage_annee', 'taux_xdroite_sup_moyenne', 'pop_xdroite',\n",
      "       'conjoncture travaux publics-opinions sur le carnet de commandes',\n",
      "       'pop_exec'],\n",
      "      dtype='object')\n",
      "R2 train 0.677960145024\n",
      "R2 adjust train 0.673700358582\n",
      "MAE train 3.58993232717\n",
      "MAE test 13.5439469474\n",
      "\n",
      "\n",
      "Résultat avec fit entire data\n",
      "R2 train 0.649682115022\n",
      "R2 adjust train 0.645986778682\n",
      "MAE train 3.67880891145\n"
     ]
    }
   ],
   "source": [
    "# En gardant pop_exec\n",
    "list_prediction(\n",
    "[\"var_chomage_annee\",\"taux_xdroite_sup_moyenne\",\n",
    "\"pop_xdroite\",\"conjoncture travaux publics-opinions sur le carnet de commandes\",\n",
    " \"pop_exec\"],\"taux_sortie_avec_bloc\")"
   ]
  },
  {
   "cell_type": "code",
   "execution_count": 28,
   "metadata": {
    "collapsed": false
   },
   "outputs": [
    {
     "name": "stdout",
     "output_type": "stream",
     "text": [
      "Index(['pop_xgauche',\n",
      "       'capacit? epargne actuelle (augmentation moins diminution)',\n",
      "       'taux_droite_sup_moyenne', 'droite_au_pouvoir'],\n",
      "      dtype='object')\n",
      "R2 train 0.614162542253\n",
      "R2 adjust train 0.61009037911\n",
      "MAE train 2.800499207\n",
      "MAE test 5.10689930648\n",
      "\n",
      "\n",
      "Résultat avec fit entire data\n",
      "R2 train 0.569221384765\n",
      "R2 adjust train 0.565593775374\n",
      "MAE train 2.76921981297\n"
     ]
    }
   ],
   "source": [
    "list_prediction(\n",
    "[\"pop_xgauche\",\"capacit? epargne actuelle (augmentation moins diminution)\",\n",
    "\"taux_droite_sup_moyenne\",\"droite_au_pouvoir\"],\"taux_sortie_sans_bloc\")"
   ]
  },
  {
   "cell_type": "markdown",
   "metadata": {},
   "source": [
    "** gauche ** "
   ]
  },
  {
   "cell_type": "code",
   "execution_count": 50,
   "metadata": {
    "collapsed": true
   },
   "outputs": [],
   "source": [
    "## Combinaison taux bgauche "
   ]
  },
  {
   "cell_type": "code",
   "execution_count": 38,
   "metadata": {
    "collapsed": false
   },
   "outputs": [
    {
     "name": "stdout",
     "output_type": "stream",
     "text": [
      "Index(['D?c?s domicili?s par d?partement', 'subventions',\n",
      "       'taux_centre_sup_moyenne', 'taux_droite_sup_moyenne',\n",
      "       'taux_gauche_sup_moyenne', 'taux_xdroite_sup_moyenne',\n",
      "       'taux_xgauche_sup_moyenne', 'pop_gauche', 'pop_xdroite',\n",
      "       'droite_au_pouvoir', 'persistance_gauche', 'persistance_centre_droite',\n",
      "       'pres_gauche'],\n",
      "      dtype='object')\n",
      "R2 train 0.853862851105\n",
      "R2 adjust train 0.84872830263\n",
      "MAE train 1.99379749046\n",
      "MAE test 2.58859505185e+14\n",
      "\n",
      "\n",
      "Résultat avec fit entire data\n",
      "R2 train 0.836148020623\n",
      "R2 adjust train 0.831577042658\n",
      "MAE train 2.04427375769\n"
     ]
    }
   ],
   "source": [
    "list_prediction(\n",
    "[\"D?c?s domicili?s par d?partement\",\n",
    "\"subventions\",\n",
    "\"taux_centre_sup_moyenne\",\n",
    "\"taux_droite_sup_moyenne\",\n",
    "\"taux_gauche_sup_moyenne\",\n",
    "\"taux_xdroite_sup_moyenne\",\n",
    "\"taux_xgauche_sup_moyenne\",\n",
    "\"pop_gauche\",\n",
    "\"pop_xdroite\",\n",
    "\"droite_au_pouvoir\",\n",
    "\"persistance_gauche\",\n",
    "\"persistance_centre_droite\",\n",
    "\"pres_gauche\"\n",
    "],\"taux_bgauche\")"
   ]
  },
  {
   "cell_type": "code",
   "execution_count": 53,
   "metadata": {
    "collapsed": false
   },
   "outputs": [
    {
     "name": "stdout",
     "output_type": "stream",
     "text": [
      "Index(['D?c?s domicili?s par d?partement', 'var_chomage_annee',\n",
      "       'taux_centre_sup_moyenne', 'taux_droite_sup_moyenne',\n",
      "       'taux_gauche_sup_moyenne', 'taux_xdroite_sup_moyenne',\n",
      "       'taux_xgauche_sup_moyenne', 'pop_gauche', 'pop_xdroite',\n",
      "       'droite_au_pouvoir', 'persistance_gauche', 'persistance_centre_droite',\n",
      "       'pres_gauche'],\n",
      "      dtype='object')\n",
      "R2 train 0.859649790162\n",
      "R2 adjust train 0.854718566573\n",
      "MAE train 1.96268944381\n",
      "MAE test 4.23069650534\n",
      "\n",
      "\n",
      "Résultat avec fit entire data\n",
      "R2 train 0.83415409784\n",
      "R2 adjust train 0.829527495419\n",
      "MAE train 2.05123876704\n"
     ]
    }
   ],
   "source": [
    "# on conserve le chomage et pop gauche\n",
    "list_prediction(\n",
    "[\"D?c?s domicili?s par d?partement\",\n",
    "\"var_chomage_annee\",\n",
    "\"taux_centre_sup_moyenne\",\n",
    "\"taux_droite_sup_moyenne\",\n",
    "\"taux_gauche_sup_moyenne\",\n",
    "\"taux_xdroite_sup_moyenne\",\n",
    "\"taux_xgauche_sup_moyenne\",\"pop_gauche\",\n",
    "\"pop_xdroite\",\"droite_au_pouvoir\",\n",
    "\"persistance_gauche\",\n",
    "\"persistance_centre_droite\",\n",
    "\"pres_gauche\"\n",
    "],\"taux_bgauche\")\n",
    "# En ne conservant pas la pop_gauche, et utilisans pop_president et cohab moins bon résultat"
   ]
  },
  {
   "cell_type": "code",
   "execution_count": 39,
   "metadata": {
    "collapsed": false
   },
   "outputs": [
    {
     "name": "stdout",
     "output_type": "stream",
     "text": [
      "Index(['pop_president', 'cohabitation', 'D?c?s domicili?s par d?partement',\n",
      "       'taux_centre_sup_moyenne', 'taux_droite_sup_moyenne',\n",
      "       'taux_gauche_sup_moyenne', 'taux_xdroite_sup_moyenne',\n",
      "       'taux_xgauche_sup_moyenne', 'persistance_gauche',\n",
      "       'persistance_centre_droite', 'pres_gauche', 'pop_verts', 'subventions'],\n",
      "      dtype='object')\n",
      "R2 train 0.853973268847\n",
      "R2 adjust train 0.848842599915\n",
      "MAE train 1.99443022772\n",
      "MAE test 2.84839283255\n",
      "\n",
      "\n",
      "Résultat avec fit entire data\n",
      "R2 train 0.836148020623\n",
      "R2 adjust train 0.831577042658\n",
      "MAE train 2.04427375769\n"
     ]
    }
   ],
   "source": [
    "list_prediction(\n",
    "[\"pop_president\",\n",
    "\"cohabitation\",\n",
    "\"D?c?s domicili?s par d?partement\",\n",
    "\"taux_centre_sup_moyenne\",\n",
    "\"taux_droite_sup_moyenne\",\n",
    "\"taux_gauche_sup_moyenne\",\n",
    "\"taux_xdroite_sup_moyenne\",\n",
    "\"taux_xgauche_sup_moyenne\",\n",
    "\"persistance_gauche\",\n",
    "\"persistance_centre_droite\",\n",
    "\"pres_gauche\",\n",
    "\"pop_verts\",\n",
    "\"subventions\"\n",
    "],\"taux_bgauche\")"
   ]
  },
  {
   "cell_type": "code",
   "execution_count": 28,
   "metadata": {
    "collapsed": false,
    "scrolled": true
   },
   "outputs": [
    {
     "name": "stdout",
     "output_type": "stream",
     "text": [
      "Résultat avec fit entire data\n",
      "                            OLS Regression Results                            \n",
      "==============================================================================\n",
      "Dep. Variable:           taux_bgauche   R-squared:                       0.789\n",
      "Model:                            OLS   Adj. R-squared:                  0.786\n",
      "Method:                 Least Squares   F-statistic:                     264.5\n",
      "Date:                Mon, 24 Apr 2017   Prob (F-statistic):          8.30e-186\n",
      "Time:                        22:41:23   Log-Likelihood:                -1493.8\n",
      "No. Observations:                 576   AIC:                             3006.\n",
      "Df Residuals:                     567   BIC:                             3045.\n",
      "Df Model:                           8                                         \n",
      "Covariance Type:            nonrobust                                         \n",
      "====================================================================================================\n",
      "                                       coef    std err          t      P>|t|      [95.0% Conf. Int.]\n",
      "----------------------------------------------------------------------------------------------------\n",
      "const                               33.7324      1.171     28.818      0.000        31.433    36.032\n",
      "pop_president                        0.3325      0.016     21.270      0.000         0.302     0.363\n",
      "cohabitation                        -4.4212      0.319    -13.845      0.000        -5.048    -3.794\n",
      "D?c?s domicili?s par d?partement    -1.6654      0.791     -2.106      0.036        -3.218    -0.112\n",
      "taux_gauche_sup_moyenne              1.2466      0.108     11.539      0.000         1.034     1.459\n",
      "taux_xdroite_sup_moyenne            -0.9344      0.110     -8.492      0.000        -1.150    -0.718\n",
      "taux_xgauche_sup_moyenne             1.1354      0.093     12.188      0.000         0.952     1.318\n",
      "persistance_gauche                   3.6827      0.389      9.457      0.000         2.918     4.448\n",
      "subventions                          0.0008      0.000      4.438      0.000         0.000     0.001\n",
      "==============================================================================\n",
      "Omnibus:                       23.926   Durbin-Watson:                   1.257\n",
      "Prob(Omnibus):                  0.000   Jarque-Bera (JB):               40.324\n",
      "Skew:                          -0.300   Prob(JB):                     1.75e-09\n",
      "Kurtosis:                       4.149   Cond. No.                     3.55e+04\n",
      "==============================================================================\n",
      "\n",
      "Warnings:\n",
      "[1] Standard Errors assume that the covariance matrix of the errors is correctly specified.\n",
      "[2] The condition number is large, 3.55e+04. This might indicate that there are\n",
      "strong multicollinearity or other numerical problems.\n"
     ]
    }
   ],
   "source": [
    "list_prediction_SM(\n",
    "[\"pop_president\",\n",
    "\"cohabitation\",\n",
    "\"D?c?s domicili?s par d?partement\",\n",
    "\"taux_gauche_sup_moyenne\",\n",
    "\"taux_xdroite_sup_moyenne\",\n",
    "\"taux_xgauche_sup_moyenne\",\n",
    "\"persistance_gauche\",\n",
    "\"subventions\"\n",
    "],\"taux_bgauche\")"
   ]
  },
  {
   "cell_type": "code",
   "execution_count": 40,
   "metadata": {
    "collapsed": false
   },
   "outputs": [
    {
     "name": "stdout",
     "output_type": "stream",
     "text": [
      "Index(['pop_president', 'cohabitation', 'D?c?s domicili?s par d?partement',\n",
      "       'taux_centre_sup_moyenne', 'taux_droite_sup_moyenne',\n",
      "       'taux_gauche_sup_moyenne', 'taux_xdroite_sup_moyenne',\n",
      "       'taux_xgauche_sup_moyenne', 'persistance_gauche',\n",
      "       'persistance_centre_droite', 'pres_gauche', 'pop_verts',\n",
      "       'var_chomage_annee'],\n",
      "      dtype='object')\n",
      "R2 train 0.859649790162\n",
      "R2 adjust train 0.854718566573\n",
      "MAE train 1.96268944381\n",
      "MAE test 2.61259429811\n",
      "\n",
      "\n",
      "Résultat avec fit entire data\n",
      "R2 train 0.837593827188\n",
      "R2 adjust train 0.833063182882\n",
      "MAE train 2.04627237527\n"
     ]
    }
   ],
   "source": [
    "list_prediction(\n",
    "[\"pop_president\",\n",
    "\"cohabitation\",\n",
    "\"D?c?s domicili?s par d?partement\",\n",
    "\"taux_centre_sup_moyenne\",\n",
    "\"taux_droite_sup_moyenne\",\n",
    "\"taux_gauche_sup_moyenne\",\n",
    "\"taux_xdroite_sup_moyenne\",\n",
    "\"taux_xgauche_sup_moyenne\",\n",
    "\"persistance_gauche\",\n",
    "\"persistance_centre_droite\",\n",
    "\"pres_gauche\",\n",
    "\"pop_verts\",\n",
    "\"var_chomage_annee\"\n",
    "],\"taux_bgauche\")"
   ]
  },
  {
   "cell_type": "code",
   "execution_count": 30,
   "metadata": {
    "collapsed": false,
    "scrolled": true
   },
   "outputs": [
    {
     "name": "stdout",
     "output_type": "stream",
     "text": [
      "Résultat avec fit entire data\n",
      "                            OLS Regression Results                            \n",
      "==============================================================================\n",
      "Dep. Variable:           taux_bgauche   R-squared:                       0.797\n",
      "Model:                            OLS   Adj. R-squared:                  0.794\n",
      "Method:                 Least Squares   F-statistic:                     247.2\n",
      "Date:                Mon, 24 Apr 2017   Prob (F-statistic):          1.24e-189\n",
      "Time:                        22:43:01   Log-Likelihood:                -1481.9\n",
      "No. Observations:                 576   AIC:                             2984.\n",
      "Df Residuals:                     566   BIC:                             3027.\n",
      "Df Model:                           9                                         \n",
      "Covariance Type:            nonrobust                                         \n",
      "====================================================================================================\n",
      "                                       coef    std err          t      P>|t|      [95.0% Conf. Int.]\n",
      "----------------------------------------------------------------------------------------------------\n",
      "const                               34.6629      1.166     29.740      0.000        32.374    36.952\n",
      "pop_president                        0.2855      0.015     18.974      0.000         0.256     0.315\n",
      "cohabitation                        -4.1114      0.338    -12.177      0.000        -4.775    -3.448\n",
      "D?c?s domicili?s par d?partement    -2.1789      0.782     -2.787      0.005        -3.714    -0.643\n",
      "taux_gauche_sup_moyenne              0.9640      0.102      9.461      0.000         0.764     1.164\n",
      "taux_xdroite_sup_moyenne            -1.2314      0.102    -12.048      0.000        -1.432    -1.031\n",
      "taux_xgauche_sup_moyenne             0.9928      0.090     11.001      0.000         0.816     1.170\n",
      "persistance_gauche                   3.7578      0.380      9.878      0.000         3.011     4.505\n",
      "persistance_centre_droite           -1.7745      0.374     -4.739      0.000        -2.510    -1.039\n",
      "var_chomage_annee                    1.9350      0.388      4.993      0.000         1.174     2.696\n",
      "==============================================================================\n",
      "Omnibus:                       13.909   Durbin-Watson:                   1.181\n",
      "Prob(Omnibus):                  0.001   Jarque-Bera (JB):               23.624\n",
      "Skew:                          -0.140   Prob(JB):                     7.41e-06\n",
      "Kurtosis:                       3.952   Cond. No.                         434.\n",
      "==============================================================================\n",
      "\n",
      "Warnings:\n",
      "[1] Standard Errors assume that the covariance matrix of the errors is correctly specified.\n"
     ]
    }
   ],
   "source": [
    "list_prediction_SM(\n",
    "[\"pop_president\",\n",
    "\"cohabitation\",\n",
    "\"D?c?s domicili?s par d?partement\",\n",
    "\"taux_gauche_sup_moyenne\",\n",
    "\"taux_xdroite_sup_moyenne\",\n",
    "\"taux_xgauche_sup_moyenne\",\n",
    "\"persistance_gauche\",\n",
    "\"persistance_centre_droite\",\n",
    "\"var_chomage_annee\"\n",
    "],\"taux_bgauche\")"
   ]
  },
  {
   "cell_type": "markdown",
   "metadata": {},
   "source": [
    "*On pourrait tester de nouvelles combinaison mais les combinaisons testé avec le taux de sortie avec bloc propose des R2 d'environ 0.6 à 0.7, deplus les combinaisons sont dure à trouver*"
   ]
  },
  {
   "cell_type": "markdown",
   "metadata": {},
   "source": [
    "** droite **"
   ]
  },
  {
   "cell_type": "code",
   "execution_count": 52,
   "metadata": {
    "collapsed": false
   },
   "outputs": [
    {
     "name": "stdout",
     "output_type": "stream",
     "text": [
      "Index(['var_chomage_annee', 'taux_centre_sup_moyenne',\n",
      "       'taux_droite_sup_moyenne', 'taux_xgauche_sup_moyenne',\n",
      "       'pop_premier_ministre', 'cohabitation', 'pop_president',\n",
      "       'persistance_gauche', 'pres_gauche',\n",
      "       'conjoncture travaux publics-opinions sur le carnet de commandes'],\n",
      "      dtype='object')\n",
      "R2 train 0.880705469414\n",
      "R2 adjust train 0.877507224626\n",
      "MAE train 2.16666335991\n",
      "MAE test 8.27781234892\n",
      "\n",
      "\n",
      "Résultat avec fit entire data\n",
      "R2 train 0.867581169826\n",
      "R2 adjust train 0.864757740611\n",
      "MAE train 2.17788887122\n"
     ]
    }
   ],
   "source": [
    "list_prediction(\n",
    "[\n",
    "\"var_chomage_annee\",\n",
    "\"taux_centre_sup_moyenne\",\n",
    "\"taux_droite_sup_moyenne\",\n",
    "\"taux_xgauche_sup_moyenne\",\n",
    "\"pop_premier_ministre\",\n",
    "\"cohabitation\",\n",
    "\"pop_president\",\n",
    "\"persistance_gauche\",\n",
    "\"pres_gauche\",\n",
    "\"conjoncture travaux publics-opinions sur le carnet de commandes\"\n",
    "],\"taux_bdroite\")"
   ]
  },
  {
   "cell_type": "code",
   "execution_count": 50,
   "metadata": {
    "collapsed": false
   },
   "outputs": [
    {
     "name": "stdout",
     "output_type": "stream",
     "text": [
      "Index(['var_chomage_annee', 'taux_centre_sup_moyenne',\n",
      "       'taux_droite_sup_moyenne', 'taux_xgauche_sup_moyenne', 'pop_gauche',\n",
      "       'pop_xdroite', 'droite_au_pouvoir', 'persistance_gauche',\n",
      "       'pres_gauche'],\n",
      "      dtype='object')\n",
      "R2 train 0.880705469414\n",
      "R2 adjust train 0.877834745416\n",
      "MAE train 2.16666335991\n",
      "MAE test 28.2686026324\n",
      "\n",
      "\n",
      "Résultat avec fit entire data\n",
      "R2 train 0.763118500158\n",
      "R2 adjust train 0.758582471438\n",
      "MAE train 2.91203184658\n"
     ]
    }
   ],
   "source": [
    "list_prediction(\n",
    "[\n",
    "\"var_chomage_annee\",\n",
    "\"taux_centre_sup_moyenne\",\n",
    "\"taux_droite_sup_moyenne\",\n",
    "\"taux_xgauche_sup_moyenne\",\n",
    "\"pop_gauche\",\n",
    "\"pop_xdroite\",\n",
    "\"droite_au_pouvoir\",\n",
    "\"persistance_gauche\",\n",
    "\"pres_gauche\"\n",
    "],\"taux_bdroite\")"
   ]
  },
  {
   "cell_type": "markdown",
   "metadata": {},
   "source": [
    "**centre**"
   ]
  },
  {
   "cell_type": "code",
   "execution_count": 27,
   "metadata": {
    "collapsed": false
   },
   "outputs": [
    {
     "name": "stdout",
     "output_type": "stream",
     "text": [
      "Index(['pop_exec', 'pres_centre', 'taux_centre_sup_moyenne',\n",
      "       'conjoncture travaux publics-opinions sur le carnet de commandes',\n",
      "       'var_chomage_annee', 'ecart_pop', 'taux_xgauche_sup_moyenne', '75+ans',\n",
      "       'pres_gauche', 'taux_xdroite_sup_moyenne'],\n",
      "      dtype='object')\n",
      "R2 train 0.857977410602\n",
      "R2 adjust train 0.854169834479\n",
      "MAE train 1.43072801227\n",
      "MAE test 5.78837829848\n",
      "\n",
      "\n",
      "Résultat avec fit entire data\n",
      "R2 train 0.804044052669\n",
      "R2 adjust train 0.79986588748\n",
      "MAE train 1.79174506044\n"
     ]
    }
   ],
   "source": [
    "list_prediction(\n",
    "[\n",
    "\"pop_exec\",\n",
    "\"pres_centre\",\n",
    "\"taux_centre_sup_moyenne\",\n",
    "\"conjoncture travaux publics-opinions sur le carnet de commandes\",\n",
    "\"var_chomage_annee\",\n",
    "\"ecart_pop\",\n",
    "\"taux_xgauche_sup_moyenne\",\n",
    "\"75+ans\",\n",
    "\"pres_gauche\",\n",
    "\"taux_xdroite_sup_moyenne\",\n",
    "],\"taux_centre\")"
   ]
  },
  {
   "cell_type": "code",
   "execution_count": 28,
   "metadata": {
    "collapsed": false
   },
   "outputs": [
    {
     "name": "stdout",
     "output_type": "stream",
     "text": [
      "Index(['pop_centre', 'pres_centre', 'taux_centre_sup_moyenne',\n",
      "       'conjoncture travaux publics-opinions sur le carnet de commandes',\n",
      "       'var_chomage_annee', 'ecart_pop', 'taux_xgauche_sup_moyenne', '75+ans',\n",
      "       'pres_gauche', 'taux_xdroite_sup_moyenne'],\n",
      "      dtype='object')\n",
      "R2 train 0.857977410602\n",
      "R2 adjust train 0.854169834479\n",
      "MAE train 1.43072801227\n",
      "MAE test 9.56758118731\n",
      "\n",
      "\n",
      "Résultat avec fit entire data\n",
      "R2 train 0.854848983117\n",
      "R2 adjust train 0.851754078706\n",
      "MAE train 1.49820123354\n"
     ]
    }
   ],
   "source": [
    "list_prediction(\n",
    "[\n",
    "\"pop_centre\",\n",
    "\"pres_centre\",\n",
    "\"taux_centre_sup_moyenne\",\n",
    "\"conjoncture travaux publics-opinions sur le carnet de commandes\",\n",
    "\"var_chomage_annee\",\n",
    "\"ecart_pop\",\n",
    "\"taux_xgauche_sup_moyenne\",\n",
    "\"75+ans\",\n",
    "\"pres_gauche\",\n",
    "\"taux_xdroite_sup_moyenne\",\n",
    "],\"taux_centre\")"
   ]
  },
  {
   "cell_type": "code",
   "execution_count": 30,
   "metadata": {
    "collapsed": false
   },
   "outputs": [
    {
     "name": "stdout",
     "output_type": "stream",
     "text": [
      "Index(['capacit? epargne actuelle (augmentation moins diminution)',\n",
      "       'pres_centre', 'taux_centre_sup_moyenne', 'ecart_pop',\n",
      "       'taux_xgauche_sup_moyenne', '75+ans', 'pres_gauche',\n",
      "       'taux_xdroite_sup_moyenne'],\n",
      "      dtype='object')\n",
      "R2 train 0.852172132077\n",
      "R2 adjust train 0.849018470895\n",
      "MAE train 1.4666333517\n",
      "MAE test 2.55187480446\n",
      "\n",
      "\n",
      "Résultat avec fit entire data\n",
      "R2 train 0.851942834742\n",
      "R2 adjust train 0.849428063357\n",
      "MAE train 1.519273087\n"
     ]
    }
   ],
   "source": [
    "list_prediction(\n",
    "[\n",
    "\"capacit? epargne actuelle (augmentation moins diminution)\",\n",
    "\"pres_centre\",\n",
    "\"taux_centre_sup_moyenne\",\n",
    "\"ecart_pop\",\n",
    "\"taux_xgauche_sup_moyenne\",\n",
    "\"75+ans\",\n",
    "\"pres_gauche\",\n",
    "\"taux_xdroite_sup_moyenne\",\n",
    "],\"taux_centre\")"
   ]
  },
  {
   "cell_type": "code",
   "execution_count": 53,
   "metadata": {
    "collapsed": true
   },
   "outputs": [],
   "source": [
    "# pres_gauche pas significatif au test de student"
   ]
  },
  {
   "cell_type": "code",
   "execution_count": 52,
   "metadata": {
    "collapsed": false
   },
   "outputs": [
    {
     "name": "stdout",
     "output_type": "stream",
     "text": [
      "Index(['capacite epargne future(am?lioration moins deterioration)',\n",
      "       'pres_centre', 'taux_centre_sup_moyenne',\n",
      "       'conjoncture travaux publics-opinions sur le carnet de commandes',\n",
      "       'var_chomage_annee', 'ecart_pop', 'taux_xgauche_sup_moyenne', '75+ans',\n",
      "       'taux_xdroite_sup_moyenne'],\n",
      "      dtype='object')\n",
      "R2 train 0.857795983002\n",
      "R2 adjust train 0.854373961202\n",
      "MAE train 1.42923735916\n",
      "MAE test 2.75531080793\n",
      "\n",
      "\n",
      "Résultat avec fit entire data\n",
      "R2 train 0.858542450956\n",
      "R2 adjust train 0.855833689378\n",
      "MAE train 1.47475637918\n"
     ]
    }
   ],
   "source": [
    "# Modèle préfére pour le centre \n",
    "list_prediction(\n",
    "[\n",
    "\"capacite epargne future(am?lioration moins deterioration)\",\n",
    "\"pres_centre\",\n",
    "\"taux_centre_sup_moyenne\",\n",
    "\"conjoncture travaux publics-opinions sur le carnet de commandes\",\n",
    "\"var_chomage_annee\",\n",
    "\"ecart_pop\",\n",
    "\"taux_xgauche_sup_moyenne\",\n",
    "\"75+ans\",\n",
    "\"taux_xdroite_sup_moyenne\",\n",
    "],\"taux_centre\")"
   ]
  },
  {
   "cell_type": "code",
   "execution_count": 25,
   "metadata": {
    "collapsed": false,
    "scrolled": false
   },
   "outputs": [
    {
     "name": "stdout",
     "output_type": "stream",
     "text": [
      "Résultat avec fit entire data\n",
      "                            OLS Regression Results                            \n",
      "==============================================================================\n",
      "Dep. Variable:            taux_centre   R-squared:                       0.870\n",
      "Model:                            OLS   Adj. R-squared:                  0.868\n",
      "Method:                 Least Squares   F-statistic:                     422.3\n",
      "Date:                Mon, 24 Apr 2017   Prob (F-statistic):          1.55e-244\n",
      "Time:                        22:38:09   Log-Likelihood:                -1382.3\n",
      "No. Observations:                 576   AIC:                             2785.\n",
      "Df Residuals:                     566   BIC:                             2828.\n",
      "Df Model:                           9                                         \n",
      "Covariance Type:            nonrobust                                         \n",
      "===================================================================================================================================\n",
      "                                                                      coef    std err          t      P>|t|      [95.0% Conf. Int.]\n",
      "-----------------------------------------------------------------------------------------------------------------------------------\n",
      "const                                                               5.8720      0.855      6.867      0.000         4.192     7.552\n",
      "capacite epargne future(am?lioration moins deterioration)          -1.3612      0.032    -42.018      0.000        -1.425    -1.298\n",
      "pres_centre                                                         1.4272      0.298      4.792      0.000         0.842     2.012\n",
      "taux_centre_sup_moyenne                                             0.9128      0.077     11.817      0.000         0.761     1.065\n",
      "conjoncture travaux publics-opinions sur le carnet de commandes     0.0329      0.006      5.760      0.000         0.022     0.044\n",
      "var_chomage_annee                                                  -0.5360      0.333     -1.608      0.108        -1.191     0.119\n",
      "ecart_pop                                                          -0.0439      0.007     -6.089      0.000        -0.058    -0.030\n",
      "taux_xgauche_sup_moyenne                                           -0.1592      0.082     -1.947      0.052        -0.320     0.001\n",
      "75+ans                                                             -0.2424      0.063     -3.827      0.000        -0.367    -0.118\n",
      "taux_xdroite_sup_moyenne                                           -0.3027      0.084     -3.600      0.000        -0.468    -0.138\n",
      "==============================================================================\n",
      "Omnibus:                       95.565   Durbin-Watson:                   1.355\n",
      "Prob(Omnibus):                  0.000   Jarque-Bera (JB):             1389.641\n",
      "Skew:                          -0.008   Prob(JB):                    1.75e-302\n",
      "Kurtosis:                      10.609   Cond. No.                         269.\n",
      "==============================================================================\n",
      "\n",
      "Warnings:\n",
      "[1] Standard Errors assume that the covariance matrix of the errors is correctly specified.\n"
     ]
    }
   ],
   "source": [
    "list_prediction_SM(\n",
    "[\n",
    "\"capacite epargne future(am?lioration moins deterioration)\",\n",
    "\"pres_centre\",\n",
    "\"taux_centre_sup_moyenne\",\n",
    "\"conjoncture travaux publics-opinions sur le carnet de commandes\",\n",
    "\"var_chomage_annee\",\n",
    "\"ecart_pop\",\n",
    "\"taux_xgauche_sup_moyenne\",\n",
    "\"75+ans\",\n",
    "\"taux_xdroite_sup_moyenne\",\n",
    "],\"taux_centre\")"
   ]
  },
  {
   "cell_type": "code",
   "execution_count": 51,
   "metadata": {
    "collapsed": false
   },
   "outputs": [
    {
     "name": "stdout",
     "output_type": "stream",
     "text": [
      "Index(['pop_centre', 'pres_centre', 'taux_centre_sup_moyenne', 'subventions',\n",
      "       'ecart_pop', 'taux_xgauche_sup_moyenne', '75+ans',\n",
      "       'taux_xdroite_sup_moyenne'],\n",
      "      dtype='object')\n",
      "R2 train 0.857351196012\n",
      "R2 adjust train 0.854308021527\n",
      "MAE train 1.43420840575\n",
      "MAE test 1.90767624863\n",
      "\n",
      "\n",
      "Résultat avec fit entire data\n",
      "R2 train 0.871222421956\n",
      "R2 adjust train 0.869035117021\n",
      "MAE train 1.38620439074\n"
     ]
    }
   ],
   "source": [
    "list_prediction(\n",
    "[\n",
    "\"pop_centre\",\n",
    "\"pres_centre\",\n",
    "\"taux_centre_sup_moyenne\",\n",
    "\"subventions\",\n",
    "\"ecart_pop\",\n",
    "\"taux_xgauche_sup_moyenne\",\n",
    "\"75+ans\",\n",
    "\"taux_xdroite_sup_moyenne\",\n",
    "],\"taux_centre\")"
   ]
  },
  {
   "cell_type": "code",
   "execution_count": 24,
   "metadata": {
    "collapsed": false
   },
   "outputs": [
    {
     "name": "stdout",
     "output_type": "stream",
     "text": [
      "Résultat avec fit entire data\n",
      "                            OLS Regression Results                            \n",
      "==============================================================================\n",
      "Dep. Variable:            taux_centre   R-squared:                       0.876\n",
      "Model:                            OLS   Adj. R-squared:                  0.875\n",
      "Method:                 Least Squares   F-statistic:                     502.4\n",
      "Date:                Mon, 24 Apr 2017   Prob (F-statistic):          1.09e-251\n",
      "Time:                        22:37:43   Log-Likelihood:                -1368.7\n",
      "No. Observations:                 576   AIC:                             2755.\n",
      "Df Residuals:                     567   BIC:                             2795.\n",
      "Df Model:                           8                                         \n",
      "Covariance Type:            nonrobust                                         \n",
      "============================================================================================\n",
      "                               coef    std err          t      P>|t|      [95.0% Conf. Int.]\n",
      "--------------------------------------------------------------------------------------------\n",
      "const                       36.2860      0.930     39.012      0.000        34.459    38.113\n",
      "pop_centre                   0.1856      0.019      9.538      0.000         0.147     0.224\n",
      "pres_centre                  1.7827      0.292      6.110      0.000         1.210     2.356\n",
      "taux_centre_sup_moyenne      0.6822      0.074      9.165      0.000         0.536     0.828\n",
      "subventions                  0.0065      0.000     42.791      0.000         0.006     0.007\n",
      "ecart_pop                   -0.0531      0.006     -8.316      0.000        -0.066    -0.041\n",
      "taux_xgauche_sup_moyenne    -0.3401      0.079     -4.278      0.000        -0.496    -0.184\n",
      "75+ans                      -0.3990      0.060     -6.685      0.000        -0.516    -0.282\n",
      "taux_xdroite_sup_moyenne    -0.5230      0.080     -6.548      0.000        -0.680    -0.366\n",
      "==============================================================================\n",
      "Omnibus:                       96.864   Durbin-Watson:                   1.322\n",
      "Prob(Omnibus):                  0.000   Jarque-Bera (JB):             1336.248\n",
      "Skew:                           0.162   Prob(JB):                    6.88e-291\n",
      "Kurtosis:                      10.455   Cond. No.                     3.13e+04\n",
      "==============================================================================\n",
      "\n",
      "Warnings:\n",
      "[1] Standard Errors assume that the covariance matrix of the errors is correctly specified.\n",
      "[2] The condition number is large, 3.13e+04. This might indicate that there are\n",
      "strong multicollinearity or other numerical problems.\n"
     ]
    }
   ],
   "source": [
    "list_prediction_SM(\n",
    "[\n",
    "\"pop_centre\",\n",
    "\"pres_centre\",\n",
    "\"taux_centre_sup_moyenne\",\n",
    "\"subventions\",\n",
    "\"ecart_pop\",\n",
    "\"taux_xgauche_sup_moyenne\",\n",
    "\"75+ans\",\n",
    "\"taux_xdroite_sup_moyenne\",\n",
    "],\"taux_centre\")"
   ]
  },
  {
   "cell_type": "markdown",
   "metadata": {},
   "source": [
    "# Modèle Temporaire"
   ]
  },
  {
   "cell_type": "code",
   "execution_count": 21,
   "metadata": {
    "collapsed": false
   },
   "outputs": [
    {
     "data": {
      "text/plain": [
       "LinearRegression(copy_X=True, fit_intercept=True, n_jobs=1, normalize=True)"
      ]
     },
     "execution_count": 21,
     "metadata": {},
     "output_type": "execute_result"
    }
   ],
   "source": [
    "features_keep_bgauche = [\"D?c?s domicili?s par d?partement\",\n",
    "\"var_chomage_annee\",\n",
    "\"taux_centre_sup_moyenne\",\n",
    "\"taux_droite_sup_moyenne\",\n",
    "\"taux_gauche_sup_moyenne\",\n",
    "\"taux_xdroite_sup_moyenne\",\n",
    "\"taux_xgauche_sup_moyenne\",\"pop_gauche\",\n",
    "\"pop_xdroite\",\"droite_au_pouvoir\",\n",
    "\"persistance_gauche\",\n",
    "\"persistance_centre_droite\",\n",
    "\"pres_gauche\"\n",
    "]\n",
    "# Modèle gauche\n",
    "df_train_x, df_train_y = create_train(\"taux_bgauche\", dft11, False)\n",
    "df_train_x_select_features = df_train_x.ix[:, features_keep_bgauche]\n",
    "model_bgauche_final = LinearRegression(fit_intercept=True, normalize=True)\n",
    "model_bgauche_final.fit(df_train_x_select_features, df_train_y)"
   ]
  },
  {
   "cell_type": "code",
   "execution_count": 22,
   "metadata": {
    "collapsed": false
   },
   "outputs": [
    {
     "data": {
      "text/plain": [
       "LinearRegression(copy_X=True, fit_intercept=True, n_jobs=1, normalize=True)"
      ]
     },
     "execution_count": 22,
     "metadata": {},
     "output_type": "execute_result"
    }
   ],
   "source": [
    "features_keep_bdroite = [\"var_chomage_annee\",\n",
    "\"taux_centre_sup_moyenne\",\n",
    "\"taux_droite_sup_moyenne\",\n",
    "\"taux_xgauche_sup_moyenne\",\n",
    "\"pop_premier_ministre\",\n",
    "\"cohabitation\",\n",
    "\"pop_president\",\n",
    "\"persistance_gauche\",\n",
    "\"pres_gauche\",\n",
    "\"conjoncture travaux publics-opinions sur le carnet de commandes\"\n",
    "]\n",
    "# Modèle droite\n",
    "df_train_x, df_train_y = create_train(\"taux_bdroite\", dft11, False)\n",
    "df_train_x_select_features = df_train_x.ix[:, features_keep_bdroite]\n",
    "model_bdroite_final = LinearRegression(fit_intercept=True, normalize=True)\n",
    "model_bdroite_final.fit(df_train_x_select_features, df_train_y)"
   ]
  },
  {
   "cell_type": "code",
   "execution_count": 23,
   "metadata": {
    "collapsed": false
   },
   "outputs": [
    {
     "data": {
      "text/plain": [
       "LinearRegression(copy_X=True, fit_intercept=True, n_jobs=1, normalize=True)"
      ]
     },
     "execution_count": 23,
     "metadata": {},
     "output_type": "execute_result"
    }
   ],
   "source": [
    "features_keep_bgauche_2 = [\"pop_president\",\n",
    "\"cohabitation\",\n",
    "\"D?c?s domicili?s par d?partement\",\n",
    "\"taux_gauche_sup_moyenne\",\n",
    "\"taux_xdroite_sup_moyenne\",\n",
    "\"taux_xgauche_sup_moyenne\",\n",
    "\"persistance_gauche\",\n",
    "\"persistance_centre_droite\",\n",
    "\"var_chomage_annee\"\n",
    "]\n",
    "# Modèle gauche v2\n",
    "df_train_x, df_train_y = create_train(\"taux_bgauche\", dft11, False)\n",
    "df_train_x_select_features = df_train_x.ix[:, features_keep_bgauche_2]\n",
    "model_2_bgauche_final = LinearRegression(fit_intercept=True, normalize=True)\n",
    "model_2_bgauche_final.fit(df_train_x_select_features, df_train_y)"
   ]
  },
  {
   "cell_type": "code",
   "execution_count": 24,
   "metadata": {
    "collapsed": false
   },
   "outputs": [
    {
     "data": {
      "text/plain": [
       "LinearRegression(copy_X=True, fit_intercept=True, n_jobs=1, normalize=True)"
      ]
     },
     "execution_count": 24,
     "metadata": {},
     "output_type": "execute_result"
    }
   ],
   "source": [
    "features_keep_centre = [\"capacite epargne future(am?lioration moins deterioration)\",\n",
    "\"pres_centre\",\n",
    "\"taux_centre_sup_moyenne\",\n",
    "\"conjoncture travaux publics-opinions sur le carnet de commandes\",\n",
    "\"var_chomage_annee\",\n",
    "\"ecart_pop\",\n",
    "\"taux_xgauche_sup_moyenne\",\n",
    "\"75+ans\",\n",
    "\"taux_xdroite_sup_moyenne\"\n",
    "]\n",
    "# Modèle centre\n",
    "df_train_x, df_train_y = create_train(\"taux_centre\", dft11, False)\n",
    "df_train_x_select_features = df_train_x.ix[:, features_keep_centre]\n",
    "model_centre_final = LinearRegression(fit_intercept=True, normalize=True)\n",
    "model_centre_final.fit(df_train_x_select_features, df_train_y)"
   ]
  },
  {
   "cell_type": "code",
   "execution_count": 25,
   "metadata": {
    "collapsed": true
   },
   "outputs": [],
   "source": [
    "predict_table = pd.read_csv(\"la_base_2017.csv\", encoding=\"latin1\")\n",
    "predict_table.ix[:,\"pop_exec\"] = predict_table.ix[:,\"pop_premier_ministre\"].iloc[0]\n",
    "predict_table[\"ecart_pop\"] = predict_table[\"pop_president\"] - predict_table[\"pop_premier_ministre\"] "
   ]
  },
  {
   "cell_type": "code",
   "execution_count": 26,
   "metadata": {
    "collapsed": false
   },
   "outputs": [],
   "source": [
    "X_droite = predict_table.ix[:, features_keep_bdroite]\n",
    "X_gauche = predict_table.ix[:, features_keep_bgauche]\n",
    "X_gauche_2 = predict_table.ix[:, features_keep_bgauche_2]\n",
    "X_centre = predict_table.ix[:, features_keep_centre]\n",
    "y_droite = model_bdroite_final.predict(X_droite)\n",
    "y_gauche = model_bgauche_final.predict(X_gauche)\n",
    "y_gauche_2 = model_2_bgauche_final.predict(X_gauche_2)\n",
    "y_centre = model_centre_final.predict(X_centre)"
   ]
  },
  {
   "cell_type": "code",
   "execution_count": 27,
   "metadata": {
    "collapsed": false
   },
   "outputs": [],
   "source": [
    "df=pd.DataFrame(list(zip(y_gauche,y_droite, y_centre,y_gauche_2)),\n",
    "                columns=['prediction gauche',\"prediction droite\", \"prediction centre\", \"prediction gauche 2\"])"
   ]
  },
  {
   "cell_type": "code",
   "execution_count": 28,
   "metadata": {
    "collapsed": true
   },
   "outputs": [],
   "source": [
    "# ouverture table prediction fn\n",
    "fn_table = pd.read_csv(\"prediction_2017_xdroite.csv\",sep=\";\", encoding=\"latin1\")"
   ]
  },
  {
   "cell_type": "code",
   "execution_count": 29,
   "metadata": {
    "collapsed": false
   },
   "outputs": [],
   "source": [
    "prediction_resultat = pd.concat([fn_table ,df], axis=1)\n",
    "del prediction_resultat['Unnamed: 0']"
   ]
  },
  {
   "cell_type": "code",
   "execution_count": 30,
   "metadata": {
    "collapsed": false
   },
   "outputs": [],
   "source": [
    "prediction_resultat.columns = ['d?partement', 'code','Total', 'prediction xdroite', \n",
    "                               'prediction bloc gauche','prediction bloc droite(yc centre)',\n",
    "                              'prediction centre', 'prediction bloc gauche 2']"
   ]
  },
  {
   "cell_type": "code",
   "execution_count": 31,
   "metadata": {
    "collapsed": false
   },
   "outputs": [],
   "source": [
    "#prediction_resultat.to_csv(\"prediction_2017.csv\",sep=\";\", index=False)"
   ]
  },
  {
   "cell_type": "code",
   "execution_count": 32,
   "metadata": {
    "collapsed": false
   },
   "outputs": [],
   "source": [
    "#prediction_resultat[\"sum\"] = prediction_resultat[\"prediction xdroite\"]+\\\n",
    "#prediction_resultat[\"prediction gauche\"]+prediction_resultat[\"prediction droite\"]"
   ]
  },
  {
   "cell_type": "code",
   "execution_count": 33,
   "metadata": {
    "collapsed": false
   },
   "outputs": [],
   "source": [
    "prediction_resultat[\"minus_droite\"] = 100 - prediction_resultat[\"prediction bloc gauche 2\"]- prediction_resultat[\"prediction xdroite\"] -  prediction_resultat[\"prediction centre\"] "
   ]
  },
  {
   "cell_type": "code",
   "execution_count": 34,
   "metadata": {
    "collapsed": false
   },
   "outputs": [],
   "source": [
    "#print(np.mean(prediction_resultat[\"prediction droite\"]))\n",
    "#print(np.mean(prediction_resultat[\"prediction gauche\"]))\n",
    "#print(np.mean(prediction_resultat[\"minus_droite\"]))\n",
    "#print(np.mean(prediction_resultat[\"minus_gauche\"]))"
   ]
  },
  {
   "cell_type": "code",
   "execution_count": 36,
   "metadata": {
    "collapsed": false
   },
   "outputs": [
    {
     "name": "stdout",
     "output_type": "stream",
     "text": [
      "Pred pondéré centre 10.3163471944\n",
      "Pred pondéré bloc gauche 40.2550304146\n",
      "Pred pondéré xdroite 23.4682284888\n",
      "Pred pondéré droite 25.9603939022\n"
     ]
    }
   ],
   "source": [
    "vec_weight = prediction_resultat[\"Total\"]\n",
    "print(\"Pred pondéré centre %s\" % np.average(prediction_resultat[\"prediction centre\"], weights=vec_weight))\n",
    "print(\"Pred pondéré bloc gauche %s\" % np.average(prediction_resultat[\"prediction bloc gauche 2\"], weights=vec_weight))\n",
    "print(\"Pred pondéré xdroite %s\" % np.average(prediction_resultat['prediction xdroite'], weights=vec_weight))\n",
    "print(\"Pred pondéré droite %s\" % np.average(prediction_resultat[\"minus_droite\"], weights=vec_weight))"
   ]
  },
  {
   "cell_type": "code",
   "execution_count": 37,
   "metadata": {
    "collapsed": true
   },
   "outputs": [],
   "source": [
    "# Calcule des moyennes d'absention par département\n",
    "rate_abst = pd.DataFrame({'mean_abst' : dft11.groupby([\"d?partement\"])[\"taux_Abstention\"].mean(),\n",
    "             \"std_abst\" : dft11.groupby([\"d?partement\"])[\"taux_Abstention\"].std()}).reset_index()"
   ]
  },
  {
   "cell_type": "code",
   "execution_count": 38,
   "metadata": {
    "collapsed": false
   },
   "outputs": [],
   "source": [
    "prediction_resultat = pd.concat([prediction_resultat  ,rate_abst['mean_abst']], axis=1)"
   ]
  },
  {
   "cell_type": "code",
   "execution_count": 40,
   "metadata": {
    "collapsed": false
   },
   "outputs": [
    {
     "name": "stdout",
     "output_type": "stream",
     "text": [
      "Pred pondéré centre 10.3753438914\n",
      "Pred pondéré bloc gauche 40.1309887991\n",
      "Pred pondéré xdroite 23.5008188048\n",
      "Pred pondéré droite 25.9928485046\n"
     ]
    }
   ],
   "source": [
    "vec_weight = prediction_resultat[\"Total\"]*(1 - prediction_resultat['mean_abst'])\n",
    "print(\"Pred pondéré centre %s\" % np.average(prediction_resultat[\"prediction centre\"], weights=vec_weight))\n",
    "print(\"Pred pondéré bloc gauche %s\" % np.average(prediction_resultat[\"prediction bloc gauche 2\"], weights=vec_weight))\n",
    "print(\"Pred pondéré xdroite %s\" % np.average(prediction_resultat['prediction xdroite'], weights=vec_weight))\n",
    "print(\"Pred pondéré droite %s\" % np.average(prediction_resultat[\"minus_droite\"], weights=vec_weight))\n",
    "\n",
    "liste_pred = [np.average(prediction_resultat['prediction xdroite'], weights=vec_weight),\n",
    "             np.average(prediction_resultat[\"minus_droite\"], weights=vec_weight),\n",
    "             np.average(prediction_resultat[\"prediction centre\"], weights=vec_weight),\n",
    "              np.average(prediction_resultat[\"prediction bloc gauche 2\"], weights=vec_weight)]"
   ]
  },
  {
   "cell_type": "code",
   "execution_count": 59,
   "metadata": {
    "collapsed": false
   },
   "outputs": [
    {
     "data": {
      "image/png": "[encoded data removed]",
      "text/plain": [
       "<matplotlib.figure.Figure at 0x7fba4fc723c8>"
      ]
     },
     "metadata": {},
     "output_type": "display_data"
    }
   ],
   "source": [
    "names = [\"Extrême Droite\",\"Droite\", \"Centre\", \"Bloc de Gauche\"]\n",
    "freq_series = pd.Series.from_array(liste_pred)\n",
    "\n",
    "# now to plot the figure...\n",
    "plt.figure(figsize=(12, 8))\n",
    "ax = freq_series.plot(kind='bar')\n",
    "ax.set_title(\"Estimation des voix par bloc politique\")\n",
    "ax.set_xlabel(\"Bloc Politique\")\n",
    "ax.set_ylabel(\"Pourcentage de voix\")\n",
    "ax.set_xticklabels(names, rotation=45)\n",
    "plt.show()"
   ]
  },
  {
   "cell_type": "code",
   "execution_count": 94,
   "metadata": {
    "collapsed": false
   },
   "outputs": [
    {
     "data": {
      "image/png": "[encoded data removed]",
      "text/plain": [
       "<matplotlib.figure.Figure at 0x7fba4ff22f98>"
      ]
     },
     "metadata": {},
     "output_type": "display_data"
    }
   ],
   "source": [
    "# Pie chart, where the slices will be ordered and plotted counter-clockwise:\n",
    "explode = (0, 0, 0, 0.1)  # only \"explode\" the 2nd slice (i.e. 'Hogs')\n",
    "\n",
    "names = [\"Extrême Droite\",\"Droite\", \"Centre\", \"Bloc de Gauche\"]\n",
    "cs = [\"darkblue\",\"blue\", \"gray\",\"red\"]\n",
    "fig1, ax1 = plt.subplots()\n",
    "patches, texts, autotexts = ax1.pie(liste_pred, explode=explode, labels=names, autopct='%1.1f%%',\n",
    "        shadow=True, startangle=90, colors=cs)\n",
    "ax1.axis('equal')  # Equal aspect ratio ensures that pie is drawn as a circle.\n",
    "for i in range(len(texts)):\n",
    "    texts[i].set_fontsize(12)\n",
    "    texts[i].set_weight('bold')\n",
    "    autotexts[i].set_fontsize(12)\n",
    "    autotexts[i].set_weight('bold')\n",
    "    \n",
    "plt.savefig('pie.png')\n",
    "plt.show()"
   ]
  },
  {
   "cell_type": "code",
   "execution_count": 315,
   "metadata": {
    "collapsed": true
   },
   "outputs": [],
   "source": [
    "dict_color = {\n",
    "\"MLP\" :\"darkblue\", \"Fillon\":\"blue\", \n",
    "\"Macron\":\"gray\",\"Melanchon\":\"red\"\n",
    "}\n",
    "\n",
    "dict_color_2 = {\n",
    "\"MLP\" :\"darkblue\", \"Fillon\":\"blue\", \n",
    "\"Macron\":\"lightcoral\",\"Melanchon\":\"lightcoral\"\n",
    "}"
   ]
  },
  {
   "cell_type": "code",
   "execution_count": 317,
   "metadata": {
    "collapsed": true
   },
   "outputs": [],
   "source": [
    "def generate_table_dept(ponderation, prediction_resultat):\n",
    "    table_dept_candidat = prediction_resultat.loc[:, [\"d?partement\", \"code\",\"prediction xdroite\",\"prediction centre\",\n",
    "                                           \"prediction bloc gauche 2\", \"minus_droite\"]]\n",
    "    \n",
    "    # Pondération par sondage\n",
    "    table_dept_candidat.loc[:,\"MLP\"] = table_dept_candidat.loc[:,\"prediction xdroite\"] *ponderation[\"MLP\"]/100\n",
    "    table_dept_candidat.loc[:,\"Asselineau\"] = table_dept_candidat.loc[:,\"minus_droite\"]*ponderation[\"Asselineau\"]/ 100\n",
    "    table_dept_candidat.loc[:,\"Dupont Aignan\"] = table_dept_candidat.loc[:,\"minus_droite\"]*ponderation[\"Dupont Aignan\"]/ 100\n",
    "    table_dept_candidat.loc[:,\"lassalle\"] = table_dept_candidat.loc[:,\"minus_droite\"]*ponderation[\"lassalle\"]/ 100\n",
    "    table_dept_candidat.loc[:,\"Fillon\"] = table_dept_candidat.loc[:,\"minus_droite\"]*ponderation[\"Fillon\"]/ 100\n",
    "    table_dept_candidat.loc[:,\"Macron\"] = table_dept_candidat.loc[:,\"prediction bloc gauche 2\"]*ponderation[\"Macron\"]/ 100\n",
    "    table_dept_candidat.loc[:,\"Hamon\"] = table_dept_candidat.loc[:,\"prediction bloc gauche 2\"]*ponderation[\"Hamon\"]/ 100\n",
    "    table_dept_candidat.loc[:,\"Melanchon\"] = table_dept_candidat.loc[:,\"prediction bloc gauche 2\"]*ponderation[\"Melanchon\"]/ 100\n",
    "    table_dept_candidat.loc[:,\"Poutou\"] = table_dept_candidat.loc[:,\"prediction bloc gauche 2\"]*ponderation[\"Poutou\"]/ 100\n",
    "    table_dept_candidat.loc[:,\"Arthaud\"] = table_dept_candidat.loc[:,\"prediction bloc gauche 2\"]*ponderation[\"Arthaud\"]/ 100\n",
    "    table_dept_candidat.loc[:,\"cheminade\"] = table_dept_candidat.loc[:,\"prediction bloc gauche 2\"]*ponderation[\"cheminade\"]/ 100\n",
    "\n",
    "    # Transfert de voix centre\n",
    "    table_dept_candidat.loc[:,\"MLP\"]  = table_dept_candidat.loc[:,\"MLP\"] + (table_dept_candidat.loc[:,\"prediction centre\"]*6.5/100)\n",
    "    table_dept_candidat.loc[:,\"Asselineau\"]  = table_dept_candidat.loc[:,\"Asselineau\"] + (table_dept_candidat.loc[:,\"prediction centre\"]*0.25/100)\n",
    "    table_dept_candidat.loc[:,\"Dupont Aignan\"]  = table_dept_candidat.loc[:,\"Dupont Aignan\"] + (table_dept_candidat.loc[:,\"prediction centre\"]*5.5/100)\n",
    "    table_dept_candidat.loc[:,\"lassalle\"]  = table_dept_candidat.loc[:,\"lassalle\"] + (table_dept_candidat.loc[:,\"prediction centre\"]*1.75/100)\n",
    "    table_dept_candidat.loc[:,\"Fillon\"]  = table_dept_candidat.loc[:,\"Fillon\"] + (table_dept_candidat.loc[:,\"prediction centre\"]*20.25/100)\n",
    "    table_dept_candidat.loc[:,\"Macron\"]  = table_dept_candidat.loc[:,\"Macron\"] + (table_dept_candidat.loc[:,\"prediction centre\"]*46/100)\n",
    "    table_dept_candidat.loc[:,\"Hamon\"]  = table_dept_candidat.loc[:,\"Hamon\"] + (table_dept_candidat.loc[:,\"prediction centre\"]*5.75/100)\n",
    "    table_dept_candidat.loc[:,\"Melanchon\"]  = table_dept_candidat.loc[:,\"Melanchon\"] + (table_dept_candidat.loc[:,\"prediction centre\"]*12/100)\n",
    "    table_dept_candidat.loc[:,\"Poutou\"]  = table_dept_candidat.loc[:,\"Poutou\"] + (table_dept_candidat.loc[:,\"prediction centre\"]*1.75/100)\n",
    "    table_dept_candidat.loc[:,\"Arthaud\"]  = table_dept_candidat.loc[:,\"Arthaud\"] + (table_dept_candidat.loc[:,\"prediction centre\"]*0.25/100)\n",
    "    table_dept_candidat.loc[:,\"cheminade\"]  = table_dept_candidat.loc[:,\"cheminade\"] + (table_dept_candidat.loc[:,\"prediction centre\"]*0/100)\n",
    "    \n",
    "    table_dept_candidat[\"code\"] = table_dept_candidat[\"code\"].apply(lambda x:  \"0\"+str(x) if len(str(x))==1 else str(x))\n",
    "    \n",
    "    sub = table_dept_candidat.ix[: ,[\"MLP\",\"Asselineau\",\"Dupont Aignan\",\n",
    "                             \"lassalle\", \"Fillon\", \"Macron\", \"Hamon\", \n",
    "                             \"Melanchon\", \"Poutou\", \"Arthaud\", \"cheminade\"]]\n",
    "    \n",
    "    table_dept_candidat[\"winner\"] = sub.idxmax(axis=1)\n",
    "    \n",
    "    return table_dept_candidat"
   ]
  },
  {
   "cell_type": "code",
   "execution_count": 318,
   "metadata": {
    "collapsed": false,
    "scrolled": true
   },
   "outputs": [],
   "source": [
    "def lambert932WGPS(lambertE, lambertN):\n",
    "\n",
    "    class constantes:\n",
    "        GRS80E = 0.081819191042816\n",
    "        LONG_0 = 3\n",
    "        XS = 700000\n",
    "        YS = 12655612.0499\n",
    "        n = 0.7256077650532670\n",
    "        C = 11754255.4261\n",
    "\n",
    "    delX = lambertE - constantes.XS\n",
    "    delY = lambertN - constantes.YS\n",
    "    gamma = math.atan(-delX / delY)\n",
    "    R = math.sqrt(delX * delX + delY * delY)\n",
    "    latiso = math.log(constantes.C / R) / constantes.n\n",
    "    sinPhiit0 = math.tanh(latiso + constantes.GRS80E * math.atanh(constantes.GRS80E * math.sin(1)))\n",
    "    sinPhiit1 = math.tanh(latiso + constantes.GRS80E * math.atanh(constantes.GRS80E * sinPhiit0))\n",
    "    sinPhiit2 = math.tanh(latiso + constantes.GRS80E * math.atanh(constantes.GRS80E * sinPhiit1))\n",
    "    sinPhiit3 = math.tanh(latiso + constantes.GRS80E * math.atanh(constantes.GRS80E * sinPhiit2))\n",
    "    sinPhiit4 = math.tanh(latiso + constantes.GRS80E * math.atanh(constantes.GRS80E * sinPhiit3))\n",
    "    sinPhiit5 = math.tanh(latiso + constantes.GRS80E * math.atanh(constantes.GRS80E * sinPhiit4))\n",
    "    sinPhiit6 = math.tanh(latiso + constantes.GRS80E * math.atanh(constantes.GRS80E * sinPhiit5))\n",
    "\n",
    "    longRad = math.asin(sinPhiit6)\n",
    "    latRad = gamma / constantes.n + constantes.LONG_0 / 180 * math.pi\n",
    "\n",
    "    longitude = latRad / math.pi * 180\n",
    "    latitude = longRad / math.pi * 180\n",
    "\n",
    "    return longitude, latitude\n"
   ]
  },
  {
   "cell_type": "code",
   "execution_count": 319,
   "metadata": {
    "collapsed": false,
    "scrolled": false
   },
   "outputs": [],
   "source": [
    "def generate_graph(label, table_dept_candidat, dict_color):\n",
    "    fig = plt.figure(figsize=(20,10))\n",
    "    #Custom adjust of the subplots\n",
    "    #plt.subplots_adjust(left=0.05,right=0.95,top=0.90,bottom=0.05,wspace=0.15,hspace=0.05)\n",
    "    ax = plt.subplot(111)\n",
    "    #Let's create a basemap of Europe\n",
    "    x1 = -5.0\n",
    "    x2 = 12.\n",
    "    y1 = 40.\n",
    "    y2 = 54.\n",
    "\n",
    "    m = Basemap(resolution='i',projection='merc', llcrnrlat=y1,urcrnrlat=y2,llcrnrlon=x1,urcrnrlon=x2,lat_ts=(x1+x2)/2)\n",
    "    m.drawcountries(linewidth=0.5)\n",
    "    m.drawcoastlines(linewidth=0.5)\n",
    "    if False:\n",
    "        # provoque l'erreur\n",
    "        # ValueError: All values in the dash list must be positive\n",
    "        m.drawparallels(np.arange(y1,y2,2.),labels=[1,0,0,0],color='black',\n",
    "                        dashes=[1,0],labelstyle='+/-',linewidth=0.2) # draw parallels\n",
    "        m.drawmeridians(np.arange(x1,x2,2.),labels=[0,0,0,1],color='black',\n",
    "                        dashes=[1,0],labelstyle='+/-',linewidth=0.2) # draw meridians\n",
    "\n",
    "    shp = 'carte_file/DEPARTEMENT.shp'\n",
    "    r = shapefile.Reader(shp)\n",
    "    shapes = r.shapes()\n",
    "    records = r.records()\n",
    "\n",
    "\n",
    "\n",
    "    for record, shape in zip(records,shapes):\n",
    "        # les coordonnées sont en Lambert 93\n",
    "        geo_points = [lambert932WGPS(x,y) for x, y in shape.points]\n",
    "        lons = [_[0] for _ in geo_points]\n",
    "        lats = [_[1] for _ in geo_points]\n",
    "        data = np.array(m(lons, lats)).T\n",
    "\n",
    "        if len(shape.parts) == 1:\n",
    "            segs = [data,]\n",
    "        else:\n",
    "            segs = []\n",
    "            for i in range(1,len(shape.parts)):\n",
    "                index = shape.parts[i-1]\n",
    "                index2 = shape.parts[i]\n",
    "                segs.append(data[index:index2])\n",
    "            segs.append(data[index2:])\n",
    "\n",
    "        lines = LineCollection(segs,antialiaseds=(1,))\n",
    "        # pour changer les couleurs c'est ici, il faudra utiliser le champ records\n",
    "        # pour les changer en fonction du nom du départements\n",
    "        code_dept = record[1]\n",
    "        name_winner = table_dept_candidat.ix[table_dept_candidat[\"code\"]==code_dept, \"winner\"]\n",
    "        color_winner = dict_color[name_winner.values[0]]\n",
    "        lines.set_facecolors(color_winner)\n",
    "        lines.set_edgecolors('k')\n",
    "        lines.set_linewidth(1)\n",
    "        ax.add_collection(lines)\n",
    "\n",
    "\n",
    "    plt.title(\"Prediction du vainqueur par département (Aggrégation par \"+ label +\" )\")\n",
    "    plt.savefig(\"carte_export//carte_france_\"+label+\".png\")\n",
    "    plt.close()\n",
    "\n",
    "\n",
    "\n",
    "    fig = plt.figure(figsize=(10,5))\n",
    "    ax = plt.subplot(111)\n",
    "    m = Basemap(projection='tmerc', \n",
    "                  lat_0=48.8534, lon_0= 2.3488,\n",
    "                  width=2e5, height=2e5)\n",
    "\n",
    "    m.drawcoastlines(linewidth=0.5)\n",
    "    m.drawcountries(linewidth=0.5)\n",
    "    shp = 'carte_file/DEPARTEMENT.shp'\n",
    "    r = shapefile.Reader(shp)\n",
    "    shapes = r.shapes()\n",
    "    records = r.records()\n",
    "\n",
    "\n",
    "\n",
    "    for record, shape in zip(records,shapes):\n",
    "        if record[1] in [\"75\",\"94\",\"95\",\"93\",\"92\",\"77\",\"78\",\"91\"]:\n",
    "            # les coordonnées sont en Lambert 93\n",
    "            geo_points = [lambert932WGPS(x,y) for x, y in shape.points]\n",
    "            lons = [_[0] for _ in geo_points]\n",
    "            lats = [_[1] for _ in geo_points]\n",
    "            data = np.array(m(lons, lats)).T\n",
    "\n",
    "            if len(shape.parts) == 1:\n",
    "                segs = [data,]\n",
    "            else:\n",
    "                segs = []\n",
    "                for i in range(1,len(shape.parts)):\n",
    "                    index = shape.parts[i-1]\n",
    "                    index2 = shape.parts[i]\n",
    "                    segs.append(data[index:index2])\n",
    "                segs.append(data[index2:])\n",
    "\n",
    "            lines = LineCollection(segs,antialiaseds=(1,))\n",
    "            # pour changer les couleurs c'est ici, il faudra utiliser le champ records\n",
    "            # pour les changer en fonction du nom du départements\n",
    "            code_dept = record[1]\n",
    "            name_winner = table_dept_candidat.ix[table_dept_candidat[\"code\"]==code_dept, \"winner\"]\n",
    "            color_winner = dict_color[name_winner.values[0]]\n",
    "            lines.set_facecolors(color_winner)\n",
    "            lines.set_edgecolors('k')\n",
    "            lines.set_linewidth(1)\n",
    "            ax.add_collection(lines)\n",
    "\n",
    "    plt.savefig(\"carte_export//carte_idf_\"+label+\".png\")        \n",
    "    plt.close()"
   ]
  },
  {
   "cell_type": "code",
   "execution_count": 323,
   "metadata": {
    "collapsed": true
   },
   "outputs": [],
   "source": [
    "ponderation_sondage = {\n",
    "\"MLP\": 100,\n",
    "\"Asselineau\" : 2.0408163265,\n",
    "\"Dupont Aignan\" : 16.3265306122,\n",
    "\"lassalle\" : 4.0816326531,\n",
    "\"Fillon\": 77.5510204082,\n",
    "\"Macron\": 44.2307692308,\n",
    "\"Hamon\" : 16.3461538462,\n",
    "\"Melanchon\" : 35.5769230769,\n",
    "\"Poutou\": 2.8846153846,\n",
    "\"Arthaud\" : 0.9615384615,\n",
    "\"cheminade\" : 0\n",
    "}\n",
    "\n",
    "ponderation_twitter ={\n",
    "\"MLP\": 100,\n",
    "\"Asselineau\" : 0.80,\n",
    "\"Dupont Aignan\" : 14.13,\n",
    "\"lassalle\" : 0.2965,\n",
    "\"Fillon\": 84.71,\n",
    "\"Macron\": 39.68,\n",
    "\"Hamon\" : 16.92,\n",
    "\"Melanchon\" : 39.32,\n",
    "\"Poutou\": 4.06,\n",
    "\"Arthaud\" : 2.16,\n",
    "\"cheminade\" : 0.054\n",
    "}\n",
    "\n",
    "ponderation_google = {\n",
    "\"MLP\": 100,\n",
    "\"Asselineau\" : 12.88,\n",
    "\"Dupont Aignan\" : 6.59,\n",
    "\"lassalle\" : 11.14,\n",
    "\"Fillon\": 65.07,\n",
    "\"Macron\": 32.55,\n",
    "\"Hamon\" : 2.93,\n",
    "\"Melanchon\" : 54.23,\n",
    "\"Poutou\": 8.11,\n",
    "\"Arthaud\" : 2.16,\n",
    "\"cheminade\" : 4.30\n",
    "}\n",
    "\n",
    "ponderation_trois = {\n",
    "\"MLP\": 100,\n",
    "\"Asselineau\" : 5.89,\n",
    "\"Dupont Aignan\" : 11.57,\n",
    "\"lassalle\" : 5.25,\n",
    "\"Fillon\": 75.82,\n",
    "\"Macron\": 38.70,\n",
    "\"Hamon\" : 11.65,\n",
    "\"Melanchon\" : 43.31,\n",
    "\"Poutou\": 5.09,\n",
    "\"Arthaud\" : 1.03,\n",
    "\"cheminade\" : 1.66 \n",
    "}\n"
   ]
  },
  {
   "cell_type": "code",
   "execution_count": 322,
   "metadata": {
    "collapsed": false
   },
   "outputs": [],
   "source": [
    "# Sondage\n",
    "table_dept = generate_table_dept( ponderation_sondage ,prediction_resultat)\n",
    "generate_graph(\"Sondage\", table_dept, dict_color)\n",
    "# Twitter\n",
    "table_dept = generate_table_dept( ponderation_twitter ,prediction_resultat)\n",
    "generate_graph(\"Twitter\", table_dept, dict_color)\n",
    "# Google\n",
    "table_dept = generate_table_dept( ponderation_google ,prediction_resultat)\n",
    "generate_graph(\"Google\", table_dept, dict_color)"
   ]
  },
  {
   "cell_type": "code",
   "execution_count": null,
   "metadata": {
    "collapsed": true
   },
   "outputs": [],
   "source": [
    "table_dept = generate_table_dept( ponderation_trois ,prediction_resultat)\n",
    "generate_graph(\"Average\", table_dept, dict_color_2)"
   ]
  },
  {
   "cell_type": "code",
   "execution_count": null,
   "metadata": {
    "collapsed": true
   },
   "outputs": [],
   "source": []
  }
 ],
 "metadata": {
  "anaconda-cloud": {},
  "kernelspec": {
   "display_name": "Python [Root]",
   "language": "python",
   "name": "Python [Root]"
  },
  "language_info": {
   "codemirror_mode": {
    "name": "ipython",
    "version": 3
   },
   "file_extension": ".py",
   "mimetype": "text/x-python",
   "name": "python",
   "nbconvert_exporter": "python",
   "pygments_lexer": "ipython3",
   "version": "3.5.2"
  }
 },
 "nbformat": 4,
 "nbformat_minor": 1
}
