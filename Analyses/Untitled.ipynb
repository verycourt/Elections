{
 "cells": [
  {
   "cell_type": "code",
   "execution_count": 1,
   "metadata": {
    "collapsed": true
   },
   "outputs": [],
   "source": [
    "import pandas as pd\n",
    "import numpy as np \n",
    "import seaborn as sns\n",
    "import glob, os\n",
    "from IPython.display import Image\n",
    "from sklearn.preprocessing import StandardScaler\n",
    "from sklearn.svm import LinearSVR, SVR\n",
    "from sklearn import metrics\n",
    "from sklearn.linear_model import LinearRegression,Ridge\n",
    "import statsmodels.api as sm\n",
    "from sklearn import linear_model\n",
    "from sklearn.tree import DecisionTreeRegressor\n",
    "from sklearn.decomposition import PCA\n",
    "from sklearn.feature_selection import SelectFromModel\n",
    "from sklearn.feature_selection import RFE\n",
    "from sklearn import tree\n",
    "import pydotplus\n",
    "from sklearn.externals.six import StringIO\n",
    "import matplotlib.pyplot as plt\n",
    "%matplotlib inline\n",
    "from collections import Counter\n",
    "from sklearn.feature_selection import SelectKBest\n",
    "from sklearn.feature_selection import chi2, f_regression\n",
    "from sklearn.feature_selection import f_regression\n",
    "from sklearn.linear_model import ElasticNet\n",
    "import forward_selection as fs\n",
    "from scipy.stats import chi2_contingency, pearsonr, spearmanr"
   ]
  },
  {
   "cell_type": "code",
   "execution_count": 2,
   "metadata": {
    "collapsed": true
   },
   "outputs": [],
   "source": [
    "dft11 = pd.read_csv(\"la_base.csv\", encoding=\"latin1\")"
   ]
  },
  {
   "cell_type": "code",
   "execution_count": 3,
   "metadata": {
    "collapsed": true
   },
   "outputs": [],
   "source": [
    "dft11[\"taux_bgauche\"] = dft11['taux_xgauche']+ dft11['taux_gauche'] + dft11['taux_vert']\n",
    "dft11[\"taux_bdroite\"] = dft11['taux_droite']+ dft11['taux_centre']"
   ]
  },
  {
   "cell_type": "code",
   "execution_count": 4,
   "metadata": {
    "collapsed": true
   },
   "outputs": [],
   "source": [
    "#Taux_supp_moyenne sortant\n",
    "#Popularité sortant \n",
    "\n",
    "dft11[\"ecart_pop\"] = dft11[\"pop_president\"] - dft11[\"pop_premier_ministre\"] \n",
    "dft11[\"pop_exec\"] = np.nan \n",
    "dft11.ix[dft11[\"Ann?e\"]==1981,\"pop_exec\"] = dft11.ix[dft11[\"Ann?e\"]==1981,\"pop_president\"].iloc[0]\n",
    "dft11.ix[dft11[\"Ann?e\"]==1988,\"pop_exec\"] = dft11.ix[dft11[\"Ann?e\"]==1988,\"pop_president\"].iloc[0]\n",
    "dft11.ix[dft11[\"Ann?e\"]==2012,\"pop_exec\"] = dft11.ix[dft11[\"Ann?e\"]==2012,\"pop_president\"].iloc[0]\n",
    "dft11.ix[dft11[\"Ann?e\"]==1995,\"pop_exec\"] = dft11.ix[dft11[\"Ann?e\"]==1995,\"pop_premier_ministre\"].iloc[0]\n",
    "dft11.ix[dft11[\"Ann?e\"]==2002,\"pop_exec\"] = dft11.ix[dft11[\"Ann?e\"]==2002,\"pop_premier_ministre\"].iloc[0]\n",
    "dft11.ix[dft11[\"Ann?e\"]==2007,\"pop_exec\"] = dft11.ix[dft11[\"Ann?e\"]==2007,\"pop_premier_ministre\"].iloc[0]\n",
    "\n",
    "dft11.ix[dft11[\"Ann?e\"]==1981,\"pop_xdroite\"] = dft11.ix[dft11[\"Ann?e\"]==1988,\"pop_xdroite\"].iloc[0]\n",
    "dft11.ix[dft11[\"Ann?e\"]==1981,\"pop_verts\"] = dft11.ix[dft11[\"Ann?e\"]==1995,\"pop_verts\"].iloc[0]\n",
    "dft11.ix[dft11[\"Ann?e\"]==1988,\"pop_verts\"] = dft11.ix[dft11[\"Ann?e\"]==1995,\"pop_verts\"].iloc[0]\n",
    "\n",
    "dft11.ix[dft11[\"Ann?e\"]==1981,\"nombre de logement vacant\"] = 1891."
   ]
  },
  {
   "cell_type": "code",
   "execution_count": 5,
   "metadata": {
    "collapsed": true
   },
   "outputs": [],
   "source": [
    "dft11[\"taux_sortie_sans_bloc\"] = np.nan \n",
    "dft11.ix[dft11[\"Ann?e\"]==1981,\"taux_sortie_sans_bloc\"] = dft11.ix[dft11[\"Ann?e\"]==1981,\"taux_centre\"]\n",
    "dft11.ix[dft11[\"Ann?e\"]==1988,\"taux_sortie_sans_bloc\"] = dft11.ix[dft11[\"Ann?e\"]==1988,\"taux_gauche\"]\n",
    "dft11.ix[dft11[\"Ann?e\"]==1995,\"taux_sortie_sans_bloc\"] = dft11.ix[dft11[\"Ann?e\"]==1995,\"taux_gauche\"]\n",
    "dft11.ix[dft11[\"Ann?e\"]==2002,\"taux_sortie_sans_bloc\"] = dft11.ix[dft11[\"Ann?e\"]==2002,\"taux_droite\"]\n",
    "dft11.ix[dft11[\"Ann?e\"]==2007,\"taux_sortie_sans_bloc\"] = dft11.ix[dft11[\"Ann?e\"]==2007,\"taux_droite\"]\n",
    "dft11.ix[dft11[\"Ann?e\"]==2012,\"taux_sortie_sans_bloc\"] = dft11.ix[dft11[\"Ann?e\"]==2012,\"taux_droite\"]"
   ]
  },
  {
   "cell_type": "code",
   "execution_count": 6,
   "metadata": {
    "collapsed": true
   },
   "outputs": [],
   "source": [
    "dft11[\"taux_sortie_avec_bloc\"] = np.nan \n",
    "dft11.ix[dft11[\"Ann?e\"]==1981,\"taux_sortie_avec_bloc\"] = dft11.ix[dft11[\"Ann?e\"]==1981,\"taux_centre\"] +\\\n",
    "dft11.ix[dft11[\"Ann?e\"]==1981,\"taux_droite\"]\n",
    "dft11.ix[dft11[\"Ann?e\"]==1988,\"taux_sortie_avec_bloc\"] = dft11.ix[dft11[\"Ann?e\"]==1988,\"taux_gauche\"]+\\\n",
    "dft11.ix[dft11[\"Ann?e\"]==1988,\"taux_xgauche\"] + dft11.ix[dft11[\"Ann?e\"]==1988,\"taux_vert\"]\n",
    "        \n",
    "dft11.ix[dft11[\"Ann?e\"]==1995,\"taux_sortie_avec_bloc\"] = dft11.ix[dft11[\"Ann?e\"]==1995,\"taux_gauche\"]+\\\n",
    "dft11.ix[dft11[\"Ann?e\"]==1995,\"taux_xgauche\"] + dft11.ix[dft11[\"Ann?e\"]==1995,\"taux_vert\"]\n",
    "\n",
    "dft11.ix[dft11[\"Ann?e\"]==2002,\"taux_sortie_avec_bloc\"] = dft11.ix[dft11[\"Ann?e\"]==2002,\"taux_droite\"]+\\\n",
    "dft11.ix[dft11[\"Ann?e\"]==2002,\"taux_centre\"]\n",
    "dft11.ix[dft11[\"Ann?e\"]==2007,\"taux_sortie_avec_bloc\"] = dft11.ix[dft11[\"Ann?e\"]==2007,\"taux_droite\"]+\\\n",
    "dft11.ix[dft11[\"Ann?e\"]==2007,\"taux_centre\"]\n",
    "dft11.ix[dft11[\"Ann?e\"]==2012,\"taux_sortie_avec_bloc\"] = dft11.ix[dft11[\"Ann?e\"]==2012,\"taux_droite\"]+\\\n",
    "dft11.ix[dft11[\"Ann?e\"]==2012,\"taux_centre\"]"
   ]
  },
  {
   "cell_type": "code",
   "execution_count": 7,
   "metadata": {
    "collapsed": true
   },
   "outputs": [],
   "source": [
    "def create_train(target, dft11, option_fn=False):\n",
    "    dft11[\"CORS88\"] = dft11.apply(lambda row : 1 if row[\"Ann?e\"]==1988 and \n",
    "                              row[\"code\"] in [\"2A\",\"2B\"] else 0, axis=1)\n",
    "\n",
    "    dft11[\"CORS02\"] = dft11.apply(lambda row : 1 if row[\"Ann?e\"]==2002 and \n",
    "                              row[\"code\"] in [\"2A\",\"2B\"] else 0, axis=1)\n",
    "    \n",
    "    dft12 = dft11.drop([\"code\", 'taux_Blancs et nuls', 'taux_droite', 'taux_xgauche',\\\n",
    "                    'taux_vert','taux_centre', 'Q1_rate', 'Q2_rate', 'Q3_rate', 'Q4_rate', \"Total\", \\\n",
    "                   'depart_OM', \"Date\",\"taux_Abstention_sup_moyenne\",'taux_Blancs et nuls_sup_moyenne',\n",
    "                        'depart_CORSE'], axis=1)\n",
    "    \n",
    "    dft12[\"Date\"] = dft12[\"Ann?e\"] - 1981\n",
    "    \n",
    "\n",
    "\n",
    "    \n",
    "    list_dell = [\"Ann?e\",\"d?partement\",\"taux_bgauche\",'taux_Abstention',\"taux_sortie_sans_bloc\",\n",
    "                \"taux_sortie_avec_bloc\",\"taux_gauche\", 'taux_xdroite',\"taux_bdroite\"]\n",
    "\n",
    "    \n",
    "    \n",
    "    \n",
    "    if option_fn==True:\n",
    "        dft12 = dft12[dft12[\"Ann?e\"]!=1981]\n",
    "        \n",
    "\n",
    "    \n",
    "    df_train_x = dft12.drop(list_dell, axis=1)\n",
    "    df_train_y = dft12[target]\n",
    "    \n",
    "    return df_train_x, df_train_y"
   ]
  },
  {
   "cell_type": "code",
   "execution_count": 8,
   "metadata": {
    "collapsed": true
   },
   "outputs": [],
   "source": [
    "def create_train_and_test(target, dft11, option_fn=False):\n",
    "\n",
    "    dft11[\"CORS88\"] = dft11.apply(lambda row : 1 if row[\"Ann?e\"]==1988 and \n",
    "                              row[\"code\"] in [\"2A\",\"2B\"] else 0, axis=1)\n",
    "\n",
    "    dft11[\"CORS02\"] = dft11.apply(lambda row : 1 if row[\"Ann?e\"]==2002 and \n",
    "                              row[\"code\"] in [\"2A\",\"2B\"] else 0, axis=1)\n",
    "    \n",
    "    dft12 = dft11.drop([\"code\", 'taux_Blancs et nuls', 'taux_droite', 'taux_xgauche',\\\n",
    "                    'taux_vert','taux_centre', 'Q1_rate', 'Q2_rate', 'Q3_rate', 'Q4_rate', \"Total\", \\\n",
    "                   'depart_OM', \"Date\",\"taux_Abstention_sup_moyenne\",'taux_Blancs et nuls_sup_moyenne',\n",
    "                        'depart_CORSE'], axis=1)\n",
    "    \n",
    "    dft12[\"Date\"] = dft12[\"Ann?e\"] - 1981\n",
    "    \n",
    "\n",
    "\n",
    "    \n",
    "    list_dell = [\"Ann?e\",\"d?partement\",\"taux_bgauche\",'taux_Abstention',\"taux_sortie_sans_bloc\",\n",
    "                \"taux_sortie_avec_bloc\",\"taux_gauche\", 'taux_xdroite',\"taux_bdroite\"]\n",
    "\n",
    "    \n",
    "    df_train = dft12[dft12[\"Ann?e\"]!=2012]\n",
    "    \n",
    "    if option_fn==True:\n",
    "        df_train = df_train[df_train[\"Ann?e\"]!=1981]\n",
    "        \n",
    "    df_test = dft12[dft12[\"Ann?e\"]==2012]\n",
    "    \n",
    "    df_train_x = df_train.drop(list_dell, axis=1)\n",
    "    df_train_y = df_train[target]\n",
    "    df_test_x = df_test.drop(list_dell, axis=1)\n",
    "    df_test_y = df_test[target]\n",
    "    \n",
    "    return df_train_x, df_train_y, df_test_x, df_test_y"
   ]
  },
  {
   "cell_type": "code",
   "execution_count": null,
   "metadata": {
    "collapsed": true
   },
   "outputs": [],
   "source": [
    "features_keep = [\"Nombre total de mariages domicili?s\",\n",
    "\"taux_droite_sup_moyenne\",\n",
    "\"taux_gauche_sup_moyenne\",\n",
    "\"taux_xdroite_sup_moyenne\",\n",
    "\"pop_xdroite\",\n",
    "\"Densit?\",\n",
    "\"subventions\",\n",
    "\"pop_exec\"\n",
    "]\n",
    "\n",
    "df_train_x, df_train_y, df_test_x, df_test_y = create_train_and_test(\"taux_xdroite\", dft11, False)\n",
    "df_train_x_select_features = df_train_x.ix[:, features_keep]\n",
    "df_test_x_select_features = df_test_x.ix[:, features_keep]\n",
    "\n",
    "lr = LinearRegression(fit_intercept=True, normalize=True)\n",
    "lr.fit(df_train_x_select_features, df_train_y)\n",
    "print(df_test_x_select_features.columns)\n",
    "print(\"Résultat sans 2012 (avec test)\")\n",
    "print(\"R2 adjust train %s\" % r2_adjusted(df_train_x_select_features, df_train_y, 8,lr))\n",
    "print(\"R2 train %s\" % lr.score(df_train_x_select_features, df_train_y))\n",
    "print(\"MAE train %s\" % metrics.mean_absolute_error(df_train_y, lr.predict(df_train_x_select_features)))\n",
    "print(\"MAE test %s\" % metrics.mean_absolute_error(df_test_y, lr.predict(df_test_x_select_features)))\n",
    "print(\"\\n\")\n",
    "print(\"Résultat avec fit entire data\")\n",
    "df_train_x, df_train_y = create_train(\"taux_xdroite\", dft11, False)\n",
    "df_train_x_select_features = df_train_x.ix[:, features_keep]\n",
    "lr = LinearRegression(fit_intercept=True, normalize=True)\n",
    "lr.fit(df_train_x_select_features, df_train_y)\n",
    "print(\"R2 train %s\" % lr.score(df_train_x_select_features, df_train_y))\n",
    "print(\"R2 adjust train %s\" % r2_adjusted(df_train_x_select_features, df_train_y, 8,lr))\n",
    "print(\"MAE train %s\" % metrics.mean_absolute_error(df_train_y, lr.predict(df_train_x_select_features)))"
   ]
  },
  {
   "cell_type": "code",
   "execution_count": null,
   "metadata": {
    "collapsed": true
   },
   "outputs": [],
   "source": []
  }
 ],
 "metadata": {
  "kernelspec": {
   "display_name": "Python [Root]",
   "language": "python",
   "name": "Python [Root]"
  },
  "language_info": {
   "codemirror_mode": {
    "name": "ipython",
    "version": 3
   },
   "file_extension": ".py",
   "mimetype": "text/x-python",
   "name": "python",
   "nbconvert_exporter": "python",
   "pygments_lexer": "ipython3",
   "version": "3.5.2"
  }
 },
 "nbformat": 4,
 "nbformat_minor": 0
}
