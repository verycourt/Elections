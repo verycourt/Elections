{
 "cells": [
  {
   "cell_type": "code",
   "execution_count": 1,
   "metadata": {
    "collapsed": false
   },
   "outputs": [],
   "source": [
    "import pandas as pd\n",
    "import numpy as np \n",
    "import seaborn as sns\n",
    "import glob, os\n",
    "from IPython.display import Image\n",
    "from sklearn.preprocessing import StandardScaler\n",
    "from sklearn.svm import LinearSVR, SVR\n",
    "from sklearn import metrics\n",
    "from sklearn.linear_model import LinearRegression,Ridge\n",
    "import statsmodels.api as sm\n",
    "from sklearn import linear_model\n",
    "from sklearn.tree import DecisionTreeRegressor\n",
    "from sklearn.decomposition import PCA\n",
    "from sklearn.feature_selection import SelectFromModel\n",
    "from sklearn.feature_selection import RFE\n",
    "from sklearn import tree\n",
    "import pydotplus\n",
    "from sklearn.externals.six import StringIO\n",
    "import matplotlib.pyplot as plt\n",
    "%matplotlib inline\n",
    "from collections import Counter\n",
    "from sklearn.feature_selection import SelectKBest\n",
    "from sklearn.feature_selection import chi2, f_regression\n",
    "from sklearn.feature_selection import f_regression\n",
    "from sklearn.linear_model import ElasticNet\n",
    "import forward_selection as fs\n",
    "from scipy.stats import chi2_contingency, pearsonr, spearmanr"
   ]
  },
  {
   "cell_type": "markdown",
   "metadata": {},
   "source": [
    "## Préparation de la base"
   ]
  },
  {
   "cell_type": "code",
   "execution_count": 2,
   "metadata": {
    "collapsed": false
   },
   "outputs": [],
   "source": [
    "dft11 = pd.read_csv(\"la_base.csv\", encoding=\"latin1\")"
   ]
  },
  {
   "cell_type": "code",
   "execution_count": 3,
   "metadata": {
    "collapsed": false,
    "scrolled": true
   },
   "outputs": [
    {
     "data": {
      "text/plain": [
       "Index(['d?partement', 'code', 'Ann?e', 'taux_Blancs et nuls', 'taux_xdroite',\n",
       "       'taux_gauche', 'taux_Abstention', 'taux_xgauche', 'taux_centre',\n",
       "       'taux_vert', 'taux_droite', 'depart_frontalier', 'depart_OM',\n",
       "       'depart_CORSE', '0-19ans', '20-39ans', '40-59ans', '60-74ans', '75+ans',\n",
       "       'Total', 'Naissances domicili?es par d?partement',\n",
       "       'Nombre total de mariages domicili?s',\n",
       "       'D?c?s domicili?s par d?partement', 'Q1_rate', 'Q2_rate', 'Q3_rate',\n",
       "       'Q4_rate', 'var_chomage_annee', 'taux_chomage',\n",
       "       'taux_centre_sup_moyenne', 'taux_droite_sup_moyenne',\n",
       "       'taux_gauche_sup_moyenne', 'taux_vert_sup_moyenne',\n",
       "       'taux_xdroite_sup_moyenne', 'taux_xgauche_sup_moyenne',\n",
       "       'taux_Abstention_sup_moyenne', 'taux_Blancs et nuls_sup_moyenne',\n",
       "       'Date', 'pop_verts', 'pop_centre', 'pop_droite', 'pop_gauche',\n",
       "       'pop_xdroite', 'pop_xgauche', 'pop_premier_ministre', 'cohabitation',\n",
       "       'pop_president', 'droite_au_pouvoir', 'Dissident', 'Superficie ',\n",
       "       'Densit?', 'persistance_gauche', 'persistance_droite',\n",
       "       'persistance centre', 'persistance_centre_droite', 'pres_centre',\n",
       "       'pres_droite', 'pres_gauche', 'pres_xgauche', 'importations',\n",
       "       'subventions',\n",
       "       'conjoncture travaux publics-opinions sur le carnet de commandes',\n",
       "       'capacit? epargne actuelle (augmentation moins diminution)',\n",
       "       'opportunite epargner(favorable moins favorable)',\n",
       "       'capacite epargne future(am?lioration moins deterioration)',\n",
       "       'densit?_m?decins', 'consommation menages - electricite',\n",
       "       'nombre de logement vacant'],\n",
       "      dtype='object')"
      ]
     },
     "execution_count": 3,
     "metadata": {},
     "output_type": "execute_result"
    }
   ],
   "source": [
    "dft11.columns"
   ]
  },
  {
   "cell_type": "code",
   "execution_count": 4,
   "metadata": {
    "collapsed": false
   },
   "outputs": [
    {
     "data": {
      "text/plain": [
       "Index(['d?partement', 'code', 'Ann?e', 'taux_Blancs et nuls', 'taux_xdroite',\n",
       "       'taux_gauche', 'taux_Abstention', 'taux_xgauche', 'taux_centre',\n",
       "       'taux_vert', 'taux_droite', 'depart_frontalier', 'depart_OM',\n",
       "       'depart_CORSE', '0-19ans', '20-39ans', '40-59ans', '60-74ans', '75+ans',\n",
       "       'Total', 'Naissances domicili?es par d?partement',\n",
       "       'Nombre total de mariages domicili?s',\n",
       "       'D?c?s domicili?s par d?partement', 'Q1_rate', 'Q2_rate', 'Q3_rate',\n",
       "       'Q4_rate', 'var_chomage_annee', 'taux_chomage',\n",
       "       'taux_centre_sup_moyenne', 'taux_droite_sup_moyenne',\n",
       "       'taux_gauche_sup_moyenne', 'taux_vert_sup_moyenne',\n",
       "       'taux_xdroite_sup_moyenne', 'taux_xgauche_sup_moyenne',\n",
       "       'taux_Abstention_sup_moyenne', 'taux_Blancs et nuls_sup_moyenne',\n",
       "       'Date', 'pop_verts', 'pop_centre', 'pop_droite', 'pop_gauche',\n",
       "       'pop_xdroite', 'pop_xgauche', 'pop_premier_ministre', 'cohabitation',\n",
       "       'pop_president', 'droite_au_pouvoir', 'Dissident', 'Superficie ',\n",
       "       'Densit?', 'persistance_gauche', 'persistance_droite',\n",
       "       'persistance centre', 'persistance_centre_droite', 'pres_centre',\n",
       "       'pres_droite', 'pres_gauche', 'pres_xgauche', 'importations',\n",
       "       'subventions',\n",
       "       'conjoncture travaux publics-opinions sur le carnet de commandes',\n",
       "       'capacit? epargne actuelle (augmentation moins diminution)',\n",
       "       'opportunite epargner(favorable moins favorable)',\n",
       "       'capacite epargne future(am?lioration moins deterioration)',\n",
       "       'densit?_m?decins', 'consommation menages - electricite',\n",
       "       'nombre de logement vacant'],\n",
       "      dtype='object')"
      ]
     },
     "execution_count": 4,
     "metadata": {},
     "output_type": "execute_result"
    }
   ],
   "source": [
    "dft11.columns"
   ]
  },
  {
   "cell_type": "code",
   "execution_count": 5,
   "metadata": {
    "collapsed": false
   },
   "outputs": [],
   "source": [
    "dft11[\"taux_bgauche\"] = dft11['taux_xgauche']+ dft11['taux_gauche'] + dft11['taux_vert']\n",
    "dft11[\"taux_bdroite\"] = dft11['taux_droite']+ dft11['taux_centre']"
   ]
  },
  {
   "cell_type": "code",
   "execution_count": 6,
   "metadata": {
    "collapsed": false
   },
   "outputs": [
    {
     "data": {
      "text/html": [
       "<div>\n",
       "<table border=\"1\" class=\"dataframe\">\n",
       "  <thead>\n",
       "    <tr style=\"text-align: right;\">\n",
       "      <th></th>\n",
       "      <th>d?partement</th>\n",
       "      <th>code</th>\n",
       "      <th>Ann?e</th>\n",
       "      <th>taux_Blancs et nuls</th>\n",
       "      <th>taux_xdroite</th>\n",
       "      <th>taux_gauche</th>\n",
       "      <th>taux_Abstention</th>\n",
       "      <th>taux_xgauche</th>\n",
       "      <th>taux_centre</th>\n",
       "      <th>taux_vert</th>\n",
       "      <th>...</th>\n",
       "      <th>subventions</th>\n",
       "      <th>conjoncture travaux publics-opinions sur le carnet de commandes</th>\n",
       "      <th>capacit? epargne actuelle (augmentation moins diminution)</th>\n",
       "      <th>opportunite epargner(favorable moins favorable)</th>\n",
       "      <th>capacite epargne future(am?lioration moins deterioration)</th>\n",
       "      <th>densit?_m?decins</th>\n",
       "      <th>consommation menages - electricite</th>\n",
       "      <th>nombre de logement vacant</th>\n",
       "      <th>taux_bgauche</th>\n",
       "      <th>taux_bdroite</th>\n",
       "    </tr>\n",
       "  </thead>\n",
       "  <tbody>\n",
       "    <tr>\n",
       "      <th>0</th>\n",
       "      <td>AIN</td>\n",
       "      <td>1</td>\n",
       "      <td>1981.0</td>\n",
       "      <td>1.604750</td>\n",
       "      <td>0.000000</td>\n",
       "      <td>27.982284</td>\n",
       "      <td>27.940015</td>\n",
       "      <td>14.888346</td>\n",
       "      <td>31.660729</td>\n",
       "      <td>4.226724</td>\n",
       "      <td>...</td>\n",
       "      <td>-1797.75</td>\n",
       "      <td>-48.00</td>\n",
       "      <td>8.333333</td>\n",
       "      <td>-31.916667</td>\n",
       "      <td>-18.666667</td>\n",
       "      <td>84.34</td>\n",
       "      <td>21650</td>\n",
       "      <td>NaN</td>\n",
       "      <td>47.097355</td>\n",
       "      <td>52.902645</td>\n",
       "    </tr>\n",
       "    <tr>\n",
       "      <th>1</th>\n",
       "      <td>AIN</td>\n",
       "      <td>1</td>\n",
       "      <td>1988.0</td>\n",
       "      <td>1.879541</td>\n",
       "      <td>16.041776</td>\n",
       "      <td>31.377812</td>\n",
       "      <td>23.877703</td>\n",
       "      <td>8.171024</td>\n",
       "      <td>21.290640</td>\n",
       "      <td>4.065072</td>\n",
       "      <td>...</td>\n",
       "      <td>-3613.50</td>\n",
       "      <td>1.00</td>\n",
       "      <td>4.666667</td>\n",
       "      <td>6.333333</td>\n",
       "      <td>-9.833333</td>\n",
       "      <td>108.59</td>\n",
       "      <td>41112</td>\n",
       "      <td>1891.0</td>\n",
       "      <td>43.613907</td>\n",
       "      <td>40.344317</td>\n",
       "    </tr>\n",
       "    <tr>\n",
       "      <th>2</th>\n",
       "      <td>AIN</td>\n",
       "      <td>1</td>\n",
       "      <td>1995.0</td>\n",
       "      <td>3.155125</td>\n",
       "      <td>19.751523</td>\n",
       "      <td>20.553725</td>\n",
       "      <td>25.807688</td>\n",
       "      <td>11.073277</td>\n",
       "      <td>19.814177</td>\n",
       "      <td>3.932995</td>\n",
       "      <td>...</td>\n",
       "      <td>-3850.00</td>\n",
       "      <td>-47.25</td>\n",
       "      <td>9.166667</td>\n",
       "      <td>28.500000</td>\n",
       "      <td>-10.166667</td>\n",
       "      <td>127.35</td>\n",
       "      <td>56611</td>\n",
       "      <td>1949.0</td>\n",
       "      <td>35.559996</td>\n",
       "      <td>44.688481</td>\n",
       "    </tr>\n",
       "    <tr>\n",
       "      <th>3</th>\n",
       "      <td>AIN</td>\n",
       "      <td>1</td>\n",
       "      <td>2002.0</td>\n",
       "      <td>3.540833</td>\n",
       "      <td>25.246258</td>\n",
       "      <td>20.716478</td>\n",
       "      <td>37.217333</td>\n",
       "      <td>11.320086</td>\n",
       "      <td>8.927322</td>\n",
       "      <td>7.374661</td>\n",
       "      <td>...</td>\n",
       "      <td>-4745.00</td>\n",
       "      <td>-28.00</td>\n",
       "      <td>11.833333</td>\n",
       "      <td>24.750000</td>\n",
       "      <td>-3.250000</td>\n",
       "      <td>127.56</td>\n",
       "      <td>77698</td>\n",
       "      <td>1954.0</td>\n",
       "      <td>39.411224</td>\n",
       "      <td>35.342518</td>\n",
       "    </tr>\n",
       "    <tr>\n",
       "      <th>4</th>\n",
       "      <td>AIN</td>\n",
       "      <td>1</td>\n",
       "      <td>2007.0</td>\n",
       "      <td>1.344946</td>\n",
       "      <td>12.233715</td>\n",
       "      <td>20.826783</td>\n",
       "      <td>16.571575</td>\n",
       "      <td>6.279643</td>\n",
       "      <td>19.637678</td>\n",
       "      <td>3.020936</td>\n",
       "      <td>...</td>\n",
       "      <td>-3140.75</td>\n",
       "      <td>27.75</td>\n",
       "      <td>5.250000</td>\n",
       "      <td>25.583333</td>\n",
       "      <td>-8.083333</td>\n",
       "      <td>123.76</td>\n",
       "      <td>95093</td>\n",
       "      <td>2014.0</td>\n",
       "      <td>30.127362</td>\n",
       "      <td>57.638923</td>\n",
       "    </tr>\n",
       "  </tbody>\n",
       "</table>\n",
       "<p>5 rows × 70 columns</p>\n",
       "</div>"
      ],
      "text/plain": [
       "  d?partement code   Ann?e  taux_Blancs et nuls  taux_xdroite  taux_gauche  \\\n",
       "0         AIN    1  1981.0             1.604750      0.000000    27.982284   \n",
       "1         AIN    1  1988.0             1.879541     16.041776    31.377812   \n",
       "2         AIN    1  1995.0             3.155125     19.751523    20.553725   \n",
       "3         AIN    1  2002.0             3.540833     25.246258    20.716478   \n",
       "4         AIN    1  2007.0             1.344946     12.233715    20.826783   \n",
       "\n",
       "   taux_Abstention  taux_xgauche  taux_centre  taux_vert      ...       \\\n",
       "0        27.940015     14.888346    31.660729   4.226724      ...        \n",
       "1        23.877703      8.171024    21.290640   4.065072      ...        \n",
       "2        25.807688     11.073277    19.814177   3.932995      ...        \n",
       "3        37.217333     11.320086     8.927322   7.374661      ...        \n",
       "4        16.571575      6.279643    19.637678   3.020936      ...        \n",
       "\n",
       "   subventions  \\\n",
       "0     -1797.75   \n",
       "1     -3613.50   \n",
       "2     -3850.00   \n",
       "3     -4745.00   \n",
       "4     -3140.75   \n",
       "\n",
       "   conjoncture travaux publics-opinions sur le carnet de commandes  \\\n",
       "0                                             -48.00                 \n",
       "1                                               1.00                 \n",
       "2                                             -47.25                 \n",
       "3                                             -28.00                 \n",
       "4                                              27.75                 \n",
       "\n",
       "   capacit? epargne actuelle (augmentation moins diminution)  \\\n",
       "0                                           8.333333           \n",
       "1                                           4.666667           \n",
       "2                                           9.166667           \n",
       "3                                          11.833333           \n",
       "4                                           5.250000           \n",
       "\n",
       "   opportunite epargner(favorable moins favorable)  \\\n",
       "0                                       -31.916667   \n",
       "1                                         6.333333   \n",
       "2                                        28.500000   \n",
       "3                                        24.750000   \n",
       "4                                        25.583333   \n",
       "\n",
       "   capacite epargne future(am?lioration moins deterioration)  \\\n",
       "0                                         -18.666667           \n",
       "1                                          -9.833333           \n",
       "2                                         -10.166667           \n",
       "3                                          -3.250000           \n",
       "4                                          -8.083333           \n",
       "\n",
       "   densit?_m?decins  consommation menages - electricite  \\\n",
       "0             84.34                               21650   \n",
       "1            108.59                               41112   \n",
       "2            127.35                               56611   \n",
       "3            127.56                               77698   \n",
       "4            123.76                               95093   \n",
       "\n",
       "   nombre de logement vacant  taux_bgauche  taux_bdroite  \n",
       "0                        NaN     47.097355     52.902645  \n",
       "1                     1891.0     43.613907     40.344317  \n",
       "2                     1949.0     35.559996     44.688481  \n",
       "3                     1954.0     39.411224     35.342518  \n",
       "4                     2014.0     30.127362     57.638923  \n",
       "\n",
       "[5 rows x 70 columns]"
      ]
     },
     "execution_count": 6,
     "metadata": {},
     "output_type": "execute_result"
    }
   ],
   "source": [
    "dft11.head()"
   ]
  },
  {
   "cell_type": "code",
   "execution_count": 7,
   "metadata": {
    "collapsed": false
   },
   "outputs": [],
   "source": [
    "dft11[\"taux_sortie_sans_bloc\"] = np.nan \n",
    "dft11.ix[dft11[\"Ann?e\"]==1981,\"taux_sortie_sans_bloc\"] = dft11.ix[dft11[\"Ann?e\"]==1981,\"taux_centre\"]\n",
    "dft11.ix[dft11[\"Ann?e\"]==1988,\"taux_sortie_sans_bloc\"] = dft11.ix[dft11[\"Ann?e\"]==1988,\"taux_gauche\"]\n",
    "dft11.ix[dft11[\"Ann?e\"]==1995,\"taux_sortie_sans_bloc\"] = dft11.ix[dft11[\"Ann?e\"]==1995,\"taux_gauche\"]\n",
    "dft11.ix[dft11[\"Ann?e\"]==2002,\"taux_sortie_sans_bloc\"] = dft11.ix[dft11[\"Ann?e\"]==2002,\"taux_droite\"]\n",
    "dft11.ix[dft11[\"Ann?e\"]==2007,\"taux_sortie_sans_bloc\"] = dft11.ix[dft11[\"Ann?e\"]==2007,\"taux_droite\"]\n",
    "dft11.ix[dft11[\"Ann?e\"]==2012,\"taux_sortie_sans_bloc\"] = dft11.ix[dft11[\"Ann?e\"]==2012,\"taux_droite\"]"
   ]
  },
  {
   "cell_type": "code",
   "execution_count": 8,
   "metadata": {
    "collapsed": false
   },
   "outputs": [],
   "source": [
    "dft11[\"taux_sortie_avec_bloc\"] = np.nan \n",
    "dft11.ix[dft11[\"Ann?e\"]==1981,\"taux_sortie_avec_bloc\"] = dft11.ix[dft11[\"Ann?e\"]==1981,\"taux_centre\"] +\\\n",
    "dft11.ix[dft11[\"Ann?e\"]==1981,\"taux_droite\"]\n",
    "dft11.ix[dft11[\"Ann?e\"]==1988,\"taux_sortie_avec_bloc\"] = dft11.ix[dft11[\"Ann?e\"]==1988,\"taux_gauche\"]+\\\n",
    "dft11.ix[dft11[\"Ann?e\"]==1988,\"taux_xgauche\"] + dft11.ix[dft11[\"Ann?e\"]==1988,\"taux_vert\"]\n",
    "        \n",
    "dft11.ix[dft11[\"Ann?e\"]==1995,\"taux_sortie_avec_bloc\"] = dft11.ix[dft11[\"Ann?e\"]==1995,\"taux_gauche\"]+\\\n",
    "dft11.ix[dft11[\"Ann?e\"]==1995,\"taux_xgauche\"] + dft11.ix[dft11[\"Ann?e\"]==1995,\"taux_vert\"]\n",
    "\n",
    "dft11.ix[dft11[\"Ann?e\"]==2002,\"taux_sortie_avec_bloc\"] = dft11.ix[dft11[\"Ann?e\"]==2002,\"taux_droite\"]+\\\n",
    "dft11.ix[dft11[\"Ann?e\"]==2002,\"taux_centre\"]\n",
    "dft11.ix[dft11[\"Ann?e\"]==2007,\"taux_sortie_avec_bloc\"] = dft11.ix[dft11[\"Ann?e\"]==2007,\"taux_droite\"]+\\\n",
    "dft11.ix[dft11[\"Ann?e\"]==2007,\"taux_centre\"]\n",
    "dft11.ix[dft11[\"Ann?e\"]==2012,\"taux_sortie_avec_bloc\"] = dft11.ix[dft11[\"Ann?e\"]==2012,\"taux_droite\"]+\\\n",
    "dft11.ix[dft11[\"Ann?e\"]==2012,\"taux_centre\"]"
   ]
  },
  {
   "cell_type": "code",
   "execution_count": 9,
   "metadata": {
    "collapsed": false
   },
   "outputs": [],
   "source": [
    "#Taux_supp_moyenne sortant\n",
    "#Popularité sortant \n",
    "\n",
    "dft11[\"ecart_pop\"] = dft11[\"pop_president\"] - dft11[\"pop_premier_ministre\"] \n",
    "dft11[\"pop_exec\"] = np.nan \n",
    "dft11.ix[dft11[\"Ann?e\"]==1981,\"pop_exec\"] = dft11.ix[dft11[\"Ann?e\"]==1981,\"pop_president\"].iloc[0]\n",
    "dft11.ix[dft11[\"Ann?e\"]==1988,\"pop_exec\"] = dft11.ix[dft11[\"Ann?e\"]==1988,\"pop_president\"].iloc[0]\n",
    "dft11.ix[dft11[\"Ann?e\"]==2012,\"pop_exec\"] = dft11.ix[dft11[\"Ann?e\"]==2012,\"pop_president\"].iloc[0]\n",
    "dft11.ix[dft11[\"Ann?e\"]==1995,\"pop_exec\"] = dft11.ix[dft11[\"Ann?e\"]==1995,\"pop_premier_ministre\"].iloc[0]\n",
    "dft11.ix[dft11[\"Ann?e\"]==2002,\"pop_exec\"] = dft11.ix[dft11[\"Ann?e\"]==2002,\"pop_premier_ministre\"].iloc[0]\n",
    "dft11.ix[dft11[\"Ann?e\"]==2007,\"pop_exec\"] = dft11.ix[dft11[\"Ann?e\"]==2007,\"pop_premier_ministre\"].iloc[0]\n",
    "\n",
    "dft11.ix[dft11[\"Ann?e\"]==1981,\"pop_xdroite\"] = dft11.ix[dft11[\"Ann?e\"]==1988,\"pop_xdroite\"].iloc[0]\n",
    "dft11.ix[dft11[\"Ann?e\"]==1981,\"pop_verts\"] = dft11.ix[dft11[\"Ann?e\"]==1995,\"pop_verts\"].iloc[0]\n",
    "dft11.ix[dft11[\"Ann?e\"]==1988,\"pop_verts\"] = dft11.ix[dft11[\"Ann?e\"]==1995,\"pop_verts\"].iloc[0]\n",
    "\n",
    "dft11.ix[dft11[\"Ann?e\"]==1981,\"nombre de logement vacant\"] = 1891."
   ]
  },
  {
   "cell_type": "code",
   "execution_count": 10,
   "metadata": {
    "collapsed": true
   },
   "outputs": [],
   "source": [
    "# On rajoute après coup l'option fn qui permet de supprimer l'année 1981"
   ]
  },
  {
   "cell_type": "code",
   "execution_count": 11,
   "metadata": {
    "collapsed": false
   },
   "outputs": [],
   "source": [
    "def create_train(target, dft11, option_fn=False):\n",
    "    dft11[\"CORS88\"] = dft11.apply(lambda row : 1 if row[\"Ann?e\"]==1988 and \n",
    "                              row[\"code\"] in [\"2A\",\"2B\"] else 0, axis=1)\n",
    "\n",
    "    dft11[\"CORS02\"] = dft11.apply(lambda row : 1 if row[\"Ann?e\"]==2002 and \n",
    "                              row[\"code\"] in [\"2A\",\"2B\"] else 0, axis=1)\n",
    "    \n",
    "    dft12 = dft11.drop([\"code\", 'taux_Blancs et nuls', 'taux_droite', 'taux_xgauche',\\\n",
    "                    'taux_vert','taux_centre', 'Q1_rate', 'Q2_rate', 'Q3_rate', 'Q4_rate', \"Total\", \\\n",
    "                   'depart_OM', \"Date\",\"taux_Abstention_sup_moyenne\",'taux_Blancs et nuls_sup_moyenne',\n",
    "                        'depart_CORSE'], axis=1)\n",
    "    \n",
    "    dft12[\"Date\"] = dft12[\"Ann?e\"] - 1981\n",
    "    \n",
    "\n",
    "\n",
    "    \n",
    "    list_dell = [\"Ann?e\",\"d?partement\",\"taux_bgauche\",'taux_Abstention',\"taux_sortie_sans_bloc\",\n",
    "                \"taux_sortie_avec_bloc\",\"taux_gauche\", 'taux_xdroite',\"taux_bdroite\"]\n",
    "\n",
    "    \n",
    "    \n",
    "    \n",
    "    if option_fn==True:\n",
    "        dft12 = dft12[dft12[\"Ann?e\"]!=1981]\n",
    "        \n",
    "\n",
    "    \n",
    "    df_train_x = dft12.drop(list_dell, axis=1)\n",
    "    df_train_y = dft12[target]\n",
    "    \n",
    "    return df_train_x, df_train_y"
   ]
  },
  {
   "cell_type": "code",
   "execution_count": 12,
   "metadata": {
    "collapsed": true
   },
   "outputs": [],
   "source": [
    "def create_train_and_test(target, dft11, option_fn=False):\n",
    "\n",
    "    dft11[\"CORS88\"] = dft11.apply(lambda row : 1 if row[\"Ann?e\"]==1988 and \n",
    "                              row[\"code\"] in [\"2A\",\"2B\"] else 0, axis=1)\n",
    "\n",
    "    dft11[\"CORS02\"] = dft11.apply(lambda row : 1 if row[\"Ann?e\"]==2002 and \n",
    "                              row[\"code\"] in [\"2A\",\"2B\"] else 0, axis=1)\n",
    "    \n",
    "    dft12 = dft11.drop([\"code\", 'taux_Blancs et nuls', 'taux_droite', 'taux_xgauche',\\\n",
    "                    'taux_vert','taux_centre', 'Q1_rate', 'Q2_rate', 'Q3_rate', 'Q4_rate', \"Total\", \\\n",
    "                   'depart_OM', \"Date\",\"taux_Abstention_sup_moyenne\",'taux_Blancs et nuls_sup_moyenne',\n",
    "                        'depart_CORSE'], axis=1)\n",
    "    \n",
    "    dft12[\"Date\"] = dft12[\"Ann?e\"] - 1981\n",
    "    \n",
    "\n",
    "\n",
    "    \n",
    "    list_dell = [\"Ann?e\",\"d?partement\",\"taux_bgauche\",'taux_Abstention',\"taux_sortie_sans_bloc\",\n",
    "                \"taux_sortie_avec_bloc\",\"taux_gauche\", 'taux_xdroite',\"taux_bdroite\"]\n",
    "\n",
    "    \n",
    "    df_train = dft12[dft12[\"Ann?e\"]!=2012]\n",
    "    \n",
    "    if option_fn==True:\n",
    "        df_train = df_train[df_train[\"Ann?e\"]!=1981]\n",
    "        \n",
    "    df_test = dft12[dft12[\"Ann?e\"]==2012]\n",
    "    \n",
    "    df_train_x = df_train.drop(list_dell, axis=1)\n",
    "    df_train_y = df_train[target]\n",
    "    df_test_x = df_test.drop(list_dell, axis=1)\n",
    "    df_test_y = df_test[target]\n",
    "    \n",
    "    return df_train_x, df_train_y, df_test_x, df_test_y"
   ]
  },
  {
   "cell_type": "code",
   "execution_count": 13,
   "metadata": {
    "collapsed": false
   },
   "outputs": [],
   "source": [
    "def target_and_predict(target, dft11, estimator, importance_features=False,  option_fn=False):\n",
    "\n",
    "    df_train_x, df_train_y, df_test_x, df_test_y = create_train_and_test(target, dft11,  option_fn=option_fn)\n",
    "   \n",
    "    svr.fit(df_train_x, df_train_y)\n",
    "    print(\"Avec l'estimateur %s\" % str(estimator))\n",
    "    print(\"Approche %s\" % target)\n",
    "    print(\"Nb itération : %s\" % svr.n_iter_)\n",
    "    print(\"MSE test : %s\" % metrics.mean_squared_error(df_test_y, svr.predict(df_test_x)))\n",
    "    print(\"MAE test : %s\" % metrics.mean_absolute_error(df_test_y, svr.predict(df_test_x)))\n",
    "    print(\"R2 test : %s \" % svr.score(df_test_x, df_test_y))\n",
    "\n",
    "    if importance_features==True :\n",
    "        print(\"\\n\")\n",
    "        print(\"Features à garder\")\n",
    "        vec_features = zip(svr.coef_, df_train_x.columns)\n",
    "        vec_features = sorted(vec_features)\n",
    "\n",
    "        for i in range(len(vec_features)):\n",
    "            if vec_features[i][0]!=0:\n",
    "                print( vec_features[i][0],  vec_features[i][1])\n",
    "\n",
    "    print(\"\\n\")\n",
    "    "
   ]
  },
  {
   "cell_type": "code",
   "execution_count": 14,
   "metadata": {
    "collapsed": true
   },
   "outputs": [],
   "source": [
    "def my_Lslasso(data, target, alpha_value,  option_fn=False, normalize=True, max_iter=5000):\n",
    "    \n",
    "    print(alpha_value)\n",
    "    df_train_x, df_train_y, df_test_x, df_test_y = create_train_and_test(target, data, option_fn=option_fn)\n",
    "    svr = linear_model.Lasso(alpha=alpha_value, normalize=normalize, max_iter=max_iter, random_state=42)\n",
    "    svr.fit(df_train_x, df_train_y)\n",
    "    \n",
    "    if svr.n_iter_ == max_iter :\n",
    "        print(\"L'itération n'a pas convergé\")\n",
    "        \n",
    "    try :\n",
    "        df_train_x_select_features = df_train_x.ix[:,svr.coef_!=0]\n",
    "        df_test_x_select_features = df_test_x.ix[:,svr.coef_!=0]\n",
    "\n",
    "        print(df_train_x.columns[svr.coef_!=0])\n",
    "        \n",
    "        lr = LinearRegression(fit_intercept=True, normalize=True)\n",
    "        lr.fit(df_train_x_select_features, df_train_y)\n",
    "        print(\"R2 train %s\" % lr.score(df_train_x_select_features, df_train_y))\n",
    "        print(\"MAE test %s\" % metrics.mean_absolute_error(df_test_y, lr.predict(df_test_x_select_features)))\n",
    "        \n",
    "    except ValueError :\n",
    "            print(\"Tout les coéfficients sont nuls\")"
   ]
  },
  {
   "cell_type": "code",
   "execution_count": 15,
   "metadata": {
    "collapsed": true
   },
   "outputs": [],
   "source": [
    "def my_LsElasticNet(data, target, alpha_value, ratio, option_fn=False):\n",
    "    \n",
    "    print(\"Alpha value %s\" % alpha_value)\n",
    "    print(\"Ratio %s\" % ratio)\n",
    "    df_train_x, df_train_y, df_test_x, df_test_y = create_train_and_test(target, data,  option_fn=option_fn)\n",
    "    en = ElasticNet(alpha=alpha_value, l1_ratio=ratio, fit_intercept=True, normalize=True, \n",
    "               max_iter=5000 ,random_state=42)\n",
    "    \n",
    "    en.fit(df_train_x, df_train_y)\n",
    "    \n",
    "    if en.n_iter_ == 5000 :\n",
    "        print(\"L'itération n'a pas convergé\")\n",
    "        \n",
    "    try :\n",
    "        df_train_x_select_features = df_train_x.ix[:,en.coef_!=0]\n",
    "        df_test_x_select_features = df_test_x.ix[:,en.coef_!=0]\n",
    "\n",
    "        #print(df_train_x.columns[en.coef_!=0])\n",
    "        \n",
    "        lr = LinearRegression(fit_intercept=True, normalize=True)\n",
    "        lr.fit(df_train_x_select_features, df_train_y)\n",
    "\n",
    "        print(metrics.mean_absolute_error(df_test_y, lr.predict(df_test_x_select_features)))\n",
    "        \n",
    "    except ValueError :\n",
    "            print(\"Tout les coéfficients sont nuls\")"
   ]
  },
  {
   "cell_type": "code",
   "execution_count": 16,
   "metadata": {
    "collapsed": true
   },
   "outputs": [],
   "source": [
    "def r2_adjusted(df_x, df_y, p, estimator):\n",
    "    r2 = estimator.score(df_train_x_select_features, df_train_y)\n",
    "    n = df_x.shape[0]\n",
    "    return 1 - (((1- r2)*(n-1))/ (n-p-1))"
   ]
  },
  {
   "cell_type": "markdown",
   "metadata": {},
   "source": [
    "## Prédiction Xdroite"
   ]
  },
  {
   "cell_type": "code",
   "execution_count": 17,
   "metadata": {
    "collapsed": false
   },
   "outputs": [
    {
     "name": "stdout",
     "output_type": "stream",
     "text": [
      "Avec l'estimateur Lasso(alpha=0.01, copy_X=True, fit_intercept=True, max_iter=5000,\n",
      "   normalize=True, positive=False, precompute=False, random_state=42,\n",
      "   selection='cyclic', tol=0.0001, warm_start=False)\n",
      "Approche taux_xdroite\n",
      "Nb itération : 768\n",
      "MSE test : 24.7358653774\n",
      "MAE test : 4.1509702992\n",
      "R2 test : -0.269189517441 \n",
      "\n",
      "\n",
      "Features à garder\n",
      "-6.02729378007 droite_au_pouvoir\n",
      "-0.278220863425 taux_droite_sup_moyenne\n",
      "-0.00101492786325 subventions\n",
      "0.0205841846989 pop_centre\n",
      "0.0789348168571 persistance_centre_droite\n",
      "0.0901913703042 taux_chomage\n",
      "0.37052550657 capacite epargne future(am?lioration moins deterioration)\n",
      "0.398854575908 Dissident\n",
      "0.779368409633 depart_frontalier\n",
      "2.03336058979 taux_xdroite_sup_moyenne\n",
      "\n",
      "\n"
     ]
    }
   ],
   "source": [
    "svr = linear_model.Lasso(alpha=0.01, normalize=True, max_iter=5000, random_state=42)\n",
    "target_and_predict(\"taux_xdroite\",dft11, svr, True)"
   ]
  },
  {
   "cell_type": "code",
   "execution_count": 18,
   "metadata": {
    "collapsed": false,
    "scrolled": true
   },
   "outputs": [
    {
     "name": "stdout",
     "output_type": "stream",
     "text": [
      "0.06\n",
      "2.82721582747\n",
      "\n",
      "\n",
      "0.0666666666667\n",
      "2.7786878123\n",
      "\n",
      "\n",
      "0.0733333333333\n",
      "2.7527189425\n",
      "\n",
      "\n",
      "0.08\n",
      "2.87747884185\n",
      "\n",
      "\n",
      "Avec l'estimateur Lasso(alpha=0.07, copy_X=True, fit_intercept=True, max_iter=5000,\n",
      "   normalize=True, positive=False, precompute=False, random_state=42,\n",
      "   selection='cyclic', tol=0.0001, warm_start=False)\n",
      "Approche taux_xdroite\n",
      "Nb itération : 31\n",
      "MSE test : 11.6402015673\n",
      "MAE test : 2.75958798696\n",
      "R2 test : 0.402744897554 \n",
      "\n",
      "\n",
      "Features à garder\n",
      "-0.333602905988 droite_au_pouvoir\n",
      "-0.00432439878683 subventions\n",
      "1.23665150143 taux_xdroite_sup_moyenne\n",
      "\n",
      "\n"
     ]
    }
   ],
   "source": [
    "df_train_x, df_train_y, df_test_x, df_test_y = create_train_and_test(\"taux_xdroite\", dft11)\n",
    "\n",
    "for i in np.linspace(0.06,0.08,4):\n",
    "    print(i)\n",
    "    svr = linear_model.Lasso(alpha=i, normalize=True, max_iter=5000, random_state=42)\n",
    "    svr.fit(df_train_x, df_train_y)\n",
    "    print(metrics.mean_absolute_error(df_test_y, svr.predict(df_test_x)))\n",
    "    print(\"\\n\")\n",
    "    \n",
    "# Best param = 0.07\n",
    "svr = linear_model.Lasso(alpha=0.07, normalize=True, max_iter=5000, random_state=42)\n",
    "target_and_predict(\"taux_xdroite\",dft11, svr, True)\n",
    "# Conserve seulement 3 variables"
   ]
  },
  {
   "cell_type": "code",
   "execution_count": 19,
   "metadata": {
    "collapsed": false
   },
   "outputs": [
    {
     "name": "stdout",
     "output_type": "stream",
     "text": [
      "2.75972083546\n"
     ]
    }
   ],
   "source": [
    "df_train_x_select_features = df_train_x.ix[:, [\"droite_au_pouvoir\",\"subventions\",\n",
    "                                               \"taux_xdroite_sup_moyenne\",\"Dissident\"]]\n",
    "df_test_x_select_features = df_test_x.ix[:, [\"droite_au_pouvoir\",\"subventions\",\n",
    "                                               \"taux_xdroite_sup_moyenne\",\"Dissident\"]]\n",
    "\n",
    "svr.fit(df_train_x_select_features, df_train_y)\n",
    "print(metrics.mean_absolute_error(df_test_y, svr.predict(df_test_x_select_features)))"
   ]
  },
  {
   "cell_type": "code",
   "execution_count": 20,
   "metadata": {
    "collapsed": false,
    "scrolled": true
   },
   "outputs": [
    {
     "name": "stdout",
     "output_type": "stream",
     "text": [
      "0.07\n",
      "Index(['taux_xdroite_sup_moyenne', 'droite_au_pouvoir', 'subventions'], dtype='object')\n",
      "R2 train 0.876332493133\n",
      "MAE test 3.79294777677\n",
      "\n",
      "\n",
      "0.0757142857143\n",
      "Index(['taux_xdroite_sup_moyenne', 'subventions'], dtype='object')\n",
      "R2 train 0.849593597988\n",
      "MAE test 2.35596459323\n",
      "\n",
      "\n",
      "0.0814285714286\n",
      "Index(['taux_xdroite_sup_moyenne', 'subventions'], dtype='object')\n",
      "R2 train 0.849593597988\n",
      "MAE test 2.35596459323\n",
      "\n",
      "\n",
      "0.0871428571429\n",
      "Index(['taux_xdroite_sup_moyenne', 'subventions'], dtype='object')\n",
      "R2 train 0.849593597988\n",
      "MAE test 2.35596459323\n",
      "\n",
      "\n",
      "0.0928571428571\n",
      "Index(['taux_xdroite_sup_moyenne', 'subventions'], dtype='object')\n",
      "R2 train 0.849593597988\n",
      "MAE test 2.35596459323\n",
      "\n",
      "\n",
      "0.0985714285714\n",
      "Index(['taux_xdroite_sup_moyenne', 'subventions'], dtype='object')\n",
      "R2 train 0.849593597988\n",
      "MAE test 2.35596459323\n",
      "\n",
      "\n",
      "0.104285714286\n",
      "Index(['taux_xdroite_sup_moyenne', 'subventions'], dtype='object')\n",
      "R2 train 0.849593597988\n",
      "MAE test 2.35596459323\n",
      "\n",
      "\n",
      "0.11\n",
      "Index(['taux_xdroite_sup_moyenne', 'subventions'], dtype='object')\n",
      "R2 train 0.849593597988\n",
      "MAE test 2.35596459323\n",
      "\n",
      "\n"
     ]
    }
   ],
   "source": [
    "for i in np.linspace(0.07,0.11,8):\n",
    "    my_Lslasso(dft11,\"taux_xdroite\", i)\n",
    "    print(\"\\n\")"
   ]
  },
  {
   "cell_type": "code",
   "execution_count": 21,
   "metadata": {
    "collapsed": false,
    "scrolled": true
   },
   "outputs": [
    {
     "name": "stdout",
     "output_type": "stream",
     "text": [
      "Alpha value 0.1\n",
      "Ratio 0.0\n",
      "L'itération n'a pas convergé\n",
      "6.70090226297e+13\n",
      "Alpha value 0.1\n",
      "Ratio 0.1\n"
     ]
    },
    {
     "name": "stderr",
     "output_type": "stream",
     "text": [
      "/home/brehelin/anaconda3/lib/python3.5/site-packages/sklearn/linear_model/coordinate_descent.py:470: UserWarning: Coordinate descent with alpha=0 may lead to unexpected results and is discouraged.\n",
      "  positive)\n",
      "/home/brehelin/anaconda3/lib/python3.5/site-packages/sklearn/linear_model/coordinate_descent.py:484: ConvergenceWarning: Objective did not converge. You might want to increase the number of iterations. Fitting data with very small alpha may cause precision problems.\n",
      "  ConvergenceWarning)\n"
     ]
    },
    {
     "name": "stdout",
     "output_type": "stream",
     "text": [
      "1.58944700244e+13\n",
      "Alpha value 0.1\n",
      "Ratio 0.2\n",
      "5.27844409533e+13\n",
      "Alpha value 0.1\n",
      "Ratio 0.3\n",
      "2.3679094218e+13\n",
      "Alpha value 0.1\n",
      "Ratio 0.4\n",
      "7.72583170602e+13\n",
      "Alpha value 0.1\n",
      "Ratio 0.5\n",
      "2.9929119838e+12\n",
      "Alpha value 0.1\n",
      "Ratio 0.6\n",
      "1.16736455329e+13\n",
      "Alpha value 0.1\n",
      "Ratio 0.7\n",
      "2.30840271305e+12\n",
      "Alpha value 0.1\n",
      "Ratio 0.8\n",
      "7.76452772512e+12\n",
      "Alpha value 0.1\n",
      "Ratio 0.9\n",
      "1.2462126971e+13\n",
      "Alpha value 0.1\n",
      "Ratio 1.0\n",
      "2.35596459323\n",
      "Alpha value 0.5\n",
      "Ratio 0.0\n",
      "L'itération n'a pas convergé\n",
      "6.70090226297e+13\n",
      "Alpha value 0.5\n",
      "Ratio 0.1\n",
      "7.72583170602e+13\n",
      "Alpha value 0.5\n",
      "Ratio 0.2\n",
      "1.54517979778e+14\n",
      "Alpha value 0.5\n",
      "Ratio 0.3\n",
      "1.99820341298e+13\n",
      "Alpha value 0.5\n",
      "Ratio 0.4\n",
      "8.01748829624\n",
      "Alpha value 0.5\n",
      "Ratio 0.5\n",
      "4.00362228673\n",
      "Alpha value 0.5\n",
      "Ratio 0.6\n",
      "Tout les coéfficients sont nuls\n",
      "Alpha value 0.5\n",
      "Ratio 0.7\n",
      "Tout les coéfficients sont nuls\n",
      "Alpha value 0.5\n",
      "Ratio 0.8\n",
      "Tout les coéfficients sont nuls\n",
      "Alpha value 0.5\n",
      "Ratio 0.9\n",
      "Tout les coéfficients sont nuls\n",
      "Alpha value 0.5\n",
      "Ratio 1.0\n",
      "Tout les coéfficients sont nuls\n"
     ]
    }
   ],
   "source": [
    "for i in [0.1,0.5]:\n",
    "    for j in np.linspace(0,1,11):\n",
    "        my_LsElasticNet(dft11, \"taux_xdroite\",i, j)"
   ]
  },
  {
   "cell_type": "markdown",
   "metadata": {},
   "source": [
    "Après tentative de sélection par lasso, lsLasso, et lsElasticNet:  \n",
    "Le modèle le plus performant est 'taux_xdroite_sup_moyenne', 'subventions' avec alpha = 0.1  \n",
    "*On obtient une MAE à 2.35*"
   ]
  },
  {
   "cell_type": "code",
   "execution_count": 22,
   "metadata": {
    "collapsed": false
   },
   "outputs": [
    {
     "data": {
      "image/png": "[encoded data removed]",
      "text/plain": [
       "<matplotlib.figure.Figure at 0x7fc9d925ea20>"
      ]
     },
     "metadata": {},
     "output_type": "display_data"
    }
   ],
   "source": [
    "liste_features = [\"taux_xdroite\",\"droite_au_pouvoir\",\"taux_droite_sup_moyenne\",\"subventions\",\"pop_centre\",\n",
    "                 \"persistance_centre_droite\",\"taux_chomage\",\"capacite epargne future(am?lioration moins deterioration)\",\n",
    "                 \"Dissident\",\"depart_frontalier\",\"taux_xdroite_sup_moyenne\"]\n",
    "xdroite_mat = dft11.ix[:, liste_features].corr()\n",
    "# Set up the matplotlib figure\n",
    "f, ax = plt.subplots(figsize=(12, 9))\n",
    "# Draw the heatmap using seaborn\n",
    "sns.heatmap(xdroite_mat, vmax=1, square=True)\n",
    "plt.title(\"HeatMap avec les variables d'extraites du Lasso\")\n",
    "plt.show()"
   ]
  },
  {
   "cell_type": "code",
   "execution_count": 23,
   "metadata": {
    "collapsed": false
   },
   "outputs": [
    {
     "name": "stdout",
     "output_type": "stream",
     "text": [
      "(-0.84013165537400447, 1.227717388682091e-154)\n",
      "SpearmanrResult(correlation=-0.75433624492940221, pvalue=5.4005301614771731e-107)\n",
      "(0.8118589685271328, 2.9573019470585734e-136)\n",
      "SpearmanrResult(correlation=0.63771037945936282, pvalue=4.4840183388346038e-67)\n"
     ]
    }
   ],
   "source": [
    "# Corrélation significative\n",
    "print(pearsonr(dft11.ix[:, \"subventions\"], dft11.ix[:, \"taux_xdroite\"]))\n",
    "print(spearmanr(dft11.ix[:, \"subventions\"], dft11.ix[:, \"taux_xdroite\"]))\n",
    "print(pearsonr(dft11.ix[:, \"capacite epargne future(am?lioration moins deterioration)\"], dft11.ix[:, \"taux_xdroite\"]))\n",
    "print(spearmanr(dft11.ix[:, \"capacite epargne future(am?lioration moins deterioration)\"], dft11.ix[:, \"taux_xdroite\"]))"
   ]
  },
  {
   "cell_type": "code",
   "execution_count": 24,
   "metadata": {
    "collapsed": false
   },
   "outputs": [
    {
     "name": "stdout",
     "output_type": "stream",
     "text": [
      "(-0.59582438975884333, 1.225067734075299e-56)\n",
      "SpearmanrResult(correlation=-0.6263621171933339, pvalue=4.3357982416088859e-64)\n",
      "\n",
      "\n",
      "(-0.38911000369492599, 2.916719686761421e-22)\n",
      "SpearmanrResult(correlation=-0.34286688601877469, pvalue=2.4754580747047025e-17)\n"
     ]
    }
   ],
   "source": [
    "print(pearsonr(dft11.ix[:, \"taux_bdroite\"], dft11.ix[:, \"taux_xdroite\"]))\n",
    "print(spearmanr(dft11.ix[:, \"taux_bdroite\"], dft11.ix[:, \"taux_xdroite\"]))\n",
    "print(\"\\n\")\n",
    "print(pearsonr(dft11.ix[:, \"taux_bgauche\"], dft11.ix[:, \"taux_xdroite\"]))\n",
    "print(spearmanr(dft11.ix[:, \"taux_bgauche\"], dft11.ix[:, \"taux_xdroite\"]))"
   ]
  },
  {
   "cell_type": "code",
   "execution_count": 25,
   "metadata": {
    "collapsed": false
   },
   "outputs": [
    {
     "data": {
      "image/png": "[encoded data removed]",
      "text/plain": [
       "<matplotlib.figure.Figure at 0x7fc9d919e198>"
      ]
     },
     "metadata": {},
     "output_type": "display_data"
    }
   ],
   "source": [
    "plt.plot(dft11.ix[:, \"subventions\"], dft11.ix[:, \"taux_xdroite\"],\"*\")\n",
    "plt.show()"
   ]
  },
  {
   "cell_type": "code",
   "execution_count": 26,
   "metadata": {
    "collapsed": false
   },
   "outputs": [
    {
     "data": {
      "image/png": "[encoded data removed]",
      "text/plain": [
       "<matplotlib.figure.Figure at 0x7fc9d599a198>"
      ]
     },
     "metadata": {},
     "output_type": "display_data"
    }
   ],
   "source": [
    "liste_features = [\"taux_xdroite\",'subventions', \"taux_xdroite_sup_moyenne\",'Date',\n",
    "                 '40-59ans','75+ans','pop_xgauche','consommation menages - electricite',\n",
    "                 'importations','pop_verts','Superficie ','0-19ans',\"taux_chomage\",\"var_chomage_annee\"]\n",
    "xdroite_mat = dft11.ix[:, liste_features].corr()\n",
    "# Set up the matplotlib figure\n",
    "f, ax = plt.subplots(figsize=(12, 9))\n",
    "# Draw the heatmap using seaborn\n",
    "sns.heatmap(xdroite_mat, vmax=1, square=True)\n",
    "plt.title(\"HeatMap avec les variables d'extraites d'un RFE\")\n",
    "plt.show()"
   ]
  },
  {
   "cell_type": "markdown",
   "metadata": {},
   "source": [
    "Subvention est trop corrélé à la cible et est donc très colléré à nos variables discriminante\n",
    "l'ajout de variable n'améliore pas le modèle\n",
    "par ailleurs supprimer subvention pourrie notre modèle\n",
    "#### Suppression de l'année 1981 pour le fn"
   ]
  },
  {
   "cell_type": "code",
   "execution_count": 27,
   "metadata": {
    "collapsed": false
   },
   "outputs": [
    {
     "name": "stdout",
     "output_type": "stream",
     "text": [
      "Avec l'estimateur Lasso(alpha=0.01, copy_X=True, fit_intercept=True, max_iter=5000,\n",
      "   normalize=True, positive=False, precompute=False, random_state=42,\n",
      "   selection='cyclic', tol=0.0001, warm_start=False)\n",
      "Approche taux_xdroite\n",
      "Nb itération : 43\n",
      "MSE test : 18.4688825759\n",
      "MAE test : 3.58549726513\n",
      "R2 test : 0.0523674103745 \n",
      "\n",
      "\n",
      "Features à garder\n",
      "-1.30296397075 droite_au_pouvoir\n",
      "-0.592447289653 taux_droite_sup_moyenne\n",
      "-0.390241643513 persistance centre\n",
      "-0.385210533538 taux_gauche_sup_moyenne\n",
      "-0.174117226629 taux_vert_sup_moyenne\n",
      "-0.0039511762261 subventions\n",
      "-9.07771521483e-05 Densit?\n",
      "0.00533523708396 pop_president\n",
      "0.136071314962 persistance_centre_droite\n",
      "1.14507709434 depart_frontalier\n",
      "1.65568037417 taux_xdroite_sup_moyenne\n",
      "7.58921895537 Nombre total de mariages domicili?s\n",
      "\n",
      "\n"
     ]
    }
   ],
   "source": [
    "svr = linear_model.Lasso(alpha=0.01, normalize=True, max_iter=5000, random_state=42)\n",
    "target_and_predict(\"taux_xdroite\",dft11, svr, True, True)\n",
    "# Amélioration avec la supprésion de l'année 1981 4.15 vs 3.58"
   ]
  },
  {
   "cell_type": "code",
   "execution_count": 28,
   "metadata": {
    "collapsed": false
   },
   "outputs": [
    {
     "name": "stdout",
     "output_type": "stream",
     "text": [
      "0.01\n",
      "Index(['depart_frontalier', 'Nombre total de mariages domicili?s',\n",
      "       'taux_droite_sup_moyenne', 'taux_gauche_sup_moyenne',\n",
      "       'taux_vert_sup_moyenne', 'taux_xdroite_sup_moyenne', 'pop_president',\n",
      "       'droite_au_pouvoir', 'Densit?', 'persistance centre',\n",
      "       'persistance_centre_droite', 'subventions'],\n",
      "      dtype='object')\n",
      "R2 train 0.768032668087\n",
      "MAE test 3.88253256098\n",
      "\n",
      "\n",
      "0.1\n",
      "Index(['taux_xdroite_sup_moyenne', 'subventions'], dtype='object')\n",
      "R2 train 0.614531693101\n",
      "MAE test 2.30368315506\n",
      "\n",
      "\n",
      "0.2\n",
      "Index([], dtype='object')\n",
      "Tout les coéfficients sont nuls\n",
      "\n",
      "\n"
     ]
    }
   ],
   "source": [
    "for i in [0.01, 0.1,0.2]:\n",
    "    my_Lslasso(dft11,\"taux_xdroite\", i, True)\n",
    "    print(\"\\n\")"
   ]
  },
  {
   "cell_type": "code",
   "execution_count": 29,
   "metadata": {
    "collapsed": true
   },
   "outputs": [],
   "source": [
    "# Création new variable\n",
    "df_train_x, df_train_y, df_test_x, df_test_y = create_train_and_test(\"taux_xdroite\", dft11, option_fn=True)"
   ]
  },
  {
   "cell_type": "code",
   "execution_count": 30,
   "metadata": {
    "collapsed": false
   },
   "outputs": [
    {
     "name": "stdout",
     "output_type": "stream",
     "text": [
      "2.30368315506\n"
     ]
    }
   ],
   "source": [
    "model = LinearRegression()\n",
    "ss = StandardScaler()\n",
    "\n",
    "df_train_x_select_features = df_train_x.ix[:, [\"subventions\",\n",
    "                                               \"taux_xdroite_sup_moyenne\"]]\n",
    "df_test_x_select_features = df_test_x.ix[:, [\"subventions\",\n",
    "                                               \"taux_xdroite_sup_moyenne\"]]\n",
    "df_train_x_select_features = ss.fit_transform(df_train_x_select_features)\n",
    "df_test_x_select_features = ss.transform(df_test_x_select_features)\n",
    "\n",
    "model.fit(df_train_x_select_features, df_train_y)\n",
    "print(metrics.mean_absolute_error(df_test_y, model.predict(df_test_x_select_features)))"
   ]
  },
  {
   "cell_type": "code",
   "execution_count": 31,
   "metadata": {
    "collapsed": false
   },
   "outputs": [
    {
     "data": {
      "text/plain": [
       "19.343900573346186"
      ]
     },
     "execution_count": 31,
     "metadata": {},
     "output_type": "execute_result"
    }
   ],
   "source": [
    "np.mean(model.predict(df_test_x_select_features))"
   ]
  },
  {
   "cell_type": "code",
   "execution_count": 32,
   "metadata": {
    "collapsed": false
   },
   "outputs": [
    {
     "name": "stdout",
     "output_type": "stream",
     "text": [
      "Avec l'estimateur Lasso(alpha=0.8, copy_X=True, fit_intercept=True, max_iter=5000,\n",
      "   normalize=False, positive=False, precompute=False, random_state=42,\n",
      "   selection='cyclic', tol=0.0001, warm_start=False)\n",
      "Approche taux_xdroite\n",
      "Nb itération : 2573\n",
      "MSE test : 10.3632817004\n",
      "MAE test : 2.72823289051\n",
      "R2 test : 0.468263256623 \n",
      "\n",
      "\n",
      "Features à garder\n",
      "-0.231598709707 taux_droite_sup_moyenne\n",
      "-0.00504241197113 subventions\n",
      "-0.000452981109736 Densit?\n",
      "-0.000359320463023 Superficie \n",
      "-0.000202734325943 consommation menages - electricite\n",
      "2.90254064024e-06 0-19ans\n",
      "8.76729260297e-05 importations\n",
      "0.0136742286915 densit?_m?decins\n",
      "1.7058732295 taux_xdroite_sup_moyenne\n",
      "\n",
      "\n"
     ]
    }
   ],
   "source": [
    "# Analyse sans normaliser les données\n",
    "svr = linear_model.Lasso(alpha=0.8, normalize=False, max_iter=5000, random_state=42)\n",
    "target_and_predict(\"taux_xdroite\",dft11, svr, True, True)\n",
    "# Sans normaliser encore plus performant"
   ]
  },
  {
   "cell_type": "code",
   "execution_count": 33,
   "metadata": {
    "collapsed": false,
    "scrolled": true
   },
   "outputs": [
    {
     "name": "stdout",
     "output_type": "stream",
     "text": [
      "0.6\n",
      "Index(['0-19ans', '60-74ans', 'taux_chomage', 'taux_droite_sup_moyenne',\n",
      "       'taux_gauche_sup_moyenne', 'taux_xdroite_sup_moyenne', 'Superficie ',\n",
      "       'Densit?', 'importations', 'subventions', 'densit?_m?decins',\n",
      "       'consommation menages - electricite'],\n",
      "      dtype='object')\n",
      "R2 train 0.756247067354\n",
      "MAE test 3.09157466417\n",
      "\n",
      "\n",
      "0.7\n",
      "Index(['0-19ans', '60-74ans', 'taux_droite_sup_moyenne',\n",
      "       'taux_gauche_sup_moyenne', 'taux_xdroite_sup_moyenne', 'Superficie ',\n",
      "       'Densit?', 'importations', 'subventions', 'densit?_m?decins',\n",
      "       'consommation menages - electricite'],\n",
      "      dtype='object')\n",
      "R2 train 0.753039565106\n",
      "MAE test 3.35297440708\n",
      "\n",
      "\n",
      "0.8\n",
      "Index(['0-19ans', 'taux_droite_sup_moyenne', 'taux_xdroite_sup_moyenne',\n",
      "       'Superficie ', 'Densit?', 'importations', 'subventions',\n",
      "       'densit?_m?decins', 'consommation menages - electricite'],\n",
      "      dtype='object')\n",
      "R2 train 0.734257830312\n",
      "MAE test 2.97365018862\n",
      "\n",
      "\n",
      "0.9\n",
      "Index(['0-19ans', 'taux_droite_sup_moyenne', 'taux_xdroite_sup_moyenne',\n",
      "       'Superficie ', 'Densit?', 'importations', 'subventions',\n",
      "       'densit?_m?decins', 'consommation menages - electricite'],\n",
      "      dtype='object')\n",
      "R2 train 0.734257830312\n",
      "MAE test 2.97365018862\n",
      "\n",
      "\n",
      "1.0\n",
      "Index(['0-19ans', 'taux_droite_sup_moyenne', 'taux_xdroite_sup_moyenne',\n",
      "       'Superficie ', 'Densit?', 'importations', 'subventions',\n",
      "       'densit?_m?decins', 'consommation menages - electricite'],\n",
      "      dtype='object')\n",
      "R2 train 0.734257830312\n",
      "MAE test 2.97365018862\n",
      "\n",
      "\n",
      "1.1\n",
      "Index(['0-19ans', 'taux_droite_sup_moyenne', 'taux_xdroite_sup_moyenne',\n",
      "       'Superficie ', 'Densit?', 'importations', 'subventions',\n",
      "       'densit?_m?decins', 'consommation menages - electricite'],\n",
      "      dtype='object')\n",
      "R2 train 0.734257830312\n",
      "MAE test 2.97365018862\n",
      "\n",
      "\n",
      "1.2\n",
      "Index(['0-19ans', 'taux_droite_sup_moyenne', 'taux_xdroite_sup_moyenne',\n",
      "       'Superficie ', 'Densit?', 'importations', 'subventions',\n",
      "       'densit?_m?decins', 'consommation menages - electricite'],\n",
      "      dtype='object')\n",
      "R2 train 0.734257830312\n",
      "MAE test 2.97365018862\n",
      "\n",
      "\n",
      "1.3\n",
      "Index(['0-19ans', 'taux_droite_sup_moyenne', 'taux_xdroite_sup_moyenne',\n",
      "       'Superficie ', 'Densit?', 'importations', 'subventions',\n",
      "       'densit?_m?decins', 'consommation menages - electricite'],\n",
      "      dtype='object')\n",
      "R2 train 0.734257830312\n",
      "MAE test 2.97365018862\n",
      "\n",
      "\n",
      "1.4\n",
      "Index(['0-19ans', 'taux_xdroite_sup_moyenne', 'Superficie ', 'Densit?',\n",
      "       'importations', 'subventions', 'densit?_m?decins',\n",
      "       'consommation menages - electricite'],\n",
      "      dtype='object')\n",
      "R2 train 0.716550927299\n",
      "MAE test 2.99158873171\n",
      "\n",
      "\n",
      "1.5\n",
      "Index(['0-19ans', 'taux_xdroite_sup_moyenne', 'Superficie ', 'Densit?',\n",
      "       'importations', 'subventions', 'densit?_m?decins',\n",
      "       'consommation menages - electricite'],\n",
      "      dtype='object')\n",
      "R2 train 0.716550927299\n",
      "MAE test 2.99158873171\n",
      "\n",
      "\n"
     ]
    }
   ],
   "source": [
    "# Teste LsLasso sans normaliser et sans 1981\n",
    "for i in np.linspace(0.6, 1.5, 10):\n",
    "    my_Lslasso(dft11,\"taux_xdroite\", i, True, False)\n",
    "    print(\"\\n\")"
   ]
  },
  {
   "cell_type": "code",
   "execution_count": 34,
   "metadata": {
    "collapsed": false
   },
   "outputs": [],
   "source": [
    "#df_train_x, df_train_y, df_test_x, df_test_y = create_train_and_test(\"taux_xdroite\", dft11)\n",
    "#skb = SelectKBest(f_regression, k=10)\n",
    "#skb.fit(df_train_x, df_train_y)\n",
    "#skb_result = sorted(zip(skb.scores_, skb.pvalues_ ,df_train_x.columns))\n",
    "\n",
    "#[ print(skb_result[i]) for i in skb.get_support(True)]"
   ]
  },
  {
   "cell_type": "code",
   "execution_count": 35,
   "metadata": {
    "collapsed": false
   },
   "outputs": [],
   "source": [
    "#sfm = SelectFromModel(svc, threshold=0.4)\n",
    "#sfm.fit(df_train_x, df_train_y)\n",
    "#print(df_train_x.columns[sfm.get_support(True)])\n",
    "#print(\"\\n\")\n",
    "#dtr = DecisionTreeRegressor()\n",
    "#sfm = SelectFromModel(dtr, threshold=0.1)\n",
    "#sfm.fit(df_train_x, df_train_y)\n",
    "#print(df_train_x.columns[sfm.get_support(True)])"
   ]
  },
  {
   "cell_type": "code",
   "execution_count": 36,
   "metadata": {
    "collapsed": false
   },
   "outputs": [],
   "source": [
    "df_train_x, df_train_y, df_test_x, df_test_y = create_train_and_test(\"taux_xdroite\", dft11, True)\n",
    "\n",
    "mat_cor = pd.concat([df_train_x, df_train_y], axis=1)\n",
    "\n",
    "\n",
    "\n",
    "xdroite_corr = pd.DataFrame(columns=[\"name\",\"corr_pearson\",\n",
    "                                    \"corr_pearson_pvalue\",\"corr_spearman\",\n",
    "                                    \"corr_sperman_pvalue\"])\n",
    "for i in range(1, mat_cor.shape[1]):\n",
    "    xdroite_corr = xdroite_corr.append(\n",
    "        {\"name\" : mat_cor.columns[i],\n",
    "        \"corr_pearson\": pearsonr(mat_cor.ix[:, i], mat_cor.ix[:, \"taux_xdroite\"])[0],\n",
    "        \"corr_pearson_pvalue\": round(pearsonr(mat_cor.ix[:, i], mat_cor.ix[:, \"taux_xdroite\"])[1], 5),\n",
    "        \"corr_spearman\": spearmanr(mat_cor.ix[:, i], mat_cor.ix[:, \"taux_xdroite\"])[0],\n",
    "        \"corr_sperman_pvalue\": round(spearmanr(mat_cor.ix[:, i], mat_cor.ix[:, \"taux_xdroite\"])[1], 5),\n",
    "       },\n",
    "        ignore_index=True\n",
    "        )"
   ]
  },
  {
   "cell_type": "code",
   "execution_count": 37,
   "metadata": {
    "collapsed": false
   },
   "outputs": [],
   "source": [
    "# On conserve les variables qui sont pertinante sur les deux tests\n",
    "# les pvalues sont équivalentes que les variables soit centré-réduite ou non\n",
    "# on peut donc trier nos data \n",
    "# on fixe la condition seulement sur sperman => permet de conserver d'avantage de variable\n",
    "xdroite_corr2 = xdroite_corr[(xdroite_corr[\"corr_sperman_pvalue\"]<=0.05) ]\n",
    "\n",
    "# plus besoin des pvalues puisque l'on à vérifié la condition de rejet sur h0\n",
    "del xdroite_corr2[\"corr_sperman_pvalue\"]\n",
    "del xdroite_corr2[\"corr_pearson_pvalue\"]"
   ]
  },
  {
   "cell_type": "code",
   "execution_count": 38,
   "metadata": {
    "collapsed": false
   },
   "outputs": [
    {
     "data": {
      "text/plain": [
       "(35, 3)"
      ]
     },
     "execution_count": 38,
     "metadata": {},
     "output_type": "execute_result"
    }
   ],
   "source": [
    "xdroite_corr2.shape"
   ]
  },
  {
   "cell_type": "code",
   "execution_count": 39,
   "metadata": {
    "collapsed": false
   },
   "outputs": [],
   "source": [
    "xdroite_var_select = xdroite_corr2[(xdroite_corr2[\"corr_spearman\"]>=0.2)|(xdroite_corr2[\"corr_spearman\"]<=-0.2)]"
   ]
  },
  {
   "cell_type": "code",
   "execution_count": 40,
   "metadata": {
    "collapsed": false
   },
   "outputs": [],
   "source": [
    "xdroite_var_select.to_csv(\"corr_sperman.csv\", sep=\";\")\n"
   ]
  },
  {
   "cell_type": "code",
   "execution_count": 41,
   "metadata": {
    "collapsed": false
   },
   "outputs": [],
   "source": [
    "# Il faut maintenant choisir les variables à selectionner \n",
    "# Cad garder des variables discriminantes et non corrélée \n",
    "features_select_corr = mat_cor.ix[:, xdroite_var_select[\"name\"]].corr()\n",
    "\n",
    "features_select_corr[abs(features_select_corr.ix[:,:])>=0.5].to_csv(\"features_corr_features.csv\",sep=\",\")"
   ]
  },
  {
   "cell_type": "code",
   "execution_count": 42,
   "metadata": {
    "collapsed": true
   },
   "outputs": [],
   "source": [
    "df_train_x, df_train_y, df_test_x, df_test_y = create_train_and_test(\"taux_xdroite\", dft11, True)"
   ]
  },
  {
   "cell_type": "code",
   "execution_count": 43,
   "metadata": {
    "collapsed": false
   },
   "outputs": [
    {
     "name": "stdout",
     "output_type": "stream",
     "text": [
      "Index(['75+ans', 'var_chomage_annee', 'taux_droite_sup_moyenne',\n",
      "       'taux_gauche_sup_moyenne', 'taux_xdroite_sup_moyenne',\n",
      "       'droite_au_pouvoir',\n",
      "       'capacit? epargne actuelle (augmentation moins diminution)',\n",
      "       'ecart_pop'],\n",
      "      dtype='object')\n",
      "R2 train 0.733588378755\n",
      "MAE train 2.04775896773\n",
      "MAE test 3.51166013224\n",
      "\n",
      "\n",
      "Résultat avec fit entire data\n",
      "R2 train 0.727268104966\n",
      "MAE train 2.13956321199\n"
     ]
    }
   ],
   "source": [
    "# on supprime les variables qui sont trop corrélée avec d'autres\n",
    "features_keep = ['75+ans', 'var_chomage_annee', 'taux_droite_sup_moyenne',\n",
    "       'taux_gauche_sup_moyenne', 'taux_xdroite_sup_moyenne',\n",
    "       'droite_au_pouvoir',\n",
    "       'capacit? epargne actuelle (augmentation moins diminution)',\n",
    "       'ecart_pop']\n",
    "\n",
    "df_train_x, df_train_y, df_test_x, df_test_y = create_train_and_test(\"taux_xdroite\", dft11, True)\n",
    "df_train_x_select_features = df_train_x.ix[:, features_keep]\n",
    "df_test_x_select_features = df_test_x.ix[:, features_keep]\n",
    "\n",
    "lr = LinearRegression(fit_intercept=True, normalize=True)\n",
    "lr.fit(df_train_x_select_features, df_train_y)\n",
    "print(df_test_x_select_features.columns)\n",
    "print(\"R2 train %s\" % lr.score(df_train_x_select_features, df_train_y))\n",
    "print(\"MAE train %s\" % metrics.mean_absolute_error(df_train_y, lr.predict(df_train_x_select_features)))\n",
    "print(\"MAE test %s\" % metrics.mean_absolute_error(df_test_y, lr.predict(df_test_x_select_features)))\n",
    "print(\"\\n\")\n",
    "print(\"Résultat avec fit entire data\")\n",
    "df_train_x, df_train_y = create_train(\"taux_xdroite\", dft11, True)\n",
    "df_train_x_select_features = df_train_x.ix[:, features_keep]\n",
    "lr = LinearRegression(fit_intercept=True, normalize=True)\n",
    "lr.fit(df_train_x_select_features, df_train_y)\n",
    "print(\"R2 train %s\" % lr.score(df_train_x_select_features, df_train_y))\n",
    "print(\"MAE train %s\" % metrics.mean_absolute_error(df_train_y, lr.predict(df_train_x_select_features)))\n",
    "        "
   ]
  },
  {
   "cell_type": "code",
   "execution_count": 44,
   "metadata": {
    "collapsed": false
   },
   "outputs": [
    {
     "name": "stdout",
     "output_type": "stream",
     "text": [
      "Index(['75+ans', 'var_chomage_annee', 'taux_droite_sup_moyenne',\n",
      "       'taux_gauche_sup_moyenne', 'taux_xdroite_sup_moyenne',\n",
      "       'pop_premier_ministre', 'subventions'],\n",
      "      dtype='object')\n",
      "R2 train 0.727901086506\n",
      "MAE train 2.06998763282\n",
      "MAE test 2.94822370277\n",
      "\n",
      "\n",
      "Résultat avec fit entire data\n",
      "R2 train 0.725709896217\n",
      "MAE train 2.14409550798\n"
     ]
    }
   ],
   "source": [
    "features_keep = ['75+ans', 'var_chomage_annee', 'taux_droite_sup_moyenne',\n",
    "       'taux_gauche_sup_moyenne', 'taux_xdroite_sup_moyenne',\n",
    "       'pop_premier_ministre', 'subventions']\n",
    "\n",
    "df_train_x, df_train_y, df_test_x, df_test_y = create_train_and_test(\"taux_xdroite\", dft11, True)\n",
    "df_train_x_select_features = df_train_x.ix[:, features_keep]\n",
    "df_test_x_select_features = df_test_x.ix[:, features_keep]\n",
    "\n",
    "lr = LinearRegression(fit_intercept=True, normalize=True)\n",
    "lr.fit(df_train_x_select_features, df_train_y)\n",
    "print(df_test_x_select_features.columns)\n",
    "print(\"R2 train %s\" % lr.score(df_train_x_select_features, df_train_y))\n",
    "print(\"MAE train %s\" % metrics.mean_absolute_error(df_train_y, lr.predict(df_train_x_select_features)))\n",
    "print(\"MAE test %s\" % metrics.mean_absolute_error(df_test_y, lr.predict(df_test_x_select_features)))\n",
    "print(\"\\n\")\n",
    "print(\"Résultat avec fit entire data\")\n",
    "df_train_x, df_train_y = create_train(\"taux_xdroite\", dft11, True)\n",
    "df_train_x_select_features = df_train_x.ix[:, features_keep]\n",
    "lr = LinearRegression(fit_intercept=True, normalize=True)\n",
    "lr.fit(df_train_x_select_features, df_train_y)\n",
    "print(\"R2 train %s\" % lr.score(df_train_x_select_features, df_train_y))\n",
    "print(\"MAE train %s\" % metrics.mean_absolute_error(df_train_y, lr.predict(df_train_x_select_features)))"
   ]
  },
  {
   "cell_type": "code",
   "execution_count": 80,
   "metadata": {
    "collapsed": false
   },
   "outputs": [
    {
     "name": "stdout",
     "output_type": "stream",
     "text": [
      "[  2.27149087e+00  -5.88550764e-01  -3.34079206e-01   2.20737909e+00\n",
      "  -1.68566858e-01  -8.80374351e-05  -6.88453592e-03   8.76801123e-02]\n",
      "Index(['Nombre total de mariages domicili?s', 'taux_droite_sup_moyenne',\n",
      "       'taux_gauche_sup_moyenne', 'taux_xdroite_sup_moyenne', 'pop_xdroite',\n",
      "       'Densit?', 'subventions', 'pop_exec'],\n",
      "      dtype='object')\n",
      "Résultat sans 2012 (avec test)\n",
      "R2 adjust train 0.893014973353\n",
      "R2 train 0.894801779644\n",
      "MAE train 1.73662428531\n",
      "MAE test 3.32318408173\n",
      "\n",
      "\n",
      "Résultat avec fit entire data\n",
      "[  2.57174876e+00  -4.42551878e-01  -2.72135868e-01   1.87579453e+00\n",
      "   4.27996720e-02  -1.71706520e-04  -6.68563825e-03   5.91295259e-02]\n",
      "R2 train 0.884999964474\n",
      "R2 adjust train 0.883377389017\n",
      "MAE train 1.88759249135\n"
     ]
    }
   ],
   "source": [
    "features_keep = [\"Nombre total de mariages domicili?s\",\n",
    "\"taux_droite_sup_moyenne\",\n",
    "\"taux_gauche_sup_moyenne\",\n",
    "\"taux_xdroite_sup_moyenne\",\n",
    "\"pop_xdroite\",\n",
    "\"Densit?\",\n",
    "\"subventions\",\n",
    "\"pop_exec\"\n",
    "]\n",
    "\n",
    "df_train_x, df_train_y, df_test_x, df_test_y = create_train_and_test(\"taux_xdroite\", dft11, False)\n",
    "df_train_x_select_features = df_train_x.ix[:, features_keep]\n",
    "df_test_x_select_features = df_test_x.ix[:, features_keep]\n",
    "\n",
    "lr = LinearRegression(fit_intercept=True, normalize=True)\n",
    "lr.fit(df_train_x_select_features, df_train_y)\n",
    "print(lr.coef_)\n",
    "print(df_test_x_select_features.columns)\n",
    "print(\"Résultat sans 2012 (avec test)\")\n",
    "print(\"R2 adjust train %s\" % r2_adjusted(df_train_x_select_features, df_train_y, 8,lr))\n",
    "print(\"R2 train %s\" % lr.score(df_train_x_select_features, df_train_y))\n",
    "print(\"MAE train %s\" % metrics.mean_absolute_error(df_train_y, lr.predict(df_train_x_select_features)))\n",
    "print(\"MAE test %s\" % metrics.mean_absolute_error(df_test_y, lr.predict(df_test_x_select_features)))\n",
    "print(\"\\n\")\n",
    "print(\"Résultat avec fit entire data\")\n",
    "df_train_x, df_train_y = create_train(\"taux_xdroite\", dft11, False)\n",
    "df_train_x_select_features = df_train_x.ix[:, features_keep]\n",
    "lr = LinearRegression(fit_intercept=True, normalize=True)\n",
    "lr.fit(df_train_x_select_features, df_train_y)\n",
    "print(lr.coef_)\n",
    "print(\"R2 train %s\" % lr.score(df_train_x_select_features, df_train_y))\n",
    "print(\"R2 adjust train %s\" % r2_adjusted(df_train_x_select_features, df_train_y, 8,lr))\n",
    "print(\"MAE train %s\" % metrics.mean_absolute_error(df_train_y, lr.predict(df_train_x_select_features)))\n"
   ]
  },
  {
   "cell_type": "code",
   "execution_count": 46,
   "metadata": {
    "collapsed": true
   },
   "outputs": [],
   "source": [
    "# Résultat assez stable avec ce modèle"
   ]
  },
  {
   "cell_type": "markdown",
   "metadata": {},
   "source": [
    "**L'ajout de la popularité de la xdroite fit sans l'année 2012 dégrade énormément le score sur l'échantillon de test car on observe une multiplication de la popularité entre 2007 et 2012...il faudrait trouver un indicateur plus smooth de la progréssion du fn**\n",
    "\n",
    "1. Variable d'élection qui ont précéde\n",
    "2. Supprimer l'année 2007, la croissance du fn est stopé cette année la, elle biaise peut etre nos coeff"
   ]
  },
  {
   "cell_type": "markdown",
   "metadata": {},
   "source": [
    "# Entrainement du modèle finale et prédiction"
   ]
  },
  {
   "cell_type": "code",
   "execution_count": 57,
   "metadata": {
    "collapsed": true
   },
   "outputs": [],
   "source": [
    "features_keep = [\"Nombre total de mariages domicili?s\",\n",
    "\"taux_droite_sup_moyenne\",\n",
    "\"taux_gauche_sup_moyenne\",\n",
    "\"taux_xdroite_sup_moyenne\",\n",
    "\"pop_xdroite\",\n",
    "\"Densit?\",\n",
    "\"subventions\",\n",
    "\"pop_exec\"\n",
    "]"
   ]
  },
  {
   "cell_type": "code",
   "execution_count": 83,
   "metadata": {
    "collapsed": false
   },
   "outputs": [],
   "source": [
    "def list_prediction_SM(features_keep, target):\n",
    "    print(\"Résultat avec fit entire data\")\n",
    "    df_train_x, df_train_y = create_train(target, dft11, False)\n",
    "    df_train_x_select_features = df_train_x.ix[:, features_keep]\n",
    "    df_train_x_select_features = sm.add_constant(df_train_x_select_features)\n",
    "    model = sm.OLS(df_train_y , df_train_x_select_features)\n",
    "    results = model.fit()\n",
    "    print(results.summary())"
   ]
  },
  {
   "cell_type": "code",
   "execution_count": 84,
   "metadata": {
    "collapsed": false
   },
   "outputs": [
    {
     "name": "stdout",
     "output_type": "stream",
     "text": [
      "Résultat avec fit entire data\n",
      "                            OLS Regression Results                            \n",
      "==============================================================================\n",
      "Dep. Variable:           taux_xdroite   R-squared:                       0.885\n",
      "Model:                            OLS   Adj. R-squared:                  0.883\n",
      "Method:                 Least Squares   F-statistic:                     545.4\n",
      "Date:                Mon, 24 Apr 2017   Prob (F-statistic):          1.37e-260\n",
      "Time:                        22:26:00   Log-Likelihood:                -1358.9\n",
      "No. Observations:                 576   AIC:                             2736.\n",
      "Df Residuals:                     567   BIC:                             2775.\n",
      "Df Model:                           8                                         \n",
      "Covariance Type:            nonrobust                                         \n",
      "=======================================================================================================\n",
      "                                          coef    std err          t      P>|t|      [95.0% Conf. Int.]\n",
      "-------------------------------------------------------------------------------------------------------\n",
      "const                                 -16.4245      1.602    -10.251      0.000       -19.572   -13.277\n",
      "Nombre total de mariages domicili?s     2.5717      1.845      1.394      0.164        -1.052     6.195\n",
      "taux_droite_sup_moyenne                -0.4426      0.089     -4.988      0.000        -0.617    -0.268\n",
      "taux_gauche_sup_moyenne                -0.2721      0.086     -3.181      0.002        -0.440    -0.104\n",
      "taux_xdroite_sup_moyenne                1.8758      0.087     21.643      0.000         1.706     2.046\n",
      "pop_xdroite                             0.0428      0.034      1.248      0.213        -0.025     0.110\n",
      "Densit?                                -0.0002   5.22e-05     -3.287      0.001        -0.000 -6.91e-05\n",
      "subventions                            -0.0067      0.000    -38.759      0.000        -0.007    -0.006\n",
      "pop_exec                                0.0591      0.011      5.535      0.000         0.038     0.080\n",
      "==============================================================================\n",
      "Omnibus:                       61.954   Durbin-Watson:                   1.085\n",
      "Prob(Omnibus):                  0.000   Jarque-Bera (JB):              111.796\n",
      "Skew:                           0.671   Prob(JB):                     5.29e-25\n",
      "Kurtosis:                       4.691   Cond. No.                     8.20e+04\n",
      "==============================================================================\n",
      "\n",
      "Warnings:\n",
      "[1] Standard Errors assume that the covariance matrix of the errors is correctly specified.\n",
      "[2] The condition number is large, 8.2e+04. This might indicate that there are\n",
      "strong multicollinearity or other numerical problems.\n"
     ]
    }
   ],
   "source": [
    "list_prediction_SM(features_keep, \"taux_xdroite\")"
   ]
  },
  {
   "cell_type": "code",
   "execution_count": 48,
   "metadata": {
    "collapsed": false
   },
   "outputs": [
    {
     "data": {
      "text/plain": [
       "LinearRegression(copy_X=True, fit_intercept=True, n_jobs=1, normalize=True)"
      ]
     },
     "execution_count": 48,
     "metadata": {},
     "output_type": "execute_result"
    }
   ],
   "source": [
    "# Resultat meilleur en gardant 1981\n",
    "df_train_x, df_train_y = create_train(\"taux_xdroite\", dft11, False)\n",
    "df_train_x_select_features = df_train_x.ix[:, features_keep]\n",
    "model_xdroite_final = LinearRegression(fit_intercept=True, normalize=True)\n",
    "model_xdroite_final.fit(df_train_x_select_features, df_train_y)"
   ]
  },
  {
   "cell_type": "code",
   "execution_count": 49,
   "metadata": {
    "collapsed": true
   },
   "outputs": [],
   "source": [
    "predict_table = pd.read_csv(\"la_base_2017.csv\", encoding=\"latin1\")"
   ]
  },
  {
   "cell_type": "code",
   "execution_count": 50,
   "metadata": {
    "collapsed": false
   },
   "outputs": [],
   "source": [
    "predict_table.ix[:,\"pop_exec\"] = predict_table.ix[:,\"pop_premier_ministre\"].iloc[0]\n",
    "predict_X = predict_table.ix[:, features_keep]"
   ]
  },
  {
   "cell_type": "code",
   "execution_count": 51,
   "metadata": {
    "collapsed": false
   },
   "outputs": [
    {
     "data": {
      "text/plain": [
       "(96, 8)"
      ]
     },
     "execution_count": 51,
     "metadata": {},
     "output_type": "execute_result"
    }
   ],
   "source": [
    "predict_X.shape"
   ]
  },
  {
   "cell_type": "code",
   "execution_count": 52,
   "metadata": {
    "collapsed": true
   },
   "outputs": [],
   "source": [
    "y_xdroite = model_xdroite_final.predict(predict_X)\n",
    "df=pd.DataFrame(y_xdroite,columns=['prediction'])"
   ]
  },
  {
   "cell_type": "code",
   "execution_count": 53,
   "metadata": {
    "collapsed": false
   },
   "outputs": [
    {
     "data": {
      "text/plain": [
       "23.137055130711289"
      ]
     },
     "execution_count": 53,
     "metadata": {},
     "output_type": "execute_result"
    }
   ],
   "source": [
    "np.mean(y_xdroite)"
   ]
  },
  {
   "cell_type": "code",
   "execution_count": 54,
   "metadata": {
    "collapsed": false
   },
   "outputs": [],
   "source": [
    "resultat_xdoite_extract = pd.concat([predict_table[[\"d?partement\",\"code\",\"Total\"]],df], axis=1)"
   ]
  },
  {
   "cell_type": "code",
   "execution_count": 55,
   "metadata": {
    "collapsed": false
   },
   "outputs": [
    {
     "data": {
      "text/plain": [
       "23.468228488760094"
      ]
     },
     "execution_count": 55,
     "metadata": {},
     "output_type": "execute_result"
    }
   ],
   "source": [
    "np.average(resultat_xdoite_extract[\"prediction\"], weights=resultat_xdoite_extract[\"Total\"])"
   ]
  },
  {
   "cell_type": "code",
   "execution_count": 56,
   "metadata": {
    "collapsed": false
   },
   "outputs": [],
   "source": [
    "resultat_xdoite_extract.to_csv(\"prediction_2017_xdroite.csv\",sep=\";\")"
   ]
  },
  {
   "cell_type": "code",
   "execution_count": null,
   "metadata": {
    "collapsed": true
   },
   "outputs": [],
   "source": []
  }
 ],
 "metadata": {
  "anaconda-cloud": {},
  "kernelspec": {
   "display_name": "Python [Root]",
   "language": "python",
   "name": "Python [Root]"
  },
  "language_info": {
   "codemirror_mode": {
    "name": "ipython",
    "version": 3
   },
   "file_extension": ".py",
   "mimetype": "text/x-python",
   "name": "python",
   "nbconvert_exporter": "python",
   "pygments_lexer": "ipython3",
   "version": "3.5.2"
  }
 },
 "nbformat": 4,
 "nbformat_minor": 1
}
