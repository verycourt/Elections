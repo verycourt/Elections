{
 "cells": [
  {
   "cell_type": "code",
   "execution_count": 220,
   "metadata": {
    "collapsed": false
   },
   "outputs": [],
   "source": [
    "import pandas as pd\n",
    "import numpy as np \n",
    "import glob, os\n",
    "path = \"C:\\\\Users\\\\Mohamed\\\\MS BGD\\\\fil_rouge_lepoint\\\\Predictions éléctions\\\\PRESIDENTIELLES_1965-2012-csv\\\\\" \n",
    "path_to_csv = \"C:\\\\Users\\\\Mohamed\\\\git\\\\Elections\\\\Analyses\\\\Jointure des tables\\\\\""
   ]
  },
  {
   "cell_type": "code",
   "execution_count": 221,
   "metadata": {
    "collapsed": false
   },
   "outputs": [],
   "source": [
    "dft1 = pd.DataFrame()\n",
    "dft2 = pd.DataFrame()\n",
    "\n",
    "partis_politique = {\"BALLADUR (UDF)\": \"centre\", 'BARBU (DIV)':\"xgauche\", 'BARRE (UDF)':\"centre\", 'BAYROU (UDF)': \"centre\",\\\n",
    "                   'BESANCENOT (LCR)' : \"xgauche\", 'BOUCHARDEAU (PSU)': \"xgauche\", 'BOUSSEL (MPT)': \"xgauche\", 'BOUTIN (UDF DISS.)' :\"centre\",\\\n",
    "                   'BOVE' : 'vert', \"BUFFET (PC)\": \"xgauche\", 'CHABAN-DELMAS (UDR)': \"droite\", \"CHEMINADE (POE)\": \"droite\", \\\n",
    "                   'CHEVENEMENT (P. REP)':\"gauche\", 'CHIRAC (RPR)' : \"droite\", 'CHIRAC (UMP)': \"droite\", 'CREPEAU (MRG)': \"gauche\",\\\n",
    "                   'DE GAULLE (UNR)':\"droite\", 'DE VILLIERS (MPF)': \"droite\", \"DE VILLIERS MPF)\":\"droite\", 'DEBRE (DVD)':\"droite\",\\\n",
    "                   'DEFFERRE (SFIO)':\"gauche\", 'DUCATEL (DIV)':\"xgauche\",\\\n",
    "                   'DUCLOS (PCF)': \"xgauche\", 'DUMONT (ECO)':\"vert\", 'Eva JOLY (EELV)':\"vert\", \\\n",
    "                   'François BAYROU (MODEM)':\"centre\", 'François HOLLANDE (PS)':\"gauche\", 'GARAUD (DVD)':\"droite\",\\\n",
    "                   \"GISCARD D'ESTAING (RI)\":\"centre\", \"GISCARD D'ESTAING (UDF)\":\"centre\", 'GLUCKSTEIN (PT)':\"xgauche\",\\\n",
    "                   'HERAUD (DIV)':\"xgauche\", 'HUE (PCF)':\"xgauche\", 'JOSPIN (PS)':\"gauche\", 'JUQUIN ( )':\"xgauche\",\\\n",
    "                   'Jacques CHEMINADE (SP)':\"droite\", 'Jean-Luc MELENCHON (FG)':\"xgauche\", 'KRIVINE (LCR)':\"xgauche\",\\\n",
    "                   'LAGUILLER (LO)':\"xgauche\", 'LAJOINIE (PCF)':\"xgauche\", 'LALONDE (ECO)':\"vert\", 'LE PEN (FN)':\"xdroite\",\\\n",
    "                   'LECANUET (MRP)':\"centre\", 'LEPAGE (CAP 21)':\"vert\", 'MADELIN (DL)':\"droite\", 'MAMERE (VERTS)':\"vert\",\\\n",
    "                   'MARCHAIS (PCF)':\"xgauche\", 'MARCILHACY (DVD)':\"droite\", 'MEGRET (MNR)':\"xdroite\",\\\n",
    "                   'MITTERRAND (CIR)':\"gauche\", 'MITTERRAND (PS)':\"gauche\", 'MULLER (MDSR)':\"droite\",\\\n",
    "                   'Marine LE PEN (FN)': \"xdroite\", 'NIHOUS (CNPT)':\"droite\", 'Nathalie ARTHAUD (LO)':\"xgauche\",\\\n",
    "                   'Nicolas DUPONT-AIGNAN (DLR)':\"droite\", 'Nicolas SARKOZY (UMP)':\"droite\", 'POHER (CD)':\"centre\",\\\n",
    "                   'POMPIDOU (UDR)':\"droite\", 'Philippe POUTOU (NPA)':\"xgauche\", 'RENOUVIN (NAR)':\"xdroite\",\\\n",
    "                   'ROCARD (PSU)': \"gauche\", 'ROYAL (PS)': \"gauche\", 'ROYER (DVD)':\"droite\", 'SAINT-JOSSE (CNPT)':\"droite\",\\\n",
    "                   'SARKOZY (UMP)':\"droite\", 'SCHIVARDI (PT)':\"xgauche\", 'SEBAG (DIV)':\"xgauche\", 'TAUBIRA (PRG)':\"gauche\",\\\n",
    "                   'TIXIER-VIGNANCOUR (EXD)':\"xdroite\", 'VOYNET (VERTS)':\"vert\", 'WAECHTER (V)':\"vert\"}\n",
    "\n",
    "#on liste les partis uniques\n",
    "liste_parties_uniques = np.unique(list(partis_politique.values()))\n",
    "\n",
    "#on boucle sur tous les fichiers\n",
    "for file in os.listdir(path):\n",
    "    \n",
    "    #On garde que les csv\n",
    "    if file.endswith(\".csv\"):\n",
    "        \n",
    "        df = pd.DataFrame()\n",
    "        df = pd.read_csv(path+file)\n",
    "        df = df.rename(columns={\"Code du département\": \"code\", \"Code département\": \"code\",\\\n",
    "                                \"Code dÃ©partement\": \"code\",\\\n",
    "                                \"Libellé du département\": \"département\", \"Code département.1\":\"département\",\n",
    "                               'Code de la circonscription': \"circonscription\"})\n",
    "\n",
    "        for partie in liste_parties_uniques:\n",
    "            df[partie] = 0\n",
    "\n",
    "        for col in df.columns: \n",
    "            if col in partis_politique:\n",
    "                df[partis_politique[col]]+=df[col]\n",
    "        df.drop(list(partis_politique.keys()),inplace=True,axis=1,errors='ignore')\n",
    "        df[\"Année\"] = file[10:14]\n",
    "\n",
    "        if \"t1\" in file and \"commp\" not in file:\n",
    "            dft1 = dft1.append(df)\n",
    "        \n",
    "        if \"t2\" in file and \"commp\" not in file:\n",
    "            dft2 = dft2.append(df)"
   ]
  },
  {
   "cell_type": "code",
   "execution_count": null,
   "metadata": {
    "collapsed": false
   },
   "outputs": [],
   "source": []
  },
  {
   "cell_type": "code",
   "execution_count": 222,
   "metadata": {
    "collapsed": false
   },
   "outputs": [],
   "source": [
    "#print([item for item in dft2.columns if item not in list(partis_politique.keys()) ])\n",
    "#print(list(dft1.columns))\n",
    "#print(list(dft2.columns))\n",
    "\n",
    "\n",
    "for col in liste_parties_uniques:\n",
    "    dft1[\"taux_\"+col] = dft1[col]*100/dft1[\"Exprimés\"]   \n",
    "    dft2[\"taux_\"+col] = dft2[col]*100/dft2[\"Exprimés\"]   \n",
    "\n",
    "dft1.to_csv(path_to_csv+\"base_resultats_elections_t1.csv\", index = False)\n",
    "dft1.to_csv(path_to_csv+\"base_resultats_elections_t2.csv\", index = False)"
   ]
  },
  {
   "cell_type": "code",
   "execution_count": 223,
   "metadata": {
    "collapsed": false
   },
   "outputs": [
    {
     "name": "stdout",
     "output_type": "stream",
     "text": [
      "Index(['code', 'département', 'circonscription', 'Inscrits', 'Votants',\n",
      "       'Exprimés', 'Blancs et nuls', 'centre', 'droite', 'gauche', 'vert',\n",
      "       'xdroite', 'xgauche', 'Année', 'taux_centre', 'taux_droite',\n",
      "       'taux_gauche', 'taux_vert', 'taux_xdroite', 'taux_xgauche'],\n",
      "      dtype='object')\n",
      "['centre' 'droite' 'gauche' 'vert' 'xdroite' 'xgauche']\n"
     ]
    }
   ],
   "source": [
    "print(dft1.columns)\n",
    "print(liste_parties_uniques)"
   ]
  },
  {
   "cell_type": "code",
   "execution_count": 224,
   "metadata": {
    "collapsed": false
   },
   "outputs": [],
   "source": [
    "dic = {}\n",
    "for col in dft1.columns:\n",
    "    if col in [\"taux_centre\", \"taux_droite\", \"taux_gauche\", \"taux_vert\", \"taux_xdroite\", \"taux_xgauche\"]:\n",
    "        dic[col] = np.mean\n",
    "    elif col in [\"Inscrits\", \"Votants\", \"Exprimés\", \"Blancs et nuls\", \"centre\", \"droite\",\"gauche\", \"vert\", \"xdroite\", \"xgauche\"]:\n",
    "        dic[col] = np.sum\n",
    "    \n",
    "dft1 = dft1.groupby([\"département\", \"code\", \"Année\"]).agg(dic).reset_index()\n"
   ]
  },
  {
   "cell_type": "code",
   "execution_count": 225,
   "metadata": {
    "collapsed": false
   },
   "outputs": [
    {
     "name": "stdout",
     "output_type": "stream",
     "text": [
      "   depart_frontalier département  depart_OM\n",
      "0                  1         AIN          0\n",
      "9\n"
     ]
    }
   ],
   "source": [
    "depart_frontaliers = [\"PAS-DE-CALAIS\",\"NORD\", \"AISNE\", \"ARDENNES\", \"MEUSE\",\n",
    "                      \"MEURTHE-ET-MOSELLE\", \"MOSELLE\", \"BAS-RHIN\", \"HAUT-RHIN\",\"TERRITOIRE DE BELFORT\", \"DOUBS\", \"JURA\", \"AIN\", \"HAUTE-SAVOIE\", \\\n",
    "                      \"SAVOIE\", \"HAUTES-ALPES\", \"ALPES-DE-HAUTE-PROVENCE\", \"ALPES-MARITIMES\", \\\n",
    "                      \"PYRENEES-ATLANTIQUES\", \"HAUTES-PYRENEES\", \"HAUTE-GARONNE\",\\\n",
    "                      \"ARIEGE\", \"PYRENEES-ORIENTALES\", \"AUDE\", \"HERAULT\", \"GARD\",\\\n",
    "                     \"BOUCHES-DU-RHONE\", \"VAR\"]\n",
    "depart_OM = [\"GUADELOUPE\", \"GUYANE\", \"MARTINIQUE\", \"LA REUNION\", \"MAYOTTE\"]\n",
    "depart_corse = [\"CORSE\", \"HAUTE-CORSE\", \"CORSE-DU-SUD\"]\n",
    "\n",
    "dft1[\"depart_frontalier\"] = [1 if dep in depart_frontaliers else 0 for dep in dft1[\"département\"]]\n",
    "dft1[\"depart_OM\"] = [1 if dep in depart_OM else 0 for dep in dft1[\"département\"]]\n",
    "dft1[\"depart_CORSE\"] = [1 if dep in depart_corse else 0 for dep in dft1[\"département\"]]\n",
    "\n",
    "print(dft1[[\"depart_frontalier\", \"département\", \"depart_OM\"]].head(1))\n",
    "print(len(dft1[\"Année\"].unique()))"
   ]
  },
  {
   "cell_type": "code",
   "execution_count": 226,
   "metadata": {
    "collapsed": false
   },
   "outputs": [],
   "source": [
    "dft1.code = dft1.code.map(lambda x : \"0\"+str(x) if len(str(x))==1 else str(x))"
   ]
  },
  {
   "cell_type": "code",
   "execution_count": 227,
   "metadata": {
    "collapsed": false
   },
   "outputs": [
    {
     "name": "stdout",
     "output_type": "stream",
     "text": [
      "  département code Année  taux_xgauche  taux_droite  Blancs et nuls  Inscrits  \\\n",
      "0         AIN   01  1965      1.300614    44.783593            1431    206496   \n",
      "1         AIN   01  1969     20.074270    46.397815            1643    202239   \n",
      "2         AIN   01  1974      3.154034    16.182280            1454    212727   \n",
      "3         AIN   01  1981     14.888346    21.241916            3243    262049   \n",
      "4         AIN   01  1988      8.171024    19.053676            4291    284999   \n",
      "\n",
      "   gauche  droite  taux_centre      ...       taux_xdroite  centre  xdroite  \\\n",
      "0   50418   74252    18.444356      ...           5.031382   30416     8317   \n",
      "1   10678   67929    26.219226      ...           0.000000   38197        0   \n",
      "2   68990   28065    38.819601      ...           0.862242   67653     1503   \n",
      "3   56488   42989    31.660729      ...           0.000000   64077        0   \n",
      "4   71195   43343    21.290640      ...          16.041776   48082    36464   \n",
      "\n",
      "   xgauche  vert  Exprimés  taux_gauche  depart_frontalier  depart_OM  \\\n",
      "0     2152     0    165555    30.440055                  1          0   \n",
      "1    29526     0    146330     7.308689                  1          0   \n",
      "2     5472  2370    174053    39.623928                  1          0   \n",
      "3    30161  8560    202275    27.982284                  1          0   \n",
      "4    18408  9176    226668    31.377812                  1          0   \n",
      "\n",
      "   depart_CORSE  \n",
      "0             0  \n",
      "1             0  \n",
      "2             0  \n",
      "3             0  \n",
      "4             0  \n",
      "\n",
      "[5 rows x 22 columns]\n"
     ]
    }
   ],
   "source": [
    "print(dft1.head())"
   ]
  },
  {
   "cell_type": "markdown",
   "metadata": {},
   "source": [
    "## Merge table démographie"
   ]
  },
  {
   "cell_type": "code",
   "execution_count": 228,
   "metadata": {
    "collapsed": false
   },
   "outputs": [],
   "source": [
    "df_demo = pd.read_csv(\"data_civil_pop.csv\")\n",
    "df_demo = df_demo.drop(\"Unnamed: 0\", axis=1)\n",
    "df_demo[\"time_period\"] = df_demo[\"time_period\"] + 1"
   ]
  },
  {
   "cell_type": "code",
   "execution_count": 229,
   "metadata": {
    "collapsed": false
   },
   "outputs": [],
   "source": [
    "df_demo[\"time_period\"].unique()\n",
    "dft1[\"Année\"] = dft1[\"Année\"].map(lambda x : float(x))"
   ]
  },
  {
   "cell_type": "code",
   "execution_count": 230,
   "metadata": {
    "collapsed": false
   },
   "outputs": [],
   "source": [
    "df_merged = dft1.merge(df_demo, how='left', left_on=[\"code\", \"Année\"], right_on=[\"dept_nb\", \"time_period\"])"
   ]
  },
  {
   "cell_type": "code",
   "execution_count": 231,
   "metadata": {
    "collapsed": false
   },
   "outputs": [],
   "source": [
    "df_merged.head()\n",
    "df_merged = df_merged.dropna(axis=0)"
   ]
  },
  {
   "cell_type": "code",
   "execution_count": 232,
   "metadata": {
    "collapsed": false
   },
   "outputs": [
    {
     "name": "stdout",
     "output_type": "stream",
     "text": [
      "    département code   Année  taux_xgauche  taux_droite  Blancs et nuls  \\\n",
      "806  VAL-D'OISE   95  1981.0     23.423075    20.289299            7498   \n",
      "807  VAL-D'OISE   95  1988.0     12.535833    17.797082            7367   \n",
      "808  VAL-D'OISE   95  1995.0     16.201334    25.951458           10001   \n",
      "809  VAL-D'OISE   95  2002.0     13.281075    24.476007           10106   \n",
      "810  VAL-D'OISE   95  2007.0      7.022096    34.288958            7088   \n",
      "811  VAL-D'OISE   95  2012.0     13.461874    27.783569            9752   \n",
      "\n",
      "     Inscrits  gauche  droite  taux_centre                ...                 \\\n",
      "806    533942  122528   88162    23.044652                ...                  \n",
      "807    572242  151269   82039    14.332236                ...                  \n",
      "808    611098  100551  117864    14.700019                ...                  \n",
      "809    604309  106293   97822     7.464854                ...                  \n",
      "810    675114  158743  197323    18.625070                ...                  \n",
      "811    704810  172658  150237     8.199436                ...                  \n",
      "\n",
      "      0-19ans  20-39ans  40-59ans  60-74ans   75+ans      Total  time_period  \\\n",
      "806  299724.0  289460.0  206447.0   63717.0  34412.0   893760.0       1981.0   \n",
      "807  320273.0  338152.0  220071.0   76419.0  38513.0   993428.0       1988.0   \n",
      "808  334581.0  344806.0  265753.0   98428.0  39280.0  1082848.0       1995.0   \n",
      "809  335087.0  327873.0  302169.0  104362.0  48810.0  1118301.0       2002.0   \n",
      "810  337810.0  328244.0  323885.0  108429.0  58684.0  1157052.0       2007.0   \n",
      "811  337058.0  327104.0  320176.0  129561.0  66466.0  1180365.0       2012.0   \n",
      "\n",
      "     Naissances domiciliées par département  \\\n",
      "806                                 15029.0   \n",
      "807                                 16657.0   \n",
      "808                                 16191.0   \n",
      "809                                 17283.0   \n",
      "810                                 19015.0   \n",
      "811                                 19551.0   \n",
      "\n",
      "     Nombre total de mariages domiciliés  Décès domiciliés par département  \n",
      "806                               5285.0                            6337.0  \n",
      "807                               4808.0                            6415.0  \n",
      "808                               4853.0                            6524.0  \n",
      "809                               5713.0                            6626.0  \n",
      "810                               5408.0                            6528.0  \n",
      "811                               4523.0                            6709.0  \n",
      "\n",
      "[6 rows x 34 columns]\n"
     ]
    }
   ],
   "source": [
    "print(df_merged[df_merged[\"code\"]==\"95\"])"
   ]
  },
  {
   "cell_type": "markdown",
   "metadata": {},
   "source": [
    "## Merge table emploi"
   ]
  },
  {
   "cell_type": "code",
   "execution_count": 233,
   "metadata": {
    "collapsed": false
   },
   "outputs": [
    {
     "name": "stdout",
     "output_type": "stream",
     "text": [
      "[ 1981.  1988.  1995.  2002.  2007.  2012.]\n"
     ]
    }
   ],
   "source": [
    "print(df_merged[\"Année\"].unique())"
   ]
  },
  {
   "cell_type": "code",
   "execution_count": 234,
   "metadata": {
    "collapsed": false
   },
   "outputs": [],
   "source": [
    "df_emploi = pd.read_csv(\"data_emploi.csv\")\n",
    "df_emploi = df_emploi.drop(\"Unnamed: 0\", axis=1)\n",
    "\n",
    "df_emploi[\"time_period\"] = df_emploi[\"time_period\"] + 1\n",
    "\n",
    "df_emploi[\"var_chomage_annee\"] = np.nan\n",
    "\n",
    "for i in range(1, df_emploi.shape[0]): \n",
    "    try:         \n",
    "        df_emploi.iloc[i,7] = df_emploi.iloc[i, 6] - df_emploi.iloc[i+1, 6]\n",
    "    except:\n",
    "        continue\n",
    "        \n",
    "df_emploi[\"time_period\"] = df_emploi[\"time_period\"].map(lambda x : 1981 if x==1983 else x)"
   ]
  },
  {
   "cell_type": "code",
   "execution_count": 235,
   "metadata": {
    "collapsed": true
   },
   "outputs": [],
   "source": [
    "df_merged2 = df_merged.merge(df_emploi, how='left', left_on=[\"code\", \"Année\"], right_on=[\"dept_nb\", \"time_period\"])"
   ]
  },
  {
   "cell_type": "code",
   "execution_count": 236,
   "metadata": {
    "collapsed": false
   },
   "outputs": [
    {
     "name": "stdout",
     "output_type": "stream",
     "text": [
      "Index(['département', 'code', 'Année', 'taux_xgauche', 'taux_droite',\n",
      "       'Blancs et nuls', 'Inscrits', 'gauche', 'droite', 'taux_centre',\n",
      "       'Votants', 'taux_vert', 'taux_xdroite', 'centre', 'xdroite', 'xgauche',\n",
      "       'vert', 'Exprimés', 'taux_gauche', 'depart_frontalier', 'depart_OM',\n",
      "       'depart_CORSE', 'dept_nb_x', 'dept_lib_x', '0-19ans', '20-39ans',\n",
      "       '40-59ans', '60-74ans', '75+ans', 'Total', 'time_period_x',\n",
      "       'Naissances domiciliées par département',\n",
      "       'Nombre total de mariages domiciliés',\n",
      "       'Décès domiciliés par département', 'time_period_y', 'dept_lib_y',\n",
      "       'dept_nb_y', 'Q1_rate', 'Q2_rate', 'Q3_rate', 'Q4_rate',\n",
      "       'var_chomage_annee'],\n",
      "      dtype='object')\n"
     ]
    }
   ],
   "source": [
    "print(df_merged2.columns)"
   ]
  },
  {
   "cell_type": "code",
   "execution_count": 237,
   "metadata": {
    "collapsed": true
   },
   "outputs": [],
   "source": [
    "df_merged2 = df_merged2.drop([\"dept_nb_x\", \"dept_lib_x\", \"time_period_x\", \"time_period_y\", \"dept_lib_y\", \"dept_nb_y\", \\\n",
    "                             'Exprimés', 'Blancs et nuls', 'centre', 'xdroite', \"Votants\", 'gauche', 'droite', 'vert', \\\n",
    "                             'Inscrits', 'xgauche'], axis=1)"
   ]
  },
  {
   "cell_type": "code",
   "execution_count": 238,
   "metadata": {
    "collapsed": false
   },
   "outputs": [
    {
     "name": "stdout",
     "output_type": "stream",
     "text": [
      "                 département code   Année  taux_xgauche  taux_droite  \\\n",
      "0                        AIN   01  1981.0     14.888346    21.241916   \n",
      "1                        AIN   01  1988.0      8.171024    19.053676   \n",
      "2                        AIN   01  1995.0     11.073277    24.874304   \n",
      "3                        AIN   01  2002.0     11.320086    26.415195   \n",
      "4                        AIN   01  2007.0      6.279643    38.001245   \n",
      "5                        AIN   01  2012.0     11.290203    32.865173   \n",
      "6                      AISNE   02  1981.0     25.241915    19.159665   \n",
      "7                      AISNE   02  1988.0     13.242678    17.194177   \n",
      "8                      AISNE   02  1995.0     16.708419    23.169943   \n",
      "9                      AISNE   02  2002.0     17.572834    26.122243   \n",
      "10                     AISNE   02  2007.0     10.280365    33.230132   \n",
      "11                     AISNE   02  2012.0     12.303057    26.387379   \n",
      "12                    ALLIER   03  1981.0     25.963801    20.182123   \n",
      "13                    ALLIER   03  1988.0     21.722253    19.540777   \n",
      "14                    ALLIER   03  1995.0     20.205318    26.651503   \n",
      "15                    ALLIER   03  2002.0     19.497181    28.601934   \n",
      "16                    ALLIER   03  2007.0     11.500859    31.925502   \n",
      "17                    ALLIER   03  2012.0     15.467378    26.313756   \n",
      "18   ALPES-DE-HAUTE-PROVENCE   04  1981.0     22.880190    18.670296   \n",
      "19   ALPES-DE-HAUTE-PROVENCE   04  1988.0     14.380955    18.329687   \n",
      "20   ALPES-DE-HAUTE-PROVENCE   04  1995.0     16.431295    23.921321   \n",
      "21   ALPES-DE-HAUTE-PROVENCE   04  2002.0     15.509835    29.027129   \n",
      "22   ALPES-DE-HAUTE-PROVENCE   04  2007.0      8.820298    34.156854   \n",
      "23   ALPES-DE-HAUTE-PROVENCE   04  2012.0     17.015808    27.561647   \n",
      "24           ALPES-MARITIMES   06  1981.0     18.907738    22.689745   \n",
      "25           ALPES-MARITIMES   06  1988.0      9.087017    24.303620   \n",
      "26           ALPES-MARITIMES   06  1995.0     10.489333    27.080246   \n",
      "27           ALPES-MARITIMES   06  2002.0      9.605295    29.156020   \n",
      "28           ALPES-MARITIMES   06  2007.0      5.225032    45.815735   \n",
      "29           ALPES-MARITIMES   06  2012.0      9.429530    39.043559   \n",
      "..                       ...  ...     ...           ...          ...   \n",
      "546                   VENDEE   85  1981.0      9.903251    23.879906   \n",
      "547                   VENDEE   85  1988.0      6.687692    24.483794   \n",
      "548                   VENDEE   85  1995.0      9.300140    40.384218   \n",
      "549                   VENDEE   85  2002.0     12.409657    35.966014   \n",
      "550                   VENDEE   85  2007.0      5.988082    42.458555   \n",
      "551                   VENDEE   85  2012.0     10.588485    35.287343   \n",
      "552                   VIENNE   86  1981.0     16.765356    22.041921   \n",
      "553                   VIENNE   86  1988.0     10.809642    21.779725   \n",
      "554                   VIENNE   86  1995.0     13.633280    28.325828   \n",
      "555                   VIENNE   86  2002.0     16.024641    32.073989   \n",
      "556                   VIENNE   86  2007.0      7.619842    33.114892   \n",
      "557                   VIENNE   86  2012.0     13.058430    26.788823   \n",
      "558                   VOSGES   88  1981.0     15.833718    21.695335   \n",
      "559                   VOSGES   88  1988.0      8.386278    19.183396   \n",
      "560                   VOSGES   88  1995.0     11.233712    25.204697   \n",
      "561                   VOSGES   88  2002.0     14.504571    26.332494   \n",
      "562                   VOSGES   88  2007.0      8.175082    32.641624   \n",
      "563                   VOSGES   88  2012.0     12.018738    28.034032   \n",
      "564                    YONNE   89  1981.0     17.424149    20.929056   \n",
      "565                    YONNE   89  1988.0     10.313464    19.917029   \n",
      "566                    YONNE   89  1995.0     13.131725    26.510085   \n",
      "567                    YONNE   89  2002.0     13.482864    28.058302   \n",
      "568                    YONNE   89  2007.0      7.980092    36.720150   \n",
      "569                    YONNE   89  2012.0     12.019126    30.063304   \n",
      "570                 YVELINES   78  1981.0     15.740448    25.043159   \n",
      "571                 YVELINES   78  1988.0      8.799271    24.257018   \n",
      "572                 YVELINES   78  1995.0     11.394372    30.490498   \n",
      "573                 YVELINES   78  2002.0      9.999634    29.554542   \n",
      "574                 YVELINES   78  2007.0      5.196419    39.914776   \n",
      "575                 YVELINES   78  2012.0     10.341311    36.025664   \n",
      "\n",
      "     taux_centre  taux_vert  taux_xdroite  taux_gauche  depart_frontalier  \\\n",
      "0      31.660729   4.226724      0.000000    27.982284                  1   \n",
      "1      21.290640   4.065072     16.041776    31.377812                  1   \n",
      "2      19.814177   3.932995     19.751523    20.553725                  1   \n",
      "3       8.927322   7.374661     25.246258    20.716478                  1   \n",
      "4      19.637678   3.020936     12.233715    20.826783                  1   \n",
      "5      10.186437   2.305201     20.570729    22.782257                  1   \n",
      "6      25.479831   3.213391      0.000000    26.905198                  1   \n",
      "7      13.345308   3.280391     13.408073    39.529372                  1   \n",
      "8      15.627209   2.432225     17.680670    24.381534                  1   \n",
      "9       6.224451   5.001886     23.803360    21.275227                  1   \n",
      "10     13.475155   2.258763     17.288202    23.467383                  1   \n",
      "11      6.653430   1.150206     26.319689    27.186240                  1   \n",
      "12     25.261637   3.088417      0.000000    25.504022                  0   \n",
      "13     15.061976   2.989122     10.202345    30.483527                  0   \n",
      "14     16.848851   2.763079     11.284611    22.246638                  0   \n",
      "15      7.779366   5.311751     15.988973    22.820796                  0   \n",
      "16     18.294917   2.517257     10.038644    25.722822                  0   \n",
      "17      8.670483   1.567809     18.371288    29.609286                  0   \n",
      "18     27.099863   4.380948      0.000000    26.968703                  1   \n",
      "19     15.684229   4.520314     16.708151    30.376664                  1   \n",
      "20     16.963456   4.187515     15.792410    22.704002                  1   \n",
      "21      6.912974   7.460364     19.439673    21.650025                  1   \n",
      "22     16.582314   3.939941     11.249211    25.251382                  1   \n",
      "23      7.418742   2.907060     20.728042    24.368700                  1   \n",
      "24     31.980098   3.702656      0.000000    22.719763                  1   \n",
      "25     14.923316   3.002109     24.296226    24.387713                  1   \n",
      "26     20.779946   2.668163     22.601468    16.380844                  1   \n",
      "27      7.527305   6.434180     28.667437    18.609763                  1   \n",
      "28     14.864251   2.449174     13.557069    18.088739                  1   \n",
      "29      6.676322   2.149164     23.512301    19.189123                  1   \n",
      "..           ...        ...           ...          ...                ...   \n",
      "546    36.795759   3.517708      0.000000    25.903376                  0   \n",
      "547    23.979227   3.911855      8.670092    32.267341                  0   \n",
      "548    20.152709   3.264246      7.277059    19.621628                  0   \n",
      "549    10.407911   7.398014     13.288325    20.530079                  0   \n",
      "550    20.781877   2.518148      6.430691    21.822646                  0   \n",
      "551    12.140632   1.869107     15.184317    24.930115                  0   \n",
      "552    27.701846   3.367500      0.000000    30.123378                  0   \n",
      "553    16.442394   3.869962      9.270801    37.827476                  0   \n",
      "554    18.260492   3.906349     10.429392    25.444659                  0   \n",
      "555     7.841399   7.614303     12.557595    23.888073                  0   \n",
      "556    18.945988   2.873566      8.378416    29.067296                  0   \n",
      "557     9.586753   2.166128     16.451372    31.948496                  0   \n",
      "558    29.899146   3.727696      0.000000    28.844105                  0   \n",
      "559    17.396277   4.825237     14.903546    35.305266                  0   \n",
      "560    18.040298   3.530371     20.008247    21.982675                  0   \n",
      "561     7.712244   6.384167     23.754261    21.312263                  0   \n",
      "562    17.726638   3.075556     15.636432    22.744668                  0   \n",
      "563     9.422929   1.758769     24.138325    24.627207                  0   \n",
      "564    30.270169   3.840814      0.000000    27.535812                  0   \n",
      "565    17.272502   3.632293     15.638503    33.226209                  0   \n",
      "566    19.052435   3.443360     16.968769    20.893626                  0   \n",
      "567     7.423942   6.043734     24.345968    20.645190                  0   \n",
      "568    17.482318   2.827969     14.177138    20.812334                  0   \n",
      "569     8.483935   1.763138     23.624554    24.045944                  0   \n",
      "570    27.218943   5.033860      0.000000    26.963590                  0   \n",
      "571    18.345994   3.940370     15.116047    29.541301                  0   \n",
      "572    19.494461   3.389741     13.816996    21.413933                  0   \n",
      "573    11.061217   8.437214     16.754191    24.193202                  0   \n",
      "574    21.770150   2.494485      7.314038    23.310132                  0   \n",
      "575    11.191823   2.487827     12.394897    27.558479                  0   \n",
      "\n",
      "           ...            75+ans      Total  \\\n",
      "0          ...           22675.0   404139.0   \n",
      "1          ...           27199.0   449311.0   \n",
      "2          ...           27291.0   491135.0   \n",
      "3          ...           33769.0   528195.0   \n",
      "4          ...           40230.0   566740.0   \n",
      "5          ...           45653.0   603827.0   \n",
      "6          ...           29795.0   533201.0   \n",
      "7          ...           32578.0   536586.0   \n",
      "8          ...           29666.0   537926.0   \n",
      "9          ...           38107.0   536626.0   \n",
      "10         ...           44659.0   537061.0   \n",
      "11         ...           47631.0   541302.0   \n",
      "12         ...           30014.0   372252.0   \n",
      "13         ...           33999.0   364171.0   \n",
      "14         ...           31565.0   352441.0   \n",
      "15         ...           37633.0   344551.0   \n",
      "16         ...           41801.0   343309.0   \n",
      "17         ...           44468.0   342729.0   \n",
      "18         ...            8354.0   116770.0   \n",
      "19         ...           10330.0   127026.0   \n",
      "20         ...           10392.0   135216.0   \n",
      "21         ...           13281.0   143574.0   \n",
      "22         ...           15680.0   154501.0   \n",
      "23         ...           17846.0   160959.0   \n",
      "24         ...           79025.0   860094.0   \n",
      "25         ...           95873.0   935609.0   \n",
      "26         ...           97441.0   998779.0   \n",
      "27         ...          111310.0  1026455.0   \n",
      "28         ...          121321.0  1073184.0   \n",
      "29         ...          127446.0  1081244.0   \n",
      "..         ...               ...        ...   \n",
      "546        ...           28370.0   472725.0   \n",
      "547        ...           34793.0   501189.0   \n",
      "548        ...           35835.0   522513.0   \n",
      "549        ...           47362.0   554088.0   \n",
      "550        ...           57091.0   597185.0   \n",
      "551        ...           67178.0   641657.0   \n",
      "552        ...           24957.0   366876.0   \n",
      "553        ...           29660.0   376706.0   \n",
      "554        ...           29163.0   388170.0   \n",
      "555        ...           35257.0   403958.0   \n",
      "556        ...           40021.0   418460.0   \n",
      "557        ...           43961.0   428447.0   \n",
      "558        ...           22908.0   396341.0   \n",
      "559        ...           27054.0   389432.0   \n",
      "560        ...           25735.0   384282.0   \n",
      "561        ...           30301.0   380956.0   \n",
      "562        ...           34853.0   379975.0   \n",
      "563        ...           38378.0   378830.0   \n",
      "564        ...           25206.0   307130.0   \n",
      "565        ...           28549.0   318711.0   \n",
      "566        ...           26659.0   328907.0   \n",
      "567        ...           31487.0   335056.0   \n",
      "568        ...           35668.0   340088.0   \n",
      "569        ...           37565.0   342463.0   \n",
      "570        ...           42289.0  1159303.0   \n",
      "571        ...           50095.0  1261251.0   \n",
      "572        ...           52559.0  1340268.0   \n",
      "573        ...           65788.0  1365015.0   \n",
      "574        ...           79787.0  1395804.0   \n",
      "575        ...           94835.0  1413635.0   \n",
      "\n",
      "     Naissances domiciliées par département  \\\n",
      "0                                    5996.0   \n",
      "1                                    6129.0   \n",
      "2                                    6001.0   \n",
      "3                                    6575.0   \n",
      "4                                    7228.0   \n",
      "5                                    7265.0   \n",
      "6                                    8807.0   \n",
      "7                                    8043.0   \n",
      "8                                    6928.0   \n",
      "9                                    7008.0   \n",
      "10                                   7041.0   \n",
      "11                                   6939.0   \n",
      "12                                   4255.0   \n",
      "13                                   3697.0   \n",
      "14                                   3311.0   \n",
      "15                                   3536.0   \n",
      "16                                   3503.0   \n",
      "17                                   3196.0   \n",
      "18                                   1306.0   \n",
      "19                                   1515.0   \n",
      "20                                   1377.0   \n",
      "21                                   1529.0   \n",
      "22                                   1536.0   \n",
      "23                                   1578.0   \n",
      "24                                   9458.0   \n",
      "25                                  10577.0   \n",
      "26                                  10786.0   \n",
      "27                                  11304.0   \n",
      "28                                  11754.0   \n",
      "29                                  11999.0   \n",
      "..                                      ...   \n",
      "546                                  7514.0   \n",
      "547                                  6464.0   \n",
      "548                                  5560.0   \n",
      "549                                  6660.0   \n",
      "550                                  7589.0   \n",
      "551                                  7442.0   \n",
      "552                                  5084.0   \n",
      "553                                  4372.0   \n",
      "554                                  3967.0   \n",
      "555                                  4702.0   \n",
      "556                                  4850.0   \n",
      "557                                  4885.0   \n",
      "558                                  6069.0   \n",
      "559                                  5371.0   \n",
      "560                                  4573.0   \n",
      "561                                  4458.0   \n",
      "562                                  4416.0   \n",
      "563                                  3883.0   \n",
      "564                                  4306.0   \n",
      "565                                  4121.0   \n",
      "566                                  3666.0   \n",
      "567                                  3885.0   \n",
      "568                                  3929.0   \n",
      "569                                  3699.0   \n",
      "570                                 19516.0   \n",
      "571                                 19849.0   \n",
      "572                                 19516.0   \n",
      "573                                 19827.0   \n",
      "574                                 20438.0   \n",
      "575                                 19886.0   \n",
      "\n",
      "     Nombre total de mariages domiciliés  Décès domiciliés par département  \\\n",
      "0                                 2251.0                            3854.0   \n",
      "1                                 1950.0                            3728.0   \n",
      "2                                 2033.0                            3912.0   \n",
      "3                                 2394.0                            4036.0   \n",
      "4                                 2340.0                            4070.0   \n",
      "5                                 2156.0                            4305.0   \n",
      "6                                 3459.0                            5777.0   \n",
      "7                                 2439.0                            5538.0   \n",
      "8                                 2128.0                            5154.0   \n",
      "9                                 2390.0                            5368.0   \n",
      "10                                2188.0                            5220.0   \n",
      "11                                2050.0                            5341.0   \n",
      "12                                1938.0                            4839.0   \n",
      "13                                1376.0                            4792.0   \n",
      "14                                1201.0                            4423.0   \n",
      "15                                1337.0                            4441.0   \n",
      "16                                1238.0                            4105.0   \n",
      "17                                1060.0                            4221.0   \n",
      "18                                 681.0                            1366.0   \n",
      "19                                 607.0                            1350.0   \n",
      "20                                 526.0                            1440.0   \n",
      "21                                 563.0                            1502.0   \n",
      "22                                 678.0                            1572.0   \n",
      "23                                 519.0                            1657.0   \n",
      "24                                4926.0                           11101.0   \n",
      "25                                4602.0                           11228.0   \n",
      "26                                4471.0                           11463.0   \n",
      "27                                4705.0                           11456.0   \n",
      "28                                4776.0                           10772.0   \n",
      "29                                4489.0                           10670.0   \n",
      "..                                   ...                               ...   \n",
      "546                               2935.0                            4864.0   \n",
      "547                               2002.0                            4951.0   \n",
      "548                               1969.0                            4868.0   \n",
      "549                               2386.0                            5463.0   \n",
      "550                               2427.0                            5670.0   \n",
      "551                               2207.0                            5823.0   \n",
      "552                               2112.0                            3708.0   \n",
      "553                               1525.0                            3628.0   \n",
      "554                               1475.0                            3698.0   \n",
      "555                               1756.0                            3926.0   \n",
      "556                               1650.0                            3834.0   \n",
      "557                               1329.0                            4079.0   \n",
      "558                               2353.0                            4288.0   \n",
      "559                               1703.0                            4217.0   \n",
      "560                               1469.0                            3944.0   \n",
      "561                               1567.0                            3938.0   \n",
      "562                               1365.0                            3817.0   \n",
      "563                               1146.0                            3941.0   \n",
      "564                               1587.0                            4017.0   \n",
      "565                               1238.0                            4047.0   \n",
      "566                               1214.0                            3914.0   \n",
      "567                               1384.0                            4086.0   \n",
      "568                               1369.0                            3842.0   \n",
      "569                               1173.0                            3900.0   \n",
      "570                               6612.0                            7697.0   \n",
      "571                               6063.0                            7684.0   \n",
      "572                               6325.0                            8197.0   \n",
      "573                               6920.0                            8247.0   \n",
      "574                               6292.0                            8072.0   \n",
      "575                               5196.0                            8430.0   \n",
      "\n",
      "     Q1_rate  Q2_rate  Q3_rate  Q4_rate  var_chomage_annee  \n",
      "0        3.6      3.7      3.8      4.0                NaN  \n",
      "1        5.4      5.3      5.2      5.1               -0.3  \n",
      "2        7.6      7.6      7.4      7.1               -0.3  \n",
      "3        3.7      3.7      3.9      4.2                0.3  \n",
      "4        5.6      5.4      5.4      5.1               -0.6  \n",
      "5        6.3      6.2      6.3      6.5                0.1  \n",
      "6        8.1      8.3      8.4      8.3                NaN  \n",
      "7       10.7     10.6     10.5     10.5               -0.2  \n",
      "8       12.0     12.2     12.1     11.9                0.4  \n",
      "9       10.2     10.0     10.0      9.9               -0.4  \n",
      "10      11.6     11.5     11.3     10.7               -0.9  \n",
      "11      12.6     12.6     12.6     13.1                0.6  \n",
      "12       7.0      7.2      7.3      7.4                NaN  \n",
      "13      11.1     11.0     10.6     10.6               -0.1  \n",
      "14      11.4     11.5     11.3     11.0               -0.1  \n",
      "15       8.4      8.2      7.8      7.8               -0.5  \n",
      "16       8.7      8.6      8.6      8.1               -0.5  \n",
      "17       9.2      9.2      9.3      9.5                0.4  \n",
      "18       5.2      5.4      5.5      5.8                NaN  \n",
      "19       7.2      7.0      6.9      6.9               -0.5  \n",
      "20       9.6      9.7      9.7      9.6                0.2  \n",
      "21       9.0      9.0      8.9      8.9               -0.2  \n",
      "22       9.3      9.1      9.1      8.6               -0.6  \n",
      "23       9.8     10.0     10.4     10.5                0.8  \n",
      "24       8.2      8.4      8.8      8.9                NaN  \n",
      "25       8.8      8.7      8.6      8.5               -0.3  \n",
      "26      11.6     11.6     11.4     11.3                0.0  \n",
      "27       8.5      8.3      8.2      8.2               -0.5  \n",
      "28       8.4      8.3      8.3      7.9               -0.5  \n",
      "29       8.6      8.6      8.8      9.0                0.5  \n",
      "..       ...      ...      ...      ...                ...  \n",
      "546      5.4      5.5      5.8      6.0                NaN  \n",
      "547      8.3      8.3      8.2      8.2               -0.1  \n",
      "548      8.5      8.6      8.5      8.2               -0.2  \n",
      "549      5.5      5.5      5.5      5.6                0.0  \n",
      "550      6.7      6.5      6.4      6.0               -0.6  \n",
      "551      7.0      7.0      7.1      7.3                0.1  \n",
      "552      6.8      7.0      7.4      7.5                NaN  \n",
      "553      9.3      9.3      9.1      9.0               -0.4  \n",
      "554      9.3      9.3      9.1      8.9               -0.1  \n",
      "555      6.4      6.4      6.3      6.3               -0.3  \n",
      "556      7.7      7.6      7.6      7.0               -0.6  \n",
      "557      7.7      7.6      7.7      7.8                0.0  \n",
      "558      6.8      6.9      6.9      6.9                NaN  \n",
      "559      9.5      9.7      9.7      9.4               -0.1  \n",
      "560      9.6      9.7      9.6      9.3               -0.1  \n",
      "561      7.2      7.0      7.2      7.5                0.1  \n",
      "562      9.9      9.8      9.7      9.0               -0.7  \n",
      "563      9.8      9.8     10.0     10.5                0.6  \n",
      "564      6.3      6.5      6.8      6.7                NaN  \n",
      "565      8.4      8.6      8.6      8.5                0.1  \n",
      "566     10.1     10.3     10.0      9.6               -0.2  \n",
      "567      6.1      6.1      6.1      6.2               -0.2  \n",
      "568      8.3      8.1      8.1      7.6               -0.6  \n",
      "569      8.7      8.6      8.7      8.9                0.2  \n",
      "570      3.7      3.7      3.7      3.7                NaN  \n",
      "571      5.0      5.2      5.2      5.1                0.2  \n",
      "572      7.3      7.4      7.3      7.1               -0.1  \n",
      "573      4.7      4.6      4.8      5.0                0.1  \n",
      "574      6.6      6.4      6.4      6.0               -0.6  \n",
      "575      6.5      6.4      6.4      6.5                0.0  \n",
      "\n",
      "[576 rows x 26 columns]\n"
     ]
    }
   ],
   "source": [
    "print(df_merged2)\n",
    "df_merged2.to_csv(\"la_base.csv\")"
   ]
  },
  {
   "cell_type": "code",
   "execution_count": 239,
   "metadata": {
    "collapsed": false
   },
   "outputs": [],
   "source": [
    "elections_par_annees = dft1.groupby(\"Année\")[\"taux_centre\", \"taux_droite\", \"taux_gauche\", \"taux_vert\", \"taux_xdroite\", \"taux_xgauche\"].mean()\n",
    "dft11 = df_merged2\n",
    "for taux in [\"taux_centre\", \"taux_droite\", \"taux_gauche\", \"taux_vert\", \"taux_xdroite\", \"taux_xgauche\"]:\n",
    "    dft11[taux+\"_sup_moyenne\"] = 0\n",
    "for taux in [\"taux_centre\", \"taux_droite\", \"taux_gauche\", \"taux_vert\", \"taux_xdroite\", \"taux_xgauche\"]:\n",
    "    for year in elections_par_annees.index.unique():\n",
    "        temp = dft11[dft11[\"Année\"]==year][taux] > elections_par_annees.loc[year][taux]\n",
    "        dft11.set_value(temp.index, taux+\"_sup_moyenne\", temp)\n"
   ]
  },
  {
   "cell_type": "code",
   "execution_count": 240,
   "metadata": {
    "collapsed": false
   },
   "outputs": [],
   "source": [
    "for taux in [\"taux_centre\", \"taux_droite\", \"taux_gauche\", \"taux_vert\", \"taux_xdroite\", \"taux_xgauche\"]:\n",
    "    dft11[taux+\"_sup_moyenne\"] = dft11.groupby(\"code\")[taux+\"_sup_moyenne\"].cumsum()"
   ]
  },
  {
   "cell_type": "code",
   "execution_count": 241,
   "metadata": {
    "collapsed": true
   },
   "outputs": [],
   "source": [
    "pop = pd.read_csv(\"popularite_partis.csv\")\n",
    "pop = pop.drop([\"Unnamed: 0\", \"Pas Confiance\"], axis=1)"
   ]
  },
  {
   "cell_type": "code",
   "execution_count": 242,
   "metadata": {
    "collapsed": false
   },
   "outputs": [],
   "source": [
    "pop.head()\n",
    "pop = pop.pivot(index='Date', columns=\"Parti\", values='Confiance')"
   ]
  },
  {
   "cell_type": "code",
   "execution_count": 243,
   "metadata": {
    "collapsed": false
   },
   "outputs": [],
   "source": [
    "pop = pop.rename(columns={\"Verts\":\"pop_verts\", \"centre\":\"pop_centre\", \"droite\":\"pop_droite\", \"gauche\":\"pop_gauche\", \\\n",
    "                    \"xdroite\":\"pop_xdroite\", \"xgauche\":\"pop_xgauche\"})\n",
    "pop = pop.reset_index()\n"
   ]
  },
  {
   "cell_type": "code",
   "execution_count": null,
   "metadata": {
    "collapsed": false
   },
   "outputs": [],
   "source": []
  },
  {
   "cell_type": "code",
   "execution_count": 245,
   "metadata": {
    "collapsed": false
   },
   "outputs": [
    {
     "name": "stdout",
     "output_type": "stream",
     "text": [
      "Parti  Date  pop_verts  pop_centre  pop_droite  pop_gauche  pop_xdroite  \\\n",
      "0      1974        NaN         NaN         NaN   65.666667          NaN   \n",
      "1      1975        NaN         NaN         NaN   61.250000          NaN   \n",
      "2      1976        NaN         NaN         NaN   58.000000          NaN   \n",
      "3      1977        NaN         NaN         NaN   58.833333          NaN   \n",
      "4      1978        NaN        36.0   37.272727   55.333333          NaN   \n",
      "\n",
      "Parti  pop_xgauche  \n",
      "0        36.333333  \n",
      "1        30.166667  \n",
      "2        30.666667  \n",
      "3        30.250000  \n",
      "4        28.666667  \n"
     ]
    }
   ],
   "source": [
    "print(pop.head())\n"
   ]
  },
  {
   "cell_type": "code",
   "execution_count": 246,
   "metadata": {
    "collapsed": false,
    "scrolled": true
   },
   "outputs": [],
   "source": [
    "dft11 = dft11.merge(pop, how='left', left_on=[\"Année\"], right_on=[\"Date\"])"
   ]
  },
  {
   "cell_type": "code",
   "execution_count": 247,
   "metadata": {
    "collapsed": false
   },
   "outputs": [],
   "source": [
    "dft11.to_csv(\"la_base.csv\")"
   ]
  },
  {
   "cell_type": "code",
   "execution_count": 248,
   "metadata": {
    "collapsed": false
   },
   "outputs": [
    {
     "name": "stdout",
     "output_type": "stream",
     "text": [
      "96 6\n"
     ]
    }
   ],
   "source": [
    "print(len(dft11.code.unique()), len(dft11[\"Année\"].unique()))"
   ]
  },
  {
   "cell_type": "code",
   "execution_count": 249,
   "metadata": {
    "collapsed": false
   },
   "outputs": [
    {
     "name": "stdout",
     "output_type": "stream",
     "text": [
      "(576, 39)\n"
     ]
    }
   ],
   "source": [
    "print(dft11.shape)"
   ]
  },
  {
   "cell_type": "code",
   "execution_count": 250,
   "metadata": {
    "collapsed": false
   },
   "outputs": [
    {
     "name": "stdout",
     "output_type": "stream",
     "text": [
      "576\n"
     ]
    }
   ],
   "source": []
  }
 ],
 "metadata": {
  "kernelspec": {
   "display_name": "Python [conda root]",
   "language": "python",
   "name": "conda-root-py"
  },
  "language_info": {
   "codemirror_mode": {
    "name": "ipython",
    "version": 3
   },
   "file_extension": ".py",
   "mimetype": "text/x-python",
   "name": "python",
   "nbconvert_exporter": "python",
   "pygments_lexer": "ipython3",
   "version": "3.5.2"
  }
 },
 "nbformat": 4,
 "nbformat_minor": 1
}
