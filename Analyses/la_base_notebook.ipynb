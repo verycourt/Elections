{
 "cells": [
  {
   "cell_type": "markdown",
   "metadata": {},
   "source": [
    "# Data engineering sur les données de vote + données sociales-éco-démo pour générer une table sur laquelle nous créerons des modèles de prédiction"
   ]
  },
  {
   "cell_type": "code",
   "execution_count": 414,
   "metadata": {
    "collapsed": false
   },
   "outputs": [],
   "source": [
    "import pandas as pd\n",
    "import numpy as np \n",
    "import seaborn as sns\n",
    "import glob, os\n",
    "path = \"C:\\\\Users\\\\Mohamed\\\\MS BGD\\\\fil_rouge_lepoint\\\\Predictions éléctions\\\\PRESIDENTIELLES_1965-2012-csv\\\\\" \n",
    "path_to_csv = \"C:\\\\Users\\\\Mohamed\\\\git\\\\Elections\\\\Analyses\\\\Jointure des tables\\\\\""
   ]
  },
  {
   "cell_type": "markdown",
   "metadata": {},
   "source": [
    "### Import et manipulation data de votes 1965 - 2012"
   ]
  },
  {
   "cell_type": "code",
   "execution_count": 415,
   "metadata": {
    "collapsed": false
   },
   "outputs": [],
   "source": [
    "dft1 = pd.DataFrame()\n",
    "dft2 = pd.DataFrame()\n",
    "\n",
    "partis_politique = {\"BALLADUR (UDF)\": \"centre\", 'BARBU (DIV)':\"xgauche\", 'BARRE (UDF)':\"centre\", 'BAYROU (UDF)': \"centre\",\\\n",
    "                   'BESANCENOT (LCR)' : \"xgauche\", 'BOUCHARDEAU (PSU)': \"xgauche\", 'BOUSSEL (MPT)': \"xgauche\", 'BOUTIN (UDF DISS.)' :\"centre\",\\\n",
    "                   'BOVE' : 'vert', \"BUFFET (PC)\": \"xgauche\", 'CHABAN-DELMAS (UDR)': \"droite\", \"CHEMINADE (POE)\": \"droite\", \\\n",
    "                   'CHEVENEMENT (P. REP)':\"gauche\", 'CHIRAC (RPR)' : \"droite\", 'CHIRAC (UMP)': \"droite\", 'CREPEAU (MRG)': \"gauche\",\\\n",
    "                   'DE GAULLE (UNR)':\"droite\", 'DE VILLIERS (MPF)': \"droite\", \"DE VILLIERS MPF)\":\"droite\", 'DEBRE (DVD)':\"droite\",\\\n",
    "                   'DEFFERRE (SFIO)':\"gauche\", 'DUCATEL (DIV)':\"xgauche\",\\\n",
    "                   'DUCLOS (PCF)': \"xgauche\", 'DUMONT (ECO)':\"vert\", 'Eva JOLY (EELV)':\"vert\", \\\n",
    "                   'François BAYROU (MODEM)':\"centre\", 'François HOLLANDE (PS)':\"gauche\", 'GARAUD (DVD)':\"droite\",\\\n",
    "                   \"GISCARD D'ESTAING (RI)\":\"centre\", \"GISCARD D'ESTAING (UDF)\":\"centre\", 'GLUCKSTEIN (PT)':\"xgauche\",\\\n",
    "                   'HERAUD (DIV)':\"xgauche\", 'HUE (PCF)':\"xgauche\", 'JOSPIN (PS)':\"gauche\", 'JUQUIN ( )':\"xgauche\",\\\n",
    "                   'Jacques CHEMINADE (SP)':\"droite\", 'Jean-Luc MELENCHON (FG)':\"xgauche\", 'KRIVINE (LCR)':\"xgauche\",\\\n",
    "                   'LAGUILLER (LO)':\"xgauche\", 'LAJOINIE (PCF)':\"xgauche\", 'LALONDE (ECO)':\"vert\", 'LE PEN (FN)':\"xdroite\",\\\n",
    "                   'LECANUET (MRP)':\"centre\", 'LEPAGE (CAP 21)':\"vert\", 'MADELIN (DL)':\"droite\", 'MAMERE (VERTS)':\"vert\",\\\n",
    "                   'MARCHAIS (PCF)':\"xgauche\", 'MARCILHACY (DVD)':\"droite\", 'MEGRET (MNR)':\"xdroite\",\\\n",
    "                   'MITTERRAND (CIR)':\"gauche\", 'MITTERRAND (PS)':\"gauche\", 'MULLER (MDSR)':\"droite\",\\\n",
    "                   'Marine LE PEN (FN)': \"xdroite\", 'NIHOUS (CNPT)':\"droite\", 'Nathalie ARTHAUD (LO)':\"xgauche\",\\\n",
    "                   'Nicolas DUPONT-AIGNAN (DLR)':\"droite\", 'Nicolas SARKOZY (UMP)':\"droite\", 'POHER (CD)':\"centre\",\\\n",
    "                   'POMPIDOU (UDR)':\"droite\", 'Philippe POUTOU (NPA)':\"xgauche\", 'RENOUVIN (NAR)':\"xdroite\",\\\n",
    "                   'ROCARD (PSU)': \"gauche\", 'ROYAL (PS)': \"gauche\", 'ROYER (DVD)':\"droite\", 'SAINT-JOSSE (CNPT)':\"droite\",\\\n",
    "                   'SARKOZY (UMP)':\"droite\", 'SCHIVARDI (PT)':\"xgauche\", 'SEBAG (DIV)':\"xgauche\", 'TAUBIRA (PRG)':\"gauche\",\\\n",
    "                   'TIXIER-VIGNANCOUR (EXD)':\"xdroite\", 'VOYNET (VERTS)':\"vert\", 'WAECHTER (V)':\"vert\"}\n",
    "\n",
    "#on liste les partis uniques\n",
    "liste_parties_uniques = np.unique(list(partis_politique.values()))\n",
    "#on boucle sur tous les fichiers\n",
    "for file in os.listdir(path):\n",
    "    \n",
    "    #On garde que les csv\n",
    "    if file.endswith(\".csv\"):\n",
    "        \n",
    "        df = pd.DataFrame()\n",
    "        df = pd.read_csv(path+file)\n",
    "        df = df.rename(columns={\"Code du département\": \"code\", \"Code département\": \"code\",\\\n",
    "                                \"Code dÃ©partement\": \"code\",\\\n",
    "                                \"Libellé du département\": \"département\", \"Code département.1\":\"département\",\n",
    "                               'Code de la circonscription': \"circonscription\"})\n",
    "\n",
    "        for partie in liste_parties_uniques:\n",
    "            df[partie] = 0\n",
    "\n",
    "        for col in df.columns: \n",
    "            if col in partis_politique:\n",
    "                df[partis_politique[col]]+=df[col]\n",
    "        df.drop(list(partis_politique.keys()),inplace=True,axis=1,errors='ignore')\n",
    "        df[\"Année\"] = file[10:14]\n",
    "\n",
    "        if \"t1\" in file and \"commp\" not in file:\n",
    "            dft1 = dft1.append(df)\n",
    "        \n",
    "        if \"t2\" in file and \"commp\" not in file:\n",
    "            dft2 = dft2.append(df)\n",
    "            \n",
    "            "
   ]
  },
  {
   "cell_type": "code",
   "execution_count": 416,
   "metadata": {
    "collapsed": false
   },
   "outputs": [
    {
     "data": {
      "text/plain": [
       "Index(['code', 'département', 'circonscription', 'Inscrits', 'Votants',\n",
       "       'Exprimés', 'Blancs et nuls', 'centre', 'droite', 'gauche', 'vert',\n",
       "       'xdroite', 'xgauche', 'Année'],\n",
       "      dtype='object')"
      ]
     },
     "execution_count": 416,
     "metadata": {},
     "output_type": "execute_result"
    }
   ],
   "source": []
  },
  {
   "cell_type": "code",
   "execution_count": 361,
   "metadata": {
    "collapsed": false
   },
   "outputs": [],
   "source": [
    "#print([item for item in dft2.columns if item not in list(partis_politique.keys()) ])\n",
    "#print(list(dft1.columns))\n",
    "#print(list(dft2.columns))\n",
    "\n",
    "dft1[\"Abstention\"] = dft1[\"Inscrits\"] - dft1[\"Votants\"]\n",
    "dft2[\"Abstention\"] = dft2[\"Inscrits\"] - dft2[\"Votants\"]\n",
    "\n",
    "liste_parties_uniques = list(liste_parties_uniques)\n",
    "liste_parties_uniques.append(\"Abstention\")\n",
    "liste_parties_uniques.append(\"Blancs et nuls\")\n",
    "\n",
    "for col in liste_parties_uniques:\n",
    "    dft1[\"taux_\"+col] = dft1[col]*100/dft1[\"Exprimés\"]   \n",
    "    dft2[\"taux_\"+col] = dft2[col]*100/dft2[\"Exprimés\"]   \n",
    "\n",
    "dft1.to_csv(path_to_csv+\"base_resultats_elections_t1.csv\", index = False)\n",
    "dft1.to_csv(path_to_csv+\"base_resultats_elections_t2.csv\", index = False)"
   ]
  },
  {
   "cell_type": "code",
   "execution_count": 362,
   "metadata": {
    "collapsed": false
   },
   "outputs": [
    {
     "name": "stdout",
     "output_type": "stream",
     "text": [
      "Index(['code', 'département', 'circonscription', 'Inscrits', 'Votants',\n",
      "       'Exprimés', 'Blancs et nuls', 'centre', 'droite', 'gauche', 'vert',\n",
      "       'xdroite', 'xgauche', 'Année', 'Abstention', 'taux_centre',\n",
      "       'taux_droite', 'taux_gauche', 'taux_vert', 'taux_xdroite',\n",
      "       'taux_xgauche', 'taux_Abstention', 'taux_Blancs et nuls'],\n",
      "      dtype='object')\n",
      "['centre', 'droite', 'gauche', 'vert', 'xdroite', 'xgauche', 'Abstention', 'Blancs et nuls']\n"
     ]
    }
   ],
   "source": [
    "print(dft1.columns)\n",
    "\n",
    "print(liste_parties_uniques)"
   ]
  },
  {
   "cell_type": "code",
   "execution_count": 363,
   "metadata": {
    "collapsed": false
   },
   "outputs": [
    {
     "name": "stdout",
     "output_type": "stream",
     "text": [
      "    code                       département circonscription  Inscrits  Votants  \\\n",
      "0      1                               AIN               1     68818    54262   \n",
      "1      1                               AIN               2     70186    57221   \n",
      "2      1                               AIN               3     67492    55503   \n",
      "3      2                             AISNE               1     52618    46064   \n",
      "4      2                             AISNE               2     68770    59908   \n",
      "5      2                             AISNE               3     48492    42604   \n",
      "6      2                             AISNE               4     53732    47000   \n",
      "7      2                             AISNE               5     67138    58058   \n",
      "8      3                            ALLIER               1     55694    45789   \n",
      "9      3                            ALLIER               2     64120    54742   \n",
      "10     3                            ALLIER               3     57620    48003   \n",
      "11     3                            ALLIER               4     66930    56008   \n",
      "12     4           ALPES-DE-HAUTE-PROVENCE               1     31060    25172   \n",
      "13     4           ALPES-DE-HAUTE-PROVENCE               2     31536    26193   \n",
      "14     5                      HAUTES-ALPES               1     31580    25916   \n",
      "15     5                      HAUTES-ALPES               2     25998    19854   \n",
      "16     6                   ALPES-MARITIMES               1     62170    52636   \n",
      "17     6                   ALPES-MARITIMES               2     66974    56657   \n",
      "18     6                   ALPES-MARITIMES               3     69269    58278   \n",
      "19     6                   ALPES-MARITIMES               4     60930    51035   \n",
      "20     6                   ALPES-MARITIMES               5     75032    64257   \n",
      "21     6                   ALPES-MARITIMES               6     74594    62918   \n",
      "22     7                           ARDECHE               1     58401    49565   \n",
      "23     7                           ARDECHE               2     56480    47425   \n",
      "24     7                           ARDECHE               3     50745    41450   \n",
      "25     8                          ARDENNES               1     54115    45812   \n",
      "26     8                          ARDENNES               2     60575    51791   \n",
      "27     8                          ARDENNES               3     52089    44594   \n",
      "28     9                            ARIEGE               1     45146    36966   \n",
      "29     9                            ARIEGE               2     49596    40288   \n",
      "..   ...                               ...             ...       ...      ...   \n",
      "547  973                            GUYANE               1     46084    24412   \n",
      "548  973                            GUYANE               2     30790    14756   \n",
      "549  974                        LA REUNION               1     73748    48384   \n",
      "550  974                        LA REUNION               2     83925    54711   \n",
      "551  974                        LA REUNION               3     83635    55970   \n",
      "552  974                        LA REUNION               4     94808    65671   \n",
      "553  974                        LA REUNION               5     75680    46884   \n",
      "554  974                        LA REUNION               6     67693    42638   \n",
      "555  974                        LA REUNION               7     98920    65130   \n",
      "556  975          SAINT-PIERRE-ET-MIQUELON               1      4923     2730   \n",
      "557  979  SAINT-BARTHELEMY et SAINT-MARTIN               1     22685     8277   \n",
      "558  985                           MAYOTTE               1     35496    16493   \n",
      "559  985                           MAYOTTE               2     41917    21189   \n",
      "560  986                  WALLIS ET FUTUNA               1      8940     6446   \n",
      "561  987               POLYNESIE FRANCAISE               1     67166    33759   \n",
      "562  987               POLYNESIE FRANCAISE               2     59397    28233   \n",
      "563  987               POLYNESIE FRANCAISE               3     60079    30108   \n",
      "564  988                NOUVELLE-CALEDONIE               1     76323    42230   \n",
      "565  988                NOUVELLE-CALEDONIE               2     89144    49398   \n",
      "566   99            FRANCAIS DE L'ETRANGER               1    157767    52936   \n",
      "567   99            FRANCAIS DE L'ETRANGER               2     73912    21264   \n",
      "568   99            FRANCAIS DE L'ETRANGER               3     88133    28410   \n",
      "569   99            FRANCAIS DE L'ETRANGER               4     95182    48202   \n",
      "570   99            FRANCAIS DE L'ETRANGER               5     80761    27546   \n",
      "571   99            FRANCAIS DE L'ETRANGER               6     79508    50050   \n",
      "572   99            FRANCAIS DE L'ETRANGER               7     89643    34662   \n",
      "573   99            FRANCAIS DE L'ETRANGER               8    109763    25297   \n",
      "574   99            FRANCAIS DE L'ETRANGER               9     98997    39110   \n",
      "575   99            FRANCAIS DE L'ETRANGER              10     89859    43077   \n",
      "576   99            FRANCAIS DE L'ETRANGER              11     80061    37150   \n",
      "\n",
      "     Exprimés  Blancs et nuls  centre  droite  gauche         ...           \\\n",
      "0       53769             493   11669   22183   16677         ...            \n",
      "1       56780             441    7936   27569   18247         ...            \n",
      "2       55006             497   10811   24500   15494         ...            \n",
      "3       45564             500    7242   23217   12999         ...            \n",
      "4       59145             763    8066   28791   19612         ...            \n",
      "5       41950             654    6688   20739   12231         ...            \n",
      "6       46369             631    6249   22267   15741         ...            \n",
      "7       57522             536    8791   26853   19314         ...            \n",
      "8       45289             500    6155   19010   17199         ...            \n",
      "9       54141             601    5171   19548   26943         ...            \n",
      "10      47540             463    6161   16631   21984         ...            \n",
      "11      55418             590    8882   22798   18735         ...            \n",
      "12      24848             324    3721    9179    9494         ...            \n",
      "13      25806             387    3061    9452   10496         ...            \n",
      "14      25582             334    4330   10507    8897         ...            \n",
      "15      19610             244    3017    9594    5741         ...            \n",
      "16      52032             604    7466   20705   17760         ...            \n",
      "17      56120             537    9291   22995   13831         ...            \n",
      "18      57597             681    8485   22683   17468         ...            \n",
      "19      50327             708    6213   23705   15405         ...            \n",
      "20      63551             706   10896   28705   15236         ...            \n",
      "21      62113             805    8584   28340   17184         ...            \n",
      "22      49125             440    6744   21300   18213         ...            \n",
      "23      46976             449    8933   22029   12769         ...            \n",
      "24      41069             381    7495   16989   13544         ...            \n",
      "25      45275             537    7357   21747   14076         ...            \n",
      "26      51311             480    5905   23528   19760         ...            \n",
      "27      44114             480    7161   21820   13210         ...            \n",
      "28      36597             369    2777   12109   19211         ...            \n",
      "29      39846             442    3084   15087   19105         ...            \n",
      "..        ...             ...     ...     ...     ...         ...            \n",
      "547     23320            1092    1528    6555    9971         ...            \n",
      "548     14092             664     801    4183    5972         ...            \n",
      "549     46872            1512    4118   11081   22104         ...            \n",
      "550     52264            2447    3567    9138   28653         ...            \n",
      "551     53341            2629    3599   10410   27218         ...            \n",
      "552     62984            2687    3081   12689   34728         ...            \n",
      "553     45144            1740    2129    7541   26541         ...            \n",
      "554     41082            1556    2387    7526   22611         ...            \n",
      "555     62398            2732    5972   11689   32154         ...            \n",
      "556      2631              99     194     565     888         ...            \n",
      "557      8033             244     473    3624    2151         ...            \n",
      "558     15757             736     849    6723    6558         ...            \n",
      "559     20226             963     656   11383    6594         ...            \n",
      "560      6407              39     410    2486    3093         ...            \n",
      "561     32971             788    2430   16132    9978         ...            \n",
      "562     27511             722    1170   14097    8572         ...            \n",
      "563     29337             771    1539   13244   10580         ...            \n",
      "564     41349             881    2487   22524    8162         ...            \n",
      "565     47910            1488    2092   22890   14073         ...            \n",
      "566     52394             542    6574   20620   14827         ...            \n",
      "567     20901             363    1591    8674    6068         ...            \n",
      "568     28141             269    3904    9896    9084         ...            \n",
      "569     47770             432    6639   17587   12144         ...            \n",
      "570     27241             305    2269   11088    7069         ...            \n",
      "571     49536             514    7168   21415    9700         ...            \n",
      "572     34344             318    4911   10932   10645         ...            \n",
      "573     25005             292    1722   12663    6047         ...            \n",
      "574     38789             321    2615   12663   16441         ...            \n",
      "575     42511             566    3779   18470   12897         ...            \n",
      "576     36662             488    4695   15798    9274         ...            \n",
      "\n",
      "     Année  Abstention  taux_centre taux_droite  taux_gauche  taux_vert  \\\n",
      "0     1965       14556    21.702096   41.256114    31.016013   0.000000   \n",
      "1     1965       12965    13.976752   48.554068    32.136316   0.000000   \n",
      "2     1965       11989    19.654220   44.540596    28.167836   0.000000   \n",
      "3     1965        6554    15.894127   50.954701    28.529102   0.000000   \n",
      "4     1965        8862    13.637670   48.678671    33.159185   0.000000   \n",
      "5     1965        5888    15.942789   49.437426    29.156138   0.000000   \n",
      "6     1965        6732    13.476676   48.021307    33.947249   0.000000   \n",
      "7     1965        9080    15.282848   46.683008    33.576718   0.000000   \n",
      "8     1965        9905    13.590497   41.974872    37.976109   0.000000   \n",
      "9     1965        9378     9.550987   36.105724    49.764504   0.000000   \n",
      "10    1965        9617    12.959613   34.983172    46.243164   0.000000   \n",
      "11    1965       10922    16.027284   41.138258    33.806705   0.000000   \n",
      "12    1965        5888    14.975048   36.940599    38.208307   0.000000   \n",
      "13    1965        5343    11.861583   36.627141    40.672712   0.000000   \n",
      "14    1965        5664    16.925964   41.071847    34.778360   0.000000   \n",
      "15    1965        6144    15.385008   48.924018    29.275880   0.000000   \n",
      "16    1965        9534    14.348862   39.792820    34.132841   0.000000   \n",
      "17    1965       10317    16.555595   40.974697    24.645403   0.000000   \n",
      "18    1965       10991    14.731670   39.382259    30.327968   0.000000   \n",
      "19    1965        9895    12.345262   47.101953    30.609812   0.000000   \n",
      "20    1965       10775    17.145285   45.168447    23.974446   0.000000   \n",
      "21    1965       11676    13.819973   45.626519    27.665706   0.000000   \n",
      "22    1965        8836    13.728244   43.358779    37.074809   0.000000   \n",
      "23    1965        9055    19.016093   46.894159    27.181965   0.000000   \n",
      "24    1965        9295    18.249775   41.366968    32.978646   0.000000   \n",
      "25    1965        8303    16.249586   48.033131    31.090006   0.000000   \n",
      "26    1965        8784    11.508254   45.853716    38.510261   0.000000   \n",
      "27    1965        7495    16.232942   49.462756    29.945142   0.000000   \n",
      "28    1965        8180     7.588054   33.087412    52.493374   0.000000   \n",
      "29    1965        9308     7.739798   37.863274    47.947096   0.000000   \n",
      "..     ...         ...          ...         ...          ...        ...   \n",
      "547   2012       21672     6.552316   28.108919    42.757290   2.319897   \n",
      "548   2012       16034     5.684076   29.683508    42.378655   2.143060   \n",
      "549   2012       25364     8.785629   23.640980    47.158218   2.272145   \n",
      "550   2012       29214     6.824966   17.484310    54.823588   2.326649   \n",
      "551   2012       27665     6.747155   19.515945    51.026415   2.082826   \n",
      "552   2012       29137     4.891719   20.146386    55.137813   2.133875   \n",
      "553   2012       28796     4.716020   16.704324    58.791866   1.386674   \n",
      "554   2012       25055     5.810331   18.319459    55.038703   1.920549   \n",
      "555   2012       33790     9.570820   18.732972    51.530498   2.541748   \n",
      "556   2012        2193     7.373622   21.474724    33.751425   1.634360   \n",
      "557   2012       14408     5.888211   45.113905    26.777045   2.589319   \n",
      "558   2012       19003     5.388081   42.666751    41.619598   2.233928   \n",
      "559   2012       20728     3.243350   56.279047    32.601602   2.160585   \n",
      "560   2012        2494     6.399251   38.801311    48.275324   1.560793   \n",
      "561   2012       33407     7.370113   48.927846    30.262958   3.797276   \n",
      "562   2012       31164     4.252844   51.241322    31.158446   3.743957   \n",
      "563   2012       29971     5.245935   45.144357    36.063674   3.783618   \n",
      "564   2012       34093     6.014656   54.472901    19.739292   2.928729   \n",
      "565   2012       39746     4.366521   47.777082    29.373826   2.348153   \n",
      "566   2012      104831    12.547238   39.355651    28.299042   6.166737   \n",
      "567   2012       52648     7.612076   41.500407    29.032104   5.061959   \n",
      "568   2012       59723    13.872997   35.165772    32.280303   6.922284   \n",
      "569   2012       46980    13.897844   36.815993    25.421813   6.102156   \n",
      "570   2012       53215     8.329356   40.703352    25.949855   5.366910   \n",
      "571   2012       29458    14.470284   43.231185    19.581718   4.927729   \n",
      "572   2012       54981    14.299441   31.830887    30.995225  10.112392   \n",
      "573   2012       84466     6.886623   50.641872    24.183163   4.043191   \n",
      "574   2012       59887     6.741602   32.645853    42.385728   2.603831   \n",
      "575   2012       46782     8.889464   43.447578    30.338030   3.105079   \n",
      "576   2012       42911    12.806175   43.090939    25.295947   5.667994   \n",
      "\n",
      "     taux_xdroite  taux_xgauche  taux_Abstention  taux_Blancs et nuls  \n",
      "0        4.818762      1.207015        27.071361             0.916885  \n",
      "1        4.166960      1.165903        22.833744             0.776682  \n",
      "2        6.108425      1.528924        21.795804             0.903538  \n",
      "3        3.384251      1.237819        14.384163             1.097358  \n",
      "4        3.357849      1.166624        14.983515             1.290050  \n",
      "5        4.297974      1.165673        14.035757             1.558999  \n",
      "6        3.286679      1.268089        14.518320             1.360823  \n",
      "7        3.388269      1.069156        15.785265             0.931817  \n",
      "8        5.422950      1.035572        21.870653             1.104021  \n",
      "9        3.598013      0.980772        17.321438             1.110064  \n",
      "10       4.880101      0.933950        20.229281             0.973917  \n",
      "11       7.797106      1.230647        19.708398             1.064636  \n",
      "12       8.543947      1.332099        23.696072             1.303928  \n",
      "13       9.493916      1.344649        20.704487             1.499651  \n",
      "14       5.210695      2.013134        22.140568             1.305606  \n",
      "15       4.875064      1.540031        31.330954             1.244263  \n",
      "16      10.626153      1.099323        18.323339             1.160824  \n",
      "17      16.701711      1.122594        18.383820             0.956878  \n",
      "18      14.490338      1.067764        19.082591             1.182353  \n",
      "19       8.784549      1.158424        19.661414             1.406800  \n",
      "20      12.459285      1.252537        16.954887             1.110919  \n",
      "21      11.548307      1.339494        18.797997             1.296025  \n",
      "22       4.600509      1.237659        17.986768             0.895674  \n",
      "23       5.564544      1.343239        19.275800             0.955807  \n",
      "24       6.140885      1.263727        22.632643             0.927707  \n",
      "25       3.397018      1.230260        18.339039             1.186085  \n",
      "26       3.053926      1.073844        17.119136             0.935472  \n",
      "27       3.166795      1.192365        16.990071             1.088090  \n",
      "28       6.025084      0.806077        22.351559             1.008279  \n",
      "29       5.671837      0.777995        23.359936             1.109271  \n",
      "..            ...           ...              ...                  ...  \n",
      "547     10.720412      9.541166        92.933105             4.682676  \n",
      "548     10.076639     10.034062       113.780869             4.711893  \n",
      "549     10.283325      7.859703        54.113330             3.225806  \n",
      "550      8.715368      9.825119        55.896985             4.681999  \n",
      "551     12.645057      7.982603        51.864419             4.928667  \n",
      "552      9.799314      7.890893        46.260955             4.266163  \n",
      "553     10.962697      7.438419        63.786993             3.854333  \n",
      "554     11.330997      7.579962        60.987781             3.787547  \n",
      "555      9.059585      8.564377        54.152377             4.378345  \n",
      "556     15.811479     19.954390        83.352338             3.762828  \n",
      "557     12.137433      7.494087       179.360139             3.037470  \n",
      "558      3.769753      4.321889       120.600368             4.670940  \n",
      "559      1.987541      3.727875       102.481954             4.761198  \n",
      "560      2.372405      2.590916        38.926174             0.608709  \n",
      "561      5.774772      3.867035       101.322374             2.389979  \n",
      "562      5.670459      3.932972       113.278325             2.624405  \n",
      "563      5.750418      4.011999       102.161093             2.628081  \n",
      "564     11.939829      4.904593        82.451813             2.130644  \n",
      "565     11.421415      4.713004        82.959716             3.105823  \n",
      "566      5.722029      7.909303       200.082070             1.034470  \n",
      "567      5.645663     11.147792       251.892254             1.736759  \n",
      "568      3.294126      8.464518       212.227710             0.955901  \n",
      "569      6.845300     10.916893        98.346242             0.904333  \n",
      "570      7.444661     12.205866       195.348923             1.119636  \n",
      "571      8.038598      9.750484        59.467862             1.037629  \n",
      "572      4.210342      8.551712       160.089099             0.925926  \n",
      "573      5.282943      8.962208       337.796441             1.167766  \n",
      "574      3.596380     12.026605       154.391709             0.827554  \n",
      "575      7.654489      6.565360       110.046811             1.331420  \n",
      "576      5.984398      7.154547       117.044897             1.331079  \n",
      "\n",
      "[4720 rows x 23 columns]\n"
     ]
    }
   ],
   "source": [
    "print(dft1)"
   ]
  },
  {
   "cell_type": "code",
   "execution_count": 364,
   "metadata": {
    "collapsed": false
   },
   "outputs": [],
   "source": [
    "dic = {}\n",
    "taux_votes = [\"taux_\"+item for item in ['centre', 'droite', 'gauche', 'vert', 'xdroite', 'xgauche', 'Abstention', 'Blancs et nuls']]\n",
    "for col in dft1.columns:\n",
    "    if col in taux_votes:\n",
    "        dic[col] = np.mean\n",
    "    elif col in [\"Inscrits\", \"Votants\", \"Exprimés\", \"Blancs et nuls\", \"centre\", \"droite\",\"gauche\", \"vert\", \"xdroite\", \"xgauche\"]:\n",
    "        dic[col] = np.sum\n",
    "    \n",
    "dft1 = dft1.groupby([\"département\", \"code\", \"Année\"]).agg(dic).reset_index()\n"
   ]
  },
  {
   "cell_type": "markdown",
   "metadata": {},
   "source": [
    "### Création des variables \"départ frontaliers\", \"départ outre mer\", \"départ corse\""
   ]
  },
  {
   "cell_type": "code",
   "execution_count": 365,
   "metadata": {
    "collapsed": false
   },
   "outputs": [
    {
     "name": "stdout",
     "output_type": "stream",
     "text": [
      "   depart_frontalier département  depart_OM\n",
      "0                  1         AIN          0\n",
      "9\n"
     ]
    }
   ],
   "source": [
    "depart_frontaliers = [\"PAS-DE-CALAIS\",\"NORD\", \"AISNE\", \"ARDENNES\", \"MEUSE\",\n",
    "                      \"MEURTHE-ET-MOSELLE\", \"MOSELLE\", \"BAS-RHIN\", \"HAUT-RHIN\",\"TERRITOIRE DE BELFORT\", \"DOUBS\", \"JURA\", \"AIN\", \"HAUTE-SAVOIE\", \\\n",
    "                      \"SAVOIE\", \"HAUTES-ALPES\", \"ALPES-DE-HAUTE-PROVENCE\", \"ALPES-MARITIMES\", \\\n",
    "                      \"PYRENEES-ATLANTIQUES\", \"HAUTES-PYRENEES\", \"HAUTE-GARONNE\",\\\n",
    "                      \"ARIEGE\", \"PYRENEES-ORIENTALES\", \"AUDE\", \"HERAULT\", \"GARD\",\\\n",
    "                     \"BOUCHES-DU-RHONE\", \"VAR\"]\n",
    "depart_OM = [\"GUADELOUPE\", \"GUYANE\", \"MARTINIQUE\", \"LA REUNION\", \"MAYOTTE\"]\n",
    "depart_corse = [\"CORSE\", \"HAUTE-CORSE\", \"CORSE-DU-SUD\"]\n",
    "\n",
    "dft1[\"depart_frontalier\"] = [1 if dep in depart_frontaliers else 0 for dep in dft1[\"département\"]]\n",
    "dft1[\"depart_OM\"] = [1 if dep in depart_OM else 0 for dep in dft1[\"département\"]]\n",
    "dft1[\"depart_CORSE\"] = [1 if dep in depart_corse else 0 for dep in dft1[\"département\"]]\n",
    "\n",
    "print(dft1[[\"depart_frontalier\", \"département\", \"depart_OM\"]].head(1))\n",
    "print(len(dft1[\"Année\"].unique()))"
   ]
  },
  {
   "cell_type": "code",
   "execution_count": 366,
   "metadata": {
    "collapsed": false
   },
   "outputs": [],
   "source": [
    "dft1.code = dft1.code.map(lambda x : \"0\"+str(x) if len(str(x))==1 else str(x))"
   ]
  },
  {
   "cell_type": "code",
   "execution_count": null,
   "metadata": {
    "collapsed": false
   },
   "outputs": [],
   "source": []
  },
  {
   "cell_type": "markdown",
   "metadata": {},
   "source": [
    "## Merge table démographie"
   ]
  },
  {
   "cell_type": "code",
   "execution_count": 367,
   "metadata": {
    "collapsed": false
   },
   "outputs": [],
   "source": [
    "df_demo = pd.read_csv(\"data_civil_pop.csv\")\n",
    "df_demo = df_demo.drop(\"Unnamed: 0\", axis=1)\n",
    "df_demo[\"time_period\"] = df_demo[\"time_period\"] + 1"
   ]
  },
  {
   "cell_type": "code",
   "execution_count": 368,
   "metadata": {
    "collapsed": false
   },
   "outputs": [],
   "source": [
    "df_demo[\"time_period\"].unique()\n",
    "dft1[\"Année\"] = dft1[\"Année\"].map(lambda x : float(x))"
   ]
  },
  {
   "cell_type": "code",
   "execution_count": 369,
   "metadata": {
    "collapsed": false
   },
   "outputs": [],
   "source": [
    "df_merged = dft1.merge(df_demo, how='left', left_on=[\"code\", \"Année\"], right_on=[\"dept_nb\", \"time_period\"])"
   ]
  },
  {
   "cell_type": "code",
   "execution_count": 370,
   "metadata": {
    "collapsed": false
   },
   "outputs": [],
   "source": [
    "df_merged.head()\n",
    "df_merged = df_merged.dropna(axis=0)"
   ]
  },
  {
   "cell_type": "code",
   "execution_count": null,
   "metadata": {
    "collapsed": false
   },
   "outputs": [],
   "source": []
  },
  {
   "cell_type": "markdown",
   "metadata": {},
   "source": [
    "## Merge table emploi"
   ]
  },
  {
   "cell_type": "code",
   "execution_count": 371,
   "metadata": {
    "collapsed": false
   },
   "outputs": [
    {
     "name": "stdout",
     "output_type": "stream",
     "text": [
      "[ 1981.  1988.  1995.  2002.  2007.  2012.]\n"
     ]
    }
   ],
   "source": [
    "print(df_merged[\"Année\"].unique())"
   ]
  },
  {
   "cell_type": "code",
   "execution_count": 372,
   "metadata": {
    "collapsed": false
   },
   "outputs": [],
   "source": [
    "df_emploi = pd.read_csv(\"data_emploi.csv\")\n",
    "df_emploi = df_emploi.drop(\"Unnamed: 0\", axis=1)\n",
    "\n",
    "df_emploi[\"time_period\"] = df_emploi[\"time_period\"] + 1\n",
    "\n",
    "df_emploi[\"var_chomage_annee\"] = np.nan\n",
    "\n",
    "for i in range(1, df_emploi.shape[0]): \n",
    "    try:\n",
    "        df_emploi.iloc[i,7] = df_emploi.iloc[i, 6] - df_emploi.iloc[i, 3]\n",
    "    except:\n",
    "        continue\n",
    "df_emploi[\"taux_chomage\"] = (df_emploi[\"Q1_rate\"] + df_emploi[\"Q2_rate\"] + df_emploi[\"Q3_rate\"] + df_emploi[\"Q4_rate\"])/4\n",
    "\n",
    "df_emploi[\"time_period\"] = df_emploi[\"time_period\"].map(lambda x : 1981 if x==1983 else x)\n"
   ]
  },
  {
   "cell_type": "code",
   "execution_count": 373,
   "metadata": {
    "collapsed": true
   },
   "outputs": [],
   "source": [
    "df_merged2 = df_merged.merge(df_emploi, how='left', left_on=[\"code\", \"Année\"], right_on=[\"dept_nb\", \"time_period\"])"
   ]
  },
  {
   "cell_type": "code",
   "execution_count": 374,
   "metadata": {
    "collapsed": true
   },
   "outputs": [],
   "source": [
    "df_merged2 = df_merged2.drop([\"dept_nb_x\", \"dept_lib_x\", \"time_period_x\", \"time_period_y\", \"dept_lib_y\", \"dept_nb_y\", \\\n",
    "                             'Exprimés', 'Blancs et nuls', 'centre', 'xdroite', \"Votants\", 'gauche', 'droite', 'vert', \\\n",
    "                             'Inscrits', 'xgauche'], axis=1)"
   ]
  },
  {
   "cell_type": "code",
   "execution_count": 375,
   "metadata": {
    "collapsed": false
   },
   "outputs": [],
   "source": [
    "df_merged2.to_csv(\"la_base.csv\")\n",
    "dft11 = df_merged2\n"
   ]
  },
  {
   "cell_type": "markdown",
   "metadata": {},
   "source": [
    "### Zones de force"
   ]
  },
  {
   "cell_type": "code",
   "execution_count": 376,
   "metadata": {
    "collapsed": false
   },
   "outputs": [],
   "source": [
    "elections_par_annees = dft1.groupby(\"Année\")[taux_votes].mean()\n",
    "for taux in taux_votes:\n",
    "    dft11[taux+\"_sup_moyenne\"] = 0\n",
    "for taux in taux_votes:\n",
    "    for year in elections_par_annees.index.unique():\n",
    "        temp = dft11[dft11[\"Année\"]==year][taux] > elections_par_annees.loc[year][taux]\n",
    "        dft11.set_value(temp.index, taux+\"_sup_moyenne\", temp)\n"
   ]
  },
  {
   "cell_type": "code",
   "execution_count": 377,
   "metadata": {
    "collapsed": false
   },
   "outputs": [],
   "source": [
    "for taux in taux_votes:\n",
    "    dft11[taux+\"_sup_moyenne\"] = dft11.groupby(\"code\")[taux+\"_sup_moyenne\"].cumsum()"
   ]
  },
  {
   "cell_type": "markdown",
   "metadata": {},
   "source": [
    "### Merge data popularité"
   ]
  },
  {
   "cell_type": "code",
   "execution_count": 378,
   "metadata": {
    "collapsed": true
   },
   "outputs": [],
   "source": [
    "pop = pd.read_csv(\"popularite_partis.csv\")\n",
    "pop = pop.drop([\"Unnamed: 0\", \"Pas Confiance\"], axis=1)"
   ]
  },
  {
   "cell_type": "code",
   "execution_count": 379,
   "metadata": {
    "collapsed": false
   },
   "outputs": [],
   "source": [
    "pop.head()\n",
    "pop = pop.pivot(index='Date', columns=\"Parti\", values='Confiance')"
   ]
  },
  {
   "cell_type": "code",
   "execution_count": 380,
   "metadata": {
    "collapsed": false
   },
   "outputs": [],
   "source": [
    "pop = pop.rename(columns={\"Verts\":\"pop_verts\", \"centre\":\"pop_centre\", \"droite\":\"pop_droite\", \"gauche\":\"pop_gauche\", \\\n",
    "                    \"xdroite\":\"pop_xdroite\", \"xgauche\":\"pop_xgauche\"})\n",
    "pop = pop.reset_index()\n"
   ]
  },
  {
   "cell_type": "code",
   "execution_count": 381,
   "metadata": {
    "collapsed": false
   },
   "outputs": [],
   "source": [
    "pop_prez = pd.read_csv(\"popularite_new.csv\", delimiter=\";\", encoding=\"latin1\")"
   ]
  },
  {
   "cell_type": "code",
   "execution_count": 382,
   "metadata": {
    "collapsed": false,
    "scrolled": true
   },
   "outputs": [],
   "source": [
    "dft11 = dft11.merge(pop, how='left', left_on=[\"Année\"], right_on=[\"Date\"])\n",
    "dft11 = dft11.merge(pop_prez, how='left', left_on=[\"Année\"], right_on=[\"Année\"])"
   ]
  },
  {
   "cell_type": "code",
   "execution_count": 383,
   "metadata": {
    "collapsed": false
   },
   "outputs": [],
   "source": [
    "dft11.to_csv(\"la_base.csv\")"
   ]
  },
  {
   "cell_type": "markdown",
   "metadata": {},
   "source": [
    "### Départements dissidents "
   ]
  },
  {
   "cell_type": "code",
   "execution_count": 384,
   "metadata": {
    "collapsed": false
   },
   "outputs": [],
   "source": [
    "\n",
    "elec_max = pd.melt(elections_par_annees.reset_index(), id_vars=['Année'])\n",
    "\n",
    "idx = elec_max.groupby(['Année'])['value'].transform(max) == elec_max['value']\n",
    "\n",
    "elec_max = elec_max[idx]"
   ]
  },
  {
   "cell_type": "code",
   "execution_count": 385,
   "metadata": {
    "collapsed": false
   },
   "outputs": [],
   "source": [
    "elec_max = elec_max.set_index(\"Année\")"
   ]
  },
  {
   "cell_type": "code",
   "execution_count": 386,
   "metadata": {
    "collapsed": false
   },
   "outputs": [],
   "source": [
    "dft11[\"Dissident\"] = 0\n",
    "for year in elections_par_annees.index.unique():\n",
    "    temp = dft11[dft11[\"Année\"]==year][elec_max.loc[year][\"variable\"]] < elec_max.loc[year][\"value\"]\n",
    "    dft11.set_value(temp.index, \"Dissident\", temp)"
   ]
  },
  {
   "cell_type": "code",
   "execution_count": 387,
   "metadata": {
    "collapsed": false
   },
   "outputs": [
    {
     "name": "stdout",
     "output_type": "stream",
     "text": [
      "Index(['département', 'code', 'Année', 'taux_Blancs et nuls', 'taux_xdroite',\n",
      "       'taux_gauche', 'taux_Abstention', 'taux_xgauche', 'taux_centre',\n",
      "       'taux_vert', 'taux_droite', 'depart_frontalier', 'depart_OM',\n",
      "       'depart_CORSE', '0-19ans', '20-39ans', '40-59ans', '60-74ans', '75+ans',\n",
      "       'Total', 'Naissances domiciliées par département',\n",
      "       'Nombre total de mariages domiciliés',\n",
      "       'Décès domiciliés par département', 'Q1_rate', 'Q2_rate', 'Q3_rate',\n",
      "       'Q4_rate', 'var_chomage_annee', 'taux_chomage',\n",
      "       'taux_centre_sup_moyenne', 'taux_droite_sup_moyenne',\n",
      "       'taux_gauche_sup_moyenne', 'taux_vert_sup_moyenne',\n",
      "       'taux_xdroite_sup_moyenne', 'taux_xgauche_sup_moyenne',\n",
      "       'taux_Abstention_sup_moyenne', 'taux_Blancs et nuls_sup_moyenne',\n",
      "       'Date', 'pop_verts', 'pop_centre', 'pop_droite', 'pop_gauche',\n",
      "       'pop_xdroite', 'pop_xgauche', 'pop_premier_ministre', 'cohabitation',\n",
      "       'pop_president', 'droite_au_pouvoir', 'Dissident'],\n",
      "      dtype='object')\n"
     ]
    }
   ],
   "source": [
    "dft11[\"Dissident\"] = dft11.groupby(\"code\")[\"Dissident\"].cumsum()\n",
    "\n",
    "print(dft11.columns)\n",
    "\n",
    "for item in ['20-39ans', '40-59ans', '60-74ans', '75+ans', 'Naissances domiciliées par département', \\\n",
    "             'Nombre total de mariages domiciliés', 'Décès domiciliés par département']:\n",
    "    dft11[item] = dft11[item]*100/dft11[\"Total\"]"
   ]
  },
  {
   "cell_type": "markdown",
   "metadata": {},
   "source": [
    "### Superficie / Densité"
   ]
  },
  {
   "cell_type": "code",
   "execution_count": 388,
   "metadata": {
    "collapsed": false
   },
   "outputs": [],
   "source": [
    "superficie = pd.read_csv(\"superficie_dept.csv\")\n",
    "\n",
    "superficie[\"No\"] = superficie[\"No\"].map(lambda x : \"0\"+str(x) if len(str(x))==1 else str(x).strip())\n",
    "\n"
   ]
  },
  {
   "cell_type": "code",
   "execution_count": 389,
   "metadata": {
    "collapsed": false
   },
   "outputs": [
    {
     "name": "stdout",
     "output_type": "stream",
     "text": [
      "Index(['département', 'code', 'Année', 'taux_Blancs et nuls', 'taux_xdroite',\n",
      "       'taux_gauche', 'taux_Abstention', 'taux_xgauche', 'taux_centre',\n",
      "       'taux_vert', 'taux_droite', 'depart_frontalier', 'depart_OM',\n",
      "       'depart_CORSE', '0-19ans', '20-39ans', '40-59ans', '60-74ans', '75+ans',\n",
      "       'Total', 'Naissances domiciliées par département',\n",
      "       'Nombre total de mariages domiciliés',\n",
      "       'Décès domiciliés par département', 'Q1_rate', 'Q2_rate', 'Q3_rate',\n",
      "       'Q4_rate', 'var_chomage_annee', 'taux_chomage',\n",
      "       'taux_centre_sup_moyenne', 'taux_droite_sup_moyenne',\n",
      "       'taux_gauche_sup_moyenne', 'taux_vert_sup_moyenne',\n",
      "       'taux_xdroite_sup_moyenne', 'taux_xgauche_sup_moyenne',\n",
      "       'taux_Abstention_sup_moyenne', 'taux_Blancs et nuls_sup_moyenne',\n",
      "       'Date', 'pop_verts', 'pop_centre', 'pop_droite', 'pop_gauche',\n",
      "       'pop_xdroite', 'pop_xgauche', 'pop_premier_ministre', 'cohabitation',\n",
      "       'pop_president', 'droite_au_pouvoir', 'Dissident', 'No', 'Département ',\n",
      "       'Superficie '],\n",
      "      dtype='object')\n"
     ]
    }
   ],
   "source": [
    "dft11 = dft11.merge(superficie, how='left', left_on=[\"code\"], right_on=[\"No\"])\n",
    "print(dft11.columns)\n",
    "dft11.drop(['No', 'Département '], axis=1, inplace=True)"
   ]
  },
  {
   "cell_type": "code",
   "execution_count": 390,
   "metadata": {
    "collapsed": true
   },
   "outputs": [],
   "source": [
    "dft11[\"Superficie \"] = dft11[\"Superficie \"].map(lambda x : float(x))"
   ]
  },
  {
   "cell_type": "code",
   "execution_count": 391,
   "metadata": {
    "collapsed": true
   },
   "outputs": [],
   "source": [
    "dft11[\"Densité\"] = dft11[\"Total\"] / dft11[\"Superficie \"]"
   ]
  },
  {
   "cell_type": "markdown",
   "metadata": {},
   "source": [
    "### Merge data présidents de départements"
   ]
  },
  {
   "cell_type": "code",
   "execution_count": 392,
   "metadata": {
    "collapsed": false
   },
   "outputs": [],
   "source": [
    "prez_depart = pd.read_csv(\"prez_depart.csv\", delimiter=\";\", encoding=\"latin1\")"
   ]
  },
  {
   "cell_type": "code",
   "execution_count": 393,
   "metadata": {
    "collapsed": false
   },
   "outputs": [],
   "source": [
    "prez_depart = pd.melt(prez_depart, id_vars=['No', \"persistance_gauche\", \"persistance_droite\", \"persistance centre\", \"persistance_centre_droite\"], value_vars=['1981', '1988', '1995', '2002', '2007', '2012', '2017'])"
   ]
  },
  {
   "cell_type": "code",
   "execution_count": 394,
   "metadata": {
    "collapsed": false
   },
   "outputs": [],
   "source": [
    "result_prez_dep = pd.concat([prez_depart, pd.get_dummies(prez_depart[\"value\"])], axis=1)\n"
   ]
  },
  {
   "cell_type": "code",
   "execution_count": 395,
   "metadata": {
    "collapsed": false
   },
   "outputs": [],
   "source": [
    "result_prez_dep.drop([\"value\", \"indep\"], axis=1, inplace=True)\n",
    "result_prez_dep.rename(columns={\"centre\":\"pres_centre\", \"droite\":\"pres_droite\", \\\n",
    "                               \"gauche\":\"pres_gauche\", \"xgauche\":\"pres_xgauche\", \"variable\":\"Année\"}, inplace=True)"
   ]
  },
  {
   "cell_type": "code",
   "execution_count": 396,
   "metadata": {
    "collapsed": false
   },
   "outputs": [],
   "source": [
    "result_prez_dep[\"No\"] = result_prez_dep[\"No\"].map(lambda x : \"0\"+str(x) if len(str(x))==1 else str(x).strip())\n",
    "result_prez_dep[\"Année\"] = result_prez_dep[\"Année\"].map(lambda x : float(x))\n",
    "dft11 = dft11.merge(result_prez_dep, how='left', left_on=[\"code\", \"Année\"], right_on=[\"No\", \"Année\"])\n",
    "dft11.drop(\"No\", axis=1, inplace=True)"
   ]
  },
  {
   "cell_type": "code",
   "execution_count": 397,
   "metadata": {
    "collapsed": true
   },
   "outputs": [],
   "source": [
    "dft11.to_csv(\"la_base.csv\")"
   ]
  },
  {
   "cell_type": "markdown",
   "metadata": {
    "collapsed": true
   },
   "source": [
    "### Merge data PIP / opinion menage / depense conso menage"
   ]
  },
  {
   "cell_type": "code",
   "execution_count": 398,
   "metadata": {
    "collapsed": false
   },
   "outputs": [],
   "source": [
    "pib_impot = pd.read_csv(\"pib_impot_emploi_travaux.csv\", delimiter=\";\", encoding=\"latin1\")\n",
    "pib_impot = pib_impot.groupby(\"année\").mean().reset_index()\n",
    "dft11 = dft11.merge(pib_impot, how='left', left_on=\"Année\", right_on=\"année\").drop([\"trimestre\", \"année\"], axis=1)"
   ]
  },
  {
   "cell_type": "code",
   "execution_count": 399,
   "metadata": {
    "collapsed": false
   },
   "outputs": [],
   "source": [
    "opinion_menage = pd.read_csv(\"opinion_menage.csv\", delimiter=\";\")\n",
    "opinion_menage = opinion_menage.groupby(\"année\").mean().reset_index()\n",
    "dft11 = dft11.merge(opinion_menage, how='left', left_on=\"Année\", right_on=\"année\").drop([\"mois\", \"année\"], axis=1)"
   ]
  },
  {
   "cell_type": "code",
   "execution_count": 400,
   "metadata": {
    "collapsed": false
   },
   "outputs": [],
   "source": [
    "dft11.to_csv(\"la_base.csv\")"
   ]
  },
  {
   "cell_type": "markdown",
   "metadata": {},
   "source": [
    "### Merge démo médecin"
   ]
  },
  {
   "cell_type": "code",
   "execution_count": 401,
   "metadata": {
    "collapsed": false
   },
   "outputs": [],
   "source": [
    "demo_medecin = pd.read_csv(\"demo_medecin.csv\")"
   ]
  },
  {
   "cell_type": "code",
   "execution_count": 402,
   "metadata": {
    "collapsed": false
   },
   "outputs": [
    {
     "name": "stdout",
     "output_type": "stream",
     "text": [
      "[ 1981.  1988.  1995.  2002.  2007.  2012.]\n"
     ]
    }
   ],
   "source": [
    "print(dft11[\"Année\"].unique())"
   ]
  },
  {
   "cell_type": "code",
   "execution_count": null,
   "metadata": {
    "collapsed": false
   },
   "outputs": [],
   "source": []
  },
  {
   "cell_type": "code",
   "execution_count": 403,
   "metadata": {
    "collapsed": false
   },
   "outputs": [],
   "source": [
    "demo_medecin = pd.melt(demo_medecin, id_vars=['N0'], value_vars=['1978', '1985', '1992', '1999', '2004', '2009', '2014'])"
   ]
  },
  {
   "cell_type": "code",
   "execution_count": 404,
   "metadata": {
    "collapsed": false
   },
   "outputs": [],
   "source": [
    "demo_medecin[\"variable\"] = demo_medecin[\"variable\"].map(lambda x : float(x))\n",
    "demo_medecin[\"variable\"] = demo_medecin[\"variable\"] + 3"
   ]
  },
  {
   "cell_type": "code",
   "execution_count": 405,
   "metadata": {
    "collapsed": false
   },
   "outputs": [],
   "source": [
    "demo_medecin.rename(columns={\"variable\":\"Année\", \"value\":\"densité_médecins\"}, inplace=True)"
   ]
  },
  {
   "cell_type": "code",
   "execution_count": 406,
   "metadata": {
    "collapsed": true
   },
   "outputs": [],
   "source": [
    "demo_medecin[\"N0\"] = demo_medecin[\"N0\"].map(lambda x : \"0\"+str(x) if len(str(x))==1 else str(x).strip())"
   ]
  },
  {
   "cell_type": "code",
   "execution_count": 407,
   "metadata": {
    "collapsed": false
   },
   "outputs": [],
   "source": [
    "demo_medecin[\"densité_médecins\"] = demo_medecin[\"densité_médecins\"].map(lambda x : float(str(x).replace(\",\", \".\")))"
   ]
  },
  {
   "cell_type": "code",
   "execution_count": 408,
   "metadata": {
    "collapsed": false
   },
   "outputs": [],
   "source": [
    "dft11 = dft11.merge(demo_medecin, how='left', left_on=[\"Année\", \"code\"], right_on=[\"Année\", \"N0\"]).drop([\"N0\"], axis=1)"
   ]
  },
  {
   "cell_type": "markdown",
   "metadata": {},
   "source": [
    "### menages logements "
   ]
  },
  {
   "cell_type": "code",
   "execution_count": 409,
   "metadata": {
    "collapsed": true
   },
   "outputs": [],
   "source": [
    "entreprise_menage_logement = pd.read_csv(\"entrerise_menage_logement.csv\")"
   ]
  },
  {
   "cell_type": "code",
   "execution_count": 410,
   "metadata": {
    "collapsed": false
   },
   "outputs": [],
   "source": [
    "entreprise_menage_logement = entreprise_menage_logement[[\"année\", \"consommation menages - electricite\", \"nombre de logement vacant\"]]"
   ]
  },
  {
   "cell_type": "code",
   "execution_count": 411,
   "metadata": {
    "collapsed": true
   },
   "outputs": [],
   "source": [
    "dft11 = dft11.merge(entreprise_menage_logement, how='left', left_on=[\"Année\"], right_on=[\"année\"])\n",
    "dft11.drop(\"année\", axis=1, inplace=True)"
   ]
  },
  {
   "cell_type": "code",
   "execution_count": 412,
   "metadata": {
    "collapsed": true
   },
   "outputs": [],
   "source": [
    "dft11.to_csv(\"la_base.csv\")"
   ]
  },
  {
   "cell_type": "code",
   "execution_count": 413,
   "metadata": {
    "collapsed": false
   },
   "outputs": [
    {
     "data": {
      "text/plain": [
       "Index(['département', 'code', 'Année', 'taux_Blancs et nuls', 'taux_xdroite',\n",
       "       'taux_gauche', 'taux_Abstention', 'taux_xgauche', 'taux_centre',\n",
       "       'taux_vert', 'taux_droite', 'depart_frontalier', 'depart_OM',\n",
       "       'depart_CORSE', '0-19ans', '20-39ans', '40-59ans', '60-74ans', '75+ans',\n",
       "       'Total', 'Naissances domiciliées par département',\n",
       "       'Nombre total de mariages domiciliés',\n",
       "       'Décès domiciliés par département', 'Q1_rate', 'Q2_rate', 'Q3_rate',\n",
       "       'Q4_rate', 'var_chomage_annee', 'taux_chomage',\n",
       "       'taux_centre_sup_moyenne', 'taux_droite_sup_moyenne',\n",
       "       'taux_gauche_sup_moyenne', 'taux_vert_sup_moyenne',\n",
       "       'taux_xdroite_sup_moyenne', 'taux_xgauche_sup_moyenne',\n",
       "       'taux_Abstention_sup_moyenne', 'taux_Blancs et nuls_sup_moyenne',\n",
       "       'Date', 'pop_verts', 'pop_centre', 'pop_droite', 'pop_gauche',\n",
       "       'pop_xdroite', 'pop_xgauche', 'pop_premier_ministre', 'cohabitation',\n",
       "       'pop_president', 'droite_au_pouvoir', 'Dissident', 'Superficie ',\n",
       "       'Densité', 'persistance_gauche', 'persistance_droite',\n",
       "       'persistance centre', 'persistance_centre_droite', 'pres_centre',\n",
       "       'pres_droite', 'pres_gauche', 'pres_xgauche', 'importations',\n",
       "       'subventions',\n",
       "       'conjoncture travaux publics-opinions sur le carnet de commandes',\n",
       "       'capacité epargne actuelle (augmentation moins diminution)',\n",
       "       'opportunite epargner(favorable moins favorable)',\n",
       "       'capacite epargne future(amélioration moins deterioration)',\n",
       "       'densité_médecins', 'consommation menages - electricite',\n",
       "       'nombre de logement vacant'],\n",
       "      dtype='object')"
      ]
     },
     "execution_count": 413,
     "metadata": {},
     "output_type": "execute_result"
    }
   ],
   "source": [
    "dft11.columns"
   ]
  }
 ],
 "metadata": {
  "kernelspec": {
   "display_name": "Python [conda root]",
   "language": "python",
   "name": "conda-root-py"
  },
  "language_info": {
   "codemirror_mode": {
    "name": "ipython",
    "version": 3
   },
   "file_extension": ".py",
   "mimetype": "text/x-python",
   "name": "python",
   "nbconvert_exporter": "python",
   "pygments_lexer": "ipython3",
   "version": "3.5.2"
  }
 },
 "nbformat": 4,
 "nbformat_minor": 1
}
