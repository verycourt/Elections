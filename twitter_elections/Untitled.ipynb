{
 "cells": [
  {
   "cell_type": "code",
   "execution_count": 4,
   "metadata": {
    "collapsed": true
   },
   "outputs": [],
   "source": [
    "import pymongo as pym\n",
    "import nltk.data\n",
    "import re\n",
    "import string\n",
    "from nltk.corpus import stopwords\n",
    "from nltk.tokenize import TreebankWordTokenizer\n",
    "import stop_words\n",
    "from nltk.stem import *\n",
    "from sklearn.feature_extraction.text import TfidfVectorizer\n",
    "import pandas as pd\n",
    "from sklearn.naive_bayes import MultinomialNB\n",
    "import numpy as np\n",
    "\n",
    "\n",
    "client = pym.MongoClient('localhost',27017)\n",
    "collection = client.tweet.cleaned\n",
    "tokenizer = TreebankWordTokenizer()\n",
    "stops = set(stopwords.words('french')+stop_words.get_stop_words('fr')+['rt','ds','qd','ss','ns','vs','nn','amp','gt','gd','gds','tt','pr','ac','mm'])\n",
    "\n",
    "def getCleanTweetsByCandidates(collection):\n",
    "    tweets = collection.find({},{'_id':False})\n",
    "    listTweets = []\n",
    "    for t in tweets : \n",
    "        t['text'] = re.sub(r'\\w*…','',t['text'])\n",
    "        t['text'] = re.sub(r',;:!?\\.\\/\\*``\"#@(){}','',re.sub(r'\\xad','-',re.sub(r'\\n',\n",
    "            ' ',re.sub(r'\\W*(?!\\S)','',re.sub(r'(?:htt)\\S*','',re.sub(r'^rt.*: ','',string=t['text']))))))\n",
    "        t['text'] = tokenizer.tokenize(t['text'])\n",
    "        t['text'] = [re.sub(r'[^a-zA-Z0-9-éèêàâùçîœ’\\']+','',token,re.UNICODE) for token in t['text'] if token not in stops]\n",
    "        t['text'] = [re.sub(r'l\\'|\\squ\\'|l’|\\squ’|d\\'|d’','',token) for token in t['text']]\n",
    "        while '' in t['text'] : t['text'].remove('')\n",
    "        listTweets.append(t)\n",
    "    return listTweets\n",
    "\n",
    "def vectorize(tokenizedCorpus):\n",
    "    vectorizer = TfidfVectorizer(max_df = 0.8, min_df=0.0005)\n",
    "    X = vectorizer.fit_transform(tokenizedCorpus)\n",
    "    return X\n",
    "\n",
    "def getSentiments() : \n",
    "    df = pd.DataFrame(getCleanTweetsByCandidates(collection))\n",
    "    tfidfmat = vectorize(df['text'].apply(' '.join))\n",
    "    print(tfidfmat.shape)\n",
    "    nb = MultinomialNB()\n",
    "    nb.fit(tfidfmat[::2], df.ix[::2,'sentiment'])\n",
    "    predictions = nb.predict(tfidfmat[1::2])\n",
    "    accuracy = np.sum(predictions == df.ix[1::2,'sentiment']) / len(df.ix[1::2,'sentiment'])\n",
    "    print(\"accuracy of the sklearn naive bayes : \", accuracy)\n"
   ]
  },
  {
   "cell_type": "code",
   "execution_count": 5,
   "metadata": {
    "collapsed": false
   },
   "outputs": [
    {
     "name": "stdout",
     "output_type": "stream",
     "text": [
      "(3503, 3177)\n",
      "accuracy of the sklearn naive bayes :  0.651056539121\n"
     ]
    }
   ],
   "source": [
    "getSentiments()"
   ]
  },
  {
   "cell_type": "code",
   "execution_count": 6,
   "metadata": {
    "collapsed": false
   },
   "outputs": [
    {
     "name": "stdout",
     "output_type": "stream",
     "text": [
      "{'text': ['costumes', 'fillon', 'cote', 'entre', '7', '8', '000', 'euros', 'pièce'], 'candidat': 'fillon', 'sentiment': -1}\n",
      "{'text': ['pouvoir', 'un', 'autre', 'immunité', 'présidentielle', 'puis', 'immunité', 'donnée', 'anciens'], 'sentiment': -1}\n",
      "{'text': ['vocation', 'attention', 'crime', 'contre', 'humanité', 'paternalisme', 'coupable', 'vocation', 'france', \"c'est\", 'être'], 'sentiment': -1}\n",
      "{'text': ['agriculteur', 'trois', 'jours', 'suicident', 'pays', \"c'est\", 'délinquant', 'monde', 'parle'], 'sentiment': -1.0}\n",
      "{'text': ['video', 'françois', 'hollande', 'adresse', 'message', 'emmanuel', 'macron', 'dîner', 'crif'], 'candidat': 'macron', 'sentiment': 0}\n",
      "{'text': ['bourdindirect', 'bfmtv', 'faite', 'macron', 'programme', 'retraites', 'compte', 'goutte'], 'candidat': 'macron', 'sentiment': -1}\n",
      "{'text': ['jcnh83', 'anneyunie59000', 'twystsky', 'jupp', 'fillon', 'autres', 'justice', 'médias', 'pourri', 'election'], 'candidat': 'fillon', 'sentiment': -1}\n",
      "{'text': ['qg', 'modem', 'militant', 'longuement', 'applaudi', 'décision', 'françois', 'bayrou', 'confbayrou'], 'sentiment': 1}\n",
      "{'text': ['intégralité', 'programme', 'candidat', 'emmanuel', 'macron', 'résumé', 'video', 'quelques', 'secondes'], 'candidat': 'macron', 'sentiment': 0}\n",
      "{'text': ['franceinfo', 'toujours', 'porte', 'monsieur', 'bachelay', 'menti', 'hamon'], 'candidat': 'hamon', 'sentiment': -1}\n",
      "{'text': ['bayrou', 'renonce', 'présidentielle', \"c'est\", 'important', 'réformation', 'l5', 'bayrou2017'], 'sentiment': 1}\n",
      "{'text': ['bus', 'fille', 'éternue', 'souhaits', \"j'ai\", 'copain', 'derrière', 'vegan', 'macron'], 'candidat': 'macron', 'sentiment': -1}\n",
      "{'text': ['peuvent', 'emporter', 'seuls', \"s'alliant\", 'mélenchon', 'hamon', 'peuvent', 'gagner', 'présidentielle'], 'candidat': 'melenchon', 'sentiment': 1}\n",
      "{'text': ['moirepublicain', \"j'ose\", 'écrire', 'dégagisme', \"c'est\", 'veut', 'chose', 'fillon', 'changement', 'vite', 'lesrepublicains'], 'candidat': 'fillon', 'sentiment': 1.0}\n",
      "{'text': ['etre', 'président', 'république', 'c’est', 'protéger', 'justice', 'via', 'europe1'], 'sentiment': 0}\n",
      "{'text': ['emmanuel', 'macron', 'n’a', 'déclaré', 'fonction', 'administrateur', 'une', 'société', 'privée', 'via'], 'candidat': 'macron', 'sentiment': 0}\n",
      "{'text': ['fillon', 'campagne', 'train', \"s'arrêtera\", 'plonk'], 'candidat': 'fillon', 'sentiment': 0}\n",
      "{'text': ['échange', 'entre', 'torreton', 'mélenchon', 'mission', 'politique', 'affolé', 'journalistes'], 'candidat': 'melenchon', 'sentiment': 0}\n",
      "{'text': ['fillon', \"c'est\", 'mme', 'cass', 'jouet', 'vient', 'pleurnicher', 'penelopegate', 'fillondemission'], 'candidat': 'fillon', 'sentiment': -1.0}\n",
      "{'text': ['macron', \"n'a\", 'programe', 'plan', 'vol', '10', '12', 'mesures', 'phares', 'méthodehollande', 'prépare', 'vrai'], 'candidat': 'macron', 'sentiment': -1.0}\n",
      "{'text': ['fillon', 'reçut', 'tables', 'loi', 'sarkozy', 'fillongirouette', 'macrongirouette', 'projetfillon'], 'candidat': 'macron', 'sentiment': -1.0}\n",
      "{'text': ['mauzemontole', 'désolé', 'fançois', 'bayrou', 'simplement', 'rejoint', 'vrai', 'famille', 'politique'], 'sentiment': 0}\n",
      "{'text': ['projet', 'ambitieux', 'agriculteurs', 'projetfillon'], 'candidat': 'fillon', 'sentiment': 1}\n",
      "{'text': ['hollande', 'lvmh', 'canardenchaine', 'mediapart', 'lci', 'hamon', 'mystérieuses', 'conditions', 'embauche', 'femme'], 'candidat': 'hamon', 'sentiment': -1}\n",
      "{'text': ['françois', 'fillon', 'continue', 'malgré', 'future', 'mise', 'examen', 'résumé', \"qu'il\", 'dit', 'français', 'fillon'], 'candidat': 'fillon', 'sentiment': 0}\n",
      "{'text': ['premier', 'monsieur', 'commet', 'abus', 'confiance', 'second', 'recel', 'abus', 'confiance', 'destruction', 'bien'], 'sentiment': -1}\n",
      "{'text': ['fadaises', 'plus', 'grosses', 'mlp'], 'candidat': 'le pen', 'sentiment': -1.0}\n",
      "{'text': ['ferai', 'campagne', 'fillon', 'quand-même', 'ficelle', 'grosse'], 'candidat': 'fillon', 'sentiment': -1}\n",
      "{'text': ['thierry', 'mariani', 'retournement', 'veste', 'chef', 'œuvre', 'bayrou', 'mérite', 'palme', 'or', 'faut'], 'sentiment': -1.0}\n",
      "{'text': ['fillon', \"n'étais\", 'hamon', 'sauf', 'voyou', 'félon', 'prend', 'cons'], 'candidat': 'hamon', 'sentiment': -1}\n",
      "{'text': ['françois', 'fillon', 'reçu', '140000', 'euros', 'colloques', 'étranger', 'lalibrebe', 'lalibre'], 'candidat': 'fillon', 'sentiment': 0}\n",
      "{'text': ['législatives', 'bayrou', 'obtenu', 'macron', 'centaine', 'investitures', 'élus'], 'candidat': 'macron', 'sentiment': 0}\n",
      "{'text': ['thierrypeltier', 'lalibrebe', 'fillon', 'moque', 'démocratie', 'république', 'français', \"n'y\"], 'candidat': 'fillon', 'sentiment': -1.0}\n",
      "{'text': ['cbillan', 'confrontés', 'machination'], 'candidat': 'fillon', 'sentiment': -1}\n",
      "{'text': ['macron', 'veut', 'supprimer', 'taxe', 'habitation', '80', 'ménages', 'via', 'yahooactufr'], 'candidat': 'macron', 'sentiment': 0}\n",
      "{'text': ['disait', 'laurence', 'parisot', 'hier', 'bfm', 'macron', 'parfois', 'contraire'], 'candidat': 'macron', 'sentiment': -1}\n",
      "{'text': ['dixit', 'kalifat', 'dîner', 'crifjlm', 'mlp', 'invités', 'véhiculent', 'haine', 'estime', 'francis', 'khalifat'], 'candidat': 'melenchon', 'sentiment': -1}\n",
      "{'text': ['va', 'abord', 'falloir', 'rembourser', 'salaire', 'secrétaire', 'particulière', 'payée', 'collègue', 'desarnez'], 'sentiment': -1.0}\n",
      "{'text': ['jjbolzan', 'bayrou', 'marthemarti', 'france2', 'udioff', 'lesrepublicains', 'scandall', 'mec', 'oser', 'dire', 'france2', 'honte', 'scrupules'], 'candidat': 'fillon', 'sentiment': -1.0}\n",
      "{'text': ['mélange', 'genres', 'entre', 'mondes', 'politique', 'médiatique', 'cohnbendit', 'est-il', 'acteur', 'commentateur', 'entremetteur'], 'sentiment': 0}\n"
     ]
    }
   ],
   "source": [
    "for a in getCleanTweetsByCandidates(collection)[:40]:\n",
    "    print(a)"
   ]
  },
  {
   "cell_type": "code",
   "execution_count": null,
   "metadata": {
    "collapsed": true
   },
   "outputs": [],
   "source": []
  }
 ],
 "metadata": {
  "anaconda-cloud": {},
  "kernelspec": {
   "display_name": "Python [default]",
   "language": "python",
   "name": "python3"
  },
  "language_info": {
   "codemirror_mode": {
    "name": "ipython",
    "version": 3
   },
   "file_extension": ".py",
   "mimetype": "text/x-python",
   "name": "python",
   "nbconvert_exporter": "python",
   "pygments_lexer": "ipython3",
   "version": "3.5.2"
  }
 },
 "nbformat": 4,
 "nbformat_minor": 1
}
