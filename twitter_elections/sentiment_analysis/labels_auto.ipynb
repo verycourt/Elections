{
 "cells": [
  {
   "cell_type": "code",
   "execution_count": 55,
   "metadata": {
    "collapsed": true
   },
   "outputs": [],
   "source": [
    "#!/usr/bin/python\n",
    "#-*- coding: utf-8 -*-\n",
    "\n",
    "import pymongo as pym\n",
    "import re\n",
    "\n",
    "candidates = ['fillon', 'macron', 'le pen', 'hamon', 'melenchon']\n",
    "\n",
    "# le (?i) rend la regex insensible a la casse. Il ne faut pas laisser de liste vide\n",
    "# sinon l'algo va tirer n'importe quel tweet dans la base sans filtre particulier\n",
    "negatives = {'fillon': '(?i)#penelopegate|#fillongate|#penelope',\n",
    "             'macron': '(?i)#stopmacron|#levraimacron|#lepionmacron|#macrongate',\n",
    "             'le pen': '(?i)#lepengate|#fngate',\n",
    "             'hamon': '(?i)#bilalhamon|#plusjamaisps|#hamonpiègeacons',\n",
    "             'melenchon': '(?i)'}\n",
    "\n",
    "neutrals = {'fillon': '(?i)#confpressfillon|#conffillon',\n",
    "            'macron': '(?i)#macronlyon',\n",
    "            'le pen': '(?i)',\n",
    "            'hamon': '(?i)',\n",
    "            'melenchon': '(?i)'}\n",
    "\n",
    "positives = {'fillon': '(?i)#fillon2017|#stopchassealhomme|#fillonpresident|#projetfillon|#soutienfillon',\n",
    "             'macron': '(?i)#enmarche|#teammacron|#lafranceenmarche|#macron2017',\n",
    "             'hamon': '(?i)#hamon2017|#benoithamon|#hamonpresident|#avechamon',\n",
    "             'le pen' : '(?i)#aunomdupeuple|#marine2017|#mlp2017',\n",
    "             'melenchon': '(?i)#6erépublique|#franceinsoumise|#jlm2017|#placeaupeuple|#CantStenchonTheMelenchon|#FI|#18mars2017'}"
   ]
  },
  {
   "cell_type": "code",
   "execution_count": 56,
   "metadata": {
    "collapsed": true
   },
   "outputs": [],
   "source": [
    "def getTweets(candidates, sentimentList, sentiment, limit=1000):\n",
    "    '''Echelle de classification -1 Négatif 0 Neutre 1 Positif\n",
    "    Critère de sélection d'un tweet : ne doit pas être un retweet, ne doit contenir le nom \n",
    "    que d'un seul candidat'''\n",
    "    \n",
    "    client = pym.MongoClient()\n",
    "    client = pym.MongoClient('localhost', 27017)\n",
    "    collection = client.tweet.tweet\n",
    "    labelisedCollection = client.tweet.labelised\n",
    "    \n",
    "    count = 0\n",
    "    \n",
    "    for candidate in candidates:\n",
    "        a_inserer = []\n",
    "        sentiment_regex = re.compile((sentimentList[candidate]))\n",
    "        print('sentiment {} :'.format(sentiment), sentimentList[candidate])\n",
    "        \n",
    "        # filtrage des retweets en amont\n",
    "        corpus = collection.find(\n",
    "            filter={'$and': [{'t_text': {'$not': re.compile(\"^rt @\")}}, {'t_text': sentiment_regex}]},\n",
    "            projection={'_id':False, 't_id':1, 't_text':1}, limit=limit)\n",
    "\n",
    "        for t in corpus: \n",
    "            a_inserer.append({'text': t['t_text'], 'sentiment': sentiment, 'candidat': candidate,\n",
    "                             't_id': t['t_id']})\n",
    "        \n",
    "        # empecher les doublons\n",
    "        labelisedCollection.insert_many(a_inserer)\n",
    "        print(len(a_inserer), 'insertions effectuees.')\n",
    "        count += len(a_inserer)\n",
    "        \n",
    "    print(45 * '-')\n",
    "    print(count, 'insertions au total.')\n",
    "    client.close()\n"
   ]
  },
  {
   "cell_type": "code",
   "execution_count": 57,
   "metadata": {
    "collapsed": false
   },
   "outputs": [
    {
     "name": "stdout",
     "output_type": "stream",
     "text": [
      "sentiment 1 : (?i)#fillon2017|#stopchassealhomme|#fillonpresident|#projetfillon|#soutienfillon\n",
      "300 insertions effectuees.\n",
      "allocations familiales aux familles de mineurs récidivistes: les français réagissent.\n",
      "#macron2017 #fillon2017… https://t.co/3k7ifatufu\n",
      "sentiment 1 : (?i)#enmarche|#teammacron|#lafranceenmarche|#macron2017\n",
      "300 insertions effectuees.\n",
      "@vblayac ce n'est pas le mot clé des udi qui soutiennent fillon plutôt? ;) #enmarche\n",
      "sentiment 1 : (?i)#aunomdupeuple|#marine2017|#mlp2017\n",
      "300 insertions effectuees.\n",
      "@f_philippot plus que quelques % à prendre contre fillon en 2 mois c'est possible. on y croit ! #marine2017 #fillongate #presidentielle2017\n",
      "sentiment 1 : (?i)#hamon2017|#benoithamon|#hamonpresident|#avechamon\n",
      "300 insertions effectuees.\n",
      "c'est qui ce m. #macron??? marcel #macron????? #hamon2017 #hamon #france #obama #world https://t.co/7lhrmdbzgg\n",
      "sentiment 1 : (?i)#6erépublique|#franceinsoumise|#jlm2017|#placeaupeuple|#CantStenchonTheMelenchon|#FI|#18mars2017\n",
      "300 insertions effectuees.\n",
      "@bfchnr @scouasnonbfm @lexpress #fillon, le voleur sans parole de la droite déjà plébiscité. ...les moutons ont déjà oublié ?\n",
      "---------------------------------------------\n",
      "1500 insertions au total.\n"
     ]
    }
   ],
   "source": [
    "getTweets(candidates, positives, 1, limit=300)"
   ]
  }
 ],
 "metadata": {
  "anaconda-cloud": {},
  "kernelspec": {
   "display_name": "Python [default]",
   "language": "python",
   "name": "python3"
  },
  "language_info": {
   "codemirror_mode": {
    "name": "ipython",
    "version": 3
   },
   "file_extension": ".py",
   "mimetype": "text/x-python",
   "name": "python",
   "nbconvert_exporter": "python",
   "pygments_lexer": "ipython3",
   "version": "3.5.2"
  }
 },
 "nbformat": 4,
 "nbformat_minor": 1
}
