{
 "cells": [
  {
   "cell_type": "code",
   "execution_count": 4,
   "metadata": {
    "collapsed": false
   },
   "outputs": [],
   "source": [
    "#!/usr/bin/python\n",
    "#-*- coding: utf-8 -*-\n",
    "\n",
    "import pymongo as pym\n",
    "import re\n",
    "import pandas as pd\n",
    "\n",
    "def insertion_in_labelised(candidates, sentiment, limit=400):\n",
    "    '''Echelle de classification -1 Négatif 0 Neutre 1 Positif\n",
    "    Critère de sélection d'un tweet : ne doit pas être un retweet, ne doit contenir le nom \n",
    "    que d'un seul candidat'''\n",
    "    \n",
    "    politician_list = ['fillon', 'macron', 'le pen', 'hamon', 'melenchon', 'mélenchon', 'bayrou', 'aignan']\n",
    "    \n",
    "    # le (?i) rend la regex insensible a la casse. Il ne faut pas laisser de liste vide\n",
    "    # sinon l'algo va tirer n'importe quel tweet dans la base sans filtre particulier\n",
    "    if sentiment=='neg':\n",
    "        val = -1\n",
    "        dico = {'fillon': '(?i)#penelopegate|#fillongate|#fillondemission',\n",
    "                'macron': '(?i)#stopmacron||#lepionmacron|#macrongate|#hollandebis|#macrongirouette|#toutsaufmacron',\n",
    "                'le pen': '(?i)#lepengate|#fngate',\n",
    "                'hamon': '(?i)#bilalhamon|#plusjamaisps|#hamonpiègeacons|#hamonpiegeacons',\n",
    "                'melenchon': '(?i)#placeholder_pour_melenchon_negatif',\n",
    "                'mélenchon': '(?i)#placeholder_pour_melenchon_negatif'}\n",
    "    elif sentiment=='pos':\n",
    "        val = 1\n",
    "        dico = {'fillon': '(?i)#stopchassealhomme|#fillonpresident|#projetfillon|#soutienfillon|#avecfillon',\n",
    "                'macron': '(?i)#teammacron|#lafranceenmarche|#enmarcheausommet|#macronprésident|#macronpresident',\n",
    "                'hamon': '(?i)#hamonpresident|#avechamon|#jevotepour',\n",
    "                'le pen' : '(?i)#aunomdupeuple|#jechoisismarine|#vivemarine|#avecmarine',\n",
    "                'melenchon': '(?i)#6erépublique|#6erepublique|#placeaupeuple|#CantStenchonTheMelenchon|#18mars2017',\n",
    "                'mélenchon': '(?i)#6erépublique|#6erepublique|#placeaupeuple|#CantStenchonTheMelenchon|#18mars2017'}\n",
    "    elif sentiment=='neu':\n",
    "        # récupération des tweets des médias\n",
    "        val = 0\n",
    "        \n",
    "        # Pour info : les principaux médias\n",
    "        main_media_tags = ' via @libe| via @le_figaro| via @lobs| via @le_progres| via @lelab_e1| via @lepoint'\\\n",
    "        '| via @libe| via @franceinfo| via @20minutes| via @lavoixdun| via @yahooactufr| via @lemondefr'\\\n",
    "        '| via @bfmtv| via @lesechos| via @lexpress| via @france24| via @itele'\n",
    "        \n",
    "        # Les médias les plus probablement neutres\n",
    "        media_tag = ' via @le_progres| via @lelab_e1'\\\n",
    "        '| via @franceinfo| via @20minutes| via @yahooactufr| via @lemondefr'\\\n",
    "        '| via @lesechos| via @lexpress| via @france24'\n",
    "        dico = {candidate: media_tag for candidate in candidates}\n",
    "    else:\n",
    "        print('Choisir le sentiment parmi \"neg\", \"pos\" et \"neu\".')\n",
    "        return\n",
    "    \n",
    "    # client = pym.MongoClient()\n",
    "    client = pym.MongoClient('localhost', 27017)\n",
    "    collection = client.tweet.tweet\n",
    "    labelisedCollection = client.tweet.labelised\n",
    "    \n",
    "    count = 0\n",
    "    \n",
    "    for candidate in candidates:\n",
    "        print(5*'-' + candidate + 5*'-')\n",
    "        a_inserer = []\n",
    "\n",
    "        # cherche un des éléments dans le dictionnaire de sentiments\n",
    "        sentiment_regex = re.compile((dico[candidate]))\n",
    "\n",
    "        # on exclut les tweets où plusieurs candidats sont cités\n",
    "        stop_words = '|'.join([pol for pol in politician_list if pol!=candidate])\n",
    "        print('Regex :', dico[candidate])\n",
    "        print('Stop words :', stop_words)\n",
    "        \n",
    "        # filtrage des retweets en amont\n",
    "        corpus = collection.find(\n",
    "            filter={'$and': [{'t_text': {'$not': re.compile(\"^rt @\")}},\n",
    "                             {'t_text': sentiment_regex}, {'t_text': {'$not': re.compile(stop_words)}}]},\n",
    "            projection={'_id':False, 't_id':1, 't_text':1}, limit=limit)\n",
    "\n",
    "        for t in corpus: \n",
    "            a_inserer.append({'text': t['t_text'], 'sentiment': val, 'candidat': candidate,\n",
    "                             't_id': t['t_id']})\n",
    "        \n",
    "        try:\n",
    "            labelisedCollection.insert_many(a_inserer)\n",
    "        except: # si vide\n",
    "            pass\n",
    "        \n",
    "        print(len(a_inserer), 'insertions effectuees.')\n",
    "        count += len(a_inserer)\n",
    "        \n",
    "    print(45 * '-')\n",
    "    print(count, 'insertions au total.')\n",
    "    \n",
    "    drop_duplicates(client)\n",
    "    client.close()\n",
    "    \n",
    "    return\n",
    "    \n",
    "def drop_duplicates(client):\n",
    "\n",
    "    collection = client.tweet.labelised\n",
    "    \n",
    "    # retrait des doublons\n",
    "    print('Retrait des doublons...')\n",
    "    duplicates = []\n",
    "    removepipe = [{\"$group\":{\"_id\":\"$t_id\", \"dups\":{\"$push\":\"$_id\"},\n",
    "                             \"count\":{\"$sum\":1}}},{\"$match\":{\"count\":{\"$gt\":1}}}]\n",
    "    count = 0\n",
    "    try :\n",
    "        for doc in collection.aggregate(removepipe):\n",
    "            it = iter(doc['dups'])\n",
    "            next(it)\n",
    "            for id in it :\n",
    "                count += 1\n",
    "                duplicates.append(pym.DeleteOne({'_id':id}))\n",
    "            if duplicates:    \n",
    "                collection.bulk_write(duplicates)    \n",
    "    except:\n",
    "        pass\n",
    "    \n",
    "    print(count, 'doublons retirés.')\n",
    "    print(collection.count(), 'tweets dans la base auto.')\n",
    "    \n",
    "    return"
   ]
  },
  {
   "cell_type": "code",
   "execution_count": 5,
   "metadata": {
    "collapsed": false
   },
   "outputs": [
    {
     "name": "stdout",
     "output_type": "stream",
     "text": [
      "-----fillon-----\n",
      "Regex : (?i)#stopchassealhomme|#fillonpresident|#projetfillon|#soutienfillon|#avecfillon\n",
      "Stop words : macron|le pen|hamon|melenchon|mélenchon|bayrou|aignan\n",
      "700 insertions effectuees.\n",
      "-----macron-----\n",
      "Regex : (?i)#teammacron|#lafranceenmarche|#enmarcheausommet|#macronprésident|#macronpresident\n",
      "Stop words : fillon|le pen|hamon|melenchon|mélenchon|bayrou|aignan\n",
      "700 insertions effectuees.\n",
      "-----le pen-----\n",
      "Regex : (?i)#aunomdupeuple|#jechoisismarine|#vivemarine|#avecmarine\n",
      "Stop words : fillon|macron|hamon|melenchon|mélenchon|bayrou|aignan\n",
      "535 insertions effectuees.\n",
      "---------------------------------------------\n",
      "1935 insertions au total.\n",
      "Retrait des doublons...\n",
      "1429 doublons retirés.\n",
      "8893 tweets dans la base auto.\n"
     ]
    }
   ],
   "source": [
    "candidates = ['fillon', 'macron', 'le pen']\n",
    "insertion_in_labelised(candidates, sentiment='pos', limit=700)"
   ]
  },
  {
   "cell_type": "code",
   "execution_count": 6,
   "metadata": {
    "collapsed": true
   },
   "outputs": [],
   "source": [
    "def mongo_to_df(collection, n_last_tweets=0, retweet=False):\n",
    "    tweets = collection.find(filter={'text':{'$exists':True}}, \n",
    "                             projection={'_id':False}).sort('$natural',-1).limit(n_last_tweets)\n",
    "    df = pd.DataFrame()\n",
    "    listTweets, listCandidats, listSentiments = [], [], []\n",
    "    \n",
    "    for t in tweets: \n",
    "        if not retweet: # filtrage des retweets\n",
    "            if 'rt @' in t['text']:\n",
    "                continue\n",
    "\n",
    "        if t['text']: # test si liste non vide\n",
    "            listTweets.append(t['text'])\n",
    "            try:\n",
    "                listCandidats.append(t['candidat'])\n",
    "            except:\n",
    "                listCandidats.append(None)\n",
    "            \n",
    "            try:\n",
    "                listSentiments.append(t['sentiment'])\n",
    "            except:\n",
    "                listSentiments.append(None)\n",
    "    \n",
    "    df['text'], df['candidat'], df['sentiment'] = listTweets, listCandidats, listSentiments\n",
    "    return df"
   ]
  },
  {
   "cell_type": "code",
   "execution_count": 18,
   "metadata": {
    "collapsed": false
   },
   "outputs": [
    {
     "data": {
      "text/plain": [
       "1723"
      ]
     },
     "execution_count": 18,
     "metadata": {},
     "output_type": "execute_result"
    }
   ],
   "source": [
    "client = pym.MongoClient('localhost', 27017)\n",
    "col = client.tweet.labelised\n",
    "col.count()"
   ]
  },
  {
   "cell_type": "code",
   "execution_count": 19,
   "metadata": {
    "collapsed": false
   },
   "outputs": [],
   "source": [
    "df = mongo_to_df(col)"
   ]
  },
  {
   "cell_type": "code",
   "execution_count": 20,
   "metadata": {
    "collapsed": false
   },
   "outputs": [
    {
     "name": "stdout",
     "output_type": "stream",
     "text": [
      "mais pourquoi une mesure qui concerne 15000 personnes ultra-riches fait-elle si peur en france ? https://t.co/bsm66axkrd via @jlmelenchon\n",
      "présidentielle: c'est quoi les différences de programme entre benoît hamon et jean-luc... - https://t.co/hbcrm8gjik via @20minutes\n",
      "la taxe robot de hamon soutenue par… bill gates https://t.co/7qmlk6vvyh via @libe\n",
      "jadot met la pression à hamon en annonçant qu'il a récolté ses 500 parrainages https://t.co/g4jwytmsuc via @le_figaro poker menteur?\n",
      "jérôme sainte-marie : mélenchon et hamon ne sont pas interchangeables https://t.co/9kddyxm4co via @le_figaro\n",
      "coup de bol pour hamon : bill gates défend la taxe robots, elon musk le revenu universel https://t.co/pz9q3ez1ef via @lobs\n",
      "france/monde | quand bill gates et elon musk défendent les idées de benoît hamon https://t.co/vpga5lkul2 via @le_progres\n",
      "santé : benoît hamon veut modifier le financement de l'hôpital https://t.co/j3uudl1ajo via @lepoint\n",
      "jean-luc mélenchon, stats facebook, twitter, classt des politicien(ne)s - politologue https://t.co/0d1etfxiwc via @politologue_com\n",
      "pas invité au débat présidentiel de tf1, nicolas dupont-aignan crie au \"viol de la démocratie\" https://t.co/dgscngx5me via @lelab_e1\n",
      "@lcp sondage présidentiel :  macron stoppe l’hémorragie https://t.co/w8kosymet4 via @yannickvely\n",
      "colonisation : valérie pécresse accuse emmanuel macron d'avoir \"comparé jules ferry à hitler\" https://t.co/p97e2unxoh via @lelab_e1\n",
      "colonisation : valérie pécresse accuse emmanuel macron d'avoir \"comparé jules ferry à hitler\" https://t.co/cequesfshq via @lelab_e1\n",
      "le président du conseil constitutionnel: l'injure macron on en veut pas! https://t.co/7agpplkrec via @changefrance\n",
      "les dessous de l’affaire fillon : l’auteur du piège identifié https://t.co/uudappdiey via @avic_sy cet article confirme la dictature du ps !\n",
      "face au rapprochement fillon-sarkozy, juppé veut être entendu https://t.co/ufqrp6pnsq via @le_figaro\n",
      "le déontologue de l’assemblée dédouane françois fillon pour sa société de conseil – https://t.co/fttwfl79ip via @lesechos\n",
      "le déontologue de l’assemblée dédouane françois fillon pour sa société de conseil – https://t.co/qgzf2rqevm via @lesechos\n",
      "législatives : mélenchon et macron veulent de l’ordre dans les rangs https://t.co/sifh7jzrd9 via @libe\n",
      "xavier lemoine: « penser que l’électorat catholique est ferré au profit de m. fillon est une erreur » https://t.co/dod70qxugv via @bvoltaire\n",
      "conséquence de l’affaire fillon : l’assemblée va publier la liste des collaborateurs parlementaires https://t.co/r7fj2bbhus via @lelab_e1\n",
      "présidentielle : pas invité au débat de tf1, dupont-aignan dénonce \"un viol de la démocratie\" https://t.co/tpvasv7vct via @mariannelemag\n",
      "Éric ciotti : «françois bayrou, c'est l'expérience de la trahison» https://t.co/lttwqwnvun via @le_figaro\n",
      "mélenchon fait dans la politique du chiffre via @mediapart https://t.co/x15kqtxqvy\n",
      "en visite à londres, emmanuel macron va rencontrer theresa may https://t.co/y2sv5vkvww via @le_figaro\n",
      "en visite à londres, emmanuel macron va rencontrer theresa may https://t.co/lbg2ghz6wv via @le_figaro\n",
      "françois fillon tente de reprendre la main https://t.co/hydxwhfznx #dessindujour via @urtikan_net\n",
      "ou pas... sondage présidentielle :  macron stoppe l’hémorragie https://t.co/w8kosymet4 via @yannickvely https://t.co/nltkohoavy\n",
      "quand  françois fillon   fustigeait l'emploi fictif  de la femme de jean  tiberi  https://t.co/1jq0iqhlod via @lobs\n",
      "jean-luc mélenchon veut transformer l'or en plomb https://t.co/kc4rnigzea via @le_figaro\n",
      "hamon et jadot  #dupondetdupont ont «confiance» en leur deal, mais… https://t.co/qe6j2tedao via @libe\n",
      "présid : pas invité au débat de tf1, dupont-aignan dénonce \"un viol de la démocratie\" https://t.co/tpvasv7vct via @mariannelemag #tf1boycott\n",
      "nous communistes, soutenons mélenchon https://t.co/kpxipjyxnw via @wordpressdotcom\n",
      "pas invité au débat présidentiel de tf1, nicolas dupont-aignan crie au \"viol de la démocratie\" https://t.co/jyfgfrg1sf via @lelab_e1\n",
      "législatives : mélenchon et macron veulent de l’ordre dans les rangs https://t.co/8yng17luob via @libe\n",
      "dupont-aignan provoque un esclandre sur canal plus https://t.co/djb8tvfqi3 via @franceinfo\n",
      "info le point.fr. fillon \"furibard\" contre merkel https://t.co/ertelfbzci #politique 2.0 via @lepoint\n"
     ]
    }
   ],
   "source": [
    "for t in df[df['sentiment']==0]['text']:\n",
    "    print(t)"
   ]
  },
  {
   "cell_type": "code",
   "execution_count": null,
   "metadata": {
    "collapsed": true
   },
   "outputs": [],
   "source": []
  }
 ],
 "metadata": {
  "anaconda-cloud": {},
  "kernelspec": {
   "display_name": "Python [default]",
   "language": "python",
   "name": "python3"
  },
  "language_info": {
   "codemirror_mode": {
    "name": "ipython",
    "version": 3
   },
   "file_extension": ".py",
   "mimetype": "text/x-python",
   "name": "python",
   "nbconvert_exporter": "python",
   "pygments_lexer": "ipython3",
   "version": "3.5.2"
  }
 },
 "nbformat": 4,
 "nbformat_minor": 1
}
