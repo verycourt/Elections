{
 "cells": [
  {
   "cell_type": "code",
   "execution_count": 3,
   "metadata": {
    "collapsed": true
   },
   "outputs": [],
   "source": [
    "#!/usr/bin/python\n",
    "#-*- coding: utf-8 -*-\n",
    "\n",
    "import pymongo as pym\n",
    "import re\n",
    "\n",
    "candidates = ['fillon', 'macron', 'le pen', 'hamon', 'melenchon']\n",
    "\n",
    "# le (?i) rend la regex insensible a la casse. Il ne faut pas laisser de liste vide\n",
    "# sinon l'algo va tirer n'importe quel tweet dans la base sans filtre particulier\n",
    "negatives = {'fillon': '(?i)#penelopegate|#fillongate|#penelope|#fillondemission',\n",
    "             'macron': '(?i)#stopmacron|#levraimacron|#lepionmacron|#macrongate|#hollandebis|#macrongirouette',\n",
    "             'le pen': '(?i)#lepengate|#fngate',\n",
    "             'hamon': '(?i)#bilalhamon|#plusjamaisps|#hamonpiègeacons',\n",
    "             'melenchon': '(?i)'}\n",
    "\n",
    "neutrals = {'fillon': '(?i)#confpressfillon|#conffillon',\n",
    "            'macron': '(?i)#macronlyon',\n",
    "            'le pen': '(?i)',\n",
    "            'hamon': '(?i)',\n",
    "            'melenchon': '(?i)'}\n",
    "\n",
    "positives = {'fillon': '(?i)#stopchassealhomme|#fillonpresident|#projetfillon|#soutienfillon',\n",
    "             'macron': '(?i)#teammacron|#lafranceenmarche',\n",
    "             'hamon': '(?i)#hamonpresident|#avechamon',\n",
    "             'le pen' : '(?i)#aunomdupeuple|#marine2017|#mlp2017',\n",
    "             'melenchon': '(?i)#6erépublique|#6erepublique|#franceinsoumise|#jlm2017|#placeaupeuple|#CantStenchonTheMelenchon|#FI|#18mars2017'}"
   ]
  },
  {
   "cell_type": "code",
   "execution_count": 20,
   "metadata": {
    "collapsed": true
   },
   "outputs": [],
   "source": [
    "def getTweets(candidates, sentimentList, sentiment, limit=1000):\n",
    "    '''Echelle de classification -1 Négatif 0 Neutre 1 Positif\n",
    "    Critère de sélection d'un tweet : ne doit pas être un retweet, ne doit contenir le nom \n",
    "    que d'un seul candidat'''\n",
    "    \n",
    "    client = pym.MongoClient()\n",
    "    client = pym.MongoClient('localhost', 27017)\n",
    "    collection = client.tweet.tweet\n",
    "    labelisedCollection = client.tweet.labelised\n",
    "    \n",
    "    count = 0\n",
    "    \n",
    "    for candidate in candidates:\n",
    "        a_inserer = []\n",
    "        sentiment_regex = re.compile((sentimentList[candidate]))\n",
    "        print('sentiment {} :'.format(sentiment), sentimentList[candidate])\n",
    "        \n",
    "        # filtrage des retweets en amont\n",
    "        corpus = collection.find(\n",
    "            filter={'$and': [{'t_text': {'$not': re.compile(\"^rt @\")}},\n",
    "                             {'t_text': sentiment_regex}]},\n",
    "            projection={'_id':False, 't_id':1, 't_text':1}, limit=limit)\n",
    "\n",
    "        for t in corpus: \n",
    "            a_inserer.append({'text': t['t_text'], 'sentiment': sentiment, 'candidat': candidate,\n",
    "                             't_id': t['t_id']})\n",
    "        \n",
    "        labelisedCollection.insert_many(a_inserer)\n",
    "        print(len(a_inserer), 'insertions effectuees.')\n",
    "        count += len(a_inserer)\n",
    "        \n",
    "    print(45 * '-')\n",
    "    print(count, 'insertions au total.')\n",
    "\n",
    "    # retrait des doublons\n",
    "    print('Retrait des doublons...')\n",
    "    duplicates = []\n",
    "    removepipe = [{\"$group\":{\"_id\":\"$t_id\", \"dups\":{\"$push\":\"$_id\"},\n",
    "                             \"count\":{\"$sum\":1}}},{\"$match\":{\"count\":{\"$gt\":1}}}]\n",
    "    count = 0\n",
    "    try :\n",
    "        for doc in labelisedCollection.aggregate(removepipe):\n",
    "            it = iter(doc['dups'])\n",
    "            next(it)\n",
    "            for id in it :\n",
    "                count += 1\n",
    "                duplicates.append(pym.DeleteOne({'_id':id}))\n",
    "            if duplicates:    \n",
    "                labelisedCollection.bulk_write(duplicates)    \n",
    "    except:\n",
    "        pass\n",
    "    \n",
    "    print(count, 'doublons retirés.')\n",
    "    client.close()"
   ]
  },
  {
   "cell_type": "code",
   "execution_count": 24,
   "metadata": {
    "collapsed": false
   },
   "outputs": [
    {
     "name": "stdout",
     "output_type": "stream",
     "text": [
      "sentiment 1 : (?i)#fillon2017|#stopchassealhomme|#fillonpresident|#projetfillon|#soutienfillon\n",
      "300 insertions effectuees.\n",
      "sentiment 1 : (?i)#enmarche|#teammacron|#lafranceenmarche|#macron2017\n",
      "300 insertions effectuees.\n",
      "sentiment 1 : (?i)#aunomdupeuple|#marine2017|#mlp2017\n",
      "300 insertions effectuees.\n",
      "sentiment 1 : (?i)#hamon2017|#benoithamon|#hamonpresident|#avechamon\n",
      "300 insertions effectuees.\n",
      "sentiment 1 : (?i)#6erépublique|#franceinsoumise|#jlm2017|#placeaupeuple|#CantStenchonTheMelenchon|#FI|#18mars2017\n",
      "300 insertions effectuees.\n",
      "---------------------------------------------\n",
      "1500 insertions au total.\n",
      "Retrait des doublons...\n",
      "1500 doublons retirés.\n"
     ]
    }
   ],
   "source": [
    "getTweets(candidates, positives, 1, limit=300)"
   ]
  },
  {
   "cell_type": "code",
   "execution_count": 25,
   "metadata": {
    "collapsed": true
   },
   "outputs": [],
   "source": [
    "client = pym.MongoClient('localhost', 27017)\n",
    "col = client.tweet.labelised"
   ]
  },
  {
   "cell_type": "code",
   "execution_count": 26,
   "metadata": {
    "collapsed": false
   },
   "outputs": [
    {
     "name": "stdout",
     "output_type": "stream",
     "text": [
      "4333\n"
     ]
    }
   ],
   "source": [
    "# nombre de lignes dans la base\n",
    "print(col.count())"
   ]
  },
  {
   "cell_type": "code",
   "execution_count": null,
   "metadata": {
    "collapsed": true
   },
   "outputs": [],
   "source": []
  }
 ],
 "metadata": {
  "anaconda-cloud": {},
  "kernelspec": {
   "display_name": "Python [default]",
   "language": "python",
   "name": "python3"
  },
  "language_info": {
   "codemirror_mode": {
    "name": "ipython",
    "version": 3
   },
   "file_extension": ".py",
   "mimetype": "text/x-python",
   "name": "python",
   "nbconvert_exporter": "python",
   "pygments_lexer": "ipython3",
   "version": "3.5.2"
  }
 },
 "nbformat": 4,
 "nbformat_minor": 1
}
