{
 "cells": [
  {
   "cell_type": "code",
   "execution_count": 49,
   "metadata": {
    "collapsed": true
   },
   "outputs": [],
   "source": [
    "import enchant\n",
    "from enchant.checker import SpellChecker\n",
    "import pymongo as pym\n",
    "import string\n",
    "from nltk.corpus import stopwords\n",
    "import stop_words\n",
    "import pandas as pd\n",
    "import numpy as np\n",
    "from collections import Counter\n",
    "import time\n",
    "import gc\n",
    "import re"
   ]
  },
  {
   "cell_type": "code",
   "execution_count": 50,
   "metadata": {
    "collapsed": true
   },
   "outputs": [],
   "source": [
    "stops = set(['rt','ds','qd','ss','ns','vs','nn','amp','gt','gd','gds','tt','pr','ac','mm', 'qu',\n",
    "            '``', 'ni', 'ca', 'le', 'les', ' ', 'si', '$', '^', 'via', 'ils','pour','une','que','quel']\n",
    "        + list('@ن%£€‘:&;')+ list('abcdefghijklmnopqrstuvwxyzà'))\n"
   ]
  },
  {
   "cell_type": "code",
   "execution_count": 51,
   "metadata": {
    "collapsed": true
   },
   "outputs": [],
   "source": [
    "def mongo_to_df(collection, n_last_tweets=0, retweet=False):\n",
    "    tweets = collection.find(filter={'text':{'$exists':True}}, \n",
    "                             projection={'_id':False}).sort('$natural',-1).limit(n_last_tweets)\n",
    "    df = pd.DataFrame()\n",
    "    listTweets, listCandidats, listSentiments = [], [], []\n",
    "    \n",
    "    for t in tweets: \n",
    "        if not retweet: # filtrage des retweets\n",
    "            if 'rt @' in t['text']:\n",
    "                continue\n",
    "\n",
    "        if t['text']: # test si liste non vide\n",
    "            listTweets.append(t['text'])\n",
    "            try:\n",
    "                listCandidats.append(t['candidat'])\n",
    "            except:\n",
    "                listCandidats.append(None)\n",
    "            \n",
    "            try:\n",
    "                listSentiments.append(t['sentiment'])\n",
    "            except:\n",
    "                listSentiments.append(None)\n",
    "    \n",
    "    df['text'], df['candidat'], df['sentiment'] = listTweets, listCandidats, listSentiments\n",
    "    return df"
   ]
  },
  {
   "cell_type": "code",
   "execution_count": 53,
   "metadata": {
    "collapsed": false
   },
   "outputs": [
    {
     "name": "stdout",
     "output_type": "stream",
     "text": [
      "10002 tweets in the manual train set.\n",
      "-1.0    5339\n",
      " 0.0    3456\n",
      " 1.0    1206\n",
      "Name: sentiment, dtype: int64\n",
      "Series([], Name: candidat, dtype: int64)\n",
      "1421 tweets in the auto train set.\n",
      "1    1418\n",
      "Name: sentiment, dtype: int64\n",
      "fillon       299\n",
      "macron       289\n",
      "le pen       288\n",
      "hamon        274\n",
      "melenchon    268\n",
      "Name: candidat, dtype: int64\n"
     ]
    },
    {
     "data": {
      "text/html": [
       "<div>\n",
       "<table border=\"1\" class=\"dataframe\">\n",
       "  <thead>\n",
       "    <tr style=\"text-align: right;\">\n",
       "      <th></th>\n",
       "      <th>text</th>\n",
       "      <th>candidat</th>\n",
       "      <th>sentiment</th>\n",
       "    </tr>\n",
       "  </thead>\n",
       "  <tbody>\n",
       "    <tr>\n",
       "      <th>0</th>\n",
       "      <td>même s'il veut faire croire qu'il l'adoucit le...</td>\n",
       "      <td>melenchon</td>\n",
       "      <td>1</td>\n",
       "    </tr>\n",
       "    <tr>\n",
       "      <th>1</th>\n",
       "      <td>si #fillon pas présent second tour #mlp sera m...</td>\n",
       "      <td>melenchon</td>\n",
       "      <td>1</td>\n",
       "    </tr>\n",
       "    <tr>\n",
       "      <th>2</th>\n",
       "      <td>#fillon et #macron sont au coude à coude dans ...</td>\n",
       "      <td>melenchon</td>\n",
       "      <td>1</td>\n",
       "    </tr>\n",
       "    <tr>\n",
       "      <th>3</th>\n",
       "      <td>@edfofficiel votre pub est à chier, où avait v...</td>\n",
       "      <td>melenchon</td>\n",
       "      <td>1</td>\n",
       "    </tr>\n",
       "    <tr>\n",
       "      <th>4</th>\n",
       "      <td>@sofiakkar faut pas pousser  #fillon  parle de...</td>\n",
       "      <td>melenchon</td>\n",
       "      <td>1</td>\n",
       "    </tr>\n",
       "  </tbody>\n",
       "</table>\n",
       "</div>"
      ],
      "text/plain": [
       "                                                text   candidat  sentiment\n",
       "0  même s'il veut faire croire qu'il l'adoucit le...  melenchon          1\n",
       "1  si #fillon pas présent second tour #mlp sera m...  melenchon          1\n",
       "2  #fillon et #macron sont au coude à coude dans ...  melenchon          1\n",
       "3  @edfofficiel votre pub est à chier, où avait v...  melenchon          1\n",
       "4  @sofiakkar faut pas pousser  #fillon  parle de...  melenchon          1"
      ]
     },
     "execution_count": 53,
     "metadata": {},
     "output_type": "execute_result"
    }
   ],
   "source": [
    "client = pym.MongoClient('localhost',27018)\n",
    "collection = client.tweet.train\n",
    "print('{} tweets in the manual train set.'.format(collection.count()))\n",
    "df_tweets = mongo_to_df(collection, n_last_tweets=0, retweet=True)\n",
    "print(df_tweets['sentiment'].value_counts())\n",
    "print(df_tweets['candidat'].value_counts())\n",
    "df_tweets.head(5)\n",
    "collection = client.tweet.labelised\n",
    "print('{} tweets in the auto train set.'.format(collection.count()))\n",
    "df_tweets_auto = mongo_to_df(collection, n_last_tweets=0, retweet=False)\n",
    "print(df_tweets_auto['sentiment'].value_counts())\n",
    "print(df_tweets_auto['candidat'].value_counts())\n",
    "df_tweets_auto.head(5)"
   ]
  },
  {
   "cell_type": "code",
   "execution_count": 54,
   "metadata": {
    "collapsed": true
   },
   "outputs": [],
   "source": [
    "def regex_filter(text):\n",
    "    text = re.sub(r'\\w*…', '', text) # mot tronqué par Twitter\n",
    "    text = re.sub(r'(?:htt)\\S*', '', text) # retrait des liens http\n",
    "    text = re.sub(r'\\n', ' ', text) # retrait des sauts de ligne\n",
    "    text = re.sub(r'rt\\s','',text)\n",
    "    text = re.sub(r'gt\\s','',text)\n",
    "    text = re.sub(r'\\xad', '-', text)\n",
    "    text = re.sub(r'\\.{3,}', '...', text) # ....... => points de suspension\n",
    "    text = re.sub(r'(?=\\.\\w)(\\.)', '. ', text) # remplacer un point entre deux mots 'A.B' par 'A. B'\n",
    "    return text\n",
    "\n",
    "def process_texts(list_of_texts):\n",
    "    dic = enchant.Dict('fr_FR') # Dictionnaire pour le spellchecking\n",
    "    ignore_words = ['fillon','macron','mélenchon','melenchon','asselineau','poutou','arthaud','dupont-aignan',\n",
    "                    'hamon','valls','hollande','mlp','le pen','pen', 'lepen','france','bfm','sarkozy','bayrou','servier',\n",
    "                    'estrosi','retailleau','emmanuel','françois','marine','benoît','jean-luc','jadot','juppé','rtl','morano',\n",
    "                    'collomb','lepage','hue','borloo','fillonistes','dutreil','UE','ue','l\\'ue','mandon','essonne',\n",
    "                    'fenech','baroin','verhofstadt','drahi','draghi','jlm','pécresse','pecresse','merkel','erdogan','trump',\n",
    "                    'clinton','may','sturgeon','montebourg','lassalle','cheminade','rugy','trocadero','trocadéro','pinel',\n",
    "                    'taubira','lafarge','axa','poutine','rothschild','cahuzac','bourgi','elkhomri','cgt','medef','cgpme',\n",
    "                    'ofce','ocde','fmi','bce','smic','cice','cevipof','soprasteria','ifop','présitrack','ciotti','solère',\n",
    "                   'solere','cambadélis','cambadelis','debré','delanoé','stefanini','angela','itélé','cir','pnf','dlf','lr',\n",
    "                   'fn','amp','alain','bruno','mdr','lol','mme','sarko','gaulle','l\\'udi','tweet','tweets','juppe','lejdd',\n",
    "                    'penelopegate','penelope','mr','er','tf','isf','ff','tf','retweeted','bfmacron','wauquiez','jl','ceta',\n",
    "                    'ttip','tafta','nda','jdd','guaino','élysée','l\\'élysée','philippot','jt','copé','cohn','bergé','sarthe',\n",
    "                    'svp','ls','replay','bfmtv','qq','hollandisme','bcp','balkany','peillon','attali','khomri','cazeneuve',\n",
    "                    'lagarde','bendit','truchot','franceinfo',\n",
    "                    'cqfd','rmc','france2','tf1','figaro','mediapart','médiapart','onpc','kkkkkkkkkkkkkkkkul','eelv','psg']\n",
    "    list_of_processed_texts = []\n",
    "    misspellings = []\n",
    "    i = 0\n",
    "    for text in list_of_texts:\n",
    "        startTime = time.time()\n",
    "        text = regex_filter(text)\n",
    "        chkr = SpellChecker('fr_FR', text)\n",
    "        for w in ignore_words : chkr.ignore_always(w)\n",
    "        for err in chkr :\n",
    "            if err.leading_context(1) == \"#\" or err.leading_context(1) == \"@\": \n",
    "                continue\n",
    "            misspellings.append(err.word)\n",
    "            try : err.replace(chkr.suggest(err.word)[0])\n",
    "            except : continue\n",
    "        text = chkr.get_text()\n",
    "        list_of_processed_texts.append(text)\n",
    "        i += 1\n",
    "        if i%500 == 0 : print(str(i) + ' tweets traités en ', (time.time() - startTime)*60, ' secondes')\n",
    "    print(Counter(misspellings).most_common(100))\n",
    "    gc.collect()\n",
    "    return list_of_processed_texts"
   ]
  },
  {
   "cell_type": "code",
   "execution_count": 55,
   "metadata": {
    "collapsed": false
   },
   "outputs": [
    {
     "name": "stdout",
     "output_type": "stream",
     "text": [
      "500 tweets traités en  0.08637428283691406  secondes\n",
      "1000 tweets traités en  40.30832290649414  secondes\n",
      "1500 tweets traités en  0.11478424072265625  secondes\n",
      "2000 tweets traités en  3.148512840270996  secondes\n",
      "2500 tweets traités en  0.14731407165527344  secondes\n",
      "3000 tweets traités en  60.006065368652344  secondes\n",
      "3500 tweets traités en  18.355393409729004  secondes\n",
      "4000 tweets traités en  0.06115436553955078  secondes\n",
      "4500 tweets traités en  7.604470252990723  secondes\n",
      "5000 tweets traités en  33.92390727996826  secondes\n",
      "5500 tweets traités en  23.51264476776123  secondes\n",
      "6000 tweets traités en  0.09057998657226562  secondes\n",
      "6500 tweets traités en  17.907814979553223  secondes\n",
      "7000 tweets traités en  0.09754657745361328  secondes\n",
      "7500 tweets traités en  0.9828329086303711  secondes\n",
      "8000 tweets traités en  0.03311634063720703  secondes\n",
      "8500 tweets traités en  0.062270164489746094  secondes\n",
      "9000 tweets traités en  0.08409976959228516  secondes\n",
      "9500 tweets traités en  0.10907649993896484  secondes\n",
      "10000 tweets traités en  0.10175228118896484  secondes\n",
      "[('ca', 81), ('gt', 65), ('tv', 57), ('pénélope', 54), (\"d'emmanuel\", 54), ('luc', 53), ('pr', 47), ('nicolas', 47), ('dupont', 45), ('benoit', 41), ('algérie', 38), ('video', 37), ('qd', 31), ('francois', 30), ('pol', 26), ('meme', 26), ('thierry', 24), ('nd', 24), ('vegas', 23), ('europe', 23), ('ok', 23), ('twitter', 22), ('ème', 20), ('desouche', 18), ('bercy', 17), ('by', 17), ('thomas', 16), ('londres', 16), ('francais', 15), ('gérard', 15), ('michel', 15), ('henri', 15), ('tt', 15), ('etre', 15), ('gvt', 15), ('president', 15), ('cc', 15), ('philippe', 15), ('sarkozystes', 14), ('toulon', 14), ('yannick', 14), ('eric', 14), ('qg', 14), ('el', 14), ('cest', 14), (\"y'a\", 14), ('eme', 13), ('traitre', 13), ('chirac', 13), ('lyon', 13), ('charles', 13), ('russie', 13), ('bernard', 13), (\"l'europe\", 12), ('bertrand', 12), ('fo', 12), ('laurent', 12), ('brigitte', 12), ('to', 12), ('ya', 12), ('ts', 11), ('crif', 11), ('bla', 11), ('larcher', 11), (\"l'elysée\", 11), ('roger', 11), ('daniel', 11), ('medias', 11), (\"l'algérie\", 11), ('anne', 11), ('deja', 10), ('fake', 10), ('marion', 10), (\"d'etat\", 10), ('christophe', 10), ('gorafi', 10), ('etat', 10), ('anceau', 10), (\"l'etat\", 10), ('vidÉo', 10), ('the', 9), ('week', 9), ('nvey', 9), ('gate', 9), ('zef', 9), ('lt', 9), ('stalker', 9), ('vanh', 8), ('patrick', 8), ('allemagne', 8), ('tva', 8), ('tjrs', 8), ('youtube', 8), ('csg', 8), ('udi', 8), ('pade', 8), ('nantes', 8), ('bourlanges', 7), ('rachline', 7), ('foll', 7)]\n",
      "500 tweets traités en  0.16222000122070312  secondes\n",
      "1000 tweets traités en  15.122179985046387  secondes\n",
      "[('londres', 23), ('theresa', 14), ('benoit', 13), ('tv', 10), ('elabe', 9), ('francois', 9), ('ca', 9), ('sécu', 8), ('pr', 8), ('gt', 7), (\"d'emmanuel\", 7), ('arno', 6), ('klarsfeld', 6), ('gates', 6), ('sede', 4), ('el', 4), ('nd', 4), ('chirac', 4), ('aequo', 4), (\"d'etat\", 4), ('sananes', 3), ('ème', 3), ('gérard', 3), ('elon', 3), ('qg', 3), ('lt', 3), ('tva', 3), ('sante', 3), ('heuresenquestions', 3), ('liban', 3), ('luc', 3), ('eme', 3), ('bashing', 3), ('tjrs', 3), ('algérie', 3), ('nicolas', 3), ('camillelanglade', 2), ('philippe', 2), ('pdt', 2), ('lying', 2), ('ok', 2), ('xavier', 2), ('medias', 2), ('the', 2), ('electeurs', 2), ('desintox', 2), ('presidente', 2), ('coeur', 2), ('égo', 2), ('looser', 2), ('marion', 2), ('gg', 2), ('sytème', 2), ('mds', 2), ('lejt', 2), ('brexit', 2), ('bentzmann', 2), ('confode', 2), (\"l'etranger\", 2), ('pénélope', 2), ('gnan', 2), ('qd', 2), ('montaigne', 2), ('vernouillet', 2), (\"pad'un\", 2), ('fourest', 2), ('mdrrr', 2), ('pouet', 2), ('team', 2), ('charlie', 2), ('amstrong', 2), ('follow', 2), ('aprés', 2), ('mo', 2), ('our', 1), ('connaitre', 1), ('moeurs', 1), ('is', 1), ('ade', 1), ('barraque', 1), ('xls', 1), ('vut', 1), ('maispas', 1), ('zef', 1), ('klbg', 1), ('arr', 1), ('fresnay', 1), (\"p'tite\", 1), ('cac', 1), ('marlière', 1), (\"l'avenirencommun\", 1), ('cacalifat', 1), ('retwitte', 1), ('forza', 1), ('lector', 1), ('douçement', 1), ('udi', 1), ('bertrand', 1), (\"d'içi\", 1), ('jvais', 1)]\n"
     ]
    }
   ],
   "source": [
    "tweet_list = process_texts(df_tweets['text'])\n",
    "try:\n",
    "    tweet_list.extend(process_texts(df_tweets_auto['text']))\n",
    "except:\n",
    "    pass"
   ]
  },
  {
   "cell_type": "code",
   "execution_count": 56,
   "metadata": {
    "collapsed": false,
    "scrolled": false
   },
   "outputs": [
    {
     "name": "stdout",
     "output_type": "stream",
     "text": [
      "                                                text candidat  sentiment\n",
      "0  #le seul projet solide et construit pour nous ...     None        1.0\n",
      "1  chirac mort, fillon assassiné. la droite fantôme.     None       -1.0\n",
      "2  donc le politique a confiance en la justice qu...     None       -1.0\n",
      "3  ce pays me dégoûte ! ces vieilles fientes qui ...     None       -1.0\n",
      "4  laboratoire servier ?....le conseiller santé d...     None       -1.0\n",
      "                                                text   candidat  sentiment\n",
      "0  même s'il veut faire croire qu'il l'adoucit le...  melenchon          1\n",
      "1  si #fillon pas présent second tour #mlp sera m...  melenchon          1\n",
      "2  #fillon et #macron sont au coude à coude dans ...  melenchon          1\n",
      "3  @edfofficiel votre pub est à chier, où avait v...  melenchon          1\n",
      "4  @sofiakkar faut pas pousser  #fillon  parle de...  melenchon          1\n",
      "                                                    text candidat  sentiment\n",
      "11414  macron : girouette ou anguille ? #fillon2017 h...   fillon        1.0\n",
      "11415  allocations familiales aux familles de mineurs...   fillon        1.0\n",
      "11416  sondage elabe pour bfmtv : fillon remonte et m...   fillon        1.0\n",
      "11417  les récents événements  ont confirmé que fillo...   fillon        1.0\n",
      "11418  présidentielle: fillon double macron, selon un...   fillon        1.0\n",
      "11419\n",
      "                                                    text candidat  sentiment\n",
      "11414      macron : girouette ou anguille ? #fillon2017    fillon        1.0\n",
      "11415  allocations familiales aux familles de mineurs...   fillon        1.0\n",
      "11416  sondage label pour bfmtv : fillon remonte et m...   fillon        1.0\n",
      "11417  les récents événements  ont confirmé que fillo...   fillon        1.0\n",
      "11418  présidentielle: fillon double macron, selon un...   fillon        1.0\n"
     ]
    }
   ],
   "source": [
    "print(df_tweets.head(5))\n",
    "print(df_tweets_auto.head(5))\n",
    "df_all = df_tweets\n",
    "#df_all.reset_index(inplace=True)\n",
    "df_all = df_all.append(df_tweets_auto, ignore_index=True)\n",
    "print(df_all.tail(5))\n",
    "print(len(tweet_list))\n",
    "df_all['text'] = tweet_list\n",
    "print(df_all.tail(5))"
   ]
  },
  {
   "cell_type": "code",
   "execution_count": 48,
   "metadata": {
    "collapsed": false,
    "scrolled": false
   },
   "outputs": [
    {
     "name": "stdout",
     "output_type": "stream",
     "text": [
      "0        #le seul projet solide et construit pour nous ...\n",
      "1        Chirac mort, fillon assassiné. la droite fantôme.\n",
      "2        donc le politique a confiance en la justice qu...\n",
      "3        ce pays me dégoûte ! ces vieilles fientes qui ...\n",
      "4        laboratoire servier ?... le conseiller santé d...\n",
      "5        #bayrou avec #macron, en marche les politicien...\n",
      "6        👉@lesrepublicains  de 👉fillon à estrosi en pas...\n",
      "7        des économistes jugent l’équilibre du projet d...\n",
      "8        @marineelysee et macron accepte cette merde fa...\n",
      "9        les fillonistes ont été tellement amaigris par...\n",
      "10       ces socialistes qui apportent leur soutien à e...\n",
      "11       précipitée #fillon nous vole depuis 40 ans, et...\n",
      "12       #macron demande d'aller vers la république des...\n",
      "13       @molinarijulie @dominiquereynie @ifopopinion @...\n",
      "14       déjeuner avec sarko lui a fait un bien! #ilnou...\n",
      "15       @dlf_officiel @dupontaignan @tf1 les médias fr...\n",
      "16            conférence de presse de fillon : allégorie. \n",
      "17       article 11 alinéa 1 : « la procédure au cours ...\n",
      "18       sondage #présitrack : 👉   le pen 26% ➡  macron...\n",
      "19       bah en même temps elle risque de perdre son em...\n",
      "20       présidentielle : le pen et asselineau ont leur...\n",
      "21       @s_décret le socialisme n'est pas le p. c'est ...\n",
      "22       @nadine__morano @guyxav ni celle de fillon qui...\n",
      "23       avant t’avait bomba vs. la fouine, maintenant ...\n",
      "24       la question du jour : est-ce que macron va coc...\n",
      "25       très vrai; les \"vrais\" voleurs ne sapent les v...\n",
      "26       enfin du bon sens. débarrassez Plancherel main...\n",
      "27       emmanuel macron défend à nouveau ses propos su...\n",
      "28       @jccambadelis décrète le \"délit d'entrave à @b...\n",
      "29                                   défenseur des femmes \n",
      "                               ...                        \n",
      "11389    le citoyen sérieux a tout comprit ! pour info ...\n",
      "11390    orna Krefeld: \"pourquoi fillon va gagner\"  #fi...\n",
      "11391    #fillon2017 #francoisfillon préparer le terrai...\n",
      "11392    #fillon sur la #santé : «on a rebâti, enrichi,...\n",
      "11393    voir ce qu'est un produit marketing ! #fillon2...\n",
      "11394    santé : #fillon clarifie son plan mais ne reno...\n",
      "11395    @francoisfillon : “j’irai jusqu’à la victoire”...\n",
      "11396    les \"vieux\" qui votent #fillon savent ils qu'i...\n",
      "11397    le faux pas ! #penelopegate #fillon2017 #house...\n",
      "11398    #fillon2017 dit que #macron n'a pas de program...\n",
      "11399    #fillon2017 le soutien de #juppe est non seule...\n",
      "11400    #cochet, #fillon ... les gars #lr profitent bi...\n",
      "11401    santé un projet amélioré et enrichi #fillon #p...\n",
      "11402    alors, plutôt #macron du lundi ou #macron du v...\n",
      "11403    #mehdimeklat phénomène isolé ou tendance? #fil...\n",
      "11404    le #blues de #mediapart.. dès que #fillon2017 ...\n",
      "11405    #lepionmacron, le roi du marketing politique. ...\n",
      "11406       #fillon2017 f. fillon repasse devant e. macron\n",
      "11407    allô!!! dernier sondage  #macron2017 #fillon20...\n",
      "11408    j'en connais un qui a accepté de se voiler la ...\n",
      "11409     les courbes se croisent en février ... comme ...\n",
      "11410    le sulfureux employeur du porte-parole de fran...\n",
      "11411    aucune crédibilité  #fillon2017,  se présenter...\n",
      "11412    + 3 points pour #fillon2017 - 5 points pour #m...\n",
      "11413    sondage: #fillon double #macron au premier tou...\n",
      "11414        macron : girouette ou anguille ? #fillon2017 \n",
      "11415    allocations familiales aux familles de mineurs...\n",
      "11416    sondage label pour bfmtv : fillon remonte et m...\n",
      "11417    les récents événements  ont confirmé que fillo...\n",
      "11418    présidentielle: fillon double macron, selon un...\n",
      "Name: text, dtype: object 0        1.0\n",
      "1       -1.0\n",
      "2       -1.0\n",
      "3       -1.0\n",
      "4       -1.0\n",
      "5       -1.0\n",
      "6       -1.0\n",
      "7        0.0\n",
      "8       -1.0\n",
      "9       -1.0\n",
      "10       0.0\n",
      "11      -1.0\n",
      "12      -1.0\n",
      "13      -1.0\n",
      "14      -1.0\n",
      "15      -1.0\n",
      "16       0.0\n",
      "17       0.0\n",
      "18       0.0\n",
      "19      -1.0\n",
      "20       0.0\n",
      "21      -1.0\n",
      "22      -1.0\n",
      "23       0.0\n",
      "24       0.0\n",
      "25      -1.0\n",
      "26      -1.0\n",
      "27       0.0\n",
      "28      -1.0\n",
      "29       0.0\n",
      "        ... \n",
      "11389    1.0\n",
      "11390    1.0\n",
      "11391    1.0\n",
      "11392    1.0\n",
      "11393    1.0\n",
      "11394    1.0\n",
      "11395    1.0\n",
      "11396    1.0\n",
      "11397    1.0\n",
      "11398    1.0\n",
      "11399    1.0\n",
      "11400    1.0\n",
      "11401    1.0\n",
      "11402    1.0\n",
      "11403    1.0\n",
      "11404    1.0\n",
      "11405    1.0\n",
      "11406    1.0\n",
      "11407    1.0\n",
      "11408    1.0\n",
      "11409    1.0\n",
      "11410    1.0\n",
      "11411    1.0\n",
      "11412    1.0\n",
      "11413    1.0\n",
      "11414    1.0\n",
      "11415    1.0\n",
      "11416    1.0\n",
      "11417    1.0\n",
      "11418    1.0\n",
      "Name: sentiment, dtype: float64\n"
     ]
    }
   ],
   "source": [
    "print(df_all['text'].ix[-5:], df_all['sentiment'].ix[-5:])"
   ]
  },
  {
   "cell_type": "code",
   "execution_count": 60,
   "metadata": {
    "collapsed": false
   },
   "outputs": [
    {
     "data": {
      "text/plain": [
       "<pymongo.results.InsertManyResult at 0x7f9ef278aea0>"
      ]
     },
     "execution_count": 60,
     "metadata": {},
     "output_type": "execute_result"
    }
   ],
   "source": [
    "collection = client.tweet.spellchecked\n",
    "collection.insert_many(df_all.to_dict('records'))"
   ]
  },
  {
   "cell_type": "code",
   "execution_count": null,
   "metadata": {
    "collapsed": true
   },
   "outputs": [],
   "source": []
  }
 ],
 "metadata": {
  "anaconda-cloud": {},
  "kernelspec": {
   "display_name": "Python [default]",
   "language": "python",
   "name": "python3"
  },
  "language_info": {
   "codemirror_mode": {
    "name": "ipython",
    "version": 3
   },
   "file_extension": ".py",
   "mimetype": "text/x-python",
   "name": "python",
   "nbconvert_exporter": "python",
   "pygments_lexer": "ipython3",
   "version": "3.5.2"
  }
 },
 "nbformat": 4,
 "nbformat_minor": 2
}
