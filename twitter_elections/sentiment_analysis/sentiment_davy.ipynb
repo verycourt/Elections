{
 "cells": [
  {
   "cell_type": "markdown",
   "metadata": {
    "deletable": true,
    "editable": true
   },
   "source": [
    "* Gérer les adverbes\n",
    "* comment mixer les features tf-idf et les autres, pour leur donner du poids? Lire des articles,\n",
    "* faire deux modèles et mixer\n",
    "* comment gérer l'ironie?\n",
    "* Faire une fonction qui va uniquement prédire sur X derniers tweets de la collection tweet"
   ]
  },
  {
   "cell_type": "code",
   "execution_count": 12,
   "metadata": {
    "collapsed": false,
    "deletable": true,
    "editable": true
   },
   "outputs": [],
   "source": [
    "import pymongo as pym\n",
    "import nltk.data\n",
    "import re\n",
    "import string\n",
    "import unicodedata\n",
    "from nltk.corpus import stopwords\n",
    "from nltk.tokenize import TreebankWordTokenizer\n",
    "import stop_words\n",
    "from nltk.stem import *\n",
    "from sklearn.feature_extraction.text import TfidfVectorizer\n",
    "import pandas as pd\n",
    "from sklearn.naive_bayes import MultinomialNB, BernoulliNB\n",
    "from sklearn.ensemble import RandomForestClassifier\n",
    "from sklearn.neighbors import KNeighborsClassifier\n",
    "import numpy as np\n",
    "from scipy.sparse import hstack\n",
    "from sklearn.linear_model import LogisticRegression\n",
    "import pickle\n",
    "from sklearn.model_selection import GridSearchCV\n",
    "import xgboost as xgb\n",
    "from xgboost.sklearn import XGBClassifier\n",
    "from sklearn.model_selection import train_test_split\n",
    "import time\n",
    "import matplotlib.pyplot as plt\n",
    "from sklearn.svm import SVC"
   ]
  },
  {
   "cell_type": "code",
   "execution_count": 6,
   "metadata": {
    "collapsed": false,
    "deletable": true,
    "editable": true
   },
   "outputs": [],
   "source": [
    "stops = set(['rt','ds','qd','ss','ns','vs','nn','amp','gt','gd','gds','tt','pr','ac','mm', 'qu',\n",
    "            '``', 'ni', 'ca', 'le', 'les', ' ', 'si', '$', '^', 'via', 'ils','pour','une','que','quel'] +\n",
    "            list('@ن%£€‘:&;') + list('abcdefghijklmnopqrstuvwxyz')+\n",
    "            stop_words.get_stop_words(language='fr')+stopwords.words('french'))\n",
    "for e in ['ne','pas','sans','aucun'] :\n",
    "    stops.remove(e)\n"
   ]
  },
  {
   "cell_type": "code",
   "execution_count": 36,
   "metadata": {
    "collapsed": false,
    "deletable": true,
    "editable": true
   },
   "outputs": [],
   "source": [
    "def tweetPreprocessing(collection, nLastTweets=0, retweet=False):\n",
    "\n",
    "    tweets = collection.find(filter={'text':{'$exists':True}}, \n",
    "                             projection={'_id':False}).sort('$natural',-1).limit(nLastTweets)  \n",
    "    df = pd.DataFrame()\n",
    "    listTweets, listCandidats, listSentiments = [], [], []\n",
    "\n",
    "    for t in tweets: \n",
    "        if not retweet: # filtrage des retweets\n",
    "            if 'rt @' in t['text']:\n",
    "                continue\n",
    "        # comptes\n",
    "        a = t['text'].count('!')\n",
    "        b = t['text'].count('?')\n",
    "        c = t['text'].count('#')\n",
    "        d = t['text'].count('\"')\n",
    "        e = t['text'].count('http')\n",
    "        f = t['text'].count(':')\n",
    "        g = t['text'].count('»')\n",
    "        h = t['text'].count('@')\n",
    "        \n",
    "        # mot tronqué\n",
    "        t['text'] = re.sub(r'\\w*…', '', t['text'])\n",
    "        \n",
    "        # caracteres speciaux\n",
    "        t['text'] = re.sub(r'\\xad', '-',\n",
    "                           re.sub(r'\\n', ' ', # retrait des sauts de ligne\n",
    "                                  re.sub(r'\\[a-zA-Z]*(?!\\S)', '', # retrait de ce qui n'est pas un mot\n",
    "                                         re.sub(r'(?:htt)\\S*', '', # retrait des liens http\n",
    "                                                re.sub(r'^rt.*: ', '', # retrait de la mention retweet\n",
    "                                                       re.sub(r'\\d', '', # retrait des chiffres\n",
    "                                                              re.sub(r',;!?\\/\\*(){}«»', ' ', t['text'])))))))\n",
    "        \n",
    "        t['text'] = re.sub('|'.join(['’', '_', '/', '-', '\\'', '“', '\\.']), ' ', t['text'])\n",
    "        \n",
    "        # accents (il faut laisser ce bloc)\n",
    "#         t['text'] = re.sub('|'.join('Ééèêë'), 'e', t['text'])\n",
    "#         t['text'] = re.sub('|'.join('àâä'), 'a', t['text'])\n",
    "#         t['text'] = re.sub('|'.join('ç'), 'c', t['text'])\n",
    "#         t['text'] = re.sub('|'.join('œ'), 'oe', t['text'])\n",
    "#         t['text'] = re.sub('|'.join('Ôôö'), 'o', t['text'])\n",
    "#         t['text'] = re.sub('|'.join('îï'), 'i', t['text'])\n",
    "#         t['text'] = re.sub('|'.join('ùû'), 'u', t['text'])\n",
    "        \n",
    "        # apostrophes\n",
    "        t['text'] = re.sub('|'.join([elem + '\\'' for elem in 'cdjlmnst']), '', t['text'])\n",
    "        \n",
    "        tokenizer = TreebankWordTokenizer()\n",
    "        t['text'] = tokenizer.tokenize(t['text'])\n",
    "        t['text'] = [token for token in t['text'] if (token not in stops) and (len(token)>2)]\n",
    "        negation = 0\n",
    "        adverbes = 0\n",
    "        for token in t['text'] : \n",
    "            if token in ['ne','pas','n\\'','n','sans','aucun','nul','nulle','rien','jamais','personne'] : \n",
    "                negation += 1\n",
    "            if re.match('\\w\\S*ment', token) is not None :\n",
    "                adverbes += 1\n",
    "                \n",
    "        while '' in t['text']:\n",
    "            t['text'].pop('')\n",
    "            \n",
    "        if t['text']: # test si liste non vide\n",
    "            listTweets.append(t['text'])\n",
    "            try:\n",
    "                listCandidats.append(t['candidat'])\n",
    "            except:\n",
    "                listCandidats.append(None)\n",
    "            \n",
    "            try:\n",
    "                listSentiments.append(t['sentiment'])\n",
    "            except:\n",
    "                listSentiments.append(None)\n",
    "                \n",
    "            rec = pd.DataFrame([[a, b, c, d, e, f,g, h, negation, adverbes]], \n",
    "                               columns=['!', '?', '#', '\"', '_http_',':','»','@','négation','adverbes'])\n",
    "            df = df.append(rec, ignore_index=True)\n",
    "        \n",
    "    df['text'], df['candidat'], df['sentiment'] = listTweets, listCandidats, listSentiments\n",
    "    return df\n",
    "\n",
    "def build_feat_mat(df_tweets):\n",
    "    vectorizer = TfidfVectorizer(strip_accents='unicode', analyzer='word', decode_error='strict',\n",
    "                                use_idf=True, norm='l2', binary=False, min_df=0.001, max_df=0.5, ngram_range=(1,2))\n",
    "    tfidf = vectorizer.fit_transform(df_tweets['text'].apply(' '.join))\n",
    "    X = pd.DataFrame(tfidf.toarray())\n",
    "    X[['!', '?', '#', '\"', '_http_',':','»','@','négation','adverbes']] = \\\n",
    "    df_tweets[['!', '?', '#', '\"', '_http_',':','»','@','négation','adverbes']]\n",
    "    return X\n",
    "\n",
    "\n",
    "def getSentiments(client, retweet, classifier, full_retrain=True ) : \n",
    "    if full_retrain :\n",
    "        # bases utilisées\n",
    "        df = tweetPreprocessing(client.tweet.train, 0, retweet)\n",
    "        df2 = tweetPreprocessing(client.tweet.labelised, 0, retweet)\n",
    "        try:\n",
    "            df = pd.concat([df, df2], axis=0, ignore_index=True)\n",
    "        except:\n",
    "            pass\n",
    "        df = df.sample(frac=1.0, replace=False) # mélange des lignes\n",
    "        X = build_feat_mat(df)\n",
    "        y = df['sentiment']\n",
    "        X_train,X_test, y_train, y_test = train_test_split(X, y, test_size = 0.5)\n",
    "        n_samples, vocabulaire = X.shape\n",
    "        print('Tweets : ' + str(n_samples) + ' / ' + 'Mots : ' + str(vocabulaire))\n",
    "        if classifier == 'lr':\n",
    "            params = {'penalty':['l2'], 'C' : np.logspace(-1,2,10), 'multi_class':['ovr','multinomial']}\n",
    "            clf = LogisticRegression(max_iter=2000, solver='lbfgs', class_weight='balanced')\n",
    "            \n",
    "        if classifier == 'svc':\n",
    "            params = {'C' : np.linspace(0.3, 0.6, 5)}\n",
    "            clf = SVC(class_weight='balanced', max_iter=2000, kernel='linear', decision_function_shape='ovr')\n",
    "            \n",
    "        GCV = GridSearchCV(clf, params, verbose=9, n_jobs=-1)\n",
    "        GCV.fit(X_train, y_train)\n",
    "        print(GCV.best_params_)\n",
    "        if classifier == 'lr' :\n",
    "            model = LogisticRegression(penalty=GCV.best_params_['penalty'],\n",
    "                                   C=GCV.best_params_['C'],\n",
    "                                       multi_class=GCV.best_params_['multi_class'], class_weight='balanced')\n",
    "        if classifier == 'svc' :\n",
    "            model = SVC(C=GCV.best_params_['C'], gamma=1e-15,\n",
    "                        decision_function_shape='ovr')\n",
    "    \n",
    "    else :\n",
    "        f = open('sentiment_model.pkl','rb')\n",
    "        model = pickle.load(f)\n",
    "        f.close()\n",
    "        # bases utilisées\n",
    "        df = tweetPreprocessing(client.tweet.train, 500, retweet)\n",
    "        df2 = tweetPreprocessing(client.tweet.labelised, 500, retweet)\n",
    "        try:\n",
    "            df = pd.concat([df, df2], axis=0, ignore_index=True)\n",
    "        except:\n",
    "            pass\n",
    "        df = df.sample(frac=1.0, replace=False) # mélange des lignes\n",
    "        X = build_feat_mat(df)\n",
    "        y = df['sentiment']\n",
    "        n_samples, vocabulaire = X.shape\n",
    "        print('Tweets : ' + str(n_samples) + ' / ' + 'Mots : ' + str(vocabulaire))\n",
    "\n",
    "    model.fit(X_train, y_train)\n",
    "    predictions = model.predict(X_test)\n",
    "    print('Score', np.sum(predictions == y_test) / len(predictions)) \n",
    "    f = open('sentiment_model.pkl','wb')\n",
    "    pickle.dump(model, f)\n",
    "    f.close()\n",
    "    print('Model saved')\n",
    "    return predictions\n",
    "\n",
    "def cleanTrainDb(collection):\n",
    "    textCleanPipeline = [{\"$group\":{\"_id\":\"$text\", \"dups\":{\"$push\":\"$_id\"},\"count\":{\"$sum\":1}}},{\"$match\":{\"count\":{\"$gt\":1}}}]\n",
    "    duplicates = []\n",
    "    count = 0\n",
    "    try:\n",
    "        for doc in collection.aggregate(textCleanPipeline) :\n",
    "            it = iter(doc['dups'])\n",
    "            next(it)\n",
    "            for id in it:\n",
    "                count += 1\n",
    "                duplicates.append(pym.DeleteOne({'_id':id}))\n",
    "        if duplicates:\n",
    "            collection.bulk_write(duplicates)\n",
    "    except:\n",
    "        pass\n",
    "    \n",
    "    print(count, 'doublons retirés.')\n",
    "    client.close()"
   ]
  },
  {
   "cell_type": "code",
   "execution_count": 34,
   "metadata": {
    "collapsed": false,
    "deletable": true,
    "editable": true
   },
   "outputs": [
    {
     "name": "stdout",
     "output_type": "stream",
     "text": [
      "8003\n",
      "1421\n"
     ]
    }
   ],
   "source": [
    "client = pym.MongoClient('localhost', 27018)\n",
    "#client = pym.MongoClient('localhost', 27017)\n",
    "collection = client.tweet.train\n",
    "collection2 = client.tweet.labelised\n",
    "print(collection.count())\n",
    "print(collection2.count())"
   ]
  },
  {
   "cell_type": "markdown",
   "metadata": {
    "deletable": true,
    "editable": true
   },
   "source": [
    "### Test du nettoyage des tweets"
   ]
  },
  {
   "cell_type": "code",
   "execution_count": 68,
   "metadata": {
    "collapsed": false,
    "deletable": true,
    "editable": true
   },
   "outputs": [],
   "source": [
    "a = tweetPreprocessing(collection, retweet=True)"
   ]
  },
  {
   "cell_type": "markdown",
   "metadata": {
    "deletable": true,
    "editable": true
   },
   "source": [
    "### Test du nettoyage doublons"
   ]
  },
  {
   "cell_type": "code",
   "execution_count": 29,
   "metadata": {
    "collapsed": false,
    "deletable": true,
    "editable": true
   },
   "outputs": [
    {
     "name": "stdout",
     "output_type": "stream",
     "text": [
      "0 doublons retirés.\n",
      "0 doublons retirés.\n"
     ]
    }
   ],
   "source": [
    "cleanTrainDb(collection)\n",
    "cleanTrainDb(collection2)"
   ]
  },
  {
   "cell_type": "markdown",
   "metadata": {
    "deletable": true,
    "editable": true
   },
   "source": [
    "## Train et test du modèle"
   ]
  },
  {
   "cell_type": "code",
   "execution_count": 38,
   "metadata": {
    "collapsed": false,
    "deletable": true,
    "editable": true,
    "scrolled": false
   },
   "outputs": [
    {
     "name": "stdout",
     "output_type": "stream",
     "text": [
      "Tweets : 9390 / Mots : 1452\n",
      "Fitting 3 folds for each of 20 candidates, totalling 60 fits\n",
      "[CV] multi_class=ovr, C=0.1, penalty=l2 ..............................\n",
      "[CV] multi_class=ovr, C=0.1, penalty=l2 ..............................\n",
      "[CV] multi_class=ovr, C=0.1, penalty=l2 ..............................\n",
      "[CV]  multi_class=ovr, C=0.1, penalty=l2, score=0.547543, total=   3.1s\n",
      "[CV] multi_class=multinomial, C=0.1, penalty=l2 ......................\n",
      "[CV]  multi_class=ovr, C=0.1, penalty=l2, score=0.554348, total=   3.1s\n"
     ]
    },
    {
     "name": "stderr",
     "output_type": "stream",
     "text": [
      "[Parallel(n_jobs=-1)]: Done   2 tasks      | elapsed:    3.6s\n"
     ]
    },
    {
     "name": "stdout",
     "output_type": "stream",
     "text": [
      "[CV] multi_class=multinomial, C=0.1, penalty=l2 ......................\n",
      "[CV]  multi_class=ovr, C=0.1, penalty=l2, score=0.551151, total=   3.4s\n",
      "[CV] multi_class=multinomial, C=0.1, penalty=l2 ......................\n",
      "[CV]  multi_class=multinomial, C=0.1, penalty=l2, score=0.562859, total=   3.7s\n",
      "[CV] multi_class=ovr, C=0.215443469003, penalty=l2 ...................\n",
      "[CV]  multi_class=multinomial, C=0.1, penalty=l2, score=0.557545, total=   3.4s\n",
      "[CV] multi_class=ovr, C=0.215443469003, penalty=l2 ...................\n",
      "[CV]  multi_class=multinomial, C=0.1, penalty=l2, score=0.551790, total=   4.1s\n",
      "[CV] multi_class=ovr, C=0.215443469003, penalty=l2 ...................\n",
      "[CV]  multi_class=ovr, C=0.215443469003, penalty=l2, score=0.574984, total=   4.7s\n",
      "[CV] multi_class=multinomial, C=0.215443469003, penalty=l2 ...........\n",
      "[CV]  multi_class=ovr, C=0.215443469003, penalty=l2, score=0.573529, total=   4.5s\n",
      "[CV] multi_class=multinomial, C=0.215443469003, penalty=l2 ...........\n",
      "[CV]  multi_class=ovr, C=0.215443469003, penalty=l2, score=0.570332, total=   4.8s\n",
      "[CV] multi_class=multinomial, C=0.215443469003, penalty=l2 ...........\n",
      "[CV]  multi_class=multinomial, C=0.215443469003, penalty=l2, score=0.574169, total=   4.7s\n",
      "[CV] multi_class=ovr, C=0.464158883361, penalty=l2 ...................\n",
      "[CV]  multi_class=multinomial, C=0.215443469003, penalty=l2, score=0.566050, total=   5.1s\n",
      "[CV] multi_class=ovr, C=0.464158883361, penalty=l2 ...................\n",
      "[CV]  multi_class=multinomial, C=0.215443469003, penalty=l2, score=0.570332, total=   5.2s\n",
      "[CV] multi_class=ovr, C=0.464158883361, penalty=l2 ...................\n"
     ]
    },
    {
     "name": "stderr",
     "output_type": "stream",
     "text": [
      "[Parallel(n_jobs=-1)]: Done  12 tasks      | elapsed:   18.6s\n"
     ]
    },
    {
     "name": "stdout",
     "output_type": "stream",
     "text": [
      "[CV]  multi_class=ovr, C=0.464158883361, penalty=l2, score=0.578813, total=   6.0s\n",
      "[CV] multi_class=multinomial, C=0.464158883361, penalty=l2 ...........\n",
      "[CV]  multi_class=ovr, C=0.464158883361, penalty=l2, score=0.577366, total=   6.4s\n",
      "[CV] multi_class=multinomial, C=0.464158883361, penalty=l2 ...........\n",
      "[CV]  multi_class=ovr, C=0.464158883361, penalty=l2, score=0.581202, total=   6.4s\n",
      "[CV] multi_class=multinomial, C=0.464158883361, penalty=l2 ...........\n",
      "[CV]  multi_class=multinomial, C=0.464158883361, penalty=l2, score=0.573708, total=   7.3s\n",
      "[CV] multi_class=ovr, C=1.0, penalty=l2 ..............................\n",
      "[CV]  multi_class=multinomial, C=0.464158883361, penalty=l2, score=0.573529, total=   7.0s\n",
      "[CV] multi_class=ovr, C=1.0, penalty=l2 ..............................\n",
      "[CV]  multi_class=multinomial, C=0.464158883361, penalty=l2, score=0.576726, total=   6.0s\n",
      "[CV] multi_class=ovr, C=1.0, penalty=l2 ..............................\n",
      "[CV]  multi_class=ovr, C=1.0, penalty=l2, score=0.564578, total=   9.4s\n",
      "[CV] multi_class=multinomial, C=1.0, penalty=l2 ......................\n",
      "[CV]  multi_class=ovr, C=1.0, penalty=l2, score=0.574346, total=  10.3s\n",
      "[CV] multi_class=multinomial, C=1.0, penalty=l2 ......................\n",
      "[CV]  multi_class=ovr, C=1.0, penalty=l2, score=0.579284, total=  10.0s\n",
      "[CV] multi_class=multinomial, C=1.0, penalty=l2 ......................\n",
      "[CV]  multi_class=multinomial, C=1.0, penalty=l2, score=0.567326, total=   9.1s\n",
      "[CV] multi_class=ovr, C=2.15443469003, penalty=l2 ....................\n",
      "[CV]  multi_class=multinomial, C=1.0, penalty=l2, score=0.555627, total=   9.1s\n",
      "[CV] multi_class=ovr, C=2.15443469003, penalty=l2 ....................\n",
      "[CV]  multi_class=multinomial, C=1.0, penalty=l2, score=0.569693, total=  11.6s\n",
      "[CV] multi_class=ovr, C=2.15443469003, penalty=l2 ....................\n",
      "[CV]  multi_class=ovr, C=2.15443469003, penalty=l2, score=0.568602, total=  11.1s\n",
      "[CV] multi_class=multinomial, C=2.15443469003, penalty=l2 ............\n",
      "[CV]  multi_class=ovr, C=2.15443469003, penalty=l2, score=0.557545, total=  12.8s\n",
      "[CV] multi_class=multinomial, C=2.15443469003, penalty=l2 ............\n"
     ]
    },
    {
     "name": "stderr",
     "output_type": "stream",
     "text": [
      "[Parallel(n_jobs=-1)]: Done  26 tasks      | elapsed:  1.1min\n"
     ]
    },
    {
     "name": "stdout",
     "output_type": "stream",
     "text": [
      "[CV]  multi_class=ovr, C=2.15443469003, penalty=l2, score=0.574808, total=  12.2s\n",
      "[CV] multi_class=multinomial, C=2.15443469003, penalty=l2 ............\n",
      "[CV]  multi_class=multinomial, C=2.15443469003, penalty=l2, score=0.556477, total=  14.6s\n",
      "[CV] multi_class=ovr, C=4.64158883361, penalty=l2 ....................\n",
      "[CV]  multi_class=multinomial, C=2.15443469003, penalty=l2, score=0.554987, total=  13.8s\n",
      "[CV] multi_class=ovr, C=4.64158883361, penalty=l2 ....................\n",
      "[CV]  multi_class=multinomial, C=2.15443469003, penalty=l2, score=0.567136, total=  14.1s\n",
      "[CV] multi_class=ovr, C=4.64158883361, penalty=l2 ....................\n",
      "[CV]  multi_class=ovr, C=4.64158883361, penalty=l2, score=0.552010, total=  16.4s\n",
      "[CV] multi_class=multinomial, C=4.64158883361, penalty=l2 ............\n",
      "[CV]  multi_class=ovr, C=4.64158883361, penalty=l2, score=0.563299, total=  15.7s\n",
      "[CV] multi_class=multinomial, C=4.64158883361, penalty=l2 ............\n",
      "[CV]  multi_class=ovr, C=4.64158883361, penalty=l2, score=0.556905, total=  18.6s\n",
      "[CV] multi_class=multinomial, C=4.64158883361, penalty=l2 ............\n",
      "[CV]  multi_class=multinomial, C=4.64158883361, penalty=l2, score=0.550096, total=  17.8s\n",
      "[CV] multi_class=ovr, C=10.0, penalty=l2 .............................\n",
      "[CV]  multi_class=multinomial, C=4.64158883361, penalty=l2, score=0.547315, total=  16.9s\n",
      "[CV] multi_class=ovr, C=10.0, penalty=l2 .............................\n",
      "[CV]  multi_class=multinomial, C=4.64158883361, penalty=l2, score=0.549233, total=  18.0s\n",
      "[CV] multi_class=ovr, C=10.0, penalty=l2 .............................\n",
      "[CV]  multi_class=ovr, C=10.0, penalty=l2, score=0.547543, total=  21.8s\n",
      "[CV] multi_class=multinomial, C=10.0, penalty=l2 .....................\n",
      "[CV]  multi_class=ovr, C=10.0, penalty=l2, score=0.547315, total=  22.9s\n",
      "[CV] multi_class=multinomial, C=10.0, penalty=l2 .....................\n",
      "[CV]  multi_class=ovr, C=10.0, penalty=l2, score=0.551151, total=  23.7s\n",
      "[CV] multi_class=multinomial, C=10.0, penalty=l2 .....................\n",
      "[CV]  multi_class=multinomial, C=10.0, penalty=l2, score=0.545629, total=  23.9s\n",
      "[CV] multi_class=ovr, C=21.5443469003, penalty=l2 ....................\n",
      "[CV]  multi_class=multinomial, C=10.0, penalty=l2, score=0.546675, total=  25.4s\n",
      "[CV] multi_class=ovr, C=21.5443469003, penalty=l2 ....................\n",
      "[CV]  multi_class=multinomial, C=10.0, penalty=l2, score=0.537724, total=  25.3s\n",
      "[CV] multi_class=ovr, C=21.5443469003, penalty=l2 ....................\n",
      "[CV]  multi_class=ovr, C=21.5443469003, penalty=l2, score=0.539247, total=  28.6s\n",
      "[CV] multi_class=multinomial, C=21.5443469003, penalty=l2 ............\n",
      "[CV]  multi_class=ovr, C=21.5443469003, penalty=l2, score=0.549233, total=  28.0s\n",
      "[CV] multi_class=multinomial, C=21.5443469003, penalty=l2 ............\n"
     ]
    },
    {
     "name": "stderr",
     "output_type": "stream",
     "text": [
      "[Parallel(n_jobs=-1)]: Done  44 tasks      | elapsed:  3.2min\n"
     ]
    },
    {
     "name": "stdout",
     "output_type": "stream",
     "text": [
      "[CV]  multi_class=ovr, C=21.5443469003, penalty=l2, score=0.537084, total=  29.4s\n",
      "[CV] multi_class=multinomial, C=21.5443469003, penalty=l2 ............\n",
      "[CV]  multi_class=multinomial, C=21.5443469003, penalty=l2, score=0.537971, total=  32.1s\n",
      "[CV] multi_class=ovr, C=46.4158883361, penalty=l2 ....................\n",
      "[CV]  multi_class=multinomial, C=21.5443469003, penalty=l2, score=0.539642, total=  32.4s\n",
      "[CV] multi_class=ovr, C=46.4158883361, penalty=l2 ....................\n",
      "[CV]  multi_class=multinomial, C=21.5443469003, penalty=l2, score=0.529412, total=  35.4s\n",
      "[CV] multi_class=ovr, C=46.4158883361, penalty=l2 ....................\n",
      "[CV]  multi_class=ovr, C=46.4158883361, penalty=l2, score=0.535418, total=  40.8s\n",
      "[CV] multi_class=multinomial, C=46.4158883361, penalty=l2 ............\n",
      "[CV]  multi_class=ovr, C=46.4158883361, penalty=l2, score=0.543478, total=  40.3s\n",
      "[CV] multi_class=multinomial, C=46.4158883361, penalty=l2 ............\n",
      "[CV]  multi_class=ovr, C=46.4158883361, penalty=l2, score=0.525575, total=  37.9s\n",
      "[CV] multi_class=multinomial, C=46.4158883361, penalty=l2 ............\n",
      "[CV]  multi_class=multinomial, C=46.4158883361, penalty=l2, score=0.533504, total=  43.2s\n",
      "[CV] multi_class=ovr, C=100.0, penalty=l2 ............................\n",
      "[CV]  multi_class=multinomial, C=46.4158883361, penalty=l2, score=0.530051, total=  43.6s\n",
      "[CV] multi_class=ovr, C=100.0, penalty=l2 ............................\n",
      "[CV]  multi_class=multinomial, C=46.4158883361, penalty=l2, score=0.513427, total=  42.5s\n",
      "[CV] multi_class=ovr, C=100.0, penalty=l2 ............................\n",
      "[CV]  multi_class=ovr, C=100.0, penalty=l2, score=0.530313, total=  45.5s\n",
      "[CV] multi_class=multinomial, C=100.0, penalty=l2 ....................\n",
      "[CV]  multi_class=ovr, C=100.0, penalty=l2, score=0.509591, total=  46.9s\n",
      "[CV] multi_class=multinomial, C=100.0, penalty=l2 ....................\n",
      "[CV]  multi_class=ovr, C=100.0, penalty=l2, score=0.535806, total=  50.4s\n",
      "[CV] multi_class=multinomial, C=100.0, penalty=l2 ....................\n",
      "[CV]  multi_class=multinomial, C=100.0, penalty=l2, score=0.516624, total=  47.8s\n",
      "[CV]  multi_class=multinomial, C=100.0, penalty=l2, score=0.520102, total=  57.4s\n",
      "[CV]  multi_class=multinomial, C=100.0, penalty=l2, score=0.508951, total=  50.0s\n"
     ]
    },
    {
     "name": "stderr",
     "output_type": "stream",
     "text": [
      "[Parallel(n_jobs=-1)]: Done  60 out of  60 | elapsed:  6.8min finished\n"
     ]
    },
    {
     "name": "stdout",
     "output_type": "stream",
     "text": [
      "{'multi_class': 'ovr', 'penalty': 'l2', 'C': 0.46415888336127786}\n",
      "Score 0.597444089457\n",
      "Model saved\n",
      "Tweets : 9390 / Mots : 1452\n",
      "Fitting 3 folds for each of 5 candidates, totalling 15 fits\n",
      "[CV] C=0.3 ...........................................................\n",
      "[CV] C=0.3 ...........................................................\n",
      "[CV] C=0.3 ...........................................................\n",
      "[CV] ............................ C=0.3, score=0.593610, total=  50.0s\n",
      "[CV] C=0.375 .........................................................\n",
      "[CV] ............................ C=0.3, score=0.583014, total=  50.1s\n",
      "[CV] C=0.375 .........................................................\n"
     ]
    },
    {
     "name": "stderr",
     "output_type": "stream",
     "text": [
      "[Parallel(n_jobs=-1)]: Done   2 tasks      | elapsed:  1.3min\n"
     ]
    },
    {
     "name": "stdout",
     "output_type": "stream",
     "text": [
      "[CV] ............................ C=0.3, score=0.599105, total=  51.9s\n",
      "[CV] C=0.375 .........................................................\n",
      "[CV] .......................... C=0.375, score=0.588761, total=  48.8s\n",
      "[CV] C=0.45 ..........................................................\n",
      "[CV] .......................... C=0.375, score=0.598722, total=  50.1s\n",
      "[CV] C=0.45 ..........................................................\n",
      "[CV] .......................... C=0.375, score=0.592072, total=  51.2s\n",
      "[CV] C=0.45 ..........................................................\n",
      "[CV] ........................... C=0.45, score=0.579821, total=  48.7s\n",
      "[CV] C=0.525 .........................................................\n",
      "[CV] ........................... C=0.45, score=0.594888, total=  48.7s\n",
      "[CV] C=0.525 .........................................................\n",
      "[CV] ........................... C=0.45, score=0.584399, total=  50.1s\n",
      "[CV] C=0.525 .........................................................\n",
      "[CV] .......................... C=0.525, score=0.583653, total=  49.7s\n",
      "[CV] C=0.6 ...........................................................\n",
      "[CV] .......................... C=0.525, score=0.585304, total=  51.5s\n",
      "[CV] C=0.6 ...........................................................\n",
      "[CV] .......................... C=0.525, score=0.579923, total=  48.1s\n",
      "[CV] C=0.6 ...........................................................\n"
     ]
    },
    {
     "name": "stderr",
     "output_type": "stream",
     "text": [
      "[Parallel(n_jobs=-1)]: Done  12 out of  15 | elapsed:  5.2min remaining:  1.3min\n"
     ]
    },
    {
     "name": "stdout",
     "output_type": "stream",
     "text": [
      "[CV] ............................ C=0.6, score=0.577905, total=  46.4s\n",
      "[CV] ............................ C=0.6, score=0.586581, total=  47.3s\n",
      "[CV] ............................ C=0.6, score=0.574169, total=  48.0s\n"
     ]
    },
    {
     "name": "stderr",
     "output_type": "stream",
     "text": [
      "[Parallel(n_jobs=-1)]: Done  15 out of  15 | elapsed:  6.5min finished\n"
     ]
    },
    {
     "name": "stdout",
     "output_type": "stream",
     "text": [
      "{'C': 0.375}\n",
      "Score 0.462619808307\n",
      "Model saved\n",
      "0 0\n"
     ]
    }
   ],
   "source": [
    "a = getSentiments(client, retweet=True, classifier='lr', full_retrain=True)\n",
    "# attention en cas de retrain périodique on ne prend que les 500 derniers tweets, il faut donc prédire sur moins de 500\n",
    "#print(len(a[a==1]), len(a[a==0]))\n",
    "b = getSentiments(client, retweet=True, classifier='svc', full_retrain=True)\n",
    "print(len(b[b==1]), len(b[b==0]))\n"
   ]
  },
  {
   "cell_type": "markdown",
   "metadata": {
    "deletable": true,
    "editable": true
   },
   "source": [
    "# Essai sur un Xgboost"
   ]
  },
  {
   "cell_type": "code",
   "execution_count": 46,
   "metadata": {
    "collapsed": false,
    "deletable": true,
    "editable": true
   },
   "outputs": [],
   "source": [
    "\n",
    "\n",
    "def TrainXGBoostModel(client, retweet=True, gpuEnabled=False):\n",
    "    df = tweetPreprocessing(client.tweet.train, 0, retweet)\n",
    "    df2 = tweetPreprocessing(client.tweet.labelised, 0, retweet)\n",
    "    try:\n",
    "        df = pd.concat([df, df2], axis=0, ignore_index=True)\n",
    "    except:\n",
    "        pass\n",
    "    df = df.sample(frac=1.0, replace=False) # mélange des lignes\n",
    "    X = build_feat_mat(df)\n",
    "    df[df['sentiment'] == -1] = 2\n",
    "    y = df['sentiment']\n",
    "    x_train, x_val, y_train, y_val = train_test_split(X, y, test_size=0.1) # 10 % for validation\n",
    "    x_train, x_test, y_train, y_test = train_test_split(x_train, y_train, test_size=0.1) # 10 % for test\n",
    "    n_samples, vocabulaire = X.shape\n",
    "    print('Tweets : ' + str(n_samples) + ' / ' + 'Mots : ' + str(vocabulaire))\n",
    "\n",
    "    boostRounds = 10\n",
    "    # XGBoost data structure\n",
    "    xgtrain = xgb.DMatrix(x_train.values, y_train.values)\n",
    "    xgeval = xgb.DMatrix(x_val.values, y_val.values)\n",
    "    xgtest = xgb.DMatrix(x_test.values)\n",
    "    params = {'eta': 0.01, 'gamma' : 0.2, 'max_depth': 200, 'num_class':3,\n",
    "              'lambda': 3, 'alpha': 0.05, 'objective':'multi:softmax', 'eval_metric':'merror', 'eval_metric':'merror'}\n",
    "     \n",
    "    \n",
    "    # Generate the watchlist\n",
    "    watchlist = [(xgtrain, \"train\"), (xgeval, \"eval\")]\n",
    "    print(\"Train the XGBoost model...\")\n",
    "    startTime = time.time()\n",
    "    clf = xgb.train(params, xgtrain, boostRounds, evals = watchlist, \n",
    "                    maximize = True, verbose_eval = 100)\n",
    "\n",
    "    #Make predictions\n",
    "    print(\"Make predictions for testing set...\")\n",
    "    predictions_sr = pd.Series(clf.predict(xgtest, ntree_limit = clf.best_iteration))\n",
    "    return predictions_sr, clf, y_test, x_train.\n",
    "\n"
   ]
  },
  {
   "cell_type": "code",
   "execution_count": 56,
   "metadata": {
    "collapsed": false,
    "deletable": true,
    "editable": true,
    "scrolled": false
   },
   "outputs": [
    {
     "name": "stdout",
     "output_type": "stream",
     "text": [
      "Tweets : 7791 / Mots : 13133\n",
      "Train the XGBoost model...\n",
      "[0]\ttrain-merror:0.183864\teval-merror:0.423077\n",
      "Make predictions for testing set...\n"
     ]
    }
   ],
   "source": [
    "preds, model,  truth = TrainXGBoostModel(client)"
   ]
  },
  {
   "cell_type": "code",
   "execution_count": 79,
   "metadata": {
    "collapsed": false,
    "scrolled": false
   },
   "outputs": [
    {
     "data": {
      "text/plain": [
       "<matplotlib.figure.Figure at 0x7f6de49a20f0>"
      ]
     },
     "metadata": {},
     "output_type": "display_data"
    },
    {
     "data": {
      "image/png": "[encoded data removed]",
      "text/plain": [
       "<matplotlib.figure.Figure at 0x7f6de48c57f0>"
      ]
     },
     "metadata": {},
     "output_type": "display_data"
    },
    {
     "data": {
      "image/png": "[encoded data removed]",
      "text/plain": [
       "<matplotlib.figure.Figure at 0x7f6dd5cada90>"
      ]
     },
     "metadata": {},
     "output_type": "display_data"
    }
   ],
   "source": [
    "importance = model.get_fscore()\n",
    "importance = sorted(importance.items())\n",
    "df = pd.DataFrame(importance, columns=['feature', 'fscore'])\n",
    "df['fscore'] = df['fscore'] / df['fscore'].sum()\n",
    "plt.figure()\n",
    "df.plot()\n",
    "df.plot(kind='barh', x='feature', y='fscore', legend=False, figsize=(6, 10))\n",
    "plt.title('XGBoost Feature Importance')\n",
    "plt.xlabel('relative importance')\n",
    "plt.show()"
   ]
  },
  {
   "cell_type": "code",
   "execution_count": null,
   "metadata": {
    "collapsed": true
   },
   "outputs": [],
   "source": [
    "print()"
   ]
  },
  {
   "cell_type": "code",
   "execution_count": 51,
   "metadata": {
    "collapsed": false,
    "deletable": true,
    "editable": true
   },
   "outputs": [
    {
     "name": "stdout",
     "output_type": "stream",
     "text": [
      "Score index        0.0\n",
      "sentiment    0.0\n",
      "0            0.0\n",
      "1            0.0\n",
      "2            0.0\n",
      "3            0.0\n",
      "4            0.0\n",
      "5            0.0\n",
      "6            0.0\n",
      "7            0.0\n",
      "8            0.0\n",
      "9            0.0\n",
      "10           0.0\n",
      "11           0.0\n",
      "12           0.0\n",
      "13           0.0\n",
      "14           0.0\n",
      "15           0.0\n",
      "16           0.0\n",
      "17           0.0\n",
      "18           0.0\n",
      "19           0.0\n",
      "20           0.0\n",
      "21           0.0\n",
      "22           0.0\n",
      "23           0.0\n",
      "24           0.0\n",
      "25           0.0\n",
      "26           0.0\n",
      "27           0.0\n",
      "            ... \n",
      "672          0.0\n",
      "673          0.0\n",
      "674          0.0\n",
      "675          0.0\n",
      "676          0.0\n",
      "677          0.0\n",
      "678          0.0\n",
      "679          0.0\n",
      "680          0.0\n",
      "681          0.0\n",
      "682          0.0\n",
      "683          0.0\n",
      "684          0.0\n",
      "685          0.0\n",
      "686          0.0\n",
      "687          0.0\n",
      "688          0.0\n",
      "689          0.0\n",
      "690          0.0\n",
      "691          0.0\n",
      "692          0.0\n",
      "693          0.0\n",
      "694          0.0\n",
      "695          0.0\n",
      "696          0.0\n",
      "697          0.0\n",
      "698          0.0\n",
      "699          0.0\n",
      "700          0.0\n",
      "701          0.0\n",
      "dtype: float64\n"
     ]
    }
   ],
   "source": [
    "print(model.)\n",
    "print('Score', np.sum(truth  == preds) / len(preds)) "
   ]
  },
  {
   "cell_type": "code",
   "execution_count": null,
   "metadata": {
    "collapsed": true
   },
   "outputs": [],
   "source": []
  }
 ],
 "metadata": {
  "anaconda-cloud": {},
  "kernelspec": {
   "display_name": "Python 3",
   "language": "python",
   "name": "python3"
  },
  "language_info": {
   "codemirror_mode": {
    "name": "ipython",
    "version": 3
   },
   "file_extension": ".py",
   "mimetype": "text/x-python",
   "name": "python",
   "nbconvert_exporter": "python",
   "pygments_lexer": "ipython3",
   "version": "3.5.2"
  }
 },
 "nbformat": 4,
 "nbformat_minor": 1
}
